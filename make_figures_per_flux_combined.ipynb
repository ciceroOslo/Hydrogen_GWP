{
 "cells": [
  {
   "cell_type": "markdown",
   "metadata": {},
   "source": [
    "# Make figures"
   ]
  },
  {
   "cell_type": "markdown",
   "metadata": {},
   "source": [
    "To run this notebook, the GWP notebook must first be run (for the base case)"
   ]
  },
  {
   "cell_type": "code",
   "execution_count": 1,
   "metadata": {},
   "outputs": [],
   "source": [
    "import numpy as np\n",
    "import pandas as pd\n",
    "import matplotlib.pyplot as plt\n",
    "\n",
    "pd.set_option('display.float_format', lambda x: '{:,.3f}'.format(x) if abs(x)<0 else ('{:,.2f}'.format(x) if abs(x)<10 else ('{:,.1f}'.format(x) if abs(x)<100 else '{:,.0f}'.format(x))))\n",
    "plt.rcParams['figure.dpi'] = 300\n",
    "\n",
    "default_size = 18\n",
    "plt.rc('font', size=default_size)\n",
    "plt.rc('axes', titlesize=default_size)     # fontsize of the axes title\n",
    "plt.rc('axes', labelsize=default_size)    # fontsize of the x and y labels\n",
    "plt.rc('xtick', labelsize=16)    # fontsize of the tick labels\n",
    "plt.rc('ytick', labelsize=default_size)    # fontsize of the tick labels\n",
    "plt.rc('legend', fontsize=default_size)    # legend fontsize\n",
    "plt.rc('figure', titlesize=default_size)\n",
    "\n",
    "color_h2 = 'lightblue'\n",
    "color_ch4 = 'lightseagreen'\n",
    "color_h2o = 'darkviolet'\n",
    "color_o3 = 'gold'\n",
    "color_aerosol='brown'\n",
    "\n",
    "\n",
    "#model_dict = { 'OSLOCTM3':'OsloCTM',\n",
    "#               'WACCM6-2deg':'WACCM',\n",
    "#               'INCA':'INCA',\n",
    "#               'GFDL-emi':'GFDL-emi',\n",
    "#               'GFDL_nudge':'GFDL',\n",
    "#               'UKCA':'UKCA',\n",
    "#               'OSLOCTM3-emi':'OsloCTM-emi'}\n",
    "\n",
    "#sorted_array = ['GFDL','INCA','OsloCTM','UKCA','WACCM','GFDL-emi','OsloCTM-emi']\n",
    "\n",
    "#Plot the harmonized soil sink value or not. \n",
    "#star = False\n",
    "\n",
    "#For the RF per flux figures, use the same y-axis. \n",
    "ylim_rf_fig = 0.7"
   ]
  },
  {
   "cell_type": "code",
   "execution_count": 2,
   "metadata": {},
   "outputs": [
    {
     "data": {
      "text/html": [
       "<div>\n",
       "<style scoped>\n",
       "    .dataframe tbody tr th:only-of-type {\n",
       "        vertical-align: middle;\n",
       "    }\n",
       "\n",
       "    .dataframe tbody tr th {\n",
       "        vertical-align: top;\n",
       "    }\n",
       "\n",
       "    .dataframe thead th {\n",
       "        text-align: right;\n",
       "    }\n",
       "</style>\n",
       "<table border=\"1\" class=\"dataframe\">\n",
       "  <thead>\n",
       "    <tr style=\"text-align: right;\">\n",
       "      <th></th>\n",
       "      <th>deltaH2</th>\n",
       "      <th>surf_h2_per_h2_flux</th>\n",
       "      <th>surf_ch4_per_h2_flux</th>\n",
       "      <th>ch4_flux_per_h2_flux</th>\n",
       "      <th>ch4_rf_per_h2_flux</th>\n",
       "      <th>ozone_rf_per_h2_flux</th>\n",
       "      <th>h2o_rf_per_h2_flux</th>\n",
       "      <th>aerosol_rf_per_h2_flux</th>\n",
       "    </tr>\n",
       "  </thead>\n",
       "  <tbody>\n",
       "    <tr>\n",
       "      <th>CNTR</th>\n",
       "      <td>0.00</td>\n",
       "      <td>nan</td>\n",
       "      <td>nan</td>\n",
       "      <td>nan</td>\n",
       "      <td>nan</td>\n",
       "      <td>nan</td>\n",
       "      <td>nan</td>\n",
       "      <td>nan</td>\n",
       "    </tr>\n",
       "    <tr>\n",
       "      <th>SSP119</th>\n",
       "      <td>8.94</td>\n",
       "      <td>6.32</td>\n",
       "      <td>1.12</td>\n",
       "      <td>0.30</td>\n",
       "      <td>0.43</td>\n",
       "      <td>0.48</td>\n",
       "      <td>nan</td>\n",
       "      <td>nan</td>\n",
       "    </tr>\n",
       "    <tr>\n",
       "      <th>SSP434</th>\n",
       "      <td>8.88</td>\n",
       "      <td>6.48</td>\n",
       "      <td>1.27</td>\n",
       "      <td>0.30</td>\n",
       "      <td>0.49</td>\n",
       "      <td>0.43</td>\n",
       "      <td>nan</td>\n",
       "      <td>nan</td>\n",
       "    </tr>\n",
       "    <tr>\n",
       "      <th>SSP585</th>\n",
       "      <td>8.91</td>\n",
       "      <td>6.37</td>\n",
       "      <td>1.34</td>\n",
       "      <td>0.32</td>\n",
       "      <td>0.52</td>\n",
       "      <td>0.45</td>\n",
       "      <td>nan</td>\n",
       "      <td>nan</td>\n",
       "    </tr>\n",
       "    <tr>\n",
       "      <th>antro01</th>\n",
       "      <td>0.10</td>\n",
       "      <td>6.27</td>\n",
       "      <td>1.11</td>\n",
       "      <td>0.30</td>\n",
       "      <td>0.43</td>\n",
       "      <td>0.44</td>\n",
       "      <td>0.23</td>\n",
       "      <td>nan</td>\n",
       "    </tr>\n",
       "    <tr>\n",
       "      <th>antro1</th>\n",
       "      <td>0.99</td>\n",
       "      <td>6.27</td>\n",
       "      <td>1.12</td>\n",
       "      <td>0.31</td>\n",
       "      <td>0.43</td>\n",
       "      <td>0.47</td>\n",
       "      <td>0.23</td>\n",
       "      <td>nan</td>\n",
       "    </tr>\n",
       "    <tr>\n",
       "      <th>antro10</th>\n",
       "      <td>9.90</td>\n",
       "      <td>6.28</td>\n",
       "      <td>1.12</td>\n",
       "      <td>0.31</td>\n",
       "      <td>0.43</td>\n",
       "      <td>0.47</td>\n",
       "      <td>0.23</td>\n",
       "      <td>nan</td>\n",
       "    </tr>\n",
       "    <tr>\n",
       "      <th>antro100</th>\n",
       "      <td>99.1</td>\n",
       "      <td>6.35</td>\n",
       "      <td>1.06</td>\n",
       "      <td>0.29</td>\n",
       "      <td>0.41</td>\n",
       "      <td>0.45</td>\n",
       "      <td>0.23</td>\n",
       "      <td>nan</td>\n",
       "    </tr>\n",
       "    <tr>\n",
       "      <th>epia</th>\n",
       "      <td>0.99</td>\n",
       "      <td>6.05</td>\n",
       "      <td>1.01</td>\n",
       "      <td>0.28</td>\n",
       "      <td>0.39</td>\n",
       "      <td>0.41</td>\n",
       "      <td>0.19</td>\n",
       "      <td>nan</td>\n",
       "    </tr>\n",
       "    <tr>\n",
       "      <th>maud</th>\n",
       "      <td>0.99</td>\n",
       "      <td>9.24</td>\n",
       "      <td>1.29</td>\n",
       "      <td>0.35</td>\n",
       "      <td>0.50</td>\n",
       "      <td>0.53</td>\n",
       "      <td>0.25</td>\n",
       "      <td>nan</td>\n",
       "    </tr>\n",
       "    <tr>\n",
       "      <th>maxdep</th>\n",
       "      <td>0.99</td>\n",
       "      <td>5.48</td>\n",
       "      <td>1.03</td>\n",
       "      <td>0.28</td>\n",
       "      <td>0.40</td>\n",
       "      <td>0.43</td>\n",
       "      <td>0.21</td>\n",
       "      <td>nan</td>\n",
       "    </tr>\n",
       "    <tr>\n",
       "      <th>munich</th>\n",
       "      <td>0.99</td>\n",
       "      <td>6.32</td>\n",
       "      <td>1.08</td>\n",
       "      <td>0.29</td>\n",
       "      <td>0.41</td>\n",
       "      <td>0.44</td>\n",
       "      <td>0.21</td>\n",
       "      <td>nan</td>\n",
       "    </tr>\n",
       "    <tr>\n",
       "      <th>nemo</th>\n",
       "      <td>0.99</td>\n",
       "      <td>7.92</td>\n",
       "      <td>1.29</td>\n",
       "      <td>0.35</td>\n",
       "      <td>0.50</td>\n",
       "      <td>0.52</td>\n",
       "      <td>0.25</td>\n",
       "      <td>nan</td>\n",
       "    </tr>\n",
       "    <tr>\n",
       "      <th>usdrydep</th>\n",
       "      <td>0.99</td>\n",
       "      <td>5.20</td>\n",
       "      <td>0.92</td>\n",
       "      <td>0.25</td>\n",
       "      <td>0.36</td>\n",
       "      <td>0.38</td>\n",
       "      <td>0.18</td>\n",
       "      <td>nan</td>\n",
       "    </tr>\n",
       "    <tr>\n",
       "      <th>zep</th>\n",
       "      <td>0.99</td>\n",
       "      <td>6.69</td>\n",
       "      <td>1.06</td>\n",
       "      <td>0.29</td>\n",
       "      <td>0.41</td>\n",
       "      <td>0.43</td>\n",
       "      <td>0.20</td>\n",
       "      <td>nan</td>\n",
       "    </tr>\n",
       "  </tbody>\n",
       "</table>\n",
       "</div>"
      ],
      "text/plain": [
       "          deltaH2  surf_h2_per_h2_flux  surf_ch4_per_h2_flux  \\\n",
       "CNTR         0.00                  nan                   nan   \n",
       "SSP119       8.94                 6.32                  1.12   \n",
       "SSP434       8.88                 6.48                  1.27   \n",
       "SSP585       8.91                 6.37                  1.34   \n",
       "antro01      0.10                 6.27                  1.11   \n",
       "antro1       0.99                 6.27                  1.12   \n",
       "antro10      9.90                 6.28                  1.12   \n",
       "antro100     99.1                 6.35                  1.06   \n",
       "epia         0.99                 6.05                  1.01   \n",
       "maud         0.99                 9.24                  1.29   \n",
       "maxdep       0.99                 5.48                  1.03   \n",
       "munich       0.99                 6.32                  1.08   \n",
       "nemo         0.99                 7.92                  1.29   \n",
       "usdrydep     0.99                 5.20                  0.92   \n",
       "zep          0.99                 6.69                  1.06   \n",
       "\n",
       "          ch4_flux_per_h2_flux  ch4_rf_per_h2_flux  ozone_rf_per_h2_flux  \\\n",
       "CNTR                       nan                 nan                   nan   \n",
       "SSP119                    0.30                0.43                  0.48   \n",
       "SSP434                    0.30                0.49                  0.43   \n",
       "SSP585                    0.32                0.52                  0.45   \n",
       "antro01                   0.30                0.43                  0.44   \n",
       "antro1                    0.31                0.43                  0.47   \n",
       "antro10                   0.31                0.43                  0.47   \n",
       "antro100                  0.29                0.41                  0.45   \n",
       "epia                      0.28                0.39                  0.41   \n",
       "maud                      0.35                0.50                  0.53   \n",
       "maxdep                    0.28                0.40                  0.43   \n",
       "munich                    0.29                0.41                  0.44   \n",
       "nemo                      0.35                0.50                  0.52   \n",
       "usdrydep                  0.25                0.36                  0.38   \n",
       "zep                       0.29                0.41                  0.43   \n",
       "\n",
       "          h2o_rf_per_h2_flux  aerosol_rf_per_h2_flux  \n",
       "CNTR                     nan                     nan  \n",
       "SSP119                   nan                     nan  \n",
       "SSP434                   nan                     nan  \n",
       "SSP585                   nan                     nan  \n",
       "antro01                 0.23                     nan  \n",
       "antro1                  0.23                     nan  \n",
       "antro10                 0.23                     nan  \n",
       "antro100                0.23                     nan  \n",
       "epia                    0.19                     nan  \n",
       "maud                    0.25                     nan  \n",
       "maxdep                  0.21                     nan  \n",
       "munich                  0.21                     nan  \n",
       "nemo                    0.25                     nan  \n",
       "usdrydep                0.18                     nan  \n",
       "zep                     0.20                     nan  "
      ]
     },
     "execution_count": 2,
     "metadata": {},
     "output_type": "execute_result"
    }
   ],
   "source": [
    "filepath= r\"./output/\"\n",
    "#df_drydep_max_table_per_flux = pd.read_csv(filepath+'drydep_90_table_per_flux_h2.csv',index_col=0)\n",
    "#df_drydep_max_table_per_flux.rename(model_dict, inplace=True)\n",
    "#df_drydep_min_table_per_flux = pd.read_csv(filepath+'drydep_50_table_per_flux_h2.csv',index_col=0)\n",
    "#df_drydep_min_table_per_flux.rename(model_dict, inplace=True)\n",
    "df_table_per_flux = pd.read_csv(filepath+'table_per_flux_h2_combined.csv',index_col=0)\n",
    "\n",
    "\n",
    "#df_feedback_factor = pd.read_csv(filepath+'feedback_factor_ch4.csv',index_col=0,header=None)\n",
    "\n",
    "\n",
    "#Making modellist with shorter names\n",
    "#df_feedback_factor.rename(model_dict, inplace=True)\n",
    "\n",
    "#df_table_per_flux.rename(model_dict, inplace=True)\n",
    "#df_table_per_flux = df_table_per_flux.sort_index()\n",
    "#df_table_per_flux=df_table_per_flux.reindex(sorted_array)\n",
    "#modellist = df_table_per_flux.index\n",
    "df_table_per_flux"
   ]
  },
  {
   "cell_type": "markdown",
   "metadata": {},
   "source": [
    "df_drydep_mean_table_per_flux = pd.read_csv(filepath+'drydep_59_table_per_flux_h2_combined.csv',index_col=0)\n",
    "df_drydep_mean_table_per_flux.rename(model_dict, inplace=True)\n",
    "df_drydep_mean_table_per_flux=df_drydep_mean_table_per_flux.reindex(sorted_array)\n",
    "df_drydep_mean_table_per_flux"
   ]
  },
  {
   "cell_type": "markdown",
   "metadata": {},
   "source": [
    "## Surface H2 concentration by 1 Tg H2/yr"
   ]
  },
  {
   "cell_type": "code",
   "execution_count": 3,
   "metadata": {},
   "outputs": [],
   "source": [
    "tittel = 'Surface H$_2$ per H$_2$ flux'\n",
    "ytittel ='[ppb H$_2$(Tg H$_2$ yr$^{-1}$)$^{-1}$]'\n",
    "field = 'surf_h2_per_h2_flux'\n",
    "legend = False #False"
   ]
  },
  {
   "cell_type": "code",
   "execution_count": 4,
   "metadata": {},
   "outputs": [
    {
     "data": {
      "text/plain": [
       "SSP119     6.32\n",
       "SSP434     6.48\n",
       "SSP585     6.37\n",
       "antro01    6.27\n",
       "antro1     6.27\n",
       "antro10    6.28\n",
       "antro100   6.35\n",
       "epia       6.05\n",
       "maud       9.24\n",
       "maxdep     5.48\n",
       "munich     6.32\n",
       "nemo       7.92\n",
       "usdrydep   5.20\n",
       "zep        6.69\n",
       "Name: surf_h2_per_h2_flux, dtype: float64"
      ]
     },
     "execution_count": 4,
     "metadata": {},
     "output_type": "execute_result"
    }
   ],
   "source": [
    "plot_values = df_table_per_flux[field]\n",
    "##plot_values_max_dry = df_drydep_max_table_per_flux[field]\n",
    "##plot_values_min_dry = df_drydep_min_table_per_flux[field]\n",
    "#plot_values_mean_dry = df_drydep_mean_table_per_flux[field]\n",
    "plot_values = plot_values.drop('CNTR')\n",
    "plot_values"
   ]
  },
  {
   "cell_type": "code",
   "execution_count": 5,
   "metadata": {},
   "outputs": [
    {
     "data": {
      "image/png": "[encoded data removed]",
      "text/plain": [
       "<Figure size 432x288 with 1 Axes>"
      ]
     },
     "metadata": {
      "needs_background": "light"
     },
     "output_type": "display_data"
    }
   ],
   "source": [
    "plt.figure(figsize=(6,4))\n",
    "for m,model in enumerate(plot_values.index):\n",
    "\n",
    "    plt.bar(m,plot_values.loc[model],edgecolor='black',color=color_h2,label=model)\n",
    "#for m,model in enumerate(plot_values.drop(['GFDL-emi','OsloCTM-emi']).index): \n",
    "#    if star: plt.plot(m,plot_values_mean_dry.loc[model],marker='*',markersize=12,color='gray')\n",
    "    \n",
    "    #plt.plot([m,m],[plot_values_max_dry.loc[model],plot_values_min_dry.loc[model]],color='k')\n",
    "    #plt.plot(m,plot_values_max_dry.loc[model],marker='^',color='black')\n",
    "    #plt.plot(m,plot_values_min_dry.loc[model],marker='v',color='black')\n",
    "    \n",
    "ax=plt.gca()\n",
    "\n",
    "ax.spines['right'].set_visible(False)\n",
    "ax.spines['top'].set_visible(False)\n",
    "\n",
    "plt.title(tittel)\n",
    "plt.ylabel(ytittel)\n",
    "if legend:\n",
    "    plt.legend()\n",
    "#plt.tick_params(labelbottom = False, bottom = False)\n",
    "ax.set_xticks(np.arange(0,len(plot_values.index)))\n",
    "ax.set_xticklabels(plot_values.index, rotation=35,horizontalalignment=\"right\")\n",
    "plt.tight_layout()\n",
    "plt.savefig('output/Surface_H2_per_H2_flux.png', transparent=True)"
   ]
  },
  {
   "cell_type": "markdown",
   "metadata": {},
   "source": [
    "## Methane flux by 1 Tg H2/yr"
   ]
  },
  {
   "cell_type": "code",
   "execution_count": 6,
   "metadata": {},
   "outputs": [],
   "source": [
    "tittel = 'Methane flux per H$_2$ flux'\n",
    "ytittel ='[Tg CH$_4$ (Tg H$_2$)$^{-1}$]'\n",
    "field = 'ch4_flux_per_h2_flux'\n",
    "legend = False #False"
   ]
  },
  {
   "cell_type": "code",
   "execution_count": 7,
   "metadata": {},
   "outputs": [],
   "source": [
    "plot_values = df_table_per_flux[field]\n",
    "plot_values = plot_values.drop('CNTR')\n",
    "#plot_values_mean_dry = df_drydep_mean_table_per_flux[field]\n",
    "#plot_values_max_dry = df_drydep_max_table_per_flux[field]\n",
    "#plot_values_min_dry = df_drydep_min_table_per_flux[field]"
   ]
  },
  {
   "cell_type": "code",
   "execution_count": 8,
   "metadata": {},
   "outputs": [],
   "source": [
    "#df_feedback_factor\n",
    "#feedback_factor = df_feedback_factor[1]\n",
    "#feedback_frac = 1.0 - (1.0/feedback_factor)\n",
    "#feedback_frac"
   ]
  },
  {
   "cell_type": "code",
   "execution_count": 9,
   "metadata": {},
   "outputs": [
    {
     "data": {
      "image/png": "[encoded data removed]",
      "text/plain": [
       "<Figure size 432x288 with 1 Axes>"
      ]
     },
     "metadata": {
      "needs_background": "light"
     },
     "output_type": "display_data"
    }
   ],
   "source": [
    "plt.figure(figsize=(6,4))\n",
    "for m,model in enumerate(plot_values.index):\n",
    "    \n",
    "    plt.bar(m,plot_values.loc[model],edgecolor='black',color=color_ch4,label=model)\n",
    "#for m,model in enumerate(plot_values.drop(['GFDL-emi','OsloCTM-emi']).index): \n",
    "#    if star: plt.plot(m,plot_values_mean_dry.loc[model],marker='*',markersize=12,color='gray')\n",
    "    #plt.plot([m,m],[plot_values_max_dry.loc[model],plot_values_min_dry.loc[model]],color='k')\n",
    "    #plt.plot(m,plot_values_max_dry.loc[model],marker='^',color='black')\n",
    "    #plt.plot(m,plot_values_min_dry.loc[model],marker='v',color='black')\n",
    "    #Hatch the feedback factor part\n",
    "    #plt.bar(m,plot_values.loc[model]*feedback_frac[model],bottom=plot_values.loc[model]*(1.0-feedback_frac[model]),fill=False,edgecolor='black',hatch='/')\n",
    "    \n",
    "ax=plt.gca()\n",
    "\n",
    "ax.spines['right'].set_visible(False)\n",
    "ax.spines['top'].set_visible(False)\n",
    "\n",
    "plt.title(tittel)\n",
    "plt.ylabel(ytittel)\n",
    "if legend:\n",
    "    plt.legend()\n",
    "ax.set_xticks(np.arange(0,len(plot_values.index)))\n",
    "ax.set_xticklabels(plot_values.index, rotation=35,horizontalalignment=\"right\")\n",
    "plt.tight_layout()\n",
    "plt.savefig('output/CH4_flux_per_H2_flux.png', transparent=True)"
   ]
  },
  {
   "cell_type": "markdown",
   "metadata": {},
   "source": [
    "## Methane ERF per flux"
   ]
  },
  {
   "cell_type": "code",
   "execution_count": 10,
   "metadata": {},
   "outputs": [],
   "source": [
    "tittel = 'Methane ERF per H$_2$ flux'\n",
    "ytittel ='[mW m$^{-2}$(Tg H$_2$ yr$^{-1}$)$^{-1}$]'\n",
    "field = 'ch4_rf_per_h2_flux'\n",
    "legend = False\n"
   ]
  },
  {
   "cell_type": "code",
   "execution_count": 11,
   "metadata": {},
   "outputs": [],
   "source": [
    "plot_values = df_table_per_flux[field]\n",
    "plot_values = plot_values.drop('CNTR')\n",
    "#plot_values_mean_dry = df_drydep_mean_table_per_flux[field]\n",
    "#plot_values_max_dry = df_drydep_max_table_per_flux[field]\n",
    "#plot_values_min_dry = df_drydep_min_table_per_flux[field]"
   ]
  },
  {
   "cell_type": "code",
   "execution_count": 12,
   "metadata": {
    "scrolled": true
   },
   "outputs": [
    {
     "data": {
      "image/png": "[encoded data removed]",
      "text/plain": [
       "<Figure size 432x288 with 1 Axes>"
      ]
     },
     "metadata": {
      "needs_background": "light"
     },
     "output_type": "display_data"
    }
   ],
   "source": [
    "plt.figure(figsize=(6,4))\n",
    "for m,model in enumerate(plot_values.index):\n",
    "\n",
    "    plt.bar(m,plot_values.loc[model],edgecolor='black',color=color_ch4,label=model)\n",
    "#for m,model in enumerate(plot_values.drop(['GFDL-emi','OsloCTM-emi']).index): \n",
    "#    if star: plt.plot(m,plot_values_mean_dry.loc[model],marker='*',markersize=12,color='gray')\n",
    "    #plt.plot([m,m],[plot_values_max_dry.loc[model],plot_values_min_dry.loc[model]],linewidth=0.8,color='k')\n",
    "    #plt.plot(m,plot_values_max_dry.loc[model],fillstyle='none',markersize=8,marker='^',color='black')\n",
    "    #plt.plot(m,plot_values_min_dry.loc[model],fillstyle='none',markersize=8,marker='v',color='black')\n",
    "   \n",
    "    \n",
    "    #Hatch the feedback factor part\n",
    "    #plt.bar(m,plot_values.loc[model]*feedback_frac[model],bottom=plot_values.loc[model]*(1.0-feedback_frac[model]),fill=False,edgecolor='black',hatch='/')\n",
    "    \n",
    "ax=plt.gca()\n",
    "\n",
    "ax.spines['right'].set_visible(False)\n",
    "ax.spines['top'].set_visible(False)\n",
    "\n",
    "plt.title(tittel)\n",
    "plt.ylabel(ytittel)\n",
    "\n",
    "plt.ylim(top=ylim_rf_fig)\n",
    "if legend:\n",
    "    plt.legend()\n",
    "ax.set_xticks(np.arange(0,len(plot_values.index)))\n",
    "ax.set_xticklabels(plot_values.index, rotation=35,horizontalalignment=\"right\")\n",
    "plt.tight_layout()\n",
    "plt.savefig('output/CH4_RF_per_H2_flux.png', transparent=True)"
   ]
  },
  {
   "cell_type": "markdown",
   "metadata": {},
   "source": [
    "## Tropospheric ozone by H2 flux"
   ]
  },
  {
   "cell_type": "markdown",
   "metadata": {},
   "source": [
    "tittel = 'Tropospheric ozone per H$_2$ flux'\n",
    "ytittel ='[DU (Tg H$_2$ yr$^{-1}$)$^{-1}$]'\n",
    "field = 'trop_du_ozone_per_h2_flux'\n",
    "legend = False"
   ]
  },
  {
   "cell_type": "markdown",
   "metadata": {},
   "source": [
    "For the following figures, add the methane induced effect"
   ]
  },
  {
   "cell_type": "code",
   "execution_count": 13,
   "metadata": {},
   "outputs": [],
   "source": [
    "#Indirect effect via Methane.\n",
    "#df_drydep_max_table_per_flux_ch4 = pd.read_csv(filepath+'drydep_90_table_per_flux_ch4.csv',index_col=0)\n",
    "#df_drydep_max_table_per_flux_ch4.rename(model_dict, inplace=True)\n",
    "#df_drydep_min_table_per_flux_ch4 = pd.read_csv(filepath+'drydep_50_table_per_flux_ch4.csv',index_col=0)\n",
    "#df_drydep_min_table_per_flux_ch4.rename(model_dict, inplace=True)\n",
    "#df_table_per_flux_ch4 = pd.read_csv(filepath+'table_per_flux_ch4.csv',index_col=0)\n",
    "#df_table_per_flux_ch4.rename(model_dict, inplace=True)"
   ]
  },
  {
   "cell_type": "code",
   "execution_count": 14,
   "metadata": {},
   "outputs": [],
   "source": [
    "#field_ch4 = field.replace('h2_','ch4_')\n",
    "#print(field)\n",
    "#print(field_ch4)"
   ]
  },
  {
   "cell_type": "markdown",
   "metadata": {},
   "source": [
    "#Direct effect:\n",
    "plot_values = df_table_per_flux[field]\n",
    "plot_values_mean_dry = df_drydep_mean_table_per_flux[field]\n",
    "#plot_values_max_dry = df_drydep_max_table_per_flux[field]\n",
    "#plot_values_min_dry = df_drydep_min_table_per_flux[field]\n",
    "#plot_values\n",
    "#print(plot_values_max_dry)\n",
    "#print(plot_values_min_dry)"
   ]
  },
  {
   "cell_type": "code",
   "execution_count": 15,
   "metadata": {},
   "outputs": [],
   "source": [
    "#Indirect effect:\n",
    "#plot_values_ch4 = df_table_per_flux_ch4[field_ch4]*df_table_per_flux['ch4_flux_per_h2_flux']\n",
    "#plot_values_max_dry_ch4 = df_drydep_max_table_per_flux_ch4[field_ch4]*df_drydep_max_table_per_flux['ch4_flux_per_h2_flux']\n",
    "#plot_values_min_dry_ch4 = df_drydep_min_table_per_flux_ch4[field_ch4]*df_drydep_min_table_per_flux['ch4_flux_per_h2_flux']\n"
   ]
  },
  {
   "cell_type": "code",
   "execution_count": 16,
   "metadata": {},
   "outputs": [],
   "source": [
    "#Add GFDL numbers:\n",
    "#inputpath = r\"./input/\"\n",
    "#file = 'ozone_du_trop.txt'\n",
    "#df_ozone_du_trop = pd.read_csv(inputpath+file, sep=';',index_col=0,header=0)\n",
    "#df_ozone_du_trop.index.name = None\n",
    "#df_ozone_du_trop.rename(columns=model_dict, inplace=True)\n",
    "\n",
    "##This should be tropospheric ozone [DU] Divide by flux H2 directly\n",
    "#plot_values_ch4['GFDL-emi'] = (df_ozone_du_trop['GFDL-emi'].loc['10CH4'])/df_table_per_flux['deltaH2'].loc['GFDL-emi']\n",
    "#plot_values_max_dry_ch4['GFDL-emi'] = (df_ozone_du_trop['GFDL-emi'].loc['10CH4'])/df_drydep_max_table_per_flux['deltaH2'].loc['GFDL-emi']\n",
    "#plot_values_min_dry_ch4['GFDL-emi'] = (df_ozone_du_trop['GFDL-emi'].loc['10CH4'])/df_drydep_min_table_per_flux['deltaH2'].loc['GFDL-emi']\n",
    "\n",
    "\n",
    "#df_ozone_du_trop\n",
    "#plot_values_ch4['GFDL-emi']"
   ]
  },
  {
   "cell_type": "markdown",
   "metadata": {
    "scrolled": true
   },
   "source": [
    "plt.figure(figsize=(6,4))\n",
    "for m,model in enumerate(plot_values.index):\n",
    "    plt.bar(m,plot_values.loc[model],edgecolor='black',color=color_o3,label=model)\n",
    "for m,model in enumerate(plot_values.drop(['GFDL-emi','OsloCTM-emi']).index): \n",
    "    if star: plt.plot(m,plot_values_mean_dry.loc[model],marker='*',markersize=12,color='gray')\n",
    "    #plt.bar(m,plot_values.loc[model],edgecolor='black',fill=False,color=color_o3)\n",
    "    #if(plot_values.loc[model]<0 and plot_values_ch4.loc[model]>0):\n",
    "    #    plt.bar(m,plot_values_ch4.loc[model],bottom=0.0,fill=False,edgecolor='black',hatch='/')\n",
    "    #else:\n",
    "    #    plt.bar(m,plot_values_ch4.loc[model],bottom=plot_values.loc[model],fill=False,edgecolor='black',hatch='/')\n",
    "\n",
    "    #plt.plot(m,plot_values_max_dry.loc[model]+plot_values_max_dry_ch4.loc[model],marker='^',color='black')\n",
    "    #plt.plot(m,plot_values_min_dry.loc[model]+plot_values_min_dry_ch4.loc[model],marker='v',color='black')\n",
    "    \n",
    "    #plt.plot([m,m],[plot_values_max_dry.loc[model]+plot_values_max_dry_ch4.loc[model],plot_values_min_dry.loc[model]+plot_values_min_dry_ch4.loc[model]],color='k')\n",
    "\n",
    "plt.axhline(y=0, color='black',linewidth=0.5,zorder=-10)    \n",
    "    \n",
    "ax=plt.gca()\n",
    "\n",
    "ax.spines['right'].set_visible(False)\n",
    "ax.spines['top'].set_visible(False)\n",
    "\n",
    "plt.title(tittel)\n",
    "plt.ylabel(ytittel)\n",
    "if legend:\n",
    "    plt.legend()\n",
    "ax.set_xticks(np.arange(0,len(plot_values.index)))\n",
    "ax.set_xticklabels(modellist, rotation=35,horizontalalignment=\"right\")\n",
    "plt.tight_layout()\n",
    "plt.savefig('output/Trop_Ozone_DU_per_H2_flux.png', transparent=True)"
   ]
  },
  {
   "cell_type": "markdown",
   "metadata": {},
   "source": [
    "## Stratospheric ozone by H2 flux"
   ]
  },
  {
   "cell_type": "markdown",
   "metadata": {},
   "source": [
    "tittel = 'Stratospheric ozone per H$_2$ flux'\n",
    "ytittel ='[DU (Tg H$_2$ yr$^{-1}$)$^{-1}$]'\n",
    "field = 'strat_du_ozone_per_h2_flux'\n",
    "legend = False #False"
   ]
  },
  {
   "cell_type": "code",
   "execution_count": 17,
   "metadata": {},
   "outputs": [],
   "source": [
    "#field_ch4 = field.replace('h2_','ch4_')"
   ]
  },
  {
   "cell_type": "markdown",
   "metadata": {},
   "source": [
    "#Direct effect:\n",
    "plot_values = df_table_per_flux[field]\n",
    "plot_values_mean_dry = df_drydep_mean_table_per_flux[field]\n",
    "#plot_values_max_dry = df_drydep_max_table_per_flux[field]\n",
    "#plot_values_min_dry = df_drydep_min_table_per_flux[field]"
   ]
  },
  {
   "cell_type": "code",
   "execution_count": 18,
   "metadata": {},
   "outputs": [],
   "source": [
    "#Indirect effect:\n",
    "#plot_values_ch4 = df_table_per_flux_ch4[field_ch4]*df_table_per_flux['ch4_flux_per_h2_flux']\n",
    "#plot_values_max_dry_ch4 = df_drydep_max_table_per_flux_ch4[field_ch4]*df_drydep_max_table_per_flux['ch4_flux_per_h2_flux']\n",
    "#plot_values_min_dry_ch4 = df_drydep_min_table_per_flux_ch4[field_ch4]*df_drydep_min_table_per_flux['ch4_flux_per_h2_flux']\n"
   ]
  },
  {
   "cell_type": "code",
   "execution_count": 19,
   "metadata": {},
   "outputs": [],
   "source": [
    "#Add GFDL numbers:\n",
    "#inputpath = r\"./input/\"\n",
    "#file = 'ozone_du_strat.txt'\n",
    "#df_ozone_du_strat = pd.read_csv(inputpath+file, sep=';',index_col=0,header=0)\n",
    "#df_ozone_du_strat.index.name = None\n",
    "#df_ozone_du_strat.rename(columns=model_dict, inplace=True)\n",
    "##Divide by flux H2 directly\n",
    "#plot_values_ch4['GFDL-emi'] = df_ozone_du_strat['GFDL-emi'].loc['10CH4']/df_table_per_flux['deltaH2'].loc['GFDL-emi']\n",
    "#plot_values_max_dry_ch4['GFDL-emi'] = df_ozone_du_strat['GFDL-emi'].loc['10CH4']/df_drydep_max_table_per_flux['deltaH2'].loc['GFDL-emi']\n",
    "#plot_values_min_dry_ch4['GFDL-emi'] = df_ozone_du_strat['GFDL-emi'].loc['10CH4']/df_drydep_min_table_per_flux['deltaH2'].loc['GFDL-emi']\n",
    "\n"
   ]
  },
  {
   "cell_type": "markdown",
   "metadata": {},
   "source": [
    "plt.figure(figsize=(6,4))\n",
    "for m,model in enumerate(plot_values.index):\n",
    "    \n",
    "    plt.bar(m,plot_values.loc[model],edgecolor='black',color=color_o3,label=model)\n",
    "for m,model in enumerate(plot_values.drop(['GFDL-emi','OsloCTM-emi']).index): \n",
    "    if star: plt.plot(m,plot_values_mean_dry.loc[model],marker='*',markersize=12,color='gray')\n",
    "    #plt.bar(m,plot_values.loc[model],edgecolor='black',fill=False,color=color_o3)\n",
    "    #if(plot_values.loc[model]<0 and plot_values_ch4.loc[model]>0):\n",
    "    #    plt.bar(m,plot_values_ch4.loc[model],bottom=0.0,fill=False,edgecolor='black',hatch='/')\n",
    "    #else:\n",
    "    #    plt.bar(m,plot_values_ch4.loc[model],bottom=plot_values.loc[model],fill=False,edgecolor='black',hatch='/')\n",
    "\n",
    "    #plt.plot(m,plot_values_max_dry.loc[model]+plot_values_max_dry_ch4.loc[model],marker='^',color='black')\n",
    "    #plt.plot(m,plot_values_min_dry.loc[model]+plot_values_min_dry_ch4.loc[model],marker='v',color='black')\n",
    "    \n",
    "    #plt.plot([m,m],[plot_values_max_dry.loc[model]+plot_values_max_dry_ch4.loc[model],plot_values_min_dry.loc[model]+plot_values_min_dry_ch4.loc[model]],color='k')\n",
    "\n",
    "plt.axhline(y=0, color='black',linewidth=0.5,zorder=-10)    \n",
    "    \n",
    "ax=plt.gca()\n",
    "\n",
    "ax.spines['right'].set_visible(False)\n",
    "ax.spines['top'].set_visible(False)\n",
    "\n",
    "plt.title(tittel)\n",
    "plt.ylabel(ytittel)\n",
    "if legend:\n",
    "    plt.legend()\n",
    "ax.set_xticks(np.arange(0,len(plot_values.index)))\n",
    "ax.set_xticklabels(modellist, rotation=35,horizontalalignment=\"right\")\n",
    "plt.tight_layout()\n",
    "plt.savefig('output/Strat_Ozone_DU_per_H2_flux.png', transparent=True)\n",
    "modellist"
   ]
  },
  {
   "cell_type": "markdown",
   "metadata": {},
   "source": [
    "## Ozone ERF by 1 Tg H2"
   ]
  },
  {
   "cell_type": "code",
   "execution_count": 20,
   "metadata": {},
   "outputs": [],
   "source": [
    "tittel = 'Ozone ERF per H$_2$ flux'\n",
    "ytittel ='[mW m$^{-2}$(Tg H$_2$ yr$^{-1}$)$^{-1}$]'\n",
    "field = 'ozone_rf_per_h2_flux'\n",
    "legend = False #False"
   ]
  },
  {
   "cell_type": "code",
   "execution_count": 21,
   "metadata": {},
   "outputs": [],
   "source": [
    "field_ch4 = field.replace('h2_','ch4_')"
   ]
  },
  {
   "cell_type": "code",
   "execution_count": 22,
   "metadata": {},
   "outputs": [],
   "source": [
    "#Direct effect:\n",
    "plot_values = df_table_per_flux[field]\n",
    "plot_values = plot_values.drop('CNTR')\n",
    "#plot_values_mean_dry = df_drydep_mean_table_per_flux[field]\n",
    "#plot_values_max_dry = df_drydep_max_table_per_flux[field]\n",
    "#plot_values_min_dry = df_drydep_min_table_per_flux[field]"
   ]
  },
  {
   "cell_type": "code",
   "execution_count": 23,
   "metadata": {},
   "outputs": [],
   "source": [
    "#Indirect effect:\n",
    "#plot_values_ch4 = df_table_per_flux_ch4[field_ch4]*df_table_per_flux['ch4_flux_per_h2_flux']\n",
    "#plot_values_max_dry_ch4 = df_drydep_max_table_per_flux_ch4[field_ch4]*df_drydep_max_table_per_flux['ch4_flux_per_h2_flux']\n",
    "#plot_values_min_dry_ch4 = df_drydep_min_table_per_flux_ch4[field_ch4]*df_drydep_min_table_per_flux['ch4_flux_per_h2_flux']"
   ]
  },
  {
   "cell_type": "code",
   "execution_count": 24,
   "metadata": {},
   "outputs": [],
   "source": [
    "#Add GFDL numbers:\n",
    "#inputpath = r\"./input/\"\n",
    "#file = 'ozone_rf.txt'\n",
    "#df_ozone_rf = pd.read_csv(inputpath+file, sep=';',index_col=0,header=0)\n",
    "#df_ozone_rf.index.name = None\n",
    "#df_ozone_rf.rename(columns=model_dict, inplace=True)\n",
    "#Divide by h2 flux directly\n",
    "#plot_values_ch4['GFDL-emi'] = df_ozone_rf['GFDL-emi'].loc['10CH4']/df_table_per_flux['deltaH2'].loc['GFDL-emi']\n",
    "#plot_values_max_dry_ch4['GFDL-emi'] = df_ozone_rf['GFDL-emi'].loc['10CH4']/df_drydep_max_table_per_flux['deltaH2'].loc['GFDL-emi']\n",
    "#plot_values_min_dry_ch4['GFDL-emi'] = df_ozone_rf['GFDL-emi'].loc['10CH4']/df_drydep_min_table_per_flux['deltaH2'].loc['GFDL-emi']\n",
    "\n"
   ]
  },
  {
   "cell_type": "code",
   "execution_count": 25,
   "metadata": {},
   "outputs": [
    {
     "data": {
      "image/png": "[encoded data removed]",
      "text/plain": [
       "<Figure size 432x288 with 1 Axes>"
      ]
     },
     "metadata": {
      "needs_background": "light"
     },
     "output_type": "display_data"
    }
   ],
   "source": [
    "plt.figure(figsize=(6,4))\n",
    "for m,model in enumerate(plot_values.index):  \n",
    "    plt.bar(m,plot_values.loc[model],edgecolor='black',color=color_o3,label=model)    \n",
    "#for m,model in enumerate(plot_values.drop(['GFDL-emi','OsloCTM-emi']).index): \n",
    "#    if star: plt.plot(m,plot_values_mean_dry.loc[model],marker='*',markersize=12,color='gray')\n",
    "    #plt.bar(m,plot_values.loc[model],edgecolor='black',fill=False,color=color_o3)\n",
    "    #if(plot_values.loc[model]<0 and plot_values_ch4.loc[model]>0):\n",
    "    #    plt.bar(m,plot_values_ch4.loc[model],bottom=0.0,fill=False,edgecolor='black',hatch='/')\n",
    "    #else:\n",
    "    #    plt.bar(m,plot_values_ch4.loc[model],bottom=plot_values.loc[model],fill=False,edgecolor='black',hatch='/')\n",
    "\n",
    "    #plt.plot(m,plot_values_max_dry.loc[model]+plot_values_max_dry_ch4.loc[model],marker='^',color='black')\n",
    "    #plt.plot(m,plot_values_min_dry.loc[model]+plot_values_min_dry_ch4.loc[model],marker='v',color='black')\n",
    "    \n",
    "    #plt.plot([m,m],[plot_values_max_dry.loc[model]+plot_values_max_dry_ch4.loc[model],plot_values_min_dry.loc[model]+plot_values_min_dry_ch4.loc[model]],color='k')\n",
    "\n",
    "plt.axhline(y=0, color='black',linewidth=0.5,zorder=-10)    \n",
    "    \n",
    "ax=plt.gca()\n",
    "\n",
    "ax.spines['right'].set_visible(False)\n",
    "ax.spines['top'].set_visible(False)\n",
    "\n",
    "plt.title(tittel)\n",
    "plt.ylabel(ytittel)\n",
    "plt.ylim(top=ylim_rf_fig)\n",
    "\n",
    "if legend:\n",
    "    plt.legend()\n",
    "ax.set_xticks(np.arange(0,len(plot_values.index)))\n",
    "ax.set_xticklabels(plot_values.index, rotation=35,horizontalalignment=\"right\")\n",
    "plt.tight_layout()\n",
    "plt.savefig('output/Ozone_RF_per_H2_flux.png', transparent=True)"
   ]
  },
  {
   "cell_type": "markdown",
   "metadata": {},
   "source": [
    "## Strat. H2O ERF by 1 Tg H2"
   ]
  },
  {
   "cell_type": "code",
   "execution_count": 26,
   "metadata": {},
   "outputs": [],
   "source": [
    "tittel = 'Stratospheric H$_2$O ERF per H$_2$ flux'\n",
    "ytittel ='[mW m$^{-2}$ (Tg H$_2$ yr$^{-1}$)$^{-1}$]'\n",
    "field = 'h2o_rf_per_h2_flux'\n",
    "legend = False"
   ]
  },
  {
   "cell_type": "code",
   "execution_count": 27,
   "metadata": {},
   "outputs": [],
   "source": [
    "#field_ch4 = field.replace('h2_','ch4_')"
   ]
  },
  {
   "cell_type": "code",
   "execution_count": 28,
   "metadata": {},
   "outputs": [],
   "source": [
    "#Direct effect:\n",
    "plot_values = df_table_per_flux[field]\n",
    "plot_values = plot_values.drop('CNTR')\n",
    "#plot_values_mean_dry = df_drydep_mean_table_per_flux[field]\n",
    "#plot_values_max_dry = df_drydep_max_table_per_flux[field]\n",
    "#plot_values_min_dry = df_drydep_min_table_per_flux[field]"
   ]
  },
  {
   "cell_type": "code",
   "execution_count": 29,
   "metadata": {},
   "outputs": [],
   "source": [
    "#Indirect effect:\n",
    "#plot_values_ch4 = df_table_per_flux_ch4[field_ch4]*df_table_per_flux['ch4_flux_per_h2_flux']\n",
    "#plot_values_max_dry_ch4 = df_drydep_max_table_per_flux_ch4[field_ch4]*df_drydep_max_table_per_flux['ch4_flux_per_h2_flux']\n",
    "#plot_values_min_dry_ch4 = df_drydep_min_table_per_flux_ch4[field_ch4]*df_drydep_min_table_per_flux['ch4_flux_per_h2_flux']"
   ]
  },
  {
   "cell_type": "code",
   "execution_count": 30,
   "metadata": {},
   "outputs": [],
   "source": [
    "#Add GFDL numbers:\n",
    "#inputpath = r\"./input/\"\n",
    "#file = 'H2O_rf_gfdl.txt'\n",
    "#df_h2o_rf = pd.read_csv(inputpath+file, sep=',',index_col=0,header=0)\n",
    "\n",
    "#gfdl_emi_ch4 = df_h2o_rf.loc['H2+CH4 [mW m-2]'] - df_h2o_rf.loc['H2 [mW m-2]']\n",
    "\n",
    "##gfdl_emi_ch4\n",
    "#plot_values_ch4['GFDL-emi'] = gfdl_emi_ch4/df_table_per_flux['deltaH2'].loc['GFDL-emi']\n",
    "#plot_values_max_dry_ch4['GFDL-emi'] = gfdl_emi_ch4/df_drydep_max_table_per_flux['deltaH2'].loc['GFDL-emi']\n",
    "#plot_values_min_dry_ch4['GFDL-emi'] = gfdl_emi_ch4/df_drydep_min_table_per_flux['deltaH2'].loc['GFDL-emi']\n"
   ]
  },
  {
   "cell_type": "code",
   "execution_count": 31,
   "metadata": {},
   "outputs": [],
   "source": [
    "#modellist\n",
    "#exchange_dict={'UKCA':''}\n",
    "#modellist_strath2o=pd.Index(modellist.to_series().replace(exchange_dict))\n",
    "#modellist_strath2o"
   ]
  },
  {
   "cell_type": "code",
   "execution_count": 32,
   "metadata": {},
   "outputs": [
    {
     "data": {
      "image/png": "[encoded data removed]",
      "text/plain": [
       "<Figure size 432x288 with 1 Axes>"
      ]
     },
     "metadata": {
      "needs_background": "light"
     },
     "output_type": "display_data"
    }
   ],
   "source": [
    "plt.figure(figsize=(6,4))\n",
    "for m,model in enumerate(plot_values.index):\n",
    "    \n",
    "    plt.bar(m,plot_values.loc[model],edgecolor='black',color=color_h2o,label=model)\n",
    "#for m,model in enumerate(plot_values.drop(['GFDL-emi','OsloCTM-emi']).index): \n",
    "#    if star: plt.plot(m,plot_values_mean_dry.loc[model],marker='*',markersize=12,color='gray')\n",
    "    #plt.bar(m,plot_values.loc[model],edgecolor='black',fill=False,color=color_h2o)\n",
    "    #if(plot_values.loc[model]<0 and plot_values_ch4.loc[model]>0):\n",
    "    #    plt.bar(m,plot_values_ch4.loc[model],bottom=0.0,fill=False,edgecolor='black',hatch='/')\n",
    "    #else:\n",
    "    #    plt.bar(m,plot_values_ch4.loc[model],bottom=plot_values.loc[model],fill=False,edgecolor='black',hatch='/')\n",
    "\n",
    "    #plt.plot(m,plot_values_max_dry.loc[model]+plot_values_max_dry_ch4.loc[model],marker='^',color='black')\n",
    "    #plt.plot(m,plot_values_min_dry.loc[model]+plot_values_min_dry_ch4.loc[model],marker='v',color='black')\n",
    "    \n",
    "    #plt.plot([m,m],[plot_values_max_dry.loc[model]+plot_values_max_dry_ch4.loc[model],plot_values_min_dry.loc[model]+plot_values_min_dry_ch4.loc[model]],color='k')\n",
    "\n",
    "plt.axhline(y=0, color='black',linewidth=0.5,zorder=-10)    \n",
    "    \n",
    "ax=plt.gca()\n",
    "\n",
    "ax.spines['right'].set_visible(False)\n",
    "ax.spines['top'].set_visible(False)\n",
    "\n",
    "plt.title(tittel)\n",
    "plt.ylabel(ytittel)\n",
    "plt.ylim(top=ylim_rf_fig)\n",
    "\n",
    "\n",
    "\n",
    "if legend:\n",
    "    plt.legend()\n",
    "ax.set_xticks(np.arange(0,len(plot_values.index)))\n",
    "ax.set_xticklabels(plot_values.index, rotation=35,horizontalalignment=\"right\")\n",
    "plt.tight_layout()\n",
    "plt.savefig('output/Strat_H2O_RF_per_H2_flux.png', transparent=True)"
   ]
  },
  {
   "cell_type": "markdown",
   "metadata": {},
   "source": [
    "## Aerosol RF by 1 Tg H2"
   ]
  },
  {
   "cell_type": "markdown",
   "metadata": {},
   "source": [
    "tittel = 'Aerosol RF per H$_2$ flux'\n",
    "ytittel ='[mW m$^{-2}$ (Tg H$_2$ yr$^{-1}$)$^{-1}$]'\n",
    "field = 'aerosol_rf_per_h2_flux'\n",
    "legend = False"
   ]
  },
  {
   "cell_type": "code",
   "execution_count": 33,
   "metadata": {},
   "outputs": [],
   "source": [
    "#field_ch4 = field.replace('h2_','ch4_')"
   ]
  },
  {
   "cell_type": "markdown",
   "metadata": {},
   "source": [
    "#Direct effect:\n",
    "plot_values = df_table_per_flux[field]\n",
    "plot_values_mean_dry = df_drydep_mean_table_per_flux[field]\n",
    "#plot_values_max_dry = df_drydep_max_table_per_flux[field]\n",
    "#plot_values_min_dry = df_drydep_min_table_per_flux[field]\n",
    "plot_values"
   ]
  },
  {
   "cell_type": "code",
   "execution_count": 34,
   "metadata": {},
   "outputs": [],
   "source": [
    "#Indirect effect:\n",
    "#plot_values_ch4 = df_table_per_flux_ch4[field_ch4]*df_table_per_flux['ch4_flux_per_h2_flux']\n",
    "#plot_values_max_dry_ch4 = df_drydep_max_table_per_flux_ch4[field_ch4]*df_drydep_max_table_per_flux['ch4_flux_per_h2_flux']\n",
    "#plot_values_min_dry_ch4 = df_drydep_min_table_per_flux_ch4[field_ch4]*df_drydep_min_table_per_flux['ch4_flux_per_h2_flux']"
   ]
  },
  {
   "cell_type": "code",
   "execution_count": 35,
   "metadata": {},
   "outputs": [],
   "source": [
    "#GFDL: The nubers used include the methane induced effect. Set this value to zero and not nan.\n",
    "#Add GFDL numbers:\n",
    "#inputpath = r\"./input/\"\n",
    "#file = 'aerosol_rf.txt'\n",
    "#df_aerosol_rf = pd.read_csv(inputpath+file, sep=';',index_col=0,header=0)\n",
    "#df_aerosol_rf.index.name = None\n",
    "#df_aerosol_rf.rename(columns=model_dict, inplace=True)\n",
    "\n",
    "#plot_values['GFDL-emi']=df_aerosol_rf.loc['10CH4']['GFDL-emi']/df_table_per_flux['deltaH2'].loc['GFDL-emi']\n",
    "#plot_values_max_dry['GFDL-emi']=df_aerosol_rf.loc['10CH4']['GFDL-emi']/df_drydep_max_table_per_flux['deltaH2'].loc['GFDL-emi']\n",
    "#plot_values_min_dry['GFDL-emi']=df_aerosol_rf.loc['10CH4']['GFDL-emi']/df_drydep_min_table_per_flux['deltaH2'].loc['GFDL-emi']\n",
    "\n",
    "#plot_values_ch4['GFDL-emi']=0.0\n",
    "#plot_values_max_dry_ch4['GFDL-emi']=0.0\n",
    "#plot_values_min_dry_ch4['GFDL-emi']=0.0"
   ]
  },
  {
   "cell_type": "markdown",
   "metadata": {},
   "source": [
    "modellist\n",
    "exchange_dict={'UKCA':'','WACCM':' '}\n",
    "modellist_aerosols=pd.Index(modellist.to_series().replace(exchange_dict))\n",
    "modellist_aerosols"
   ]
  },
  {
   "cell_type": "markdown",
   "metadata": {},
   "source": [
    "plt.figure(figsize=(6,4))\n",
    "for m,model in enumerate(plot_values.index):\n",
    "    \n",
    "    plt.bar(m,plot_values.loc[model],edgecolor='black',color=color_aerosol,label=model)\n",
    "for m,model in enumerate(plot_values.drop(['GFDL-emi','OsloCTM-emi']).index): \n",
    "    if star: plt.plot(m,plot_values_mean_dry.loc[model],marker='*',markersize=12,color='gray')\n",
    "    #plt.bar(m,plot_values.loc[model],edgecolor='black',fill=False,color=color_aerosol)\n",
    "  \n",
    "    #plt.bar(m,plot_values_ch4.loc[model],bottom=plot_values.loc[model],fill=False,edgecolor='black',hatch='/')\n",
    "\n",
    "    #plt.plot(m,plot_values_max_dry.loc[model]+plot_values_max_dry_ch4.loc[model],marker='^',color='black')\n",
    "    #plt.plot(m,plot_values_min_dry.loc[model]+plot_values_min_dry_ch4.loc[model],marker='v',color='black')\n",
    "    \n",
    "    #plt.plot([m,m],[plot_values_max_dry.loc[model]+plot_values_max_dry_ch4.loc[model],plot_values_min_dry.loc[model]+plot_values_min_dry_ch4.loc[model]],color='k')\n",
    "\n",
    "plt.axhline(y=0, color='black',linewidth=0.5,zorder=-10)    \n",
    "    \n",
    "ax=plt.gca()\n",
    "\n",
    "ax.spines['right'].set_visible(False)\n",
    "ax.spines['top'].set_visible(False)\n",
    "\n",
    "plt.title(tittel)\n",
    "plt.ylabel(ytittel)\n",
    "plt.ylim(top=ylim_rf_fig)\n",
    "\n",
    "if legend:\n",
    "    plt.legend()\n",
    "ax.set_xticks(np.arange(0,len(plot_values.index)))\n",
    "ax.set_xticklabels(modellist_aerosols, rotation=35,horizontalalignment=\"right\")\n",
    "plt.tight_layout()\n",
    "plt.savefig('output/aerosol_RF_per_H2_flux.png', transparent=True)"
   ]
  },
  {
   "cell_type": "code",
   "execution_count": null,
   "metadata": {},
   "outputs": [],
   "source": []
  }
 ],
 "metadata": {
  "kernelspec": {
   "display_name": "Python 3",
   "language": "python",
   "name": "python3"
  },
  "language_info": {
   "codemirror_mode": {
    "name": "ipython",
    "version": 3
   },
   "file_extension": ".py",
   "mimetype": "text/x-python",
   "name": "python",
   "nbconvert_exporter": "python",
   "pygments_lexer": "ipython3",
   "version": "3.7.0"
  }
 },
 "nbformat": 4,
 "nbformat_minor": 2
}
