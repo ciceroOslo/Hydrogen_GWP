{
 "cells": [
  {
   "cell_type": "code",
   "execution_count": 8,
   "metadata": {},
   "outputs": [],
   "source": [
    "import numpy as np\n",
    "import pandas as pd\n",
    "import matplotlib.pyplot as plt\n",
    "\n",
    "pd.set_option('display.float_format', lambda x: '{:,.3f}'.format(x) if abs(x)<0 else ('{:,.2f}'.format(x) if abs(x)<10 else ('{:,.1f}'.format(x) if abs(x)<100 else '{:,.0f}'.format(x))))\n"
   ]
  },
  {
   "cell_type": "code",
   "execution_count": 9,
   "metadata": {},
   "outputs": [],
   "source": [
    "#model_dict = { 'OSLOCTM3':'OsloCTM',\n",
    "#               'WACCM6-2deg':'WACCM',\n",
    "#               'INCA':'INCA',\n",
    "#               'GFDL-emi':'GFDL-emi',\n",
    "#               'GFDL_nudge':'GFDL',\n",
    "#               'UKCA':'UKCA',\n",
    "#               'OSLOCTM3-emi':'OsloCTM-emi'}\n",
    "#\n",
    "#sorted_array = ['GFDL','INCA','OsloCTM','UKCA','WACCM','GFDL-emi','OsloCTM-emi','Model mean']"
   ]
  },
  {
   "cell_type": "code",
   "execution_count": 10,
   "metadata": {},
   "outputs": [
    {
     "data": {
      "text/html": [
       "<div>\n",
       "<style scoped>\n",
       "    .dataframe tbody tr th:only-of-type {\n",
       "        vertical-align: middle;\n",
       "    }\n",
       "\n",
       "    .dataframe tbody tr th {\n",
       "        vertical-align: top;\n",
       "    }\n",
       "\n",
       "    .dataframe thead th {\n",
       "        text-align: right;\n",
       "    }\n",
       "</style>\n",
       "<table border=\"1\" class=\"dataframe\">\n",
       "  <thead>\n",
       "    <tr style=\"text-align: right;\">\n",
       "      <th></th>\n",
       "      <th>CH4 burden [Tg]</th>\n",
       "      <th>CH4 surface conc. [ppbv]</th>\n",
       "      <th>CH4 chem loss OH [Tg/yr]</th>\n",
       "      <th>CH4 chem loss other strat [Tg/yr]</th>\n",
       "      <th>CH4 loss soil [Tg/yr]</th>\n",
       "      <th>CH4 total loss [Tg/yr]</th>\n",
       "      <th>CH4 lifetime due to OH (whole atmosphere) [yrs]</th>\n",
       "      <th>Total CH4 lifetime [yrs]</th>\n",
       "      <th>Feedback factor</th>\n",
       "      <th>Perturbation lifetime</th>\n",
       "    </tr>\n",
       "  </thead>\n",
       "  <tbody>\n",
       "    <tr>\n",
       "      <th>CTRL</th>\n",
       "      <td>4,975</td>\n",
       "      <td>1,813</td>\n",
       "      <td>674</td>\n",
       "      <td>20.7</td>\n",
       "      <td>31.1</td>\n",
       "      <td>726</td>\n",
       "      <td>7.38</td>\n",
       "      <td>6.85</td>\n",
       "      <td>1.46</td>\n",
       "      <td>10.0</td>\n",
       "    </tr>\n",
       "  </tbody>\n",
       "</table>\n",
       "</div>"
      ],
      "text/plain": [
       "      CH4 burden [Tg]  CH4 surface conc. [ppbv]  CH4 chem loss OH [Tg/yr]  \\\n",
       "CTRL            4,975                     1,813                       674   \n",
       "\n",
       "      CH4 chem loss other strat [Tg/yr]  CH4 loss soil [Tg/yr]  \\\n",
       "CTRL                               20.7                   31.1   \n",
       "\n",
       "      CH4 total loss [Tg/yr]  CH4 lifetime due to OH (whole atmosphere) [yrs]  \\\n",
       "CTRL                     726                                             7.38   \n",
       "\n",
       "      Total CH4 lifetime [yrs]  Feedback factor  Perturbation lifetime  \n",
       "CTRL                      6.85             1.46                   10.0  "
      ]
     },
     "execution_count": 10,
     "metadata": {},
     "output_type": "execute_result"
    }
   ],
   "source": [
    "filepath= r\"./output/\"\n",
    "df_budget = pd.read_csv(filepath+'table_budget_ch4.csv',index_col=0)\n",
    "\n",
    "df_feedback = pd.read_csv(filepath+'feedback_factor_ch4.csv',index_col=0)\n",
    "df_feedback.columns = ['Feedback factor']\n",
    "\n",
    "\n",
    "df_budget = pd.concat([df_budget,df_feedback],sort=False,axis=1)\n",
    "df_budget['Perturbation lifetime'] = df_budget['Total CH4 lifetime [yrs]']* df_budget['Feedback factor']\n",
    "\n",
    "#df_budget.rename(model_dict, inplace=True)\n",
    "\n",
    "#df_budget.loc['Model mean'] = df_budget.drop(['GFDL-emi','OsloCTM-emi']).mean()\n",
    "\n",
    "#df_budget = df_budget.reindex(sorted_array)\n",
    "df_budget"
   ]
  },
  {
   "cell_type": "markdown",
   "metadata": {},
   "source": [
    "Add numbers from Prather et al 2012"
   ]
  },
  {
   "cell_type": "markdown",
   "metadata": {},
   "source": [
    "df_budget.loc['Prather et al. 2012'] = np.nan\n",
    "scale_frac = 5000./4932. \n",
    "\n",
    "df_budget.loc['Prather et al. 2012']['Total CH4 lifetime [yrs]'] = 9.1\n",
    "df_budget.loc['Prather et al. 2012']['CH4 surface conc. [ppbv]'] =1795. *scale_frac\n",
    "df_budget.loc['Prather et al. 2012']['CH4 burden [Tg]'] = 4932.*scale_frac\n",
    "df_budget.loc['Prather et al. 2012']['CH4 total loss [Tg/yr]'] = 540.*scale_frac\n",
    "df_budget.loc['Prather et al. 2012']['CH4 lifetime due to OH [yrs]'] =1./0.0895\n",
    "\n",
    "df_budget.loc['Prather et al. 2012']['Feedback factor'] =1/(1-0.32)\n",
    "\n",
    "print(df_budget.loc['Prather et al. 2012']['CH4 burden [Tg]']/df_budget.loc['Prather et al. 2012']['CH4 total loss [Tg/yr]']) \n",
    "df_budget"
   ]
  },
  {
   "cell_type": "code",
   "execution_count": null,
   "metadata": {},
   "outputs": [],
   "source": []
  }
 ],
 "metadata": {
  "kernelspec": {
   "display_name": "Python 3",
   "language": "python",
   "name": "python3"
  },
  "language_info": {
   "codemirror_mode": {
    "name": "ipython",
    "version": 3
   },
   "file_extension": ".py",
   "mimetype": "text/x-python",
   "name": "python",
   "nbconvert_exporter": "python",
   "pygments_lexer": "ipython3",
   "version": "3.7.0"
  }
 },
 "nbformat": 4,
 "nbformat_minor": 2
}
