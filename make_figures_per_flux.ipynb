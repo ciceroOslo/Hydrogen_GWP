{
 "cells": [
  {
   "cell_type": "markdown",
   "metadata": {},
   "source": [
    "# Make figures"
   ]
  },
  {
   "cell_type": "markdown",
   "metadata": {},
   "source": [
    "To run this notebook, the GWP notebook must first be run (for the base case, and adjust drydep to 80 and 50 Tg/yr)"
   ]
  },
  {
   "cell_type": "code",
   "execution_count": 1,
   "metadata": {},
   "outputs": [],
   "source": [
    "import numpy as np\n",
    "import pandas as pd\n",
    "import matplotlib.pyplot as plt\n",
    "\n",
    "pd.set_option('display.float_format', lambda x: '{:,.3f}'.format(x) if abs(x)<0 else ('{:,.2f}'.format(x) if abs(x)<10 else ('{:,.1f}'.format(x) if abs(x)<100 else '{:,.0f}'.format(x))))\n",
    "\n",
    "default_size = 20\n",
    "plt.rc('font', size=default_size)\n",
    "plt.rc('axes', titlesize=default_size)     # fontsize of the axes title\n",
    "plt.rc('axes', labelsize=default_size)    # fontsize of the x and y labels\n",
    "plt.rc('xtick', labelsize=default_size)    # fontsize of the tick labels\n",
    "plt.rc('ytick', labelsize=default_size)    # fontsize of the tick labels\n",
    "plt.rc('legend', fontsize=default_size)    # legend fontsize\n",
    "plt.rc('figure', titlesize=default_size)\n",
    "\n",
    "colorlist = ['C1','C2','C3','C4','C5','C6']\n",
    "\n",
    "color_h2 = 'lightblue'\n",
    "color_ch4 = 'lightseagreen'\n",
    "color_h2o = 'darkviolet'\n",
    "color_o3 = 'gold'\n",
    "\n",
    "model_dict = { 'OSLOCTM3':'OsloCTM3',\n",
    "               'WACCM6-2deg':'WACCM',\n",
    "               'INCA':'INCA',\n",
    "               'GFDL-emi':'GFDL'}"
   ]
  },
  {
   "cell_type": "code",
   "execution_count": 2,
   "metadata": {},
   "outputs": [
    {
     "data": {
      "text/html": [
       "<div>\n",
       "<style scoped>\n",
       "    .dataframe tbody tr th:only-of-type {\n",
       "        vertical-align: middle;\n",
       "    }\n",
       "\n",
       "    .dataframe tbody tr th {\n",
       "        vertical-align: top;\n",
       "    }\n",
       "\n",
       "    .dataframe thead th {\n",
       "        text-align: right;\n",
       "    }\n",
       "</style>\n",
       "<table border=\"1\" class=\"dataframe\">\n",
       "  <thead>\n",
       "    <tr style=\"text-align: right;\">\n",
       "      <th></th>\n",
       "      <th>deltaH2</th>\n",
       "      <th>surf_h2_per_h2_flux</th>\n",
       "      <th>surf_ch4_per_h2_flux</th>\n",
       "      <th>ch4_flux_per_h2_flux</th>\n",
       "      <th>ch4_rf_per_h2_flux</th>\n",
       "      <th>trop_du_ozone_per_h2_flux</th>\n",
       "      <th>strat_du_ozone_per_h2_flux</th>\n",
       "      <th>strat_du_6060_ozone_per_h2_flux</th>\n",
       "      <th>strat_du_gt60_ozone_per_h2_flux</th>\n",
       "      <th>ozone_rf_per_h2_flux</th>\n",
       "      <th>h2o_rf_per_h2_flux</th>\n",
       "    </tr>\n",
       "  </thead>\n",
       "  <tbody>\n",
       "    <tr>\n",
       "      <th>OsloCTM3</th>\n",
       "      <td>8.54</td>\n",
       "      <td>6.23</td>\n",
       "      <td>1.08</td>\n",
       "      <td>0.31</td>\n",
       "      <td>0.48</td>\n",
       "      <td>0.00</td>\n",
       "      <td>-0.00</td>\n",
       "      <td>0.00</td>\n",
       "      <td>0.00</td>\n",
       "      <td>0.22</td>\n",
       "      <td>0.17</td>\n",
       "    </tr>\n",
       "    <tr>\n",
       "      <th>WACCM</th>\n",
       "      <td>9.93</td>\n",
       "      <td>5.36</td>\n",
       "      <td>1.14</td>\n",
       "      <td>0.33</td>\n",
       "      <td>0.50</td>\n",
       "      <td>0.00</td>\n",
       "      <td>0.00</td>\n",
       "      <td>0.00</td>\n",
       "      <td>0.00</td>\n",
       "      <td>0.17</td>\n",
       "      <td>0.02</td>\n",
       "    </tr>\n",
       "    <tr>\n",
       "      <th>INCA</th>\n",
       "      <td>7.19</td>\n",
       "      <td>7.39</td>\n",
       "      <td>1.17</td>\n",
       "      <td>0.29</td>\n",
       "      <td>0.52</td>\n",
       "      <td>0.00</td>\n",
       "      <td>-0.00</td>\n",
       "      <td>-0.00</td>\n",
       "      <td>-0.00</td>\n",
       "      <td>0.16</td>\n",
       "      <td>0.06</td>\n",
       "    </tr>\n",
       "    <tr>\n",
       "      <th>GFDL</th>\n",
       "      <td>196</td>\n",
       "      <td>6.86</td>\n",
       "      <td>1.00</td>\n",
       "      <td>0.23</td>\n",
       "      <td>0.44</td>\n",
       "      <td>0.00</td>\n",
       "      <td>-0.00</td>\n",
       "      <td>-0.00</td>\n",
       "      <td>-0.00</td>\n",
       "      <td>0.17</td>\n",
       "      <td>0.14</td>\n",
       "    </tr>\n",
       "  </tbody>\n",
       "</table>\n",
       "</div>"
      ],
      "text/plain": [
       "          deltaH2  surf_h2_per_h2_flux  surf_ch4_per_h2_flux  \\\n",
       "OsloCTM3     8.54                 6.23                  1.08   \n",
       "WACCM        9.93                 5.36                  1.14   \n",
       "INCA         7.19                 7.39                  1.17   \n",
       "GFDL          196                 6.86                  1.00   \n",
       "\n",
       "          ch4_flux_per_h2_flux  ch4_rf_per_h2_flux  trop_du_ozone_per_h2_flux  \\\n",
       "OsloCTM3                  0.31                0.48                       0.00   \n",
       "WACCM                     0.33                0.50                       0.00   \n",
       "INCA                      0.29                0.52                       0.00   \n",
       "GFDL                      0.23                0.44                       0.00   \n",
       "\n",
       "          strat_du_ozone_per_h2_flux  strat_du_6060_ozone_per_h2_flux  \\\n",
       "OsloCTM3                       -0.00                             0.00   \n",
       "WACCM                           0.00                             0.00   \n",
       "INCA                           -0.00                            -0.00   \n",
       "GFDL                           -0.00                            -0.00   \n",
       "\n",
       "          strat_du_gt60_ozone_per_h2_flux  ozone_rf_per_h2_flux  \\\n",
       "OsloCTM3                             0.00                  0.22   \n",
       "WACCM                                0.00                  0.17   \n",
       "INCA                                -0.00                  0.16   \n",
       "GFDL                                -0.00                  0.17   \n",
       "\n",
       "          h2o_rf_per_h2_flux  \n",
       "OsloCTM3                0.17  \n",
       "WACCM                   0.02  \n",
       "INCA                    0.06  \n",
       "GFDL                    0.14  "
      ]
     },
     "execution_count": 2,
     "metadata": {},
     "output_type": "execute_result"
    }
   ],
   "source": [
    "filepath= r\"./output/\"\n",
    "df_drydep80_table_per_flux = pd.read_csv(filepath+'drydep_80_table_per_flux_h2.csv',index_col=0)\n",
    "df_drydep80_table_per_flux.rename(model_dict, inplace=True)\n",
    "df_drydep50_table_per_flux = pd.read_csv(filepath+'drydep_50_table_per_flux_h2.csv',index_col=0)\n",
    "df_drydep50_table_per_flux.rename(model_dict, inplace=True)\n",
    "df_table_per_flux = pd.read_csv(filepath+'table_per_flux_h2.csv',index_col=0)\n",
    "#Making modellist with shorter names\n",
    "df_table_per_flux.rename(model_dict, inplace=True)\n",
    "modellist = df_table_per_flux.index\n",
    "df_table_per_flux"
   ]
  },
  {
   "cell_type": "markdown",
   "metadata": {},
   "source": [
    "## Surface H2 concentration by 1 Tg H2/yr"
   ]
  },
  {
   "cell_type": "code",
   "execution_count": 3,
   "metadata": {},
   "outputs": [],
   "source": [
    "tittel = 'Surface H$_2$ per H$_2$ flux'\n",
    "ytittel ='[ppb H2/(Tg H2 yr-1)]'\n",
    "field = 'surf_h2_per_h2_flux'\n",
    "legend = False #False"
   ]
  },
  {
   "cell_type": "code",
   "execution_count": 4,
   "metadata": {},
   "outputs": [
    {
     "data": {
      "text/plain": [
       "OsloCTM3   6.23\n",
       "WACCM      5.36\n",
       "INCA       7.39\n",
       "GFDL       6.86\n",
       "Name: surf_h2_per_h2_flux, dtype: float64"
      ]
     },
     "execution_count": 4,
     "metadata": {},
     "output_type": "execute_result"
    }
   ],
   "source": [
    "plot_values = df_table_per_flux[field]\n",
    "plot_values_max_dry = df_drydep80_table_per_flux[field]\n",
    "plot_values_min_dry = df_drydep50_table_per_flux[field]\n",
    "\n",
    "plot_values"
   ]
  },
  {
   "cell_type": "code",
   "execution_count": 5,
   "metadata": {},
   "outputs": [
    {
     "data": {
      "image/png": "[encoded data removed]",
      "text/plain": [
       "<Figure size 432x288 with 1 Axes>"
      ]
     },
     "metadata": {
      "needs_background": "light"
     },
     "output_type": "display_data"
    }
   ],
   "source": [
    "plt.figure(figsize=(6,4))\n",
    "for m,model in enumerate(plot_values.index):\n",
    "\n",
    "    plt.bar(m,plot_values.loc[model],edgecolor='black',color=color_h2,label=model)\n",
    "    plt.plot([m,m],[plot_values_max_dry.loc[model],plot_values_min_dry.loc[model]],color='k')\n",
    "    plt.plot(m,plot_values_max_dry.loc[model],marker='^',color='black')\n",
    "    plt.plot(m,plot_values_min_dry.loc[model],marker='v',color='black')\n",
    "    \n",
    "ax=plt.gca()\n",
    "\n",
    "ax.spines['right'].set_visible(False)\n",
    "ax.spines['top'].set_visible(False)\n",
    "\n",
    "plt.title(tittel)\n",
    "plt.ylabel(ytittel)\n",
    "if legend:\n",
    "    plt.legend()\n",
    "#plt.tick_params(labelbottom = False, bottom = False)\n",
    "ax.set_xticks(np.arange(0,len(plot_values.index)))\n",
    "ax.set_xticklabels(modellist, rotation=0)\n",
    "plt.tight_layout()\n",
    "plt.savefig('output/Surface_H2_per_H2_flux.png', transparent=True)"
   ]
  },
  {
   "cell_type": "markdown",
   "metadata": {},
   "source": [
    "## Methane flux by 1 Tg H2/yr"
   ]
  },
  {
   "cell_type": "code",
   "execution_count": 6,
   "metadata": {},
   "outputs": [],
   "source": [
    "tittel = 'Methane flux per H$_2$ flux'\n",
    "ytittel ='[Tg CH4/Tg H2]'\n",
    "field = 'ch4_flux_per_h2_flux'\n",
    "legend = False #False"
   ]
  },
  {
   "cell_type": "code",
   "execution_count": 7,
   "metadata": {},
   "outputs": [],
   "source": [
    "plot_values = df_table_per_flux[field]\n",
    "plot_values_max_dry = df_drydep80_table_per_flux[field]\n",
    "plot_values_min_dry = df_drydep50_table_per_flux[field]"
   ]
  },
  {
   "cell_type": "code",
   "execution_count": 8,
   "metadata": {},
   "outputs": [
    {
     "data": {
      "image/png": "[encoded data removed]",
      "text/plain": [
       "<Figure size 432x288 with 1 Axes>"
      ]
     },
     "metadata": {
      "needs_background": "light"
     },
     "output_type": "display_data"
    }
   ],
   "source": [
    "plt.figure(figsize=(6,4))\n",
    "for m,model in enumerate(plot_values.index):\n",
    "    \n",
    "    plt.bar(m,plot_values.loc[model],edgecolor='black',color=color_ch4,label=model)\n",
    "    plt.plot([m,m],[plot_values_max_dry.loc[model],plot_values_min_dry.loc[model]],color='k')\n",
    "    plt.plot(m,plot_values_max_dry.loc[model],marker='^',color='black')\n",
    "    plt.plot(m,plot_values_min_dry.loc[model],marker='v',color='black')\n",
    "    \n",
    "ax=plt.gca()\n",
    "\n",
    "ax.spines['right'].set_visible(False)\n",
    "ax.spines['top'].set_visible(False)\n",
    "\n",
    "plt.title(tittel)\n",
    "plt.ylabel(ytittel)\n",
    "if legend:\n",
    "    plt.legend()\n",
    "ax.set_xticks(np.arange(0,len(plot_values.index)))\n",
    "ax.set_xticklabels(modellist, rotation=0)\n",
    "plt.tight_layout()\n",
    "plt.savefig('output/CH4_flux_per_H2_flux.png', transparent=True)"
   ]
  },
  {
   "cell_type": "markdown",
   "metadata": {},
   "source": [
    "## Methane RF per flux"
   ]
  },
  {
   "cell_type": "code",
   "execution_count": 9,
   "metadata": {},
   "outputs": [],
   "source": [
    "tittel = 'Methane RF per H$_2$ flux'\n",
    "ytittel ='[mW m-2/(Tg H2 yr$^{-1}$)]'\n",
    "field = 'ch4_rf_per_h2_flux'\n",
    "legend = False\n"
   ]
  },
  {
   "cell_type": "code",
   "execution_count": 10,
   "metadata": {},
   "outputs": [],
   "source": [
    "plot_values = df_table_per_flux[field]\n",
    "plot_values_max_dry = df_drydep80_table_per_flux[field]\n",
    "plot_values_min_dry = df_drydep50_table_per_flux[field]"
   ]
  },
  {
   "cell_type": "code",
   "execution_count": 11,
   "metadata": {
    "scrolled": true
   },
   "outputs": [
    {
     "data": {
      "image/png": "[encoded data removed]",
      "text/plain": [
       "<Figure size 432x288 with 1 Axes>"
      ]
     },
     "metadata": {
      "needs_background": "light"
     },
     "output_type": "display_data"
    }
   ],
   "source": [
    "plt.figure(figsize=(6,4))\n",
    "for m,model in enumerate(plot_values.index):\n",
    "\n",
    "    plt.bar(m,plot_values.loc[model],edgecolor='black',color=color_ch4,label=model)\n",
    "    plt.plot([m,m],[plot_values_max_dry.loc[model],plot_values_min_dry.loc[model]],color='k')\n",
    "    plt.plot(m,plot_values_max_dry.loc[model],marker='^',color='black')\n",
    "    plt.plot(m,plot_values_min_dry.loc[model],marker='v',color='black')\n",
    "    \n",
    "ax=plt.gca()\n",
    "\n",
    "ax.spines['right'].set_visible(False)\n",
    "ax.spines['top'].set_visible(False)\n",
    "\n",
    "plt.title(tittel)\n",
    "plt.ylabel(ytittel)\n",
    "if legend:\n",
    "    plt.legend()\n",
    "ax.set_xticks(np.arange(0,len(plot_values.index)))\n",
    "ax.set_xticklabels(modellist, rotation=0)\n",
    "plt.tight_layout()\n",
    "plt.savefig('output/CH4_RF_per_H2_flux.png', transparent=True)"
   ]
  },
  {
   "cell_type": "markdown",
   "metadata": {},
   "source": [
    "## Tropospheric ozone by H2 flux"
   ]
  },
  {
   "cell_type": "code",
   "execution_count": 12,
   "metadata": {},
   "outputs": [],
   "source": [
    "tittel = 'Tropospheric ozone per H$_2$ flux'\n",
    "ytittel ='[DU /(Tg H2 yr-1)]'\n",
    "field = 'trop_du_ozone_per_h2_flux'\n",
    "legend = False"
   ]
  },
  {
   "cell_type": "markdown",
   "metadata": {},
   "source": [
    "For the following figures, add the methane induced effect"
   ]
  },
  {
   "cell_type": "code",
   "execution_count": 13,
   "metadata": {},
   "outputs": [],
   "source": [
    "#Indirect effect via Methane.\n",
    "df_drydep80_table_per_flux_ch4 = pd.read_csv(filepath+'drydep_80_table_per_flux_ch4.csv',index_col=0)\n",
    "df_drydep80_table_per_flux_ch4.rename(model_dict, inplace=True)\n",
    "df_drydep50_table_per_flux_ch4 = pd.read_csv(filepath+'drydep_50_table_per_flux_ch4.csv',index_col=0)\n",
    "df_drydep50_table_per_flux_ch4.rename(model_dict, inplace=True)\n",
    "df_table_per_flux_ch4 = pd.read_csv(filepath+'table_per_flux_ch4.csv',index_col=0)\n",
    "df_table_per_flux_ch4.rename(model_dict, inplace=True)"
   ]
  },
  {
   "cell_type": "code",
   "execution_count": 14,
   "metadata": {},
   "outputs": [
    {
     "name": "stdout",
     "output_type": "stream",
     "text": [
      "trop_du_ozone_per_h2_flux\n",
      "trop_du_ozone_per_ch4_flux\n"
     ]
    }
   ],
   "source": [
    "field_ch4 = field.replace('h2_','ch4_')\n",
    "print(field)\n",
    "print(field_ch4)"
   ]
  },
  {
   "cell_type": "code",
   "execution_count": 15,
   "metadata": {},
   "outputs": [
    {
     "data": {
      "text/plain": [
       "OsloCTM3   0.00\n",
       "WACCM      0.00\n",
       "INCA       0.00\n",
       "GFDL       0.00\n",
       "Name: trop_du_ozone_per_h2_flux, dtype: float64"
      ]
     },
     "execution_count": 15,
     "metadata": {},
     "output_type": "execute_result"
    }
   ],
   "source": [
    "#Direct effect:\n",
    "plot_values = df_table_per_flux[field]\n",
    "plot_values_max_dry = df_drydep80_table_per_flux[field]\n",
    "plot_values_min_dry = df_drydep50_table_per_flux[field]\n",
    "plot_values\n",
    "#print(plot_values_max_dry)\n",
    "#print(plot_values_min_dry)"
   ]
  },
  {
   "cell_type": "code",
   "execution_count": 16,
   "metadata": {},
   "outputs": [],
   "source": [
    "#Indirect effect:\n",
    "plot_values_ch4 = df_table_per_flux_ch4[field_ch4]*df_table_per_flux['ch4_flux_per_h2_flux']\n",
    "plot_values_max_dry_ch4 = df_drydep80_table_per_flux_ch4[field_ch4]*df_drydep80_table_per_flux['ch4_flux_per_h2_flux']\n",
    "plot_values_min_dry_ch4 = df_drydep50_table_per_flux_ch4[field_ch4]*df_drydep50_table_per_flux['ch4_flux_per_h2_flux']\n"
   ]
  },
  {
   "cell_type": "code",
   "execution_count": 17,
   "metadata": {},
   "outputs": [],
   "source": [
    "#Add GFDL numbers:\n",
    "inputpath = r\"./input/\"\n",
    "file = 'ozone_du_trop.txt'\n",
    "df_ozone_du_trop = pd.read_csv(inputpath+file, sep=';',index_col=0,header=0)\n",
    "df_ozone_du_trop.index.name = None\n",
    "df_ozone_du_trop.rename(columns=model_dict, inplace=True)\n",
    "\n",
    "#This should be tropospheric ozone [DU] in H2+CH4 minus H2. \n",
    "plot_values_ch4['GFDL'] = df_ozone_du_trop['GFDL'].loc['10CH4']/df_table_per_flux['deltaH2'].loc['GFDL']\n",
    "plot_values_max_dry_ch4['GFDL'] = df_ozone_du_trop['GFDL'].loc['10CH4']/df_drydep80_table_per_flux['deltaH2'].loc['GFDL']\n",
    "plot_values_min_dry_ch4['GFDL'] = df_ozone_du_trop['GFDL'].loc['10CH4']/df_drydep50_table_per_flux['deltaH2'].loc['GFDL']\n",
    "\n",
    "\n"
   ]
  },
  {
   "cell_type": "code",
   "execution_count": 18,
   "metadata": {
    "scrolled": true
   },
   "outputs": [
    {
     "data": {
      "image/png": "[encoded data removed]",
      "text/plain": [
       "<Figure size 432x288 with 1 Axes>"
      ]
     },
     "metadata": {
      "needs_background": "light"
     },
     "output_type": "display_data"
    }
   ],
   "source": [
    "plt.figure(figsize=(6,4))\n",
    "for m,model in enumerate(plot_values.index):\n",
    "    plt.bar(m,plot_values.loc[model]+plot_values_ch4.loc[model],edgecolor=color_o3,color=color_o3,label=model)\n",
    "    plt.bar(m,plot_values.loc[model],edgecolor='black',fill=False,color=colorlist[m])\n",
    "    if(plot_values.loc[model]<0 and plot_values_ch4.loc[model]>0):\n",
    "        plt.bar(m,plot_values_ch4.loc[model],bottom=0.0,fill=False,edgecolor='black',hatch='/')\n",
    "    else:\n",
    "        plt.bar(m,plot_values_ch4.loc[model],bottom=plot_values.loc[model],fill=False,edgecolor='black',hatch='/')\n",
    "\n",
    "    plt.plot(m,plot_values_max_dry.loc[model]+plot_values_max_dry_ch4.loc[model],marker='^',color='black')\n",
    "    plt.plot(m,plot_values_min_dry.loc[model]+plot_values_min_dry_ch4.loc[model],marker='v',color='black')\n",
    "    \n",
    "    plt.plot([m,m],[plot_values_max_dry.loc[model]+plot_values_max_dry_ch4.loc[model],plot_values_min_dry.loc[model]+plot_values_min_dry_ch4.loc[model]],color='k')\n",
    "\n",
    "plt.axhline(y=0, color='black',linewidth=0.5,zorder=-10)    \n",
    "    \n",
    "ax=plt.gca()\n",
    "\n",
    "ax.spines['right'].set_visible(False)\n",
    "ax.spines['top'].set_visible(False)\n",
    "\n",
    "plt.title(tittel)\n",
    "plt.ylabel(ytittel)\n",
    "if legend:\n",
    "    plt.legend()\n",
    "ax.set_xticks(np.arange(0,len(plot_values.index)))\n",
    "ax.set_xticklabels(modellist, rotation=0)\n",
    "plt.tight_layout()\n",
    "plt.savefig('output/Trop_Ozone_RF_per_H2_flux.png', transparent=True)"
   ]
  },
  {
   "cell_type": "markdown",
   "metadata": {},
   "source": [
    "## Stratospheric ozone by H2 flux"
   ]
  },
  {
   "cell_type": "code",
   "execution_count": 19,
   "metadata": {},
   "outputs": [],
   "source": [
    "tittel = 'Stratospheric ozone per H$_2$ flux'\n",
    "ytittel ='[DU /(Tg H2 yr-1)]'\n",
    "field = 'strat_du_ozone_per_h2_flux'\n",
    "legend = False #False"
   ]
  },
  {
   "cell_type": "code",
   "execution_count": 20,
   "metadata": {},
   "outputs": [],
   "source": [
    "field_ch4 = field.replace('h2_','ch4_')"
   ]
  },
  {
   "cell_type": "code",
   "execution_count": 21,
   "metadata": {},
   "outputs": [],
   "source": [
    "#Direct effect:\n",
    "plot_values = df_table_per_flux[field]\n",
    "plot_values_max_dry = df_drydep80_table_per_flux[field]\n",
    "plot_values_min_dry = df_drydep50_table_per_flux[field]"
   ]
  },
  {
   "cell_type": "code",
   "execution_count": 22,
   "metadata": {},
   "outputs": [],
   "source": [
    "#Indirect effect:\n",
    "plot_values_ch4 = df_table_per_flux_ch4[field_ch4]*df_table_per_flux['ch4_flux_per_h2_flux']\n",
    "plot_values_max_dry_ch4 = df_drydep80_table_per_flux_ch4[field_ch4]*df_drydep80_table_per_flux['ch4_flux_per_h2_flux']\n",
    "plot_values_min_dry_ch4 = df_drydep50_table_per_flux_ch4[field_ch4]*df_drydep50_table_per_flux['ch4_flux_per_h2_flux']\n"
   ]
  },
  {
   "cell_type": "code",
   "execution_count": 23,
   "metadata": {},
   "outputs": [],
   "source": [
    "#Add GFDL numbers:\n",
    "inputpath = r\"./input/\"\n",
    "file = 'ozone_du_strat.txt'\n",
    "df_ozone_du_strat = pd.read_csv(inputpath+file, sep=';',index_col=0,header=0)\n",
    "df_ozone_du_strat.index.name = None\n",
    "df_ozone_du_strat.rename(columns=model_dict, inplace=True)\n",
    "#This should be stratospheric ozone [DU] in H2+CH4 minus H2. \n",
    "plot_values_ch4['GFDL'] = df_ozone_du_strat['GFDL'].loc['10CH4']/df_table_per_flux['deltaH2'].loc['GFDL']\n",
    "plot_values_max_dry_ch4['GFDL'] = df_ozone_du_strat['GFDL'].loc['10CH4']/df_drydep80_table_per_flux['deltaH2'].loc['GFDL']\n",
    "plot_values_min_dry_ch4['GFDL'] = df_ozone_du_strat['GFDL'].loc['10CH4']/df_drydep50_table_per_flux['deltaH2'].loc['GFDL']\n",
    "\n"
   ]
  },
  {
   "cell_type": "code",
   "execution_count": 24,
   "metadata": {},
   "outputs": [
    {
     "data": {
      "image/png": "[encoded data removed]",
      "text/plain": [
       "<Figure size 432x288 with 1 Axes>"
      ]
     },
     "metadata": {
      "needs_background": "light"
     },
     "output_type": "display_data"
    }
   ],
   "source": [
    "plt.figure(figsize=(6,4))\n",
    "for m,model in enumerate(plot_values.index):\n",
    "    \n",
    "    plt.bar(m,plot_values.loc[model]+plot_values_ch4.loc[model],edgecolor=color_o3,color=color_o3,label=model)\n",
    "    plt.bar(m,plot_values.loc[model],edgecolor='black',fill=False,color=colorlist[m])\n",
    "    if(plot_values.loc[model]<0 and plot_values_ch4.loc[model]>0):\n",
    "        plt.bar(m,plot_values_ch4.loc[model],bottom=0.0,fill=False,edgecolor='black',hatch='/')\n",
    "    else:\n",
    "        plt.bar(m,plot_values_ch4.loc[model],bottom=plot_values.loc[model],fill=False,edgecolor='black',hatch='/')\n",
    "\n",
    "    plt.plot(m,plot_values_max_dry.loc[model]+plot_values_max_dry_ch4.loc[model],marker='^',color='black')\n",
    "    plt.plot(m,plot_values_min_dry.loc[model]+plot_values_min_dry_ch4.loc[model],marker='v',color='black')\n",
    "    \n",
    "    plt.plot([m,m],[plot_values_max_dry.loc[model]+plot_values_max_dry_ch4.loc[model],plot_values_min_dry.loc[model]+plot_values_min_dry_ch4.loc[model]],color='k')\n",
    "\n",
    "plt.axhline(y=0, color='black',linewidth=0.5,zorder=-10)    \n",
    "    \n",
    "ax=plt.gca()\n",
    "\n",
    "ax.spines['right'].set_visible(False)\n",
    "ax.spines['top'].set_visible(False)\n",
    "\n",
    "plt.title(tittel)\n",
    "plt.ylabel(ytittel)\n",
    "if legend:\n",
    "    plt.legend()\n",
    "ax.set_xticks(np.arange(0,len(plot_values.index)))\n",
    "ax.set_xticklabels(modellist, rotation=0)\n",
    "plt.tight_layout()\n",
    "plt.savefig('output/Strat_Ozone_RF_per_H2_flux.png', transparent=True)"
   ]
  },
  {
   "cell_type": "markdown",
   "metadata": {},
   "source": [
    "## Stratospheric ozone 60S to 60N by H2 flux"
   ]
  },
  {
   "cell_type": "code",
   "execution_count": 25,
   "metadata": {},
   "outputs": [],
   "source": [
    "tittel = 'Stratospheric ozone per H$_2$ flux 60S to 60N'\n",
    "ytittel ='[DU /(Tg H2 yr-1)]'\n",
    "field = 'strat_du_6060_ozone_per_h2_flux'\n",
    "legend = False #False"
   ]
  },
  {
   "cell_type": "code",
   "execution_count": 26,
   "metadata": {},
   "outputs": [],
   "source": [
    "field_ch4 = field.replace('h2_','ch4_')"
   ]
  },
  {
   "cell_type": "code",
   "execution_count": 27,
   "metadata": {},
   "outputs": [],
   "source": [
    "#Direct effect:\n",
    "plot_values = df_table_per_flux[field]\n",
    "plot_values_max_dry = df_drydep80_table_per_flux[field]\n",
    "plot_values_min_dry = df_drydep50_table_per_flux[field]"
   ]
  },
  {
   "cell_type": "code",
   "execution_count": 28,
   "metadata": {},
   "outputs": [],
   "source": [
    "#Indirect effect:\n",
    "plot_values_ch4 = df_table_per_flux_ch4[field_ch4]*df_table_per_flux['ch4_flux_per_h2_flux']\n",
    "plot_values_max_dry_ch4 = df_drydep80_table_per_flux_ch4[field_ch4]*df_drydep80_table_per_flux['ch4_flux_per_h2_flux']\n",
    "plot_values_min_dry_ch4 = df_drydep50_table_per_flux_ch4[field_ch4]*df_drydep50_table_per_flux['ch4_flux_per_h2_flux']\n"
   ]
  },
  {
   "cell_type": "code",
   "execution_count": 29,
   "metadata": {},
   "outputs": [],
   "source": [
    "#Add GFDL numbers:\n",
    "inputpath = r\"./input/\"\n",
    "file = 'ozone_du_strat_6060.txt'\n",
    "df_ozone_du_strat_6060 = pd.read_csv(inputpath+file, sep=';',index_col=0,header=0)\n",
    "df_ozone_du_strat_6060.index.name = None\n",
    "df_ozone_du_strat_6060.rename(columns=model_dict, inplace=True)\n",
    "#This should be stratospheric ozone [DU] in H2+CH4 minus H2. \n",
    "plot_values_ch4['GFDL'] = df_ozone_du_strat_6060['GFDL'].loc['10CH4']/df_table_per_flux['deltaH2'].loc['GFDL']\n",
    "plot_values_max_dry_ch4['GFDL'] = df_ozone_du_strat_6060['GFDL'].loc['10CH4']/df_drydep80_table_per_flux['deltaH2'].loc['GFDL']\n",
    "plot_values_min_dry_ch4['GFDL'] = df_ozone_du_strat_6060['GFDL'].loc['10CH4']/df_drydep50_table_per_flux['deltaH2'].loc['GFDL']\n"
   ]
  },
  {
   "cell_type": "code",
   "execution_count": 30,
   "metadata": {},
   "outputs": [
    {
     "data": {
      "image/png": "[encoded data removed]",
      "text/plain": [
       "<Figure size 432x288 with 1 Axes>"
      ]
     },
     "metadata": {
      "needs_background": "light"
     },
     "output_type": "display_data"
    }
   ],
   "source": [
    "plt.figure(figsize=(6,4))\n",
    "for m,model in enumerate(plot_values.index):\n",
    "    \n",
    "    plt.bar(m,plot_values.loc[model]+plot_values_ch4.loc[model],edgecolor=color_o3,color=color_o3,label=model)\n",
    "    plt.bar(m,plot_values.loc[model],edgecolor='black',fill=False,color=colorlist[m])\n",
    "    if(plot_values.loc[model]<0 and plot_values_ch4.loc[model]>0):\n",
    "        plt.bar(m,plot_values_ch4.loc[model],bottom=0.0,fill=False,edgecolor='black',hatch='/')\n",
    "    else:\n",
    "        plt.bar(m,plot_values_ch4.loc[model],bottom=plot_values.loc[model],fill=False,edgecolor='black',hatch='/')\n",
    "\n",
    "    plt.plot(m,plot_values_max_dry.loc[model]+plot_values_max_dry_ch4.loc[model],marker='^',color='black')\n",
    "    plt.plot(m,plot_values_min_dry.loc[model]+plot_values_min_dry_ch4.loc[model],marker='v',color='black')\n",
    "    \n",
    "    plt.plot([m,m],[plot_values_max_dry.loc[model]+plot_values_max_dry_ch4.loc[model],plot_values_min_dry.loc[model]+plot_values_min_dry_ch4.loc[model]],color='k')\n",
    "\n",
    "plt.axhline(y=0, color='black',linewidth=0.5,zorder=-10)    \n",
    "    \n",
    "ax=plt.gca()\n",
    "\n",
    "ax.spines['right'].set_visible(False)\n",
    "ax.spines['top'].set_visible(False)\n",
    "\n",
    "plt.title(tittel)\n",
    "plt.ylabel(ytittel)\n",
    "if legend:\n",
    "    plt.legend()\n",
    "ax.set_xticks(np.arange(0,len(plot_values.index)))\n",
    "ax.set_xticklabels(modellist, rotation=0)\n",
    "plt.tight_layout()\n",
    "plt.savefig('output/Strat_H2O_RF_per_H2_flux.png', transparent=True)\n",
    "plt.savefig('output/Strat_Ozone_RF_per_H2_flux_from_60S_to_60N.png', transparent=True)"
   ]
  },
  {
   "cell_type": "markdown",
   "metadata": {},
   "source": [
    "### Stratospheric ozone <60S and >60N by H2 flux"
   ]
  },
  {
   "cell_type": "code",
   "execution_count": 31,
   "metadata": {},
   "outputs": [],
   "source": [
    "tittel = 'Stratospheric ozone per H$_2$ flux <60S and >60N'\n",
    "ytittel ='[DU /(Tg H2 yr-1)]'\n",
    "field = 'strat_du_gt60_ozone_per_h2_flux'\n",
    "legend = False #False"
   ]
  },
  {
   "cell_type": "code",
   "execution_count": 32,
   "metadata": {},
   "outputs": [],
   "source": [
    "field_ch4 = field.replace('h2_','ch4_')"
   ]
  },
  {
   "cell_type": "code",
   "execution_count": 33,
   "metadata": {},
   "outputs": [],
   "source": [
    "#Direct effect:\n",
    "plot_values = df_table_per_flux[field]\n",
    "plot_values_max_dry = df_drydep80_table_per_flux[field]\n",
    "plot_values_min_dry = df_drydep50_table_per_flux[field]"
   ]
  },
  {
   "cell_type": "code",
   "execution_count": 34,
   "metadata": {},
   "outputs": [],
   "source": [
    "#Indirect effect:\n",
    "plot_values_ch4 = df_table_per_flux_ch4[field_ch4]*df_table_per_flux['ch4_flux_per_h2_flux']\n",
    "plot_values_max_dry_ch4 = df_drydep80_table_per_flux_ch4[field_ch4]*df_drydep80_table_per_flux['ch4_flux_per_h2_flux']\n",
    "plot_values_min_dry_ch4 = df_drydep50_table_per_flux_ch4[field_ch4]*df_drydep50_table_per_flux['ch4_flux_per_h2_flux']\n"
   ]
  },
  {
   "cell_type": "code",
   "execution_count": 35,
   "metadata": {},
   "outputs": [],
   "source": [
    "#Add GFDL numbers:\n",
    "inputpath = r\"./input/\"\n",
    "file = 'ozone_du_strat_gt60.txt'\n",
    "df_ozone_du_strat_gt60 = pd.read_csv(inputpath+file, sep=';',index_col=0,header=0)\n",
    "df_ozone_du_strat_gt60.index.name = None\n",
    "df_ozone_du_strat_gt60.rename(columns=model_dict, inplace=True)\n",
    "#This should be stratospheric ozone [DU] in H2+CH4 minus H2. \n",
    "plot_values_ch4['GFDL'] = df_ozone_du_strat_gt60['GFDL'].loc['10CH4']/df_table_per_flux['deltaH2'].loc['GFDL']\n",
    "plot_values_max_dry_ch4['GFDL'] = df_ozone_du_strat_gt60['GFDL'].loc['10CH4']/df_drydep80_table_per_flux['deltaH2'].loc['GFDL']\n",
    "plot_values_min_dry_ch4['GFDL'] = df_ozone_du_strat_gt60['GFDL'].loc['10CH4']/df_drydep50_table_per_flux['deltaH2'].loc['GFDL']\n"
   ]
  },
  {
   "cell_type": "code",
   "execution_count": 36,
   "metadata": {},
   "outputs": [
    {
     "data": {
      "image/png": "[encoded data removed]",
      "text/plain": [
       "<Figure size 432x288 with 1 Axes>"
      ]
     },
     "metadata": {
      "needs_background": "light"
     },
     "output_type": "display_data"
    }
   ],
   "source": [
    "plt.figure(figsize=(6,4))\n",
    "for m,model in enumerate(plot_values.index):\n",
    "    \n",
    "    plt.bar(m,plot_values.loc[model]+plot_values_ch4.loc[model],edgecolor='black',color=color_o3,label=model)\n",
    "    plt.bar(m,plot_values.loc[model],edgecolor='black',fill=False,color=colorlist[m])\n",
    "    if(plot_values.loc[model]<0 and plot_values_ch4.loc[model]>0):\n",
    "        plt.bar(m,plot_values_ch4.loc[model],bottom=0.0,fill=False,edgecolor='black',hatch='/')\n",
    "    else:\n",
    "        plt.bar(m,plot_values_ch4.loc[model],bottom=plot_values.loc[model],fill=False,edgecolor='black',hatch='/')\n",
    "\n",
    "    plt.plot(m,plot_values_max_dry.loc[model]+plot_values_max_dry_ch4.loc[model],marker='^',color='black')\n",
    "    plt.plot(m,plot_values_min_dry.loc[model]+plot_values_min_dry_ch4.loc[model],marker='v',color='black')\n",
    "    \n",
    "    plt.plot([m,m],[plot_values_max_dry.loc[model]+plot_values_max_dry_ch4.loc[model],plot_values_min_dry.loc[model]+plot_values_min_dry_ch4.loc[model]],color='k')\n",
    "\n",
    "plt.axhline(y=0, color='black',linewidth=0.5,zorder=-10)    \n",
    "    \n",
    "ax=plt.gca()\n",
    "\n",
    "ax.spines['right'].set_visible(False)\n",
    "ax.spines['top'].set_visible(False)\n",
    "\n",
    "plt.title(tittel)\n",
    "plt.ylabel(ytittel)\n",
    "if legend:\n",
    "    plt.legend()\n",
    "ax.set_xticks(np.arange(0,len(plot_values.index)))\n",
    "ax.set_xticklabels(modellist, rotation=0)\n",
    "plt.tight_layout()\n",
    "plt.savefig('output/Strat_Ozone_RF_per_H2_flux_below_60S_and_above_60N.png', transparent=True)"
   ]
  },
  {
   "cell_type": "markdown",
   "metadata": {},
   "source": [
    "## Ozone RF by 1 Tg H2"
   ]
  },
  {
   "cell_type": "code",
   "execution_count": 37,
   "metadata": {},
   "outputs": [],
   "source": [
    "tittel = 'Ozone RF per H$_2$ flux'\n",
    "ytittel ='[mW m-2/(Tg H2 yr-1)]'\n",
    "field = 'ozone_rf_per_h2_flux'\n",
    "legend = False #False"
   ]
  },
  {
   "cell_type": "code",
   "execution_count": 38,
   "metadata": {},
   "outputs": [],
   "source": [
    "field_ch4 = field.replace('h2_','ch4_')"
   ]
  },
  {
   "cell_type": "code",
   "execution_count": 39,
   "metadata": {},
   "outputs": [],
   "source": [
    "#Direct effect:\n",
    "plot_values = df_table_per_flux[field]\n",
    "plot_values_max_dry = df_drydep80_table_per_flux[field]\n",
    "plot_values_min_dry = df_drydep50_table_per_flux[field]"
   ]
  },
  {
   "cell_type": "code",
   "execution_count": 40,
   "metadata": {},
   "outputs": [],
   "source": [
    "#Indirect effect:\n",
    "plot_values_ch4 = df_table_per_flux_ch4[field_ch4]*df_table_per_flux['ch4_flux_per_h2_flux']\n",
    "plot_values_max_dry_ch4 = df_drydep80_table_per_flux_ch4[field_ch4]*df_drydep80_table_per_flux['ch4_flux_per_h2_flux']\n",
    "plot_values_min_dry_ch4 = df_drydep50_table_per_flux_ch4[field_ch4]*df_drydep50_table_per_flux['ch4_flux_per_h2_flux']"
   ]
  },
  {
   "cell_type": "code",
   "execution_count": 41,
   "metadata": {},
   "outputs": [],
   "source": [
    "#Add GFDL numbers:\n",
    "inputpath = r\"./input/\"\n",
    "file = 'ozone_rf.txt'\n",
    "df_ozone_rf = pd.read_csv(inputpath+file, sep=';',index_col=0,header=0)\n",
    "df_ozone_rf.index.name = None\n",
    "df_ozone_rf.rename(columns=model_dict, inplace=True)\n",
    "#This should be ozone RF in H2+CH4 minus H2. \n",
    "plot_values_ch4['GFDL'] = df_ozone_rf['GFDL'].loc['10CH4']/df_table_per_flux['deltaH2'].loc['GFDL']\n",
    "plot_values_max_dry_ch4['GFDL'] = df_ozone_rf['GFDL'].loc['10CH4']/df_drydep80_table_per_flux['deltaH2'].loc['GFDL']\n",
    "plot_values_min_dry_ch4['GFDL'] = df_ozone_rf['GFDL'].loc['10CH4']/df_drydep50_table_per_flux['deltaH2'].loc['GFDL']\n",
    "\n"
   ]
  },
  {
   "cell_type": "code",
   "execution_count": 42,
   "metadata": {},
   "outputs": [
    {
     "data": {
      "image/png": "[encoded data removed]",
      "text/plain": [
       "<Figure size 432x288 with 1 Axes>"
      ]
     },
     "metadata": {
      "needs_background": "light"
     },
     "output_type": "display_data"
    }
   ],
   "source": [
    "plt.figure(figsize=(6,4))\n",
    "for m,model in enumerate(plot_values.index):  \n",
    "    plt.bar(m,plot_values.loc[model]+plot_values_ch4.loc[model],edgecolor=color_o3,color=color_o3,label=model)\n",
    "    plt.bar(m,plot_values.loc[model],edgecolor='black',fill=False,color=colorlist[m])\n",
    "    if(plot_values.loc[model]<0 and plot_values_ch4.loc[model]>0):\n",
    "        plt.bar(m,plot_values_ch4.loc[model],bottom=0.0,fill=False,edgecolor='black',hatch='/')\n",
    "    else:\n",
    "        plt.bar(m,plot_values_ch4.loc[model],bottom=plot_values.loc[model],fill=False,edgecolor='black',hatch='/')\n",
    "\n",
    "    plt.plot(m,plot_values_max_dry.loc[model]+plot_values_max_dry_ch4.loc[model],marker='^',color='black')\n",
    "    plt.plot(m,plot_values_min_dry.loc[model]+plot_values_min_dry_ch4.loc[model],marker='v',color='black')\n",
    "    \n",
    "    plt.plot([m,m],[plot_values_max_dry.loc[model]+plot_values_max_dry_ch4.loc[model],plot_values_min_dry.loc[model]+plot_values_min_dry_ch4.loc[model]],color='k')\n",
    "\n",
    "plt.axhline(y=0, color='black',linewidth=0.5,zorder=-10)    \n",
    "    \n",
    "ax=plt.gca()\n",
    "\n",
    "ax.spines['right'].set_visible(False)\n",
    "ax.spines['top'].set_visible(False)\n",
    "\n",
    "plt.title(tittel)\n",
    "plt.ylabel(ytittel)\n",
    "if legend:\n",
    "    plt.legend()\n",
    "ax.set_xticks(np.arange(0,len(plot_values.index)))\n",
    "ax.set_xticklabels(modellist, rotation=0)\n",
    "plt.tight_layout()\n",
    "plt.savefig('output/Ozone_RF_per_H2_flux.png', transparent=True)"
   ]
  },
  {
   "cell_type": "markdown",
   "metadata": {},
   "source": [
    "## Strat. H2O RF by 1 Tg H2"
   ]
  },
  {
   "cell_type": "code",
   "execution_count": 43,
   "metadata": {},
   "outputs": [],
   "source": [
    "tittel = 'Stratospheric H$_2$O RF per H$_2$ flux'\n",
    "ytittel ='[mW m$^{-2}$/(Tg H2 yr$^{-1}$)]'\n",
    "field = 'h2o_rf_per_h2_flux'\n",
    "legend = False"
   ]
  },
  {
   "cell_type": "code",
   "execution_count": 44,
   "metadata": {},
   "outputs": [],
   "source": [
    "field_ch4 = field.replace('h2_','ch4_')"
   ]
  },
  {
   "cell_type": "code",
   "execution_count": 45,
   "metadata": {},
   "outputs": [],
   "source": [
    "#Direct effect:\n",
    "plot_values = df_table_per_flux[field]\n",
    "plot_values_max_dry = df_drydep80_table_per_flux[field]\n",
    "plot_values_min_dry = df_drydep50_table_per_flux[field]"
   ]
  },
  {
   "cell_type": "code",
   "execution_count": 46,
   "metadata": {},
   "outputs": [],
   "source": [
    "#Indirect effect:\n",
    "plot_values_ch4 = df_table_per_flux_ch4[field_ch4]*df_table_per_flux['ch4_flux_per_h2_flux']\n",
    "plot_values_max_dry_ch4 = df_drydep80_table_per_flux_ch4[field_ch4]*df_drydep80_table_per_flux['ch4_flux_per_h2_flux']\n",
    "plot_values_min_dry_ch4 = df_drydep50_table_per_flux_ch4[field_ch4]*df_drydep50_table_per_flux['ch4_flux_per_h2_flux']"
   ]
  },
  {
   "cell_type": "code",
   "execution_count": 47,
   "metadata": {},
   "outputs": [],
   "source": [
    "#Add GFDL numbers:\n",
    "inputpath = r\"./input/\"\n",
    "file = 'H2O_rf_gfdl.txt'\n",
    "df_h2o_rf = pd.read_csv(inputpath+file, sep=',',index_col=0,header=0)\n",
    "\n",
    "gfdl_emi_ch4 = df_h2o_rf.loc['H2+CH4 [mW m-2]'] - df_h2o_rf.loc['H2 [mW m-2]']\n",
    "\n",
    "#gfdl_emi_ch4\n",
    "plot_values_ch4['GFDL'] = gfdl_emi_ch4/df_table_per_flux['deltaH2'].loc['GFDL']\n",
    "plot_values_max_dry_ch4['GFDL'] = gfdl_emi_ch4/df_drydep80_table_per_flux['deltaH2'].loc['GFDL']\n",
    "plot_values_min_dry_ch4['GFDL'] = gfdl_emi_ch4/df_drydep50_table_per_flux['deltaH2'].loc['GFDL']\n"
   ]
  },
  {
   "cell_type": "code",
   "execution_count": 48,
   "metadata": {},
   "outputs": [
    {
     "data": {
      "image/png": "[encoded data removed]",
      "text/plain": [
       "<Figure size 432x288 with 1 Axes>"
      ]
     },
     "metadata": {
      "needs_background": "light"
     },
     "output_type": "display_data"
    }
   ],
   "source": [
    "plt.figure(figsize=(6,4))\n",
    "for m,model in enumerate(plot_values.index):\n",
    "    \n",
    "    plt.bar(m,plot_values.loc[model]+plot_values_ch4.loc[model],edgecolor=color_h2o,color=color_h2o,label=model)\n",
    "    plt.bar(m,plot_values.loc[model],edgecolor='black',fill=False,color=colorlist[m])\n",
    "    if(plot_values.loc[model]<0 and plot_values_ch4.loc[model]>0):\n",
    "        plt.bar(m,plot_values_ch4.loc[model],bottom=0.0,fill=False,edgecolor='black',hatch='/')\n",
    "    else:\n",
    "        plt.bar(m,plot_values_ch4.loc[model],bottom=plot_values.loc[model],fill=False,edgecolor='black',hatch='/')\n",
    "\n",
    "    plt.plot(m,plot_values_max_dry.loc[model]+plot_values_max_dry_ch4.loc[model],marker='^',color='black')\n",
    "    plt.plot(m,plot_values_min_dry.loc[model]+plot_values_min_dry_ch4.loc[model],marker='v',color='black')\n",
    "    \n",
    "    plt.plot([m,m],[plot_values_max_dry.loc[model]+plot_values_max_dry_ch4.loc[model],plot_values_min_dry.loc[model]+plot_values_min_dry_ch4.loc[model]],color='k')\n",
    "\n",
    "plt.axhline(y=0, color='black',linewidth=0.5,zorder=-10)    \n",
    "    \n",
    "ax=plt.gca()\n",
    "\n",
    "ax.spines['right'].set_visible(False)\n",
    "ax.spines['top'].set_visible(False)\n",
    "\n",
    "plt.title(tittel)\n",
    "plt.ylabel(ytittel)\n",
    "if legend:\n",
    "    plt.legend()\n",
    "ax.set_xticks(np.arange(0,len(plot_values.index)))\n",
    "ax.set_xticklabels(modellist, rotation=0)\n",
    "plt.tight_layout()\n",
    "plt.savefig('output/Strat_H2O_RF_per_H2_flux.png', transparent=True)"
   ]
  },
  {
   "cell_type": "code",
   "execution_count": null,
   "metadata": {},
   "outputs": [],
   "source": []
  }
 ],
 "metadata": {
  "kernelspec": {
   "display_name": "Python 3",
   "language": "python",
   "name": "python3"
  },
  "language_info": {
   "codemirror_mode": {
    "name": "ipython",
    "version": 3
   },
   "file_extension": ".py",
   "mimetype": "text/x-python",
   "name": "python",
   "nbconvert_exporter": "python",
   "pygments_lexer": "ipython3",
   "version": "3.7.0"
  }
 },
 "nbformat": 4,
 "nbformat_minor": 2
}
