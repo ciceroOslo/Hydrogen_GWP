{
 "cells": [
  {
   "cell_type": "markdown",
   "metadata": {},
   "source": [
    "# Make figures"
   ]
  },
  {
   "cell_type": "markdown",
   "metadata": {},
   "source": [
    "To run this notebook, the GWP notebook must first be run (for the base case)"
   ]
  },
  {
   "cell_type": "code",
   "execution_count": 1,
   "metadata": {},
   "outputs": [
    {
     "name": "stderr",
     "output_type": "stream",
     "text": [
      "\n",
      "Bad key \"text.kerning_factor\" on line 4 in\n",
      "/home/masan/anaconda3/lib/python3.7/site-packages/matplotlib/mpl-data/stylelib/_classic_test_patch.mplstyle.\n",
      "You probably need to get an updated matplotlibrc file from\n",
      "http://github.com/matplotlib/matplotlib/blob/master/matplotlibrc.template\n",
      "or from the matplotlib source distribution\n"
     ]
    }
   ],
   "source": [
    "import numpy as np\n",
    "import pandas as pd\n",
    "import matplotlib.pyplot as plt\n",
    "\n",
    "pd.set_option('display.float_format', lambda x: '{:,.3f}'.format(x) if abs(x)<0 else ('{:,.2f}'.format(x) if abs(x)<10 else ('{:,.1f}'.format(x) if abs(x)<100 else '{:,.0f}'.format(x))))\n",
    "\n",
    "default_size = 18\n",
    "plt.rc('font', size=default_size)\n",
    "plt.rc('axes', titlesize=default_size)     # fontsize of the axes title\n",
    "plt.rc('axes', labelsize=default_size)    # fontsize of the x and y labels\n",
    "plt.rc('xtick', labelsize=16)    # fontsize of the tick labels\n",
    "plt.rc('ytick', labelsize=default_size)    # fontsize of the tick labels\n",
    "plt.rc('legend', fontsize=default_size)    # legend fontsize\n",
    "plt.rc('figure', titlesize=default_size)\n",
    "\n",
    "color_h2 = 'lightblue'\n",
    "color_ch4 = 'lightseagreen'\n",
    "color_h2o = 'darkviolet'\n",
    "color_o3 = 'gold'\n",
    "color_aerosol='brown'\n",
    "\n",
    "\n",
    "model_dict = { 'OSLOCTM3':'OsloCTM',\n",
    "               'WACCM6-2deg':'WACCM',\n",
    "               'INCA':'INCA',\n",
    "               'GFDL-emi':'GFDL-emi',\n",
    "               'GFDL_nudge':'GFDL',\n",
    "               'UKCA':'UKCA',\n",
    "               'OSLOCTM3-emi':'OsloCTM-emi'}\n",
    "\n",
    "sorted_array = ['GFDL','INCA','OsloCTM','UKCA','WACCM','GFDL-emi','OsloCTM-emi']\n",
    "\n",
    "#Plot the harmonized soil sink value or not. \n",
    "star = True\n",
    "\n",
    "#For the RF per flux figures, use the same y-axis. \n",
    "ylim_rf_fig = 0.7"
   ]
  },
  {
   "cell_type": "code",
   "execution_count": 2,
   "metadata": {},
   "outputs": [
    {
     "data": {
      "text/html": [
       "<div>\n",
       "<style scoped>\n",
       "    .dataframe tbody tr th:only-of-type {\n",
       "        vertical-align: middle;\n",
       "    }\n",
       "\n",
       "    .dataframe tbody tr th {\n",
       "        vertical-align: top;\n",
       "    }\n",
       "\n",
       "    .dataframe thead th {\n",
       "        text-align: right;\n",
       "    }\n",
       "</style>\n",
       "<table border=\"1\" class=\"dataframe\">\n",
       "  <thead>\n",
       "    <tr style=\"text-align: right;\">\n",
       "      <th></th>\n",
       "      <th>deltaH2</th>\n",
       "      <th>surf_h2_per_h2_flux</th>\n",
       "      <th>surf_ch4_per_h2_flux</th>\n",
       "      <th>ch4_flux_per_h2_flux</th>\n",
       "      <th>ch4_rf_per_h2_flux</th>\n",
       "      <th>trop_du_ozone_per_h2_flux</th>\n",
       "      <th>strat_du_ozone_per_h2_flux</th>\n",
       "      <th>ozone_rf_per_h2_flux</th>\n",
       "      <th>h2o_rf_per_h2_flux</th>\n",
       "      <th>aerosol_rf_per_h2_flux</th>\n",
       "    </tr>\n",
       "  </thead>\n",
       "  <tbody>\n",
       "    <tr>\n",
       "      <th>GFDL</th>\n",
       "      <td>31.5</td>\n",
       "      <td>6.77</td>\n",
       "      <td>1.11</td>\n",
       "      <td>0.25</td>\n",
       "      <td>0.43</td>\n",
       "      <td>8.02</td>\n",
       "      <td>2.40</td>\n",
       "      <td>0.41</td>\n",
       "      <td>0.28</td>\n",
       "      <td>-0.01</td>\n",
       "    </tr>\n",
       "    <tr>\n",
       "      <th>INCA</th>\n",
       "      <td>7.92</td>\n",
       "      <td>6.71</td>\n",
       "      <td>1.03</td>\n",
       "      <td>0.27</td>\n",
       "      <td>0.40</td>\n",
       "      <td>6.61</td>\n",
       "      <td>-3.65</td>\n",
       "      <td>0.26</td>\n",
       "      <td>0.14</td>\n",
       "      <td>0.04</td>\n",
       "    </tr>\n",
       "    <tr>\n",
       "      <th>OsloCTM</th>\n",
       "      <td>8.49</td>\n",
       "      <td>6.27</td>\n",
       "      <td>1.13</td>\n",
       "      <td>0.31</td>\n",
       "      <td>0.44</td>\n",
       "      <td>9.70</td>\n",
       "      <td>5.94</td>\n",
       "      <td>0.48</td>\n",
       "      <td>0.24</td>\n",
       "      <td>-0.04</td>\n",
       "    </tr>\n",
       "    <tr>\n",
       "      <th>UKCA</th>\n",
       "      <td>8.33</td>\n",
       "      <td>6.43</td>\n",
       "      <td>1.10</td>\n",
       "      <td>0.32</td>\n",
       "      <td>0.42</td>\n",
       "      <td>8.09</td>\n",
       "      <td>nan</td>\n",
       "      <td>0.28</td>\n",
       "      <td>nan</td>\n",
       "      <td>nan</td>\n",
       "    </tr>\n",
       "    <tr>\n",
       "      <th>WACCM</th>\n",
       "      <td>8.53</td>\n",
       "      <td>6.23</td>\n",
       "      <td>1.38</td>\n",
       "      <td>0.38</td>\n",
       "      <td>0.53</td>\n",
       "      <td>10.5</td>\n",
       "      <td>4.82</td>\n",
       "      <td>0.53</td>\n",
       "      <td>0.09</td>\n",
       "      <td>nan</td>\n",
       "    </tr>\n",
       "    <tr>\n",
       "      <th>GFDL-emi</th>\n",
       "      <td>209</td>\n",
       "      <td>6.56</td>\n",
       "      <td>0.94</td>\n",
       "      <td>0.00</td>\n",
       "      <td>0.36</td>\n",
       "      <td>7.51</td>\n",
       "      <td>4.93</td>\n",
       "      <td>0.37</td>\n",
       "      <td>0.24</td>\n",
       "      <td>-0.07</td>\n",
       "    </tr>\n",
       "    <tr>\n",
       "      <th>OsloCTM-emi</th>\n",
       "      <td>13.9</td>\n",
       "      <td>6.43</td>\n",
       "      <td>1.14</td>\n",
       "      <td>0.32</td>\n",
       "      <td>0.44</td>\n",
       "      <td>9.81</td>\n",
       "      <td>5.96</td>\n",
       "      <td>0.48</td>\n",
       "      <td>0.24</td>\n",
       "      <td>-0.04</td>\n",
       "    </tr>\n",
       "  </tbody>\n",
       "</table>\n",
       "</div>"
      ],
      "text/plain": [
       "             deltaH2  surf_h2_per_h2_flux  surf_ch4_per_h2_flux  \\\n",
       "GFDL            31.5                 6.77                  1.11   \n",
       "INCA            7.92                 6.71                  1.03   \n",
       "OsloCTM         8.49                 6.27                  1.13   \n",
       "UKCA            8.33                 6.43                  1.10   \n",
       "WACCM           8.53                 6.23                  1.38   \n",
       "GFDL-emi         209                 6.56                  0.94   \n",
       "OsloCTM-emi     13.9                 6.43                  1.14   \n",
       "\n",
       "             ch4_flux_per_h2_flux  ch4_rf_per_h2_flux  \\\n",
       "GFDL                         0.25                0.43   \n",
       "INCA                         0.27                0.40   \n",
       "OsloCTM                      0.31                0.44   \n",
       "UKCA                         0.32                0.42   \n",
       "WACCM                        0.38                0.53   \n",
       "GFDL-emi                     0.00                0.36   \n",
       "OsloCTM-emi                  0.32                0.44   \n",
       "\n",
       "             trop_du_ozone_per_h2_flux  strat_du_ozone_per_h2_flux  \\\n",
       "GFDL                              8.02                        2.40   \n",
       "INCA                              6.61                       -3.65   \n",
       "OsloCTM                           9.70                        5.94   \n",
       "UKCA                              8.09                         nan   \n",
       "WACCM                             10.5                        4.82   \n",
       "GFDL-emi                          7.51                        4.93   \n",
       "OsloCTM-emi                       9.81                        5.96   \n",
       "\n",
       "             ozone_rf_per_h2_flux  h2o_rf_per_h2_flux  aerosol_rf_per_h2_flux  \n",
       "GFDL                         0.41                0.28                   -0.01  \n",
       "INCA                         0.26                0.14                    0.04  \n",
       "OsloCTM                      0.48                0.24                   -0.04  \n",
       "UKCA                         0.28                 nan                     nan  \n",
       "WACCM                        0.53                0.09                     nan  \n",
       "GFDL-emi                     0.37                0.24                   -0.07  \n",
       "OsloCTM-emi                  0.48                0.24                   -0.04  "
      ]
     },
     "execution_count": 2,
     "metadata": {},
     "output_type": "execute_result"
    }
   ],
   "source": [
    "filepath= r\"./output/\"\n",
    "#df_drydep_max_table_per_flux = pd.read_csv(filepath+'drydep_90_table_per_flux_h2.csv',index_col=0)\n",
    "#df_drydep_max_table_per_flux.rename(model_dict, inplace=True)\n",
    "#df_drydep_min_table_per_flux = pd.read_csv(filepath+'drydep_50_table_per_flux_h2.csv',index_col=0)\n",
    "#df_drydep_min_table_per_flux.rename(model_dict, inplace=True)\n",
    "df_table_per_flux = pd.read_csv(filepath+'drydep_59_table_per_flux_h2_combined.csv',index_col=0)\n",
    "\n",
    "\n",
    "#df_feedback_factor = pd.read_csv(filepath+'feedback_factor_ch4.csv',index_col=0,header=None)\n",
    "\n",
    "\n",
    "#Making modellist with shorter names\n",
    "#df_feedback_factor.rename(model_dict, inplace=True)\n",
    "\n",
    "df_table_per_flux.rename(model_dict, inplace=True)\n",
    "#df_table_per_flux = df_table_per_flux.sort_index()\n",
    "df_table_per_flux=df_table_per_flux.reindex(sorted_array)\n",
    "modellist = df_table_per_flux.index\n",
    "df_table_per_flux"
   ]
  },
  {
   "cell_type": "code",
   "execution_count": 3,
   "metadata": {},
   "outputs": [
    {
     "data": {
      "text/html": [
       "<div>\n",
       "<style scoped>\n",
       "    .dataframe tbody tr th:only-of-type {\n",
       "        vertical-align: middle;\n",
       "    }\n",
       "\n",
       "    .dataframe tbody tr th {\n",
       "        vertical-align: top;\n",
       "    }\n",
       "\n",
       "    .dataframe thead th {\n",
       "        text-align: right;\n",
       "    }\n",
       "</style>\n",
       "<table border=\"1\" class=\"dataframe\">\n",
       "  <thead>\n",
       "    <tr style=\"text-align: right;\">\n",
       "      <th></th>\n",
       "      <th>deltaH2</th>\n",
       "      <th>surf_h2_per_h2_flux</th>\n",
       "      <th>surf_ch4_per_h2_flux</th>\n",
       "      <th>ch4_flux_per_h2_flux</th>\n",
       "      <th>ch4_rf_per_h2_flux</th>\n",
       "      <th>trop_du_ozone_per_h2_flux</th>\n",
       "      <th>strat_du_ozone_per_h2_flux</th>\n",
       "      <th>ozone_rf_per_h2_flux</th>\n",
       "      <th>h2o_rf_per_h2_flux</th>\n",
       "      <th>aerosol_rf_per_h2_flux</th>\n",
       "    </tr>\n",
       "  </thead>\n",
       "  <tbody>\n",
       "    <tr>\n",
       "      <th>GFDL</th>\n",
       "      <td>31.5</td>\n",
       "      <td>6.77</td>\n",
       "      <td>1.11</td>\n",
       "      <td>0.25</td>\n",
       "      <td>0.43</td>\n",
       "      <td>8.02</td>\n",
       "      <td>2.40</td>\n",
       "      <td>0.41</td>\n",
       "      <td>0.28</td>\n",
       "      <td>-0.01</td>\n",
       "    </tr>\n",
       "    <tr>\n",
       "      <th>INCA</th>\n",
       "      <td>7.92</td>\n",
       "      <td>6.71</td>\n",
       "      <td>1.03</td>\n",
       "      <td>0.27</td>\n",
       "      <td>0.40</td>\n",
       "      <td>6.61</td>\n",
       "      <td>-3.65</td>\n",
       "      <td>0.26</td>\n",
       "      <td>0.14</td>\n",
       "      <td>0.04</td>\n",
       "    </tr>\n",
       "    <tr>\n",
       "      <th>OsloCTM</th>\n",
       "      <td>8.49</td>\n",
       "      <td>6.27</td>\n",
       "      <td>1.13</td>\n",
       "      <td>0.31</td>\n",
       "      <td>0.44</td>\n",
       "      <td>9.70</td>\n",
       "      <td>5.94</td>\n",
       "      <td>0.48</td>\n",
       "      <td>0.24</td>\n",
       "      <td>-0.04</td>\n",
       "    </tr>\n",
       "    <tr>\n",
       "      <th>UKCA</th>\n",
       "      <td>8.33</td>\n",
       "      <td>6.43</td>\n",
       "      <td>1.10</td>\n",
       "      <td>0.32</td>\n",
       "      <td>0.42</td>\n",
       "      <td>8.09</td>\n",
       "      <td>nan</td>\n",
       "      <td>0.28</td>\n",
       "      <td>nan</td>\n",
       "      <td>nan</td>\n",
       "    </tr>\n",
       "    <tr>\n",
       "      <th>WACCM</th>\n",
       "      <td>8.53</td>\n",
       "      <td>6.23</td>\n",
       "      <td>1.38</td>\n",
       "      <td>0.38</td>\n",
       "      <td>0.53</td>\n",
       "      <td>10.5</td>\n",
       "      <td>4.82</td>\n",
       "      <td>0.53</td>\n",
       "      <td>0.09</td>\n",
       "      <td>nan</td>\n",
       "    </tr>\n",
       "    <tr>\n",
       "      <th>GFDL-emi</th>\n",
       "      <td>209</td>\n",
       "      <td>6.56</td>\n",
       "      <td>0.94</td>\n",
       "      <td>0.00</td>\n",
       "      <td>0.36</td>\n",
       "      <td>7.51</td>\n",
       "      <td>4.93</td>\n",
       "      <td>0.37</td>\n",
       "      <td>0.24</td>\n",
       "      <td>-0.07</td>\n",
       "    </tr>\n",
       "    <tr>\n",
       "      <th>OsloCTM-emi</th>\n",
       "      <td>13.9</td>\n",
       "      <td>6.43</td>\n",
       "      <td>1.14</td>\n",
       "      <td>0.32</td>\n",
       "      <td>0.44</td>\n",
       "      <td>9.81</td>\n",
       "      <td>5.96</td>\n",
       "      <td>0.48</td>\n",
       "      <td>0.24</td>\n",
       "      <td>-0.04</td>\n",
       "    </tr>\n",
       "  </tbody>\n",
       "</table>\n",
       "</div>"
      ],
      "text/plain": [
       "             deltaH2  surf_h2_per_h2_flux  surf_ch4_per_h2_flux  \\\n",
       "GFDL            31.5                 6.77                  1.11   \n",
       "INCA            7.92                 6.71                  1.03   \n",
       "OsloCTM         8.49                 6.27                  1.13   \n",
       "UKCA            8.33                 6.43                  1.10   \n",
       "WACCM           8.53                 6.23                  1.38   \n",
       "GFDL-emi         209                 6.56                  0.94   \n",
       "OsloCTM-emi     13.9                 6.43                  1.14   \n",
       "\n",
       "             ch4_flux_per_h2_flux  ch4_rf_per_h2_flux  \\\n",
       "GFDL                         0.25                0.43   \n",
       "INCA                         0.27                0.40   \n",
       "OsloCTM                      0.31                0.44   \n",
       "UKCA                         0.32                0.42   \n",
       "WACCM                        0.38                0.53   \n",
       "GFDL-emi                     0.00                0.36   \n",
       "OsloCTM-emi                  0.32                0.44   \n",
       "\n",
       "             trop_du_ozone_per_h2_flux  strat_du_ozone_per_h2_flux  \\\n",
       "GFDL                              8.02                        2.40   \n",
       "INCA                              6.61                       -3.65   \n",
       "OsloCTM                           9.70                        5.94   \n",
       "UKCA                              8.09                         nan   \n",
       "WACCM                             10.5                        4.82   \n",
       "GFDL-emi                          7.51                        4.93   \n",
       "OsloCTM-emi                       9.81                        5.96   \n",
       "\n",
       "             ozone_rf_per_h2_flux  h2o_rf_per_h2_flux  aerosol_rf_per_h2_flux  \n",
       "GFDL                         0.41                0.28                   -0.01  \n",
       "INCA                         0.26                0.14                    0.04  \n",
       "OsloCTM                      0.48                0.24                   -0.04  \n",
       "UKCA                         0.28                 nan                     nan  \n",
       "WACCM                        0.53                0.09                     nan  \n",
       "GFDL-emi                     0.37                0.24                   -0.07  \n",
       "OsloCTM-emi                  0.48                0.24                   -0.04  "
      ]
     },
     "execution_count": 3,
     "metadata": {},
     "output_type": "execute_result"
    }
   ],
   "source": [
    "df_drydep_mean_table_per_flux = pd.read_csv(filepath+'drydep_59_table_per_flux_h2_combined.csv',index_col=0)\n",
    "df_drydep_mean_table_per_flux.rename(model_dict, inplace=True)\n",
    "df_drydep_mean_table_per_flux=df_drydep_mean_table_per_flux.reindex(sorted_array)\n",
    "df_drydep_mean_table_per_flux"
   ]
  },
  {
   "cell_type": "markdown",
   "metadata": {},
   "source": [
    "## Surface H2 concentration by 1 Tg H2/yr"
   ]
  },
  {
   "cell_type": "code",
   "execution_count": 4,
   "metadata": {},
   "outputs": [],
   "source": [
    "tittel = 'Surface H$_2$ per H$_2$ flux'\n",
    "ytittel ='[ppb H$_2$/(Tg H$_2$ yr$^{-1}$)]'\n",
    "field = 'surf_h2_per_h2_flux'\n",
    "legend = False #False"
   ]
  },
  {
   "cell_type": "code",
   "execution_count": 5,
   "metadata": {},
   "outputs": [
    {
     "data": {
      "text/plain": [
       "GFDL          6.77\n",
       "INCA          6.71\n",
       "OsloCTM       6.27\n",
       "UKCA          6.43\n",
       "WACCM         6.23\n",
       "GFDL-emi      6.56\n",
       "OsloCTM-emi   6.43\n",
       "Name: surf_h2_per_h2_flux, dtype: float64"
      ]
     },
     "execution_count": 5,
     "metadata": {},
     "output_type": "execute_result"
    }
   ],
   "source": [
    "plot_values = df_table_per_flux[field]\n",
    "#plot_values_max_dry = df_drydep_max_table_per_flux[field]\n",
    "#plot_values_min_dry = df_drydep_min_table_per_flux[field]\n",
    "plot_values_mean_dry = df_drydep_mean_table_per_flux[field]\n",
    "plot_values"
   ]
  },
  {
   "cell_type": "code",
   "execution_count": 6,
   "metadata": {},
   "outputs": [
    {
     "data": {
      "image/png": "[encoded data removed]",
      "text/plain": [
       "<Figure size 432x288 with 1 Axes>"
      ]
     },
     "metadata": {
      "needs_background": "light"
     },
     "output_type": "display_data"
    }
   ],
   "source": [
    "plt.figure(figsize=(6,4))\n",
    "for m,model in enumerate(plot_values.index):\n",
    "\n",
    "    plt.bar(m,plot_values.loc[model],edgecolor='black',color=color_h2,label=model)\n",
    "for m,model in enumerate(plot_values.drop(['GFDL-emi','OsloCTM-emi']).index): \n",
    "    if star: plt.plot(m,plot_values_mean_dry.loc[model],marker='*',markersize=12,color='gray')\n",
    "    \n",
    "    #plt.plot([m,m],[plot_values_max_dry.loc[model],plot_values_min_dry.loc[model]],color='k')\n",
    "    #plt.plot(m,plot_values_max_dry.loc[model],marker='^',color='black')\n",
    "    #plt.plot(m,plot_values_min_dry.loc[model],marker='v',color='black')\n",
    "    \n",
    "ax=plt.gca()\n",
    "\n",
    "ax.spines['right'].set_visible(False)\n",
    "ax.spines['top'].set_visible(False)\n",
    "\n",
    "plt.title(tittel)\n",
    "plt.ylabel(ytittel)\n",
    "if legend:\n",
    "    plt.legend()\n",
    "#plt.tick_params(labelbottom = False, bottom = False)\n",
    "ax.set_xticks(np.arange(0,len(plot_values.index)))\n",
    "ax.set_xticklabels(modellist, rotation=35,horizontalalignment=\"right\")\n",
    "plt.tight_layout()\n",
    "#plt.savefig('output/Surface_H2_per_H2_flux.png', transparent=True)"
   ]
  },
  {
   "cell_type": "markdown",
   "metadata": {},
   "source": [
    "## Methane flux by 1 Tg H2/yr"
   ]
  },
  {
   "cell_type": "code",
   "execution_count": 7,
   "metadata": {},
   "outputs": [],
   "source": [
    "tittel = 'Methane flux per H$_2$ flux'\n",
    "ytittel ='[Tg CH$_4$/Tg H$_2$]'\n",
    "field = 'ch4_flux_per_h2_flux'\n",
    "legend = False #False"
   ]
  },
  {
   "cell_type": "code",
   "execution_count": 8,
   "metadata": {},
   "outputs": [],
   "source": [
    "plot_values = df_table_per_flux[field]\n",
    "plot_values_mean_dry = df_drydep_mean_table_per_flux[field]\n",
    "#plot_values_max_dry = df_drydep_max_table_per_flux[field]\n",
    "#plot_values_min_dry = df_drydep_min_table_per_flux[field]"
   ]
  },
  {
   "cell_type": "code",
   "execution_count": 9,
   "metadata": {},
   "outputs": [],
   "source": [
    "#df_feedback_factor\n",
    "#feedback_factor = df_feedback_factor[1]\n",
    "#feedback_frac = 1.0 - (1.0/feedback_factor)\n",
    "#feedback_frac"
   ]
  },
  {
   "cell_type": "code",
   "execution_count": 10,
   "metadata": {},
   "outputs": [
    {
     "data": {
      "image/png": "[encoded data removed]",
      "text/plain": [
       "<Figure size 432x288 with 1 Axes>"
      ]
     },
     "metadata": {
      "needs_background": "light"
     },
     "output_type": "display_data"
    }
   ],
   "source": [
    "plt.figure(figsize=(6,4))\n",
    "for m,model in enumerate(plot_values.index):\n",
    "    \n",
    "    plt.bar(m,plot_values.loc[model],edgecolor='black',color=color_ch4,label=model)\n",
    "for m,model in enumerate(plot_values.drop(['GFDL-emi','OsloCTM-emi']).index): \n",
    "    if star: plt.plot(m,plot_values_mean_dry.loc[model],marker='*',markersize=12,color='gray')\n",
    "    #plt.plot([m,m],[plot_values_max_dry.loc[model],plot_values_min_dry.loc[model]],color='k')\n",
    "    #plt.plot(m,plot_values_max_dry.loc[model],marker='^',color='black')\n",
    "    #plt.plot(m,plot_values_min_dry.loc[model],marker='v',color='black')\n",
    "    #Hatch the feedback factor part\n",
    "    #plt.bar(m,plot_values.loc[model]*feedback_frac[model],bottom=plot_values.loc[model]*(1.0-feedback_frac[model]),fill=False,edgecolor='black',hatch='/')\n",
    "    \n",
    "ax=plt.gca()\n",
    "\n",
    "ax.spines['right'].set_visible(False)\n",
    "ax.spines['top'].set_visible(False)\n",
    "\n",
    "plt.title(tittel)\n",
    "plt.ylabel(ytittel)\n",
    "if legend:\n",
    "    plt.legend()\n",
    "ax.set_xticks(np.arange(0,len(plot_values.index)))\n",
    "ax.set_xticklabels(modellist, rotation=35,horizontalalignment=\"right\")\n",
    "plt.tight_layout()\n",
    "#plt.savefig('output/CH4_flux_per_H2_flux.png', transparent=True)"
   ]
  },
  {
   "cell_type": "markdown",
   "metadata": {},
   "source": [
    "## Methane ERF per flux"
   ]
  },
  {
   "cell_type": "code",
   "execution_count": 11,
   "metadata": {},
   "outputs": [],
   "source": [
    "tittel = 'Methane ERF per H$_2$ flux'\n",
    "ytittel ='[mW m$^{-2}$/(Tg H$_2$ yr$^{-1}$)]'\n",
    "field = 'ch4_rf_per_h2_flux'\n",
    "legend = False\n"
   ]
  },
  {
   "cell_type": "code",
   "execution_count": 12,
   "metadata": {},
   "outputs": [],
   "source": [
    "plot_values = df_table_per_flux[field]\n",
    "plot_values_mean_dry = df_drydep_mean_table_per_flux[field]\n",
    "#plot_values_max_dry = df_drydep_max_table_per_flux[field]\n",
    "#plot_values_min_dry = df_drydep_min_table_per_flux[field]"
   ]
  },
  {
   "cell_type": "code",
   "execution_count": 13,
   "metadata": {
    "scrolled": true
   },
   "outputs": [
    {
     "data": {
      "image/png": "[encoded data removed]",
      "text/plain": [
       "<Figure size 432x288 with 1 Axes>"
      ]
     },
     "metadata": {
      "needs_background": "light"
     },
     "output_type": "display_data"
    }
   ],
   "source": [
    "plt.figure(figsize=(6,4))\n",
    "for m,model in enumerate(plot_values.index):\n",
    "\n",
    "    plt.bar(m,plot_values.loc[model],edgecolor='black',color=color_ch4,label=model)\n",
    "for m,model in enumerate(plot_values.drop(['GFDL-emi','OsloCTM-emi']).index): \n",
    "    if star: plt.plot(m,plot_values_mean_dry.loc[model],marker='*',markersize=12,color='gray')\n",
    "    #plt.plot([m,m],[plot_values_max_dry.loc[model],plot_values_min_dry.loc[model]],linewidth=0.8,color='k')\n",
    "    #plt.plot(m,plot_values_max_dry.loc[model],fillstyle='none',markersize=8,marker='^',color='black')\n",
    "    #plt.plot(m,plot_values_min_dry.loc[model],fillstyle='none',markersize=8,marker='v',color='black')\n",
    "   \n",
    "    \n",
    "    #Hatch the feedback factor part\n",
    "    #plt.bar(m,plot_values.loc[model]*feedback_frac[model],bottom=plot_values.loc[model]*(1.0-feedback_frac[model]),fill=False,edgecolor='black',hatch='/')\n",
    "    \n",
    "ax=plt.gca()\n",
    "\n",
    "ax.spines['right'].set_visible(False)\n",
    "ax.spines['top'].set_visible(False)\n",
    "\n",
    "plt.title(tittel)\n",
    "plt.ylabel(ytittel)\n",
    "\n",
    "plt.ylim(top=ylim_rf_fig)\n",
    "if legend:\n",
    "    plt.legend()\n",
    "ax.set_xticks(np.arange(0,len(plot_values.index)))\n",
    "ax.set_xticklabels(modellist, rotation=35,horizontalalignment=\"right\")\n",
    "plt.tight_layout()\n",
    "#plt.savefig('output/CH4_RF_per_H2_flux.png', transparent=True)"
   ]
  },
  {
   "cell_type": "markdown",
   "metadata": {},
   "source": [
    "## Tropospheric ozone by H2 flux"
   ]
  },
  {
   "cell_type": "code",
   "execution_count": 14,
   "metadata": {},
   "outputs": [],
   "source": [
    "tittel = 'Tropospheric ozone per H$_2$ flux'\n",
    "ytittel ='[DU /(Tg H$_2$ yr$^{-1}$)]'\n",
    "field = 'trop_du_ozone_per_h2_flux'\n",
    "legend = False"
   ]
  },
  {
   "cell_type": "markdown",
   "metadata": {},
   "source": [
    "For the following figures, add the methane induced effect"
   ]
  },
  {
   "cell_type": "code",
   "execution_count": 15,
   "metadata": {},
   "outputs": [],
   "source": [
    "#Indirect effect via Methane.\n",
    "#df_drydep_max_table_per_flux_ch4 = pd.read_csv(filepath+'drydep_90_table_per_flux_ch4.csv',index_col=0)\n",
    "#df_drydep_max_table_per_flux_ch4.rename(model_dict, inplace=True)\n",
    "#df_drydep_min_table_per_flux_ch4 = pd.read_csv(filepath+'drydep_50_table_per_flux_ch4.csv',index_col=0)\n",
    "#df_drydep_min_table_per_flux_ch4.rename(model_dict, inplace=True)\n",
    "#df_table_per_flux_ch4 = pd.read_csv(filepath+'table_per_flux_ch4.csv',index_col=0)\n",
    "#df_table_per_flux_ch4.rename(model_dict, inplace=True)"
   ]
  },
  {
   "cell_type": "code",
   "execution_count": 16,
   "metadata": {},
   "outputs": [],
   "source": [
    "#field_ch4 = field.replace('h2_','ch4_')\n",
    "#print(field)\n",
    "#print(field_ch4)"
   ]
  },
  {
   "cell_type": "code",
   "execution_count": 17,
   "metadata": {},
   "outputs": [],
   "source": [
    "#Direct effect:\n",
    "plot_values = df_table_per_flux[field]\n",
    "plot_values_mean_dry = df_drydep_mean_table_per_flux[field]\n",
    "#plot_values_max_dry = df_drydep_max_table_per_flux[field]\n",
    "#plot_values_min_dry = df_drydep_min_table_per_flux[field]\n",
    "#plot_values\n",
    "#print(plot_values_max_dry)\n",
    "#print(plot_values_min_dry)"
   ]
  },
  {
   "cell_type": "code",
   "execution_count": 18,
   "metadata": {},
   "outputs": [],
   "source": [
    "#Indirect effect:\n",
    "#plot_values_ch4 = df_table_per_flux_ch4[field_ch4]*df_table_per_flux['ch4_flux_per_h2_flux']\n",
    "#plot_values_max_dry_ch4 = df_drydep_max_table_per_flux_ch4[field_ch4]*df_drydep_max_table_per_flux['ch4_flux_per_h2_flux']\n",
    "#plot_values_min_dry_ch4 = df_drydep_min_table_per_flux_ch4[field_ch4]*df_drydep_min_table_per_flux['ch4_flux_per_h2_flux']\n"
   ]
  },
  {
   "cell_type": "code",
   "execution_count": 19,
   "metadata": {},
   "outputs": [],
   "source": [
    "#Add GFDL numbers:\n",
    "#inputpath = r\"./input/\"\n",
    "#file = 'ozone_du_trop.txt'\n",
    "#df_ozone_du_trop = pd.read_csv(inputpath+file, sep=';',index_col=0,header=0)\n",
    "#df_ozone_du_trop.index.name = None\n",
    "#df_ozone_du_trop.rename(columns=model_dict, inplace=True)\n",
    "\n",
    "##This should be tropospheric ozone [DU] Divide by flux H2 directly\n",
    "#plot_values_ch4['GFDL-emi'] = (df_ozone_du_trop['GFDL-emi'].loc['10CH4'])/df_table_per_flux['deltaH2'].loc['GFDL-emi']\n",
    "#plot_values_max_dry_ch4['GFDL-emi'] = (df_ozone_du_trop['GFDL-emi'].loc['10CH4'])/df_drydep_max_table_per_flux['deltaH2'].loc['GFDL-emi']\n",
    "#plot_values_min_dry_ch4['GFDL-emi'] = (df_ozone_du_trop['GFDL-emi'].loc['10CH4'])/df_drydep_min_table_per_flux['deltaH2'].loc['GFDL-emi']\n",
    "\n",
    "\n",
    "#df_ozone_du_trop\n",
    "#plot_values_ch4['GFDL-emi']"
   ]
  },
  {
   "cell_type": "code",
   "execution_count": 20,
   "metadata": {
    "scrolled": true
   },
   "outputs": [
    {
     "data": {
      "image/png": "[encoded data removed]",
      "text/plain": [
       "<Figure size 432x288 with 1 Axes>"
      ]
     },
     "metadata": {
      "needs_background": "light"
     },
     "output_type": "display_data"
    }
   ],
   "source": [
    "plt.figure(figsize=(6,4))\n",
    "for m,model in enumerate(plot_values.index):\n",
    "    plt.bar(m,plot_values.loc[model],edgecolor='black',color=color_o3,label=model)\n",
    "for m,model in enumerate(plot_values.drop(['GFDL-emi','OsloCTM-emi']).index): \n",
    "    if star: plt.plot(m,plot_values_mean_dry.loc[model],marker='*',markersize=12,color='gray')\n",
    "    #plt.bar(m,plot_values.loc[model],edgecolor='black',fill=False,color=color_o3)\n",
    "    #if(plot_values.loc[model]<0 and plot_values_ch4.loc[model]>0):\n",
    "    #    plt.bar(m,plot_values_ch4.loc[model],bottom=0.0,fill=False,edgecolor='black',hatch='/')\n",
    "    #else:\n",
    "    #    plt.bar(m,plot_values_ch4.loc[model],bottom=plot_values.loc[model],fill=False,edgecolor='black',hatch='/')\n",
    "\n",
    "    #plt.plot(m,plot_values_max_dry.loc[model]+plot_values_max_dry_ch4.loc[model],marker='^',color='black')\n",
    "    #plt.plot(m,plot_values_min_dry.loc[model]+plot_values_min_dry_ch4.loc[model],marker='v',color='black')\n",
    "    \n",
    "    #plt.plot([m,m],[plot_values_max_dry.loc[model]+plot_values_max_dry_ch4.loc[model],plot_values_min_dry.loc[model]+plot_values_min_dry_ch4.loc[model]],color='k')\n",
    "\n",
    "plt.axhline(y=0, color='black',linewidth=0.5,zorder=-10)    \n",
    "    \n",
    "ax=plt.gca()\n",
    "\n",
    "ax.spines['right'].set_visible(False)\n",
    "ax.spines['top'].set_visible(False)\n",
    "\n",
    "plt.title(tittel)\n",
    "plt.ylabel(ytittel)\n",
    "if legend:\n",
    "    plt.legend()\n",
    "ax.set_xticks(np.arange(0,len(plot_values.index)))\n",
    "ax.set_xticklabels(modellist, rotation=35,horizontalalignment=\"right\")\n",
    "plt.tight_layout()\n",
    "#plt.savefig('output/Trop_Ozone_DU_per_H2_flux.png', transparent=True)"
   ]
  },
  {
   "cell_type": "markdown",
   "metadata": {},
   "source": [
    "## Stratospheric ozone by H2 flux"
   ]
  },
  {
   "cell_type": "code",
   "execution_count": 21,
   "metadata": {},
   "outputs": [],
   "source": [
    "tittel = 'Stratospheric ozone per H$_2$ flux'\n",
    "ytittel ='[DU /(Tg H$_2$ yr$^{-1}$)]'\n",
    "field = 'strat_du_ozone_per_h2_flux'\n",
    "legend = False #False"
   ]
  },
  {
   "cell_type": "code",
   "execution_count": 22,
   "metadata": {},
   "outputs": [],
   "source": [
    "#field_ch4 = field.replace('h2_','ch4_')"
   ]
  },
  {
   "cell_type": "code",
   "execution_count": 23,
   "metadata": {},
   "outputs": [],
   "source": [
    "#Direct effect:\n",
    "plot_values = df_table_per_flux[field]\n",
    "plot_values_mean_dry = df_drydep_mean_table_per_flux[field]\n",
    "#plot_values_max_dry = df_drydep_max_table_per_flux[field]\n",
    "#plot_values_min_dry = df_drydep_min_table_per_flux[field]"
   ]
  },
  {
   "cell_type": "code",
   "execution_count": 24,
   "metadata": {},
   "outputs": [],
   "source": [
    "#Indirect effect:\n",
    "#plot_values_ch4 = df_table_per_flux_ch4[field_ch4]*df_table_per_flux['ch4_flux_per_h2_flux']\n",
    "#plot_values_max_dry_ch4 = df_drydep_max_table_per_flux_ch4[field_ch4]*df_drydep_max_table_per_flux['ch4_flux_per_h2_flux']\n",
    "#plot_values_min_dry_ch4 = df_drydep_min_table_per_flux_ch4[field_ch4]*df_drydep_min_table_per_flux['ch4_flux_per_h2_flux']\n"
   ]
  },
  {
   "cell_type": "code",
   "execution_count": 25,
   "metadata": {},
   "outputs": [],
   "source": [
    "#Add GFDL numbers:\n",
    "#inputpath = r\"./input/\"\n",
    "#file = 'ozone_du_strat.txt'\n",
    "#df_ozone_du_strat = pd.read_csv(inputpath+file, sep=';',index_col=0,header=0)\n",
    "#df_ozone_du_strat.index.name = None\n",
    "#df_ozone_du_strat.rename(columns=model_dict, inplace=True)\n",
    "##Divide by flux H2 directly\n",
    "#plot_values_ch4['GFDL-emi'] = df_ozone_du_strat['GFDL-emi'].loc['10CH4']/df_table_per_flux['deltaH2'].loc['GFDL-emi']\n",
    "#plot_values_max_dry_ch4['GFDL-emi'] = df_ozone_du_strat['GFDL-emi'].loc['10CH4']/df_drydep_max_table_per_flux['deltaH2'].loc['GFDL-emi']\n",
    "#plot_values_min_dry_ch4['GFDL-emi'] = df_ozone_du_strat['GFDL-emi'].loc['10CH4']/df_drydep_min_table_per_flux['deltaH2'].loc['GFDL-emi']\n",
    "\n"
   ]
  },
  {
   "cell_type": "code",
   "execution_count": 26,
   "metadata": {},
   "outputs": [
    {
     "data": {
      "text/plain": [
       "Index(['GFDL', 'INCA', 'OsloCTM', 'UKCA', 'WACCM', 'GFDL-emi', 'OsloCTM-emi'], dtype='object')"
      ]
     },
     "execution_count": 26,
     "metadata": {},
     "output_type": "execute_result"
    },
    {
     "data": {
      "image/png": "[encoded data removed]",
      "text/plain": [
       "<Figure size 432x288 with 1 Axes>"
      ]
     },
     "metadata": {
      "needs_background": "light"
     },
     "output_type": "display_data"
    }
   ],
   "source": [
    "plt.figure(figsize=(6,4))\n",
    "for m,model in enumerate(plot_values.index):\n",
    "    \n",
    "    plt.bar(m,plot_values.loc[model],edgecolor='black',color=color_o3,label=model)\n",
    "for m,model in enumerate(plot_values.drop(['GFDL-emi','OsloCTM-emi']).index): \n",
    "    if star: plt.plot(m,plot_values_mean_dry.loc[model],marker='*',markersize=12,color='gray')\n",
    "    #plt.bar(m,plot_values.loc[model],edgecolor='black',fill=False,color=color_o3)\n",
    "    #if(plot_values.loc[model]<0 and plot_values_ch4.loc[model]>0):\n",
    "    #    plt.bar(m,plot_values_ch4.loc[model],bottom=0.0,fill=False,edgecolor='black',hatch='/')\n",
    "    #else:\n",
    "    #    plt.bar(m,plot_values_ch4.loc[model],bottom=plot_values.loc[model],fill=False,edgecolor='black',hatch='/')\n",
    "\n",
    "    #plt.plot(m,plot_values_max_dry.loc[model]+plot_values_max_dry_ch4.loc[model],marker='^',color='black')\n",
    "    #plt.plot(m,plot_values_min_dry.loc[model]+plot_values_min_dry_ch4.loc[model],marker='v',color='black')\n",
    "    \n",
    "    #plt.plot([m,m],[plot_values_max_dry.loc[model]+plot_values_max_dry_ch4.loc[model],plot_values_min_dry.loc[model]+plot_values_min_dry_ch4.loc[model]],color='k')\n",
    "\n",
    "plt.axhline(y=0, color='black',linewidth=0.5,zorder=-10)    \n",
    "    \n",
    "ax=plt.gca()\n",
    "\n",
    "ax.spines['right'].set_visible(False)\n",
    "ax.spines['top'].set_visible(False)\n",
    "\n",
    "plt.title(tittel)\n",
    "plt.ylabel(ytittel)\n",
    "if legend:\n",
    "    plt.legend()\n",
    "ax.set_xticks(np.arange(0,len(plot_values.index)))\n",
    "ax.set_xticklabels(modellist, rotation=35,horizontalalignment=\"right\")\n",
    "plt.tight_layout()\n",
    "#plt.savefig('output/Strat_Ozone_DU_per_H2_flux.png', transparent=True)\n",
    "modellist"
   ]
  },
  {
   "cell_type": "markdown",
   "metadata": {},
   "source": [
    "## Ozone ERF by 1 Tg H2"
   ]
  },
  {
   "cell_type": "code",
   "execution_count": 27,
   "metadata": {},
   "outputs": [],
   "source": [
    "tittel = 'Ozone ERF per H$_2$ flux'\n",
    "ytittel ='[mW m$^{-2}$/(Tg H$_2$ yr$^{-1}$)]'\n",
    "field = 'ozone_rf_per_h2_flux'\n",
    "legend = False #False"
   ]
  },
  {
   "cell_type": "code",
   "execution_count": 28,
   "metadata": {},
   "outputs": [],
   "source": [
    "field_ch4 = field.replace('h2_','ch4_')"
   ]
  },
  {
   "cell_type": "code",
   "execution_count": 29,
   "metadata": {},
   "outputs": [],
   "source": [
    "#Direct effect:\n",
    "plot_values = df_table_per_flux[field]\n",
    "plot_values_mean_dry = df_drydep_mean_table_per_flux[field]\n",
    "#plot_values_max_dry = df_drydep_max_table_per_flux[field]\n",
    "#plot_values_min_dry = df_drydep_min_table_per_flux[field]"
   ]
  },
  {
   "cell_type": "code",
   "execution_count": 30,
   "metadata": {},
   "outputs": [],
   "source": [
    "#Indirect effect:\n",
    "#plot_values_ch4 = df_table_per_flux_ch4[field_ch4]*df_table_per_flux['ch4_flux_per_h2_flux']\n",
    "#plot_values_max_dry_ch4 = df_drydep_max_table_per_flux_ch4[field_ch4]*df_drydep_max_table_per_flux['ch4_flux_per_h2_flux']\n",
    "#plot_values_min_dry_ch4 = df_drydep_min_table_per_flux_ch4[field_ch4]*df_drydep_min_table_per_flux['ch4_flux_per_h2_flux']"
   ]
  },
  {
   "cell_type": "code",
   "execution_count": 31,
   "metadata": {},
   "outputs": [],
   "source": [
    "#Add GFDL numbers:\n",
    "#inputpath = r\"./input/\"\n",
    "#file = 'ozone_rf.txt'\n",
    "#df_ozone_rf = pd.read_csv(inputpath+file, sep=';',index_col=0,header=0)\n",
    "#df_ozone_rf.index.name = None\n",
    "#df_ozone_rf.rename(columns=model_dict, inplace=True)\n",
    "#Divide by h2 flux directly\n",
    "#plot_values_ch4['GFDL-emi'] = df_ozone_rf['GFDL-emi'].loc['10CH4']/df_table_per_flux['deltaH2'].loc['GFDL-emi']\n",
    "#plot_values_max_dry_ch4['GFDL-emi'] = df_ozone_rf['GFDL-emi'].loc['10CH4']/df_drydep_max_table_per_flux['deltaH2'].loc['GFDL-emi']\n",
    "#plot_values_min_dry_ch4['GFDL-emi'] = df_ozone_rf['GFDL-emi'].loc['10CH4']/df_drydep_min_table_per_flux['deltaH2'].loc['GFDL-emi']\n",
    "\n"
   ]
  },
  {
   "cell_type": "code",
   "execution_count": 32,
   "metadata": {},
   "outputs": [
    {
     "data": {
      "image/png": "[encoded data removed]",
      "text/plain": [
       "<Figure size 432x288 with 1 Axes>"
      ]
     },
     "metadata": {
      "needs_background": "light"
     },
     "output_type": "display_data"
    }
   ],
   "source": [
    "plt.figure(figsize=(6,4))\n",
    "for m,model in enumerate(plot_values.index):  \n",
    "    plt.bar(m,plot_values.loc[model],edgecolor='black',color=color_o3,label=model)    \n",
    "for m,model in enumerate(plot_values.drop(['GFDL-emi','OsloCTM-emi']).index): \n",
    "    if star: plt.plot(m,plot_values_mean_dry.loc[model],marker='*',markersize=12,color='gray')\n",
    "    #plt.bar(m,plot_values.loc[model],edgecolor='black',fill=False,color=color_o3)\n",
    "    #if(plot_values.loc[model]<0 and plot_values_ch4.loc[model]>0):\n",
    "    #    plt.bar(m,plot_values_ch4.loc[model],bottom=0.0,fill=False,edgecolor='black',hatch='/')\n",
    "    #else:\n",
    "    #    plt.bar(m,plot_values_ch4.loc[model],bottom=plot_values.loc[model],fill=False,edgecolor='black',hatch='/')\n",
    "\n",
    "    #plt.plot(m,plot_values_max_dry.loc[model]+plot_values_max_dry_ch4.loc[model],marker='^',color='black')\n",
    "    #plt.plot(m,plot_values_min_dry.loc[model]+plot_values_min_dry_ch4.loc[model],marker='v',color='black')\n",
    "    \n",
    "    #plt.plot([m,m],[plot_values_max_dry.loc[model]+plot_values_max_dry_ch4.loc[model],plot_values_min_dry.loc[model]+plot_values_min_dry_ch4.loc[model]],color='k')\n",
    "\n",
    "plt.axhline(y=0, color='black',linewidth=0.5,zorder=-10)    \n",
    "    \n",
    "ax=plt.gca()\n",
    "\n",
    "ax.spines['right'].set_visible(False)\n",
    "ax.spines['top'].set_visible(False)\n",
    "\n",
    "plt.title(tittel)\n",
    "plt.ylabel(ytittel)\n",
    "plt.ylim(top=ylim_rf_fig)\n",
    "\n",
    "if legend:\n",
    "    plt.legend()\n",
    "ax.set_xticks(np.arange(0,len(plot_values.index)))\n",
    "ax.set_xticklabels(modellist, rotation=35,horizontalalignment=\"right\")\n",
    "plt.tight_layout()\n",
    "#plt.savefig('output/Ozone_RF_per_H2_flux.png', transparent=True)"
   ]
  },
  {
   "cell_type": "markdown",
   "metadata": {},
   "source": [
    "## Strat. H2O ERF by 1 Tg H2"
   ]
  },
  {
   "cell_type": "code",
   "execution_count": 33,
   "metadata": {},
   "outputs": [],
   "source": [
    "tittel = 'Stratospheric H$_2$O ERF per H$_2$ flux'\n",
    "ytittel ='[mW m$^{-2}$/(Tg H$_2$ yr$^{-1}$)]'\n",
    "field = 'h2o_rf_per_h2_flux'\n",
    "legend = False"
   ]
  },
  {
   "cell_type": "code",
   "execution_count": 34,
   "metadata": {},
   "outputs": [],
   "source": [
    "#field_ch4 = field.replace('h2_','ch4_')"
   ]
  },
  {
   "cell_type": "code",
   "execution_count": 35,
   "metadata": {},
   "outputs": [],
   "source": [
    "#Direct effect:\n",
    "plot_values = df_table_per_flux[field]\n",
    "plot_values_mean_dry = df_drydep_mean_table_per_flux[field]\n",
    "#plot_values_max_dry = df_drydep_max_table_per_flux[field]\n",
    "#plot_values_min_dry = df_drydep_min_table_per_flux[field]"
   ]
  },
  {
   "cell_type": "code",
   "execution_count": 36,
   "metadata": {},
   "outputs": [],
   "source": [
    "#Indirect effect:\n",
    "#plot_values_ch4 = df_table_per_flux_ch4[field_ch4]*df_table_per_flux['ch4_flux_per_h2_flux']\n",
    "#plot_values_max_dry_ch4 = df_drydep_max_table_per_flux_ch4[field_ch4]*df_drydep_max_table_per_flux['ch4_flux_per_h2_flux']\n",
    "#plot_values_min_dry_ch4 = df_drydep_min_table_per_flux_ch4[field_ch4]*df_drydep_min_table_per_flux['ch4_flux_per_h2_flux']"
   ]
  },
  {
   "cell_type": "code",
   "execution_count": 37,
   "metadata": {},
   "outputs": [],
   "source": [
    "#Add GFDL numbers:\n",
    "#inputpath = r\"./input/\"\n",
    "#file = 'H2O_rf_gfdl.txt'\n",
    "#df_h2o_rf = pd.read_csv(inputpath+file, sep=',',index_col=0,header=0)\n",
    "\n",
    "#gfdl_emi_ch4 = df_h2o_rf.loc['H2+CH4 [mW m-2]'] - df_h2o_rf.loc['H2 [mW m-2]']\n",
    "\n",
    "##gfdl_emi_ch4\n",
    "#plot_values_ch4['GFDL-emi'] = gfdl_emi_ch4/df_table_per_flux['deltaH2'].loc['GFDL-emi']\n",
    "#plot_values_max_dry_ch4['GFDL-emi'] = gfdl_emi_ch4/df_drydep_max_table_per_flux['deltaH2'].loc['GFDL-emi']\n",
    "#plot_values_min_dry_ch4['GFDL-emi'] = gfdl_emi_ch4/df_drydep_min_table_per_flux['deltaH2'].loc['GFDL-emi']\n"
   ]
  },
  {
   "cell_type": "code",
   "execution_count": 38,
   "metadata": {},
   "outputs": [
    {
     "data": {
      "text/plain": [
       "Index(['GFDL', 'INCA', 'OsloCTM', '', 'WACCM', 'GFDL-emi', 'OsloCTM-emi'], dtype='object')"
      ]
     },
     "execution_count": 38,
     "metadata": {},
     "output_type": "execute_result"
    }
   ],
   "source": [
    "modellist\n",
    "exchange_dict={'UKCA':''}\n",
    "modellist_strath2o=pd.Index(modellist.to_series().replace(exchange_dict))\n",
    "modellist_strath2o"
   ]
  },
  {
   "cell_type": "code",
   "execution_count": 39,
   "metadata": {},
   "outputs": [
    {
     "data": {
      "image/png": "[encoded data removed]",
      "text/plain": [
       "<Figure size 432x288 with 1 Axes>"
      ]
     },
     "metadata": {
      "needs_background": "light"
     },
     "output_type": "display_data"
    }
   ],
   "source": [
    "plt.figure(figsize=(6,4))\n",
    "for m,model in enumerate(plot_values.index):\n",
    "    \n",
    "    plt.bar(m,plot_values.loc[model],edgecolor='black',color=color_h2o,label=model)\n",
    "for m,model in enumerate(plot_values.drop(['GFDL-emi','OsloCTM-emi']).index): \n",
    "    if star: plt.plot(m,plot_values_mean_dry.loc[model],marker='*',markersize=12,color='gray')\n",
    "    #plt.bar(m,plot_values.loc[model],edgecolor='black',fill=False,color=color_h2o)\n",
    "    #if(plot_values.loc[model]<0 and plot_values_ch4.loc[model]>0):\n",
    "    #    plt.bar(m,plot_values_ch4.loc[model],bottom=0.0,fill=False,edgecolor='black',hatch='/')\n",
    "    #else:\n",
    "    #    plt.bar(m,plot_values_ch4.loc[model],bottom=plot_values.loc[model],fill=False,edgecolor='black',hatch='/')\n",
    "\n",
    "    #plt.plot(m,plot_values_max_dry.loc[model]+plot_values_max_dry_ch4.loc[model],marker='^',color='black')\n",
    "    #plt.plot(m,plot_values_min_dry.loc[model]+plot_values_min_dry_ch4.loc[model],marker='v',color='black')\n",
    "    \n",
    "    #plt.plot([m,m],[plot_values_max_dry.loc[model]+plot_values_max_dry_ch4.loc[model],plot_values_min_dry.loc[model]+plot_values_min_dry_ch4.loc[model]],color='k')\n",
    "\n",
    "plt.axhline(y=0, color='black',linewidth=0.5,zorder=-10)    \n",
    "    \n",
    "ax=plt.gca()\n",
    "\n",
    "ax.spines['right'].set_visible(False)\n",
    "ax.spines['top'].set_visible(False)\n",
    "\n",
    "plt.title(tittel)\n",
    "plt.ylabel(ytittel)\n",
    "plt.ylim(top=ylim_rf_fig)\n",
    "\n",
    "\n",
    "\n",
    "if legend:\n",
    "    plt.legend()\n",
    "ax.set_xticks(np.arange(0,len(plot_values.index)))\n",
    "ax.set_xticklabels(modellist_strath2o, rotation=35,horizontalalignment=\"right\")\n",
    "plt.tight_layout()\n",
    "#plt.savefig('output/Strat_H2O_RF_per_H2_flux.png', transparent=True)"
   ]
  },
  {
   "cell_type": "markdown",
   "metadata": {},
   "source": [
    "## Aerosol RF by 1 Tg H2"
   ]
  },
  {
   "cell_type": "code",
   "execution_count": 40,
   "metadata": {},
   "outputs": [],
   "source": [
    "tittel = 'Aerosol RF per H$_2$ flux'\n",
    "ytittel ='[mW m$^{-2}$/(Tg H$_2$ yr$^{-1}$)]'\n",
    "field = 'aerosol_rf_per_h2_flux'\n",
    "legend = False"
   ]
  },
  {
   "cell_type": "code",
   "execution_count": 41,
   "metadata": {},
   "outputs": [],
   "source": [
    "#field_ch4 = field.replace('h2_','ch4_')"
   ]
  },
  {
   "cell_type": "code",
   "execution_count": 42,
   "metadata": {},
   "outputs": [
    {
     "data": {
      "text/plain": [
       "GFDL          -0.01\n",
       "INCA           0.04\n",
       "OsloCTM       -0.04\n",
       "UKCA            nan\n",
       "WACCM           nan\n",
       "GFDL-emi      -0.07\n",
       "OsloCTM-emi   -0.04\n",
       "Name: aerosol_rf_per_h2_flux, dtype: float64"
      ]
     },
     "execution_count": 42,
     "metadata": {},
     "output_type": "execute_result"
    }
   ],
   "source": [
    "#Direct effect:\n",
    "plot_values = df_table_per_flux[field]\n",
    "plot_values_mean_dry = df_drydep_mean_table_per_flux[field]\n",
    "#plot_values_max_dry = df_drydep_max_table_per_flux[field]\n",
    "#plot_values_min_dry = df_drydep_min_table_per_flux[field]\n",
    "plot_values"
   ]
  },
  {
   "cell_type": "code",
   "execution_count": 43,
   "metadata": {},
   "outputs": [],
   "source": [
    "#Indirect effect:\n",
    "#plot_values_ch4 = df_table_per_flux_ch4[field_ch4]*df_table_per_flux['ch4_flux_per_h2_flux']\n",
    "#plot_values_max_dry_ch4 = df_drydep_max_table_per_flux_ch4[field_ch4]*df_drydep_max_table_per_flux['ch4_flux_per_h2_flux']\n",
    "#plot_values_min_dry_ch4 = df_drydep_min_table_per_flux_ch4[field_ch4]*df_drydep_min_table_per_flux['ch4_flux_per_h2_flux']"
   ]
  },
  {
   "cell_type": "code",
   "execution_count": 44,
   "metadata": {},
   "outputs": [],
   "source": [
    "#GFDL: The nubers used include the methane induced effect. Set this value to zero and not nan.\n",
    "#Add GFDL numbers:\n",
    "#inputpath = r\"./input/\"\n",
    "#file = 'aerosol_rf.txt'\n",
    "#df_aerosol_rf = pd.read_csv(inputpath+file, sep=';',index_col=0,header=0)\n",
    "#df_aerosol_rf.index.name = None\n",
    "#df_aerosol_rf.rename(columns=model_dict, inplace=True)\n",
    "\n",
    "#plot_values['GFDL-emi']=df_aerosol_rf.loc['10CH4']['GFDL-emi']/df_table_per_flux['deltaH2'].loc['GFDL-emi']\n",
    "#plot_values_max_dry['GFDL-emi']=df_aerosol_rf.loc['10CH4']['GFDL-emi']/df_drydep_max_table_per_flux['deltaH2'].loc['GFDL-emi']\n",
    "#plot_values_min_dry['GFDL-emi']=df_aerosol_rf.loc['10CH4']['GFDL-emi']/df_drydep_min_table_per_flux['deltaH2'].loc['GFDL-emi']\n",
    "\n",
    "#plot_values_ch4['GFDL-emi']=0.0\n",
    "#plot_values_max_dry_ch4['GFDL-emi']=0.0\n",
    "#plot_values_min_dry_ch4['GFDL-emi']=0.0"
   ]
  },
  {
   "cell_type": "code",
   "execution_count": 45,
   "metadata": {},
   "outputs": [
    {
     "data": {
      "text/plain": [
       "Index(['GFDL', 'INCA', 'OsloCTM', '', ' ', 'GFDL-emi', 'OsloCTM-emi'], dtype='object')"
      ]
     },
     "execution_count": 45,
     "metadata": {},
     "output_type": "execute_result"
    }
   ],
   "source": [
    "modellist\n",
    "exchange_dict={'UKCA':'','WACCM':' '}\n",
    "modellist_aerosols=pd.Index(modellist.to_series().replace(exchange_dict))\n",
    "modellist_aerosols"
   ]
  },
  {
   "cell_type": "code",
   "execution_count": 46,
   "metadata": {},
   "outputs": [
    {
     "data": {
      "image/png": "[encoded data removed]",
      "text/plain": [
       "<Figure size 432x288 with 1 Axes>"
      ]
     },
     "metadata": {
      "needs_background": "light"
     },
     "output_type": "display_data"
    }
   ],
   "source": [
    "plt.figure(figsize=(6,4))\n",
    "for m,model in enumerate(plot_values.index):\n",
    "    \n",
    "    plt.bar(m,plot_values.loc[model],edgecolor='black',color=color_aerosol,label=model)\n",
    "for m,model in enumerate(plot_values.drop(['GFDL-emi','OsloCTM-emi']).index): \n",
    "    if star: plt.plot(m,plot_values_mean_dry.loc[model],marker='*',markersize=12,color='gray')\n",
    "    #plt.bar(m,plot_values.loc[model],edgecolor='black',fill=False,color=color_aerosol)\n",
    "  \n",
    "    #plt.bar(m,plot_values_ch4.loc[model],bottom=plot_values.loc[model],fill=False,edgecolor='black',hatch='/')\n",
    "\n",
    "    #plt.plot(m,plot_values_max_dry.loc[model]+plot_values_max_dry_ch4.loc[model],marker='^',color='black')\n",
    "    #plt.plot(m,plot_values_min_dry.loc[model]+plot_values_min_dry_ch4.loc[model],marker='v',color='black')\n",
    "    \n",
    "    #plt.plot([m,m],[plot_values_max_dry.loc[model]+plot_values_max_dry_ch4.loc[model],plot_values_min_dry.loc[model]+plot_values_min_dry_ch4.loc[model]],color='k')\n",
    "\n",
    "plt.axhline(y=0, color='black',linewidth=0.5,zorder=-10)    \n",
    "    \n",
    "ax=plt.gca()\n",
    "\n",
    "ax.spines['right'].set_visible(False)\n",
    "ax.spines['top'].set_visible(False)\n",
    "\n",
    "plt.title(tittel)\n",
    "plt.ylabel(ytittel)\n",
    "plt.ylim(top=ylim_rf_fig)\n",
    "\n",
    "if legend:\n",
    "    plt.legend()\n",
    "ax.set_xticks(np.arange(0,len(plot_values.index)))\n",
    "ax.set_xticklabels(modellist_aerosols, rotation=35,horizontalalignment=\"right\")\n",
    "plt.tight_layout()\n",
    "#plt.savefig('output/aerosol_RF_per_H2_flux.png', transparent=True)"
   ]
  },
  {
   "cell_type": "code",
   "execution_count": 47,
   "metadata": {},
   "outputs": [
    {
     "data": {
      "text/html": [
       "<div>\n",
       "<style scoped>\n",
       "    .dataframe tbody tr th:only-of-type {\n",
       "        vertical-align: middle;\n",
       "    }\n",
       "\n",
       "    .dataframe tbody tr th {\n",
       "        vertical-align: top;\n",
       "    }\n",
       "\n",
       "    .dataframe thead th {\n",
       "        text-align: right;\n",
       "    }\n",
       "</style>\n",
       "<table border=\"1\" class=\"dataframe\">\n",
       "  <thead>\n",
       "    <tr style=\"text-align: right;\">\n",
       "      <th></th>\n",
       "      <th>deltaH2</th>\n",
       "      <th>surf_h2_per_h2_flux</th>\n",
       "      <th>surf_ch4_per_h2_flux</th>\n",
       "      <th>ch4_flux_per_h2_flux</th>\n",
       "      <th>ch4_rf_per_h2_flux</th>\n",
       "      <th>trop_du_ozone_per_h2_flux</th>\n",
       "      <th>strat_du_ozone_per_h2_flux</th>\n",
       "      <th>ozone_rf_per_h2_flux</th>\n",
       "      <th>h2o_rf_per_h2_flux</th>\n",
       "      <th>aerosol_rf_per_h2_flux</th>\n",
       "    </tr>\n",
       "  </thead>\n",
       "  <tbody>\n",
       "    <tr>\n",
       "      <th>GFDL</th>\n",
       "      <td>31.5</td>\n",
       "      <td>6.77</td>\n",
       "      <td>1.11</td>\n",
       "      <td>0.25</td>\n",
       "      <td>0.43</td>\n",
       "      <td>8.02</td>\n",
       "      <td>2.40</td>\n",
       "      <td>0.41</td>\n",
       "      <td>0.28</td>\n",
       "      <td>-0.01</td>\n",
       "    </tr>\n",
       "    <tr>\n",
       "      <th>INCA</th>\n",
       "      <td>7.92</td>\n",
       "      <td>6.71</td>\n",
       "      <td>1.03</td>\n",
       "      <td>0.27</td>\n",
       "      <td>0.40</td>\n",
       "      <td>6.61</td>\n",
       "      <td>-3.65</td>\n",
       "      <td>0.26</td>\n",
       "      <td>0.14</td>\n",
       "      <td>0.04</td>\n",
       "    </tr>\n",
       "    <tr>\n",
       "      <th>OsloCTM</th>\n",
       "      <td>8.49</td>\n",
       "      <td>6.27</td>\n",
       "      <td>1.13</td>\n",
       "      <td>0.31</td>\n",
       "      <td>0.44</td>\n",
       "      <td>9.70</td>\n",
       "      <td>5.94</td>\n",
       "      <td>0.48</td>\n",
       "      <td>0.24</td>\n",
       "      <td>-0.04</td>\n",
       "    </tr>\n",
       "    <tr>\n",
       "      <th>UKCA</th>\n",
       "      <td>8.33</td>\n",
       "      <td>6.43</td>\n",
       "      <td>1.10</td>\n",
       "      <td>0.32</td>\n",
       "      <td>0.42</td>\n",
       "      <td>8.09</td>\n",
       "      <td>nan</td>\n",
       "      <td>0.28</td>\n",
       "      <td>nan</td>\n",
       "      <td>nan</td>\n",
       "    </tr>\n",
       "    <tr>\n",
       "      <th>WACCM</th>\n",
       "      <td>8.53</td>\n",
       "      <td>6.23</td>\n",
       "      <td>1.38</td>\n",
       "      <td>0.38</td>\n",
       "      <td>0.53</td>\n",
       "      <td>10.5</td>\n",
       "      <td>4.82</td>\n",
       "      <td>0.53</td>\n",
       "      <td>0.09</td>\n",
       "      <td>nan</td>\n",
       "    </tr>\n",
       "    <tr>\n",
       "      <th>GFDL-emi</th>\n",
       "      <td>209</td>\n",
       "      <td>6.56</td>\n",
       "      <td>0.94</td>\n",
       "      <td>0.00</td>\n",
       "      <td>0.36</td>\n",
       "      <td>7.51</td>\n",
       "      <td>4.93</td>\n",
       "      <td>0.37</td>\n",
       "      <td>0.24</td>\n",
       "      <td>-0.07</td>\n",
       "    </tr>\n",
       "    <tr>\n",
       "      <th>OsloCTM-emi</th>\n",
       "      <td>13.9</td>\n",
       "      <td>6.43</td>\n",
       "      <td>1.14</td>\n",
       "      <td>0.32</td>\n",
       "      <td>0.44</td>\n",
       "      <td>9.81</td>\n",
       "      <td>5.96</td>\n",
       "      <td>0.48</td>\n",
       "      <td>0.24</td>\n",
       "      <td>-0.04</td>\n",
       "    </tr>\n",
       "  </tbody>\n",
       "</table>\n",
       "</div>"
      ],
      "text/plain": [
       "             deltaH2  surf_h2_per_h2_flux  surf_ch4_per_h2_flux  \\\n",
       "GFDL            31.5                 6.77                  1.11   \n",
       "INCA            7.92                 6.71                  1.03   \n",
       "OsloCTM         8.49                 6.27                  1.13   \n",
       "UKCA            8.33                 6.43                  1.10   \n",
       "WACCM           8.53                 6.23                  1.38   \n",
       "GFDL-emi         209                 6.56                  0.94   \n",
       "OsloCTM-emi     13.9                 6.43                  1.14   \n",
       "\n",
       "             ch4_flux_per_h2_flux  ch4_rf_per_h2_flux  \\\n",
       "GFDL                         0.25                0.43   \n",
       "INCA                         0.27                0.40   \n",
       "OsloCTM                      0.31                0.44   \n",
       "UKCA                         0.32                0.42   \n",
       "WACCM                        0.38                0.53   \n",
       "GFDL-emi                     0.00                0.36   \n",
       "OsloCTM-emi                  0.32                0.44   \n",
       "\n",
       "             trop_du_ozone_per_h2_flux  strat_du_ozone_per_h2_flux  \\\n",
       "GFDL                              8.02                        2.40   \n",
       "INCA                              6.61                       -3.65   \n",
       "OsloCTM                           9.70                        5.94   \n",
       "UKCA                              8.09                         nan   \n",
       "WACCM                             10.5                        4.82   \n",
       "GFDL-emi                          7.51                        4.93   \n",
       "OsloCTM-emi                       9.81                        5.96   \n",
       "\n",
       "             ozone_rf_per_h2_flux  h2o_rf_per_h2_flux  aerosol_rf_per_h2_flux  \n",
       "GFDL                         0.41                0.28                   -0.01  \n",
       "INCA                         0.26                0.14                    0.04  \n",
       "OsloCTM                      0.48                0.24                   -0.04  \n",
       "UKCA                         0.28                 nan                     nan  \n",
       "WACCM                        0.53                0.09                     nan  \n",
       "GFDL-emi                     0.37                0.24                   -0.07  \n",
       "OsloCTM-emi                  0.48                0.24                   -0.04  "
      ]
     },
     "execution_count": 47,
     "metadata": {},
     "output_type": "execute_result"
    }
   ],
   "source": [
    "df_per_flux_h2_combined = df_table_per_flux\n",
    "df_per_flux_h2_combined"
   ]
  },
  {
   "cell_type": "code",
   "execution_count": 48,
   "metadata": {},
   "outputs": [
    {
     "data": {
      "text/html": [
       "<div>\n",
       "<style scoped>\n",
       "    .dataframe tbody tr th:only-of-type {\n",
       "        vertical-align: middle;\n",
       "    }\n",
       "\n",
       "    .dataframe tbody tr th {\n",
       "        vertical-align: top;\n",
       "    }\n",
       "\n",
       "    .dataframe thead th {\n",
       "        text-align: right;\n",
       "    }\n",
       "</style>\n",
       "<table border=\"1\" class=\"dataframe\">\n",
       "  <thead>\n",
       "    <tr style=\"text-align: right;\">\n",
       "      <th></th>\n",
       "      <th>Flux H2 [Tg/yr]</th>\n",
       "      <th>Surf. conc. H2 per flux [ppb yr/Tg]</th>\n",
       "      <th>Surf. conc. CH4 per flux [ppb yr/Tg]</th>\n",
       "      <th>Flux CH4/Flux H2 [Tg CH4/Tg H2]</th>\n",
       "      <th>CH4 RF per flux [mW m-2 yr/ Tg]</th>\n",
       "      <th>Trop. ozone per flux [10$^{-3}$ DU yr/Tg]</th>\n",
       "      <th>Strat. ozone per flux [10$^{-3}$ DU yr/Tg]</th>\n",
       "      <th>ozone RF per flux [mW m-2 yr/ Tg]</th>\n",
       "      <th>Strat. H2O RF per flux [mW m-2 yr/ Tg]</th>\n",
       "      <th>Aerosol RF per flux [mW m-2 yr/ Tg]</th>\n",
       "    </tr>\n",
       "  </thead>\n",
       "  <tbody>\n",
       "    <tr>\n",
       "      <th>GFDL</th>\n",
       "      <td>31.5</td>\n",
       "      <td>6.77</td>\n",
       "      <td>1.11</td>\n",
       "      <td>0.25</td>\n",
       "      <td>0.43</td>\n",
       "      <td>8.02</td>\n",
       "      <td>2.40</td>\n",
       "      <td>0.41</td>\n",
       "      <td>0.28</td>\n",
       "      <td>-0.01</td>\n",
       "    </tr>\n",
       "    <tr>\n",
       "      <th>INCA</th>\n",
       "      <td>7.92</td>\n",
       "      <td>6.71</td>\n",
       "      <td>1.03</td>\n",
       "      <td>0.27</td>\n",
       "      <td>0.40</td>\n",
       "      <td>6.61</td>\n",
       "      <td>-3.65</td>\n",
       "      <td>0.26</td>\n",
       "      <td>0.14</td>\n",
       "      <td>0.04</td>\n",
       "    </tr>\n",
       "    <tr>\n",
       "      <th>OsloCTM</th>\n",
       "      <td>8.49</td>\n",
       "      <td>6.27</td>\n",
       "      <td>1.13</td>\n",
       "      <td>0.31</td>\n",
       "      <td>0.44</td>\n",
       "      <td>9.70</td>\n",
       "      <td>5.94</td>\n",
       "      <td>0.48</td>\n",
       "      <td>0.24</td>\n",
       "      <td>-0.04</td>\n",
       "    </tr>\n",
       "    <tr>\n",
       "      <th>UKCA</th>\n",
       "      <td>8.33</td>\n",
       "      <td>6.43</td>\n",
       "      <td>1.10</td>\n",
       "      <td>0.32</td>\n",
       "      <td>0.42</td>\n",
       "      <td>8.09</td>\n",
       "      <td>nan</td>\n",
       "      <td>0.28</td>\n",
       "      <td>nan</td>\n",
       "      <td>nan</td>\n",
       "    </tr>\n",
       "    <tr>\n",
       "      <th>WACCM</th>\n",
       "      <td>8.53</td>\n",
       "      <td>6.23</td>\n",
       "      <td>1.38</td>\n",
       "      <td>0.38</td>\n",
       "      <td>0.53</td>\n",
       "      <td>10.5</td>\n",
       "      <td>4.82</td>\n",
       "      <td>0.53</td>\n",
       "      <td>0.09</td>\n",
       "      <td>nan</td>\n",
       "    </tr>\n",
       "    <tr>\n",
       "      <th>Model mean</th>\n",
       "      <td>nan</td>\n",
       "      <td>6.48</td>\n",
       "      <td>1.15</td>\n",
       "      <td>0.31</td>\n",
       "      <td>0.44</td>\n",
       "      <td>8.59</td>\n",
       "      <td>2.38</td>\n",
       "      <td>0.39</td>\n",
       "      <td>0.19</td>\n",
       "      <td>-0.00</td>\n",
       "    </tr>\n",
       "  </tbody>\n",
       "</table>\n",
       "</div>"
      ],
      "text/plain": [
       "            Flux H2 [Tg/yr]  Surf. conc. H2 per flux [ppb yr/Tg]  \\\n",
       "GFDL                   31.5                                 6.77   \n",
       "INCA                   7.92                                 6.71   \n",
       "OsloCTM                8.49                                 6.27   \n",
       "UKCA                   8.33                                 6.43   \n",
       "WACCM                  8.53                                 6.23   \n",
       "Model mean              nan                                 6.48   \n",
       "\n",
       "            Surf. conc. CH4 per flux [ppb yr/Tg]  \\\n",
       "GFDL                                        1.11   \n",
       "INCA                                        1.03   \n",
       "OsloCTM                                     1.13   \n",
       "UKCA                                        1.10   \n",
       "WACCM                                       1.38   \n",
       "Model mean                                  1.15   \n",
       "\n",
       "            Flux CH4/Flux H2 [Tg CH4/Tg H2]  CH4 RF per flux [mW m-2 yr/ Tg]  \\\n",
       "GFDL                                   0.25                             0.43   \n",
       "INCA                                   0.27                             0.40   \n",
       "OsloCTM                                0.31                             0.44   \n",
       "UKCA                                   0.32                             0.42   \n",
       "WACCM                                  0.38                             0.53   \n",
       "Model mean                             0.31                             0.44   \n",
       "\n",
       "            Trop. ozone per flux [10$^{-3}$ DU yr/Tg]  \\\n",
       "GFDL                                             8.02   \n",
       "INCA                                             6.61   \n",
       "OsloCTM                                          9.70   \n",
       "UKCA                                             8.09   \n",
       "WACCM                                            10.5   \n",
       "Model mean                                       8.59   \n",
       "\n",
       "            Strat. ozone per flux [10$^{-3}$ DU yr/Tg]  \\\n",
       "GFDL                                              2.40   \n",
       "INCA                                             -3.65   \n",
       "OsloCTM                                           5.94   \n",
       "UKCA                                               nan   \n",
       "WACCM                                             4.82   \n",
       "Model mean                                        2.38   \n",
       "\n",
       "            ozone RF per flux [mW m-2 yr/ Tg]  \\\n",
       "GFDL                                     0.41   \n",
       "INCA                                     0.26   \n",
       "OsloCTM                                  0.48   \n",
       "UKCA                                     0.28   \n",
       "WACCM                                    0.53   \n",
       "Model mean                               0.39   \n",
       "\n",
       "            Strat. H2O RF per flux [mW m-2 yr/ Tg]  \\\n",
       "GFDL                                          0.28   \n",
       "INCA                                          0.14   \n",
       "OsloCTM                                       0.24   \n",
       "UKCA                                           nan   \n",
       "WACCM                                         0.09   \n",
       "Model mean                                    0.19   \n",
       "\n",
       "            Aerosol RF per flux [mW m-2 yr/ Tg]  \n",
       "GFDL                                      -0.01  \n",
       "INCA                                       0.04  \n",
       "OsloCTM                                   -0.04  \n",
       "UKCA                                        nan  \n",
       "WACCM                                       nan  \n",
       "Model mean                                -0.00  "
      ]
     },
     "execution_count": 48,
     "metadata": {},
     "output_type": "execute_result"
    }
   ],
   "source": [
    "#Rename the columns:\n",
    "sorted_array_2 = ['GFDL','INCA','OsloCTM','UKCA','WACCM','GFDL-emi','OsloCTM-emi','Model mean']\n",
    "columns_names={'deltaH2':'Flux H2 [Tg/yr]',\n",
    "               'surf_h2_per_h2_flux': 'Surf. conc. H2 per flux [ppb yr/Tg]',\n",
    "               'surf_ch4_per_h2_flux':'Surf. conc. CH4 per flux [ppb yr/Tg]',\n",
    "               'ch4_flux_per_h2_flux':'Flux CH4/Flux H2 [Tg CH4/Tg H2]',\n",
    "               'ch4_rf_per_h2_flux':'CH4 RF per flux [mW m-2 yr/ Tg]',\n",
    "               'trop_du_ozone_per_h2_flux':'Trop. ozone per flux [10$^{-3}$ DU yr/Tg]',\n",
    "               'strat_du_ozone_per_h2_flux':'Strat. ozone per flux [10$^{-3}$ DU yr/Tg]',\n",
    "               'ozone_rf_per_h2_flux':'ozone RF per flux [mW m-2 yr/ Tg]',\n",
    "               'h2o_rf_per_h2_flux':'Strat. H2O RF per flux [mW m-2 yr/ Tg]',\n",
    "               'aerosol_rf_per_h2_flux':'Aerosol RF per flux [mW m-2 yr/ Tg]'}\n",
    "#Rename column names:\n",
    "df_per_flux_h2_combined.rename(columns=dict(columns_names),inplace=True) #[df_per_flux_h2.columns])\n",
    "df_per_flux_h2_combined.rename(model_dict,axis=0,inplace=True)\n",
    "df_per_flux_h2_combined.loc['Model mean'] = df_per_flux_h2_combined.drop(['GFDL-emi','OsloCTM-emi']).mean()\n",
    "df_per_flux_h2_combined['Flux H2 [Tg/yr]'].loc['Model mean']=np.nan\n",
    "df_per_flux_h2_combined=df_per_flux_h2_combined.reindex(sorted_array_2)\n",
    "df_per_flux_h2_combined.drop(['GFDL-emi','OsloCTM-emi'])"
   ]
  }
 ],
 "metadata": {
  "kernelspec": {
   "display_name": "Python 3",
   "language": "python",
   "name": "python3"
  },
  "language_info": {
   "codemirror_mode": {
    "name": "ipython",
    "version": 3
   },
   "file_extension": ".py",
   "mimetype": "text/x-python",
   "name": "python",
   "nbconvert_exporter": "python",
   "pygments_lexer": "ipython3",
   "version": "3.7.13"
  }
 },
 "nbformat": 4,
 "nbformat_minor": 2
}
