{
 "cells": [
  {
   "cell_type": "code",
   "execution_count": 1,
   "id": "b0219f94",
   "metadata": {},
   "outputs": [
    {
     "data": {
      "text/html": [
       "<style>\n",
       "table {float:left}\n",
       "</style>\n"
      ],
      "text/plain": [
       "<IPython.core.display.HTML object>"
      ]
     },
     "metadata": {},
     "output_type": "display_data"
    }
   ],
   "source": [
    "%%html\n",
    "<style>\n",
    "table {float:left}\n",
    "</style>"
   ]
  },
  {
   "cell_type": "markdown",
   "id": "39e0a7f4",
   "metadata": {},
   "source": [
    "| Models   | Simulations length | Average period |\n",
    "|  :---    | :----              | :---           |\n",
    "| OsloCTM3 | 20 years           |   year 20      |\n",
    "| WACCM6   | 18 years           | last 5 years   |\n",
    "| INCA     | 10 years           | last 3 years   |\n",
    "| GFDL*    | 50 years           | last 40 years  | \n"
   ]
  },
  {
   "cell_type": "code",
   "execution_count": 2,
   "id": "35143e47",
   "metadata": {},
   "outputs": [],
   "source": [
    "\n",
    "import numpy as np\n",
    "import pandas as pd\n",
    "import matplotlib\n",
    "\n",
    "from matplotlib import pyplot as plt\n",
    "%matplotlib inline\n",
    "import uncertainties\n",
    "from uncertainties import ufloat\n",
    "from uncertainties import unumpy\n",
    "from uncertainties.umath import *\n",
    "\n",
    "import ipywidgets as widgets\n",
    "from ipywidgets import interact, interact_manual\n",
    "\n",
    "\n",
    "pd.set_option('display.float_format', lambda x: '{:,.4f}'.format(x) if abs(x)<0 else ('{:,.2f}'.format(x) if abs(x)<10 else ('{:,.1f}'.format(x) if abs(x)<100 else '{:,.0f}'.format(x))))"
   ]
  },
  {
   "cell_type": "code",
   "execution_count": 3,
   "id": "ffb606d9",
   "metadata": {},
   "outputs": [],
   "source": [
    "path = r\"./input/\"\n",
    "outputpath= r\"./output/\""
   ]
  },
  {
   "cell_type": "code",
   "execution_count": 4,
   "id": "ffabde40",
   "metadata": {},
   "outputs": [],
   "source": [
    "#AGWP100_CO2 [mW yr m-2 Tg-1] Source: REF.\n",
    "agwp100_CO2 = 0.09170\n",
    "\n",
    "#CH4 tau_strat[yr] Source: REF\n",
    "tau_strat = 120.0\n",
    "\n",
    "#CH4 tau_soil [yr] Source: REF\n",
    "tau_soil = 160.0\n",
    "\n",
    "#Specific RF for CH4 [mW m-2 ppb-1] Etminan et al., 2016\n",
    "spec_rf_ch4 = 0.44300"
   ]
  },
  {
   "cell_type": "code",
   "execution_count": 5,
   "id": "580cb40a",
   "metadata": {},
   "outputs": [],
   "source": [
    "adjust_drydep = True\n",
    "if(adjust_drydep):\n",
    "    drydep = 80.0\n",
    "    outputpath = outputpath + 'drydep_'+ f'{drydep:.0f}_'"
   ]
  },
  {
   "cell_type": "code",
   "execution_count": 6,
   "id": "8b614383",
   "metadata": {},
   "outputs": [],
   "source": [
    "unc_atmloss = 0.01\n",
    "unc_drydep = 0.01\n",
    "\n",
    "\n"
   ]
  },
  {
   "cell_type": "code",
   "execution_count": 7,
   "id": "29ecf5ea",
   "metadata": {},
   "outputs": [
    {
     "name": "stderr",
     "output_type": "stream",
     "text": [
      "/tmp/ipykernel_5112/3513702663.py:5: FutureWarning: The frame.append method is deprecated and will be removed from pandas in a future version. Use pandas.concat instead.\n",
      "  df_h2_burden = df_h2_burden.append(delta)\n"
     ]
    },
    {
     "data": {
      "text/html": [
       "<div>\n",
       "<style scoped>\n",
       "    .dataframe tbody tr th:only-of-type {\n",
       "        vertical-align: middle;\n",
       "    }\n",
       "\n",
       "    .dataframe tbody tr th {\n",
       "        vertical-align: top;\n",
       "    }\n",
       "\n",
       "    .dataframe thead th {\n",
       "        text-align: right;\n",
       "    }\n",
       "</style>\n",
       "<table border=\"1\" class=\"dataframe\">\n",
       "  <thead>\n",
       "    <tr style=\"text-align: right;\">\n",
       "      <th></th>\n",
       "      <th>OSLOCTM3</th>\n",
       "      <th>WACCM6-2deg</th>\n",
       "      <th>INCA</th>\n",
       "      <th>GFDL-emi</th>\n",
       "      <th>OSLOCTM3-emi</th>\n",
       "    </tr>\n",
       "    <tr>\n",
       "      <th>Scenario</th>\n",
       "      <th></th>\n",
       "      <th></th>\n",
       "      <th></th>\n",
       "      <th></th>\n",
       "      <th></th>\n",
       "    </tr>\n",
       "  </thead>\n",
       "  <tbody>\n",
       "    <tr>\n",
       "      <th>CTRL</th>\n",
       "      <td>196</td>\n",
       "      <td>195</td>\n",
       "      <td>194</td>\n",
       "      <td>192</td>\n",
       "      <td>209</td>\n",
       "    </tr>\n",
       "    <tr>\n",
       "      <th>10H2</th>\n",
       "      <td>215</td>\n",
       "      <td>213</td>\n",
       "      <td>213</td>\n",
       "      <td>656</td>\n",
       "      <td>240</td>\n",
       "    </tr>\n",
       "    <tr>\n",
       "      <th>10CH4</th>\n",
       "      <td>197</td>\n",
       "      <td>195</td>\n",
       "      <td>195</td>\n",
       "      <td>NaN</td>\n",
       "      <td>NaN</td>\n",
       "    </tr>\n",
       "    <tr>\n",
       "      <th>deltaH2</th>\n",
       "      <td>18.7</td>\n",
       "      <td>18.7</td>\n",
       "      <td>18.6</td>\n",
       "      <td>464</td>\n",
       "      <td>30.8</td>\n",
       "    </tr>\n",
       "  </tbody>\n",
       "</table>\n",
       "</div>"
      ],
      "text/plain": [
       "          OSLOCTM3  WACCM6-2deg  INCA  GFDL-emi  OSLOCTM3-emi\n",
       "Scenario                                                     \n",
       "CTRL           196          195   194       192           209\n",
       "10H2           215          213   213       656           240\n",
       "10CH4          197          195   195       NaN           NaN\n",
       "deltaH2       18.7         18.7  18.6       464          30.8"
      ]
     },
     "execution_count": 7,
     "metadata": {},
     "output_type": "execute_result"
    }
   ],
   "source": [
    "file = 'H2_burden.txt'\n",
    "df_h2_burden = pd.read_csv(path + file, sep=';',index_col=0,header=0)\n",
    "delta = df_h2_burden.loc['10H2']-df_h2_burden.loc['CTRL']\n",
    "delta.name = 'deltaH2'\n",
    "df_h2_burden = df_h2_burden.append(delta)\n",
    "df_h2_burden"
   ]
  },
  {
   "cell_type": "code",
   "execution_count": 8,
   "id": "56b5d244",
   "metadata": {},
   "outputs": [
    {
     "data": {
      "text/html": [
       "<div>\n",
       "<style scoped>\n",
       "    .dataframe tbody tr th:only-of-type {\n",
       "        vertical-align: middle;\n",
       "    }\n",
       "\n",
       "    .dataframe tbody tr th {\n",
       "        vertical-align: top;\n",
       "    }\n",
       "\n",
       "    .dataframe thead th {\n",
       "        text-align: right;\n",
       "    }\n",
       "</style>\n",
       "<table border=\"1\" class=\"dataframe\">\n",
       "  <thead>\n",
       "    <tr style=\"text-align: right;\">\n",
       "      <th></th>\n",
       "      <th>OSLOCTM3</th>\n",
       "      <th>WACCM6-2deg</th>\n",
       "      <th>INCA</th>\n",
       "      <th>GFDL-emi</th>\n",
       "      <th>OSLOCTM3-emi</th>\n",
       "    </tr>\n",
       "    <tr>\n",
       "      <th>Scenario</th>\n",
       "      <th></th>\n",
       "      <th></th>\n",
       "      <th></th>\n",
       "      <th></th>\n",
       "      <th></th>\n",
       "    </tr>\n",
       "  </thead>\n",
       "  <tbody>\n",
       "    <tr>\n",
       "      <th>CTRL</th>\n",
       "      <td>59.5</td>\n",
       "      <td>73.0</td>\n",
       "      <td>52.1</td>\n",
       "      <td>54.7</td>\n",
       "      <td>58.4</td>\n",
       "    </tr>\n",
       "    <tr>\n",
       "      <th>10H2</th>\n",
       "      <td>65.5</td>\n",
       "      <td>80.3</td>\n",
       "      <td>57.2</td>\n",
       "      <td>204</td>\n",
       "      <td>67.8</td>\n",
       "    </tr>\n",
       "    <tr>\n",
       "      <th>10CH4</th>\n",
       "      <td>59.5</td>\n",
       "      <td>73.0</td>\n",
       "      <td>52.1</td>\n",
       "      <td>NaN</td>\n",
       "      <td>0.00</td>\n",
       "    </tr>\n",
       "  </tbody>\n",
       "</table>\n",
       "</div>"
      ],
      "text/plain": [
       "          OSLOCTM3  WACCM6-2deg  INCA  GFDL-emi  OSLOCTM3-emi\n",
       "Scenario                                                     \n",
       "CTRL          59.5         73.0  52.1      54.7          58.4\n",
       "10H2          65.5         80.3  57.2       204          67.8\n",
       "10CH4         59.5         73.0  52.1       NaN          0.00"
      ]
     },
     "execution_count": 8,
     "metadata": {},
     "output_type": "execute_result"
    }
   ],
   "source": [
    "file = 'H2_drydep.txt'\n",
    "df_h2_drydep = pd.read_csv(path + file, sep=';',index_col=0,header=0)\n",
    "df_h2_drydep"
   ]
  },
  {
   "cell_type": "code",
   "execution_count": 9,
   "id": "291a2e23",
   "metadata": {},
   "outputs": [
    {
     "name": "stdout",
     "output_type": "stream",
     "text": [
      "NB drydep adjusted\n"
     ]
    },
    {
     "data": {
      "text/html": [
       "<div>\n",
       "<style scoped>\n",
       "    .dataframe tbody tr th:only-of-type {\n",
       "        vertical-align: middle;\n",
       "    }\n",
       "\n",
       "    .dataframe tbody tr th {\n",
       "        vertical-align: top;\n",
       "    }\n",
       "\n",
       "    .dataframe thead th {\n",
       "        text-align: right;\n",
       "    }\n",
       "</style>\n",
       "<table border=\"1\" class=\"dataframe\">\n",
       "  <thead>\n",
       "    <tr style=\"text-align: right;\">\n",
       "      <th></th>\n",
       "      <th>OSLOCTM3</th>\n",
       "      <th>WACCM6-2deg</th>\n",
       "      <th>INCA</th>\n",
       "      <th>GFDL-emi</th>\n",
       "      <th>OSLOCTM3-emi</th>\n",
       "    </tr>\n",
       "  </thead>\n",
       "  <tbody>\n",
       "    <tr>\n",
       "      <th>CTRL</th>\n",
       "      <td>80.0+/-0.8</td>\n",
       "      <td>80.0+/-0.8</td>\n",
       "      <td>80.0+/-0.8</td>\n",
       "      <td>80.0+/-0.8</td>\n",
       "      <td>80.0+/-0.8</td>\n",
       "    </tr>\n",
       "    <tr>\n",
       "      <th>10H2</th>\n",
       "      <td>88.0+/-0.9</td>\n",
       "      <td>88.0+/-0.9</td>\n",
       "      <td>87.9+/-0.9</td>\n",
       "      <td>298.1+/-3.0</td>\n",
       "      <td>92.9+/-0.9</td>\n",
       "    </tr>\n",
       "    <tr>\n",
       "      <th>10CH4</th>\n",
       "      <td>80.0+/-0.8</td>\n",
       "      <td>80.0+/-0.8</td>\n",
       "      <td>80.0+/-0.8</td>\n",
       "      <td>nan+/-0</td>\n",
       "      <td>0.0+/-0</td>\n",
       "    </tr>\n",
       "  </tbody>\n",
       "</table>\n",
       "</div>"
      ],
      "text/plain": [
       "         OSLOCTM3 WACCM6-2deg        INCA     GFDL-emi OSLOCTM3-emi\n",
       "CTRL   80.0+/-0.8  80.0+/-0.8  80.0+/-0.8   80.0+/-0.8   80.0+/-0.8\n",
       "10H2   88.0+/-0.9  88.0+/-0.9  87.9+/-0.9  298.1+/-3.0   92.9+/-0.9\n",
       "10CH4  80.0+/-0.8  80.0+/-0.8  80.0+/-0.8      nan+/-0      0.0+/-0"
      ]
     },
     "execution_count": 9,
     "metadata": {},
     "output_type": "execute_result"
    }
   ],
   "source": [
    "if(adjust_drydep):\n",
    "    print('NB drydep adjusted')\n",
    "    \n",
    "    #Adjust by the relative adjustment in the control simulations\n",
    "    adjust = drydep/df_h2_drydep.loc['CTRL']\n",
    "    df_h2_drydep = df_h2_drydep*adjust\n",
    "    \n",
    "df_h2_drydep\n",
    "df_h2_drydep_unc = df_h2_drydep*unc_drydep\n",
    "df_h2_drydep_u = unumpy.uarray(df_h2_drydep, np.nan_to_num(df_h2_drydep_unc))\n",
    "df_h2_drydep_udf = pd.DataFrame(df_h2_drydep_u, columns=['OSLOCTM3','WACCM6-2deg','INCA','GFDL-emi','OSLOCTM3-emi'], index = ['CTRL','10H2','10CH4'])\n",
    "\n",
    "df_h2_drydep_udf\n"
   ]
  },
  {
   "cell_type": "code",
   "execution_count": 10,
   "id": "b2e587aa",
   "metadata": {},
   "outputs": [
    {
     "data": {
      "text/html": [
       "<div>\n",
       "<style scoped>\n",
       "    .dataframe tbody tr th:only-of-type {\n",
       "        vertical-align: middle;\n",
       "    }\n",
       "\n",
       "    .dataframe tbody tr th {\n",
       "        vertical-align: top;\n",
       "    }\n",
       "\n",
       "    .dataframe thead th {\n",
       "        text-align: right;\n",
       "    }\n",
       "</style>\n",
       "<table border=\"1\" class=\"dataframe\">\n",
       "  <thead>\n",
       "    <tr style=\"text-align: right;\">\n",
       "      <th></th>\n",
       "      <th>OSLOCTM3</th>\n",
       "      <th>WACCM6-2deg</th>\n",
       "      <th>INCA</th>\n",
       "      <th>GFDL-emi</th>\n",
       "      <th>OSLOCTM3-emi</th>\n",
       "    </tr>\n",
       "  </thead>\n",
       "  <tbody>\n",
       "    <tr>\n",
       "      <th>CTRL</th>\n",
       "      <td>28.39+/-0.28</td>\n",
       "      <td>29.02+/-0.29</td>\n",
       "      <td>22.13+/-0.22</td>\n",
       "      <td>22.12+/-0.22</td>\n",
       "      <td>30.07+/-0.30</td>\n",
       "    </tr>\n",
       "    <tr>\n",
       "      <th>10H2</th>\n",
       "      <td>30.98+/-0.31</td>\n",
       "      <td>31.66+/-0.32</td>\n",
       "      <td>24.15+/-0.24</td>\n",
       "      <td>69.4+/-0.7</td>\n",
       "      <td>34.32+/-0.34</td>\n",
       "    </tr>\n",
       "    <tr>\n",
       "      <th>10CH4</th>\n",
       "      <td>27.64+/-0.28</td>\n",
       "      <td>28.15+/-0.28</td>\n",
       "      <td>21.63+/-0.22</td>\n",
       "      <td>nan+/-0</td>\n",
       "      <td>0.0+/-0</td>\n",
       "    </tr>\n",
       "  </tbody>\n",
       "</table>\n",
       "</div>"
      ],
      "text/plain": [
       "           OSLOCTM3   WACCM6-2deg          INCA      GFDL-emi  OSLOCTM3-emi\n",
       "CTRL   28.39+/-0.28  29.02+/-0.29  22.13+/-0.22  22.12+/-0.22  30.07+/-0.30\n",
       "10H2   30.98+/-0.31  31.66+/-0.32  24.15+/-0.24    69.4+/-0.7  34.32+/-0.34\n",
       "10CH4  27.64+/-0.28  28.15+/-0.28  21.63+/-0.22       nan+/-0       0.0+/-0"
      ]
     },
     "execution_count": 10,
     "metadata": {},
     "output_type": "execute_result"
    }
   ],
   "source": [
    "file = 'H2_atm_loss.txt'\n",
    "\n",
    "df_h2_atmloss = pd.read_csv(path + file, sep=';',index_col=0,header=0)\n",
    "\n",
    "df_h2_atmloss_unc = df_h2_atmloss*unc_atmloss\n",
    "df_h2_atmloss_u = unumpy.uarray(df_h2_atmloss,  np.nan_to_num(df_h2_atmloss_unc))\n",
    "df_h2_atmloss_udf = pd.DataFrame(df_h2_atmloss_u, columns=['OSLOCTM3','WACCM6-2deg','INCA','GFDL-emi','OSLOCTM3-emi'], index = ['CTRL','10H2','10CH4'])\n",
    "df_h2_atmloss_udf"
   ]
  },
  {
   "cell_type": "code",
   "execution_count": 11,
   "id": "09878c5b",
   "metadata": {},
   "outputs": [
    {
     "data": {
      "text/html": [
       "<div>\n",
       "<style scoped>\n",
       "    .dataframe tbody tr th:only-of-type {\n",
       "        vertical-align: middle;\n",
       "    }\n",
       "\n",
       "    .dataframe tbody tr th {\n",
       "        vertical-align: top;\n",
       "    }\n",
       "\n",
       "    .dataframe thead th {\n",
       "        text-align: right;\n",
       "    }\n",
       "</style>\n",
       "<table border=\"1\" class=\"dataframe\">\n",
       "  <thead>\n",
       "    <tr style=\"text-align: right;\">\n",
       "      <th></th>\n",
       "      <th>OSLOCTM3</th>\n",
       "      <th>WACCM6-2deg</th>\n",
       "      <th>INCA</th>\n",
       "      <th>GFDL-emi</th>\n",
       "      <th>OSLOCTM3-emi</th>\n",
       "    </tr>\n",
       "  </thead>\n",
       "  <tbody>\n",
       "    <tr>\n",
       "      <th>CTRL</th>\n",
       "      <td>108.4+/-0.8</td>\n",
       "      <td>109.0+/-0.9</td>\n",
       "      <td>102.1+/-0.8</td>\n",
       "      <td>102.1+/-0.8</td>\n",
       "      <td>110.1+/-0.9</td>\n",
       "    </tr>\n",
       "    <tr>\n",
       "      <th>10H2</th>\n",
       "      <td>119.0+/-0.9</td>\n",
       "      <td>119.7+/-0.9</td>\n",
       "      <td>112.1+/-0.9</td>\n",
       "      <td>367.5+/-3.1</td>\n",
       "      <td>127.2+/-1.0</td>\n",
       "    </tr>\n",
       "    <tr>\n",
       "      <th>10CH4</th>\n",
       "      <td>107.6+/-0.8</td>\n",
       "      <td>108.2+/-0.8</td>\n",
       "      <td>101.6+/-0.8</td>\n",
       "      <td>nan+/-0</td>\n",
       "      <td>0.0+/-0</td>\n",
       "    </tr>\n",
       "  </tbody>\n",
       "</table>\n",
       "</div>"
      ],
      "text/plain": [
       "          OSLOCTM3  WACCM6-2deg         INCA     GFDL-emi OSLOCTM3-emi\n",
       "CTRL   108.4+/-0.8  109.0+/-0.9  102.1+/-0.8  102.1+/-0.8  110.1+/-0.9\n",
       "10H2   119.0+/-0.9  119.7+/-0.9  112.1+/-0.9  367.5+/-3.1  127.2+/-1.0\n",
       "10CH4  107.6+/-0.8  108.2+/-0.8  101.6+/-0.8      nan+/-0      0.0+/-0"
      ]
     },
     "execution_count": 11,
     "metadata": {},
     "output_type": "execute_result"
    }
   ],
   "source": [
    "df_h2_loss_udf = df_h2_atmloss_udf + df_h2_drydep_udf\n",
    "df_h2_loss_udf"
   ]
  },
  {
   "cell_type": "code",
   "execution_count": 12,
   "id": "061d8b49",
   "metadata": {},
   "outputs": [
    {
     "data": {
      "text/html": [
       "<div>\n",
       "<style scoped>\n",
       "    .dataframe tbody tr th:only-of-type {\n",
       "        vertical-align: middle;\n",
       "    }\n",
       "\n",
       "    .dataframe tbody tr th {\n",
       "        vertical-align: top;\n",
       "    }\n",
       "\n",
       "    .dataframe thead th {\n",
       "        text-align: right;\n",
       "    }\n",
       "</style>\n",
       "<table border=\"1\" class=\"dataframe\">\n",
       "  <thead>\n",
       "    <tr style=\"text-align: right;\">\n",
       "      <th></th>\n",
       "      <th>OSLOCTM3</th>\n",
       "      <th>WACCM6-2deg</th>\n",
       "      <th>INCA</th>\n",
       "      <th>GFDL-emi</th>\n",
       "      <th>OSLOCTM3-emi</th>\n",
       "    </tr>\n",
       "    <tr>\n",
       "      <th>Scenario</th>\n",
       "      <th></th>\n",
       "      <th></th>\n",
       "      <th></th>\n",
       "      <th></th>\n",
       "      <th></th>\n",
       "    </tr>\n",
       "  </thead>\n",
       "  <tbody>\n",
       "    <tr>\n",
       "      <th>CTRL</th>\n",
       "      <td>56.3</td>\n",
       "      <td>33.9</td>\n",
       "      <td>46.7</td>\n",
       "      <td>44.7</td>\n",
       "      <td>56.2</td>\n",
       "    </tr>\n",
       "    <tr>\n",
       "      <th>10H2</th>\n",
       "      <td>56.2</td>\n",
       "      <td>33.8</td>\n",
       "      <td>46.6</td>\n",
       "      <td>43.1</td>\n",
       "      <td>56.1</td>\n",
       "    </tr>\n",
       "    <tr>\n",
       "      <th>10CH4</th>\n",
       "      <td>59.2</td>\n",
       "      <td>36.4</td>\n",
       "      <td>48.9</td>\n",
       "      <td>NaN</td>\n",
       "      <td>0.00</td>\n",
       "    </tr>\n",
       "  </tbody>\n",
       "</table>\n",
       "</div>"
      ],
      "text/plain": [
       "          OSLOCTM3  WACCM6-2deg  INCA  GFDL-emi  OSLOCTM3-emi\n",
       "Scenario                                                     \n",
       "CTRL          56.3         33.9  46.7      44.7          56.2\n",
       "10H2          56.2         33.8  46.6      43.1          56.1\n",
       "10CH4         59.2         36.4  48.9       NaN          0.00"
      ]
     },
     "execution_count": 12,
     "metadata": {},
     "output_type": "execute_result"
    }
   ],
   "source": [
    "file = 'H2_atm_prod.txt'\n",
    "df_h2_atmprod = pd.read_csv(path + file, sep=';',index_col=0,header=0)\n",
    "df_h2_atmprod"
   ]
  },
  {
   "cell_type": "code",
   "execution_count": 13,
   "id": "264a7aca",
   "metadata": {},
   "outputs": [
    {
     "data": {
      "text/plain": [
       "OSLOCTM3        52.07+/-0.28\n",
       "WACCM6-2deg     75.08+/-0.29\n",
       "INCA            55.45+/-0.22\n",
       "GFDL-emi        57.44+/-0.22\n",
       "OSLOCTM3-emi    53.84+/-0.30\n",
       "Name: CTRL, dtype: object"
      ]
     },
     "execution_count": 13,
     "metadata": {},
     "output_type": "execute_result"
    }
   ],
   "source": [
    "#df_h2_estemis = df_h2_atmloss.loc['CTRL'] + df_h2_drydep.loc['CTRL'] - df_h2_atmprod.loc['CTRL']\n",
    "df_h2_estemis = df_h2_atmloss_udf.loc['CTRL'] + df_h2_drydep.loc['CTRL'] - df_h2_atmprod.loc['CTRL']\n",
    "\n",
    "df_h2_estemis"
   ]
  },
  {
   "cell_type": "code",
   "execution_count": 14,
   "id": "afe32f21",
   "metadata": {},
   "outputs": [
    {
     "name": "stderr",
     "output_type": "stream",
     "text": [
      "/tmp/ipykernel_5112/4036563764.py:5: FutureWarning: The frame.append method is deprecated and will be removed from pandas in a future version. Use pandas.concat instead.\n",
      "  df_h2_surfconc = df_h2_surfconc.append(delta)\n"
     ]
    },
    {
     "data": {
      "text/html": [
       "<div>\n",
       "<style scoped>\n",
       "    .dataframe tbody tr th:only-of-type {\n",
       "        vertical-align: middle;\n",
       "    }\n",
       "\n",
       "    .dataframe tbody tr th {\n",
       "        vertical-align: top;\n",
       "    }\n",
       "\n",
       "    .dataframe thead th {\n",
       "        text-align: right;\n",
       "    }\n",
       "</style>\n",
       "<table border=\"1\" class=\"dataframe\">\n",
       "  <thead>\n",
       "    <tr style=\"text-align: right;\">\n",
       "      <th></th>\n",
       "      <th>OSLOCTM3</th>\n",
       "      <th>WACCM6-2deg</th>\n",
       "      <th>INCA</th>\n",
       "      <th>GFDL-emi</th>\n",
       "      <th>OSLOCTM3-emi</th>\n",
       "    </tr>\n",
       "    <tr>\n",
       "      <th>Scenario</th>\n",
       "      <th></th>\n",
       "      <th></th>\n",
       "      <th></th>\n",
       "      <th></th>\n",
       "      <th></th>\n",
       "    </tr>\n",
       "  </thead>\n",
       "  <tbody>\n",
       "    <tr>\n",
       "      <th>CTRL</th>\n",
       "      <td>532</td>\n",
       "      <td>532</td>\n",
       "      <td>532</td>\n",
       "      <td>534</td>\n",
       "      <td>567</td>\n",
       "    </tr>\n",
       "    <tr>\n",
       "      <th>10H2</th>\n",
       "      <td>585</td>\n",
       "      <td>585</td>\n",
       "      <td>585</td>\n",
       "      <td>1,880</td>\n",
       "      <td>656</td>\n",
       "    </tr>\n",
       "    <tr>\n",
       "      <th>deltaH2</th>\n",
       "      <td>53.2</td>\n",
       "      <td>53.2</td>\n",
       "      <td>53.2</td>\n",
       "      <td>1,346</td>\n",
       "      <td>88.7</td>\n",
       "    </tr>\n",
       "  </tbody>\n",
       "</table>\n",
       "</div>"
      ],
      "text/plain": [
       "          OSLOCTM3  WACCM6-2deg  INCA  GFDL-emi  OSLOCTM3-emi\n",
       "Scenario                                                     \n",
       "CTRL           532          532   532       534           567\n",
       "10H2           585          585   585     1,880           656\n",
       "deltaH2       53.2         53.2  53.2     1,346          88.7"
      ]
     },
     "execution_count": 14,
     "metadata": {},
     "output_type": "execute_result"
    }
   ],
   "source": [
    "file = 'H2_surfconc.txt'\n",
    "df_h2_surfconc = pd.read_csv(path + file, sep=';',index_col=0,header=0)\n",
    "delta = df_h2_surfconc.loc['10H2']-df_h2_surfconc.loc['CTRL']\n",
    "delta.name = 'deltaH2'\n",
    "df_h2_surfconc = df_h2_surfconc.append(delta)\n",
    "df_h2_surfconc"
   ]
  },
  {
   "cell_type": "code",
   "execution_count": 15,
   "id": "7fc1c243",
   "metadata": {},
   "outputs": [
    {
     "data": {
      "text/html": [
       "<div>\n",
       "<style scoped>\n",
       "    .dataframe tbody tr th:only-of-type {\n",
       "        vertical-align: middle;\n",
       "    }\n",
       "\n",
       "    .dataframe tbody tr th {\n",
       "        vertical-align: top;\n",
       "    }\n",
       "\n",
       "    .dataframe thead th {\n",
       "        text-align: right;\n",
       "    }\n",
       "</style>\n",
       "<table border=\"1\" class=\"dataframe\">\n",
       "  <thead>\n",
       "    <tr style=\"text-align: right;\">\n",
       "      <th></th>\n",
       "      <th>OSLOCTM3</th>\n",
       "      <th>WACCM6-2deg</th>\n",
       "      <th>INCA</th>\n",
       "      <th>GFDL-emi</th>\n",
       "      <th>OSLOCTM3-emi</th>\n",
       "    </tr>\n",
       "    <tr>\n",
       "      <th>Scenario</th>\n",
       "      <th></th>\n",
       "      <th></th>\n",
       "      <th></th>\n",
       "      <th></th>\n",
       "      <th></th>\n",
       "    </tr>\n",
       "  </thead>\n",
       "  <tbody>\n",
       "    <tr>\n",
       "      <th>CTRL</th>\n",
       "      <td>1.810+/-0.014</td>\n",
       "      <td>1.785+/-0.014</td>\n",
       "      <td>1.904+/-0.015</td>\n",
       "      <td>1.877+/-0.015</td>\n",
       "      <td>1.898+/-0.015</td>\n",
       "    </tr>\n",
       "    <tr>\n",
       "      <th>10H2</th>\n",
       "      <td>1.806+/-0.014</td>\n",
       "      <td>1.782+/-0.014</td>\n",
       "      <td>1.900+/-0.015</td>\n",
       "      <td>1.784+/-0.015</td>\n",
       "      <td>1.884+/-0.015</td>\n",
       "    </tr>\n",
       "    <tr>\n",
       "      <th>10CH4</th>\n",
       "      <td>1.829+/-0.014</td>\n",
       "      <td>1.805+/-0.014</td>\n",
       "      <td>1.918+/-0.016</td>\n",
       "      <td>NaN</td>\n",
       "      <td>NaN</td>\n",
       "    </tr>\n",
       "  </tbody>\n",
       "</table>\n",
       "</div>"
      ],
      "text/plain": [
       "               OSLOCTM3    WACCM6-2deg           INCA       GFDL-emi  \\\n",
       "Scenario                                                               \n",
       "CTRL      1.810+/-0.014  1.785+/-0.014  1.904+/-0.015  1.877+/-0.015   \n",
       "10H2      1.806+/-0.014  1.782+/-0.014  1.900+/-0.015  1.784+/-0.015   \n",
       "10CH4     1.829+/-0.014  1.805+/-0.014  1.918+/-0.016            NaN   \n",
       "\n",
       "           OSLOCTM3-emi  \n",
       "Scenario                 \n",
       "CTRL      1.898+/-0.015  \n",
       "10H2      1.884+/-0.015  \n",
       "10CH4               NaN  "
      ]
     },
     "execution_count": 15,
     "metadata": {},
     "output_type": "execute_result"
    }
   ],
   "source": [
    "df_h2_lifetime = (df_h2_burden.drop('deltaH2')/((df_h2_loss_udf).clip(1e-9)))\n",
    "df_h2_lifetime"
   ]
  },
  {
   "cell_type": "code",
   "execution_count": 16,
   "id": "1e3e20c4",
   "metadata": {},
   "outputs": [
    {
     "data": {
      "text/html": [
       "<div>\n",
       "<style scoped>\n",
       "    .dataframe tbody tr th:only-of-type {\n",
       "        vertical-align: middle;\n",
       "    }\n",
       "\n",
       "    .dataframe tbody tr th {\n",
       "        vertical-align: top;\n",
       "    }\n",
       "\n",
       "    .dataframe thead th {\n",
       "        text-align: right;\n",
       "    }\n",
       "</style>\n",
       "<table border=\"1\" class=\"dataframe\">\n",
       "  <thead>\n",
       "    <tr style=\"text-align: right;\">\n",
       "      <th></th>\n",
       "      <th>OSLOCTM3</th>\n",
       "      <th>WACCM6-2deg</th>\n",
       "      <th>INCA</th>\n",
       "      <th>GFDL-emi</th>\n",
       "      <th>OSLOCTM3-emi</th>\n",
       "    </tr>\n",
       "    <tr>\n",
       "      <th>Scenario</th>\n",
       "      <th></th>\n",
       "      <th></th>\n",
       "      <th></th>\n",
       "      <th></th>\n",
       "      <th></th>\n",
       "    </tr>\n",
       "  </thead>\n",
       "  <tbody>\n",
       "    <tr>\n",
       "      <th>CTRL</th>\n",
       "      <td>6.91+/-0.07</td>\n",
       "      <td>6.70+/-0.07</td>\n",
       "      <td>8.79+/-0.09</td>\n",
       "      <td>8.66+/-0.09</td>\n",
       "      <td>6.95+/-0.07</td>\n",
       "    </tr>\n",
       "    <tr>\n",
       "      <th>10H2</th>\n",
       "      <td>6.94+/-0.07</td>\n",
       "      <td>6.73+/-0.07</td>\n",
       "      <td>8.82+/-0.09</td>\n",
       "      <td>9.44+/-0.09</td>\n",
       "      <td>6.98+/-0.07</td>\n",
       "    </tr>\n",
       "    <tr>\n",
       "      <th>10CH4</th>\n",
       "      <td>7.12+/-0.07</td>\n",
       "      <td>6.93+/-0.07</td>\n",
       "      <td>9.01+/-0.09</td>\n",
       "      <td>NaN</td>\n",
       "      <td>NaN</td>\n",
       "    </tr>\n",
       "  </tbody>\n",
       "</table>\n",
       "</div>"
      ],
      "text/plain": [
       "             OSLOCTM3  WACCM6-2deg         INCA     GFDL-emi OSLOCTM3-emi\n",
       "Scenario                                                                 \n",
       "CTRL      6.91+/-0.07  6.70+/-0.07  8.79+/-0.09  8.66+/-0.09  6.95+/-0.07\n",
       "10H2      6.94+/-0.07  6.73+/-0.07  8.82+/-0.09  9.44+/-0.09  6.98+/-0.07\n",
       "10CH4     7.12+/-0.07  6.93+/-0.07  9.01+/-0.09          NaN          NaN"
      ]
     },
     "execution_count": 16,
     "metadata": {},
     "output_type": "execute_result"
    }
   ],
   "source": [
    "df_h2_atm_lifetime = df_h2_burden.drop('deltaH2')/df_h2_atmloss_udf.clip(1e-9)\n",
    "df_h2_atm_lifetime"
   ]
  },
  {
   "cell_type": "code",
   "execution_count": 17,
   "id": "df98a0de",
   "metadata": {},
   "outputs": [
    {
     "name": "stderr",
     "output_type": "stream",
     "text": [
      "/tmp/ipykernel_5112/3020540624.py:5: FutureWarning: The frame.append method is deprecated and will be removed from pandas in a future version. Use pandas.concat instead.\n",
      "  df_h2_flux = df_h2_flux.append(delta)\n",
      "/tmp/ipykernel_5112/3020540624.py:9: FutureWarning: The frame.append method is deprecated and will be removed from pandas in a future version. Use pandas.concat instead.\n",
      "  df_h2_flux = df_h2_flux.append(delta)\n"
     ]
    },
    {
     "data": {
      "text/html": [
       "<div>\n",
       "<style scoped>\n",
       "    .dataframe tbody tr th:only-of-type {\n",
       "        vertical-align: middle;\n",
       "    }\n",
       "\n",
       "    .dataframe tbody tr th {\n",
       "        vertical-align: top;\n",
       "    }\n",
       "\n",
       "    .dataframe thead th {\n",
       "        text-align: right;\n",
       "    }\n",
       "</style>\n",
       "<table border=\"1\" class=\"dataframe\">\n",
       "  <thead>\n",
       "    <tr style=\"text-align: right;\">\n",
       "      <th></th>\n",
       "      <th>OSLOCTM3</th>\n",
       "      <th>WACCM6-2deg</th>\n",
       "      <th>INCA</th>\n",
       "      <th>GFDL-emi</th>\n",
       "      <th>OSLOCTM3-emi</th>\n",
       "    </tr>\n",
       "    <tr>\n",
       "      <th>Scenario</th>\n",
       "      <th></th>\n",
       "      <th></th>\n",
       "      <th></th>\n",
       "      <th></th>\n",
       "      <th></th>\n",
       "    </tr>\n",
       "  </thead>\n",
       "  <tbody>\n",
       "    <tr>\n",
       "      <th>CTRL</th>\n",
       "      <td>108.4+/-0.8</td>\n",
       "      <td>109.0+/-0.9</td>\n",
       "      <td>102.1+/-0.8</td>\n",
       "      <td>102.1+/-0.8</td>\n",
       "      <td>110.1+/-0.9</td>\n",
       "    </tr>\n",
       "    <tr>\n",
       "      <th>10H2</th>\n",
       "      <td>119.0+/-0.9</td>\n",
       "      <td>119.7+/-0.9</td>\n",
       "      <td>112.1+/-0.9</td>\n",
       "      <td>367.5+/-3.1</td>\n",
       "      <td>127.2+/-1.0</td>\n",
       "    </tr>\n",
       "    <tr>\n",
       "      <th>10CH4</th>\n",
       "      <td>107.6+/-0.8</td>\n",
       "      <td>108.2+/-0.8</td>\n",
       "      <td>101.6+/-0.8</td>\n",
       "      <td>NaN</td>\n",
       "      <td>NaN</td>\n",
       "    </tr>\n",
       "    <tr>\n",
       "      <th>deltaH2</th>\n",
       "      <td>10.6+/-1.3</td>\n",
       "      <td>10.6+/-1.3</td>\n",
       "      <td>10.0+/-1.2</td>\n",
       "      <td>265.4+/-3.2</td>\n",
       "      <td>17.2+/-1.3</td>\n",
       "    </tr>\n",
       "    <tr>\n",
       "      <th>deltaCH4</th>\n",
       "      <td>-0.7+/-1.2</td>\n",
       "      <td>-0.9+/-1.2</td>\n",
       "      <td>-0.5+/-1.2</td>\n",
       "      <td>nan+/-0.8300286622045049</td>\n",
       "      <td>nan+/-0.8546328419581509</td>\n",
       "    </tr>\n",
       "  </tbody>\n",
       "</table>\n",
       "</div>"
      ],
      "text/plain": [
       "             OSLOCTM3  WACCM6-2deg         INCA                  GFDL-emi  \\\n",
       "Scenario                                                                    \n",
       "CTRL      108.4+/-0.8  109.0+/-0.9  102.1+/-0.8               102.1+/-0.8   \n",
       "10H2      119.0+/-0.9  119.7+/-0.9  112.1+/-0.9               367.5+/-3.1   \n",
       "10CH4     107.6+/-0.8  108.2+/-0.8  101.6+/-0.8                       NaN   \n",
       "deltaH2    10.6+/-1.3   10.6+/-1.3   10.0+/-1.2               265.4+/-3.2   \n",
       "deltaCH4   -0.7+/-1.2   -0.9+/-1.2   -0.5+/-1.2  nan+/-0.8300286622045049   \n",
       "\n",
       "                      OSLOCTM3-emi  \n",
       "Scenario                            \n",
       "CTRL                   110.1+/-0.9  \n",
       "10H2                   127.2+/-1.0  \n",
       "10CH4                          NaN  \n",
       "deltaH2                 17.2+/-1.3  \n",
       "deltaCH4  nan+/-0.8546328419581509  "
      ]
     },
     "execution_count": 17,
     "metadata": {},
     "output_type": "execute_result"
    }
   ],
   "source": [
    "df_h2_flux = df_h2_burden.drop('deltaH2')/df_h2_lifetime\n",
    "#Add delta flux 10H2:\n",
    "delta = df_h2_flux.loc['10H2']-df_h2_flux.loc['CTRL']\n",
    "delta.name = 'deltaH2'\n",
    "df_h2_flux = df_h2_flux.append(delta)\n",
    "#Add delta flux 10CH4:\n",
    "delta = df_h2_flux.loc['10CH4']-df_h2_flux.loc['CTRL']\n",
    "delta.name = 'deltaCH4'\n",
    "df_h2_flux = df_h2_flux.append(delta)\n",
    "df_h2_flux\n"
   ]
  },
  {
   "cell_type": "code",
   "execution_count": 18,
   "id": "69fe2795",
   "metadata": {},
   "outputs": [
    {
     "name": "stderr",
     "output_type": "stream",
     "text": [
      "/tmp/ipykernel_5112/1947808632.py:5: FutureWarning: The frame.append method is deprecated and will be removed from pandas in a future version. Use pandas.concat instead.\n",
      "  df_ch4_burden = df_ch4_burden.append(delta)\n"
     ]
    },
    {
     "data": {
      "text/html": [
       "<div>\n",
       "<style scoped>\n",
       "    .dataframe tbody tr th:only-of-type {\n",
       "        vertical-align: middle;\n",
       "    }\n",
       "\n",
       "    .dataframe tbody tr th {\n",
       "        vertical-align: top;\n",
       "    }\n",
       "\n",
       "    .dataframe thead th {\n",
       "        text-align: right;\n",
       "    }\n",
       "</style>\n",
       "<table border=\"1\" class=\"dataframe\">\n",
       "  <thead>\n",
       "    <tr style=\"text-align: right;\">\n",
       "      <th></th>\n",
       "      <th>OSLOCTM3</th>\n",
       "      <th>WACCM6-2deg</th>\n",
       "      <th>INCA</th>\n",
       "      <th>GFDL-emi</th>\n",
       "      <th>OSLOCTM3-emi</th>\n",
       "    </tr>\n",
       "    <tr>\n",
       "      <th>Scenario</th>\n",
       "      <th></th>\n",
       "      <th></th>\n",
       "      <th></th>\n",
       "      <th></th>\n",
       "      <th></th>\n",
       "    </tr>\n",
       "  </thead>\n",
       "  <tbody>\n",
       "    <tr>\n",
       "      <th>CTRL</th>\n",
       "      <td>4,995</td>\n",
       "      <td>5,003</td>\n",
       "      <td>4,994</td>\n",
       "      <td>4,935</td>\n",
       "      <td>4,995</td>\n",
       "    </tr>\n",
       "    <tr>\n",
       "      <th>10H2</th>\n",
       "      <td>4,995</td>\n",
       "      <td>5,003</td>\n",
       "      <td>4,995</td>\n",
       "      <td>4,935</td>\n",
       "      <td>4,995</td>\n",
       "    </tr>\n",
       "    <tr>\n",
       "      <th>10CH4</th>\n",
       "      <td>5,496</td>\n",
       "      <td>5,505</td>\n",
       "      <td>5,494</td>\n",
       "      <td>NaN</td>\n",
       "      <td>NaN</td>\n",
       "    </tr>\n",
       "    <tr>\n",
       "      <th>deltaCH4</th>\n",
       "      <td>501</td>\n",
       "      <td>502</td>\n",
       "      <td>500</td>\n",
       "      <td>NaN</td>\n",
       "      <td>NaN</td>\n",
       "    </tr>\n",
       "  </tbody>\n",
       "</table>\n",
       "</div>"
      ],
      "text/plain": [
       "          OSLOCTM3  WACCM6-2deg  INCA  GFDL-emi  OSLOCTM3-emi\n",
       "Scenario                                                     \n",
       "CTRL         4,995        5,003 4,994     4,935         4,995\n",
       "10H2         4,995        5,003 4,995     4,935         4,995\n",
       "10CH4        5,496        5,505 5,494       NaN           NaN\n",
       "deltaCH4       501          502   500       NaN           NaN"
      ]
     },
     "execution_count": 18,
     "metadata": {},
     "output_type": "execute_result"
    }
   ],
   "source": [
    "file = 'CH4_burden.txt'\n",
    "df_ch4_burden = pd.read_csv(path + file, sep=';',index_col=0,header=0)\n",
    "delta = df_ch4_burden.loc['10CH4']-df_ch4_burden.loc['CTRL']\n",
    "delta.name = 'deltaCH4'\n",
    "df_ch4_burden = df_ch4_burden.append(delta)\n",
    "df_ch4_burden"
   ]
  },
  {
   "cell_type": "code",
   "execution_count": 19,
   "id": "fead5db5",
   "metadata": {},
   "outputs": [
    {
     "data": {
      "text/html": [
       "<div>\n",
       "<style scoped>\n",
       "    .dataframe tbody tr th:only-of-type {\n",
       "        vertical-align: middle;\n",
       "    }\n",
       "\n",
       "    .dataframe tbody tr th {\n",
       "        vertical-align: top;\n",
       "    }\n",
       "\n",
       "    .dataframe thead th {\n",
       "        text-align: right;\n",
       "    }\n",
       "</style>\n",
       "<table border=\"1\" class=\"dataframe\">\n",
       "  <thead>\n",
       "    <tr style=\"text-align: right;\">\n",
       "      <th></th>\n",
       "      <th>OSLOCTM3</th>\n",
       "      <th>WACCM6-2deg</th>\n",
       "      <th>INCA</th>\n",
       "      <th>GFDL-emi</th>\n",
       "      <th>OSLOCTM3-emi</th>\n",
       "    </tr>\n",
       "    <tr>\n",
       "      <th>Scenario</th>\n",
       "      <th></th>\n",
       "      <th></th>\n",
       "      <th></th>\n",
       "      <th></th>\n",
       "      <th></th>\n",
       "    </tr>\n",
       "  </thead>\n",
       "  <tbody>\n",
       "    <tr>\n",
       "      <th>CTRL</th>\n",
       "      <td>683</td>\n",
       "      <td>727</td>\n",
       "      <td>550</td>\n",
       "      <td>582</td>\n",
       "      <td>681</td>\n",
       "    </tr>\n",
       "    <tr>\n",
       "      <th>10H2</th>\n",
       "      <td>680</td>\n",
       "      <td>724</td>\n",
       "      <td>547</td>\n",
       "      <td>537</td>\n",
       "      <td>677</td>\n",
       "    </tr>\n",
       "    <tr>\n",
       "      <th>10CH4</th>\n",
       "      <td>728</td>\n",
       "      <td>772</td>\n",
       "      <td>588</td>\n",
       "      <td>NaN</td>\n",
       "      <td>NaN</td>\n",
       "    </tr>\n",
       "  </tbody>\n",
       "</table>\n",
       "</div>"
      ],
      "text/plain": [
       "          OSLOCTM3  WACCM6-2deg  INCA  GFDL-emi  OSLOCTM3-emi\n",
       "Scenario                                                     \n",
       "CTRL           683          727   550       582           681\n",
       "10H2           680          724   547       537           677\n",
       "10CH4          728          772   588       NaN           NaN"
      ]
     },
     "execution_count": 19,
     "metadata": {},
     "output_type": "execute_result"
    }
   ],
   "source": [
    "file = 'CH4_loss.txt'\n",
    "df_ch4_loss = pd.read_csv(path + file, sep=';',index_col=0,header=0)\n",
    "df_ch4_loss"
   ]
  },
  {
   "cell_type": "code",
   "execution_count": 20,
   "id": "a13c0dce",
   "metadata": {},
   "outputs": [
    {
     "name": "stderr",
     "output_type": "stream",
     "text": [
      "/tmp/ipykernel_5112/3092691110.py:5: FutureWarning: The frame.append method is deprecated and will be removed from pandas in a future version. Use pandas.concat instead.\n",
      "  df_ch4_surfconc = df_ch4_surfconc.append(delta)\n"
     ]
    },
    {
     "data": {
      "text/html": [
       "<div>\n",
       "<style scoped>\n",
       "    .dataframe tbody tr th:only-of-type {\n",
       "        vertical-align: middle;\n",
       "    }\n",
       "\n",
       "    .dataframe tbody tr th {\n",
       "        vertical-align: top;\n",
       "    }\n",
       "\n",
       "    .dataframe thead th {\n",
       "        text-align: right;\n",
       "    }\n",
       "</style>\n",
       "<table border=\"1\" class=\"dataframe\">\n",
       "  <thead>\n",
       "    <tr style=\"text-align: right;\">\n",
       "      <th></th>\n",
       "      <th>OSLOCTM3</th>\n",
       "      <th>WACCM6-2deg</th>\n",
       "      <th>INCA</th>\n",
       "      <th>GFDL-emi</th>\n",
       "      <th>OSLOCTM3-emi</th>\n",
       "    </tr>\n",
       "    <tr>\n",
       "      <th>Scenario</th>\n",
       "      <th></th>\n",
       "      <th></th>\n",
       "      <th></th>\n",
       "      <th></th>\n",
       "      <th></th>\n",
       "    </tr>\n",
       "  </thead>\n",
       "  <tbody>\n",
       "    <tr>\n",
       "      <th>CTRL</th>\n",
       "      <td>1,813</td>\n",
       "      <td>1,808</td>\n",
       "      <td>1,813</td>\n",
       "      <td>1,804</td>\n",
       "      <td>1,813</td>\n",
       "    </tr>\n",
       "    <tr>\n",
       "      <th>10CH4</th>\n",
       "      <td>1,994</td>\n",
       "      <td>1,989</td>\n",
       "      <td>1,994</td>\n",
       "      <td>NaN</td>\n",
       "      <td>NaN</td>\n",
       "    </tr>\n",
       "    <tr>\n",
       "      <th>deltaCH4</th>\n",
       "      <td>181</td>\n",
       "      <td>181</td>\n",
       "      <td>181</td>\n",
       "      <td>NaN</td>\n",
       "      <td>NaN</td>\n",
       "    </tr>\n",
       "  </tbody>\n",
       "</table>\n",
       "</div>"
      ],
      "text/plain": [
       "          OSLOCTM3  WACCM6-2deg  INCA  GFDL-emi  OSLOCTM3-emi\n",
       "Scenario                                                     \n",
       "CTRL         1,813        1,808 1,813     1,804         1,813\n",
       "10CH4        1,994        1,989 1,994       NaN           NaN\n",
       "deltaCH4       181          181   181       NaN           NaN"
      ]
     },
     "execution_count": 20,
     "metadata": {},
     "output_type": "execute_result"
    }
   ],
   "source": [
    "file = 'CH4_surfconc.txt'\n",
    "df_ch4_surfconc = pd.read_csv(path + file, sep=';',index_col=0,header=0)\n",
    "delta = df_ch4_surfconc.loc['10CH4']-df_ch4_surfconc.loc['CTRL']\n",
    "delta.name = 'deltaCH4'\n",
    "df_ch4_surfconc = df_ch4_surfconc.append(delta)\n",
    "df_ch4_surfconc"
   ]
  },
  {
   "cell_type": "code",
   "execution_count": 21,
   "id": "f1da9c30",
   "metadata": {},
   "outputs": [
    {
     "data": {
      "text/html": [
       "<div>\n",
       "<style scoped>\n",
       "    .dataframe tbody tr th:only-of-type {\n",
       "        vertical-align: middle;\n",
       "    }\n",
       "\n",
       "    .dataframe tbody tr th {\n",
       "        vertical-align: top;\n",
       "    }\n",
       "\n",
       "    .dataframe thead th {\n",
       "        text-align: right;\n",
       "    }\n",
       "</style>\n",
       "<table border=\"1\" class=\"dataframe\">\n",
       "  <thead>\n",
       "    <tr style=\"text-align: right;\">\n",
       "      <th></th>\n",
       "      <th>OSLOCTM3</th>\n",
       "      <th>WACCM6-2deg</th>\n",
       "      <th>INCA</th>\n",
       "      <th>GFDL-emi</th>\n",
       "      <th>OSLOCTM3-emi</th>\n",
       "    </tr>\n",
       "    <tr>\n",
       "      <th>Scenario</th>\n",
       "      <th></th>\n",
       "      <th></th>\n",
       "      <th></th>\n",
       "      <th></th>\n",
       "      <th></th>\n",
       "    </tr>\n",
       "  </thead>\n",
       "  <tbody>\n",
       "    <tr>\n",
       "      <th>CTRL</th>\n",
       "      <td>7.31</td>\n",
       "      <td>6.88</td>\n",
       "      <td>9.09</td>\n",
       "      <td>8.48</td>\n",
       "      <td>7.33</td>\n",
       "    </tr>\n",
       "    <tr>\n",
       "      <th>10H2</th>\n",
       "      <td>7.34</td>\n",
       "      <td>6.91</td>\n",
       "      <td>9.12</td>\n",
       "      <td>9.19</td>\n",
       "      <td>7.38</td>\n",
       "    </tr>\n",
       "    <tr>\n",
       "      <th>10CH4</th>\n",
       "      <td>7.55</td>\n",
       "      <td>7.13</td>\n",
       "      <td>9.35</td>\n",
       "      <td>NaN</td>\n",
       "      <td>NaN</td>\n",
       "    </tr>\n",
       "  </tbody>\n",
       "</table>\n",
       "</div>"
      ],
      "text/plain": [
       "          OSLOCTM3  WACCM6-2deg  INCA  GFDL-emi  OSLOCTM3-emi\n",
       "Scenario                                                     \n",
       "CTRL          7.31         6.88  9.09      8.48          7.33\n",
       "10H2          7.34         6.91  9.12      9.19          7.38\n",
       "10CH4         7.55         7.13  9.35       NaN           NaN"
      ]
     },
     "execution_count": 21,
     "metadata": {},
     "output_type": "execute_result"
    }
   ],
   "source": [
    "df_ch4_lifetime = df_ch4_burden.drop('deltaCH4')/df_ch4_loss\n",
    "df_ch4_lifetime"
   ]
  },
  {
   "cell_type": "code",
   "execution_count": 22,
   "id": "b7fd9506",
   "metadata": {},
   "outputs": [
    {
     "data": {
      "text/html": [
       "<div>\n",
       "<style scoped>\n",
       "    .dataframe tbody tr th:only-of-type {\n",
       "        vertical-align: middle;\n",
       "    }\n",
       "\n",
       "    .dataframe tbody tr th {\n",
       "        vertical-align: top;\n",
       "    }\n",
       "\n",
       "    .dataframe thead th {\n",
       "        text-align: right;\n",
       "    }\n",
       "</style>\n",
       "<table border=\"1\" class=\"dataframe\">\n",
       "  <thead>\n",
       "    <tr style=\"text-align: right;\">\n",
       "      <th></th>\n",
       "      <th>OSLOCTM3</th>\n",
       "      <th>WACCM6-2deg</th>\n",
       "      <th>INCA</th>\n",
       "      <th>GFDL-emi</th>\n",
       "      <th>OSLOCTM3-emi</th>\n",
       "    </tr>\n",
       "    <tr>\n",
       "      <th>Scenario</th>\n",
       "      <th></th>\n",
       "      <th></th>\n",
       "      <th></th>\n",
       "      <th></th>\n",
       "      <th></th>\n",
       "    </tr>\n",
       "  </thead>\n",
       "  <tbody>\n",
       "    <tr>\n",
       "      <th>CTRL</th>\n",
       "      <td>6.61</td>\n",
       "      <td>6.25</td>\n",
       "      <td>8.02</td>\n",
       "      <td>7.54</td>\n",
       "      <td>6.62</td>\n",
       "    </tr>\n",
       "    <tr>\n",
       "      <th>10H2</th>\n",
       "      <td>6.63</td>\n",
       "      <td>6.28</td>\n",
       "      <td>8.05</td>\n",
       "      <td>8.10</td>\n",
       "      <td>6.66</td>\n",
       "    </tr>\n",
       "    <tr>\n",
       "      <th>10CH4</th>\n",
       "      <td>6.80</td>\n",
       "      <td>6.46</td>\n",
       "      <td>8.23</td>\n",
       "      <td>NaN</td>\n",
       "      <td>NaN</td>\n",
       "    </tr>\n",
       "  </tbody>\n",
       "</table>\n",
       "</div>"
      ],
      "text/plain": [
       "          OSLOCTM3  WACCM6-2deg  INCA  GFDL-emi  OSLOCTM3-emi\n",
       "Scenario                                                     \n",
       "CTRL          6.61         6.25  8.02      7.54          6.62\n",
       "10H2          6.63         6.28  8.05      8.10          6.66\n",
       "10CH4         6.80         6.46  8.23       NaN           NaN"
      ]
     },
     "execution_count": 22,
     "metadata": {},
     "output_type": "execute_result"
    }
   ],
   "source": [
    "df_ch4_tot_lifetime = 1.0/(1.0/df_ch4_lifetime + 1.0/tau_strat + 1.0/tau_soil)\n",
    "df_ch4_tot_lifetime"
   ]
  },
  {
   "cell_type": "code",
   "execution_count": 23,
   "id": "a920a5fc",
   "metadata": {},
   "outputs": [
    {
     "name": "stderr",
     "output_type": "stream",
     "text": [
      "/tmp/ipykernel_5112/4243536324.py:5: FutureWarning: The frame.append method is deprecated and will be removed from pandas in a future version. Use pandas.concat instead.\n",
      "  df_ch4_flux = df_ch4_flux.append(delta)\n",
      "/tmp/ipykernel_5112/4243536324.py:9: FutureWarning: The frame.append method is deprecated and will be removed from pandas in a future version. Use pandas.concat instead.\n",
      "  df_ch4_flux = df_ch4_flux.append(delta)\n"
     ]
    },
    {
     "data": {
      "text/html": [
       "<div>\n",
       "<style scoped>\n",
       "    .dataframe tbody tr th:only-of-type {\n",
       "        vertical-align: middle;\n",
       "    }\n",
       "\n",
       "    .dataframe tbody tr th {\n",
       "        vertical-align: top;\n",
       "    }\n",
       "\n",
       "    .dataframe thead th {\n",
       "        text-align: right;\n",
       "    }\n",
       "</style>\n",
       "<table border=\"1\" class=\"dataframe\">\n",
       "  <thead>\n",
       "    <tr style=\"text-align: right;\">\n",
       "      <th></th>\n",
       "      <th>OSLOCTM3</th>\n",
       "      <th>WACCM6-2deg</th>\n",
       "      <th>INCA</th>\n",
       "      <th>GFDL-emi</th>\n",
       "      <th>OSLOCTM3-emi</th>\n",
       "    </tr>\n",
       "    <tr>\n",
       "      <th>Scenario</th>\n",
       "      <th></th>\n",
       "      <th></th>\n",
       "      <th></th>\n",
       "      <th></th>\n",
       "      <th></th>\n",
       "    </tr>\n",
       "  </thead>\n",
       "  <tbody>\n",
       "    <tr>\n",
       "      <th>CTRL</th>\n",
       "      <td>756</td>\n",
       "      <td>800</td>\n",
       "      <td>622</td>\n",
       "      <td>654</td>\n",
       "      <td>754</td>\n",
       "    </tr>\n",
       "    <tr>\n",
       "      <th>10H2</th>\n",
       "      <td>753</td>\n",
       "      <td>797</td>\n",
       "      <td>620</td>\n",
       "      <td>609</td>\n",
       "      <td>750</td>\n",
       "    </tr>\n",
       "    <tr>\n",
       "      <th>10CH4</th>\n",
       "      <td>808</td>\n",
       "      <td>852</td>\n",
       "      <td>668</td>\n",
       "      <td>NaN</td>\n",
       "      <td>NaN</td>\n",
       "    </tr>\n",
       "    <tr>\n",
       "      <th>deltaH2</th>\n",
       "      <td>-2.67</td>\n",
       "      <td>-3.28</td>\n",
       "      <td>-2.10</td>\n",
       "      <td>-45.2</td>\n",
       "      <td>-4.38</td>\n",
       "    </tr>\n",
       "    <tr>\n",
       "      <th>deltaCH4</th>\n",
       "      <td>52.4</td>\n",
       "      <td>52.4</td>\n",
       "      <td>45.3</td>\n",
       "      <td>NaN</td>\n",
       "      <td>NaN</td>\n",
       "    </tr>\n",
       "  </tbody>\n",
       "</table>\n",
       "</div>"
      ],
      "text/plain": [
       "          OSLOCTM3  WACCM6-2deg  INCA  GFDL-emi  OSLOCTM3-emi\n",
       "Scenario                                                     \n",
       "CTRL           756          800   622       654           754\n",
       "10H2           753          797   620       609           750\n",
       "10CH4          808          852   668       NaN           NaN\n",
       "deltaH2      -2.67        -3.28 -2.10     -45.2         -4.38\n",
       "deltaCH4      52.4         52.4  45.3       NaN           NaN"
      ]
     },
     "execution_count": 23,
     "metadata": {},
     "output_type": "execute_result"
    }
   ],
   "source": [
    "df_ch4_flux = df_ch4_burden.drop('deltaCH4')/df_ch4_tot_lifetime\n",
    "#Add delta CH4 flux 10H2\n",
    "delta = df_ch4_flux.loc['10H2']-df_ch4_flux.loc['CTRL']\n",
    "delta.name = 'deltaH2'\n",
    "df_ch4_flux = df_ch4_flux.append(delta)\n",
    "#Add delta CH4 flux 10CH4\n",
    "delta = df_ch4_flux.loc['10CH4']-df_ch4_flux.loc['CTRL']\n",
    "delta.name = 'deltaCH4'\n",
    "df_ch4_flux = df_ch4_flux.append(delta)\n",
    "df_ch4_flux\n"
   ]
  },
  {
   "cell_type": "code",
   "execution_count": 24,
   "id": "543fab6c",
   "metadata": {},
   "outputs": [
    {
     "data": {
      "text/html": [
       "<div>\n",
       "<style scoped>\n",
       "    .dataframe tbody tr th:only-of-type {\n",
       "        vertical-align: middle;\n",
       "    }\n",
       "\n",
       "    .dataframe tbody tr th {\n",
       "        vertical-align: top;\n",
       "    }\n",
       "\n",
       "    .dataframe thead th {\n",
       "        text-align: right;\n",
       "    }\n",
       "</style>\n",
       "<table border=\"1\" class=\"dataframe\">\n",
       "  <thead>\n",
       "    <tr style=\"text-align: right;\">\n",
       "      <th></th>\n",
       "      <th>OSLOCTM3</th>\n",
       "      <th>WACCM6-2deg</th>\n",
       "      <th>INCA</th>\n",
       "      <th>GFDL-emi</th>\n",
       "      <th>OSLOCTM3-emi</th>\n",
       "    </tr>\n",
       "    <tr>\n",
       "      <th>Scenario</th>\n",
       "      <th></th>\n",
       "      <th></th>\n",
       "      <th></th>\n",
       "      <th></th>\n",
       "      <th></th>\n",
       "    </tr>\n",
       "  </thead>\n",
       "  <tbody>\n",
       "    <tr>\n",
       "      <th>10H2</th>\n",
       "      <td>0.04</td>\n",
       "      <td>0.03</td>\n",
       "      <td>0.03</td>\n",
       "      <td>0.73</td>\n",
       "      <td>0.06</td>\n",
       "    </tr>\n",
       "    <tr>\n",
       "      <th>10CH4</th>\n",
       "      <td>0.83</td>\n",
       "      <td>0.88</td>\n",
       "      <td>0.54</td>\n",
       "      <td>0.76</td>\n",
       "      <td>NaN</td>\n",
       "    </tr>\n",
       "  </tbody>\n",
       "</table>\n",
       "</div>"
      ],
      "text/plain": [
       "          OSLOCTM3  WACCM6-2deg  INCA  GFDL-emi  OSLOCTM3-emi\n",
       "Scenario                                                     \n",
       "10H2          0.04         0.03  0.03      0.73          0.06\n",
       "10CH4         0.83         0.88  0.54      0.76           NaN"
      ]
     },
     "execution_count": 24,
     "metadata": {},
     "output_type": "execute_result"
    }
   ],
   "source": [
    "file = 'ozone_du_trop.txt'\n",
    "df_ozone_du_trop = pd.read_csv(path+file, sep=';',index_col=0,header=0)\n",
    "df_ozone_du_trop"
   ]
  },
  {
   "cell_type": "code",
   "execution_count": 25,
   "id": "4a8770fa",
   "metadata": {},
   "outputs": [
    {
     "data": {
      "text/html": [
       "<div>\n",
       "<style scoped>\n",
       "    .dataframe tbody tr th:only-of-type {\n",
       "        vertical-align: middle;\n",
       "    }\n",
       "\n",
       "    .dataframe tbody tr th {\n",
       "        vertical-align: top;\n",
       "    }\n",
       "\n",
       "    .dataframe thead th {\n",
       "        text-align: right;\n",
       "    }\n",
       "</style>\n",
       "<table border=\"1\" class=\"dataframe\">\n",
       "  <thead>\n",
       "    <tr style=\"text-align: right;\">\n",
       "      <th></th>\n",
       "      <th>OSLOCTM3</th>\n",
       "      <th>WACCM6-2deg</th>\n",
       "      <th>INCA</th>\n",
       "      <th>GFDL-emi</th>\n",
       "      <th>OSLOCTM3-emi</th>\n",
       "    </tr>\n",
       "    <tr>\n",
       "      <th>Scenario</th>\n",
       "      <th></th>\n",
       "      <th></th>\n",
       "      <th></th>\n",
       "      <th></th>\n",
       "      <th></th>\n",
       "    </tr>\n",
       "  </thead>\n",
       "  <tbody>\n",
       "    <tr>\n",
       "      <th>10H2</th>\n",
       "      <td>-0.03</td>\n",
       "      <td>0.00</td>\n",
       "      <td>-0.03</td>\n",
       "      <td>-0.23</td>\n",
       "      <td>0.02</td>\n",
       "    </tr>\n",
       "    <tr>\n",
       "      <th>10CH4</th>\n",
       "      <td>0.83</td>\n",
       "      <td>0.83</td>\n",
       "      <td>0.35</td>\n",
       "      <td>1.07</td>\n",
       "      <td>NaN</td>\n",
       "    </tr>\n",
       "  </tbody>\n",
       "</table>\n",
       "</div>"
      ],
      "text/plain": [
       "          OSLOCTM3  WACCM6-2deg  INCA  GFDL-emi  OSLOCTM3-emi\n",
       "Scenario                                                     \n",
       "10H2         -0.03         0.00 -0.03     -0.23          0.02\n",
       "10CH4         0.83         0.83  0.35      1.07           NaN"
      ]
     },
     "execution_count": 25,
     "metadata": {},
     "output_type": "execute_result"
    }
   ],
   "source": [
    "file = 'ozone_du_strat.txt'\n",
    "df_ozone_du_strat = pd.read_csv(path+file, sep=';',index_col=0,header=0)\n",
    "df_ozone_du_strat"
   ]
  },
  {
   "cell_type": "code",
   "execution_count": 26,
   "id": "02b951f0",
   "metadata": {},
   "outputs": [
    {
     "data": {
      "text/html": [
       "<div>\n",
       "<style scoped>\n",
       "    .dataframe tbody tr th:only-of-type {\n",
       "        vertical-align: middle;\n",
       "    }\n",
       "\n",
       "    .dataframe tbody tr th {\n",
       "        vertical-align: top;\n",
       "    }\n",
       "\n",
       "    .dataframe thead th {\n",
       "        text-align: right;\n",
       "    }\n",
       "</style>\n",
       "<table border=\"1\" class=\"dataframe\">\n",
       "  <thead>\n",
       "    <tr style=\"text-align: right;\">\n",
       "      <th></th>\n",
       "      <th>OSLOCTM3</th>\n",
       "      <th>WACCM6-2deg</th>\n",
       "      <th>INCA</th>\n",
       "      <th>GFDL-emi</th>\n",
       "      <th>OSLOCTM3-emi</th>\n",
       "    </tr>\n",
       "    <tr>\n",
       "      <th>Scenario</th>\n",
       "      <th></th>\n",
       "      <th></th>\n",
       "      <th></th>\n",
       "      <th></th>\n",
       "      <th></th>\n",
       "    </tr>\n",
       "  </thead>\n",
       "  <tbody>\n",
       "    <tr>\n",
       "      <th>10H2</th>\n",
       "      <td>0.00</td>\n",
       "      <td>0.00</td>\n",
       "      <td>-0.02</td>\n",
       "      <td>-0.22</td>\n",
       "      <td>NaN</td>\n",
       "    </tr>\n",
       "    <tr>\n",
       "      <th>10CH4</th>\n",
       "      <td>0.62</td>\n",
       "      <td>0.66</td>\n",
       "      <td>0.28</td>\n",
       "      <td>0.68</td>\n",
       "      <td>NaN</td>\n",
       "    </tr>\n",
       "  </tbody>\n",
       "</table>\n",
       "</div>"
      ],
      "text/plain": [
       "          OSLOCTM3  WACCM6-2deg  INCA  GFDL-emi  OSLOCTM3-emi\n",
       "Scenario                                                     \n",
       "10H2          0.00         0.00 -0.02     -0.22           NaN\n",
       "10CH4         0.62         0.66  0.28      0.68           NaN"
      ]
     },
     "execution_count": 26,
     "metadata": {},
     "output_type": "execute_result"
    }
   ],
   "source": [
    "file = 'ozone_du_strat_6060.txt'\n",
    "df_ozone_du_strat_6060 = pd.read_csv(path+file, sep=';',index_col=0,header=0)\n",
    "df_ozone_du_strat_6060"
   ]
  },
  {
   "cell_type": "code",
   "execution_count": 27,
   "id": "75948aad",
   "metadata": {},
   "outputs": [
    {
     "data": {
      "text/html": [
       "<div>\n",
       "<style scoped>\n",
       "    .dataframe tbody tr th:only-of-type {\n",
       "        vertical-align: middle;\n",
       "    }\n",
       "\n",
       "    .dataframe tbody tr th {\n",
       "        vertical-align: top;\n",
       "    }\n",
       "\n",
       "    .dataframe thead th {\n",
       "        text-align: right;\n",
       "    }\n",
       "</style>\n",
       "<table border=\"1\" class=\"dataframe\">\n",
       "  <thead>\n",
       "    <tr style=\"text-align: right;\">\n",
       "      <th></th>\n",
       "      <th>OSLOCTM3</th>\n",
       "      <th>WACCM6-2deg</th>\n",
       "      <th>INCA</th>\n",
       "      <th>GFDL-emi</th>\n",
       "      <th>OSLOCTM3-emi</th>\n",
       "    </tr>\n",
       "    <tr>\n",
       "      <th>Scenario</th>\n",
       "      <th></th>\n",
       "      <th></th>\n",
       "      <th></th>\n",
       "      <th></th>\n",
       "      <th></th>\n",
       "    </tr>\n",
       "  </thead>\n",
       "  <tbody>\n",
       "    <tr>\n",
       "      <th>10H2</th>\n",
       "      <td>0.00</td>\n",
       "      <td>0.00</td>\n",
       "      <td>-0.01</td>\n",
       "      <td>-0.01</td>\n",
       "      <td>NaN</td>\n",
       "    </tr>\n",
       "    <tr>\n",
       "      <th>10CH4</th>\n",
       "      <td>0.23</td>\n",
       "      <td>0.17</td>\n",
       "      <td>0.08</td>\n",
       "      <td>0.40</td>\n",
       "      <td>NaN</td>\n",
       "    </tr>\n",
       "  </tbody>\n",
       "</table>\n",
       "</div>"
      ],
      "text/plain": [
       "          OSLOCTM3  WACCM6-2deg  INCA  GFDL-emi  OSLOCTM3-emi\n",
       "Scenario                                                     \n",
       "10H2          0.00         0.00 -0.01     -0.01           NaN\n",
       "10CH4         0.23         0.17  0.08      0.40           NaN"
      ]
     },
     "execution_count": 27,
     "metadata": {},
     "output_type": "execute_result"
    }
   ],
   "source": [
    "file = 'ozone_du_strat_gt60.txt'\n",
    "df_ozone_du_strat_gt60 = pd.read_csv(path+file, sep=';',index_col=0,header=0)\n",
    "df_ozone_du_strat_gt60"
   ]
  },
  {
   "cell_type": "code",
   "execution_count": 28,
   "id": "6491a6c4",
   "metadata": {},
   "outputs": [
    {
     "data": {
      "text/html": [
       "<div>\n",
       "<style scoped>\n",
       "    .dataframe tbody tr th:only-of-type {\n",
       "        vertical-align: middle;\n",
       "    }\n",
       "\n",
       "    .dataframe tbody tr th {\n",
       "        vertical-align: top;\n",
       "    }\n",
       "\n",
       "    .dataframe thead th {\n",
       "        text-align: right;\n",
       "    }\n",
       "</style>\n",
       "<table border=\"1\" class=\"dataframe\">\n",
       "  <thead>\n",
       "    <tr style=\"text-align: right;\">\n",
       "      <th></th>\n",
       "      <th>OSLOCTM3</th>\n",
       "      <th>WACCM6-2deg</th>\n",
       "      <th>INCA</th>\n",
       "      <th>GFDL-emi</th>\n",
       "      <th>OSLOCTM3-emi</th>\n",
       "    </tr>\n",
       "    <tr>\n",
       "      <th>Scenario</th>\n",
       "      <th></th>\n",
       "      <th></th>\n",
       "      <th></th>\n",
       "      <th></th>\n",
       "      <th></th>\n",
       "    </tr>\n",
       "  </thead>\n",
       "  <tbody>\n",
       "    <tr>\n",
       "      <th>10H2</th>\n",
       "      <td>1.86</td>\n",
       "      <td>1.73</td>\n",
       "      <td>1.12</td>\n",
       "      <td>34.0</td>\n",
       "      <td>3.08</td>\n",
       "    </tr>\n",
       "    <tr>\n",
       "      <th>10CH4</th>\n",
       "      <td>41.0</td>\n",
       "      <td>42.9</td>\n",
       "      <td>22.6</td>\n",
       "      <td>37.6</td>\n",
       "      <td>NaN</td>\n",
       "    </tr>\n",
       "  </tbody>\n",
       "</table>\n",
       "</div>"
      ],
      "text/plain": [
       "          OSLOCTM3  WACCM6-2deg  INCA  GFDL-emi  OSLOCTM3-emi\n",
       "Scenario                                                     \n",
       "10H2          1.86         1.73  1.12      34.0          3.08\n",
       "10CH4         41.0         42.9  22.6      37.6           NaN"
      ]
     },
     "execution_count": 28,
     "metadata": {},
     "output_type": "execute_result"
    }
   ],
   "source": [
    "file = 'ozone_rf.txt'\n",
    "df_ozone_rf = pd.read_csv(path+file, sep=';',index_col=0,header=0)\n",
    "df_ozone_rf"
   ]
  },
  {
   "cell_type": "code",
   "execution_count": 29,
   "id": "c2dbccc5",
   "metadata": {},
   "outputs": [
    {
     "data": {
      "text/html": [
       "<div>\n",
       "<style scoped>\n",
       "    .dataframe tbody tr th:only-of-type {\n",
       "        vertical-align: middle;\n",
       "    }\n",
       "\n",
       "    .dataframe tbody tr th {\n",
       "        vertical-align: top;\n",
       "    }\n",
       "\n",
       "    .dataframe thead th {\n",
       "        text-align: right;\n",
       "    }\n",
       "</style>\n",
       "<table border=\"1\" class=\"dataframe\">\n",
       "  <thead>\n",
       "    <tr style=\"text-align: right;\">\n",
       "      <th></th>\n",
       "      <th>OSLOCTM3</th>\n",
       "      <th>WACCM6-2deg</th>\n",
       "      <th>INCA</th>\n",
       "      <th>GFDL-emi</th>\n",
       "      <th>OSLOCTM3-emi</th>\n",
       "    </tr>\n",
       "    <tr>\n",
       "      <th>Scenario</th>\n",
       "      <th></th>\n",
       "      <th></th>\n",
       "      <th></th>\n",
       "      <th></th>\n",
       "      <th></th>\n",
       "    </tr>\n",
       "  </thead>\n",
       "  <tbody>\n",
       "    <tr>\n",
       "      <th>10H2</th>\n",
       "      <td>1.86</td>\n",
       "      <td>1.73</td>\n",
       "      <td>1.12</td>\n",
       "      <td>34.0</td>\n",
       "      <td>3.08</td>\n",
       "    </tr>\n",
       "    <tr>\n",
       "      <th>10CH4</th>\n",
       "      <td>41.0</td>\n",
       "      <td>42.9</td>\n",
       "      <td>22.6</td>\n",
       "      <td>37.6</td>\n",
       "      <td>41.0</td>\n",
       "    </tr>\n",
       "  </tbody>\n",
       "</table>\n",
       "</div>"
      ],
      "text/plain": [
       "          OSLOCTM3  WACCM6-2deg  INCA  GFDL-emi  OSLOCTM3-emi\n",
       "Scenario                                                     \n",
       "10H2          1.86         1.73  1.12      34.0          3.08\n",
       "10CH4         41.0         42.9  22.6      37.6          41.0"
      ]
     },
     "execution_count": 29,
     "metadata": {},
     "output_type": "execute_result"
    }
   ],
   "source": [
    "df_ozone_rf['OSLOCTM3-emi'].loc['10CH4'] = df_ozone_rf['OSLOCTM3'].loc['10CH4'] \n",
    "df_ozone_rf"
   ]
  },
  {
   "cell_type": "code",
   "execution_count": 30,
   "id": "18ead83c",
   "metadata": {},
   "outputs": [
    {
     "data": {
      "text/html": [
       "<div>\n",
       "<style scoped>\n",
       "    .dataframe tbody tr th:only-of-type {\n",
       "        vertical-align: middle;\n",
       "    }\n",
       "\n",
       "    .dataframe tbody tr th {\n",
       "        vertical-align: top;\n",
       "    }\n",
       "\n",
       "    .dataframe thead th {\n",
       "        text-align: right;\n",
       "    }\n",
       "</style>\n",
       "<table border=\"1\" class=\"dataframe\">\n",
       "  <thead>\n",
       "    <tr style=\"text-align: right;\">\n",
       "      <th></th>\n",
       "      <th>OSLOCTM3</th>\n",
       "      <th>WACCM6-2deg</th>\n",
       "      <th>INCA</th>\n",
       "      <th>OSLOCTM3-emi</th>\n",
       "    </tr>\n",
       "    <tr>\n",
       "      <th>Scenario</th>\n",
       "      <th></th>\n",
       "      <th></th>\n",
       "      <th></th>\n",
       "      <th></th>\n",
       "    </tr>\n",
       "  </thead>\n",
       "  <tbody>\n",
       "    <tr>\n",
       "      <th>10H2</th>\n",
       "      <td>1.48</td>\n",
       "      <td>0.51</td>\n",
       "      <td>0.53</td>\n",
       "      <td>1.33</td>\n",
       "    </tr>\n",
       "    <tr>\n",
       "      <th>10CH4</th>\n",
       "      <td>10.1</td>\n",
       "      <td>3.76</td>\n",
       "      <td>4.58</td>\n",
       "      <td>NaN</td>\n",
       "    </tr>\n",
       "  </tbody>\n",
       "</table>\n",
       "</div>"
      ],
      "text/plain": [
       "          OSLOCTM3  WACCM6-2deg  INCA  OSLOCTM3-emi\n",
       "Scenario                                           \n",
       "10H2          1.48         0.51  0.53          1.33\n",
       "10CH4         10.1         3.76  4.58           NaN"
      ]
     },
     "execution_count": 30,
     "metadata": {},
     "output_type": "execute_result"
    }
   ],
   "source": [
    "file = 'H2O_rf.txt'\n",
    "df_h2o_rf = pd.read_csv(path+file, sep=';',index_col=0,header=0)\n",
    "df_h2o_rf"
   ]
  },
  {
   "cell_type": "code",
   "execution_count": 31,
   "id": "ed42d9fd",
   "metadata": {},
   "outputs": [
    {
     "data": {
      "text/html": [
       "<div>\n",
       "<style scoped>\n",
       "    .dataframe tbody tr th:only-of-type {\n",
       "        vertical-align: middle;\n",
       "    }\n",
       "\n",
       "    .dataframe tbody tr th {\n",
       "        vertical-align: top;\n",
       "    }\n",
       "\n",
       "    .dataframe thead th {\n",
       "        text-align: right;\n",
       "    }\n",
       "</style>\n",
       "<table border=\"1\" class=\"dataframe\">\n",
       "  <thead>\n",
       "    <tr style=\"text-align: right;\">\n",
       "      <th></th>\n",
       "      <th>OSLOCTM3</th>\n",
       "      <th>WACCM6-2deg</th>\n",
       "      <th>INCA</th>\n",
       "      <th>OSLOCTM3-emi</th>\n",
       "    </tr>\n",
       "    <tr>\n",
       "      <th>Scenario</th>\n",
       "      <th></th>\n",
       "      <th></th>\n",
       "      <th></th>\n",
       "      <th></th>\n",
       "    </tr>\n",
       "  </thead>\n",
       "  <tbody>\n",
       "    <tr>\n",
       "      <th>10H2</th>\n",
       "      <td>1.48</td>\n",
       "      <td>0.51</td>\n",
       "      <td>0.53</td>\n",
       "      <td>1.33</td>\n",
       "    </tr>\n",
       "    <tr>\n",
       "      <th>10CH4</th>\n",
       "      <td>10.1</td>\n",
       "      <td>3.76</td>\n",
       "      <td>4.58</td>\n",
       "      <td>10.1</td>\n",
       "    </tr>\n",
       "  </tbody>\n",
       "</table>\n",
       "</div>"
      ],
      "text/plain": [
       "          OSLOCTM3  WACCM6-2deg  INCA  OSLOCTM3-emi\n",
       "Scenario                                           \n",
       "10H2          1.48         0.51  0.53          1.33\n",
       "10CH4         10.1         3.76  4.58          10.1"
      ]
     },
     "execution_count": 31,
     "metadata": {},
     "output_type": "execute_result"
    }
   ],
   "source": [
    "df_h2o_rf['OSLOCTM3-emi'].loc['10CH4'] = df_h2o_rf['OSLOCTM3'].loc['10CH4'] \n",
    "df_h2o_rf"
   ]
  },
  {
   "cell_type": "code",
   "execution_count": 32,
   "id": "340b065e",
   "metadata": {},
   "outputs": [
    {
     "data": {
      "text/html": [
       "<div>\n",
       "<style scoped>\n",
       "    .dataframe tbody tr th:only-of-type {\n",
       "        vertical-align: middle;\n",
       "    }\n",
       "\n",
       "    .dataframe tbody tr th {\n",
       "        vertical-align: top;\n",
       "    }\n",
       "\n",
       "    .dataframe thead th {\n",
       "        text-align: right;\n",
       "    }\n",
       "</style>\n",
       "<table border=\"1\" class=\"dataframe\">\n",
       "  <thead>\n",
       "    <tr style=\"text-align: right;\">\n",
       "      <th></th>\n",
       "      <th>GFDL</th>\n",
       "    </tr>\n",
       "  </thead>\n",
       "  <tbody>\n",
       "    <tr>\n",
       "      <th>H2 [mW m-2]</th>\n",
       "      <td>32.6</td>\n",
       "    </tr>\n",
       "    <tr>\n",
       "      <th>H2+CH4 [mW m-2]</th>\n",
       "      <td>51.7</td>\n",
       "    </tr>\n",
       "  </tbody>\n",
       "</table>\n",
       "</div>"
      ],
      "text/plain": [
       "                 GFDL\n",
       "H2 [mW m-2]      32.6\n",
       "H2+CH4 [mW m-2]  51.7"
      ]
     },
     "execution_count": 32,
     "metadata": {},
     "output_type": "execute_result"
    }
   ],
   "source": [
    "file = 'H2O_rf_gfdl.txt'\n",
    "h2o_rf_gfdl = pd.read_csv(path + file, sep=',',index_col=0,header=0)\n",
    "h2o_rf_gfdl"
   ]
  },
  {
   "cell_type": "code",
   "execution_count": 33,
   "id": "5bae89f5",
   "metadata": {},
   "outputs": [
    {
     "data": {
      "text/plain": [
       "OSLOCTM3          5.0+/-0.6\n",
       "WACCM6-2deg       5.0+/-0.6\n",
       "INCA              5.3+/-0.7\n",
       "GFDL-emi        5.07+/-0.06\n",
       "OSLOCTM3-emi      5.2+/-0.4\n",
       "Name: surf_h2_per_h2_flux, dtype: object"
      ]
     },
     "execution_count": 33,
     "metadata": {},
     "output_type": "execute_result"
    }
   ],
   "source": [
    "df_surf_h2_per_h2_flux = df_h2_surfconc.loc['deltaH2']/df_h2_flux.loc['deltaH2']\n",
    "df_surf_h2_per_h2_flux.name = 'surf_h2_per_h2_flux'\n",
    "df_surf_h2_per_h2_flux"
   ]
  },
  {
   "cell_type": "code",
   "execution_count": 34,
   "id": "76b2191a",
   "metadata": {},
   "outputs": [
    {
     "data": {
      "text/plain": [
       "OSLOCTM3          0.252+/-0.030\n",
       "WACCM6-2deg         0.31+/-0.04\n",
       "INCA              0.211+/-0.026\n",
       "GFDL-emi        0.1702+/-0.0020\n",
       "OSLOCTM3-emi      0.255+/-0.019\n",
       "Name: ch4_flux_per_h2_flux, dtype: object"
      ]
     },
     "execution_count": 34,
     "metadata": {},
     "output_type": "execute_result"
    }
   ],
   "source": [
    "df_ch4_flux_per_h2_flux = -1.0*df_ch4_flux.loc['deltaH2']/df_h2_flux.loc['deltaH2']\n",
    "df_ch4_flux_per_h2_flux.name = 'ch4_flux_per_h2_flux'\n",
    "df_ch4_flux_per_h2_flux"
   ]
  },
  {
   "cell_type": "code",
   "execution_count": 35,
   "id": "3dddcf83",
   "metadata": {},
   "outputs": [
    {
     "data": {
      "text/plain": [
       "OSLOCTM3       3.46\n",
       "WACCM6-2deg    3.45\n",
       "INCA           4.00\n",
       "GFDL-emi        NaN\n",
       "OSLOCTM3-emi    NaN\n",
       "Name: surf_ch4_per_ch4_flux, dtype: float64"
      ]
     },
     "execution_count": 35,
     "metadata": {},
     "output_type": "execute_result"
    }
   ],
   "source": [
    "df_surf_ch4_per_ch4_flux =  df_ch4_surfconc.loc['deltaCH4']/df_ch4_flux.loc['deltaCH4']\n",
    "df_surf_ch4_per_ch4_flux.name = 'surf_ch4_per_ch4_flux'\n",
    "df_surf_ch4_per_ch4_flux"
   ]
  },
  {
   "cell_type": "code",
   "execution_count": 36,
   "id": "47c58c6c",
   "metadata": {},
   "outputs": [
    {
     "data": {
      "text/plain": [
       "OSLOCTM3       3.46\n",
       "WACCM6-2deg    3.45\n",
       "INCA           4.00\n",
       "GFDL-emi        NaN\n",
       "OSLOCTM3-emi   3.46\n",
       "Name: surf_ch4_per_ch4_flux, dtype: float64"
      ]
     },
     "execution_count": 36,
     "metadata": {},
     "output_type": "execute_result"
    }
   ],
   "source": [
    "df_surf_ch4_per_ch4_flux['OSLOCTM3-emi'] = df_surf_ch4_per_ch4_flux['OSLOCTM3']\n",
    "df_surf_ch4_per_ch4_flux"
   ]
  },
  {
   "cell_type": "code",
   "execution_count": 37,
   "id": "d592202d",
   "metadata": {},
   "outputs": [
    {
     "data": {
      "text/plain": [
       "OSLOCTM3          0.87+/-0.10\n",
       "WACCM6-2deg       1.06+/-0.13\n",
       "INCA              0.84+/-0.10\n",
       "GFDL-emi        0.742+/-0.009\n",
       "OSLOCTM3-emi      0.88+/-0.07\n",
       "Name: surf_ch4_per_h2_flux, dtype: object"
      ]
     },
     "execution_count": 37,
     "metadata": {},
     "output_type": "execute_result"
    }
   ],
   "source": [
    "df_surf_ch4_per_h2_flux = df_surf_ch4_per_ch4_flux*df_ch4_flux_per_h2_flux\n",
    "df_surf_ch4_per_h2_flux.name = 'surf_ch4_per_h2_flux'\n",
    "\n",
    "#Add GFDL:\n",
    "#Increase in surface concentration CH4:\n",
    "#1808 to 2005 ppbv (REF Paolot)\n",
    "df_surf_ch4_per_h2_flux['GFDL-emi']= (2005.-1808.)/df_h2_flux['GFDL-emi'].loc['deltaH2']\n",
    "df_surf_ch4_per_h2_flux"
   ]
  },
  {
   "cell_type": "code",
   "execution_count": 38,
   "id": "8f28754b",
   "metadata": {},
   "outputs": [
    {
     "data": {
      "text/plain": [
       "OSLOCTM3        0.014+/-0.023\n",
       "WACCM6-2deg     0.016+/-0.023\n",
       "INCA            0.011+/-0.026\n",
       "GFDL-emi            nan+/-nan\n",
       "OSLOCTM3-emi        nan+/-nan\n",
       "Name: h2_flux_per_ch4_flux, dtype: object"
      ]
     },
     "execution_count": 38,
     "metadata": {},
     "output_type": "execute_result"
    }
   ],
   "source": [
    "df_h2_flux_per_ch4_flux = -1.0*df_h2_flux.loc['deltaCH4']/df_ch4_flux.loc['deltaCH4']\n",
    "df_h2_flux_per_ch4_flux.name = 'h2_flux_per_ch4_flux'\n",
    "df_h2_flux_per_ch4_flux"
   ]
  },
  {
   "cell_type": "code",
   "execution_count": 39,
   "id": "4b9ca0f5",
   "metadata": {},
   "outputs": [
    {
     "data": {
      "text/plain": [
       "OSLOCTM3        0.014+/-0.023\n",
       "WACCM6-2deg     0.016+/-0.023\n",
       "INCA            0.011+/-0.026\n",
       "GFDL-emi            nan+/-nan\n",
       "OSLOCTM3-emi    0.014+/-0.023\n",
       "Name: h2_flux_per_ch4_flux, dtype: object"
      ]
     },
     "execution_count": 39,
     "metadata": {},
     "output_type": "execute_result"
    }
   ],
   "source": [
    "df_h2_flux_per_ch4_flux['OSLOCTM3-emi'] = df_h2_flux_per_ch4_flux['OSLOCTM3']\n",
    "df_h2_flux_per_ch4_flux"
   ]
  },
  {
   "cell_type": "code",
   "execution_count": 40,
   "id": "68e3fc1e",
   "metadata": {},
   "outputs": [],
   "source": [
    "df_h2_agwp_ch4 = df_surf_ch4_per_h2_flux*spec_rf_ch4\n",
    "df_h2_agwp_ch4.name = 'h2_agwp_ch4'\n",
    "\n",
    "\n",
    "#agwp_ch4 = RF per flux H2 (For the per flux table)\n",
    "df_ch4_rf_per_h2_flux = df_surf_ch4_per_h2_flux*spec_rf_ch4\n",
    "df_ch4_rf_per_h2_flux.name = 'ch4_rf_per_h2_flux'"
   ]
  },
  {
   "cell_type": "code",
   "execution_count": 41,
   "id": "4af5b58c",
   "metadata": {},
   "outputs": [],
   "source": [
    "antmod = len(df_h2_agwp_ch4.index)\n",
    "df_h2_gwp = pd.DataFrame(np.empty([5,antmod])*np.nan,columns=df_h2_agwp_ch4.index,\n",
    "                         index=['O3','CH4','strat H2O','O3 CH4ind','strat H2O CH4ind'])\n",
    "df_h2_gwp_u = pd.DataFrame(np.empty([5,5]), columns=['OSLOCTM3','WACCM6-2deg','INCA','GFDL-emi','OSLOCTM3-emi'], index = ['O3','CH4','strat H2O','O3 CH4ind','strat H2O CH4ind'])\n",
    "df_h2_gwp_ua = unumpy.uarray(df_h2_gwp_u, 0)\n",
    "\n",
    "df_h2_gwp_ua\n",
    "df_h2_gwp_udf = pd.DataFrame(df_h2_gwp_ua, columns=['OSLOCTM3','WACCM6-2deg','INCA','GFDL-emi','OSLOCTM3-emi'], index = ['O3','CH4','strat H2O','O3 CH4ind','strat H2O CH4ind'])\n"
   ]
  },
  {
   "cell_type": "code",
   "execution_count": 42,
   "id": "fd2239c5",
   "metadata": {},
   "outputs": [
    {
     "data": {
      "text/html": [
       "<div>\n",
       "<style scoped>\n",
       "    .dataframe tbody tr th:only-of-type {\n",
       "        vertical-align: middle;\n",
       "    }\n",
       "\n",
       "    .dataframe tbody tr th {\n",
       "        vertical-align: top;\n",
       "    }\n",
       "\n",
       "    .dataframe thead th {\n",
       "        text-align: right;\n",
       "    }\n",
       "</style>\n",
       "<table border=\"1\" class=\"dataframe\">\n",
       "  <thead>\n",
       "    <tr style=\"text-align: right;\">\n",
       "      <th></th>\n",
       "      <th>OSLOCTM3</th>\n",
       "      <th>WACCM6-2deg</th>\n",
       "      <th>INCA</th>\n",
       "      <th>GFDL-emi</th>\n",
       "      <th>OSLOCTM3-emi</th>\n",
       "    </tr>\n",
       "  </thead>\n",
       "  <tbody>\n",
       "    <tr>\n",
       "      <th>O3</th>\n",
       "      <td>(2.767623778885857+/-0)e-316</td>\n",
       "      <td>0.0+/-0</td>\n",
       "      <td>(6.013470016999069+/-0)e-154</td>\n",
       "      <td>(9.93868795967888+/-0)e+73</td>\n",
       "      <td>(6.013469532346091+/-0)e-154</td>\n",
       "    </tr>\n",
       "    <tr>\n",
       "      <th>CH4</th>\n",
       "      <td>4.2+/-0.5</td>\n",
       "      <td>5.1+/-0.6</td>\n",
       "      <td>4.1+/-0.5</td>\n",
       "      <td>3.59+/-0.04</td>\n",
       "      <td>4.26+/-0.32</td>\n",
       "    </tr>\n",
       "    <tr>\n",
       "      <th>strat H2O</th>\n",
       "      <td>(9.819255917262645+/-0)e+25</td>\n",
       "      <td>(6.013469531216656+/-0)e-154</td>\n",
       "      <td>(6.013470016999094+/-0)e-154</td>\n",
       "      <td>(3.523379244718934+/-0)e+246</td>\n",
       "      <td>(3.487750597089634+/-0)e-259</td>\n",
       "    </tr>\n",
       "    <tr>\n",
       "      <th>O3 CH4ind</th>\n",
       "      <td>(6.32300943928094+/-0)e+233</td>\n",
       "      <td>(6.465722853802729+/-0)e+170</td>\n",
       "      <td>(1.7040955379029223+/-0)e+16</td>\n",
       "      <td>(1.4264442253343372+/-0)e-153</td>\n",
       "      <td>(2.45+/-0)e-322</td>\n",
       "    </tr>\n",
       "    <tr>\n",
       "      <th>strat H2O CH4ind</th>\n",
       "      <td>(6.92907737644+/-0)e-310</td>\n",
       "      <td>(6.92907737644+/-0)e-310</td>\n",
       "      <td>(2.164821454448617+/-0)e-27</td>\n",
       "      <td>(2.652064150236589+/-0)e-258</td>\n",
       "      <td>(1.0297029702970297+/-0)e-321</td>\n",
       "    </tr>\n",
       "  </tbody>\n",
       "</table>\n",
       "</div>"
      ],
      "text/plain": [
       "                                      OSLOCTM3                   WACCM6-2deg  \\\n",
       "O3                (2.767623778885857+/-0)e-316                       0.0+/-0   \n",
       "CH4                                  4.2+/-0.5                     5.1+/-0.6   \n",
       "strat H2O          (9.819255917262645+/-0)e+25  (6.013469531216656+/-0)e-154   \n",
       "O3 CH4ind          (6.32300943928094+/-0)e+233  (6.465722853802729+/-0)e+170   \n",
       "strat H2O CH4ind      (6.92907737644+/-0)e-310      (6.92907737644+/-0)e-310   \n",
       "\n",
       "                                          INCA                       GFDL-emi  \\\n",
       "O3                (6.013470016999069+/-0)e-154     (9.93868795967888+/-0)e+73   \n",
       "CH4                                  4.1+/-0.5                    3.59+/-0.04   \n",
       "strat H2O         (6.013470016999094+/-0)e-154   (3.523379244718934+/-0)e+246   \n",
       "O3 CH4ind         (1.7040955379029223+/-0)e+16  (1.4264442253343372+/-0)e-153   \n",
       "strat H2O CH4ind   (2.164821454448617+/-0)e-27   (2.652064150236589+/-0)e-258   \n",
       "\n",
       "                                   OSLOCTM3-emi  \n",
       "O3                 (6.013469532346091+/-0)e-154  \n",
       "CH4                                 4.26+/-0.32  \n",
       "strat H2O          (3.487750597089634+/-0)e-259  \n",
       "O3 CH4ind                       (2.45+/-0)e-322  \n",
       "strat H2O CH4ind  (1.0297029702970297+/-0)e-321  "
      ]
     },
     "execution_count": 42,
     "metadata": {},
     "output_type": "execute_result"
    }
   ],
   "source": [
    "df_h2_gwp_udf.loc['CH4'] = df_h2_agwp_ch4/agwp100_CO2\n",
    "df_h2_gwp_udf"
   ]
  },
  {
   "cell_type": "code",
   "execution_count": 43,
   "id": "c5cf2508",
   "metadata": {},
   "outputs": [],
   "source": [
    "df_h2_agwp_h2o = df_h2o_rf.loc['10H2']/df_h2_flux.loc['deltaH2']\n",
    "df_h2_agwp_h2o['GFDL-emi'] = h2o_rf_gfdl['GFDL'].loc['H2+CH4 [mW m-2]']/df_h2_flux['GFDL-emi'].loc['deltaH2']\n",
    "df_h2_agwp_h2o.name = 'h2_agwp_h2o'\n",
    "\n",
    "#NBNB GFDL methane induced is included."
   ]
  },
  {
   "cell_type": "code",
   "execution_count": 44,
   "id": "43475ae5",
   "metadata": {},
   "outputs": [],
   "source": [
    "#Add to the flux table\n",
    "df_h2o_rf_per_h2_flux = df_h2o_rf.loc['10H2']/df_h2_flux.loc['deltaH2']\n",
    "df_h2o_rf_per_h2_flux.name= 'h2o_rf_per_h2_flux'\n",
    "df_h2o_rf_per_h2_flux['GFDL-emi'] = h2o_rf_gfdl['GFDL'].loc['H2 [mW m-2]']/df_h2_flux['GFDL-emi'].loc['deltaH2']\n",
    "\n",
    "#Strat H2O RF per methane flux (Move this to the methane part?)\n",
    "df_h2o_rf_per_ch4_flux = df_h2o_rf.loc['10CH4']/df_ch4_flux.loc['deltaCH4']\n",
    "df_h2o_rf_per_ch4_flux.name = 'h2o_rf_per_ch4_flux'\n"
   ]
  },
  {
   "cell_type": "code",
   "execution_count": 45,
   "id": "36ece207",
   "metadata": {},
   "outputs": [
    {
     "data": {
      "text/plain": [
       "GFDL-emi        NaN\n",
       "INCA           0.10\n",
       "OSLOCTM3       0.19\n",
       "OSLOCTM3-emi   0.19\n",
       "WACCM6-2deg    0.07\n",
       "Name: h2o_rf_per_ch4_flux, dtype: float64"
      ]
     },
     "execution_count": 45,
     "metadata": {},
     "output_type": "execute_result"
    }
   ],
   "source": [
    "df_h2o_rf_per_ch4_flux['OSLOCTM3-emi'] = df_h2o_rf_per_ch4_flux['OSLOCTM3']\n",
    "df_h2o_rf_per_ch4_flux"
   ]
  },
  {
   "cell_type": "code",
   "execution_count": 46,
   "id": "0df25b4b",
   "metadata": {},
   "outputs": [
    {
     "data": {
      "text/plain": [
       "GFDL-emi        2.126+/-0.025\n",
       "INCA              0.58+/-0.07\n",
       "OSLOCTM3          1.52+/-0.18\n",
       "OSLOCTM3-emi      0.84+/-0.06\n",
       "WACCM6-2deg       0.53+/-0.06\n",
       "Name: h2_agwp_h2o, dtype: object"
      ]
     },
     "execution_count": 46,
     "metadata": {},
     "output_type": "execute_result"
    }
   ],
   "source": [
    "df_h2_agwp_h2o/agwp100_CO2"
   ]
  },
  {
   "cell_type": "code",
   "execution_count": 47,
   "id": "ce90a81f",
   "metadata": {},
   "outputs": [],
   "source": [
    "df_h2_gwp_udf.loc['strat H2O'] = df_h2_agwp_h2o/agwp100_CO2"
   ]
  },
  {
   "cell_type": "code",
   "execution_count": 48,
   "id": "228427b7",
   "metadata": {},
   "outputs": [],
   "source": [
    "df_h2_agwp_o3 = df_ozone_rf.loc['10H2']/df_h2_flux.loc['deltaH2']\n",
    "df_h2_agwp_o3.name = 'h2_agwp_o3'\n",
    "\n",
    "#For GFDL-emi include the methane induced part.\n",
    "df_h2_agwp_o3['GFDL-emi'] = (df_ozone_rf['GFDL-emi'].loc['10H2']+df_ozone_rf['GFDL-emi'].loc['10CH4'])/df_h2_flux['GFDL-emi'].loc['deltaH2']\n"
   ]
  },
  {
   "cell_type": "code",
   "execution_count": 49,
   "id": "c17d3ca6",
   "metadata": {},
   "outputs": [],
   "source": [
    "#Similar, but use only the H2 Ozone RF for GFDL. To be used in the table:\n",
    "df_ozone_rf_per_h2_flux = df_ozone_rf.loc['10H2']/df_h2_flux.loc['deltaH2']\n",
    "df_ozone_rf_per_h2_flux.name= 'ozone_rf_per_h2_flux'"
   ]
  },
  {
   "cell_type": "code",
   "execution_count": 50,
   "id": "46578a10",
   "metadata": {},
   "outputs": [],
   "source": [
    "#Ozone RF per methane flux (move to the methane part?)\n",
    "df_ozone_rf_per_ch4_flux = df_ozone_rf.loc['10CH4']/df_ch4_flux.loc['deltaCH4']\n",
    "df_ozone_rf_per_ch4_flux.name = 'ozone_rf_per_ch4_flux'"
   ]
  },
  {
   "cell_type": "code",
   "execution_count": 51,
   "id": "3e5d0f3b",
   "metadata": {},
   "outputs": [
    {
     "data": {
      "text/plain": [
       "OSLOCTM3       0.78\n",
       "WACCM6-2deg    0.82\n",
       "INCA           0.50\n",
       "GFDL-emi        NaN\n",
       "OSLOCTM3-emi   0.78\n",
       "Name: ozone_rf_per_ch4_flux, dtype: float64"
      ]
     },
     "execution_count": 51,
     "metadata": {},
     "output_type": "execute_result"
    }
   ],
   "source": [
    "df_ozone_rf_per_ch4_flux['OSLOCTM3-emi'] = df_ozone_rf_per_ch4_flux['OSLOCTM3']\n",
    "df_ozone_rf_per_ch4_flux"
   ]
  },
  {
   "cell_type": "code",
   "execution_count": 52,
   "id": "80ba31f7",
   "metadata": {},
   "outputs": [
    {
     "data": {
      "text/plain": [
       "OSLOCTM3          1.92+/-0.23\n",
       "WACCM6-2deg       1.77+/-0.21\n",
       "INCA              1.22+/-0.15\n",
       "GFDL-emi        2.942+/-0.035\n",
       "OSLOCTM3-emi      1.95+/-0.15\n",
       "Name: h2_agwp_o3, dtype: object"
      ]
     },
     "execution_count": 52,
     "metadata": {},
     "output_type": "execute_result"
    }
   ],
   "source": [
    "df_h2_agwp_o3/agwp100_CO2"
   ]
  },
  {
   "cell_type": "code",
   "execution_count": 53,
   "id": "8f4bd432",
   "metadata": {},
   "outputs": [],
   "source": [
    "df_h2_gwp_udf.loc['O3'] = df_h2_agwp_o3/agwp100_CO2"
   ]
  },
  {
   "cell_type": "code",
   "execution_count": 54,
   "id": "a4bcf370",
   "metadata": {},
   "outputs": [],
   "source": [
    "df_trop_du_ozone_per_ch4_flux = df_ozone_du_trop.loc['10CH4']/df_ch4_flux.loc['deltaCH4']\n",
    "df_trop_du_ozone_per_ch4_flux.name = 'trop_du_ozone_per_ch4_flux'\n",
    "\n",
    "df_strat_du_ozone_per_ch4_flux = df_ozone_du_strat.loc['10CH4']/df_ch4_flux.loc['deltaCH4']\n",
    "df_strat_du_ozone_per_ch4_flux.name = 'strat_du_ozone_per_ch4_flux'\n",
    "\n",
    "df_trop_du_ozone_per_h2_flux = df_ozone_du_trop.loc['10H2']/df_h2_flux.loc['deltaH2']\n",
    "df_trop_du_ozone_per_h2_flux.name = 'trop_du_ozone_per_h2_flux'\n",
    "\n",
    "df_strat_du_ozone_per_h2_flux = df_ozone_du_strat.loc['10H2']/df_h2_flux.loc['deltaH2']\n",
    "df_strat_du_ozone_per_h2_flux.name = 'strat_du_ozone_per_h2_flux'\n"
   ]
  },
  {
   "cell_type": "code",
   "execution_count": 55,
   "id": "0e55b318",
   "metadata": {},
   "outputs": [],
   "source": [
    "df_trop_du_ozone_per_ch4_flux['OSLOCTM3-emi']=df_trop_du_ozone_per_ch4_flux['OSLOCTM3']\n",
    "df_strat_du_ozone_per_ch4_flux['OSLOCTM3-emi']=df_strat_du_ozone_per_ch4_flux['OSLOCTM3']"
   ]
  },
  {
   "cell_type": "code",
   "execution_count": 56,
   "id": "5ddb5403",
   "metadata": {},
   "outputs": [],
   "source": [
    "df_strat_du_6060_ozone_per_ch4_flux = df_ozone_du_strat_6060.loc['10CH4']/df_ch4_flux.loc['deltaCH4']\n",
    "df_strat_du_6060_ozone_per_ch4_flux.name = 'strat_du_6060_ozone_per_ch4_flux'\n",
    "\n",
    "df_strat_du_6060_ozone_per_h2_flux = df_ozone_du_strat_6060.loc['10H2']/df_h2_flux.loc['deltaH2']\n",
    "df_strat_du_6060_ozone_per_h2_flux.name = 'strat_du_6060_ozone_per_h2_flux'\n",
    "\n",
    "df_strat_du_gt60_ozone_per_ch4_flux = df_ozone_du_strat_gt60.loc['10CH4']/df_ch4_flux.loc['deltaCH4']\n",
    "df_strat_du_gt60_ozone_per_ch4_flux.name = 'strat_du_gt60_ozone_per_ch4_flux'\n",
    "\n",
    "df_strat_du_gt60_ozone_per_h2_flux = df_ozone_du_strat_gt60.loc['10H2']/df_h2_flux.loc['deltaH2']\n",
    "df_strat_du_gt60_ozone_per_h2_flux.name = 'strat_du_gt60_ozone_per_h2_flux'"
   ]
  },
  {
   "cell_type": "code",
   "execution_count": 57,
   "id": "5a49e7e0",
   "metadata": {},
   "outputs": [],
   "source": [
    "df_ch4_surfconc['OSLOCTM3-emi'].loc['deltaCH4']=df_ch4_surfconc['OSLOCTM3'].loc['deltaCH4']"
   ]
  },
  {
   "cell_type": "code",
   "execution_count": 58,
   "id": "97e996ae",
   "metadata": {},
   "outputs": [],
   "source": [
    "#Wm-2/ppbCH4*ppbCH4/TgH2yr-1 -> Wm-2/TgH2yr-1\n",
    "df_h2_agwp_ch4ind_o3 = df_ozone_rf.loc['10CH4']/df_ch4_surfconc.loc['deltaCH4']*df_surf_ch4_per_h2_flux\n",
    "df_h2_agwp_ch4ind_o3.name = 'h2_agwp_ch4ind_o3'\n"
   ]
  },
  {
   "cell_type": "code",
   "execution_count": 59,
   "id": "74a19ad6",
   "metadata": {},
   "outputs": [
    {
     "data": {
      "text/plain": [
       "OSLOCTM3        2.15+/-0.26\n",
       "WACCM6-2deg     2.75+/-0.33\n",
       "INCA            1.15+/-0.14\n",
       "GFDL-emi          nan+/-nan\n",
       "OSLOCTM3-emi    2.18+/-0.17\n",
       "Name: h2_agwp_ch4ind_o3, dtype: object"
      ]
     },
     "execution_count": 59,
     "metadata": {},
     "output_type": "execute_result"
    }
   ],
   "source": [
    "df_h2_agwp_ch4ind_o3/agwp100_CO2"
   ]
  },
  {
   "cell_type": "code",
   "execution_count": 60,
   "id": "287062fa",
   "metadata": {},
   "outputs": [],
   "source": [
    "df_h2_gwp_udf.loc['O3 CH4ind'] = df_h2_agwp_ch4ind_o3/agwp100_CO2"
   ]
  },
  {
   "cell_type": "code",
   "execution_count": 61,
   "id": "49b62ccf",
   "metadata": {},
   "outputs": [
    {
     "data": {
      "text/html": [
       "<div>\n",
       "<style scoped>\n",
       "    .dataframe tbody tr th:only-of-type {\n",
       "        vertical-align: middle;\n",
       "    }\n",
       "\n",
       "    .dataframe tbody tr th {\n",
       "        vertical-align: top;\n",
       "    }\n",
       "\n",
       "    .dataframe thead th {\n",
       "        text-align: right;\n",
       "    }\n",
       "</style>\n",
       "<table border=\"1\" class=\"dataframe\">\n",
       "  <thead>\n",
       "    <tr style=\"text-align: right;\">\n",
       "      <th></th>\n",
       "      <th>OSLOCTM3</th>\n",
       "      <th>WACCM6-2deg</th>\n",
       "      <th>INCA</th>\n",
       "      <th>GFDL-emi</th>\n",
       "      <th>OSLOCTM3-emi</th>\n",
       "    </tr>\n",
       "  </thead>\n",
       "  <tbody>\n",
       "    <tr>\n",
       "      <th>O3</th>\n",
       "      <td>1.92+/-0.23</td>\n",
       "      <td>1.77+/-0.21</td>\n",
       "      <td>1.22+/-0.15</td>\n",
       "      <td>2.942+/-0.035</td>\n",
       "      <td>1.95+/-0.15</td>\n",
       "    </tr>\n",
       "    <tr>\n",
       "      <th>CH4</th>\n",
       "      <td>4.2+/-0.5</td>\n",
       "      <td>5.1+/-0.6</td>\n",
       "      <td>4.1+/-0.5</td>\n",
       "      <td>3.59+/-0.04</td>\n",
       "      <td>4.26+/-0.32</td>\n",
       "    </tr>\n",
       "    <tr>\n",
       "      <th>strat H2O</th>\n",
       "      <td>1.52+/-0.18</td>\n",
       "      <td>0.53+/-0.06</td>\n",
       "      <td>0.58+/-0.07</td>\n",
       "      <td>2.126+/-0.025</td>\n",
       "      <td>0.84+/-0.06</td>\n",
       "    </tr>\n",
       "    <tr>\n",
       "      <th>O3 CH4ind</th>\n",
       "      <td>2.15+/-0.26</td>\n",
       "      <td>2.75+/-0.33</td>\n",
       "      <td>1.15+/-0.14</td>\n",
       "      <td>nan+/-nan</td>\n",
       "      <td>2.18+/-0.17</td>\n",
       "    </tr>\n",
       "    <tr>\n",
       "      <th>strat H2O CH4ind</th>\n",
       "      <td>(6.92907737644+/-0)e-310</td>\n",
       "      <td>(6.92907737644+/-0)e-310</td>\n",
       "      <td>(2.164821454448617+/-0)e-27</td>\n",
       "      <td>(2.652064150236589+/-0)e-258</td>\n",
       "      <td>(1.0297029702970297+/-0)e-321</td>\n",
       "    </tr>\n",
       "  </tbody>\n",
       "</table>\n",
       "</div>"
      ],
      "text/plain": [
       "                                  OSLOCTM3               WACCM6-2deg  \\\n",
       "O3                             1.92+/-0.23               1.77+/-0.21   \n",
       "CH4                              4.2+/-0.5                 5.1+/-0.6   \n",
       "strat H2O                      1.52+/-0.18               0.53+/-0.06   \n",
       "O3 CH4ind                      2.15+/-0.26               2.75+/-0.33   \n",
       "strat H2O CH4ind  (6.92907737644+/-0)e-310  (6.92907737644+/-0)e-310   \n",
       "\n",
       "                                         INCA                      GFDL-emi  \\\n",
       "O3                                1.22+/-0.15                 2.942+/-0.035   \n",
       "CH4                                 4.1+/-0.5                   3.59+/-0.04   \n",
       "strat H2O                         0.58+/-0.07                 2.126+/-0.025   \n",
       "O3 CH4ind                         1.15+/-0.14                     nan+/-nan   \n",
       "strat H2O CH4ind  (2.164821454448617+/-0)e-27  (2.652064150236589+/-0)e-258   \n",
       "\n",
       "                                   OSLOCTM3-emi  \n",
       "O3                                  1.95+/-0.15  \n",
       "CH4                                 4.26+/-0.32  \n",
       "strat H2O                           0.84+/-0.06  \n",
       "O3 CH4ind                           2.18+/-0.17  \n",
       "strat H2O CH4ind  (1.0297029702970297+/-0)e-321  "
      ]
     },
     "execution_count": 61,
     "metadata": {},
     "output_type": "execute_result"
    }
   ],
   "source": [
    "df_h2_gwp_udf"
   ]
  },
  {
   "cell_type": "code",
   "execution_count": 62,
   "id": "72cafe7f",
   "metadata": {},
   "outputs": [],
   "source": [
    "df_h2_agwp_ch4ind_h2o = df_h2o_rf.loc['10CH4']/df_ch4_surfconc.loc['deltaCH4']*df_surf_ch4_per_h2_flux\n",
    "df_h2_agwp_ch4ind_h2o.name = 'h2_agwp_ch4ind_h2o'"
   ]
  },
  {
   "cell_type": "code",
   "execution_count": 63,
   "id": "3a98d259",
   "metadata": {},
   "outputs": [
    {
     "data": {
      "text/plain": [
       "GFDL-emi            nan+/-nan\n",
       "INCA            0.232+/-0.029\n",
       "OSLOCTM3          0.53+/-0.06\n",
       "OSLOCTM3-emi      0.54+/-0.04\n",
       "WACCM6-2deg     0.242+/-0.029\n",
       "Name: h2_agwp_ch4ind_h2o, dtype: object"
      ]
     },
     "execution_count": 63,
     "metadata": {},
     "output_type": "execute_result"
    }
   ],
   "source": [
    "df_h2_agwp_ch4ind_h2o/agwp100_CO2"
   ]
  },
  {
   "cell_type": "code",
   "execution_count": 64,
   "id": "f60cb99d",
   "metadata": {},
   "outputs": [
    {
     "data": {
      "text/html": [
       "<div>\n",
       "<style scoped>\n",
       "    .dataframe tbody tr th:only-of-type {\n",
       "        vertical-align: middle;\n",
       "    }\n",
       "\n",
       "    .dataframe tbody tr th {\n",
       "        vertical-align: top;\n",
       "    }\n",
       "\n",
       "    .dataframe thead th {\n",
       "        text-align: right;\n",
       "    }\n",
       "</style>\n",
       "<table border=\"1\" class=\"dataframe\">\n",
       "  <thead>\n",
       "    <tr style=\"text-align: right;\">\n",
       "      <th></th>\n",
       "      <th>OSLOCTM3</th>\n",
       "      <th>WACCM6-2deg</th>\n",
       "      <th>INCA</th>\n",
       "      <th>GFDL-emi</th>\n",
       "      <th>OSLOCTM3-emi</th>\n",
       "    </tr>\n",
       "  </thead>\n",
       "  <tbody>\n",
       "    <tr>\n",
       "      <th>O3</th>\n",
       "      <td>1.92+/-0.23</td>\n",
       "      <td>1.77+/-0.21</td>\n",
       "      <td>1.22+/-0.15</td>\n",
       "      <td>2.942+/-0.035</td>\n",
       "      <td>1.95+/-0.15</td>\n",
       "    </tr>\n",
       "    <tr>\n",
       "      <th>CH4</th>\n",
       "      <td>4.2+/-0.5</td>\n",
       "      <td>5.1+/-0.6</td>\n",
       "      <td>4.1+/-0.5</td>\n",
       "      <td>3.59+/-0.04</td>\n",
       "      <td>4.26+/-0.32</td>\n",
       "    </tr>\n",
       "    <tr>\n",
       "      <th>strat H2O</th>\n",
       "      <td>1.52+/-0.18</td>\n",
       "      <td>0.53+/-0.06</td>\n",
       "      <td>0.58+/-0.07</td>\n",
       "      <td>2.126+/-0.025</td>\n",
       "      <td>0.84+/-0.06</td>\n",
       "    </tr>\n",
       "    <tr>\n",
       "      <th>O3 CH4ind</th>\n",
       "      <td>2.15+/-0.26</td>\n",
       "      <td>2.75+/-0.33</td>\n",
       "      <td>1.15+/-0.14</td>\n",
       "      <td>nan+/-nan</td>\n",
       "      <td>2.18+/-0.17</td>\n",
       "    </tr>\n",
       "    <tr>\n",
       "      <th>strat H2O CH4ind</th>\n",
       "      <td>0.53+/-0.06</td>\n",
       "      <td>0.242+/-0.029</td>\n",
       "      <td>0.232+/-0.029</td>\n",
       "      <td>nan+/-nan</td>\n",
       "      <td>0.54+/-0.04</td>\n",
       "    </tr>\n",
       "    <tr>\n",
       "      <th>total</th>\n",
       "      <td>10.3+/-1.2</td>\n",
       "      <td>10.4+/-1.2</td>\n",
       "      <td>7.3+/-0.9</td>\n",
       "      <td>0.00</td>\n",
       "      <td>9.8+/-0.7</td>\n",
       "    </tr>\n",
       "  </tbody>\n",
       "</table>\n",
       "</div>"
      ],
      "text/plain": [
       "                     OSLOCTM3    WACCM6-2deg           INCA       GFDL-emi  \\\n",
       "O3                1.92+/-0.23    1.77+/-0.21    1.22+/-0.15  2.942+/-0.035   \n",
       "CH4                 4.2+/-0.5      5.1+/-0.6      4.1+/-0.5    3.59+/-0.04   \n",
       "strat H2O         1.52+/-0.18    0.53+/-0.06    0.58+/-0.07  2.126+/-0.025   \n",
       "O3 CH4ind         2.15+/-0.26    2.75+/-0.33    1.15+/-0.14      nan+/-nan   \n",
       "strat H2O CH4ind  0.53+/-0.06  0.242+/-0.029  0.232+/-0.029      nan+/-nan   \n",
       "total              10.3+/-1.2     10.4+/-1.2      7.3+/-0.9           0.00   \n",
       "\n",
       "                 OSLOCTM3-emi  \n",
       "O3                1.95+/-0.15  \n",
       "CH4               4.26+/-0.32  \n",
       "strat H2O         0.84+/-0.06  \n",
       "O3 CH4ind         2.18+/-0.17  \n",
       "strat H2O CH4ind  0.54+/-0.04  \n",
       "total               9.8+/-0.7  "
      ]
     },
     "execution_count": 64,
     "metadata": {},
     "output_type": "execute_result"
    }
   ],
   "source": [
    "df_h2_gwp_udf.loc['strat H2O CH4ind'] = df_h2_agwp_ch4ind_h2o/agwp100_CO2\n",
    "df_h2_gwp_udf.loc['total']=0\n",
    "df_h2_gwp_udf.loc['total']=df_h2_gwp_udf.sum().clip(1e-9)\n",
    "\n",
    "df_h2_gwp_udf"
   ]
  },
  {
   "cell_type": "code",
   "execution_count": 65,
   "id": "5a40fa64",
   "metadata": {},
   "outputs": [
    {
     "data": {
      "text/html": [
       "<div>\n",
       "<style scoped>\n",
       "    .dataframe tbody tr th:only-of-type {\n",
       "        vertical-align: middle;\n",
       "    }\n",
       "\n",
       "    .dataframe tbody tr th {\n",
       "        vertical-align: top;\n",
       "    }\n",
       "\n",
       "    .dataframe thead th {\n",
       "        text-align: right;\n",
       "    }\n",
       "</style>\n",
       "<table border=\"1\" class=\"dataframe\">\n",
       "  <thead>\n",
       "    <tr style=\"text-align: right;\">\n",
       "      <th></th>\n",
       "      <th>OSLOCTM3</th>\n",
       "      <th>WACCM6-2deg</th>\n",
       "      <th>INCA</th>\n",
       "      <th>GFDL-emi</th>\n",
       "      <th>OSLOCTM3-emi</th>\n",
       "    </tr>\n",
       "  </thead>\n",
       "  <tbody>\n",
       "    <tr>\n",
       "      <th>O3</th>\n",
       "      <td>1.92</td>\n",
       "      <td>1.77</td>\n",
       "      <td>1.22</td>\n",
       "      <td>2.94</td>\n",
       "      <td>1.95</td>\n",
       "    </tr>\n",
       "    <tr>\n",
       "      <th>CH4</th>\n",
       "      <td>4.21</td>\n",
       "      <td>5.14</td>\n",
       "      <td>4.08</td>\n",
       "      <td>3.59</td>\n",
       "      <td>4.26</td>\n",
       "    </tr>\n",
       "    <tr>\n",
       "      <th>strat H2O</th>\n",
       "      <td>1.52</td>\n",
       "      <td>0.53</td>\n",
       "      <td>0.58</td>\n",
       "      <td>2.13</td>\n",
       "      <td>0.84</td>\n",
       "    </tr>\n",
       "    <tr>\n",
       "      <th>O3 CH4ind</th>\n",
       "      <td>2.15</td>\n",
       "      <td>2.75</td>\n",
       "      <td>1.15</td>\n",
       "      <td>NaN</td>\n",
       "      <td>2.18</td>\n",
       "    </tr>\n",
       "    <tr>\n",
       "      <th>strat H2O CH4ind</th>\n",
       "      <td>0.53</td>\n",
       "      <td>0.24</td>\n",
       "      <td>0.23</td>\n",
       "      <td>NaN</td>\n",
       "      <td>0.54</td>\n",
       "    </tr>\n",
       "    <tr>\n",
       "      <th>total</th>\n",
       "      <td>10.3</td>\n",
       "      <td>10.4</td>\n",
       "      <td>7.26</td>\n",
       "      <td>0.00</td>\n",
       "      <td>9.77</td>\n",
       "    </tr>\n",
       "  </tbody>\n",
       "</table>\n",
       "</div>"
      ],
      "text/plain": [
       "                  OSLOCTM3  WACCM6-2deg  INCA  GFDL-emi  OSLOCTM3-emi\n",
       "O3                    1.92         1.77  1.22      2.94          1.95\n",
       "CH4                   4.21         5.14  4.08      3.59          4.26\n",
       "strat H2O             1.52         0.53  0.58      2.13          0.84\n",
       "O3 CH4ind             2.15         2.75  1.15       NaN          2.18\n",
       "strat H2O CH4ind      0.53         0.24  0.23       NaN          0.54\n",
       "total                 10.3         10.4  7.26      0.00          9.77"
      ]
     },
     "execution_count": 65,
     "metadata": {},
     "output_type": "execute_result"
    }
   ],
   "source": [
    "df_h2_gwp_udf_nom = unumpy.nominal_values(df_h2_gwp_udf)\n",
    "df_h2_gwp_udf_nom\n",
    "df_h2_gwp_udf_nom_df = pd.DataFrame(df_h2_gwp_udf_nom, columns=['OSLOCTM3','WACCM6-2deg','INCA','GFDL-emi','OSLOCTM3-emi'], index = ['O3','CH4','strat H2O','O3 CH4ind','strat H2O CH4ind', 'total'])\n",
    "df_h2_gwp_udf_nom_df"
   ]
  },
  {
   "cell_type": "code",
   "execution_count": 66,
   "id": "c85601fe",
   "metadata": {},
   "outputs": [
    {
     "data": {
      "text/html": [
       "<div>\n",
       "<style scoped>\n",
       "    .dataframe tbody tr th:only-of-type {\n",
       "        vertical-align: middle;\n",
       "    }\n",
       "\n",
       "    .dataframe tbody tr th {\n",
       "        vertical-align: top;\n",
       "    }\n",
       "\n",
       "    .dataframe thead th {\n",
       "        text-align: right;\n",
       "    }\n",
       "</style>\n",
       "<table border=\"1\" class=\"dataframe\">\n",
       "  <thead>\n",
       "    <tr style=\"text-align: right;\">\n",
       "      <th></th>\n",
       "      <th>OSLOCTM3</th>\n",
       "      <th>WACCM6-2deg</th>\n",
       "      <th>INCA</th>\n",
       "      <th>GFDL-emi</th>\n",
       "      <th>OSLOCTM3-emi</th>\n",
       "    </tr>\n",
       "  </thead>\n",
       "  <tbody>\n",
       "    <tr>\n",
       "      <th>O3</th>\n",
       "      <td>0.23</td>\n",
       "      <td>0.21</td>\n",
       "      <td>0.15</td>\n",
       "      <td>0.04</td>\n",
       "      <td>0.15</td>\n",
       "    </tr>\n",
       "    <tr>\n",
       "      <th>CH4</th>\n",
       "      <td>0.50</td>\n",
       "      <td>0.61</td>\n",
       "      <td>0.50</td>\n",
       "      <td>0.04</td>\n",
       "      <td>0.32</td>\n",
       "    </tr>\n",
       "    <tr>\n",
       "      <th>strat H2O</th>\n",
       "      <td>0.18</td>\n",
       "      <td>0.06</td>\n",
       "      <td>0.07</td>\n",
       "      <td>0.03</td>\n",
       "      <td>0.06</td>\n",
       "    </tr>\n",
       "    <tr>\n",
       "      <th>O3 CH4ind</th>\n",
       "      <td>0.26</td>\n",
       "      <td>0.33</td>\n",
       "      <td>0.14</td>\n",
       "      <td>NaN</td>\n",
       "      <td>0.17</td>\n",
       "    </tr>\n",
       "    <tr>\n",
       "      <th>strat H2O CH4ind</th>\n",
       "      <td>0.06</td>\n",
       "      <td>0.03</td>\n",
       "      <td>0.03</td>\n",
       "      <td>NaN</td>\n",
       "      <td>0.04</td>\n",
       "    </tr>\n",
       "    <tr>\n",
       "      <th>total</th>\n",
       "      <td>1.23</td>\n",
       "      <td>1.24</td>\n",
       "      <td>0.90</td>\n",
       "      <td>0.00</td>\n",
       "      <td>0.74</td>\n",
       "    </tr>\n",
       "  </tbody>\n",
       "</table>\n",
       "</div>"
      ],
      "text/plain": [
       "                  OSLOCTM3  WACCM6-2deg  INCA  GFDL-emi  OSLOCTM3-emi\n",
       "O3                    0.23         0.21  0.15      0.04          0.15\n",
       "CH4                   0.50         0.61  0.50      0.04          0.32\n",
       "strat H2O             0.18         0.06  0.07      0.03          0.06\n",
       "O3 CH4ind             0.26         0.33  0.14       NaN          0.17\n",
       "strat H2O CH4ind      0.06         0.03  0.03       NaN          0.04\n",
       "total                 1.23         1.24  0.90      0.00          0.74"
      ]
     },
     "execution_count": 66,
     "metadata": {},
     "output_type": "execute_result"
    }
   ],
   "source": [
    "df_h2_gwp_udf_sd = unumpy.std_devs(df_h2_gwp_udf)\n",
    "df_h2_gwp_udf_sd_df = pd.DataFrame(df_h2_gwp_udf_sd, columns=['OSLOCTM3','WACCM6-2deg','INCA','GFDL-emi','OSLOCTM3-emi'], index = ['O3','CH4','strat H2O','O3 CH4ind','strat H2O CH4ind', 'total'])\n",
    "df_h2_gwp_udf_sd_df"
   ]
  },
  {
   "cell_type": "code",
   "execution_count": 67,
   "id": "71353e0c",
   "metadata": {},
   "outputs": [
    {
     "data": {
      "text/plain": [
       "<AxesSubplot: >"
      ]
     },
     "execution_count": 67,
     "metadata": {},
     "output_type": "execute_result"
    },
    {
     "data": {
      "image/png": "[encoded data removed]",
      "text/plain": [
       "<Figure size 640x480 with 1 Axes>"
      ]
     },
     "metadata": {},
     "output_type": "display_data"
    }
   ],
   "source": [
    "df_h2_gwp_udf_nom_df.plot.bar(yerr=df_h2_gwp_udf_sd_df)"
   ]
  },
  {
   "cell_type": "code",
   "execution_count": null,
   "id": "c1c6c77e",
   "metadata": {},
   "outputs": [],
   "source": [
    "antmod = len(df_h2_agwp_ch4.index)\n",
    "df_ch4_gwp = pd.DataFrame(np.empty([4,antmod])*np.nan,columns=df_h2_agwp_ch4.index,\n",
    "                         index=['O3','CH4','strat H2O','H2'])\n",
    "df_ch4_gwp_ua = unumpy.uarray(df_ch4_gwp, 0)\n",
    "\n",
    "df_ch4_gwp_udf = pd.DataFrame(df_ch4_gwp_ua, columns=df_h2_agwp_ch4.index,\n",
    "                         index=['O3','CH4','strat H2O','H2'])\n",
    "df_ch4_gwp_udf\n",
    "\n",
    "#df_ch4_gwp"
   ]
  },
  {
   "cell_type": "code",
   "execution_count": null,
   "id": "f0e36799",
   "metadata": {},
   "outputs": [],
   "source": [
    "df_ch4_agwp_o3 = df_ozone_rf.loc['10CH4']/df_ch4_surfconc.loc['deltaCH4']*df_surf_ch4_per_ch4_flux\n",
    "df_ch4_agwp_o3.name = 'ch4_agwp_o3'\n",
    "\n"
   ]
  },
  {
   "cell_type": "code",
   "execution_count": null,
   "id": "12ccc21b",
   "metadata": {},
   "outputs": [],
   "source": [
    "df_ch4_agwp_o3/agwp100_CO2 "
   ]
  },
  {
   "cell_type": "code",
   "execution_count": null,
   "id": "7f29a957",
   "metadata": {},
   "outputs": [],
   "source": [
    "df_ch4_gwp_udf.loc['O3'] =df_ch4_agwp_o3/agwp100_CO2\n",
    "df_ch4_gwp_udf"
   ]
  },
  {
   "cell_type": "code",
   "execution_count": null,
   "id": "d29e54a3",
   "metadata": {},
   "outputs": [],
   "source": [
    "df_ch4_agwp =df_surf_ch4_per_ch4_flux*spec_rf_ch4\n",
    "df_ch4_agwp.name = 'ch4_agwp'"
   ]
  },
  {
   "cell_type": "code",
   "execution_count": null,
   "id": "f5f421e2",
   "metadata": {},
   "outputs": [],
   "source": [
    "df_ch4_agwp/agwp100_CO2 "
   ]
  },
  {
   "cell_type": "code",
   "execution_count": null,
   "id": "76ffe054",
   "metadata": {},
   "outputs": [],
   "source": [
    "#Add Methane GWP:\n",
    "df_ch4_gwp_udf.loc['CH4'] =df_ch4_agwp/agwp100_CO2 "
   ]
  },
  {
   "cell_type": "code",
   "execution_count": null,
   "id": "05f8b5d5",
   "metadata": {},
   "outputs": [],
   "source": [
    "print(df_h2o_rf.loc['10CH4'])\n",
    "df_ch4_agwp_h2o = df_h2o_rf.loc['10CH4']/df_ch4_surfconc.loc['deltaCH4']*df_surf_ch4_per_ch4_flux\n",
    "df_ch4_agwp_h2o.name = 'ch4_agwp_h2o'"
   ]
  },
  {
   "cell_type": "code",
   "execution_count": null,
   "id": "c4ae7615",
   "metadata": {},
   "outputs": [],
   "source": [
    "df_ch4_gwp_udf.loc['strat H2O'] = df_ch4_agwp_h2o/agwp100_CO2"
   ]
  },
  {
   "cell_type": "code",
   "execution_count": null,
   "id": "1077d763",
   "metadata": {},
   "outputs": [],
   "source": [
    "df_ch4_gwp_udf.loc['H2'] = df_h2_flux_per_ch4_flux*df_h2_gwp.sum()"
   ]
  },
  {
   "cell_type": "code",
   "execution_count": null,
   "id": "195e987f",
   "metadata": {},
   "outputs": [],
   "source": [
    "#Save to file:\n",
    "#print(outputpath + 'table_h2_gwp.csv')\n",
    "#df_h2_gwp.to_csv(outputpath + 'table_h2_gwp.csv')\n",
    "#df_h2_gwp.loc['total']=df_h2_gwp.sum()\n",
    "df_h2_gwp_udf"
   ]
  },
  {
   "cell_type": "code",
   "execution_count": null,
   "id": "c332296f",
   "metadata": {},
   "outputs": [],
   "source": [
    "#df_ch4_gwp.to_csv(outputpath + 'table_ch4_gwp.csv')\n",
    "#df_ch4_gwp.loc['total']=df_ch4_gwp.sum()\n",
    "df_ch4_gwp_udf"
   ]
  },
  {
   "cell_type": "code",
   "execution_count": null,
   "id": "0cf3b0c4",
   "metadata": {},
   "outputs": [],
   "source": [
    "df_per_flux_h2 = pd.concat([df_h2_flux.loc['deltaH2'],df_surf_h2_per_h2_flux,\n",
    "                            df_surf_ch4_per_h2_flux,df_ch4_flux_per_h2_flux,df_ch4_rf_per_h2_flux,\n",
    "                            df_trop_du_ozone_per_h2_flux,df_strat_du_ozone_per_h2_flux,\n",
    "                            df_strat_du_6060_ozone_per_h2_flux,df_strat_du_gt60_ozone_per_h2_flux,\n",
    "                            df_ozone_rf_per_h2_flux,df_h2o_rf_per_h2_flux],axis=1, sort=False)\n",
    "\n",
    "#Save to file:\n",
    "#df_per_flux_h2.to_csv(outputpath + 'table_per_flux_h2.csv')\n",
    "\n",
    "#Rename the columns:\n",
    "columns_names={'deltaH2':'Flux H2 [Tg/yr]',\n",
    "               'surf_h2_per_h2_flux': 'Surf. conc. H2 per flux [ppb yr/Tg]',\n",
    "               'surf_ch4_per_h2_flux':'Surf. conc. CH4 per flux [ppb yr/Tg]',\n",
    "               'ch4_flux_per_h2_flux':'Flux CH4/Flux H2 [Tg CH4/Tg H2]',\n",
    "               'ch4_rf_per_h2_flux':'CH4 RF per flux [mW m-2 yr/ Tg]',\n",
    "               'trop_du_ozone_per_h2_flux':'Trop. ozone per flux [DU yr/Tg]',\n",
    "               'strat_du_ozone_per_h2_flux':'Strat. ozone per flux [DU yr/Tg]',\n",
    "               'strat_du_6060_ozone_per_h2_flux':'Strat. ozone 60S-60N per flux [DU yr/Tg]',\n",
    "               'strat_du_gt60_ozone_per_h2_flux':'Strat. ozone >60S/N per flux [DU yr/Tg]',\n",
    "               'ozone_rf_per_h2_flux':'ozone RF per flux [mW m-2 yr/ Tg]',\n",
    "               'h2o_rf_per_h2_flux':'Strat. H2O RF per flux [mW m-2 yr/ Tg]'}\n",
    "#Rename column names:\n",
    "df_per_flux_h2.rename(columns=dict(columns_names),inplace=True) #[df_per_flux_h2.columns])\n",
    "df_per_flux_h2"
   ]
  },
  {
   "cell_type": "code",
   "execution_count": null,
   "id": "6a3b5d4c",
   "metadata": {},
   "outputs": [],
   "source": [
    "df_per_flux_ch4 = pd.concat([df_ch4_flux.loc['deltaCH4'],df_surf_ch4_per_ch4_flux,\n",
    "                            df_h2_flux_per_ch4_flux,df_trop_du_ozone_per_ch4_flux,df_strat_du_ozone_per_ch4_flux,\n",
    "                            df_strat_du_6060_ozone_per_ch4_flux,df_strat_du_gt60_ozone_per_ch4_flux,\n",
    "                            df_ozone_rf_per_ch4_flux,df_h2o_rf_per_ch4_flux],axis=1,sort=False)\n",
    "\n",
    "\n",
    "\n",
    "               \n",
    "#Save to file:\n",
    "#df_per_flux_ch4.to_csv(outputpath + 'table_per_flux_ch4.csv')\n",
    "\n",
    "#Rename the columns:\n",
    "columns_names={'deltaCH4':'Flux CH4 [Tg/yr]',\n",
    "               'surf_ch4_per_ch4_flux':'Surf. conc. CH4 per flux [ppb yr/Tg]',\n",
    "               'h2_flux_per_ch4_flux':'Flux H2/Flux CH4 [Tg H2/Tg CH4]',\n",
    "               'trop_du_ozone_per_ch4_flux':'Trop. ozone per flux [DU yr/Tg]',\n",
    "               'strat_du_ozone_per_ch4_flux':'Strat. ozone per flux [DU yr/Tg]',\n",
    "               'strat_du_6060_ozone_per_ch4_flux':'Strat. ozone 60S-60N per flux [DU yr/Tg]',\n",
    "               'strat_du_gt60_ozone_per_ch4_flux':'Strat. ozone >60S/N per flux [DU yr/Tg]',\n",
    "               'ozone_rf_per_ch4_flux':'ozone RF per flux [mW m-2 yr/ Tg]',\n",
    "               'h2o_rf_per_ch4_flux':'Strat H2O RF per flux [mW m-2 yr/ Tg]'}\n",
    "               \n",
    "#Rename column names:\n",
    "df_per_flux_ch4.rename(columns=dict(columns_names),inplace=True) #[df_per_flux_h2.columns])\n",
    "df_per_flux_ch4          "
   ]
  },
  {
   "cell_type": "code",
   "execution_count": null,
   "id": "2fa15a8f",
   "metadata": {},
   "outputs": [],
   "source": [
    "df_budget_h2 = pd.concat([df_h2_burden.loc['CTRL'],df_h2_lifetime.loc['CTRL'],\n",
    "                          df_h2_atmloss.loc['CTRL'],df_h2_drydep.loc['CTRL'],\n",
    "                          df_h2_atmprod.loc['CTRL'],df_h2_atm_lifetime.loc['CTRL'],\n",
    "                          df_h2_estemis],axis=1)\n",
    "\n",
    "df_budget_h2.columns = ['H2 burden [Tg]',\n",
    "                        'H2 lifetime [yrs]',\n",
    "                        'H2 atm.loss[Tg/yr]',\n",
    "                        'H2 drydep [Tg/yr]',\n",
    "                        'H2 atm. prod [Tg/yr]',\n",
    "                        'H2 atmospheric lifetime [yrs]',\n",
    "                        'H2 estimated emissions [Tg/yr]']\n",
    "\n",
    "#df_budget_h2.to_csv(outputpath + 'table_budget_h2.csv')\n",
    "df_budget_h2"
   ]
  },
  {
   "cell_type": "code",
   "execution_count": null,
   "id": "88a2833d",
   "metadata": {},
   "outputs": [],
   "source": [
    "df_budget_ch4 = pd.concat([df_ch4_burden.loc['CTRL'],df_ch4_lifetime.loc['CTRL'],\n",
    "                           df_ch4_loss.loc['CTRL']],axis=1)\n",
    "df_budget_ch4.columns = ['CH4 burden [Tg]','CH4 lifetime [yrs]','CH4 atm.loss[Tg/yr]'] \n",
    "df_budget_ch4"
   ]
  },
  {
   "cell_type": "code",
   "execution_count": null,
   "id": "7d9a0b85",
   "metadata": {},
   "outputs": [],
   "source": [
    "df_ch4_burden_per_conc  = df_ch4_burden.loc['deltaCH4']/df_ch4_surfconc.loc['deltaCH4']\n",
    "df_ch4_burden_per_conc.name = 'ch4_burden_per_conc'\n",
    "df_ch4_burden_per_conc"
   ]
  },
  {
   "cell_type": "code",
   "execution_count": null,
   "id": "d4e2e5a0",
   "metadata": {},
   "outputs": [],
   "source": [
    "df_w_o_feedback =df_ch4_lifetime.loc['CTRL']/df_ch4_burden_per_conc #Lifetime [yr] / [Tg/ppb] \n",
    "df_w_o_feedback"
   ]
  },
  {
   "cell_type": "code",
   "execution_count": null,
   "id": "66d83866",
   "metadata": {},
   "outputs": [],
   "source": [
    "df_feedback_factor_ch4 = df_surf_ch4_per_ch4_flux/df_w_o_feedback\n",
    "df_feedback_factor_ch4.name = 'feedback_factor_ch4'\n",
    "df_feedback_factor_ch4"
   ]
  },
  {
   "cell_type": "code",
   "execution_count": null,
   "id": "279cbecc",
   "metadata": {},
   "outputs": [],
   "source": [
    "df_h2_burden_per_conc  = df_h2_burden.loc['deltaH2']/df_h2_surfconc.loc['deltaH2']\n",
    "df_h2_burden_per_conc.name = 'h2_burden_per_conc'\n",
    "df_h2_burden_per_conc"
   ]
  },
  {
   "cell_type": "code",
   "execution_count": null,
   "id": "03f05a3b",
   "metadata": {},
   "outputs": [],
   "source": [
    "df_w_o_feedback_h2 =df_h2_lifetime.loc['CTRL']/df_h2_burden_per_conc #Lifetime [yr] / [Tg/ppb] \n",
    "df_w_o_feedback_h2"
   ]
  },
  {
   "cell_type": "code",
   "execution_count": null,
   "id": "4676d073",
   "metadata": {},
   "outputs": [],
   "source": [
    "df_feedback_factor_h2 = df_surf_h2_per_h2_flux/df_w_o_feedback_h2\n",
    "df_feedback_factor_h2.name = 'feedback_factor_h2'\n",
    "df_feedback_factor_h2\n",
    "#Fabien wrote in the paper about feedback factor less than 1."
   ]
  },
  {
   "cell_type": "code",
   "execution_count": null,
   "id": "8c4d1dab",
   "metadata": {},
   "outputs": [],
   "source": []
  },
  {
   "cell_type": "code",
   "execution_count": null,
   "id": "76ec3f80",
   "metadata": {},
   "outputs": [],
   "source": []
  },
  {
   "cell_type": "code",
   "execution_count": null,
   "id": "6de4afcf",
   "metadata": {},
   "outputs": [],
   "source": []
  },
  {
   "cell_type": "code",
   "execution_count": null,
   "id": "3eba2b13",
   "metadata": {},
   "outputs": [],
   "source": []
  },
  {
   "cell_type": "code",
   "execution_count": null,
   "id": "4d313c9b",
   "metadata": {},
   "outputs": [],
   "source": []
  },
  {
   "cell_type": "code",
   "execution_count": null,
   "id": "b58749eb",
   "metadata": {},
   "outputs": [],
   "source": []
  }
 ],
 "metadata": {
  "celltoolbar": "Tags",
  "kernelspec": {
   "display_name": "Python 3 (ipykernel)",
   "language": "python",
   "name": "python3"
  },
  "language_info": {
   "codemirror_mode": {
    "name": "ipython",
    "version": 3
   },
   "file_extension": ".py",
   "mimetype": "text/x-python",
   "name": "python",
   "nbconvert_exporter": "python",
   "pygments_lexer": "ipython3",
   "version": "3.8.10"
  }
 },
 "nbformat": 4,
 "nbformat_minor": 5
}
