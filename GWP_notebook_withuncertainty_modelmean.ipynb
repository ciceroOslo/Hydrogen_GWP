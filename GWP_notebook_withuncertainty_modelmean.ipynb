{
 "cells": [
  {
   "cell_type": "code",
   "execution_count": 55,
   "id": "b0219f94",
   "metadata": {},
   "outputs": [
    {
     "data": {
      "text/html": [
       "<style>\n",
       "table {float:left}\n",
       "</style>\n"
      ],
      "text/plain": [
       "<IPython.core.display.HTML object>"
      ]
     },
     "metadata": {},
     "output_type": "display_data"
    }
   ],
   "source": [
    "%%html\n",
    "<style>\n",
    "table {float:left}\n",
    "</style>"
   ]
  },
  {
   "cell_type": "markdown",
   "id": "39e0a7f4",
   "metadata": {},
   "source": [
    "| Models   | Simulations length | Average period |\n",
    "|  :---    | :----              | :---           |\n",
    "| OsloCTM3 | 20 years           |   year 20      |\n",
    "| WACCM6   | 18 years           | last 5 years   |\n",
    "| INCA     | 10 years           | last 3 years   |\n",
    "| GFDL*    | 50 years           | last 40 years  | \n"
   ]
  },
  {
   "cell_type": "code",
   "execution_count": 56,
   "id": "35143e47",
   "metadata": {},
   "outputs": [],
   "source": [
    "\n",
    "import numpy as np\n",
    "import pandas as pd\n",
    "import matplotlib\n",
    "\n",
    "from matplotlib import pyplot as plt\n",
    "%matplotlib inline\n",
    "import uncertainties\n",
    "from uncertainties import ufloat\n",
    "from uncertainties import unumpy\n",
    "from uncertainties.umath import *\n",
    "\n",
    "import ipywidgets as widgets\n",
    "from ipywidgets import interact, interact_manual\n",
    "\n",
    "\n",
    "pd.set_option('display.float_format', lambda x: '{:,.4f}'.format(x) if abs(x)<0 else ('{:,.2f}'.format(x) if abs(x)<10 else ('{:,.1f}'.format(x) if abs(x)<100 else '{:,.0f}'.format(x))))"
   ]
  },
  {
   "cell_type": "code",
   "execution_count": 57,
   "id": "ffb606d9",
   "metadata": {},
   "outputs": [],
   "source": [
    "path = r\"./input/\"\n",
    "outputpath= r\"./output/\""
   ]
  },
  {
   "cell_type": "code",
   "execution_count": 58,
   "id": "ffabde40",
   "metadata": {},
   "outputs": [],
   "source": [
    "#AGWP100_CO2 [mW yr m-2 Tg-1] Source: REF.\n",
    "agwp100_CO2 = 0.09170\n",
    "\n",
    "#CH4 tau_strat[yr] Source: REF\n",
    "tau_strat = 120.0\n",
    "\n",
    "#CH4 tau_soil [yr] Source: REF\n",
    "tau_soil = 160.0\n",
    "\n",
    "#Specific RF for CH4 [mW m-2 ppb-1] Etminan et al., 2016\n",
    "spec_rf_ch4 = 0.44300"
   ]
  },
  {
   "cell_type": "code",
   "execution_count": 59,
   "id": "580cb40a",
   "metadata": {},
   "outputs": [],
   "source": [
    "adjust_drydep = False\n",
    "if(adjust_drydep):\n",
    "    drydep = 80.0\n",
    "    outputpath = outputpath + 'drydep_'+ f'{drydep:.0f}_'"
   ]
  },
  {
   "cell_type": "code",
   "execution_count": 182,
   "id": "8b614383",
   "metadata": {},
   "outputs": [],
   "source": [
    "unc_atmloss = 0.01\n",
    "unc_drydep = 0.1"
   ]
  },
  {
   "cell_type": "code",
   "execution_count": 193,
   "id": "29ecf5ea",
   "metadata": {},
   "outputs": [
    {
     "name": "stdout",
     "output_type": "stream",
     "text": [
      "          OSLOCTM3  WACCM6-2deg  INCA  GFDL-emi  OSLOCTM3-emi\n",
      "Scenario                                                     \n",
      "CTRL           196          195   194       192           209\n",
      "10H2           215          213   213       656           240\n",
      "10CH4          197          195   195       NaN           NaN\n",
      "deltaH2       18.7         18.7  18.6       464          30.8\n"
     ]
    },
    {
     "name": "stderr",
     "output_type": "stream",
     "text": [
      "/tmp/ipykernel_5054/1024000643.py:5: FutureWarning: The frame.append method is deprecated and will be removed from pandas in a future version. Use pandas.concat instead.\n",
      "  df_h2_burden = df_h2_burden.append(delta)\n"
     ]
    },
    {
     "data": {
      "text/plain": [
       "Scenario\n",
       "CTRL      197\n",
       "10H2      307\n",
       "10CH4     196\n",
       "deltaH2   110\n",
       "dtype: float64"
      ]
     },
     "execution_count": 193,
     "metadata": {},
     "output_type": "execute_result"
    }
   ],
   "source": [
    "file = 'H2_burden.txt'\n",
    "df_h2_burden = pd.read_csv(path + file, sep=';',index_col=0,header=0)\n",
    "delta = df_h2_burden.loc['10H2']-df_h2_burden.loc['CTRL']\n",
    "delta.name = 'deltaH2'\n",
    "df_h2_burden = df_h2_burden.append(delta)\n",
    "print(df_h2_burden)\n",
    "df_mm_h2_burden = df_h2_burden.mean(axis=1)\n",
    "df_mm_h2_burden"
   ]
  },
  {
   "cell_type": "code",
   "execution_count": 62,
   "id": "56b5d244",
   "metadata": {},
   "outputs": [],
   "source": [
    "file = 'H2_drydep.txt'\n",
    "df_h2_drydep = pd.read_csv(path + file, sep=';',index_col=0,header=0)\n"
   ]
  },
  {
   "cell_type": "code",
   "execution_count": 63,
   "id": "291a2e23",
   "metadata": {},
   "outputs": [
    {
     "data": {
      "text/plain": [
       "Scenario\n",
       "CTRL    59.5\n",
       "10H2    94.9\n",
       "10CH4   46.1\n",
       "dtype: float64"
      ]
     },
     "execution_count": 63,
     "metadata": {},
     "output_type": "execute_result"
    }
   ],
   "source": [
    "if(adjust_drydep):\n",
    "    print('NB drydep adjusted')\n",
    "    \n",
    "    #Adjust by the relative adjustment in the control simulations\n",
    "    adjust = drydep/df_h2_drydep.loc['CTRL']\n",
    "    df_h2_drydep = df_h2_drydep*adjust\n",
    "    \n",
    "df_h2_drydep\n",
    "#df_h2_drydep_unc = df_h2_drydep*unc_drydep\n",
    "#df_h2_drydep_u = unumpy.uarray(df_h2_drydep, np.nan_to_num(df_h2_drydep_unc))\n",
    "#df_h2_drydep_udf = pd.DataFrame(df_h2_drydep_u, columns=['OSLOCTM3','WACCM6-2deg','INCA','GFDL-emi','OSLOCTM3-emi'], index = ['CTRL','10H2','10CH4'])\n",
    "\n",
    "#df_h2_drydep_udf\n",
    "df_mm_h2_drydep = df_h2_drydep.mean(axis=1)\n",
    "df_mm_h2_drydep\n"
   ]
  },
  {
   "cell_type": "code",
   "execution_count": 64,
   "id": "b2e587aa",
   "metadata": {},
   "outputs": [
    {
     "data": {
      "text/plain": [
       "Scenario\n",
       "CTRL    26.3\n",
       "10H2    38.1\n",
       "10CH4   19.4\n",
       "dtype: float64"
      ]
     },
     "execution_count": 64,
     "metadata": {},
     "output_type": "execute_result"
    }
   ],
   "source": [
    "file = 'H2_atm_loss.txt'\n",
    "\n",
    "df_h2_atmloss = pd.read_csv(path + file, sep=';',index_col=0,header=0)\n",
    "\n",
    "#df_h2_atmloss_unc = df_h2_atmloss*unc_atmloss\n",
    "#df_h2_atmloss_u = unumpy.uarray(df_h2_atmloss,  np.nan_to_num(df_h2_atmloss_unc))\n",
    "#df_h2_atmloss_udf = pd.DataFrame(df_h2_atmloss_u, columns=['OSLOCTM3','WACCM6-2deg','INCA','GFDL-emi','OSLOCTM3-emi'], index = ['CTRL','10H2','10CH4'])\n",
    "#df_h2_atmloss_udf\n",
    "df_mm_h2_atmloss = df_h2_atmloss.mean(axis=1)\n",
    "df_mm_h2_atmloss"
   ]
  },
  {
   "cell_type": "code",
   "execution_count": 183,
   "id": "09878c5b",
   "metadata": {},
   "outputs": [
    {
     "name": "stdout",
     "output_type": "stream",
     "text": [
      "          OSLOCTM3  WACCM6-2deg  INCA  GFDL-emi  OSLOCTM3-emi\n",
      "Scenario                                                     \n",
      "CTRL          87.9          102  74.2      76.8          88.4\n",
      "10H2          96.4          112  81.4       273           102\n",
      "10CH4         87.2          101  73.7       NaN          0.00\n",
      "Scenario\n",
      "CTRL    85.9\n",
      "10H2     133\n",
      "10CH4   65.5\n",
      "dtype: float64\n",
      "Scenario\n",
      "CTRL    11.1\n",
      "10H2    79.1\n",
      "10CH4   45.1\n",
      "dtype: float64\n",
      "[85.85876368497122+/-0.01 132.99005060754777+/-0.01\n",
      " 65.49728379148797+/-0.01]\n",
      "                     0\n",
      "CTRL    85.859+/-0.010\n",
      "10H2   132.990+/-0.010\n",
      "10CH4   65.497+/-0.010\n"
     ]
    }
   ],
   "source": [
    "df_h2_loss = df_h2_atmloss + df_h2_drydep\n",
    "print(df_h2_loss)\n",
    "#df_min_h2_loss = df_h2_loss.min(axis=1)\n",
    "#print(df_min_h2_loss)\n",
    "#df_max_h2_loss = df_h2_loss.max(axis=1)\n",
    "#print(df_max_h2_loss)\n",
    "\n",
    "df_mm_h2_loss = df_mm_h2_atmloss + df_mm_h2_drydep\n",
    "print(df_mm_h2_loss)\n",
    "df_std_h2_loss = df_h2_loss.std(ddof=1, axis=1)\n",
    "print(df_std_h2_loss)\n",
    "\n",
    "df_mm_h2_loss_u = unumpy.uarray(df_mm_h2_loss, unc_atmloss)\n",
    "print(df_mm_h2_loss_u)\n",
    "df_mm_h2_loss_udf = pd.DataFrame(df_mm_h2_loss_u, index = ['CTRL','10H2','10CH4'])\n",
    "print(df_mm_h2_loss_udf)"
   ]
  },
  {
   "cell_type": "code",
   "execution_count": 184,
   "id": "061d8b49",
   "metadata": {},
   "outputs": [
    {
     "data": {
      "text/plain": [
       "Scenario\n",
       "CTRL    47.6\n",
       "10H2    47.2\n",
       "10CH4   36.1\n",
       "dtype: float64"
      ]
     },
     "execution_count": 184,
     "metadata": {},
     "output_type": "execute_result"
    }
   ],
   "source": [
    "file = 'H2_atm_prod.txt'\n",
    "df_h2_atmprod = pd.read_csv(path + file, sep=';',index_col=0,header=0)\n",
    "df_h2_atmprod\n",
    "df_mm_h2_atmprod = df_h2_atmprod.mean(axis=1)\n",
    "df_mm_h2_atmprod"
   ]
  },
  {
   "cell_type": "code",
   "execution_count": 185,
   "id": "264a7aca",
   "metadata": {},
   "outputs": [
    {
     "data": {
      "text/plain": [
       "38.28788307383348"
      ]
     },
     "execution_count": 185,
     "metadata": {},
     "output_type": "execute_result"
    }
   ],
   "source": [
    "df_h2_estemis = df_h2_atmloss.loc['CTRL'] + df_h2_drydep.loc['CTRL'] - df_h2_atmprod.loc['CTRL']\n",
    "#df_h2_estemis = df_h2_atmloss_udf.loc['CTRL'] + df_h2_drydep.loc['CTRL'] - df_h2_atmprod.loc['CTRL']\n",
    "df_h2_estemis\n",
    "df_mm_h2_estemis = df_mm_h2_atmloss.loc['CTRL'] + df_mm_h2_drydep.loc['CTRL'] - df_mm_h2_atmprod.loc['CTRL']\n",
    "df_mm_h2_estemis"
   ]
  },
  {
   "cell_type": "code",
   "execution_count": 186,
   "id": "afe32f21",
   "metadata": {},
   "outputs": [
    {
     "name": "stderr",
     "output_type": "stream",
     "text": [
      "/tmp/ipykernel_5054/3117829227.py:5: FutureWarning: The frame.append method is deprecated and will be removed from pandas in a future version. Use pandas.concat instead.\n",
      "  df_h2_surfconc = df_h2_surfconc.append(delta)\n"
     ]
    },
    {
     "data": {
      "text/plain": [
       "Scenario\n",
       "CTRL      539\n",
       "10H2      858\n",
       "deltaH2   319\n",
       "dtype: float64"
      ]
     },
     "execution_count": 186,
     "metadata": {},
     "output_type": "execute_result"
    }
   ],
   "source": [
    "file = 'H2_surfconc.txt'\n",
    "df_h2_surfconc = pd.read_csv(path + file, sep=';',index_col=0,header=0)\n",
    "delta = df_h2_surfconc.loc['10H2']-df_h2_surfconc.loc['CTRL']\n",
    "delta.name = 'deltaH2'\n",
    "df_h2_surfconc = df_h2_surfconc.append(delta)\n",
    "df_h2_surfconc\n",
    "df_mm_h2_surfconc = df_h2_surfconc.mean(axis=1)\n",
    "df_mm_h2_surfconc\n"
   ]
  },
  {
   "cell_type": "code",
   "execution_count": 192,
   "id": "7fc1c243",
   "metadata": {},
   "outputs": [
    {
     "name": "stdout",
     "output_type": "stream",
     "text": [
      "          OSLOCTM3  WACCM6-2deg  INCA  GFDL-emi  OSLOCTM3-emi\n",
      "Scenario                                                     \n",
      "CTRL          2.23         1.91  2.62      2.50          2.36\n",
      "10H2          2.23         1.91  2.62      2.40          2.35\n",
      "10CH4         2.26         1.93  2.64       NaN           NaN\n",
      "Scenario\n",
      "CTRL    197\n",
      "10H2    307\n",
      "10CH4   196\n",
      "dtype: float64\n",
      "[85.85876368497122+/-0.01 132.99005060754777+/-0.01\n",
      " 65.49728379148797+/-0.01]\n"
     ]
    },
    {
     "data": {
      "text/plain": [
       "Scenario\n",
       "CTRL     2.29626+/-0.00027\n",
       "10H2     2.31064+/-0.00017\n",
       "10CH4      2.9871+/-0.0005\n",
       "dtype: object"
      ]
     },
     "execution_count": 192,
     "metadata": {},
     "output_type": "execute_result"
    }
   ],
   "source": [
    "df_h2_lifetime = (df_h2_burden.drop('deltaH2')/((df_h2_loss)))\n",
    "print(df_h2_lifetime)\n",
    "print(df_mm_h2_burden.drop('deltaH2'))\n",
    "print(df_mm_h2_loss_u)\n",
    "df_mm_h2_lifetime = (df_mm_h2_burden.drop('deltaH2')/((df_mm_h2_loss_u)))\n",
    "df_mm_h2_lifetime"
   ]
  },
  {
   "cell_type": "code",
   "execution_count": 188,
   "id": "1e3e20c4",
   "metadata": {},
   "outputs": [
    {
     "data": {
      "text/plain": [
       "Scenario\n",
       "CTRL    7.48\n",
       "10H2    8.06\n",
       "10CH4   10.1\n",
       "dtype: float64"
      ]
     },
     "execution_count": 188,
     "metadata": {},
     "output_type": "execute_result"
    }
   ],
   "source": [
    "df_h2_atm_lifetime = df_h2_burden.drop('deltaH2')/df_h2_atmloss\n",
    "df_h2_atm_lifetime\n",
    "\n",
    "df_mm_h2_atm_lifetime = df_mm_h2_burden.drop('deltaH2')/df_mm_h2_atmloss\n",
    "df_mm_h2_atm_lifetime\n"
   ]
  },
  {
   "cell_type": "code",
   "execution_count": 83,
   "id": "df98a0de",
   "metadata": {},
   "outputs": [
    {
     "name": "stderr",
     "output_type": "stream",
     "text": [
      "/tmp/ipykernel_5054/688235451.py:6: FutureWarning: The frame.append method is deprecated and will be removed from pandas in a future version. Use pandas.concat instead.\n",
      "  df_h2_flux = df_h2_flux.append(delta)\n",
      "/tmp/ipykernel_5054/688235451.py:10: FutureWarning: The frame.append method is deprecated and will be removed from pandas in a future version. Use pandas.concat instead.\n",
      "  df_h2_flux = df_h2_flux.append(delta)\n"
     ]
    },
    {
     "data": {
      "text/plain": [
       "Scenario\n",
       "CTRL        85.9\n",
       "10H2         133\n",
       "10CH4       87.3\n",
       "deltaH2     47.1\n",
       "deltaCH4   -0.70\n",
       "dtype: float64"
      ]
     },
     "execution_count": 83,
     "metadata": {},
     "output_type": "execute_result"
    }
   ],
   "source": [
    "df_h2_flux = df_h2_burden.drop('deltaH2')/df_h2_lifetime\n",
    "#Add delta flux 10H2:\n",
    "\n",
    "delta = df_h2_flux.loc['10H2']-df_h2_flux.loc['CTRL']\n",
    "delta.name = 'deltaH2'\n",
    "df_h2_flux = df_h2_flux.append(delta)\n",
    "#Add delta flux 10CH4:\n",
    "delta = df_h2_flux.loc['10CH4']-df_h2_flux.loc['CTRL'].astype(float)\n",
    "delta.name = 'deltaCH4'\n",
    "df_h2_flux = df_h2_flux.append(delta)\n",
    "\n",
    "df_mm_h2_flux = df_h2_flux.mean(axis=1)\n",
    "df_mm_h2_flux\n"
   ]
  },
  {
   "cell_type": "code",
   "execution_count": 84,
   "id": "69fe2795",
   "metadata": {},
   "outputs": [
    {
     "name": "stderr",
     "output_type": "stream",
     "text": [
      "/tmp/ipykernel_5054/3050380812.py:5: FutureWarning: The frame.append method is deprecated and will be removed from pandas in a future version. Use pandas.concat instead.\n",
      "  df_ch4_burden = df_ch4_burden.append(delta)\n"
     ]
    },
    {
     "data": {
      "text/plain": [
       "Scenario\n",
       "CTRL       4,984\n",
       "10H2       4,985\n",
       "10CH4      5,498\n",
       "deltaCH4     501\n",
       "dtype: float64"
      ]
     },
     "execution_count": 84,
     "metadata": {},
     "output_type": "execute_result"
    }
   ],
   "source": [
    "file = 'CH4_burden.txt'\n",
    "df_ch4_burden = pd.read_csv(path + file, sep=';',index_col=0,header=0)\n",
    "delta = df_ch4_burden.loc['10CH4']-df_ch4_burden.loc['CTRL']\n",
    "delta.name = 'deltaCH4'\n",
    "df_ch4_burden = df_ch4_burden.append(delta)\n",
    "df_ch4_burden\n",
    "df_mm_ch4_burden = df_ch4_burden.mean(axis=1)\n",
    "df_mm_ch4_burden"
   ]
  },
  {
   "cell_type": "code",
   "execution_count": 85,
   "id": "fead5db5",
   "metadata": {},
   "outputs": [
    {
     "data": {
      "text/plain": [
       "Scenario\n",
       "CTRL    645\n",
       "10H2    633\n",
       "10CH4   696\n",
       "dtype: float64"
      ]
     },
     "execution_count": 85,
     "metadata": {},
     "output_type": "execute_result"
    }
   ],
   "source": [
    "file = 'CH4_loss.txt'\n",
    "df_ch4_loss = pd.read_csv(path + file, sep=';',index_col=0,header=0)\n",
    "df_ch4_loss\n",
    "df_mm_ch4_loss = df_ch4_loss.mean(axis=1)\n",
    "df_mm_ch4_loss"
   ]
  },
  {
   "cell_type": "code",
   "execution_count": 87,
   "id": "a13c0dce",
   "metadata": {},
   "outputs": [
    {
     "name": "stderr",
     "output_type": "stream",
     "text": [
      "/tmp/ipykernel_5054/932771260.py:5: FutureWarning: The frame.append method is deprecated and will be removed from pandas in a future version. Use pandas.concat instead.\n",
      "  df_ch4_surfconc = df_ch4_surfconc.append(delta)\n"
     ]
    },
    {
     "data": {
      "text/plain": [
       "Scenario\n",
       "CTRL       1,810\n",
       "10CH4      1,993\n",
       "deltaCH4     181\n",
       "dtype: float64"
      ]
     },
     "execution_count": 87,
     "metadata": {},
     "output_type": "execute_result"
    }
   ],
   "source": [
    "file = 'CH4_surfconc.txt'\n",
    "df_ch4_surfconc = pd.read_csv(path + file, sep=';',index_col=0,header=0)\n",
    "delta = df_ch4_surfconc.loc['10CH4']-df_ch4_surfconc.loc['CTRL']\n",
    "delta.name = 'deltaCH4'\n",
    "df_ch4_surfconc = df_ch4_surfconc.append(delta)\n",
    "df_ch4_surfconc\n",
    "df_mm_ch4_surfconc = df_ch4_surfconc.mean(axis=1)\n",
    "df_mm_ch4_surfconc"
   ]
  },
  {
   "cell_type": "code",
   "execution_count": 88,
   "id": "f1da9c30",
   "metadata": {},
   "outputs": [
    {
     "data": {
      "text/plain": [
       "Scenario\n",
       "CTRL    7.82\n",
       "10H2    7.99\n",
       "10CH4   8.01\n",
       "dtype: float64"
      ]
     },
     "execution_count": 88,
     "metadata": {},
     "output_type": "execute_result"
    }
   ],
   "source": [
    "df_ch4_lifetime = df_ch4_burden.drop('deltaCH4')/df_ch4_loss\n",
    "df_ch4_lifetime\n",
    "df_mm_ch4_lifetime = df_ch4_lifetime.mean(axis=1)\n",
    "df_mm_ch4_lifetime"
   ]
  },
  {
   "cell_type": "code",
   "execution_count": 90,
   "id": "b7fd9506",
   "metadata": {},
   "outputs": [
    {
     "data": {
      "text/plain": [
       "Scenario\n",
       "CTRL    7.01\n",
       "10H2    7.15\n",
       "10CH4   7.16\n",
       "dtype: float64"
      ]
     },
     "execution_count": 90,
     "metadata": {},
     "output_type": "execute_result"
    }
   ],
   "source": [
    "df_ch4_tot_lifetime = 1.0/(1.0/df_ch4_lifetime + 1.0/tau_strat + 1.0/tau_soil)\n",
    "df_ch4_tot_lifetime\n",
    "df_mm_ch4_tot_lifetime = df_ch4_tot_lifetime.mean(axis=1)\n",
    "df_mm_ch4_tot_lifetime"
   ]
  },
  {
   "cell_type": "code",
   "execution_count": 91,
   "id": "a920a5fc",
   "metadata": {},
   "outputs": [
    {
     "name": "stderr",
     "output_type": "stream",
     "text": [
      "/tmp/ipykernel_5054/2182549902.py:5: FutureWarning: The frame.append method is deprecated and will be removed from pandas in a future version. Use pandas.concat instead.\n",
      "  df_ch4_flux = df_ch4_flux.append(delta)\n",
      "/tmp/ipykernel_5054/2182549902.py:9: FutureWarning: The frame.append method is deprecated and will be removed from pandas in a future version. Use pandas.concat instead.\n",
      "  df_ch4_flux = df_ch4_flux.append(delta)\n"
     ]
    },
    {
     "data": {
      "text/plain": [
       "Scenario\n",
       "CTRL         717\n",
       "10H2         706\n",
       "10CH4        776\n",
       "deltaH2    -11.5\n",
       "deltaCH4    50.0\n",
       "dtype: float64"
      ]
     },
     "execution_count": 91,
     "metadata": {},
     "output_type": "execute_result"
    }
   ],
   "source": [
    "df_ch4_flux = df_ch4_burden.drop('deltaCH4')/df_ch4_tot_lifetime\n",
    "#Add delta CH4 flux 10H2\n",
    "delta = df_ch4_flux.loc['10H2']-df_ch4_flux.loc['CTRL']\n",
    "delta.name = 'deltaH2'\n",
    "df_ch4_flux = df_ch4_flux.append(delta)\n",
    "#Add delta CH4 flux 10CH4\n",
    "delta = df_ch4_flux.loc['10CH4']-df_ch4_flux.loc['CTRL']\n",
    "delta.name = 'deltaCH4'\n",
    "df_ch4_flux = df_ch4_flux.append(delta)\n",
    "df_ch4_flux\n",
    "df_mm_ch4_flux = df_ch4_flux.mean(axis=1)\n",
    "df_mm_ch4_flux"
   ]
  },
  {
   "cell_type": "code",
   "execution_count": 92,
   "id": "543fab6c",
   "metadata": {},
   "outputs": [
    {
     "data": {
      "text/plain": [
       "Scenario\n",
       "10H2    0.18\n",
       "10CH4   0.75\n",
       "dtype: float64"
      ]
     },
     "execution_count": 92,
     "metadata": {},
     "output_type": "execute_result"
    }
   ],
   "source": [
    "file = 'ozone_du_trop.txt'\n",
    "df_ozone_du_trop = pd.read_csv(path+file, sep=';',index_col=0,header=0)\n",
    "df_ozone_du_trop\n",
    "df_mm_ozone_du_trop = df_ozone_du_trop.mean(axis=1)\n",
    "df_mm_ozone_du_trop"
   ]
  },
  {
   "cell_type": "code",
   "execution_count": 93,
   "id": "4a8770fa",
   "metadata": {},
   "outputs": [
    {
     "data": {
      "text/plain": [
       "Scenario\n",
       "10H2    -0.05\n",
       "10CH4    0.77\n",
       "dtype: float64"
      ]
     },
     "execution_count": 93,
     "metadata": {},
     "output_type": "execute_result"
    }
   ],
   "source": [
    "file = 'ozone_du_strat.txt'\n",
    "df_ozone_du_strat = pd.read_csv(path+file, sep=';',index_col=0,header=0)\n",
    "df_ozone_du_strat\n",
    "df_mm_ozone_du_strat = df_ozone_du_strat.mean(axis=1)\n",
    "df_mm_ozone_du_strat"
   ]
  },
  {
   "cell_type": "code",
   "execution_count": 94,
   "id": "02b951f0",
   "metadata": {},
   "outputs": [
    {
     "data": {
      "text/plain": [
       "Scenario\n",
       "10H2    -0.06\n",
       "10CH4    0.56\n",
       "dtype: float64"
      ]
     },
     "execution_count": 94,
     "metadata": {},
     "output_type": "execute_result"
    }
   ],
   "source": [
    "file = 'ozone_du_strat_6060.txt'\n",
    "df_ozone_du_strat_6060 = pd.read_csv(path+file, sep=';',index_col=0,header=0)\n",
    "df_ozone_du_strat_6060\n",
    "df_mm_ozone_du_strat_6060 = df_ozone_du_strat_6060.mean(axis=1)\n",
    "df_mm_ozone_du_strat_6060"
   ]
  },
  {
   "cell_type": "code",
   "execution_count": 95,
   "id": "75948aad",
   "metadata": {},
   "outputs": [
    {
     "data": {
      "text/plain": [
       "Scenario\n",
       "10H2    -0.00\n",
       "10CH4    0.22\n",
       "dtype: float64"
      ]
     },
     "execution_count": 95,
     "metadata": {},
     "output_type": "execute_result"
    }
   ],
   "source": [
    "file = 'ozone_du_strat_gt60.txt'\n",
    "df_ozone_du_strat_gt60 = pd.read_csv(path+file, sep=';',index_col=0,header=0)\n",
    "df_ozone_du_strat_gt60\n",
    "df_mm_ozone_du_strat_gt60 = df_ozone_du_strat_gt60.mean(axis=1)\n",
    "df_mm_ozone_du_strat_gt60\n"
   ]
  },
  {
   "cell_type": "code",
   "execution_count": 97,
   "id": "6491a6c4",
   "metadata": {},
   "outputs": [
    {
     "data": {
      "text/plain": [
       "Scenario\n",
       "10H2    8.36\n",
       "10CH4   36.0\n",
       "dtype: float64"
      ]
     },
     "execution_count": 97,
     "metadata": {},
     "output_type": "execute_result"
    }
   ],
   "source": [
    "file = 'ozone_rf.txt'\n",
    "df_ozone_rf = pd.read_csv(path+file, sep=';',index_col=0,header=0)\n",
    "df_ozone_rf\n",
    "df_mm_ozone_rf = df_ozone_rf.mean(axis=1)\n",
    "df_mm_ozone_rf"
   ]
  },
  {
   "cell_type": "code",
   "execution_count": 98,
   "id": "c2dbccc5",
   "metadata": {},
   "outputs": [
    {
     "data": {
      "text/plain": [
       "Scenario\n",
       "10H2    8.36\n",
       "10CH4   37.0\n",
       "dtype: float64"
      ]
     },
     "execution_count": 98,
     "metadata": {},
     "output_type": "execute_result"
    }
   ],
   "source": [
    "df_ozone_rf['OSLOCTM3-emi'].loc['10CH4'] = df_ozone_rf['OSLOCTM3'].loc['10CH4'] \n",
    "df_ozone_rf\n",
    "df_mm_ozone_rf = df_ozone_rf.mean(axis=1)\n",
    "df_mm_ozone_rf"
   ]
  },
  {
   "cell_type": "code",
   "execution_count": 99,
   "id": "18ead83c",
   "metadata": {},
   "outputs": [
    {
     "data": {
      "text/plain": [
       "Scenario\n",
       "10H2    0.96\n",
       "10CH4   6.15\n",
       "dtype: float64"
      ]
     },
     "execution_count": 99,
     "metadata": {},
     "output_type": "execute_result"
    }
   ],
   "source": [
    "file = 'H2O_rf.txt'\n",
    "df_h2o_rf = pd.read_csv(path+file, sep=';',index_col=0,header=0)\n",
    "df_h2o_rf\n",
    "df_mm_h2o_rf = df_h2o_rf.mean(axis=1)\n",
    "df_mm_h2o_rf\n"
   ]
  },
  {
   "cell_type": "code",
   "execution_count": 100,
   "id": "ed42d9fd",
   "metadata": {},
   "outputs": [
    {
     "data": {
      "text/plain": [
       "Scenario\n",
       "10H2    0.96\n",
       "10CH4   7.14\n",
       "dtype: float64"
      ]
     },
     "execution_count": 100,
     "metadata": {},
     "output_type": "execute_result"
    }
   ],
   "source": [
    "df_h2o_rf['OSLOCTM3-emi'].loc['10CH4'] = df_h2o_rf['OSLOCTM3'].loc['10CH4'] \n",
    "df_h2o_rf\n",
    "df_mm_h2o_rf = df_h2o_rf.mean(axis=1)\n",
    "df_mm_h2o_rf"
   ]
  },
  {
   "cell_type": "code",
   "execution_count": 101,
   "id": "340b065e",
   "metadata": {},
   "outputs": [
    {
     "data": {
      "text/html": [
       "<div>\n",
       "<style scoped>\n",
       "    .dataframe tbody tr th:only-of-type {\n",
       "        vertical-align: middle;\n",
       "    }\n",
       "\n",
       "    .dataframe tbody tr th {\n",
       "        vertical-align: top;\n",
       "    }\n",
       "\n",
       "    .dataframe thead th {\n",
       "        text-align: right;\n",
       "    }\n",
       "</style>\n",
       "<table border=\"1\" class=\"dataframe\">\n",
       "  <thead>\n",
       "    <tr style=\"text-align: right;\">\n",
       "      <th></th>\n",
       "      <th>GFDL</th>\n",
       "    </tr>\n",
       "  </thead>\n",
       "  <tbody>\n",
       "    <tr>\n",
       "      <th>H2 [mW m-2]</th>\n",
       "      <td>32.6</td>\n",
       "    </tr>\n",
       "    <tr>\n",
       "      <th>H2+CH4 [mW m-2]</th>\n",
       "      <td>51.7</td>\n",
       "    </tr>\n",
       "  </tbody>\n",
       "</table>\n",
       "</div>"
      ],
      "text/plain": [
       "                 GFDL\n",
       "H2 [mW m-2]      32.6\n",
       "H2+CH4 [mW m-2]  51.7"
      ]
     },
     "execution_count": 101,
     "metadata": {},
     "output_type": "execute_result"
    }
   ],
   "source": [
    "file = 'H2O_rf_gfdl.txt'\n",
    "h2o_rf_gfdl = pd.read_csv(path + file, sep=',',index_col=0,header=0)\n",
    "h2o_rf_gfdl\n"
   ]
  },
  {
   "cell_type": "code",
   "execution_count": 103,
   "id": "5bae89f5",
   "metadata": {},
   "outputs": [
    {
     "data": {
      "text/plain": [
       "6.463827332423311"
      ]
     },
     "execution_count": 103,
     "metadata": {},
     "output_type": "execute_result"
    }
   ],
   "source": [
    "df_surf_h2_per_h2_flux = df_h2_surfconc.loc['deltaH2']/df_h2_flux.loc['deltaH2']\n",
    "df_surf_h2_per_h2_flux.name = 'surf_h2_per_h2_flux'\n",
    "df_surf_h2_per_h2_flux\n",
    "df_mm_surf_h2_per_h2_flux = df_surf_h2_per_h2_flux.mean(axis=0)\n",
    "df_mm_surf_h2_per_h2_flux"
   ]
  },
  {
   "cell_type": "code",
   "execution_count": 104,
   "id": "76b2191a",
   "metadata": {},
   "outputs": [
    {
     "data": {
      "text/plain": [
       "0.2969434503911241"
      ]
     },
     "execution_count": 104,
     "metadata": {},
     "output_type": "execute_result"
    }
   ],
   "source": [
    "df_ch4_flux_per_h2_flux = -1.0*df_ch4_flux.loc['deltaH2']/df_h2_flux.loc['deltaH2']\n",
    "df_ch4_flux_per_h2_flux.name = 'ch4_flux_per_h2_flux'\n",
    "df_ch4_flux_per_h2_flux\n",
    "df_mm_ch4_flux_per_h2_flux = df_ch4_flux_per_h2_flux.mean(axis=0)\n",
    "df_mm_ch4_flux_per_h2_flux"
   ]
  },
  {
   "cell_type": "code",
   "execution_count": 105,
   "id": "3dddcf83",
   "metadata": {},
   "outputs": [
    {
     "data": {
      "text/plain": [
       "3.6381520218250176"
      ]
     },
     "execution_count": 105,
     "metadata": {},
     "output_type": "execute_result"
    }
   ],
   "source": [
    "df_surf_ch4_per_ch4_flux =  df_ch4_surfconc.loc['deltaCH4']/df_ch4_flux.loc['deltaCH4']\n",
    "df_surf_ch4_per_ch4_flux.name = 'surf_ch4_per_ch4_flux'\n",
    "df_surf_ch4_per_ch4_flux\n",
    "df_mm_surf_ch4_per_ch4_flux = df_surf_ch4_per_ch4_flux.mean(axis=0)\n",
    "df_mm_surf_ch4_per_ch4_flux"
   ]
  },
  {
   "cell_type": "code",
   "execution_count": 107,
   "id": "47c58c6c",
   "metadata": {},
   "outputs": [
    {
     "data": {
      "text/plain": [
       "3.5943892931313868"
      ]
     },
     "execution_count": 107,
     "metadata": {},
     "output_type": "execute_result"
    }
   ],
   "source": [
    "df_surf_ch4_per_ch4_flux['OSLOCTM3-emi'] = df_surf_ch4_per_ch4_flux['OSLOCTM3']\n",
    "df_surf_ch4_per_ch4_flux\n",
    "df_mm_surf_ch4_per_ch4_flux = df_surf_ch4_per_ch4_flux.mean(axis=0)\n",
    "df_mm_surf_ch4_per_ch4_flux"
   ]
  },
  {
   "cell_type": "code",
   "execution_count": 108,
   "id": "d592202d",
   "metadata": {},
   "outputs": [
    {
     "data": {
      "text/plain": [
       "1.1002917348989474"
      ]
     },
     "execution_count": 108,
     "metadata": {},
     "output_type": "execute_result"
    }
   ],
   "source": [
    "df_surf_ch4_per_h2_flux = df_surf_ch4_per_ch4_flux*df_ch4_flux_per_h2_flux\n",
    "df_surf_ch4_per_h2_flux.name = 'surf_ch4_per_h2_flux'\n",
    "\n",
    "#Add GFDL:\n",
    "#Increase in surface concentration CH4:\n",
    "#1808 to 2005 ppbv (REF Paolot)\n",
    "df_surf_ch4_per_h2_flux['GFDL-emi']= (2005.-1808.)/df_h2_flux['GFDL-emi'].loc['deltaH2']\n",
    "df_mm_surf_ch4_per_h2_flux = df_surf_ch4_per_h2_flux.mean(axis=0)\n",
    "df_mm_surf_ch4_per_h2_flux\n"
   ]
  },
  {
   "cell_type": "code",
   "execution_count": 109,
   "id": "8f28754b",
   "metadata": {},
   "outputs": [
    {
     "data": {
      "text/plain": [
       "0.013850727413373544"
      ]
     },
     "execution_count": 109,
     "metadata": {},
     "output_type": "execute_result"
    }
   ],
   "source": [
    "df_h2_flux_per_ch4_flux = -1.0*df_h2_flux.loc['deltaCH4']/df_ch4_flux.loc['deltaCH4']\n",
    "df_h2_flux_per_ch4_flux.name = 'h2_flux_per_ch4_flux'\n",
    "df_h2_flux_per_ch4_flux\n",
    "df_mm_h2_flux_per_ch4_flux = df_h2_flux_per_ch4_flux.mean(axis=0)\n",
    "df_mm_h2_flux_per_ch4_flux"
   ]
  },
  {
   "cell_type": "code",
   "execution_count": 110,
   "id": "4b9ca0f5",
   "metadata": {},
   "outputs": [
    {
     "data": {
      "text/plain": [
       "0.013960926246669458"
      ]
     },
     "execution_count": 110,
     "metadata": {},
     "output_type": "execute_result"
    }
   ],
   "source": [
    "df_h2_flux_per_ch4_flux['OSLOCTM3-emi'] = df_h2_flux_per_ch4_flux['OSLOCTM3']\n",
    "df_h2_flux_per_ch4_flux\n",
    "df_mm_h2_flux_per_ch4_flux = df_h2_flux_per_ch4_flux.mean(axis=0)\n",
    "df_mm_h2_flux_per_ch4_flux"
   ]
  },
  {
   "cell_type": "code",
   "execution_count": 115,
   "id": "68e3fc1e",
   "metadata": {},
   "outputs": [
    {
     "data": {
      "text/plain": [
       "OSLOCTM3       0.48\n",
       "WACCM6-2deg    0.50\n",
       "INCA           0.52\n",
       "GFDL-emi       0.44\n",
       "OSLOCTM3-emi   0.49\n",
       "Name: h2_agwp_ch4, dtype: float64"
      ]
     },
     "execution_count": 115,
     "metadata": {},
     "output_type": "execute_result"
    }
   ],
   "source": [
    "df_h2_agwp_ch4 = df_surf_ch4_per_h2_flux*spec_rf_ch4\n",
    "df_h2_agwp_ch4.name = 'h2_agwp_ch4'\n",
    "\n",
    "\n",
    "#agwp_ch4 = RF per flux H2 (For the per flux table)\n",
    "df_ch4_rf_per_h2_flux = df_surf_ch4_per_h2_flux*spec_rf_ch4\n",
    "df_ch4_rf_per_h2_flux.name = 'ch4_rf_per_h2_flux'\n"
   ]
  },
  {
   "cell_type": "code",
   "execution_count": 113,
   "id": "4af5b58c",
   "metadata": {},
   "outputs": [
    {
     "data": {
      "text/plain": [
       "O3                 NaN\n",
       "CH4                NaN\n",
       "strat H2O          NaN\n",
       "O3 CH4ind          NaN\n",
       "strat H2O CH4ind   NaN\n",
       "dtype: float64"
      ]
     },
     "execution_count": 113,
     "metadata": {},
     "output_type": "execute_result"
    }
   ],
   "source": [
    "antmod = len(df_h2_agwp_ch4.index)\n",
    "df_h2_gwp = pd.DataFrame(np.empty([5,antmod])*np.nan,columns=df_h2_agwp_ch4.index,\n",
    "                         index=['O3','CH4','strat H2O','O3 CH4ind','strat H2O CH4ind'])\n",
    "#df_h2_gwp_u = pd.DataFrame(np.empty([5,5]), columns=['OSLOCTM3','WACCM6-2deg','INCA','GFDL-emi','OSLOCTM3-emi'], index = ['O3','CH4','strat H2O','O3 CH4ind','strat H2O CH4ind'])\n",
    "#df_h2_gwp_ua = unumpy.uarray(df_h2_gwp_u, 0)\n",
    "\n",
    "#df_h2_gwp_ua\n",
    "#df_h2_gwp_udf = pd.DataFrame(df_h2_gwp_ua, columns=['OSLOCTM3','WACCM6-2deg','INCA','GFDL-emi','OSLOCTM3-emi'], index = ['O3','CH4','strat H2O','O3 CH4ind','strat H2O CH4ind'])\n",
    "df_mm_h2_gwp = df_h2_gwp.mean(axis=1)\n",
    "df_mm_h2_gwp"
   ]
  },
  {
   "cell_type": "code",
   "execution_count": 119,
   "id": "fd2239c5",
   "metadata": {},
   "outputs": [
    {
     "data": {
      "text/plain": [
       "O3                  NaN\n",
       "CH4                5.32\n",
       "strat H2O           NaN\n",
       "O3 CH4ind           NaN\n",
       "strat H2O CH4ind    NaN\n",
       "dtype: float64"
      ]
     },
     "execution_count": 119,
     "metadata": {},
     "output_type": "execute_result"
    }
   ],
   "source": [
    "df_h2_gwp.loc['CH4'] = df_h2_agwp_ch4/agwp100_CO2\n",
    "df_h2_gwp\n",
    "df_mm_h2_gwp.loc['CH4'] = df_h2_gwp.loc['CH4'].mean(axis=0)\n",
    "df_mm_h2_gwp"
   ]
  },
  {
   "cell_type": "code",
   "execution_count": 120,
   "id": "c5cf2508",
   "metadata": {},
   "outputs": [
    {
     "data": {
      "text/plain": [
       "GFDL-emi       0.26\n",
       "INCA           0.07\n",
       "OSLOCTM3       0.17\n",
       "OSLOCTM3-emi   0.10\n",
       "WACCM6-2deg    0.05\n",
       "Name: h2_agwp_h2o, dtype: float64"
      ]
     },
     "execution_count": 120,
     "metadata": {},
     "output_type": "execute_result"
    }
   ],
   "source": [
    "df_h2_agwp_h2o = df_h2o_rf.loc['10H2']/df_h2_flux.loc['deltaH2']\n",
    "df_h2_agwp_h2o['GFDL-emi'] = h2o_rf_gfdl['GFDL'].loc['H2+CH4 [mW m-2]']/df_h2_flux['GFDL-emi'].loc['deltaH2']\n",
    "df_h2_agwp_h2o.name = 'h2_agwp_h2o'\n",
    "\n",
    "#NBNB GFDL methane induced is included.\n",
    "df_h2_agwp_h2o"
   ]
  },
  {
   "cell_type": "code",
   "execution_count": 323,
   "id": "43475ae5",
   "metadata": {},
   "outputs": [],
   "source": [
    "#Add to the flux table\n",
    "df_h2o_rf_per_h2_flux = df_h2o_rf.loc['10H2']/df_h2_flux.loc['deltaH2']\n",
    "df_h2o_rf_per_h2_flux.name= 'h2o_rf_per_h2_flux'\n",
    "df_h2o_rf_per_h2_flux['GFDL-emi'] = h2o_rf_gfdl['GFDL'].loc['H2 [mW m-2]']/df_h2_flux['GFDL-emi'].loc['deltaH2']\n",
    "\n",
    "#Strat H2O RF per methane flux (Move this to the methane part?)\n",
    "df_h2o_rf_per_ch4_flux = df_h2o_rf.loc['10CH4']/df_ch4_flux.loc['deltaCH4']\n",
    "df_h2o_rf_per_ch4_flux.name = 'h2o_rf_per_ch4_flux'\n"
   ]
  },
  {
   "cell_type": "code",
   "execution_count": 324,
   "id": "36ece207",
   "metadata": {},
   "outputs": [
    {
     "data": {
      "text/plain": [
       "GFDL-emi        NaN\n",
       "INCA           0.10\n",
       "OSLOCTM3       0.19\n",
       "OSLOCTM3-emi   0.19\n",
       "WACCM6-2deg    0.07\n",
       "Name: h2o_rf_per_ch4_flux, dtype: float64"
      ]
     },
     "execution_count": 324,
     "metadata": {},
     "output_type": "execute_result"
    }
   ],
   "source": [
    "df_h2o_rf_per_ch4_flux['OSLOCTM3-emi'] = df_h2o_rf_per_ch4_flux['OSLOCTM3']\n",
    "df_h2o_rf_per_ch4_flux"
   ]
  },
  {
   "cell_type": "code",
   "execution_count": 325,
   "id": "0df25b4b",
   "metadata": {},
   "outputs": [
    {
     "data": {
      "text/plain": [
       "GFDL-emi        2.13+/-0.25\n",
       "INCA              0.6+/-0.7\n",
       "OSLOCTM3          1.5+/-1.7\n",
       "OSLOCTM3-emi      0.8+/-0.6\n",
       "WACCM6-2deg       0.5+/-0.6\n",
       "Name: h2_agwp_h2o, dtype: object"
      ]
     },
     "execution_count": 325,
     "metadata": {},
     "output_type": "execute_result"
    }
   ],
   "source": [
    "df_h2_agwp_h2o/agwp100_CO2"
   ]
  },
  {
   "cell_type": "code",
   "execution_count": 122,
   "id": "ce90a81f",
   "metadata": {},
   "outputs": [
    {
     "data": {
      "text/plain": [
       "O3                  NaN\n",
       "CH4                5.32\n",
       "strat H2O          1.44\n",
       "O3 CH4ind           NaN\n",
       "strat H2O CH4ind    NaN\n",
       "dtype: float64"
      ]
     },
     "execution_count": 122,
     "metadata": {},
     "output_type": "execute_result"
    }
   ],
   "source": [
    "df_h2_gwp.loc['strat H2O'] = df_h2_agwp_h2o/agwp100_CO2\n",
    "df_mm_h2_gwp['strat H2O'] = df_h2_gwp.loc['strat H2O'].mean(axis=0)\n",
    "df_mm_h2_gwp"
   ]
  },
  {
   "cell_type": "code",
   "execution_count": 123,
   "id": "228427b7",
   "metadata": {},
   "outputs": [],
   "source": [
    "df_h2_agwp_o3 = df_ozone_rf.loc['10H2']/df_h2_flux.loc['deltaH2']\n",
    "df_h2_agwp_o3.name = 'h2_agwp_o3'\n",
    "\n",
    "#For GFDL-emi include the methane induced part.\n",
    "df_h2_agwp_o3['GFDL-emi'] = (df_ozone_rf['GFDL-emi'].loc['10H2']+df_ozone_rf['GFDL-emi'].loc['10CH4'])/df_h2_flux['GFDL-emi'].loc['deltaH2']\n"
   ]
  },
  {
   "cell_type": "code",
   "execution_count": 124,
   "id": "c17d3ca6",
   "metadata": {},
   "outputs": [],
   "source": [
    "#Similar, but use only the H2 Ozone RF for GFDL. To be used in the table:\n",
    "df_ozone_rf_per_h2_flux = df_ozone_rf.loc['10H2']/df_h2_flux.loc['deltaH2']\n",
    "df_ozone_rf_per_h2_flux.name= 'ozone_rf_per_h2_flux'"
   ]
  },
  {
   "cell_type": "code",
   "execution_count": 125,
   "id": "46578a10",
   "metadata": {},
   "outputs": [],
   "source": [
    "#Ozone RF per methane flux (move to the methane part?)\n",
    "df_ozone_rf_per_ch4_flux = df_ozone_rf.loc['10CH4']/df_ch4_flux.loc['deltaCH4']\n",
    "df_ozone_rf_per_ch4_flux.name = 'ozone_rf_per_ch4_flux'"
   ]
  },
  {
   "cell_type": "code",
   "execution_count": 126,
   "id": "3e5d0f3b",
   "metadata": {},
   "outputs": [
    {
     "data": {
      "text/plain": [
       "OSLOCTM3       0.78\n",
       "WACCM6-2deg    0.82\n",
       "INCA           0.50\n",
       "GFDL-emi        NaN\n",
       "OSLOCTM3-emi   0.78\n",
       "Name: ozone_rf_per_ch4_flux, dtype: float64"
      ]
     },
     "execution_count": 126,
     "metadata": {},
     "output_type": "execute_result"
    }
   ],
   "source": [
    "df_ozone_rf_per_ch4_flux['OSLOCTM3-emi'] = df_ozone_rf_per_ch4_flux['OSLOCTM3']\n",
    "df_ozone_rf_per_ch4_flux"
   ]
  },
  {
   "cell_type": "code",
   "execution_count": 127,
   "id": "80ba31f7",
   "metadata": {},
   "outputs": [
    {
     "data": {
      "text/plain": [
       "OSLOCTM3       2.38\n",
       "WACCM6-2deg    1.90\n",
       "INCA           1.69\n",
       "GFDL-emi       3.98\n",
       "OSLOCTM3-emi   2.45\n",
       "Name: h2_agwp_o3, dtype: float64"
      ]
     },
     "execution_count": 127,
     "metadata": {},
     "output_type": "execute_result"
    }
   ],
   "source": [
    "df_h2_agwp_o3/agwp100_CO2"
   ]
  },
  {
   "cell_type": "code",
   "execution_count": 128,
   "id": "8f4bd432",
   "metadata": {},
   "outputs": [
    {
     "data": {
      "text/plain": [
       "O3                 2.48\n",
       "CH4                5.32\n",
       "strat H2O          1.44\n",
       "O3 CH4ind           NaN\n",
       "strat H2O CH4ind    NaN\n",
       "dtype: float64"
      ]
     },
     "execution_count": 128,
     "metadata": {},
     "output_type": "execute_result"
    }
   ],
   "source": [
    "df_h2_gwp.loc['O3'] = df_h2_agwp_o3/agwp100_CO2\n",
    "df_mm_h2_gwp['O3'] = df_h2_gwp.loc['O3'].mean(axis=0)\n",
    "df_mm_h2_gwp"
   ]
  },
  {
   "cell_type": "code",
   "execution_count": 129,
   "id": "a4bcf370",
   "metadata": {},
   "outputs": [],
   "source": [
    "df_trop_du_ozone_per_ch4_flux = df_ozone_du_trop.loc['10CH4']/df_ch4_flux.loc['deltaCH4']\n",
    "df_trop_du_ozone_per_ch4_flux.name = 'trop_du_ozone_per_ch4_flux'\n",
    "\n",
    "df_strat_du_ozone_per_ch4_flux = df_ozone_du_strat.loc['10CH4']/df_ch4_flux.loc['deltaCH4']\n",
    "df_strat_du_ozone_per_ch4_flux.name = 'strat_du_ozone_per_ch4_flux'\n",
    "\n",
    "df_trop_du_ozone_per_h2_flux = df_ozone_du_trop.loc['10H2']/df_h2_flux.loc['deltaH2']\n",
    "df_trop_du_ozone_per_h2_flux.name = 'trop_du_ozone_per_h2_flux'\n",
    "\n",
    "df_strat_du_ozone_per_h2_flux = df_ozone_du_strat.loc['10H2']/df_h2_flux.loc['deltaH2']\n",
    "df_strat_du_ozone_per_h2_flux.name = 'strat_du_ozone_per_h2_flux'\n"
   ]
  },
  {
   "cell_type": "code",
   "execution_count": 130,
   "id": "0e55b318",
   "metadata": {},
   "outputs": [],
   "source": [
    "df_trop_du_ozone_per_ch4_flux['OSLOCTM3-emi']=df_trop_du_ozone_per_ch4_flux['OSLOCTM3']\n",
    "df_strat_du_ozone_per_ch4_flux['OSLOCTM3-emi']=df_strat_du_ozone_per_ch4_flux['OSLOCTM3']"
   ]
  },
  {
   "cell_type": "code",
   "execution_count": 131,
   "id": "5ddb5403",
   "metadata": {},
   "outputs": [],
   "source": [
    "df_strat_du_6060_ozone_per_ch4_flux = df_ozone_du_strat_6060.loc['10CH4']/df_ch4_flux.loc['deltaCH4']\n",
    "df_strat_du_6060_ozone_per_ch4_flux.name = 'strat_du_6060_ozone_per_ch4_flux'\n",
    "\n",
    "df_strat_du_6060_ozone_per_h2_flux = df_ozone_du_strat_6060.loc['10H2']/df_h2_flux.loc['deltaH2']\n",
    "df_strat_du_6060_ozone_per_h2_flux.name = 'strat_du_6060_ozone_per_h2_flux'\n",
    "\n",
    "df_strat_du_gt60_ozone_per_ch4_flux = df_ozone_du_strat_gt60.loc['10CH4']/df_ch4_flux.loc['deltaCH4']\n",
    "df_strat_du_gt60_ozone_per_ch4_flux.name = 'strat_du_gt60_ozone_per_ch4_flux'\n",
    "\n",
    "df_strat_du_gt60_ozone_per_h2_flux = df_ozone_du_strat_gt60.loc['10H2']/df_h2_flux.loc['deltaH2']\n",
    "df_strat_du_gt60_ozone_per_h2_flux.name = 'strat_du_gt60_ozone_per_h2_flux'"
   ]
  },
  {
   "cell_type": "code",
   "execution_count": 132,
   "id": "5a49e7e0",
   "metadata": {},
   "outputs": [],
   "source": [
    "df_ch4_surfconc['OSLOCTM3-emi'].loc['deltaCH4']=df_ch4_surfconc['OSLOCTM3'].loc['deltaCH4']"
   ]
  },
  {
   "cell_type": "code",
   "execution_count": 133,
   "id": "97e996ae",
   "metadata": {},
   "outputs": [],
   "source": [
    "#Wm-2/ppbCH4*ppbCH4/TgH2yr-1 -> Wm-2/TgH2yr-1\n",
    "df_h2_agwp_ch4ind_o3 = df_ozone_rf.loc['10CH4']/df_ch4_surfconc.loc['deltaCH4']*df_surf_ch4_per_h2_flux\n",
    "df_h2_agwp_ch4ind_o3.name = 'h2_agwp_ch4ind_o3'\n"
   ]
  },
  {
   "cell_type": "code",
   "execution_count": 134,
   "id": "74a19ad6",
   "metadata": {},
   "outputs": [
    {
     "data": {
      "text/plain": [
       "OSLOCTM3       2.67\n",
       "WACCM6-2deg    2.94\n",
       "INCA           1.59\n",
       "GFDL-emi        NaN\n",
       "OSLOCTM3-emi   2.73\n",
       "Name: h2_agwp_ch4ind_o3, dtype: float64"
      ]
     },
     "execution_count": 134,
     "metadata": {},
     "output_type": "execute_result"
    }
   ],
   "source": [
    "df_h2_agwp_ch4ind_o3/agwp100_CO2"
   ]
  },
  {
   "cell_type": "code",
   "execution_count": 136,
   "id": "287062fa",
   "metadata": {},
   "outputs": [
    {
     "data": {
      "text/plain": [
       "O3                 2.48\n",
       "CH4                5.32\n",
       "strat H2O          1.44\n",
       "O3 CH4ind          2.48\n",
       "strat H2O CH4ind    NaN\n",
       "dtype: float64"
      ]
     },
     "execution_count": 136,
     "metadata": {},
     "output_type": "execute_result"
    }
   ],
   "source": [
    "df_h2_gwp.loc['O3 CH4ind'] = df_h2_agwp_ch4ind_o3/agwp100_CO2\n",
    "df_mm_h2_gwp['O3 CH4ind'] = df_h2_gwp.loc['O3 CH4ind'].mean(axis=0)\n",
    "df_mm_h2_gwp"
   ]
  },
  {
   "cell_type": "code",
   "execution_count": 137,
   "id": "72cafe7f",
   "metadata": {},
   "outputs": [],
   "source": [
    "df_h2_agwp_ch4ind_h2o = df_h2o_rf.loc['10CH4']/df_ch4_surfconc.loc['deltaCH4']*df_surf_ch4_per_h2_flux\n",
    "df_h2_agwp_ch4ind_h2o.name = 'h2_agwp_ch4ind_h2o'"
   ]
  },
  {
   "cell_type": "code",
   "execution_count": 138,
   "id": "3a98d259",
   "metadata": {},
   "outputs": [
    {
     "data": {
      "text/plain": [
       "GFDL-emi        NaN\n",
       "INCA           0.32\n",
       "OSLOCTM3       0.66\n",
       "OSLOCTM3-emi   0.67\n",
       "WACCM6-2deg    0.26\n",
       "Name: h2_agwp_ch4ind_h2o, dtype: float64"
      ]
     },
     "execution_count": 138,
     "metadata": {},
     "output_type": "execute_result"
    }
   ],
   "source": [
    "df_h2_agwp_ch4ind_h2o/agwp100_CO2"
   ]
  },
  {
   "cell_type": "code",
   "execution_count": 139,
   "id": "f60cb99d",
   "metadata": {},
   "outputs": [
    {
     "data": {
      "text/plain": [
       "O3                 2.48\n",
       "CH4                5.32\n",
       "strat H2O          1.44\n",
       "O3 CH4ind          2.48\n",
       "strat H2O CH4ind   0.48\n",
       "total              11.6\n",
       "dtype: float64"
      ]
     },
     "execution_count": 139,
     "metadata": {},
     "output_type": "execute_result"
    }
   ],
   "source": [
    "df_h2_gwp.loc['strat H2O CH4ind'] = df_h2_agwp_ch4ind_h2o/agwp100_CO2\n",
    "df_h2_gwp.loc['total']=0\n",
    "df_h2_gwp.loc['total']=df_h2_gwp.sum()\n",
    "df_mm_h2_gwp['strat H2O CH4ind'] = df_h2_gwp.loc['strat H2O CH4ind'].mean(axis=0)\n",
    "df_mm_h2_gwp['total'] = df_h2_gwp.loc['total'].mean(axis=0)\n",
    "\n",
    "df_mm_h2_gwp\n"
   ]
  },
  {
   "cell_type": "code",
   "execution_count": 140,
   "id": "5a40fa64",
   "metadata": {},
   "outputs": [],
   "source": [
    "#df_h2_gwp_udf_nom = unumpy.nominal_values(df_h2_gwp_udf)\n",
    "#df_h2_gwp_udf_nom\n",
    "#df_h2_gwp_udf_nom_df = pd.DataFrame(df_h2_gwp_udf_nom, columns=['OSLOCTM3','WACCM6-2deg','INCA','GFDL-emi','OSLOCTM3-emi'], index = ['O3','CH4','strat H2O','O3 CH4ind','strat H2O CH4ind', 'total'])\n",
    "#df_h2_gwp_udf_nom_df"
   ]
  },
  {
   "cell_type": "code",
   "execution_count": 141,
   "id": "c85601fe",
   "metadata": {},
   "outputs": [],
   "source": [
    "#df_h2_gwp_udf_sd = unumpy.std_devs(df_h2_gwp_udf)\n",
    "#df_h2_gwp_udf_sd_df = pd.DataFrame(df_h2_gwp_udf_sd, columns=['OSLOCTM3','WACCM6-2deg','INCA','GFDL-emi','OSLOCTM3-emi'], index = ['O3','CH4','strat H2O','O3 CH4ind','strat H2O CH4ind', 'total'])\n",
    "#df_h2_gwp_udf_sd_df"
   ]
  },
  {
   "cell_type": "code",
   "execution_count": 144,
   "id": "71353e0c",
   "metadata": {},
   "outputs": [
    {
     "data": {
      "text/plain": [
       "<AxesSubplot: >"
      ]
     },
     "execution_count": 144,
     "metadata": {},
     "output_type": "execute_result"
    },
    {
     "data": {
      "image/png": "[encoded data removed]",
      "text/plain": [
       "<Figure size 640x480 with 1 Axes>"
      ]
     },
     "metadata": {},
     "output_type": "display_data"
    }
   ],
   "source": [
    "df_mm_h2_gwp.plot.bar()"
   ]
  },
  {
   "cell_type": "code",
   "execution_count": 146,
   "id": "c1c6c77e",
   "metadata": {},
   "outputs": [
    {
     "data": {
      "text/html": [
       "<div>\n",
       "<style scoped>\n",
       "    .dataframe tbody tr th:only-of-type {\n",
       "        vertical-align: middle;\n",
       "    }\n",
       "\n",
       "    .dataframe tbody tr th {\n",
       "        vertical-align: top;\n",
       "    }\n",
       "\n",
       "    .dataframe thead th {\n",
       "        text-align: right;\n",
       "    }\n",
       "</style>\n",
       "<table border=\"1\" class=\"dataframe\">\n",
       "  <thead>\n",
       "    <tr style=\"text-align: right;\">\n",
       "      <th></th>\n",
       "      <th>OSLOCTM3</th>\n",
       "      <th>WACCM6-2deg</th>\n",
       "      <th>INCA</th>\n",
       "      <th>GFDL-emi</th>\n",
       "      <th>OSLOCTM3-emi</th>\n",
       "    </tr>\n",
       "  </thead>\n",
       "  <tbody>\n",
       "    <tr>\n",
       "      <th>O3</th>\n",
       "      <td>NaN</td>\n",
       "      <td>NaN</td>\n",
       "      <td>NaN</td>\n",
       "      <td>NaN</td>\n",
       "      <td>NaN</td>\n",
       "    </tr>\n",
       "    <tr>\n",
       "      <th>CH4</th>\n",
       "      <td>NaN</td>\n",
       "      <td>NaN</td>\n",
       "      <td>NaN</td>\n",
       "      <td>NaN</td>\n",
       "      <td>NaN</td>\n",
       "    </tr>\n",
       "    <tr>\n",
       "      <th>strat H2O</th>\n",
       "      <td>NaN</td>\n",
       "      <td>NaN</td>\n",
       "      <td>NaN</td>\n",
       "      <td>NaN</td>\n",
       "      <td>NaN</td>\n",
       "    </tr>\n",
       "    <tr>\n",
       "      <th>H2</th>\n",
       "      <td>NaN</td>\n",
       "      <td>NaN</td>\n",
       "      <td>NaN</td>\n",
       "      <td>NaN</td>\n",
       "      <td>NaN</td>\n",
       "    </tr>\n",
       "  </tbody>\n",
       "</table>\n",
       "</div>"
      ],
      "text/plain": [
       "           OSLOCTM3  WACCM6-2deg  INCA  GFDL-emi  OSLOCTM3-emi\n",
       "O3              NaN          NaN   NaN       NaN           NaN\n",
       "CH4             NaN          NaN   NaN       NaN           NaN\n",
       "strat H2O       NaN          NaN   NaN       NaN           NaN\n",
       "H2              NaN          NaN   NaN       NaN           NaN"
      ]
     },
     "execution_count": 146,
     "metadata": {},
     "output_type": "execute_result"
    }
   ],
   "source": [
    "antmod = len(df_h2_agwp_ch4.index)\n",
    "df_ch4_gwp = pd.DataFrame(np.empty([4,antmod])*np.nan,columns=df_h2_agwp_ch4.index,\n",
    "                         index=['O3','CH4','strat H2O','H2'])\n",
    "#df_ch4_gwp_ua = unumpy.uarray(df_ch4_gwp, 0)\n",
    "\n",
    "#df_ch4_gwp_udf = pd.DataFrame(df_ch4_gwp_ua, columns=df_h2_agwp_ch4.index,\n",
    "#                         index=['O3','CH4','strat H2O','H2'])\n",
    "#df_ch4_gwp_udf\n",
    "\n",
    "df_ch4_gwp"
   ]
  },
  {
   "cell_type": "code",
   "execution_count": 147,
   "id": "f0e36799",
   "metadata": {},
   "outputs": [],
   "source": [
    "df_ch4_agwp_o3 = df_ozone_rf.loc['10CH4']/df_ch4_surfconc.loc['deltaCH4']*df_surf_ch4_per_ch4_flux\n",
    "df_ch4_agwp_o3.name = 'ch4_agwp_o3'\n",
    "\n"
   ]
  },
  {
   "cell_type": "code",
   "execution_count": 148,
   "id": "12ccc21b",
   "metadata": {},
   "outputs": [
    {
     "data": {
      "text/plain": [
       "OSLOCTM3       8.55\n",
       "WACCM6-2deg    8.92\n",
       "INCA           5.43\n",
       "GFDL-emi        NaN\n",
       "OSLOCTM3-emi   8.55\n",
       "Name: ch4_agwp_o3, dtype: float64"
      ]
     },
     "execution_count": 148,
     "metadata": {},
     "output_type": "execute_result"
    }
   ],
   "source": [
    "df_ch4_agwp_o3/agwp100_CO2 "
   ]
  },
  {
   "cell_type": "code",
   "execution_count": 156,
   "id": "7f29a957",
   "metadata": {},
   "outputs": [
    {
     "data": {
      "text/plain": [
       "O3          7.86\n",
       "CH4          NaN\n",
       "strat H2O    NaN\n",
       "H2           NaN\n",
       "dtype: float64"
      ]
     },
     "execution_count": 156,
     "metadata": {},
     "output_type": "execute_result"
    }
   ],
   "source": [
    "df_ch4_gwp.loc['O3'] =df_ch4_agwp_o3/agwp100_CO2\n",
    "df_ch4_gwp\n",
    "df_mm_ch4_gwp['O3'] = df_ch4_gwp.loc['O3'].mean(axis=0)\n",
    "df_mm_ch4_gwp"
   ]
  },
  {
   "cell_type": "code",
   "execution_count": 157,
   "id": "d29e54a3",
   "metadata": {},
   "outputs": [],
   "source": [
    "df_ch4_agwp =df_surf_ch4_per_ch4_flux*spec_rf_ch4\n",
    "df_ch4_agwp.name = 'ch4_agwp'"
   ]
  },
  {
   "cell_type": "code",
   "execution_count": 158,
   "id": "f5f421e2",
   "metadata": {},
   "outputs": [
    {
     "data": {
      "text/plain": [
       "OSLOCTM3       16.7\n",
       "WACCM6-2deg    16.7\n",
       "INCA           19.3\n",
       "GFDL-emi        NaN\n",
       "OSLOCTM3-emi   16.7\n",
       "Name: ch4_agwp, dtype: float64"
      ]
     },
     "execution_count": 158,
     "metadata": {},
     "output_type": "execute_result"
    }
   ],
   "source": [
    "df_ch4_agwp/agwp100_CO2 "
   ]
  },
  {
   "cell_type": "code",
   "execution_count": 160,
   "id": "76ffe054",
   "metadata": {},
   "outputs": [
    {
     "data": {
      "text/plain": [
       "O3          7.86\n",
       "CH4         17.4\n",
       "strat H2O    NaN\n",
       "H2           NaN\n",
       "dtype: float64"
      ]
     },
     "execution_count": 160,
     "metadata": {},
     "output_type": "execute_result"
    }
   ],
   "source": [
    "#Add Methane GWP:\n",
    "df_ch4_gwp.loc['CH4'] =df_ch4_agwp/agwp100_CO2 \n",
    "df_mm_ch4_gwp.loc['CH4'] = df_ch4_gwp.loc['CH4'].mean(axis=0)\n",
    "df_mm_ch4_gwp"
   ]
  },
  {
   "cell_type": "code",
   "execution_count": 161,
   "id": "05f8b5d5",
   "metadata": {},
   "outputs": [
    {
     "name": "stdout",
     "output_type": "stream",
     "text": [
      "OSLOCTM3       10.1\n",
      "WACCM6-2deg    3.76\n",
      "INCA           4.58\n",
      "OSLOCTM3-emi   10.1\n",
      "Name: 10CH4, dtype: float64\n"
     ]
    }
   ],
   "source": [
    "print(df_h2o_rf.loc['10CH4'])\n",
    "df_ch4_agwp_h2o = df_h2o_rf.loc['10CH4']/df_ch4_surfconc.loc['deltaCH4']*df_surf_ch4_per_ch4_flux\n",
    "df_ch4_agwp_h2o.name = 'ch4_agwp_h2o'"
   ]
  },
  {
   "cell_type": "code",
   "execution_count": 162,
   "id": "c4ae7615",
   "metadata": {},
   "outputs": [
    {
     "data": {
      "text/plain": [
       "O3          7.86\n",
       "CH4         17.4\n",
       "strat H2O   1.52\n",
       "H2           NaN\n",
       "dtype: float64"
      ]
     },
     "execution_count": 162,
     "metadata": {},
     "output_type": "execute_result"
    }
   ],
   "source": [
    "df_ch4_gwp.loc['strat H2O'] = df_ch4_agwp_h2o/agwp100_CO2\n",
    "df_mm_ch4_gwp.loc['strat H2O'] = df_ch4_gwp.loc['strat H2O'].mean(axis=0)\n",
    "df_mm_ch4_gwp"
   ]
  },
  {
   "cell_type": "code",
   "execution_count": 163,
   "id": "1077d763",
   "metadata": {},
   "outputs": [
    {
     "data": {
      "text/plain": [
       "O3          7.86\n",
       "CH4         17.4\n",
       "strat H2O   1.52\n",
       "H2          0.33\n",
       "dtype: float64"
      ]
     },
     "execution_count": 163,
     "metadata": {},
     "output_type": "execute_result"
    }
   ],
   "source": [
    "df_ch4_gwp.loc['H2'] = df_h2_flux_per_ch4_flux*df_h2_gwp.sum()\n",
    "df_mm_ch4_gwp.loc['H2'] = df_ch4_gwp.loc['H2'].mean(axis=0)\n",
    "df_mm_ch4_gwp"
   ]
  },
  {
   "cell_type": "code",
   "execution_count": 164,
   "id": "195e987f",
   "metadata": {},
   "outputs": [
    {
     "data": {
      "text/plain": [
       "O3                 2.48\n",
       "CH4                5.32\n",
       "strat H2O          1.44\n",
       "O3 CH4ind          2.48\n",
       "strat H2O CH4ind   0.48\n",
       "total              11.6\n",
       "dtype: float64"
      ]
     },
     "execution_count": 164,
     "metadata": {},
     "output_type": "execute_result"
    }
   ],
   "source": [
    "#Save to file:\n",
    "#print(outputpath + 'table_h2_gwp.csv')\n",
    "#df_h2_gwp.to_csv(outputpath + 'table_h2_gwp.csv')\n",
    "#df_h2_gwp.loc['total']=df_h2_gwp.sum()\n",
    "df_mm_h2_gwp"
   ]
  },
  {
   "cell_type": "code",
   "execution_count": 165,
   "id": "c332296f",
   "metadata": {},
   "outputs": [
    {
     "data": {
      "text/plain": [
       "O3          7.86\n",
       "CH4         17.4\n",
       "strat H2O   1.52\n",
       "H2          0.33\n",
       "dtype: float64"
      ]
     },
     "execution_count": 165,
     "metadata": {},
     "output_type": "execute_result"
    }
   ],
   "source": [
    "#df_ch4_gwp.to_csv(outputpath + 'table_ch4_gwp.csv')\n",
    "#df_ch4_gwp.loc['total']=df_ch4_gwp.sum()\n",
    "df_mm_ch4_gwp"
   ]
  },
  {
   "cell_type": "code",
   "execution_count": 166,
   "id": "0cf3b0c4",
   "metadata": {},
   "outputs": [
    {
     "ename": "NameError",
     "evalue": "name 'df_h2o_rf_per_h2_flux' is not defined",
     "output_type": "error",
     "traceback": [
      "\u001b[0;31m---------------------------------------------------------------------------\u001b[0m",
      "\u001b[0;31mNameError\u001b[0m                                 Traceback (most recent call last)",
      "Cell \u001b[0;32mIn [166], line 5\u001b[0m\n\u001b[1;32m      1\u001b[0m df_per_flux_h2 \u001b[38;5;241m=\u001b[39m pd\u001b[38;5;241m.\u001b[39mconcat([df_h2_flux\u001b[38;5;241m.\u001b[39mloc[\u001b[38;5;124m'\u001b[39m\u001b[38;5;124mdeltaH2\u001b[39m\u001b[38;5;124m'\u001b[39m],df_surf_h2_per_h2_flux,\n\u001b[1;32m      2\u001b[0m                             df_surf_ch4_per_h2_flux,df_ch4_flux_per_h2_flux,df_ch4_rf_per_h2_flux,\n\u001b[1;32m      3\u001b[0m                             df_trop_du_ozone_per_h2_flux,df_strat_du_ozone_per_h2_flux,\n\u001b[1;32m      4\u001b[0m                             df_strat_du_6060_ozone_per_h2_flux,df_strat_du_gt60_ozone_per_h2_flux,\n\u001b[0;32m----> 5\u001b[0m                             df_ozone_rf_per_h2_flux,\u001b[43mdf_h2o_rf_per_h2_flux\u001b[49m],axis\u001b[38;5;241m=\u001b[39m\u001b[38;5;241m1\u001b[39m, sort\u001b[38;5;241m=\u001b[39m\u001b[38;5;28;01mFalse\u001b[39;00m)\n\u001b[1;32m      7\u001b[0m \u001b[38;5;66;03m#Save to file:\u001b[39;00m\n\u001b[1;32m      8\u001b[0m \u001b[38;5;66;03m#df_per_flux_h2.to_csv(outputpath + 'table_per_flux_h2.csv')\u001b[39;00m\n\u001b[1;32m      9\u001b[0m \n\u001b[1;32m     10\u001b[0m \u001b[38;5;66;03m#Rename the columns:\u001b[39;00m\n\u001b[1;32m     11\u001b[0m columns_names\u001b[38;5;241m=\u001b[39m{\u001b[38;5;124m'\u001b[39m\u001b[38;5;124mdeltaH2\u001b[39m\u001b[38;5;124m'\u001b[39m:\u001b[38;5;124m'\u001b[39m\u001b[38;5;124mFlux H2 [Tg/yr]\u001b[39m\u001b[38;5;124m'\u001b[39m,\n\u001b[1;32m     12\u001b[0m                \u001b[38;5;124m'\u001b[39m\u001b[38;5;124msurf_h2_per_h2_flux\u001b[39m\u001b[38;5;124m'\u001b[39m: \u001b[38;5;124m'\u001b[39m\u001b[38;5;124mSurf. conc. H2 per flux [ppb yr/Tg]\u001b[39m\u001b[38;5;124m'\u001b[39m,\n\u001b[1;32m     13\u001b[0m                \u001b[38;5;124m'\u001b[39m\u001b[38;5;124msurf_ch4_per_h2_flux\u001b[39m\u001b[38;5;124m'\u001b[39m:\u001b[38;5;124m'\u001b[39m\u001b[38;5;124mSurf. conc. CH4 per flux [ppb yr/Tg]\u001b[39m\u001b[38;5;124m'\u001b[39m,\n\u001b[0;32m   (...)\u001b[0m\n\u001b[1;32m     20\u001b[0m                \u001b[38;5;124m'\u001b[39m\u001b[38;5;124mozone_rf_per_h2_flux\u001b[39m\u001b[38;5;124m'\u001b[39m:\u001b[38;5;124m'\u001b[39m\u001b[38;5;124mozone RF per flux [mW m-2 yr/ Tg]\u001b[39m\u001b[38;5;124m'\u001b[39m,\n\u001b[1;32m     21\u001b[0m                \u001b[38;5;124m'\u001b[39m\u001b[38;5;124mh2o_rf_per_h2_flux\u001b[39m\u001b[38;5;124m'\u001b[39m:\u001b[38;5;124m'\u001b[39m\u001b[38;5;124mStrat. H2O RF per flux [mW m-2 yr/ Tg]\u001b[39m\u001b[38;5;124m'\u001b[39m}\n",
      "\u001b[0;31mNameError\u001b[0m: name 'df_h2o_rf_per_h2_flux' is not defined"
     ]
    }
   ],
   "source": [
    "df_per_flux_h2 = pd.concat([df_h2_flux.loc['deltaH2'],df_surf_h2_per_h2_flux,\n",
    "                            df_surf_ch4_per_h2_flux,df_ch4_flux_per_h2_flux,df_ch4_rf_per_h2_flux,\n",
    "                            df_trop_du_ozone_per_h2_flux,df_strat_du_ozone_per_h2_flux,\n",
    "                            df_strat_du_6060_ozone_per_h2_flux,df_strat_du_gt60_ozone_per_h2_flux,\n",
    "                            df_ozone_rf_per_h2_flux,df_h2o_rf_per_h2_flux],axis=1, sort=False)\n",
    "\n",
    "#Save to file:\n",
    "#df_per_flux_h2.to_csv(outputpath + 'table_per_flux_h2.csv')\n",
    "\n",
    "#Rename the columns:\n",
    "columns_names={'deltaH2':'Flux H2 [Tg/yr]',\n",
    "               'surf_h2_per_h2_flux': 'Surf. conc. H2 per flux [ppb yr/Tg]',\n",
    "               'surf_ch4_per_h2_flux':'Surf. conc. CH4 per flux [ppb yr/Tg]',\n",
    "               'ch4_flux_per_h2_flux':'Flux CH4/Flux H2 [Tg CH4/Tg H2]',\n",
    "               'ch4_rf_per_h2_flux':'CH4 RF per flux [mW m-2 yr/ Tg]',\n",
    "               'trop_du_ozone_per_h2_flux':'Trop. ozone per flux [DU yr/Tg]',\n",
    "               'strat_du_ozone_per_h2_flux':'Strat. ozone per flux [DU yr/Tg]',\n",
    "               'strat_du_6060_ozone_per_h2_flux':'Strat. ozone 60S-60N per flux [DU yr/Tg]',\n",
    "               'strat_du_gt60_ozone_per_h2_flux':'Strat. ozone >60S/N per flux [DU yr/Tg]',\n",
    "               'ozone_rf_per_h2_flux':'ozone RF per flux [mW m-2 yr/ Tg]',\n",
    "               'h2o_rf_per_h2_flux':'Strat. H2O RF per flux [mW m-2 yr/ Tg]'}\n",
    "#Rename column names:\n",
    "df_per_flux_h2.rename(columns=dict(columns_names),inplace=True) #[df_per_flux_h2.columns])\n",
    "df_per_flux_h2"
   ]
  },
  {
   "cell_type": "code",
   "execution_count": null,
   "id": "6a3b5d4c",
   "metadata": {},
   "outputs": [],
   "source": [
    "df_per_flux_ch4 = pd.concat([df_ch4_flux.loc['deltaCH4'],df_surf_ch4_per_ch4_flux,\n",
    "                            df_h2_flux_per_ch4_flux,df_trop_du_ozone_per_ch4_flux,df_strat_du_ozone_per_ch4_flux,\n",
    "                            df_strat_du_6060_ozone_per_ch4_flux,df_strat_du_gt60_ozone_per_ch4_flux,\n",
    "                            df_ozone_rf_per_ch4_flux,df_h2o_rf_per_ch4_flux],axis=1,sort=False)\n",
    "\n",
    "\n",
    "\n",
    "               \n",
    "#Save to file:\n",
    "#df_per_flux_ch4.to_csv(outputpath + 'table_per_flux_ch4.csv')\n",
    "\n",
    "#Rename the columns:\n",
    "columns_names={'deltaCH4':'Flux CH4 [Tg/yr]',\n",
    "               'surf_ch4_per_ch4_flux':'Surf. conc. CH4 per flux [ppb yr/Tg]',\n",
    "               'h2_flux_per_ch4_flux':'Flux H2/Flux CH4 [Tg H2/Tg CH4]',\n",
    "               'trop_du_ozone_per_ch4_flux':'Trop. ozone per flux [DU yr/Tg]',\n",
    "               'strat_du_ozone_per_ch4_flux':'Strat. ozone per flux [DU yr/Tg]',\n",
    "               'strat_du_6060_ozone_per_ch4_flux':'Strat. ozone 60S-60N per flux [DU yr/Tg]',\n",
    "               'strat_du_gt60_ozone_per_ch4_flux':'Strat. ozone >60S/N per flux [DU yr/Tg]',\n",
    "               'ozone_rf_per_ch4_flux':'ozone RF per flux [mW m-2 yr/ Tg]',\n",
    "               'h2o_rf_per_ch4_flux':'Strat H2O RF per flux [mW m-2 yr/ Tg]'}\n",
    "               \n",
    "#Rename column names:\n",
    "df_per_flux_ch4.rename(columns=dict(columns_names),inplace=True) #[df_per_flux_h2.columns])\n",
    "df_per_flux_ch4          "
   ]
  },
  {
   "cell_type": "code",
   "execution_count": null,
   "id": "2fa15a8f",
   "metadata": {},
   "outputs": [],
   "source": [
    "df_budget_h2 = pd.concat([df_h2_burden.loc['CTRL'],df_h2_lifetime.loc['CTRL'],\n",
    "                          df_h2_atmloss.loc['CTRL'],df_h2_drydep.loc['CTRL'],\n",
    "                          df_h2_atmprod.loc['CTRL'],df_h2_atm_lifetime.loc['CTRL'],\n",
    "                          df_h2_estemis],axis=1)\n",
    "\n",
    "df_budget_h2.columns = ['H2 burden [Tg]',\n",
    "                        'H2 lifetime [yrs]',\n",
    "                        'H2 atm.loss[Tg/yr]',\n",
    "                        'H2 drydep [Tg/yr]',\n",
    "                        'H2 atm. prod [Tg/yr]',\n",
    "                        'H2 atmospheric lifetime [yrs]',\n",
    "                        'H2 estimated emissions [Tg/yr]']\n",
    "\n",
    "#df_budget_h2.to_csv(outputpath + 'table_budget_h2.csv')\n",
    "df_budget_h2"
   ]
  },
  {
   "cell_type": "code",
   "execution_count": null,
   "id": "88a2833d",
   "metadata": {},
   "outputs": [],
   "source": [
    "df_budget_ch4 = pd.concat([df_ch4_burden.loc['CTRL'],df_ch4_lifetime.loc['CTRL'],\n",
    "                           df_ch4_loss.loc['CTRL']],axis=1)\n",
    "df_budget_ch4.columns = ['CH4 burden [Tg]','CH4 lifetime [yrs]','CH4 atm.loss[Tg/yr]'] \n",
    "df_budget_ch4"
   ]
  },
  {
   "cell_type": "code",
   "execution_count": null,
   "id": "7d9a0b85",
   "metadata": {},
   "outputs": [],
   "source": [
    "df_ch4_burden_per_conc  = df_ch4_burden.loc['deltaCH4']/df_ch4_surfconc.loc['deltaCH4']\n",
    "df_ch4_burden_per_conc.name = 'ch4_burden_per_conc'\n",
    "df_ch4_burden_per_conc"
   ]
  },
  {
   "cell_type": "code",
   "execution_count": null,
   "id": "d4e2e5a0",
   "metadata": {},
   "outputs": [],
   "source": [
    "df_w_o_feedback =df_ch4_lifetime.loc['CTRL']/df_ch4_burden_per_conc #Lifetime [yr] / [Tg/ppb] \n",
    "df_w_o_feedback"
   ]
  },
  {
   "cell_type": "code",
   "execution_count": null,
   "id": "66d83866",
   "metadata": {},
   "outputs": [],
   "source": [
    "df_feedback_factor_ch4 = df_surf_ch4_per_ch4_flux/df_w_o_feedback\n",
    "df_feedback_factor_ch4.name = 'feedback_factor_ch4'\n",
    "df_feedback_factor_ch4"
   ]
  },
  {
   "cell_type": "code",
   "execution_count": null,
   "id": "279cbecc",
   "metadata": {},
   "outputs": [],
   "source": [
    "df_h2_burden_per_conc  = df_h2_burden.loc['deltaH2']/df_h2_surfconc.loc['deltaH2']\n",
    "df_h2_burden_per_conc.name = 'h2_burden_per_conc'\n",
    "df_h2_burden_per_conc"
   ]
  },
  {
   "cell_type": "code",
   "execution_count": null,
   "id": "03f05a3b",
   "metadata": {},
   "outputs": [],
   "source": [
    "df_w_o_feedback_h2 =df_h2_lifetime.loc['CTRL']/df_h2_burden_per_conc #Lifetime [yr] / [Tg/ppb] \n",
    "df_w_o_feedback_h2"
   ]
  },
  {
   "cell_type": "code",
   "execution_count": null,
   "id": "4676d073",
   "metadata": {},
   "outputs": [],
   "source": [
    "df_feedback_factor_h2 = df_surf_h2_per_h2_flux/df_w_o_feedback_h2\n",
    "df_feedback_factor_h2.name = 'feedback_factor_h2'\n",
    "df_feedback_factor_h2\n",
    "#Fabien wrote in the paper about feedback factor less than 1."
   ]
  },
  {
   "cell_type": "code",
   "execution_count": null,
   "id": "8c4d1dab",
   "metadata": {},
   "outputs": [],
   "source": []
  },
  {
   "cell_type": "code",
   "execution_count": null,
   "id": "76ec3f80",
   "metadata": {},
   "outputs": [],
   "source": []
  },
  {
   "cell_type": "code",
   "execution_count": null,
   "id": "6de4afcf",
   "metadata": {},
   "outputs": [],
   "source": []
  },
  {
   "cell_type": "code",
   "execution_count": null,
   "id": "3eba2b13",
   "metadata": {},
   "outputs": [],
   "source": []
  },
  {
   "cell_type": "code",
   "execution_count": null,
   "id": "4d313c9b",
   "metadata": {},
   "outputs": [],
   "source": []
  },
  {
   "cell_type": "code",
   "execution_count": null,
   "id": "b58749eb",
   "metadata": {},
   "outputs": [],
   "source": []
  }
 ],
 "metadata": {
  "celltoolbar": "Tags",
  "kernelspec": {
   "display_name": "Python 3 (ipykernel)",
   "language": "python",
   "name": "python3"
  },
  "language_info": {
   "codemirror_mode": {
    "name": "ipython",
    "version": 3
   },
   "file_extension": ".py",
   "mimetype": "text/x-python",
   "name": "python",
   "nbconvert_exporter": "python",
   "pygments_lexer": "ipython3",
   "version": "3.8.10"
  }
 },
 "nbformat": 4,
 "nbformat_minor": 5
}
