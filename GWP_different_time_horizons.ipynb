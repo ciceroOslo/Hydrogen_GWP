{
 "cells": [
  {
   "cell_type": "markdown",
   "metadata": {},
   "source": [
    "## Calculate GWP based on AGWP output"
   ]
  },
  {
   "cell_type": "code",
   "execution_count": 1,
   "metadata": {},
   "outputs": [],
   "source": [
    "harm = False\n",
    "if harm:\n",
    "    filepath= r\"./output/drydep_59_\"\n",
    "else:\n",
    "    filepath= r\"./output/\""
   ]
  },
  {
   "cell_type": "code",
   "execution_count": 2,
   "metadata": {},
   "outputs": [
    {
     "name": "stderr",
     "output_type": "stream",
     "text": [
      "\n",
      "Bad key \"text.kerning_factor\" on line 4 in\n",
      "/home/masan/anaconda3/lib/python3.7/site-packages/matplotlib/mpl-data/stylelib/_classic_test_patch.mplstyle.\n",
      "You probably need to get an updated matplotlibrc file from\n",
      "http://github.com/matplotlib/matplotlib/blob/master/matplotlibrc.template\n",
      "or from the matplotlib source distribution\n"
     ]
    }
   ],
   "source": [
    "import numpy as np\n",
    "import pandas as pd\n",
    "import matplotlib.pyplot as plt\n",
    "import matplotlib as mpl\n",
    "import itertools\n",
    "import matplotlib.patches as mpatches\n",
    "from matplotlib import gridspec\n",
    "pd.set_option('display.float_format', lambda x: '{:,.3f}'.format(x) if abs(x)<0 else ('{:,.2f}'.format(x) if abs(x)<10 else ('{:,.1f}'.format(x) if abs(x)<100 else '{:,.0f}'.format(x))))"
   ]
  },
  {
   "cell_type": "code",
   "execution_count": 3,
   "metadata": {},
   "outputs": [],
   "source": [
    "#IPCC AR6 values\n",
    "agwp100_CO2 = 0.0895\n",
    "agwp20_CO2 = 0.0243 \n",
    "agwp500_CO2 = 0.314 "
   ]
  },
  {
   "cell_type": "code",
   "execution_count": 4,
   "metadata": {},
   "outputs": [],
   "source": [
    "model_dict = { 'GFDL_nudge':'GFDL',\n",
    "               'OSLOCTM3':'OsloCTM',\n",
    "               'INCA':'INCA',\n",
    "               'UKCA':'UKCA',\n",
    "               'WACCM6-2deg':'WACCM',\n",
    "               'GFDL-emi':'GFDL-emi',\n",
    "               'OSLOCTM3-emi':'OsloCTM-emi'\n",
    "             }\n",
    "\n",
    "sorted_array = ['GFDL','OsloCTM','INCA','UKCA','WACCM','GFDL-emi','OsloCTM-emi']"
   ]
  },
  {
   "cell_type": "code",
   "execution_count": 5,
   "metadata": {},
   "outputs": [
    {
     "data": {
      "text/html": [
       "<div>\n",
       "<style scoped>\n",
       "    .dataframe tbody tr th:only-of-type {\n",
       "        vertical-align: middle;\n",
       "    }\n",
       "\n",
       "    .dataframe tbody tr th {\n",
       "        vertical-align: top;\n",
       "    }\n",
       "\n",
       "    .dataframe thead th {\n",
       "        text-align: right;\n",
       "    }\n",
       "</style>\n",
       "<table border=\"1\" class=\"dataframe\">\n",
       "  <thead>\n",
       "    <tr style=\"text-align: right;\">\n",
       "      <th></th>\n",
       "      <th>h2_agwp_ch4</th>\n",
       "      <th>h2_agwp_o3</th>\n",
       "      <th>h2_agwp_h2o</th>\n",
       "      <th>h2_agwp_ch4ind_o3</th>\n",
       "      <th>h2_agwp_ch4ind_h2o</th>\n",
       "    </tr>\n",
       "  </thead>\n",
       "  <tbody>\n",
       "    <tr>\n",
       "      <th>OsloCTM</th>\n",
       "      <td>0.43</td>\n",
       "      <td>0.22</td>\n",
       "      <td>0.17</td>\n",
       "      <td>0.25</td>\n",
       "      <td>0.06</td>\n",
       "    </tr>\n",
       "    <tr>\n",
       "      <th>WACCM</th>\n",
       "      <td>0.46</td>\n",
       "      <td>0.18</td>\n",
       "      <td>0.05</td>\n",
       "      <td>0.28</td>\n",
       "      <td>0.02</td>\n",
       "    </tr>\n",
       "    <tr>\n",
       "      <th>INCA</th>\n",
       "      <td>0.43</td>\n",
       "      <td>0.15</td>\n",
       "      <td>0.11</td>\n",
       "      <td>0.14</td>\n",
       "      <td>0.04</td>\n",
       "    </tr>\n",
       "    <tr>\n",
       "      <th>GFDL-emi</th>\n",
       "      <td>0.39</td>\n",
       "      <td>0.39</td>\n",
       "      <td>0.25</td>\n",
       "      <td>nan</td>\n",
       "      <td>nan</td>\n",
       "    </tr>\n",
       "    <tr>\n",
       "      <th>OsloCTM-emi</th>\n",
       "      <td>0.44</td>\n",
       "      <td>0.22</td>\n",
       "      <td>0.18</td>\n",
       "      <td>0.26</td>\n",
       "      <td>0.06</td>\n",
       "    </tr>\n",
       "    <tr>\n",
       "      <th>UKCA</th>\n",
       "      <td>0.51</td>\n",
       "      <td>0.17</td>\n",
       "      <td>nan</td>\n",
       "      <td>0.18</td>\n",
       "      <td>nan</td>\n",
       "    </tr>\n",
       "    <tr>\n",
       "      <th>GFDL</th>\n",
       "      <td>0.44</td>\n",
       "      <td>0.21</td>\n",
       "      <td>0.16</td>\n",
       "      <td>0.21</td>\n",
       "      <td>0.13</td>\n",
       "    </tr>\n",
       "  </tbody>\n",
       "</table>\n",
       "</div>"
      ],
      "text/plain": [
       "             h2_agwp_ch4  h2_agwp_o3  h2_agwp_h2o  h2_agwp_ch4ind_o3  \\\n",
       "OsloCTM             0.43        0.22         0.17               0.25   \n",
       "WACCM               0.46        0.18         0.05               0.28   \n",
       "INCA                0.43        0.15         0.11               0.14   \n",
       "GFDL-emi            0.39        0.39         0.25                nan   \n",
       "OsloCTM-emi         0.44        0.22         0.18               0.26   \n",
       "UKCA                0.51        0.17          nan               0.18   \n",
       "GFDL                0.44        0.21         0.16               0.21   \n",
       "\n",
       "             h2_agwp_ch4ind_h2o  \n",
       "OsloCTM                    0.06  \n",
       "WACCM                      0.02  \n",
       "INCA                       0.04  \n",
       "GFDL-emi                    nan  \n",
       "OsloCTM-emi                0.06  \n",
       "UKCA                        nan  \n",
       "GFDL                       0.13  "
      ]
     },
     "execution_count": 5,
     "metadata": {},
     "output_type": "execute_result"
    }
   ],
   "source": [
    "df_table_agwp = pd.read_csv(filepath+'table_h2_agwp.csv',index_col=0)\n",
    "df_table_agwp.rename(index=model_dict, inplace=True)\n",
    "df_table_agwp"
   ]
  },
  {
   "cell_type": "code",
   "execution_count": 6,
   "metadata": {},
   "outputs": [],
   "source": [
    "rename_columns = {'h2_agwp_ch4':'gwp_ch4',\n",
    "                  'h2_agwp_o3':'gwp_o3',\n",
    "                  'h2_agwp_h2o':'gwp_h2o',\n",
    "                  'h2_agwp_ch4ind_o3':'gwp_ch4ind_o3',\n",
    "                  'h2_agwp_ch4ind_h2o': 'gwp_ch4ind_h2o'}"
   ]
  },
  {
   "cell_type": "markdown",
   "metadata": {},
   "source": [
    "## GWP 100"
   ]
  },
  {
   "cell_type": "code",
   "execution_count": 7,
   "metadata": {},
   "outputs": [
    {
     "data": {
      "text/html": [
       "<div>\n",
       "<style scoped>\n",
       "    .dataframe tbody tr th:only-of-type {\n",
       "        vertical-align: middle;\n",
       "    }\n",
       "\n",
       "    .dataframe tbody tr th {\n",
       "        vertical-align: top;\n",
       "    }\n",
       "\n",
       "    .dataframe thead th {\n",
       "        text-align: right;\n",
       "    }\n",
       "</style>\n",
       "<table border=\"1\" class=\"dataframe\">\n",
       "  <thead>\n",
       "    <tr style=\"text-align: right;\">\n",
       "      <th></th>\n",
       "      <th>gwp_ch4</th>\n",
       "      <th>gwp_o3</th>\n",
       "      <th>gwp_h2o</th>\n",
       "      <th>gwp_ch4ind_o3</th>\n",
       "      <th>gwp_ch4ind_h2o</th>\n",
       "    </tr>\n",
       "  </thead>\n",
       "  <tbody>\n",
       "    <tr>\n",
       "      <th>OsloCTM</th>\n",
       "      <td>4.85</td>\n",
       "      <td>2.44</td>\n",
       "      <td>1.94</td>\n",
       "      <td>2.85</td>\n",
       "      <td>0.70</td>\n",
       "    </tr>\n",
       "    <tr>\n",
       "      <th>WACCM</th>\n",
       "      <td>5.11</td>\n",
       "      <td>1.97</td>\n",
       "      <td>0.58</td>\n",
       "      <td>3.13</td>\n",
       "      <td>0.28</td>\n",
       "    </tr>\n",
       "    <tr>\n",
       "      <th>INCA</th>\n",
       "      <td>4.85</td>\n",
       "      <td>1.64</td>\n",
       "      <td>1.27</td>\n",
       "      <td>1.53</td>\n",
       "      <td>0.46</td>\n",
       "    </tr>\n",
       "    <tr>\n",
       "      <th>GFDL-emi</th>\n",
       "      <td>4.30</td>\n",
       "      <td>4.34</td>\n",
       "      <td>2.80</td>\n",
       "      <td>nan</td>\n",
       "      <td>nan</td>\n",
       "    </tr>\n",
       "    <tr>\n",
       "      <th>OsloCTM-emi</th>\n",
       "      <td>4.96</td>\n",
       "      <td>2.49</td>\n",
       "      <td>1.97</td>\n",
       "      <td>2.91</td>\n",
       "      <td>0.72</td>\n",
       "    </tr>\n",
       "    <tr>\n",
       "      <th>UKCA</th>\n",
       "      <td>5.73</td>\n",
       "      <td>1.85</td>\n",
       "      <td>nan</td>\n",
       "      <td>2.00</td>\n",
       "      <td>nan</td>\n",
       "    </tr>\n",
       "    <tr>\n",
       "      <th>GFDL</th>\n",
       "      <td>4.92</td>\n",
       "      <td>2.34</td>\n",
       "      <td>1.80</td>\n",
       "      <td>2.35</td>\n",
       "      <td>1.41</td>\n",
       "    </tr>\n",
       "  </tbody>\n",
       "</table>\n",
       "</div>"
      ],
      "text/plain": [
       "             gwp_ch4  gwp_o3  gwp_h2o  gwp_ch4ind_o3  gwp_ch4ind_h2o\n",
       "OsloCTM         4.85    2.44     1.94           2.85            0.70\n",
       "WACCM           5.11    1.97     0.58           3.13            0.28\n",
       "INCA            4.85    1.64     1.27           1.53            0.46\n",
       "GFDL-emi        4.30    4.34     2.80            nan             nan\n",
       "OsloCTM-emi     4.96    2.49     1.97           2.91            0.72\n",
       "UKCA            5.73    1.85      nan           2.00             nan\n",
       "GFDL            4.92    2.34     1.80           2.35            1.41"
      ]
     },
     "execution_count": 7,
     "metadata": {},
     "output_type": "execute_result"
    }
   ],
   "source": [
    "df_table_gwp_100 = df_table_agwp/agwp100_CO2\n",
    "df_table_gwp_100.rename(columns=rename_columns,inplace=True)\n",
    "df_table_gwp_100"
   ]
  },
  {
   "cell_type": "code",
   "execution_count": 8,
   "metadata": {},
   "outputs": [
    {
     "data": {
      "text/html": [
       "<div>\n",
       "<style scoped>\n",
       "    .dataframe tbody tr th:only-of-type {\n",
       "        vertical-align: middle;\n",
       "    }\n",
       "\n",
       "    .dataframe tbody tr th {\n",
       "        vertical-align: top;\n",
       "    }\n",
       "\n",
       "    .dataframe thead th {\n",
       "        text-align: right;\n",
       "    }\n",
       "</style>\n",
       "<table border=\"1\" class=\"dataframe\">\n",
       "  <thead>\n",
       "    <tr style=\"text-align: right;\">\n",
       "      <th></th>\n",
       "      <th>CH4</th>\n",
       "      <th>O3</th>\n",
       "      <th>StratH2O</th>\n",
       "      <th>Total</th>\n",
       "    </tr>\n",
       "  </thead>\n",
       "  <tbody>\n",
       "    <tr>\n",
       "      <th>GFDL</th>\n",
       "      <td>4.92</td>\n",
       "      <td>4.69</td>\n",
       "      <td>3.21</td>\n",
       "      <td>12.8</td>\n",
       "    </tr>\n",
       "    <tr>\n",
       "      <th>OsloCTM</th>\n",
       "      <td>4.85</td>\n",
       "      <td>5.29</td>\n",
       "      <td>2.64</td>\n",
       "      <td>12.8</td>\n",
       "    </tr>\n",
       "    <tr>\n",
       "      <th>INCA</th>\n",
       "      <td>4.85</td>\n",
       "      <td>3.17</td>\n",
       "      <td>1.73</td>\n",
       "      <td>9.76</td>\n",
       "    </tr>\n",
       "    <tr>\n",
       "      <th>UKCA</th>\n",
       "      <td>5.73</td>\n",
       "      <td>3.85</td>\n",
       "      <td>nan</td>\n",
       "      <td>9.59</td>\n",
       "    </tr>\n",
       "    <tr>\n",
       "      <th>WACCM</th>\n",
       "      <td>5.11</td>\n",
       "      <td>5.10</td>\n",
       "      <td>0.85</td>\n",
       "      <td>11.1</td>\n",
       "    </tr>\n",
       "    <tr>\n",
       "      <th>GFDL-emi</th>\n",
       "      <td>4.30</td>\n",
       "      <td>4.34</td>\n",
       "      <td>2.80</td>\n",
       "      <td>11.4</td>\n",
       "    </tr>\n",
       "    <tr>\n",
       "      <th>OsloCTM-emi</th>\n",
       "      <td>4.96</td>\n",
       "      <td>5.40</td>\n",
       "      <td>2.69</td>\n",
       "      <td>13.0</td>\n",
       "    </tr>\n",
       "    <tr>\n",
       "      <th>Model mean</th>\n",
       "      <td>5.09</td>\n",
       "      <td>4.42</td>\n",
       "      <td>2.11</td>\n",
       "      <td>11.6</td>\n",
       "    </tr>\n",
       "  </tbody>\n",
       "</table>\n",
       "</div>"
      ],
      "text/plain": [
       "             CH4   O3  StratH2O  Total\n",
       "GFDL        4.92 4.69      3.21   12.8\n",
       "OsloCTM     4.85 5.29      2.64   12.8\n",
       "INCA        4.85 3.17      1.73   9.76\n",
       "UKCA        5.73 3.85       nan   9.59\n",
       "WACCM       5.11 5.10      0.85   11.1\n",
       "GFDL-emi    4.30 4.34      2.80   11.4\n",
       "OsloCTM-emi 4.96 5.40      2.69   13.0\n",
       "Model mean  5.09 4.42      2.11   11.6"
      ]
     },
     "execution_count": 8,
     "metadata": {},
     "output_type": "execute_result"
    }
   ],
   "source": [
    "df_table_gwp_100 = df_table_gwp_100.fillna(0.0)\n",
    "df_table_gwp_100_out = pd.DataFrame(columns=['CH4','O3','StratH2O'],index=df_table_gwp_100.index)\n",
    "\n",
    "df_table_gwp_100_out['O3'] = df_table_gwp_100['gwp_o3']+df_table_gwp_100['gwp_ch4ind_o3']\n",
    "df_table_gwp_100_out['CH4']=df_table_gwp_100['gwp_ch4']\n",
    "df_table_gwp_100_out['StratH2O'] = df_table_gwp_100['gwp_h2o']+df_table_gwp_100['gwp_ch4ind_h2o']\n",
    "df_table_gwp_100_out=df_table_gwp_100_out.reindex(sorted_array)\n",
    "df_table_gwp_100_out.replace(0,np.nan,inplace=True)\n",
    "\n",
    "\n",
    "df_table_gwp_100_out.loc['Model mean'] = df_table_gwp_100_out.drop(['GFDL-emi','OsloCTM-emi']).mean()\n",
    "df_table_gwp_100_out['Total'] = df_table_gwp_100_out[['O3','CH4','StratH2O']].sum(axis=1) \n",
    "df_table_gwp_100_out"
   ]
  },
  {
   "cell_type": "markdown",
   "metadata": {},
   "source": [
    "Table X: GWP100 for H$_2$ for the individual models. Note that UKCA does not have an estimate for stratospheric H2O. The model means are the mean of the model results for the concentration driven runs, hence excluding OsloCTM-emi and GFDL-emi in the mean. The GWP100 values are calculated by dividing the AGWP100 values with AGWP100 for CO2 of 0.0895 10-12 W m-2 kg-1 yr from IPCC AR6 Table 7.SM.6 "
   ]
  },
  {
   "cell_type": "markdown",
   "metadata": {},
   "source": [
    "## GWP 500"
   ]
  },
  {
   "cell_type": "code",
   "execution_count": 9,
   "metadata": {},
   "outputs": [
    {
     "data": {
      "text/html": [
       "<div>\n",
       "<style scoped>\n",
       "    .dataframe tbody tr th:only-of-type {\n",
       "        vertical-align: middle;\n",
       "    }\n",
       "\n",
       "    .dataframe tbody tr th {\n",
       "        vertical-align: top;\n",
       "    }\n",
       "\n",
       "    .dataframe thead th {\n",
       "        text-align: right;\n",
       "    }\n",
       "</style>\n",
       "<table border=\"1\" class=\"dataframe\">\n",
       "  <thead>\n",
       "    <tr style=\"text-align: right;\">\n",
       "      <th></th>\n",
       "      <th>gwp_ch4</th>\n",
       "      <th>gwp_o3</th>\n",
       "      <th>gwp_h2o</th>\n",
       "      <th>gwp_ch4ind_o3</th>\n",
       "      <th>gwp_ch4ind_h2o</th>\n",
       "    </tr>\n",
       "  </thead>\n",
       "  <tbody>\n",
       "    <tr>\n",
       "      <th>OsloCTM</th>\n",
       "      <td>1.38</td>\n",
       "      <td>0.70</td>\n",
       "      <td>0.55</td>\n",
       "      <td>0.81</td>\n",
       "      <td>0.20</td>\n",
       "    </tr>\n",
       "    <tr>\n",
       "      <th>WACCM</th>\n",
       "      <td>1.46</td>\n",
       "      <td>0.56</td>\n",
       "      <td>0.16</td>\n",
       "      <td>0.89</td>\n",
       "      <td>0.08</td>\n",
       "    </tr>\n",
       "    <tr>\n",
       "      <th>INCA</th>\n",
       "      <td>1.38</td>\n",
       "      <td>0.47</td>\n",
       "      <td>0.36</td>\n",
       "      <td>0.44</td>\n",
       "      <td>0.13</td>\n",
       "    </tr>\n",
       "    <tr>\n",
       "      <th>GFDL-emi</th>\n",
       "      <td>1.23</td>\n",
       "      <td>1.24</td>\n",
       "      <td>0.80</td>\n",
       "      <td>nan</td>\n",
       "      <td>nan</td>\n",
       "    </tr>\n",
       "    <tr>\n",
       "      <th>OsloCTM-emi</th>\n",
       "      <td>1.41</td>\n",
       "      <td>0.71</td>\n",
       "      <td>0.56</td>\n",
       "      <td>0.83</td>\n",
       "      <td>0.20</td>\n",
       "    </tr>\n",
       "    <tr>\n",
       "      <th>UKCA</th>\n",
       "      <td>1.63</td>\n",
       "      <td>0.53</td>\n",
       "      <td>nan</td>\n",
       "      <td>0.57</td>\n",
       "      <td>nan</td>\n",
       "    </tr>\n",
       "    <tr>\n",
       "      <th>GFDL</th>\n",
       "      <td>1.40</td>\n",
       "      <td>0.67</td>\n",
       "      <td>0.51</td>\n",
       "      <td>0.67</td>\n",
       "      <td>0.40</td>\n",
       "    </tr>\n",
       "  </tbody>\n",
       "</table>\n",
       "</div>"
      ],
      "text/plain": [
       "             gwp_ch4  gwp_o3  gwp_h2o  gwp_ch4ind_o3  gwp_ch4ind_h2o\n",
       "OsloCTM         1.38    0.70     0.55           0.81            0.20\n",
       "WACCM           1.46    0.56     0.16           0.89            0.08\n",
       "INCA            1.38    0.47     0.36           0.44            0.13\n",
       "GFDL-emi        1.23    1.24     0.80            nan             nan\n",
       "OsloCTM-emi     1.41    0.71     0.56           0.83            0.20\n",
       "UKCA            1.63    0.53      nan           0.57             nan\n",
       "GFDL            1.40    0.67     0.51           0.67            0.40"
      ]
     },
     "execution_count": 9,
     "metadata": {},
     "output_type": "execute_result"
    }
   ],
   "source": [
    "df_table_gwp_500 = df_table_agwp/agwp500_CO2\n",
    "df_table_gwp_500.rename(columns=rename_columns,inplace=True)\n",
    "df_table_gwp_500"
   ]
  },
  {
   "cell_type": "code",
   "execution_count": 10,
   "metadata": {},
   "outputs": [
    {
     "data": {
      "text/html": [
       "<div>\n",
       "<style scoped>\n",
       "    .dataframe tbody tr th:only-of-type {\n",
       "        vertical-align: middle;\n",
       "    }\n",
       "\n",
       "    .dataframe tbody tr th {\n",
       "        vertical-align: top;\n",
       "    }\n",
       "\n",
       "    .dataframe thead th {\n",
       "        text-align: right;\n",
       "    }\n",
       "</style>\n",
       "<table border=\"1\" class=\"dataframe\">\n",
       "  <thead>\n",
       "    <tr style=\"text-align: right;\">\n",
       "      <th></th>\n",
       "      <th>CH4</th>\n",
       "      <th>O3</th>\n",
       "      <th>StratH2O</th>\n",
       "      <th>Total</th>\n",
       "    </tr>\n",
       "  </thead>\n",
       "  <tbody>\n",
       "    <tr>\n",
       "      <th>GFDL</th>\n",
       "      <td>1.40</td>\n",
       "      <td>1.34</td>\n",
       "      <td>0.91</td>\n",
       "      <td>3.65</td>\n",
       "    </tr>\n",
       "    <tr>\n",
       "      <th>OsloCTM</th>\n",
       "      <td>1.38</td>\n",
       "      <td>1.51</td>\n",
       "      <td>0.75</td>\n",
       "      <td>3.64</td>\n",
       "    </tr>\n",
       "    <tr>\n",
       "      <th>INCA</th>\n",
       "      <td>1.38</td>\n",
       "      <td>0.90</td>\n",
       "      <td>0.49</td>\n",
       "      <td>2.78</td>\n",
       "    </tr>\n",
       "    <tr>\n",
       "      <th>UKCA</th>\n",
       "      <td>1.63</td>\n",
       "      <td>1.10</td>\n",
       "      <td>nan</td>\n",
       "      <td>2.73</td>\n",
       "    </tr>\n",
       "    <tr>\n",
       "      <th>WACCM</th>\n",
       "      <td>1.46</td>\n",
       "      <td>1.45</td>\n",
       "      <td>0.24</td>\n",
       "      <td>3.15</td>\n",
       "    </tr>\n",
       "    <tr>\n",
       "      <th>GFDL-emi</th>\n",
       "      <td>1.23</td>\n",
       "      <td>1.24</td>\n",
       "      <td>0.80</td>\n",
       "      <td>3.26</td>\n",
       "    </tr>\n",
       "    <tr>\n",
       "      <th>OsloCTM-emi</th>\n",
       "      <td>1.41</td>\n",
       "      <td>1.54</td>\n",
       "      <td>0.77</td>\n",
       "      <td>3.72</td>\n",
       "    </tr>\n",
       "    <tr>\n",
       "      <th>Model mean</th>\n",
       "      <td>1.45</td>\n",
       "      <td>1.26</td>\n",
       "      <td>0.60</td>\n",
       "      <td>3.31</td>\n",
       "    </tr>\n",
       "  </tbody>\n",
       "</table>\n",
       "</div>"
      ],
      "text/plain": [
       "             CH4   O3  StratH2O  Total\n",
       "GFDL        1.40 1.34      0.91   3.65\n",
       "OsloCTM     1.38 1.51      0.75   3.64\n",
       "INCA        1.38 0.90      0.49   2.78\n",
       "UKCA        1.63 1.10       nan   2.73\n",
       "WACCM       1.46 1.45      0.24   3.15\n",
       "GFDL-emi    1.23 1.24      0.80   3.26\n",
       "OsloCTM-emi 1.41 1.54      0.77   3.72\n",
       "Model mean  1.45 1.26      0.60   3.31"
      ]
     },
     "execution_count": 10,
     "metadata": {},
     "output_type": "execute_result"
    }
   ],
   "source": [
    "df_table_gwp_500 = df_table_gwp_500.fillna(0.0)\n",
    "df_table_gwp_500_out = pd.DataFrame(columns=['CH4','O3','StratH2O'],index=df_table_gwp_500.index)\n",
    "\n",
    "df_table_gwp_500_out['O3'] = df_table_gwp_500['gwp_o3']+df_table_gwp_500['gwp_ch4ind_o3']\n",
    "df_table_gwp_500_out['CH4']=df_table_gwp_500['gwp_ch4']\n",
    "df_table_gwp_500_out['StratH2O'] = df_table_gwp_500['gwp_h2o']+df_table_gwp_500['gwp_ch4ind_h2o']\n",
    "df_table_gwp_500_out=df_table_gwp_500_out.reindex(sorted_array)\n",
    "df_table_gwp_500_out.replace(0,np.nan,inplace=True)\n",
    "\n",
    "df_table_gwp_500_out.loc['Model mean'] = df_table_gwp_500_out.drop(['GFDL-emi','OsloCTM-emi']).mean()\n",
    "\n",
    "#df_table_gwp_500_out['Total'] = df_table_gwp_500_out['O3'] + df_table_gwp_500_out['CH4'] + df_table_gwp_500_out['StratH2O']\n",
    "df_table_gwp_500_out['Total'] =  df_table_gwp_500_out[['O3','CH4','StratH2O']].sum(axis=1) \n",
    "df_table_gwp_500_out"
   ]
  },
  {
   "cell_type": "markdown",
   "metadata": {},
   "source": [
    "Table X: GWP500 for H$_2$ for the individual models. Note that UKCA does not have an estimate for stratospheric H2O. The model means are the mean of the model results for the concentration driven runs, hence excluding OsloCTM-emi and GFDL-emi in the mean. The AGWP500 for hydrogen will be identical to the AGWP100 for hydrogen. The GWP500 values are calculated by dividing the AGWP500 with AGWP100 for CO2 of 0.314 10-12 W m-2 kg-1 yr from IPCC AR6 Table 7.SM.6"
   ]
  },
  {
   "cell_type": "markdown",
   "metadata": {},
   "source": [
    "## GWP 20"
   ]
  },
  {
   "cell_type": "markdown",
   "metadata": {},
   "source": [
    "For GWP20: \n",
    "For AGWP20, perturbations tied to CH4 will still exist at the 10% level after 20 years, and the steady-state approximation can be corrected if we know the time scale of the CH4 perturbation.\n",
    "\n",
    "The timescale of the perturbation (PT) it the total methane lifetime times the feedback factor (FF). \n",
    "\n",
    "The pertubation lifetime of methane in IPCC AR6 WGI report (Section 6.3.1):\n",
    "11.8 +/- 1.8 years.\n",
    "\n",
    "All the RF related to methane decay as exp(-t/PT) where t is time.\n",
    "\n",
    "Therefore the AGWP_20 = AGWP_100 * (1-exp(20/PT)\n",
    "for ch4, ch4ind o3 and ch4ind h2o."
   ]
  },
  {
   "cell_type": "code",
   "execution_count": 11,
   "metadata": {},
   "outputs": [
    {
     "name": "stdout",
     "output_type": "stream",
     "text": [
      "11.8\n",
      "0.8163852110562757\n"
     ]
    }
   ],
   "source": [
    "PT = 11.8\n",
    "print(PT)\n",
    "adjust_20 =1-np.exp(-20./PT)\n",
    "\n",
    "print(adjust_20)"
   ]
  },
  {
   "cell_type": "code",
   "execution_count": 12,
   "metadata": {},
   "outputs": [],
   "source": [
    "df_table_agwp_20 = df_table_agwp\n",
    "df_table_agwp_20['h2_agwp_ch4']=df_table_agwp_20['h2_agwp_ch4']*adjust_20\n",
    "df_table_agwp_20['h2_agwp_ch4ind_o3']=df_table_agwp_20['h2_agwp_ch4ind_o3']*adjust_20\n",
    "df_table_agwp_20['h2_agwp_ch4ind_h2o']=df_table_agwp_20['h2_agwp_ch4ind_h2o']*adjust_20"
   ]
  },
  {
   "cell_type": "code",
   "execution_count": 13,
   "metadata": {},
   "outputs": [
    {
     "data": {
      "text/html": [
       "<div>\n",
       "<style scoped>\n",
       "    .dataframe tbody tr th:only-of-type {\n",
       "        vertical-align: middle;\n",
       "    }\n",
       "\n",
       "    .dataframe tbody tr th {\n",
       "        vertical-align: top;\n",
       "    }\n",
       "\n",
       "    .dataframe thead th {\n",
       "        text-align: right;\n",
       "    }\n",
       "</style>\n",
       "<table border=\"1\" class=\"dataframe\">\n",
       "  <thead>\n",
       "    <tr style=\"text-align: right;\">\n",
       "      <th></th>\n",
       "      <th>gwp_ch4</th>\n",
       "      <th>gwp_o3</th>\n",
       "      <th>gwp_h2o</th>\n",
       "      <th>gwp_ch4ind_o3</th>\n",
       "      <th>gwp_ch4ind_h2o</th>\n",
       "    </tr>\n",
       "  </thead>\n",
       "  <tbody>\n",
       "    <tr>\n",
       "      <th>OsloCTM</th>\n",
       "      <td>14.6</td>\n",
       "      <td>8.98</td>\n",
       "      <td>7.13</td>\n",
       "      <td>8.56</td>\n",
       "      <td>2.11</td>\n",
       "    </tr>\n",
       "    <tr>\n",
       "      <th>WACCM</th>\n",
       "      <td>15.4</td>\n",
       "      <td>7.25</td>\n",
       "      <td>2.12</td>\n",
       "      <td>9.41</td>\n",
       "      <td>0.83</td>\n",
       "    </tr>\n",
       "    <tr>\n",
       "      <th>INCA</th>\n",
       "      <td>14.6</td>\n",
       "      <td>6.04</td>\n",
       "      <td>4.69</td>\n",
       "      <td>4.61</td>\n",
       "      <td>1.38</td>\n",
       "    </tr>\n",
       "    <tr>\n",
       "      <th>GFDL-emi</th>\n",
       "      <td>12.9</td>\n",
       "      <td>16.0</td>\n",
       "      <td>10.3</td>\n",
       "      <td>nan</td>\n",
       "      <td>nan</td>\n",
       "    </tr>\n",
       "    <tr>\n",
       "      <th>OsloCTM-emi</th>\n",
       "      <td>14.9</td>\n",
       "      <td>9.16</td>\n",
       "      <td>7.27</td>\n",
       "      <td>8.76</td>\n",
       "      <td>2.16</td>\n",
       "    </tr>\n",
       "    <tr>\n",
       "      <th>UKCA</th>\n",
       "      <td>17.2</td>\n",
       "      <td>6.82</td>\n",
       "      <td>nan</td>\n",
       "      <td>6.01</td>\n",
       "      <td>nan</td>\n",
       "    </tr>\n",
       "    <tr>\n",
       "      <th>GFDL</th>\n",
       "      <td>14.8</td>\n",
       "      <td>8.63</td>\n",
       "      <td>6.63</td>\n",
       "      <td>7.06</td>\n",
       "      <td>4.23</td>\n",
       "    </tr>\n",
       "  </tbody>\n",
       "</table>\n",
       "</div>"
      ],
      "text/plain": [
       "             gwp_ch4  gwp_o3  gwp_h2o  gwp_ch4ind_o3  gwp_ch4ind_h2o\n",
       "OsloCTM         14.6    8.98     7.13           8.56            2.11\n",
       "WACCM           15.4    7.25     2.12           9.41            0.83\n",
       "INCA            14.6    6.04     4.69           4.61            1.38\n",
       "GFDL-emi        12.9    16.0     10.3            nan             nan\n",
       "OsloCTM-emi     14.9    9.16     7.27           8.76            2.16\n",
       "UKCA            17.2    6.82      nan           6.01             nan\n",
       "GFDL            14.8    8.63     6.63           7.06            4.23"
      ]
     },
     "execution_count": 13,
     "metadata": {},
     "output_type": "execute_result"
    }
   ],
   "source": [
    "df_table_gwp_20 = df_table_agwp_20/agwp20_CO2\n",
    "df_table_gwp_20.rename(columns=rename_columns,inplace=True)\n",
    "df_table_gwp_20"
   ]
  },
  {
   "cell_type": "code",
   "execution_count": 14,
   "metadata": {},
   "outputs": [
    {
     "data": {
      "text/html": [
       "<div>\n",
       "<style scoped>\n",
       "    .dataframe tbody tr th:only-of-type {\n",
       "        vertical-align: middle;\n",
       "    }\n",
       "\n",
       "    .dataframe tbody tr th {\n",
       "        vertical-align: top;\n",
       "    }\n",
       "\n",
       "    .dataframe thead th {\n",
       "        text-align: right;\n",
       "    }\n",
       "</style>\n",
       "<table border=\"1\" class=\"dataframe\">\n",
       "  <thead>\n",
       "    <tr style=\"text-align: right;\">\n",
       "      <th></th>\n",
       "      <th>CH4</th>\n",
       "      <th>O3</th>\n",
       "      <th>StratH2O</th>\n",
       "      <th>Total</th>\n",
       "    </tr>\n",
       "  </thead>\n",
       "  <tbody>\n",
       "    <tr>\n",
       "      <th>GFDL</th>\n",
       "      <td>14.8</td>\n",
       "      <td>15.7</td>\n",
       "      <td>10.9</td>\n",
       "      <td>41.4</td>\n",
       "    </tr>\n",
       "    <tr>\n",
       "      <th>OsloCTM</th>\n",
       "      <td>14.6</td>\n",
       "      <td>17.5</td>\n",
       "      <td>9.24</td>\n",
       "      <td>41.4</td>\n",
       "    </tr>\n",
       "    <tr>\n",
       "      <th>INCA</th>\n",
       "      <td>14.6</td>\n",
       "      <td>10.6</td>\n",
       "      <td>6.08</td>\n",
       "      <td>31.3</td>\n",
       "    </tr>\n",
       "    <tr>\n",
       "      <th>UKCA</th>\n",
       "      <td>17.2</td>\n",
       "      <td>12.8</td>\n",
       "      <td>nan</td>\n",
       "      <td>30.1</td>\n",
       "    </tr>\n",
       "    <tr>\n",
       "      <th>WACCM</th>\n",
       "      <td>15.4</td>\n",
       "      <td>16.7</td>\n",
       "      <td>2.95</td>\n",
       "      <td>35.0</td>\n",
       "    </tr>\n",
       "    <tr>\n",
       "      <th>GFDL-emi</th>\n",
       "      <td>12.9</td>\n",
       "      <td>16.0</td>\n",
       "      <td>10.3</td>\n",
       "      <td>39.2</td>\n",
       "    </tr>\n",
       "    <tr>\n",
       "      <th>OsloCTM-emi</th>\n",
       "      <td>14.9</td>\n",
       "      <td>17.9</td>\n",
       "      <td>9.42</td>\n",
       "      <td>42.3</td>\n",
       "    </tr>\n",
       "    <tr>\n",
       "      <th>Model mean</th>\n",
       "      <td>15.3</td>\n",
       "      <td>14.7</td>\n",
       "      <td>7.28</td>\n",
       "      <td>37.3</td>\n",
       "    </tr>\n",
       "  </tbody>\n",
       "</table>\n",
       "</div>"
      ],
      "text/plain": [
       "             CH4   O3  StratH2O  Total\n",
       "GFDL        14.8 15.7      10.9   41.4\n",
       "OsloCTM     14.6 17.5      9.24   41.4\n",
       "INCA        14.6 10.6      6.08   31.3\n",
       "UKCA        17.2 12.8       nan   30.1\n",
       "WACCM       15.4 16.7      2.95   35.0\n",
       "GFDL-emi    12.9 16.0      10.3   39.2\n",
       "OsloCTM-emi 14.9 17.9      9.42   42.3\n",
       "Model mean  15.3 14.7      7.28   37.3"
      ]
     },
     "execution_count": 14,
     "metadata": {},
     "output_type": "execute_result"
    }
   ],
   "source": [
    "df_table_gwp_20 = df_table_gwp_20.fillna(0.0)\n",
    "df_table_gwp_20_out = pd.DataFrame(columns=['CH4','O3','StratH2O'],index=df_table_gwp_20.index)\n",
    "\n",
    "df_table_gwp_20_out['O3'] = df_table_gwp_20['gwp_o3']+df_table_gwp_20['gwp_ch4ind_o3']\n",
    "df_table_gwp_20_out['CH4']=df_table_gwp_20['gwp_ch4']\n",
    "df_table_gwp_20_out['StratH2O'] = df_table_gwp_20['gwp_h2o']+df_table_gwp_20['gwp_ch4ind_h2o']\n",
    "df_table_gwp_20_out=df_table_gwp_20_out.reindex(sorted_array)\n",
    "df_table_gwp_20_out.replace(0,np.nan,inplace=True)\n",
    "\n",
    "df_table_gwp_20_out.loc['Model mean'] = df_table_gwp_20_out.drop(['GFDL-emi','OsloCTM-emi']).mean()\n",
    "\n",
    "df_table_gwp_20_out['Total'] = df_table_gwp_20_out[['O3','CH4','StratH2O']].sum(axis=1) \n",
    "\n",
    "df_table_gwp_20_out"
   ]
  },
  {
   "cell_type": "markdown",
   "metadata": {},
   "source": [
    "Table X: GWP20 for H$_2$ for the individual models. Note that UKCA does not have an estimate for stratospheric H2O. The model means are the mean of the model results for the concentration driven runs, hence excluding OsloCTM-emi and GFDL-emi in the mean. For AGWP20, perturbations tied to CH4 will still exist after 20 years, and the steady-state approximation has been corrected. All the RF related to methane decay as exp(-t/PT) where t is time and PT is the timescale of the perturbation, given as the total methane lifetime times the feedback factor (FF). Using numbers from Prather et al 2012 (FF=1.47,LT=9,1) PT is 13.4.\n",
    "For AGWP20 due to methane and the methane induced ozone and stratospheric water vapor, the AGWP100 values are adjusted by (1-exp(-20/PT)). The AGWP20 values for the rest of the components are as the AGWP100 values. The GWP20 values are calculated by dividing the AGWP20 with AGWP20 for CO2 of 0.0243 10-12 W m-2 kg-1 yr from IPCC AR6 Table 7.SM.6"
   ]
  },
  {
   "cell_type": "markdown",
   "metadata": {},
   "source": [
    "## Uncertainty calculations"
   ]
  },
  {
   "cell_type": "markdown",
   "metadata": {},
   "source": [
    "First defining some common values for uncertainty calculations on all time scales:"
   ]
  },
  {
   "cell_type": "code",
   "execution_count": 15,
   "metadata": {},
   "outputs": [
    {
     "name": "stdout",
     "output_type": "stream",
     "text": [
      "   delta_burden  sigma_burden  loss  sigma_atmloss  sigma_h2_ff  ff_h2  tau  \\\n",
      "0          18.5          0.17  82.7           3.03         0.01   0.99 2.35   \n",
      "\n",
      "   ff_ch4  delta_flux_CH4  sigma_delta_flux_CH4_dir  \n",
      "0    1.45            3.78                      1.22  \n",
      "             h2_agwp_ch4  h2_agwp_o3  h2_agwp_h2o  h2_agwp_ch4ind_o3  \\\n",
      "OsloCTM             0.35        0.22         0.17               0.21   \n",
      "WACCM               0.37        0.18         0.05               0.23   \n",
      "INCA                0.35        0.15         0.11               0.11   \n",
      "GFDL-emi            0.31        0.39         0.25                nan   \n",
      "OsloCTM-emi         0.36        0.22         0.18               0.21   \n",
      "UKCA                0.42        0.17          nan               0.15   \n",
      "GFDL                0.36        0.21         0.16               0.17   \n",
      "\n",
      "             h2_agwp_ch4ind_h2o  \n",
      "OsloCTM                    0.05  \n",
      "WACCM                      0.02  \n",
      "INCA                       0.03  \n",
      "GFDL-emi                    nan  \n",
      "OsloCTM-emi                0.05  \n",
      "UKCA                        nan  \n",
      "GFDL                       0.10  \n",
      "OsloCTM   0.17\n",
      "WACCM     0.05\n",
      "INCA      0.11\n",
      "UKCA       nan\n",
      "GFDL      0.16\n",
      "Name: h2_agwp_h2o, dtype: float64\n"
     ]
    }
   ],
   "source": [
    "sigma_drydep = 15\n",
    "sigma_rf_methane = 0.20\n",
    "sigma_ff_ch4 = 0.07\n",
    "#Specific RF for CH4 [mW m-2 ppb-1] Etminan et al., 2016\n",
    "spec_rf_ch4 = 0.44800\n",
    "\n",
    "#0.389 in IPCC AR6\n",
    "#The adjustment is –14% ± 15%\n",
    "spec_rf_ch4 = spec_rf_ch4*(1.0-0.14)\n",
    "\n",
    "df_uncertainty_input = pd.read_csv(filepath+'uncertainty_input.txt',index_col=0)\n",
    "print(df_uncertainty_input)\n",
    "delta_burden = df_uncertainty_input['delta_burden'].values[0]\n",
    "sigma_burden = df_uncertainty_input['sigma_burden'].values[0]\n",
    "loss = df_uncertainty_input['loss'].values[0]\n",
    "sigma_atmloss = df_uncertainty_input['sigma_atmloss'].values[0]\n",
    "sigma_h2_ff = df_uncertainty_input['sigma_h2_ff'].values[0]\n",
    "tau = df_uncertainty_input['tau'].values[0]\n",
    "ff_h2 = df_uncertainty_input['ff_h2'].values[0]\n",
    "ff_ch4 = df_uncertainty_input['ff_ch4'].values[0]\n",
    "delta_flux_CH4 = df_uncertainty_input['delta_flux_CH4'].values[0]\n",
    "delta_flux_CH4_dir = delta_flux_CH4*1.0/ff_ch4\n",
    "sigma_delta_flux_CH4_dir = df_uncertainty_input['sigma_delta_flux_CH4_dir'].values[0]\n",
    "print(df_table_agwp)\n",
    "print(df_table_agwp.drop(labels=['GFDL-emi', 'OsloCTM-emi'])['h2_agwp_h2o'])\n",
    "sigma_rf_o3 =np.std(df_table_agwp.drop(labels=['GFDL-emi', 'OsloCTM-emi'])['h2_agwp_o3']/tau)\n",
    "sigma_rf_h2o = np.std(df_table_agwp.drop(labels=['GFDL-emi', 'OsloCTM-emi'])['h2_agwp_h2o']/tau)"
   ]
  },
  {
   "cell_type": "markdown",
   "metadata": {},
   "source": [
    "### GWP100"
   ]
  },
  {
   "cell_type": "markdown",
   "metadata": {},
   "source": [
    "Values specific for this GWP100:"
   ]
  },
  {
   "cell_type": "code",
   "execution_count": 16,
   "metadata": {},
   "outputs": [],
   "source": [
    "sigma_agwp100CO2 = 0.26/2*agwp100_CO2\n",
    "\n",
    "gwp100 = df_table_gwp_100_out['Total']['Model mean']"
   ]
  },
  {
   "cell_type": "markdown",
   "metadata": {},
   "source": [
    "Defining a table with uncertainties:"
   ]
  },
  {
   "cell_type": "code",
   "execution_count": 17,
   "metadata": {},
   "outputs": [],
   "source": [
    "pd.options.display.float_format = '{:,.3g}'.format\n",
    "df_uncertainties_GWP100 = pd.DataFrame({\"Component\":[\"AGWP_CO2\", \"Delta H2 burden\", \"H2 feedback factor\", \"Soil sink\"], \"Absolute uncertainty\":[sigma_agwp100CO2, sigma_burden, sigma_h2_ff, sigma_drydep], \"Percentage uncertainty contribution\":[sigma_agwp100CO2/agwp100_CO2, sigma_burden/delta_burden, sigma_h2_ff/ff_h2, sigma_drydep/loss]})\n",
    "df_uncertainties_GWP100.set_index(\"Component\", inplace=True)\n",
    "df_uncertainties_GWP100.loc[\"Atmospheric loss H2\"]=[sigma_atmloss, sigma_atmloss/loss]\n",
    "df_uncertainties_GWP100.loc[\"Radiative efficiency CH4\"]=[sigma_rf_methane*spec_rf_ch4, sigma_rf_methane*delta_flux_CH4*tau*agwp100_CO2/gwp100]\n",
    "df_uncertainties_GWP100.loc[\"CH4 feedback factor\"]=[sigma_ff_ch4, sigma_ff_ch4*delta_flux_CH4_dir*spec_rf_ch4*tau*agwp100_CO2/gwp100]\n",
    "df_uncertainties_GWP100.loc[\"Delta flux CH4\"]=[sigma_delta_flux_CH4_dir, sigma_delta_flux_CH4_dir*ff_ch4*spec_rf_ch4*tau*agwp100_CO2/gwp100]\n",
    "df_uncertainties_GWP100.loc[\"H2O ERF\"]=[sigma_rf_h2o, sigma_rf_h2o*tau*agwp100_CO2/gwp100]\n",
    "df_uncertainties_GWP100.loc[\"O3 ERF\"]=[sigma_rf_o3, sigma_rf_o3*tau*agwp100_CO2/gwp100]"
   ]
  },
  {
   "cell_type": "markdown",
   "metadata": {},
   "source": [
    "Full uncertainty calculation:"
   ]
  },
  {
   "cell_type": "code",
   "execution_count": 18,
   "metadata": {},
   "outputs": [],
   "source": [
    "scaled_sigma_methane = spec_rf_ch4**2*delta_flux_CH4**2*((sigma_rf_methane)**2 + (sigma_ff_ch4/ff_ch4)**2 + (sigma_delta_flux_CH4_dir/delta_flux_CH4_dir)**2)\n",
    "sigma = gwp100*np.sqrt((sigma_agwp100CO2/agwp100_CO2)**2 + (sigma_h2_ff/ff_h2)**2+ (sigma_burden/delta_burden)**2 +1/(loss)**2*(sigma_drydep**2 + sigma_atmloss**2) + (tau*agwp100_CO2/gwp100)**2*( scaled_sigma_methane + sigma_rf_h2o**2 + sigma_rf_o3**2))"
   ]
  },
  {
   "cell_type": "markdown",
   "metadata": {},
   "source": [
    "Adding total to table and printing"
   ]
  },
  {
   "cell_type": "code",
   "execution_count": 19,
   "metadata": {},
   "outputs": [
    {
     "name": "stdout",
     "output_type": "stream",
     "text": [
      "                          Absolute uncertainty  \\\n",
      "Component                                        \n",
      "AGWP_CO2                                0.0116   \n",
      "Delta H2 burden                          0.173   \n",
      "H2 feedback factor                     0.00631   \n",
      "Soil sink                                   15   \n",
      "Atmospheric loss H2                       3.03   \n",
      "Radiative efficiency CH4                0.0771   \n",
      "CH4 feedback factor                       0.07   \n",
      "Delta flux CH4                            1.22   \n",
      "H2O ERF                                 0.0204   \n",
      "O3 ERF                                  0.0115   \n",
      "Total                                     2.64   \n",
      "\n",
      "                          Percentage uncertainty contribution  \\\n",
      "Component                                                       \n",
      "AGWP_CO2                                                 0.13   \n",
      "Delta H2 burden                                       0.00934   \n",
      "H2 feedback factor                                    0.00638   \n",
      "Soil sink                                               0.181   \n",
      "Atmospheric loss H2                                    0.0366   \n",
      "Radiative efficiency CH4                               0.0137   \n",
      "CH4 feedback factor                                   0.00127   \n",
      "Delta flux CH4                                         0.0123   \n",
      "H2O ERF                                              0.000368   \n",
      "O3 ERF                                               0.000207   \n",
      "Total                                                   0.227   \n",
      "\n",
      "                          GWP uncertainty of term alone  \n",
      "Component                                                \n",
      "AGWP_CO2                                           1.51  \n",
      "Delta H2 burden                                   0.109  \n",
      "H2 feedback factor                               0.0742  \n",
      "Soil sink                                          2.11  \n",
      "Atmospheric loss H2                               0.425  \n",
      "Radiative efficiency CH4                          0.159  \n",
      "CH4 feedback factor                              0.0148  \n",
      "Delta flux CH4                                    0.143  \n",
      "H2O ERF                                         0.00428  \n",
      "O3 ERF                                          0.00241  \n",
      "Total                                              2.64  \n"
     ]
    }
   ],
   "source": [
    "df_uncertainties_GWP100.loc[\"Total\"]=[sigma, sigma/gwp100]\n",
    "#df_uncertainties_GWP100['Percent of uncertainty'] = 1-gwp100*np.sqrt((sigma/gwp100)**2 - df_uncertainties_GWP100['Percentage uncertainty contribution']**2)/sigma\n",
    "df_uncertainties_GWP100[\"GWP uncertainty of term alone\"] = df_uncertainties_GWP100['Percentage uncertainty contribution']*gwp100\n",
    "print(df_uncertainties_GWP100)"
   ]
  },
  {
   "cell_type": "markdown",
   "metadata": {},
   "source": [
    "### GWP20"
   ]
  },
  {
   "cell_type": "code",
   "execution_count": 20,
   "metadata": {},
   "outputs": [
    {
     "name": "stdout",
     "output_type": "stream",
     "text": [
      "0.28009035601585064\n",
      "0.8163852110562757\n"
     ]
    }
   ],
   "source": [
    "sigma_agwp20CO2 = 0.18/2*agwp20_CO2\n",
    "\n",
    "gwp20 = df_table_gwp_20_out['Total']['Model mean']\n",
    "\n",
    "sigma_pt_ch4 = 1.8/2.\n",
    "sigma_adjust_20 = np.exp(-20/PT)*20*(sigma_pt_ch4/PT)\n",
    "print(sigma_adjust_20)\n",
    "print(adjust_20)"
   ]
  },
  {
   "cell_type": "code",
   "execution_count": 21,
   "metadata": {},
   "outputs": [],
   "source": [
    "df_uncertainties_GWP20 = pd.DataFrame({\"Component\":[\"AGWP_CO2\", \"Delta H2 burden\", \"H2 feedback factor\", \"Soil sink\"], \"Absolute uncertainty\":[sigma_agwp20CO2, sigma_burden, sigma_h2_ff, sigma_drydep], \"Percentage uncertainty contribution\":[sigma_agwp20CO2/agwp20_CO2, sigma_burden/delta_burden, sigma_h2_ff/ff_h2, sigma_drydep/loss]})\n",
    "df_uncertainties_GWP20.set_index(\"Component\", inplace=True)\n",
    "df_uncertainties_GWP20.loc[\"Atmospheric loss H2\"]=[sigma_atmloss, sigma_atmloss/loss]\n",
    "df_uncertainties_GWP20.loc[\"Adjust for 20 years CH4 PT\"]=[sigma_pt_ch4, sigma_adjust_20/adjust_20]\n",
    "df_uncertainties_GWP20.loc[\"Radiative efficiency CH4\"]=[sigma_rf_methane*spec_rf_ch4, sigma_rf_methane*delta_flux_CH4*tau*agwp20_CO2/gwp20]\n",
    "df_uncertainties_GWP20.loc[\"CH4 feedback factor\"]=[sigma_ff_ch4, sigma_ff_ch4*delta_flux_CH4_dir*spec_rf_ch4*tau*agwp20_CO2/gwp20]\n",
    "df_uncertainties_GWP20.loc[\"Delta flux CH4\"]=[sigma_delta_flux_CH4_dir, sigma_delta_flux_CH4_dir*ff_ch4*spec_rf_ch4*tau*agwp20_CO2/gwp20]\n",
    "df_uncertainties_GWP20.loc[\"H2O ERF\"]=[sigma_rf_h2o, sigma_rf_h2o*tau*agwp20_CO2/gwp20]\n",
    "df_uncertainties_GWP20.loc[\"O3 ERF\"]=[sigma_rf_o3, sigma_rf_o3*tau*agwp20_CO2/gwp20]"
   ]
  },
  {
   "cell_type": "markdown",
   "metadata": {},
   "source": [
    "Full uncertainty calculation:"
   ]
  },
  {
   "cell_type": "code",
   "execution_count": 22,
   "metadata": {},
   "outputs": [],
   "source": [
    "scaled_sigma_methane = spec_rf_ch4**2*delta_flux_CH4**2*((sigma_rf_methane)**2 + (sigma_ff_ch4/ff_ch4)**2 + (sigma_delta_flux_CH4_dir/delta_flux_CH4_dir)**2)\n",
    "sigma20 = gwp20*np.sqrt((sigma_agwp20CO2/agwp20_CO2)**2 +(sigma_adjust_20/adjust_20)**2 + (sigma_h2_ff/ff_h2)**2+ (sigma_burden/delta_burden)**2 +1/(loss)**2*(sigma_drydep**2 + sigma_atmloss**2) + (tau*agwp20_CO2/gwp20)**2*( scaled_sigma_methane + sigma_rf_h2o**2 + sigma_rf_o3**2))"
   ]
  },
  {
   "cell_type": "markdown",
   "metadata": {},
   "source": [
    "Adding total to table and printing"
   ]
  },
  {
   "cell_type": "code",
   "execution_count": 23,
   "metadata": {},
   "outputs": [
    {
     "name": "stdout",
     "output_type": "stream",
     "text": [
      "                            Absolute uncertainty  \\\n",
      "Component                                          \n",
      "AGWP_CO2                                 0.00219   \n",
      "Delta H2 burden                            0.173   \n",
      "H2 feedback factor                       0.00631   \n",
      "Soil sink                                     15   \n",
      "Atmospheric loss H2                         3.03   \n",
      "Adjust for 20 years CH4 PT                   0.9   \n",
      "Radiative efficiency CH4                  0.0771   \n",
      "CH4 feedback factor                         0.07   \n",
      "Delta flux CH4                              1.22   \n",
      "H2O ERF                                   0.0204   \n",
      "O3 ERF                                    0.0115   \n",
      "Total                                       14.9   \n",
      "\n",
      "                            Percentage uncertainty contribution  \n",
      "Component                                                        \n",
      "AGWP_CO2                                                   0.09  \n",
      "Delta H2 burden                                         0.00934  \n",
      "H2 feedback factor                                      0.00638  \n",
      "Soil sink                                                 0.181  \n",
      "Atmospheric loss H2                                      0.0366  \n",
      "Adjust for 20 years CH4 PT                                0.343  \n",
      "Radiative efficiency CH4                                0.00116  \n",
      "CH4 feedback factor                                    0.000108  \n",
      "Delta flux CH4                                          0.00104  \n",
      "H2O ERF                                                3.12e-05  \n",
      "O3 ERF                                                 1.75e-05  \n",
      "Total                                                       0.4  \n"
     ]
    }
   ],
   "source": [
    "df_uncertainties_GWP20.loc[\"Total\"]=[sigma20, sigma20/gwp20]\n",
    "print(df_uncertainties_GWP20)"
   ]
  },
  {
   "cell_type": "markdown",
   "metadata": {},
   "source": [
    "### GWP500"
   ]
  },
  {
   "cell_type": "code",
   "execution_count": 24,
   "metadata": {},
   "outputs": [],
   "source": [
    "sigma_agwp500CO2 = 0.29/2*agwp500_CO2\n",
    "\n",
    "gwp500 = df_table_gwp_500_out['Total']['Model mean']"
   ]
  },
  {
   "cell_type": "code",
   "execution_count": 25,
   "metadata": {},
   "outputs": [],
   "source": [
    "df_uncertainties_GWP500 = pd.DataFrame({\"Component\":[\"AGWP_CO2\", \"Delta H2 burden\", \"H2 feedback factor\", \"Soil sink\"], \"Absolute uncertainty\":[sigma_agwp500CO2, sigma_burden, sigma_h2_ff, sigma_drydep], \"Percentage uncertainty contribution\":[sigma_agwp500CO2/agwp500_CO2, sigma_burden/delta_burden, sigma_h2_ff/ff_h2, sigma_drydep/loss]})\n",
    "df_uncertainties_GWP500.set_index(\"Component\", inplace=True)\n",
    "df_uncertainties_GWP500.loc[\"Atmospheric loss H2\"]=[sigma_atmloss, sigma_atmloss/loss]\n",
    "df_uncertainties_GWP500.loc[\"Radiative efficiency CH4\"]=[sigma_rf_methane*spec_rf_ch4, sigma_rf_methane*delta_flux_CH4*tau*agwp500_CO2/gwp500]\n",
    "df_uncertainties_GWP500.loc[\"CH4 feedback factor\"]=[sigma_ff_ch4, sigma_ff_ch4*delta_flux_CH4_dir*spec_rf_ch4*tau*agwp500_CO2/gwp500]\n",
    "df_uncertainties_GWP500.loc[\"Delta flux CH4\"]=[sigma_delta_flux_CH4_dir, sigma_delta_flux_CH4_dir*ff_ch4*spec_rf_ch4*tau*agwp500_CO2/gwp500]\n",
    "df_uncertainties_GWP500.loc[\"H2O ERF\"]=[sigma_rf_h2o, sigma_rf_h2o*tau*agwp500_CO2/gwp500]\n",
    "df_uncertainties_GWP500.loc[\"O3 ERF\"]=[sigma_rf_o3, sigma_rf_o3*tau*agwp500_CO2/gwp500]"
   ]
  },
  {
   "cell_type": "markdown",
   "metadata": {},
   "source": [
    "Full uncertainty calculation:"
   ]
  },
  {
   "cell_type": "code",
   "execution_count": 26,
   "metadata": {},
   "outputs": [],
   "source": [
    "scaled_sigma_methane = spec_rf_ch4**2*delta_flux_CH4**2*((sigma_rf_methane)**2 + (sigma_ff_ch4/ff_ch4)**2 + (sigma_delta_flux_CH4_dir/delta_flux_CH4_dir)**2)\n",
    "sigma500 = gwp500*np.sqrt((sigma_agwp500CO2/agwp500_CO2)**2 + (sigma_h2_ff/ff_h2)**2+ (sigma_burden/delta_burden)**2 +1/(loss)**2*(sigma_drydep**2 + sigma_atmloss**2) + (tau*agwp500_CO2/gwp500)**2*( scaled_sigma_methane + sigma_rf_h2o**2 + sigma_rf_o3**2))"
   ]
  },
  {
   "cell_type": "markdown",
   "metadata": {},
   "source": [
    "Adding total to table and printing"
   ]
  },
  {
   "cell_type": "code",
   "execution_count": 27,
   "metadata": {},
   "outputs": [
    {
     "name": "stdout",
     "output_type": "stream",
     "text": [
      "                          Absolute uncertainty  \\\n",
      "Component                                        \n",
      "AGWP_CO2                                0.0455   \n",
      "Delta H2 burden                          0.173   \n",
      "H2 feedback factor                     0.00631   \n",
      "Soil sink                                   15   \n",
      "Atmospheric loss H2                       3.03   \n",
      "Radiative efficiency CH4                0.0771   \n",
      "CH4 feedback factor                       0.07   \n",
      "Delta flux CH4                            1.22   \n",
      "H2O ERF                                 0.0204   \n",
      "O3 ERF                                  0.0115   \n",
      "Total                                    0.953   \n",
      "\n",
      "                          Percentage uncertainty contribution  \n",
      "Component                                                      \n",
      "AGWP_CO2                                                0.145  \n",
      "Delta H2 burden                                       0.00934  \n",
      "H2 feedback factor                                    0.00638  \n",
      "Soil sink                                               0.181  \n",
      "Atmospheric loss H2                                    0.0366  \n",
      "Radiative efficiency CH4                                0.168  \n",
      "CH4 feedback factor                                    0.0157  \n",
      "Delta flux CH4                                          0.151  \n",
      "H2O ERF                                               0.00453  \n",
      "O3 ERF                                                0.00255  \n",
      "Total                                                   0.288  \n"
     ]
    }
   ],
   "source": [
    "df_uncertainties_GWP500.loc[\"Total\"]=[sigma500, sigma500/gwp500]\n",
    "print(df_uncertainties_GWP500)"
   ]
  },
  {
   "cell_type": "markdown",
   "metadata": {},
   "source": [
    "## Figures"
   ]
  },
  {
   "cell_type": "code",
   "execution_count": 28,
   "metadata": {},
   "outputs": [],
   "source": [
    "tittel = 'H2 GWP'\n",
    "ytittel ='GWP'\n",
    "\n",
    "default_size = 18\n",
    "plt.rc('font', size=default_size)\n",
    "plt.rc('axes', titlesize=default_size)     # fontsize of the axes title\n",
    "plt.rc('axes', labelsize=default_size)    # fontsize of the x and y labels\n",
    "plt.rc('xtick', labelsize=default_size)    # fontsize of the tick labels\n",
    "plt.rc('ytick', labelsize=default_size)    # fontsize of the tick labels\n",
    "plt.rc('legend', fontsize=16)    # legend fontsize\n",
    "plt.rc('figure', titlesize=default_size)\n",
    "\n",
    "#Defining some colors:\n",
    "CH4_color = \"lightseagreen\"\n",
    "O3_color = \"gold\"\n",
    "H2O_color = \"darkviolet\"\n",
    "H2_color = 'lightblue'\n",
    "\n",
    "#Defining some legend looks:\n",
    "CH4_legend = mpatches.Patch( facecolor=CH4_color,label='CH4')\n",
    "O3_legend= mpatches.Patch( facecolor=O3_color, label='O3')\n",
    "H2O_legend= mpatches.Patch( facecolor=H2O_color, label='strat H2O')\n",
    "\n",
    "\n",
    "model_dict = { 'GFDL_nudge':'GFDL',\n",
    "               'OSLOCTM3':'OsloCTM',\n",
    "               'INCA':'INCA',\n",
    "               'UKCA':'UKCA',\n",
    "               'WACCM6-2deg':'WACCM',\n",
    "               'GFDL-emi':'GFDL-emi',\n",
    "               'OSLOCTM3-emi':'OsloCTM-emi'\n",
    "             }\n",
    "\n",
    "sorted_array = ['GFDL','OsloCTM','INCA','UKCA','WACCM','GFDL-emi','OsloCTM-emi']\n",
    "\n",
    "\n",
    "starplot = False"
   ]
  },
  {
   "cell_type": "code",
   "execution_count": 50,
   "metadata": {},
   "outputs": [
    {
     "name": "stdout",
     "output_type": "stream",
     "text": [
      "['GFDL', 'INCA', 'OsloCTM', 'UKCA', 'WACCM', 'GFDL-emi', 'OsloCTM-emi']\n"
     ]
    },
    {
     "data": {
      "text/html": [
       "<div>\n",
       "<style scoped>\n",
       "    .dataframe tbody tr th:only-of-type {\n",
       "        vertical-align: middle;\n",
       "    }\n",
       "\n",
       "    .dataframe tbody tr th {\n",
       "        vertical-align: top;\n",
       "    }\n",
       "\n",
       "    .dataframe thead th {\n",
       "        text-align: right;\n",
       "    }\n",
       "</style>\n",
       "<table border=\"1\" class=\"dataframe\">\n",
       "  <thead>\n",
       "    <tr style=\"text-align: right;\">\n",
       "      <th></th>\n",
       "      <th>CH4</th>\n",
       "      <th>O3</th>\n",
       "      <th>strat H2O</th>\n",
       "    </tr>\n",
       "  </thead>\n",
       "  <tbody>\n",
       "    <tr>\n",
       "      <th>GFDL</th>\n",
       "      <td>4.92</td>\n",
       "      <td>2.34</td>\n",
       "      <td>1.8</td>\n",
       "    </tr>\n",
       "    <tr>\n",
       "      <th>INCA</th>\n",
       "      <td>4.85</td>\n",
       "      <td>1.64</td>\n",
       "      <td>1.27</td>\n",
       "    </tr>\n",
       "    <tr>\n",
       "      <th>OsloCTM</th>\n",
       "      <td>4.85</td>\n",
       "      <td>2.44</td>\n",
       "      <td>1.94</td>\n",
       "    </tr>\n",
       "    <tr>\n",
       "      <th>UKCA</th>\n",
       "      <td>5.73</td>\n",
       "      <td>1.85</td>\n",
       "      <td>nan</td>\n",
       "    </tr>\n",
       "    <tr>\n",
       "      <th>WACCM</th>\n",
       "      <td>5.11</td>\n",
       "      <td>1.97</td>\n",
       "      <td>0.576</td>\n",
       "    </tr>\n",
       "    <tr>\n",
       "      <th>GFDL-emi</th>\n",
       "      <td>4.3</td>\n",
       "      <td>4.34</td>\n",
       "      <td>2.8</td>\n",
       "    </tr>\n",
       "    <tr>\n",
       "      <th>OsloCTM-emi</th>\n",
       "      <td>4.96</td>\n",
       "      <td>2.49</td>\n",
       "      <td>1.97</td>\n",
       "    </tr>\n",
       "    <tr>\n",
       "      <th>Model mean</th>\n",
       "      <td>5.09</td>\n",
       "      <td>2.05</td>\n",
       "      <td>1.4</td>\n",
       "    </tr>\n",
       "  </tbody>\n",
       "</table>\n",
       "</div>"
      ],
      "text/plain": [
       "             CH4   O3  strat H2O\n",
       "GFDL        4.92 2.34        1.8\n",
       "INCA        4.85 1.64       1.27\n",
       "OsloCTM     4.85 2.44       1.94\n",
       "UKCA        5.73 1.85        nan\n",
       "WACCM       5.11 1.97      0.576\n",
       "GFDL-emi     4.3 4.34        2.8\n",
       "OsloCTM-emi 4.96 2.49       1.97\n",
       "Model mean  5.09 2.05        1.4"
      ]
     },
     "execution_count": 50,
     "metadata": {},
     "output_type": "execute_result"
    }
   ],
   "source": [
    "df_table_gwp_simple = df_table_gwp_100.fillna(0.0)\n",
    "#df_table_gwp_simple.loc['CH4'] = df_table_gwp_simple.loc['CH4dir']+df_table_gwp_simple.loc['CH4indir']\n",
    "#df_table_gwp_simple.loc['O3'] = df_table_gwp_simple.loc['O3 CH4ind']+df_table_gwp_simple.loc['O3']\n",
    "#df_table_gwp_simple.loc['strat H2O'] = df_table_gwp_simple.loc['strat H2O']+df_table_gwp_simple.loc['strat H2O CH4ind']\n",
    "\n",
    "df_table_gwp_simple.replace(0, np.nan, inplace=True)\n",
    "df_table_gwp_simple = df_table_gwp_simple.drop(['gwp_ch4ind_o3','gwp_ch4ind_h2o'], axis=1)\n",
    "df_table_gwp_simple.rename(columns={'gwp_ch4':'CH4', 'gwp_o3':'O3', 'gwp_h2o':'strat H2O'}, inplace=True)\n",
    "sorted_models = df_table_gwp_simple.drop(['GFDL-emi', 'OsloCTM-emi']).index.sort_values().tolist()\n",
    "sorted_models.append('GFDL-emi')\n",
    "sorted_models.append('OsloCTM-emi')\n",
    "print(sorted_models)\n",
    "df_table_gwp_simple = df_table_gwp_simple.reindex(sorted_models)\n",
    "df_table_gwp_simple.loc['Model mean'] = df_table_gwp_simple.drop(['GFDL-emi', 'OsloCTM-emi'],axis=0).mean(axis=0)\n",
    "df_table_gwp_simple"
   ]
  },
  {
   "cell_type": "code",
   "execution_count": 36,
   "metadata": {},
   "outputs": [
    {
     "name": "stdout",
     "output_type": "stream",
     "text": [
      "CH4         5.09\n",
      "O3          2.05\n",
      "strat H2O    1.4\n",
      "Name: Model mean, dtype: float64\n"
     ]
    },
    {
     "data": {
      "image/png": "[encoded data removed]",
      "text/plain": [
       "<Figure size 1080x576 with 2 Axes>"
      ]
     },
     "metadata": {
      "needs_background": "light"
     },
     "output_type": "display_data"
    }
   ],
   "source": [
    "fig, axs = plt.subplots(nrows=1,ncols=1,squeeze=True,figsize=(15,8),sharey=True)\n",
    "\n",
    "gs = gridspec.GridSpec(1, 2, width_ratios=[4, 1]) \n",
    "axs = plt.subplot(gs[0])\n",
    "\n",
    "\n",
    "df_table_gwp_simple.drop('Model mean').plot.bar(stacked=True,\n",
    "                        color=[CH4_color,O3_color, H2O_color],\n",
    "                        edgecolor='black',\n",
    "                        ax=axs, \n",
    "                        legend = False) \n",
    "\n",
    "#print(df_table_gwp_simple.columns)\n",
    "\n",
    "for m,model in enumerate(df_table_gwp_simple.drop(['GFDL-emi', 'OsloCTM-emi'],axis=0).columns):\n",
    "        # Read in correct best estimate for stars, now wrong\n",
    "        if starplot: star,=axs.plot(m,df_table_gwp_simple[model].sum(),color='darkgray',\n",
    "                       markersize=10,marker='*',linestyle = 'None',label='Harmonized soil sink')\n",
    "   \n",
    "#    axs.plot(m,total_drydep_max.loc[model],#\n",
    "\n",
    "    \n",
    "#    axs.plot(m,total_drydep_min.loc[model],marker='v',color='black')\n",
    "#    axs.plot([m,m],[total_drydep_min.loc[model],total_drydep_max.loc[model]],color='black')\n",
    "\n",
    "\n",
    "axs.axvspan(4.5, 7, alpha=0.5, color='lightgray',zorder=-10)\n",
    "axs.set_title('a) Individual Models',loc='left')\n",
    "#bars = [thing for thing in axs.containers if isinstance(thing,mpl.container.BarContainer)]\n",
    "#i = 0\n",
    "#\n",
    "#for b,bar in enumerate(bars):    \n",
    "#    for p,patch in enumerate(bar):\n",
    "#        if b == 1 : \n",
    "#            patch.set_hatch('\\\\')\n",
    "#        if b == 3 : \n",
    "#            patch.set_hatch('\\\\')\n",
    "#        if b == 5 : \n",
    "#            patch.set_hatch('\\\\')\n",
    "#        i = i + 1\n",
    "\n",
    "\n",
    "\n",
    "axs.set_ylabel('GWP100 H2')\n",
    "plt.ylim((0,16.5))\n",
    "plt.xticks(rotation = 45)\n",
    "#axs.set_xticks(rotation=25, horizontalalignment=\"center\")\n",
    "\n",
    "axs = plt.subplot(gs[1])\n",
    "x = ['', 'H2 GWP100', ' ']\n",
    "y1 = [0,df_table_gwp_simple['CH4']['Model mean'],0]\n",
    "y2 = [0,df_table_gwp_simple['O3']['Model mean'],0]\n",
    "helpy = [0,df_table_gwp_simple['CH4']['Model mean']+df_table_gwp_simple['O3']['Model mean'],0]\n",
    "y3 = [0,df_table_gwp_simple['strat H2O']['Model mean'],0]\n",
    "print(df_table_gwp_simple.loc['Model mean'])\n",
    "plt.bar(x, y1,color=CH4_color, width = 0.8, edgecolor='black', )\n",
    "plt.bar(x, y2,color=O3_color, bottom = y1, width = 0.8, edgecolor='black')\n",
    "plt.bar(x, y3,color=H2O_color, bottom = helpy, width = 0.8, edgecolor='black')\n",
    "\n",
    "#plt.plot(1,df_table_gwp_best_estimate['Model mean'].loc['Total'],'*')\n",
    "plt.errorbar(1, df_table_gwp_simple.loc['Model mean'].sum(), yerr=sigma, color='black',capsize=4)\n",
    "#df_table_gwp_best_estimate['Model mean'].drop('Total').T.plot.bar(stacked=True,\n",
    "#                        color=[CH4_color,O3_color,  H2O_color],\n",
    "#                        edgecolor='black',\n",
    "#                        ax=axs, legend=False) \n",
    "plt.ylim((0,16.5))\n",
    "plt.tick_params(\n",
    "    axis='x',          # changes apply to the x-axis\n",
    "    which='both',      # both major and minor ticks are affected\n",
    "    bottom=False,      # ticks along the bottom edge are off\n",
    "    top=False,         # ticks along the top edge are off\n",
    "    labelbottom=True) \n",
    "#plt.xlim((0.4,0.6))\n",
    "# Shrink current axis by 20%\n",
    "box = axs.get_position()\n",
    "axs.set_position([box.x0, box.y0, box.width * 0.7, box.height])\n",
    "\n",
    "# Put a legend to the right of the current axis\n",
    "if starplot:\n",
    "    axs.legend(loc='center left', bbox_to_anchor=(1, 0.8),handles = [CH4_legend, O3_legend,  H2O_legend, star])   \n",
    "else:\n",
    "    axs.legend(loc='center left', bbox_to_anchor=(1, 0.8),handles = [CH4_legend, O3_legend,  H2O_legend])  \n",
    "axs.set_title('b) Best estimate',loc='left')\n",
    "plt.xticks(rotation = 45)\n",
    "plt.tight_layout()\n",
    "plt.savefig('output/Hydrogen_GWP.png', transparent=True)\n",
    "\n",
    "#df_table_gwp_best_estimate['Model mean']"
   ]
  },
  {
   "cell_type": "code",
   "execution_count": null,
   "metadata": {},
   "outputs": [],
   "source": []
  }
 ],
 "metadata": {
  "kernelspec": {
   "display_name": "Python 3",
   "language": "python",
   "name": "python3"
  },
  "language_info": {
   "codemirror_mode": {
    "name": "ipython",
    "version": 3
   },
   "file_extension": ".py",
   "mimetype": "text/x-python",
   "name": "python",
   "nbconvert_exporter": "python",
   "pygments_lexer": "ipython3",
   "version": "3.7.13"
  }
 },
 "nbformat": 4,
 "nbformat_minor": 2
}
