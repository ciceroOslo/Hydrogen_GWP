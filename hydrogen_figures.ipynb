{
 "cells": [
  {
   "cell_type": "markdown",
   "metadata": {},
   "source": [
    "# Make GWP figures"
   ]
  },
  {
   "cell_type": "markdown",
   "metadata": {},
   "source": [
    "To run this notebook, the GWP notebook must first be run (for the base case, and adjust drydep to 90 and 50 Tg/y"
   ]
  },
  {
   "cell_type": "code",
   "execution_count": 1,
   "metadata": {},
   "outputs": [],
   "source": [
    "filepath= r\"./output/\""
   ]
  },
  {
   "cell_type": "code",
   "execution_count": 2,
   "metadata": {},
   "outputs": [],
   "source": [
    "import numpy as np\n",
    "import pandas as pd\n",
    "import matplotlib.pyplot as plt\n",
    "import matplotlib as mpl\n",
    "import itertools\n",
    "import matplotlib.patches as mpatches\n",
    "from matplotlib import gridspec\n",
    "pd.set_option('display.float_format', lambda x: '{:,.3f}'.format(x) if abs(x)<0 else ('{:,.2f}'.format(x) if abs(x)<10 else ('{:,.1f}'.format(x) if abs(x)<100 else '{:,.0f}'.format(x))))"
   ]
  },
  {
   "cell_type": "markdown",
   "metadata": {},
   "source": [
    "## Hydrogen GWP\n",
    "We read in and plot the GWP values of hydrogen through changes in methane lifetime, changes in ozone concentration both directly from hydrogen reactions and indirectly from methane changes, and changes in stratospheric water vapour, also both from direct production from hydrogen and induced via changes in methane concentrations. Bar plots show how the various contributions contribute to the total GWP value in each of the models."
   ]
  },
  {
   "cell_type": "code",
   "execution_count": 3,
   "metadata": {},
   "outputs": [],
   "source": [
    "tittel = 'H2 GWP'\n",
    "ytittel ='GWP'\n",
    "\n",
    "default_size = 18\n",
    "plt.rc('font', size=default_size)\n",
    "plt.rc('axes', titlesize=default_size)     # fontsize of the axes title\n",
    "plt.rc('axes', labelsize=default_size)    # fontsize of the x and y labels\n",
    "plt.rc('xtick', labelsize=default_size)    # fontsize of the tick labels\n",
    "plt.rc('ytick', labelsize=default_size)    # fontsize of the tick labels\n",
    "plt.rc('legend', fontsize=16)    # legend fontsize\n",
    "plt.rc('figure', titlesize=default_size)\n",
    "\n",
    "#Defining some colors:\n",
    "CH4_color = \"lightseagreen\"\n",
    "O3_color = \"gold\"\n",
    "H2O_color = \"darkviolet\"\n",
    "H2_color = 'lightblue'\n",
    "aerosol_color = 'brown'\n",
    "\n",
    "#Defining some legend looks:\n",
    "CH4_legend = mpatches.Patch( facecolor=CH4_color,label='CH4')\n",
    "O3_dir_legend= mpatches.Patch( facecolor=O3_color, label='O3')\n",
    "O3_ind_legend= mpatches.Patch( facecolor=O3_color, hatch='\\\\\\\\', label='O3 CH4ind')\n",
    "H2O_dir_legend= mpatches.Patch( facecolor=H2O_color, label='strat H2O')\n",
    "H2O_ind_legend= mpatches.Patch( facecolor=H2O_color, hatch='\\\\\\\\', label='strat H2O CH4ind')\n",
    "\n",
    "\n",
    "model_dict = { 'GFDL_nudge':'GFDL',\n",
    "               'OSLOCTM3':'OsloCTM',\n",
    "               'INCA':'INCA',\n",
    "               'UKCA':'UKCA',\n",
    "               'WACCM6-2deg':'WACCM',\n",
    "               'GFDL-emi':'GFDL-emi',\n",
    "               'OSLOCTM3-emi':'OsloCTM-emi'\n",
    "             }\n",
    "\n",
    "sorted_array = ['GFDL','OsloCTM','INCA','UKCA','WACCM','GFDL-emi','OsloCTM-emi']"
   ]
  },
  {
   "cell_type": "code",
   "execution_count": 4,
   "metadata": {},
   "outputs": [],
   "source": [
    "df_drydep_max_table_gwp = pd.read_csv(filepath+'drydep_90_table_h2_gwp.csv',index_col=0)\n",
    "df_drydep_max_table_gwp.rename(columns=model_dict, inplace=True)\n",
    "df_drydep_min_table_gwp = pd.read_csv(filepath+'drydep_50_table_h2_gwp.csv',index_col=0)\n",
    "df_drydep_min_table_gwp.rename(columns=model_dict, inplace=True)\n",
    "df_table_gwp = pd.read_csv(filepath+'table_h2_gwp.csv',index_col=0)\n",
    "df_table_gwp.rename(columns=model_dict, inplace=True)"
   ]
  },
  {
   "cell_type": "code",
   "execution_count": 5,
   "metadata": {},
   "outputs": [
    {
     "data": {
      "text/plain": [
       "0\n",
       "GFDL-emi       nan\n",
       "GFDL          0.18\n",
       "INCA          0.17\n",
       "OsloCTM       0.24\n",
       "OsloCTM-emi    nan\n",
       "UKCA          0.24\n",
       "WACCM         0.28\n",
       "Name: 1, dtype: float64"
      ]
     },
     "execution_count": 5,
     "metadata": {},
     "output_type": "execute_result"
    }
   ],
   "source": [
    "df_feedback_factor = pd.read_csv(filepath+'feedback_factor_ch4.csv',index_col=0,header=None)\n",
    "#Making modellist with shorter names\n",
    "df_feedback_factor.rename(model_dict, inplace=True)\n",
    "feedback_factor = df_feedback_factor[1]\n",
    "feedback_frac = 1.0 - (1.0/feedback_factor)\n",
    "feedback_frac"
   ]
  },
  {
   "cell_type": "code",
   "execution_count": 6,
   "metadata": {
    "scrolled": true
   },
   "outputs": [
    {
     "data": {
      "text/html": [
       "<div>\n",
       "<style scoped>\n",
       "    .dataframe tbody tr th:only-of-type {\n",
       "        vertical-align: middle;\n",
       "    }\n",
       "\n",
       "    .dataframe tbody tr th {\n",
       "        vertical-align: top;\n",
       "    }\n",
       "\n",
       "    .dataframe thead th {\n",
       "        text-align: right;\n",
       "    }\n",
       "</style>\n",
       "<table border=\"1\" class=\"dataframe\">\n",
       "  <thead>\n",
       "    <tr style=\"text-align: right;\">\n",
       "      <th></th>\n",
       "      <th>CH4dir</th>\n",
       "      <th>CH4indir</th>\n",
       "      <th>O3</th>\n",
       "      <th>O3 CH4ind</th>\n",
       "      <th>strat H2O</th>\n",
       "      <th>strat H2O CH4ind</th>\n",
       "      <th>aerosol</th>\n",
       "      <th>aerosol CH4ind</th>\n",
       "    </tr>\n",
       "  </thead>\n",
       "  <tbody>\n",
       "    <tr>\n",
       "      <th>GFDL</th>\n",
       "      <td>4.44</td>\n",
       "      <td>0.96</td>\n",
       "      <td>2.34</td>\n",
       "      <td>2.24</td>\n",
       "      <td>1.80</td>\n",
       "      <td>1.34</td>\n",
       "      <td>-2.49</td>\n",
       "      <td>-0.76</td>\n",
       "    </tr>\n",
       "    <tr>\n",
       "      <th>OsloCTM</th>\n",
       "      <td>4.09</td>\n",
       "      <td>1.26</td>\n",
       "      <td>2.44</td>\n",
       "      <td>2.73</td>\n",
       "      <td>1.94</td>\n",
       "      <td>0.67</td>\n",
       "      <td>-0.37</td>\n",
       "      <td>-0.07</td>\n",
       "    </tr>\n",
       "    <tr>\n",
       "      <th>INCA</th>\n",
       "      <td>4.45</td>\n",
       "      <td>0.89</td>\n",
       "      <td>1.64</td>\n",
       "      <td>1.47</td>\n",
       "      <td>1.27</td>\n",
       "      <td>0.44</td>\n",
       "      <td>nan</td>\n",
       "      <td>nan</td>\n",
       "    </tr>\n",
       "    <tr>\n",
       "      <th>UKCA</th>\n",
       "      <td>3.31</td>\n",
       "      <td>1.03</td>\n",
       "      <td>1.21</td>\n",
       "      <td>1.40</td>\n",
       "      <td>nan</td>\n",
       "      <td>nan</td>\n",
       "      <td>nan</td>\n",
       "      <td>nan</td>\n",
       "    </tr>\n",
       "    <tr>\n",
       "      <th>WACCM</th>\n",
       "      <td>4.05</td>\n",
       "      <td>1.59</td>\n",
       "      <td>1.97</td>\n",
       "      <td>3.00</td>\n",
       "      <td>0.58</td>\n",
       "      <td>0.27</td>\n",
       "      <td>nan</td>\n",
       "      <td>nan</td>\n",
       "    </tr>\n",
       "    <tr>\n",
       "      <th>GFDL-emi</th>\n",
       "      <td>4.96</td>\n",
       "      <td>nan</td>\n",
       "      <td>4.08</td>\n",
       "      <td>nan</td>\n",
       "      <td>2.94</td>\n",
       "      <td>nan</td>\n",
       "      <td>-2.31</td>\n",
       "      <td>nan</td>\n",
       "    </tr>\n",
       "    <tr>\n",
       "      <th>OsloCTM-emi</th>\n",
       "      <td>5.47</td>\n",
       "      <td>nan</td>\n",
       "      <td>2.49</td>\n",
       "      <td>2.80</td>\n",
       "      <td>1.08</td>\n",
       "      <td>0.69</td>\n",
       "      <td>-0.32</td>\n",
       "      <td>nan</td>\n",
       "    </tr>\n",
       "  </tbody>\n",
       "</table>\n",
       "</div>"
      ],
      "text/plain": [
       "             CH4dir  CH4indir   O3  O3 CH4ind  strat H2O  strat H2O CH4ind  \\\n",
       "GFDL           4.44      0.96 2.34       2.24       1.80              1.34   \n",
       "OsloCTM        4.09      1.26 2.44       2.73       1.94              0.67   \n",
       "INCA           4.45      0.89 1.64       1.47       1.27              0.44   \n",
       "UKCA           3.31      1.03 1.21       1.40        nan               nan   \n",
       "WACCM          4.05      1.59 1.97       3.00       0.58              0.27   \n",
       "GFDL-emi       4.96       nan 4.08        nan       2.94               nan   \n",
       "OsloCTM-emi    5.47       nan 2.49       2.80       1.08              0.69   \n",
       "\n",
       "             aerosol  aerosol CH4ind  \n",
       "GFDL           -2.49           -0.76  \n",
       "OsloCTM        -0.37           -0.07  \n",
       "INCA             nan             nan  \n",
       "UKCA             nan             nan  \n",
       "WACCM            nan             nan  \n",
       "GFDL-emi       -2.31             nan  \n",
       "OsloCTM-emi    -0.32             nan  "
      ]
     },
     "execution_count": 6,
     "metadata": {},
     "output_type": "execute_result"
    }
   ],
   "source": [
    "total_drydep_max = df_drydep_max_table_gwp.sum()\n",
    "\n",
    "total_drydep_min = df_drydep_min_table_gwp.sum()\n",
    "\n",
    "#Sort indexes\n",
    "df_table_gwp = df_table_gwp.reindex(['CH4dir','CH4indir', 'O3', 'O3 CH4ind', 'strat H2O', 'strat H2O CH4ind','aerosol','aerosol CH4ind'])\n",
    "\n",
    "#Sort models alfabetically\n",
    "#df_table_gwp = df_table_gwp[sorted(df_table_gwp.columns)]\n",
    "df_table_gwp = df_table_gwp[sorted_array]\n",
    "df_table_gwp.T"
   ]
  },
  {
   "cell_type": "code",
   "execution_count": 7,
   "metadata": {},
   "outputs": [
    {
     "data": {
      "text/html": [
       "<div>\n",
       "<style scoped>\n",
       "    .dataframe tbody tr th:only-of-type {\n",
       "        vertical-align: middle;\n",
       "    }\n",
       "\n",
       "    .dataframe tbody tr th {\n",
       "        vertical-align: top;\n",
       "    }\n",
       "\n",
       "    .dataframe thead th {\n",
       "        text-align: right;\n",
       "    }\n",
       "</style>\n",
       "<table border=\"1\" class=\"dataframe\">\n",
       "  <thead>\n",
       "    <tr style=\"text-align: right;\">\n",
       "      <th></th>\n",
       "      <th>GFDL</th>\n",
       "      <th>OsloCTM</th>\n",
       "      <th>INCA</th>\n",
       "      <th>UKCA</th>\n",
       "      <th>WACCM</th>\n",
       "      <th>GFDL-emi</th>\n",
       "      <th>OsloCTM-emi</th>\n",
       "      <th>Model mean</th>\n",
       "    </tr>\n",
       "  </thead>\n",
       "  <tbody>\n",
       "    <tr>\n",
       "      <th>O3</th>\n",
       "      <td>4.58</td>\n",
       "      <td>5.17</td>\n",
       "      <td>3.11</td>\n",
       "      <td>2.60</td>\n",
       "      <td>4.97</td>\n",
       "      <td>4.08</td>\n",
       "      <td>5.28</td>\n",
       "      <td>4.26</td>\n",
       "    </tr>\n",
       "    <tr>\n",
       "      <th>strat H2O</th>\n",
       "      <td>3.14</td>\n",
       "      <td>2.61</td>\n",
       "      <td>1.72</td>\n",
       "      <td>nan</td>\n",
       "      <td>0.84</td>\n",
       "      <td>2.94</td>\n",
       "      <td>1.77</td>\n",
       "      <td>2.17</td>\n",
       "    </tr>\n",
       "    <tr>\n",
       "      <th>aerosol</th>\n",
       "      <td>-2.49</td>\n",
       "      <td>-0.37</td>\n",
       "      <td>nan</td>\n",
       "      <td>nan</td>\n",
       "      <td>nan</td>\n",
       "      <td>-2.31</td>\n",
       "      <td>-0.32</td>\n",
       "      <td>-1.37</td>\n",
       "    </tr>\n",
       "    <tr>\n",
       "      <th>aerosol CH4ind</th>\n",
       "      <td>-0.76</td>\n",
       "      <td>-0.07</td>\n",
       "      <td>nan</td>\n",
       "      <td>nan</td>\n",
       "      <td>nan</td>\n",
       "      <td>nan</td>\n",
       "      <td>nan</td>\n",
       "      <td>-0.42</td>\n",
       "    </tr>\n",
       "    <tr>\n",
       "      <th>CH4</th>\n",
       "      <td>5.40</td>\n",
       "      <td>5.35</td>\n",
       "      <td>5.34</td>\n",
       "      <td>4.35</td>\n",
       "      <td>5.64</td>\n",
       "      <td>4.96</td>\n",
       "      <td>5.47</td>\n",
       "      <td>5.22</td>\n",
       "    </tr>\n",
       "  </tbody>\n",
       "</table>\n",
       "</div>"
      ],
      "text/plain": [
       "                GFDL  OsloCTM  INCA  UKCA  WACCM  GFDL-emi  OsloCTM-emi  \\\n",
       "O3              4.58     5.17  3.11  2.60   4.97      4.08         5.28   \n",
       "strat H2O       3.14     2.61  1.72   nan   0.84      2.94         1.77   \n",
       "aerosol        -2.49    -0.37   nan   nan    nan     -2.31        -0.32   \n",
       "aerosol CH4ind -0.76    -0.07   nan   nan    nan       nan          nan   \n",
       "CH4             5.40     5.35  5.34  4.35   5.64      4.96         5.47   \n",
       "\n",
       "                Model mean  \n",
       "O3                    4.26  \n",
       "strat H2O             2.17  \n",
       "aerosol              -1.37  \n",
       "aerosol CH4ind       -0.42  \n",
       "CH4                   5.22  "
      ]
     },
     "execution_count": 7,
     "metadata": {},
     "output_type": "execute_result"
    }
   ],
   "source": [
    "#model mean\n",
    "df_table_gwp_model_mean = df_table_gwp.fillna(0.0)\n",
    "df_table_gwp_model_mean.loc['CH4'] = df_table_gwp_model_mean.loc['CH4dir']+df_table_gwp_model_mean.loc['CH4indir']\n",
    "df_table_gwp_model_mean.loc['strat H2O'] = df_table_gwp_model_mean.loc['strat H2O']+df_table_gwp_model_mean.loc['strat H2O CH4ind']\n",
    "df_table_gwp_model_mean.loc['O3'] = df_table_gwp_model_mean.loc['O3 CH4ind']+df_table_gwp_model_mean.loc['O3']\n",
    "df_table_gwp_model_mean = df_table_gwp_model_mean.drop(['CH4dir','CH4indir','strat H2O CH4ind','O3 CH4ind'])\n",
    "df_table_gwp_model_mean.loc['Total'] = df_table_gwp_model_mean.sum()\n",
    "df_table_gwp_model_mean.replace(0, np.nan, inplace=True)\n",
    "df_table_gwp_model_mean['Model mean'] = df_table_gwp_model_mean.mean(axis=1)\n",
    "\n",
    "df_gwp_model_mean = df_table_gwp_model_mean.drop('Total')\n",
    "df_table_gwp_model_mean\n",
    "df_gwp_model_mean"
   ]
  },
  {
   "cell_type": "code",
   "execution_count": 8,
   "metadata": {
    "scrolled": true
   },
   "outputs": [
    {
     "name": "stdout",
     "output_type": "stream",
     "text": [
      "O3                4.26\n",
      "strat H2O         2.17\n",
      "aerosol          -1.37\n",
      "aerosol CH4ind   -0.42\n",
      "CH4               5.22\n",
      "Name: Model mean, dtype: float64\n"
     ]
    },
    {
     "data": {
      "image/png": "[encoded data removed]",
      "text/plain": [
       "<Figure size 1080x576 with 2 Axes>"
      ]
     },
     "metadata": {
      "needs_background": "light"
     },
     "output_type": "display_data"
    }
   ],
   "source": [
    "fig, axs = plt.subplots(nrows=1,ncols=1,squeeze=True,figsize=(15,8),sharey=True)\n",
    "\n",
    "gs = gridspec.GridSpec(1, 2, width_ratios=[4, 1]) \n",
    "axs = plt.subplot(gs[0])\n",
    "\n",
    "df_table_gwp.T.plot.bar(stacked=True,\n",
    "                        color=[CH4_color, CH4_color,O3_color, O3_color, H2O_color, H2O_color,aerosol_color,aerosol_color],\n",
    "                        edgecolor='black',\n",
    "                        ax=axs, \n",
    "                        legend = False) \n",
    "\"\"\"\n",
    "for m,model in enumerate(df_table_gwp.columns):\n",
    "    axs.plot(m,total_drydep_max.loc[model],marker='^',color='black')\n",
    "    axs.plot(m,total_drydep_min.loc[model],marker='v',color='black')\n",
    "    axs.plot([m,m],[total_drydep_min.loc[model],total_drydep_max.loc[model]],color='black')\n",
    "\"\"\"\n",
    "axs.axvspan(4.5, 7, alpha=0.5, color='lightgray',zorder=-10)\n",
    "axs.set_title('a) Individual Models',loc='left')\n",
    "bars = [thing for thing in axs.containers if isinstance(thing,mpl.container.BarContainer)]\n",
    "i = 0\n",
    "\n",
    "for b,bar in enumerate(bars):    \n",
    "    for p,patch in enumerate(bar):\n",
    "        if b == 1 : \n",
    "            patch.set_hatch('\\\\')\n",
    "        if b == 3 : \n",
    "            patch.set_hatch('\\\\')\n",
    "        if b == 5 : \n",
    "            patch.set_hatch('\\\\')\n",
    "        if b == 7 : \n",
    "            patch.set_hatch('\\\\')\n",
    "        i = i + 1\n",
    "\n",
    "\n",
    "\n",
    "axs.set_ylabel('GWP100 H2')\n",
    "plt.ylim((-4,13.5))\n",
    "plt.axhline(y=0,color='black')\n",
    "plt.xticks(rotation = 45)\n",
    "#axs.set_xticks(rotation=25, horizontalalignment=\"center\")\n",
    "\n",
    "axs = plt.subplot(gs[1])\n",
    "x = ['', 'Model mean', ' ']\n",
    "y1 = [0,df_gwp_model_mean['Model mean']['CH4'],0]\n",
    "y2 = [0,df_gwp_model_mean['Model mean']['O3'],0]\n",
    "helpy = [0,df_gwp_model_mean['Model mean']['CH4']+df_gwp_model_mean['Model mean']['O3'],0]\n",
    "y3 = [0,df_gwp_model_mean['Model mean']['strat H2O'],0]\n",
    "print(df_gwp_model_mean['Model mean'])\n",
    "plt.bar(x, y1,color=CH4_color, width = 0.8, edgecolor='black', )\n",
    "plt.bar(x, y2,color=O3_color, bottom = y1, width = 0.8, edgecolor='black')\n",
    "plt.bar(x, y3,color=H2O_color, bottom = helpy, width = 0.8, edgecolor='black')\n",
    "#df_gwp_model_mean['Model mean'].plot.bar(stacked=True,\n",
    "#                        color=[CH4_color,O3_color,  H2O_color],\n",
    "#                        edgecolor='black',\n",
    "#                        ax=axs, legend=False) \n",
    "plt.ylim((-4,13.5))\n",
    "plt.axhline(y=0,color='black')\n",
    "plt.tick_params(\n",
    "    axis='x',          # changes apply to the x-axis\n",
    "    which='both',      # both major and minor ticks are affected\n",
    "    bottom=False,      # ticks along the bottom edge are off\n",
    "    top=False,         # ticks along the top edge are off\n",
    "    labelbottom=True) \n",
    "#plt.xlim((0.4,0.6))\n",
    "# Shrink current axis by 20%\n",
    "box = axs.get_position()\n",
    "axs.set_position([box.x0, box.y0, box.width * 0.7, box.height])\n",
    "\n",
    "# Put a legend to the right of the current axis\n",
    "axs.legend(loc='center left', bbox_to_anchor=(1, 0.8),handles = [CH4_legend, O3_dir_legend, O3_ind_legend, H2O_dir_legend, H2O_ind_legend])   \n",
    "axs.set_title('b) Model mean',loc='left')\n",
    "plt.xticks(rotation = 45)\n",
    "plt.axhline(y=0,color='black')\n",
    "plt.tight_layout()\n",
    "plt.savefig('output/Hydrogen_GWP.png', transparent=True)"
   ]
  },
  {
   "cell_type": "markdown",
   "metadata": {},
   "source": [
    "## Methane GWP\n",
    "The same exercise is repeated for methane GWP, including also feedbacks through hydrogen. Here we include the AR6 values for methane GWP for comparison."
   ]
  },
  {
   "cell_type": "code",
   "execution_count": 9,
   "metadata": {},
   "outputs": [],
   "source": [
    "df_drydep_max_table_gwp = pd.read_csv(filepath+'drydep_90_table_ch4_gwp.csv',index_col=0)\n",
    "df_drydep_max_table_gwp.rename(columns=model_dict, inplace=True)\n",
    "df_drydep_min_table_gwp = pd.read_csv(filepath+'drydep_50_table_ch4_gwp.csv',index_col=0)\n",
    "df_drydep_min_table_gwp.rename(columns=model_dict, inplace=True)\n",
    "df_table_gwp = pd.read_csv(filepath+'table_ch4_gwp.csv',index_col=0)\n",
    "df_table_gwp.rename(columns=model_dict, inplace=True)\n",
    "\n",
    "total_drydep_max = df_drydep_max_table_gwp.sum()\n",
    "\n",
    "total_drydep_min = df_drydep_min_table_gwp.sum()\n"
   ]
  },
  {
   "cell_type": "code",
   "execution_count": 10,
   "metadata": {},
   "outputs": [
    {
     "data": {
      "image/png": "[encoded data removed]",
      "text/plain": [
       "<Figure size 720x576 with 1 Axes>"
      ]
     },
     "metadata": {
      "needs_background": "light"
     },
     "output_type": "display_data"
    }
   ],
   "source": [
    "df_table_gwp = df_table_gwp.drop(['OsloCTM-emi','GFDL-emi'],axis=1)\n",
    "\n",
    "fig, axs = plt.subplots(nrows=1,ncols=1,squeeze=True,figsize=(10,8))\n",
    "df_table_gwp.T.plot.bar(stacked=True,\n",
    "                        color=[O3_color, CH4_color, H2O_color, H2_color,aerosol_color],\n",
    "                        #color={\"O3\": 'C1', \"CH4\": 'C2',\"strat H2O\":'C4',\"H2\":'C5'},\n",
    "                        edgecolor='black',ax=axs) \n",
    "#It is the non-fossil GWP that is relevant to compare to.\n",
    "#axs.plot([4.8,4.8],[29.8-11 ,29.8+11 ],color='black')\n",
    "#axs.text(4.4,29.8,'GWP100 \\nAR6 fossil')\n",
    "axs.plot([4.8,4.8],[27.0-11 ,27.0+11 ],color='gray')\n",
    "axs.plot(4.8,27.0,'o',markersize=10,color='gray')\n",
    "axs.text(5.1,27.0,'GWP100 \\nAR6 non-fossil')\n",
    "plt.axhline(y=0,color='black',zorder=-10)\n",
    "plt.xlim([-1,6])\n",
    "plt.ylabel('GWP100 CH4')\n",
    "plt.xticks(rotation=25, horizontalalignment=\"center\")\n",
    "plt.tight_layout()    \n",
    "plt.savefig('output/CH4_GWP.png', transparent=True)"
   ]
  },
  {
   "cell_type": "code",
   "execution_count": null,
   "metadata": {},
   "outputs": [],
   "source": []
  },
  {
   "cell_type": "code",
   "execution_count": null,
   "metadata": {},
   "outputs": [],
   "source": []
  }
 ],
 "metadata": {
  "kernelspec": {
   "display_name": "Python 3",
   "language": "python",
   "name": "python3"
  },
  "language_info": {
   "codemirror_mode": {
    "name": "ipython",
    "version": 3
   },
   "file_extension": ".py",
   "mimetype": "text/x-python",
   "name": "python",
   "nbconvert_exporter": "python",
   "pygments_lexer": "ipython3",
   "version": "3.7.0"
  }
 },
 "nbformat": 4,
 "nbformat_minor": 2
}
