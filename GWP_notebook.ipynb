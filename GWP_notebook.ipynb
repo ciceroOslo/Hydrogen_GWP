{
 "cells": [
  {
   "cell_type": "markdown",
   "metadata": {},
   "source": [
    "# Calculate GWP and create tables"
   ]
  },
  {
   "cell_type": "markdown",
   "metadata": {},
   "source": [
    "The script calculates the GWP of hydrogen and methane.\n",
    "\n",
    "**Simulations**:\n",
    "- **CTRL**: fixed surface concentration of hydrogen and methane\n",
    "- **10H2**: as CTRL, but with surface H2 increased by 10%. Run to steady state.\n",
    "- **10CH4**: as CTRL, but with surface CH4 increased by 10%. Run to steady state.\n",
    "\n",
    "\n",
    "AGWP (as defined as the integral over the radiative forcing of a pulse for a given time horizon, e.g. 100 years) is equal to the steady-state radiative forcing (W m-2) divided by the emissions (Tg-H2 yr-1). Based on the three set of simulations, we calculate the radiative forcing in the perturbed relative to the control. As the models run with fixed surface concentration of methane, we need to have a separate perturbed methane run. \n",
    "\n",
    "We calculate the radiative forcing per Tg-CH4 (including the feedbacks) for the methane perturbed run, and map the changes in the methane loss in the hydrogen perturbation with the results from the methane perturbed run. "
   ]
  },
  {
   "cell_type": "code",
   "execution_count": 1,
   "metadata": {},
   "outputs": [
    {
     "data": {
      "text/html": [
       "<style>\n",
       "table {float:left}\n",
       "</style>"
      ],
      "text/plain": [
       "<IPython.core.display.HTML object>"
      ]
     },
     "metadata": {},
     "output_type": "display_data"
    }
   ],
   "source": [
    "%%html\n",
    "<style>\n",
    "table {float:left}\n",
    "</style>"
   ]
  },
  {
   "cell_type": "markdown",
   "metadata": {},
   "source": [
    "\n",
    "| Models   | Simulations length | Average period |\n",
    "|  :---    | :----              | :---           |\n",
    "| OsloCTM3 | 20 years           |   year 20      |\n",
    "| WACCM6   | 18 years           | last 5 years   |\n",
    "| INCA     | 10 years           | last 3 years   |\n",
    "| GFDL*    | 50 years           | last 30 years  | \n",
    "\n",
    "\n",
    "\n"
   ]
  },
  {
   "cell_type": "markdown",
   "metadata": {},
   "source": [
    "*GFDL simulations from Paulot et al. (2021) with H2 emissions (200 Tg/yr).*\n",
    "Monthly mean data.\n",
    "\n",
    "#### OUTLINE:\n",
    "**PART I: Read model results**\n",
    "\n",
    "1. Hydrogen budget\n",
    "    1. H2 burden\n",
    "    2. H2 loss\n",
    "    3. H2 production\n",
    "    4. Estimated H2 emissions\n",
    "    5. H2 surface concentrations\n",
    "    6. H2 lifetime\n",
    "    7. H2 flux\n",
    "2. Methane budget\n",
    "    1. CH4 burden\n",
    "    2. CH4 atmospheric loss\n",
    "    3. CH4 surface concentrations\n",
    "    4. CH4 lifetime\n",
    "    5. CH4 flux\n",
    "3. Ozone\n",
    "    1. Change in troposheric ozone\n",
    "    2. Change in stratosheric ozone\n",
    "    3.  \n",
    "    4. \n",
    "    5. Ozone radiative forcing\n",
    "4. Stratospheric water wapor\n",
    "\n",
    "**PART II: GWP calculations**\n",
    "\n",
    "\n",
    "**PART III: Main results and tabels**\n",
    "\n",
    "**Appendix with additional results**"
   ]
  },
  {
   "cell_type": "code",
   "execution_count": 2,
   "metadata": {},
   "outputs": [],
   "source": [
    "import numpy as np\n",
    "import pandas as pd\n",
    "pd.set_option('display.float_format', lambda x: '{:,.4f}'.format(x) if abs(x)<0 else ('{:,.2f}'.format(x) if abs(x)<10 else ('{:,.1f}'.format(x) if abs(x)<100 else '{:,.0f}'.format(x))))"
   ]
  },
  {
   "cell_type": "markdown",
   "metadata": {},
   "source": [
    "Input and output path:"
   ]
  },
  {
   "cell_type": "code",
   "execution_count": 3,
   "metadata": {},
   "outputs": [],
   "source": [
    "path = r\"./input/\"\n",
    "outputpath= r\"./output/\""
   ]
  },
  {
   "cell_type": "markdown",
   "metadata": {},
   "source": [
    "Constants:"
   ]
  },
  {
   "cell_type": "code",
   "execution_count": 4,
   "metadata": {},
   "outputs": [],
   "source": [
    "#AGWP100_CO2 [mW yr m-2 Tg-1] Source: Table 7.SM.6 in IPCC AR6: 0.0895 pW m-2 yr kg-1 (p=10^-12) \n",
    "#agwp100_CO2 = 0.09170  AR5 value.\n",
    "agwp100_CO2 = 0.0895\n",
    "##agwp100_CO2 = 0.0243 #AGWP_20 make separate notebook\n",
    "##agwp100_CO2 = 0.314 #AGWP_500 make separate notebook\n",
    "\n",
    "\n",
    "#CH4 tau_strat[yr] Source: REF\n",
    "tau_strat = 120.0\n",
    "\n",
    "#CH4 tau_soil [yr] Source: REF\n",
    "tau_soil = 160.0\n",
    "\n",
    "#Specific RF for CH4 [mW m-2 ppb-1] Etminan et al., 2016\n",
    "spec_rf_ch4 = 0.44300"
   ]
  },
  {
   "cell_type": "markdown",
   "metadata": {},
   "source": [
    "**Dry deposition adjustments** As there is large uncertanty in dry deposition, we set the dry deposition values in the control run to a high and a low value based on literature (90 and 50 Tg/yr). This will result in a range of GWP values. Adjust the perturbations with the same relative factors as in the control. "
   ]
  },
  {
   "cell_type": "code",
   "execution_count": 5,
   "metadata": {},
   "outputs": [],
   "source": [
    "adjust_drydep = False\n",
    "if(adjust_drydep):\n",
    "    drydep = 90.0\n",
    "    outputpath = outputpath + 'drydep_'+ f'{drydep:.0f}_'"
   ]
  },
  {
   "cell_type": "markdown",
   "metadata": {},
   "source": []
  },
  {
   "cell_type": "markdown",
   "metadata": {},
   "source": [
    "# Part I: Read model results"
   ]
  },
  {
   "cell_type": "markdown",
   "metadata": {},
   "source": [
    "In this part, model results are read from the input files."
   ]
  },
  {
   "cell_type": "markdown",
   "metadata": {},
   "source": [
    "## 1. Hydrogen budget"
   ]
  },
  {
   "cell_type": "markdown",
   "metadata": {},
   "source": [
    "### 1.1 H2 burden [Tg]:"
   ]
  },
  {
   "cell_type": "code",
   "execution_count": 6,
   "metadata": {},
   "outputs": [
    {
     "data": {
      "text/html": [
       "<div>\n",
       "<style scoped>\n",
       "    .dataframe tbody tr th:only-of-type {\n",
       "        vertical-align: middle;\n",
       "    }\n",
       "\n",
       "    .dataframe tbody tr th {\n",
       "        vertical-align: top;\n",
       "    }\n",
       "\n",
       "    .dataframe thead th {\n",
       "        text-align: right;\n",
       "    }\n",
       "</style>\n",
       "<table border=\"1\" class=\"dataframe\">\n",
       "  <thead>\n",
       "    <tr style=\"text-align: right;\">\n",
       "      <th></th>\n",
       "      <th>OSLOCTM3</th>\n",
       "      <th>WACCM6-2deg</th>\n",
       "      <th>INCA</th>\n",
       "      <th>GFDL-emi</th>\n",
       "      <th>OSLOCTM3-emi</th>\n",
       "      <th>UKCA</th>\n",
       "      <th>GFDL_nudge</th>\n",
       "    </tr>\n",
       "    <tr>\n",
       "      <th>Scenario</th>\n",
       "      <th></th>\n",
       "      <th></th>\n",
       "      <th></th>\n",
       "      <th></th>\n",
       "      <th></th>\n",
       "      <th></th>\n",
       "      <th></th>\n",
       "    </tr>\n",
       "  </thead>\n",
       "  <tbody>\n",
       "    <tr>\n",
       "      <th>CTRL</th>\n",
       "      <td>196</td>\n",
       "      <td>195</td>\n",
       "      <td>195</td>\n",
       "      <td>192</td>\n",
       "      <td>209</td>\n",
       "      <td>191</td>\n",
       "      <td>188</td>\n",
       "    </tr>\n",
       "    <tr>\n",
       "      <th>10H2</th>\n",
       "      <td>215</td>\n",
       "      <td>213</td>\n",
       "      <td>213</td>\n",
       "      <td>659</td>\n",
       "      <td>240</td>\n",
       "      <td>210</td>\n",
       "      <td>261</td>\n",
       "    </tr>\n",
       "    <tr>\n",
       "      <th>10CH4</th>\n",
       "      <td>197</td>\n",
       "      <td>195</td>\n",
       "      <td>195</td>\n",
       "      <td>nan</td>\n",
       "      <td>nan</td>\n",
       "      <td>192</td>\n",
       "      <td>188</td>\n",
       "    </tr>\n",
       "    <tr>\n",
       "      <th>deltaH2</th>\n",
       "      <td>18.7</td>\n",
       "      <td>18.7</td>\n",
       "      <td>18.7</td>\n",
       "      <td>467</td>\n",
       "      <td>31.1</td>\n",
       "      <td>19.1</td>\n",
       "      <td>73.0</td>\n",
       "    </tr>\n",
       "  </tbody>\n",
       "</table>\n",
       "</div>"
      ],
      "text/plain": [
       "          OSLOCTM3  WACCM6-2deg  INCA  GFDL-emi  OSLOCTM3-emi  UKCA  \\\n",
       "Scenario                                                              \n",
       "CTRL           196          195   195       192           209   191   \n",
       "10H2           215          213   213       659           240   210   \n",
       "10CH4          197          195   195       nan           nan   192   \n",
       "deltaH2       18.7         18.7  18.7       467          31.1  19.1   \n",
       "\n",
       "          GFDL_nudge  \n",
       "Scenario              \n",
       "CTRL             188  \n",
       "10H2             261  \n",
       "10CH4            188  \n",
       "deltaH2         73.0  "
      ]
     },
     "execution_count": 6,
     "metadata": {},
     "output_type": "execute_result"
    }
   ],
   "source": [
    "file = 'H2_burden.txt'\n",
    "df_h2_burden = pd.read_csv(path + file, sep=';',index_col=0,header=0)\n",
    "delta = df_h2_burden.loc['10H2']-df_h2_burden.loc['CTRL']\n",
    "delta.name = 'deltaH2'\n",
    "df_h2_burden = df_h2_burden.append(delta)\n",
    "df_h2_burden"
   ]
  },
  {
   "cell_type": "markdown",
   "metadata": {},
   "source": [
    "### 1.2. H2 loss\n",
    "Hydrogen loss happens through two main processes. The largest loss is through dry deposition at the ground. Remaining hydrogen is lost through reactions with OH as it ascends through the atmosphere. "
   ]
  },
  {
   "cell_type": "markdown",
   "metadata": {},
   "source": [
    "#### H2 dry deposition [Tg/yr]"
   ]
  },
  {
   "cell_type": "markdown",
   "metadata": {},
   "source": [
    "The models diagnose drydeposition based on their own schemes, but this is not used directly in the concentration driven runs, as the surface concentrations are fixed."
   ]
  },
  {
   "cell_type": "code",
   "execution_count": 7,
   "metadata": {},
   "outputs": [
    {
     "data": {
      "text/html": [
       "<div>\n",
       "<style scoped>\n",
       "    .dataframe tbody tr th:only-of-type {\n",
       "        vertical-align: middle;\n",
       "    }\n",
       "\n",
       "    .dataframe tbody tr th {\n",
       "        vertical-align: top;\n",
       "    }\n",
       "\n",
       "    .dataframe thead th {\n",
       "        text-align: right;\n",
       "    }\n",
       "</style>\n",
       "<table border=\"1\" class=\"dataframe\">\n",
       "  <thead>\n",
       "    <tr style=\"text-align: right;\">\n",
       "      <th></th>\n",
       "      <th>OSLOCTM3</th>\n",
       "      <th>WACCM6-2deg</th>\n",
       "      <th>INCA</th>\n",
       "      <th>GFDL-emi</th>\n",
       "      <th>OSLOCTM3-emi</th>\n",
       "      <th>UKCA</th>\n",
       "      <th>GFDL_nudge</th>\n",
       "    </tr>\n",
       "    <tr>\n",
       "      <th>Scenario</th>\n",
       "      <th></th>\n",
       "      <th></th>\n",
       "      <th></th>\n",
       "      <th></th>\n",
       "      <th></th>\n",
       "      <th></th>\n",
       "      <th></th>\n",
       "    </tr>\n",
       "  </thead>\n",
       "  <tbody>\n",
       "    <tr>\n",
       "      <th>CTRL</th>\n",
       "      <td>59.5</td>\n",
       "      <td>73.0</td>\n",
       "      <td>52.0</td>\n",
       "      <td>54.6</td>\n",
       "      <td>58.4</td>\n",
       "      <td>88.7</td>\n",
       "      <td>56.6</td>\n",
       "    </tr>\n",
       "    <tr>\n",
       "      <th>10H2</th>\n",
       "      <td>65.5</td>\n",
       "      <td>80.3</td>\n",
       "      <td>57.1</td>\n",
       "      <td>204</td>\n",
       "      <td>67.8</td>\n",
       "      <td>97.5</td>\n",
       "      <td>79.2</td>\n",
       "    </tr>\n",
       "    <tr>\n",
       "      <th>10CH4</th>\n",
       "      <td>59.5</td>\n",
       "      <td>73.0</td>\n",
       "      <td>52.0</td>\n",
       "      <td>nan</td>\n",
       "      <td>0.00</td>\n",
       "      <td>88.7</td>\n",
       "      <td>56.6</td>\n",
       "    </tr>\n",
       "  </tbody>\n",
       "</table>\n",
       "</div>"
      ],
      "text/plain": [
       "          OSLOCTM3  WACCM6-2deg  INCA  GFDL-emi  OSLOCTM3-emi  UKCA  \\\n",
       "Scenario                                                              \n",
       "CTRL          59.5         73.0  52.0      54.6          58.4  88.7   \n",
       "10H2          65.5         80.3  57.1       204          67.8  97.5   \n",
       "10CH4         59.5         73.0  52.0       nan          0.00  88.7   \n",
       "\n",
       "          GFDL_nudge  \n",
       "Scenario              \n",
       "CTRL            56.6  \n",
       "10H2            79.2  \n",
       "10CH4           56.6  "
      ]
     },
     "execution_count": 7,
     "metadata": {},
     "output_type": "execute_result"
    }
   ],
   "source": [
    "file = 'H2_drydep.txt'\n",
    "df_h2_drydep = pd.read_csv(path + file, sep=';',index_col=0,header=0)\n",
    "df_h2_drydep"
   ]
  },
  {
   "cell_type": "markdown",
   "metadata": {},
   "source": [
    "As drydeposition is uncertain, we can replace the models diagnosed drydeposition by a given value. In the concentration driven run, the drydeposition scheme do not impact the atmospheric composition. For emission driven runs, we also do adjust the drydeposition. Remark that we do not use the emission numbers from the emission driven runs directly, the fluxes is estimated based on burden and lifetimes."
   ]
  },
  {
   "cell_type": "code",
   "execution_count": 8,
   "metadata": {},
   "outputs": [],
   "source": [
    "if(adjust_drydep):\n",
    "    print('NB drydep adjusted')\n",
    "    \n",
    "    #Adjust by the relative adjustment in the control simulations\n",
    "    adjust = drydep/df_h2_drydep.loc['CTRL']\n",
    "    df_h2_drydep = df_h2_drydep*adjust\n",
    "    \n",
    "    print(df_h2_drydep)"
   ]
  },
  {
   "cell_type": "markdown",
   "metadata": {},
   "source": [
    "#### H2 atmospheric loss [Tg/yr]"
   ]
  },
  {
   "cell_type": "code",
   "execution_count": 9,
   "metadata": {},
   "outputs": [
    {
     "data": {
      "text/html": [
       "<div>\n",
       "<style scoped>\n",
       "    .dataframe tbody tr th:only-of-type {\n",
       "        vertical-align: middle;\n",
       "    }\n",
       "\n",
       "    .dataframe tbody tr th {\n",
       "        vertical-align: top;\n",
       "    }\n",
       "\n",
       "    .dataframe thead th {\n",
       "        text-align: right;\n",
       "    }\n",
       "</style>\n",
       "<table border=\"1\" class=\"dataframe\">\n",
       "  <thead>\n",
       "    <tr style=\"text-align: right;\">\n",
       "      <th></th>\n",
       "      <th>OSLOCTM3</th>\n",
       "      <th>WACCM6-2deg</th>\n",
       "      <th>INCA</th>\n",
       "      <th>GFDL-emi</th>\n",
       "      <th>OSLOCTM3-emi</th>\n",
       "      <th>UKCA</th>\n",
       "      <th>GFDL_nudge</th>\n",
       "    </tr>\n",
       "    <tr>\n",
       "      <th>Scenario</th>\n",
       "      <th></th>\n",
       "      <th></th>\n",
       "      <th></th>\n",
       "      <th></th>\n",
       "      <th></th>\n",
       "      <th></th>\n",
       "      <th></th>\n",
       "    </tr>\n",
       "  </thead>\n",
       "  <tbody>\n",
       "    <tr>\n",
       "      <th>CTRL</th>\n",
       "      <td>28.4</td>\n",
       "      <td>29.0</td>\n",
       "      <td>22.5</td>\n",
       "      <td>22.3</td>\n",
       "      <td>30.1</td>\n",
       "      <td>26.8</td>\n",
       "      <td>21.7</td>\n",
       "    </tr>\n",
       "    <tr>\n",
       "      <th>10H2</th>\n",
       "      <td>31.0</td>\n",
       "      <td>31.7</td>\n",
       "      <td>24.5</td>\n",
       "      <td>70.2</td>\n",
       "      <td>34.4</td>\n",
       "      <td>29.2</td>\n",
       "      <td>29.7</td>\n",
       "    </tr>\n",
       "    <tr>\n",
       "      <th>10CH4</th>\n",
       "      <td>27.6</td>\n",
       "      <td>28.2</td>\n",
       "      <td>22.0</td>\n",
       "      <td>nan</td>\n",
       "      <td>0.00</td>\n",
       "      <td>26.0</td>\n",
       "      <td>21.2</td>\n",
       "    </tr>\n",
       "  </tbody>\n",
       "</table>\n",
       "</div>"
      ],
      "text/plain": [
       "          OSLOCTM3  WACCM6-2deg  INCA  GFDL-emi  OSLOCTM3-emi  UKCA  \\\n",
       "Scenario                                                              \n",
       "CTRL          28.4         29.0  22.5      22.3          30.1  26.8   \n",
       "10H2          31.0         31.7  24.5      70.2          34.4  29.2   \n",
       "10CH4         27.6         28.2  22.0       nan          0.00  26.0   \n",
       "\n",
       "          GFDL_nudge  \n",
       "Scenario              \n",
       "CTRL            21.7  \n",
       "10H2            29.7  \n",
       "10CH4           21.2  "
      ]
     },
     "execution_count": 9,
     "metadata": {},
     "output_type": "execute_result"
    }
   ],
   "source": [
    "file = 'H2_atm_loss.txt'\n",
    "df_h2_atmloss = pd.read_csv(path + file, sep=';',index_col=0,header=0)\n",
    "df_h2_atmloss\n"
   ]
  },
  {
   "cell_type": "markdown",
   "metadata": {},
   "source": [
    "#### H2 total loss [Tg/yr]:"
   ]
  },
  {
   "cell_type": "code",
   "execution_count": 10,
   "metadata": {},
   "outputs": [
    {
     "data": {
      "text/html": [
       "<div>\n",
       "<style scoped>\n",
       "    .dataframe tbody tr th:only-of-type {\n",
       "        vertical-align: middle;\n",
       "    }\n",
       "\n",
       "    .dataframe tbody tr th {\n",
       "        vertical-align: top;\n",
       "    }\n",
       "\n",
       "    .dataframe thead th {\n",
       "        text-align: right;\n",
       "    }\n",
       "</style>\n",
       "<table border=\"1\" class=\"dataframe\">\n",
       "  <thead>\n",
       "    <tr style=\"text-align: right;\">\n",
       "      <th></th>\n",
       "      <th>OSLOCTM3</th>\n",
       "      <th>WACCM6-2deg</th>\n",
       "      <th>INCA</th>\n",
       "      <th>GFDL-emi</th>\n",
       "      <th>OSLOCTM3-emi</th>\n",
       "      <th>UKCA</th>\n",
       "      <th>GFDL_nudge</th>\n",
       "    </tr>\n",
       "    <tr>\n",
       "      <th>Scenario</th>\n",
       "      <th></th>\n",
       "      <th></th>\n",
       "      <th></th>\n",
       "      <th></th>\n",
       "      <th></th>\n",
       "      <th></th>\n",
       "      <th></th>\n",
       "    </tr>\n",
       "  </thead>\n",
       "  <tbody>\n",
       "    <tr>\n",
       "      <th>CTRL</th>\n",
       "      <td>87.9</td>\n",
       "      <td>102</td>\n",
       "      <td>74.4</td>\n",
       "      <td>77.0</td>\n",
       "      <td>88.4</td>\n",
       "      <td>115</td>\n",
       "      <td>78.3</td>\n",
       "    </tr>\n",
       "    <tr>\n",
       "      <th>10H2</th>\n",
       "      <td>96.4</td>\n",
       "      <td>112</td>\n",
       "      <td>81.7</td>\n",
       "      <td>274</td>\n",
       "      <td>102</td>\n",
       "      <td>127</td>\n",
       "      <td>109</td>\n",
       "    </tr>\n",
       "    <tr>\n",
       "      <th>10CH4</th>\n",
       "      <td>87.2</td>\n",
       "      <td>101</td>\n",
       "      <td>73.9</td>\n",
       "      <td>nan</td>\n",
       "      <td>0.00</td>\n",
       "      <td>115</td>\n",
       "      <td>77.8</td>\n",
       "    </tr>\n",
       "  </tbody>\n",
       "</table>\n",
       "</div>"
      ],
      "text/plain": [
       "          OSLOCTM3  WACCM6-2deg  INCA  GFDL-emi  OSLOCTM3-emi  UKCA  \\\n",
       "Scenario                                                              \n",
       "CTRL          87.9          102  74.4      77.0          88.4   115   \n",
       "10H2          96.4          112  81.7       274           102   127   \n",
       "10CH4         87.2          101  73.9       nan          0.00   115   \n",
       "\n",
       "          GFDL_nudge  \n",
       "Scenario              \n",
       "CTRL            78.3  \n",
       "10H2             109  \n",
       "10CH4           77.8  "
      ]
     },
     "execution_count": 10,
     "metadata": {},
     "output_type": "execute_result"
    }
   ],
   "source": [
    "df_h2_loss = df_h2_atmloss + df_h2_drydep\n",
    "df_h2_loss\n"
   ]
  },
  {
   "cell_type": "markdown",
   "metadata": {},
   "source": [
    "### 1.3. H2 production"
   ]
  },
  {
   "cell_type": "markdown",
   "metadata": {},
   "source": [
    "#### H2 atm. prod [Tg/yr]"
   ]
  },
  {
   "cell_type": "code",
   "execution_count": 11,
   "metadata": {},
   "outputs": [
    {
     "data": {
      "text/html": [
       "<div>\n",
       "<style scoped>\n",
       "    .dataframe tbody tr th:only-of-type {\n",
       "        vertical-align: middle;\n",
       "    }\n",
       "\n",
       "    .dataframe tbody tr th {\n",
       "        vertical-align: top;\n",
       "    }\n",
       "\n",
       "    .dataframe thead th {\n",
       "        text-align: right;\n",
       "    }\n",
       "</style>\n",
       "<table border=\"1\" class=\"dataframe\">\n",
       "  <thead>\n",
       "    <tr style=\"text-align: right;\">\n",
       "      <th></th>\n",
       "      <th>OSLOCTM3</th>\n",
       "      <th>WACCM6-2deg</th>\n",
       "      <th>INCA</th>\n",
       "      <th>GFDL-emi</th>\n",
       "      <th>OSLOCTM3-emi</th>\n",
       "      <th>UKCA</th>\n",
       "      <th>GFDL_nudge</th>\n",
       "    </tr>\n",
       "    <tr>\n",
       "      <th>Scenario</th>\n",
       "      <th></th>\n",
       "      <th></th>\n",
       "      <th></th>\n",
       "      <th></th>\n",
       "      <th></th>\n",
       "      <th></th>\n",
       "      <th></th>\n",
       "    </tr>\n",
       "  </thead>\n",
       "  <tbody>\n",
       "    <tr>\n",
       "      <th>CTRL</th>\n",
       "      <td>56.3</td>\n",
       "      <td>33.9</td>\n",
       "      <td>47.1</td>\n",
       "      <td>45.1</td>\n",
       "      <td>56.2</td>\n",
       "      <td>49.4</td>\n",
       "      <td>45.0</td>\n",
       "    </tr>\n",
       "    <tr>\n",
       "      <th>10H2</th>\n",
       "      <td>56.2</td>\n",
       "      <td>33.8</td>\n",
       "      <td>47.0</td>\n",
       "      <td>43.5</td>\n",
       "      <td>56.1</td>\n",
       "      <td>49.3</td>\n",
       "      <td>44.8</td>\n",
       "    </tr>\n",
       "    <tr>\n",
       "      <th>10CH4</th>\n",
       "      <td>59.2</td>\n",
       "      <td>36.4</td>\n",
       "      <td>49.4</td>\n",
       "      <td>nan</td>\n",
       "      <td>0.00</td>\n",
       "      <td>51.9</td>\n",
       "      <td>47.1</td>\n",
       "    </tr>\n",
       "  </tbody>\n",
       "</table>\n",
       "</div>"
      ],
      "text/plain": [
       "          OSLOCTM3  WACCM6-2deg  INCA  GFDL-emi  OSLOCTM3-emi  UKCA  \\\n",
       "Scenario                                                              \n",
       "CTRL          56.3         33.9  47.1      45.1          56.2  49.4   \n",
       "10H2          56.2         33.8  47.0      43.5          56.1  49.3   \n",
       "10CH4         59.2         36.4  49.4       nan          0.00  51.9   \n",
       "\n",
       "          GFDL_nudge  \n",
       "Scenario              \n",
       "CTRL            45.0  \n",
       "10H2            44.8  \n",
       "10CH4           47.1  "
      ]
     },
     "execution_count": 11,
     "metadata": {},
     "output_type": "execute_result"
    }
   ],
   "source": [
    "file = 'H2_atm_prod.txt'\n",
    "df_h2_atmprod = pd.read_csv(path + file, sep=';',index_col=0,header=0)\n",
    "df_h2_atmprod"
   ]
  },
  {
   "cell_type": "markdown",
   "metadata": {},
   "source": [
    "### 1.4. Estimated H2 emissions (Total loss = Total prod + emission)"
   ]
  },
  {
   "cell_type": "markdown",
   "metadata": {},
   "source": [
    "In surface concentration driven runs, there are two unknowns; emissions and dry deposition. \n",
    "Emission driven runs, are driven by emission estimates and use the dry deposition scheme to calculate the concentration at the surface. We adjust the dry deposition to take into account uncertainties in emissions and dry deposition on the GWP values."
   ]
  },
  {
   "cell_type": "code",
   "execution_count": 12,
   "metadata": {},
   "outputs": [
    {
     "data": {
      "text/plain": [
       "OSLOCTM3       31.6\n",
       "WACCM6-2deg    68.1\n",
       "INCA           27.3\n",
       "GFDL-emi       31.9\n",
       "OSLOCTM3-emi   32.2\n",
       "UKCA           66.0\n",
       "GFDL_nudge     33.3\n",
       "Name: CTRL, dtype: float64"
      ]
     },
     "execution_count": 12,
     "metadata": {},
     "output_type": "execute_result"
    }
   ],
   "source": [
    "df_h2_estemis = df_h2_atmloss.loc['CTRL'] + df_h2_drydep.loc['CTRL'] - df_h2_atmprod.loc['CTRL']\n",
    "df_h2_estemis"
   ]
  },
  {
   "cell_type": "markdown",
   "metadata": {},
   "source": [
    "### 1.5. H2 surface concentration [ppb]"
   ]
  },
  {
   "cell_type": "code",
   "execution_count": 13,
   "metadata": {},
   "outputs": [
    {
     "data": {
      "text/html": [
       "<div>\n",
       "<style scoped>\n",
       "    .dataframe tbody tr th:only-of-type {\n",
       "        vertical-align: middle;\n",
       "    }\n",
       "\n",
       "    .dataframe tbody tr th {\n",
       "        vertical-align: top;\n",
       "    }\n",
       "\n",
       "    .dataframe thead th {\n",
       "        text-align: right;\n",
       "    }\n",
       "</style>\n",
       "<table border=\"1\" class=\"dataframe\">\n",
       "  <thead>\n",
       "    <tr style=\"text-align: right;\">\n",
       "      <th></th>\n",
       "      <th>OSLOCTM3</th>\n",
       "      <th>WACCM6-2deg</th>\n",
       "      <th>INCA</th>\n",
       "      <th>GFDL-emi</th>\n",
       "      <th>OSLOCTM3-emi</th>\n",
       "      <th>UKCA</th>\n",
       "      <th>GFDL_nudge</th>\n",
       "    </tr>\n",
       "    <tr>\n",
       "      <th>Scenario</th>\n",
       "      <th></th>\n",
       "      <th></th>\n",
       "      <th></th>\n",
       "      <th></th>\n",
       "      <th></th>\n",
       "      <th></th>\n",
       "      <th></th>\n",
       "    </tr>\n",
       "  </thead>\n",
       "  <tbody>\n",
       "    <tr>\n",
       "      <th>CTRL</th>\n",
       "      <td>532</td>\n",
       "      <td>532</td>\n",
       "      <td>532</td>\n",
       "      <td>542</td>\n",
       "      <td>567</td>\n",
       "      <td>537</td>\n",
       "      <td>533</td>\n",
       "    </tr>\n",
       "    <tr>\n",
       "      <th>10H2</th>\n",
       "      <td>585</td>\n",
       "      <td>585</td>\n",
       "      <td>585</td>\n",
       "      <td>1,912</td>\n",
       "      <td>656</td>\n",
       "      <td>590</td>\n",
       "      <td>746</td>\n",
       "    </tr>\n",
       "    <tr>\n",
       "      <th>deltaH2</th>\n",
       "      <td>53.2</td>\n",
       "      <td>53.2</td>\n",
       "      <td>53.2</td>\n",
       "      <td>1,370</td>\n",
       "      <td>89.1</td>\n",
       "      <td>53.5</td>\n",
       "      <td>213</td>\n",
       "    </tr>\n",
       "  </tbody>\n",
       "</table>\n",
       "</div>"
      ],
      "text/plain": [
       "          OSLOCTM3  WACCM6-2deg  INCA  GFDL-emi  OSLOCTM3-emi  UKCA  \\\n",
       "Scenario                                                              \n",
       "CTRL           532          532   532       542           567   537   \n",
       "10H2           585          585   585     1,912           656   590   \n",
       "deltaH2       53.2         53.2  53.2     1,370          89.1  53.5   \n",
       "\n",
       "          GFDL_nudge  \n",
       "Scenario              \n",
       "CTRL             533  \n",
       "10H2             746  \n",
       "deltaH2          213  "
      ]
     },
     "execution_count": 13,
     "metadata": {},
     "output_type": "execute_result"
    }
   ],
   "source": [
    "file = 'H2_surfconc.txt'\n",
    "df_h2_surfconc = pd.read_csv(path + file, sep=';',index_col=0,header=0)\n",
    "delta = df_h2_surfconc.loc['10H2']-df_h2_surfconc.loc['CTRL']\n",
    "delta.name = 'deltaH2'\n",
    "df_h2_surfconc = df_h2_surfconc.append(delta)\n",
    "df_h2_surfconc"
   ]
  },
  {
   "cell_type": "markdown",
   "metadata": {},
   "source": [
    "### 1.6. H2 lifetime [yr]\n",
    "We calculate the lifetime as burden divided by loss."
   ]
  },
  {
   "cell_type": "code",
   "execution_count": 14,
   "metadata": {},
   "outputs": [
    {
     "data": {
      "text/html": [
       "<div>\n",
       "<style scoped>\n",
       "    .dataframe tbody tr th:only-of-type {\n",
       "        vertical-align: middle;\n",
       "    }\n",
       "\n",
       "    .dataframe tbody tr th {\n",
       "        vertical-align: top;\n",
       "    }\n",
       "\n",
       "    .dataframe thead th {\n",
       "        text-align: right;\n",
       "    }\n",
       "</style>\n",
       "<table border=\"1\" class=\"dataframe\">\n",
       "  <thead>\n",
       "    <tr style=\"text-align: right;\">\n",
       "      <th></th>\n",
       "      <th>OSLOCTM3</th>\n",
       "      <th>WACCM6-2deg</th>\n",
       "      <th>INCA</th>\n",
       "      <th>GFDL-emi</th>\n",
       "      <th>OSLOCTM3-emi</th>\n",
       "      <th>UKCA</th>\n",
       "      <th>GFDL_nudge</th>\n",
       "    </tr>\n",
       "    <tr>\n",
       "      <th>Scenario</th>\n",
       "      <th></th>\n",
       "      <th></th>\n",
       "      <th></th>\n",
       "      <th></th>\n",
       "      <th></th>\n",
       "      <th></th>\n",
       "      <th></th>\n",
       "    </tr>\n",
       "  </thead>\n",
       "  <tbody>\n",
       "    <tr>\n",
       "      <th>CTRL</th>\n",
       "      <td>2.23</td>\n",
       "      <td>1.91</td>\n",
       "      <td>2.61</td>\n",
       "      <td>2.50</td>\n",
       "      <td>2.36</td>\n",
       "      <td>1.66</td>\n",
       "      <td>2.40</td>\n",
       "    </tr>\n",
       "    <tr>\n",
       "      <th>10H2</th>\n",
       "      <td>2.23</td>\n",
       "      <td>1.91</td>\n",
       "      <td>2.61</td>\n",
       "      <td>2.41</td>\n",
       "      <td>2.35</td>\n",
       "      <td>1.66</td>\n",
       "      <td>2.40</td>\n",
       "    </tr>\n",
       "    <tr>\n",
       "      <th>10CH4</th>\n",
       "      <td>2.26</td>\n",
       "      <td>1.93</td>\n",
       "      <td>2.64</td>\n",
       "      <td>nan</td>\n",
       "      <td>nan</td>\n",
       "      <td>1.68</td>\n",
       "      <td>2.42</td>\n",
       "    </tr>\n",
       "  </tbody>\n",
       "</table>\n",
       "</div>"
      ],
      "text/plain": [
       "          OSLOCTM3  WACCM6-2deg  INCA  GFDL-emi  OSLOCTM3-emi  UKCA  \\\n",
       "Scenario                                                              \n",
       "CTRL          2.23         1.91  2.61      2.50          2.36  1.66   \n",
       "10H2          2.23         1.91  2.61      2.41          2.35  1.66   \n",
       "10CH4         2.26         1.93  2.64       nan           nan  1.68   \n",
       "\n",
       "          GFDL_nudge  \n",
       "Scenario              \n",
       "CTRL            2.40  \n",
       "10H2            2.40  \n",
       "10CH4           2.42  "
      ]
     },
     "execution_count": 14,
     "metadata": {},
     "output_type": "execute_result"
    }
   ],
   "source": [
    "df_h2_lifetime = df_h2_burden.drop('deltaH2')/df_h2_loss\n",
    "df_h2_lifetime"
   ]
  },
  {
   "cell_type": "markdown",
   "metadata": {},
   "source": [
    "#### H2 atmospheric lifetime [yr]\n",
    "The atmospheric lifetime is the burden divided only by the atmospheric loss. This is the lifetime of the fraction of hydrogen which is not dry deposited."
   ]
  },
  {
   "cell_type": "code",
   "execution_count": 15,
   "metadata": {},
   "outputs": [
    {
     "data": {
      "text/html": [
       "<div>\n",
       "<style scoped>\n",
       "    .dataframe tbody tr th:only-of-type {\n",
       "        vertical-align: middle;\n",
       "    }\n",
       "\n",
       "    .dataframe tbody tr th {\n",
       "        vertical-align: top;\n",
       "    }\n",
       "\n",
       "    .dataframe thead th {\n",
       "        text-align: right;\n",
       "    }\n",
       "</style>\n",
       "<table border=\"1\" class=\"dataframe\">\n",
       "  <thead>\n",
       "    <tr style=\"text-align: right;\">\n",
       "      <th></th>\n",
       "      <th>OSLOCTM3</th>\n",
       "      <th>WACCM6-2deg</th>\n",
       "      <th>INCA</th>\n",
       "      <th>GFDL-emi</th>\n",
       "      <th>OSLOCTM3-emi</th>\n",
       "      <th>UKCA</th>\n",
       "      <th>GFDL_nudge</th>\n",
       "    </tr>\n",
       "    <tr>\n",
       "      <th>Scenario</th>\n",
       "      <th></th>\n",
       "      <th></th>\n",
       "      <th></th>\n",
       "      <th></th>\n",
       "      <th></th>\n",
       "      <th></th>\n",
       "      <th></th>\n",
       "    </tr>\n",
       "  </thead>\n",
       "  <tbody>\n",
       "    <tr>\n",
       "      <th>CTRL</th>\n",
       "      <td>6.91</td>\n",
       "      <td>6.70</td>\n",
       "      <td>8.66</td>\n",
       "      <td>8.62</td>\n",
       "      <td>6.95</td>\n",
       "      <td>7.15</td>\n",
       "      <td>8.66</td>\n",
       "    </tr>\n",
       "    <tr>\n",
       "      <th>10H2</th>\n",
       "      <td>6.94</td>\n",
       "      <td>6.73</td>\n",
       "      <td>8.69</td>\n",
       "      <td>9.39</td>\n",
       "      <td>6.98</td>\n",
       "      <td>7.20</td>\n",
       "      <td>8.80</td>\n",
       "    </tr>\n",
       "    <tr>\n",
       "      <th>10CH4</th>\n",
       "      <td>7.12</td>\n",
       "      <td>6.93</td>\n",
       "      <td>8.88</td>\n",
       "      <td>nan</td>\n",
       "      <td>nan</td>\n",
       "      <td>7.40</td>\n",
       "      <td>8.90</td>\n",
       "    </tr>\n",
       "  </tbody>\n",
       "</table>\n",
       "</div>"
      ],
      "text/plain": [
       "          OSLOCTM3  WACCM6-2deg  INCA  GFDL-emi  OSLOCTM3-emi  UKCA  \\\n",
       "Scenario                                                              \n",
       "CTRL          6.91         6.70  8.66      8.62          6.95  7.15   \n",
       "10H2          6.94         6.73  8.69      9.39          6.98  7.20   \n",
       "10CH4         7.12         6.93  8.88       nan           nan  7.40   \n",
       "\n",
       "          GFDL_nudge  \n",
       "Scenario              \n",
       "CTRL            8.66  \n",
       "10H2            8.80  \n",
       "10CH4           8.90  "
      ]
     },
     "execution_count": 15,
     "metadata": {},
     "output_type": "execute_result"
    }
   ],
   "source": [
    "df_h2_atm_lifetime = df_h2_burden.drop('deltaH2')/df_h2_atmloss\n",
    "df_h2_atm_lifetime"
   ]
  },
  {
   "cell_type": "markdown",
   "metadata": {},
   "source": [
    "#### H2 soil sink lifetime [yr]"
   ]
  },
  {
   "cell_type": "code",
   "execution_count": 16,
   "metadata": {},
   "outputs": [
    {
     "data": {
      "text/html": [
       "<div>\n",
       "<style scoped>\n",
       "    .dataframe tbody tr th:only-of-type {\n",
       "        vertical-align: middle;\n",
       "    }\n",
       "\n",
       "    .dataframe tbody tr th {\n",
       "        vertical-align: top;\n",
       "    }\n",
       "\n",
       "    .dataframe thead th {\n",
       "        text-align: right;\n",
       "    }\n",
       "</style>\n",
       "<table border=\"1\" class=\"dataframe\">\n",
       "  <thead>\n",
       "    <tr style=\"text-align: right;\">\n",
       "      <th></th>\n",
       "      <th>OSLOCTM3</th>\n",
       "      <th>WACCM6-2deg</th>\n",
       "      <th>INCA</th>\n",
       "      <th>GFDL-emi</th>\n",
       "      <th>OSLOCTM3-emi</th>\n",
       "      <th>UKCA</th>\n",
       "      <th>GFDL_nudge</th>\n",
       "    </tr>\n",
       "    <tr>\n",
       "      <th>Scenario</th>\n",
       "      <th></th>\n",
       "      <th></th>\n",
       "      <th></th>\n",
       "      <th></th>\n",
       "      <th></th>\n",
       "      <th></th>\n",
       "      <th></th>\n",
       "    </tr>\n",
       "  </thead>\n",
       "  <tbody>\n",
       "    <tr>\n",
       "      <th>CTRL</th>\n",
       "      <td>3.30</td>\n",
       "      <td>2.67</td>\n",
       "      <td>3.74</td>\n",
       "      <td>3.52</td>\n",
       "      <td>3.58</td>\n",
       "      <td>2.16</td>\n",
       "      <td>3.32</td>\n",
       "    </tr>\n",
       "    <tr>\n",
       "      <th>10H2</th>\n",
       "      <td>3.28</td>\n",
       "      <td>2.66</td>\n",
       "      <td>3.73</td>\n",
       "      <td>3.23</td>\n",
       "      <td>3.54</td>\n",
       "      <td>2.16</td>\n",
       "      <td>3.30</td>\n",
       "    </tr>\n",
       "    <tr>\n",
       "      <th>10CH4</th>\n",
       "      <td>3.31</td>\n",
       "      <td>2.67</td>\n",
       "      <td>3.75</td>\n",
       "      <td>nan</td>\n",
       "      <td>nan</td>\n",
       "      <td>2.17</td>\n",
       "      <td>3.33</td>\n",
       "    </tr>\n",
       "  </tbody>\n",
       "</table>\n",
       "</div>"
      ],
      "text/plain": [
       "          OSLOCTM3  WACCM6-2deg  INCA  GFDL-emi  OSLOCTM3-emi  UKCA  \\\n",
       "Scenario                                                              \n",
       "CTRL          3.30         2.67  3.74      3.52          3.58  2.16   \n",
       "10H2          3.28         2.66  3.73      3.23          3.54  2.16   \n",
       "10CH4         3.31         2.67  3.75       nan           nan  2.17   \n",
       "\n",
       "          GFDL_nudge  \n",
       "Scenario              \n",
       "CTRL            3.32  \n",
       "10H2            3.30  \n",
       "10CH4           3.33  "
      ]
     },
     "execution_count": 16,
     "metadata": {},
     "output_type": "execute_result"
    }
   ],
   "source": [
    "df_h2_soil_sink_lifetime = df_h2_burden.drop('deltaH2')/df_h2_drydep\n",
    "df_h2_soil_sink_lifetime"
   ]
  },
  {
   "cell_type": "markdown",
   "metadata": {},
   "source": [
    "### 1.7. H2 flux (burden dived by lifetime) [Tg/yr]"
   ]
  },
  {
   "cell_type": "markdown",
   "metadata": {},
   "source": [
    "The hydrogen flux is calculated as the burden divided by the hydrogen lifetime. The hydrogen lifetime is calculated by the burden divided by the total lifetime (drydep + atm.loss). (This is equal to the total loss, as it will be in steady state)\n",
    "\n",
    "The difference in calculated flux in the perturbed and control run is calculated. These numbers include feedbacks (add why). \n",
    "\n",
    "For the GWP calculations, the radiative forcing in the steady state simulations are divided by these flux numbers."
   ]
  },
  {
   "cell_type": "code",
   "execution_count": 17,
   "metadata": {},
   "outputs": [
    {
     "data": {
      "text/html": [
       "<div>\n",
       "<style scoped>\n",
       "    .dataframe tbody tr th:only-of-type {\n",
       "        vertical-align: middle;\n",
       "    }\n",
       "\n",
       "    .dataframe tbody tr th {\n",
       "        vertical-align: top;\n",
       "    }\n",
       "\n",
       "    .dataframe thead th {\n",
       "        text-align: right;\n",
       "    }\n",
       "</style>\n",
       "<table border=\"1\" class=\"dataframe\">\n",
       "  <thead>\n",
       "    <tr style=\"text-align: right;\">\n",
       "      <th></th>\n",
       "      <th>OSLOCTM3</th>\n",
       "      <th>WACCM6-2deg</th>\n",
       "      <th>INCA</th>\n",
       "      <th>GFDL-emi</th>\n",
       "      <th>OSLOCTM3-emi</th>\n",
       "      <th>UKCA</th>\n",
       "      <th>GFDL_nudge</th>\n",
       "    </tr>\n",
       "    <tr>\n",
       "      <th>Scenario</th>\n",
       "      <th></th>\n",
       "      <th></th>\n",
       "      <th></th>\n",
       "      <th></th>\n",
       "      <th></th>\n",
       "      <th></th>\n",
       "      <th></th>\n",
       "    </tr>\n",
       "  </thead>\n",
       "  <tbody>\n",
       "    <tr>\n",
       "      <th>CTRL</th>\n",
       "      <td>87.9</td>\n",
       "      <td>102</td>\n",
       "      <td>74.4</td>\n",
       "      <td>77.0</td>\n",
       "      <td>88.4</td>\n",
       "      <td>115</td>\n",
       "      <td>78.3</td>\n",
       "    </tr>\n",
       "    <tr>\n",
       "      <th>10H2</th>\n",
       "      <td>96.4</td>\n",
       "      <td>112</td>\n",
       "      <td>81.7</td>\n",
       "      <td>274</td>\n",
       "      <td>102</td>\n",
       "      <td>127</td>\n",
       "      <td>109</td>\n",
       "    </tr>\n",
       "    <tr>\n",
       "      <th>10CH4</th>\n",
       "      <td>87.2</td>\n",
       "      <td>101</td>\n",
       "      <td>73.9</td>\n",
       "      <td>nan</td>\n",
       "      <td>nan</td>\n",
       "      <td>115</td>\n",
       "      <td>77.8</td>\n",
       "    </tr>\n",
       "    <tr>\n",
       "      <th>deltaH2</th>\n",
       "      <td>8.54</td>\n",
       "      <td>9.93</td>\n",
       "      <td>7.23</td>\n",
       "      <td>197</td>\n",
       "      <td>13.8</td>\n",
       "      <td>11.3</td>\n",
       "      <td>30.5</td>\n",
       "    </tr>\n",
       "    <tr>\n",
       "      <th>deltaCH4</th>\n",
       "      <td>-0.75</td>\n",
       "      <td>-0.86</td>\n",
       "      <td>-0.50</td>\n",
       "      <td>nan</td>\n",
       "      <td>nan</td>\n",
       "      <td>-0.75</td>\n",
       "      <td>-0.52</td>\n",
       "    </tr>\n",
       "  </tbody>\n",
       "</table>\n",
       "</div>"
      ],
      "text/plain": [
       "          OSLOCTM3  WACCM6-2deg  INCA  GFDL-emi  OSLOCTM3-emi  UKCA  \\\n",
       "Scenario                                                              \n",
       "CTRL          87.9          102  74.4      77.0          88.4   115   \n",
       "10H2          96.4          112  81.7       274           102   127   \n",
       "10CH4         87.2          101  73.9       nan           nan   115   \n",
       "deltaH2       8.54         9.93  7.23       197          13.8  11.3   \n",
       "deltaCH4     -0.75        -0.86 -0.50       nan           nan -0.75   \n",
       "\n",
       "          GFDL_nudge  \n",
       "Scenario              \n",
       "CTRL            78.3  \n",
       "10H2             109  \n",
       "10CH4           77.8  \n",
       "deltaH2         30.5  \n",
       "deltaCH4       -0.52  "
      ]
     },
     "execution_count": 17,
     "metadata": {},
     "output_type": "execute_result"
    }
   ],
   "source": [
    "df_h2_flux = df_h2_burden.drop('deltaH2')/df_h2_lifetime\n",
    "#Add delta flux 10H2:\n",
    "delta = df_h2_flux.loc['10H2']-df_h2_flux.loc['CTRL']\n",
    "delta.name = 'deltaH2'\n",
    "df_h2_flux = df_h2_flux.append(delta)\n",
    "#Add delta flux 10CH4:\n",
    "delta = df_h2_flux.loc['10CH4']-df_h2_flux.loc['CTRL']\n",
    "delta.name = 'deltaCH4'\n",
    "df_h2_flux = df_h2_flux.append(delta)\n",
    "df_h2_flux\n"
   ]
  },
  {
   "cell_type": "markdown",
   "metadata": {},
   "source": [
    "Description of the negative deltaCH4. In the methane run, the hydrogen surface concentration is kept fixed. Enhancing methane would influence H2. The hydrogen concentration would have increased, but since we run with fixed concentration, there is a negative flux to compensate. So the increased flux in H2 due to methane is -1*deltaCH4."
   ]
  },
  {
   "cell_type": "markdown",
   "metadata": {},
   "source": [
    "## 2. Methane results"
   ]
  },
  {
   "cell_type": "markdown",
   "metadata": {},
   "source": [
    "### 2.1 CH4 burden [Tg]"
   ]
  },
  {
   "cell_type": "code",
   "execution_count": 18,
   "metadata": {},
   "outputs": [
    {
     "data": {
      "text/html": [
       "<div>\n",
       "<style scoped>\n",
       "    .dataframe tbody tr th:only-of-type {\n",
       "        vertical-align: middle;\n",
       "    }\n",
       "\n",
       "    .dataframe tbody tr th {\n",
       "        vertical-align: top;\n",
       "    }\n",
       "\n",
       "    .dataframe thead th {\n",
       "        text-align: right;\n",
       "    }\n",
       "</style>\n",
       "<table border=\"1\" class=\"dataframe\">\n",
       "  <thead>\n",
       "    <tr style=\"text-align: right;\">\n",
       "      <th></th>\n",
       "      <th>OSLOCTM3</th>\n",
       "      <th>WACCM6-2deg</th>\n",
       "      <th>INCA</th>\n",
       "      <th>GFDL-emi</th>\n",
       "      <th>OSLOCTM3-emi</th>\n",
       "      <th>UKCA</th>\n",
       "      <th>GFDL_nudge</th>\n",
       "    </tr>\n",
       "    <tr>\n",
       "      <th>Scenario</th>\n",
       "      <th></th>\n",
       "      <th></th>\n",
       "      <th></th>\n",
       "      <th></th>\n",
       "      <th></th>\n",
       "      <th></th>\n",
       "      <th></th>\n",
       "    </tr>\n",
       "  </thead>\n",
       "  <tbody>\n",
       "    <tr>\n",
       "      <th>CTRL</th>\n",
       "      <td>4,995</td>\n",
       "      <td>5,003</td>\n",
       "      <td>5,003</td>\n",
       "      <td>4,955</td>\n",
       "      <td>4,995</td>\n",
       "      <td>4,921</td>\n",
       "      <td>4,876</td>\n",
       "    </tr>\n",
       "    <tr>\n",
       "      <th>10H2</th>\n",
       "      <td>4,995</td>\n",
       "      <td>5,003</td>\n",
       "      <td>5,003</td>\n",
       "      <td>4,954</td>\n",
       "      <td>4,995</td>\n",
       "      <td>4,921</td>\n",
       "      <td>4,876</td>\n",
       "    </tr>\n",
       "    <tr>\n",
       "      <th>10CH4</th>\n",
       "      <td>5,496</td>\n",
       "      <td>5,505</td>\n",
       "      <td>5,504</td>\n",
       "      <td>nan</td>\n",
       "      <td>nan</td>\n",
       "      <td>5,414</td>\n",
       "      <td>5,364</td>\n",
       "    </tr>\n",
       "    <tr>\n",
       "      <th>deltaCH4</th>\n",
       "      <td>501</td>\n",
       "      <td>502</td>\n",
       "      <td>501</td>\n",
       "      <td>nan</td>\n",
       "      <td>nan</td>\n",
       "      <td>494</td>\n",
       "      <td>488</td>\n",
       "    </tr>\n",
       "  </tbody>\n",
       "</table>\n",
       "</div>"
      ],
      "text/plain": [
       "          OSLOCTM3  WACCM6-2deg  INCA  GFDL-emi  OSLOCTM3-emi  UKCA  \\\n",
       "Scenario                                                              \n",
       "CTRL         4,995        5,003 5,003     4,955         4,995 4,921   \n",
       "10H2         4,995        5,003 5,003     4,954         4,995 4,921   \n",
       "10CH4        5,496        5,505 5,504       nan           nan 5,414   \n",
       "deltaCH4       501          502   501       nan           nan   494   \n",
       "\n",
       "          GFDL_nudge  \n",
       "Scenario              \n",
       "CTRL           4,876  \n",
       "10H2           4,876  \n",
       "10CH4          5,364  \n",
       "deltaCH4         488  "
      ]
     },
     "execution_count": 18,
     "metadata": {},
     "output_type": "execute_result"
    }
   ],
   "source": [
    "file = 'CH4_burden.txt'\n",
    "df_ch4_burden = pd.read_csv(path + file, sep=';',index_col=0,header=0)\n",
    "delta = df_ch4_burden.loc['10CH4']-df_ch4_burden.loc['CTRL']\n",
    "delta.name = 'deltaCH4'\n",
    "df_ch4_burden = df_ch4_burden.append(delta)\n",
    "df_ch4_burden"
   ]
  },
  {
   "cell_type": "markdown",
   "metadata": {},
   "source": [
    "### 2.2 CH4 atmospheric loss [Tg/yr]"
   ]
  },
  {
   "cell_type": "code",
   "execution_count": 19,
   "metadata": {},
   "outputs": [
    {
     "data": {
      "text/html": [
       "<div>\n",
       "<style scoped>\n",
       "    .dataframe tbody tr th:only-of-type {\n",
       "        vertical-align: middle;\n",
       "    }\n",
       "\n",
       "    .dataframe tbody tr th {\n",
       "        vertical-align: top;\n",
       "    }\n",
       "\n",
       "    .dataframe thead th {\n",
       "        text-align: right;\n",
       "    }\n",
       "</style>\n",
       "<table border=\"1\" class=\"dataframe\">\n",
       "  <thead>\n",
       "    <tr style=\"text-align: right;\">\n",
       "      <th></th>\n",
       "      <th>OSLOCTM3</th>\n",
       "      <th>WACCM6-2deg</th>\n",
       "      <th>INCA</th>\n",
       "      <th>GFDL-emi</th>\n",
       "      <th>OSLOCTM3-emi</th>\n",
       "      <th>UKCA</th>\n",
       "      <th>GFDL_nudge</th>\n",
       "    </tr>\n",
       "    <tr>\n",
       "      <th>Scenario</th>\n",
       "      <th></th>\n",
       "      <th></th>\n",
       "      <th></th>\n",
       "      <th></th>\n",
       "      <th></th>\n",
       "      <th></th>\n",
       "      <th></th>\n",
       "    </tr>\n",
       "  </thead>\n",
       "  <tbody>\n",
       "    <tr>\n",
       "      <th>CTRL</th>\n",
       "      <td>683</td>\n",
       "      <td>727</td>\n",
       "      <td>593</td>\n",
       "      <td>540</td>\n",
       "      <td>681</td>\n",
       "      <td>632</td>\n",
       "      <td>528</td>\n",
       "    </tr>\n",
       "    <tr>\n",
       "      <th>10H2</th>\n",
       "      <td>680</td>\n",
       "      <td>724</td>\n",
       "      <td>590</td>\n",
       "      <td>499</td>\n",
       "      <td>677</td>\n",
       "      <td>629</td>\n",
       "      <td>520</td>\n",
       "    </tr>\n",
       "    <tr>\n",
       "      <th>10CH4</th>\n",
       "      <td>728</td>\n",
       "      <td>772</td>\n",
       "      <td>635</td>\n",
       "      <td>nan</td>\n",
       "      <td>nan</td>\n",
       "      <td>672</td>\n",
       "      <td>564</td>\n",
       "    </tr>\n",
       "  </tbody>\n",
       "</table>\n",
       "</div>"
      ],
      "text/plain": [
       "          OSLOCTM3  WACCM6-2deg  INCA  GFDL-emi  OSLOCTM3-emi  UKCA  \\\n",
       "Scenario                                                              \n",
       "CTRL           683          727   593       540           681   632   \n",
       "10H2           680          724   590       499           677   629   \n",
       "10CH4          728          772   635       nan           nan   672   \n",
       "\n",
       "          GFDL_nudge  \n",
       "Scenario              \n",
       "CTRL             528  \n",
       "10H2             520  \n",
       "10CH4            564  "
      ]
     },
     "execution_count": 19,
     "metadata": {},
     "output_type": "execute_result"
    }
   ],
   "source": [
    "file = 'CH4_loss.txt'\n",
    "df_ch4_loss = pd.read_csv(path + file, sep=';',index_col=0,header=0)\n",
    "df_ch4_loss"
   ]
  },
  {
   "cell_type": "markdown",
   "metadata": {},
   "source": [
    "### 2.3 CH4 surface concentration [ppb]"
   ]
  },
  {
   "cell_type": "code",
   "execution_count": 20,
   "metadata": {},
   "outputs": [
    {
     "data": {
      "text/html": [
       "<div>\n",
       "<style scoped>\n",
       "    .dataframe tbody tr th:only-of-type {\n",
       "        vertical-align: middle;\n",
       "    }\n",
       "\n",
       "    .dataframe tbody tr th {\n",
       "        vertical-align: top;\n",
       "    }\n",
       "\n",
       "    .dataframe thead th {\n",
       "        text-align: right;\n",
       "    }\n",
       "</style>\n",
       "<table border=\"1\" class=\"dataframe\">\n",
       "  <thead>\n",
       "    <tr style=\"text-align: right;\">\n",
       "      <th></th>\n",
       "      <th>OSLOCTM3</th>\n",
       "      <th>WACCM6-2deg</th>\n",
       "      <th>INCA</th>\n",
       "      <th>GFDL-emi</th>\n",
       "      <th>OSLOCTM3-emi</th>\n",
       "      <th>UKCA</th>\n",
       "      <th>GFDL_nudge</th>\n",
       "    </tr>\n",
       "    <tr>\n",
       "      <th>Scenario</th>\n",
       "      <th></th>\n",
       "      <th></th>\n",
       "      <th></th>\n",
       "      <th></th>\n",
       "      <th></th>\n",
       "      <th></th>\n",
       "      <th></th>\n",
       "    </tr>\n",
       "  </thead>\n",
       "  <tbody>\n",
       "    <tr>\n",
       "      <th>CTRL</th>\n",
       "      <td>1,813</td>\n",
       "      <td>1,808</td>\n",
       "      <td>1,813</td>\n",
       "      <td>1,832</td>\n",
       "      <td>1,813</td>\n",
       "      <td>1,806</td>\n",
       "      <td>1,816</td>\n",
       "    </tr>\n",
       "    <tr>\n",
       "      <th>10CH4</th>\n",
       "      <td>1,994</td>\n",
       "      <td>1,989</td>\n",
       "      <td>1,994</td>\n",
       "      <td>nan</td>\n",
       "      <td>nan</td>\n",
       "      <td>1,986</td>\n",
       "      <td>1,998</td>\n",
       "    </tr>\n",
       "    <tr>\n",
       "      <th>deltaCH4</th>\n",
       "      <td>181</td>\n",
       "      <td>181</td>\n",
       "      <td>181</td>\n",
       "      <td>nan</td>\n",
       "      <td>nan</td>\n",
       "      <td>181</td>\n",
       "      <td>182</td>\n",
       "    </tr>\n",
       "  </tbody>\n",
       "</table>\n",
       "</div>"
      ],
      "text/plain": [
       "          OSLOCTM3  WACCM6-2deg  INCA  GFDL-emi  OSLOCTM3-emi  UKCA  \\\n",
       "Scenario                                                              \n",
       "CTRL         1,813        1,808 1,813     1,832         1,813 1,806   \n",
       "10CH4        1,994        1,989 1,994       nan           nan 1,986   \n",
       "deltaCH4       181          181   181       nan           nan   181   \n",
       "\n",
       "          GFDL_nudge  \n",
       "Scenario              \n",
       "CTRL           1,816  \n",
       "10CH4          1,998  \n",
       "deltaCH4         182  "
      ]
     },
     "execution_count": 20,
     "metadata": {},
     "output_type": "execute_result"
    }
   ],
   "source": [
    "file = 'CH4_surfconc.txt'\n",
    "df_ch4_surfconc = pd.read_csv(path + file, sep=';',index_col=0,header=0)\n",
    "delta = df_ch4_surfconc.loc['10CH4']-df_ch4_surfconc.loc['CTRL']\n",
    "delta.name = 'deltaCH4'\n",
    "df_ch4_surfconc = df_ch4_surfconc.append(delta)\n",
    "df_ch4_surfconc"
   ]
  },
  {
   "cell_type": "markdown",
   "metadata": {},
   "source": [
    "### 2.4 CH4 lifetime [yr]"
   ]
  },
  {
   "cell_type": "code",
   "execution_count": 21,
   "metadata": {
    "scrolled": true
   },
   "outputs": [
    {
     "data": {
      "text/html": [
       "<div>\n",
       "<style scoped>\n",
       "    .dataframe tbody tr th:only-of-type {\n",
       "        vertical-align: middle;\n",
       "    }\n",
       "\n",
       "    .dataframe tbody tr th {\n",
       "        vertical-align: top;\n",
       "    }\n",
       "\n",
       "    .dataframe thead th {\n",
       "        text-align: right;\n",
       "    }\n",
       "</style>\n",
       "<table border=\"1\" class=\"dataframe\">\n",
       "  <thead>\n",
       "    <tr style=\"text-align: right;\">\n",
       "      <th></th>\n",
       "      <th>OSLOCTM3</th>\n",
       "      <th>WACCM6-2deg</th>\n",
       "      <th>INCA</th>\n",
       "      <th>GFDL-emi</th>\n",
       "      <th>OSLOCTM3-emi</th>\n",
       "      <th>UKCA</th>\n",
       "      <th>GFDL_nudge</th>\n",
       "    </tr>\n",
       "    <tr>\n",
       "      <th>Scenario</th>\n",
       "      <th></th>\n",
       "      <th></th>\n",
       "      <th></th>\n",
       "      <th></th>\n",
       "      <th></th>\n",
       "      <th></th>\n",
       "      <th></th>\n",
       "    </tr>\n",
       "  </thead>\n",
       "  <tbody>\n",
       "    <tr>\n",
       "      <th>CTRL</th>\n",
       "      <td>7.31</td>\n",
       "      <td>6.88</td>\n",
       "      <td>8.44</td>\n",
       "      <td>9.17</td>\n",
       "      <td>7.33</td>\n",
       "      <td>7.79</td>\n",
       "      <td>9.24</td>\n",
       "    </tr>\n",
       "    <tr>\n",
       "      <th>10H2</th>\n",
       "      <td>7.34</td>\n",
       "      <td>6.91</td>\n",
       "      <td>8.47</td>\n",
       "      <td>9.93</td>\n",
       "      <td>7.38</td>\n",
       "      <td>7.82</td>\n",
       "      <td>9.38</td>\n",
       "    </tr>\n",
       "    <tr>\n",
       "      <th>10CH4</th>\n",
       "      <td>7.55</td>\n",
       "      <td>7.13</td>\n",
       "      <td>8.67</td>\n",
       "      <td>nan</td>\n",
       "      <td>nan</td>\n",
       "      <td>8.05</td>\n",
       "      <td>9.51</td>\n",
       "    </tr>\n",
       "  </tbody>\n",
       "</table>\n",
       "</div>"
      ],
      "text/plain": [
       "          OSLOCTM3  WACCM6-2deg  INCA  GFDL-emi  OSLOCTM3-emi  UKCA  \\\n",
       "Scenario                                                              \n",
       "CTRL          7.31         6.88  8.44      9.17          7.33  7.79   \n",
       "10H2          7.34         6.91  8.47      9.93          7.38  7.82   \n",
       "10CH4         7.55         7.13  8.67       nan           nan  8.05   \n",
       "\n",
       "          GFDL_nudge  \n",
       "Scenario              \n",
       "CTRL            9.24  \n",
       "10H2            9.38  \n",
       "10CH4           9.51  "
      ]
     },
     "execution_count": 21,
     "metadata": {},
     "output_type": "execute_result"
    }
   ],
   "source": [
    "df_ch4_lifetime = df_ch4_burden.drop('deltaCH4')/df_ch4_loss\n",
    "df_ch4_lifetime"
   ]
  },
  {
   "cell_type": "markdown",
   "metadata": {},
   "source": [
    "#### Total CH4 lifetime [yr]"
   ]
  },
  {
   "cell_type": "code",
   "execution_count": 22,
   "metadata": {},
   "outputs": [
    {
     "data": {
      "text/html": [
       "<div>\n",
       "<style scoped>\n",
       "    .dataframe tbody tr th:only-of-type {\n",
       "        vertical-align: middle;\n",
       "    }\n",
       "\n",
       "    .dataframe tbody tr th {\n",
       "        vertical-align: top;\n",
       "    }\n",
       "\n",
       "    .dataframe thead th {\n",
       "        text-align: right;\n",
       "    }\n",
       "</style>\n",
       "<table border=\"1\" class=\"dataframe\">\n",
       "  <thead>\n",
       "    <tr style=\"text-align: right;\">\n",
       "      <th></th>\n",
       "      <th>OSLOCTM3</th>\n",
       "      <th>WACCM6-2deg</th>\n",
       "      <th>INCA</th>\n",
       "      <th>GFDL-emi</th>\n",
       "      <th>OSLOCTM3-emi</th>\n",
       "      <th>UKCA</th>\n",
       "      <th>GFDL_nudge</th>\n",
       "    </tr>\n",
       "    <tr>\n",
       "      <th>Scenario</th>\n",
       "      <th></th>\n",
       "      <th></th>\n",
       "      <th></th>\n",
       "      <th></th>\n",
       "      <th></th>\n",
       "      <th></th>\n",
       "      <th></th>\n",
       "    </tr>\n",
       "  </thead>\n",
       "  <tbody>\n",
       "    <tr>\n",
       "      <th>CTRL</th>\n",
       "      <td>6.61</td>\n",
       "      <td>6.25</td>\n",
       "      <td>7.52</td>\n",
       "      <td>8.09</td>\n",
       "      <td>6.62</td>\n",
       "      <td>6.99</td>\n",
       "      <td>8.14</td>\n",
       "    </tr>\n",
       "    <tr>\n",
       "      <th>10H2</th>\n",
       "      <td>6.63</td>\n",
       "      <td>6.28</td>\n",
       "      <td>7.54</td>\n",
       "      <td>8.68</td>\n",
       "      <td>6.66</td>\n",
       "      <td>7.02</td>\n",
       "      <td>8.25</td>\n",
       "    </tr>\n",
       "    <tr>\n",
       "      <th>10CH4</th>\n",
       "      <td>6.80</td>\n",
       "      <td>6.46</td>\n",
       "      <td>7.70</td>\n",
       "      <td>nan</td>\n",
       "      <td>nan</td>\n",
       "      <td>7.21</td>\n",
       "      <td>8.35</td>\n",
       "    </tr>\n",
       "  </tbody>\n",
       "</table>\n",
       "</div>"
      ],
      "text/plain": [
       "          OSLOCTM3  WACCM6-2deg  INCA  GFDL-emi  OSLOCTM3-emi  UKCA  \\\n",
       "Scenario                                                              \n",
       "CTRL          6.61         6.25  7.52      8.09          6.62  6.99   \n",
       "10H2          6.63         6.28  7.54      8.68          6.66  7.02   \n",
       "10CH4         6.80         6.46  7.70       nan           nan  7.21   \n",
       "\n",
       "          GFDL_nudge  \n",
       "Scenario              \n",
       "CTRL            8.14  \n",
       "10H2            8.25  \n",
       "10CH4           8.35  "
      ]
     },
     "execution_count": 22,
     "metadata": {},
     "output_type": "execute_result"
    }
   ],
   "source": [
    "df_ch4_tot_lifetime = 1.0/(1.0/df_ch4_lifetime + 1.0/tau_strat + 1.0/tau_soil)\n",
    "df_ch4_tot_lifetime"
   ]
  },
  {
   "cell_type": "markdown",
   "metadata": {},
   "source": [
    "### 2.5 CH4 flux (burden dived by total lifetime) [Tg/yr]"
   ]
  },
  {
   "cell_type": "code",
   "execution_count": 23,
   "metadata": {},
   "outputs": [
    {
     "data": {
      "text/html": [
       "<div>\n",
       "<style scoped>\n",
       "    .dataframe tbody tr th:only-of-type {\n",
       "        vertical-align: middle;\n",
       "    }\n",
       "\n",
       "    .dataframe tbody tr th {\n",
       "        vertical-align: top;\n",
       "    }\n",
       "\n",
       "    .dataframe thead th {\n",
       "        text-align: right;\n",
       "    }\n",
       "</style>\n",
       "<table border=\"1\" class=\"dataframe\">\n",
       "  <thead>\n",
       "    <tr style=\"text-align: right;\">\n",
       "      <th></th>\n",
       "      <th>OSLOCTM3</th>\n",
       "      <th>WACCM6-2deg</th>\n",
       "      <th>INCA</th>\n",
       "      <th>GFDL-emi</th>\n",
       "      <th>OSLOCTM3-emi</th>\n",
       "      <th>UKCA</th>\n",
       "      <th>GFDL_nudge</th>\n",
       "    </tr>\n",
       "    <tr>\n",
       "      <th>Scenario</th>\n",
       "      <th></th>\n",
       "      <th></th>\n",
       "      <th></th>\n",
       "      <th></th>\n",
       "      <th></th>\n",
       "      <th></th>\n",
       "      <th></th>\n",
       "    </tr>\n",
       "  </thead>\n",
       "  <tbody>\n",
       "    <tr>\n",
       "      <th>CTRL</th>\n",
       "      <td>756</td>\n",
       "      <td>800</td>\n",
       "      <td>666</td>\n",
       "      <td>613</td>\n",
       "      <td>754</td>\n",
       "      <td>704</td>\n",
       "      <td>599</td>\n",
       "    </tr>\n",
       "    <tr>\n",
       "      <th>10H2</th>\n",
       "      <td>753</td>\n",
       "      <td>797</td>\n",
       "      <td>663</td>\n",
       "      <td>571</td>\n",
       "      <td>750</td>\n",
       "      <td>701</td>\n",
       "      <td>591</td>\n",
       "    </tr>\n",
       "    <tr>\n",
       "      <th>10CH4</th>\n",
       "      <td>808</td>\n",
       "      <td>852</td>\n",
       "      <td>715</td>\n",
       "      <td>nan</td>\n",
       "      <td>nan</td>\n",
       "      <td>751</td>\n",
       "      <td>642</td>\n",
       "    </tr>\n",
       "    <tr>\n",
       "      <th>deltaH2</th>\n",
       "      <td>-2.67</td>\n",
       "      <td>-3.28</td>\n",
       "      <td>-2.12</td>\n",
       "      <td>-41.7</td>\n",
       "      <td>-4.39</td>\n",
       "      <td>-2.76</td>\n",
       "      <td>-7.96</td>\n",
       "    </tr>\n",
       "    <tr>\n",
       "      <th>deltaCH4</th>\n",
       "      <td>52.4</td>\n",
       "      <td>52.4</td>\n",
       "      <td>49.4</td>\n",
       "      <td>nan</td>\n",
       "      <td>nan</td>\n",
       "      <td>47.6</td>\n",
       "      <td>43.4</td>\n",
       "    </tr>\n",
       "  </tbody>\n",
       "</table>\n",
       "</div>"
      ],
      "text/plain": [
       "          OSLOCTM3  WACCM6-2deg  INCA  GFDL-emi  OSLOCTM3-emi  UKCA  \\\n",
       "Scenario                                                              \n",
       "CTRL           756          800   666       613           754   704   \n",
       "10H2           753          797   663       571           750   701   \n",
       "10CH4          808          852   715       nan           nan   751   \n",
       "deltaH2      -2.67        -3.28 -2.12     -41.7         -4.39 -2.76   \n",
       "deltaCH4      52.4         52.4  49.4       nan           nan  47.6   \n",
       "\n",
       "          GFDL_nudge  \n",
       "Scenario              \n",
       "CTRL             599  \n",
       "10H2             591  \n",
       "10CH4            642  \n",
       "deltaH2        -7.96  \n",
       "deltaCH4        43.4  "
      ]
     },
     "execution_count": 23,
     "metadata": {},
     "output_type": "execute_result"
    }
   ],
   "source": [
    "df_ch4_flux = df_ch4_burden.drop('deltaCH4')/df_ch4_tot_lifetime\n",
    "#Add delta CH4 flux 10H2\n",
    "delta = df_ch4_flux.loc['10H2']-df_ch4_flux.loc['CTRL']\n",
    "delta.name = 'deltaH2'\n",
    "df_ch4_flux = df_ch4_flux.append(delta)\n",
    "#Add delta CH4 flux 10CH4\n",
    "delta = df_ch4_flux.loc['10CH4']-df_ch4_flux.loc['CTRL']\n",
    "delta.name = 'deltaCH4'\n",
    "df_ch4_flux = df_ch4_flux.append(delta)\n",
    "df_ch4_flux\n"
   ]
  },
  {
   "cell_type": "markdown",
   "metadata": {},
   "source": [
    "## 3. Ozone burden and RF"
   ]
  },
  {
   "cell_type": "markdown",
   "metadata": {},
   "source": [
    "### 3.1 Change in tropospheric ozone (DU)"
   ]
  },
  {
   "cell_type": "markdown",
   "metadata": {},
   "source": [
    "The tropopause definition is the model layer in the control simulation where 150 ppbv ozone are reached. For GFDL-emi 10H2 is H2 perturbation and 10CH4 is H2+CH4 pert minus the H2 pert."
   ]
  },
  {
   "cell_type": "code",
   "execution_count": 24,
   "metadata": {},
   "outputs": [
    {
     "data": {
      "text/html": [
       "<div>\n",
       "<style scoped>\n",
       "    .dataframe tbody tr th:only-of-type {\n",
       "        vertical-align: middle;\n",
       "    }\n",
       "\n",
       "    .dataframe tbody tr th {\n",
       "        vertical-align: top;\n",
       "    }\n",
       "\n",
       "    .dataframe thead th {\n",
       "        text-align: right;\n",
       "    }\n",
       "</style>\n",
       "<table border=\"1\" class=\"dataframe\">\n",
       "  <thead>\n",
       "    <tr style=\"text-align: right;\">\n",
       "      <th></th>\n",
       "      <th>OSLOCTM3</th>\n",
       "      <th>WACCM6-2deg</th>\n",
       "      <th>INCA</th>\n",
       "      <th>GFDL-emi</th>\n",
       "      <th>OSLOCTM3-emi</th>\n",
       "      <th>UKCA</th>\n",
       "      <th>GFDL_nudge</th>\n",
       "    </tr>\n",
       "    <tr>\n",
       "      <th>Scenario</th>\n",
       "      <th></th>\n",
       "      <th></th>\n",
       "      <th></th>\n",
       "      <th></th>\n",
       "      <th></th>\n",
       "      <th></th>\n",
       "      <th></th>\n",
       "    </tr>\n",
       "  </thead>\n",
       "  <tbody>\n",
       "    <tr>\n",
       "      <th>10H2</th>\n",
       "      <td>0.04</td>\n",
       "      <td>0.03</td>\n",
       "      <td>0.03</td>\n",
       "      <td>0.70</td>\n",
       "      <td>0.06</td>\n",
       "      <td>0.03</td>\n",
       "      <td>0.12</td>\n",
       "    </tr>\n",
       "    <tr>\n",
       "      <th>10CH4</th>\n",
       "      <td>0.83</td>\n",
       "      <td>0.88</td>\n",
       "      <td>0.53</td>\n",
       "      <td>0.87</td>\n",
       "      <td>nan</td>\n",
       "      <td>0.73</td>\n",
       "      <td>0.66</td>\n",
       "    </tr>\n",
       "  </tbody>\n",
       "</table>\n",
       "</div>"
      ],
      "text/plain": [
       "          OSLOCTM3  WACCM6-2deg  INCA  GFDL-emi  OSLOCTM3-emi  UKCA  \\\n",
       "Scenario                                                              \n",
       "10H2          0.04         0.03  0.03      0.70          0.06  0.03   \n",
       "10CH4         0.83         0.88  0.53      0.87           nan  0.73   \n",
       "\n",
       "          GFDL_nudge  \n",
       "Scenario              \n",
       "10H2            0.12  \n",
       "10CH4           0.66  "
      ]
     },
     "execution_count": 24,
     "metadata": {},
     "output_type": "execute_result"
    }
   ],
   "source": [
    "file = 'ozone_du_trop.txt'\n",
    "df_ozone_du_trop = pd.read_csv(path+file, sep=';',index_col=0,header=0)\n",
    "df_ozone_du_trop"
   ]
  },
  {
   "cell_type": "markdown",
   "metadata": {},
   "source": [
    "### 3.2 Change in stratospheric ozone (DU)"
   ]
  },
  {
   "cell_type": "code",
   "execution_count": 25,
   "metadata": {},
   "outputs": [
    {
     "data": {
      "text/html": [
       "<div>\n",
       "<style scoped>\n",
       "    .dataframe tbody tr th:only-of-type {\n",
       "        vertical-align: middle;\n",
       "    }\n",
       "\n",
       "    .dataframe tbody tr th {\n",
       "        vertical-align: top;\n",
       "    }\n",
       "\n",
       "    .dataframe thead th {\n",
       "        text-align: right;\n",
       "    }\n",
       "</style>\n",
       "<table border=\"1\" class=\"dataframe\">\n",
       "  <thead>\n",
       "    <tr style=\"text-align: right;\">\n",
       "      <th></th>\n",
       "      <th>OSLOCTM3</th>\n",
       "      <th>WACCM6-2deg</th>\n",
       "      <th>INCA</th>\n",
       "      <th>GFDL-emi</th>\n",
       "      <th>OSLOCTM3-emi</th>\n",
       "      <th>UKCA</th>\n",
       "      <th>GFDL_nudge</th>\n",
       "    </tr>\n",
       "    <tr>\n",
       "      <th>Scenario</th>\n",
       "      <th></th>\n",
       "      <th></th>\n",
       "      <th></th>\n",
       "      <th></th>\n",
       "      <th></th>\n",
       "      <th></th>\n",
       "      <th></th>\n",
       "    </tr>\n",
       "  </thead>\n",
       "  <tbody>\n",
       "    <tr>\n",
       "      <th>10H2</th>\n",
       "      <td>0.01</td>\n",
       "      <td>-0.01</td>\n",
       "      <td>-0.04</td>\n",
       "      <td>-0.38</td>\n",
       "      <td>0.01</td>\n",
       "      <td>nan</td>\n",
       "      <td>-0.07</td>\n",
       "    </tr>\n",
       "    <tr>\n",
       "      <th>10CH4</th>\n",
       "      <td>0.83</td>\n",
       "      <td>0.80</td>\n",
       "      <td>0.25</td>\n",
       "      <td>1.41</td>\n",
       "      <td>nan</td>\n",
       "      <td>nan</td>\n",
       "      <td>0.78</td>\n",
       "    </tr>\n",
       "  </tbody>\n",
       "</table>\n",
       "</div>"
      ],
      "text/plain": [
       "          OSLOCTM3  WACCM6-2deg  INCA  GFDL-emi  OSLOCTM3-emi  UKCA  \\\n",
       "Scenario                                                              \n",
       "10H2          0.01        -0.01 -0.04     -0.38          0.01   nan   \n",
       "10CH4         0.83         0.80  0.25      1.41           nan   nan   \n",
       "\n",
       "          GFDL_nudge  \n",
       "Scenario              \n",
       "10H2           -0.07  \n",
       "10CH4           0.78  "
      ]
     },
     "execution_count": 25,
     "metadata": {},
     "output_type": "execute_result"
    }
   ],
   "source": [
    "file = 'ozone_du_strat.txt'\n",
    "df_ozone_du_strat = pd.read_csv(path+file, sep=';',index_col=0,header=0)\n",
    "df_ozone_du_strat"
   ]
  },
  {
   "cell_type": "markdown",
   "metadata": {},
   "source": [
    "### 3.5 Ozone RF"
   ]
  },
  {
   "cell_type": "markdown",
   "metadata": {},
   "source": [
    "Ozone RF is calculated using a radiative kernel (Skeie et al 2020) and the modelled changes in ozone concentration. For GFDL-emi 10H2 RF is forcing calculated in the H2 perturbation and 10CH4 the forcing calculated by the H2+CH4 pert minus the H2 pert."
   ]
  },
  {
   "cell_type": "code",
   "execution_count": 26,
   "metadata": {},
   "outputs": [
    {
     "data": {
      "text/html": [
       "<div>\n",
       "<style scoped>\n",
       "    .dataframe tbody tr th:only-of-type {\n",
       "        vertical-align: middle;\n",
       "    }\n",
       "\n",
       "    .dataframe tbody tr th {\n",
       "        vertical-align: top;\n",
       "    }\n",
       "\n",
       "    .dataframe thead th {\n",
       "        text-align: right;\n",
       "    }\n",
       "</style>\n",
       "<table border=\"1\" class=\"dataframe\">\n",
       "  <thead>\n",
       "    <tr style=\"text-align: right;\">\n",
       "      <th></th>\n",
       "      <th>OSLOCTM3</th>\n",
       "      <th>WACCM6-2deg</th>\n",
       "      <th>INCA</th>\n",
       "      <th>GFDL-emi</th>\n",
       "      <th>OSLOCTM3-emi</th>\n",
       "      <th>UKCA</th>\n",
       "      <th>GFDL_nudge</th>\n",
       "    </tr>\n",
       "    <tr>\n",
       "      <th>Scenario</th>\n",
       "      <th></th>\n",
       "      <th></th>\n",
       "      <th></th>\n",
       "      <th></th>\n",
       "      <th></th>\n",
       "      <th></th>\n",
       "      <th></th>\n",
       "    </tr>\n",
       "  </thead>\n",
       "  <tbody>\n",
       "    <tr>\n",
       "      <th>10H2</th>\n",
       "      <td>1.86</td>\n",
       "      <td>1.75</td>\n",
       "      <td>1.06</td>\n",
       "      <td>31.0</td>\n",
       "      <td>3.06</td>\n",
       "      <td>1.20</td>\n",
       "      <td>6.40</td>\n",
       "    </tr>\n",
       "    <tr>\n",
       "      <th>10CH4</th>\n",
       "      <td>41.0</td>\n",
       "      <td>42.7</td>\n",
       "      <td>22.1</td>\n",
       "      <td>45.4</td>\n",
       "      <td>nan</td>\n",
       "      <td>25.6</td>\n",
       "      <td>33.4</td>\n",
       "    </tr>\n",
       "  </tbody>\n",
       "</table>\n",
       "</div>"
      ],
      "text/plain": [
       "          OSLOCTM3  WACCM6-2deg  INCA  GFDL-emi  OSLOCTM3-emi  UKCA  \\\n",
       "Scenario                                                              \n",
       "10H2          1.86         1.75  1.06      31.0          3.06  1.20   \n",
       "10CH4         41.0         42.7  22.1      45.4           nan  25.6   \n",
       "\n",
       "          GFDL_nudge  \n",
       "Scenario              \n",
       "10H2            6.40  \n",
       "10CH4           33.4  "
      ]
     },
     "execution_count": 26,
     "metadata": {},
     "output_type": "execute_result"
    }
   ],
   "source": [
    "file = 'ozone_rf.txt'\n",
    "df_ozone_rf = pd.read_csv(path+file, sep=';',index_col=0,header=0)\n",
    "df_ozone_rf"
   ]
  },
  {
   "cell_type": "code",
   "execution_count": 27,
   "metadata": {},
   "outputs": [
    {
     "data": {
      "text/html": [
       "<div>\n",
       "<style scoped>\n",
       "    .dataframe tbody tr th:only-of-type {\n",
       "        vertical-align: middle;\n",
       "    }\n",
       "\n",
       "    .dataframe tbody tr th {\n",
       "        vertical-align: top;\n",
       "    }\n",
       "\n",
       "    .dataframe thead th {\n",
       "        text-align: right;\n",
       "    }\n",
       "</style>\n",
       "<table border=\"1\" class=\"dataframe\">\n",
       "  <thead>\n",
       "    <tr style=\"text-align: right;\">\n",
       "      <th></th>\n",
       "      <th>OSLOCTM3</th>\n",
       "      <th>WACCM6-2deg</th>\n",
       "      <th>INCA</th>\n",
       "      <th>GFDL-emi</th>\n",
       "      <th>OSLOCTM3-emi</th>\n",
       "      <th>UKCA</th>\n",
       "      <th>GFDL_nudge</th>\n",
       "    </tr>\n",
       "    <tr>\n",
       "      <th>Scenario</th>\n",
       "      <th></th>\n",
       "      <th></th>\n",
       "      <th></th>\n",
       "      <th></th>\n",
       "      <th></th>\n",
       "      <th></th>\n",
       "      <th></th>\n",
       "    </tr>\n",
       "  </thead>\n",
       "  <tbody>\n",
       "    <tr>\n",
       "      <th>10H2</th>\n",
       "      <td>1.86</td>\n",
       "      <td>1.75</td>\n",
       "      <td>1.06</td>\n",
       "      <td>31.0</td>\n",
       "      <td>3.06</td>\n",
       "      <td>1.20</td>\n",
       "      <td>6.40</td>\n",
       "    </tr>\n",
       "    <tr>\n",
       "      <th>10CH4</th>\n",
       "      <td>41.0</td>\n",
       "      <td>42.7</td>\n",
       "      <td>22.1</td>\n",
       "      <td>45.4</td>\n",
       "      <td>41.0</td>\n",
       "      <td>25.6</td>\n",
       "      <td>33.4</td>\n",
       "    </tr>\n",
       "  </tbody>\n",
       "</table>\n",
       "</div>"
      ],
      "text/plain": [
       "          OSLOCTM3  WACCM6-2deg  INCA  GFDL-emi  OSLOCTM3-emi  UKCA  \\\n",
       "Scenario                                                              \n",
       "10H2          1.86         1.75  1.06      31.0          3.06  1.20   \n",
       "10CH4         41.0         42.7  22.1      45.4          41.0  25.6   \n",
       "\n",
       "          GFDL_nudge  \n",
       "Scenario              \n",
       "10H2            6.40  \n",
       "10CH4           33.4  "
      ]
     },
     "execution_count": 27,
     "metadata": {},
     "output_type": "execute_result"
    }
   ],
   "source": [
    "df_ozone_rf['OSLOCTM3-emi'].loc['10CH4'] = df_ozone_rf['OSLOCTM3'].loc['10CH4'] \n",
    "df_ozone_rf"
   ]
  },
  {
   "cell_type": "markdown",
   "metadata": {},
   "source": [
    "## 4. Stratospheric H2O RF [mW m-2]"
   ]
  },
  {
   "cell_type": "markdown",
   "metadata": {},
   "source": [
    "Stratospheric H2O RF calculated offline. Preliminary results for OsloCTM3-emis."
   ]
  },
  {
   "cell_type": "code",
   "execution_count": 28,
   "metadata": {},
   "outputs": [
    {
     "data": {
      "text/html": [
       "<div>\n",
       "<style scoped>\n",
       "    .dataframe tbody tr th:only-of-type {\n",
       "        vertical-align: middle;\n",
       "    }\n",
       "\n",
       "    .dataframe tbody tr th {\n",
       "        vertical-align: top;\n",
       "    }\n",
       "\n",
       "    .dataframe thead th {\n",
       "        text-align: right;\n",
       "    }\n",
       "</style>\n",
       "<table border=\"1\" class=\"dataframe\">\n",
       "  <thead>\n",
       "    <tr style=\"text-align: right;\">\n",
       "      <th></th>\n",
       "      <th>OSLOCTM3</th>\n",
       "      <th>WACCM6-2deg</th>\n",
       "      <th>INCA</th>\n",
       "      <th>OSLOCTM3-emi</th>\n",
       "      <th>GFDL_nudge</th>\n",
       "    </tr>\n",
       "    <tr>\n",
       "      <th>Scenario</th>\n",
       "      <th></th>\n",
       "      <th></th>\n",
       "      <th></th>\n",
       "      <th></th>\n",
       "      <th></th>\n",
       "    </tr>\n",
       "  </thead>\n",
       "  <tbody>\n",
       "    <tr>\n",
       "      <th>10H2</th>\n",
       "      <td>1.48</td>\n",
       "      <td>0.51</td>\n",
       "      <td>0.82</td>\n",
       "      <td>2.43</td>\n",
       "      <td>4.92</td>\n",
       "    </tr>\n",
       "    <tr>\n",
       "      <th>10CH4</th>\n",
       "      <td>10.1</td>\n",
       "      <td>3.76</td>\n",
       "      <td>6.62</td>\n",
       "      <td>nan</td>\n",
       "      <td>20.0</td>\n",
       "    </tr>\n",
       "  </tbody>\n",
       "</table>\n",
       "</div>"
      ],
      "text/plain": [
       "          OSLOCTM3  WACCM6-2deg  INCA  OSLOCTM3-emi  GFDL_nudge\n",
       "Scenario                                                       \n",
       "10H2          1.48         0.51  0.82          2.43        4.92\n",
       "10CH4         10.1         3.76  6.62           nan        20.0"
      ]
     },
     "execution_count": 28,
     "metadata": {},
     "output_type": "execute_result"
    }
   ],
   "source": [
    "file = 'H2O_rf.txt'\n",
    "df_h2o_rf = pd.read_csv(path+file, sep=';',index_col=0,header=0)\n",
    "df_h2o_rf"
   ]
  },
  {
   "cell_type": "code",
   "execution_count": 29,
   "metadata": {},
   "outputs": [
    {
     "data": {
      "text/html": [
       "<div>\n",
       "<style scoped>\n",
       "    .dataframe tbody tr th:only-of-type {\n",
       "        vertical-align: middle;\n",
       "    }\n",
       "\n",
       "    .dataframe tbody tr th {\n",
       "        vertical-align: top;\n",
       "    }\n",
       "\n",
       "    .dataframe thead th {\n",
       "        text-align: right;\n",
       "    }\n",
       "</style>\n",
       "<table border=\"1\" class=\"dataframe\">\n",
       "  <thead>\n",
       "    <tr style=\"text-align: right;\">\n",
       "      <th></th>\n",
       "      <th>OSLOCTM3</th>\n",
       "      <th>WACCM6-2deg</th>\n",
       "      <th>INCA</th>\n",
       "      <th>OSLOCTM3-emi</th>\n",
       "      <th>GFDL_nudge</th>\n",
       "    </tr>\n",
       "    <tr>\n",
       "      <th>Scenario</th>\n",
       "      <th></th>\n",
       "      <th></th>\n",
       "      <th></th>\n",
       "      <th></th>\n",
       "      <th></th>\n",
       "    </tr>\n",
       "  </thead>\n",
       "  <tbody>\n",
       "    <tr>\n",
       "      <th>10H2</th>\n",
       "      <td>1.48</td>\n",
       "      <td>0.51</td>\n",
       "      <td>0.82</td>\n",
       "      <td>2.43</td>\n",
       "      <td>4.92</td>\n",
       "    </tr>\n",
       "    <tr>\n",
       "      <th>10CH4</th>\n",
       "      <td>10.1</td>\n",
       "      <td>3.76</td>\n",
       "      <td>6.62</td>\n",
       "      <td>10.1</td>\n",
       "      <td>20.0</td>\n",
       "    </tr>\n",
       "  </tbody>\n",
       "</table>\n",
       "</div>"
      ],
      "text/plain": [
       "          OSLOCTM3  WACCM6-2deg  INCA  OSLOCTM3-emi  GFDL_nudge\n",
       "Scenario                                                       \n",
       "10H2          1.48         0.51  0.82          2.43        4.92\n",
       "10CH4         10.1         3.76  6.62          10.1        20.0"
      ]
     },
     "execution_count": 29,
     "metadata": {},
     "output_type": "execute_result"
    }
   ],
   "source": [
    "df_h2o_rf['OSLOCTM3-emi'].loc['10CH4'] = df_h2o_rf['OSLOCTM3'].loc['10CH4'] \n",
    "df_h2o_rf"
   ]
  },
  {
   "cell_type": "code",
   "execution_count": 30,
   "metadata": {
    "scrolled": true
   },
   "outputs": [
    {
     "data": {
      "text/html": [
       "<div>\n",
       "<style scoped>\n",
       "    .dataframe tbody tr th:only-of-type {\n",
       "        vertical-align: middle;\n",
       "    }\n",
       "\n",
       "    .dataframe tbody tr th {\n",
       "        vertical-align: top;\n",
       "    }\n",
       "\n",
       "    .dataframe thead th {\n",
       "        text-align: right;\n",
       "    }\n",
       "</style>\n",
       "<table border=\"1\" class=\"dataframe\">\n",
       "  <thead>\n",
       "    <tr style=\"text-align: right;\">\n",
       "      <th></th>\n",
       "      <th>GFDL</th>\n",
       "    </tr>\n",
       "  </thead>\n",
       "  <tbody>\n",
       "    <tr>\n",
       "      <th>H2 [mW m-2]</th>\n",
       "      <td>32.6</td>\n",
       "    </tr>\n",
       "    <tr>\n",
       "      <th>H2+CH4 [mW m-2]</th>\n",
       "      <td>51.7</td>\n",
       "    </tr>\n",
       "  </tbody>\n",
       "</table>\n",
       "</div>"
      ],
      "text/plain": [
       "                 GFDL\n",
       "H2 [mW m-2]      32.6\n",
       "H2+CH4 [mW m-2]  51.7"
      ]
     },
     "execution_count": 30,
     "metadata": {},
     "output_type": "execute_result"
    }
   ],
   "source": [
    "file = 'H2O_rf_gfdl.txt'\n",
    "h2o_rf_gfdl = pd.read_csv(path + file, sep=',',index_col=0,header=0)\n",
    "h2o_rf_gfdl"
   ]
  },
  {
   "cell_type": "markdown",
   "metadata": {},
   "source": [
    "## 5. Aerosol RF [mW m-2]"
   ]
  },
  {
   "cell_type": "code",
   "execution_count": 31,
   "metadata": {},
   "outputs": [
    {
     "data": {
      "text/html": [
       "<div>\n",
       "<style scoped>\n",
       "    .dataframe tbody tr th:only-of-type {\n",
       "        vertical-align: middle;\n",
       "    }\n",
       "\n",
       "    .dataframe tbody tr th {\n",
       "        vertical-align: top;\n",
       "    }\n",
       "\n",
       "    .dataframe thead th {\n",
       "        text-align: right;\n",
       "    }\n",
       "</style>\n",
       "<table border=\"1\" class=\"dataframe\">\n",
       "  <thead>\n",
       "    <tr style=\"text-align: right;\">\n",
       "      <th></th>\n",
       "      <th>OSLOCTM3</th>\n",
       "      <th>GFDL-emi</th>\n",
       "      <th>GFDL_nudge</th>\n",
       "      <th>OSLOCTM3-emi</th>\n",
       "      <th>INCA</th>\n",
       "    </tr>\n",
       "    <tr>\n",
       "      <th>Scenario</th>\n",
       "      <th></th>\n",
       "      <th></th>\n",
       "      <th></th>\n",
       "      <th></th>\n",
       "      <th></th>\n",
       "    </tr>\n",
       "  </thead>\n",
       "  <tbody>\n",
       "    <tr>\n",
       "      <th>10H2</th>\n",
       "      <td>-0.28</td>\n",
       "      <td>-21.8</td>\n",
       "      <td>0.47</td>\n",
       "      <td>-0.39</td>\n",
       "      <td>0.22</td>\n",
       "    </tr>\n",
       "    <tr>\n",
       "      <th>10CH4</th>\n",
       "      <td>-1.11</td>\n",
       "      <td>-14.5</td>\n",
       "      <td>0.18</td>\n",
       "      <td>nan</td>\n",
       "      <td>2.60</td>\n",
       "    </tr>\n",
       "  </tbody>\n",
       "</table>\n",
       "</div>"
      ],
      "text/plain": [
       "          OSLOCTM3  GFDL-emi  GFDL_nudge  OSLOCTM3-emi  INCA\n",
       "Scenario                                                    \n",
       "10H2         -0.28     -21.8        0.47         -0.39  0.22\n",
       "10CH4        -1.11     -14.5        0.18           nan  2.60"
      ]
     },
     "execution_count": 31,
     "metadata": {},
     "output_type": "execute_result"
    }
   ],
   "source": [
    "file = 'aerosol_rf.txt'\n",
    "df_aerosol_rf = pd.read_csv(path+file, sep=';',index_col=0,header=0)\n",
    "df_aerosol_rf"
   ]
  },
  {
   "cell_type": "code",
   "execution_count": 32,
   "metadata": {},
   "outputs": [
    {
     "data": {
      "text/html": [
       "<div>\n",
       "<style scoped>\n",
       "    .dataframe tbody tr th:only-of-type {\n",
       "        vertical-align: middle;\n",
       "    }\n",
       "\n",
       "    .dataframe tbody tr th {\n",
       "        vertical-align: top;\n",
       "    }\n",
       "\n",
       "    .dataframe thead th {\n",
       "        text-align: right;\n",
       "    }\n",
       "</style>\n",
       "<table border=\"1\" class=\"dataframe\">\n",
       "  <thead>\n",
       "    <tr style=\"text-align: right;\">\n",
       "      <th></th>\n",
       "      <th>OSLOCTM3</th>\n",
       "      <th>GFDL-emi</th>\n",
       "      <th>GFDL_nudge</th>\n",
       "      <th>OSLOCTM3-emi</th>\n",
       "      <th>INCA</th>\n",
       "    </tr>\n",
       "    <tr>\n",
       "      <th>Scenario</th>\n",
       "      <th></th>\n",
       "      <th></th>\n",
       "      <th></th>\n",
       "      <th></th>\n",
       "      <th></th>\n",
       "    </tr>\n",
       "  </thead>\n",
       "  <tbody>\n",
       "    <tr>\n",
       "      <th>10H2</th>\n",
       "      <td>-0.28</td>\n",
       "      <td>-21.8</td>\n",
       "      <td>0.47</td>\n",
       "      <td>-0.39</td>\n",
       "      <td>0.22</td>\n",
       "    </tr>\n",
       "    <tr>\n",
       "      <th>10CH4</th>\n",
       "      <td>-1.11</td>\n",
       "      <td>-14.5</td>\n",
       "      <td>0.18</td>\n",
       "      <td>-1.11</td>\n",
       "      <td>2.60</td>\n",
       "    </tr>\n",
       "  </tbody>\n",
       "</table>\n",
       "</div>"
      ],
      "text/plain": [
       "          OSLOCTM3  GFDL-emi  GFDL_nudge  OSLOCTM3-emi  INCA\n",
       "Scenario                                                    \n",
       "10H2         -0.28     -21.8        0.47         -0.39  0.22\n",
       "10CH4        -1.11     -14.5        0.18         -1.11  2.60"
      ]
     },
     "execution_count": 32,
     "metadata": {},
     "output_type": "execute_result"
    }
   ],
   "source": [
    "df_aerosol_rf['OSLOCTM3-emi'].loc['10CH4'] = df_aerosol_rf['OSLOCTM3'].loc['10CH4'] \n",
    "df_aerosol_rf"
   ]
  },
  {
   "cell_type": "markdown",
   "metadata": {},
   "source": [
    "\n",
    "# Part II: GWP calculations:"
   ]
  },
  {
   "cell_type": "markdown",
   "metadata": {},
   "source": [
    "The pulse integrated to infinity of the effects of a short lived climate forcer is equal to the change respones of its effects at steady state multiplied by the steady state lifetime of the short lived forcer(:cite:p:`Prather2002a` and :cite:p:`Prather2007a`). \n",
    "\n",
    "Prather 2002: prove that: (a) the steadystate pattern of impacts caused by specified emissions, multiplied by (b) the steady-state lifetime of the source gas for that emission pattern, is exactly equal to (c) the integral of all impacts - independent of the number and atmospheric residence times of secondary impacts. Therefore, the AGWP for hydrogen is identical whether calculating by integrating a pulse or by using the steady state changes per flux, given that the perturbation reaches steady state before 100 years. The longest-lived chemical mode here is keyed to methane, which has an e-folding lifetime of about 12 years. Our perturbed experiments are run to steate-state.\n"
   ]
  },
  {
   "cell_type": "markdown",
   "metadata": {},
   "source": [
    "### Change in H2 surface conc. caused by 1 Tg H2/yr [ppb yr Tg-1]"
   ]
  },
  {
   "cell_type": "markdown",
   "metadata": {},
   "source": [
    "This is not used for the GWP calculation. Only for the per flux table and for the feedback factor calulations."
   ]
  },
  {
   "cell_type": "code",
   "execution_count": 33,
   "metadata": {},
   "outputs": [
    {
     "data": {
      "text/plain": [
       "OSLOCTM3       6.23\n",
       "WACCM6-2deg    5.36\n",
       "INCA           7.36\n",
       "GFDL-emi       6.96\n",
       "OSLOCTM3-emi   6.48\n",
       "UKCA           4.74\n",
       "GFDL_nudge     6.98\n",
       "Name: surf_h2_per_h2_flux, dtype: float64"
      ]
     },
     "execution_count": 33,
     "metadata": {},
     "output_type": "execute_result"
    }
   ],
   "source": [
    "df_surf_h2_per_h2_flux = df_h2_surfconc.loc['deltaH2']/df_h2_flux.loc['deltaH2']\n",
    "df_surf_h2_per_h2_flux.name = 'surf_h2_per_h2_flux'\n",
    "df_surf_h2_per_h2_flux"
   ]
  },
  {
   "cell_type": "markdown",
   "metadata": {},
   "source": [
    "### Change in CH4 flux caused by 1 TgH2 /yr (includes H2 feedback) [Tg CH4/Tg H2]:"
   ]
  },
  {
   "cell_type": "markdown",
   "metadata": {},
   "source": [
    "The ch4_flux is multiplied by -1 (see above, or move description here)... Why this includes feedback..."
   ]
  },
  {
   "cell_type": "code",
   "execution_count": 34,
   "metadata": {},
   "outputs": [
    {
     "data": {
      "text/plain": [
       "OSLOCTM3       0.31\n",
       "WACCM6-2deg    0.33\n",
       "INCA           0.29\n",
       "GFDL-emi       0.21\n",
       "OSLOCTM3-emi   0.32\n",
       "UKCA           0.24\n",
       "GFDL_nudge     0.26\n",
       "Name: ch4_flux_per_h2_flux, dtype: float64"
      ]
     },
     "execution_count": 34,
     "metadata": {},
     "output_type": "execute_result"
    }
   ],
   "source": [
    "df_ch4_flux_per_h2_flux = -1.0*df_ch4_flux.loc['deltaH2']/df_h2_flux.loc['deltaH2']\n",
    "df_ch4_flux_per_h2_flux.name = 'ch4_flux_per_h2_flux'\n",
    "df_ch4_flux_per_h2_flux"
   ]
  },
  {
   "cell_type": "markdown",
   "metadata": {},
   "source": [
    "### Change in CH4 surface conc. caused by 1 Tg/yr CH4 [ppb yr/Tg CH4]"
   ]
  },
  {
   "cell_type": "code",
   "execution_count": 35,
   "metadata": {},
   "outputs": [
    {
     "data": {
      "text/plain": [
       "OSLOCTM3       3.46\n",
       "WACCM6-2deg    3.45\n",
       "INCA           3.67\n",
       "GFDL-emi        nan\n",
       "OSLOCTM3-emi    nan\n",
       "UKCA           3.80\n",
       "GFDL_nudge     4.18\n",
       "Name: surf_ch4_per_ch4_flux, dtype: float64"
      ]
     },
     "execution_count": 35,
     "metadata": {},
     "output_type": "execute_result"
    }
   ],
   "source": [
    "df_surf_ch4_per_ch4_flux =  df_ch4_surfconc.loc['deltaCH4']/df_ch4_flux.loc['deltaCH4']\n",
    "df_surf_ch4_per_ch4_flux.name = 'surf_ch4_per_ch4_flux'\n",
    "df_surf_ch4_per_ch4_flux"
   ]
  },
  {
   "cell_type": "markdown",
   "metadata": {},
   "source": [
    "Set equal to OsloCTM3 concentrationdriven"
   ]
  },
  {
   "cell_type": "code",
   "execution_count": 36,
   "metadata": {},
   "outputs": [
    {
     "data": {
      "text/plain": [
       "OSLOCTM3       3.46\n",
       "WACCM6-2deg    3.45\n",
       "INCA           3.67\n",
       "GFDL-emi        nan\n",
       "OSLOCTM3-emi   3.46\n",
       "UKCA           3.80\n",
       "GFDL_nudge     4.18\n",
       "Name: surf_ch4_per_ch4_flux, dtype: float64"
      ]
     },
     "execution_count": 36,
     "metadata": {},
     "output_type": "execute_result"
    }
   ],
   "source": [
    "df_surf_ch4_per_ch4_flux['OSLOCTM3-emi'] = df_surf_ch4_per_ch4_flux['OSLOCTM3']\n",
    "df_surf_ch4_per_ch4_flux"
   ]
  },
  {
   "cell_type": "markdown",
   "metadata": {},
   "source": [
    "### Change in CH4 surface concentration per emission H2 [ppb yr /Tg H2]"
   ]
  },
  {
   "cell_type": "code",
   "execution_count": 37,
   "metadata": {},
   "outputs": [
    {
     "data": {
      "text/plain": [
       "OSLOCTM3       1.08\n",
       "WACCM6-2deg    1.14\n",
       "INCA           1.08\n",
       "GFDL-emi       1.00\n",
       "OSLOCTM3-emi   1.11\n",
       "UKCA           0.93\n",
       "GFDL_nudge     1.09\n",
       "Name: surf_ch4_per_h2_flux, dtype: float64"
      ]
     },
     "execution_count": 37,
     "metadata": {},
     "output_type": "execute_result"
    }
   ],
   "source": [
    "df_surf_ch4_per_h2_flux = df_surf_ch4_per_ch4_flux*df_ch4_flux_per_h2_flux\n",
    "df_surf_ch4_per_h2_flux.name = 'surf_ch4_per_h2_flux'\n",
    "\n",
    "#Add GFDL:\n",
    "#Increase in surface concentration CH4:\n",
    "#1808 to 2005 ppbv (REF Paolot)\n",
    "df_surf_ch4_per_h2_flux['GFDL-emi']= (2005.-1808.)/df_h2_flux['GFDL-emi'].loc['deltaH2']\n",
    "df_surf_ch4_per_h2_flux"
   ]
  },
  {
   "cell_type": "markdown",
   "metadata": {},
   "source": [
    "### Change in H2 flux caused by 1 TgCH4/yr [Tg H2/Tg CH4]"
   ]
  },
  {
   "cell_type": "markdown",
   "metadata": {},
   "source": [
    "Why we multiply by -1"
   ]
  },
  {
   "cell_type": "code",
   "execution_count": 38,
   "metadata": {},
   "outputs": [
    {
     "data": {
      "text/plain": [
       "OSLOCTM3       0.01\n",
       "WACCM6-2deg    0.02\n",
       "INCA           0.01\n",
       "GFDL-emi        nan\n",
       "OSLOCTM3-emi    nan\n",
       "UKCA           0.02\n",
       "GFDL_nudge     0.01\n",
       "Name: h2_flux_per_ch4_flux, dtype: float64"
      ]
     },
     "execution_count": 38,
     "metadata": {},
     "output_type": "execute_result"
    }
   ],
   "source": [
    "df_h2_flux_per_ch4_flux = -1.0*df_h2_flux.loc['deltaCH4']/df_ch4_flux.loc['deltaCH4']\n",
    "df_h2_flux_per_ch4_flux.name = 'h2_flux_per_ch4_flux'\n",
    "df_h2_flux_per_ch4_flux"
   ]
  },
  {
   "cell_type": "code",
   "execution_count": 39,
   "metadata": {},
   "outputs": [
    {
     "data": {
      "text/plain": [
       "OSLOCTM3       0.01\n",
       "WACCM6-2deg    0.02\n",
       "INCA           0.01\n",
       "GFDL-emi        nan\n",
       "OSLOCTM3-emi   0.01\n",
       "UKCA           0.02\n",
       "GFDL_nudge     0.01\n",
       "Name: h2_flux_per_ch4_flux, dtype: float64"
      ]
     },
     "execution_count": 39,
     "metadata": {},
     "output_type": "execute_result"
    }
   ],
   "source": [
    "df_h2_flux_per_ch4_flux['OSLOCTM3-emi'] = df_h2_flux_per_ch4_flux['OSLOCTM3']\n",
    "df_h2_flux_per_ch4_flux"
   ]
  },
  {
   "cell_type": "markdown",
   "metadata": {},
   "source": [
    "### HYDROGEN AGWP100 CH4 [mW m-2 yr Tg-1]"
   ]
  },
  {
   "cell_type": "markdown",
   "metadata": {},
   "source": [
    "Explain why this is AGWP"
   ]
  },
  {
   "cell_type": "code",
   "execution_count": 40,
   "metadata": {},
   "outputs": [],
   "source": [
    "df_h2_agwp_ch4 = df_surf_ch4_per_h2_flux*spec_rf_ch4\n",
    "df_h2_agwp_ch4.name = 'h2_agwp_ch4'\n",
    "\n",
    "\n",
    "#agwp_ch4 = RF per flux H2 (For the per flux table)\n",
    "df_ch4_rf_per_h2_flux = df_surf_ch4_per_h2_flux*spec_rf_ch4\n",
    "df_ch4_rf_per_h2_flux.name = 'ch4_rf_per_h2_flux'\n",
    "\n",
    "\n",
    "\n"
   ]
  },
  {
   "cell_type": "markdown",
   "metadata": {},
   "source": [
    "### Initialize H2 GWP table"
   ]
  },
  {
   "cell_type": "code",
   "execution_count": 41,
   "metadata": {},
   "outputs": [],
   "source": [
    "antmod = len(df_h2_agwp_ch4.index)\n",
    "df_h2_gwp = pd.DataFrame(np.empty([5,antmod])*np.nan,columns=df_h2_agwp_ch4.index,\n",
    "                         index=['O3','CH4','strat H2O','O3 CH4ind','strat H2O CH4ind'])"
   ]
  },
  {
   "cell_type": "markdown",
   "metadata": {},
   "source": [
    "### Add methane GWP"
   ]
  },
  {
   "cell_type": "code",
   "execution_count": 42,
   "metadata": {},
   "outputs": [],
   "source": [
    "df_h2_gwp.loc['CH4'] = df_h2_agwp_ch4/agwp100_CO2"
   ]
  },
  {
   "cell_type": "markdown",
   "metadata": {},
   "source": [
    "### HYDROGEN AGWP100 strat H2O [mW m-2 yr Tg-1]"
   ]
  },
  {
   "cell_type": "markdown",
   "metadata": {},
   "source": []
  },
  {
   "cell_type": "code",
   "execution_count": 43,
   "metadata": {},
   "outputs": [],
   "source": [
    "df_h2_agwp_h2o = df_h2o_rf.loc['10H2']/df_h2_flux.loc['deltaH2']\n",
    "df_h2_agwp_h2o['GFDL-emi'] = h2o_rf_gfdl['GFDL'].loc['H2+CH4 [mW m-2]']/df_h2_flux['GFDL-emi'].loc['deltaH2']\n",
    "df_h2_agwp_h2o.name = 'h2_agwp_h2o'\n",
    "\n",
    "#NBNB GFDL methane induced is included."
   ]
  },
  {
   "cell_type": "code",
   "execution_count": 44,
   "metadata": {},
   "outputs": [],
   "source": [
    "#Add to the flux table\n",
    "df_h2o_rf_per_h2_flux = df_h2o_rf.loc['10H2']/df_h2_flux.loc['deltaH2']\n",
    "df_h2o_rf_per_h2_flux.name= 'h2o_rf_per_h2_flux'\n",
    "df_h2o_rf_per_h2_flux['GFDL-emi'] = h2o_rf_gfdl['GFDL'].loc['H2 [mW m-2]']/df_h2_flux['GFDL-emi'].loc['deltaH2']\n",
    "\n",
    "#Strat H2O RF per methane flux (Move this to the methane part?)\n",
    "df_h2o_rf_per_ch4_flux = df_h2o_rf.loc['10CH4']/df_ch4_flux.loc['deltaCH4']\n",
    "df_h2o_rf_per_ch4_flux.name = 'h2o_rf_per_ch4_flux'\n"
   ]
  },
  {
   "cell_type": "code",
   "execution_count": 45,
   "metadata": {},
   "outputs": [
    {
     "data": {
      "text/plain": [
       "GFDL-emi        nan\n",
       "GFDL_nudge     0.46\n",
       "INCA           0.13\n",
       "OSLOCTM3       0.19\n",
       "OSLOCTM3-emi   0.19\n",
       "UKCA            nan\n",
       "WACCM6-2deg    0.07\n",
       "Name: h2o_rf_per_ch4_flux, dtype: float64"
      ]
     },
     "execution_count": 45,
     "metadata": {},
     "output_type": "execute_result"
    }
   ],
   "source": [
    "df_h2o_rf_per_ch4_flux['OSLOCTM3-emi'] = df_h2o_rf_per_ch4_flux['OSLOCTM3']\n",
    "df_h2o_rf_per_ch4_flux"
   ]
  },
  {
   "cell_type": "markdown",
   "metadata": {},
   "source": [
    "### Add stratospheric H2O GWP"
   ]
  },
  {
   "cell_type": "code",
   "execution_count": 46,
   "metadata": {},
   "outputs": [],
   "source": [
    "df_h2_gwp.loc['strat H2O'] = df_h2_agwp_h2o/agwp100_CO2"
   ]
  },
  {
   "cell_type": "markdown",
   "metadata": {},
   "source": [
    "### HYDROGEN AGWP100 O3 [mW m-2 yr Tg-1]"
   ]
  },
  {
   "cell_type": "code",
   "execution_count": 47,
   "metadata": {},
   "outputs": [],
   "source": [
    "df_h2_agwp_o3 = df_ozone_rf.loc['10H2']/df_h2_flux.loc['deltaH2']\n",
    "df_h2_agwp_o3.name = 'h2_agwp_o3'\n",
    "\n",
    "#For GFDL-emi include the methane induced part.\n",
    "df_h2_agwp_o3['GFDL-emi'] = (df_ozone_rf['GFDL-emi'].loc['10H2']+df_ozone_rf['GFDL-emi'].loc['10CH4'])/df_h2_flux['GFDL-emi'].loc['deltaH2']\n"
   ]
  },
  {
   "cell_type": "code",
   "execution_count": 48,
   "metadata": {},
   "outputs": [],
   "source": [
    "#Similar, but use only the H2 Ozone RF for GFDL. To be used in the table:\n",
    "df_ozone_rf_per_h2_flux = df_ozone_rf.loc['10H2']/df_h2_flux.loc['deltaH2']\n",
    "df_ozone_rf_per_h2_flux.name= 'ozone_rf_per_h2_flux'"
   ]
  },
  {
   "cell_type": "code",
   "execution_count": 49,
   "metadata": {},
   "outputs": [],
   "source": [
    "#Ozone RF per methane flux (move to the methane part?)\n",
    "df_ozone_rf_per_ch4_flux = df_ozone_rf.loc['10CH4']/df_ch4_flux.loc['deltaCH4']\n",
    "df_ozone_rf_per_ch4_flux.name = 'ozone_rf_per_ch4_flux'"
   ]
  },
  {
   "cell_type": "code",
   "execution_count": 50,
   "metadata": {},
   "outputs": [
    {
     "data": {
      "text/plain": [
       "OSLOCTM3       0.78\n",
       "WACCM6-2deg    0.81\n",
       "INCA           0.45\n",
       "GFDL-emi        nan\n",
       "OSLOCTM3-emi   0.78\n",
       "UKCA           0.54\n",
       "GFDL_nudge     0.77\n",
       "Name: ozone_rf_per_ch4_flux, dtype: float64"
      ]
     },
     "execution_count": 50,
     "metadata": {},
     "output_type": "execute_result"
    }
   ],
   "source": [
    "df_ozone_rf_per_ch4_flux['OSLOCTM3-emi'] = df_ozone_rf_per_ch4_flux['OSLOCTM3']\n",
    "df_ozone_rf_per_ch4_flux"
   ]
  },
  {
   "cell_type": "markdown",
   "metadata": {},
   "source": [
    "### Add Ozone GWP"
   ]
  },
  {
   "cell_type": "code",
   "execution_count": 51,
   "metadata": {},
   "outputs": [],
   "source": [
    "df_h2_gwp.loc['O3'] = df_h2_agwp_o3/agwp100_CO2"
   ]
  },
  {
   "cell_type": "markdown",
   "metadata": {},
   "source": [
    "### For the per flux table"
   ]
  },
  {
   "cell_type": "code",
   "execution_count": 52,
   "metadata": {},
   "outputs": [],
   "source": [
    "df_trop_du_ozone_per_ch4_flux = df_ozone_du_trop.loc['10CH4']/df_ch4_flux.loc['deltaCH4']\n",
    "df_trop_du_ozone_per_ch4_flux.name = 'trop_du_ozone_per_ch4_flux'\n",
    "\n",
    "df_strat_du_ozone_per_ch4_flux = df_ozone_du_strat.loc['10CH4']/df_ch4_flux.loc['deltaCH4']\n",
    "df_strat_du_ozone_per_ch4_flux.name = 'strat_du_ozone_per_ch4_flux'\n",
    "\n",
    "df_trop_du_ozone_per_h2_flux = df_ozone_du_trop.loc['10H2']/df_h2_flux.loc['deltaH2']\n",
    "df_trop_du_ozone_per_h2_flux.name = 'trop_du_ozone_per_h2_flux'\n",
    "\n",
    "df_strat_du_ozone_per_h2_flux = df_ozone_du_strat.loc['10H2']/df_h2_flux.loc['deltaH2']\n",
    "df_strat_du_ozone_per_h2_flux.name = 'strat_du_ozone_per_h2_flux'\n",
    "\n"
   ]
  },
  {
   "cell_type": "code",
   "execution_count": 53,
   "metadata": {},
   "outputs": [],
   "source": [
    "df_trop_du_ozone_per_ch4_flux['OSLOCTM3-emi']=df_trop_du_ozone_per_ch4_flux['OSLOCTM3']\n",
    "df_strat_du_ozone_per_ch4_flux['OSLOCTM3-emi']=df_strat_du_ozone_per_ch4_flux['OSLOCTM3']"
   ]
  },
  {
   "cell_type": "markdown",
   "metadata": {},
   "source": [
    "### HYDROGEN AGWP100 aerosol [mW m-2 yr Tg-1]"
   ]
  },
  {
   "cell_type": "code",
   "execution_count": 54,
   "metadata": {},
   "outputs": [
    {
     "data": {
      "text/plain": [
       "GFDL-emi       -0.11\n",
       "GFDL_nudge      0.02\n",
       "INCA            0.03\n",
       "OSLOCTM3       -0.03\n",
       "OSLOCTM3-emi   -0.03\n",
       "UKCA             nan\n",
       "WACCM6-2deg      nan\n",
       "Name: h2_agwp_aerosol, dtype: float64"
      ]
     },
     "execution_count": 54,
     "metadata": {},
     "output_type": "execute_result"
    }
   ],
   "source": [
    "df_h2_agwp_aerosol = df_aerosol_rf.loc['10H2']/df_h2_flux.loc['deltaH2']\n",
    "df_h2_agwp_aerosol.name = 'h2_agwp_aerosol'\n",
    "df_h2_agwp_aerosol\n",
    "#NBNB GFDL-emi include methane induced."
   ]
  },
  {
   "cell_type": "code",
   "execution_count": 55,
   "metadata": {},
   "outputs": [],
   "source": [
    "df_h2_gwp.loc['aerosol'] = df_h2_agwp_aerosol/agwp100_CO2 \n"
   ]
  },
  {
   "cell_type": "code",
   "execution_count": 56,
   "metadata": {},
   "outputs": [],
   "source": [
    "#Add to the flux table\n",
    "df_aerosol_rf_per_h2_flux = df_aerosol_rf.loc['10H2']/df_h2_flux.loc['deltaH2']\n",
    "df_aerosol_rf_per_h2_flux.name= 'aerosol_rf_per_h2_flux'\n",
    "\n",
    "\n",
    "df_aerosol_rf_per_ch4_flux = df_aerosol_rf.loc['10CH4']/df_ch4_flux.loc['deltaCH4']\n",
    "df_aerosol_rf_per_ch4_flux.name = 'aerosol_rf_per_ch4_flux'"
   ]
  },
  {
   "cell_type": "code",
   "execution_count": 57,
   "metadata": {},
   "outputs": [],
   "source": [
    "df_aerosol_rf_per_ch4_flux['OSLOCTM3-emi']=df_aerosol_rf_per_ch4_flux['OSLOCTM3']"
   ]
  },
  {
   "cell_type": "markdown",
   "metadata": {},
   "source": [
    "## Methane induced GWP:"
   ]
  },
  {
   "cell_type": "markdown",
   "metadata": {},
   "source": [
    "### HYDROGEN AGWP100 methane induced O3 [mW m-2 yr Tg-1]"
   ]
  },
  {
   "cell_type": "markdown",
   "metadata": {},
   "source": [
    "It does not matter here if we use surface concentration, burden, tropospheric concentration?"
   ]
  },
  {
   "cell_type": "code",
   "execution_count": 58,
   "metadata": {},
   "outputs": [],
   "source": [
    "df_ch4_surfconc['OSLOCTM3-emi'].loc['deltaCH4']=df_ch4_surfconc['OSLOCTM3'].loc['deltaCH4']"
   ]
  },
  {
   "cell_type": "code",
   "execution_count": 59,
   "metadata": {},
   "outputs": [],
   "source": [
    "#Wm-2/ppbCH4*ppbCH4/TgH2yr-1 -> Wm-2/TgH2yr-1\n",
    "df_h2_agwp_ch4ind_o3 = df_ozone_rf.loc['10CH4']/df_ch4_surfconc.loc['deltaCH4']*df_surf_ch4_per_h2_flux\n",
    "df_h2_agwp_ch4ind_o3.name = 'h2_agwp_ch4ind_o3'\n"
   ]
  },
  {
   "cell_type": "markdown",
   "metadata": {},
   "source": [
    "### Add methane induced O3 GWP"
   ]
  },
  {
   "cell_type": "code",
   "execution_count": 60,
   "metadata": {},
   "outputs": [
    {
     "data": {
      "text/html": [
       "<div>\n",
       "<style scoped>\n",
       "    .dataframe tbody tr th:only-of-type {\n",
       "        vertical-align: middle;\n",
       "    }\n",
       "\n",
       "    .dataframe tbody tr th {\n",
       "        vertical-align: top;\n",
       "    }\n",
       "\n",
       "    .dataframe thead th {\n",
       "        text-align: right;\n",
       "    }\n",
       "</style>\n",
       "<table border=\"1\" class=\"dataframe\">\n",
       "  <thead>\n",
       "    <tr style=\"text-align: right;\">\n",
       "      <th></th>\n",
       "      <th>OSLOCTM3</th>\n",
       "      <th>WACCM6-2deg</th>\n",
       "      <th>INCA</th>\n",
       "      <th>GFDL-emi</th>\n",
       "      <th>OSLOCTM3-emi</th>\n",
       "      <th>UKCA</th>\n",
       "      <th>GFDL_nudge</th>\n",
       "    </tr>\n",
       "  </thead>\n",
       "  <tbody>\n",
       "    <tr>\n",
       "      <th>O3</th>\n",
       "      <td>2.44</td>\n",
       "      <td>1.97</td>\n",
       "      <td>1.64</td>\n",
       "      <td>4.34</td>\n",
       "      <td>2.49</td>\n",
       "      <td>1.19</td>\n",
       "      <td>2.34</td>\n",
       "    </tr>\n",
       "    <tr>\n",
       "      <th>CH4</th>\n",
       "      <td>5.35</td>\n",
       "      <td>5.64</td>\n",
       "      <td>5.34</td>\n",
       "      <td>4.95</td>\n",
       "      <td>5.47</td>\n",
       "      <td>4.60</td>\n",
       "      <td>5.40</td>\n",
       "    </tr>\n",
       "    <tr>\n",
       "      <th>strat H2O</th>\n",
       "      <td>1.94</td>\n",
       "      <td>0.58</td>\n",
       "      <td>1.27</td>\n",
       "      <td>2.93</td>\n",
       "      <td>1.97</td>\n",
       "      <td>nan</td>\n",
       "      <td>1.80</td>\n",
       "    </tr>\n",
       "    <tr>\n",
       "      <th>O3 CH4ind</th>\n",
       "      <td>2.73</td>\n",
       "      <td>3.00</td>\n",
       "      <td>1.47</td>\n",
       "      <td>nan</td>\n",
       "      <td>2.80</td>\n",
       "      <td>1.47</td>\n",
       "      <td>2.24</td>\n",
       "    </tr>\n",
       "    <tr>\n",
       "      <th>strat H2O CH4ind</th>\n",
       "      <td>nan</td>\n",
       "      <td>nan</td>\n",
       "      <td>nan</td>\n",
       "      <td>nan</td>\n",
       "      <td>nan</td>\n",
       "      <td>nan</td>\n",
       "      <td>nan</td>\n",
       "    </tr>\n",
       "    <tr>\n",
       "      <th>aerosol</th>\n",
       "      <td>-0.37</td>\n",
       "      <td>nan</td>\n",
       "      <td>0.34</td>\n",
       "      <td>-1.24</td>\n",
       "      <td>-0.32</td>\n",
       "      <td>nan</td>\n",
       "      <td>0.17</td>\n",
       "    </tr>\n",
       "  </tbody>\n",
       "</table>\n",
       "</div>"
      ],
      "text/plain": [
       "                  OSLOCTM3  WACCM6-2deg  INCA  GFDL-emi  OSLOCTM3-emi  UKCA  \\\n",
       "O3                    2.44         1.97  1.64      4.34          2.49  1.19   \n",
       "CH4                   5.35         5.64  5.34      4.95          5.47  4.60   \n",
       "strat H2O             1.94         0.58  1.27      2.93          1.97   nan   \n",
       "O3 CH4ind             2.73         3.00  1.47       nan          2.80  1.47   \n",
       "strat H2O CH4ind       nan          nan   nan       nan           nan   nan   \n",
       "aerosol              -0.37          nan  0.34     -1.24         -0.32   nan   \n",
       "\n",
       "                  GFDL_nudge  \n",
       "O3                      2.34  \n",
       "CH4                     5.40  \n",
       "strat H2O               1.80  \n",
       "O3 CH4ind               2.24  \n",
       "strat H2O CH4ind         nan  \n",
       "aerosol                 0.17  "
      ]
     },
     "execution_count": 60,
     "metadata": {},
     "output_type": "execute_result"
    }
   ],
   "source": [
    "df_h2_gwp.loc['O3 CH4ind'] = df_h2_agwp_ch4ind_o3/agwp100_CO2\n",
    "df_h2_gwp"
   ]
  },
  {
   "cell_type": "markdown",
   "metadata": {},
   "source": [
    "### HYDROGEN AGWP100 methane induced strat H2O [mW m-2 yr Tg-1]"
   ]
  },
  {
   "cell_type": "code",
   "execution_count": 61,
   "metadata": {},
   "outputs": [],
   "source": [
    "df_h2_agwp_ch4ind_h2o = df_h2o_rf.loc['10CH4']/df_ch4_surfconc.loc['deltaCH4']*df_surf_ch4_per_h2_flux\n",
    "df_h2_agwp_ch4ind_h2o.name = 'h2_agwp_ch4ind_h2o'"
   ]
  },
  {
   "cell_type": "markdown",
   "metadata": {},
   "source": [
    "### Add methane induced strat H2O GWP"
   ]
  },
  {
   "cell_type": "code",
   "execution_count": 62,
   "metadata": {},
   "outputs": [
    {
     "data": {
      "text/html": [
       "<div>\n",
       "<style scoped>\n",
       "    .dataframe tbody tr th:only-of-type {\n",
       "        vertical-align: middle;\n",
       "    }\n",
       "\n",
       "    .dataframe tbody tr th {\n",
       "        vertical-align: top;\n",
       "    }\n",
       "\n",
       "    .dataframe thead th {\n",
       "        text-align: right;\n",
       "    }\n",
       "</style>\n",
       "<table border=\"1\" class=\"dataframe\">\n",
       "  <thead>\n",
       "    <tr style=\"text-align: right;\">\n",
       "      <th></th>\n",
       "      <th>OSLOCTM3</th>\n",
       "      <th>WACCM6-2deg</th>\n",
       "      <th>INCA</th>\n",
       "      <th>GFDL-emi</th>\n",
       "      <th>OSLOCTM3-emi</th>\n",
       "      <th>UKCA</th>\n",
       "      <th>GFDL_nudge</th>\n",
       "    </tr>\n",
       "  </thead>\n",
       "  <tbody>\n",
       "    <tr>\n",
       "      <th>O3</th>\n",
       "      <td>2.44</td>\n",
       "      <td>1.97</td>\n",
       "      <td>1.64</td>\n",
       "      <td>4.34</td>\n",
       "      <td>2.49</td>\n",
       "      <td>1.19</td>\n",
       "      <td>2.34</td>\n",
       "    </tr>\n",
       "    <tr>\n",
       "      <th>CH4</th>\n",
       "      <td>5.35</td>\n",
       "      <td>5.64</td>\n",
       "      <td>5.34</td>\n",
       "      <td>4.95</td>\n",
       "      <td>5.47</td>\n",
       "      <td>4.60</td>\n",
       "      <td>5.40</td>\n",
       "    </tr>\n",
       "    <tr>\n",
       "      <th>strat H2O</th>\n",
       "      <td>1.94</td>\n",
       "      <td>0.58</td>\n",
       "      <td>1.27</td>\n",
       "      <td>2.93</td>\n",
       "      <td>1.97</td>\n",
       "      <td>nan</td>\n",
       "      <td>1.80</td>\n",
       "    </tr>\n",
       "    <tr>\n",
       "      <th>O3 CH4ind</th>\n",
       "      <td>2.73</td>\n",
       "      <td>3.00</td>\n",
       "      <td>1.47</td>\n",
       "      <td>nan</td>\n",
       "      <td>2.80</td>\n",
       "      <td>1.47</td>\n",
       "      <td>2.24</td>\n",
       "    </tr>\n",
       "    <tr>\n",
       "      <th>strat H2O CH4ind</th>\n",
       "      <td>0.67</td>\n",
       "      <td>0.27</td>\n",
       "      <td>0.44</td>\n",
       "      <td>nan</td>\n",
       "      <td>0.69</td>\n",
       "      <td>nan</td>\n",
       "      <td>1.34</td>\n",
       "    </tr>\n",
       "    <tr>\n",
       "      <th>aerosol</th>\n",
       "      <td>-0.37</td>\n",
       "      <td>nan</td>\n",
       "      <td>0.34</td>\n",
       "      <td>-1.24</td>\n",
       "      <td>-0.32</td>\n",
       "      <td>nan</td>\n",
       "      <td>0.17</td>\n",
       "    </tr>\n",
       "  </tbody>\n",
       "</table>\n",
       "</div>"
      ],
      "text/plain": [
       "                  OSLOCTM3  WACCM6-2deg  INCA  GFDL-emi  OSLOCTM3-emi  UKCA  \\\n",
       "O3                    2.44         1.97  1.64      4.34          2.49  1.19   \n",
       "CH4                   5.35         5.64  5.34      4.95          5.47  4.60   \n",
       "strat H2O             1.94         0.58  1.27      2.93          1.97   nan   \n",
       "O3 CH4ind             2.73         3.00  1.47       nan          2.80  1.47   \n",
       "strat H2O CH4ind      0.67         0.27  0.44       nan          0.69   nan   \n",
       "aerosol              -0.37          nan  0.34     -1.24         -0.32   nan   \n",
       "\n",
       "                  GFDL_nudge  \n",
       "O3                      2.34  \n",
       "CH4                     5.40  \n",
       "strat H2O               1.80  \n",
       "O3 CH4ind               2.24  \n",
       "strat H2O CH4ind        1.34  \n",
       "aerosol                 0.17  "
      ]
     },
     "execution_count": 62,
     "metadata": {},
     "output_type": "execute_result"
    }
   ],
   "source": [
    "df_h2_gwp.loc['strat H2O CH4ind'] = df_h2_agwp_ch4ind_h2o/agwp100_CO2\n",
    "df_h2_gwp"
   ]
  },
  {
   "cell_type": "markdown",
   "metadata": {},
   "source": [
    "### HYDROGEN AGWP100 methane induced aerosols [mW m-2 yr Tg-1]"
   ]
  },
  {
   "cell_type": "code",
   "execution_count": 63,
   "metadata": {},
   "outputs": [
    {
     "data": {
      "text/plain": [
       "GFDL-emi         nan\n",
       "GFDL_nudge      0.00\n",
       "INCA            0.02\n",
       "OSLOCTM3       -0.01\n",
       "OSLOCTM3-emi   -0.01\n",
       "UKCA             nan\n",
       "WACCM6-2deg      nan\n",
       "Name: h2_agwp_ch4ind_aerosols, dtype: float64"
      ]
     },
     "execution_count": 63,
     "metadata": {},
     "output_type": "execute_result"
    }
   ],
   "source": [
    "df_h2_agwp_ch4ind_aerosol = df_aerosol_rf.loc['10CH4']/df_ch4_surfconc.loc['deltaCH4']*df_surf_ch4_per_h2_flux\n",
    "df_h2_agwp_ch4ind_aerosol.name = 'h2_agwp_ch4ind_aerosols'\n",
    "df_h2_agwp_ch4ind_aerosol"
   ]
  },
  {
   "cell_type": "markdown",
   "metadata": {},
   "source": [
    "### Hydrogen GWP including aerosols"
   ]
  },
  {
   "cell_type": "code",
   "execution_count": 64,
   "metadata": {},
   "outputs": [
    {
     "data": {
      "text/html": [
       "<div>\n",
       "<style scoped>\n",
       "    .dataframe tbody tr th:only-of-type {\n",
       "        vertical-align: middle;\n",
       "    }\n",
       "\n",
       "    .dataframe tbody tr th {\n",
       "        vertical-align: top;\n",
       "    }\n",
       "\n",
       "    .dataframe thead th {\n",
       "        text-align: right;\n",
       "    }\n",
       "</style>\n",
       "<table border=\"1\" class=\"dataframe\">\n",
       "  <thead>\n",
       "    <tr style=\"text-align: right;\">\n",
       "      <th></th>\n",
       "      <th>OSLOCTM3</th>\n",
       "      <th>WACCM6-2deg</th>\n",
       "      <th>INCA</th>\n",
       "      <th>GFDL-emi</th>\n",
       "      <th>OSLOCTM3-emi</th>\n",
       "      <th>UKCA</th>\n",
       "      <th>GFDL_nudge</th>\n",
       "    </tr>\n",
       "  </thead>\n",
       "  <tbody>\n",
       "    <tr>\n",
       "      <th>O3</th>\n",
       "      <td>2.44</td>\n",
       "      <td>1.97</td>\n",
       "      <td>1.64</td>\n",
       "      <td>4.34</td>\n",
       "      <td>2.49</td>\n",
       "      <td>1.19</td>\n",
       "      <td>2.34</td>\n",
       "    </tr>\n",
       "    <tr>\n",
       "      <th>CH4</th>\n",
       "      <td>5.35</td>\n",
       "      <td>5.64</td>\n",
       "      <td>5.34</td>\n",
       "      <td>4.95</td>\n",
       "      <td>5.47</td>\n",
       "      <td>4.60</td>\n",
       "      <td>5.40</td>\n",
       "    </tr>\n",
       "    <tr>\n",
       "      <th>strat H2O</th>\n",
       "      <td>1.94</td>\n",
       "      <td>0.58</td>\n",
       "      <td>1.27</td>\n",
       "      <td>2.93</td>\n",
       "      <td>1.97</td>\n",
       "      <td>nan</td>\n",
       "      <td>1.80</td>\n",
       "    </tr>\n",
       "    <tr>\n",
       "      <th>O3 CH4ind</th>\n",
       "      <td>2.73</td>\n",
       "      <td>3.00</td>\n",
       "      <td>1.47</td>\n",
       "      <td>nan</td>\n",
       "      <td>2.80</td>\n",
       "      <td>1.47</td>\n",
       "      <td>2.24</td>\n",
       "    </tr>\n",
       "    <tr>\n",
       "      <th>strat H2O CH4ind</th>\n",
       "      <td>0.67</td>\n",
       "      <td>0.27</td>\n",
       "      <td>0.44</td>\n",
       "      <td>nan</td>\n",
       "      <td>0.69</td>\n",
       "      <td>nan</td>\n",
       "      <td>1.34</td>\n",
       "    </tr>\n",
       "    <tr>\n",
       "      <th>aerosol</th>\n",
       "      <td>-0.37</td>\n",
       "      <td>nan</td>\n",
       "      <td>0.34</td>\n",
       "      <td>-1.24</td>\n",
       "      <td>-0.32</td>\n",
       "      <td>nan</td>\n",
       "      <td>0.17</td>\n",
       "    </tr>\n",
       "    <tr>\n",
       "      <th>aerosol CH4ind</th>\n",
       "      <td>-0.07</td>\n",
       "      <td>nan</td>\n",
       "      <td>0.17</td>\n",
       "      <td>nan</td>\n",
       "      <td>-0.08</td>\n",
       "      <td>nan</td>\n",
       "      <td>0.01</td>\n",
       "    </tr>\n",
       "  </tbody>\n",
       "</table>\n",
       "</div>"
      ],
      "text/plain": [
       "                  OSLOCTM3  WACCM6-2deg  INCA  GFDL-emi  OSLOCTM3-emi  UKCA  \\\n",
       "O3                    2.44         1.97  1.64      4.34          2.49  1.19   \n",
       "CH4                   5.35         5.64  5.34      4.95          5.47  4.60   \n",
       "strat H2O             1.94         0.58  1.27      2.93          1.97   nan   \n",
       "O3 CH4ind             2.73         3.00  1.47       nan          2.80  1.47   \n",
       "strat H2O CH4ind      0.67         0.27  0.44       nan          0.69   nan   \n",
       "aerosol              -0.37          nan  0.34     -1.24         -0.32   nan   \n",
       "aerosol CH4ind       -0.07          nan  0.17       nan         -0.08   nan   \n",
       "\n",
       "                  GFDL_nudge  \n",
       "O3                      2.34  \n",
       "CH4                     5.40  \n",
       "strat H2O               1.80  \n",
       "O3 CH4ind               2.24  \n",
       "strat H2O CH4ind        1.34  \n",
       "aerosol                 0.17  \n",
       "aerosol CH4ind          0.01  "
      ]
     },
     "execution_count": 64,
     "metadata": {},
     "output_type": "execute_result"
    }
   ],
   "source": [
    "df_h2_gwp.loc['aerosol CH4ind'] = df_h2_agwp_ch4ind_aerosol/agwp100_CO2\n",
    "df_h2_gwp"
   ]
  },
  {
   "cell_type": "code",
   "execution_count": 65,
   "metadata": {},
   "outputs": [
    {
     "data": {
      "text/html": [
       "<div>\n",
       "<style scoped>\n",
       "    .dataframe tbody tr th:only-of-type {\n",
       "        vertical-align: middle;\n",
       "    }\n",
       "\n",
       "    .dataframe tbody tr th {\n",
       "        vertical-align: top;\n",
       "    }\n",
       "\n",
       "    .dataframe thead th {\n",
       "        text-align: right;\n",
       "    }\n",
       "</style>\n",
       "<table border=\"1\" class=\"dataframe\">\n",
       "  <thead>\n",
       "    <tr style=\"text-align: right;\">\n",
       "      <th></th>\n",
       "      <th>OSLOCTM3</th>\n",
       "      <th>WACCM6-2deg</th>\n",
       "      <th>INCA</th>\n",
       "      <th>GFDL-emi</th>\n",
       "      <th>OSLOCTM3-emi</th>\n",
       "      <th>UKCA</th>\n",
       "      <th>GFDL_nudge</th>\n",
       "    </tr>\n",
       "  </thead>\n",
       "  <tbody>\n",
       "    <tr>\n",
       "      <th>O3</th>\n",
       "      <td>2.44</td>\n",
       "      <td>1.97</td>\n",
       "      <td>1.64</td>\n",
       "      <td>4.34</td>\n",
       "      <td>2.49</td>\n",
       "      <td>1.19</td>\n",
       "      <td>2.34</td>\n",
       "    </tr>\n",
       "    <tr>\n",
       "      <th>CH4</th>\n",
       "      <td>5.35</td>\n",
       "      <td>5.64</td>\n",
       "      <td>5.34</td>\n",
       "      <td>4.95</td>\n",
       "      <td>5.47</td>\n",
       "      <td>4.60</td>\n",
       "      <td>5.40</td>\n",
       "    </tr>\n",
       "    <tr>\n",
       "      <th>strat H2O</th>\n",
       "      <td>1.94</td>\n",
       "      <td>0.58</td>\n",
       "      <td>1.27</td>\n",
       "      <td>2.93</td>\n",
       "      <td>1.97</td>\n",
       "      <td>nan</td>\n",
       "      <td>1.80</td>\n",
       "    </tr>\n",
       "    <tr>\n",
       "      <th>O3 CH4ind</th>\n",
       "      <td>2.73</td>\n",
       "      <td>3.00</td>\n",
       "      <td>1.47</td>\n",
       "      <td>nan</td>\n",
       "      <td>2.80</td>\n",
       "      <td>1.47</td>\n",
       "      <td>2.24</td>\n",
       "    </tr>\n",
       "    <tr>\n",
       "      <th>strat H2O CH4ind</th>\n",
       "      <td>0.67</td>\n",
       "      <td>0.27</td>\n",
       "      <td>0.44</td>\n",
       "      <td>nan</td>\n",
       "      <td>0.69</td>\n",
       "      <td>nan</td>\n",
       "      <td>1.34</td>\n",
       "    </tr>\n",
       "  </tbody>\n",
       "</table>\n",
       "</div>"
      ],
      "text/plain": [
       "                  OSLOCTM3  WACCM6-2deg  INCA  GFDL-emi  OSLOCTM3-emi  UKCA  \\\n",
       "O3                    2.44         1.97  1.64      4.34          2.49  1.19   \n",
       "CH4                   5.35         5.64  5.34      4.95          5.47  4.60   \n",
       "strat H2O             1.94         0.58  1.27      2.93          1.97   nan   \n",
       "O3 CH4ind             2.73         3.00  1.47       nan          2.80  1.47   \n",
       "strat H2O CH4ind      0.67         0.27  0.44       nan          0.69   nan   \n",
       "\n",
       "                  GFDL_nudge  \n",
       "O3                      2.34  \n",
       "CH4                     5.40  \n",
       "strat H2O               1.80  \n",
       "O3 CH4ind               2.24  \n",
       "strat H2O CH4ind        1.34  "
      ]
     },
     "execution_count": 65,
     "metadata": {},
     "output_type": "execute_result"
    }
   ],
   "source": [
    "#Not include the aerosol GWP in the main table. Drop them here\n",
    "df_h2_gwp = df_h2_gwp.drop(['aerosol','aerosol CH4ind'])\n",
    "df_h2_gwp"
   ]
  },
  {
   "cell_type": "markdown",
   "metadata": {},
   "source": [
    "# Methane GWP"
   ]
  },
  {
   "cell_type": "markdown",
   "metadata": {},
   "source": [
    "Initialize CH4 GWP"
   ]
  },
  {
   "cell_type": "code",
   "execution_count": 66,
   "metadata": {},
   "outputs": [],
   "source": [
    "antmod = len(df_h2_agwp_ch4.index)\n",
    "df_ch4_gwp = pd.DataFrame(np.empty([4,antmod])*np.nan,columns=df_h2_agwp_ch4.index,\n",
    "                         index=['O3','CH4','strat H2O','H2'])\n",
    "#df_ch4_gwp"
   ]
  },
  {
   "cell_type": "markdown",
   "metadata": {},
   "source": [
    "### Methane AGWP100 O3 [mW m-2 yr Tg-1]"
   ]
  },
  {
   "cell_type": "markdown",
   "metadata": {},
   "source": [
    "Integrated O3 from CH4 RF [W m-2 yr Tg-1]"
   ]
  },
  {
   "cell_type": "code",
   "execution_count": 67,
   "metadata": {},
   "outputs": [],
   "source": [
    "df_ch4_agwp_o3 = df_ozone_rf.loc['10CH4']/df_ch4_surfconc.loc['deltaCH4']*df_surf_ch4_per_ch4_flux\n",
    "df_ch4_agwp_o3.name = 'ch4_agwp_o3'\n",
    "\n"
   ]
  },
  {
   "cell_type": "markdown",
   "metadata": {},
   "source": [
    "### Add ozone GWP"
   ]
  },
  {
   "cell_type": "code",
   "execution_count": 68,
   "metadata": {},
   "outputs": [],
   "source": [
    "df_ch4_gwp.loc['O3'] =df_ch4_agwp_o3/agwp100_CO2 "
   ]
  },
  {
   "cell_type": "markdown",
   "metadata": {},
   "source": [
    "### Methane AGWP100 Methane [mW m-2 yr Tg-1]"
   ]
  },
  {
   "cell_type": "code",
   "execution_count": 69,
   "metadata": {
    "scrolled": true
   },
   "outputs": [],
   "source": [
    "df_ch4_agwp =df_surf_ch4_per_ch4_flux*spec_rf_ch4\n",
    "df_ch4_agwp.name = 'ch4_agwp'"
   ]
  },
  {
   "cell_type": "markdown",
   "metadata": {},
   "source": [
    "### Add methane GWP"
   ]
  },
  {
   "cell_type": "code",
   "execution_count": 70,
   "metadata": {},
   "outputs": [],
   "source": [
    "#Add Methane GWP:\n",
    "df_ch4_gwp.loc['CH4'] =df_ch4_agwp/agwp100_CO2 "
   ]
  },
  {
   "cell_type": "markdown",
   "metadata": {},
   "source": [
    "### Methane AGWP100 strat H2O [mW m-2 yr Tg-1]"
   ]
  },
  {
   "cell_type": "code",
   "execution_count": 71,
   "metadata": {},
   "outputs": [
    {
     "name": "stdout",
     "output_type": "stream",
     "text": [
      "OSLOCTM3       10.1\n",
      "WACCM6-2deg    3.76\n",
      "INCA           6.62\n",
      "OSLOCTM3-emi   10.1\n",
      "GFDL_nudge     20.0\n",
      "Name: 10CH4, dtype: float64\n"
     ]
    }
   ],
   "source": [
    "print(df_h2o_rf.loc['10CH4'])\n",
    "df_ch4_agwp_h2o = df_h2o_rf.loc['10CH4']/df_ch4_surfconc.loc['deltaCH4']*df_surf_ch4_per_ch4_flux\n",
    "df_ch4_agwp_h2o.name = 'ch4_agwp_h2o'"
   ]
  },
  {
   "cell_type": "markdown",
   "metadata": {},
   "source": [
    "### Add Strat H2O GWP:"
   ]
  },
  {
   "cell_type": "code",
   "execution_count": 72,
   "metadata": {},
   "outputs": [],
   "source": [
    "df_ch4_gwp.loc['strat H2O'] = df_ch4_agwp_h2o/agwp100_CO2"
   ]
  },
  {
   "cell_type": "markdown",
   "metadata": {},
   "source": [
    "### Methane AGWP100 aerosols [mW m-2 yr Tg-1]"
   ]
  },
  {
   "cell_type": "code",
   "execution_count": 73,
   "metadata": {},
   "outputs": [
    {
     "data": {
      "text/plain": [
       "GFDL-emi         nan\n",
       "GFDL_nudge      0.00\n",
       "INCA            0.05\n",
       "OSLOCTM3       -0.02\n",
       "OSLOCTM3-emi     nan\n",
       "UKCA             nan\n",
       "WACCM6-2deg      nan\n",
       "Name: ch4_agwp_aerosol, dtype: float64"
      ]
     },
     "execution_count": 73,
     "metadata": {},
     "output_type": "execute_result"
    }
   ],
   "source": [
    "df_ch4_agwp_aerosol = df_aerosol_rf.loc['10CH4']/df_ch4_flux.loc['deltaCH4']\n",
    "df_ch4_agwp_aerosol.name = 'ch4_agwp_aerosol'\n",
    "df_ch4_agwp_aerosol\n",
    "#NBNB GFDL methane induced is included."
   ]
  },
  {
   "cell_type": "markdown",
   "metadata": {},
   "source": [
    "### Add Aerosol GWP"
   ]
  },
  {
   "cell_type": "code",
   "execution_count": 74,
   "metadata": {},
   "outputs": [
    {
     "data": {
      "text/html": [
       "<div>\n",
       "<style scoped>\n",
       "    .dataframe tbody tr th:only-of-type {\n",
       "        vertical-align: middle;\n",
       "    }\n",
       "\n",
       "    .dataframe tbody tr th {\n",
       "        vertical-align: top;\n",
       "    }\n",
       "\n",
       "    .dataframe thead th {\n",
       "        text-align: right;\n",
       "    }\n",
       "</style>\n",
       "<table border=\"1\" class=\"dataframe\">\n",
       "  <thead>\n",
       "    <tr style=\"text-align: right;\">\n",
       "      <th></th>\n",
       "      <th>OSLOCTM3</th>\n",
       "      <th>WACCM6-2deg</th>\n",
       "      <th>INCA</th>\n",
       "      <th>GFDL-emi</th>\n",
       "      <th>OSLOCTM3-emi</th>\n",
       "      <th>UKCA</th>\n",
       "      <th>GFDL_nudge</th>\n",
       "    </tr>\n",
       "  </thead>\n",
       "  <tbody>\n",
       "    <tr>\n",
       "      <th>O3</th>\n",
       "      <td>8.76</td>\n",
       "      <td>9.10</td>\n",
       "      <td>4.99</td>\n",
       "      <td>nan</td>\n",
       "      <td>8.76</td>\n",
       "      <td>6.02</td>\n",
       "      <td>8.59</td>\n",
       "    </tr>\n",
       "    <tr>\n",
       "      <th>CH4</th>\n",
       "      <td>17.1</td>\n",
       "      <td>17.1</td>\n",
       "      <td>18.2</td>\n",
       "      <td>nan</td>\n",
       "      <td>17.1</td>\n",
       "      <td>18.8</td>\n",
       "      <td>20.7</td>\n",
       "    </tr>\n",
       "    <tr>\n",
       "      <th>strat H2O</th>\n",
       "      <td>2.16</td>\n",
       "      <td>0.80</td>\n",
       "      <td>1.50</td>\n",
       "      <td>nan</td>\n",
       "      <td>2.16</td>\n",
       "      <td>nan</td>\n",
       "      <td>5.15</td>\n",
       "    </tr>\n",
       "    <tr>\n",
       "      <th>H2</th>\n",
       "      <td>nan</td>\n",
       "      <td>nan</td>\n",
       "      <td>nan</td>\n",
       "      <td>nan</td>\n",
       "      <td>nan</td>\n",
       "      <td>nan</td>\n",
       "      <td>nan</td>\n",
       "    </tr>\n",
       "    <tr>\n",
       "      <th>aerosol</th>\n",
       "      <td>-0.24</td>\n",
       "      <td>nan</td>\n",
       "      <td>0.59</td>\n",
       "      <td>nan</td>\n",
       "      <td>nan</td>\n",
       "      <td>nan</td>\n",
       "      <td>0.05</td>\n",
       "    </tr>\n",
       "  </tbody>\n",
       "</table>\n",
       "</div>"
      ],
      "text/plain": [
       "           OSLOCTM3  WACCM6-2deg  INCA  GFDL-emi  OSLOCTM3-emi  UKCA  \\\n",
       "O3             8.76         9.10  4.99       nan          8.76  6.02   \n",
       "CH4            17.1         17.1  18.2       nan          17.1  18.8   \n",
       "strat H2O      2.16         0.80  1.50       nan          2.16   nan   \n",
       "H2              nan          nan   nan       nan           nan   nan   \n",
       "aerosol       -0.24          nan  0.59       nan           nan   nan   \n",
       "\n",
       "           GFDL_nudge  \n",
       "O3               8.59  \n",
       "CH4              20.7  \n",
       "strat H2O        5.15  \n",
       "H2                nan  \n",
       "aerosol          0.05  "
      ]
     },
     "execution_count": 74,
     "metadata": {},
     "output_type": "execute_result"
    }
   ],
   "source": [
    "df_ch4_gwp.loc['aerosol'] = df_ch4_agwp_aerosol/agwp100_CO2\n",
    "df_ch4_gwp"
   ]
  },
  {
   "cell_type": "code",
   "execution_count": 75,
   "metadata": {},
   "outputs": [
    {
     "data": {
      "text/html": [
       "<div>\n",
       "<style scoped>\n",
       "    .dataframe tbody tr th:only-of-type {\n",
       "        vertical-align: middle;\n",
       "    }\n",
       "\n",
       "    .dataframe tbody tr th {\n",
       "        vertical-align: top;\n",
       "    }\n",
       "\n",
       "    .dataframe thead th {\n",
       "        text-align: right;\n",
       "    }\n",
       "</style>\n",
       "<table border=\"1\" class=\"dataframe\">\n",
       "  <thead>\n",
       "    <tr style=\"text-align: right;\">\n",
       "      <th></th>\n",
       "      <th>OSLOCTM3</th>\n",
       "      <th>WACCM6-2deg</th>\n",
       "      <th>INCA</th>\n",
       "      <th>GFDL-emi</th>\n",
       "      <th>OSLOCTM3-emi</th>\n",
       "      <th>UKCA</th>\n",
       "      <th>GFDL_nudge</th>\n",
       "    </tr>\n",
       "  </thead>\n",
       "  <tbody>\n",
       "    <tr>\n",
       "      <th>O3</th>\n",
       "      <td>8.76</td>\n",
       "      <td>9.10</td>\n",
       "      <td>4.99</td>\n",
       "      <td>nan</td>\n",
       "      <td>8.76</td>\n",
       "      <td>6.02</td>\n",
       "      <td>8.59</td>\n",
       "    </tr>\n",
       "    <tr>\n",
       "      <th>CH4</th>\n",
       "      <td>17.1</td>\n",
       "      <td>17.1</td>\n",
       "      <td>18.2</td>\n",
       "      <td>nan</td>\n",
       "      <td>17.1</td>\n",
       "      <td>18.8</td>\n",
       "      <td>20.7</td>\n",
       "    </tr>\n",
       "    <tr>\n",
       "      <th>strat H2O</th>\n",
       "      <td>2.16</td>\n",
       "      <td>0.80</td>\n",
       "      <td>1.50</td>\n",
       "      <td>nan</td>\n",
       "      <td>2.16</td>\n",
       "      <td>nan</td>\n",
       "      <td>5.15</td>\n",
       "    </tr>\n",
       "    <tr>\n",
       "      <th>H2</th>\n",
       "      <td>nan</td>\n",
       "      <td>nan</td>\n",
       "      <td>nan</td>\n",
       "      <td>nan</td>\n",
       "      <td>nan</td>\n",
       "      <td>nan</td>\n",
       "      <td>nan</td>\n",
       "    </tr>\n",
       "  </tbody>\n",
       "</table>\n",
       "</div>"
      ],
      "text/plain": [
       "           OSLOCTM3  WACCM6-2deg  INCA  GFDL-emi  OSLOCTM3-emi  UKCA  \\\n",
       "O3             8.76         9.10  4.99       nan          8.76  6.02   \n",
       "CH4            17.1         17.1  18.2       nan          17.1  18.8   \n",
       "strat H2O      2.16         0.80  1.50       nan          2.16   nan   \n",
       "H2              nan          nan   nan       nan           nan   nan   \n",
       "\n",
       "           GFDL_nudge  \n",
       "O3               8.59  \n",
       "CH4              20.7  \n",
       "strat H2O        5.15  \n",
       "H2                nan  "
      ]
     },
     "execution_count": 75,
     "metadata": {},
     "output_type": "execute_result"
    }
   ],
   "source": [
    "#And drop the aerosol GWP in the main table:\n",
    "df_ch4_gwp = df_ch4_gwp.drop(['aerosol'])\n",
    "df_ch4_gwp"
   ]
  },
  {
   "cell_type": "markdown",
   "metadata": {},
   "source": [
    "### Add GWP via H2"
   ]
  },
  {
   "cell_type": "code",
   "execution_count": 76,
   "metadata": {
    "scrolled": true
   },
   "outputs": [],
   "source": [
    "df_ch4_gwp.loc['H2'] = df_h2_flux_per_ch4_flux*df_h2_gwp.sum()"
   ]
  },
  {
   "cell_type": "markdown",
   "metadata": {},
   "source": [
    "# Part III: Main results and tables"
   ]
  },
  {
   "cell_type": "markdown",
   "metadata": {},
   "source": [
    "## H2 GWP 100"
   ]
  },
  {
   "cell_type": "code",
   "execution_count": 77,
   "metadata": {},
   "outputs": [],
   "source": [
    "model_dict = { 'OSLOCTM3':'OsloCTM',\n",
    "               'WACCM6-2deg':'WACCM',\n",
    "               'INCA':'INCA',\n",
    "               'GFDL-emi':'GFDL-emi',\n",
    "               'GFDL_nudge':'GFDL',\n",
    "               'UKCA':'UKCA',\n",
    "               'OSLOCTM3-emi':'OsloCTM-emi'}\n",
    "\n",
    "sorted_array = ['GFDL','OsloCTM','INCA','UKCA','WACCM','GFDL-emi','OsloCTM-emi']\n",
    "sorted_array_2 = ['GFDL','OsloCTM','INCA','UKCA','WACCM','Model mean','GFDL-emi','OsloCTM-emi']"
   ]
  },
  {
   "cell_type": "code",
   "execution_count": 78,
   "metadata": {},
   "outputs": [
    {
     "name": "stderr",
     "output_type": "stream",
     "text": [
      "/home/ragnhibs/anaconda3/lib/python3.7/site-packages/ipykernel_launcher.py:8: SettingWithCopyWarning: \n",
      "A value is trying to be set on a copy of a slice from a DataFrame\n",
      "\n",
      "See the caveats in the documentation: http://pandas.pydata.org/pandas-docs/stable/indexing.html#indexing-view-versus-copy\n",
      "  \n"
     ]
    },
    {
     "data": {
      "text/html": [
       "<div>\n",
       "<style scoped>\n",
       "    .dataframe tbody tr th:only-of-type {\n",
       "        vertical-align: middle;\n",
       "    }\n",
       "\n",
       "    .dataframe tbody tr th {\n",
       "        vertical-align: top;\n",
       "    }\n",
       "\n",
       "    .dataframe thead th {\n",
       "        text-align: right;\n",
       "    }\n",
       "</style>\n",
       "<table border=\"1\" class=\"dataframe\">\n",
       "  <thead>\n",
       "    <tr style=\"text-align: right;\">\n",
       "      <th></th>\n",
       "      <th>O3</th>\n",
       "      <th>CH4</th>\n",
       "      <th>strat H2O</th>\n",
       "      <th>O3 CH4ind</th>\n",
       "      <th>strat H2O CH4ind</th>\n",
       "      <th>total</th>\n",
       "    </tr>\n",
       "  </thead>\n",
       "  <tbody>\n",
       "    <tr>\n",
       "      <th>GFDL</th>\n",
       "      <td>2.34</td>\n",
       "      <td>5.40</td>\n",
       "      <td>1.80</td>\n",
       "      <td>2.24</td>\n",
       "      <td>1.34</td>\n",
       "      <td>13.1</td>\n",
       "    </tr>\n",
       "    <tr>\n",
       "      <th>OsloCTM</th>\n",
       "      <td>2.44</td>\n",
       "      <td>5.35</td>\n",
       "      <td>1.94</td>\n",
       "      <td>2.73</td>\n",
       "      <td>0.67</td>\n",
       "      <td>13.1</td>\n",
       "    </tr>\n",
       "    <tr>\n",
       "      <th>INCA</th>\n",
       "      <td>1.64</td>\n",
       "      <td>5.34</td>\n",
       "      <td>1.27</td>\n",
       "      <td>1.47</td>\n",
       "      <td>0.44</td>\n",
       "      <td>10.2</td>\n",
       "    </tr>\n",
       "    <tr>\n",
       "      <th>UKCA</th>\n",
       "      <td>1.19</td>\n",
       "      <td>4.60</td>\n",
       "      <td>nan</td>\n",
       "      <td>1.47</td>\n",
       "      <td>nan</td>\n",
       "      <td>7.26</td>\n",
       "    </tr>\n",
       "    <tr>\n",
       "      <th>WACCM</th>\n",
       "      <td>1.97</td>\n",
       "      <td>5.64</td>\n",
       "      <td>0.58</td>\n",
       "      <td>3.00</td>\n",
       "      <td>0.27</td>\n",
       "      <td>11.5</td>\n",
       "    </tr>\n",
       "    <tr>\n",
       "      <th>GFDL-emi</th>\n",
       "      <td>4.34</td>\n",
       "      <td>4.95</td>\n",
       "      <td>2.93</td>\n",
       "      <td>nan</td>\n",
       "      <td>nan</td>\n",
       "      <td>12.2</td>\n",
       "    </tr>\n",
       "    <tr>\n",
       "      <th>OsloCTM-emi</th>\n",
       "      <td>2.49</td>\n",
       "      <td>5.47</td>\n",
       "      <td>1.97</td>\n",
       "      <td>2.80</td>\n",
       "      <td>0.69</td>\n",
       "      <td>13.4</td>\n",
       "    </tr>\n",
       "  </tbody>\n",
       "</table>\n",
       "</div>"
      ],
      "text/plain": [
       "              O3  CH4  strat H2O  O3 CH4ind  strat H2O CH4ind  total\n",
       "GFDL        2.34 5.40       1.80       2.24              1.34   13.1\n",
       "OsloCTM     2.44 5.35       1.94       2.73              0.67   13.1\n",
       "INCA        1.64 5.34       1.27       1.47              0.44   10.2\n",
       "UKCA        1.19 4.60        nan       1.47               nan   7.26\n",
       "WACCM       1.97 5.64       0.58       3.00              0.27   11.5\n",
       "GFDL-emi    4.34 4.95       2.93        nan               nan   12.2\n",
       "OsloCTM-emi 2.49 5.47       1.97       2.80              0.69   13.4"
      ]
     },
     "execution_count": 78,
     "metadata": {},
     "output_type": "execute_result"
    }
   ],
   "source": [
    "#Save to file below. Where CH4 are split based on feedback factor:\n",
    "#print(outputpath + 'table_h2_gwp.csv')\n",
    "#df_h2_gwp.to_csv(outputpath + 'table_h2_gwp.csv')\n",
    "#df_h2_gwp = df_h2_gwp[sorted(df_h2_gwp.columns)]\n",
    "\n",
    "df_h2_gwp = df_h2_gwp[sorted(df_h2_gwp.columns)]\n",
    "\n",
    "df_h2_gwp.loc['total']=df_h2_gwp.sum()\n",
    "\n",
    "df_h2_gwp_table = df_h2_gwp.copy()\n",
    "\n",
    "df_h2_gwp_table.rename(model_dict,axis=1,inplace=True)\n",
    "df_h2_gwp_table = df_h2_gwp_table[sorted_array]\n",
    "df_h2_gwp_table.T\n"
   ]
  },
  {
   "cell_type": "markdown",
   "metadata": {},
   "source": [
    "## CH4 GWP 100"
   ]
  },
  {
   "cell_type": "code",
   "execution_count": 79,
   "metadata": {},
   "outputs": [
    {
     "name": "stderr",
     "output_type": "stream",
     "text": [
      "/home/ragnhibs/anaconda3/lib/python3.7/site-packages/ipykernel_launcher.py:3: SettingWithCopyWarning: \n",
      "A value is trying to be set on a copy of a slice from a DataFrame\n",
      "\n",
      "See the caveats in the documentation: http://pandas.pydata.org/pandas-docs/stable/indexing.html#indexing-view-versus-copy\n",
      "  This is separate from the ipykernel package so we can avoid doing imports until\n"
     ]
    },
    {
     "data": {
      "text/html": [
       "<div>\n",
       "<style scoped>\n",
       "    .dataframe tbody tr th:only-of-type {\n",
       "        vertical-align: middle;\n",
       "    }\n",
       "\n",
       "    .dataframe tbody tr th {\n",
       "        vertical-align: top;\n",
       "    }\n",
       "\n",
       "    .dataframe thead th {\n",
       "        text-align: right;\n",
       "    }\n",
       "</style>\n",
       "<table border=\"1\" class=\"dataframe\">\n",
       "  <thead>\n",
       "    <tr style=\"text-align: right;\">\n",
       "      <th></th>\n",
       "      <th>O3</th>\n",
       "      <th>CH4</th>\n",
       "      <th>strat H2O</th>\n",
       "      <th>H2</th>\n",
       "      <th>total</th>\n",
       "    </tr>\n",
       "  </thead>\n",
       "  <tbody>\n",
       "    <tr>\n",
       "      <th>GFDL-emi</th>\n",
       "      <td>nan</td>\n",
       "      <td>nan</td>\n",
       "      <td>nan</td>\n",
       "      <td>nan</td>\n",
       "      <td>0.00</td>\n",
       "    </tr>\n",
       "    <tr>\n",
       "      <th>GFDL_nudge</th>\n",
       "      <td>8.59</td>\n",
       "      <td>20.7</td>\n",
       "      <td>5.15</td>\n",
       "      <td>0.16</td>\n",
       "      <td>34.6</td>\n",
       "    </tr>\n",
       "    <tr>\n",
       "      <th>INCA</th>\n",
       "      <td>4.99</td>\n",
       "      <td>18.2</td>\n",
       "      <td>1.50</td>\n",
       "      <td>0.10</td>\n",
       "      <td>24.8</td>\n",
       "    </tr>\n",
       "    <tr>\n",
       "      <th>OSLOCTM3</th>\n",
       "      <td>8.76</td>\n",
       "      <td>17.1</td>\n",
       "      <td>2.16</td>\n",
       "      <td>0.19</td>\n",
       "      <td>28.2</td>\n",
       "    </tr>\n",
       "    <tr>\n",
       "      <th>OSLOCTM3-emi</th>\n",
       "      <td>8.76</td>\n",
       "      <td>17.1</td>\n",
       "      <td>2.16</td>\n",
       "      <td>0.19</td>\n",
       "      <td>28.2</td>\n",
       "    </tr>\n",
       "    <tr>\n",
       "      <th>UKCA</th>\n",
       "      <td>6.02</td>\n",
       "      <td>18.8</td>\n",
       "      <td>nan</td>\n",
       "      <td>0.11</td>\n",
       "      <td>24.9</td>\n",
       "    </tr>\n",
       "    <tr>\n",
       "      <th>WACCM6-2deg</th>\n",
       "      <td>9.10</td>\n",
       "      <td>17.1</td>\n",
       "      <td>0.80</td>\n",
       "      <td>0.19</td>\n",
       "      <td>27.2</td>\n",
       "    </tr>\n",
       "  </tbody>\n",
       "</table>\n",
       "</div>"
      ],
      "text/plain": [
       "               O3  CH4  strat H2O   H2  total\n",
       "GFDL-emi      nan  nan        nan  nan   0.00\n",
       "GFDL_nudge   8.59 20.7       5.15 0.16   34.6\n",
       "INCA         4.99 18.2       1.50 0.10   24.8\n",
       "OSLOCTM3     8.76 17.1       2.16 0.19   28.2\n",
       "OSLOCTM3-emi 8.76 17.1       2.16 0.19   28.2\n",
       "UKCA         6.02 18.8        nan 0.11   24.9\n",
       "WACCM6-2deg  9.10 17.1       0.80 0.19   27.2"
      ]
     },
     "execution_count": 79,
     "metadata": {},
     "output_type": "execute_result"
    }
   ],
   "source": [
    "df_ch4_gwp = df_ch4_gwp[sorted(df_ch4_gwp.columns)]\n",
    "df_ch4_gwp.to_csv(outputpath + 'table_ch4_gwp.csv')\n",
    "df_ch4_gwp.loc['total']=df_ch4_gwp.sum()\n",
    "df_ch4_gwp.T"
   ]
  },
  {
   "cell_type": "markdown",
   "metadata": {},
   "source": [
    "## Table per flux H2"
   ]
  },
  {
   "cell_type": "code",
   "execution_count": 80,
   "metadata": {},
   "outputs": [
    {
     "data": {
      "text/html": [
       "<div>\n",
       "<style scoped>\n",
       "    .dataframe tbody tr th:only-of-type {\n",
       "        vertical-align: middle;\n",
       "    }\n",
       "\n",
       "    .dataframe tbody tr th {\n",
       "        vertical-align: top;\n",
       "    }\n",
       "\n",
       "    .dataframe thead th {\n",
       "        text-align: right;\n",
       "    }\n",
       "</style>\n",
       "<table border=\"1\" class=\"dataframe\">\n",
       "  <thead>\n",
       "    <tr style=\"text-align: right;\">\n",
       "      <th></th>\n",
       "      <th>Flux H2 [Tg/yr]</th>\n",
       "      <th>Surf. conc. H2 per flux [ppb yr/Tg]</th>\n",
       "      <th>Surf. conc. CH4 per flux [ppb yr/Tg]</th>\n",
       "      <th>Flux CH4/Flux H2 [Tg CH4/Tg H2]</th>\n",
       "      <th>CH4 RF per flux [mW m-2 yr/ Tg]</th>\n",
       "      <th>Trop. ozone per flux [10$^{-3}$ DU yr/Tg]</th>\n",
       "      <th>Strat. ozone per flux [10$^{-3}$ DU yr/Tg]</th>\n",
       "      <th>ozone RF per flux [mW m-2 yr/ Tg]</th>\n",
       "      <th>Strat. H2O RF per flux [mW m-2 yr/ Tg]</th>\n",
       "      <th>Aerosol RF per flux [mW m-2 yr/ Tg]</th>\n",
       "    </tr>\n",
       "  </thead>\n",
       "  <tbody>\n",
       "    <tr>\n",
       "      <th>GFDL</th>\n",
       "      <td>30.5</td>\n",
       "      <td>6.98</td>\n",
       "      <td>1.09</td>\n",
       "      <td>0.26</td>\n",
       "      <td>0.48</td>\n",
       "      <td>4.09</td>\n",
       "      <td>-2.42</td>\n",
       "      <td>0.21</td>\n",
       "      <td>0.16</td>\n",
       "      <td>0.02</td>\n",
       "    </tr>\n",
       "    <tr>\n",
       "      <th>OsloCTM</th>\n",
       "      <td>8.54</td>\n",
       "      <td>6.23</td>\n",
       "      <td>1.08</td>\n",
       "      <td>0.31</td>\n",
       "      <td>0.48</td>\n",
       "      <td>4.48</td>\n",
       "      <td>0.77</td>\n",
       "      <td>0.22</td>\n",
       "      <td>0.17</td>\n",
       "      <td>-0.03</td>\n",
       "    </tr>\n",
       "    <tr>\n",
       "      <th>INCA</th>\n",
       "      <td>7.23</td>\n",
       "      <td>7.36</td>\n",
       "      <td>1.08</td>\n",
       "      <td>0.29</td>\n",
       "      <td>0.48</td>\n",
       "      <td>3.93</td>\n",
       "      <td>-5.56</td>\n",
       "      <td>0.15</td>\n",
       "      <td>0.11</td>\n",
       "      <td>0.03</td>\n",
       "    </tr>\n",
       "    <tr>\n",
       "      <th>UKCA</th>\n",
       "      <td>11.3</td>\n",
       "      <td>4.74</td>\n",
       "      <td>0.93</td>\n",
       "      <td>0.24</td>\n",
       "      <td>0.41</td>\n",
       "      <td>2.94</td>\n",
       "      <td>nan</td>\n",
       "      <td>0.11</td>\n",
       "      <td>nan</td>\n",
       "      <td>nan</td>\n",
       "    </tr>\n",
       "    <tr>\n",
       "      <th>WACCM</th>\n",
       "      <td>9.93</td>\n",
       "      <td>5.36</td>\n",
       "      <td>1.14</td>\n",
       "      <td>0.33</td>\n",
       "      <td>0.50</td>\n",
       "      <td>3.31</td>\n",
       "      <td>-1.10</td>\n",
       "      <td>0.18</td>\n",
       "      <td>0.05</td>\n",
       "      <td>nan</td>\n",
       "    </tr>\n",
       "    <tr>\n",
       "      <th>Model mean</th>\n",
       "      <td>nan</td>\n",
       "      <td>6.13</td>\n",
       "      <td>1.06</td>\n",
       "      <td>0.29</td>\n",
       "      <td>0.47</td>\n",
       "      <td>3.75</td>\n",
       "      <td>-2.08</td>\n",
       "      <td>0.17</td>\n",
       "      <td>0.13</td>\n",
       "      <td>0.00</td>\n",
       "    </tr>\n",
       "    <tr>\n",
       "      <th>GFDL-emi</th>\n",
       "      <td>197</td>\n",
       "      <td>6.96</td>\n",
       "      <td>1.00</td>\n",
       "      <td>0.21</td>\n",
       "      <td>0.44</td>\n",
       "      <td>3.54</td>\n",
       "      <td>-1.93</td>\n",
       "      <td>0.16</td>\n",
       "      <td>0.17</td>\n",
       "      <td>-0.11</td>\n",
       "    </tr>\n",
       "    <tr>\n",
       "      <th>OsloCTM-emi</th>\n",
       "      <td>13.8</td>\n",
       "      <td>6.48</td>\n",
       "      <td>1.11</td>\n",
       "      <td>0.32</td>\n",
       "      <td>0.49</td>\n",
       "      <td>4.61</td>\n",
       "      <td>0.75</td>\n",
       "      <td>0.22</td>\n",
       "      <td>0.18</td>\n",
       "      <td>-0.03</td>\n",
       "    </tr>\n",
       "  </tbody>\n",
       "</table>\n",
       "</div>"
      ],
      "text/plain": [
       "             Flux H2 [Tg/yr]  Surf. conc. H2 per flux [ppb yr/Tg]  \\\n",
       "GFDL                    30.5                                 6.98   \n",
       "OsloCTM                 8.54                                 6.23   \n",
       "INCA                    7.23                                 7.36   \n",
       "UKCA                    11.3                                 4.74   \n",
       "WACCM                   9.93                                 5.36   \n",
       "Model mean               nan                                 6.13   \n",
       "GFDL-emi                 197                                 6.96   \n",
       "OsloCTM-emi             13.8                                 6.48   \n",
       "\n",
       "             Surf. conc. CH4 per flux [ppb yr/Tg]  \\\n",
       "GFDL                                         1.09   \n",
       "OsloCTM                                      1.08   \n",
       "INCA                                         1.08   \n",
       "UKCA                                         0.93   \n",
       "WACCM                                        1.14   \n",
       "Model mean                                   1.06   \n",
       "GFDL-emi                                     1.00   \n",
       "OsloCTM-emi                                  1.11   \n",
       "\n",
       "             Flux CH4/Flux H2 [Tg CH4/Tg H2]  CH4 RF per flux [mW m-2 yr/ Tg]  \\\n",
       "GFDL                                    0.26                             0.48   \n",
       "OsloCTM                                 0.31                             0.48   \n",
       "INCA                                    0.29                             0.48   \n",
       "UKCA                                    0.24                             0.41   \n",
       "WACCM                                   0.33                             0.50   \n",
       "Model mean                              0.29                             0.47   \n",
       "GFDL-emi                                0.21                             0.44   \n",
       "OsloCTM-emi                             0.32                             0.49   \n",
       "\n",
       "             Trop. ozone per flux [10$^{-3}$ DU yr/Tg]  \\\n",
       "GFDL                                              4.09   \n",
       "OsloCTM                                           4.48   \n",
       "INCA                                              3.93   \n",
       "UKCA                                              2.94   \n",
       "WACCM                                             3.31   \n",
       "Model mean                                        3.75   \n",
       "GFDL-emi                                          3.54   \n",
       "OsloCTM-emi                                       4.61   \n",
       "\n",
       "             Strat. ozone per flux [10$^{-3}$ DU yr/Tg]  \\\n",
       "GFDL                                              -2.42   \n",
       "OsloCTM                                            0.77   \n",
       "INCA                                              -5.56   \n",
       "UKCA                                                nan   \n",
       "WACCM                                             -1.10   \n",
       "Model mean                                        -2.08   \n",
       "GFDL-emi                                          -1.93   \n",
       "OsloCTM-emi                                        0.75   \n",
       "\n",
       "             ozone RF per flux [mW m-2 yr/ Tg]  \\\n",
       "GFDL                                      0.21   \n",
       "OsloCTM                                   0.22   \n",
       "INCA                                      0.15   \n",
       "UKCA                                      0.11   \n",
       "WACCM                                     0.18   \n",
       "Model mean                                0.17   \n",
       "GFDL-emi                                  0.16   \n",
       "OsloCTM-emi                               0.22   \n",
       "\n",
       "             Strat. H2O RF per flux [mW m-2 yr/ Tg]  \\\n",
       "GFDL                                           0.16   \n",
       "OsloCTM                                        0.17   \n",
       "INCA                                           0.11   \n",
       "UKCA                                            nan   \n",
       "WACCM                                          0.05   \n",
       "Model mean                                     0.13   \n",
       "GFDL-emi                                       0.17   \n",
       "OsloCTM-emi                                    0.18   \n",
       "\n",
       "             Aerosol RF per flux [mW m-2 yr/ Tg]  \n",
       "GFDL                                        0.02  \n",
       "OsloCTM                                    -0.03  \n",
       "INCA                                        0.03  \n",
       "UKCA                                         nan  \n",
       "WACCM                                        nan  \n",
       "Model mean                                  0.00  \n",
       "GFDL-emi                                   -0.11  \n",
       "OsloCTM-emi                                -0.03  "
      ]
     },
     "execution_count": 80,
     "metadata": {},
     "output_type": "execute_result"
    }
   ],
   "source": [
    "df_per_flux_h2 = pd.concat([df_h2_flux.loc['deltaH2'],\n",
    "                            df_surf_h2_per_h2_flux,\n",
    "                            df_surf_ch4_per_h2_flux,\n",
    "                            df_ch4_flux_per_h2_flux,\n",
    "                            df_ch4_rf_per_h2_flux,\n",
    "                            df_trop_du_ozone_per_h2_flux*1000.,\n",
    "                            df_strat_du_ozone_per_h2_flux*1000.,\n",
    "                            df_ozone_rf_per_h2_flux,\n",
    "                            df_h2o_rf_per_h2_flux,\n",
    "                            df_aerosol_rf_per_h2_flux],axis=1, sort=False)\n",
    "\n",
    "#Save to file:\n",
    "df_per_flux_h2 = df_per_flux_h2.sort_index()\n",
    "df_per_flux_h2.to_csv(outputpath + 'table_per_flux_h2.csv')\n",
    "\n",
    "#Rename the columns:\n",
    "columns_names={'deltaH2':'Flux H2 [Tg/yr]',\n",
    "               'surf_h2_per_h2_flux': 'Surf. conc. H2 per flux [ppb yr/Tg]',\n",
    "               'surf_ch4_per_h2_flux':'Surf. conc. CH4 per flux [ppb yr/Tg]',\n",
    "               'ch4_flux_per_h2_flux':'Flux CH4/Flux H2 [Tg CH4/Tg H2]',\n",
    "               'ch4_rf_per_h2_flux':'CH4 RF per flux [mW m-2 yr/ Tg]',\n",
    "               'trop_du_ozone_per_h2_flux':'Trop. ozone per flux [10$^{-3}$ DU yr/Tg]',\n",
    "               'strat_du_ozone_per_h2_flux':'Strat. ozone per flux [10$^{-3}$ DU yr/Tg]',\n",
    "               'ozone_rf_per_h2_flux':'ozone RF per flux [mW m-2 yr/ Tg]',\n",
    "               'h2o_rf_per_h2_flux':'Strat. H2O RF per flux [mW m-2 yr/ Tg]',\n",
    "               'aerosol_rf_per_h2_flux':'Aerosol RF per flux [mW m-2 yr/ Tg]'}\n",
    "#Rename column names:\n",
    "df_per_flux_h2.rename(columns=dict(columns_names),inplace=True) #[df_per_flux_h2.columns])\n",
    "df_per_flux_h2.rename(model_dict,axis=0,inplace=True)\n",
    "df_per_flux_h2.loc['Model mean'] = df_per_flux_h2.drop(['GFDL-emi','OsloCTM-emi']).mean()\n",
    "df_per_flux_h2['Flux H2 [Tg/yr]'].loc['Model mean']=np.nan\n",
    "df_per_flux_h2=df_per_flux_h2.reindex(sorted_array_2)\n",
    "df_per_flux_h2"
   ]
  },
  {
   "cell_type": "markdown",
   "metadata": {},
   "source": [
    "## Table per flux CH4"
   ]
  },
  {
   "cell_type": "code",
   "execution_count": 81,
   "metadata": {
    "scrolled": true
   },
   "outputs": [
    {
     "data": {
      "text/html": [
       "<div>\n",
       "<style scoped>\n",
       "    .dataframe tbody tr th:only-of-type {\n",
       "        vertical-align: middle;\n",
       "    }\n",
       "\n",
       "    .dataframe tbody tr th {\n",
       "        vertical-align: top;\n",
       "    }\n",
       "\n",
       "    .dataframe thead th {\n",
       "        text-align: right;\n",
       "    }\n",
       "</style>\n",
       "<table border=\"1\" class=\"dataframe\">\n",
       "  <thead>\n",
       "    <tr style=\"text-align: right;\">\n",
       "      <th></th>\n",
       "      <th>Flux CH4 [Tg/yr]</th>\n",
       "      <th>Surf. conc. CH4 per flux [ppb yr/Tg]</th>\n",
       "      <th>Flux H2/Flux CH4 [Tg H2/Tg CH4]</th>\n",
       "      <th>Trop. ozone per flux [10$^{-3}$ DU yr/Tg]</th>\n",
       "      <th>Strat. ozone per flux [10$^{-3}$ DU yr/Tg]</th>\n",
       "      <th>ozone RF per flux [mW m-2 yr/ Tg]</th>\n",
       "      <th>Strat H2O RF per flux [mW m-2 yr/ Tg]</th>\n",
       "      <th>Aerosol RF per flux [mW m-2 yr/ Tg]</th>\n",
       "    </tr>\n",
       "  </thead>\n",
       "  <tbody>\n",
       "    <tr>\n",
       "      <th>GFDL</th>\n",
       "      <td>43.4</td>\n",
       "      <td>4.18</td>\n",
       "      <td>0.01</td>\n",
       "      <td>15.3</td>\n",
       "      <td>17.9</td>\n",
       "      <td>0.77</td>\n",
       "      <td>0.46</td>\n",
       "      <td>0.00</td>\n",
       "    </tr>\n",
       "    <tr>\n",
       "      <th>OsloCTM</th>\n",
       "      <td>52.4</td>\n",
       "      <td>3.46</td>\n",
       "      <td>0.01</td>\n",
       "      <td>15.9</td>\n",
       "      <td>15.8</td>\n",
       "      <td>0.78</td>\n",
       "      <td>0.19</td>\n",
       "      <td>-0.02</td>\n",
       "    </tr>\n",
       "    <tr>\n",
       "      <th>INCA</th>\n",
       "      <td>49.4</td>\n",
       "      <td>3.67</td>\n",
       "      <td>0.01</td>\n",
       "      <td>10.8</td>\n",
       "      <td>5.07</td>\n",
       "      <td>0.45</td>\n",
       "      <td>0.13</td>\n",
       "      <td>0.05</td>\n",
       "    </tr>\n",
       "    <tr>\n",
       "      <th>UKCA</th>\n",
       "      <td>47.6</td>\n",
       "      <td>3.80</td>\n",
       "      <td>0.02</td>\n",
       "      <td>15.4</td>\n",
       "      <td>nan</td>\n",
       "      <td>0.54</td>\n",
       "      <td>nan</td>\n",
       "      <td>nan</td>\n",
       "    </tr>\n",
       "    <tr>\n",
       "      <th>WACCM</th>\n",
       "      <td>52.4</td>\n",
       "      <td>3.45</td>\n",
       "      <td>0.02</td>\n",
       "      <td>16.7</td>\n",
       "      <td>15.3</td>\n",
       "      <td>0.81</td>\n",
       "      <td>0.07</td>\n",
       "      <td>nan</td>\n",
       "    </tr>\n",
       "    <tr>\n",
       "      <th>Model mean</th>\n",
       "      <td>49.0</td>\n",
       "      <td>3.71</td>\n",
       "      <td>0.01</td>\n",
       "      <td>14.8</td>\n",
       "      <td>13.5</td>\n",
       "      <td>0.67</td>\n",
       "      <td>0.21</td>\n",
       "      <td>0.01</td>\n",
       "    </tr>\n",
       "    <tr>\n",
       "      <th>GFDL-emi</th>\n",
       "      <td>nan</td>\n",
       "      <td>nan</td>\n",
       "      <td>nan</td>\n",
       "      <td>nan</td>\n",
       "      <td>nan</td>\n",
       "      <td>nan</td>\n",
       "      <td>nan</td>\n",
       "      <td>nan</td>\n",
       "    </tr>\n",
       "    <tr>\n",
       "      <th>OsloCTM-emi</th>\n",
       "      <td>nan</td>\n",
       "      <td>3.46</td>\n",
       "      <td>0.01</td>\n",
       "      <td>15.9</td>\n",
       "      <td>15.8</td>\n",
       "      <td>0.78</td>\n",
       "      <td>0.19</td>\n",
       "      <td>-0.02</td>\n",
       "    </tr>\n",
       "  </tbody>\n",
       "</table>\n",
       "</div>"
      ],
      "text/plain": [
       "             Flux CH4 [Tg/yr]  Surf. conc. CH4 per flux [ppb yr/Tg]  \\\n",
       "GFDL                     43.4                                  4.18   \n",
       "OsloCTM                  52.4                                  3.46   \n",
       "INCA                     49.4                                  3.67   \n",
       "UKCA                     47.6                                  3.80   \n",
       "WACCM                    52.4                                  3.45   \n",
       "Model mean               49.0                                  3.71   \n",
       "GFDL-emi                  nan                                   nan   \n",
       "OsloCTM-emi               nan                                  3.46   \n",
       "\n",
       "             Flux H2/Flux CH4 [Tg H2/Tg CH4]  \\\n",
       "GFDL                                    0.01   \n",
       "OsloCTM                                 0.01   \n",
       "INCA                                    0.01   \n",
       "UKCA                                    0.02   \n",
       "WACCM                                   0.02   \n",
       "Model mean                              0.01   \n",
       "GFDL-emi                                 nan   \n",
       "OsloCTM-emi                             0.01   \n",
       "\n",
       "             Trop. ozone per flux [10$^{-3}$ DU yr/Tg]  \\\n",
       "GFDL                                              15.3   \n",
       "OsloCTM                                           15.9   \n",
       "INCA                                              10.8   \n",
       "UKCA                                              15.4   \n",
       "WACCM                                             16.7   \n",
       "Model mean                                        14.8   \n",
       "GFDL-emi                                           nan   \n",
       "OsloCTM-emi                                       15.9   \n",
       "\n",
       "             Strat. ozone per flux [10$^{-3}$ DU yr/Tg]  \\\n",
       "GFDL                                               17.9   \n",
       "OsloCTM                                            15.8   \n",
       "INCA                                               5.07   \n",
       "UKCA                                                nan   \n",
       "WACCM                                              15.3   \n",
       "Model mean                                         13.5   \n",
       "GFDL-emi                                            nan   \n",
       "OsloCTM-emi                                        15.8   \n",
       "\n",
       "             ozone RF per flux [mW m-2 yr/ Tg]  \\\n",
       "GFDL                                      0.77   \n",
       "OsloCTM                                   0.78   \n",
       "INCA                                      0.45   \n",
       "UKCA                                      0.54   \n",
       "WACCM                                     0.81   \n",
       "Model mean                                0.67   \n",
       "GFDL-emi                                   nan   \n",
       "OsloCTM-emi                               0.78   \n",
       "\n",
       "             Strat H2O RF per flux [mW m-2 yr/ Tg]  \\\n",
       "GFDL                                          0.46   \n",
       "OsloCTM                                       0.19   \n",
       "INCA                                          0.13   \n",
       "UKCA                                           nan   \n",
       "WACCM                                         0.07   \n",
       "Model mean                                    0.21   \n",
       "GFDL-emi                                       nan   \n",
       "OsloCTM-emi                                   0.19   \n",
       "\n",
       "             Aerosol RF per flux [mW m-2 yr/ Tg]  \n",
       "GFDL                                        0.00  \n",
       "OsloCTM                                    -0.02  \n",
       "INCA                                        0.05  \n",
       "UKCA                                         nan  \n",
       "WACCM                                        nan  \n",
       "Model mean                                  0.01  \n",
       "GFDL-emi                                     nan  \n",
       "OsloCTM-emi                                -0.02  "
      ]
     },
     "execution_count": 81,
     "metadata": {},
     "output_type": "execute_result"
    }
   ],
   "source": [
    "df_per_flux_ch4 = pd.concat([df_ch4_flux.loc['deltaCH4'],\n",
    "                            df_surf_ch4_per_ch4_flux,\n",
    "                            df_h2_flux_per_ch4_flux,\n",
    "                            df_trop_du_ozone_per_ch4_flux*1000.,\n",
    "                            df_strat_du_ozone_per_ch4_flux*1000.,\n",
    "                            df_ozone_rf_per_ch4_flux,\n",
    "                            df_h2o_rf_per_ch4_flux,\n",
    "                            df_aerosol_rf_per_ch4_flux],axis=1,sort=False)\n",
    "\n",
    "\n",
    "\n",
    "               \n",
    "#Save to file:\n",
    "df_per_flux_ch4 = df_per_flux_ch4.sort_index()\n",
    "df_per_flux_ch4.to_csv(outputpath + 'table_per_flux_ch4.csv')\n",
    "\n",
    "#Rename the columns:\n",
    "columns_names={'deltaCH4':'Flux CH4 [Tg/yr]',\n",
    "               'surf_ch4_per_ch4_flux':'Surf. conc. CH4 per flux [ppb yr/Tg]',\n",
    "               'h2_flux_per_ch4_flux':'Flux H2/Flux CH4 [Tg H2/Tg CH4]',\n",
    "               'trop_du_ozone_per_ch4_flux':'Trop. ozone per flux [10$^{-3}$ DU yr/Tg]',\n",
    "               'strat_du_ozone_per_ch4_flux':'Strat. ozone per flux [10$^{-3}$ DU yr/Tg]',\n",
    "               'ozone_rf_per_ch4_flux':'ozone RF per flux [mW m-2 yr/ Tg]',\n",
    "               'h2o_rf_per_ch4_flux':'Strat H2O RF per flux [mW m-2 yr/ Tg]',\n",
    "               'aerosol_rf_per_ch4_flux':'Aerosol RF per flux [mW m-2 yr/ Tg]'}\n",
    "               \n",
    "#Rename column names:\n",
    "\n",
    "df_per_flux_ch4.rename(columns=dict(columns_names),inplace=True) #[df_per_flux_h2.columns])\n",
    "\n",
    "df_per_flux_ch4.rename(model_dict, inplace=True)\n",
    "\n",
    "df_per_flux_ch4.loc['Model mean'] = df_per_flux_ch4.drop(['GFDL-emi','OsloCTM-emi']).mean()\n",
    "\n",
    "df_per_flux_ch4 = df_per_flux_ch4.reindex(sorted_array_2)\n",
    "\n",
    "df_per_flux_ch4          "
   ]
  },
  {
   "cell_type": "markdown",
   "metadata": {},
   "source": [
    "## H2 budget table"
   ]
  },
  {
   "cell_type": "code",
   "execution_count": 84,
   "metadata": {},
   "outputs": [
    {
     "data": {
      "text/html": [
       "<div>\n",
       "<style scoped>\n",
       "    .dataframe tbody tr th:only-of-type {\n",
       "        vertical-align: middle;\n",
       "    }\n",
       "\n",
       "    .dataframe tbody tr th {\n",
       "        vertical-align: top;\n",
       "    }\n",
       "\n",
       "    .dataframe thead th {\n",
       "        text-align: right;\n",
       "    }\n",
       "</style>\n",
       "<table border=\"1\" class=\"dataframe\">\n",
       "  <thead>\n",
       "    <tr style=\"text-align: right;\">\n",
       "      <th></th>\n",
       "      <th>H2 burden [Tg]</th>\n",
       "      <th>H2 atm loss [Tg/yr]</th>\n",
       "      <th>H2 atm prod [Tg/yr]</th>\n",
       "      <th>H2 soil sink [Tg/yr]</th>\n",
       "      <th>H2 estimated emissions [Tg/yr]</th>\n",
       "      <th>H2 atm lifetime [yrs]</th>\n",
       "      <th>H2 soil sink lifetime [yrs]</th>\n",
       "      <th>H2 total lifetime [yrs]</th>\n",
       "    </tr>\n",
       "  </thead>\n",
       "  <tbody>\n",
       "    <tr>\n",
       "      <th>GFDL-emi</th>\n",
       "      <td>192</td>\n",
       "      <td>22.3</td>\n",
       "      <td>45.1</td>\n",
       "      <td>54.6</td>\n",
       "      <td>31.9</td>\n",
       "      <td>8.62</td>\n",
       "      <td>3.52</td>\n",
       "      <td>2.50</td>\n",
       "    </tr>\n",
       "    <tr>\n",
       "      <th>GFDL_nudge</th>\n",
       "      <td>188</td>\n",
       "      <td>21.7</td>\n",
       "      <td>45.0</td>\n",
       "      <td>56.6</td>\n",
       "      <td>33.3</td>\n",
       "      <td>8.66</td>\n",
       "      <td>3.32</td>\n",
       "      <td>2.40</td>\n",
       "    </tr>\n",
       "    <tr>\n",
       "      <th>INCA</th>\n",
       "      <td>195</td>\n",
       "      <td>22.5</td>\n",
       "      <td>47.1</td>\n",
       "      <td>52.0</td>\n",
       "      <td>27.3</td>\n",
       "      <td>8.66</td>\n",
       "      <td>3.74</td>\n",
       "      <td>2.61</td>\n",
       "    </tr>\n",
       "    <tr>\n",
       "      <th>OSLOCTM3</th>\n",
       "      <td>196</td>\n",
       "      <td>28.4</td>\n",
       "      <td>56.3</td>\n",
       "      <td>59.5</td>\n",
       "      <td>31.6</td>\n",
       "      <td>6.91</td>\n",
       "      <td>3.30</td>\n",
       "      <td>2.23</td>\n",
       "    </tr>\n",
       "    <tr>\n",
       "      <th>OSLOCTM3-emi</th>\n",
       "      <td>209</td>\n",
       "      <td>30.1</td>\n",
       "      <td>56.2</td>\n",
       "      <td>58.4</td>\n",
       "      <td>32.2</td>\n",
       "      <td>6.95</td>\n",
       "      <td>3.58</td>\n",
       "      <td>2.36</td>\n",
       "    </tr>\n",
       "    <tr>\n",
       "      <th>UKCA</th>\n",
       "      <td>191</td>\n",
       "      <td>26.8</td>\n",
       "      <td>49.4</td>\n",
       "      <td>88.7</td>\n",
       "      <td>66.0</td>\n",
       "      <td>7.15</td>\n",
       "      <td>2.16</td>\n",
       "      <td>1.66</td>\n",
       "    </tr>\n",
       "    <tr>\n",
       "      <th>WACCM6-2deg</th>\n",
       "      <td>195</td>\n",
       "      <td>29.0</td>\n",
       "      <td>33.9</td>\n",
       "      <td>73.0</td>\n",
       "      <td>68.1</td>\n",
       "      <td>6.70</td>\n",
       "      <td>2.67</td>\n",
       "      <td>1.91</td>\n",
       "    </tr>\n",
       "  </tbody>\n",
       "</table>\n",
       "</div>"
      ],
      "text/plain": [
       "              H2 burden [Tg]  H2 atm loss [Tg/yr]  H2 atm prod [Tg/yr]  \\\n",
       "GFDL-emi                 192                 22.3                 45.1   \n",
       "GFDL_nudge               188                 21.7                 45.0   \n",
       "INCA                     195                 22.5                 47.1   \n",
       "OSLOCTM3                 196                 28.4                 56.3   \n",
       "OSLOCTM3-emi             209                 30.1                 56.2   \n",
       "UKCA                     191                 26.8                 49.4   \n",
       "WACCM6-2deg              195                 29.0                 33.9   \n",
       "\n",
       "              H2 soil sink [Tg/yr]  H2 estimated emissions [Tg/yr]  \\\n",
       "GFDL-emi                      54.6                            31.9   \n",
       "GFDL_nudge                    56.6                            33.3   \n",
       "INCA                          52.0                            27.3   \n",
       "OSLOCTM3                      59.5                            31.6   \n",
       "OSLOCTM3-emi                  58.4                            32.2   \n",
       "UKCA                          88.7                            66.0   \n",
       "WACCM6-2deg                   73.0                            68.1   \n",
       "\n",
       "              H2 atm lifetime [yrs]  H2 soil sink lifetime [yrs]  \\\n",
       "GFDL-emi                       8.62                         3.52   \n",
       "GFDL_nudge                     8.66                         3.32   \n",
       "INCA                           8.66                         3.74   \n",
       "OSLOCTM3                       6.91                         3.30   \n",
       "OSLOCTM3-emi                   6.95                         3.58   \n",
       "UKCA                           7.15                         2.16   \n",
       "WACCM6-2deg                    6.70                         2.67   \n",
       "\n",
       "              H2 total lifetime [yrs]  \n",
       "GFDL-emi                         2.50  \n",
       "GFDL_nudge                       2.40  \n",
       "INCA                             2.61  \n",
       "OSLOCTM3                         2.23  \n",
       "OSLOCTM3-emi                     2.36  \n",
       "UKCA                             1.66  \n",
       "WACCM6-2deg                      1.91  "
      ]
     },
     "execution_count": 84,
     "metadata": {},
     "output_type": "execute_result"
    }
   ],
   "source": [
    "df_budget_h2 = pd.concat([df_h2_burden.loc['CTRL'],\n",
    "                          df_h2_atmloss.loc['CTRL'],\n",
    "                          df_h2_atmprod.loc['CTRL'],\n",
    "                          df_h2_drydep.loc['CTRL'],\n",
    "                          df_h2_estemis, \n",
    "                          df_h2_atm_lifetime.loc['CTRL'],\n",
    "                          df_h2_soil_sink_lifetime.loc['CTRL'],\n",
    "                          df_h2_lifetime.loc['CTRL']\n",
    "                         ],axis=1)\n",
    "\n",
    "df_budget_h2.columns = ['H2 burden [Tg]',\n",
    "                        'H2 atm loss [Tg/yr]',\n",
    "                        'H2 atm prod [Tg/yr]',\n",
    "                        'H2 soil sink [Tg/yr]',\n",
    "                        'H2 estimated emissions [Tg/yr]',\n",
    "                        'H2 atm lifetime [yrs]',\n",
    "                        'H2 soil sink lifetime [yrs]',\n",
    "                        'H2 total lifetime [yrs]',]\n",
    "df_budget_h2 = df_budget_h2.sort_index()\n",
    "df_budget_h2.to_csv(outputpath + 'table_budget_h2.csv')\n",
    "df_budget_h2\n",
    "\n"
   ]
  },
  {
   "cell_type": "markdown",
   "metadata": {},
   "source": [
    "## CH4 budget table"
   ]
  },
  {
   "cell_type": "code",
   "execution_count": null,
   "metadata": {},
   "outputs": [],
   "source": [
    "df_budget_ch4 = pd.concat([df_ch4_burden.loc['CTRL'],\n",
    "                           df_ch4_loss.loc['CTRL'],\n",
    "                           df_ch4_lifetime.loc['CTRL']\n",
    "                           ],\n",
    "                          axis=1)\n",
    "df_budget_ch4 = df_budget_ch4.sort_index()\n",
    "\n",
    "\n",
    "df_budget_ch4.columns = ['CH4 burden [Tg]','CH4 chem loss OH [Tg/yr]','CH4 lifetime [yrs]'] \n",
    "\n",
    "df_budget_ch4.to_csv(outputpath + 'table_budget_ch4.csv')\n",
    "\n",
    "df_budget_ch4"
   ]
  },
  {
   "cell_type": "markdown",
   "metadata": {},
   "source": [
    "# Appendix:"
   ]
  },
  {
   "cell_type": "markdown",
   "metadata": {},
   "source": [
    "## Methane feedback factor:"
   ]
  },
  {
   "cell_type": "markdown",
   "metadata": {},
   "source": [
    "### Atmospheric mass conversion CH4  [Tg/ppb] (from perturbations)"
   ]
  },
  {
   "cell_type": "code",
   "execution_count": null,
   "metadata": {},
   "outputs": [],
   "source": [
    "df_ch4_burden_per_conc  = df_ch4_burden.loc['deltaCH4']/df_ch4_surfconc.loc['deltaCH4']\n",
    "df_ch4_burden_per_conc.name = 'ch4_burden_per_conc'\n",
    "df_ch4_burden_per_conc"
   ]
  },
  {
   "cell_type": "markdown",
   "metadata": {},
   "source": [
    "### Increase per unit flux w/o feedback = integrated decay [ppb yr/Tg]"
   ]
  },
  {
   "cell_type": "markdown",
   "metadata": {},
   "source": [
    "Add explanation... "
   ]
  },
  {
   "cell_type": "code",
   "execution_count": null,
   "metadata": {},
   "outputs": [],
   "source": [
    "df_w_o_feedback =df_ch4_lifetime.loc['CTRL']/df_ch4_burden_per_conc #Lifetime [yr] / [Tg/ppb] \n",
    "df_w_o_feedback"
   ]
  },
  {
   "cell_type": "markdown",
   "metadata": {},
   "source": [
    "### Feedback factor: increase CH4 with feedback/ increase CH4 without feedback"
   ]
  },
  {
   "cell_type": "code",
   "execution_count": null,
   "metadata": {},
   "outputs": [],
   "source": [
    "df_feedback_factor_ch4 = df_surf_ch4_per_ch4_flux/df_w_o_feedback\n",
    "df_feedback_factor_ch4.name = 'feedback_factor_ch4'\n",
    "df_feedback_factor_ch4 = df_feedback_factor_ch4.sort_index()\n",
    "df_feedback_factor_ch4.to_csv(outputpath + 'feedback_factor_ch4.csv')\n",
    "df_feedback_factor_ch4"
   ]
  },
  {
   "cell_type": "markdown",
   "metadata": {},
   "source": [
    "Split the CH4 GWP into direkt and indirect based on the feedback factor. For the GWP figure"
   ]
  },
  {
   "cell_type": "code",
   "execution_count": null,
   "metadata": {},
   "outputs": [],
   "source": [
    "feedback_factor = df_feedback_factor_ch4\n",
    "feedback_frac = 1.0 - (1.0/feedback_factor)\n",
    "feedback_frac.name = 'feedback_frac'\n",
    "feedback_frac"
   ]
  },
  {
   "cell_type": "code",
   "execution_count": null,
   "metadata": {},
   "outputs": [],
   "source": [
    "#Save to file:\n",
    "\n",
    "df_h2_gwp.loc['CH4dir'] = df_h2_gwp.loc['CH4']*(1.0-feedback_frac)\n",
    "df_h2_gwp.loc['CH4indir'] = df_h2_gwp.loc['CH4']*feedback_frac\n",
    "\n",
    "df_h2_gwp['GFDL-emi'].loc['CH4dir'] = df_h2_gwp['GFDL-emi'].loc['CH4']\n",
    "df_h2_gwp['OSLOCTM3-emi'].loc['CH4dir'] = df_h2_gwp['OSLOCTM3-emi'].loc['CH4']\n",
    "df_h2_gwp = df_h2_gwp.drop(['total','CH4'])\n",
    "df_h2_gwp.to_csv(outputpath + 'table_h2_gwp.csv')\n",
    "\n",
    "df_h2_gwp"
   ]
  },
  {
   "cell_type": "markdown",
   "metadata": {},
   "source": [
    "## Hydrogen feedback factor:"
   ]
  },
  {
   "cell_type": "markdown",
   "metadata": {},
   "source": [
    "### Atmospheric mass conversion H2  [Tg/ppb] (from perturbations)"
   ]
  },
  {
   "cell_type": "code",
   "execution_count": null,
   "metadata": {},
   "outputs": [],
   "source": [
    "df_h2_burden_per_conc  = df_h2_burden.loc['deltaH2']/df_h2_surfconc.loc['deltaH2']\n",
    "df_h2_burden_per_conc.name = 'h2_burden_per_conc'\n",
    "df_h2_burden_per_conc"
   ]
  },
  {
   "cell_type": "markdown",
   "metadata": {},
   "source": [
    "### Increase per unit flux w/o feedback = integrated decay [ppb yr/Tg]"
   ]
  },
  {
   "cell_type": "code",
   "execution_count": null,
   "metadata": {},
   "outputs": [],
   "source": [
    "df_w_o_feedback_h2 =df_h2_lifetime.loc['CTRL']/df_h2_burden_per_conc #Lifetime [yr] / [Tg/ppb] \n",
    "df_w_o_feedback_h2"
   ]
  },
  {
   "cell_type": "markdown",
   "metadata": {},
   "source": [
    "### Feedback factor: increase H2 with feedback/ increase H2 without feedback"
   ]
  },
  {
   "cell_type": "code",
   "execution_count": null,
   "metadata": {},
   "outputs": [],
   "source": [
    "df_feedback_factor_h2 = df_surf_h2_per_h2_flux/df_w_o_feedback_h2\n",
    "df_feedback_factor_h2.name = 'feedback_factor_h2'\n",
    "df_feedback_factor_h2\n",
    "#Fabien wrote in the paper about feedback factor less than 1."
   ]
  },
  {
   "cell_type": "markdown",
   "metadata": {},
   "source": [
    "### Change in lifetime per flux"
   ]
  },
  {
   "cell_type": "code",
   "execution_count": null,
   "metadata": {},
   "outputs": [],
   "source": [
    "df_ch4_lifetime.loc['deltaH2'] = df_ch4_lifetime.loc['10H2']-df_ch4_lifetime.loc['CTRL']\n",
    "df_ch4_lifetime.loc['deltaCH4'] = df_ch4_lifetime.loc['10CH4']-df_ch4_lifetime.loc['CTRL']\n",
    "df_ch4_lifetime"
   ]
  },
  {
   "cell_type": "code",
   "execution_count": null,
   "metadata": {},
   "outputs": [],
   "source": [
    "#Direct (changes in methane lifetime per h2 flux [days per Tg H2])\n",
    "df_ch4_lifetime_per_h2_flux =  df_ch4_lifetime.loc['deltaH2']/df_h2_flux.loc['deltaH2']\n",
    "df_ch4_lifetime_per_h2_flux*365.0 #Days"
   ]
  },
  {
   "cell_type": "code",
   "execution_count": null,
   "metadata": {},
   "outputs": [],
   "source": [
    "#Indirect (changes in methane lifetime per h2 flux [days per Tg H2] due to changes in methane):\n",
    "df_ch4_lifetime_per_ch4_flux =  df_ch4_lifetime.loc['deltaCH4']/df_ch4_flux.loc['deltaCH4']\n",
    "df_ch4_lifetime_per_ch4_flux*365.0*df_ch4_flux_per_h2_flux\n"
   ]
  }
 ],
 "metadata": {
  "kernelspec": {
   "display_name": "Python 3",
   "language": "python",
   "name": "python3"
  },
  "language_info": {
   "codemirror_mode": {
    "name": "ipython",
    "version": 3
   },
   "file_extension": ".py",
   "mimetype": "text/x-python",
   "name": "python",
   "nbconvert_exporter": "python",
   "pygments_lexer": "ipython3",
   "version": "3.7.0"
  }
 },
 "nbformat": 4,
 "nbformat_minor": 2
}
