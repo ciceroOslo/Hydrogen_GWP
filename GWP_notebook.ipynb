{
 "cells": [
  {
   "cell_type": "markdown",
   "metadata": {},
   "source": [
    "# Calculate GWP and create tables"
   ]
  },
  {
   "cell_type": "markdown",
   "metadata": {},
   "source": [
    "The script calculates the GWP of hydrogen and methane using a steady-state perturbation approach.\n",
    "\n",
    "**Simulations**:\n",
    "- **CTRL**: fixed surface concentration of hydrogen and methane\n",
    "- **10H2**: as CTRL, but with surface H2 increased by 10%. Run to steady state.\n",
    "- **10CH4**: as CTRL, but with surface CH4 increased by 10%. Run to steady state.\n",
    "\n",
    "In addition, two models have perturbed H2 emissions instead of the surface mole fraction of H2.\n",
    "\n",
    "GWP is the ratio of the absolute global warming potential (AGWP) for hydrogen to that for CO2. AGWP is defined as the time-integrated radiative forcing to a 1 kg pulse emission of that gas over a given time horizon, here 100 years. \n",
    "\n",
    "AGWP is equal to the steady-state radiative forcing (W m-2) divided by the delta flux (Tg-H2 yr-1) for a perturbed vs control. This delta flux between the perturbed (10H2 or 10CH4) and the control simulation (CTRL) includes chemical feedbacks. \n",
    "\n",
    "Based on the three set of simulations, we calculate the radiative forcing in the perturbed relative to the control. As the models run with fixed surface concentration of methane, we need to have a separate perturbed methane run. We calculate the radiative forcing per Tg-CH4 (including the feedbacks, as feedbacks are included in the delta flux) for the methane perturbed run, and map the changes in the methane loss in the hydrogen perturbation with the results from the methane perturbed run. \n",
    "\n",
    "*GFDL-emi simulations from Paulot et al. (2021) with H2 emissions (200 Tg/yr).*"
   ]
  },
  {
   "cell_type": "markdown",
   "metadata": {},
   "source": [
    "#### OUTLINE:\n",
    "**PART I: Read model results**\n",
    "\n",
    "**PART II: GWP calculations**\n",
    "\n",
    "**PART III: Main results and tabels**\n",
    "\n",
    "**Appendix with additional results**\n",
    "\n",
    "**Uncertainty analysis output**\n",
    "\n",
    "This is the main notebook for the GWP calculations. The uncertainty analysis and plotting are done in separate notebooks. "
   ]
  },
  {
   "cell_type": "code",
   "execution_count": 1,
   "metadata": {},
   "outputs": [],
   "source": [
    "import numpy as np\n",
    "import pandas as pd\n",
    "pd.set_option('display.float_format', lambda x: '{:,.4f}'.format(x) if abs(x)<0 else ('{:,.2f}'.format(x) if abs(x)<10 else ('{:,.1f}'.format(x) if abs(x)<100 else '{:,.0f}'.format(x))))"
   ]
  },
  {
   "cell_type": "markdown",
   "metadata": {},
   "source": [
    "Input and output path:"
   ]
  },
  {
   "cell_type": "code",
   "execution_count": 2,
   "metadata": {},
   "outputs": [],
   "source": [
    "path = r\"./input/\"\n",
    "outputpath= r\"./output/\""
   ]
  },
  {
   "cell_type": "markdown",
   "metadata": {},
   "source": [
    "Constants:"
   ]
  },
  {
   "cell_type": "code",
   "execution_count": 3,
   "metadata": {},
   "outputs": [
    {
     "name": "stdout",
     "output_type": "stream",
     "text": [
      "0.38528\n"
     ]
    }
   ],
   "source": [
    "#AGWP100_CO2 [mW yr m-2 Tg-1] Source: Table 7.SM.6 in IPCC AR6: 0.0895 pW m-2 yr kg-1 (p=10^-12) \n",
    "agwp100_CO2 = 0.0895\n",
    "\n",
    "\n",
    "#CH4 tau_strat[yr] \n",
    "tau_strat = 120.0*2.0 #Multiplied by to for not double counting OH loss in stratosphere. \n",
    "\n",
    "#CH4 tau_soil [yr] \n",
    "tau_soil = 160.0\n",
    "\n",
    "#Specific RF for CH4 [mW m-2 ppb-1] Etminan et al., 2016\n",
    "spec_rf_ch4 = 0.44800\n",
    "\n",
    "#The adjustment is –14% ± 15% IPCC AR6\n",
    "spec_rf_ch4 = spec_rf_ch4*(1.0-0.14)\n",
    "print(spec_rf_ch4)"
   ]
  },
  {
   "cell_type": "markdown",
   "metadata": {},
   "source": [
    "**Dry deposition adjustments:** As there is large uncertanty in dry deposition, here is a possibility to spesify the soil sink value. The perturbations are adjusted by the same relative factors as in the control. "
   ]
  },
  {
   "cell_type": "code",
   "execution_count": 4,
   "metadata": {},
   "outputs": [],
   "source": [
    "adjust_drydep = False\n",
    "if(adjust_drydep):\n",
    "    drydep = 59.0\n",
    "    outputpath = outputpath + 'drydep_'+ f'{drydep:.0f}_'"
   ]
  },
  {
   "cell_type": "markdown",
   "metadata": {},
   "source": [
    "# Part I: Read model results"
   ]
  },
  {
   "cell_type": "markdown",
   "metadata": {},
   "source": [
    "In this part, model results are read from the input files.\n",
    "\n",
    "For GFDL-emi, 10H2 is the hydrogen only perturbed run, while 10CH4 is the hydrogen plus methane perturbed run."
   ]
  },
  {
   "cell_type": "markdown",
   "metadata": {},
   "source": [
    "## 1. Hydrogen budget"
   ]
  },
  {
   "cell_type": "markdown",
   "metadata": {},
   "source": [
    "### 1.1 H2 burden [Tg]:"
   ]
  },
  {
   "cell_type": "code",
   "execution_count": 5,
   "metadata": {},
   "outputs": [
    {
     "data": {
      "text/plain": [
       "Scenario\n",
       "CTRL    195\n",
       "10H2    nan\n",
       "10CH4   196\n",
       "Name: OSLOCTM3, dtype: float64"
      ]
     },
     "execution_count": 5,
     "metadata": {},
     "output_type": "execute_result"
    }
   ],
   "source": [
    "file = 'H2_burden.txt'\n",
    "df_h2_burden = pd.read_csv(path + file, sep=';',index_col=0,header=0)\n",
    "delta = df_h2_burden.loc['10H2']-df_h2_burden.loc['CTRL']\n",
    "delta.name = 'deltaH2'\n",
    "df_h2_burden_conc = df_h2_burden.append(delta)\n",
    "df_h2_burden_conc = df_h2_burden['OSLOCTM3']\n",
    "df_h2_burden_conc"
   ]
  },
  {
   "cell_type": "code",
   "execution_count": 6,
   "metadata": {},
   "outputs": [
    {
     "data": {
      "text/html": [
       "<div>\n",
       "<style scoped>\n",
       "    .dataframe tbody tr th:only-of-type {\n",
       "        vertical-align: middle;\n",
       "    }\n",
       "\n",
       "    .dataframe tbody tr th {\n",
       "        vertical-align: top;\n",
       "    }\n",
       "\n",
       "    .dataframe thead th {\n",
       "        text-align: right;\n",
       "    }\n",
       "</style>\n",
       "<table border=\"1\" class=\"dataframe\">\n",
       "  <thead>\n",
       "    <tr style=\"text-align: right;\">\n",
       "      <th></th>\n",
       "      <th>CNTR</th>\n",
       "      <th>antro01</th>\n",
       "      <th>antro1</th>\n",
       "      <th>antro10</th>\n",
       "      <th>antro100</th>\n",
       "      <th>nemo</th>\n",
       "      <th>epia</th>\n",
       "      <th>munich</th>\n",
       "      <th>usdrydep</th>\n",
       "      <th>maud</th>\n",
       "      <th>zep</th>\n",
       "      <th>maxdep</th>\n",
       "    </tr>\n",
       "    <tr>\n",
       "      <th>Scenario</th>\n",
       "      <th></th>\n",
       "      <th></th>\n",
       "      <th></th>\n",
       "      <th></th>\n",
       "      <th></th>\n",
       "      <th></th>\n",
       "      <th></th>\n",
       "      <th></th>\n",
       "      <th></th>\n",
       "      <th></th>\n",
       "      <th></th>\n",
       "      <th></th>\n",
       "    </tr>\n",
       "  </thead>\n",
       "  <tbody>\n",
       "    <tr>\n",
       "      <th>YR13</th>\n",
       "      <td>205</td>\n",
       "      <td>205</td>\n",
       "      <td>207</td>\n",
       "      <td>226</td>\n",
       "      <td>423</td>\n",
       "      <td>207</td>\n",
       "      <td>207</td>\n",
       "      <td>207</td>\n",
       "      <td>206</td>\n",
       "      <td>207</td>\n",
       "      <td>207</td>\n",
       "      <td>207</td>\n",
       "    </tr>\n",
       "    <tr>\n",
       "      <th>deltaH2</th>\n",
       "      <td>0.00</td>\n",
       "      <td>0.22</td>\n",
       "      <td>2.15</td>\n",
       "      <td>21.5</td>\n",
       "      <td>218</td>\n",
       "      <td>2.53</td>\n",
       "      <td>1.93</td>\n",
       "      <td>2.05</td>\n",
       "      <td>1.76</td>\n",
       "      <td>2.56</td>\n",
       "      <td>2.07</td>\n",
       "      <td>1.97</td>\n",
       "    </tr>\n",
       "  </tbody>\n",
       "</table>\n",
       "</div>"
      ],
      "text/plain": [
       "          CNTR  antro01  antro1  antro10  antro100  nemo  epia  munich  \\\n",
       "Scenario                                                                 \n",
       "YR13       205      205     207      226       423   207   207     207   \n",
       "deltaH2   0.00     0.22    2.15     21.5       218  2.53  1.93    2.05   \n",
       "\n",
       "          usdrydep  maud  zep  maxdep  \n",
       "Scenario                               \n",
       "YR13           206   207  207     207  \n",
       "deltaH2       1.76  2.56 2.07    1.97  "
      ]
     },
     "execution_count": 6,
     "metadata": {},
     "output_type": "execute_result"
    }
   ],
   "source": [
    "file = 'OSLOCTM3-emi_burden-H2.csv'\n",
    "df_h2_burden = pd.read_csv(path + file, sep=',',index_col=0,header=0)\n",
    "#delta = df_h2_burden.loc['10H2']-df_h2_burden.loc['CTRL']\n",
    "#delta.name = 'deltaH2'\n",
    "df_h2_burden.loc['deltaH2'] = df_h2_burden.iloc[0]-df_h2_burden['CNTR'].iloc[0]\n",
    "df_h2_burden\n",
    " "
   ]
  },
  {
   "cell_type": "markdown",
   "metadata": {},
   "source": [
    "### 1.2 H2 loss\n",
    "Hydrogen loss happens through two main processes. The largest loss is through soil sink. Remaining hydrogen is lost through reactions with OH as it ascends through the atmosphere. "
   ]
  },
  {
   "cell_type": "markdown",
   "metadata": {},
   "source": [
    "#### H2 dry deposition [Tg/yr]"
   ]
  },
  {
   "cell_type": "markdown",
   "metadata": {},
   "source": [
    "The models diagnose soil sink based on their own schemes. Note that the dry deposition do not affect the atmospheric composition in the concentration driven runs, as the surface concentration of H2 are fixed in these runs."
   ]
  },
  {
   "cell_type": "code",
   "execution_count": 7,
   "metadata": {},
   "outputs": [
    {
     "data": {
      "text/plain": [
       "Scenario\n",
       "CTRL    59.5\n",
       "10H2    0.00\n",
       "10CH4   59.5\n",
       "Name: OSLOCTM3, dtype: float64"
      ]
     },
     "execution_count": 7,
     "metadata": {},
     "output_type": "execute_result"
    }
   ],
   "source": [
    "file = 'H2_drydep.txt'\n",
    "df_h2_drydep_conc = pd.read_csv(path + file, sep=';',index_col=0,header=0)\n",
    "df_h2_drydep_conc = df_h2_drydep_conc['OSLOCTM3']\n",
    "df_h2_drydep_conc"
   ]
  },
  {
   "cell_type": "code",
   "execution_count": 8,
   "metadata": {},
   "outputs": [
    {
     "data": {
      "text/plain": [
       "CNTR       58.0\n",
       "antro01    58.1\n",
       "antro1     58.7\n",
       "antro10    65.0\n",
       "antro100    128\n",
       "nemo       58.7\n",
       "epia       58.7\n",
       "munich     58.7\n",
       "usdrydep   58.8\n",
       "maud       58.7\n",
       "zep        58.7\n",
       "maxdep     58.7\n",
       "Name: Drydeposition, dtype: float64"
      ]
     },
     "execution_count": 8,
     "metadata": {},
     "output_type": "execute_result"
    }
   ],
   "source": [
    "file = 'OSLOCTM3-emi_prod-loss-H2_all_YR13.csv'\n",
    "df_h2_prodloss = pd.read_csv(path + file, sep=',',index_col=0,header=0)\n",
    "df_h2_drydep = df_h2_prodloss.loc['Drydeposition']\n",
    "df_h2_drydep"
   ]
  },
  {
   "cell_type": "markdown",
   "metadata": {},
   "source": [
    "As drydeposition is uncertain, we can replace the models diagnosed drydeposition by a given value. In the concentration driven run, the drydeposition scheme do not impact the atmospheric composition. For emission driven runs, we also do adjust the drydeposition. Note that we do not use the emission numbers from the emission driven runs directly, the fluxes is estimated based on burden and lifetimes."
   ]
  },
  {
   "cell_type": "code",
   "execution_count": 9,
   "metadata": {},
   "outputs": [],
   "source": [
    "if(adjust_drydep):\n",
    "    print('NB drydep adjusted')\n",
    "    #\n",
    "    ##Adjust by the relative adjustment in the control simulations\n",
    "    #adjust = drydep/df_h2_drydep.loc['CTRL']\n",
    "    #df_h2_drydep = df_h2_drydep*adjust\n",
    "    \n",
    "    #print(df_h2_drydep)"
   ]
  },
  {
   "cell_type": "markdown",
   "metadata": {},
   "source": [
    "#### H2 atmospheric loss [Tg/yr]"
   ]
  },
  {
   "cell_type": "code",
   "execution_count": 10,
   "metadata": {},
   "outputs": [
    {
     "data": {
      "text/plain": [
       "Scenario\n",
       "CTRL    27.9\n",
       "10H2    0.00\n",
       "10CH4   27.2\n",
       "Name: OSLOCTM3, dtype: float64"
      ]
     },
     "execution_count": 10,
     "metadata": {},
     "output_type": "execute_result"
    }
   ],
   "source": [
    "file = 'H2_atm_loss.txt'\n",
    "df_h2_atmloss_conc = pd.read_csv(path + file, sep=';',index_col=0,header=0)\n",
    "df_h2_atmloss_conc = df_h2_atmloss_conc['OSLOCTM3']\n",
    "df_h2_atmloss_conc\n"
   ]
  },
  {
   "cell_type": "code",
   "execution_count": 11,
   "metadata": {},
   "outputs": [
    {
     "data": {
      "text/plain": [
       "CNTR       29.2\n",
       "antro01    29.2\n",
       "antro1     29.5\n",
       "antro10    32.1\n",
       "antro100   58.0\n",
       "nemo       29.5\n",
       "epia       29.4\n",
       "munich     29.5\n",
       "usdrydep   29.4\n",
       "maud       29.5\n",
       "zep        29.4\n",
       "maxdep     29.4\n",
       "dtype: float64"
      ]
     },
     "execution_count": 11,
     "metadata": {},
     "output_type": "execute_result"
    }
   ],
   "source": [
    "df_h2_atmloss = df_h2_prodloss.loc['Total loss'] - df_h2_prodloss.loc['Drydeposition']\n",
    "df_h2_atmloss"
   ]
  },
  {
   "cell_type": "markdown",
   "metadata": {},
   "source": [
    "#### H2 total loss [Tg/yr]:"
   ]
  },
  {
   "cell_type": "code",
   "execution_count": 12,
   "metadata": {},
   "outputs": [
    {
     "data": {
      "text/plain": [
       "Scenario\n",
       "CTRL    87.4\n",
       "10H2    0.00\n",
       "10CH4   86.7\n",
       "Name: OSLOCTM3, dtype: float64"
      ]
     },
     "execution_count": 12,
     "metadata": {},
     "output_type": "execute_result"
    }
   ],
   "source": [
    "df_h2_loss_conc = df_h2_atmloss_conc + df_h2_drydep_conc\n",
    "df_h2_loss_conc\n"
   ]
  },
  {
   "cell_type": "code",
   "execution_count": 13,
   "metadata": {},
   "outputs": [
    {
     "data": {
      "text/plain": [
       "CNTR       87.2\n",
       "antro01    87.3\n",
       "antro1     88.2\n",
       "antro10    97.1\n",
       "antro100    186\n",
       "nemo       88.2\n",
       "epia       88.2\n",
       "munich     88.2\n",
       "usdrydep   88.2\n",
       "maud       88.2\n",
       "zep        88.2\n",
       "maxdep     88.2\n",
       "dtype: float64"
      ]
     },
     "execution_count": 13,
     "metadata": {},
     "output_type": "execute_result"
    }
   ],
   "source": [
    "df_h2_loss = df_h2_atmloss+ df_h2_drydep\n",
    "df_h2_loss\n"
   ]
  },
  {
   "cell_type": "markdown",
   "metadata": {},
   "source": [
    "### 1.3 H2 production"
   ]
  },
  {
   "cell_type": "markdown",
   "metadata": {},
   "source": [
    "#### H2 atm. prod [Tg/yr]"
   ]
  },
  {
   "cell_type": "code",
   "execution_count": 14,
   "metadata": {},
   "outputs": [
    {
     "data": {
      "text/plain": [
       "Scenario\n",
       "CTRL    55.9\n",
       "10H2    0.00\n",
       "10CH4   58.7\n",
       "Name: OSLOCTM3, dtype: float64"
      ]
     },
     "execution_count": 14,
     "metadata": {},
     "output_type": "execute_result"
    }
   ],
   "source": [
    "file = 'H2_atm_prod.txt'\n",
    "df_h2_atmprod_conc = pd.read_csv(path + file, sep=';',index_col=0,header=0)\n",
    "df_h2_atmprod_conc = df_h2_atmprod_conc['OSLOCTM3']\n",
    "df_h2_atmprod_conc"
   ]
  },
  {
   "cell_type": "code",
   "execution_count": 15,
   "metadata": {},
   "outputs": [
    {
     "data": {
      "text/html": [
       "<div>\n",
       "<style scoped>\n",
       "    .dataframe tbody tr th:only-of-type {\n",
       "        vertical-align: middle;\n",
       "    }\n",
       "\n",
       "    .dataframe tbody tr th {\n",
       "        vertical-align: top;\n",
       "    }\n",
       "\n",
       "    .dataframe thead th {\n",
       "        text-align: right;\n",
       "    }\n",
       "</style>\n",
       "<table border=\"1\" class=\"dataframe\">\n",
       "  <thead>\n",
       "    <tr style=\"text-align: right;\">\n",
       "      <th></th>\n",
       "      <th>CNTR</th>\n",
       "      <th>antro01</th>\n",
       "      <th>antro1</th>\n",
       "      <th>antro10</th>\n",
       "      <th>antro100</th>\n",
       "      <th>nemo</th>\n",
       "      <th>epia</th>\n",
       "      <th>munich</th>\n",
       "      <th>usdrydep</th>\n",
       "      <th>maud</th>\n",
       "      <th>zep</th>\n",
       "      <th>maxdep</th>\n",
       "    </tr>\n",
       "  </thead>\n",
       "  <tbody>\n",
       "    <tr>\n",
       "      <th>Total emission [Tg]</th>\n",
       "      <td>32.2</td>\n",
       "      <td>32.3</td>\n",
       "      <td>33.2</td>\n",
       "      <td>42.3</td>\n",
       "      <td>132</td>\n",
       "      <td>33.2</td>\n",
       "      <td>33.2</td>\n",
       "      <td>33.2</td>\n",
       "      <td>33.2</td>\n",
       "      <td>33.2</td>\n",
       "      <td>33.2</td>\n",
       "      <td>33.2</td>\n",
       "    </tr>\n",
       "  </tbody>\n",
       "</table>\n",
       "</div>"
      ],
      "text/plain": [
       "                     CNTR  antro01  antro1  antro10  antro100  nemo  epia  \\\n",
       "Total emission [Tg]  32.2     32.3    33.2     42.3       132  33.2  33.2   \n",
       "\n",
       "                     munich  usdrydep  maud  zep  maxdep  \n",
       "Total emission [Tg]    33.2      33.2  33.2 33.2    33.2  "
      ]
     },
     "execution_count": 15,
     "metadata": {},
     "output_type": "execute_result"
    }
   ],
   "source": [
    "file = 'OSLOCTM3-emi_emissions_H2.csv'\n",
    "df_h2_emis = pd.read_csv(path + file, sep=',',index_col=0,header=0)\n",
    "df_h2_emis"
   ]
  },
  {
   "cell_type": "code",
   "execution_count": 16,
   "metadata": {},
   "outputs": [
    {
     "data": {
      "text/plain": [
       "CNTR       55.8\n",
       "antro01    55.8\n",
       "antro1     55.8\n",
       "antro10    55.7\n",
       "antro100   54.9\n",
       "nemo       55.8\n",
       "epia       55.8\n",
       "munich     55.8\n",
       "usdrydep   55.8\n",
       "maud       55.8\n",
       "zep        55.8\n",
       "maxdep     55.8\n",
       "dtype: float64"
      ]
     },
     "execution_count": 16,
     "metadata": {},
     "output_type": "execute_result"
    }
   ],
   "source": [
    "df_h2_atmprod = df_h2_prodloss.loc['Total production'] - df_h2_emis.iloc[0]\n",
    "df_h2_atmprod"
   ]
  },
  {
   "cell_type": "markdown",
   "metadata": {},
   "source": [
    "### 1.4 Estimated H2 emissions (Total loss = Total prod + emission)"
   ]
  },
  {
   "cell_type": "markdown",
   "metadata": {},
   "source": [
    "In the runs with fixed surface boundary conditions for H2, there are two unknowns; emissions and soil sink. The models do calculate the soil sink based on their own dry deposition schemes, but it does not influence the H2 in the atmosphere.  \n",
    "Emission driven runs, are driven by emission estimates and use the dry deposition scheme to calculate the concentration at the surface. At steady state, the total production and total loss must balance:"
   ]
  },
  {
   "cell_type": "code",
   "execution_count": 17,
   "metadata": {},
   "outputs": [
    {
     "data": {
      "text/plain": [
       "Scenario\n",
       "CTRL    31.5\n",
       "10H2    0.00\n",
       "10CH4   28.0\n",
       "Name: OSLOCTM3, dtype: float64"
      ]
     },
     "execution_count": 17,
     "metadata": {},
     "output_type": "execute_result"
    }
   ],
   "source": [
    "df_h2_estemis_conc = df_h2_atmloss_conc + df_h2_drydep_conc - df_h2_atmprod_conc\n",
    "df_h2_estemis_conc"
   ]
  },
  {
   "cell_type": "code",
   "execution_count": 18,
   "metadata": {},
   "outputs": [
    {
     "data": {
      "text/plain": [
       "-31.526913320626726"
      ]
     },
     "execution_count": 18,
     "metadata": {},
     "output_type": "execute_result"
    }
   ],
   "source": [
    "df_h2_estemis_conc.loc['10H2']-df_h2_estemis_conc.loc['CTRL']"
   ]
  },
  {
   "cell_type": "code",
   "execution_count": 19,
   "metadata": {},
   "outputs": [
    {
     "data": {
      "text/plain": [
       "CNTR       31.4\n",
       "antro01    31.5\n",
       "antro1     32.4\n",
       "antro10    41.4\n",
       "antro100    131\n",
       "nemo       32.4\n",
       "epia       32.4\n",
       "munich     32.4\n",
       "usdrydep   32.4\n",
       "maud       32.4\n",
       "zep        32.4\n",
       "maxdep     32.4\n",
       "dtype: float64"
      ]
     },
     "execution_count": 19,
     "metadata": {},
     "output_type": "execute_result"
    }
   ],
   "source": [
    "df_h2_estemis = df_h2_atmloss + df_h2_drydep - df_h2_atmprod\n",
    "df_h2_estemis"
   ]
  },
  {
   "cell_type": "code",
   "execution_count": 20,
   "metadata": {},
   "outputs": [
    {
     "data": {
      "text/html": [
       "<div>\n",
       "<style scoped>\n",
       "    .dataframe tbody tr th:only-of-type {\n",
       "        vertical-align: middle;\n",
       "    }\n",
       "\n",
       "    .dataframe tbody tr th {\n",
       "        vertical-align: top;\n",
       "    }\n",
       "\n",
       "    .dataframe thead th {\n",
       "        text-align: right;\n",
       "    }\n",
       "</style>\n",
       "<table border=\"1\" class=\"dataframe\">\n",
       "  <thead>\n",
       "    <tr style=\"text-align: right;\">\n",
       "      <th></th>\n",
       "      <th>CNTR</th>\n",
       "      <th>antro01</th>\n",
       "      <th>antro1</th>\n",
       "      <th>antro10</th>\n",
       "      <th>antro100</th>\n",
       "      <th>nemo</th>\n",
       "      <th>epia</th>\n",
       "      <th>munich</th>\n",
       "      <th>usdrydep</th>\n",
       "      <th>maud</th>\n",
       "      <th>zep</th>\n",
       "      <th>maxdep</th>\n",
       "    </tr>\n",
       "  </thead>\n",
       "  <tbody>\n",
       "    <tr>\n",
       "      <th>Total emission [Tg]</th>\n",
       "      <td>32.2</td>\n",
       "      <td>32.3</td>\n",
       "      <td>33.2</td>\n",
       "      <td>42.3</td>\n",
       "      <td>132</td>\n",
       "      <td>33.2</td>\n",
       "      <td>33.2</td>\n",
       "      <td>33.2</td>\n",
       "      <td>33.2</td>\n",
       "      <td>33.2</td>\n",
       "      <td>33.2</td>\n",
       "      <td>33.2</td>\n",
       "    </tr>\n",
       "  </tbody>\n",
       "</table>\n",
       "</div>"
      ],
      "text/plain": [
       "                     CNTR  antro01  antro1  antro10  antro100  nemo  epia  \\\n",
       "Total emission [Tg]  32.2     32.3    33.2     42.3       132  33.2  33.2   \n",
       "\n",
       "                     munich  usdrydep  maud  zep  maxdep  \n",
       "Total emission [Tg]    33.2      33.2  33.2 33.2    33.2  "
      ]
     },
     "execution_count": 20,
     "metadata": {},
     "output_type": "execute_result"
    }
   ],
   "source": [
    "df_h2_emis"
   ]
  },
  {
   "cell_type": "code",
   "execution_count": 21,
   "metadata": {},
   "outputs": [],
   "source": [
    "#With more years these should be more similar.."
   ]
  },
  {
   "cell_type": "markdown",
   "metadata": {},
   "source": [
    "For the emission driven runs, the emissions calculated based on loss terms are similar to the emissions used in these runs."
   ]
  },
  {
   "cell_type": "markdown",
   "metadata": {},
   "source": [
    "### 1.5 H2 surface concentration [ppb]"
   ]
  },
  {
   "cell_type": "code",
   "execution_count": 22,
   "metadata": {},
   "outputs": [
    {
     "data": {
      "text/plain": [
       "Scenario\n",
       "CTRL      532\n",
       "10H2      nan\n",
       "deltaH2   nan\n",
       "Name: OSLOCTM3, dtype: float64"
      ]
     },
     "execution_count": 22,
     "metadata": {},
     "output_type": "execute_result"
    }
   ],
   "source": [
    "file = 'H2_surfconc.txt'\n",
    "df_h2_surfconc_conc = pd.read_csv(path + file, sep=';',index_col=0,header=0)\n",
    "delta = df_h2_surfconc_conc.loc['10H2']-df_h2_surfconc_conc.loc['CTRL']\n",
    "delta.name = 'deltaH2'\n",
    "df_h2_surfconc_conc = df_h2_surfconc_conc.append(delta)\n",
    "df_h2_surfconc_conc = df_h2_surfconc_conc['OSLOCTM3']\n",
    "df_h2_surfconc_conc"
   ]
  },
  {
   "cell_type": "code",
   "execution_count": 23,
   "metadata": {},
   "outputs": [
    {
     "data": {
      "text/html": [
       "<div>\n",
       "<style scoped>\n",
       "    .dataframe tbody tr th:only-of-type {\n",
       "        vertical-align: middle;\n",
       "    }\n",
       "\n",
       "    .dataframe tbody tr th {\n",
       "        vertical-align: top;\n",
       "    }\n",
       "\n",
       "    .dataframe thead th {\n",
       "        text-align: right;\n",
       "    }\n",
       "</style>\n",
       "<table border=\"1\" class=\"dataframe\">\n",
       "  <thead>\n",
       "    <tr style=\"text-align: right;\">\n",
       "      <th></th>\n",
       "      <th>CNTR</th>\n",
       "      <th>antro01</th>\n",
       "      <th>antro1</th>\n",
       "      <th>antro10</th>\n",
       "      <th>antro100</th>\n",
       "      <th>nemo</th>\n",
       "      <th>epia</th>\n",
       "      <th>munich</th>\n",
       "      <th>usdrydep</th>\n",
       "      <th>maud</th>\n",
       "      <th>zep</th>\n",
       "      <th>maxdep</th>\n",
       "    </tr>\n",
       "  </thead>\n",
       "  <tbody>\n",
       "    <tr>\n",
       "      <th>YR13</th>\n",
       "      <td>559</td>\n",
       "      <td>560</td>\n",
       "      <td>565</td>\n",
       "      <td>621</td>\n",
       "      <td>1,189</td>\n",
       "      <td>567</td>\n",
       "      <td>565</td>\n",
       "      <td>565</td>\n",
       "      <td>564</td>\n",
       "      <td>568</td>\n",
       "      <td>566</td>\n",
       "      <td>565</td>\n",
       "    </tr>\n",
       "    <tr>\n",
       "      <th>delta</th>\n",
       "      <td>0.00</td>\n",
       "      <td>0.62</td>\n",
       "      <td>6.22</td>\n",
       "      <td>62.2</td>\n",
       "      <td>630</td>\n",
       "      <td>7.85</td>\n",
       "      <td>6.01</td>\n",
       "      <td>6.23</td>\n",
       "      <td>5.15</td>\n",
       "      <td>9.15</td>\n",
       "      <td>6.63</td>\n",
       "      <td>5.42</td>\n",
       "    </tr>\n",
       "  </tbody>\n",
       "</table>\n",
       "</div>"
      ],
      "text/plain": [
       "       CNTR  antro01  antro1  antro10  antro100  nemo  epia  munich  usdrydep  \\\n",
       "YR13    559      560     565      621     1,189   567   565     565       564   \n",
       "delta  0.00     0.62    6.22     62.2       630  7.85  6.01    6.23      5.15   \n",
       "\n",
       "       maud  zep  maxdep  \n",
       "YR13    568  566     565  \n",
       "delta  9.15 6.63    5.42  "
      ]
     },
     "execution_count": 23,
     "metadata": {},
     "output_type": "execute_result"
    }
   ],
   "source": [
    "file = 'OSLOCTM3-emi_surfconc-H2.csv'\n",
    "df_h2_surfconc = pd.read_csv(path + file, sep=',',index_col=0,header=0)\n",
    "df_h2_surfconc.loc['delta'] = df_h2_surfconc.iloc[0]-df_h2_surfconc['CNTR'].iloc[0]\n",
    "df_h2_surfconc\n",
    "#delta = df_h2_surfconc_conc.loc['10H2']-df_h2_surfconc_conc.loc['CTRL']"
   ]
  },
  {
   "cell_type": "markdown",
   "metadata": {},
   "source": [
    "### 1.6 H2 lifetime [yr]\n",
    "We calculate the lifetime as burden divided by loss."
   ]
  },
  {
   "cell_type": "markdown",
   "metadata": {},
   "source": [
    "#### H2 total lifetime [yr]"
   ]
  },
  {
   "cell_type": "code",
   "execution_count": 24,
   "metadata": {},
   "outputs": [
    {
     "data": {
      "text/plain": [
       "Scenario\n",
       "CTRL    2.23\n",
       "10H2     nan\n",
       "10CH4   2.26\n",
       "Name: OSLOCTM3, dtype: float64"
      ]
     },
     "execution_count": 24,
     "metadata": {},
     "output_type": "execute_result"
    }
   ],
   "source": [
    "df_h2_lifetime_conc = df_h2_burden_conc/df_h2_loss_conc\n",
    "df_h2_lifetime_conc\n"
   ]
  },
  {
   "cell_type": "code",
   "execution_count": 25,
   "metadata": {},
   "outputs": [
    {
     "data": {
      "text/plain": [
       "CNTR       2.35\n",
       "antro01    2.35\n",
       "antro1     2.34\n",
       "antro10    2.33\n",
       "antro100   2.27\n",
       "nemo       2.35\n",
       "epia       2.34\n",
       "munich     2.34\n",
       "usdrydep   2.34\n",
       "maud       2.35\n",
       "zep        2.34\n",
       "maxdep     2.34\n",
       "dtype: float64"
      ]
     },
     "execution_count": 25,
     "metadata": {},
     "output_type": "execute_result"
    }
   ],
   "source": [
    "df_h2_lifetime = df_h2_burden.iloc[0]/df_h2_loss\n",
    "df_h2_lifetime"
   ]
  },
  {
   "cell_type": "markdown",
   "metadata": {},
   "source": [
    "#### H2 atmospheric lifetime [yr]\n",
    "The atmospheric lifetime is the burden divided by only the atmospheric loss. This is the lifetime of the fraction of hydrogen which is not dry deposited."
   ]
  },
  {
   "cell_type": "code",
   "execution_count": 26,
   "metadata": {},
   "outputs": [
    {
     "data": {
      "text/plain": [
       "Scenario\n",
       "CTRL    6.99\n",
       "10H2     nan\n",
       "10CH4   7.20\n",
       "Name: OSLOCTM3, dtype: float64"
      ]
     },
     "execution_count": 26,
     "metadata": {},
     "output_type": "execute_result"
    }
   ],
   "source": [
    "df_h2_atm_lifetime_conc = df_h2_burden_conc/df_h2_atmloss_conc\n",
    "df_h2_atm_lifetime_conc"
   ]
  },
  {
   "cell_type": "code",
   "execution_count": 27,
   "metadata": {},
   "outputs": [
    {
     "data": {
      "text/plain": [
       "CNTR       7.02\n",
       "antro01    7.02\n",
       "antro1     7.02\n",
       "antro10    7.04\n",
       "antro100   7.28\n",
       "nemo       7.02\n",
       "epia       7.02\n",
       "munich     7.02\n",
       "usdrydep   7.02\n",
       "maud       7.02\n",
       "zep        7.02\n",
       "maxdep     7.02\n",
       "dtype: float64"
      ]
     },
     "execution_count": 27,
     "metadata": {},
     "output_type": "execute_result"
    }
   ],
   "source": [
    "df_h2_atm_lifetime = df_h2_burden.iloc[0]/df_h2_atmloss\n",
    "df_h2_atm_lifetime"
   ]
  },
  {
   "cell_type": "markdown",
   "metadata": {},
   "source": [
    "#### H2 soil sink lifetime [yr]"
   ]
  },
  {
   "cell_type": "code",
   "execution_count": 28,
   "metadata": {},
   "outputs": [
    {
     "data": {
      "text/plain": [
       "Scenario\n",
       "CTRL    3.28\n",
       "10H2     nan\n",
       "10CH4   3.29\n",
       "Name: OSLOCTM3, dtype: float64"
      ]
     },
     "execution_count": 28,
     "metadata": {},
     "output_type": "execute_result"
    }
   ],
   "source": [
    "df_h2_soil_sink_lifetime_conc = df_h2_burden_conc/df_h2_drydep_conc\n",
    "df_h2_soil_sink_lifetime_conc"
   ]
  },
  {
   "cell_type": "code",
   "execution_count": 29,
   "metadata": {},
   "outputs": [
    {
     "data": {
      "text/plain": [
       "CNTR       3.53\n",
       "antro01    3.53\n",
       "antro1     3.52\n",
       "antro10    3.48\n",
       "antro100   3.30\n",
       "nemo       3.53\n",
       "epia       3.52\n",
       "munich     3.52\n",
       "usdrydep   3.51\n",
       "maud       3.53\n",
       "zep        3.52\n",
       "maxdep     3.52\n",
       "dtype: float64"
      ]
     },
     "execution_count": 29,
     "metadata": {},
     "output_type": "execute_result"
    }
   ],
   "source": [
    "df_h2_soil_sink_lifetime = df_h2_burden.iloc[0]/df_h2_drydep\n",
    "df_h2_soil_sink_lifetime"
   ]
  },
  {
   "cell_type": "markdown",
   "metadata": {},
   "source": [
    "### 1.7 H2 flux  [Tg/yr]"
   ]
  },
  {
   "cell_type": "markdown",
   "metadata": {},
   "source": [
    "The hydrogen flux is calculated as the burden divided by the total hydrogen lifetime. \n",
    "\n",
    "The hydrogen lifetime is calculated as burden divided by the total loss (soil sink + atm.loss). \n",
    "\n",
    "In stedy state, this is equal to the total loss (se check below)\n",
    "\n",
    "The difference in calculated flux in the perturbed and control run is calculated. These numbers include feedbacks. \n",
    "\n",
    "For the GWP calculations, the radiative forcing in the steady state simulations are divided by these flux numbers."
   ]
  },
  {
   "cell_type": "code",
   "execution_count": 30,
   "metadata": {},
   "outputs": [
    {
     "data": {
      "text/plain": [
       "Scenario\n",
       "CTRL        87.4\n",
       "10H2         nan\n",
       "10CH4       86.7\n",
       "deltaH2      nan\n",
       "deltaCH4   -0.75\n",
       "Name: OSLOCTM3, dtype: float64"
      ]
     },
     "execution_count": 30,
     "metadata": {},
     "output_type": "execute_result"
    }
   ],
   "source": [
    "df_h2_flux_conc = df_h2_burden_conc/df_h2_lifetime_conc\n",
    "#Add delta flux 10H2:\n",
    "delta = df_h2_flux_conc.loc['10H2']-df_h2_flux_conc.loc['CTRL']\n",
    "#delta.name = 'deltaH2'\n",
    "#df_h2_flux_conc = df_h2_flux_conc.append(delta)\n",
    "df_h2_flux_conc['deltaH2'] = delta\n",
    "\n",
    "#Add delta flux 10CH4:\n",
    "delta = df_h2_flux_conc.loc['10CH4']-df_h2_flux_conc.loc['CTRL']\n",
    "#delta.name = 'deltaCH4'\n",
    "#df_h2_flux_conc = df_h2_flux_conc.append(delta)\n",
    "df_h2_flux_conc['deltaCH4'] = delta\n",
    "df_h2_flux_conc\n"
   ]
  },
  {
   "cell_type": "code",
   "execution_count": 31,
   "metadata": {},
   "outputs": [
    {
     "data": {
      "text/html": [
       "<div>\n",
       "<style scoped>\n",
       "    .dataframe tbody tr th:only-of-type {\n",
       "        vertical-align: middle;\n",
       "    }\n",
       "\n",
       "    .dataframe tbody tr th {\n",
       "        vertical-align: top;\n",
       "    }\n",
       "\n",
       "    .dataframe thead th {\n",
       "        text-align: right;\n",
       "    }\n",
       "</style>\n",
       "<table border=\"1\" class=\"dataframe\">\n",
       "  <thead>\n",
       "    <tr style=\"text-align: right;\">\n",
       "      <th></th>\n",
       "      <th>h2_flux</th>\n",
       "      <th>deltaH2</th>\n",
       "      <th>deltaCH4</th>\n",
       "    </tr>\n",
       "  </thead>\n",
       "  <tbody>\n",
       "    <tr>\n",
       "      <th>CNTR</th>\n",
       "      <td>87.2</td>\n",
       "      <td>0.00</td>\n",
       "      <td>-0.75</td>\n",
       "    </tr>\n",
       "    <tr>\n",
       "      <th>antro01</th>\n",
       "      <td>87.3</td>\n",
       "      <td>0.10</td>\n",
       "      <td>-0.75</td>\n",
       "    </tr>\n",
       "    <tr>\n",
       "      <th>antro1</th>\n",
       "      <td>88.2</td>\n",
       "      <td>0.99</td>\n",
       "      <td>-0.75</td>\n",
       "    </tr>\n",
       "    <tr>\n",
       "      <th>antro10</th>\n",
       "      <td>97.1</td>\n",
       "      <td>9.90</td>\n",
       "      <td>-0.75</td>\n",
       "    </tr>\n",
       "    <tr>\n",
       "      <th>antro100</th>\n",
       "      <td>186</td>\n",
       "      <td>99.1</td>\n",
       "      <td>-0.75</td>\n",
       "    </tr>\n",
       "    <tr>\n",
       "      <th>nemo</th>\n",
       "      <td>88.2</td>\n",
       "      <td>0.99</td>\n",
       "      <td>-0.75</td>\n",
       "    </tr>\n",
       "    <tr>\n",
       "      <th>epia</th>\n",
       "      <td>88.2</td>\n",
       "      <td>0.99</td>\n",
       "      <td>-0.75</td>\n",
       "    </tr>\n",
       "    <tr>\n",
       "      <th>munich</th>\n",
       "      <td>88.2</td>\n",
       "      <td>0.99</td>\n",
       "      <td>-0.75</td>\n",
       "    </tr>\n",
       "    <tr>\n",
       "      <th>usdrydep</th>\n",
       "      <td>88.2</td>\n",
       "      <td>0.99</td>\n",
       "      <td>-0.75</td>\n",
       "    </tr>\n",
       "    <tr>\n",
       "      <th>maud</th>\n",
       "      <td>88.2</td>\n",
       "      <td>0.99</td>\n",
       "      <td>-0.75</td>\n",
       "    </tr>\n",
       "    <tr>\n",
       "      <th>zep</th>\n",
       "      <td>88.2</td>\n",
       "      <td>0.99</td>\n",
       "      <td>-0.75</td>\n",
       "    </tr>\n",
       "    <tr>\n",
       "      <th>maxdep</th>\n",
       "      <td>88.2</td>\n",
       "      <td>0.99</td>\n",
       "      <td>-0.75</td>\n",
       "    </tr>\n",
       "  </tbody>\n",
       "</table>\n",
       "</div>"
      ],
      "text/plain": [
       "          h2_flux  deltaH2  deltaCH4\n",
       "CNTR         87.2     0.00     -0.75\n",
       "antro01      87.3     0.10     -0.75\n",
       "antro1       88.2     0.99     -0.75\n",
       "antro10      97.1     9.90     -0.75\n",
       "antro100      186     99.1     -0.75\n",
       "nemo         88.2     0.99     -0.75\n",
       "epia         88.2     0.99     -0.75\n",
       "munich       88.2     0.99     -0.75\n",
       "usdrydep     88.2     0.99     -0.75\n",
       "maud         88.2     0.99     -0.75\n",
       "zep          88.2     0.99     -0.75\n",
       "maxdep       88.2     0.99     -0.75"
      ]
     },
     "execution_count": 31,
     "metadata": {},
     "output_type": "execute_result"
    }
   ],
   "source": [
    "df_h2_flux = df_h2_burden.iloc[0]/df_h2_lifetime\n",
    "df_h2_flux.name = 'h2_flux'\n",
    "\n",
    "delta = df_h2_flux-df_h2_flux['CNTR']\n",
    "delta.name = 'deltaH2'\n",
    "\n",
    "df_h2_flux =pd.concat([df_h2_flux,delta],axis=1)\n",
    "\n",
    "df_h2_flux['deltaCH4'] = df_h2_flux_conc['deltaCH4']\n",
    "df_h2_flux\n",
    "##Add delta flux 10CH4:\n",
    "#delta = df_h2_flux.loc['10CH4']-df_h2_flux.loc['CTRL']\n",
    "##delta.name = 'deltaCH4'\n",
    "##df_h2_flux_conc = df_h2_flux_conc.append(delta)\n",
    "#df_h2_flux_conc['deltaCH4'] = delta\n",
    "#df_h2_flux_conc"
   ]
  },
  {
   "cell_type": "markdown",
   "metadata": {},
   "source": [
    "In the methane run, the hydrogen surface concentration is kept fixed. Enhancing methane would influence H2. The hydrogen concentration would have increased, but since we run with fixed concentration, there is a negative flux to compensate. So the increased flux in H2 due to methane is -1*deltaCH4."
   ]
  },
  {
   "cell_type": "code",
   "execution_count": 32,
   "metadata": {},
   "outputs": [
    {
     "data": {
      "text/plain": [
       "Scenario\n",
       "CTRL    87.4\n",
       "10H2    0.00\n",
       "10CH4   86.7\n",
       "Name: OSLOCTM3, dtype: float64"
      ]
     },
     "execution_count": 32,
     "metadata": {},
     "output_type": "execute_result"
    }
   ],
   "source": [
    "#Check\n",
    "df_h2_loss_conc"
   ]
  },
  {
   "cell_type": "code",
   "execution_count": 33,
   "metadata": {},
   "outputs": [
    {
     "data": {
      "text/plain": [
       "CNTR       87.2\n",
       "antro01    87.3\n",
       "antro1     88.2\n",
       "antro10    97.1\n",
       "antro100    186\n",
       "nemo       88.2\n",
       "epia       88.2\n",
       "munich     88.2\n",
       "usdrydep   88.2\n",
       "maud       88.2\n",
       "zep        88.2\n",
       "maxdep     88.2\n",
       "dtype: float64"
      ]
     },
     "execution_count": 33,
     "metadata": {},
     "output_type": "execute_result"
    }
   ],
   "source": [
    "df_h2_loss"
   ]
  },
  {
   "cell_type": "markdown",
   "metadata": {},
   "source": [
    "## 2. Methane results"
   ]
  },
  {
   "cell_type": "markdown",
   "metadata": {},
   "source": [
    "### 2.1 CH4 burden [Tg]"
   ]
  },
  {
   "cell_type": "code",
   "execution_count": 34,
   "metadata": {},
   "outputs": [
    {
     "data": {
      "text/plain": [
       "Scenario\n",
       "CTRL       4,975\n",
       "10H2         nan\n",
       "10CH4      5,474\n",
       "deltaCH4     498\n",
       "Name: OSLOCTM3, dtype: float64"
      ]
     },
     "execution_count": 34,
     "metadata": {},
     "output_type": "execute_result"
    }
   ],
   "source": [
    "file = 'CH4_burden.txt'\n",
    "df_ch4_burden_conc = pd.read_csv(path + file, sep=';',index_col=0,header=0)\n",
    "delta = df_ch4_burden_conc.loc['10CH4']-df_ch4_burden_conc.loc['CTRL']\n",
    "delta.name = 'deltaCH4'\n",
    "df_ch4_burden_conc = df_ch4_burden_conc.append(delta)\n",
    "df_ch4_burden_conc = df_ch4_burden_conc['OSLOCTM3']\n",
    "df_ch4_burden_conc"
   ]
  },
  {
   "cell_type": "code",
   "execution_count": 35,
   "metadata": {},
   "outputs": [
    {
     "data": {
      "text/html": [
       "<div>\n",
       "<style scoped>\n",
       "    .dataframe tbody tr th:only-of-type {\n",
       "        vertical-align: middle;\n",
       "    }\n",
       "\n",
       "    .dataframe tbody tr th {\n",
       "        vertical-align: top;\n",
       "    }\n",
       "\n",
       "    .dataframe thead th {\n",
       "        text-align: right;\n",
       "    }\n",
       "</style>\n",
       "<table border=\"1\" class=\"dataframe\">\n",
       "  <thead>\n",
       "    <tr style=\"text-align: right;\">\n",
       "      <th></th>\n",
       "      <th>CNTR</th>\n",
       "      <th>antro01</th>\n",
       "      <th>antro1</th>\n",
       "      <th>antro10</th>\n",
       "      <th>antro100</th>\n",
       "      <th>nemo</th>\n",
       "      <th>epia</th>\n",
       "      <th>munich</th>\n",
       "      <th>usdrydep</th>\n",
       "      <th>maud</th>\n",
       "      <th>zep</th>\n",
       "      <th>maxdep</th>\n",
       "    </tr>\n",
       "    <tr>\n",
       "      <th>Scenario</th>\n",
       "      <th></th>\n",
       "      <th></th>\n",
       "      <th></th>\n",
       "      <th></th>\n",
       "      <th></th>\n",
       "      <th></th>\n",
       "      <th></th>\n",
       "      <th></th>\n",
       "      <th></th>\n",
       "      <th></th>\n",
       "      <th></th>\n",
       "      <th></th>\n",
       "    </tr>\n",
       "  </thead>\n",
       "  <tbody>\n",
       "    <tr>\n",
       "      <th>YR13</th>\n",
       "      <td>4,975</td>\n",
       "      <td>4,975</td>\n",
       "      <td>4,975</td>\n",
       "      <td>4,975</td>\n",
       "      <td>4,975</td>\n",
       "      <td>4,975</td>\n",
       "      <td>4,975</td>\n",
       "      <td>4,975</td>\n",
       "      <td>4,975</td>\n",
       "      <td>4,975</td>\n",
       "      <td>4,975</td>\n",
       "      <td>4,975</td>\n",
       "    </tr>\n",
       "    <tr>\n",
       "      <th>deltaCH4</th>\n",
       "      <td>0.00</td>\n",
       "      <td>0.00</td>\n",
       "      <td>0.00</td>\n",
       "      <td>0.05</td>\n",
       "      <td>0.43</td>\n",
       "      <td>0.01</td>\n",
       "      <td>0.00</td>\n",
       "      <td>0.00</td>\n",
       "      <td>0.00</td>\n",
       "      <td>0.01</td>\n",
       "      <td>0.00</td>\n",
       "      <td>0.00</td>\n",
       "    </tr>\n",
       "  </tbody>\n",
       "</table>\n",
       "</div>"
      ],
      "text/plain": [
       "          CNTR  antro01  antro1  antro10  antro100  nemo  epia  munich  \\\n",
       "Scenario                                                                 \n",
       "YR13     4,975    4,975   4,975    4,975     4,975 4,975 4,975   4,975   \n",
       "deltaCH4  0.00     0.00    0.00     0.05      0.43  0.01  0.00    0.00   \n",
       "\n",
       "          usdrydep  maud   zep  maxdep  \n",
       "Scenario                                \n",
       "YR13         4,975 4,975 4,975   4,975  \n",
       "deltaCH4      0.00  0.01  0.00    0.00  "
      ]
     },
     "execution_count": 35,
     "metadata": {},
     "output_type": "execute_result"
    }
   ],
   "source": [
    "file = 'OSLOCTM3-emi_burden-CH4.csv'\n",
    "df_ch4_burden = pd.read_csv(path + file, sep=',',index_col=0,header=0)\n",
    "df_ch4_burden.loc['deltaCH4'] = df_ch4_burden.iloc[0]-df_ch4_burden['CNTR'].iloc[0]\n",
    "df_ch4_burden"
   ]
  },
  {
   "cell_type": "markdown",
   "metadata": {},
   "source": [
    "### 2.2 CH4 atmospheric loss [Tg/yr]"
   ]
  },
  {
   "cell_type": "markdown",
   "metadata": {},
   "source": [
    "This is atmospheric loss due to OH."
   ]
  },
  {
   "cell_type": "code",
   "execution_count": 36,
   "metadata": {},
   "outputs": [
    {
     "data": {
      "text/plain": [
       "Scenario\n",
       "CTRL    674\n",
       "10H2    nan\n",
       "10CH4   719\n",
       "Name: OSLOCTM3, dtype: float64"
      ]
     },
     "execution_count": 36,
     "metadata": {},
     "output_type": "execute_result"
    }
   ],
   "source": [
    "file = 'CH4_loss.txt'\n",
    "df_ch4_loss_conc = pd.read_csv(path + file, sep=';',index_col=0,header=0)\n",
    "df_ch4_loss_conc = df_ch4_loss_conc['OSLOCTM3']\n",
    "df_ch4_loss_conc"
   ]
  },
  {
   "cell_type": "code",
   "execution_count": 37,
   "metadata": {},
   "outputs": [
    {
     "data": {
      "text/plain": [
       "CNTR       673\n",
       "antro01    673\n",
       "antro1     673\n",
       "antro10    670\n",
       "antro100   644\n",
       "nemo       672\n",
       "epia       673\n",
       "munich     673\n",
       "usdrydep   673\n",
       "maud       672\n",
       "zep        673\n",
       "maxdep     673\n",
       "Name: CH4 + OH -> H2O + CH3, dtype: float64"
      ]
     },
     "execution_count": 37,
     "metadata": {},
     "output_type": "execute_result"
    }
   ],
   "source": [
    "file = 'OSLOCTM3-emi_prod-loss-CH4_all_YR13.csv'\n",
    "df_ch4_prodloss = pd.read_csv(path + file, sep=',',index_col=0,header=0)\n",
    "df_ch4_loss=df_ch4_prodloss.loc['CH4 + OH -> H2O + CH3']\n",
    "df_ch4_loss"
   ]
  },
  {
   "cell_type": "markdown",
   "metadata": {},
   "source": [
    "### 2.3 CH4 surface concentration [ppb]"
   ]
  },
  {
   "cell_type": "code",
   "execution_count": 38,
   "metadata": {},
   "outputs": [
    {
     "data": {
      "text/plain": [
       "Scenario\n",
       "CTRL       1,813\n",
       "10CH4      1,994\n",
       "deltaCH4     181\n",
       "Name: OSLOCTM3, dtype: float64"
      ]
     },
     "execution_count": 38,
     "metadata": {},
     "output_type": "execute_result"
    }
   ],
   "source": [
    "file = 'CH4_surfconc.txt'\n",
    "df_ch4_surfconc_conc = pd.read_csv(path + file, sep=';',index_col=0,header=0)\n",
    "delta = df_ch4_surfconc_conc.loc['10CH4']-df_ch4_surfconc_conc.loc['CTRL']\n",
    "delta.name = 'deltaCH4'\n",
    "df_ch4_surfconc_conc = df_ch4_surfconc_conc.append(delta)\n",
    "df_ch4_surfconc_conc = df_ch4_surfconc_conc['OSLOCTM3']\n",
    "df_ch4_surfconc_conc"
   ]
  },
  {
   "cell_type": "code",
   "execution_count": 39,
   "metadata": {},
   "outputs": [
    {
     "data": {
      "text/html": [
       "<div>\n",
       "<style scoped>\n",
       "    .dataframe tbody tr th:only-of-type {\n",
       "        vertical-align: middle;\n",
       "    }\n",
       "\n",
       "    .dataframe tbody tr th {\n",
       "        vertical-align: top;\n",
       "    }\n",
       "\n",
       "    .dataframe thead th {\n",
       "        text-align: right;\n",
       "    }\n",
       "</style>\n",
       "<table border=\"1\" class=\"dataframe\">\n",
       "  <thead>\n",
       "    <tr style=\"text-align: right;\">\n",
       "      <th></th>\n",
       "      <th>CNTR</th>\n",
       "      <th>antro01</th>\n",
       "      <th>antro1</th>\n",
       "      <th>antro10</th>\n",
       "      <th>antro100</th>\n",
       "      <th>nemo</th>\n",
       "      <th>epia</th>\n",
       "      <th>munich</th>\n",
       "      <th>usdrydep</th>\n",
       "      <th>maud</th>\n",
       "      <th>zep</th>\n",
       "      <th>maxdep</th>\n",
       "    </tr>\n",
       "  </thead>\n",
       "  <tbody>\n",
       "    <tr>\n",
       "      <th>YR13</th>\n",
       "      <td>1,813</td>\n",
       "      <td>1,813</td>\n",
       "      <td>1,813</td>\n",
       "      <td>1,813</td>\n",
       "      <td>1,813</td>\n",
       "      <td>1,813</td>\n",
       "      <td>1,813</td>\n",
       "      <td>1,813</td>\n",
       "      <td>1,813</td>\n",
       "      <td>1,813</td>\n",
       "      <td>1,813</td>\n",
       "      <td>1,813</td>\n",
       "    </tr>\n",
       "    <tr>\n",
       "      <th>delta</th>\n",
       "      <td>181</td>\n",
       "      <td>181</td>\n",
       "      <td>181</td>\n",
       "      <td>181</td>\n",
       "      <td>181</td>\n",
       "      <td>181</td>\n",
       "      <td>181</td>\n",
       "      <td>181</td>\n",
       "      <td>181</td>\n",
       "      <td>181</td>\n",
       "      <td>181</td>\n",
       "      <td>181</td>\n",
       "    </tr>\n",
       "  </tbody>\n",
       "</table>\n",
       "</div>"
      ],
      "text/plain": [
       "       CNTR  antro01  antro1  antro10  antro100  nemo  epia  munich  usdrydep  \\\n",
       "YR13  1,813    1,813   1,813    1,813     1,813 1,813 1,813   1,813     1,813   \n",
       "delta   181      181     181      181       181   181   181     181       181   \n",
       "\n",
       "       maud   zep  maxdep  \n",
       "YR13  1,813 1,813   1,813  \n",
       "delta   181   181     181  "
      ]
     },
     "execution_count": 39,
     "metadata": {},
     "output_type": "execute_result"
    }
   ],
   "source": [
    "file = 'OSLOCTM3-emi_surfconc-CH4.csv'\n",
    "df_ch4_surfconc = pd.read_csv(path + file, sep=',',index_col=0,header=0)\n",
    "df_ch4_surfconc.loc['delta'] = df_ch4_surfconc.iloc[0]-df_ch4_surfconc['CNTR'].iloc[0]\n",
    "df_ch4_surfconc.loc['delta'] = df_ch4_surfconc_conc['deltaCH4']\n",
    "df_ch4_surfconc"
   ]
  },
  {
   "cell_type": "markdown",
   "metadata": {},
   "source": [
    "### 2.4 CH4 lifetime [yr]"
   ]
  },
  {
   "cell_type": "markdown",
   "metadata": {},
   "source": [
    "#### Lifetime due to OH [yr]"
   ]
  },
  {
   "cell_type": "code",
   "execution_count": 40,
   "metadata": {
    "scrolled": true
   },
   "outputs": [
    {
     "data": {
      "text/plain": [
       "Scenario\n",
       "CTRL    7.38\n",
       "10H2     nan\n",
       "10CH4   7.62\n",
       "Name: OSLOCTM3, dtype: float64"
      ]
     },
     "execution_count": 40,
     "metadata": {},
     "output_type": "execute_result"
    }
   ],
   "source": [
    "df_ch4_lifetime_conc = df_ch4_burden_conc.drop('deltaCH4')/df_ch4_loss_conc\n",
    "df_ch4_lifetime_conc"
   ]
  },
  {
   "cell_type": "code",
   "execution_count": 41,
   "metadata": {},
   "outputs": [
    {
     "data": {
      "text/html": [
       "<div>\n",
       "<style scoped>\n",
       "    .dataframe tbody tr th:only-of-type {\n",
       "        vertical-align: middle;\n",
       "    }\n",
       "\n",
       "    .dataframe tbody tr th {\n",
       "        vertical-align: top;\n",
       "    }\n",
       "\n",
       "    .dataframe thead th {\n",
       "        text-align: right;\n",
       "    }\n",
       "</style>\n",
       "<table border=\"1\" class=\"dataframe\">\n",
       "  <thead>\n",
       "    <tr style=\"text-align: right;\">\n",
       "      <th></th>\n",
       "      <th>CNTR</th>\n",
       "      <th>antro01</th>\n",
       "      <th>antro1</th>\n",
       "      <th>antro10</th>\n",
       "      <th>antro100</th>\n",
       "      <th>nemo</th>\n",
       "      <th>epia</th>\n",
       "      <th>munich</th>\n",
       "      <th>usdrydep</th>\n",
       "      <th>maud</th>\n",
       "      <th>zep</th>\n",
       "      <th>maxdep</th>\n",
       "    </tr>\n",
       "    <tr>\n",
       "      <th>Scenario</th>\n",
       "      <th></th>\n",
       "      <th></th>\n",
       "      <th></th>\n",
       "      <th></th>\n",
       "      <th></th>\n",
       "      <th></th>\n",
       "      <th></th>\n",
       "      <th></th>\n",
       "      <th></th>\n",
       "      <th></th>\n",
       "      <th></th>\n",
       "      <th></th>\n",
       "    </tr>\n",
       "  </thead>\n",
       "  <tbody>\n",
       "    <tr>\n",
       "      <th>YR13</th>\n",
       "      <td>7.39</td>\n",
       "      <td>7.39</td>\n",
       "      <td>7.40</td>\n",
       "      <td>7.43</td>\n",
       "      <td>7.73</td>\n",
       "      <td>7.40</td>\n",
       "      <td>7.40</td>\n",
       "      <td>7.40</td>\n",
       "      <td>7.40</td>\n",
       "      <td>7.40</td>\n",
       "      <td>7.40</td>\n",
       "      <td>7.40</td>\n",
       "    </tr>\n",
       "  </tbody>\n",
       "</table>\n",
       "</div>"
      ],
      "text/plain": [
       "          CNTR  antro01  antro1  antro10  antro100  nemo  epia  munich  \\\n",
       "Scenario                                                                 \n",
       "YR13      7.39     7.39    7.40     7.43      7.73  7.40  7.40    7.40   \n",
       "\n",
       "          usdrydep  maud  zep  maxdep  \n",
       "Scenario                               \n",
       "YR13          7.40  7.40 7.40    7.40  "
      ]
     },
     "execution_count": 41,
     "metadata": {},
     "output_type": "execute_result"
    }
   ],
   "source": [
    "df_ch4_lifetime = df_ch4_burden.drop('deltaCH4')/df_ch4_loss\n",
    "df_ch4_lifetime"
   ]
  },
  {
   "cell_type": "markdown",
   "metadata": {},
   "source": [
    "#### Total CH4 lifetime [yr]"
   ]
  },
  {
   "cell_type": "markdown",
   "metadata": {},
   "source": [
    "Inverse lifetimes (mean loss frequencies) are additive [Forster et al.,2007; Prather, 2007]. Added lifetime due to stratospheric chemistry in addion to OH and soil sink."
   ]
  },
  {
   "cell_type": "code",
   "execution_count": 42,
   "metadata": {},
   "outputs": [
    {
     "data": {
      "text/plain": [
       "Scenario\n",
       "CTRL    6.85\n",
       "10H2     nan\n",
       "10CH4   7.06\n",
       "Name: OSLOCTM3, dtype: float64"
      ]
     },
     "execution_count": 42,
     "metadata": {},
     "output_type": "execute_result"
    }
   ],
   "source": [
    "df_ch4_tot_lifetime_conc = 1.0/(1.0/df_ch4_lifetime_conc + 1.0/tau_strat + 1.0/tau_soil)\n",
    "df_ch4_tot_lifetime_conc"
   ]
  },
  {
   "cell_type": "code",
   "execution_count": 43,
   "metadata": {},
   "outputs": [
    {
     "data": {
      "text/html": [
       "<div>\n",
       "<style scoped>\n",
       "    .dataframe tbody tr th:only-of-type {\n",
       "        vertical-align: middle;\n",
       "    }\n",
       "\n",
       "    .dataframe tbody tr th {\n",
       "        vertical-align: top;\n",
       "    }\n",
       "\n",
       "    .dataframe thead th {\n",
       "        text-align: right;\n",
       "    }\n",
       "</style>\n",
       "<table border=\"1\" class=\"dataframe\">\n",
       "  <thead>\n",
       "    <tr style=\"text-align: right;\">\n",
       "      <th></th>\n",
       "      <th>CNTR</th>\n",
       "      <th>antro01</th>\n",
       "      <th>antro1</th>\n",
       "      <th>antro10</th>\n",
       "      <th>antro100</th>\n",
       "      <th>nemo</th>\n",
       "      <th>epia</th>\n",
       "      <th>munich</th>\n",
       "      <th>usdrydep</th>\n",
       "      <th>maud</th>\n",
       "      <th>zep</th>\n",
       "      <th>maxdep</th>\n",
       "    </tr>\n",
       "    <tr>\n",
       "      <th>Scenario</th>\n",
       "      <th></th>\n",
       "      <th></th>\n",
       "      <th></th>\n",
       "      <th></th>\n",
       "      <th></th>\n",
       "      <th></th>\n",
       "      <th></th>\n",
       "      <th></th>\n",
       "      <th></th>\n",
       "      <th></th>\n",
       "      <th></th>\n",
       "      <th></th>\n",
       "    </tr>\n",
       "  </thead>\n",
       "  <tbody>\n",
       "    <tr>\n",
       "      <th>YR13</th>\n",
       "      <td>6.87</td>\n",
       "      <td>6.87</td>\n",
       "      <td>6.87</td>\n",
       "      <td>6.89</td>\n",
       "      <td>7.15</td>\n",
       "      <td>6.87</td>\n",
       "      <td>6.87</td>\n",
       "      <td>6.87</td>\n",
       "      <td>6.87</td>\n",
       "      <td>6.87</td>\n",
       "      <td>6.87</td>\n",
       "      <td>6.87</td>\n",
       "    </tr>\n",
       "  </tbody>\n",
       "</table>\n",
       "</div>"
      ],
      "text/plain": [
       "          CNTR  antro01  antro1  antro10  antro100  nemo  epia  munich  \\\n",
       "Scenario                                                                 \n",
       "YR13      6.87     6.87    6.87     6.89      7.15  6.87  6.87    6.87   \n",
       "\n",
       "          usdrydep  maud  zep  maxdep  \n",
       "Scenario                               \n",
       "YR13          6.87  6.87 6.87    6.87  "
      ]
     },
     "execution_count": 43,
     "metadata": {},
     "output_type": "execute_result"
    }
   ],
   "source": [
    "df_ch4_tot_lifetime = 1.0/(1.0/df_ch4_lifetime + 1.0/tau_strat + 1.0/tau_soil)\n",
    "df_ch4_tot_lifetime"
   ]
  },
  {
   "cell_type": "code",
   "execution_count": null,
   "metadata": {},
   "outputs": [],
   "source": []
  },
  {
   "cell_type": "markdown",
   "metadata": {},
   "source": [
    "#### Other methane loss term, dervided based on the lifetime and burden."
   ]
  },
  {
   "cell_type": "code",
   "execution_count": 44,
   "metadata": {},
   "outputs": [
    {
     "data": {
      "text/plain": [
       "Scenario\n",
       "CTRL    31.1\n",
       "10H2     nan\n",
       "10CH4   34.2\n",
       "Name: OSLOCTM3, dtype: float64"
      ]
     },
     "execution_count": 44,
     "metadata": {},
     "output_type": "execute_result"
    }
   ],
   "source": [
    "#Soil loss:\n",
    "df_ch4_loss_soil_conc = df_ch4_burden_conc.drop('deltaCH4')/tau_soil\n",
    "df_ch4_loss_soil_conc"
   ]
  },
  {
   "cell_type": "code",
   "execution_count": 45,
   "metadata": {},
   "outputs": [
    {
     "data": {
      "text/html": [
       "<div>\n",
       "<style scoped>\n",
       "    .dataframe tbody tr th:only-of-type {\n",
       "        vertical-align: middle;\n",
       "    }\n",
       "\n",
       "    .dataframe tbody tr th {\n",
       "        vertical-align: top;\n",
       "    }\n",
       "\n",
       "    .dataframe thead th {\n",
       "        text-align: right;\n",
       "    }\n",
       "</style>\n",
       "<table border=\"1\" class=\"dataframe\">\n",
       "  <thead>\n",
       "    <tr style=\"text-align: right;\">\n",
       "      <th></th>\n",
       "      <th>CNTR</th>\n",
       "      <th>antro01</th>\n",
       "      <th>antro1</th>\n",
       "      <th>antro10</th>\n",
       "      <th>antro100</th>\n",
       "      <th>nemo</th>\n",
       "      <th>epia</th>\n",
       "      <th>munich</th>\n",
       "      <th>usdrydep</th>\n",
       "      <th>maud</th>\n",
       "      <th>zep</th>\n",
       "      <th>maxdep</th>\n",
       "    </tr>\n",
       "    <tr>\n",
       "      <th>Scenario</th>\n",
       "      <th></th>\n",
       "      <th></th>\n",
       "      <th></th>\n",
       "      <th></th>\n",
       "      <th></th>\n",
       "      <th></th>\n",
       "      <th></th>\n",
       "      <th></th>\n",
       "      <th></th>\n",
       "      <th></th>\n",
       "      <th></th>\n",
       "      <th></th>\n",
       "    </tr>\n",
       "  </thead>\n",
       "  <tbody>\n",
       "    <tr>\n",
       "      <th>YR13</th>\n",
       "      <td>31.1</td>\n",
       "      <td>31.1</td>\n",
       "      <td>31.1</td>\n",
       "      <td>31.1</td>\n",
       "      <td>31.1</td>\n",
       "      <td>31.1</td>\n",
       "      <td>31.1</td>\n",
       "      <td>31.1</td>\n",
       "      <td>31.1</td>\n",
       "      <td>31.1</td>\n",
       "      <td>31.1</td>\n",
       "      <td>31.1</td>\n",
       "    </tr>\n",
       "  </tbody>\n",
       "</table>\n",
       "</div>"
      ],
      "text/plain": [
       "          CNTR  antro01  antro1  antro10  antro100  nemo  epia  munich  \\\n",
       "Scenario                                                                 \n",
       "YR13      31.1     31.1    31.1     31.1      31.1  31.1  31.1    31.1   \n",
       "\n",
       "          usdrydep  maud  zep  maxdep  \n",
       "Scenario                               \n",
       "YR13          31.1  31.1 31.1    31.1  "
      ]
     },
     "execution_count": 45,
     "metadata": {},
     "output_type": "execute_result"
    }
   ],
   "source": [
    "df_ch4_loss_soil = df_ch4_burden.drop('deltaCH4')/tau_soil\n",
    "df_ch4_loss_soil"
   ]
  },
  {
   "cell_type": "code",
   "execution_count": 46,
   "metadata": {},
   "outputs": [
    {
     "data": {
      "text/plain": [
       "Scenario\n",
       "CTRL    20.7\n",
       "10H2     nan\n",
       "10CH4   22.8\n",
       "Name: OSLOCTM3, dtype: float64"
      ]
     },
     "execution_count": 46,
     "metadata": {},
     "output_type": "execute_result"
    }
   ],
   "source": [
    "#Strat chemistry loss (other than OH)\n",
    "df_ch4_loss_other_strat_conc = df_ch4_burden_conc.drop('deltaCH4')/(tau_strat)\n",
    "df_ch4_loss_other_strat_conc"
   ]
  },
  {
   "cell_type": "code",
   "execution_count": 47,
   "metadata": {},
   "outputs": [
    {
     "data": {
      "text/html": [
       "<div>\n",
       "<style scoped>\n",
       "    .dataframe tbody tr th:only-of-type {\n",
       "        vertical-align: middle;\n",
       "    }\n",
       "\n",
       "    .dataframe tbody tr th {\n",
       "        vertical-align: top;\n",
       "    }\n",
       "\n",
       "    .dataframe thead th {\n",
       "        text-align: right;\n",
       "    }\n",
       "</style>\n",
       "<table border=\"1\" class=\"dataframe\">\n",
       "  <thead>\n",
       "    <tr style=\"text-align: right;\">\n",
       "      <th></th>\n",
       "      <th>CNTR</th>\n",
       "      <th>antro01</th>\n",
       "      <th>antro1</th>\n",
       "      <th>antro10</th>\n",
       "      <th>antro100</th>\n",
       "      <th>nemo</th>\n",
       "      <th>epia</th>\n",
       "      <th>munich</th>\n",
       "      <th>usdrydep</th>\n",
       "      <th>maud</th>\n",
       "      <th>zep</th>\n",
       "      <th>maxdep</th>\n",
       "    </tr>\n",
       "    <tr>\n",
       "      <th>Scenario</th>\n",
       "      <th></th>\n",
       "      <th></th>\n",
       "      <th></th>\n",
       "      <th></th>\n",
       "      <th></th>\n",
       "      <th></th>\n",
       "      <th></th>\n",
       "      <th></th>\n",
       "      <th></th>\n",
       "      <th></th>\n",
       "      <th></th>\n",
       "      <th></th>\n",
       "    </tr>\n",
       "  </thead>\n",
       "  <tbody>\n",
       "    <tr>\n",
       "      <th>YR13</th>\n",
       "      <td>20.7</td>\n",
       "      <td>20.7</td>\n",
       "      <td>20.7</td>\n",
       "      <td>20.7</td>\n",
       "      <td>20.7</td>\n",
       "      <td>20.7</td>\n",
       "      <td>20.7</td>\n",
       "      <td>20.7</td>\n",
       "      <td>20.7</td>\n",
       "      <td>20.7</td>\n",
       "      <td>20.7</td>\n",
       "      <td>20.7</td>\n",
       "    </tr>\n",
       "  </tbody>\n",
       "</table>\n",
       "</div>"
      ],
      "text/plain": [
       "          CNTR  antro01  antro1  antro10  antro100  nemo  epia  munich  \\\n",
       "Scenario                                                                 \n",
       "YR13      20.7     20.7    20.7     20.7      20.7  20.7  20.7    20.7   \n",
       "\n",
       "          usdrydep  maud  zep  maxdep  \n",
       "Scenario                               \n",
       "YR13          20.7  20.7 20.7    20.7  "
      ]
     },
     "execution_count": 47,
     "metadata": {},
     "output_type": "execute_result"
    }
   ],
   "source": [
    "df_ch4_loss_other_strat = df_ch4_burden.drop('deltaCH4')/(tau_strat)\n",
    "df_ch4_loss_other_strat"
   ]
  },
  {
   "cell_type": "markdown",
   "metadata": {},
   "source": [
    "### 2.5 CH4 flux  [Tg/yr]"
   ]
  },
  {
   "cell_type": "markdown",
   "metadata": {},
   "source": [
    "The methane flux is calculated as the burden divided by the total methane lifetime.\n",
    "\n",
    "The difference in calculated flux in the perturbed and control run is calculated. These numbers include feedbacks."
   ]
  },
  {
   "cell_type": "code",
   "execution_count": 48,
   "metadata": {},
   "outputs": [
    {
     "data": {
      "text/plain": [
       "Scenario\n",
       "CTRL        726\n",
       "10H2        nan\n",
       "10CH4       776\n",
       "deltaCH4   49.7\n",
       "Name: OSLOCTM3, dtype: float64"
      ]
     },
     "execution_count": 48,
     "metadata": {},
     "output_type": "execute_result"
    }
   ],
   "source": [
    "df_ch4_flux_conc = df_ch4_burden_conc.drop('deltaCH4')/df_ch4_tot_lifetime_conc\n",
    "##Add delta CH4 flux 10H2\n",
    "#delta = df_ch4_flux_conc.loc['10H2']-df_ch4_flux_conc.loc['CTRL']\n",
    "#delta.name = 'deltaH2'\n",
    "#df_ch4_flux_conc = df_ch4_flux_conc.append(delta)\n",
    "#Add delta CH4 flux 10CH4\n",
    "\n",
    "#delta = df_ch4_flux_conc.loc['10CH4']-df_ch4_flux_conc.loc['CTRL']\n",
    "#delta.name = 'deltaCH4'\n",
    "\n",
    "#df_ch4_flux_conc = df_ch4_flux_conc.append(delta)\n",
    "df_ch4_flux_conc['deltaCH4'] = df_ch4_flux_conc.loc['10CH4']-df_ch4_flux_conc.loc['CTRL']\n",
    "df_ch4_flux_conc\n",
    "\n",
    "##Add same flux in OsloCTM3-emi as in OsloCTM3\n",
    "#df_ch4_flux['OSLOCTM3-emi'].loc['deltaCH4']= df_ch4_flux['OSLOCTM3'].loc['deltaCH4']\n",
    "#df_ch4_flux\n"
   ]
  },
  {
   "cell_type": "code",
   "execution_count": 49,
   "metadata": {},
   "outputs": [
    {
     "data": {
      "text/html": [
       "<div>\n",
       "<style scoped>\n",
       "    .dataframe tbody tr th:only-of-type {\n",
       "        vertical-align: middle;\n",
       "    }\n",
       "\n",
       "    .dataframe tbody tr th {\n",
       "        vertical-align: top;\n",
       "    }\n",
       "\n",
       "    .dataframe thead th {\n",
       "        text-align: right;\n",
       "    }\n",
       "</style>\n",
       "<table border=\"1\" class=\"dataframe\">\n",
       "  <thead>\n",
       "    <tr style=\"text-align: right;\">\n",
       "      <th></th>\n",
       "      <th>CNTR</th>\n",
       "      <th>antro01</th>\n",
       "      <th>antro1</th>\n",
       "      <th>antro10</th>\n",
       "      <th>antro100</th>\n",
       "      <th>nemo</th>\n",
       "      <th>epia</th>\n",
       "      <th>munich</th>\n",
       "      <th>usdrydep</th>\n",
       "      <th>maud</th>\n",
       "      <th>zep</th>\n",
       "      <th>maxdep</th>\n",
       "    </tr>\n",
       "    <tr>\n",
       "      <th>Scenario</th>\n",
       "      <th></th>\n",
       "      <th></th>\n",
       "      <th></th>\n",
       "      <th></th>\n",
       "      <th></th>\n",
       "      <th></th>\n",
       "      <th></th>\n",
       "      <th></th>\n",
       "      <th></th>\n",
       "      <th></th>\n",
       "      <th></th>\n",
       "      <th></th>\n",
       "    </tr>\n",
       "  </thead>\n",
       "  <tbody>\n",
       "    <tr>\n",
       "      <th>YR13</th>\n",
       "      <td>725</td>\n",
       "      <td>725</td>\n",
       "      <td>724</td>\n",
       "      <td>722</td>\n",
       "      <td>696</td>\n",
       "      <td>724</td>\n",
       "      <td>724</td>\n",
       "      <td>724</td>\n",
       "      <td>724</td>\n",
       "      <td>724</td>\n",
       "      <td>724</td>\n",
       "      <td>724</td>\n",
       "    </tr>\n",
       "    <tr>\n",
       "      <th>deltaH2</th>\n",
       "      <td>0.00</td>\n",
       "      <td>-0.03</td>\n",
       "      <td>-0.30</td>\n",
       "      <td>-3.03</td>\n",
       "      <td>-28.7</td>\n",
       "      <td>-0.35</td>\n",
       "      <td>-0.27</td>\n",
       "      <td>-0.29</td>\n",
       "      <td>-0.25</td>\n",
       "      <td>-0.35</td>\n",
       "      <td>-0.29</td>\n",
       "      <td>-0.28</td>\n",
       "    </tr>\n",
       "    <tr>\n",
       "      <th>deltaCH4</th>\n",
       "      <td>49.7</td>\n",
       "      <td>49.7</td>\n",
       "      <td>49.7</td>\n",
       "      <td>49.7</td>\n",
       "      <td>49.7</td>\n",
       "      <td>49.7</td>\n",
       "      <td>49.7</td>\n",
       "      <td>49.7</td>\n",
       "      <td>49.7</td>\n",
       "      <td>49.7</td>\n",
       "      <td>49.7</td>\n",
       "      <td>49.7</td>\n",
       "    </tr>\n",
       "  </tbody>\n",
       "</table>\n",
       "</div>"
      ],
      "text/plain": [
       "          CNTR  antro01  antro1  antro10  antro100  nemo  epia  munich  \\\n",
       "Scenario                                                                 \n",
       "YR13       725      725     724      722       696   724   724     724   \n",
       "deltaH2   0.00    -0.03   -0.30    -3.03     -28.7 -0.35 -0.27   -0.29   \n",
       "deltaCH4  49.7     49.7    49.7     49.7      49.7  49.7  49.7    49.7   \n",
       "\n",
       "          usdrydep  maud   zep  maxdep  \n",
       "Scenario                                \n",
       "YR13           724   724   724     724  \n",
       "deltaH2      -0.25 -0.35 -0.29   -0.28  \n",
       "deltaCH4      49.7  49.7  49.7    49.7  "
      ]
     },
     "execution_count": 49,
     "metadata": {},
     "output_type": "execute_result"
    }
   ],
   "source": [
    "df_ch4_flux = df_ch4_burden.drop('deltaCH4')/df_ch4_tot_lifetime\n",
    "df_ch4_flux.loc['deltaH2'] = df_ch4_flux.iloc[0]-df_ch4_flux['CNTR'].iloc[0]\n",
    "\n",
    "#Add same ch4 flux in OsloCTM3 sensitivity tests as in OsloCTM3 conc\n",
    "df_ch4_flux.loc['deltaCH4'] =  df_ch4_flux_conc['deltaCH4']\n",
    "df_ch4_flux"
   ]
  },
  {
   "cell_type": "markdown",
   "metadata": {},
   "source": [
    "## 3. Ozone burden and RF"
   ]
  },
  {
   "cell_type": "markdown",
   "metadata": {},
   "source": [
    "### 3.1 Change in tropospheric ozone (DU)"
   ]
  },
  {
   "cell_type": "markdown",
   "metadata": {},
   "source": [
    "The tropopause definition is the model layer in the control simulation where 150 ppbv ozone are reached. \n",
    "\n",
    "Keep in mind that:\n",
    "for GFDL-emi 10H2 is H2 perturbation (200 Tg/yr) and 10CH4 is H2+CH4 pert. And that for OsloCTM-emi, the same sensitivity for methane perturbation is used as for OsloCTM concentration driven."
   ]
  },
  {
   "cell_type": "code",
   "execution_count": 50,
   "metadata": {},
   "outputs": [
    {
     "data": {
      "text/plain": [
       "Scenario\n",
       "10H2     nan\n",
       "10CH4   0.83\n",
       "Name: OSLOCTM3, dtype: float64"
      ]
     },
     "execution_count": 50,
     "metadata": {},
     "output_type": "execute_result"
    }
   ],
   "source": [
    "file = 'ozone_du_trop.txt'\n",
    "df_ozone_du_trop_conc = pd.read_csv(path+file, sep=';',index_col=0,header=0)\n",
    "df_ozone_du_trop_conc = df_ozone_du_trop_conc['OSLOCTM3']\n",
    "df_ozone_du_trop_conc"
   ]
  },
  {
   "cell_type": "code",
   "execution_count": 51,
   "metadata": {},
   "outputs": [],
   "source": [
    "#ADD here for senstest"
   ]
  },
  {
   "cell_type": "code",
   "execution_count": 52,
   "metadata": {},
   "outputs": [],
   "source": [
    "#For OsloCTM-emi, use the methane results from the concentration driven methane experiment.\n",
    "#df_ozone_du_trop['OSLOCTM3-emi'].loc['10CH4'] = df_ozone_du_trop['OSLOCTM3'].loc['10CH4'] \n",
    "#df_ozone_du_trop"
   ]
  },
  {
   "cell_type": "markdown",
   "metadata": {},
   "source": [
    "### 3.2 Change in stratospheric ozone (DU)"
   ]
  },
  {
   "cell_type": "code",
   "execution_count": 53,
   "metadata": {},
   "outputs": [
    {
     "data": {
      "text/plain": [
       "Scenario\n",
       "10H2     nan\n",
       "10CH4   0.84\n",
       "Name: OSLOCTM3, dtype: float64"
      ]
     },
     "execution_count": 53,
     "metadata": {},
     "output_type": "execute_result"
    }
   ],
   "source": [
    "file = 'ozone_du_strat.txt'\n",
    "df_ozone_du_strat_conc = pd.read_csv(path+file, sep=';',index_col=0,header=0)\n",
    "df_ozone_du_strat_conc = df_ozone_du_strat_conc['OSLOCTM3']\n",
    "df_ozone_du_strat_conc"
   ]
  },
  {
   "cell_type": "code",
   "execution_count": 54,
   "metadata": {},
   "outputs": [],
   "source": [
    "#ADD here for senstest\n"
   ]
  },
  {
   "cell_type": "code",
   "execution_count": 55,
   "metadata": {},
   "outputs": [],
   "source": [
    "#For OsloCTM-emi, use the methane results from the concentration driven methane experiment.\n",
    "#df_ozone_du_strat['OSLOCTM3-emi'].loc['10CH4'] = df_ozone_du_strat['OSLOCTM3'].loc['10CH4'] \n",
    "#df_ozone_du_strat"
   ]
  },
  {
   "cell_type": "markdown",
   "metadata": {},
   "source": [
    "### 3.5 Ozone RF"
   ]
  },
  {
   "cell_type": "markdown",
   "metadata": {},
   "source": [
    "Ozone RF is calculated using a radiative kernel (Skeie et al 2020) and the modelled changes in ozone. \n",
    "\n",
    "Keep in mind that:\n",
    "for GFDL-emi 10H2 RF is forcing calculated in the H2 perturbation and 10CH4 the forcing calculated by the H2+CH4."
   ]
  },
  {
   "cell_type": "code",
   "execution_count": 56,
   "metadata": {},
   "outputs": [
    {
     "data": {
      "text/plain": [
       "Scenario\n",
       "10H2     nan\n",
       "10CH4   40.8\n",
       "Name: OSLOCTM3, dtype: float64"
      ]
     },
     "execution_count": 56,
     "metadata": {},
     "output_type": "execute_result"
    }
   ],
   "source": [
    "file = 'ozone_rf.txt'\n",
    "df_ozone_rf_conc = pd.read_csv(path+file, sep=';',index_col=0,header=0)\n",
    "df_ozone_rf_conc = df_ozone_rf_conc['OSLOCTM3'] \n",
    "df_ozone_rf_conc "
   ]
  },
  {
   "cell_type": "code",
   "execution_count": 57,
   "metadata": {},
   "outputs": [
    {
     "data": {
      "text/html": [
       "<div>\n",
       "<style scoped>\n",
       "    .dataframe tbody tr th:only-of-type {\n",
       "        vertical-align: middle;\n",
       "    }\n",
       "\n",
       "    .dataframe tbody tr th {\n",
       "        vertical-align: top;\n",
       "    }\n",
       "\n",
       "    .dataframe thead th {\n",
       "        text-align: right;\n",
       "    }\n",
       "</style>\n",
       "<table border=\"1\" class=\"dataframe\">\n",
       "  <thead>\n",
       "    <tr style=\"text-align: right;\">\n",
       "      <th></th>\n",
       "      <th>CNTR</th>\n",
       "      <th>antro01</th>\n",
       "      <th>antro1</th>\n",
       "      <th>antro10</th>\n",
       "      <th>antro100</th>\n",
       "      <th>nemo</th>\n",
       "      <th>epia</th>\n",
       "      <th>munich</th>\n",
       "      <th>usdrydep</th>\n",
       "      <th>maud</th>\n",
       "      <th>zep</th>\n",
       "      <th>maxdep</th>\n",
       "    </tr>\n",
       "    <tr>\n",
       "      <th>Scenario</th>\n",
       "      <th></th>\n",
       "      <th></th>\n",
       "      <th></th>\n",
       "      <th></th>\n",
       "      <th></th>\n",
       "      <th></th>\n",
       "      <th></th>\n",
       "      <th></th>\n",
       "      <th></th>\n",
       "      <th></th>\n",
       "      <th></th>\n",
       "      <th></th>\n",
       "    </tr>\n",
       "  </thead>\n",
       "  <tbody>\n",
       "    <tr>\n",
       "      <th>10H2</th>\n",
       "      <td>NaN</td>\n",
       "      <td>NaN</td>\n",
       "      <td>NaN</td>\n",
       "      <td>NaN</td>\n",
       "      <td>NaN</td>\n",
       "      <td>NaN</td>\n",
       "      <td>NaN</td>\n",
       "      <td>NaN</td>\n",
       "      <td>NaN</td>\n",
       "      <td>NaN</td>\n",
       "      <td>NaN</td>\n",
       "      <td>NaN</td>\n",
       "    </tr>\n",
       "    <tr>\n",
       "      <th>10CH4</th>\n",
       "      <td>NaN</td>\n",
       "      <td>NaN</td>\n",
       "      <td>NaN</td>\n",
       "      <td>NaN</td>\n",
       "      <td>NaN</td>\n",
       "      <td>NaN</td>\n",
       "      <td>NaN</td>\n",
       "      <td>NaN</td>\n",
       "      <td>NaN</td>\n",
       "      <td>NaN</td>\n",
       "      <td>NaN</td>\n",
       "      <td>NaN</td>\n",
       "    </tr>\n",
       "  </tbody>\n",
       "</table>\n",
       "</div>"
      ],
      "text/plain": [
       "         CNTR antro01 antro1 antro10 antro100 nemo epia munich usdrydep maud  \\\n",
       "Scenario                                                                       \n",
       "10H2      NaN     NaN    NaN     NaN      NaN  NaN  NaN    NaN      NaN  NaN   \n",
       "10CH4     NaN     NaN    NaN     NaN      NaN  NaN  NaN    NaN      NaN  NaN   \n",
       "\n",
       "          zep maxdep  \n",
       "Scenario              \n",
       "10H2      NaN    NaN  \n",
       "10CH4     NaN    NaN  "
      ]
     },
     "execution_count": 57,
     "metadata": {},
     "output_type": "execute_result"
    }
   ],
   "source": [
    "#ADD here for senstest\n",
    "df_ozone_rf = pd.DataFrame(data=[],columns=df_ch4_flux.columns,index=df_ozone_rf_conc.index)\n",
    "df_ozone_rf"
   ]
  },
  {
   "cell_type": "code",
   "execution_count": 58,
   "metadata": {},
   "outputs": [
    {
     "data": {
      "text/plain": [
       "CNTR (mW m-2)             nan\n",
       "antro01-CNTR (mW m-2)    0.02\n",
       "antro1-CNTR (mW m-2)     0.21\n",
       "antro10-CNTR (mW m-2)    2.14\n",
       "antro100-CNTR (mW m-2)   21.4\n",
       "epia-CNTR (mW m-2)       0.18\n",
       "nemo-CNTR (mW m-2)       0.23\n",
       "munich-CNTR (mW m-2)     0.20\n",
       "usdrydep-CNTR (mW m-2)   0.17\n",
       "zep-CNTR (mW m-2)        0.19\n",
       "maud-CNTR (mW m-2)       0.23\n",
       "maxdep-CNTR (mW m-2)     0.20\n",
       "Name: NET adj., dtype: float64"
      ]
     },
     "execution_count": 58,
     "metadata": {},
     "output_type": "execute_result"
    }
   ],
   "source": [
    "file = 'RF_NRFmethod_OsloCTM3_senstest_yr26_net_yearly.csv'\n",
    "ozone_rf_orig = pd.read_csv(path+file,sep=';',index_col=0,header=0,skiprows=3)\n",
    "ozone_rf_orig['NET adj.']\n"
   ]
  },
  {
   "cell_type": "code",
   "execution_count": 59,
   "metadata": {},
   "outputs": [
    {
     "data": {
      "text/html": [
       "<div>\n",
       "<style scoped>\n",
       "    .dataframe tbody tr th:only-of-type {\n",
       "        vertical-align: middle;\n",
       "    }\n",
       "\n",
       "    .dataframe tbody tr th {\n",
       "        vertical-align: top;\n",
       "    }\n",
       "\n",
       "    .dataframe thead th {\n",
       "        text-align: right;\n",
       "    }\n",
       "</style>\n",
       "<table border=\"1\" class=\"dataframe\">\n",
       "  <thead>\n",
       "    <tr style=\"text-align: right;\">\n",
       "      <th></th>\n",
       "      <th>CNTR</th>\n",
       "      <th>antro01</th>\n",
       "      <th>antro1</th>\n",
       "      <th>antro10</th>\n",
       "      <th>antro100</th>\n",
       "      <th>nemo</th>\n",
       "      <th>epia</th>\n",
       "      <th>munich</th>\n",
       "      <th>usdrydep</th>\n",
       "      <th>maud</th>\n",
       "      <th>zep</th>\n",
       "      <th>maxdep</th>\n",
       "    </tr>\n",
       "    <tr>\n",
       "      <th>Scenario</th>\n",
       "      <th></th>\n",
       "      <th></th>\n",
       "      <th></th>\n",
       "      <th></th>\n",
       "      <th></th>\n",
       "      <th></th>\n",
       "      <th></th>\n",
       "      <th></th>\n",
       "      <th></th>\n",
       "      <th></th>\n",
       "      <th></th>\n",
       "      <th></th>\n",
       "    </tr>\n",
       "  </thead>\n",
       "  <tbody>\n",
       "    <tr>\n",
       "      <th>10H2</th>\n",
       "      <td>NaN</td>\n",
       "      <td>0.02</td>\n",
       "      <td>0.21</td>\n",
       "      <td>2.14</td>\n",
       "      <td>21.4</td>\n",
       "      <td>0.23</td>\n",
       "      <td>0.18</td>\n",
       "      <td>0.20</td>\n",
       "      <td>0.17</td>\n",
       "      <td>0.23</td>\n",
       "      <td>0.19</td>\n",
       "      <td>0.20</td>\n",
       "    </tr>\n",
       "    <tr>\n",
       "      <th>10CH4</th>\n",
       "      <td>NaN</td>\n",
       "      <td>NaN</td>\n",
       "      <td>NaN</td>\n",
       "      <td>NaN</td>\n",
       "      <td>NaN</td>\n",
       "      <td>NaN</td>\n",
       "      <td>NaN</td>\n",
       "      <td>NaN</td>\n",
       "      <td>NaN</td>\n",
       "      <td>NaN</td>\n",
       "      <td>NaN</td>\n",
       "      <td>NaN</td>\n",
       "    </tr>\n",
       "  </tbody>\n",
       "</table>\n",
       "</div>"
      ],
      "text/plain": [
       "         CNTR antro01 antro1 antro10 antro100 nemo epia munich usdrydep maud  \\\n",
       "Scenario                                                                       \n",
       "10H2      NaN    0.02   0.21    2.14     21.4 0.23 0.18   0.20     0.17 0.23   \n",
       "10CH4     NaN     NaN    NaN     NaN      NaN  NaN  NaN    NaN      NaN  NaN   \n",
       "\n",
       "          zep maxdep  \n",
       "Scenario              \n",
       "10H2     0.19   0.20  \n",
       "10CH4     NaN    NaN  "
      ]
     },
     "execution_count": 59,
     "metadata": {},
     "output_type": "execute_result"
    }
   ],
   "source": [
    "for scen in df_ozone_rf.columns[1:]:\n",
    "    df_ozone_rf.loc['10H2'][scen] = ozone_rf_orig['NET adj.'].loc[scen+'-CNTR (mW m-2)']\n",
    "df_ozone_rf\n",
    "    \n"
   ]
  },
  {
   "cell_type": "code",
   "execution_count": 60,
   "metadata": {},
   "outputs": [
    {
     "data": {
      "text/html": [
       "<div>\n",
       "<style scoped>\n",
       "    .dataframe tbody tr th:only-of-type {\n",
       "        vertical-align: middle;\n",
       "    }\n",
       "\n",
       "    .dataframe tbody tr th {\n",
       "        vertical-align: top;\n",
       "    }\n",
       "\n",
       "    .dataframe thead th {\n",
       "        text-align: right;\n",
       "    }\n",
       "</style>\n",
       "<table border=\"1\" class=\"dataframe\">\n",
       "  <thead>\n",
       "    <tr style=\"text-align: right;\">\n",
       "      <th></th>\n",
       "      <th>CNTR</th>\n",
       "      <th>antro01</th>\n",
       "      <th>antro1</th>\n",
       "      <th>antro10</th>\n",
       "      <th>antro100</th>\n",
       "      <th>nemo</th>\n",
       "      <th>epia</th>\n",
       "      <th>munich</th>\n",
       "      <th>usdrydep</th>\n",
       "      <th>maud</th>\n",
       "      <th>zep</th>\n",
       "      <th>maxdep</th>\n",
       "    </tr>\n",
       "    <tr>\n",
       "      <th>Scenario</th>\n",
       "      <th></th>\n",
       "      <th></th>\n",
       "      <th></th>\n",
       "      <th></th>\n",
       "      <th></th>\n",
       "      <th></th>\n",
       "      <th></th>\n",
       "      <th></th>\n",
       "      <th></th>\n",
       "      <th></th>\n",
       "      <th></th>\n",
       "      <th></th>\n",
       "    </tr>\n",
       "  </thead>\n",
       "  <tbody>\n",
       "    <tr>\n",
       "      <th>10H2</th>\n",
       "      <td>NaN</td>\n",
       "      <td>0.02</td>\n",
       "      <td>0.21</td>\n",
       "      <td>2.14</td>\n",
       "      <td>21.4</td>\n",
       "      <td>0.23</td>\n",
       "      <td>0.18</td>\n",
       "      <td>0.20</td>\n",
       "      <td>0.17</td>\n",
       "      <td>0.23</td>\n",
       "      <td>0.19</td>\n",
       "      <td>0.20</td>\n",
       "    </tr>\n",
       "    <tr>\n",
       "      <th>10CH4</th>\n",
       "      <td>40.8</td>\n",
       "      <td>40.8</td>\n",
       "      <td>40.8</td>\n",
       "      <td>40.8</td>\n",
       "      <td>40.8</td>\n",
       "      <td>40.8</td>\n",
       "      <td>40.8</td>\n",
       "      <td>40.8</td>\n",
       "      <td>40.8</td>\n",
       "      <td>40.8</td>\n",
       "      <td>40.8</td>\n",
       "      <td>40.8</td>\n",
       "    </tr>\n",
       "  </tbody>\n",
       "</table>\n",
       "</div>"
      ],
      "text/plain": [
       "         CNTR antro01 antro1 antro10 antro100 nemo epia munich usdrydep maud  \\\n",
       "Scenario                                                                       \n",
       "10H2      NaN    0.02   0.21    2.14     21.4 0.23 0.18   0.20     0.17 0.23   \n",
       "10CH4    40.8    40.8   40.8    40.8     40.8 40.8 40.8   40.8     40.8 40.8   \n",
       "\n",
       "          zep maxdep  \n",
       "Scenario              \n",
       "10H2     0.19   0.20  \n",
       "10CH4    40.8   40.8  "
      ]
     },
     "execution_count": 60,
     "metadata": {},
     "output_type": "execute_result"
    }
   ],
   "source": [
    "#In OsloCTM-emi use the same RF in the methane pertubation as in OsloCTM3\n",
    "df_ozone_rf.loc['10CH4'] = df_ozone_rf_conc.loc['10CH4'] \n",
    "df_ozone_rf"
   ]
  },
  {
   "cell_type": "markdown",
   "metadata": {},
   "source": [
    "## 4. Stratospheric H2O RF [mW m-2]"
   ]
  },
  {
   "cell_type": "markdown",
   "metadata": {},
   "source": [
    "Stratospheric H2O RF calculated offline."
   ]
  },
  {
   "cell_type": "code",
   "execution_count": 61,
   "metadata": {},
   "outputs": [
    {
     "data": {
      "text/plain": [
       "Scenario\n",
       "10H2     nan\n",
       "10CH4   9.53\n",
       "Name: OSLOCTM3, dtype: float64"
      ]
     },
     "execution_count": 61,
     "metadata": {},
     "output_type": "execute_result"
    }
   ],
   "source": [
    "file = 'H2O_rf.txt'\n",
    "df_h2o_rf_conc = pd.read_csv(path+file, sep=';',index_col=0,header=0)\n",
    "df_h2o_rf_conc = df_h2o_rf_conc['OSLOCTM3']\n",
    "df_h2o_rf_conc"
   ]
  },
  {
   "cell_type": "code",
   "execution_count": 62,
   "metadata": {},
   "outputs": [
    {
     "data": {
      "text/html": [
       "<div>\n",
       "<style scoped>\n",
       "    .dataframe tbody tr th:only-of-type {\n",
       "        vertical-align: middle;\n",
       "    }\n",
       "\n",
       "    .dataframe tbody tr th {\n",
       "        vertical-align: top;\n",
       "    }\n",
       "\n",
       "    .dataframe thead th {\n",
       "        text-align: right;\n",
       "    }\n",
       "</style>\n",
       "<table border=\"1\" class=\"dataframe\">\n",
       "  <thead>\n",
       "    <tr style=\"text-align: right;\">\n",
       "      <th></th>\n",
       "      <th>CNTR</th>\n",
       "      <th>antro01</th>\n",
       "      <th>antro1</th>\n",
       "      <th>antro10</th>\n",
       "      <th>antro100</th>\n",
       "      <th>nemo</th>\n",
       "      <th>epia</th>\n",
       "      <th>munich</th>\n",
       "      <th>usdrydep</th>\n",
       "      <th>maud</th>\n",
       "      <th>zep</th>\n",
       "      <th>maxdep</th>\n",
       "    </tr>\n",
       "    <tr>\n",
       "      <th>Scenario</th>\n",
       "      <th></th>\n",
       "      <th></th>\n",
       "      <th></th>\n",
       "      <th></th>\n",
       "      <th></th>\n",
       "      <th></th>\n",
       "      <th></th>\n",
       "      <th></th>\n",
       "      <th></th>\n",
       "      <th></th>\n",
       "      <th></th>\n",
       "      <th></th>\n",
       "    </tr>\n",
       "  </thead>\n",
       "  <tbody>\n",
       "    <tr>\n",
       "      <th>10H2</th>\n",
       "      <td>NaN</td>\n",
       "      <td>NaN</td>\n",
       "      <td>NaN</td>\n",
       "      <td>NaN</td>\n",
       "      <td>NaN</td>\n",
       "      <td>NaN</td>\n",
       "      <td>NaN</td>\n",
       "      <td>NaN</td>\n",
       "      <td>NaN</td>\n",
       "      <td>NaN</td>\n",
       "      <td>NaN</td>\n",
       "      <td>NaN</td>\n",
       "    </tr>\n",
       "    <tr>\n",
       "      <th>10CH4</th>\n",
       "      <td>NaN</td>\n",
       "      <td>NaN</td>\n",
       "      <td>NaN</td>\n",
       "      <td>NaN</td>\n",
       "      <td>NaN</td>\n",
       "      <td>NaN</td>\n",
       "      <td>NaN</td>\n",
       "      <td>NaN</td>\n",
       "      <td>NaN</td>\n",
       "      <td>NaN</td>\n",
       "      <td>NaN</td>\n",
       "      <td>NaN</td>\n",
       "    </tr>\n",
       "  </tbody>\n",
       "</table>\n",
       "</div>"
      ],
      "text/plain": [
       "         CNTR antro01 antro1 antro10 antro100 nemo epia munich usdrydep maud  \\\n",
       "Scenario                                                                       \n",
       "10H2      NaN     NaN    NaN     NaN      NaN  NaN  NaN    NaN      NaN  NaN   \n",
       "10CH4     NaN     NaN    NaN     NaN      NaN  NaN  NaN    NaN      NaN  NaN   \n",
       "\n",
       "          zep maxdep  \n",
       "Scenario              \n",
       "10H2      NaN    NaN  \n",
       "10CH4     NaN    NaN  "
      ]
     },
     "execution_count": 62,
     "metadata": {},
     "output_type": "execute_result"
    }
   ],
   "source": [
    "#ADD here for senstest\n",
    "df_h2o_rf = pd.DataFrame(data=[],columns=df_ch4_flux.columns,index=df_h2o_rf_conc.index)\n",
    "df_h2o_rf"
   ]
  },
  {
   "cell_type": "code",
   "execution_count": 63,
   "metadata": {},
   "outputs": [
    {
     "data": {
      "text/html": [
       "<div>\n",
       "<style scoped>\n",
       "    .dataframe tbody tr th:only-of-type {\n",
       "        vertical-align: middle;\n",
       "    }\n",
       "\n",
       "    .dataframe tbody tr th {\n",
       "        vertical-align: top;\n",
       "    }\n",
       "\n",
       "    .dataframe thead th {\n",
       "        text-align: right;\n",
       "    }\n",
       "</style>\n",
       "<table border=\"1\" class=\"dataframe\">\n",
       "  <thead>\n",
       "    <tr style=\"text-align: right;\">\n",
       "      <th></th>\n",
       "      <th>an01</th>\n",
       "      <th>ant1</th>\n",
       "      <th>an10</th>\n",
       "      <th>a100</th>\n",
       "      <th>zepl</th>\n",
       "      <th>maud</th>\n",
       "      <th>nemo</th>\n",
       "      <th>epia</th>\n",
       "      <th>munc</th>\n",
       "      <th>usdd</th>\n",
       "      <th>maxd</th>\n",
       "    </tr>\n",
       "  </thead>\n",
       "  <tbody>\n",
       "    <tr>\n",
       "      <th>NET</th>\n",
       "      <td>0.02</td>\n",
       "      <td>0.17</td>\n",
       "      <td>1.67</td>\n",
       "      <td>16.8</td>\n",
       "      <td>0.15</td>\n",
       "      <td>0.18</td>\n",
       "      <td>0.18</td>\n",
       "      <td>0.14</td>\n",
       "      <td>0.15</td>\n",
       "      <td>0.13</td>\n",
       "      <td>0.16</td>\n",
       "    </tr>\n",
       "  </tbody>\n",
       "</table>\n",
       "</div>"
      ],
      "text/plain": [
       "     an01  ant1  an10  a100  zepl  maud  nemo  epia  munc  usdd  maxd\n",
       "NET  0.02  0.17  1.67  16.8  0.15  0.18  0.18  0.14  0.15  0.13  0.16"
      ]
     },
     "execution_count": 63,
     "metadata": {},
     "output_type": "execute_result"
    }
   ],
   "source": [
    "file = 'strat_h2o_h2.csv'\n",
    "df_h2o_rf_orig = pd.read_csv(path+file,sep='\\t',index_col=0,header=0)\n",
    "df_h2o_rf_orig\n"
   ]
  },
  {
   "cell_type": "code",
   "execution_count": 64,
   "metadata": {},
   "outputs": [
    {
     "data": {
      "text/html": [
       "<div>\n",
       "<style scoped>\n",
       "    .dataframe tbody tr th:only-of-type {\n",
       "        vertical-align: middle;\n",
       "    }\n",
       "\n",
       "    .dataframe tbody tr th {\n",
       "        vertical-align: top;\n",
       "    }\n",
       "\n",
       "    .dataframe thead th {\n",
       "        text-align: right;\n",
       "    }\n",
       "</style>\n",
       "<table border=\"1\" class=\"dataframe\">\n",
       "  <thead>\n",
       "    <tr style=\"text-align: right;\">\n",
       "      <th></th>\n",
       "      <th>CNTR</th>\n",
       "      <th>antro01</th>\n",
       "      <th>antro1</th>\n",
       "      <th>antro10</th>\n",
       "      <th>antro100</th>\n",
       "      <th>nemo</th>\n",
       "      <th>epia</th>\n",
       "      <th>munich</th>\n",
       "      <th>usdrydep</th>\n",
       "      <th>maud</th>\n",
       "      <th>zep</th>\n",
       "      <th>maxdep</th>\n",
       "    </tr>\n",
       "    <tr>\n",
       "      <th>Scenario</th>\n",
       "      <th></th>\n",
       "      <th></th>\n",
       "      <th></th>\n",
       "      <th></th>\n",
       "      <th></th>\n",
       "      <th></th>\n",
       "      <th></th>\n",
       "      <th></th>\n",
       "      <th></th>\n",
       "      <th></th>\n",
       "      <th></th>\n",
       "      <th></th>\n",
       "    </tr>\n",
       "  </thead>\n",
       "  <tbody>\n",
       "    <tr>\n",
       "      <th>10H2</th>\n",
       "      <td>NaN</td>\n",
       "      <td>0.02</td>\n",
       "      <td>0.17</td>\n",
       "      <td>1.67</td>\n",
       "      <td>16.8</td>\n",
       "      <td>0.18</td>\n",
       "      <td>0.14</td>\n",
       "      <td>0.15</td>\n",
       "      <td>0.13</td>\n",
       "      <td>0.18</td>\n",
       "      <td>0.15</td>\n",
       "      <td>0.16</td>\n",
       "    </tr>\n",
       "    <tr>\n",
       "      <th>10CH4</th>\n",
       "      <td>NaN</td>\n",
       "      <td>NaN</td>\n",
       "      <td>NaN</td>\n",
       "      <td>NaN</td>\n",
       "      <td>NaN</td>\n",
       "      <td>NaN</td>\n",
       "      <td>NaN</td>\n",
       "      <td>NaN</td>\n",
       "      <td>NaN</td>\n",
       "      <td>NaN</td>\n",
       "      <td>NaN</td>\n",
       "      <td>NaN</td>\n",
       "    </tr>\n",
       "  </tbody>\n",
       "</table>\n",
       "</div>"
      ],
      "text/plain": [
       "         CNTR antro01 antro1 antro10 antro100 nemo epia munich usdrydep maud  \\\n",
       "Scenario                                                                       \n",
       "10H2      NaN    0.02   0.17    1.67     16.8 0.18 0.14   0.15     0.13 0.18   \n",
       "10CH4     NaN     NaN    NaN     NaN      NaN  NaN  NaN    NaN      NaN  NaN   \n",
       "\n",
       "          zep maxdep  \n",
       "Scenario              \n",
       "10H2     0.15   0.16  \n",
       "10CH4     NaN    NaN  "
      ]
     },
     "execution_count": 64,
     "metadata": {},
     "output_type": "execute_result"
    }
   ],
   "source": [
    "scen_dict_strat_h2o = {'an01':'antro01',\n",
    "                       'ant1':'antro1',\n",
    "                       'an10':'antro10',\n",
    "                       'a100':'antro100',\n",
    "                       'zepl':'zep',\n",
    "                       'maud':'maud',\n",
    "                       'nemo':'nemo',\n",
    "                       'epia':'epia',\n",
    "                       'munc':'munich',\n",
    "                       'usdd':'usdrydep',\n",
    "                       'maxd':'maxdep'}\n",
    "for scen in scen_dict_strat_h2o:\n",
    "    df_h2o_rf[scen_dict_strat_h2o[scen]].loc['10H2'] = df_h2o_rf_orig[scen].loc['NET']\n",
    "df_h2o_rf"
   ]
  },
  {
   "cell_type": "code",
   "execution_count": 65,
   "metadata": {},
   "outputs": [
    {
     "data": {
      "text/html": [
       "<div>\n",
       "<style scoped>\n",
       "    .dataframe tbody tr th:only-of-type {\n",
       "        vertical-align: middle;\n",
       "    }\n",
       "\n",
       "    .dataframe tbody tr th {\n",
       "        vertical-align: top;\n",
       "    }\n",
       "\n",
       "    .dataframe thead th {\n",
       "        text-align: right;\n",
       "    }\n",
       "</style>\n",
       "<table border=\"1\" class=\"dataframe\">\n",
       "  <thead>\n",
       "    <tr style=\"text-align: right;\">\n",
       "      <th></th>\n",
       "      <th>CNTR</th>\n",
       "      <th>antro01</th>\n",
       "      <th>antro1</th>\n",
       "      <th>antro10</th>\n",
       "      <th>antro100</th>\n",
       "      <th>nemo</th>\n",
       "      <th>epia</th>\n",
       "      <th>munich</th>\n",
       "      <th>usdrydep</th>\n",
       "      <th>maud</th>\n",
       "      <th>zep</th>\n",
       "      <th>maxdep</th>\n",
       "    </tr>\n",
       "    <tr>\n",
       "      <th>Scenario</th>\n",
       "      <th></th>\n",
       "      <th></th>\n",
       "      <th></th>\n",
       "      <th></th>\n",
       "      <th></th>\n",
       "      <th></th>\n",
       "      <th></th>\n",
       "      <th></th>\n",
       "      <th></th>\n",
       "      <th></th>\n",
       "      <th></th>\n",
       "      <th></th>\n",
       "    </tr>\n",
       "  </thead>\n",
       "  <tbody>\n",
       "    <tr>\n",
       "      <th>10H2</th>\n",
       "      <td>NaN</td>\n",
       "      <td>0.02</td>\n",
       "      <td>0.17</td>\n",
       "      <td>1.67</td>\n",
       "      <td>16.8</td>\n",
       "      <td>0.18</td>\n",
       "      <td>0.14</td>\n",
       "      <td>0.15</td>\n",
       "      <td>0.13</td>\n",
       "      <td>0.18</td>\n",
       "      <td>0.15</td>\n",
       "      <td>0.16</td>\n",
       "    </tr>\n",
       "    <tr>\n",
       "      <th>10CH4</th>\n",
       "      <td>9.53</td>\n",
       "      <td>9.53</td>\n",
       "      <td>9.53</td>\n",
       "      <td>9.53</td>\n",
       "      <td>9.53</td>\n",
       "      <td>9.53</td>\n",
       "      <td>9.53</td>\n",
       "      <td>9.53</td>\n",
       "      <td>9.53</td>\n",
       "      <td>9.53</td>\n",
       "      <td>9.53</td>\n",
       "      <td>9.53</td>\n",
       "    </tr>\n",
       "  </tbody>\n",
       "</table>\n",
       "</div>"
      ],
      "text/plain": [
       "         CNTR antro01 antro1 antro10 antro100 nemo epia munich usdrydep maud  \\\n",
       "Scenario                                                                       \n",
       "10H2      NaN    0.02   0.17    1.67     16.8 0.18 0.14   0.15     0.13 0.18   \n",
       "10CH4    9.53    9.53   9.53    9.53     9.53 9.53 9.53   9.53     9.53 9.53   \n",
       "\n",
       "          zep maxdep  \n",
       "Scenario              \n",
       "10H2     0.15   0.16  \n",
       "10CH4    9.53   9.53  "
      ]
     },
     "execution_count": 65,
     "metadata": {},
     "output_type": "execute_result"
    }
   ],
   "source": [
    "#In OsloCTM-emi use the same RF in the methane pertubation as in OsloCTM3\n",
    "df_h2o_rf.loc['10CH4'] = df_h2o_rf_conc.loc['10CH4'] \n",
    "df_h2o_rf"
   ]
  },
  {
   "cell_type": "code",
   "execution_count": null,
   "metadata": {
    "scrolled": true
   },
   "outputs": [],
   "source": []
  },
  {
   "cell_type": "markdown",
   "metadata": {},
   "source": [
    "## 5. Aerosol RF [mW m-2]"
   ]
  },
  {
   "cell_type": "code",
   "execution_count": 66,
   "metadata": {},
   "outputs": [
    {
     "data": {
      "text/plain": [
       "Scenario\n",
       "10H2    nan\n",
       "10CH4   nan\n",
       "Name: OSLOCTM3, dtype: float64"
      ]
     },
     "execution_count": 66,
     "metadata": {},
     "output_type": "execute_result"
    }
   ],
   "source": [
    "file = 'aerosol_rf.txt'\n",
    "df_aerosol_rf_conc = pd.read_csv(path+file, sep=';',index_col=0,header=0)\n",
    "df_aerosol_rf_conc = df_aerosol_rf_conc['OSLOCTM3']\n",
    "df_aerosol_rf_conc"
   ]
  },
  {
   "cell_type": "code",
   "execution_count": 67,
   "metadata": {},
   "outputs": [
    {
     "data": {
      "text/html": [
       "<div>\n",
       "<style scoped>\n",
       "    .dataframe tbody tr th:only-of-type {\n",
       "        vertical-align: middle;\n",
       "    }\n",
       "\n",
       "    .dataframe tbody tr th {\n",
       "        vertical-align: top;\n",
       "    }\n",
       "\n",
       "    .dataframe thead th {\n",
       "        text-align: right;\n",
       "    }\n",
       "</style>\n",
       "<table border=\"1\" class=\"dataframe\">\n",
       "  <thead>\n",
       "    <tr style=\"text-align: right;\">\n",
       "      <th></th>\n",
       "      <th>CNTR</th>\n",
       "      <th>antro01</th>\n",
       "      <th>antro1</th>\n",
       "      <th>antro10</th>\n",
       "      <th>antro100</th>\n",
       "      <th>nemo</th>\n",
       "      <th>epia</th>\n",
       "      <th>munich</th>\n",
       "      <th>usdrydep</th>\n",
       "      <th>maud</th>\n",
       "      <th>zep</th>\n",
       "      <th>maxdep</th>\n",
       "    </tr>\n",
       "    <tr>\n",
       "      <th>Scenario</th>\n",
       "      <th></th>\n",
       "      <th></th>\n",
       "      <th></th>\n",
       "      <th></th>\n",
       "      <th></th>\n",
       "      <th></th>\n",
       "      <th></th>\n",
       "      <th></th>\n",
       "      <th></th>\n",
       "      <th></th>\n",
       "      <th></th>\n",
       "      <th></th>\n",
       "    </tr>\n",
       "  </thead>\n",
       "  <tbody>\n",
       "    <tr>\n",
       "      <th>10H2</th>\n",
       "      <td>NaN</td>\n",
       "      <td>NaN</td>\n",
       "      <td>NaN</td>\n",
       "      <td>NaN</td>\n",
       "      <td>NaN</td>\n",
       "      <td>NaN</td>\n",
       "      <td>NaN</td>\n",
       "      <td>NaN</td>\n",
       "      <td>NaN</td>\n",
       "      <td>NaN</td>\n",
       "      <td>NaN</td>\n",
       "      <td>NaN</td>\n",
       "    </tr>\n",
       "    <tr>\n",
       "      <th>10CH4</th>\n",
       "      <td>NaN</td>\n",
       "      <td>NaN</td>\n",
       "      <td>NaN</td>\n",
       "      <td>NaN</td>\n",
       "      <td>NaN</td>\n",
       "      <td>NaN</td>\n",
       "      <td>NaN</td>\n",
       "      <td>NaN</td>\n",
       "      <td>NaN</td>\n",
       "      <td>NaN</td>\n",
       "      <td>NaN</td>\n",
       "      <td>NaN</td>\n",
       "    </tr>\n",
       "  </tbody>\n",
       "</table>\n",
       "</div>"
      ],
      "text/plain": [
       "         CNTR antro01 antro1 antro10 antro100 nemo epia munich usdrydep maud  \\\n",
       "Scenario                                                                       \n",
       "10H2      NaN     NaN    NaN     NaN      NaN  NaN  NaN    NaN      NaN  NaN   \n",
       "10CH4     NaN     NaN    NaN     NaN      NaN  NaN  NaN    NaN      NaN  NaN   \n",
       "\n",
       "          zep maxdep  \n",
       "Scenario              \n",
       "10H2      NaN    NaN  \n",
       "10CH4     NaN    NaN  "
      ]
     },
     "execution_count": 67,
     "metadata": {},
     "output_type": "execute_result"
    }
   ],
   "source": [
    "#ADD here for senstest\n",
    "df_aerosol_rf = pd.DataFrame(data=[],columns=df_ch4_flux.columns,index=df_h2o_rf_conc.index)\n",
    "df_aerosol_rf"
   ]
  },
  {
   "cell_type": "code",
   "execution_count": 68,
   "metadata": {},
   "outputs": [
    {
     "data": {
      "text/html": [
       "<div>\n",
       "<style scoped>\n",
       "    .dataframe tbody tr th:only-of-type {\n",
       "        vertical-align: middle;\n",
       "    }\n",
       "\n",
       "    .dataframe tbody tr th {\n",
       "        vertical-align: top;\n",
       "    }\n",
       "\n",
       "    .dataframe thead th {\n",
       "        text-align: right;\n",
       "    }\n",
       "</style>\n",
       "<table border=\"1\" class=\"dataframe\">\n",
       "  <thead>\n",
       "    <tr style=\"text-align: right;\">\n",
       "      <th></th>\n",
       "      <th>CNTR</th>\n",
       "      <th>antro01</th>\n",
       "      <th>antro1</th>\n",
       "      <th>antro10</th>\n",
       "      <th>antro100</th>\n",
       "      <th>nemo</th>\n",
       "      <th>epia</th>\n",
       "      <th>munich</th>\n",
       "      <th>usdrydep</th>\n",
       "      <th>maud</th>\n",
       "      <th>zep</th>\n",
       "      <th>maxdep</th>\n",
       "    </tr>\n",
       "    <tr>\n",
       "      <th>Scenario</th>\n",
       "      <th></th>\n",
       "      <th></th>\n",
       "      <th></th>\n",
       "      <th></th>\n",
       "      <th></th>\n",
       "      <th></th>\n",
       "      <th></th>\n",
       "      <th></th>\n",
       "      <th></th>\n",
       "      <th></th>\n",
       "      <th></th>\n",
       "      <th></th>\n",
       "    </tr>\n",
       "  </thead>\n",
       "  <tbody>\n",
       "    <tr>\n",
       "      <th>10H2</th>\n",
       "      <td>NaN</td>\n",
       "      <td>NaN</td>\n",
       "      <td>NaN</td>\n",
       "      <td>NaN</td>\n",
       "      <td>NaN</td>\n",
       "      <td>NaN</td>\n",
       "      <td>NaN</td>\n",
       "      <td>NaN</td>\n",
       "      <td>NaN</td>\n",
       "      <td>NaN</td>\n",
       "      <td>NaN</td>\n",
       "      <td>NaN</td>\n",
       "    </tr>\n",
       "    <tr>\n",
       "      <th>10CH4</th>\n",
       "      <td>NaN</td>\n",
       "      <td>NaN</td>\n",
       "      <td>NaN</td>\n",
       "      <td>NaN</td>\n",
       "      <td>NaN</td>\n",
       "      <td>NaN</td>\n",
       "      <td>NaN</td>\n",
       "      <td>NaN</td>\n",
       "      <td>NaN</td>\n",
       "      <td>NaN</td>\n",
       "      <td>NaN</td>\n",
       "      <td>NaN</td>\n",
       "    </tr>\n",
       "  </tbody>\n",
       "</table>\n",
       "</div>"
      ],
      "text/plain": [
       "         CNTR antro01 antro1 antro10 antro100 nemo epia munich usdrydep maud  \\\n",
       "Scenario                                                                       \n",
       "10H2      NaN     NaN    NaN     NaN      NaN  NaN  NaN    NaN      NaN  NaN   \n",
       "10CH4     NaN     NaN    NaN     NaN      NaN  NaN  NaN    NaN      NaN  NaN   \n",
       "\n",
       "          zep maxdep  \n",
       "Scenario              \n",
       "10H2      NaN    NaN  \n",
       "10CH4     NaN    NaN  "
      ]
     },
     "execution_count": 68,
     "metadata": {},
     "output_type": "execute_result"
    }
   ],
   "source": [
    "#In OsloCTM-emi use the same RF in the methane pertubation as in OsloCTM3\n",
    "df_aerosol_rf.loc['10CH4'] = df_aerosol_rf_conc.loc['10CH4'] \n",
    "df_aerosol_rf"
   ]
  },
  {
   "cell_type": "markdown",
   "metadata": {},
   "source": [
    "\n",
    "# Part II: GWP calculations:"
   ]
  },
  {
   "cell_type": "markdown",
   "metadata": {},
   "source": [
    "The pulse integrated to infinity of the effects of a short lived climate forcer is equal to the change respones of its effects at steady state multiplied by the steady state lifetime of the short lived forcer(:cite:p:`Prather2002a` and :cite:p:`Prather2007a`). \n",
    "\n",
    "Prather 2002: prove that: (a) the steadystate pattern of impacts caused by specified emissions, multiplied by (b) the steady-state lifetime of the source gas for that emission pattern, is exactly equal to (c) the integral of all impacts - independent of the number and atmospheric residence times of secondary impacts. Therefore, the AGWP for hydrogen is identical whether calculating by integrating a pulse or by using the steady state changes per flux, given that the perturbation reaches steady state before 100 years. The longest-lived chemical mode here is keyed to methane, which has an e-folding lifetime of about 12 years. Our perturbed experiments are run to steate-state.\n"
   ]
  },
  {
   "cell_type": "markdown",
   "metadata": {},
   "source": [
    "### Change in H2 surface conc. caused by 1 Tg H2/yr [ppb yr Tg-1]"
   ]
  },
  {
   "cell_type": "markdown",
   "metadata": {},
   "source": [
    "This is not used for the GWP calculation. Only for the per flux table and for the feedback factor calulations."
   ]
  },
  {
   "cell_type": "code",
   "execution_count": 69,
   "metadata": {},
   "outputs": [
    {
     "data": {
      "text/html": [
       "<div>\n",
       "<style scoped>\n",
       "    .dataframe tbody tr th:only-of-type {\n",
       "        vertical-align: middle;\n",
       "    }\n",
       "\n",
       "    .dataframe tbody tr th {\n",
       "        vertical-align: top;\n",
       "    }\n",
       "\n",
       "    .dataframe thead th {\n",
       "        text-align: right;\n",
       "    }\n",
       "</style>\n",
       "<table border=\"1\" class=\"dataframe\">\n",
       "  <thead>\n",
       "    <tr style=\"text-align: right;\">\n",
       "      <th></th>\n",
       "      <th>CNTR</th>\n",
       "      <th>antro01</th>\n",
       "      <th>antro1</th>\n",
       "      <th>antro10</th>\n",
       "      <th>antro100</th>\n",
       "      <th>nemo</th>\n",
       "      <th>epia</th>\n",
       "      <th>munich</th>\n",
       "      <th>usdrydep</th>\n",
       "      <th>maud</th>\n",
       "      <th>zep</th>\n",
       "      <th>maxdep</th>\n",
       "    </tr>\n",
       "    <tr>\n",
       "      <th>Scenario</th>\n",
       "      <th></th>\n",
       "      <th></th>\n",
       "      <th></th>\n",
       "      <th></th>\n",
       "      <th></th>\n",
       "      <th></th>\n",
       "      <th></th>\n",
       "      <th></th>\n",
       "      <th></th>\n",
       "      <th></th>\n",
       "      <th></th>\n",
       "      <th></th>\n",
       "    </tr>\n",
       "  </thead>\n",
       "  <tbody>\n",
       "    <tr>\n",
       "      <th>YR13</th>\n",
       "      <td>725</td>\n",
       "      <td>725</td>\n",
       "      <td>724</td>\n",
       "      <td>722</td>\n",
       "      <td>696</td>\n",
       "      <td>724</td>\n",
       "      <td>724</td>\n",
       "      <td>724</td>\n",
       "      <td>724</td>\n",
       "      <td>724</td>\n",
       "      <td>724</td>\n",
       "      <td>724</td>\n",
       "    </tr>\n",
       "    <tr>\n",
       "      <th>deltaH2</th>\n",
       "      <td>0.00</td>\n",
       "      <td>-0.03</td>\n",
       "      <td>-0.30</td>\n",
       "      <td>-3.03</td>\n",
       "      <td>-28.7</td>\n",
       "      <td>-0.35</td>\n",
       "      <td>-0.27</td>\n",
       "      <td>-0.29</td>\n",
       "      <td>-0.25</td>\n",
       "      <td>-0.35</td>\n",
       "      <td>-0.29</td>\n",
       "      <td>-0.28</td>\n",
       "    </tr>\n",
       "    <tr>\n",
       "      <th>deltaCH4</th>\n",
       "      <td>49.7</td>\n",
       "      <td>49.7</td>\n",
       "      <td>49.7</td>\n",
       "      <td>49.7</td>\n",
       "      <td>49.7</td>\n",
       "      <td>49.7</td>\n",
       "      <td>49.7</td>\n",
       "      <td>49.7</td>\n",
       "      <td>49.7</td>\n",
       "      <td>49.7</td>\n",
       "      <td>49.7</td>\n",
       "      <td>49.7</td>\n",
       "    </tr>\n",
       "  </tbody>\n",
       "</table>\n",
       "</div>"
      ],
      "text/plain": [
       "          CNTR  antro01  antro1  antro10  antro100  nemo  epia  munich  \\\n",
       "Scenario                                                                 \n",
       "YR13       725      725     724      722       696   724   724     724   \n",
       "deltaH2   0.00    -0.03   -0.30    -3.03     -28.7 -0.35 -0.27   -0.29   \n",
       "deltaCH4  49.7     49.7    49.7     49.7      49.7  49.7  49.7    49.7   \n",
       "\n",
       "          usdrydep  maud   zep  maxdep  \n",
       "Scenario                                \n",
       "YR13           724   724   724     724  \n",
       "deltaH2      -0.25 -0.35 -0.29   -0.28  \n",
       "deltaCH4      49.7  49.7  49.7    49.7  "
      ]
     },
     "execution_count": 69,
     "metadata": {},
     "output_type": "execute_result"
    }
   ],
   "source": [
    "df_ch4_flux"
   ]
  },
  {
   "cell_type": "code",
   "execution_count": 70,
   "metadata": {},
   "outputs": [
    {
     "data": {
      "text/plain": [
       "CNTR        nan\n",
       "antro01    6.27\n",
       "antro1     6.27\n",
       "antro10    6.28\n",
       "antro100   6.35\n",
       "nemo       7.92\n",
       "epia       6.05\n",
       "munich     6.32\n",
       "usdrydep   5.20\n",
       "maud       9.24\n",
       "zep        6.69\n",
       "maxdep     5.48\n",
       "Name: surf_h2_per_h2_flux, dtype: float64"
      ]
     },
     "execution_count": 70,
     "metadata": {},
     "output_type": "execute_result"
    }
   ],
   "source": [
    "df_surf_h2_per_h2_flux = df_h2_surfconc.loc['delta']/df_h2_flux['deltaH2']\n",
    "df_surf_h2_per_h2_flux.name = 'surf_h2_per_h2_flux'\n",
    "df_surf_h2_per_h2_flux"
   ]
  },
  {
   "cell_type": "markdown",
   "metadata": {},
   "source": [
    "### Change in CH4 flux caused by 1 TgH2 /yr (includes H2 feedback) [Tg CH4/Tg H2]:"
   ]
  },
  {
   "cell_type": "markdown",
   "metadata": {},
   "source": [
    "The ch4_flux is multiplied by -1 (see above)."
   ]
  },
  {
   "cell_type": "code",
   "execution_count": 71,
   "metadata": {},
   "outputs": [
    {
     "data": {
      "text/plain": [
       "CNTR        nan\n",
       "antro01    0.30\n",
       "antro1     0.31\n",
       "antro10    0.31\n",
       "antro100   0.29\n",
       "nemo       0.35\n",
       "epia       0.28\n",
       "munich     0.29\n",
       "usdrydep   0.25\n",
       "maud       0.35\n",
       "zep        0.29\n",
       "maxdep     0.28\n",
       "Name: ch4_flux_per_h2_flux, dtype: float64"
      ]
     },
     "execution_count": 71,
     "metadata": {},
     "output_type": "execute_result"
    }
   ],
   "source": [
    "df_ch4_flux_per_h2_flux = -1.0*df_ch4_flux.loc['deltaH2']/df_h2_flux['deltaH2']\n",
    "df_ch4_flux_per_h2_flux.name = 'ch4_flux_per_h2_flux'\n",
    "df_ch4_flux_per_h2_flux"
   ]
  },
  {
   "cell_type": "markdown",
   "metadata": {},
   "source": [
    "### Change in CH4 surface conc. caused by 1 Tg/yr CH4 [ppb yr/Tg CH4]"
   ]
  },
  {
   "cell_type": "code",
   "execution_count": 72,
   "metadata": {},
   "outputs": [
    {
     "data": {
      "text/plain": [
       "3.650302696662327"
      ]
     },
     "execution_count": 72,
     "metadata": {},
     "output_type": "execute_result"
    }
   ],
   "source": [
    "df_surf_ch4_per_ch4_flux_conc =  df_ch4_surfconc_conc.loc['deltaCH4']/df_ch4_flux_conc.loc['deltaCH4']\n",
    "df_surf_ch4_per_ch4_flux_conc\n"
   ]
  },
  {
   "cell_type": "code",
   "execution_count": 73,
   "metadata": {},
   "outputs": [
    {
     "data": {
      "text/plain": [
       "CNTR       3.65\n",
       "antro01    3.65\n",
       "antro1     3.65\n",
       "antro10    3.65\n",
       "antro100   3.65\n",
       "nemo       3.65\n",
       "epia       3.65\n",
       "munich     3.65\n",
       "usdrydep   3.65\n",
       "maud       3.65\n",
       "zep        3.65\n",
       "maxdep     3.65\n",
       "Name: surf_ch4_per_ch4_flux, dtype: float64"
      ]
     },
     "execution_count": 73,
     "metadata": {},
     "output_type": "execute_result"
    }
   ],
   "source": [
    "df_surf_ch4_per_ch4_flux =  df_ch4_surfconc.loc['delta']/df_ch4_flux.loc['deltaCH4']\n",
    "df_surf_ch4_per_ch4_flux.name = 'surf_ch4_per_ch4_flux'\n",
    "df_surf_ch4_per_ch4_flux"
   ]
  },
  {
   "cell_type": "markdown",
   "metadata": {},
   "source": [
    "OsloCTM3-emi set equal to OsloCTM3 concentration driven."
   ]
  },
  {
   "cell_type": "code",
   "execution_count": 74,
   "metadata": {},
   "outputs": [
    {
     "data": {
      "text/plain": [
       "CNTR       3.65\n",
       "antro01    3.65\n",
       "antro1     3.65\n",
       "antro10    3.65\n",
       "antro100   3.65\n",
       "nemo       3.65\n",
       "epia       3.65\n",
       "munich     3.65\n",
       "usdrydep   3.65\n",
       "maud       3.65\n",
       "zep        3.65\n",
       "maxdep     3.65\n",
       "Name: surf_ch4_per_ch4_flux, dtype: float64"
      ]
     },
     "execution_count": 74,
     "metadata": {},
     "output_type": "execute_result"
    }
   ],
   "source": [
    "df_surf_ch4_per_ch4_flux[:] = df_surf_ch4_per_ch4_flux_conc\n",
    "df_surf_ch4_per_ch4_flux"
   ]
  },
  {
   "cell_type": "markdown",
   "metadata": {},
   "source": [
    "### Change in CH4 surface concentration per emission H2 [ppb yr /Tg H2]"
   ]
  },
  {
   "cell_type": "code",
   "execution_count": 75,
   "metadata": {},
   "outputs": [
    {
     "data": {
      "text/plain": [
       "CNTR        nan\n",
       "antro01    1.11\n",
       "antro1     1.12\n",
       "antro10    1.12\n",
       "antro100   1.06\n",
       "nemo       1.29\n",
       "epia       1.01\n",
       "munich     1.08\n",
       "usdrydep   0.92\n",
       "maud       1.29\n",
       "zep        1.06\n",
       "maxdep     1.03\n",
       "Name: surf_ch4_per_h2_flux, dtype: float64"
      ]
     },
     "execution_count": 75,
     "metadata": {},
     "output_type": "execute_result"
    }
   ],
   "source": [
    "df_surf_ch4_per_h2_flux = df_surf_ch4_per_ch4_flux*df_ch4_flux_per_h2_flux\n",
    "df_surf_ch4_per_h2_flux.name = 'surf_ch4_per_h2_flux'\n",
    "df_surf_ch4_per_h2_flux"
   ]
  },
  {
   "cell_type": "code",
   "execution_count": 76,
   "metadata": {},
   "outputs": [
    {
     "data": {
      "text/html": [
       "<div>\n",
       "<style scoped>\n",
       "    .dataframe tbody tr th:only-of-type {\n",
       "        vertical-align: middle;\n",
       "    }\n",
       "\n",
       "    .dataframe tbody tr th {\n",
       "        vertical-align: top;\n",
       "    }\n",
       "\n",
       "    .dataframe thead th {\n",
       "        text-align: right;\n",
       "    }\n",
       "</style>\n",
       "<table border=\"1\" class=\"dataframe\">\n",
       "  <thead>\n",
       "    <tr style=\"text-align: right;\">\n",
       "      <th></th>\n",
       "      <th>h2_flux</th>\n",
       "      <th>deltaH2</th>\n",
       "      <th>deltaCH4</th>\n",
       "    </tr>\n",
       "  </thead>\n",
       "  <tbody>\n",
       "    <tr>\n",
       "      <th>CNTR</th>\n",
       "      <td>87.2</td>\n",
       "      <td>0.00</td>\n",
       "      <td>-0.75</td>\n",
       "    </tr>\n",
       "    <tr>\n",
       "      <th>antro01</th>\n",
       "      <td>87.3</td>\n",
       "      <td>0.10</td>\n",
       "      <td>-0.75</td>\n",
       "    </tr>\n",
       "    <tr>\n",
       "      <th>antro1</th>\n",
       "      <td>88.2</td>\n",
       "      <td>0.99</td>\n",
       "      <td>-0.75</td>\n",
       "    </tr>\n",
       "    <tr>\n",
       "      <th>antro10</th>\n",
       "      <td>97.1</td>\n",
       "      <td>9.90</td>\n",
       "      <td>-0.75</td>\n",
       "    </tr>\n",
       "    <tr>\n",
       "      <th>antro100</th>\n",
       "      <td>186</td>\n",
       "      <td>99.1</td>\n",
       "      <td>-0.75</td>\n",
       "    </tr>\n",
       "    <tr>\n",
       "      <th>nemo</th>\n",
       "      <td>88.2</td>\n",
       "      <td>0.99</td>\n",
       "      <td>-0.75</td>\n",
       "    </tr>\n",
       "    <tr>\n",
       "      <th>epia</th>\n",
       "      <td>88.2</td>\n",
       "      <td>0.99</td>\n",
       "      <td>-0.75</td>\n",
       "    </tr>\n",
       "    <tr>\n",
       "      <th>munich</th>\n",
       "      <td>88.2</td>\n",
       "      <td>0.99</td>\n",
       "      <td>-0.75</td>\n",
       "    </tr>\n",
       "    <tr>\n",
       "      <th>usdrydep</th>\n",
       "      <td>88.2</td>\n",
       "      <td>0.99</td>\n",
       "      <td>-0.75</td>\n",
       "    </tr>\n",
       "    <tr>\n",
       "      <th>maud</th>\n",
       "      <td>88.2</td>\n",
       "      <td>0.99</td>\n",
       "      <td>-0.75</td>\n",
       "    </tr>\n",
       "    <tr>\n",
       "      <th>zep</th>\n",
       "      <td>88.2</td>\n",
       "      <td>0.99</td>\n",
       "      <td>-0.75</td>\n",
       "    </tr>\n",
       "    <tr>\n",
       "      <th>maxdep</th>\n",
       "      <td>88.2</td>\n",
       "      <td>0.99</td>\n",
       "      <td>-0.75</td>\n",
       "    </tr>\n",
       "  </tbody>\n",
       "</table>\n",
       "</div>"
      ],
      "text/plain": [
       "          h2_flux  deltaH2  deltaCH4\n",
       "CNTR         87.2     0.00     -0.75\n",
       "antro01      87.3     0.10     -0.75\n",
       "antro1       88.2     0.99     -0.75\n",
       "antro10      97.1     9.90     -0.75\n",
       "antro100      186     99.1     -0.75\n",
       "nemo         88.2     0.99     -0.75\n",
       "epia         88.2     0.99     -0.75\n",
       "munich       88.2     0.99     -0.75\n",
       "usdrydep     88.2     0.99     -0.75\n",
       "maud         88.2     0.99     -0.75\n",
       "zep          88.2     0.99     -0.75\n",
       "maxdep       88.2     0.99     -0.75"
      ]
     },
     "execution_count": 76,
     "metadata": {},
     "output_type": "execute_result"
    }
   ],
   "source": [
    "df_h2_flux"
   ]
  },
  {
   "cell_type": "markdown",
   "metadata": {},
   "source": [
    "### Change in H2 flux caused by 1 TgCH4/yr [Tg H2/Tg CH4]"
   ]
  },
  {
   "cell_type": "markdown",
   "metadata": {},
   "source": [
    "We multiply by -1 (see above)"
   ]
  },
  {
   "cell_type": "code",
   "execution_count": 77,
   "metadata": {},
   "outputs": [
    {
     "data": {
      "text/plain": [
       "CNTR       0.02\n",
       "antro01    0.02\n",
       "antro1     0.02\n",
       "antro10    0.02\n",
       "antro100   0.02\n",
       "nemo       0.02\n",
       "epia       0.02\n",
       "munich     0.02\n",
       "usdrydep   0.02\n",
       "maud       0.02\n",
       "zep        0.02\n",
       "maxdep     0.02\n",
       "Name: h2_flux_per_ch4_flux, dtype: float64"
      ]
     },
     "execution_count": 77,
     "metadata": {},
     "output_type": "execute_result"
    }
   ],
   "source": [
    "df_h2_flux_per_ch4_flux = -1.0*df_h2_flux['deltaCH4']/df_ch4_flux.loc['deltaCH4']\n",
    "df_h2_flux_per_ch4_flux.name = 'h2_flux_per_ch4_flux'\n",
    "df_h2_flux_per_ch4_flux\n",
    "\n"
   ]
  },
  {
   "cell_type": "code",
   "execution_count": null,
   "metadata": {},
   "outputs": [],
   "source": []
  },
  {
   "cell_type": "markdown",
   "metadata": {},
   "source": [
    "### HYDROGEN AGWP100 CH4 [mW m-2 yr Tg-1]"
   ]
  },
  {
   "cell_type": "markdown",
   "metadata": {},
   "source": [
    "agwp_ch4 = RF per flux H2"
   ]
  },
  {
   "cell_type": "code",
   "execution_count": 78,
   "metadata": {},
   "outputs": [
    {
     "data": {
      "text/plain": [
       "CNTR        nan\n",
       "antro01    0.43\n",
       "antro1     0.43\n",
       "antro10    0.43\n",
       "antro100   0.41\n",
       "nemo       0.50\n",
       "epia       0.39\n",
       "munich     0.41\n",
       "usdrydep   0.36\n",
       "maud       0.50\n",
       "zep        0.41\n",
       "maxdep     0.40\n",
       "Name: h2_agwp_ch4, dtype: float64"
      ]
     },
     "execution_count": 78,
     "metadata": {},
     "output_type": "execute_result"
    }
   ],
   "source": [
    "df_h2_agwp_ch4 = df_surf_ch4_per_h2_flux*spec_rf_ch4\n",
    "df_h2_agwp_ch4.name = 'h2_agwp_ch4'\n",
    "df_h2_agwp_ch4"
   ]
  },
  {
   "cell_type": "code",
   "execution_count": 79,
   "metadata": {},
   "outputs": [
    {
     "data": {
      "text/plain": [
       "CNTR        nan\n",
       "antro01    0.43\n",
       "antro1     0.43\n",
       "antro10    0.43\n",
       "antro100   0.41\n",
       "nemo       0.50\n",
       "epia       0.39\n",
       "munich     0.41\n",
       "usdrydep   0.36\n",
       "maud       0.50\n",
       "zep        0.41\n",
       "maxdep     0.40\n",
       "Name: ch4_rf_per_h2_flux, dtype: float64"
      ]
     },
     "execution_count": 79,
     "metadata": {},
     "output_type": "execute_result"
    }
   ],
   "source": [
    "#agwp_ch4 = RF per flux H2 (For the per flux table)\n",
    "df_ch4_rf_per_h2_flux = df_surf_ch4_per_h2_flux*spec_rf_ch4\n",
    "df_ch4_rf_per_h2_flux.name = 'ch4_rf_per_h2_flux'\n",
    "\n",
    "df_ch4_rf_per_h2_flux"
   ]
  },
  {
   "cell_type": "markdown",
   "metadata": {},
   "source": [
    "### Initialize H2 GWP table"
   ]
  },
  {
   "cell_type": "code",
   "execution_count": 80,
   "metadata": {},
   "outputs": [
    {
     "data": {
      "text/html": [
       "<div>\n",
       "<style scoped>\n",
       "    .dataframe tbody tr th:only-of-type {\n",
       "        vertical-align: middle;\n",
       "    }\n",
       "\n",
       "    .dataframe tbody tr th {\n",
       "        vertical-align: top;\n",
       "    }\n",
       "\n",
       "    .dataframe thead th {\n",
       "        text-align: right;\n",
       "    }\n",
       "</style>\n",
       "<table border=\"1\" class=\"dataframe\">\n",
       "  <thead>\n",
       "    <tr style=\"text-align: right;\">\n",
       "      <th></th>\n",
       "      <th>CNTR</th>\n",
       "      <th>antro01</th>\n",
       "      <th>antro1</th>\n",
       "      <th>antro10</th>\n",
       "      <th>antro100</th>\n",
       "      <th>nemo</th>\n",
       "      <th>epia</th>\n",
       "      <th>munich</th>\n",
       "      <th>usdrydep</th>\n",
       "      <th>maud</th>\n",
       "      <th>zep</th>\n",
       "      <th>maxdep</th>\n",
       "    </tr>\n",
       "  </thead>\n",
       "  <tbody>\n",
       "    <tr>\n",
       "      <th>O3</th>\n",
       "      <td>nan</td>\n",
       "      <td>nan</td>\n",
       "      <td>nan</td>\n",
       "      <td>nan</td>\n",
       "      <td>nan</td>\n",
       "      <td>nan</td>\n",
       "      <td>nan</td>\n",
       "      <td>nan</td>\n",
       "      <td>nan</td>\n",
       "      <td>nan</td>\n",
       "      <td>nan</td>\n",
       "      <td>nan</td>\n",
       "    </tr>\n",
       "    <tr>\n",
       "      <th>CH4</th>\n",
       "      <td>nan</td>\n",
       "      <td>nan</td>\n",
       "      <td>nan</td>\n",
       "      <td>nan</td>\n",
       "      <td>nan</td>\n",
       "      <td>nan</td>\n",
       "      <td>nan</td>\n",
       "      <td>nan</td>\n",
       "      <td>nan</td>\n",
       "      <td>nan</td>\n",
       "      <td>nan</td>\n",
       "      <td>nan</td>\n",
       "    </tr>\n",
       "    <tr>\n",
       "      <th>strat H2O</th>\n",
       "      <td>nan</td>\n",
       "      <td>nan</td>\n",
       "      <td>nan</td>\n",
       "      <td>nan</td>\n",
       "      <td>nan</td>\n",
       "      <td>nan</td>\n",
       "      <td>nan</td>\n",
       "      <td>nan</td>\n",
       "      <td>nan</td>\n",
       "      <td>nan</td>\n",
       "      <td>nan</td>\n",
       "      <td>nan</td>\n",
       "    </tr>\n",
       "    <tr>\n",
       "      <th>O3 CH4ind</th>\n",
       "      <td>nan</td>\n",
       "      <td>nan</td>\n",
       "      <td>nan</td>\n",
       "      <td>nan</td>\n",
       "      <td>nan</td>\n",
       "      <td>nan</td>\n",
       "      <td>nan</td>\n",
       "      <td>nan</td>\n",
       "      <td>nan</td>\n",
       "      <td>nan</td>\n",
       "      <td>nan</td>\n",
       "      <td>nan</td>\n",
       "    </tr>\n",
       "    <tr>\n",
       "      <th>strat H2O CH4ind</th>\n",
       "      <td>nan</td>\n",
       "      <td>nan</td>\n",
       "      <td>nan</td>\n",
       "      <td>nan</td>\n",
       "      <td>nan</td>\n",
       "      <td>nan</td>\n",
       "      <td>nan</td>\n",
       "      <td>nan</td>\n",
       "      <td>nan</td>\n",
       "      <td>nan</td>\n",
       "      <td>nan</td>\n",
       "      <td>nan</td>\n",
       "    </tr>\n",
       "  </tbody>\n",
       "</table>\n",
       "</div>"
      ],
      "text/plain": [
       "                  CNTR  antro01  antro1  antro10  antro100  nemo  epia  \\\n",
       "O3                 nan      nan     nan      nan       nan   nan   nan   \n",
       "CH4                nan      nan     nan      nan       nan   nan   nan   \n",
       "strat H2O          nan      nan     nan      nan       nan   nan   nan   \n",
       "O3 CH4ind          nan      nan     nan      nan       nan   nan   nan   \n",
       "strat H2O CH4ind   nan      nan     nan      nan       nan   nan   nan   \n",
       "\n",
       "                  munich  usdrydep  maud  zep  maxdep  \n",
       "O3                   nan       nan   nan  nan     nan  \n",
       "CH4                  nan       nan   nan  nan     nan  \n",
       "strat H2O            nan       nan   nan  nan     nan  \n",
       "O3 CH4ind            nan       nan   nan  nan     nan  \n",
       "strat H2O CH4ind     nan       nan   nan  nan     nan  "
      ]
     },
     "execution_count": 80,
     "metadata": {},
     "output_type": "execute_result"
    }
   ],
   "source": [
    "antmod = len(df_h2_agwp_ch4.index)\n",
    "df_h2_gwp = pd.DataFrame(np.empty([5,antmod])*np.nan,columns=df_h2_agwp_ch4.index,\n",
    "                         index=['O3','CH4','strat H2O','O3 CH4ind','strat H2O CH4ind'])\n",
    "df_h2_gwp"
   ]
  },
  {
   "cell_type": "markdown",
   "metadata": {},
   "source": [
    "### Add methane GWP"
   ]
  },
  {
   "cell_type": "code",
   "execution_count": 81,
   "metadata": {},
   "outputs": [
    {
     "data": {
      "text/html": [
       "<div>\n",
       "<style scoped>\n",
       "    .dataframe tbody tr th:only-of-type {\n",
       "        vertical-align: middle;\n",
       "    }\n",
       "\n",
       "    .dataframe tbody tr th {\n",
       "        vertical-align: top;\n",
       "    }\n",
       "\n",
       "    .dataframe thead th {\n",
       "        text-align: right;\n",
       "    }\n",
       "</style>\n",
       "<table border=\"1\" class=\"dataframe\">\n",
       "  <thead>\n",
       "    <tr style=\"text-align: right;\">\n",
       "      <th></th>\n",
       "      <th>CNTR</th>\n",
       "      <th>antro01</th>\n",
       "      <th>antro1</th>\n",
       "      <th>antro10</th>\n",
       "      <th>antro100</th>\n",
       "      <th>nemo</th>\n",
       "      <th>epia</th>\n",
       "      <th>munich</th>\n",
       "      <th>usdrydep</th>\n",
       "      <th>maud</th>\n",
       "      <th>zep</th>\n",
       "      <th>maxdep</th>\n",
       "    </tr>\n",
       "  </thead>\n",
       "  <tbody>\n",
       "    <tr>\n",
       "      <th>O3</th>\n",
       "      <td>nan</td>\n",
       "      <td>nan</td>\n",
       "      <td>nan</td>\n",
       "      <td>nan</td>\n",
       "      <td>nan</td>\n",
       "      <td>nan</td>\n",
       "      <td>nan</td>\n",
       "      <td>nan</td>\n",
       "      <td>nan</td>\n",
       "      <td>nan</td>\n",
       "      <td>nan</td>\n",
       "      <td>nan</td>\n",
       "    </tr>\n",
       "    <tr>\n",
       "      <th>CH4</th>\n",
       "      <td>nan</td>\n",
       "      <td>4.78</td>\n",
       "      <td>4.82</td>\n",
       "      <td>4.80</td>\n",
       "      <td>4.56</td>\n",
       "      <td>5.56</td>\n",
       "      <td>4.33</td>\n",
       "      <td>4.63</td>\n",
       "      <td>3.97</td>\n",
       "      <td>5.57</td>\n",
       "      <td>4.57</td>\n",
       "      <td>4.42</td>\n",
       "    </tr>\n",
       "    <tr>\n",
       "      <th>strat H2O</th>\n",
       "      <td>nan</td>\n",
       "      <td>nan</td>\n",
       "      <td>nan</td>\n",
       "      <td>nan</td>\n",
       "      <td>nan</td>\n",
       "      <td>nan</td>\n",
       "      <td>nan</td>\n",
       "      <td>nan</td>\n",
       "      <td>nan</td>\n",
       "      <td>nan</td>\n",
       "      <td>nan</td>\n",
       "      <td>nan</td>\n",
       "    </tr>\n",
       "    <tr>\n",
       "      <th>O3 CH4ind</th>\n",
       "      <td>nan</td>\n",
       "      <td>nan</td>\n",
       "      <td>nan</td>\n",
       "      <td>nan</td>\n",
       "      <td>nan</td>\n",
       "      <td>nan</td>\n",
       "      <td>nan</td>\n",
       "      <td>nan</td>\n",
       "      <td>nan</td>\n",
       "      <td>nan</td>\n",
       "      <td>nan</td>\n",
       "      <td>nan</td>\n",
       "    </tr>\n",
       "    <tr>\n",
       "      <th>strat H2O CH4ind</th>\n",
       "      <td>nan</td>\n",
       "      <td>nan</td>\n",
       "      <td>nan</td>\n",
       "      <td>nan</td>\n",
       "      <td>nan</td>\n",
       "      <td>nan</td>\n",
       "      <td>nan</td>\n",
       "      <td>nan</td>\n",
       "      <td>nan</td>\n",
       "      <td>nan</td>\n",
       "      <td>nan</td>\n",
       "      <td>nan</td>\n",
       "    </tr>\n",
       "  </tbody>\n",
       "</table>\n",
       "</div>"
      ],
      "text/plain": [
       "                  CNTR  antro01  antro1  antro10  antro100  nemo  epia  \\\n",
       "O3                 nan      nan     nan      nan       nan   nan   nan   \n",
       "CH4                nan     4.78    4.82     4.80      4.56  5.56  4.33   \n",
       "strat H2O          nan      nan     nan      nan       nan   nan   nan   \n",
       "O3 CH4ind          nan      nan     nan      nan       nan   nan   nan   \n",
       "strat H2O CH4ind   nan      nan     nan      nan       nan   nan   nan   \n",
       "\n",
       "                  munich  usdrydep  maud  zep  maxdep  \n",
       "O3                   nan       nan   nan  nan     nan  \n",
       "CH4                 4.63      3.97  5.57 4.57    4.42  \n",
       "strat H2O            nan       nan   nan  nan     nan  \n",
       "O3 CH4ind            nan       nan   nan  nan     nan  \n",
       "strat H2O CH4ind     nan       nan   nan  nan     nan  "
      ]
     },
     "execution_count": 81,
     "metadata": {},
     "output_type": "execute_result"
    }
   ],
   "source": [
    "df_h2_gwp.loc['CH4'] = df_h2_agwp_ch4/agwp100_CO2\n",
    "df_h2_gwp"
   ]
  },
  {
   "cell_type": "markdown",
   "metadata": {},
   "source": [
    "### HYDROGEN AGWP100 strat H2O [mW m-2 yr Tg-1]"
   ]
  },
  {
   "cell_type": "code",
   "execution_count": 82,
   "metadata": {},
   "outputs": [
    {
     "data": {
      "text/plain": [
       "CNTR        nan\n",
       "antro01    0.17\n",
       "antro1     0.17\n",
       "antro10    0.17\n",
       "antro100   0.17\n",
       "nemo       0.18\n",
       "epia       0.14\n",
       "munich     0.15\n",
       "usdrydep   0.13\n",
       "maud       0.18\n",
       "zep        0.15\n",
       "maxdep     0.16\n",
       "dtype: float64"
      ]
     },
     "execution_count": 82,
     "metadata": {},
     "output_type": "execute_result"
    }
   ],
   "source": [
    "df_h2_agwp_h2o = df_h2o_rf.loc['10H2'].astype(float)/df_h2_flux['deltaH2']\n",
    "df_h2_agwp_h2o"
   ]
  },
  {
   "cell_type": "code",
   "execution_count": 83,
   "metadata": {},
   "outputs": [],
   "source": [
    "#Add to the flux table\n",
    "df_h2o_rf_per_h2_flux = df_h2o_rf.loc['10H2'].astype(float)/df_h2_flux['deltaH2']\n",
    "df_h2o_rf_per_h2_flux.name= 'h2o_rf_per_h2_flux'\n",
    "\n",
    "\n",
    "#Strat H2O RF per methane flux \n",
    "df_h2o_rf_per_ch4_flux = df_h2o_rf.loc['10CH4']/df_ch4_flux.loc['deltaCH4']\n",
    "df_h2o_rf_per_ch4_flux.name = 'h2o_rf_per_ch4_flux'\n"
   ]
  },
  {
   "cell_type": "code",
   "execution_count": 84,
   "metadata": {},
   "outputs": [],
   "source": [
    "#df_h2o_rf_per_ch4_flux['OSLOCTM3-emi'] = df_h2o_rf_per_ch4_flux['OSLOCTM3']\n",
    "#df_h2o_rf_per_ch4_flux"
   ]
  },
  {
   "cell_type": "markdown",
   "metadata": {},
   "source": [
    "### Add stratospheric H2O GWP"
   ]
  },
  {
   "cell_type": "code",
   "execution_count": 85,
   "metadata": {},
   "outputs": [
    {
     "data": {
      "text/html": [
       "<div>\n",
       "<style scoped>\n",
       "    .dataframe tbody tr th:only-of-type {\n",
       "        vertical-align: middle;\n",
       "    }\n",
       "\n",
       "    .dataframe tbody tr th {\n",
       "        vertical-align: top;\n",
       "    }\n",
       "\n",
       "    .dataframe thead th {\n",
       "        text-align: right;\n",
       "    }\n",
       "</style>\n",
       "<table border=\"1\" class=\"dataframe\">\n",
       "  <thead>\n",
       "    <tr style=\"text-align: right;\">\n",
       "      <th></th>\n",
       "      <th>CNTR</th>\n",
       "      <th>antro01</th>\n",
       "      <th>antro1</th>\n",
       "      <th>antro10</th>\n",
       "      <th>antro100</th>\n",
       "      <th>nemo</th>\n",
       "      <th>epia</th>\n",
       "      <th>munich</th>\n",
       "      <th>usdrydep</th>\n",
       "      <th>maud</th>\n",
       "      <th>zep</th>\n",
       "      <th>maxdep</th>\n",
       "    </tr>\n",
       "  </thead>\n",
       "  <tbody>\n",
       "    <tr>\n",
       "      <th>O3</th>\n",
       "      <td>nan</td>\n",
       "      <td>nan</td>\n",
       "      <td>nan</td>\n",
       "      <td>nan</td>\n",
       "      <td>nan</td>\n",
       "      <td>nan</td>\n",
       "      <td>nan</td>\n",
       "      <td>nan</td>\n",
       "      <td>nan</td>\n",
       "      <td>nan</td>\n",
       "      <td>nan</td>\n",
       "      <td>nan</td>\n",
       "    </tr>\n",
       "    <tr>\n",
       "      <th>CH4</th>\n",
       "      <td>nan</td>\n",
       "      <td>4.78</td>\n",
       "      <td>4.82</td>\n",
       "      <td>4.80</td>\n",
       "      <td>4.56</td>\n",
       "      <td>5.56</td>\n",
       "      <td>4.33</td>\n",
       "      <td>4.63</td>\n",
       "      <td>3.97</td>\n",
       "      <td>5.57</td>\n",
       "      <td>4.57</td>\n",
       "      <td>4.42</td>\n",
       "    </tr>\n",
       "    <tr>\n",
       "      <th>strat H2O</th>\n",
       "      <td>nan</td>\n",
       "      <td>1.87</td>\n",
       "      <td>1.87</td>\n",
       "      <td>1.88</td>\n",
       "      <td>1.90</td>\n",
       "      <td>2.05</td>\n",
       "      <td>1.57</td>\n",
       "      <td>1.69</td>\n",
       "      <td>1.45</td>\n",
       "      <td>2.05</td>\n",
       "      <td>1.65</td>\n",
       "      <td>1.80</td>\n",
       "    </tr>\n",
       "    <tr>\n",
       "      <th>O3 CH4ind</th>\n",
       "      <td>nan</td>\n",
       "      <td>nan</td>\n",
       "      <td>nan</td>\n",
       "      <td>nan</td>\n",
       "      <td>nan</td>\n",
       "      <td>nan</td>\n",
       "      <td>nan</td>\n",
       "      <td>nan</td>\n",
       "      <td>nan</td>\n",
       "      <td>nan</td>\n",
       "      <td>nan</td>\n",
       "      <td>nan</td>\n",
       "    </tr>\n",
       "    <tr>\n",
       "      <th>strat H2O CH4ind</th>\n",
       "      <td>nan</td>\n",
       "      <td>nan</td>\n",
       "      <td>nan</td>\n",
       "      <td>nan</td>\n",
       "      <td>nan</td>\n",
       "      <td>nan</td>\n",
       "      <td>nan</td>\n",
       "      <td>nan</td>\n",
       "      <td>nan</td>\n",
       "      <td>nan</td>\n",
       "      <td>nan</td>\n",
       "      <td>nan</td>\n",
       "    </tr>\n",
       "  </tbody>\n",
       "</table>\n",
       "</div>"
      ],
      "text/plain": [
       "                  CNTR  antro01  antro1  antro10  antro100  nemo  epia  \\\n",
       "O3                 nan      nan     nan      nan       nan   nan   nan   \n",
       "CH4                nan     4.78    4.82     4.80      4.56  5.56  4.33   \n",
       "strat H2O          nan     1.87    1.87     1.88      1.90  2.05  1.57   \n",
       "O3 CH4ind          nan      nan     nan      nan       nan   nan   nan   \n",
       "strat H2O CH4ind   nan      nan     nan      nan       nan   nan   nan   \n",
       "\n",
       "                  munich  usdrydep  maud  zep  maxdep  \n",
       "O3                   nan       nan   nan  nan     nan  \n",
       "CH4                 4.63      3.97  5.57 4.57    4.42  \n",
       "strat H2O           1.69      1.45  2.05 1.65    1.80  \n",
       "O3 CH4ind            nan       nan   nan  nan     nan  \n",
       "strat H2O CH4ind     nan       nan   nan  nan     nan  "
      ]
     },
     "execution_count": 85,
     "metadata": {},
     "output_type": "execute_result"
    }
   ],
   "source": [
    "df_h2_gwp.loc['strat H2O'] = df_h2_agwp_h2o/agwp100_CO2\n",
    "df_h2_gwp"
   ]
  },
  {
   "cell_type": "markdown",
   "metadata": {},
   "source": [
    "### HYDROGEN AGWP100 O3 [mW m-2 yr Tg-1]"
   ]
  },
  {
   "cell_type": "code",
   "execution_count": 86,
   "metadata": {},
   "outputs": [
    {
     "data": {
      "text/plain": [
       "CNTR        nan\n",
       "antro01    0.19\n",
       "antro1     0.21\n",
       "antro10    0.22\n",
       "antro100   0.22\n",
       "nemo       0.23\n",
       "epia       0.18\n",
       "munich     0.20\n",
       "usdrydep   0.17\n",
       "maud       0.23\n",
       "zep        0.19\n",
       "maxdep     0.20\n",
       "Name: h2_agwp_o3, dtype: float64"
      ]
     },
     "execution_count": 86,
     "metadata": {},
     "output_type": "execute_result"
    }
   ],
   "source": [
    "df_h2_agwp_o3 = df_ozone_rf.loc['10H2'].astype(float)/df_h2_flux['deltaH2']\n",
    "df_h2_agwp_o3.name = 'h2_agwp_o3'\n",
    "\n",
    "df_h2_agwp_o3"
   ]
  },
  {
   "cell_type": "code",
   "execution_count": 87,
   "metadata": {},
   "outputs": [
    {
     "data": {
      "text/plain": [
       "CNTR        nan\n",
       "antro01    0.19\n",
       "antro1     0.21\n",
       "antro10    0.22\n",
       "antro100   0.22\n",
       "nemo       0.23\n",
       "epia       0.18\n",
       "munich     0.20\n",
       "usdrydep   0.17\n",
       "maud       0.23\n",
       "zep        0.19\n",
       "maxdep     0.20\n",
       "Name: ozone_rf_per_h2_flux, dtype: float64"
      ]
     },
     "execution_count": 87,
     "metadata": {},
     "output_type": "execute_result"
    }
   ],
   "source": [
    "#Similar, but use only the H2 Ozone RF for GFDL. To be used in the table:\n",
    "df_ozone_rf_per_h2_flux = df_ozone_rf.loc['10H2'].astype(float)/df_h2_flux['deltaH2']\n",
    "df_ozone_rf_per_h2_flux.name= 'ozone_rf_per_h2_flux'\n",
    "\n",
    "df_ozone_rf_per_h2_flux\n"
   ]
  },
  {
   "cell_type": "code",
   "execution_count": 88,
   "metadata": {},
   "outputs": [],
   "source": [
    "#Ozone RF per methane flux (move to the methane part?)\n",
    "df_ozone_rf_per_ch4_flux = df_ozone_rf.loc['10CH4']/df_ch4_flux.loc['deltaCH4']\n",
    "df_ozone_rf_per_ch4_flux.name = 'ozone_rf_per_ch4_flux'"
   ]
  },
  {
   "cell_type": "code",
   "execution_count": 89,
   "metadata": {},
   "outputs": [
    {
     "data": {
      "text/plain": [
       "CNTR       0.82\n",
       "antro01    0.82\n",
       "antro1     0.82\n",
       "antro10    0.82\n",
       "antro100   0.82\n",
       "nemo       0.82\n",
       "epia       0.82\n",
       "munich     0.82\n",
       "usdrydep   0.82\n",
       "maud       0.82\n",
       "zep        0.82\n",
       "maxdep     0.82\n",
       "Name: ozone_rf_per_ch4_flux, dtype: object"
      ]
     },
     "execution_count": 89,
     "metadata": {},
     "output_type": "execute_result"
    }
   ],
   "source": [
    "df_ozone_rf_per_ch4_flux"
   ]
  },
  {
   "cell_type": "markdown",
   "metadata": {},
   "source": [
    "### Add Ozone GWP"
   ]
  },
  {
   "cell_type": "code",
   "execution_count": 90,
   "metadata": {},
   "outputs": [
    {
     "data": {
      "text/html": [
       "<div>\n",
       "<style scoped>\n",
       "    .dataframe tbody tr th:only-of-type {\n",
       "        vertical-align: middle;\n",
       "    }\n",
       "\n",
       "    .dataframe tbody tr th {\n",
       "        vertical-align: top;\n",
       "    }\n",
       "\n",
       "    .dataframe thead th {\n",
       "        text-align: right;\n",
       "    }\n",
       "</style>\n",
       "<table border=\"1\" class=\"dataframe\">\n",
       "  <thead>\n",
       "    <tr style=\"text-align: right;\">\n",
       "      <th></th>\n",
       "      <th>CNTR</th>\n",
       "      <th>antro01</th>\n",
       "      <th>antro1</th>\n",
       "      <th>antro10</th>\n",
       "      <th>antro100</th>\n",
       "      <th>nemo</th>\n",
       "      <th>epia</th>\n",
       "      <th>munich</th>\n",
       "      <th>usdrydep</th>\n",
       "      <th>maud</th>\n",
       "      <th>zep</th>\n",
       "      <th>maxdep</th>\n",
       "    </tr>\n",
       "  </thead>\n",
       "  <tbody>\n",
       "    <tr>\n",
       "      <th>O3</th>\n",
       "      <td>nan</td>\n",
       "      <td>2.13</td>\n",
       "      <td>2.38</td>\n",
       "      <td>2.42</td>\n",
       "      <td>2.41</td>\n",
       "      <td>2.59</td>\n",
       "      <td>2.06</td>\n",
       "      <td>2.22</td>\n",
       "      <td>1.89</td>\n",
       "      <td>2.62</td>\n",
       "      <td>2.14</td>\n",
       "      <td>2.27</td>\n",
       "    </tr>\n",
       "    <tr>\n",
       "      <th>CH4</th>\n",
       "      <td>nan</td>\n",
       "      <td>4.78</td>\n",
       "      <td>4.82</td>\n",
       "      <td>4.80</td>\n",
       "      <td>4.56</td>\n",
       "      <td>5.56</td>\n",
       "      <td>4.33</td>\n",
       "      <td>4.63</td>\n",
       "      <td>3.97</td>\n",
       "      <td>5.57</td>\n",
       "      <td>4.57</td>\n",
       "      <td>4.42</td>\n",
       "    </tr>\n",
       "    <tr>\n",
       "      <th>strat H2O</th>\n",
       "      <td>nan</td>\n",
       "      <td>1.87</td>\n",
       "      <td>1.87</td>\n",
       "      <td>1.88</td>\n",
       "      <td>1.90</td>\n",
       "      <td>2.05</td>\n",
       "      <td>1.57</td>\n",
       "      <td>1.69</td>\n",
       "      <td>1.45</td>\n",
       "      <td>2.05</td>\n",
       "      <td>1.65</td>\n",
       "      <td>1.80</td>\n",
       "    </tr>\n",
       "    <tr>\n",
       "      <th>O3 CH4ind</th>\n",
       "      <td>nan</td>\n",
       "      <td>nan</td>\n",
       "      <td>nan</td>\n",
       "      <td>nan</td>\n",
       "      <td>nan</td>\n",
       "      <td>nan</td>\n",
       "      <td>nan</td>\n",
       "      <td>nan</td>\n",
       "      <td>nan</td>\n",
       "      <td>nan</td>\n",
       "      <td>nan</td>\n",
       "      <td>nan</td>\n",
       "    </tr>\n",
       "    <tr>\n",
       "      <th>strat H2O CH4ind</th>\n",
       "      <td>nan</td>\n",
       "      <td>nan</td>\n",
       "      <td>nan</td>\n",
       "      <td>nan</td>\n",
       "      <td>nan</td>\n",
       "      <td>nan</td>\n",
       "      <td>nan</td>\n",
       "      <td>nan</td>\n",
       "      <td>nan</td>\n",
       "      <td>nan</td>\n",
       "      <td>nan</td>\n",
       "      <td>nan</td>\n",
       "    </tr>\n",
       "  </tbody>\n",
       "</table>\n",
       "</div>"
      ],
      "text/plain": [
       "                  CNTR  antro01  antro1  antro10  antro100  nemo  epia  \\\n",
       "O3                 nan     2.13    2.38     2.42      2.41  2.59  2.06   \n",
       "CH4                nan     4.78    4.82     4.80      4.56  5.56  4.33   \n",
       "strat H2O          nan     1.87    1.87     1.88      1.90  2.05  1.57   \n",
       "O3 CH4ind          nan      nan     nan      nan       nan   nan   nan   \n",
       "strat H2O CH4ind   nan      nan     nan      nan       nan   nan   nan   \n",
       "\n",
       "                  munich  usdrydep  maud  zep  maxdep  \n",
       "O3                  2.22      1.89  2.62 2.14    2.27  \n",
       "CH4                 4.63      3.97  5.57 4.57    4.42  \n",
       "strat H2O           1.69      1.45  2.05 1.65    1.80  \n",
       "O3 CH4ind            nan       nan   nan  nan     nan  \n",
       "strat H2O CH4ind     nan       nan   nan  nan     nan  "
      ]
     },
     "execution_count": 90,
     "metadata": {},
     "output_type": "execute_result"
    }
   ],
   "source": [
    "df_h2_gwp.loc['O3'] = df_h2_agwp_o3/agwp100_CO2\n",
    "df_h2_gwp"
   ]
  },
  {
   "cell_type": "markdown",
   "metadata": {},
   "source": [
    "### For the per flux table"
   ]
  },
  {
   "cell_type": "code",
   "execution_count": 91,
   "metadata": {},
   "outputs": [
    {
     "data": {
      "text/html": [
       "<div>\n",
       "<style scoped>\n",
       "    .dataframe tbody tr th:only-of-type {\n",
       "        vertical-align: middle;\n",
       "    }\n",
       "\n",
       "    .dataframe tbody tr th {\n",
       "        vertical-align: top;\n",
       "    }\n",
       "\n",
       "    .dataframe thead th {\n",
       "        text-align: right;\n",
       "    }\n",
       "</style>\n",
       "<table border=\"1\" class=\"dataframe\">\n",
       "  <thead>\n",
       "    <tr style=\"text-align: right;\">\n",
       "      <th></th>\n",
       "      <th>CNTR</th>\n",
       "      <th>antro01</th>\n",
       "      <th>antro1</th>\n",
       "      <th>antro10</th>\n",
       "      <th>antro100</th>\n",
       "      <th>nemo</th>\n",
       "      <th>epia</th>\n",
       "      <th>munich</th>\n",
       "      <th>usdrydep</th>\n",
       "      <th>maud</th>\n",
       "      <th>zep</th>\n",
       "      <th>maxdep</th>\n",
       "    </tr>\n",
       "    <tr>\n",
       "      <th>Scenario</th>\n",
       "      <th></th>\n",
       "      <th></th>\n",
       "      <th></th>\n",
       "      <th></th>\n",
       "      <th></th>\n",
       "      <th></th>\n",
       "      <th></th>\n",
       "      <th></th>\n",
       "      <th></th>\n",
       "      <th></th>\n",
       "      <th></th>\n",
       "      <th></th>\n",
       "    </tr>\n",
       "  </thead>\n",
       "  <tbody>\n",
       "    <tr>\n",
       "      <th>YR13</th>\n",
       "      <td>725</td>\n",
       "      <td>725</td>\n",
       "      <td>724</td>\n",
       "      <td>722</td>\n",
       "      <td>696</td>\n",
       "      <td>724</td>\n",
       "      <td>724</td>\n",
       "      <td>724</td>\n",
       "      <td>724</td>\n",
       "      <td>724</td>\n",
       "      <td>724</td>\n",
       "      <td>724</td>\n",
       "    </tr>\n",
       "    <tr>\n",
       "      <th>deltaH2</th>\n",
       "      <td>0.00</td>\n",
       "      <td>-0.03</td>\n",
       "      <td>-0.30</td>\n",
       "      <td>-3.03</td>\n",
       "      <td>-28.7</td>\n",
       "      <td>-0.35</td>\n",
       "      <td>-0.27</td>\n",
       "      <td>-0.29</td>\n",
       "      <td>-0.25</td>\n",
       "      <td>-0.35</td>\n",
       "      <td>-0.29</td>\n",
       "      <td>-0.28</td>\n",
       "    </tr>\n",
       "    <tr>\n",
       "      <th>deltaCH4</th>\n",
       "      <td>49.7</td>\n",
       "      <td>49.7</td>\n",
       "      <td>49.7</td>\n",
       "      <td>49.7</td>\n",
       "      <td>49.7</td>\n",
       "      <td>49.7</td>\n",
       "      <td>49.7</td>\n",
       "      <td>49.7</td>\n",
       "      <td>49.7</td>\n",
       "      <td>49.7</td>\n",
       "      <td>49.7</td>\n",
       "      <td>49.7</td>\n",
       "    </tr>\n",
       "  </tbody>\n",
       "</table>\n",
       "</div>"
      ],
      "text/plain": [
       "          CNTR  antro01  antro1  antro10  antro100  nemo  epia  munich  \\\n",
       "Scenario                                                                 \n",
       "YR13       725      725     724      722       696   724   724     724   \n",
       "deltaH2   0.00    -0.03   -0.30    -3.03     -28.7 -0.35 -0.27   -0.29   \n",
       "deltaCH4  49.7     49.7    49.7     49.7      49.7  49.7  49.7    49.7   \n",
       "\n",
       "          usdrydep  maud   zep  maxdep  \n",
       "Scenario                                \n",
       "YR13           724   724   724     724  \n",
       "deltaH2      -0.25 -0.35 -0.29   -0.28  \n",
       "deltaCH4      49.7  49.7  49.7    49.7  "
      ]
     },
     "execution_count": 91,
     "metadata": {},
     "output_type": "execute_result"
    }
   ],
   "source": [
    "df_ch4_flux\n"
   ]
  },
  {
   "cell_type": "code",
   "execution_count": 92,
   "metadata": {},
   "outputs": [],
   "source": [
    "#df_trop_du_ozone_per_ch4_flux = df_ozone_du_trop.loc['10CH4']/df_ch4_flux.loc['deltaCH4']\n",
    "#df_trop_du_ozone_per_ch4_flux.name = 'trop_du_ozone_per_ch4_flux'\n",
    "\n",
    "#df_strat_du_ozone_per_ch4_flux = df_ozone_du_strat.loc['10CH4']/df_ch4_flux.loc['deltaCH4']\n",
    "#df_strat_du_ozone_per_ch4_flux.name = 'strat_du_ozone_per_ch4_flux'\n",
    "\n",
    "#df_trop_du_ozone_per_h2_flux = df_ozone_du_trop.loc['10H2']/df_h2_flux['deltaH2']\n",
    "#df_trop_du_ozone_per_h2_flux.name = 'trop_du_ozone_per_h2_flux'\n",
    "\n",
    "#df_strat_du_ozone_per_h2_flux = df_ozone_du_strat.loc['10H2']/df_h2_flux['deltaH2']\n",
    "#df_strat_du_ozone_per_h2_flux.name = 'strat_du_ozone_per_h2_flux'"
   ]
  },
  {
   "cell_type": "code",
   "execution_count": 93,
   "metadata": {},
   "outputs": [],
   "source": [
    "#df_trop_du_ozone_per_ch4_flux['OSLOCTM3-emi']=df_trop_du_ozone_per_ch4_flux['OSLOCTM3']\n",
    "#df_strat_du_ozone_per_ch4_flux['OSLOCTM3-emi']=df_strat_du_ozone_per_ch4_flux['OSLOCTM3']"
   ]
  },
  {
   "cell_type": "markdown",
   "metadata": {},
   "source": [
    "### HYDROGEN AGWP100 aerosol [mW m-2 yr Tg-1]"
   ]
  },
  {
   "cell_type": "code",
   "execution_count": 94,
   "metadata": {},
   "outputs": [
    {
     "data": {
      "text/plain": [
       "CNTR       nan\n",
       "antro01    nan\n",
       "antro1     nan\n",
       "antro10    nan\n",
       "antro100   nan\n",
       "nemo       nan\n",
       "epia       nan\n",
       "munich     nan\n",
       "usdrydep   nan\n",
       "maud       nan\n",
       "zep        nan\n",
       "maxdep     nan\n",
       "Name: h2_agwp_aerosol, dtype: float64"
      ]
     },
     "execution_count": 94,
     "metadata": {},
     "output_type": "execute_result"
    }
   ],
   "source": [
    "df_h2_agwp_aerosol = df_aerosol_rf.loc['10H2'].astype(float)/df_h2_flux['deltaH2']\n",
    "df_h2_agwp_aerosol.name = 'h2_agwp_aerosol'\n",
    "df_h2_agwp_aerosol\n",
    "#NBNB GFDL-emi include methane induced."
   ]
  },
  {
   "cell_type": "code",
   "execution_count": 95,
   "metadata": {},
   "outputs": [],
   "source": [
    "df_h2_gwp.loc['aerosol'] = df_h2_agwp_aerosol/agwp100_CO2 "
   ]
  },
  {
   "cell_type": "code",
   "execution_count": 96,
   "metadata": {},
   "outputs": [],
   "source": [
    "#Add to the flux table\n",
    "df_aerosol_rf_per_h2_flux = df_aerosol_rf.loc['10H2'].astype(float)/df_h2_flux['deltaH2']\n",
    "df_aerosol_rf_per_h2_flux.name= 'aerosol_rf_per_h2_flux'\n",
    "\n",
    "\n",
    "df_aerosol_rf_per_ch4_flux = df_aerosol_rf.loc['10CH4']/df_ch4_flux.loc['deltaCH4']\n",
    "df_aerosol_rf_per_ch4_flux.name = 'aerosol_rf_per_ch4_flux'\n"
   ]
  },
  {
   "cell_type": "code",
   "execution_count": 97,
   "metadata": {},
   "outputs": [
    {
     "data": {
      "text/plain": [
       "CNTR        NaN\n",
       "antro01     NaN\n",
       "antro1      NaN\n",
       "antro10     NaN\n",
       "antro100    NaN\n",
       "nemo        NaN\n",
       "epia        NaN\n",
       "munich      NaN\n",
       "usdrydep    NaN\n",
       "maud        NaN\n",
       "zep         NaN\n",
       "maxdep      NaN\n",
       "Name: aerosol_rf_per_ch4_flux, dtype: object"
      ]
     },
     "execution_count": 97,
     "metadata": {},
     "output_type": "execute_result"
    }
   ],
   "source": [
    "df_aerosol_rf_per_ch4_flux"
   ]
  },
  {
   "cell_type": "markdown",
   "metadata": {},
   "source": [
    "## Methane induced GWP:"
   ]
  },
  {
   "cell_type": "markdown",
   "metadata": {},
   "source": [
    "### HYDROGEN AGWP100 methane induced O3 [mW m-2 yr Tg-1]"
   ]
  },
  {
   "cell_type": "markdown",
   "metadata": {},
   "source": [
    "It does not matter here if we use surface concentration, burden or tropospheric concentration."
   ]
  },
  {
   "cell_type": "code",
   "execution_count": 98,
   "metadata": {},
   "outputs": [
    {
     "data": {
      "text/plain": [
       "CNTR        nan\n",
       "antro01    1.11\n",
       "antro1     1.12\n",
       "antro10    1.12\n",
       "antro100   1.06\n",
       "nemo       1.29\n",
       "epia       1.01\n",
       "munich     1.08\n",
       "usdrydep   0.92\n",
       "maud       1.29\n",
       "zep        1.06\n",
       "maxdep     1.03\n",
       "Name: surf_ch4_per_h2_flux, dtype: float64"
      ]
     },
     "execution_count": 98,
     "metadata": {},
     "output_type": "execute_result"
    }
   ],
   "source": [
    "df_surf_ch4_per_h2_flux\n"
   ]
  },
  {
   "cell_type": "code",
   "execution_count": 99,
   "metadata": {},
   "outputs": [
    {
     "data": {
      "text/plain": [
       "CNTR        nan\n",
       "antro01    0.25\n",
       "antro1     0.25\n",
       "antro10    0.25\n",
       "antro100   0.24\n",
       "nemo       0.29\n",
       "epia       0.23\n",
       "munich     0.24\n",
       "usdrydep   0.21\n",
       "maud       0.29\n",
       "zep        0.24\n",
       "maxdep     0.23\n",
       "Name: h2_agwp_ch4ind_o3, dtype: float64"
      ]
     },
     "execution_count": 99,
     "metadata": {},
     "output_type": "execute_result"
    }
   ],
   "source": [
    "#Wm-2/ppbCH4*ppbCH4/TgH2yr-1 -> Wm-2/TgH2yr-1\n",
    "df_h2_agwp_ch4ind_o3 = df_ozone_rf.loc['10CH4'].astype(float)/df_ch4_surfconc.loc['delta']*df_surf_ch4_per_h2_flux\n",
    "df_h2_agwp_ch4ind_o3.name = 'h2_agwp_ch4ind_o3'\n",
    "df_h2_agwp_ch4ind_o3"
   ]
  },
  {
   "cell_type": "markdown",
   "metadata": {},
   "source": [
    "### Add methane induced O3 GWP"
   ]
  },
  {
   "cell_type": "code",
   "execution_count": 100,
   "metadata": {},
   "outputs": [
    {
     "data": {
      "text/html": [
       "<div>\n",
       "<style scoped>\n",
       "    .dataframe tbody tr th:only-of-type {\n",
       "        vertical-align: middle;\n",
       "    }\n",
       "\n",
       "    .dataframe tbody tr th {\n",
       "        vertical-align: top;\n",
       "    }\n",
       "\n",
       "    .dataframe thead th {\n",
       "        text-align: right;\n",
       "    }\n",
       "</style>\n",
       "<table border=\"1\" class=\"dataframe\">\n",
       "  <thead>\n",
       "    <tr style=\"text-align: right;\">\n",
       "      <th></th>\n",
       "      <th>CNTR</th>\n",
       "      <th>antro01</th>\n",
       "      <th>antro1</th>\n",
       "      <th>antro10</th>\n",
       "      <th>antro100</th>\n",
       "      <th>nemo</th>\n",
       "      <th>epia</th>\n",
       "      <th>munich</th>\n",
       "      <th>usdrydep</th>\n",
       "      <th>maud</th>\n",
       "      <th>zep</th>\n",
       "      <th>maxdep</th>\n",
       "    </tr>\n",
       "  </thead>\n",
       "  <tbody>\n",
       "    <tr>\n",
       "      <th>O3</th>\n",
       "      <td>nan</td>\n",
       "      <td>2.13</td>\n",
       "      <td>2.38</td>\n",
       "      <td>2.42</td>\n",
       "      <td>2.41</td>\n",
       "      <td>2.59</td>\n",
       "      <td>2.06</td>\n",
       "      <td>2.22</td>\n",
       "      <td>1.89</td>\n",
       "      <td>2.62</td>\n",
       "      <td>2.14</td>\n",
       "      <td>2.27</td>\n",
       "    </tr>\n",
       "    <tr>\n",
       "      <th>CH4</th>\n",
       "      <td>nan</td>\n",
       "      <td>4.78</td>\n",
       "      <td>4.82</td>\n",
       "      <td>4.80</td>\n",
       "      <td>4.56</td>\n",
       "      <td>5.56</td>\n",
       "      <td>4.33</td>\n",
       "      <td>4.63</td>\n",
       "      <td>3.97</td>\n",
       "      <td>5.57</td>\n",
       "      <td>4.57</td>\n",
       "      <td>4.42</td>\n",
       "    </tr>\n",
       "    <tr>\n",
       "      <th>strat H2O</th>\n",
       "      <td>nan</td>\n",
       "      <td>1.87</td>\n",
       "      <td>1.87</td>\n",
       "      <td>1.88</td>\n",
       "      <td>1.90</td>\n",
       "      <td>2.05</td>\n",
       "      <td>1.57</td>\n",
       "      <td>1.69</td>\n",
       "      <td>1.45</td>\n",
       "      <td>2.05</td>\n",
       "      <td>1.65</td>\n",
       "      <td>1.80</td>\n",
       "    </tr>\n",
       "    <tr>\n",
       "      <th>O3 CH4ind</th>\n",
       "      <td>nan</td>\n",
       "      <td>2.79</td>\n",
       "      <td>2.81</td>\n",
       "      <td>2.80</td>\n",
       "      <td>2.66</td>\n",
       "      <td>3.25</td>\n",
       "      <td>2.53</td>\n",
       "      <td>2.70</td>\n",
       "      <td>2.32</td>\n",
       "      <td>3.25</td>\n",
       "      <td>2.67</td>\n",
       "      <td>2.58</td>\n",
       "    </tr>\n",
       "    <tr>\n",
       "      <th>strat H2O CH4ind</th>\n",
       "      <td>nan</td>\n",
       "      <td>nan</td>\n",
       "      <td>nan</td>\n",
       "      <td>nan</td>\n",
       "      <td>nan</td>\n",
       "      <td>nan</td>\n",
       "      <td>nan</td>\n",
       "      <td>nan</td>\n",
       "      <td>nan</td>\n",
       "      <td>nan</td>\n",
       "      <td>nan</td>\n",
       "      <td>nan</td>\n",
       "    </tr>\n",
       "    <tr>\n",
       "      <th>aerosol</th>\n",
       "      <td>nan</td>\n",
       "      <td>nan</td>\n",
       "      <td>nan</td>\n",
       "      <td>nan</td>\n",
       "      <td>nan</td>\n",
       "      <td>nan</td>\n",
       "      <td>nan</td>\n",
       "      <td>nan</td>\n",
       "      <td>nan</td>\n",
       "      <td>nan</td>\n",
       "      <td>nan</td>\n",
       "      <td>nan</td>\n",
       "    </tr>\n",
       "  </tbody>\n",
       "</table>\n",
       "</div>"
      ],
      "text/plain": [
       "                  CNTR  antro01  antro1  antro10  antro100  nemo  epia  \\\n",
       "O3                 nan     2.13    2.38     2.42      2.41  2.59  2.06   \n",
       "CH4                nan     4.78    4.82     4.80      4.56  5.56  4.33   \n",
       "strat H2O          nan     1.87    1.87     1.88      1.90  2.05  1.57   \n",
       "O3 CH4ind          nan     2.79    2.81     2.80      2.66  3.25  2.53   \n",
       "strat H2O CH4ind   nan      nan     nan      nan       nan   nan   nan   \n",
       "aerosol            nan      nan     nan      nan       nan   nan   nan   \n",
       "\n",
       "                  munich  usdrydep  maud  zep  maxdep  \n",
       "O3                  2.22      1.89  2.62 2.14    2.27  \n",
       "CH4                 4.63      3.97  5.57 4.57    4.42  \n",
       "strat H2O           1.69      1.45  2.05 1.65    1.80  \n",
       "O3 CH4ind           2.70      2.32  3.25 2.67    2.58  \n",
       "strat H2O CH4ind     nan       nan   nan  nan     nan  \n",
       "aerosol              nan       nan   nan  nan     nan  "
      ]
     },
     "execution_count": 100,
     "metadata": {},
     "output_type": "execute_result"
    }
   ],
   "source": [
    "df_h2_gwp.loc['O3 CH4ind'] = df_h2_agwp_ch4ind_o3/agwp100_CO2\n",
    "df_h2_gwp"
   ]
  },
  {
   "cell_type": "markdown",
   "metadata": {},
   "source": [
    "### HYDROGEN AGWP100 methane induced strat H2O [mW m-2 yr Tg-1]"
   ]
  },
  {
   "cell_type": "code",
   "execution_count": 101,
   "metadata": {},
   "outputs": [
    {
     "data": {
      "text/plain": [
       "CNTR        NaN\n",
       "antro01    0.06\n",
       "antro1     0.06\n",
       "antro10    0.06\n",
       "antro100   0.06\n",
       "nemo       0.07\n",
       "epia       0.05\n",
       "munich     0.06\n",
       "usdrydep   0.05\n",
       "maud       0.07\n",
       "zep        0.06\n",
       "maxdep     0.05\n",
       "Name: h2_agwp_ch4ind_h2o, dtype: object"
      ]
     },
     "execution_count": 101,
     "metadata": {},
     "output_type": "execute_result"
    }
   ],
   "source": [
    "df_h2_agwp_ch4ind_h2o = df_h2o_rf.loc['10CH4']/df_ch4_surfconc.loc['delta']*df_surf_ch4_per_h2_flux\n",
    "df_h2_agwp_ch4ind_h2o.name = 'h2_agwp_ch4ind_h2o'\n",
    "df_h2_agwp_ch4ind_h2o"
   ]
  },
  {
   "cell_type": "markdown",
   "metadata": {},
   "source": [
    "### Add methane induced strat H2O GWP"
   ]
  },
  {
   "cell_type": "code",
   "execution_count": 102,
   "metadata": {},
   "outputs": [
    {
     "data": {
      "text/html": [
       "<div>\n",
       "<style scoped>\n",
       "    .dataframe tbody tr th:only-of-type {\n",
       "        vertical-align: middle;\n",
       "    }\n",
       "\n",
       "    .dataframe tbody tr th {\n",
       "        vertical-align: top;\n",
       "    }\n",
       "\n",
       "    .dataframe thead th {\n",
       "        text-align: right;\n",
       "    }\n",
       "</style>\n",
       "<table border=\"1\" class=\"dataframe\">\n",
       "  <thead>\n",
       "    <tr style=\"text-align: right;\">\n",
       "      <th></th>\n",
       "      <th>CNTR</th>\n",
       "      <th>antro01</th>\n",
       "      <th>antro1</th>\n",
       "      <th>antro10</th>\n",
       "      <th>antro100</th>\n",
       "      <th>nemo</th>\n",
       "      <th>epia</th>\n",
       "      <th>munich</th>\n",
       "      <th>usdrydep</th>\n",
       "      <th>maud</th>\n",
       "      <th>zep</th>\n",
       "      <th>maxdep</th>\n",
       "    </tr>\n",
       "  </thead>\n",
       "  <tbody>\n",
       "    <tr>\n",
       "      <th>O3</th>\n",
       "      <td>nan</td>\n",
       "      <td>2.13</td>\n",
       "      <td>2.38</td>\n",
       "      <td>2.42</td>\n",
       "      <td>2.41</td>\n",
       "      <td>2.59</td>\n",
       "      <td>2.06</td>\n",
       "      <td>2.22</td>\n",
       "      <td>1.89</td>\n",
       "      <td>2.62</td>\n",
       "      <td>2.14</td>\n",
       "      <td>2.27</td>\n",
       "    </tr>\n",
       "    <tr>\n",
       "      <th>CH4</th>\n",
       "      <td>nan</td>\n",
       "      <td>4.78</td>\n",
       "      <td>4.82</td>\n",
       "      <td>4.80</td>\n",
       "      <td>4.56</td>\n",
       "      <td>5.56</td>\n",
       "      <td>4.33</td>\n",
       "      <td>4.63</td>\n",
       "      <td>3.97</td>\n",
       "      <td>5.57</td>\n",
       "      <td>4.57</td>\n",
       "      <td>4.42</td>\n",
       "    </tr>\n",
       "    <tr>\n",
       "      <th>strat H2O</th>\n",
       "      <td>nan</td>\n",
       "      <td>1.87</td>\n",
       "      <td>1.87</td>\n",
       "      <td>1.88</td>\n",
       "      <td>1.90</td>\n",
       "      <td>2.05</td>\n",
       "      <td>1.57</td>\n",
       "      <td>1.69</td>\n",
       "      <td>1.45</td>\n",
       "      <td>2.05</td>\n",
       "      <td>1.65</td>\n",
       "      <td>1.80</td>\n",
       "    </tr>\n",
       "    <tr>\n",
       "      <th>O3 CH4ind</th>\n",
       "      <td>nan</td>\n",
       "      <td>2.79</td>\n",
       "      <td>2.81</td>\n",
       "      <td>2.80</td>\n",
       "      <td>2.66</td>\n",
       "      <td>3.25</td>\n",
       "      <td>2.53</td>\n",
       "      <td>2.70</td>\n",
       "      <td>2.32</td>\n",
       "      <td>3.25</td>\n",
       "      <td>2.67</td>\n",
       "      <td>2.58</td>\n",
       "    </tr>\n",
       "    <tr>\n",
       "      <th>strat H2O CH4ind</th>\n",
       "      <td>nan</td>\n",
       "      <td>0.65</td>\n",
       "      <td>0.66</td>\n",
       "      <td>0.66</td>\n",
       "      <td>0.62</td>\n",
       "      <td>0.76</td>\n",
       "      <td>0.59</td>\n",
       "      <td>0.63</td>\n",
       "      <td>0.54</td>\n",
       "      <td>0.76</td>\n",
       "      <td>0.62</td>\n",
       "      <td>0.60</td>\n",
       "    </tr>\n",
       "    <tr>\n",
       "      <th>aerosol</th>\n",
       "      <td>nan</td>\n",
       "      <td>nan</td>\n",
       "      <td>nan</td>\n",
       "      <td>nan</td>\n",
       "      <td>nan</td>\n",
       "      <td>nan</td>\n",
       "      <td>nan</td>\n",
       "      <td>nan</td>\n",
       "      <td>nan</td>\n",
       "      <td>nan</td>\n",
       "      <td>nan</td>\n",
       "      <td>nan</td>\n",
       "    </tr>\n",
       "  </tbody>\n",
       "</table>\n",
       "</div>"
      ],
      "text/plain": [
       "                  CNTR  antro01  antro1  antro10  antro100  nemo  epia  \\\n",
       "O3                 nan     2.13    2.38     2.42      2.41  2.59  2.06   \n",
       "CH4                nan     4.78    4.82     4.80      4.56  5.56  4.33   \n",
       "strat H2O          nan     1.87    1.87     1.88      1.90  2.05  1.57   \n",
       "O3 CH4ind          nan     2.79    2.81     2.80      2.66  3.25  2.53   \n",
       "strat H2O CH4ind   nan     0.65    0.66     0.66      0.62  0.76  0.59   \n",
       "aerosol            nan      nan     nan      nan       nan   nan   nan   \n",
       "\n",
       "                  munich  usdrydep  maud  zep  maxdep  \n",
       "O3                  2.22      1.89  2.62 2.14    2.27  \n",
       "CH4                 4.63      3.97  5.57 4.57    4.42  \n",
       "strat H2O           1.69      1.45  2.05 1.65    1.80  \n",
       "O3 CH4ind           2.70      2.32  3.25 2.67    2.58  \n",
       "strat H2O CH4ind    0.63      0.54  0.76 0.62    0.60  \n",
       "aerosol              nan       nan   nan  nan     nan  "
      ]
     },
     "execution_count": 102,
     "metadata": {},
     "output_type": "execute_result"
    }
   ],
   "source": [
    "df_h2_gwp.loc['strat H2O CH4ind'] = df_h2_agwp_ch4ind_h2o/agwp100_CO2\n",
    "df_h2_gwp"
   ]
  },
  {
   "cell_type": "markdown",
   "metadata": {},
   "source": [
    "### HYDROGEN AGWP100 methane induced aerosols [mW m-2 yr Tg-1]"
   ]
  },
  {
   "cell_type": "code",
   "execution_count": 103,
   "metadata": {},
   "outputs": [],
   "source": [
    "df_h2_agwp_ch4ind_aerosol = df_aerosol_rf.loc['10CH4']/df_ch4_surfconc.loc['delta']*df_surf_ch4_per_h2_flux\n",
    "df_h2_agwp_ch4ind_aerosol.name = 'h2_agwp_ch4ind_aerosols'\n"
   ]
  },
  {
   "cell_type": "markdown",
   "metadata": {},
   "source": [
    "### Hydrogen GWP including aerosols"
   ]
  },
  {
   "cell_type": "code",
   "execution_count": 104,
   "metadata": {},
   "outputs": [
    {
     "data": {
      "text/html": [
       "<div>\n",
       "<style scoped>\n",
       "    .dataframe tbody tr th:only-of-type {\n",
       "        vertical-align: middle;\n",
       "    }\n",
       "\n",
       "    .dataframe tbody tr th {\n",
       "        vertical-align: top;\n",
       "    }\n",
       "\n",
       "    .dataframe thead th {\n",
       "        text-align: right;\n",
       "    }\n",
       "</style>\n",
       "<table border=\"1\" class=\"dataframe\">\n",
       "  <thead>\n",
       "    <tr style=\"text-align: right;\">\n",
       "      <th></th>\n",
       "      <th>CNTR</th>\n",
       "      <th>antro01</th>\n",
       "      <th>antro1</th>\n",
       "      <th>antro10</th>\n",
       "      <th>antro100</th>\n",
       "      <th>nemo</th>\n",
       "      <th>epia</th>\n",
       "      <th>munich</th>\n",
       "      <th>usdrydep</th>\n",
       "      <th>maud</th>\n",
       "      <th>zep</th>\n",
       "      <th>maxdep</th>\n",
       "    </tr>\n",
       "  </thead>\n",
       "  <tbody>\n",
       "    <tr>\n",
       "      <th>O3</th>\n",
       "      <td>nan</td>\n",
       "      <td>2.13</td>\n",
       "      <td>2.38</td>\n",
       "      <td>2.42</td>\n",
       "      <td>2.41</td>\n",
       "      <td>2.59</td>\n",
       "      <td>2.06</td>\n",
       "      <td>2.22</td>\n",
       "      <td>1.89</td>\n",
       "      <td>2.62</td>\n",
       "      <td>2.14</td>\n",
       "      <td>2.27</td>\n",
       "    </tr>\n",
       "    <tr>\n",
       "      <th>CH4</th>\n",
       "      <td>nan</td>\n",
       "      <td>4.78</td>\n",
       "      <td>4.82</td>\n",
       "      <td>4.80</td>\n",
       "      <td>4.56</td>\n",
       "      <td>5.56</td>\n",
       "      <td>4.33</td>\n",
       "      <td>4.63</td>\n",
       "      <td>3.97</td>\n",
       "      <td>5.57</td>\n",
       "      <td>4.57</td>\n",
       "      <td>4.42</td>\n",
       "    </tr>\n",
       "    <tr>\n",
       "      <th>strat H2O</th>\n",
       "      <td>nan</td>\n",
       "      <td>1.87</td>\n",
       "      <td>1.87</td>\n",
       "      <td>1.88</td>\n",
       "      <td>1.90</td>\n",
       "      <td>2.05</td>\n",
       "      <td>1.57</td>\n",
       "      <td>1.69</td>\n",
       "      <td>1.45</td>\n",
       "      <td>2.05</td>\n",
       "      <td>1.65</td>\n",
       "      <td>1.80</td>\n",
       "    </tr>\n",
       "    <tr>\n",
       "      <th>O3 CH4ind</th>\n",
       "      <td>nan</td>\n",
       "      <td>2.79</td>\n",
       "      <td>2.81</td>\n",
       "      <td>2.80</td>\n",
       "      <td>2.66</td>\n",
       "      <td>3.25</td>\n",
       "      <td>2.53</td>\n",
       "      <td>2.70</td>\n",
       "      <td>2.32</td>\n",
       "      <td>3.25</td>\n",
       "      <td>2.67</td>\n",
       "      <td>2.58</td>\n",
       "    </tr>\n",
       "    <tr>\n",
       "      <th>strat H2O CH4ind</th>\n",
       "      <td>nan</td>\n",
       "      <td>0.65</td>\n",
       "      <td>0.66</td>\n",
       "      <td>0.66</td>\n",
       "      <td>0.62</td>\n",
       "      <td>0.76</td>\n",
       "      <td>0.59</td>\n",
       "      <td>0.63</td>\n",
       "      <td>0.54</td>\n",
       "      <td>0.76</td>\n",
       "      <td>0.62</td>\n",
       "      <td>0.60</td>\n",
       "    </tr>\n",
       "    <tr>\n",
       "      <th>aerosol</th>\n",
       "      <td>nan</td>\n",
       "      <td>nan</td>\n",
       "      <td>nan</td>\n",
       "      <td>nan</td>\n",
       "      <td>nan</td>\n",
       "      <td>nan</td>\n",
       "      <td>nan</td>\n",
       "      <td>nan</td>\n",
       "      <td>nan</td>\n",
       "      <td>nan</td>\n",
       "      <td>nan</td>\n",
       "      <td>nan</td>\n",
       "    </tr>\n",
       "    <tr>\n",
       "      <th>aerosol CH4ind</th>\n",
       "      <td>nan</td>\n",
       "      <td>nan</td>\n",
       "      <td>nan</td>\n",
       "      <td>nan</td>\n",
       "      <td>nan</td>\n",
       "      <td>nan</td>\n",
       "      <td>nan</td>\n",
       "      <td>nan</td>\n",
       "      <td>nan</td>\n",
       "      <td>nan</td>\n",
       "      <td>nan</td>\n",
       "      <td>nan</td>\n",
       "    </tr>\n",
       "  </tbody>\n",
       "</table>\n",
       "</div>"
      ],
      "text/plain": [
       "                  CNTR  antro01  antro1  antro10  antro100  nemo  epia  \\\n",
       "O3                 nan     2.13    2.38     2.42      2.41  2.59  2.06   \n",
       "CH4                nan     4.78    4.82     4.80      4.56  5.56  4.33   \n",
       "strat H2O          nan     1.87    1.87     1.88      1.90  2.05  1.57   \n",
       "O3 CH4ind          nan     2.79    2.81     2.80      2.66  3.25  2.53   \n",
       "strat H2O CH4ind   nan     0.65    0.66     0.66      0.62  0.76  0.59   \n",
       "aerosol            nan      nan     nan      nan       nan   nan   nan   \n",
       "aerosol CH4ind     nan      nan     nan      nan       nan   nan   nan   \n",
       "\n",
       "                  munich  usdrydep  maud  zep  maxdep  \n",
       "O3                  2.22      1.89  2.62 2.14    2.27  \n",
       "CH4                 4.63      3.97  5.57 4.57    4.42  \n",
       "strat H2O           1.69      1.45  2.05 1.65    1.80  \n",
       "O3 CH4ind           2.70      2.32  3.25 2.67    2.58  \n",
       "strat H2O CH4ind    0.63      0.54  0.76 0.62    0.60  \n",
       "aerosol              nan       nan   nan  nan     nan  \n",
       "aerosol CH4ind       nan       nan   nan  nan     nan  "
      ]
     },
     "execution_count": 104,
     "metadata": {},
     "output_type": "execute_result"
    }
   ],
   "source": [
    "df_h2_gwp.loc['aerosol CH4ind'] = df_h2_agwp_ch4ind_aerosol/agwp100_CO2\n",
    "df_h2_gwp"
   ]
  },
  {
   "cell_type": "code",
   "execution_count": 105,
   "metadata": {},
   "outputs": [
    {
     "data": {
      "text/html": [
       "<div>\n",
       "<style scoped>\n",
       "    .dataframe tbody tr th:only-of-type {\n",
       "        vertical-align: middle;\n",
       "    }\n",
       "\n",
       "    .dataframe tbody tr th {\n",
       "        vertical-align: top;\n",
       "    }\n",
       "\n",
       "    .dataframe thead th {\n",
       "        text-align: right;\n",
       "    }\n",
       "</style>\n",
       "<table border=\"1\" class=\"dataframe\">\n",
       "  <thead>\n",
       "    <tr style=\"text-align: right;\">\n",
       "      <th></th>\n",
       "      <th>CNTR</th>\n",
       "      <th>antro01</th>\n",
       "      <th>antro1</th>\n",
       "      <th>antro10</th>\n",
       "      <th>antro100</th>\n",
       "      <th>nemo</th>\n",
       "      <th>epia</th>\n",
       "      <th>munich</th>\n",
       "      <th>usdrydep</th>\n",
       "      <th>maud</th>\n",
       "      <th>zep</th>\n",
       "      <th>maxdep</th>\n",
       "    </tr>\n",
       "  </thead>\n",
       "  <tbody>\n",
       "    <tr>\n",
       "      <th>O3</th>\n",
       "      <td>nan</td>\n",
       "      <td>2.13</td>\n",
       "      <td>2.38</td>\n",
       "      <td>2.42</td>\n",
       "      <td>2.41</td>\n",
       "      <td>2.59</td>\n",
       "      <td>2.06</td>\n",
       "      <td>2.22</td>\n",
       "      <td>1.89</td>\n",
       "      <td>2.62</td>\n",
       "      <td>2.14</td>\n",
       "      <td>2.27</td>\n",
       "    </tr>\n",
       "    <tr>\n",
       "      <th>CH4</th>\n",
       "      <td>nan</td>\n",
       "      <td>4.78</td>\n",
       "      <td>4.82</td>\n",
       "      <td>4.80</td>\n",
       "      <td>4.56</td>\n",
       "      <td>5.56</td>\n",
       "      <td>4.33</td>\n",
       "      <td>4.63</td>\n",
       "      <td>3.97</td>\n",
       "      <td>5.57</td>\n",
       "      <td>4.57</td>\n",
       "      <td>4.42</td>\n",
       "    </tr>\n",
       "    <tr>\n",
       "      <th>strat H2O</th>\n",
       "      <td>nan</td>\n",
       "      <td>1.87</td>\n",
       "      <td>1.87</td>\n",
       "      <td>1.88</td>\n",
       "      <td>1.90</td>\n",
       "      <td>2.05</td>\n",
       "      <td>1.57</td>\n",
       "      <td>1.69</td>\n",
       "      <td>1.45</td>\n",
       "      <td>2.05</td>\n",
       "      <td>1.65</td>\n",
       "      <td>1.80</td>\n",
       "    </tr>\n",
       "    <tr>\n",
       "      <th>O3 CH4ind</th>\n",
       "      <td>nan</td>\n",
       "      <td>2.79</td>\n",
       "      <td>2.81</td>\n",
       "      <td>2.80</td>\n",
       "      <td>2.66</td>\n",
       "      <td>3.25</td>\n",
       "      <td>2.53</td>\n",
       "      <td>2.70</td>\n",
       "      <td>2.32</td>\n",
       "      <td>3.25</td>\n",
       "      <td>2.67</td>\n",
       "      <td>2.58</td>\n",
       "    </tr>\n",
       "    <tr>\n",
       "      <th>strat H2O CH4ind</th>\n",
       "      <td>nan</td>\n",
       "      <td>0.65</td>\n",
       "      <td>0.66</td>\n",
       "      <td>0.66</td>\n",
       "      <td>0.62</td>\n",
       "      <td>0.76</td>\n",
       "      <td>0.59</td>\n",
       "      <td>0.63</td>\n",
       "      <td>0.54</td>\n",
       "      <td>0.76</td>\n",
       "      <td>0.62</td>\n",
       "      <td>0.60</td>\n",
       "    </tr>\n",
       "  </tbody>\n",
       "</table>\n",
       "</div>"
      ],
      "text/plain": [
       "                  CNTR  antro01  antro1  antro10  antro100  nemo  epia  \\\n",
       "O3                 nan     2.13    2.38     2.42      2.41  2.59  2.06   \n",
       "CH4                nan     4.78    4.82     4.80      4.56  5.56  4.33   \n",
       "strat H2O          nan     1.87    1.87     1.88      1.90  2.05  1.57   \n",
       "O3 CH4ind          nan     2.79    2.81     2.80      2.66  3.25  2.53   \n",
       "strat H2O CH4ind   nan     0.65    0.66     0.66      0.62  0.76  0.59   \n",
       "\n",
       "                  munich  usdrydep  maud  zep  maxdep  \n",
       "O3                  2.22      1.89  2.62 2.14    2.27  \n",
       "CH4                 4.63      3.97  5.57 4.57    4.42  \n",
       "strat H2O           1.69      1.45  2.05 1.65    1.80  \n",
       "O3 CH4ind           2.70      2.32  3.25 2.67    2.58  \n",
       "strat H2O CH4ind    0.63      0.54  0.76 0.62    0.60  "
      ]
     },
     "execution_count": 105,
     "metadata": {},
     "output_type": "execute_result"
    }
   ],
   "source": [
    "#Not include the aerosol GWP in the main table. Drop them here\n",
    "df_h2_gwp = df_h2_gwp.drop(['aerosol','aerosol CH4ind'])\n",
    "df_h2_gwp"
   ]
  },
  {
   "cell_type": "markdown",
   "metadata": {},
   "source": [
    "# Methane GWP"
   ]
  },
  {
   "cell_type": "markdown",
   "metadata": {},
   "source": [
    "Initialize CH4 GWP"
   ]
  },
  {
   "cell_type": "code",
   "execution_count": 106,
   "metadata": {},
   "outputs": [
    {
     "data": {
      "text/html": [
       "<div>\n",
       "<style scoped>\n",
       "    .dataframe tbody tr th:only-of-type {\n",
       "        vertical-align: middle;\n",
       "    }\n",
       "\n",
       "    .dataframe tbody tr th {\n",
       "        vertical-align: top;\n",
       "    }\n",
       "\n",
       "    .dataframe thead th {\n",
       "        text-align: right;\n",
       "    }\n",
       "</style>\n",
       "<table border=\"1\" class=\"dataframe\">\n",
       "  <thead>\n",
       "    <tr style=\"text-align: right;\">\n",
       "      <th></th>\n",
       "      <th>CNTR</th>\n",
       "      <th>antro01</th>\n",
       "      <th>antro1</th>\n",
       "      <th>antro10</th>\n",
       "      <th>antro100</th>\n",
       "      <th>nemo</th>\n",
       "      <th>epia</th>\n",
       "      <th>munich</th>\n",
       "      <th>usdrydep</th>\n",
       "      <th>maud</th>\n",
       "      <th>zep</th>\n",
       "      <th>maxdep</th>\n",
       "    </tr>\n",
       "  </thead>\n",
       "  <tbody>\n",
       "    <tr>\n",
       "      <th>O3</th>\n",
       "      <td>nan</td>\n",
       "      <td>nan</td>\n",
       "      <td>nan</td>\n",
       "      <td>nan</td>\n",
       "      <td>nan</td>\n",
       "      <td>nan</td>\n",
       "      <td>nan</td>\n",
       "      <td>nan</td>\n",
       "      <td>nan</td>\n",
       "      <td>nan</td>\n",
       "      <td>nan</td>\n",
       "      <td>nan</td>\n",
       "    </tr>\n",
       "    <tr>\n",
       "      <th>CH4</th>\n",
       "      <td>nan</td>\n",
       "      <td>nan</td>\n",
       "      <td>nan</td>\n",
       "      <td>nan</td>\n",
       "      <td>nan</td>\n",
       "      <td>nan</td>\n",
       "      <td>nan</td>\n",
       "      <td>nan</td>\n",
       "      <td>nan</td>\n",
       "      <td>nan</td>\n",
       "      <td>nan</td>\n",
       "      <td>nan</td>\n",
       "    </tr>\n",
       "    <tr>\n",
       "      <th>strat H2O</th>\n",
       "      <td>nan</td>\n",
       "      <td>nan</td>\n",
       "      <td>nan</td>\n",
       "      <td>nan</td>\n",
       "      <td>nan</td>\n",
       "      <td>nan</td>\n",
       "      <td>nan</td>\n",
       "      <td>nan</td>\n",
       "      <td>nan</td>\n",
       "      <td>nan</td>\n",
       "      <td>nan</td>\n",
       "      <td>nan</td>\n",
       "    </tr>\n",
       "    <tr>\n",
       "      <th>H2</th>\n",
       "      <td>nan</td>\n",
       "      <td>nan</td>\n",
       "      <td>nan</td>\n",
       "      <td>nan</td>\n",
       "      <td>nan</td>\n",
       "      <td>nan</td>\n",
       "      <td>nan</td>\n",
       "      <td>nan</td>\n",
       "      <td>nan</td>\n",
       "      <td>nan</td>\n",
       "      <td>nan</td>\n",
       "      <td>nan</td>\n",
       "    </tr>\n",
       "  </tbody>\n",
       "</table>\n",
       "</div>"
      ],
      "text/plain": [
       "           CNTR  antro01  antro1  antro10  antro100  nemo  epia  munich  \\\n",
       "O3          nan      nan     nan      nan       nan   nan   nan     nan   \n",
       "CH4         nan      nan     nan      nan       nan   nan   nan     nan   \n",
       "strat H2O   nan      nan     nan      nan       nan   nan   nan     nan   \n",
       "H2          nan      nan     nan      nan       nan   nan   nan     nan   \n",
       "\n",
       "           usdrydep  maud  zep  maxdep  \n",
       "O3              nan   nan  nan     nan  \n",
       "CH4             nan   nan  nan     nan  \n",
       "strat H2O       nan   nan  nan     nan  \n",
       "H2              nan   nan  nan     nan  "
      ]
     },
     "execution_count": 106,
     "metadata": {},
     "output_type": "execute_result"
    }
   ],
   "source": [
    "antmod = len(df_h2_agwp_ch4.index)\n",
    "df_ch4_gwp = pd.DataFrame(np.empty([4,antmod])*np.nan,columns=df_h2_agwp_ch4.index,\n",
    "                         index=['O3','CH4','strat H2O','H2'])\n",
    "df_ch4_gwp"
   ]
  },
  {
   "cell_type": "markdown",
   "metadata": {},
   "source": [
    "### Methane AGWP100 O3 [mW m-2 yr Tg-1]"
   ]
  },
  {
   "cell_type": "code",
   "execution_count": 107,
   "metadata": {},
   "outputs": [
    {
     "data": {
      "text/plain": [
       "CNTR       0.82\n",
       "antro01    0.82\n",
       "antro1     0.82\n",
       "antro10    0.82\n",
       "antro100   0.82\n",
       "nemo       0.82\n",
       "epia       0.82\n",
       "munich     0.82\n",
       "usdrydep   0.82\n",
       "maud       0.82\n",
       "zep        0.82\n",
       "maxdep     0.82\n",
       "Name: ch4_agwp_o3, dtype: object"
      ]
     },
     "execution_count": 107,
     "metadata": {},
     "output_type": "execute_result"
    }
   ],
   "source": [
    "df_ch4_agwp_o3 = df_ozone_rf.loc['10CH4']/df_ch4_surfconc.loc['delta']*df_surf_ch4_per_ch4_flux\n",
    "df_ch4_agwp_o3.name = 'ch4_agwp_o3'\n",
    "df_ch4_agwp_o3"
   ]
  },
  {
   "cell_type": "code",
   "execution_count": 108,
   "metadata": {},
   "outputs": [
    {
     "data": {
      "text/plain": [
       "CNTR       0.82\n",
       "antro01    0.82\n",
       "antro1     0.82\n",
       "antro10    0.82\n",
       "antro100   0.82\n",
       "nemo       0.82\n",
       "epia       0.82\n",
       "munich     0.82\n",
       "usdrydep   0.82\n",
       "maud       0.82\n",
       "zep        0.82\n",
       "maxdep     0.82\n",
       "dtype: object"
      ]
     },
     "execution_count": 108,
     "metadata": {},
     "output_type": "execute_result"
    }
   ],
   "source": [
    "test = df_ozone_rf.loc['10CH4']/df_ch4_surfconc.loc['delta']*df_surf_ch4_per_ch4_flux\n",
    "test"
   ]
  },
  {
   "cell_type": "code",
   "execution_count": 109,
   "metadata": {},
   "outputs": [
    {
     "data": {
      "text/plain": [
       "CNTR       0.82\n",
       "antro01    0.82\n",
       "antro1     0.82\n",
       "antro10    0.82\n",
       "antro100   0.82\n",
       "nemo       0.82\n",
       "epia       0.82\n",
       "munich     0.82\n",
       "usdrydep   0.82\n",
       "maud       0.82\n",
       "zep        0.82\n",
       "maxdep     0.82\n",
       "dtype: object"
      ]
     },
     "execution_count": 109,
     "metadata": {},
     "output_type": "execute_result"
    }
   ],
   "source": [
    "test2 = df_ozone_rf.loc['10CH4']/df_ch4_flux.loc['deltaCH4']\n",
    "#test2 is equal test\n",
    "test2"
   ]
  },
  {
   "cell_type": "markdown",
   "metadata": {},
   "source": [
    "### Add ozone GWP"
   ]
  },
  {
   "cell_type": "code",
   "execution_count": 110,
   "metadata": {},
   "outputs": [],
   "source": [
    "df_ch4_gwp.loc['O3'] =df_ch4_agwp_o3/agwp100_CO2 "
   ]
  },
  {
   "cell_type": "markdown",
   "metadata": {},
   "source": [
    "### Methane AGWP100 Methane [mW m-2 yr Tg-1]"
   ]
  },
  {
   "cell_type": "code",
   "execution_count": 111,
   "metadata": {
    "scrolled": true
   },
   "outputs": [],
   "source": [
    "df_ch4_agwp =df_surf_ch4_per_ch4_flux*spec_rf_ch4\n",
    "df_ch4_agwp.name = 'ch4_agwp'\n"
   ]
  },
  {
   "cell_type": "markdown",
   "metadata": {},
   "source": [
    "### Add methane GWP"
   ]
  },
  {
   "cell_type": "code",
   "execution_count": 112,
   "metadata": {},
   "outputs": [],
   "source": [
    "#Add Methane GWP:\n",
    "df_ch4_gwp.loc['CH4'] =df_ch4_agwp/agwp100_CO2 "
   ]
  },
  {
   "cell_type": "markdown",
   "metadata": {},
   "source": [
    "### Methane AGWP100 strat H2O [mW m-2 yr Tg-1]"
   ]
  },
  {
   "cell_type": "code",
   "execution_count": 113,
   "metadata": {},
   "outputs": [],
   "source": [
    "df_ch4_agwp_h2o = df_h2o_rf.loc['10CH4']/df_ch4_surfconc.loc['delta']*df_surf_ch4_per_ch4_flux\n",
    "df_ch4_agwp_h2o.name = 'ch4_agwp_h2o'\n"
   ]
  },
  {
   "cell_type": "markdown",
   "metadata": {},
   "source": [
    "### Add Strat H2O GWP:"
   ]
  },
  {
   "cell_type": "code",
   "execution_count": 114,
   "metadata": {},
   "outputs": [],
   "source": [
    "df_ch4_gwp.loc['strat H2O'] = df_ch4_agwp_h2o/agwp100_CO2"
   ]
  },
  {
   "cell_type": "markdown",
   "metadata": {},
   "source": [
    "### Methane AGWP100 aerosols [mW m-2 yr Tg-1]"
   ]
  },
  {
   "cell_type": "code",
   "execution_count": 115,
   "metadata": {},
   "outputs": [],
   "source": [
    "df_ch4_agwp_aerosol = df_aerosol_rf.loc['10CH4']/df_ch4_flux.loc['deltaCH4']\n",
    "df_ch4_agwp_aerosol.name = 'ch4_agwp_aerosol'\n"
   ]
  },
  {
   "cell_type": "markdown",
   "metadata": {},
   "source": [
    "### Add Aerosol GWP"
   ]
  },
  {
   "cell_type": "code",
   "execution_count": 116,
   "metadata": {},
   "outputs": [
    {
     "data": {
      "text/html": [
       "<div>\n",
       "<style scoped>\n",
       "    .dataframe tbody tr th:only-of-type {\n",
       "        vertical-align: middle;\n",
       "    }\n",
       "\n",
       "    .dataframe tbody tr th {\n",
       "        vertical-align: top;\n",
       "    }\n",
       "\n",
       "    .dataframe thead th {\n",
       "        text-align: right;\n",
       "    }\n",
       "</style>\n",
       "<table border=\"1\" class=\"dataframe\">\n",
       "  <thead>\n",
       "    <tr style=\"text-align: right;\">\n",
       "      <th></th>\n",
       "      <th>CNTR</th>\n",
       "      <th>antro01</th>\n",
       "      <th>antro1</th>\n",
       "      <th>antro10</th>\n",
       "      <th>antro100</th>\n",
       "      <th>nemo</th>\n",
       "      <th>epia</th>\n",
       "      <th>munich</th>\n",
       "      <th>usdrydep</th>\n",
       "      <th>maud</th>\n",
       "      <th>zep</th>\n",
       "      <th>maxdep</th>\n",
       "    </tr>\n",
       "  </thead>\n",
       "  <tbody>\n",
       "    <tr>\n",
       "      <th>O3</th>\n",
       "      <td>9.17</td>\n",
       "      <td>9.17</td>\n",
       "      <td>9.17</td>\n",
       "      <td>9.17</td>\n",
       "      <td>9.17</td>\n",
       "      <td>9.17</td>\n",
       "      <td>9.17</td>\n",
       "      <td>9.17</td>\n",
       "      <td>9.17</td>\n",
       "      <td>9.17</td>\n",
       "      <td>9.17</td>\n",
       "      <td>9.17</td>\n",
       "    </tr>\n",
       "    <tr>\n",
       "      <th>CH4</th>\n",
       "      <td>15.7</td>\n",
       "      <td>15.7</td>\n",
       "      <td>15.7</td>\n",
       "      <td>15.7</td>\n",
       "      <td>15.7</td>\n",
       "      <td>15.7</td>\n",
       "      <td>15.7</td>\n",
       "      <td>15.7</td>\n",
       "      <td>15.7</td>\n",
       "      <td>15.7</td>\n",
       "      <td>15.7</td>\n",
       "      <td>15.7</td>\n",
       "    </tr>\n",
       "    <tr>\n",
       "      <th>strat H2O</th>\n",
       "      <td>2.14</td>\n",
       "      <td>2.14</td>\n",
       "      <td>2.14</td>\n",
       "      <td>2.14</td>\n",
       "      <td>2.14</td>\n",
       "      <td>2.14</td>\n",
       "      <td>2.14</td>\n",
       "      <td>2.14</td>\n",
       "      <td>2.14</td>\n",
       "      <td>2.14</td>\n",
       "      <td>2.14</td>\n",
       "      <td>2.14</td>\n",
       "    </tr>\n",
       "    <tr>\n",
       "      <th>H2</th>\n",
       "      <td>nan</td>\n",
       "      <td>nan</td>\n",
       "      <td>nan</td>\n",
       "      <td>nan</td>\n",
       "      <td>nan</td>\n",
       "      <td>nan</td>\n",
       "      <td>nan</td>\n",
       "      <td>nan</td>\n",
       "      <td>nan</td>\n",
       "      <td>nan</td>\n",
       "      <td>nan</td>\n",
       "      <td>nan</td>\n",
       "    </tr>\n",
       "    <tr>\n",
       "      <th>aerosol</th>\n",
       "      <td>nan</td>\n",
       "      <td>nan</td>\n",
       "      <td>nan</td>\n",
       "      <td>nan</td>\n",
       "      <td>nan</td>\n",
       "      <td>nan</td>\n",
       "      <td>nan</td>\n",
       "      <td>nan</td>\n",
       "      <td>nan</td>\n",
       "      <td>nan</td>\n",
       "      <td>nan</td>\n",
       "      <td>nan</td>\n",
       "    </tr>\n",
       "  </tbody>\n",
       "</table>\n",
       "</div>"
      ],
      "text/plain": [
       "           CNTR  antro01  antro1  antro10  antro100  nemo  epia  munich  \\\n",
       "O3         9.17     9.17    9.17     9.17      9.17  9.17  9.17    9.17   \n",
       "CH4        15.7     15.7    15.7     15.7      15.7  15.7  15.7    15.7   \n",
       "strat H2O  2.14     2.14    2.14     2.14      2.14  2.14  2.14    2.14   \n",
       "H2          nan      nan     nan      nan       nan   nan   nan     nan   \n",
       "aerosol     nan      nan     nan      nan       nan   nan   nan     nan   \n",
       "\n",
       "           usdrydep  maud  zep  maxdep  \n",
       "O3             9.17  9.17 9.17    9.17  \n",
       "CH4            15.7  15.7 15.7    15.7  \n",
       "strat H2O      2.14  2.14 2.14    2.14  \n",
       "H2              nan   nan  nan     nan  \n",
       "aerosol         nan   nan  nan     nan  "
      ]
     },
     "execution_count": 116,
     "metadata": {},
     "output_type": "execute_result"
    }
   ],
   "source": [
    "df_ch4_gwp.loc['aerosol'] = df_ch4_agwp_aerosol/agwp100_CO2\n",
    "df_ch4_gwp"
   ]
  },
  {
   "cell_type": "code",
   "execution_count": 117,
   "metadata": {},
   "outputs": [
    {
     "data": {
      "text/html": [
       "<div>\n",
       "<style scoped>\n",
       "    .dataframe tbody tr th:only-of-type {\n",
       "        vertical-align: middle;\n",
       "    }\n",
       "\n",
       "    .dataframe tbody tr th {\n",
       "        vertical-align: top;\n",
       "    }\n",
       "\n",
       "    .dataframe thead th {\n",
       "        text-align: right;\n",
       "    }\n",
       "</style>\n",
       "<table border=\"1\" class=\"dataframe\">\n",
       "  <thead>\n",
       "    <tr style=\"text-align: right;\">\n",
       "      <th></th>\n",
       "      <th>CNTR</th>\n",
       "      <th>antro01</th>\n",
       "      <th>antro1</th>\n",
       "      <th>antro10</th>\n",
       "      <th>antro100</th>\n",
       "      <th>nemo</th>\n",
       "      <th>epia</th>\n",
       "      <th>munich</th>\n",
       "      <th>usdrydep</th>\n",
       "      <th>maud</th>\n",
       "      <th>zep</th>\n",
       "      <th>maxdep</th>\n",
       "    </tr>\n",
       "  </thead>\n",
       "  <tbody>\n",
       "    <tr>\n",
       "      <th>O3</th>\n",
       "      <td>9.17</td>\n",
       "      <td>9.17</td>\n",
       "      <td>9.17</td>\n",
       "      <td>9.17</td>\n",
       "      <td>9.17</td>\n",
       "      <td>9.17</td>\n",
       "      <td>9.17</td>\n",
       "      <td>9.17</td>\n",
       "      <td>9.17</td>\n",
       "      <td>9.17</td>\n",
       "      <td>9.17</td>\n",
       "      <td>9.17</td>\n",
       "    </tr>\n",
       "    <tr>\n",
       "      <th>CH4</th>\n",
       "      <td>15.7</td>\n",
       "      <td>15.7</td>\n",
       "      <td>15.7</td>\n",
       "      <td>15.7</td>\n",
       "      <td>15.7</td>\n",
       "      <td>15.7</td>\n",
       "      <td>15.7</td>\n",
       "      <td>15.7</td>\n",
       "      <td>15.7</td>\n",
       "      <td>15.7</td>\n",
       "      <td>15.7</td>\n",
       "      <td>15.7</td>\n",
       "    </tr>\n",
       "    <tr>\n",
       "      <th>strat H2O</th>\n",
       "      <td>2.14</td>\n",
       "      <td>2.14</td>\n",
       "      <td>2.14</td>\n",
       "      <td>2.14</td>\n",
       "      <td>2.14</td>\n",
       "      <td>2.14</td>\n",
       "      <td>2.14</td>\n",
       "      <td>2.14</td>\n",
       "      <td>2.14</td>\n",
       "      <td>2.14</td>\n",
       "      <td>2.14</td>\n",
       "      <td>2.14</td>\n",
       "    </tr>\n",
       "    <tr>\n",
       "      <th>H2</th>\n",
       "      <td>nan</td>\n",
       "      <td>nan</td>\n",
       "      <td>nan</td>\n",
       "      <td>nan</td>\n",
       "      <td>nan</td>\n",
       "      <td>nan</td>\n",
       "      <td>nan</td>\n",
       "      <td>nan</td>\n",
       "      <td>nan</td>\n",
       "      <td>nan</td>\n",
       "      <td>nan</td>\n",
       "      <td>nan</td>\n",
       "    </tr>\n",
       "  </tbody>\n",
       "</table>\n",
       "</div>"
      ],
      "text/plain": [
       "           CNTR  antro01  antro1  antro10  antro100  nemo  epia  munich  \\\n",
       "O3         9.17     9.17    9.17     9.17      9.17  9.17  9.17    9.17   \n",
       "CH4        15.7     15.7    15.7     15.7      15.7  15.7  15.7    15.7   \n",
       "strat H2O  2.14     2.14    2.14     2.14      2.14  2.14  2.14    2.14   \n",
       "H2          nan      nan     nan      nan       nan   nan   nan     nan   \n",
       "\n",
       "           usdrydep  maud  zep  maxdep  \n",
       "O3             9.17  9.17 9.17    9.17  \n",
       "CH4            15.7  15.7 15.7    15.7  \n",
       "strat H2O      2.14  2.14 2.14    2.14  \n",
       "H2              nan   nan  nan     nan  "
      ]
     },
     "execution_count": 117,
     "metadata": {},
     "output_type": "execute_result"
    }
   ],
   "source": [
    "#And drop the aerosol GWP in the main table:\n",
    "df_ch4_gwp = df_ch4_gwp.drop(['aerosol'])\n",
    "df_ch4_gwp"
   ]
  },
  {
   "cell_type": "markdown",
   "metadata": {},
   "source": [
    "### Add GWP via H2"
   ]
  },
  {
   "cell_type": "code",
   "execution_count": 118,
   "metadata": {
    "scrolled": true
   },
   "outputs": [],
   "source": [
    "#df_ch4_gwp.loc['H2'] = df_h2_flux_per_ch4_flux*df_h2_gwp.sum()\n"
   ]
  },
  {
   "cell_type": "markdown",
   "metadata": {},
   "source": [
    "# Part III: Main results and tables"
   ]
  },
  {
   "cell_type": "markdown",
   "metadata": {},
   "source": [
    "## H2 GWP 100"
   ]
  },
  {
   "cell_type": "code",
   "execution_count": 119,
   "metadata": {},
   "outputs": [],
   "source": [
    "#model_dict = { 'OSLOCTM3':'OsloCTM',\n",
    "#               'WACCM6-2deg':'WACCM',\n",
    "#               'INCA':'INCA',\n",
    "#               'GFDL-emi':'GFDL-emi',\n",
    "#               'GFDL_nudge':'GFDL',\n",
    "#               'UKCA':'UKCA',\n",
    "#               'OSLOCTM3-emi':'OsloCTM-emi'}\n",
    "#\n",
    "#sorted_array = ['GFDL','INCA','OsloCTM','UKCA','WACCM','GFDL-emi','OsloCTM-emi']\n",
    "#sorted_array_2 = ['GFDL','INCA','OsloCTM','UKCA','WACCM','GFDL-emi','OsloCTM-emi','Model mean']"
   ]
  },
  {
   "cell_type": "code",
   "execution_count": 120,
   "metadata": {},
   "outputs": [
    {
     "data": {
      "text/html": [
       "<div>\n",
       "<style scoped>\n",
       "    .dataframe tbody tr th:only-of-type {\n",
       "        vertical-align: middle;\n",
       "    }\n",
       "\n",
       "    .dataframe tbody tr th {\n",
       "        vertical-align: top;\n",
       "    }\n",
       "\n",
       "    .dataframe thead th {\n",
       "        text-align: right;\n",
       "    }\n",
       "</style>\n",
       "<table border=\"1\" class=\"dataframe\">\n",
       "  <thead>\n",
       "    <tr style=\"text-align: right;\">\n",
       "      <th></th>\n",
       "      <th>O3</th>\n",
       "      <th>CH4</th>\n",
       "      <th>strat H2O</th>\n",
       "      <th>O3 CH4ind</th>\n",
       "      <th>strat H2O CH4ind</th>\n",
       "      <th>total</th>\n",
       "    </tr>\n",
       "  </thead>\n",
       "  <tbody>\n",
       "    <tr>\n",
       "      <th>antro01</th>\n",
       "      <td>2.13</td>\n",
       "      <td>4.78</td>\n",
       "      <td>1.87</td>\n",
       "      <td>2.79</td>\n",
       "      <td>0.65</td>\n",
       "      <td>12.2</td>\n",
       "    </tr>\n",
       "    <tr>\n",
       "      <th>antro1</th>\n",
       "      <td>2.38</td>\n",
       "      <td>4.82</td>\n",
       "      <td>1.87</td>\n",
       "      <td>2.81</td>\n",
       "      <td>0.66</td>\n",
       "      <td>12.5</td>\n",
       "    </tr>\n",
       "    <tr>\n",
       "      <th>antro10</th>\n",
       "      <td>2.42</td>\n",
       "      <td>4.80</td>\n",
       "      <td>1.88</td>\n",
       "      <td>2.80</td>\n",
       "      <td>0.66</td>\n",
       "      <td>12.6</td>\n",
       "    </tr>\n",
       "    <tr>\n",
       "      <th>antro100</th>\n",
       "      <td>2.41</td>\n",
       "      <td>4.56</td>\n",
       "      <td>1.90</td>\n",
       "      <td>2.66</td>\n",
       "      <td>0.62</td>\n",
       "      <td>12.2</td>\n",
       "    </tr>\n",
       "    <tr>\n",
       "      <th>nemo</th>\n",
       "      <td>2.59</td>\n",
       "      <td>5.56</td>\n",
       "      <td>2.05</td>\n",
       "      <td>3.25</td>\n",
       "      <td>0.76</td>\n",
       "      <td>14.2</td>\n",
       "    </tr>\n",
       "    <tr>\n",
       "      <th>epia</th>\n",
       "      <td>2.06</td>\n",
       "      <td>4.33</td>\n",
       "      <td>1.57</td>\n",
       "      <td>2.53</td>\n",
       "      <td>0.59</td>\n",
       "      <td>11.1</td>\n",
       "    </tr>\n",
       "    <tr>\n",
       "      <th>munich</th>\n",
       "      <td>2.22</td>\n",
       "      <td>4.63</td>\n",
       "      <td>1.69</td>\n",
       "      <td>2.70</td>\n",
       "      <td>0.63</td>\n",
       "      <td>11.9</td>\n",
       "    </tr>\n",
       "    <tr>\n",
       "      <th>usdrydep</th>\n",
       "      <td>1.89</td>\n",
       "      <td>3.97</td>\n",
       "      <td>1.45</td>\n",
       "      <td>2.32</td>\n",
       "      <td>0.54</td>\n",
       "      <td>10.2</td>\n",
       "    </tr>\n",
       "    <tr>\n",
       "      <th>maud</th>\n",
       "      <td>2.62</td>\n",
       "      <td>5.57</td>\n",
       "      <td>2.05</td>\n",
       "      <td>3.25</td>\n",
       "      <td>0.76</td>\n",
       "      <td>14.2</td>\n",
       "    </tr>\n",
       "    <tr>\n",
       "      <th>zep</th>\n",
       "      <td>2.14</td>\n",
       "      <td>4.57</td>\n",
       "      <td>1.65</td>\n",
       "      <td>2.67</td>\n",
       "      <td>0.62</td>\n",
       "      <td>11.7</td>\n",
       "    </tr>\n",
       "    <tr>\n",
       "      <th>maxdep</th>\n",
       "      <td>2.27</td>\n",
       "      <td>4.42</td>\n",
       "      <td>1.80</td>\n",
       "      <td>2.58</td>\n",
       "      <td>0.60</td>\n",
       "      <td>11.7</td>\n",
       "    </tr>\n",
       "  </tbody>\n",
       "</table>\n",
       "</div>"
      ],
      "text/plain": [
       "           O3  CH4  strat H2O  O3 CH4ind  strat H2O CH4ind  total\n",
       "antro01  2.13 4.78       1.87       2.79              0.65   12.2\n",
       "antro1   2.38 4.82       1.87       2.81              0.66   12.5\n",
       "antro10  2.42 4.80       1.88       2.80              0.66   12.6\n",
       "antro100 2.41 4.56       1.90       2.66              0.62   12.2\n",
       "nemo     2.59 5.56       2.05       3.25              0.76   14.2\n",
       "epia     2.06 4.33       1.57       2.53              0.59   11.1\n",
       "munich   2.22 4.63       1.69       2.70              0.63   11.9\n",
       "usdrydep 1.89 3.97       1.45       2.32              0.54   10.2\n",
       "maud     2.62 5.57       2.05       3.25              0.76   14.2\n",
       "zep      2.14 4.57       1.65       2.67              0.62   11.7\n",
       "maxdep   2.27 4.42       1.80       2.58              0.60   11.7"
      ]
     },
     "execution_count": 120,
     "metadata": {},
     "output_type": "execute_result"
    }
   ],
   "source": [
    "#df_h2_gwp = df_h2_gwp[sorted(df_h2_gwp.columns)]\n",
    "df_h2_gwp = df_h2_gwp.drop('CNTR',axis=1)\n",
    "df_h2_gwp.loc['total']=df_h2_gwp.sum()\n",
    "\n",
    "df_h2_gwp_table = df_h2_gwp.copy()\n",
    "\n",
    "#df_h2_gwp_table.rename(model_dict,axis=1,inplace=True)\n",
    "#df_h2_gwp_table = df_h2_gwp_table[sorted_array]\n",
    "df_h2_gwp_table.T\n"
   ]
  },
  {
   "cell_type": "markdown",
   "metadata": {},
   "source": [
    "## CH4 GWP 100"
   ]
  },
  {
   "cell_type": "code",
   "execution_count": 121,
   "metadata": {},
   "outputs": [
    {
     "data": {
      "text/html": [
       "<div>\n",
       "<style scoped>\n",
       "    .dataframe tbody tr th:only-of-type {\n",
       "        vertical-align: middle;\n",
       "    }\n",
       "\n",
       "    .dataframe tbody tr th {\n",
       "        vertical-align: top;\n",
       "    }\n",
       "\n",
       "    .dataframe thead th {\n",
       "        text-align: right;\n",
       "    }\n",
       "</style>\n",
       "<table border=\"1\" class=\"dataframe\">\n",
       "  <thead>\n",
       "    <tr style=\"text-align: right;\">\n",
       "      <th></th>\n",
       "      <th>O3</th>\n",
       "      <th>CH4</th>\n",
       "      <th>strat H2O</th>\n",
       "      <th>H2</th>\n",
       "      <th>total</th>\n",
       "    </tr>\n",
       "  </thead>\n",
       "  <tbody>\n",
       "    <tr>\n",
       "      <th>antro01</th>\n",
       "      <td>9.17</td>\n",
       "      <td>15.7</td>\n",
       "      <td>2.14</td>\n",
       "      <td>nan</td>\n",
       "      <td>27.0</td>\n",
       "    </tr>\n",
       "    <tr>\n",
       "      <th>antro1</th>\n",
       "      <td>9.17</td>\n",
       "      <td>15.7</td>\n",
       "      <td>2.14</td>\n",
       "      <td>nan</td>\n",
       "      <td>27.0</td>\n",
       "    </tr>\n",
       "    <tr>\n",
       "      <th>antro10</th>\n",
       "      <td>9.17</td>\n",
       "      <td>15.7</td>\n",
       "      <td>2.14</td>\n",
       "      <td>nan</td>\n",
       "      <td>27.0</td>\n",
       "    </tr>\n",
       "    <tr>\n",
       "      <th>antro100</th>\n",
       "      <td>9.17</td>\n",
       "      <td>15.7</td>\n",
       "      <td>2.14</td>\n",
       "      <td>nan</td>\n",
       "      <td>27.0</td>\n",
       "    </tr>\n",
       "    <tr>\n",
       "      <th>nemo</th>\n",
       "      <td>9.17</td>\n",
       "      <td>15.7</td>\n",
       "      <td>2.14</td>\n",
       "      <td>nan</td>\n",
       "      <td>27.0</td>\n",
       "    </tr>\n",
       "    <tr>\n",
       "      <th>epia</th>\n",
       "      <td>9.17</td>\n",
       "      <td>15.7</td>\n",
       "      <td>2.14</td>\n",
       "      <td>nan</td>\n",
       "      <td>27.0</td>\n",
       "    </tr>\n",
       "    <tr>\n",
       "      <th>munich</th>\n",
       "      <td>9.17</td>\n",
       "      <td>15.7</td>\n",
       "      <td>2.14</td>\n",
       "      <td>nan</td>\n",
       "      <td>27.0</td>\n",
       "    </tr>\n",
       "    <tr>\n",
       "      <th>usdrydep</th>\n",
       "      <td>9.17</td>\n",
       "      <td>15.7</td>\n",
       "      <td>2.14</td>\n",
       "      <td>nan</td>\n",
       "      <td>27.0</td>\n",
       "    </tr>\n",
       "    <tr>\n",
       "      <th>maud</th>\n",
       "      <td>9.17</td>\n",
       "      <td>15.7</td>\n",
       "      <td>2.14</td>\n",
       "      <td>nan</td>\n",
       "      <td>27.0</td>\n",
       "    </tr>\n",
       "    <tr>\n",
       "      <th>zep</th>\n",
       "      <td>9.17</td>\n",
       "      <td>15.7</td>\n",
       "      <td>2.14</td>\n",
       "      <td>nan</td>\n",
       "      <td>27.0</td>\n",
       "    </tr>\n",
       "    <tr>\n",
       "      <th>maxdep</th>\n",
       "      <td>9.17</td>\n",
       "      <td>15.7</td>\n",
       "      <td>2.14</td>\n",
       "      <td>nan</td>\n",
       "      <td>27.0</td>\n",
       "    </tr>\n",
       "  </tbody>\n",
       "</table>\n",
       "</div>"
      ],
      "text/plain": [
       "           O3  CH4  strat H2O  H2  total\n",
       "antro01  9.17 15.7       2.14 nan   27.0\n",
       "antro1   9.17 15.7       2.14 nan   27.0\n",
       "antro10  9.17 15.7       2.14 nan   27.0\n",
       "antro100 9.17 15.7       2.14 nan   27.0\n",
       "nemo     9.17 15.7       2.14 nan   27.0\n",
       "epia     9.17 15.7       2.14 nan   27.0\n",
       "munich   9.17 15.7       2.14 nan   27.0\n",
       "usdrydep 9.17 15.7       2.14 nan   27.0\n",
       "maud     9.17 15.7       2.14 nan   27.0\n",
       "zep      9.17 15.7       2.14 nan   27.0\n",
       "maxdep   9.17 15.7       2.14 nan   27.0"
      ]
     },
     "execution_count": 121,
     "metadata": {},
     "output_type": "execute_result"
    }
   ],
   "source": [
    "#df_ch4_gwp = df_ch4_gwp[sorted(df_ch4_gwp.columns)]\n",
    "#df_ch4_gwp.drop('GFDL-emi',axis=1).to_csv(outputpath + 'table_ch4_gwp.csv')\n",
    "\n",
    "df_ch4_gwp = df_ch4_gwp.drop('CNTR',axis=1)\n",
    "df_ch4_gwp.to_csv(outputpath + 'table_ch4_gwp.csv')\n",
    "df_ch4_gwp.loc['total']=df_ch4_gwp.sum()\n",
    "df_ch4_gwp.T"
   ]
  },
  {
   "cell_type": "markdown",
   "metadata": {},
   "source": [
    "## Table per flux H2"
   ]
  },
  {
   "cell_type": "code",
   "execution_count": 122,
   "metadata": {},
   "outputs": [
    {
     "data": {
      "text/html": [
       "<div>\n",
       "<style scoped>\n",
       "    .dataframe tbody tr th:only-of-type {\n",
       "        vertical-align: middle;\n",
       "    }\n",
       "\n",
       "    .dataframe tbody tr th {\n",
       "        vertical-align: top;\n",
       "    }\n",
       "\n",
       "    .dataframe thead th {\n",
       "        text-align: right;\n",
       "    }\n",
       "</style>\n",
       "<table border=\"1\" class=\"dataframe\">\n",
       "  <thead>\n",
       "    <tr style=\"text-align: right;\">\n",
       "      <th></th>\n",
       "      <th>Flux H2 [Tg/yr]</th>\n",
       "      <th>Surf. conc. H2 per flux [ppb yr/Tg]</th>\n",
       "      <th>Surf. conc. CH4 per flux [ppb yr/Tg]</th>\n",
       "      <th>Flux CH4/Flux H2 [Tg CH4/Tg H2]</th>\n",
       "      <th>CH4 RF per flux [mW m-2 yr/ Tg]</th>\n",
       "      <th>ozone RF per flux [mW m-2 yr/ Tg]</th>\n",
       "      <th>Strat. H2O RF per flux [mW m-2 yr/ Tg]</th>\n",
       "      <th>Aerosol RF per flux [mW m-2 yr/ Tg]</th>\n",
       "    </tr>\n",
       "  </thead>\n",
       "  <tbody>\n",
       "    <tr>\n",
       "      <th>CNTR</th>\n",
       "      <td>0.00</td>\n",
       "      <td>nan</td>\n",
       "      <td>nan</td>\n",
       "      <td>nan</td>\n",
       "      <td>nan</td>\n",
       "      <td>nan</td>\n",
       "      <td>nan</td>\n",
       "      <td>nan</td>\n",
       "    </tr>\n",
       "    <tr>\n",
       "      <th>antro01</th>\n",
       "      <td>0.10</td>\n",
       "      <td>6.27</td>\n",
       "      <td>1.11</td>\n",
       "      <td>0.30</td>\n",
       "      <td>0.43</td>\n",
       "      <td>0.19</td>\n",
       "      <td>0.17</td>\n",
       "      <td>nan</td>\n",
       "    </tr>\n",
       "    <tr>\n",
       "      <th>antro1</th>\n",
       "      <td>0.99</td>\n",
       "      <td>6.27</td>\n",
       "      <td>1.12</td>\n",
       "      <td>0.31</td>\n",
       "      <td>0.43</td>\n",
       "      <td>0.21</td>\n",
       "      <td>0.17</td>\n",
       "      <td>nan</td>\n",
       "    </tr>\n",
       "    <tr>\n",
       "      <th>antro10</th>\n",
       "      <td>9.90</td>\n",
       "      <td>6.28</td>\n",
       "      <td>1.12</td>\n",
       "      <td>0.31</td>\n",
       "      <td>0.43</td>\n",
       "      <td>0.22</td>\n",
       "      <td>0.17</td>\n",
       "      <td>nan</td>\n",
       "    </tr>\n",
       "    <tr>\n",
       "      <th>antro100</th>\n",
       "      <td>99.1</td>\n",
       "      <td>6.35</td>\n",
       "      <td>1.06</td>\n",
       "      <td>0.29</td>\n",
       "      <td>0.41</td>\n",
       "      <td>0.22</td>\n",
       "      <td>0.17</td>\n",
       "      <td>nan</td>\n",
       "    </tr>\n",
       "    <tr>\n",
       "      <th>epia</th>\n",
       "      <td>0.99</td>\n",
       "      <td>6.05</td>\n",
       "      <td>1.01</td>\n",
       "      <td>0.28</td>\n",
       "      <td>0.39</td>\n",
       "      <td>0.18</td>\n",
       "      <td>0.14</td>\n",
       "      <td>nan</td>\n",
       "    </tr>\n",
       "    <tr>\n",
       "      <th>maud</th>\n",
       "      <td>0.99</td>\n",
       "      <td>9.24</td>\n",
       "      <td>1.29</td>\n",
       "      <td>0.35</td>\n",
       "      <td>0.50</td>\n",
       "      <td>0.23</td>\n",
       "      <td>0.18</td>\n",
       "      <td>nan</td>\n",
       "    </tr>\n",
       "    <tr>\n",
       "      <th>maxdep</th>\n",
       "      <td>0.99</td>\n",
       "      <td>5.48</td>\n",
       "      <td>1.03</td>\n",
       "      <td>0.28</td>\n",
       "      <td>0.40</td>\n",
       "      <td>0.20</td>\n",
       "      <td>0.16</td>\n",
       "      <td>nan</td>\n",
       "    </tr>\n",
       "    <tr>\n",
       "      <th>munich</th>\n",
       "      <td>0.99</td>\n",
       "      <td>6.32</td>\n",
       "      <td>1.08</td>\n",
       "      <td>0.29</td>\n",
       "      <td>0.41</td>\n",
       "      <td>0.20</td>\n",
       "      <td>0.15</td>\n",
       "      <td>nan</td>\n",
       "    </tr>\n",
       "    <tr>\n",
       "      <th>nemo</th>\n",
       "      <td>0.99</td>\n",
       "      <td>7.92</td>\n",
       "      <td>1.29</td>\n",
       "      <td>0.35</td>\n",
       "      <td>0.50</td>\n",
       "      <td>0.23</td>\n",
       "      <td>0.18</td>\n",
       "      <td>nan</td>\n",
       "    </tr>\n",
       "    <tr>\n",
       "      <th>usdrydep</th>\n",
       "      <td>0.99</td>\n",
       "      <td>5.20</td>\n",
       "      <td>0.92</td>\n",
       "      <td>0.25</td>\n",
       "      <td>0.36</td>\n",
       "      <td>0.17</td>\n",
       "      <td>0.13</td>\n",
       "      <td>nan</td>\n",
       "    </tr>\n",
       "    <tr>\n",
       "      <th>zep</th>\n",
       "      <td>0.99</td>\n",
       "      <td>6.69</td>\n",
       "      <td>1.06</td>\n",
       "      <td>0.29</td>\n",
       "      <td>0.41</td>\n",
       "      <td>0.19</td>\n",
       "      <td>0.15</td>\n",
       "      <td>nan</td>\n",
       "    </tr>\n",
       "  </tbody>\n",
       "</table>\n",
       "</div>"
      ],
      "text/plain": [
       "          Flux H2 [Tg/yr]  Surf. conc. H2 per flux [ppb yr/Tg]  \\\n",
       "CNTR                 0.00                                  nan   \n",
       "antro01              0.10                                 6.27   \n",
       "antro1               0.99                                 6.27   \n",
       "antro10              9.90                                 6.28   \n",
       "antro100             99.1                                 6.35   \n",
       "epia                 0.99                                 6.05   \n",
       "maud                 0.99                                 9.24   \n",
       "maxdep               0.99                                 5.48   \n",
       "munich               0.99                                 6.32   \n",
       "nemo                 0.99                                 7.92   \n",
       "usdrydep             0.99                                 5.20   \n",
       "zep                  0.99                                 6.69   \n",
       "\n",
       "          Surf. conc. CH4 per flux [ppb yr/Tg]  \\\n",
       "CNTR                                       nan   \n",
       "antro01                                   1.11   \n",
       "antro1                                    1.12   \n",
       "antro10                                   1.12   \n",
       "antro100                                  1.06   \n",
       "epia                                      1.01   \n",
       "maud                                      1.29   \n",
       "maxdep                                    1.03   \n",
       "munich                                    1.08   \n",
       "nemo                                      1.29   \n",
       "usdrydep                                  0.92   \n",
       "zep                                       1.06   \n",
       "\n",
       "          Flux CH4/Flux H2 [Tg CH4/Tg H2]  CH4 RF per flux [mW m-2 yr/ Tg]  \\\n",
       "CNTR                                  nan                              nan   \n",
       "antro01                              0.30                             0.43   \n",
       "antro1                               0.31                             0.43   \n",
       "antro10                              0.31                             0.43   \n",
       "antro100                             0.29                             0.41   \n",
       "epia                                 0.28                             0.39   \n",
       "maud                                 0.35                             0.50   \n",
       "maxdep                               0.28                             0.40   \n",
       "munich                               0.29                             0.41   \n",
       "nemo                                 0.35                             0.50   \n",
       "usdrydep                             0.25                             0.36   \n",
       "zep                                  0.29                             0.41   \n",
       "\n",
       "          ozone RF per flux [mW m-2 yr/ Tg]  \\\n",
       "CNTR                                    nan   \n",
       "antro01                                0.19   \n",
       "antro1                                 0.21   \n",
       "antro10                                0.22   \n",
       "antro100                               0.22   \n",
       "epia                                   0.18   \n",
       "maud                                   0.23   \n",
       "maxdep                                 0.20   \n",
       "munich                                 0.20   \n",
       "nemo                                   0.23   \n",
       "usdrydep                               0.17   \n",
       "zep                                    0.19   \n",
       "\n",
       "          Strat. H2O RF per flux [mW m-2 yr/ Tg]  \\\n",
       "CNTR                                         nan   \n",
       "antro01                                     0.17   \n",
       "antro1                                      0.17   \n",
       "antro10                                     0.17   \n",
       "antro100                                    0.17   \n",
       "epia                                        0.14   \n",
       "maud                                        0.18   \n",
       "maxdep                                      0.16   \n",
       "munich                                      0.15   \n",
       "nemo                                        0.18   \n",
       "usdrydep                                    0.13   \n",
       "zep                                         0.15   \n",
       "\n",
       "          Aerosol RF per flux [mW m-2 yr/ Tg]  \n",
       "CNTR                                      nan  \n",
       "antro01                                   nan  \n",
       "antro1                                    nan  \n",
       "antro10                                   nan  \n",
       "antro100                                  nan  \n",
       "epia                                      nan  \n",
       "maud                                      nan  \n",
       "maxdep                                    nan  \n",
       "munich                                    nan  \n",
       "nemo                                      nan  \n",
       "usdrydep                                  nan  \n",
       "zep                                       nan  "
      ]
     },
     "execution_count": 122,
     "metadata": {},
     "output_type": "execute_result"
    }
   ],
   "source": [
    "df_per_flux_h2 = pd.concat([df_h2_flux['deltaH2'],\n",
    "                            df_surf_h2_per_h2_flux,\n",
    "                            df_surf_ch4_per_h2_flux,\n",
    "                            df_ch4_flux_per_h2_flux,\n",
    "                            df_ch4_rf_per_h2_flux,\n",
    "                            #df_trop_du_ozone_per_h2_flux*1000.,\n",
    "                            #df_strat_du_ozone_per_h2_flux*1000.,\n",
    "                            df_ozone_rf_per_h2_flux,\n",
    "                            df_h2o_rf_per_h2_flux,\n",
    "                            df_aerosol_rf_per_h2_flux],axis=1, sort=False)\n",
    "\n",
    "\n",
    "\n",
    "#Save to file:\n",
    "df_per_flux_h2 = df_per_flux_h2.sort_index()\n",
    "df_per_flux_h2.to_csv(outputpath + 'table_per_flux_h2.csv')\n",
    "\n",
    "#Rename the columns:\n",
    "columns_names={'deltaH2':'Flux H2 [Tg/yr]',\n",
    "               'surf_h2_per_h2_flux': 'Surf. conc. H2 per flux [ppb yr/Tg]',\n",
    "               'surf_ch4_per_h2_flux':'Surf. conc. CH4 per flux [ppb yr/Tg]',\n",
    "               'ch4_flux_per_h2_flux':'Flux CH4/Flux H2 [Tg CH4/Tg H2]',\n",
    "               'ch4_rf_per_h2_flux':'CH4 RF per flux [mW m-2 yr/ Tg]',\n",
    "               'trop_du_ozone_per_h2_flux':'Trop. ozone per flux [10$^{-3}$ DU yr/Tg]',\n",
    "               'strat_du_ozone_per_h2_flux':'Strat. ozone per flux [10$^{-3}$ DU yr/Tg]',\n",
    "               'ozone_rf_per_h2_flux':'ozone RF per flux [mW m-2 yr/ Tg]',\n",
    "               'h2o_rf_per_h2_flux':'Strat. H2O RF per flux [mW m-2 yr/ Tg]',\n",
    "               'aerosol_rf_per_h2_flux':'Aerosol RF per flux [mW m-2 yr/ Tg]'}\n",
    "#Rename column names:\n",
    "df_per_flux_h2.rename(columns=dict(columns_names),inplace=True) #[df_per_flux_h2.columns])\n",
    "#df_per_flux_h2.rename(model_dict,axis=0,inplace=True)\n",
    "#df_per_flux_h2.loc['Model mean'] = df_per_flux_h2.drop(['GFDL-emi','OsloCTM-emi']).mean()\n",
    "#df_per_flux_h2['Flux H2 [Tg/yr]'].loc['Model mean']=np.nan\n",
    "#df_per_flux_h2=df_per_flux_h2.reindex(sorted_array_2)\n",
    "df_per_flux_h2"
   ]
  },
  {
   "cell_type": "code",
   "execution_count": null,
   "metadata": {},
   "outputs": [],
   "source": []
  },
  {
   "cell_type": "markdown",
   "metadata": {},
   "source": [
    "## Table per flux CH4"
   ]
  },
  {
   "cell_type": "code",
   "execution_count": 123,
   "metadata": {
    "scrolled": true
   },
   "outputs": [
    {
     "data": {
      "text/html": [
       "<div>\n",
       "<style scoped>\n",
       "    .dataframe tbody tr th:only-of-type {\n",
       "        vertical-align: middle;\n",
       "    }\n",
       "\n",
       "    .dataframe tbody tr th {\n",
       "        vertical-align: top;\n",
       "    }\n",
       "\n",
       "    .dataframe thead th {\n",
       "        text-align: right;\n",
       "    }\n",
       "</style>\n",
       "<table border=\"1\" class=\"dataframe\">\n",
       "  <thead>\n",
       "    <tr style=\"text-align: right;\">\n",
       "      <th></th>\n",
       "      <th>Flux CH4 [Tg/yr]</th>\n",
       "      <th>Surf. conc. CH4 per flux [ppb yr/Tg]</th>\n",
       "      <th>Flux H2/Flux CH4 [Tg H2/Tg CH4]</th>\n",
       "      <th>ozone RF per flux [mW m-2 yr/ Tg]</th>\n",
       "      <th>Strat H2O RF per flux [mW m-2 yr/ Tg]</th>\n",
       "      <th>Aerosol RF per flux [mW m-2 yr/ Tg]</th>\n",
       "    </tr>\n",
       "  </thead>\n",
       "  <tbody>\n",
       "    <tr>\n",
       "      <th>CNTR</th>\n",
       "      <td>49.7</td>\n",
       "      <td>3.65</td>\n",
       "      <td>0.02</td>\n",
       "      <td>0.82</td>\n",
       "      <td>0.19</td>\n",
       "      <td>NaN</td>\n",
       "    </tr>\n",
       "    <tr>\n",
       "      <th>antro01</th>\n",
       "      <td>49.7</td>\n",
       "      <td>3.65</td>\n",
       "      <td>0.02</td>\n",
       "      <td>0.82</td>\n",
       "      <td>0.19</td>\n",
       "      <td>NaN</td>\n",
       "    </tr>\n",
       "    <tr>\n",
       "      <th>antro1</th>\n",
       "      <td>49.7</td>\n",
       "      <td>3.65</td>\n",
       "      <td>0.02</td>\n",
       "      <td>0.82</td>\n",
       "      <td>0.19</td>\n",
       "      <td>NaN</td>\n",
       "    </tr>\n",
       "    <tr>\n",
       "      <th>antro10</th>\n",
       "      <td>49.7</td>\n",
       "      <td>3.65</td>\n",
       "      <td>0.02</td>\n",
       "      <td>0.82</td>\n",
       "      <td>0.19</td>\n",
       "      <td>NaN</td>\n",
       "    </tr>\n",
       "    <tr>\n",
       "      <th>antro100</th>\n",
       "      <td>49.7</td>\n",
       "      <td>3.65</td>\n",
       "      <td>0.02</td>\n",
       "      <td>0.82</td>\n",
       "      <td>0.19</td>\n",
       "      <td>NaN</td>\n",
       "    </tr>\n",
       "    <tr>\n",
       "      <th>nemo</th>\n",
       "      <td>49.7</td>\n",
       "      <td>3.65</td>\n",
       "      <td>0.02</td>\n",
       "      <td>0.82</td>\n",
       "      <td>0.19</td>\n",
       "      <td>NaN</td>\n",
       "    </tr>\n",
       "    <tr>\n",
       "      <th>epia</th>\n",
       "      <td>49.7</td>\n",
       "      <td>3.65</td>\n",
       "      <td>0.02</td>\n",
       "      <td>0.82</td>\n",
       "      <td>0.19</td>\n",
       "      <td>NaN</td>\n",
       "    </tr>\n",
       "    <tr>\n",
       "      <th>munich</th>\n",
       "      <td>49.7</td>\n",
       "      <td>3.65</td>\n",
       "      <td>0.02</td>\n",
       "      <td>0.82</td>\n",
       "      <td>0.19</td>\n",
       "      <td>NaN</td>\n",
       "    </tr>\n",
       "    <tr>\n",
       "      <th>usdrydep</th>\n",
       "      <td>49.7</td>\n",
       "      <td>3.65</td>\n",
       "      <td>0.02</td>\n",
       "      <td>0.82</td>\n",
       "      <td>0.19</td>\n",
       "      <td>NaN</td>\n",
       "    </tr>\n",
       "    <tr>\n",
       "      <th>maud</th>\n",
       "      <td>49.7</td>\n",
       "      <td>3.65</td>\n",
       "      <td>0.02</td>\n",
       "      <td>0.82</td>\n",
       "      <td>0.19</td>\n",
       "      <td>NaN</td>\n",
       "    </tr>\n",
       "    <tr>\n",
       "      <th>zep</th>\n",
       "      <td>49.7</td>\n",
       "      <td>3.65</td>\n",
       "      <td>0.02</td>\n",
       "      <td>0.82</td>\n",
       "      <td>0.19</td>\n",
       "      <td>NaN</td>\n",
       "    </tr>\n",
       "    <tr>\n",
       "      <th>maxdep</th>\n",
       "      <td>49.7</td>\n",
       "      <td>3.65</td>\n",
       "      <td>0.02</td>\n",
       "      <td>0.82</td>\n",
       "      <td>0.19</td>\n",
       "      <td>NaN</td>\n",
       "    </tr>\n",
       "  </tbody>\n",
       "</table>\n",
       "</div>"
      ],
      "text/plain": [
       "          Flux CH4 [Tg/yr]  Surf. conc. CH4 per flux [ppb yr/Tg]  \\\n",
       "CNTR                  49.7                                  3.65   \n",
       "antro01               49.7                                  3.65   \n",
       "antro1                49.7                                  3.65   \n",
       "antro10               49.7                                  3.65   \n",
       "antro100              49.7                                  3.65   \n",
       "nemo                  49.7                                  3.65   \n",
       "epia                  49.7                                  3.65   \n",
       "munich                49.7                                  3.65   \n",
       "usdrydep              49.7                                  3.65   \n",
       "maud                  49.7                                  3.65   \n",
       "zep                   49.7                                  3.65   \n",
       "maxdep                49.7                                  3.65   \n",
       "\n",
       "          Flux H2/Flux CH4 [Tg H2/Tg CH4] ozone RF per flux [mW m-2 yr/ Tg]  \\\n",
       "CNTR                                 0.02                              0.82   \n",
       "antro01                              0.02                              0.82   \n",
       "antro1                               0.02                              0.82   \n",
       "antro10                              0.02                              0.82   \n",
       "antro100                             0.02                              0.82   \n",
       "nemo                                 0.02                              0.82   \n",
       "epia                                 0.02                              0.82   \n",
       "munich                               0.02                              0.82   \n",
       "usdrydep                             0.02                              0.82   \n",
       "maud                                 0.02                              0.82   \n",
       "zep                                  0.02                              0.82   \n",
       "maxdep                               0.02                              0.82   \n",
       "\n",
       "         Strat H2O RF per flux [mW m-2 yr/ Tg]  \\\n",
       "CNTR                                      0.19   \n",
       "antro01                                   0.19   \n",
       "antro1                                    0.19   \n",
       "antro10                                   0.19   \n",
       "antro100                                  0.19   \n",
       "nemo                                      0.19   \n",
       "epia                                      0.19   \n",
       "munich                                    0.19   \n",
       "usdrydep                                  0.19   \n",
       "maud                                      0.19   \n",
       "zep                                       0.19   \n",
       "maxdep                                    0.19   \n",
       "\n",
       "         Aerosol RF per flux [mW m-2 yr/ Tg]  \n",
       "CNTR                                     NaN  \n",
       "antro01                                  NaN  \n",
       "antro1                                   NaN  \n",
       "antro10                                  NaN  \n",
       "antro100                                 NaN  \n",
       "nemo                                     NaN  \n",
       "epia                                     NaN  \n",
       "munich                                   NaN  \n",
       "usdrydep                                 NaN  \n",
       "maud                                     NaN  \n",
       "zep                                      NaN  \n",
       "maxdep                                   NaN  "
      ]
     },
     "execution_count": 123,
     "metadata": {},
     "output_type": "execute_result"
    }
   ],
   "source": [
    "df_per_flux_ch4 = pd.concat([df_ch4_flux.loc['deltaCH4'],\n",
    "                            df_surf_ch4_per_ch4_flux,\n",
    "                            df_h2_flux_per_ch4_flux,\n",
    "                            #df_trop_du_ozone_per_ch4_flux*1000.,\n",
    "                            #df_strat_du_ozone_per_ch4_flux*1000.,\n",
    "                            df_ozone_rf_per_ch4_flux,\n",
    "                            df_h2o_rf_per_ch4_flux,\n",
    "                            df_aerosol_rf_per_ch4_flux],axis=1,sort=False)\n",
    "\n",
    "\n",
    "\n",
    "               \n",
    "#Save to file:\n",
    "#df_per_flux_ch4 = df_per_flux_ch4.sort_index()\n",
    "df_per_flux_ch4.to_csv(outputpath + 'table_per_flux_ch4.csv')\n",
    "\n",
    "#Rename the columns:\n",
    "columns_names={'deltaCH4':'Flux CH4 [Tg/yr]',\n",
    "               'surf_ch4_per_ch4_flux':'Surf. conc. CH4 per flux [ppb yr/Tg]',\n",
    "               'h2_flux_per_ch4_flux':'Flux H2/Flux CH4 [Tg H2/Tg CH4]',\n",
    "               'trop_du_ozone_per_ch4_flux':'Trop. ozone per flux [10$^{-3}$ DU yr/Tg]',\n",
    "               'strat_du_ozone_per_ch4_flux':'Strat. ozone per flux [10$^{-3}$ DU yr/Tg]',\n",
    "               'ozone_rf_per_ch4_flux':'ozone RF per flux [mW m-2 yr/ Tg]',\n",
    "               'h2o_rf_per_ch4_flux':'Strat H2O RF per flux [mW m-2 yr/ Tg]',\n",
    "               'aerosol_rf_per_ch4_flux':'Aerosol RF per flux [mW m-2 yr/ Tg]'}\n",
    "               \n",
    "#Rename column names:\n",
    "\n",
    "df_per_flux_ch4.rename(columns=dict(columns_names),inplace=True) \n",
    "\n",
    "#df_per_flux_ch4.rename(model_dict, inplace=True)\n",
    "\n",
    "#df_per_flux_ch4.loc['Model mean'] = df_per_flux_ch4.drop(['GFDL-emi','OsloCTM-emi']).mean()\n",
    "\n",
    "#df_per_flux_ch4 = df_per_flux_ch4.reindex(sorted_array_2)\n",
    "\n",
    "df_per_flux_ch4        "
   ]
  },
  {
   "cell_type": "markdown",
   "metadata": {},
   "source": [
    "## Table per flux H2 (including changes in methane)"
   ]
  },
  {
   "cell_type": "code",
   "execution_count": 124,
   "metadata": {},
   "outputs": [
    {
     "data": {
      "text/html": [
       "<div>\n",
       "<style scoped>\n",
       "    .dataframe tbody tr th:only-of-type {\n",
       "        vertical-align: middle;\n",
       "    }\n",
       "\n",
       "    .dataframe tbody tr th {\n",
       "        vertical-align: top;\n",
       "    }\n",
       "\n",
       "    .dataframe thead th {\n",
       "        text-align: right;\n",
       "    }\n",
       "</style>\n",
       "<table border=\"1\" class=\"dataframe\">\n",
       "  <thead>\n",
       "    <tr style=\"text-align: right;\">\n",
       "      <th></th>\n",
       "      <th>deltaH2</th>\n",
       "      <th>surf_h2_per_h2_flux</th>\n",
       "      <th>surf_ch4_per_h2_flux</th>\n",
       "      <th>ch4_flux_per_h2_flux</th>\n",
       "      <th>ch4_rf_per_h2_flux</th>\n",
       "      <th>ozone_rf_per_h2_flux</th>\n",
       "      <th>h2o_rf_per_h2_flux</th>\n",
       "      <th>aerosol_rf_per_h2_flux</th>\n",
       "    </tr>\n",
       "  </thead>\n",
       "  <tbody>\n",
       "    <tr>\n",
       "      <th>CNTR</th>\n",
       "      <td>0.00</td>\n",
       "      <td>nan</td>\n",
       "      <td>nan</td>\n",
       "      <td>nan</td>\n",
       "      <td>nan</td>\n",
       "      <td>nan</td>\n",
       "      <td>nan</td>\n",
       "      <td>nan</td>\n",
       "    </tr>\n",
       "    <tr>\n",
       "      <th>antro01</th>\n",
       "      <td>0.10</td>\n",
       "      <td>6.27</td>\n",
       "      <td>1.11</td>\n",
       "      <td>0.30</td>\n",
       "      <td>0.43</td>\n",
       "      <td>0.19</td>\n",
       "      <td>0.17</td>\n",
       "      <td>nan</td>\n",
       "    </tr>\n",
       "    <tr>\n",
       "      <th>antro1</th>\n",
       "      <td>0.99</td>\n",
       "      <td>6.27</td>\n",
       "      <td>1.12</td>\n",
       "      <td>0.31</td>\n",
       "      <td>0.43</td>\n",
       "      <td>0.21</td>\n",
       "      <td>0.17</td>\n",
       "      <td>nan</td>\n",
       "    </tr>\n",
       "    <tr>\n",
       "      <th>antro10</th>\n",
       "      <td>9.90</td>\n",
       "      <td>6.28</td>\n",
       "      <td>1.12</td>\n",
       "      <td>0.31</td>\n",
       "      <td>0.43</td>\n",
       "      <td>0.22</td>\n",
       "      <td>0.17</td>\n",
       "      <td>nan</td>\n",
       "    </tr>\n",
       "    <tr>\n",
       "      <th>antro100</th>\n",
       "      <td>99.1</td>\n",
       "      <td>6.35</td>\n",
       "      <td>1.06</td>\n",
       "      <td>0.29</td>\n",
       "      <td>0.41</td>\n",
       "      <td>0.22</td>\n",
       "      <td>0.17</td>\n",
       "      <td>nan</td>\n",
       "    </tr>\n",
       "    <tr>\n",
       "      <th>epia</th>\n",
       "      <td>0.99</td>\n",
       "      <td>6.05</td>\n",
       "      <td>1.01</td>\n",
       "      <td>0.28</td>\n",
       "      <td>0.39</td>\n",
       "      <td>0.18</td>\n",
       "      <td>0.14</td>\n",
       "      <td>nan</td>\n",
       "    </tr>\n",
       "    <tr>\n",
       "      <th>maud</th>\n",
       "      <td>0.99</td>\n",
       "      <td>9.24</td>\n",
       "      <td>1.29</td>\n",
       "      <td>0.35</td>\n",
       "      <td>0.50</td>\n",
       "      <td>0.23</td>\n",
       "      <td>0.18</td>\n",
       "      <td>nan</td>\n",
       "    </tr>\n",
       "    <tr>\n",
       "      <th>maxdep</th>\n",
       "      <td>0.99</td>\n",
       "      <td>5.48</td>\n",
       "      <td>1.03</td>\n",
       "      <td>0.28</td>\n",
       "      <td>0.40</td>\n",
       "      <td>0.20</td>\n",
       "      <td>0.16</td>\n",
       "      <td>nan</td>\n",
       "    </tr>\n",
       "    <tr>\n",
       "      <th>munich</th>\n",
       "      <td>0.99</td>\n",
       "      <td>6.32</td>\n",
       "      <td>1.08</td>\n",
       "      <td>0.29</td>\n",
       "      <td>0.41</td>\n",
       "      <td>0.20</td>\n",
       "      <td>0.15</td>\n",
       "      <td>nan</td>\n",
       "    </tr>\n",
       "    <tr>\n",
       "      <th>nemo</th>\n",
       "      <td>0.99</td>\n",
       "      <td>7.92</td>\n",
       "      <td>1.29</td>\n",
       "      <td>0.35</td>\n",
       "      <td>0.50</td>\n",
       "      <td>0.23</td>\n",
       "      <td>0.18</td>\n",
       "      <td>nan</td>\n",
       "    </tr>\n",
       "    <tr>\n",
       "      <th>usdrydep</th>\n",
       "      <td>0.99</td>\n",
       "      <td>5.20</td>\n",
       "      <td>0.92</td>\n",
       "      <td>0.25</td>\n",
       "      <td>0.36</td>\n",
       "      <td>0.17</td>\n",
       "      <td>0.13</td>\n",
       "      <td>nan</td>\n",
       "    </tr>\n",
       "    <tr>\n",
       "      <th>zep</th>\n",
       "      <td>0.99</td>\n",
       "      <td>6.69</td>\n",
       "      <td>1.06</td>\n",
       "      <td>0.29</td>\n",
       "      <td>0.41</td>\n",
       "      <td>0.19</td>\n",
       "      <td>0.15</td>\n",
       "      <td>nan</td>\n",
       "    </tr>\n",
       "  </tbody>\n",
       "</table>\n",
       "</div>"
      ],
      "text/plain": [
       "          deltaH2  surf_h2_per_h2_flux  surf_ch4_per_h2_flux  \\\n",
       "CNTR         0.00                  nan                   nan   \n",
       "antro01      0.10                 6.27                  1.11   \n",
       "antro1       0.99                 6.27                  1.12   \n",
       "antro10      9.90                 6.28                  1.12   \n",
       "antro100     99.1                 6.35                  1.06   \n",
       "epia         0.99                 6.05                  1.01   \n",
       "maud         0.99                 9.24                  1.29   \n",
       "maxdep       0.99                 5.48                  1.03   \n",
       "munich       0.99                 6.32                  1.08   \n",
       "nemo         0.99                 7.92                  1.29   \n",
       "usdrydep     0.99                 5.20                  0.92   \n",
       "zep          0.99                 6.69                  1.06   \n",
       "\n",
       "          ch4_flux_per_h2_flux  ch4_rf_per_h2_flux  ozone_rf_per_h2_flux  \\\n",
       "CNTR                       nan                 nan                   nan   \n",
       "antro01                   0.30                0.43                  0.19   \n",
       "antro1                    0.31                0.43                  0.21   \n",
       "antro10                   0.31                0.43                  0.22   \n",
       "antro100                  0.29                0.41                  0.22   \n",
       "epia                      0.28                0.39                  0.18   \n",
       "maud                      0.35                0.50                  0.23   \n",
       "maxdep                    0.28                0.40                  0.20   \n",
       "munich                    0.29                0.41                  0.20   \n",
       "nemo                      0.35                0.50                  0.23   \n",
       "usdrydep                  0.25                0.36                  0.17   \n",
       "zep                       0.29                0.41                  0.19   \n",
       "\n",
       "          h2o_rf_per_h2_flux  aerosol_rf_per_h2_flux  \n",
       "CNTR                     nan                     nan  \n",
       "antro01                 0.17                     nan  \n",
       "antro1                  0.17                     nan  \n",
       "antro10                 0.17                     nan  \n",
       "antro100                0.17                     nan  \n",
       "epia                    0.14                     nan  \n",
       "maud                    0.18                     nan  \n",
       "maxdep                  0.16                     nan  \n",
       "munich                  0.15                     nan  \n",
       "nemo                    0.18                     nan  \n",
       "usdrydep                0.13                     nan  \n",
       "zep                     0.15                     nan  "
      ]
     },
     "execution_count": 124,
     "metadata": {},
     "output_type": "execute_result"
    }
   ],
   "source": [
    "#Reread - to get the other heading.\n",
    "\n",
    "df_per_flux_h2_combined = pd.read_csv(outputpath + 'table_per_flux_h2.csv',index_col=0)\n",
    "#df_per_flux_h2_combined.rename(columns=dict(columns_names),inplace=True) \n",
    "\n",
    "#df_per_flux_h2_combined.rename(model_dict, inplace=True)\n",
    "\n",
    "df_per_flux_h2_combined"
   ]
  },
  {
   "cell_type": "code",
   "execution_count": 125,
   "metadata": {},
   "outputs": [
    {
     "data": {
      "text/html": [
       "<div>\n",
       "<style scoped>\n",
       "    .dataframe tbody tr th:only-of-type {\n",
       "        vertical-align: middle;\n",
       "    }\n",
       "\n",
       "    .dataframe tbody tr th {\n",
       "        vertical-align: top;\n",
       "    }\n",
       "\n",
       "    .dataframe thead th {\n",
       "        text-align: right;\n",
       "    }\n",
       "</style>\n",
       "<table border=\"1\" class=\"dataframe\">\n",
       "  <thead>\n",
       "    <tr style=\"text-align: right;\">\n",
       "      <th></th>\n",
       "      <th>deltaCH4</th>\n",
       "      <th>surf_ch4_per_ch4_flux</th>\n",
       "      <th>h2_flux_per_ch4_flux</th>\n",
       "      <th>ozone_rf_per_ch4_flux</th>\n",
       "      <th>h2o_rf_per_ch4_flux</th>\n",
       "      <th>aerosol_rf_per_ch4_flux</th>\n",
       "    </tr>\n",
       "  </thead>\n",
       "  <tbody>\n",
       "    <tr>\n",
       "      <th>CNTR</th>\n",
       "      <td>49.7</td>\n",
       "      <td>3.65</td>\n",
       "      <td>0.02</td>\n",
       "      <td>0.82</td>\n",
       "      <td>0.19</td>\n",
       "      <td>nan</td>\n",
       "    </tr>\n",
       "    <tr>\n",
       "      <th>antro01</th>\n",
       "      <td>49.7</td>\n",
       "      <td>3.65</td>\n",
       "      <td>0.02</td>\n",
       "      <td>0.82</td>\n",
       "      <td>0.19</td>\n",
       "      <td>nan</td>\n",
       "    </tr>\n",
       "    <tr>\n",
       "      <th>antro1</th>\n",
       "      <td>49.7</td>\n",
       "      <td>3.65</td>\n",
       "      <td>0.02</td>\n",
       "      <td>0.82</td>\n",
       "      <td>0.19</td>\n",
       "      <td>nan</td>\n",
       "    </tr>\n",
       "    <tr>\n",
       "      <th>antro10</th>\n",
       "      <td>49.7</td>\n",
       "      <td>3.65</td>\n",
       "      <td>0.02</td>\n",
       "      <td>0.82</td>\n",
       "      <td>0.19</td>\n",
       "      <td>nan</td>\n",
       "    </tr>\n",
       "    <tr>\n",
       "      <th>antro100</th>\n",
       "      <td>49.7</td>\n",
       "      <td>3.65</td>\n",
       "      <td>0.02</td>\n",
       "      <td>0.82</td>\n",
       "      <td>0.19</td>\n",
       "      <td>nan</td>\n",
       "    </tr>\n",
       "    <tr>\n",
       "      <th>nemo</th>\n",
       "      <td>49.7</td>\n",
       "      <td>3.65</td>\n",
       "      <td>0.02</td>\n",
       "      <td>0.82</td>\n",
       "      <td>0.19</td>\n",
       "      <td>nan</td>\n",
       "    </tr>\n",
       "    <tr>\n",
       "      <th>epia</th>\n",
       "      <td>49.7</td>\n",
       "      <td>3.65</td>\n",
       "      <td>0.02</td>\n",
       "      <td>0.82</td>\n",
       "      <td>0.19</td>\n",
       "      <td>nan</td>\n",
       "    </tr>\n",
       "    <tr>\n",
       "      <th>munich</th>\n",
       "      <td>49.7</td>\n",
       "      <td>3.65</td>\n",
       "      <td>0.02</td>\n",
       "      <td>0.82</td>\n",
       "      <td>0.19</td>\n",
       "      <td>nan</td>\n",
       "    </tr>\n",
       "    <tr>\n",
       "      <th>usdrydep</th>\n",
       "      <td>49.7</td>\n",
       "      <td>3.65</td>\n",
       "      <td>0.02</td>\n",
       "      <td>0.82</td>\n",
       "      <td>0.19</td>\n",
       "      <td>nan</td>\n",
       "    </tr>\n",
       "    <tr>\n",
       "      <th>maud</th>\n",
       "      <td>49.7</td>\n",
       "      <td>3.65</td>\n",
       "      <td>0.02</td>\n",
       "      <td>0.82</td>\n",
       "      <td>0.19</td>\n",
       "      <td>nan</td>\n",
       "    </tr>\n",
       "    <tr>\n",
       "      <th>zep</th>\n",
       "      <td>49.7</td>\n",
       "      <td>3.65</td>\n",
       "      <td>0.02</td>\n",
       "      <td>0.82</td>\n",
       "      <td>0.19</td>\n",
       "      <td>nan</td>\n",
       "    </tr>\n",
       "    <tr>\n",
       "      <th>maxdep</th>\n",
       "      <td>49.7</td>\n",
       "      <td>3.65</td>\n",
       "      <td>0.02</td>\n",
       "      <td>0.82</td>\n",
       "      <td>0.19</td>\n",
       "      <td>nan</td>\n",
       "    </tr>\n",
       "  </tbody>\n",
       "</table>\n",
       "</div>"
      ],
      "text/plain": [
       "          deltaCH4  surf_ch4_per_ch4_flux  h2_flux_per_ch4_flux  \\\n",
       "CNTR          49.7                   3.65                  0.02   \n",
       "antro01       49.7                   3.65                  0.02   \n",
       "antro1        49.7                   3.65                  0.02   \n",
       "antro10       49.7                   3.65                  0.02   \n",
       "antro100      49.7                   3.65                  0.02   \n",
       "nemo          49.7                   3.65                  0.02   \n",
       "epia          49.7                   3.65                  0.02   \n",
       "munich        49.7                   3.65                  0.02   \n",
       "usdrydep      49.7                   3.65                  0.02   \n",
       "maud          49.7                   3.65                  0.02   \n",
       "zep           49.7                   3.65                  0.02   \n",
       "maxdep        49.7                   3.65                  0.02   \n",
       "\n",
       "          ozone_rf_per_ch4_flux  h2o_rf_per_ch4_flux  aerosol_rf_per_ch4_flux  \n",
       "CNTR                       0.82                 0.19                      nan  \n",
       "antro01                    0.82                 0.19                      nan  \n",
       "antro1                     0.82                 0.19                      nan  \n",
       "antro10                    0.82                 0.19                      nan  \n",
       "antro100                   0.82                 0.19                      nan  \n",
       "nemo                       0.82                 0.19                      nan  \n",
       "epia                       0.82                 0.19                      nan  \n",
       "munich                     0.82                 0.19                      nan  \n",
       "usdrydep                   0.82                 0.19                      nan  \n",
       "maud                       0.82                 0.19                      nan  \n",
       "zep                        0.82                 0.19                      nan  \n",
       "maxdep                     0.82                 0.19                      nan  "
      ]
     },
     "execution_count": 125,
     "metadata": {},
     "output_type": "execute_result"
    }
   ],
   "source": [
    "df_per_flux_ch4_add  = pd.read_csv(outputpath + 'table_per_flux_ch4.csv',index_col=0)\n",
    "#df_per_flux_ch4_add.rename(model_dict, inplace=True)\n",
    "\n",
    "df_per_flux_ch4_add"
   ]
  },
  {
   "cell_type": "code",
   "execution_count": 126,
   "metadata": {},
   "outputs": [
    {
     "data": {
      "text/plain": [
       "CNTR        nan\n",
       "antro01    0.30\n",
       "antro1     0.31\n",
       "antro10    0.31\n",
       "antro100   0.29\n",
       "epia       0.28\n",
       "maud       0.35\n",
       "maxdep     0.28\n",
       "munich     0.29\n",
       "nemo       0.35\n",
       "usdrydep   0.25\n",
       "zep        0.29\n",
       "Name: ch4_flux_per_h2_flux, dtype: float64"
      ]
     },
     "execution_count": 126,
     "metadata": {},
     "output_type": "execute_result"
    }
   ],
   "source": [
    "frac = df_per_flux_h2_combined['ch4_flux_per_h2_flux'] #Tg CH4/Tg H2 /Tg CH4 = 1/Tg H2\n",
    "\n",
    "frac"
   ]
  },
  {
   "cell_type": "code",
   "execution_count": 127,
   "metadata": {},
   "outputs": [],
   "source": [
    "df_per_flux_ch4_add\n",
    "#Keep the following:\n",
    "#deltaH2\n",
    "#surf_h2_per_h2_flux keep as h2_flux_per_ch4_flux small\n",
    "#surf_ch4_per_h2_flux\n",
    "#ch4_flux_per_h2_flux\n",
    "#ch4_rf_per_h2_flux\n",
    "\n",
    "#add:\n",
    "#trop_du_ozone_per_h2_flux\n",
    "#strat_du_ozone_per_h2_flux\n",
    "#ozone_rf_per_h2_flux\n",
    "#h2o_rf_per_h2_flux\n",
    "#aerosol_rf_per_h2_flux\n",
    "\n",
    "#df_per_flux_h2_combined['trop_du_ozone_per_h2_flux'] = df_per_flux_h2_combined['trop_du_ozone_per_h2_flux'] + df_per_flux_ch4_add['trop_du_ozone_per_ch4_flux']*frac\n",
    "#df_per_flux_h2_combined['strat_du_ozone_per_h2_flux'] = df_per_flux_h2_combined['strat_du_ozone_per_h2_flux'] + df_per_flux_ch4_add['strat_du_ozone_per_ch4_flux']*frac\n",
    "df_per_flux_h2_combined['ozone_rf_per_h2_flux'] = df_per_flux_h2_combined['ozone_rf_per_h2_flux'] + df_per_flux_ch4_add['ozone_rf_per_ch4_flux']*frac\n",
    "df_per_flux_h2_combined['h2o_rf_per_h2_flux'] = df_per_flux_h2_combined['h2o_rf_per_h2_flux'] + df_per_flux_ch4_add['h2o_rf_per_ch4_flux']*frac\n",
    "df_per_flux_h2_combined['aerosol_rf_per_h2_flux'] = df_per_flux_h2_combined['aerosol_rf_per_h2_flux'] + df_per_flux_ch4_add['aerosol_rf_per_ch4_flux']*frac\n",
    "\n",
    "\n",
    "#df_per_flux_h2_combined\n",
    "\n",
    "#Save to file:\n",
    "#df_per_flux_h2_combined = df_per_flux_h2_combined.sort_index()\n",
    "df_per_flux_h2_combined.to_csv(outputpath + 'table_per_flux_h2_combined.csv')\n"
   ]
  },
  {
   "cell_type": "code",
   "execution_count": 128,
   "metadata": {},
   "outputs": [
    {
     "data": {
      "text/html": [
       "<div>\n",
       "<style scoped>\n",
       "    .dataframe tbody tr th:only-of-type {\n",
       "        vertical-align: middle;\n",
       "    }\n",
       "\n",
       "    .dataframe tbody tr th {\n",
       "        vertical-align: top;\n",
       "    }\n",
       "\n",
       "    .dataframe thead th {\n",
       "        text-align: right;\n",
       "    }\n",
       "</style>\n",
       "<table border=\"1\" class=\"dataframe\">\n",
       "  <thead>\n",
       "    <tr style=\"text-align: right;\">\n",
       "      <th></th>\n",
       "      <th>Flux H2 [Tg/yr]</th>\n",
       "      <th>Surf. conc. H2 per flux [ppb yr/Tg]</th>\n",
       "      <th>Surf. conc. CH4 per flux [ppb yr/Tg]</th>\n",
       "      <th>Flux CH4/Flux H2 [Tg CH4/Tg H2]</th>\n",
       "      <th>CH4 RF per flux [mW m-2 yr/ Tg]</th>\n",
       "      <th>ozone RF per flux [mW m-2 yr/ Tg]</th>\n",
       "      <th>Strat. H2O RF per flux [mW m-2 yr/ Tg]</th>\n",
       "      <th>Aerosol RF per flux [mW m-2 yr/ Tg]</th>\n",
       "    </tr>\n",
       "  </thead>\n",
       "  <tbody>\n",
       "    <tr>\n",
       "      <th>CNTR</th>\n",
       "      <td>0.00</td>\n",
       "      <td>nan</td>\n",
       "      <td>nan</td>\n",
       "      <td>nan</td>\n",
       "      <td>nan</td>\n",
       "      <td>nan</td>\n",
       "      <td>nan</td>\n",
       "      <td>nan</td>\n",
       "    </tr>\n",
       "    <tr>\n",
       "      <th>antro01</th>\n",
       "      <td>0.10</td>\n",
       "      <td>6.27</td>\n",
       "      <td>1.11</td>\n",
       "      <td>0.30</td>\n",
       "      <td>0.43</td>\n",
       "      <td>0.44</td>\n",
       "      <td>0.23</td>\n",
       "      <td>nan</td>\n",
       "    </tr>\n",
       "    <tr>\n",
       "      <th>antro1</th>\n",
       "      <td>0.99</td>\n",
       "      <td>6.27</td>\n",
       "      <td>1.12</td>\n",
       "      <td>0.31</td>\n",
       "      <td>0.43</td>\n",
       "      <td>0.47</td>\n",
       "      <td>0.23</td>\n",
       "      <td>nan</td>\n",
       "    </tr>\n",
       "    <tr>\n",
       "      <th>antro10</th>\n",
       "      <td>9.90</td>\n",
       "      <td>6.28</td>\n",
       "      <td>1.12</td>\n",
       "      <td>0.31</td>\n",
       "      <td>0.43</td>\n",
       "      <td>0.47</td>\n",
       "      <td>0.23</td>\n",
       "      <td>nan</td>\n",
       "    </tr>\n",
       "    <tr>\n",
       "      <th>antro100</th>\n",
       "      <td>99.1</td>\n",
       "      <td>6.35</td>\n",
       "      <td>1.06</td>\n",
       "      <td>0.29</td>\n",
       "      <td>0.41</td>\n",
       "      <td>0.45</td>\n",
       "      <td>0.23</td>\n",
       "      <td>nan</td>\n",
       "    </tr>\n",
       "    <tr>\n",
       "      <th>epia</th>\n",
       "      <td>0.99</td>\n",
       "      <td>6.05</td>\n",
       "      <td>1.01</td>\n",
       "      <td>0.28</td>\n",
       "      <td>0.39</td>\n",
       "      <td>0.41</td>\n",
       "      <td>0.19</td>\n",
       "      <td>nan</td>\n",
       "    </tr>\n",
       "    <tr>\n",
       "      <th>maud</th>\n",
       "      <td>0.99</td>\n",
       "      <td>9.24</td>\n",
       "      <td>1.29</td>\n",
       "      <td>0.35</td>\n",
       "      <td>0.50</td>\n",
       "      <td>0.53</td>\n",
       "      <td>0.25</td>\n",
       "      <td>nan</td>\n",
       "    </tr>\n",
       "    <tr>\n",
       "      <th>maxdep</th>\n",
       "      <td>0.99</td>\n",
       "      <td>5.48</td>\n",
       "      <td>1.03</td>\n",
       "      <td>0.28</td>\n",
       "      <td>0.40</td>\n",
       "      <td>0.43</td>\n",
       "      <td>0.21</td>\n",
       "      <td>nan</td>\n",
       "    </tr>\n",
       "    <tr>\n",
       "      <th>munich</th>\n",
       "      <td>0.99</td>\n",
       "      <td>6.32</td>\n",
       "      <td>1.08</td>\n",
       "      <td>0.29</td>\n",
       "      <td>0.41</td>\n",
       "      <td>0.44</td>\n",
       "      <td>0.21</td>\n",
       "      <td>nan</td>\n",
       "    </tr>\n",
       "    <tr>\n",
       "      <th>nemo</th>\n",
       "      <td>0.99</td>\n",
       "      <td>7.92</td>\n",
       "      <td>1.29</td>\n",
       "      <td>0.35</td>\n",
       "      <td>0.50</td>\n",
       "      <td>0.52</td>\n",
       "      <td>0.25</td>\n",
       "      <td>nan</td>\n",
       "    </tr>\n",
       "    <tr>\n",
       "      <th>usdrydep</th>\n",
       "      <td>0.99</td>\n",
       "      <td>5.20</td>\n",
       "      <td>0.92</td>\n",
       "      <td>0.25</td>\n",
       "      <td>0.36</td>\n",
       "      <td>0.38</td>\n",
       "      <td>0.18</td>\n",
       "      <td>nan</td>\n",
       "    </tr>\n",
       "    <tr>\n",
       "      <th>zep</th>\n",
       "      <td>0.99</td>\n",
       "      <td>6.69</td>\n",
       "      <td>1.06</td>\n",
       "      <td>0.29</td>\n",
       "      <td>0.41</td>\n",
       "      <td>0.43</td>\n",
       "      <td>0.20</td>\n",
       "      <td>nan</td>\n",
       "    </tr>\n",
       "  </tbody>\n",
       "</table>\n",
       "</div>"
      ],
      "text/plain": [
       "          Flux H2 [Tg/yr]  Surf. conc. H2 per flux [ppb yr/Tg]  \\\n",
       "CNTR                 0.00                                  nan   \n",
       "antro01              0.10                                 6.27   \n",
       "antro1               0.99                                 6.27   \n",
       "antro10              9.90                                 6.28   \n",
       "antro100             99.1                                 6.35   \n",
       "epia                 0.99                                 6.05   \n",
       "maud                 0.99                                 9.24   \n",
       "maxdep               0.99                                 5.48   \n",
       "munich               0.99                                 6.32   \n",
       "nemo                 0.99                                 7.92   \n",
       "usdrydep             0.99                                 5.20   \n",
       "zep                  0.99                                 6.69   \n",
       "\n",
       "          Surf. conc. CH4 per flux [ppb yr/Tg]  \\\n",
       "CNTR                                       nan   \n",
       "antro01                                   1.11   \n",
       "antro1                                    1.12   \n",
       "antro10                                   1.12   \n",
       "antro100                                  1.06   \n",
       "epia                                      1.01   \n",
       "maud                                      1.29   \n",
       "maxdep                                    1.03   \n",
       "munich                                    1.08   \n",
       "nemo                                      1.29   \n",
       "usdrydep                                  0.92   \n",
       "zep                                       1.06   \n",
       "\n",
       "          Flux CH4/Flux H2 [Tg CH4/Tg H2]  CH4 RF per flux [mW m-2 yr/ Tg]  \\\n",
       "CNTR                                  nan                              nan   \n",
       "antro01                              0.30                             0.43   \n",
       "antro1                               0.31                             0.43   \n",
       "antro10                              0.31                             0.43   \n",
       "antro100                             0.29                             0.41   \n",
       "epia                                 0.28                             0.39   \n",
       "maud                                 0.35                             0.50   \n",
       "maxdep                               0.28                             0.40   \n",
       "munich                               0.29                             0.41   \n",
       "nemo                                 0.35                             0.50   \n",
       "usdrydep                             0.25                             0.36   \n",
       "zep                                  0.29                             0.41   \n",
       "\n",
       "          ozone RF per flux [mW m-2 yr/ Tg]  \\\n",
       "CNTR                                    nan   \n",
       "antro01                                0.44   \n",
       "antro1                                 0.47   \n",
       "antro10                                0.47   \n",
       "antro100                               0.45   \n",
       "epia                                   0.41   \n",
       "maud                                   0.53   \n",
       "maxdep                                 0.43   \n",
       "munich                                 0.44   \n",
       "nemo                                   0.52   \n",
       "usdrydep                               0.38   \n",
       "zep                                    0.43   \n",
       "\n",
       "          Strat. H2O RF per flux [mW m-2 yr/ Tg]  \\\n",
       "CNTR                                         nan   \n",
       "antro01                                     0.23   \n",
       "antro1                                      0.23   \n",
       "antro10                                     0.23   \n",
       "antro100                                    0.23   \n",
       "epia                                        0.19   \n",
       "maud                                        0.25   \n",
       "maxdep                                      0.21   \n",
       "munich                                      0.21   \n",
       "nemo                                        0.25   \n",
       "usdrydep                                    0.18   \n",
       "zep                                         0.20   \n",
       "\n",
       "          Aerosol RF per flux [mW m-2 yr/ Tg]  \n",
       "CNTR                                      nan  \n",
       "antro01                                   nan  \n",
       "antro1                                    nan  \n",
       "antro10                                   nan  \n",
       "antro100                                  nan  \n",
       "epia                                      nan  \n",
       "maud                                      nan  \n",
       "maxdep                                    nan  \n",
       "munich                                    nan  \n",
       "nemo                                      nan  \n",
       "usdrydep                                  nan  \n",
       "zep                                       nan  "
      ]
     },
     "execution_count": 128,
     "metadata": {},
     "output_type": "execute_result"
    }
   ],
   "source": [
    "#Rename the columns:\n",
    "columns_names={'deltaH2':'Flux H2 [Tg/yr]',\n",
    "               'surf_h2_per_h2_flux': 'Surf. conc. H2 per flux [ppb yr/Tg]',\n",
    "               'surf_ch4_per_h2_flux':'Surf. conc. CH4 per flux [ppb yr/Tg]',\n",
    "               'ch4_flux_per_h2_flux':'Flux CH4/Flux H2 [Tg CH4/Tg H2]',\n",
    "               'ch4_rf_per_h2_flux':'CH4 RF per flux [mW m-2 yr/ Tg]',\n",
    "               'trop_du_ozone_per_h2_flux':'Trop. ozone per flux [10$^{-3}$ DU yr/Tg]',\n",
    "               'strat_du_ozone_per_h2_flux':'Strat. ozone per flux [10$^{-3}$ DU yr/Tg]',\n",
    "               'ozone_rf_per_h2_flux':'ozone RF per flux [mW m-2 yr/ Tg]',\n",
    "               'h2o_rf_per_h2_flux':'Strat. H2O RF per flux [mW m-2 yr/ Tg]',\n",
    "               'aerosol_rf_per_h2_flux':'Aerosol RF per flux [mW m-2 yr/ Tg]'}\n",
    "#Rename column names:\n",
    "df_per_flux_h2_combined.rename(columns=dict(columns_names),inplace=True) #[df_per_flux_h2.columns])\n",
    "#df_per_flux_h2_combined.rename(model_dict,axis=0,inplace=True)\n",
    "#df_per_flux_h2_combined.loc['Model mean'] = df_per_flux_h2_combined.drop(['GFDL-emi','OsloCTM-emi']).mean()\n",
    "#df_per_flux_h2_combined['Flux H2 [Tg/yr]'].loc['Model mean']=np.nan\n",
    "#df_per_flux_h2_combined=df_per_flux_h2_combined.reindex(sorted_array_2)\n",
    "df_per_flux_h2_combined"
   ]
  },
  {
   "cell_type": "markdown",
   "metadata": {},
   "source": [
    "## H2 budget table"
   ]
  },
  {
   "cell_type": "code",
   "execution_count": 129,
   "metadata": {},
   "outputs": [
    {
     "data": {
      "text/html": [
       "<div>\n",
       "<style scoped>\n",
       "    .dataframe tbody tr th:only-of-type {\n",
       "        vertical-align: middle;\n",
       "    }\n",
       "\n",
       "    .dataframe tbody tr th {\n",
       "        vertical-align: top;\n",
       "    }\n",
       "\n",
       "    .dataframe thead th {\n",
       "        text-align: right;\n",
       "    }\n",
       "</style>\n",
       "<table border=\"1\" class=\"dataframe\">\n",
       "  <thead>\n",
       "    <tr style=\"text-align: right;\">\n",
       "      <th></th>\n",
       "      <th>CNTR</th>\n",
       "      <th>antro01</th>\n",
       "      <th>antro1</th>\n",
       "      <th>antro10</th>\n",
       "      <th>antro100</th>\n",
       "      <th>nemo</th>\n",
       "      <th>epia</th>\n",
       "      <th>munich</th>\n",
       "      <th>usdrydep</th>\n",
       "      <th>maud</th>\n",
       "      <th>zep</th>\n",
       "      <th>maxdep</th>\n",
       "    </tr>\n",
       "    <tr>\n",
       "      <th>Scenario</th>\n",
       "      <th></th>\n",
       "      <th></th>\n",
       "      <th></th>\n",
       "      <th></th>\n",
       "      <th></th>\n",
       "      <th></th>\n",
       "      <th></th>\n",
       "      <th></th>\n",
       "      <th></th>\n",
       "      <th></th>\n",
       "      <th></th>\n",
       "      <th></th>\n",
       "    </tr>\n",
       "  </thead>\n",
       "  <tbody>\n",
       "    <tr>\n",
       "      <th>YR13</th>\n",
       "      <td>205</td>\n",
       "      <td>205</td>\n",
       "      <td>207</td>\n",
       "      <td>226</td>\n",
       "      <td>423</td>\n",
       "      <td>207</td>\n",
       "      <td>207</td>\n",
       "      <td>207</td>\n",
       "      <td>206</td>\n",
       "      <td>207</td>\n",
       "      <td>207</td>\n",
       "      <td>207</td>\n",
       "    </tr>\n",
       "    <tr>\n",
       "      <th>deltaH2</th>\n",
       "      <td>0.00</td>\n",
       "      <td>0.22</td>\n",
       "      <td>2.15</td>\n",
       "      <td>21.5</td>\n",
       "      <td>218</td>\n",
       "      <td>2.53</td>\n",
       "      <td>1.93</td>\n",
       "      <td>2.05</td>\n",
       "      <td>1.76</td>\n",
       "      <td>2.56</td>\n",
       "      <td>2.07</td>\n",
       "      <td>1.97</td>\n",
       "    </tr>\n",
       "  </tbody>\n",
       "</table>\n",
       "</div>"
      ],
      "text/plain": [
       "          CNTR  antro01  antro1  antro10  antro100  nemo  epia  munich  \\\n",
       "Scenario                                                                 \n",
       "YR13       205      205     207      226       423   207   207     207   \n",
       "deltaH2   0.00     0.22    2.15     21.5       218  2.53  1.93    2.05   \n",
       "\n",
       "          usdrydep  maud  zep  maxdep  \n",
       "Scenario                               \n",
       "YR13           206   207  207     207  \n",
       "deltaH2       1.76  2.56 2.07    1.97  "
      ]
     },
     "execution_count": 129,
     "metadata": {},
     "output_type": "execute_result"
    }
   ],
   "source": [
    "df_h2_burden\n"
   ]
  },
  {
   "cell_type": "code",
   "execution_count": 130,
   "metadata": {},
   "outputs": [
    {
     "data": {
      "text/html": [
       "<div>\n",
       "<style scoped>\n",
       "    .dataframe tbody tr th:only-of-type {\n",
       "        vertical-align: middle;\n",
       "    }\n",
       "\n",
       "    .dataframe tbody tr th {\n",
       "        vertical-align: top;\n",
       "    }\n",
       "\n",
       "    .dataframe thead th {\n",
       "        text-align: right;\n",
       "    }\n",
       "</style>\n",
       "<table border=\"1\" class=\"dataframe\">\n",
       "  <thead>\n",
       "    <tr style=\"text-align: right;\">\n",
       "      <th></th>\n",
       "      <th>H2 burden [Tg]</th>\n",
       "      <th>H2 atm loss [Tg/yr]</th>\n",
       "      <th>H2 atm prod [Tg/yr]</th>\n",
       "      <th>H2 soil sink [Tg/yr]</th>\n",
       "      <th>H2 estimated emissions [Tg/yr]</th>\n",
       "      <th>H2 atm lifetime [yrs]</th>\n",
       "      <th>H2 soil sink lifetime [yrs]</th>\n",
       "      <th>H2 total lifetime [yrs]</th>\n",
       "    </tr>\n",
       "  </thead>\n",
       "  <tbody>\n",
       "    <tr>\n",
       "      <th>CNTR</th>\n",
       "      <td>205</td>\n",
       "      <td>29.2</td>\n",
       "      <td>55.8</td>\n",
       "      <td>58.0</td>\n",
       "      <td>31.4</td>\n",
       "      <td>7.02</td>\n",
       "      <td>3.53</td>\n",
       "      <td>2.35</td>\n",
       "    </tr>\n",
       "    <tr>\n",
       "      <th>antro01</th>\n",
       "      <td>205</td>\n",
       "      <td>29.2</td>\n",
       "      <td>55.8</td>\n",
       "      <td>58.1</td>\n",
       "      <td>31.5</td>\n",
       "      <td>7.02</td>\n",
       "      <td>3.53</td>\n",
       "      <td>2.35</td>\n",
       "    </tr>\n",
       "    <tr>\n",
       "      <th>antro1</th>\n",
       "      <td>207</td>\n",
       "      <td>29.5</td>\n",
       "      <td>55.8</td>\n",
       "      <td>58.7</td>\n",
       "      <td>32.4</td>\n",
       "      <td>7.02</td>\n",
       "      <td>3.52</td>\n",
       "      <td>2.34</td>\n",
       "    </tr>\n",
       "    <tr>\n",
       "      <th>antro10</th>\n",
       "      <td>226</td>\n",
       "      <td>32.1</td>\n",
       "      <td>55.7</td>\n",
       "      <td>65.0</td>\n",
       "      <td>41.4</td>\n",
       "      <td>7.04</td>\n",
       "      <td>3.48</td>\n",
       "      <td>2.33</td>\n",
       "    </tr>\n",
       "    <tr>\n",
       "      <th>antro100</th>\n",
       "      <td>423</td>\n",
       "      <td>58.0</td>\n",
       "      <td>54.9</td>\n",
       "      <td>128</td>\n",
       "      <td>131</td>\n",
       "      <td>7.28</td>\n",
       "      <td>3.30</td>\n",
       "      <td>2.27</td>\n",
       "    </tr>\n",
       "    <tr>\n",
       "      <th>epia</th>\n",
       "      <td>207</td>\n",
       "      <td>29.4</td>\n",
       "      <td>55.8</td>\n",
       "      <td>58.7</td>\n",
       "      <td>32.4</td>\n",
       "      <td>7.02</td>\n",
       "      <td>3.52</td>\n",
       "      <td>2.34</td>\n",
       "    </tr>\n",
       "    <tr>\n",
       "      <th>maud</th>\n",
       "      <td>207</td>\n",
       "      <td>29.5</td>\n",
       "      <td>55.8</td>\n",
       "      <td>58.7</td>\n",
       "      <td>32.4</td>\n",
       "      <td>7.02</td>\n",
       "      <td>3.53</td>\n",
       "      <td>2.35</td>\n",
       "    </tr>\n",
       "    <tr>\n",
       "      <th>maxdep</th>\n",
       "      <td>207</td>\n",
       "      <td>29.4</td>\n",
       "      <td>55.8</td>\n",
       "      <td>58.7</td>\n",
       "      <td>32.4</td>\n",
       "      <td>7.02</td>\n",
       "      <td>3.52</td>\n",
       "      <td>2.34</td>\n",
       "    </tr>\n",
       "    <tr>\n",
       "      <th>munich</th>\n",
       "      <td>207</td>\n",
       "      <td>29.5</td>\n",
       "      <td>55.8</td>\n",
       "      <td>58.7</td>\n",
       "      <td>32.4</td>\n",
       "      <td>7.02</td>\n",
       "      <td>3.52</td>\n",
       "      <td>2.34</td>\n",
       "    </tr>\n",
       "    <tr>\n",
       "      <th>nemo</th>\n",
       "      <td>207</td>\n",
       "      <td>29.5</td>\n",
       "      <td>55.8</td>\n",
       "      <td>58.7</td>\n",
       "      <td>32.4</td>\n",
       "      <td>7.02</td>\n",
       "      <td>3.53</td>\n",
       "      <td>2.35</td>\n",
       "    </tr>\n",
       "    <tr>\n",
       "      <th>usdrydep</th>\n",
       "      <td>206</td>\n",
       "      <td>29.4</td>\n",
       "      <td>55.8</td>\n",
       "      <td>58.8</td>\n",
       "      <td>32.4</td>\n",
       "      <td>7.02</td>\n",
       "      <td>3.51</td>\n",
       "      <td>2.34</td>\n",
       "    </tr>\n",
       "    <tr>\n",
       "      <th>zep</th>\n",
       "      <td>207</td>\n",
       "      <td>29.4</td>\n",
       "      <td>55.8</td>\n",
       "      <td>58.7</td>\n",
       "      <td>32.4</td>\n",
       "      <td>7.02</td>\n",
       "      <td>3.52</td>\n",
       "      <td>2.34</td>\n",
       "    </tr>\n",
       "  </tbody>\n",
       "</table>\n",
       "</div>"
      ],
      "text/plain": [
       "          H2 burden [Tg]  H2 atm loss [Tg/yr]  H2 atm prod [Tg/yr]  \\\n",
       "CNTR                 205                 29.2                 55.8   \n",
       "antro01              205                 29.2                 55.8   \n",
       "antro1               207                 29.5                 55.8   \n",
       "antro10              226                 32.1                 55.7   \n",
       "antro100             423                 58.0                 54.9   \n",
       "epia                 207                 29.4                 55.8   \n",
       "maud                 207                 29.5                 55.8   \n",
       "maxdep               207                 29.4                 55.8   \n",
       "munich               207                 29.5                 55.8   \n",
       "nemo                 207                 29.5                 55.8   \n",
       "usdrydep             206                 29.4                 55.8   \n",
       "zep                  207                 29.4                 55.8   \n",
       "\n",
       "          H2 soil sink [Tg/yr]  H2 estimated emissions [Tg/yr]  \\\n",
       "CNTR                      58.0                            31.4   \n",
       "antro01                   58.1                            31.5   \n",
       "antro1                    58.7                            32.4   \n",
       "antro10                   65.0                            41.4   \n",
       "antro100                   128                             131   \n",
       "epia                      58.7                            32.4   \n",
       "maud                      58.7                            32.4   \n",
       "maxdep                    58.7                            32.4   \n",
       "munich                    58.7                            32.4   \n",
       "nemo                      58.7                            32.4   \n",
       "usdrydep                  58.8                            32.4   \n",
       "zep                       58.7                            32.4   \n",
       "\n",
       "          H2 atm lifetime [yrs]  H2 soil sink lifetime [yrs]  \\\n",
       "CNTR                       7.02                         3.53   \n",
       "antro01                    7.02                         3.53   \n",
       "antro1                     7.02                         3.52   \n",
       "antro10                    7.04                         3.48   \n",
       "antro100                   7.28                         3.30   \n",
       "epia                       7.02                         3.52   \n",
       "maud                       7.02                         3.53   \n",
       "maxdep                     7.02                         3.52   \n",
       "munich                     7.02                         3.52   \n",
       "nemo                       7.02                         3.53   \n",
       "usdrydep                   7.02                         3.51   \n",
       "zep                        7.02                         3.52   \n",
       "\n",
       "          H2 total lifetime [yrs]  \n",
       "CNTR                         2.35  \n",
       "antro01                      2.35  \n",
       "antro1                       2.34  \n",
       "antro10                      2.33  \n",
       "antro100                     2.27  \n",
       "epia                         2.34  \n",
       "maud                         2.35  \n",
       "maxdep                       2.34  \n",
       "munich                       2.34  \n",
       "nemo                         2.35  \n",
       "usdrydep                     2.34  \n",
       "zep                          2.34  "
      ]
     },
     "execution_count": 130,
     "metadata": {},
     "output_type": "execute_result"
    }
   ],
   "source": [
    "df_budget_h2 = pd.concat([df_h2_burden.iloc[0],\n",
    "                          df_h2_atmloss,\n",
    "                          df_h2_atmprod,\n",
    "                          df_h2_drydep,\n",
    "                          df_h2_estemis, \n",
    "                          df_h2_atm_lifetime,\n",
    "                          df_h2_soil_sink_lifetime,\n",
    "                          df_h2_lifetime\n",
    "                         ],axis=1)\n",
    "\n",
    "df_budget_h2.columns = ['H2 burden [Tg]',\n",
    "                        'H2 atm loss [Tg/yr]',\n",
    "                        'H2 atm prod [Tg/yr]',\n",
    "                        'H2 soil sink [Tg/yr]',\n",
    "                        'H2 estimated emissions [Tg/yr]',\n",
    "                        'H2 atm lifetime [yrs]',\n",
    "                        'H2 soil sink lifetime [yrs]',\n",
    "                        'H2 total lifetime [yrs]',]\n",
    "df_budget_h2 = df_budget_h2.sort_index()\n",
    "df_budget_h2.to_csv(outputpath + 'table_budget_h2.csv')\n",
    "df_budget_h2\n",
    "\n"
   ]
  },
  {
   "cell_type": "markdown",
   "metadata": {},
   "source": [
    "## CH4 budget table"
   ]
  },
  {
   "cell_type": "code",
   "execution_count": 131,
   "metadata": {},
   "outputs": [
    {
     "data": {
      "text/plain": [
       "20.729217388088895"
      ]
     },
     "execution_count": 131,
     "metadata": {},
     "output_type": "execute_result"
    }
   ],
   "source": [
    "df_ch4_loss_other_strat_conc.loc['CTRL']"
   ]
  },
  {
   "cell_type": "code",
   "execution_count": 132,
   "metadata": {},
   "outputs": [],
   "source": [
    "budget_ch4 = np.array([df_ch4_burden_conc.loc['CTRL'],\n",
    "                           df_ch4_surfconc_conc.loc['CTRL'],\n",
    "                           df_ch4_loss_conc.loc['CTRL'],\n",
    "                           df_ch4_loss_other_strat_conc.loc['CTRL'],\n",
    "                           df_ch4_loss_soil_conc.loc['CTRL'],\n",
    "                           df_ch4_loss_conc.loc['CTRL']+df_ch4_loss_other_strat_conc.loc['CTRL']+df_ch4_loss_soil_conc.loc['CTRL'],\n",
    "                           df_ch4_lifetime_conc.loc['CTRL'],\n",
    "                           df_ch4_tot_lifetime_conc.loc['CTRL']\n",
    "                           ])\n",
    "\n",
    "budget_ch4_columns = ['CH4 burden [Tg]','CH4 surface conc. [ppbv]',\n",
    "                         'CH4 chem loss OH [Tg/yr]', 'CH4 chem loss other strat [Tg/yr]','CH4 loss soil [Tg/yr]',\n",
    "                         'CH4 total loss [Tg/yr]',\n",
    "                         'CH4 lifetime due to OH (whole atmosphere) [yrs]','Total CH4 lifetime [yrs]'] \n",
    "\n",
    "df_budget_ch4 = pd.DataFrame(data=budget_ch4,index=budget_ch4_columns,columns=['CTRL'])\n"
   ]
  },
  {
   "cell_type": "code",
   "execution_count": 133,
   "metadata": {},
   "outputs": [
    {
     "data": {
      "text/html": [
       "<div>\n",
       "<style scoped>\n",
       "    .dataframe tbody tr th:only-of-type {\n",
       "        vertical-align: middle;\n",
       "    }\n",
       "\n",
       "    .dataframe tbody tr th {\n",
       "        vertical-align: top;\n",
       "    }\n",
       "\n",
       "    .dataframe thead th {\n",
       "        text-align: right;\n",
       "    }\n",
       "</style>\n",
       "<table border=\"1\" class=\"dataframe\">\n",
       "  <thead>\n",
       "    <tr style=\"text-align: right;\">\n",
       "      <th></th>\n",
       "      <th>CH4 burden [Tg]</th>\n",
       "      <th>CH4 surface conc. [ppbv]</th>\n",
       "      <th>CH4 chem loss OH [Tg/yr]</th>\n",
       "      <th>CH4 chem loss other strat [Tg/yr]</th>\n",
       "      <th>CH4 loss soil [Tg/yr]</th>\n",
       "      <th>CH4 total loss [Tg/yr]</th>\n",
       "      <th>CH4 lifetime due to OH (whole atmosphere) [yrs]</th>\n",
       "      <th>Total CH4 lifetime [yrs]</th>\n",
       "    </tr>\n",
       "  </thead>\n",
       "  <tbody>\n",
       "    <tr>\n",
       "      <th>CTRL</th>\n",
       "      <td>4,975</td>\n",
       "      <td>1,813</td>\n",
       "      <td>674</td>\n",
       "      <td>20.7</td>\n",
       "      <td>31.1</td>\n",
       "      <td>726</td>\n",
       "      <td>7.38</td>\n",
       "      <td>6.85</td>\n",
       "    </tr>\n",
       "  </tbody>\n",
       "</table>\n",
       "</div>"
      ],
      "text/plain": [
       "      CH4 burden [Tg]  CH4 surface conc. [ppbv]  CH4 chem loss OH [Tg/yr]  \\\n",
       "CTRL            4,975                     1,813                       674   \n",
       "\n",
       "      CH4 chem loss other strat [Tg/yr]  CH4 loss soil [Tg/yr]  \\\n",
       "CTRL                               20.7                   31.1   \n",
       "\n",
       "      CH4 total loss [Tg/yr]  CH4 lifetime due to OH (whole atmosphere) [yrs]  \\\n",
       "CTRL                     726                                             7.38   \n",
       "\n",
       "      Total CH4 lifetime [yrs]  \n",
       "CTRL                      6.85  "
      ]
     },
     "execution_count": 133,
     "metadata": {},
     "output_type": "execute_result"
    }
   ],
   "source": [
    "df_budget_ch4.T.to_csv(outputpath + 'table_budget_ch4.csv')\n",
    "\n",
    "df_budget_ch4.T"
   ]
  },
  {
   "cell_type": "code",
   "execution_count": 134,
   "metadata": {},
   "outputs": [
    {
     "data": {
      "text/html": [
       "<div>\n",
       "<style scoped>\n",
       "    .dataframe tbody tr th:only-of-type {\n",
       "        vertical-align: middle;\n",
       "    }\n",
       "\n",
       "    .dataframe tbody tr th {\n",
       "        vertical-align: top;\n",
       "    }\n",
       "\n",
       "    .dataframe thead th {\n",
       "        text-align: right;\n",
       "    }\n",
       "</style>\n",
       "<table border=\"1\" class=\"dataframe\">\n",
       "  <thead>\n",
       "    <tr style=\"text-align: right;\">\n",
       "      <th></th>\n",
       "      <th>h2_agwp_ch4</th>\n",
       "      <th>h2_agwp_o3</th>\n",
       "      <th>0</th>\n",
       "      <th>h2_agwp_ch4ind_o3</th>\n",
       "      <th>h2_agwp_ch4ind_h2o</th>\n",
       "    </tr>\n",
       "  </thead>\n",
       "  <tbody>\n",
       "    <tr>\n",
       "      <th>CNTR</th>\n",
       "      <td>nan</td>\n",
       "      <td>nan</td>\n",
       "      <td>nan</td>\n",
       "      <td>nan</td>\n",
       "      <td>NaN</td>\n",
       "    </tr>\n",
       "    <tr>\n",
       "      <th>antro01</th>\n",
       "      <td>0.43</td>\n",
       "      <td>0.19</td>\n",
       "      <td>0.17</td>\n",
       "      <td>0.25</td>\n",
       "      <td>0.06</td>\n",
       "    </tr>\n",
       "    <tr>\n",
       "      <th>antro1</th>\n",
       "      <td>0.43</td>\n",
       "      <td>0.21</td>\n",
       "      <td>0.17</td>\n",
       "      <td>0.25</td>\n",
       "      <td>0.06</td>\n",
       "    </tr>\n",
       "    <tr>\n",
       "      <th>antro10</th>\n",
       "      <td>0.43</td>\n",
       "      <td>0.22</td>\n",
       "      <td>0.17</td>\n",
       "      <td>0.25</td>\n",
       "      <td>0.06</td>\n",
       "    </tr>\n",
       "    <tr>\n",
       "      <th>antro100</th>\n",
       "      <td>0.41</td>\n",
       "      <td>0.22</td>\n",
       "      <td>0.17</td>\n",
       "      <td>0.24</td>\n",
       "      <td>0.06</td>\n",
       "    </tr>\n",
       "    <tr>\n",
       "      <th>nemo</th>\n",
       "      <td>0.50</td>\n",
       "      <td>0.23</td>\n",
       "      <td>0.18</td>\n",
       "      <td>0.29</td>\n",
       "      <td>0.07</td>\n",
       "    </tr>\n",
       "    <tr>\n",
       "      <th>epia</th>\n",
       "      <td>0.39</td>\n",
       "      <td>0.18</td>\n",
       "      <td>0.14</td>\n",
       "      <td>0.23</td>\n",
       "      <td>0.05</td>\n",
       "    </tr>\n",
       "    <tr>\n",
       "      <th>munich</th>\n",
       "      <td>0.41</td>\n",
       "      <td>0.20</td>\n",
       "      <td>0.15</td>\n",
       "      <td>0.24</td>\n",
       "      <td>0.06</td>\n",
       "    </tr>\n",
       "    <tr>\n",
       "      <th>usdrydep</th>\n",
       "      <td>0.36</td>\n",
       "      <td>0.17</td>\n",
       "      <td>0.13</td>\n",
       "      <td>0.21</td>\n",
       "      <td>0.05</td>\n",
       "    </tr>\n",
       "    <tr>\n",
       "      <th>maud</th>\n",
       "      <td>0.50</td>\n",
       "      <td>0.23</td>\n",
       "      <td>0.18</td>\n",
       "      <td>0.29</td>\n",
       "      <td>0.07</td>\n",
       "    </tr>\n",
       "    <tr>\n",
       "      <th>zep</th>\n",
       "      <td>0.41</td>\n",
       "      <td>0.19</td>\n",
       "      <td>0.15</td>\n",
       "      <td>0.24</td>\n",
       "      <td>0.06</td>\n",
       "    </tr>\n",
       "    <tr>\n",
       "      <th>maxdep</th>\n",
       "      <td>0.40</td>\n",
       "      <td>0.20</td>\n",
       "      <td>0.16</td>\n",
       "      <td>0.23</td>\n",
       "      <td>0.05</td>\n",
       "    </tr>\n",
       "  </tbody>\n",
       "</table>\n",
       "</div>"
      ],
      "text/plain": [
       "          h2_agwp_ch4  h2_agwp_o3    0  h2_agwp_ch4ind_o3 h2_agwp_ch4ind_h2o\n",
       "CNTR              nan         nan  nan                nan                NaN\n",
       "antro01          0.43        0.19 0.17               0.25               0.06\n",
       "antro1           0.43        0.21 0.17               0.25               0.06\n",
       "antro10          0.43        0.22 0.17               0.25               0.06\n",
       "antro100         0.41        0.22 0.17               0.24               0.06\n",
       "nemo             0.50        0.23 0.18               0.29               0.07\n",
       "epia             0.39        0.18 0.14               0.23               0.05\n",
       "munich           0.41        0.20 0.15               0.24               0.06\n",
       "usdrydep         0.36        0.17 0.13               0.21               0.05\n",
       "maud             0.50        0.23 0.18               0.29               0.07\n",
       "zep              0.41        0.19 0.15               0.24               0.06\n",
       "maxdep           0.40        0.20 0.16               0.23               0.05"
      ]
     },
     "execution_count": 134,
     "metadata": {},
     "output_type": "execute_result"
    }
   ],
   "source": [
    "#Write AGWP values to file\n",
    "df_h2_agwp  = pd.concat([df_h2_agwp_ch4,\n",
    "                         df_h2_agwp_o3,\n",
    "                         df_h2_agwp_h2o,\n",
    "                         df_h2_agwp_ch4ind_o3,\n",
    "                         df_h2_agwp_ch4ind_h2o],axis=1,sort=False)\n",
    "\n",
    "df_h2_agwp.to_csv(outputpath + 'table_h2_agwp.csv') \n",
    "df_h2_agwp"
   ]
  },
  {
   "cell_type": "markdown",
   "metadata": {},
   "source": [
    "# Appendix:"
   ]
  },
  {
   "cell_type": "markdown",
   "metadata": {},
   "source": [
    "## Methane feedback factor:"
   ]
  },
  {
   "cell_type": "markdown",
   "metadata": {},
   "source": [
    "### Atmospheric mass conversion CH4  [Tg/ppb] (from perturbations)"
   ]
  },
  {
   "cell_type": "code",
   "execution_count": 135,
   "metadata": {},
   "outputs": [
    {
     "data": {
      "text/plain": [
       "2.7494761488687924"
      ]
     },
     "execution_count": 135,
     "metadata": {},
     "output_type": "execute_result"
    }
   ],
   "source": [
    "df_ch4_burden_per_conc  = df_ch4_burden_conc.loc['deltaCH4']/df_ch4_surfconc_conc.loc['deltaCH4']\n",
    "#df_ch4_burden_per_conc.name = 'ch4_burden_per_conc'\n",
    "df_ch4_burden_per_conc"
   ]
  },
  {
   "cell_type": "markdown",
   "metadata": {},
   "source": [
    "### Increase per unit flux w/o feedback = integrated decay [ppb yr/Tg]"
   ]
  },
  {
   "cell_type": "markdown",
   "metadata": {},
   "source": []
  },
  {
   "cell_type": "code",
   "execution_count": 136,
   "metadata": {},
   "outputs": [
    {
     "data": {
      "text/plain": [
       "2.4923974591529294"
      ]
     },
     "execution_count": 136,
     "metadata": {},
     "output_type": "execute_result"
    }
   ],
   "source": [
    "df_w_o_feedback =df_ch4_tot_lifetime_conc.loc['CTRL']/df_ch4_burden_per_conc #Lifetime [yr] / [Tg/ppb] \n",
    "#df_w_o_feedback.name = 'increase_w_o_feedback'\n",
    "df_w_o_feedback_to_file = pd.DataFrame(data=[df_w_o_feedback],index=['OSLOCTM3'])\n",
    "df_w_o_feedback_to_file.to_csv(outputpath + 'increase_w_o_feedback.csv')\n",
    "df_w_o_feedback"
   ]
  },
  {
   "cell_type": "markdown",
   "metadata": {},
   "source": [
    "### Feedback factor: increase CH4 with feedback/ increase CH4 without feedback"
   ]
  },
  {
   "cell_type": "code",
   "execution_count": 137,
   "metadata": {},
   "outputs": [
    {
     "data": {
      "text/plain": [
       "1.4645748747886003"
      ]
     },
     "execution_count": 137,
     "metadata": {},
     "output_type": "execute_result"
    }
   ],
   "source": [
    "df_feedback_factor_ch4 = df_surf_ch4_per_ch4_flux_conc/df_w_o_feedback\n",
    "#df_feedback_factor_ch4.name = 'feedback_factor_ch4'\n",
    "df_feedback_to_file = pd.DataFrame(data=[df_feedback_factor_ch4],index=['CTRL'])\n",
    "df_feedback_to_file.to_csv(outputpath + 'feedback_factor_ch4.csv')\n",
    "df_feedback_factor_ch4"
   ]
  },
  {
   "cell_type": "markdown",
   "metadata": {},
   "source": [
    "Split the CH4 GWP into direct and indirect based on the feedback factor."
   ]
  },
  {
   "cell_type": "code",
   "execution_count": 138,
   "metadata": {},
   "outputs": [
    {
     "data": {
      "text/plain": [
       "0.3172080053986027"
      ]
     },
     "execution_count": 138,
     "metadata": {},
     "output_type": "execute_result"
    }
   ],
   "source": [
    "feedback_factor = df_feedback_factor_ch4\n",
    "feedback_frac = 1.0 - (1.0/feedback_factor)\n",
    "#feedback_frac.name = 'feedback_frac'\n",
    "feedback_frac"
   ]
  },
  {
   "cell_type": "code",
   "execution_count": 139,
   "metadata": {},
   "outputs": [
    {
     "data": {
      "text/html": [
       "<div>\n",
       "<style scoped>\n",
       "    .dataframe tbody tr th:only-of-type {\n",
       "        vertical-align: middle;\n",
       "    }\n",
       "\n",
       "    .dataframe tbody tr th {\n",
       "        vertical-align: top;\n",
       "    }\n",
       "\n",
       "    .dataframe thead th {\n",
       "        text-align: right;\n",
       "    }\n",
       "</style>\n",
       "<table border=\"1\" class=\"dataframe\">\n",
       "  <thead>\n",
       "    <tr style=\"text-align: right;\">\n",
       "      <th></th>\n",
       "      <th>antro01</th>\n",
       "      <th>antro1</th>\n",
       "      <th>antro10</th>\n",
       "      <th>antro100</th>\n",
       "      <th>nemo</th>\n",
       "      <th>epia</th>\n",
       "      <th>munich</th>\n",
       "      <th>usdrydep</th>\n",
       "      <th>maud</th>\n",
       "      <th>zep</th>\n",
       "      <th>maxdep</th>\n",
       "    </tr>\n",
       "  </thead>\n",
       "  <tbody>\n",
       "    <tr>\n",
       "      <th>O3</th>\n",
       "      <td>2.13</td>\n",
       "      <td>2.38</td>\n",
       "      <td>2.42</td>\n",
       "      <td>2.41</td>\n",
       "      <td>2.59</td>\n",
       "      <td>2.06</td>\n",
       "      <td>2.22</td>\n",
       "      <td>1.89</td>\n",
       "      <td>2.62</td>\n",
       "      <td>2.14</td>\n",
       "      <td>2.27</td>\n",
       "    </tr>\n",
       "    <tr>\n",
       "      <th>strat H2O</th>\n",
       "      <td>1.87</td>\n",
       "      <td>1.87</td>\n",
       "      <td>1.88</td>\n",
       "      <td>1.90</td>\n",
       "      <td>2.05</td>\n",
       "      <td>1.57</td>\n",
       "      <td>1.69</td>\n",
       "      <td>1.45</td>\n",
       "      <td>2.05</td>\n",
       "      <td>1.65</td>\n",
       "      <td>1.80</td>\n",
       "    </tr>\n",
       "    <tr>\n",
       "      <th>O3 CH4ind</th>\n",
       "      <td>2.79</td>\n",
       "      <td>2.81</td>\n",
       "      <td>2.80</td>\n",
       "      <td>2.66</td>\n",
       "      <td>3.25</td>\n",
       "      <td>2.53</td>\n",
       "      <td>2.70</td>\n",
       "      <td>2.32</td>\n",
       "      <td>3.25</td>\n",
       "      <td>2.67</td>\n",
       "      <td>2.58</td>\n",
       "    </tr>\n",
       "    <tr>\n",
       "      <th>strat H2O CH4ind</th>\n",
       "      <td>0.65</td>\n",
       "      <td>0.66</td>\n",
       "      <td>0.66</td>\n",
       "      <td>0.62</td>\n",
       "      <td>0.76</td>\n",
       "      <td>0.59</td>\n",
       "      <td>0.63</td>\n",
       "      <td>0.54</td>\n",
       "      <td>0.76</td>\n",
       "      <td>0.62</td>\n",
       "      <td>0.60</td>\n",
       "    </tr>\n",
       "    <tr>\n",
       "      <th>CH4dir</th>\n",
       "      <td>3.26</td>\n",
       "      <td>3.29</td>\n",
       "      <td>3.28</td>\n",
       "      <td>3.11</td>\n",
       "      <td>3.80</td>\n",
       "      <td>2.95</td>\n",
       "      <td>3.16</td>\n",
       "      <td>2.71</td>\n",
       "      <td>3.80</td>\n",
       "      <td>3.12</td>\n",
       "      <td>3.02</td>\n",
       "    </tr>\n",
       "    <tr>\n",
       "      <th>CH4indir</th>\n",
       "      <td>1.52</td>\n",
       "      <td>1.53</td>\n",
       "      <td>1.52</td>\n",
       "      <td>1.45</td>\n",
       "      <td>1.76</td>\n",
       "      <td>1.37</td>\n",
       "      <td>1.47</td>\n",
       "      <td>1.26</td>\n",
       "      <td>1.77</td>\n",
       "      <td>1.45</td>\n",
       "      <td>1.40</td>\n",
       "    </tr>\n",
       "  </tbody>\n",
       "</table>\n",
       "</div>"
      ],
      "text/plain": [
       "                  antro01  antro1  antro10  antro100  nemo  epia  munich  \\\n",
       "O3                   2.13    2.38     2.42      2.41  2.59  2.06    2.22   \n",
       "strat H2O            1.87    1.87     1.88      1.90  2.05  1.57    1.69   \n",
       "O3 CH4ind            2.79    2.81     2.80      2.66  3.25  2.53    2.70   \n",
       "strat H2O CH4ind     0.65    0.66     0.66      0.62  0.76  0.59    0.63   \n",
       "CH4dir               3.26    3.29     3.28      3.11  3.80  2.95    3.16   \n",
       "CH4indir             1.52    1.53     1.52      1.45  1.76  1.37    1.47   \n",
       "\n",
       "                  usdrydep  maud  zep  maxdep  \n",
       "O3                    1.89  2.62 2.14    2.27  \n",
       "strat H2O             1.45  2.05 1.65    1.80  \n",
       "O3 CH4ind             2.32  3.25 2.67    2.58  \n",
       "strat H2O CH4ind      0.54  0.76 0.62    0.60  \n",
       "CH4dir                2.71  3.80 3.12    3.02  \n",
       "CH4indir              1.26  1.77 1.45    1.40  "
      ]
     },
     "execution_count": 139,
     "metadata": {},
     "output_type": "execute_result"
    }
   ],
   "source": [
    "#Save to file:\n",
    "\n",
    "df_h2_gwp.loc['CH4dir'] = df_h2_gwp.loc['CH4']*(1.0-feedback_frac)\n",
    "df_h2_gwp.loc['CH4indir'] = df_h2_gwp.loc['CH4']*feedback_frac\n",
    "\n",
    "#df_h2_gwp['GFDL-emi'].loc['CH4dir'] = df_h2_gwp['GFDL-emi'].loc['CH4']\n",
    "#df_h2_gwp['OSLOCTM3-emi'].loc['CH4dir'] = df_h2_gwp['OSLOCTM3-emi'].loc['CH4']\n",
    "df_h2_gwp = df_h2_gwp.drop(['total','CH4'])\n",
    "df_h2_gwp.to_csv(outputpath + 'table_h2_gwp.csv')\n",
    "\n",
    "df_h2_gwp"
   ]
  },
  {
   "cell_type": "code",
   "execution_count": 140,
   "metadata": {},
   "outputs": [
    {
     "data": {
      "text/plain": [
       "1.4645748747886003"
      ]
     },
     "execution_count": 140,
     "metadata": {},
     "output_type": "execute_result"
    }
   ],
   "source": [
    "df_feedback_factor_ch4"
   ]
  },
  {
   "cell_type": "code",
   "execution_count": 141,
   "metadata": {},
   "outputs": [
    {
     "name": "stdout",
     "output_type": "stream",
     "text": [
      "1.4429794488833552\n"
     ]
    }
   ],
   "source": [
    "#Alternative feedback calc:\n",
    "#ss the sensitivity of the lifetime to the burden.\n",
    "\n",
    "#ss = 1 – dln[<k All><H2>]/dln[<H2>] \n",
    "#= 1 – dln[<k All>]/dln[<H2>] – dln[<H2>]/dln[<H2>] \n",
    "#= – dln[<k All>]/dln[<H2>] \n",
    "#=  +dln[1/<k All>] / dln[<H2>] \n",
    "\n",
    "#<k All> = <k OH> + <kstrat OH> + <k soil> Are the inverse liftime-\n",
    "k_all_inv = df_ch4_tot_lifetime_conc\n",
    "\n",
    "a = np.log(k_all_inv.loc['10CH4'])-np.log(k_all_inv.loc['CTRL'])\n",
    "\n",
    "b = np.log(df_ch4_burden_conc.loc['10CH4'])-np.log(df_ch4_burden_conc.loc['CTRL'])\n",
    "#print(b)\n",
    "ss = a/b\n",
    "ff = 1/(1-ss)\n",
    "print(ff)"
   ]
  },
  {
   "cell_type": "code",
   "execution_count": 142,
   "metadata": {},
   "outputs": [
    {
     "name": "stdout",
     "output_type": "stream",
     "text": [
      "1.4429794488833612\n"
     ]
    }
   ],
   "source": [
    "ss = (np.log(df_ch4_tot_lifetime_conc.loc['10CH4']/df_ch4_tot_lifetime_conc.loc['CTRL']))/np.log(df_ch4_burden_conc.loc['10CH4']/df_ch4_burden_conc.loc['CTRL'])\n",
    "ff=1/(1-ss)\n",
    "print(ff)"
   ]
  },
  {
   "cell_type": "markdown",
   "metadata": {},
   "source": [
    "## Hydrogen feedback factor:"
   ]
  },
  {
   "cell_type": "markdown",
   "metadata": {},
   "source": [
    "### Atmospheric mass conversion H2  [Tg/ppb] (from perturbations)"
   ]
  },
  {
   "cell_type": "code",
   "execution_count": 143,
   "metadata": {},
   "outputs": [
    {
     "data": {
      "text/plain": [
       "CNTR        nan\n",
       "antro01    0.35\n",
       "antro1     0.35\n",
       "antro10    0.35\n",
       "antro100   0.35\n",
       "nemo       0.32\n",
       "epia       0.32\n",
       "munich     0.33\n",
       "usdrydep   0.34\n",
       "maud       0.28\n",
       "zep        0.31\n",
       "maxdep     0.36\n",
       "Name: h2_burden_per_conc, dtype: float64"
      ]
     },
     "execution_count": 143,
     "metadata": {},
     "output_type": "execute_result"
    }
   ],
   "source": [
    "df_h2_burden_per_conc  = df_h2_burden.loc['deltaH2']/df_h2_surfconc.loc['delta']\n",
    "df_h2_burden_per_conc.name = 'h2_burden_per_conc'\n",
    "df_h2_burden_per_conc"
   ]
  },
  {
   "cell_type": "markdown",
   "metadata": {},
   "source": [
    "### Increase per unit flux w/o feedback = integrated decay [ppb yr/Tg]"
   ]
  },
  {
   "cell_type": "code",
   "execution_count": 144,
   "metadata": {},
   "outputs": [
    {
     "data": {
      "text/plain": [
       "CNTR        nan\n",
       "antro01    6.78\n",
       "antro1     6.78\n",
       "antro10    6.78\n",
       "antro100   6.78\n",
       "nemo       7.27\n",
       "epia       7.30\n",
       "munich     7.13\n",
       "usdrydep   6.88\n",
       "maud       8.39\n",
       "zep        7.52\n",
       "maxdep     6.45\n",
       "Name: h2_burden_per_conc, dtype: float64"
      ]
     },
     "execution_count": 144,
     "metadata": {},
     "output_type": "execute_result"
    }
   ],
   "source": [
    "df_w_o_feedback_h2 =df_h2_lifetime.loc['CNTR']/df_h2_burden_per_conc #Lifetime [yr] / [Tg/ppb] \n",
    "df_w_o_feedback_h2"
   ]
  },
  {
   "cell_type": "markdown",
   "metadata": {},
   "source": [
    "### Feedback factor: increase H2 with feedback/ increase H2 without feedback"
   ]
  },
  {
   "cell_type": "markdown",
   "metadata": {},
   "source": [
    "If you take the control lifetime from the budget terms and divide it into the lifetime of the perturbation (the added burden from the 10% increase divided by the change in chemical flux from that perturbation.) You should get the feed back factor."
   ]
  },
  {
   "cell_type": "code",
   "execution_count": 145,
   "metadata": {},
   "outputs": [
    {
     "data": {
      "text/plain": [
       "CNTR        nan\n",
       "antro01    0.92\n",
       "antro1     0.92\n",
       "antro10    0.93\n",
       "antro100   0.94\n",
       "nemo       1.09\n",
       "epia       0.83\n",
       "munich     0.89\n",
       "usdrydep   0.76\n",
       "maud       1.10\n",
       "zep        0.89\n",
       "maxdep     0.85\n",
       "Name: feedback_factor_h2, dtype: float64"
      ]
     },
     "execution_count": 145,
     "metadata": {},
     "output_type": "execute_result"
    }
   ],
   "source": [
    "df_feedback_factor_h2 = df_surf_h2_per_h2_flux/df_w_o_feedback_h2\n",
    "df_feedback_factor_h2.name = 'feedback_factor_h2'\n",
    "df_feedback_factor_h2.to_csv(outputpath + 'feedback_factor_h2.csv')\n",
    "df_feedback_factor_h2\n",
    "#Fabien wrote in the paper about feedback factor less than 1."
   ]
  },
  {
   "cell_type": "markdown",
   "metadata": {},
   "source": [
    "### Change in lifetime per flux"
   ]
  },
  {
   "cell_type": "code",
   "execution_count": 146,
   "metadata": {},
   "outputs": [
    {
     "data": {
      "text/html": [
       "<div>\n",
       "<style scoped>\n",
       "    .dataframe tbody tr th:only-of-type {\n",
       "        vertical-align: middle;\n",
       "    }\n",
       "\n",
       "    .dataframe tbody tr th {\n",
       "        vertical-align: top;\n",
       "    }\n",
       "\n",
       "    .dataframe thead th {\n",
       "        text-align: right;\n",
       "    }\n",
       "</style>\n",
       "<table border=\"1\" class=\"dataframe\">\n",
       "  <thead>\n",
       "    <tr style=\"text-align: right;\">\n",
       "      <th></th>\n",
       "      <th>CNTR</th>\n",
       "      <th>antro01</th>\n",
       "      <th>antro1</th>\n",
       "      <th>antro10</th>\n",
       "      <th>antro100</th>\n",
       "      <th>nemo</th>\n",
       "      <th>epia</th>\n",
       "      <th>munich</th>\n",
       "      <th>usdrydep</th>\n",
       "      <th>maud</th>\n",
       "      <th>zep</th>\n",
       "      <th>maxdep</th>\n",
       "    </tr>\n",
       "    <tr>\n",
       "      <th>Scenario</th>\n",
       "      <th></th>\n",
       "      <th></th>\n",
       "      <th></th>\n",
       "      <th></th>\n",
       "      <th></th>\n",
       "      <th></th>\n",
       "      <th></th>\n",
       "      <th></th>\n",
       "      <th></th>\n",
       "      <th></th>\n",
       "      <th></th>\n",
       "      <th></th>\n",
       "    </tr>\n",
       "  </thead>\n",
       "  <tbody>\n",
       "    <tr>\n",
       "      <th>YR13</th>\n",
       "      <td>7.39</td>\n",
       "      <td>7.39</td>\n",
       "      <td>7.40</td>\n",
       "      <td>7.43</td>\n",
       "      <td>7.73</td>\n",
       "      <td>7.40</td>\n",
       "      <td>7.40</td>\n",
       "      <td>7.40</td>\n",
       "      <td>7.40</td>\n",
       "      <td>7.40</td>\n",
       "      <td>7.40</td>\n",
       "      <td>7.40</td>\n",
       "    </tr>\n",
       "    <tr>\n",
       "      <th>deltaH2</th>\n",
       "      <td>0.00</td>\n",
       "      <td>0.00</td>\n",
       "      <td>0.00</td>\n",
       "      <td>0.03</td>\n",
       "      <td>0.33</td>\n",
       "      <td>0.00</td>\n",
       "      <td>0.00</td>\n",
       "      <td>0.00</td>\n",
       "      <td>0.00</td>\n",
       "      <td>0.00</td>\n",
       "      <td>0.00</td>\n",
       "      <td>0.00</td>\n",
       "    </tr>\n",
       "    <tr>\n",
       "      <th>deltaCH4</th>\n",
       "      <td>0.24</td>\n",
       "      <td>0.24</td>\n",
       "      <td>0.24</td>\n",
       "      <td>0.24</td>\n",
       "      <td>0.24</td>\n",
       "      <td>0.24</td>\n",
       "      <td>0.24</td>\n",
       "      <td>0.24</td>\n",
       "      <td>0.24</td>\n",
       "      <td>0.24</td>\n",
       "      <td>0.24</td>\n",
       "      <td>0.24</td>\n",
       "    </tr>\n",
       "  </tbody>\n",
       "</table>\n",
       "</div>"
      ],
      "text/plain": [
       "          CNTR  antro01  antro1  antro10  antro100  nemo  epia  munich  \\\n",
       "Scenario                                                                 \n",
       "YR13      7.39     7.39    7.40     7.43      7.73  7.40  7.40    7.40   \n",
       "deltaH2   0.00     0.00    0.00     0.03      0.33  0.00  0.00    0.00   \n",
       "deltaCH4  0.24     0.24    0.24     0.24      0.24  0.24  0.24    0.24   \n",
       "\n",
       "          usdrydep  maud  zep  maxdep  \n",
       "Scenario                               \n",
       "YR13          7.40  7.40 7.40    7.40  \n",
       "deltaH2       0.00  0.00 0.00    0.00  \n",
       "deltaCH4      0.24  0.24 0.24    0.24  "
      ]
     },
     "execution_count": 146,
     "metadata": {},
     "output_type": "execute_result"
    }
   ],
   "source": [
    "df_ch4_lifetime.loc['deltaH2'] = df_ch4_lifetime.iloc[0]-df_ch4_lifetime['CNTR'].iloc[0]\n",
    "df_ch4_lifetime.loc['deltaCH4'] = df_ch4_lifetime_conc.loc['10CH4']-df_ch4_lifetime_conc.loc['CTRL']\n",
    "df_ch4_lifetime"
   ]
  },
  {
   "cell_type": "code",
   "execution_count": 147,
   "metadata": {},
   "outputs": [
    {
     "data": {
      "text/plain": [
       "CNTR        nan\n",
       "antro01    1.22\n",
       "antro1     1.23\n",
       "antro10    1.23\n",
       "antro100   1.22\n",
       "nemo       1.42\n",
       "epia       1.11\n",
       "munich     1.19\n",
       "usdrydep   1.02\n",
       "maud       1.42\n",
       "zep        1.17\n",
       "maxdep     1.13\n",
       "Name: deltaH2, dtype: float64"
      ]
     },
     "execution_count": 147,
     "metadata": {},
     "output_type": "execute_result"
    }
   ],
   "source": [
    "#Direct (changes in methane lifetime per h2 flux [days per Tg H2])\n",
    "df_ch4_lifetime_per_h2_flux =  df_ch4_lifetime.loc['deltaH2']/df_h2_flux['deltaH2']\n",
    "df_ch4_lifetime_per_h2_flux*365.0 #Days"
   ]
  },
  {
   "cell_type": "code",
   "execution_count": 148,
   "metadata": {},
   "outputs": [
    {
     "data": {
      "text/plain": [
       "CNTR        nan\n",
       "antro01    0.53\n",
       "antro1     0.53\n",
       "antro10    0.53\n",
       "antro100   0.51\n",
       "nemo       0.62\n",
       "epia       0.48\n",
       "munich     0.51\n",
       "usdrydep   0.44\n",
       "maud       0.62\n",
       "zep        0.51\n",
       "maxdep     0.49\n",
       "dtype: float64"
      ]
     },
     "execution_count": 148,
     "metadata": {},
     "output_type": "execute_result"
    }
   ],
   "source": [
    "#Indirect (changes in methane lifetime per h2 flux [days per Tg H2] due to changes in methane):\n",
    "df_ch4_lifetime_per_ch4_flux =  df_ch4_lifetime.loc['deltaCH4']/df_ch4_flux.loc['deltaCH4']\n",
    "df_ch4_lifetime_per_ch4_flux*365.0*df_ch4_flux_per_h2_flux\n"
   ]
  },
  {
   "cell_type": "markdown",
   "metadata": {},
   "source": []
  },
  {
   "cell_type": "markdown",
   "metadata": {},
   "source": [
    "### Check that delta flux equal delta burden divided by lifetime including the feedback effect"
   ]
  },
  {
   "cell_type": "code",
   "execution_count": 149,
   "metadata": {},
   "outputs": [
    {
     "data": {
      "text/plain": [
       "CNTR        nan\n",
       "antro01    0.92\n",
       "antro1     0.92\n",
       "antro10    0.93\n",
       "antro100   0.94\n",
       "nemo       1.09\n",
       "epia       0.83\n",
       "munich     0.89\n",
       "usdrydep   0.76\n",
       "maud       1.10\n",
       "zep        0.89\n",
       "maxdep     0.85\n",
       "Name: feedback_factor_h2, dtype: float64"
      ]
     },
     "execution_count": 149,
     "metadata": {},
     "output_type": "execute_result"
    }
   ],
   "source": [
    "df_feedback_factor_h2"
   ]
  },
  {
   "cell_type": "code",
   "execution_count": 150,
   "metadata": {},
   "outputs": [
    {
     "data": {
      "text/html": [
       "<div>\n",
       "<style scoped>\n",
       "    .dataframe tbody tr th:only-of-type {\n",
       "        vertical-align: middle;\n",
       "    }\n",
       "\n",
       "    .dataframe tbody tr th {\n",
       "        vertical-align: top;\n",
       "    }\n",
       "\n",
       "    .dataframe thead th {\n",
       "        text-align: right;\n",
       "    }\n",
       "</style>\n",
       "<table border=\"1\" class=\"dataframe\">\n",
       "  <thead>\n",
       "    <tr style=\"text-align: right;\">\n",
       "      <th></th>\n",
       "      <th>CNTR</th>\n",
       "      <th>antro01</th>\n",
       "      <th>antro1</th>\n",
       "      <th>antro10</th>\n",
       "      <th>antro100</th>\n",
       "      <th>nemo</th>\n",
       "      <th>epia</th>\n",
       "      <th>munich</th>\n",
       "      <th>usdrydep</th>\n",
       "      <th>maud</th>\n",
       "      <th>zep</th>\n",
       "      <th>maxdep</th>\n",
       "    </tr>\n",
       "    <tr>\n",
       "      <th>Scenario</th>\n",
       "      <th></th>\n",
       "      <th></th>\n",
       "      <th></th>\n",
       "      <th></th>\n",
       "      <th></th>\n",
       "      <th></th>\n",
       "      <th></th>\n",
       "      <th></th>\n",
       "      <th></th>\n",
       "      <th></th>\n",
       "      <th></th>\n",
       "      <th></th>\n",
       "    </tr>\n",
       "  </thead>\n",
       "  <tbody>\n",
       "    <tr>\n",
       "      <th>YR13</th>\n",
       "      <td>205</td>\n",
       "      <td>205</td>\n",
       "      <td>207</td>\n",
       "      <td>226</td>\n",
       "      <td>423</td>\n",
       "      <td>207</td>\n",
       "      <td>207</td>\n",
       "      <td>207</td>\n",
       "      <td>206</td>\n",
       "      <td>207</td>\n",
       "      <td>207</td>\n",
       "      <td>207</td>\n",
       "    </tr>\n",
       "    <tr>\n",
       "      <th>deltaH2</th>\n",
       "      <td>0.00</td>\n",
       "      <td>0.22</td>\n",
       "      <td>2.15</td>\n",
       "      <td>21.5</td>\n",
       "      <td>218</td>\n",
       "      <td>2.53</td>\n",
       "      <td>1.93</td>\n",
       "      <td>2.05</td>\n",
       "      <td>1.76</td>\n",
       "      <td>2.56</td>\n",
       "      <td>2.07</td>\n",
       "      <td>1.97</td>\n",
       "    </tr>\n",
       "  </tbody>\n",
       "</table>\n",
       "</div>"
      ],
      "text/plain": [
       "          CNTR  antro01  antro1  antro10  antro100  nemo  epia  munich  \\\n",
       "Scenario                                                                 \n",
       "YR13       205      205     207      226       423   207   207     207   \n",
       "deltaH2   0.00     0.22    2.15     21.5       218  2.53  1.93    2.05   \n",
       "\n",
       "          usdrydep  maud  zep  maxdep  \n",
       "Scenario                               \n",
       "YR13           206   207  207     207  \n",
       "deltaH2       1.76  2.56 2.07    1.97  "
      ]
     },
     "execution_count": 150,
     "metadata": {},
     "output_type": "execute_result"
    }
   ],
   "source": [
    "df_h2_burden"
   ]
  },
  {
   "cell_type": "code",
   "execution_count": 151,
   "metadata": {},
   "outputs": [
    {
     "name": "stdout",
     "output_type": "stream",
     "text": [
      "CNTR        nan\n",
      "antro01    0.92\n",
      "antro1     0.93\n",
      "antro10    0.93\n",
      "antro100   0.96\n",
      "nemo       1.09\n",
      "epia       0.83\n",
      "munich     0.89\n",
      "usdrydep   0.76\n",
      "maud       1.10\n",
      "zep        0.89\n",
      "maxdep     0.85\n",
      "dtype: float64\n"
     ]
    }
   ],
   "source": [
    "ss = (np.log(df_h2_lifetime/df_h2_lifetime.loc['CNTR']))/np.log(df_h2_burden.iloc[0]/df_h2_burden['CNTR'].iloc[0])\n",
    "ff=1/(1-ss)\n",
    "print(ff)"
   ]
  },
  {
   "cell_type": "code",
   "execution_count": null,
   "metadata": {},
   "outputs": [],
   "source": []
  },
  {
   "cell_type": "code",
   "execution_count": 152,
   "metadata": {
    "scrolled": true
   },
   "outputs": [
    {
     "name": "stdout",
     "output_type": "stream",
     "text": [
      "CNTR        nan\n",
      "antro01    0.10\n",
      "antro1     0.99\n",
      "antro10    9.90\n",
      "antro100   99.1\n",
      "nemo       0.99\n",
      "epia       0.99\n",
      "munich     0.99\n",
      "usdrydep   0.99\n",
      "maud       0.99\n",
      "zep        0.99\n",
      "maxdep     0.99\n",
      "dtype: float64\n",
      "CNTR       0.00\n",
      "antro01    0.10\n",
      "antro1     0.99\n",
      "antro10    9.90\n",
      "antro100   99.1\n",
      "nemo       0.99\n",
      "epia       0.99\n",
      "munich     0.99\n",
      "usdrydep   0.99\n",
      "maud       0.99\n",
      "zep        0.99\n",
      "maxdep     0.99\n",
      "Name: deltaH2, dtype: float64\n"
     ]
    }
   ],
   "source": [
    "#Delta burden divided by tau*ff\n",
    "test = df_h2_burden.loc['deltaH2']/(df_h2_lifetime.loc['CNTR']*df_feedback_factor_h2)\n",
    "print(test)\n",
    "print(df_h2_flux['deltaH2'])\n"
   ]
  },
  {
   "cell_type": "code",
   "execution_count": 153,
   "metadata": {},
   "outputs": [
    {
     "data": {
      "text/plain": [
       "10.055132897458343"
      ]
     },
     "execution_count": 153,
     "metadata": {},
     "output_type": "execute_result"
    }
   ],
   "source": [
    "(df_ch4_tot_lifetime.iloc[0]['CNTR']*df_feedback_factor_ch4)"
   ]
  },
  {
   "cell_type": "code",
   "execution_count": 154,
   "metadata": {},
   "outputs": [
    {
     "name": "stdout",
     "output_type": "stream",
     "text": [
      "CNTR       0.00\n",
      "antro01    0.00\n",
      "antro1     0.00\n",
      "antro10    0.00\n",
      "antro100   0.04\n",
      "nemo       0.00\n",
      "epia       0.00\n",
      "munich     0.00\n",
      "usdrydep   0.00\n",
      "maud       0.00\n",
      "zep        0.00\n",
      "maxdep     0.00\n",
      "Name: deltaCH4, dtype: float64\n",
      "CNTR       49.7\n",
      "antro01    49.7\n",
      "antro1     49.7\n",
      "antro10    49.7\n",
      "antro100   49.7\n",
      "nemo       49.7\n",
      "epia       49.7\n",
      "munich     49.7\n",
      "usdrydep   49.7\n",
      "maud       49.7\n",
      "zep        49.7\n",
      "maxdep     49.7\n",
      "Name: deltaCH4, dtype: float64\n"
     ]
    }
   ],
   "source": [
    "test = df_ch4_burden.loc['deltaCH4']/(df_ch4_tot_lifetime.iloc[0]['CNTR']*df_feedback_factor_ch4)\n",
    "print(test)\n",
    "print(df_ch4_flux.loc['deltaCH4'])"
   ]
  },
  {
   "cell_type": "markdown",
   "metadata": {},
   "source": [
    "## Feedback factor summary"
   ]
  },
  {
   "cell_type": "markdown",
   "metadata": {},
   "source": [
    "The feedback factor calculation employed above is equivalent with a division between the perturbation lifetime and the total lifetime, where the perturbation lifetime is defined as the burden change diveded by the flux change in the perturbed simulation relative to the control simulation"
   ]
  },
  {
   "cell_type": "code",
   "execution_count": 155,
   "metadata": {},
   "outputs": [
    {
     "name": "stdout",
     "output_type": "stream",
     "text": [
      "1.4645748747886003\n"
     ]
    },
    {
     "data": {
      "text/plain": [
       "1.4645748747886005"
      ]
     },
     "execution_count": 155,
     "metadata": {},
     "output_type": "execute_result"
    }
   ],
   "source": [
    "print(df_feedback_factor_ch4)\n",
    "test_ff =  (df_ch4_burden_conc.loc['deltaCH4']/df_ch4_flux_conc.loc['deltaCH4'])/df_ch4_tot_lifetime_conc.loc['CTRL']\n",
    "\n",
    "test_ff"
   ]
  },
  {
   "cell_type": "code",
   "execution_count": 156,
   "metadata": {},
   "outputs": [
    {
     "name": "stdout",
     "output_type": "stream",
     "text": [
      "CNTR        nan\n",
      "antro01    0.92\n",
      "antro1     0.92\n",
      "antro10    0.93\n",
      "antro100   0.94\n",
      "nemo       1.09\n",
      "epia       0.83\n",
      "munich     0.89\n",
      "usdrydep   0.76\n",
      "maud       1.10\n",
      "zep        0.89\n",
      "maxdep     0.85\n",
      "Name: feedback_factor_h2, dtype: float64\n"
     ]
    },
    {
     "data": {
      "text/plain": [
       "CNTR        nan\n",
       "antro01    0.92\n",
       "antro1     0.92\n",
       "antro10    0.93\n",
       "antro100   0.94\n",
       "nemo       1.09\n",
       "epia       0.83\n",
       "munich     0.89\n",
       "usdrydep   0.76\n",
       "maud       1.10\n",
       "zep        0.89\n",
       "maxdep     0.85\n",
       "Name: deltaH2, dtype: float64"
      ]
     },
     "execution_count": 156,
     "metadata": {},
     "output_type": "execute_result"
    }
   ],
   "source": [
    "print(df_feedback_factor_h2)\n",
    "test_ff =  (df_h2_burden.loc['deltaH2']/df_h2_flux['deltaH2'])/df_h2_lifetime.loc['CNTR']\n",
    "\n",
    "test_ff\n",
    "\n"
   ]
  },
  {
   "cell_type": "markdown",
   "metadata": {},
   "source": [
    "## Calculating values needed for uncertainty calculations"
   ]
  },
  {
   "cell_type": "markdown",
   "metadata": {},
   "source": [
    "Calculating various means and spreads needed to perform uncertainty calculations. The calculations are in practice done in another notebook, GWP_different_time_horixons.ipynb, using these values."
   ]
  },
  {
   "cell_type": "markdown",
   "metadata": {},
   "source": [
    "tau = np.mean(df_h2_lifetime.drop(labels=['GFDL-emi', 'OSLOCTM3-emi'], axis=1).loc[['CTRL']].values*df_feedback_factor_h2.drop(labels=['GFDL-emi', 'OSLOCTM3-emi']).values)\n",
    "gfdl_scaled_burden = df_h2_burden.loc['deltaH2']['GFDL_nudge']/4\n",
    "burden_for_uncertainties = np.append(df_h2_burden.drop(labels=['GFDL-emi', 'OSLOCTM3-emi', 'GFDL_nudge'], axis=1).loc[['deltaH2']].values,gfdl_scaled_burden)\n",
    "sigma_burden = np.std(burden_for_uncertainties)\n",
    "sigma_atmloss = np.std(df_h2_atmloss.drop(labels=['GFDL-emi', 'OSLOCTM3-emi'], axis=1).loc[['CTRL']].values)\n",
    "sigma_delta_flux_CH4_dir = np.std(df_per_flux_ch4.drop(labels=['GFDL-emi', 'OsloCTM-emi', 'Model mean'], axis=0).mean(axis = 1).values/df_feedback_factor_ch4.drop(labels=['GFDL-emi', 'OSLOCTM3-emi']).values)"
   ]
  },
  {
   "cell_type": "markdown",
   "metadata": {},
   "source": [
    "sigma_h2_ff = np.std(df_feedback_factor_h2.drop(labels=['GFDL-emi', 'OSLOCTM3-emi']))"
   ]
  },
  {
   "cell_type": "markdown",
   "metadata": {
    "scrolled": true
   },
   "source": [
    "delta_burden = np.mean(burden_for_uncertainties)\n",
    "loss = np.mean(df_h2_loss.drop(labels=['GFDL-emi', 'OSLOCTM3-emi'], axis=1).loc[['CTRL']].values)\n",
    "delta_flux_CH4 = df_per_flux_ch4.drop(labels=['GFDL-emi', 'OsloCTM-emi'], axis=0)['Surf. conc. CH4 per flux [ppb yr/Tg]'].mean()\n",
    "ff_ch4 = df_feedback_factor_ch4.drop(labels=['GFDL-emi', 'OSLOCTM3-emi']).mean()\n",
    "ff_h2 = df_feedback_factor_h2.drop(labels=['GFDL-emi', 'OSLOCTM3-emi']).mean()\n",
    "delta_flux_CH4_dir = delta_flux_CH4*1.0/ff_ch4"
   ]
  },
  {
   "cell_type": "markdown",
   "metadata": {},
   "source": [
    "df_needed_for_uncertainties = pd.DataFrame(data={\"delta_burden\":delta_burden, \"sigma_burden\":sigma_burden, \"loss\":loss, \"sigma_atmloss\":sigma_atmloss, \"sigma_h2_ff\":sigma_h2_ff, \"ff_h2\":ff_h2, \"tau\":tau, \"ff_ch4\":ff_ch4, \"delta_flux_CH4\":delta_flux_CH4, \"sigma_delta_flux_CH4_dir\":sigma_delta_flux_CH4_dir}, index = [0])\n",
    "print(df_needed_for_uncertainties)\n",
    "df_needed_for_uncertainties.to_csv(outputpath + 'uncertainty_input.txt')"
   ]
  },
  {
   "cell_type": "code",
   "execution_count": null,
   "metadata": {},
   "outputs": [],
   "source": []
  },
  {
   "cell_type": "code",
   "execution_count": null,
   "metadata": {},
   "outputs": [],
   "source": []
  }
 ],
 "metadata": {
  "kernelspec": {
   "display_name": "Python 3",
   "language": "python",
   "name": "python3"
  },
  "language_info": {
   "codemirror_mode": {
    "name": "ipython",
    "version": 3
   },
   "file_extension": ".py",
   "mimetype": "text/x-python",
   "name": "python",
   "nbconvert_exporter": "python",
   "pygments_lexer": "ipython3",
   "version": "3.7.0"
  }
 },
 "nbformat": 4,
 "nbformat_minor": 2
}
