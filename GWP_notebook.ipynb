{
 "cells": [
  {
   "cell_type": "markdown",
   "metadata": {},
   "source": [
    "# Calculate GWP and create tables"
   ]
  },
  {
   "cell_type": "markdown",
   "metadata": {},
   "source": [
    "The script calculates the GWP of hydrogen and methane using a steady-state perturbation approach.\n",
    "\n",
    "**Simulations**:\n",
    "- **CTRL**: fixed surface concentration of hydrogen and methane\n",
    "- **10H2**: as CTRL, but with surface H2 increased by 10%. Run to steady state.\n",
    "- **10CH4**: as CTRL, but with surface CH4 increased by 10%. Run to steady state.\n",
    "\n",
    "In addition, two models have perturbed H2 emissions instead of the surface mole fraction of H2.\n",
    "\n",
    "GWP is the ratio of the absolute global warming potential (AGWP) for hydrogen to that for CO2. AGWP is defined as the time-integrated radiative forcing to a 1 kg pulse emission of that gas over a given time horizon, here 100 years. \n",
    "\n",
    "AGWP is equal to the steady-state radiative forcing (W m-2) divided by the delta flux (Tg-H2 yr-1) for a perturbed vs control. This delta flux between the perturbed (10H2 or 10CH4) and the control simulation (CTRL) includes chemical feedbacks. \n",
    "\n",
    "Based on the three set of simulations, we calculate the radiative forcing in the perturbed relative to the control. As the models run with fixed surface concentration of methane, we need to have a separate perturbed methane run. We calculate the radiative forcing per Tg-CH4 (including the feedbacks, as feedbacks are included in the delta flux) for the methane perturbed run, and map the changes in the methane loss in the hydrogen perturbation with the results from the methane perturbed run. \n",
    "\n",
    "*GFDL-emi simulations from Paulot et al. (2021) with H2 emissions (200 Tg/yr).*"
   ]
  },
  {
   "cell_type": "markdown",
   "metadata": {},
   "source": [
    "#### OUTLINE:\n",
    "**PART I: Read model results**\n",
    "\n",
    "**PART II: GWP calculations**\n",
    "\n",
    "**PART III: Main results and tabels**\n",
    "\n",
    "**Appendix with additional results**\n",
    "\n",
    "**Uncertainty analysis output**\n",
    "\n",
    "This is the main notebook for the GWP calculations. The uncertainty analysis and plotting are done in separate notebooks. "
   ]
  },
  {
   "cell_type": "code",
   "execution_count": 1,
   "metadata": {},
   "outputs": [],
   "source": [
    "import numpy as np\n",
    "import pandas as pd\n",
    "pd.set_option('display.float_format', lambda x: '{:,.4f}'.format(x) if abs(x)<0 else ('{:,.2f}'.format(x) if abs(x)<10 else ('{:,.1f}'.format(x) if abs(x)<100 else '{:,.0f}'.format(x))))"
   ]
  },
  {
   "cell_type": "markdown",
   "metadata": {},
   "source": [
    "Input and output path:"
   ]
  },
  {
   "cell_type": "code",
   "execution_count": 2,
   "metadata": {},
   "outputs": [],
   "source": [
    "path = r\"./input/\"\n",
    "outputpath= r\"./output/\""
   ]
  },
  {
   "cell_type": "markdown",
   "metadata": {},
   "source": [
    "Constants:"
   ]
  },
  {
   "cell_type": "code",
   "execution_count": 3,
   "metadata": {},
   "outputs": [
    {
     "name": "stdout",
     "output_type": "stream",
     "text": [
      "0.38528\n"
     ]
    }
   ],
   "source": [
    "#AGWP100_CO2 [mW yr m-2 Tg-1] Source: Table 7.SM.6 in IPCC AR6: 0.0895 pW m-2 yr kg-1 (p=10^-12) \n",
    "agwp100_CO2 = 0.0895\n",
    "\n",
    "\n",
    "#CH4 tau_strat[yr] \n",
    "tau_strat = 120.0*2.0 #Multiplied by to for not double counting OH loss in stratosphere. \n",
    "\n",
    "#CH4 tau_soil [yr] \n",
    "tau_soil = 160.0\n",
    "\n",
    "#Specific RF for CH4 [mW m-2 ppb-1] Etminan et al., 2016\n",
    "spec_rf_ch4 = 0.44800\n",
    "\n",
    "#The adjustment is –14% ± 15% IPCC AR6\n",
    "spec_rf_ch4 = spec_rf_ch4*(1.0-0.14)\n",
    "print(spec_rf_ch4)"
   ]
  },
  {
   "cell_type": "markdown",
   "metadata": {},
   "source": [
    "**Dry deposition adjustments:** As there is large uncertanty in dry deposition, here is a possibility to spesify the soil sink value. The perturbations are adjusted by the same relative factors as in the control. "
   ]
  },
  {
   "cell_type": "code",
   "execution_count": 4,
   "metadata": {},
   "outputs": [],
   "source": [
    "adjust_drydep = False\n",
    "if(adjust_drydep):\n",
    "    drydep = 59.0\n",
    "    outputpath = outputpath + 'drydep_'+ f'{drydep:.0f}_'"
   ]
  },
  {
   "cell_type": "markdown",
   "metadata": {},
   "source": [
    "# Part I: Read model results"
   ]
  },
  {
   "cell_type": "markdown",
   "metadata": {},
   "source": [
    "In this part, model results are read from the input files.\n",
    "\n",
    "For GFDL-emi, 10H2 is the hydrogen only perturbed run, while 10CH4 is the hydrogen plus methane perturbed run."
   ]
  },
  {
   "cell_type": "markdown",
   "metadata": {},
   "source": [
    "## 1. Hydrogen budget"
   ]
  },
  {
   "cell_type": "markdown",
   "metadata": {},
   "source": [
    "### 1.1 H2 burden [Tg]:"
   ]
  },
  {
   "cell_type": "code",
   "execution_count": 5,
   "metadata": {},
   "outputs": [
    {
     "data": {
      "text/html": [
       "<div>\n",
       "<style scoped>\n",
       "    .dataframe tbody tr th:only-of-type {\n",
       "        vertical-align: middle;\n",
       "    }\n",
       "\n",
       "    .dataframe tbody tr th {\n",
       "        vertical-align: top;\n",
       "    }\n",
       "\n",
       "    .dataframe thead th {\n",
       "        text-align: right;\n",
       "    }\n",
       "</style>\n",
       "<table border=\"1\" class=\"dataframe\">\n",
       "  <thead>\n",
       "    <tr style=\"text-align: right;\">\n",
       "      <th></th>\n",
       "      <th>OSLOCTM3</th>\n",
       "      <th>WACCM6-2deg</th>\n",
       "      <th>INCA</th>\n",
       "      <th>GFDL-emi</th>\n",
       "      <th>OSLOCTM3-emi</th>\n",
       "      <th>UKCA</th>\n",
       "      <th>GFDL_nudge</th>\n",
       "    </tr>\n",
       "    <tr>\n",
       "      <th>Scenario</th>\n",
       "      <th></th>\n",
       "      <th></th>\n",
       "      <th></th>\n",
       "      <th></th>\n",
       "      <th></th>\n",
       "      <th></th>\n",
       "      <th></th>\n",
       "    </tr>\n",
       "  </thead>\n",
       "  <tbody>\n",
       "    <tr>\n",
       "      <th>CTRL</th>\n",
       "      <td>196</td>\n",
       "      <td>195</td>\n",
       "      <td>195</td>\n",
       "      <td>192</td>\n",
       "      <td>209</td>\n",
       "      <td>191</td>\n",
       "      <td>188</td>\n",
       "    </tr>\n",
       "    <tr>\n",
       "      <th>10H2</th>\n",
       "      <td>215</td>\n",
       "      <td>213</td>\n",
       "      <td>213</td>\n",
       "      <td>659</td>\n",
       "      <td>240</td>\n",
       "      <td>210</td>\n",
       "      <td>261</td>\n",
       "    </tr>\n",
       "    <tr>\n",
       "      <th>10CH4</th>\n",
       "      <td>197</td>\n",
       "      <td>195</td>\n",
       "      <td>195</td>\n",
       "      <td>670</td>\n",
       "      <td>nan</td>\n",
       "      <td>192</td>\n",
       "      <td>188</td>\n",
       "    </tr>\n",
       "    <tr>\n",
       "      <th>deltaH2</th>\n",
       "      <td>18.7</td>\n",
       "      <td>18.7</td>\n",
       "      <td>18.7</td>\n",
       "      <td>467</td>\n",
       "      <td>31.1</td>\n",
       "      <td>18.4</td>\n",
       "      <td>73.0</td>\n",
       "    </tr>\n",
       "  </tbody>\n",
       "</table>\n",
       "</div>"
      ],
      "text/plain": [
       "          OSLOCTM3  WACCM6-2deg  INCA  GFDL-emi  OSLOCTM3-emi  UKCA  \\\n",
       "Scenario                                                              \n",
       "CTRL           196          195   195       192           209   191   \n",
       "10H2           215          213   213       659           240   210   \n",
       "10CH4          197          195   195       670           nan   192   \n",
       "deltaH2       18.7         18.7  18.7       467          31.1  18.4   \n",
       "\n",
       "          GFDL_nudge  \n",
       "Scenario              \n",
       "CTRL             188  \n",
       "10H2             261  \n",
       "10CH4            188  \n",
       "deltaH2         73.0  "
      ]
     },
     "execution_count": 5,
     "metadata": {},
     "output_type": "execute_result"
    }
   ],
   "source": [
    "file = 'H2_burden.txt'\n",
    "df_h2_burden = pd.read_csv(path + file, sep=';',index_col=0,header=0)\n",
    "delta = df_h2_burden.loc['10H2']-df_h2_burden.loc['CTRL']\n",
    "delta.name = 'deltaH2'\n",
    "df_h2_burden = df_h2_burden.append(delta)\n",
    "df_h2_burden"
   ]
  },
  {
   "cell_type": "markdown",
   "metadata": {},
   "source": [
    "### 1.2 H2 loss\n",
    "Hydrogen loss happens through two main processes. The largest loss is through soil sink. Remaining hydrogen is lost through reactions with OH as it ascends through the atmosphere. "
   ]
  },
  {
   "cell_type": "markdown",
   "metadata": {},
   "source": [
    "#### H2 dry deposition [Tg/yr]"
   ]
  },
  {
   "cell_type": "markdown",
   "metadata": {},
   "source": [
    "The models diagnose soil sink based on their own schemes. Note that the dry deposition do not affect the atmospheric composition in the concentration driven runs, as the surface concentration of H2 are fixed in these runs."
   ]
  },
  {
   "cell_type": "code",
   "execution_count": 6,
   "metadata": {},
   "outputs": [
    {
     "data": {
      "text/html": [
       "<div>\n",
       "<style scoped>\n",
       "    .dataframe tbody tr th:only-of-type {\n",
       "        vertical-align: middle;\n",
       "    }\n",
       "\n",
       "    .dataframe tbody tr th {\n",
       "        vertical-align: top;\n",
       "    }\n",
       "\n",
       "    .dataframe thead th {\n",
       "        text-align: right;\n",
       "    }\n",
       "</style>\n",
       "<table border=\"1\" class=\"dataframe\">\n",
       "  <thead>\n",
       "    <tr style=\"text-align: right;\">\n",
       "      <th></th>\n",
       "      <th>OSLOCTM3</th>\n",
       "      <th>WACCM6-2deg</th>\n",
       "      <th>INCA</th>\n",
       "      <th>GFDL-emi</th>\n",
       "      <th>OSLOCTM3-emi</th>\n",
       "      <th>UKCA</th>\n",
       "      <th>GFDL_nudge</th>\n",
       "    </tr>\n",
       "    <tr>\n",
       "      <th>Scenario</th>\n",
       "      <th></th>\n",
       "      <th></th>\n",
       "      <th></th>\n",
       "      <th></th>\n",
       "      <th></th>\n",
       "      <th></th>\n",
       "      <th></th>\n",
       "    </tr>\n",
       "  </thead>\n",
       "  <tbody>\n",
       "    <tr>\n",
       "      <th>CTRL</th>\n",
       "      <td>59.5</td>\n",
       "      <td>73.0</td>\n",
       "      <td>52.0</td>\n",
       "      <td>54.6</td>\n",
       "      <td>58.4</td>\n",
       "      <td>44.3</td>\n",
       "      <td>56.6</td>\n",
       "    </tr>\n",
       "    <tr>\n",
       "      <th>10H2</th>\n",
       "      <td>65.5</td>\n",
       "      <td>80.3</td>\n",
       "      <td>57.1</td>\n",
       "      <td>204</td>\n",
       "      <td>67.8</td>\n",
       "      <td>48.7</td>\n",
       "      <td>79.2</td>\n",
       "    </tr>\n",
       "    <tr>\n",
       "      <th>10CH4</th>\n",
       "      <td>59.5</td>\n",
       "      <td>73.0</td>\n",
       "      <td>52.0</td>\n",
       "      <td>207</td>\n",
       "      <td>0.00</td>\n",
       "      <td>44.3</td>\n",
       "      <td>56.6</td>\n",
       "    </tr>\n",
       "  </tbody>\n",
       "</table>\n",
       "</div>"
      ],
      "text/plain": [
       "          OSLOCTM3  WACCM6-2deg  INCA  GFDL-emi  OSLOCTM3-emi  UKCA  \\\n",
       "Scenario                                                              \n",
       "CTRL          59.5         73.0  52.0      54.6          58.4  44.3   \n",
       "10H2          65.5         80.3  57.1       204          67.8  48.7   \n",
       "10CH4         59.5         73.0  52.0       207          0.00  44.3   \n",
       "\n",
       "          GFDL_nudge  \n",
       "Scenario              \n",
       "CTRL            56.6  \n",
       "10H2            79.2  \n",
       "10CH4           56.6  "
      ]
     },
     "execution_count": 6,
     "metadata": {},
     "output_type": "execute_result"
    }
   ],
   "source": [
    "file = 'H2_drydep.txt'\n",
    "df_h2_drydep = pd.read_csv(path + file, sep=';',index_col=0,header=0)\n",
    "df_h2_drydep"
   ]
  },
  {
   "cell_type": "markdown",
   "metadata": {},
   "source": [
    "As drydeposition is uncertain, we can replace the models diagnosed drydeposition by a given value. In the concentration driven run, the drydeposition scheme do not impact the atmospheric composition. For emission driven runs, we also do adjust the drydeposition. Note that we do not use the emission numbers from the emission driven runs directly, the fluxes is estimated based on burden and lifetimes."
   ]
  },
  {
   "cell_type": "code",
   "execution_count": 7,
   "metadata": {},
   "outputs": [],
   "source": [
    "if(adjust_drydep):\n",
    "    print('NB drydep adjusted')\n",
    "    \n",
    "    #Adjust by the relative adjustment in the control simulations\n",
    "    adjust = drydep/df_h2_drydep.loc['CTRL']\n",
    "    df_h2_drydep = df_h2_drydep*adjust\n",
    "    \n",
    "    print(df_h2_drydep)"
   ]
  },
  {
   "cell_type": "markdown",
   "metadata": {},
   "source": [
    "#### H2 atmospheric loss [Tg/yr]"
   ]
  },
  {
   "cell_type": "code",
   "execution_count": 8,
   "metadata": {},
   "outputs": [
    {
     "data": {
      "text/html": [
       "<div>\n",
       "<style scoped>\n",
       "    .dataframe tbody tr th:only-of-type {\n",
       "        vertical-align: middle;\n",
       "    }\n",
       "\n",
       "    .dataframe tbody tr th {\n",
       "        vertical-align: top;\n",
       "    }\n",
       "\n",
       "    .dataframe thead th {\n",
       "        text-align: right;\n",
       "    }\n",
       "</style>\n",
       "<table border=\"1\" class=\"dataframe\">\n",
       "  <thead>\n",
       "    <tr style=\"text-align: right;\">\n",
       "      <th></th>\n",
       "      <th>OSLOCTM3</th>\n",
       "      <th>WACCM6-2deg</th>\n",
       "      <th>INCA</th>\n",
       "      <th>GFDL-emi</th>\n",
       "      <th>OSLOCTM3-emi</th>\n",
       "      <th>UKCA</th>\n",
       "      <th>GFDL_nudge</th>\n",
       "    </tr>\n",
       "    <tr>\n",
       "      <th>Scenario</th>\n",
       "      <th></th>\n",
       "      <th></th>\n",
       "      <th></th>\n",
       "      <th></th>\n",
       "      <th></th>\n",
       "      <th></th>\n",
       "      <th></th>\n",
       "    </tr>\n",
       "  </thead>\n",
       "  <tbody>\n",
       "    <tr>\n",
       "      <th>CTRL</th>\n",
       "      <td>28.4</td>\n",
       "      <td>29.0</td>\n",
       "      <td>22.5</td>\n",
       "      <td>22.3</td>\n",
       "      <td>30.1</td>\n",
       "      <td>26.8</td>\n",
       "      <td>21.7</td>\n",
       "    </tr>\n",
       "    <tr>\n",
       "      <th>10H2</th>\n",
       "      <td>31.0</td>\n",
       "      <td>31.7</td>\n",
       "      <td>24.5</td>\n",
       "      <td>70.2</td>\n",
       "      <td>34.4</td>\n",
       "      <td>29.2</td>\n",
       "      <td>29.7</td>\n",
       "    </tr>\n",
       "    <tr>\n",
       "      <th>10CH4</th>\n",
       "      <td>27.6</td>\n",
       "      <td>28.2</td>\n",
       "      <td>22.0</td>\n",
       "      <td>69.5</td>\n",
       "      <td>0.00</td>\n",
       "      <td>26.0</td>\n",
       "      <td>21.2</td>\n",
       "    </tr>\n",
       "  </tbody>\n",
       "</table>\n",
       "</div>"
      ],
      "text/plain": [
       "          OSLOCTM3  WACCM6-2deg  INCA  GFDL-emi  OSLOCTM3-emi  UKCA  \\\n",
       "Scenario                                                              \n",
       "CTRL          28.4         29.0  22.5      22.3          30.1  26.8   \n",
       "10H2          31.0         31.7  24.5      70.2          34.4  29.2   \n",
       "10CH4         27.6         28.2  22.0      69.5          0.00  26.0   \n",
       "\n",
       "          GFDL_nudge  \n",
       "Scenario              \n",
       "CTRL            21.7  \n",
       "10H2            29.7  \n",
       "10CH4           21.2  "
      ]
     },
     "execution_count": 8,
     "metadata": {},
     "output_type": "execute_result"
    }
   ],
   "source": [
    "file = 'H2_atm_loss.txt'\n",
    "df_h2_atmloss = pd.read_csv(path + file, sep=';',index_col=0,header=0)\n",
    "df_h2_atmloss\n"
   ]
  },
  {
   "cell_type": "markdown",
   "metadata": {},
   "source": [
    "#### H2 total loss [Tg/yr]:"
   ]
  },
  {
   "cell_type": "code",
   "execution_count": 9,
   "metadata": {},
   "outputs": [
    {
     "data": {
      "text/html": [
       "<div>\n",
       "<style scoped>\n",
       "    .dataframe tbody tr th:only-of-type {\n",
       "        vertical-align: middle;\n",
       "    }\n",
       "\n",
       "    .dataframe tbody tr th {\n",
       "        vertical-align: top;\n",
       "    }\n",
       "\n",
       "    .dataframe thead th {\n",
       "        text-align: right;\n",
       "    }\n",
       "</style>\n",
       "<table border=\"1\" class=\"dataframe\">\n",
       "  <thead>\n",
       "    <tr style=\"text-align: right;\">\n",
       "      <th></th>\n",
       "      <th>OSLOCTM3</th>\n",
       "      <th>WACCM6-2deg</th>\n",
       "      <th>INCA</th>\n",
       "      <th>GFDL-emi</th>\n",
       "      <th>OSLOCTM3-emi</th>\n",
       "      <th>UKCA</th>\n",
       "      <th>GFDL_nudge</th>\n",
       "    </tr>\n",
       "    <tr>\n",
       "      <th>Scenario</th>\n",
       "      <th></th>\n",
       "      <th></th>\n",
       "      <th></th>\n",
       "      <th></th>\n",
       "      <th></th>\n",
       "      <th></th>\n",
       "      <th></th>\n",
       "    </tr>\n",
       "  </thead>\n",
       "  <tbody>\n",
       "    <tr>\n",
       "      <th>CTRL</th>\n",
       "      <td>87.9</td>\n",
       "      <td>102</td>\n",
       "      <td>74.4</td>\n",
       "      <td>77.0</td>\n",
       "      <td>88.4</td>\n",
       "      <td>71.1</td>\n",
       "      <td>78.3</td>\n",
       "    </tr>\n",
       "    <tr>\n",
       "      <th>10H2</th>\n",
       "      <td>96.4</td>\n",
       "      <td>112</td>\n",
       "      <td>81.7</td>\n",
       "      <td>274</td>\n",
       "      <td>102</td>\n",
       "      <td>77.9</td>\n",
       "      <td>109</td>\n",
       "    </tr>\n",
       "    <tr>\n",
       "      <th>10CH4</th>\n",
       "      <td>87.2</td>\n",
       "      <td>101</td>\n",
       "      <td>73.9</td>\n",
       "      <td>276</td>\n",
       "      <td>0.00</td>\n",
       "      <td>70.3</td>\n",
       "      <td>77.8</td>\n",
       "    </tr>\n",
       "  </tbody>\n",
       "</table>\n",
       "</div>"
      ],
      "text/plain": [
       "          OSLOCTM3  WACCM6-2deg  INCA  GFDL-emi  OSLOCTM3-emi  UKCA  \\\n",
       "Scenario                                                              \n",
       "CTRL          87.9          102  74.4      77.0          88.4  71.1   \n",
       "10H2          96.4          112  81.7       274           102  77.9   \n",
       "10CH4         87.2          101  73.9       276          0.00  70.3   \n",
       "\n",
       "          GFDL_nudge  \n",
       "Scenario              \n",
       "CTRL            78.3  \n",
       "10H2             109  \n",
       "10CH4           77.8  "
      ]
     },
     "execution_count": 9,
     "metadata": {},
     "output_type": "execute_result"
    }
   ],
   "source": [
    "df_h2_loss = df_h2_atmloss + df_h2_drydep\n",
    "df_h2_loss\n"
   ]
  },
  {
   "cell_type": "markdown",
   "metadata": {},
   "source": [
    "### 1.3 H2 production"
   ]
  },
  {
   "cell_type": "markdown",
   "metadata": {},
   "source": [
    "#### H2 atm. prod [Tg/yr]"
   ]
  },
  {
   "cell_type": "code",
   "execution_count": 10,
   "metadata": {},
   "outputs": [
    {
     "data": {
      "text/html": [
       "<div>\n",
       "<style scoped>\n",
       "    .dataframe tbody tr th:only-of-type {\n",
       "        vertical-align: middle;\n",
       "    }\n",
       "\n",
       "    .dataframe tbody tr th {\n",
       "        vertical-align: top;\n",
       "    }\n",
       "\n",
       "    .dataframe thead th {\n",
       "        text-align: right;\n",
       "    }\n",
       "</style>\n",
       "<table border=\"1\" class=\"dataframe\">\n",
       "  <thead>\n",
       "    <tr style=\"text-align: right;\">\n",
       "      <th></th>\n",
       "      <th>OSLOCTM3</th>\n",
       "      <th>WACCM6-2deg</th>\n",
       "      <th>INCA</th>\n",
       "      <th>GFDL-emi</th>\n",
       "      <th>OSLOCTM3-emi</th>\n",
       "      <th>UKCA</th>\n",
       "      <th>GFDL_nudge</th>\n",
       "    </tr>\n",
       "    <tr>\n",
       "      <th>Scenario</th>\n",
       "      <th></th>\n",
       "      <th></th>\n",
       "      <th></th>\n",
       "      <th></th>\n",
       "      <th></th>\n",
       "      <th></th>\n",
       "      <th></th>\n",
       "    </tr>\n",
       "  </thead>\n",
       "  <tbody>\n",
       "    <tr>\n",
       "      <th>CTRL</th>\n",
       "      <td>56.3</td>\n",
       "      <td>33.9</td>\n",
       "      <td>47.1</td>\n",
       "      <td>45.1</td>\n",
       "      <td>56.2</td>\n",
       "      <td>48.4</td>\n",
       "      <td>45.0</td>\n",
       "    </tr>\n",
       "    <tr>\n",
       "      <th>10H2</th>\n",
       "      <td>56.2</td>\n",
       "      <td>33.8</td>\n",
       "      <td>47.0</td>\n",
       "      <td>43.5</td>\n",
       "      <td>56.1</td>\n",
       "      <td>48.3</td>\n",
       "      <td>44.8</td>\n",
       "    </tr>\n",
       "    <tr>\n",
       "      <th>10CH4</th>\n",
       "      <td>59.2</td>\n",
       "      <td>36.4</td>\n",
       "      <td>49.4</td>\n",
       "      <td>45.7</td>\n",
       "      <td>0.00</td>\n",
       "      <td>50.8</td>\n",
       "      <td>47.1</td>\n",
       "    </tr>\n",
       "  </tbody>\n",
       "</table>\n",
       "</div>"
      ],
      "text/plain": [
       "          OSLOCTM3  WACCM6-2deg  INCA  GFDL-emi  OSLOCTM3-emi  UKCA  \\\n",
       "Scenario                                                              \n",
       "CTRL          56.3         33.9  47.1      45.1          56.2  48.4   \n",
       "10H2          56.2         33.8  47.0      43.5          56.1  48.3   \n",
       "10CH4         59.2         36.4  49.4      45.7          0.00  50.8   \n",
       "\n",
       "          GFDL_nudge  \n",
       "Scenario              \n",
       "CTRL            45.0  \n",
       "10H2            44.8  \n",
       "10CH4           47.1  "
      ]
     },
     "execution_count": 10,
     "metadata": {},
     "output_type": "execute_result"
    }
   ],
   "source": [
    "file = 'H2_atm_prod.txt'\n",
    "df_h2_atmprod = pd.read_csv(path + file, sep=';',index_col=0,header=0)\n",
    "df_h2_atmprod"
   ]
  },
  {
   "cell_type": "markdown",
   "metadata": {},
   "source": [
    "### 1.4 Estimated H2 emissions (Total loss = Total prod + emission)"
   ]
  },
  {
   "cell_type": "markdown",
   "metadata": {},
   "source": [
    "In the runs with fixed surface boundary conditions for H2, there are two unknowns; emissions and soil sink. The models do calculate the soil sink based on their own dry deposition schemes, but it does not influence the H2 in the atmosphere.  \n",
    "Emission driven runs, are driven by emission estimates and use the dry deposition scheme to calculate the concentration at the surface. At steady state, the total production and total loss must balance:"
   ]
  },
  {
   "cell_type": "code",
   "execution_count": 11,
   "metadata": {},
   "outputs": [
    {
     "data": {
      "text/html": [
       "<div>\n",
       "<style scoped>\n",
       "    .dataframe tbody tr th:only-of-type {\n",
       "        vertical-align: middle;\n",
       "    }\n",
       "\n",
       "    .dataframe tbody tr th {\n",
       "        vertical-align: top;\n",
       "    }\n",
       "\n",
       "    .dataframe thead th {\n",
       "        text-align: right;\n",
       "    }\n",
       "</style>\n",
       "<table border=\"1\" class=\"dataframe\">\n",
       "  <thead>\n",
       "    <tr style=\"text-align: right;\">\n",
       "      <th></th>\n",
       "      <th>OSLOCTM3</th>\n",
       "      <th>WACCM6-2deg</th>\n",
       "      <th>INCA</th>\n",
       "      <th>GFDL-emi</th>\n",
       "      <th>OSLOCTM3-emi</th>\n",
       "      <th>UKCA</th>\n",
       "      <th>GFDL_nudge</th>\n",
       "    </tr>\n",
       "    <tr>\n",
       "      <th>Scenario</th>\n",
       "      <th></th>\n",
       "      <th></th>\n",
       "      <th></th>\n",
       "      <th></th>\n",
       "      <th></th>\n",
       "      <th></th>\n",
       "      <th></th>\n",
       "    </tr>\n",
       "  </thead>\n",
       "  <tbody>\n",
       "    <tr>\n",
       "      <th>CTRL</th>\n",
       "      <td>31.6</td>\n",
       "      <td>68.1</td>\n",
       "      <td>27.3</td>\n",
       "      <td>31.9</td>\n",
       "      <td>32.2</td>\n",
       "      <td>22.7</td>\n",
       "      <td>33.3</td>\n",
       "    </tr>\n",
       "    <tr>\n",
       "      <th>10H2</th>\n",
       "      <td>40.2</td>\n",
       "      <td>78.1</td>\n",
       "      <td>34.6</td>\n",
       "      <td>230</td>\n",
       "      <td>46.1</td>\n",
       "      <td>29.6</td>\n",
       "      <td>64.1</td>\n",
       "    </tr>\n",
       "    <tr>\n",
       "      <th>10CH4</th>\n",
       "      <td>28.0</td>\n",
       "      <td>64.8</td>\n",
       "      <td>24.6</td>\n",
       "      <td>230</td>\n",
       "      <td>0.00</td>\n",
       "      <td>19.5</td>\n",
       "      <td>30.7</td>\n",
       "    </tr>\n",
       "  </tbody>\n",
       "</table>\n",
       "</div>"
      ],
      "text/plain": [
       "          OSLOCTM3  WACCM6-2deg  INCA  GFDL-emi  OSLOCTM3-emi  UKCA  \\\n",
       "Scenario                                                              \n",
       "CTRL          31.6         68.1  27.3      31.9          32.2  22.7   \n",
       "10H2          40.2         78.1  34.6       230          46.1  29.6   \n",
       "10CH4         28.0         64.8  24.6       230          0.00  19.5   \n",
       "\n",
       "          GFDL_nudge  \n",
       "Scenario              \n",
       "CTRL            33.3  \n",
       "10H2            64.1  \n",
       "10CH4           30.7  "
      ]
     },
     "execution_count": 11,
     "metadata": {},
     "output_type": "execute_result"
    }
   ],
   "source": [
    "df_h2_estemis = df_h2_atmloss + df_h2_drydep - df_h2_atmprod\n",
    "df_h2_estemis"
   ]
  },
  {
   "cell_type": "code",
   "execution_count": 12,
   "metadata": {},
   "outputs": [
    {
     "data": {
      "text/plain": [
       "OSLOCTM3       8.63\n",
       "WACCM6-2deg    10.0\n",
       "INCA           7.29\n",
       "GFDL-emi        199\n",
       "OSLOCTM3-emi   13.9\n",
       "UKCA           6.95\n",
       "GFDL_nudge     30.8\n",
       "dtype: float64"
      ]
     },
     "execution_count": 12,
     "metadata": {},
     "output_type": "execute_result"
    }
   ],
   "source": [
    "df_h2_estemis.loc['10H2']-df_h2_estemis.loc['CTRL']"
   ]
  },
  {
   "cell_type": "markdown",
   "metadata": {},
   "source": [
    "For the emission driven runs, the emissions calculated based on loss terms are similar to the emissions used in these runs."
   ]
  },
  {
   "cell_type": "markdown",
   "metadata": {},
   "source": [
    "### 1.5 H2 surface concentration [ppb]"
   ]
  },
  {
   "cell_type": "code",
   "execution_count": 13,
   "metadata": {},
   "outputs": [
    {
     "data": {
      "text/html": [
       "<div>\n",
       "<style scoped>\n",
       "    .dataframe tbody tr th:only-of-type {\n",
       "        vertical-align: middle;\n",
       "    }\n",
       "\n",
       "    .dataframe tbody tr th {\n",
       "        vertical-align: top;\n",
       "    }\n",
       "\n",
       "    .dataframe thead th {\n",
       "        text-align: right;\n",
       "    }\n",
       "</style>\n",
       "<table border=\"1\" class=\"dataframe\">\n",
       "  <thead>\n",
       "    <tr style=\"text-align: right;\">\n",
       "      <th></th>\n",
       "      <th>OSLOCTM3</th>\n",
       "      <th>WACCM6-2deg</th>\n",
       "      <th>INCA</th>\n",
       "      <th>GFDL-emi</th>\n",
       "      <th>OSLOCTM3-emi</th>\n",
       "      <th>UKCA</th>\n",
       "      <th>GFDL_nudge</th>\n",
       "    </tr>\n",
       "    <tr>\n",
       "      <th>Scenario</th>\n",
       "      <th></th>\n",
       "      <th></th>\n",
       "      <th></th>\n",
       "      <th></th>\n",
       "      <th></th>\n",
       "      <th></th>\n",
       "      <th></th>\n",
       "    </tr>\n",
       "  </thead>\n",
       "  <tbody>\n",
       "    <tr>\n",
       "      <th>CTRL</th>\n",
       "      <td>532</td>\n",
       "      <td>532</td>\n",
       "      <td>532</td>\n",
       "      <td>542</td>\n",
       "      <td>567</td>\n",
       "      <td>537</td>\n",
       "      <td>533</td>\n",
       "    </tr>\n",
       "    <tr>\n",
       "      <th>10H2</th>\n",
       "      <td>585</td>\n",
       "      <td>585</td>\n",
       "      <td>585</td>\n",
       "      <td>1,912</td>\n",
       "      <td>656</td>\n",
       "      <td>590</td>\n",
       "      <td>746</td>\n",
       "    </tr>\n",
       "    <tr>\n",
       "      <th>deltaH2</th>\n",
       "      <td>53.2</td>\n",
       "      <td>53.2</td>\n",
       "      <td>53.2</td>\n",
       "      <td>1,370</td>\n",
       "      <td>89.1</td>\n",
       "      <td>53.5</td>\n",
       "      <td>213</td>\n",
       "    </tr>\n",
       "  </tbody>\n",
       "</table>\n",
       "</div>"
      ],
      "text/plain": [
       "          OSLOCTM3  WACCM6-2deg  INCA  GFDL-emi  OSLOCTM3-emi  UKCA  \\\n",
       "Scenario                                                              \n",
       "CTRL           532          532   532       542           567   537   \n",
       "10H2           585          585   585     1,912           656   590   \n",
       "deltaH2       53.2         53.2  53.2     1,370          89.1  53.5   \n",
       "\n",
       "          GFDL_nudge  \n",
       "Scenario              \n",
       "CTRL             533  \n",
       "10H2             746  \n",
       "deltaH2          213  "
      ]
     },
     "execution_count": 13,
     "metadata": {},
     "output_type": "execute_result"
    }
   ],
   "source": [
    "file = 'H2_surfconc.txt'\n",
    "df_h2_surfconc = pd.read_csv(path + file, sep=';',index_col=0,header=0)\n",
    "delta = df_h2_surfconc.loc['10H2']-df_h2_surfconc.loc['CTRL']\n",
    "delta.name = 'deltaH2'\n",
    "df_h2_surfconc = df_h2_surfconc.append(delta)\n",
    "df_h2_surfconc"
   ]
  },
  {
   "cell_type": "markdown",
   "metadata": {},
   "source": [
    "### 1.6 H2 lifetime [yr]\n",
    "We calculate the lifetime as burden divided by loss."
   ]
  },
  {
   "cell_type": "markdown",
   "metadata": {},
   "source": [
    "#### H2 total lifetime [yr]"
   ]
  },
  {
   "cell_type": "code",
   "execution_count": 14,
   "metadata": {},
   "outputs": [
    {
     "data": {
      "text/html": [
       "<div>\n",
       "<style scoped>\n",
       "    .dataframe tbody tr th:only-of-type {\n",
       "        vertical-align: middle;\n",
       "    }\n",
       "\n",
       "    .dataframe tbody tr th {\n",
       "        vertical-align: top;\n",
       "    }\n",
       "\n",
       "    .dataframe thead th {\n",
       "        text-align: right;\n",
       "    }\n",
       "</style>\n",
       "<table border=\"1\" class=\"dataframe\">\n",
       "  <thead>\n",
       "    <tr style=\"text-align: right;\">\n",
       "      <th></th>\n",
       "      <th>OSLOCTM3</th>\n",
       "      <th>WACCM6-2deg</th>\n",
       "      <th>INCA</th>\n",
       "      <th>GFDL-emi</th>\n",
       "      <th>OSLOCTM3-emi</th>\n",
       "      <th>UKCA</th>\n",
       "      <th>GFDL_nudge</th>\n",
       "    </tr>\n",
       "    <tr>\n",
       "      <th>Scenario</th>\n",
       "      <th></th>\n",
       "      <th></th>\n",
       "      <th></th>\n",
       "      <th></th>\n",
       "      <th></th>\n",
       "      <th></th>\n",
       "      <th></th>\n",
       "    </tr>\n",
       "  </thead>\n",
       "  <tbody>\n",
       "    <tr>\n",
       "      <th>CTRL</th>\n",
       "      <td>2.23</td>\n",
       "      <td>1.91</td>\n",
       "      <td>2.61</td>\n",
       "      <td>2.50</td>\n",
       "      <td>2.36</td>\n",
       "      <td>2.69</td>\n",
       "      <td>2.40</td>\n",
       "    </tr>\n",
       "    <tr>\n",
       "      <th>10H2</th>\n",
       "      <td>2.23</td>\n",
       "      <td>1.91</td>\n",
       "      <td>2.61</td>\n",
       "      <td>2.41</td>\n",
       "      <td>2.35</td>\n",
       "      <td>2.69</td>\n",
       "      <td>2.40</td>\n",
       "    </tr>\n",
       "    <tr>\n",
       "      <th>10CH4</th>\n",
       "      <td>2.26</td>\n",
       "      <td>1.93</td>\n",
       "      <td>2.64</td>\n",
       "      <td>2.43</td>\n",
       "      <td>nan</td>\n",
       "      <td>2.73</td>\n",
       "      <td>2.42</td>\n",
       "    </tr>\n",
       "  </tbody>\n",
       "</table>\n",
       "</div>"
      ],
      "text/plain": [
       "          OSLOCTM3  WACCM6-2deg  INCA  GFDL-emi  OSLOCTM3-emi  UKCA  \\\n",
       "Scenario                                                              \n",
       "CTRL          2.23         1.91  2.61      2.50          2.36  2.69   \n",
       "10H2          2.23         1.91  2.61      2.41          2.35  2.69   \n",
       "10CH4         2.26         1.93  2.64      2.43           nan  2.73   \n",
       "\n",
       "          GFDL_nudge  \n",
       "Scenario              \n",
       "CTRL            2.40  \n",
       "10H2            2.40  \n",
       "10CH4           2.42  "
      ]
     },
     "execution_count": 14,
     "metadata": {},
     "output_type": "execute_result"
    }
   ],
   "source": [
    "df_h2_lifetime = df_h2_burden.drop('deltaH2')/df_h2_loss\n",
    "df_h2_lifetime"
   ]
  },
  {
   "cell_type": "markdown",
   "metadata": {},
   "source": [
    "#### H2 atmospheric lifetime [yr]\n",
    "The atmospheric lifetime is the burden divided by only the atmospheric loss. This is the lifetime of the fraction of hydrogen which is not dry deposited."
   ]
  },
  {
   "cell_type": "code",
   "execution_count": 15,
   "metadata": {},
   "outputs": [
    {
     "data": {
      "text/html": [
       "<div>\n",
       "<style scoped>\n",
       "    .dataframe tbody tr th:only-of-type {\n",
       "        vertical-align: middle;\n",
       "    }\n",
       "\n",
       "    .dataframe tbody tr th {\n",
       "        vertical-align: top;\n",
       "    }\n",
       "\n",
       "    .dataframe thead th {\n",
       "        text-align: right;\n",
       "    }\n",
       "</style>\n",
       "<table border=\"1\" class=\"dataframe\">\n",
       "  <thead>\n",
       "    <tr style=\"text-align: right;\">\n",
       "      <th></th>\n",
       "      <th>OSLOCTM3</th>\n",
       "      <th>WACCM6-2deg</th>\n",
       "      <th>INCA</th>\n",
       "      <th>GFDL-emi</th>\n",
       "      <th>OSLOCTM3-emi</th>\n",
       "      <th>UKCA</th>\n",
       "      <th>GFDL_nudge</th>\n",
       "    </tr>\n",
       "    <tr>\n",
       "      <th>Scenario</th>\n",
       "      <th></th>\n",
       "      <th></th>\n",
       "      <th></th>\n",
       "      <th></th>\n",
       "      <th></th>\n",
       "      <th></th>\n",
       "      <th></th>\n",
       "    </tr>\n",
       "  </thead>\n",
       "  <tbody>\n",
       "    <tr>\n",
       "      <th>CTRL</th>\n",
       "      <td>6.91</td>\n",
       "      <td>6.70</td>\n",
       "      <td>8.66</td>\n",
       "      <td>8.62</td>\n",
       "      <td>6.95</td>\n",
       "      <td>7.15</td>\n",
       "      <td>8.66</td>\n",
       "    </tr>\n",
       "    <tr>\n",
       "      <th>10H2</th>\n",
       "      <td>6.94</td>\n",
       "      <td>6.73</td>\n",
       "      <td>8.69</td>\n",
       "      <td>9.39</td>\n",
       "      <td>6.98</td>\n",
       "      <td>7.18</td>\n",
       "      <td>8.80</td>\n",
       "    </tr>\n",
       "    <tr>\n",
       "      <th>10CH4</th>\n",
       "      <td>7.12</td>\n",
       "      <td>6.93</td>\n",
       "      <td>8.88</td>\n",
       "      <td>9.64</td>\n",
       "      <td>nan</td>\n",
       "      <td>7.38</td>\n",
       "      <td>8.90</td>\n",
       "    </tr>\n",
       "  </tbody>\n",
       "</table>\n",
       "</div>"
      ],
      "text/plain": [
       "          OSLOCTM3  WACCM6-2deg  INCA  GFDL-emi  OSLOCTM3-emi  UKCA  \\\n",
       "Scenario                                                              \n",
       "CTRL          6.91         6.70  8.66      8.62          6.95  7.15   \n",
       "10H2          6.94         6.73  8.69      9.39          6.98  7.18   \n",
       "10CH4         7.12         6.93  8.88      9.64           nan  7.38   \n",
       "\n",
       "          GFDL_nudge  \n",
       "Scenario              \n",
       "CTRL            8.66  \n",
       "10H2            8.80  \n",
       "10CH4           8.90  "
      ]
     },
     "execution_count": 15,
     "metadata": {},
     "output_type": "execute_result"
    }
   ],
   "source": [
    "df_h2_atm_lifetime = df_h2_burden.drop('deltaH2')/df_h2_atmloss\n",
    "df_h2_atm_lifetime"
   ]
  },
  {
   "cell_type": "markdown",
   "metadata": {},
   "source": [
    "#### H2 soil sink lifetime [yr]"
   ]
  },
  {
   "cell_type": "code",
   "execution_count": 16,
   "metadata": {},
   "outputs": [
    {
     "data": {
      "text/html": [
       "<div>\n",
       "<style scoped>\n",
       "    .dataframe tbody tr th:only-of-type {\n",
       "        vertical-align: middle;\n",
       "    }\n",
       "\n",
       "    .dataframe tbody tr th {\n",
       "        vertical-align: top;\n",
       "    }\n",
       "\n",
       "    .dataframe thead th {\n",
       "        text-align: right;\n",
       "    }\n",
       "</style>\n",
       "<table border=\"1\" class=\"dataframe\">\n",
       "  <thead>\n",
       "    <tr style=\"text-align: right;\">\n",
       "      <th></th>\n",
       "      <th>OSLOCTM3</th>\n",
       "      <th>WACCM6-2deg</th>\n",
       "      <th>INCA</th>\n",
       "      <th>GFDL-emi</th>\n",
       "      <th>OSLOCTM3-emi</th>\n",
       "      <th>UKCA</th>\n",
       "      <th>GFDL_nudge</th>\n",
       "    </tr>\n",
       "    <tr>\n",
       "      <th>Scenario</th>\n",
       "      <th></th>\n",
       "      <th></th>\n",
       "      <th></th>\n",
       "      <th></th>\n",
       "      <th></th>\n",
       "      <th></th>\n",
       "      <th></th>\n",
       "    </tr>\n",
       "  </thead>\n",
       "  <tbody>\n",
       "    <tr>\n",
       "      <th>CTRL</th>\n",
       "      <td>3.30</td>\n",
       "      <td>2.67</td>\n",
       "      <td>3.74</td>\n",
       "      <td>3.52</td>\n",
       "      <td>3.58</td>\n",
       "      <td>4.32</td>\n",
       "      <td>3.32</td>\n",
       "    </tr>\n",
       "    <tr>\n",
       "      <th>10H2</th>\n",
       "      <td>3.28</td>\n",
       "      <td>2.66</td>\n",
       "      <td>3.73</td>\n",
       "      <td>3.23</td>\n",
       "      <td>3.54</td>\n",
       "      <td>4.30</td>\n",
       "      <td>3.30</td>\n",
       "    </tr>\n",
       "    <tr>\n",
       "      <th>10CH4</th>\n",
       "      <td>3.31</td>\n",
       "      <td>2.67</td>\n",
       "      <td>3.75</td>\n",
       "      <td>3.24</td>\n",
       "      <td>nan</td>\n",
       "      <td>4.33</td>\n",
       "      <td>3.33</td>\n",
       "    </tr>\n",
       "  </tbody>\n",
       "</table>\n",
       "</div>"
      ],
      "text/plain": [
       "          OSLOCTM3  WACCM6-2deg  INCA  GFDL-emi  OSLOCTM3-emi  UKCA  \\\n",
       "Scenario                                                              \n",
       "CTRL          3.30         2.67  3.74      3.52          3.58  4.32   \n",
       "10H2          3.28         2.66  3.73      3.23          3.54  4.30   \n",
       "10CH4         3.31         2.67  3.75      3.24           nan  4.33   \n",
       "\n",
       "          GFDL_nudge  \n",
       "Scenario              \n",
       "CTRL            3.32  \n",
       "10H2            3.30  \n",
       "10CH4           3.33  "
      ]
     },
     "execution_count": 16,
     "metadata": {},
     "output_type": "execute_result"
    }
   ],
   "source": [
    "df_h2_soil_sink_lifetime = df_h2_burden.drop('deltaH2')/df_h2_drydep\n",
    "df_h2_soil_sink_lifetime"
   ]
  },
  {
   "cell_type": "markdown",
   "metadata": {},
   "source": [
    "### 1.7 H2 flux  [Tg/yr]"
   ]
  },
  {
   "cell_type": "markdown",
   "metadata": {},
   "source": [
    "The hydrogen flux is calculated as the burden divided by the total hydrogen lifetime. \n",
    "\n",
    "The hydrogen lifetime is calculated as burden divided by the total loss (soil sink + atm.loss). \n",
    "\n",
    "In stedy state, this is equal to the total loss (se check below)\n",
    "\n",
    "The difference in calculated flux in the perturbed and control run is calculated. These numbers include feedbacks. \n",
    "\n",
    "For the GWP calculations, the radiative forcing in the steady state simulations are divided by these flux numbers."
   ]
  },
  {
   "cell_type": "code",
   "execution_count": 17,
   "metadata": {},
   "outputs": [
    {
     "data": {
      "text/html": [
       "<div>\n",
       "<style scoped>\n",
       "    .dataframe tbody tr th:only-of-type {\n",
       "        vertical-align: middle;\n",
       "    }\n",
       "\n",
       "    .dataframe tbody tr th {\n",
       "        vertical-align: top;\n",
       "    }\n",
       "\n",
       "    .dataframe thead th {\n",
       "        text-align: right;\n",
       "    }\n",
       "</style>\n",
       "<table border=\"1\" class=\"dataframe\">\n",
       "  <thead>\n",
       "    <tr style=\"text-align: right;\">\n",
       "      <th></th>\n",
       "      <th>OSLOCTM3</th>\n",
       "      <th>WACCM6-2deg</th>\n",
       "      <th>INCA</th>\n",
       "      <th>GFDL-emi</th>\n",
       "      <th>OSLOCTM3-emi</th>\n",
       "      <th>UKCA</th>\n",
       "      <th>GFDL_nudge</th>\n",
       "    </tr>\n",
       "    <tr>\n",
       "      <th>Scenario</th>\n",
       "      <th></th>\n",
       "      <th></th>\n",
       "      <th></th>\n",
       "      <th></th>\n",
       "      <th></th>\n",
       "      <th></th>\n",
       "      <th></th>\n",
       "    </tr>\n",
       "  </thead>\n",
       "  <tbody>\n",
       "    <tr>\n",
       "      <th>CTRL</th>\n",
       "      <td>87.9</td>\n",
       "      <td>102</td>\n",
       "      <td>74.4</td>\n",
       "      <td>77.0</td>\n",
       "      <td>88.4</td>\n",
       "      <td>71.1</td>\n",
       "      <td>78.3</td>\n",
       "    </tr>\n",
       "    <tr>\n",
       "      <th>10H2</th>\n",
       "      <td>96.4</td>\n",
       "      <td>112</td>\n",
       "      <td>81.7</td>\n",
       "      <td>274</td>\n",
       "      <td>102</td>\n",
       "      <td>77.9</td>\n",
       "      <td>109</td>\n",
       "    </tr>\n",
       "    <tr>\n",
       "      <th>10CH4</th>\n",
       "      <td>87.2</td>\n",
       "      <td>101</td>\n",
       "      <td>73.9</td>\n",
       "      <td>276</td>\n",
       "      <td>nan</td>\n",
       "      <td>70.3</td>\n",
       "      <td>77.8</td>\n",
       "    </tr>\n",
       "    <tr>\n",
       "      <th>deltaH2</th>\n",
       "      <td>8.54</td>\n",
       "      <td>9.93</td>\n",
       "      <td>7.23</td>\n",
       "      <td>197</td>\n",
       "      <td>13.8</td>\n",
       "      <td>6.87</td>\n",
       "      <td>30.5</td>\n",
       "    </tr>\n",
       "    <tr>\n",
       "      <th>deltaCH4</th>\n",
       "      <td>-0.75</td>\n",
       "      <td>-0.86</td>\n",
       "      <td>-0.50</td>\n",
       "      <td>199</td>\n",
       "      <td>nan</td>\n",
       "      <td>-0.75</td>\n",
       "      <td>-0.52</td>\n",
       "    </tr>\n",
       "  </tbody>\n",
       "</table>\n",
       "</div>"
      ],
      "text/plain": [
       "          OSLOCTM3  WACCM6-2deg  INCA  GFDL-emi  OSLOCTM3-emi  UKCA  \\\n",
       "Scenario                                                              \n",
       "CTRL          87.9          102  74.4      77.0          88.4  71.1   \n",
       "10H2          96.4          112  81.7       274           102  77.9   \n",
       "10CH4         87.2          101  73.9       276           nan  70.3   \n",
       "deltaH2       8.54         9.93  7.23       197          13.8  6.87   \n",
       "deltaCH4     -0.75        -0.86 -0.50       199           nan -0.75   \n",
       "\n",
       "          GFDL_nudge  \n",
       "Scenario              \n",
       "CTRL            78.3  \n",
       "10H2             109  \n",
       "10CH4           77.8  \n",
       "deltaH2         30.5  \n",
       "deltaCH4       -0.52  "
      ]
     },
     "execution_count": 17,
     "metadata": {},
     "output_type": "execute_result"
    }
   ],
   "source": [
    "df_h2_flux = df_h2_burden.drop('deltaH2')/df_h2_lifetime\n",
    "#Add delta flux 10H2:\n",
    "delta = df_h2_flux.loc['10H2']-df_h2_flux.loc['CTRL']\n",
    "delta.name = 'deltaH2'\n",
    "df_h2_flux = df_h2_flux.append(delta)\n",
    "#Add delta flux 10CH4:\n",
    "delta = df_h2_flux.loc['10CH4']-df_h2_flux.loc['CTRL']\n",
    "delta.name = 'deltaCH4'\n",
    "df_h2_flux = df_h2_flux.append(delta)\n",
    "df_h2_flux\n"
   ]
  },
  {
   "cell_type": "markdown",
   "metadata": {},
   "source": [
    "In the methane run, the hydrogen surface concentration is kept fixed. Enhancing methane would influence H2. The hydrogen concentration would have increased, but since we run with fixed concentration, there is a negative flux to compensate. So the increased flux in H2 due to methane is -1*deltaCH4."
   ]
  },
  {
   "cell_type": "code",
   "execution_count": 18,
   "metadata": {},
   "outputs": [
    {
     "data": {
      "text/html": [
       "<div>\n",
       "<style scoped>\n",
       "    .dataframe tbody tr th:only-of-type {\n",
       "        vertical-align: middle;\n",
       "    }\n",
       "\n",
       "    .dataframe tbody tr th {\n",
       "        vertical-align: top;\n",
       "    }\n",
       "\n",
       "    .dataframe thead th {\n",
       "        text-align: right;\n",
       "    }\n",
       "</style>\n",
       "<table border=\"1\" class=\"dataframe\">\n",
       "  <thead>\n",
       "    <tr style=\"text-align: right;\">\n",
       "      <th></th>\n",
       "      <th>OSLOCTM3</th>\n",
       "      <th>WACCM6-2deg</th>\n",
       "      <th>INCA</th>\n",
       "      <th>GFDL-emi</th>\n",
       "      <th>OSLOCTM3-emi</th>\n",
       "      <th>UKCA</th>\n",
       "      <th>GFDL_nudge</th>\n",
       "    </tr>\n",
       "    <tr>\n",
       "      <th>Scenario</th>\n",
       "      <th></th>\n",
       "      <th></th>\n",
       "      <th></th>\n",
       "      <th></th>\n",
       "      <th></th>\n",
       "      <th></th>\n",
       "      <th></th>\n",
       "    </tr>\n",
       "  </thead>\n",
       "  <tbody>\n",
       "    <tr>\n",
       "      <th>CTRL</th>\n",
       "      <td>87.9</td>\n",
       "      <td>102</td>\n",
       "      <td>74.4</td>\n",
       "      <td>77.0</td>\n",
       "      <td>88.4</td>\n",
       "      <td>71.1</td>\n",
       "      <td>78.3</td>\n",
       "    </tr>\n",
       "    <tr>\n",
       "      <th>10H2</th>\n",
       "      <td>96.4</td>\n",
       "      <td>112</td>\n",
       "      <td>81.7</td>\n",
       "      <td>274</td>\n",
       "      <td>102</td>\n",
       "      <td>77.9</td>\n",
       "      <td>109</td>\n",
       "    </tr>\n",
       "    <tr>\n",
       "      <th>10CH4</th>\n",
       "      <td>87.2</td>\n",
       "      <td>101</td>\n",
       "      <td>73.9</td>\n",
       "      <td>276</td>\n",
       "      <td>0.00</td>\n",
       "      <td>70.3</td>\n",
       "      <td>77.8</td>\n",
       "    </tr>\n",
       "  </tbody>\n",
       "</table>\n",
       "</div>"
      ],
      "text/plain": [
       "          OSLOCTM3  WACCM6-2deg  INCA  GFDL-emi  OSLOCTM3-emi  UKCA  \\\n",
       "Scenario                                                              \n",
       "CTRL          87.9          102  74.4      77.0          88.4  71.1   \n",
       "10H2          96.4          112  81.7       274           102  77.9   \n",
       "10CH4         87.2          101  73.9       276          0.00  70.3   \n",
       "\n",
       "          GFDL_nudge  \n",
       "Scenario              \n",
       "CTRL            78.3  \n",
       "10H2             109  \n",
       "10CH4           77.8  "
      ]
     },
     "execution_count": 18,
     "metadata": {},
     "output_type": "execute_result"
    }
   ],
   "source": [
    "#Check\n",
    "df_h2_loss"
   ]
  },
  {
   "cell_type": "markdown",
   "metadata": {},
   "source": [
    "## 2. Methane results"
   ]
  },
  {
   "cell_type": "markdown",
   "metadata": {},
   "source": [
    "### 2.1 CH4 burden [Tg]"
   ]
  },
  {
   "cell_type": "code",
   "execution_count": 19,
   "metadata": {},
   "outputs": [
    {
     "data": {
      "text/html": [
       "<div>\n",
       "<style scoped>\n",
       "    .dataframe tbody tr th:only-of-type {\n",
       "        vertical-align: middle;\n",
       "    }\n",
       "\n",
       "    .dataframe tbody tr th {\n",
       "        vertical-align: top;\n",
       "    }\n",
       "\n",
       "    .dataframe thead th {\n",
       "        text-align: right;\n",
       "    }\n",
       "</style>\n",
       "<table border=\"1\" class=\"dataframe\">\n",
       "  <thead>\n",
       "    <tr style=\"text-align: right;\">\n",
       "      <th></th>\n",
       "      <th>OSLOCTM3</th>\n",
       "      <th>WACCM6-2deg</th>\n",
       "      <th>INCA</th>\n",
       "      <th>GFDL-emi</th>\n",
       "      <th>OSLOCTM3-emi</th>\n",
       "      <th>UKCA</th>\n",
       "      <th>GFDL_nudge</th>\n",
       "    </tr>\n",
       "    <tr>\n",
       "      <th>Scenario</th>\n",
       "      <th></th>\n",
       "      <th></th>\n",
       "      <th></th>\n",
       "      <th></th>\n",
       "      <th></th>\n",
       "      <th></th>\n",
       "      <th></th>\n",
       "    </tr>\n",
       "  </thead>\n",
       "  <tbody>\n",
       "    <tr>\n",
       "      <th>CTRL</th>\n",
       "      <td>4,995</td>\n",
       "      <td>5,003</td>\n",
       "      <td>5,003</td>\n",
       "      <td>4,955</td>\n",
       "      <td>4,995</td>\n",
       "      <td>4,939</td>\n",
       "      <td>4,876</td>\n",
       "    </tr>\n",
       "    <tr>\n",
       "      <th>10H2</th>\n",
       "      <td>4,995</td>\n",
       "      <td>5,003</td>\n",
       "      <td>5,003</td>\n",
       "      <td>4,954</td>\n",
       "      <td>4,995</td>\n",
       "      <td>4,939</td>\n",
       "      <td>4,876</td>\n",
       "    </tr>\n",
       "    <tr>\n",
       "      <th>10CH4</th>\n",
       "      <td>5,496</td>\n",
       "      <td>5,505</td>\n",
       "      <td>5,504</td>\n",
       "      <td>5,495</td>\n",
       "      <td>nan</td>\n",
       "      <td>5,434</td>\n",
       "      <td>5,364</td>\n",
       "    </tr>\n",
       "    <tr>\n",
       "      <th>deltaCH4</th>\n",
       "      <td>501</td>\n",
       "      <td>502</td>\n",
       "      <td>501</td>\n",
       "      <td>541</td>\n",
       "      <td>nan</td>\n",
       "      <td>495</td>\n",
       "      <td>488</td>\n",
       "    </tr>\n",
       "  </tbody>\n",
       "</table>\n",
       "</div>"
      ],
      "text/plain": [
       "          OSLOCTM3  WACCM6-2deg  INCA  GFDL-emi  OSLOCTM3-emi  UKCA  \\\n",
       "Scenario                                                              \n",
       "CTRL         4,995        5,003 5,003     4,955         4,995 4,939   \n",
       "10H2         4,995        5,003 5,003     4,954         4,995 4,939   \n",
       "10CH4        5,496        5,505 5,504     5,495           nan 5,434   \n",
       "deltaCH4       501          502   501       541           nan   495   \n",
       "\n",
       "          GFDL_nudge  \n",
       "Scenario              \n",
       "CTRL           4,876  \n",
       "10H2           4,876  \n",
       "10CH4          5,364  \n",
       "deltaCH4         488  "
      ]
     },
     "execution_count": 19,
     "metadata": {},
     "output_type": "execute_result"
    }
   ],
   "source": [
    "file = 'CH4_burden.txt'\n",
    "df_ch4_burden = pd.read_csv(path + file, sep=';',index_col=0,header=0)\n",
    "delta = df_ch4_burden.loc['10CH4']-df_ch4_burden.loc['CTRL']\n",
    "delta.name = 'deltaCH4'\n",
    "df_ch4_burden = df_ch4_burden.append(delta)\n",
    "df_ch4_burden"
   ]
  },
  {
   "cell_type": "markdown",
   "metadata": {},
   "source": [
    "### 2.2 CH4 atmospheric loss [Tg/yr]"
   ]
  },
  {
   "cell_type": "markdown",
   "metadata": {},
   "source": [
    "This is atmospheric loss due to OH."
   ]
  },
  {
   "cell_type": "code",
   "execution_count": 20,
   "metadata": {},
   "outputs": [
    {
     "data": {
      "text/html": [
       "<div>\n",
       "<style scoped>\n",
       "    .dataframe tbody tr th:only-of-type {\n",
       "        vertical-align: middle;\n",
       "    }\n",
       "\n",
       "    .dataframe tbody tr th {\n",
       "        vertical-align: top;\n",
       "    }\n",
       "\n",
       "    .dataframe thead th {\n",
       "        text-align: right;\n",
       "    }\n",
       "</style>\n",
       "<table border=\"1\" class=\"dataframe\">\n",
       "  <thead>\n",
       "    <tr style=\"text-align: right;\">\n",
       "      <th></th>\n",
       "      <th>OSLOCTM3</th>\n",
       "      <th>WACCM6-2deg</th>\n",
       "      <th>INCA</th>\n",
       "      <th>GFDL-emi</th>\n",
       "      <th>OSLOCTM3-emi</th>\n",
       "      <th>UKCA</th>\n",
       "      <th>GFDL_nudge</th>\n",
       "    </tr>\n",
       "    <tr>\n",
       "      <th>Scenario</th>\n",
       "      <th></th>\n",
       "      <th></th>\n",
       "      <th></th>\n",
       "      <th></th>\n",
       "      <th></th>\n",
       "      <th></th>\n",
       "      <th></th>\n",
       "    </tr>\n",
       "  </thead>\n",
       "  <tbody>\n",
       "    <tr>\n",
       "      <th>CTRL</th>\n",
       "      <td>683</td>\n",
       "      <td>727</td>\n",
       "      <td>593</td>\n",
       "      <td>540</td>\n",
       "      <td>681</td>\n",
       "      <td>624</td>\n",
       "      <td>528</td>\n",
       "    </tr>\n",
       "    <tr>\n",
       "      <th>10H2</th>\n",
       "      <td>680</td>\n",
       "      <td>724</td>\n",
       "      <td>590</td>\n",
       "      <td>499</td>\n",
       "      <td>677</td>\n",
       "      <td>621</td>\n",
       "      <td>520</td>\n",
       "    </tr>\n",
       "    <tr>\n",
       "      <th>10CH4</th>\n",
       "      <td>728</td>\n",
       "      <td>772</td>\n",
       "      <td>635</td>\n",
       "      <td>538</td>\n",
       "      <td>nan</td>\n",
       "      <td>664</td>\n",
       "      <td>564</td>\n",
       "    </tr>\n",
       "  </tbody>\n",
       "</table>\n",
       "</div>"
      ],
      "text/plain": [
       "          OSLOCTM3  WACCM6-2deg  INCA  GFDL-emi  OSLOCTM3-emi  UKCA  \\\n",
       "Scenario                                                              \n",
       "CTRL           683          727   593       540           681   624   \n",
       "10H2           680          724   590       499           677   621   \n",
       "10CH4          728          772   635       538           nan   664   \n",
       "\n",
       "          GFDL_nudge  \n",
       "Scenario              \n",
       "CTRL             528  \n",
       "10H2             520  \n",
       "10CH4            564  "
      ]
     },
     "execution_count": 20,
     "metadata": {},
     "output_type": "execute_result"
    }
   ],
   "source": [
    "file = 'CH4_loss.txt'\n",
    "df_ch4_loss = pd.read_csv(path + file, sep=';',index_col=0,header=0)\n",
    "df_ch4_loss"
   ]
  },
  {
   "cell_type": "markdown",
   "metadata": {},
   "source": [
    "### 2.3 CH4 surface concentration [ppb]"
   ]
  },
  {
   "cell_type": "code",
   "execution_count": 21,
   "metadata": {},
   "outputs": [
    {
     "data": {
      "text/html": [
       "<div>\n",
       "<style scoped>\n",
       "    .dataframe tbody tr th:only-of-type {\n",
       "        vertical-align: middle;\n",
       "    }\n",
       "\n",
       "    .dataframe tbody tr th {\n",
       "        vertical-align: top;\n",
       "    }\n",
       "\n",
       "    .dataframe thead th {\n",
       "        text-align: right;\n",
       "    }\n",
       "</style>\n",
       "<table border=\"1\" class=\"dataframe\">\n",
       "  <thead>\n",
       "    <tr style=\"text-align: right;\">\n",
       "      <th></th>\n",
       "      <th>OSLOCTM3</th>\n",
       "      <th>WACCM6-2deg</th>\n",
       "      <th>INCA</th>\n",
       "      <th>GFDL-emi</th>\n",
       "      <th>OSLOCTM3-emi</th>\n",
       "      <th>UKCA</th>\n",
       "      <th>GFDL_nudge</th>\n",
       "    </tr>\n",
       "    <tr>\n",
       "      <th>Scenario</th>\n",
       "      <th></th>\n",
       "      <th></th>\n",
       "      <th></th>\n",
       "      <th></th>\n",
       "      <th></th>\n",
       "      <th></th>\n",
       "      <th></th>\n",
       "    </tr>\n",
       "  </thead>\n",
       "  <tbody>\n",
       "    <tr>\n",
       "      <th>CTRL</th>\n",
       "      <td>1,813</td>\n",
       "      <td>1,808</td>\n",
       "      <td>1,813</td>\n",
       "      <td>1,832</td>\n",
       "      <td>1,813</td>\n",
       "      <td>1,806</td>\n",
       "      <td>1,816</td>\n",
       "    </tr>\n",
       "    <tr>\n",
       "      <th>10CH4</th>\n",
       "      <td>1,994</td>\n",
       "      <td>1,989</td>\n",
       "      <td>1,994</td>\n",
       "      <td>2,032</td>\n",
       "      <td>nan</td>\n",
       "      <td>1,986</td>\n",
       "      <td>1,998</td>\n",
       "    </tr>\n",
       "    <tr>\n",
       "      <th>deltaCH4</th>\n",
       "      <td>181</td>\n",
       "      <td>181</td>\n",
       "      <td>181</td>\n",
       "      <td>200</td>\n",
       "      <td>nan</td>\n",
       "      <td>181</td>\n",
       "      <td>182</td>\n",
       "    </tr>\n",
       "  </tbody>\n",
       "</table>\n",
       "</div>"
      ],
      "text/plain": [
       "          OSLOCTM3  WACCM6-2deg  INCA  GFDL-emi  OSLOCTM3-emi  UKCA  \\\n",
       "Scenario                                                              \n",
       "CTRL         1,813        1,808 1,813     1,832         1,813 1,806   \n",
       "10CH4        1,994        1,989 1,994     2,032           nan 1,986   \n",
       "deltaCH4       181          181   181       200           nan   181   \n",
       "\n",
       "          GFDL_nudge  \n",
       "Scenario              \n",
       "CTRL           1,816  \n",
       "10CH4          1,998  \n",
       "deltaCH4         182  "
      ]
     },
     "execution_count": 21,
     "metadata": {},
     "output_type": "execute_result"
    }
   ],
   "source": [
    "file = 'CH4_surfconc.txt'\n",
    "df_ch4_surfconc = pd.read_csv(path + file, sep=';',index_col=0,header=0)\n",
    "delta = df_ch4_surfconc.loc['10CH4']-df_ch4_surfconc.loc['CTRL']\n",
    "delta.name = 'deltaCH4'\n",
    "df_ch4_surfconc = df_ch4_surfconc.append(delta)\n",
    "df_ch4_surfconc"
   ]
  },
  {
   "cell_type": "markdown",
   "metadata": {},
   "source": [
    "### 2.4 CH4 lifetime [yr]"
   ]
  },
  {
   "cell_type": "markdown",
   "metadata": {},
   "source": [
    "#### Lifetime due to OH [yr]"
   ]
  },
  {
   "cell_type": "code",
   "execution_count": 22,
   "metadata": {
    "scrolled": true
   },
   "outputs": [
    {
     "data": {
      "text/html": [
       "<div>\n",
       "<style scoped>\n",
       "    .dataframe tbody tr th:only-of-type {\n",
       "        vertical-align: middle;\n",
       "    }\n",
       "\n",
       "    .dataframe tbody tr th {\n",
       "        vertical-align: top;\n",
       "    }\n",
       "\n",
       "    .dataframe thead th {\n",
       "        text-align: right;\n",
       "    }\n",
       "</style>\n",
       "<table border=\"1\" class=\"dataframe\">\n",
       "  <thead>\n",
       "    <tr style=\"text-align: right;\">\n",
       "      <th></th>\n",
       "      <th>OSLOCTM3</th>\n",
       "      <th>WACCM6-2deg</th>\n",
       "      <th>INCA</th>\n",
       "      <th>GFDL-emi</th>\n",
       "      <th>OSLOCTM3-emi</th>\n",
       "      <th>UKCA</th>\n",
       "      <th>GFDL_nudge</th>\n",
       "    </tr>\n",
       "    <tr>\n",
       "      <th>Scenario</th>\n",
       "      <th></th>\n",
       "      <th></th>\n",
       "      <th></th>\n",
       "      <th></th>\n",
       "      <th></th>\n",
       "      <th></th>\n",
       "      <th></th>\n",
       "    </tr>\n",
       "  </thead>\n",
       "  <tbody>\n",
       "    <tr>\n",
       "      <th>CTRL</th>\n",
       "      <td>7.31</td>\n",
       "      <td>6.88</td>\n",
       "      <td>8.44</td>\n",
       "      <td>9.17</td>\n",
       "      <td>7.33</td>\n",
       "      <td>7.92</td>\n",
       "      <td>9.24</td>\n",
       "    </tr>\n",
       "    <tr>\n",
       "      <th>10H2</th>\n",
       "      <td>7.34</td>\n",
       "      <td>6.91</td>\n",
       "      <td>8.47</td>\n",
       "      <td>9.93</td>\n",
       "      <td>7.38</td>\n",
       "      <td>7.95</td>\n",
       "      <td>9.38</td>\n",
       "    </tr>\n",
       "    <tr>\n",
       "      <th>10CH4</th>\n",
       "      <td>7.55</td>\n",
       "      <td>7.13</td>\n",
       "      <td>8.67</td>\n",
       "      <td>10.2</td>\n",
       "      <td>nan</td>\n",
       "      <td>8.19</td>\n",
       "      <td>9.51</td>\n",
       "    </tr>\n",
       "  </tbody>\n",
       "</table>\n",
       "</div>"
      ],
      "text/plain": [
       "          OSLOCTM3  WACCM6-2deg  INCA  GFDL-emi  OSLOCTM3-emi  UKCA  \\\n",
       "Scenario                                                              \n",
       "CTRL          7.31         6.88  8.44      9.17          7.33  7.92   \n",
       "10H2          7.34         6.91  8.47      9.93          7.38  7.95   \n",
       "10CH4         7.55         7.13  8.67      10.2           nan  8.19   \n",
       "\n",
       "          GFDL_nudge  \n",
       "Scenario              \n",
       "CTRL            9.24  \n",
       "10H2            9.38  \n",
       "10CH4           9.51  "
      ]
     },
     "execution_count": 22,
     "metadata": {},
     "output_type": "execute_result"
    }
   ],
   "source": [
    "df_ch4_lifetime = df_ch4_burden.drop('deltaCH4')/df_ch4_loss\n",
    "df_ch4_lifetime"
   ]
  },
  {
   "cell_type": "markdown",
   "metadata": {},
   "source": [
    "#### Total CH4 lifetime [yr]"
   ]
  },
  {
   "cell_type": "markdown",
   "metadata": {},
   "source": [
    "Inverse lifetimes (mean loss frequencies) are additive [Forster et al.,2007; Prather, 2007]. Added lifetime due to stratospheric chemistry in addion to OH and soil sink."
   ]
  },
  {
   "cell_type": "code",
   "execution_count": 23,
   "metadata": {},
   "outputs": [
    {
     "data": {
      "text/html": [
       "<div>\n",
       "<style scoped>\n",
       "    .dataframe tbody tr th:only-of-type {\n",
       "        vertical-align: middle;\n",
       "    }\n",
       "\n",
       "    .dataframe tbody tr th {\n",
       "        vertical-align: top;\n",
       "    }\n",
       "\n",
       "    .dataframe thead th {\n",
       "        text-align: right;\n",
       "    }\n",
       "</style>\n",
       "<table border=\"1\" class=\"dataframe\">\n",
       "  <thead>\n",
       "    <tr style=\"text-align: right;\">\n",
       "      <th></th>\n",
       "      <th>OSLOCTM3</th>\n",
       "      <th>WACCM6-2deg</th>\n",
       "      <th>INCA</th>\n",
       "      <th>GFDL-emi</th>\n",
       "      <th>OSLOCTM3-emi</th>\n",
       "      <th>UKCA</th>\n",
       "      <th>GFDL_nudge</th>\n",
       "    </tr>\n",
       "    <tr>\n",
       "      <th>Scenario</th>\n",
       "      <th></th>\n",
       "      <th></th>\n",
       "      <th></th>\n",
       "      <th></th>\n",
       "      <th></th>\n",
       "      <th></th>\n",
       "      <th></th>\n",
       "    </tr>\n",
       "  </thead>\n",
       "  <tbody>\n",
       "    <tr>\n",
       "      <th>CTRL</th>\n",
       "      <td>6.80</td>\n",
       "      <td>6.42</td>\n",
       "      <td>7.76</td>\n",
       "      <td>8.37</td>\n",
       "      <td>6.81</td>\n",
       "      <td>7.31</td>\n",
       "      <td>8.43</td>\n",
       "    </tr>\n",
       "    <tr>\n",
       "      <th>10H2</th>\n",
       "      <td>6.82</td>\n",
       "      <td>6.45</td>\n",
       "      <td>7.79</td>\n",
       "      <td>9.00</td>\n",
       "      <td>6.85</td>\n",
       "      <td>7.34</td>\n",
       "      <td>8.55</td>\n",
       "    </tr>\n",
       "    <tr>\n",
       "      <th>10CH4</th>\n",
       "      <td>7.00</td>\n",
       "      <td>6.64</td>\n",
       "      <td>7.95</td>\n",
       "      <td>9.23</td>\n",
       "      <td>nan</td>\n",
       "      <td>7.54</td>\n",
       "      <td>8.66</td>\n",
       "    </tr>\n",
       "  </tbody>\n",
       "</table>\n",
       "</div>"
      ],
      "text/plain": [
       "          OSLOCTM3  WACCM6-2deg  INCA  GFDL-emi  OSLOCTM3-emi  UKCA  \\\n",
       "Scenario                                                              \n",
       "CTRL          6.80         6.42  7.76      8.37          6.81  7.31   \n",
       "10H2          6.82         6.45  7.79      9.00          6.85  7.34   \n",
       "10CH4         7.00         6.64  7.95      9.23           nan  7.54   \n",
       "\n",
       "          GFDL_nudge  \n",
       "Scenario              \n",
       "CTRL            8.43  \n",
       "10H2            8.55  \n",
       "10CH4           8.66  "
      ]
     },
     "execution_count": 23,
     "metadata": {},
     "output_type": "execute_result"
    }
   ],
   "source": [
    "df_ch4_tot_lifetime = 1.0/(1.0/df_ch4_lifetime + 1.0/tau_strat + 1.0/tau_soil)\n",
    "df_ch4_tot_lifetime"
   ]
  },
  {
   "cell_type": "code",
   "execution_count": 24,
   "metadata": {},
   "outputs": [
    {
     "data": {
      "text/html": [
       "<div>\n",
       "<style scoped>\n",
       "    .dataframe tbody tr th:only-of-type {\n",
       "        vertical-align: middle;\n",
       "    }\n",
       "\n",
       "    .dataframe tbody tr th {\n",
       "        vertical-align: top;\n",
       "    }\n",
       "\n",
       "    .dataframe thead th {\n",
       "        text-align: right;\n",
       "    }\n",
       "</style>\n",
       "<table border=\"1\" class=\"dataframe\">\n",
       "  <thead>\n",
       "    <tr style=\"text-align: right;\">\n",
       "      <th></th>\n",
       "      <th>OSLOCTM3</th>\n",
       "      <th>WACCM6-2deg</th>\n",
       "      <th>INCA</th>\n",
       "      <th>GFDL-emi</th>\n",
       "      <th>OSLOCTM3-emi</th>\n",
       "      <th>UKCA</th>\n",
       "      <th>GFDL_nudge</th>\n",
       "    </tr>\n",
       "    <tr>\n",
       "      <th>Scenario</th>\n",
       "      <th></th>\n",
       "      <th></th>\n",
       "      <th></th>\n",
       "      <th></th>\n",
       "      <th></th>\n",
       "      <th></th>\n",
       "      <th></th>\n",
       "    </tr>\n",
       "  </thead>\n",
       "  <tbody>\n",
       "    <tr>\n",
       "      <th>CTRL</th>\n",
       "      <td>6.80</td>\n",
       "      <td>6.42</td>\n",
       "      <td>7.76</td>\n",
       "      <td>8.37</td>\n",
       "      <td>6.81</td>\n",
       "      <td>6.61</td>\n",
       "      <td>8.43</td>\n",
       "    </tr>\n",
       "    <tr>\n",
       "      <th>10H2</th>\n",
       "      <td>6.82</td>\n",
       "      <td>6.45</td>\n",
       "      <td>7.79</td>\n",
       "      <td>9.00</td>\n",
       "      <td>6.85</td>\n",
       "      <td>6.63</td>\n",
       "      <td>8.55</td>\n",
       "    </tr>\n",
       "    <tr>\n",
       "      <th>10CH4</th>\n",
       "      <td>7.00</td>\n",
       "      <td>6.64</td>\n",
       "      <td>7.95</td>\n",
       "      <td>9.23</td>\n",
       "      <td>nan</td>\n",
       "      <td>6.80</td>\n",
       "      <td>8.66</td>\n",
       "    </tr>\n",
       "  </tbody>\n",
       "</table>\n",
       "</div>"
      ],
      "text/plain": [
       "          OSLOCTM3  WACCM6-2deg  INCA  GFDL-emi  OSLOCTM3-emi  UKCA  \\\n",
       "Scenario                                                              \n",
       "CTRL          6.80         6.42  7.76      8.37          6.81  6.61   \n",
       "10H2          6.82         6.45  7.79      9.00          6.85  6.63   \n",
       "10CH4         7.00         6.64  7.95      9.23           nan  6.80   \n",
       "\n",
       "          GFDL_nudge  \n",
       "Scenario              \n",
       "CTRL            8.43  \n",
       "10H2            8.55  \n",
       "10CH4           8.66  "
      ]
     },
     "execution_count": 24,
     "metadata": {},
     "output_type": "execute_result"
    }
   ],
   "source": [
    "#Double the tau_strat, to account for stratospheric chemistry not included in UKCA.\n",
    "df_ch4_tot_lifetime['UKCA'] = 1.0/(1.0/df_ch4_lifetime + 1.0/tau_strat + 1.0/tau_strat + 1.0/tau_soil)\n",
    "df_ch4_tot_lifetime"
   ]
  },
  {
   "cell_type": "markdown",
   "metadata": {},
   "source": [
    "#### Other methane loss term, dervided based on the lifetime and burden."
   ]
  },
  {
   "cell_type": "code",
   "execution_count": 25,
   "metadata": {},
   "outputs": [
    {
     "data": {
      "text/html": [
       "<div>\n",
       "<style scoped>\n",
       "    .dataframe tbody tr th:only-of-type {\n",
       "        vertical-align: middle;\n",
       "    }\n",
       "\n",
       "    .dataframe tbody tr th {\n",
       "        vertical-align: top;\n",
       "    }\n",
       "\n",
       "    .dataframe thead th {\n",
       "        text-align: right;\n",
       "    }\n",
       "</style>\n",
       "<table border=\"1\" class=\"dataframe\">\n",
       "  <thead>\n",
       "    <tr style=\"text-align: right;\">\n",
       "      <th></th>\n",
       "      <th>OSLOCTM3</th>\n",
       "      <th>WACCM6-2deg</th>\n",
       "      <th>INCA</th>\n",
       "      <th>GFDL-emi</th>\n",
       "      <th>OSLOCTM3-emi</th>\n",
       "      <th>UKCA</th>\n",
       "      <th>GFDL_nudge</th>\n",
       "    </tr>\n",
       "    <tr>\n",
       "      <th>Scenario</th>\n",
       "      <th></th>\n",
       "      <th></th>\n",
       "      <th></th>\n",
       "      <th></th>\n",
       "      <th></th>\n",
       "      <th></th>\n",
       "      <th></th>\n",
       "    </tr>\n",
       "  </thead>\n",
       "  <tbody>\n",
       "    <tr>\n",
       "      <th>CTRL</th>\n",
       "      <td>31.2</td>\n",
       "      <td>31.3</td>\n",
       "      <td>31.3</td>\n",
       "      <td>31.0</td>\n",
       "      <td>31.2</td>\n",
       "      <td>30.9</td>\n",
       "      <td>30.5</td>\n",
       "    </tr>\n",
       "    <tr>\n",
       "      <th>10H2</th>\n",
       "      <td>31.2</td>\n",
       "      <td>31.3</td>\n",
       "      <td>31.3</td>\n",
       "      <td>31.0</td>\n",
       "      <td>31.2</td>\n",
       "      <td>30.9</td>\n",
       "      <td>30.5</td>\n",
       "    </tr>\n",
       "    <tr>\n",
       "      <th>10CH4</th>\n",
       "      <td>34.3</td>\n",
       "      <td>34.4</td>\n",
       "      <td>34.4</td>\n",
       "      <td>34.3</td>\n",
       "      <td>nan</td>\n",
       "      <td>34.0</td>\n",
       "      <td>33.5</td>\n",
       "    </tr>\n",
       "  </tbody>\n",
       "</table>\n",
       "</div>"
      ],
      "text/plain": [
       "          OSLOCTM3  WACCM6-2deg  INCA  GFDL-emi  OSLOCTM3-emi  UKCA  \\\n",
       "Scenario                                                              \n",
       "CTRL          31.2         31.3  31.3      31.0          31.2  30.9   \n",
       "10H2          31.2         31.3  31.3      31.0          31.2  30.9   \n",
       "10CH4         34.3         34.4  34.4      34.3           nan  34.0   \n",
       "\n",
       "          GFDL_nudge  \n",
       "Scenario              \n",
       "CTRL            30.5  \n",
       "10H2            30.5  \n",
       "10CH4           33.5  "
      ]
     },
     "execution_count": 25,
     "metadata": {},
     "output_type": "execute_result"
    }
   ],
   "source": [
    "#Soil loss:\n",
    "df_ch4_loss_soil = df_ch4_burden.drop('deltaCH4')/tau_soil\n",
    "df_ch4_loss_soil"
   ]
  },
  {
   "cell_type": "code",
   "execution_count": 26,
   "metadata": {},
   "outputs": [
    {
     "data": {
      "text/html": [
       "<div>\n",
       "<style scoped>\n",
       "    .dataframe tbody tr th:only-of-type {\n",
       "        vertical-align: middle;\n",
       "    }\n",
       "\n",
       "    .dataframe tbody tr th {\n",
       "        vertical-align: top;\n",
       "    }\n",
       "\n",
       "    .dataframe thead th {\n",
       "        text-align: right;\n",
       "    }\n",
       "</style>\n",
       "<table border=\"1\" class=\"dataframe\">\n",
       "  <thead>\n",
       "    <tr style=\"text-align: right;\">\n",
       "      <th></th>\n",
       "      <th>OSLOCTM3</th>\n",
       "      <th>WACCM6-2deg</th>\n",
       "      <th>INCA</th>\n",
       "      <th>GFDL-emi</th>\n",
       "      <th>OSLOCTM3-emi</th>\n",
       "      <th>UKCA</th>\n",
       "      <th>GFDL_nudge</th>\n",
       "    </tr>\n",
       "    <tr>\n",
       "      <th>Scenario</th>\n",
       "      <th></th>\n",
       "      <th></th>\n",
       "      <th></th>\n",
       "      <th></th>\n",
       "      <th></th>\n",
       "      <th></th>\n",
       "      <th></th>\n",
       "    </tr>\n",
       "  </thead>\n",
       "  <tbody>\n",
       "    <tr>\n",
       "      <th>CTRL</th>\n",
       "      <td>20.8</td>\n",
       "      <td>20.8</td>\n",
       "      <td>20.8</td>\n",
       "      <td>20.6</td>\n",
       "      <td>20.8</td>\n",
       "      <td>20.6</td>\n",
       "      <td>20.3</td>\n",
       "    </tr>\n",
       "    <tr>\n",
       "      <th>10H2</th>\n",
       "      <td>20.8</td>\n",
       "      <td>20.8</td>\n",
       "      <td>20.8</td>\n",
       "      <td>20.6</td>\n",
       "      <td>20.8</td>\n",
       "      <td>20.6</td>\n",
       "      <td>20.3</td>\n",
       "    </tr>\n",
       "    <tr>\n",
       "      <th>10CH4</th>\n",
       "      <td>22.9</td>\n",
       "      <td>22.9</td>\n",
       "      <td>22.9</td>\n",
       "      <td>22.9</td>\n",
       "      <td>nan</td>\n",
       "      <td>22.6</td>\n",
       "      <td>22.4</td>\n",
       "    </tr>\n",
       "  </tbody>\n",
       "</table>\n",
       "</div>"
      ],
      "text/plain": [
       "          OSLOCTM3  WACCM6-2deg  INCA  GFDL-emi  OSLOCTM3-emi  UKCA  \\\n",
       "Scenario                                                              \n",
       "CTRL          20.8         20.8  20.8      20.6          20.8  20.6   \n",
       "10H2          20.8         20.8  20.8      20.6          20.8  20.6   \n",
       "10CH4         22.9         22.9  22.9      22.9           nan  22.6   \n",
       "\n",
       "          GFDL_nudge  \n",
       "Scenario              \n",
       "CTRL            20.3  \n",
       "10H2            20.3  \n",
       "10CH4           22.4  "
      ]
     },
     "execution_count": 26,
     "metadata": {},
     "output_type": "execute_result"
    }
   ],
   "source": [
    "#Strat chemistry loss (other than OH)\n",
    "df_ch4_loss_other_strat = df_ch4_burden.drop('deltaCH4')/(tau_strat)\n",
    "df_ch4_loss_other_strat"
   ]
  },
  {
   "cell_type": "markdown",
   "metadata": {},
   "source": [
    "### 2.5 CH4 flux  [Tg/yr]"
   ]
  },
  {
   "cell_type": "markdown",
   "metadata": {},
   "source": [
    "The methane flux is calculated as the burden divided by the total methane lifetime.\n",
    "\n",
    "The difference in calculated flux in the perturbed and control run is calculated. These numbers include feedbacks."
   ]
  },
  {
   "cell_type": "code",
   "execution_count": 27,
   "metadata": {},
   "outputs": [
    {
     "data": {
      "text/html": [
       "<div>\n",
       "<style scoped>\n",
       "    .dataframe tbody tr th:only-of-type {\n",
       "        vertical-align: middle;\n",
       "    }\n",
       "\n",
       "    .dataframe tbody tr th {\n",
       "        vertical-align: top;\n",
       "    }\n",
       "\n",
       "    .dataframe thead th {\n",
       "        text-align: right;\n",
       "    }\n",
       "</style>\n",
       "<table border=\"1\" class=\"dataframe\">\n",
       "  <thead>\n",
       "    <tr style=\"text-align: right;\">\n",
       "      <th></th>\n",
       "      <th>OSLOCTM3</th>\n",
       "      <th>WACCM6-2deg</th>\n",
       "      <th>INCA</th>\n",
       "      <th>GFDL-emi</th>\n",
       "      <th>OSLOCTM3-emi</th>\n",
       "      <th>UKCA</th>\n",
       "      <th>GFDL_nudge</th>\n",
       "    </tr>\n",
       "    <tr>\n",
       "      <th>Scenario</th>\n",
       "      <th></th>\n",
       "      <th></th>\n",
       "      <th></th>\n",
       "      <th></th>\n",
       "      <th></th>\n",
       "      <th></th>\n",
       "      <th></th>\n",
       "    </tr>\n",
       "  </thead>\n",
       "  <tbody>\n",
       "    <tr>\n",
       "      <th>CTRL</th>\n",
       "      <td>735</td>\n",
       "      <td>779</td>\n",
       "      <td>645</td>\n",
       "      <td>592</td>\n",
       "      <td>733</td>\n",
       "      <td>747</td>\n",
       "      <td>578</td>\n",
       "    </tr>\n",
       "    <tr>\n",
       "      <th>10H2</th>\n",
       "      <td>732</td>\n",
       "      <td>776</td>\n",
       "      <td>643</td>\n",
       "      <td>550</td>\n",
       "      <td>729</td>\n",
       "      <td>745</td>\n",
       "      <td>570</td>\n",
       "    </tr>\n",
       "    <tr>\n",
       "      <th>10CH4</th>\n",
       "      <td>785</td>\n",
       "      <td>829</td>\n",
       "      <td>692</td>\n",
       "      <td>595</td>\n",
       "      <td>nan</td>\n",
       "      <td>799</td>\n",
       "      <td>620</td>\n",
       "    </tr>\n",
       "    <tr>\n",
       "      <th>deltaH2</th>\n",
       "      <td>-2.67</td>\n",
       "      <td>-3.28</td>\n",
       "      <td>-2.12</td>\n",
       "      <td>-41.7</td>\n",
       "      <td>-4.39</td>\n",
       "      <td>-2.62</td>\n",
       "      <td>-7.96</td>\n",
       "    </tr>\n",
       "    <tr>\n",
       "      <th>deltaCH4</th>\n",
       "      <td>50.3</td>\n",
       "      <td>50.3</td>\n",
       "      <td>47.3</td>\n",
       "      <td>3.10</td>\n",
       "      <td>50.3</td>\n",
       "      <td>51.8</td>\n",
       "      <td>41.4</td>\n",
       "    </tr>\n",
       "  </tbody>\n",
       "</table>\n",
       "</div>"
      ],
      "text/plain": [
       "          OSLOCTM3  WACCM6-2deg  INCA  GFDL-emi  OSLOCTM3-emi  UKCA  \\\n",
       "Scenario                                                              \n",
       "CTRL           735          779   645       592           733   747   \n",
       "10H2           732          776   643       550           729   745   \n",
       "10CH4          785          829   692       595           nan   799   \n",
       "deltaH2      -2.67        -3.28 -2.12     -41.7         -4.39 -2.62   \n",
       "deltaCH4      50.3         50.3  47.3      3.10          50.3  51.8   \n",
       "\n",
       "          GFDL_nudge  \n",
       "Scenario              \n",
       "CTRL             578  \n",
       "10H2             570  \n",
       "10CH4            620  \n",
       "deltaH2        -7.96  \n",
       "deltaCH4        41.4  "
      ]
     },
     "execution_count": 27,
     "metadata": {},
     "output_type": "execute_result"
    }
   ],
   "source": [
    "df_ch4_flux = df_ch4_burden.drop('deltaCH4')/df_ch4_tot_lifetime\n",
    "#Add delta CH4 flux 10H2\n",
    "delta = df_ch4_flux.loc['10H2']-df_ch4_flux.loc['CTRL']\n",
    "delta.name = 'deltaH2'\n",
    "df_ch4_flux = df_ch4_flux.append(delta)\n",
    "#Add delta CH4 flux 10CH4\n",
    "delta = df_ch4_flux.loc['10CH4']-df_ch4_flux.loc['CTRL']\n",
    "delta.name = 'deltaCH4'\n",
    "df_ch4_flux = df_ch4_flux.append(delta)\n",
    "\n",
    "\n",
    "#Add same flux in OsloCTM3-emi as in OsloCTM3\n",
    "df_ch4_flux['OSLOCTM3-emi'].loc['deltaCH4']= df_ch4_flux['OSLOCTM3'].loc['deltaCH4']\n",
    "df_ch4_flux\n"
   ]
  },
  {
   "cell_type": "markdown",
   "metadata": {},
   "source": [
    "## 3. Ozone burden and RF"
   ]
  },
  {
   "cell_type": "markdown",
   "metadata": {},
   "source": [
    "### 3.1 Change in tropospheric ozone (DU)"
   ]
  },
  {
   "cell_type": "markdown",
   "metadata": {},
   "source": [
    "The tropopause definition is the model layer in the control simulation where 150 ppbv ozone are reached. \n",
    "\n",
    "Keep in mind that:\n",
    "for GFDL-emi 10H2 is H2 perturbation (200 Tg/yr) and 10CH4 is H2+CH4 pert. And that for OsloCTM-emi, the same sensitivity for methane perturbation is used as for OsloCTM concentration driven."
   ]
  },
  {
   "cell_type": "code",
   "execution_count": 28,
   "metadata": {},
   "outputs": [
    {
     "data": {
      "text/html": [
       "<div>\n",
       "<style scoped>\n",
       "    .dataframe tbody tr th:only-of-type {\n",
       "        vertical-align: middle;\n",
       "    }\n",
       "\n",
       "    .dataframe tbody tr th {\n",
       "        vertical-align: top;\n",
       "    }\n",
       "\n",
       "    .dataframe thead th {\n",
       "        text-align: right;\n",
       "    }\n",
       "</style>\n",
       "<table border=\"1\" class=\"dataframe\">\n",
       "  <thead>\n",
       "    <tr style=\"text-align: right;\">\n",
       "      <th></th>\n",
       "      <th>OSLOCTM3</th>\n",
       "      <th>WACCM6-2deg</th>\n",
       "      <th>INCA</th>\n",
       "      <th>GFDL-emi</th>\n",
       "      <th>OSLOCTM3-emi</th>\n",
       "      <th>UKCA</th>\n",
       "      <th>GFDL_nudge</th>\n",
       "    </tr>\n",
       "    <tr>\n",
       "      <th>Scenario</th>\n",
       "      <th></th>\n",
       "      <th></th>\n",
       "      <th></th>\n",
       "      <th></th>\n",
       "      <th></th>\n",
       "      <th></th>\n",
       "      <th></th>\n",
       "    </tr>\n",
       "  </thead>\n",
       "  <tbody>\n",
       "    <tr>\n",
       "      <th>10H2</th>\n",
       "      <td>0.04</td>\n",
       "      <td>0.03</td>\n",
       "      <td>0.03</td>\n",
       "      <td>0.70</td>\n",
       "      <td>0.06</td>\n",
       "      <td>0.03</td>\n",
       "      <td>0.12</td>\n",
       "    </tr>\n",
       "    <tr>\n",
       "      <th>10CH4</th>\n",
       "      <td>0.83</td>\n",
       "      <td>0.88</td>\n",
       "      <td>0.53</td>\n",
       "      <td>1.57</td>\n",
       "      <td>nan</td>\n",
       "      <td>0.70</td>\n",
       "      <td>0.66</td>\n",
       "    </tr>\n",
       "  </tbody>\n",
       "</table>\n",
       "</div>"
      ],
      "text/plain": [
       "          OSLOCTM3  WACCM6-2deg  INCA  GFDL-emi  OSLOCTM3-emi  UKCA  \\\n",
       "Scenario                                                              \n",
       "10H2          0.04         0.03  0.03      0.70          0.06  0.03   \n",
       "10CH4         0.83         0.88  0.53      1.57           nan  0.70   \n",
       "\n",
       "          GFDL_nudge  \n",
       "Scenario              \n",
       "10H2            0.12  \n",
       "10CH4           0.66  "
      ]
     },
     "execution_count": 28,
     "metadata": {},
     "output_type": "execute_result"
    }
   ],
   "source": [
    "file = 'ozone_du_trop.txt'\n",
    "df_ozone_du_trop = pd.read_csv(path+file, sep=';',index_col=0,header=0)\n",
    "df_ozone_du_trop"
   ]
  },
  {
   "cell_type": "code",
   "execution_count": 29,
   "metadata": {},
   "outputs": [
    {
     "data": {
      "text/html": [
       "<div>\n",
       "<style scoped>\n",
       "    .dataframe tbody tr th:only-of-type {\n",
       "        vertical-align: middle;\n",
       "    }\n",
       "\n",
       "    .dataframe tbody tr th {\n",
       "        vertical-align: top;\n",
       "    }\n",
       "\n",
       "    .dataframe thead th {\n",
       "        text-align: right;\n",
       "    }\n",
       "</style>\n",
       "<table border=\"1\" class=\"dataframe\">\n",
       "  <thead>\n",
       "    <tr style=\"text-align: right;\">\n",
       "      <th></th>\n",
       "      <th>OSLOCTM3</th>\n",
       "      <th>WACCM6-2deg</th>\n",
       "      <th>INCA</th>\n",
       "      <th>GFDL-emi</th>\n",
       "      <th>OSLOCTM3-emi</th>\n",
       "      <th>UKCA</th>\n",
       "      <th>GFDL_nudge</th>\n",
       "    </tr>\n",
       "    <tr>\n",
       "      <th>Scenario</th>\n",
       "      <th></th>\n",
       "      <th></th>\n",
       "      <th></th>\n",
       "      <th></th>\n",
       "      <th></th>\n",
       "      <th></th>\n",
       "      <th></th>\n",
       "    </tr>\n",
       "  </thead>\n",
       "  <tbody>\n",
       "    <tr>\n",
       "      <th>10H2</th>\n",
       "      <td>0.04</td>\n",
       "      <td>0.03</td>\n",
       "      <td>0.03</td>\n",
       "      <td>0.70</td>\n",
       "      <td>0.06</td>\n",
       "      <td>0.03</td>\n",
       "      <td>0.12</td>\n",
       "    </tr>\n",
       "    <tr>\n",
       "      <th>10CH4</th>\n",
       "      <td>0.83</td>\n",
       "      <td>0.88</td>\n",
       "      <td>0.53</td>\n",
       "      <td>1.57</td>\n",
       "      <td>0.83</td>\n",
       "      <td>0.70</td>\n",
       "      <td>0.66</td>\n",
       "    </tr>\n",
       "  </tbody>\n",
       "</table>\n",
       "</div>"
      ],
      "text/plain": [
       "          OSLOCTM3  WACCM6-2deg  INCA  GFDL-emi  OSLOCTM3-emi  UKCA  \\\n",
       "Scenario                                                              \n",
       "10H2          0.04         0.03  0.03      0.70          0.06  0.03   \n",
       "10CH4         0.83         0.88  0.53      1.57          0.83  0.70   \n",
       "\n",
       "          GFDL_nudge  \n",
       "Scenario              \n",
       "10H2            0.12  \n",
       "10CH4           0.66  "
      ]
     },
     "execution_count": 29,
     "metadata": {},
     "output_type": "execute_result"
    }
   ],
   "source": [
    "#For OsloCTM-emi, use the methane results from the concentration driven methane experiment.\n",
    "df_ozone_du_trop['OSLOCTM3-emi'].loc['10CH4'] = df_ozone_du_trop['OSLOCTM3'].loc['10CH4'] \n",
    "df_ozone_du_trop"
   ]
  },
  {
   "cell_type": "markdown",
   "metadata": {},
   "source": [
    "### 3.2 Change in stratospheric ozone (DU)"
   ]
  },
  {
   "cell_type": "code",
   "execution_count": 30,
   "metadata": {},
   "outputs": [
    {
     "data": {
      "text/html": [
       "<div>\n",
       "<style scoped>\n",
       "    .dataframe tbody tr th:only-of-type {\n",
       "        vertical-align: middle;\n",
       "    }\n",
       "\n",
       "    .dataframe tbody tr th {\n",
       "        vertical-align: top;\n",
       "    }\n",
       "\n",
       "    .dataframe thead th {\n",
       "        text-align: right;\n",
       "    }\n",
       "</style>\n",
       "<table border=\"1\" class=\"dataframe\">\n",
       "  <thead>\n",
       "    <tr style=\"text-align: right;\">\n",
       "      <th></th>\n",
       "      <th>OSLOCTM3</th>\n",
       "      <th>WACCM6-2deg</th>\n",
       "      <th>INCA</th>\n",
       "      <th>GFDL-emi</th>\n",
       "      <th>OSLOCTM3-emi</th>\n",
       "      <th>UKCA</th>\n",
       "      <th>GFDL_nudge</th>\n",
       "    </tr>\n",
       "    <tr>\n",
       "      <th>Scenario</th>\n",
       "      <th></th>\n",
       "      <th></th>\n",
       "      <th></th>\n",
       "      <th></th>\n",
       "      <th></th>\n",
       "      <th></th>\n",
       "      <th></th>\n",
       "    </tr>\n",
       "  </thead>\n",
       "  <tbody>\n",
       "    <tr>\n",
       "      <th>10H2</th>\n",
       "      <td>0.01</td>\n",
       "      <td>-0.01</td>\n",
       "      <td>-0.04</td>\n",
       "      <td>-0.38</td>\n",
       "      <td>0.01</td>\n",
       "      <td>nan</td>\n",
       "      <td>-0.07</td>\n",
       "    </tr>\n",
       "    <tr>\n",
       "      <th>10CH4</th>\n",
       "      <td>0.83</td>\n",
       "      <td>0.80</td>\n",
       "      <td>0.25</td>\n",
       "      <td>1.03</td>\n",
       "      <td>nan</td>\n",
       "      <td>nan</td>\n",
       "      <td>0.78</td>\n",
       "    </tr>\n",
       "  </tbody>\n",
       "</table>\n",
       "</div>"
      ],
      "text/plain": [
       "          OSLOCTM3  WACCM6-2deg  INCA  GFDL-emi  OSLOCTM3-emi  UKCA  \\\n",
       "Scenario                                                              \n",
       "10H2          0.01        -0.01 -0.04     -0.38          0.01   nan   \n",
       "10CH4         0.83         0.80  0.25      1.03           nan   nan   \n",
       "\n",
       "          GFDL_nudge  \n",
       "Scenario              \n",
       "10H2           -0.07  \n",
       "10CH4           0.78  "
      ]
     },
     "execution_count": 30,
     "metadata": {},
     "output_type": "execute_result"
    }
   ],
   "source": [
    "file = 'ozone_du_strat.txt'\n",
    "df_ozone_du_strat = pd.read_csv(path+file, sep=';',index_col=0,header=0)\n",
    "df_ozone_du_strat"
   ]
  },
  {
   "cell_type": "code",
   "execution_count": 31,
   "metadata": {},
   "outputs": [
    {
     "data": {
      "text/html": [
       "<div>\n",
       "<style scoped>\n",
       "    .dataframe tbody tr th:only-of-type {\n",
       "        vertical-align: middle;\n",
       "    }\n",
       "\n",
       "    .dataframe tbody tr th {\n",
       "        vertical-align: top;\n",
       "    }\n",
       "\n",
       "    .dataframe thead th {\n",
       "        text-align: right;\n",
       "    }\n",
       "</style>\n",
       "<table border=\"1\" class=\"dataframe\">\n",
       "  <thead>\n",
       "    <tr style=\"text-align: right;\">\n",
       "      <th></th>\n",
       "      <th>OSLOCTM3</th>\n",
       "      <th>WACCM6-2deg</th>\n",
       "      <th>INCA</th>\n",
       "      <th>GFDL-emi</th>\n",
       "      <th>OSLOCTM3-emi</th>\n",
       "      <th>UKCA</th>\n",
       "      <th>GFDL_nudge</th>\n",
       "    </tr>\n",
       "    <tr>\n",
       "      <th>Scenario</th>\n",
       "      <th></th>\n",
       "      <th></th>\n",
       "      <th></th>\n",
       "      <th></th>\n",
       "      <th></th>\n",
       "      <th></th>\n",
       "      <th></th>\n",
       "    </tr>\n",
       "  </thead>\n",
       "  <tbody>\n",
       "    <tr>\n",
       "      <th>10H2</th>\n",
       "      <td>0.01</td>\n",
       "      <td>-0.01</td>\n",
       "      <td>-0.04</td>\n",
       "      <td>-0.38</td>\n",
       "      <td>0.01</td>\n",
       "      <td>nan</td>\n",
       "      <td>-0.07</td>\n",
       "    </tr>\n",
       "    <tr>\n",
       "      <th>10CH4</th>\n",
       "      <td>0.83</td>\n",
       "      <td>0.80</td>\n",
       "      <td>0.25</td>\n",
       "      <td>1.03</td>\n",
       "      <td>0.83</td>\n",
       "      <td>nan</td>\n",
       "      <td>0.78</td>\n",
       "    </tr>\n",
       "  </tbody>\n",
       "</table>\n",
       "</div>"
      ],
      "text/plain": [
       "          OSLOCTM3  WACCM6-2deg  INCA  GFDL-emi  OSLOCTM3-emi  UKCA  \\\n",
       "Scenario                                                              \n",
       "10H2          0.01        -0.01 -0.04     -0.38          0.01   nan   \n",
       "10CH4         0.83         0.80  0.25      1.03          0.83   nan   \n",
       "\n",
       "          GFDL_nudge  \n",
       "Scenario              \n",
       "10H2           -0.07  \n",
       "10CH4           0.78  "
      ]
     },
     "execution_count": 31,
     "metadata": {},
     "output_type": "execute_result"
    }
   ],
   "source": [
    "#For OsloCTM-emi, use the methane results from the concentration driven methane experiment.\n",
    "df_ozone_du_strat['OSLOCTM3-emi'].loc['10CH4'] = df_ozone_du_strat['OSLOCTM3'].loc['10CH4'] \n",
    "df_ozone_du_strat"
   ]
  },
  {
   "cell_type": "markdown",
   "metadata": {},
   "source": [
    "### 3.5 Ozone RF"
   ]
  },
  {
   "cell_type": "markdown",
   "metadata": {},
   "source": [
    "Ozone RF is calculated using a radiative kernel (Skeie et al 2020) and the modelled changes in ozone. \n",
    "\n",
    "Keep in mind that:\n",
    "for GFDL-emi 10H2 RF is forcing calculated in the H2 perturbation and 10CH4 the forcing calculated by the H2+CH4."
   ]
  },
  {
   "cell_type": "code",
   "execution_count": 32,
   "metadata": {},
   "outputs": [
    {
     "data": {
      "text/html": [
       "<div>\n",
       "<style scoped>\n",
       "    .dataframe tbody tr th:only-of-type {\n",
       "        vertical-align: middle;\n",
       "    }\n",
       "\n",
       "    .dataframe tbody tr th {\n",
       "        vertical-align: top;\n",
       "    }\n",
       "\n",
       "    .dataframe thead th {\n",
       "        text-align: right;\n",
       "    }\n",
       "</style>\n",
       "<table border=\"1\" class=\"dataframe\">\n",
       "  <thead>\n",
       "    <tr style=\"text-align: right;\">\n",
       "      <th></th>\n",
       "      <th>OSLOCTM3</th>\n",
       "      <th>WACCM6-2deg</th>\n",
       "      <th>INCA</th>\n",
       "      <th>GFDL-emi</th>\n",
       "      <th>OSLOCTM3-emi</th>\n",
       "      <th>UKCA</th>\n",
       "      <th>GFDL_nudge</th>\n",
       "    </tr>\n",
       "    <tr>\n",
       "      <th>Scenario</th>\n",
       "      <th></th>\n",
       "      <th></th>\n",
       "      <th></th>\n",
       "      <th></th>\n",
       "      <th></th>\n",
       "      <th></th>\n",
       "      <th></th>\n",
       "    </tr>\n",
       "  </thead>\n",
       "  <tbody>\n",
       "    <tr>\n",
       "      <th>10H2</th>\n",
       "      <td>1.86</td>\n",
       "      <td>1.75</td>\n",
       "      <td>1.06</td>\n",
       "      <td>31.0</td>\n",
       "      <td>3.06</td>\n",
       "      <td>1.14</td>\n",
       "      <td>6.40</td>\n",
       "    </tr>\n",
       "    <tr>\n",
       "      <th>10CH4</th>\n",
       "      <td>41.0</td>\n",
       "      <td>42.7</td>\n",
       "      <td>22.1</td>\n",
       "      <td>76.5</td>\n",
       "      <td>nan</td>\n",
       "      <td>24.3</td>\n",
       "      <td>33.4</td>\n",
       "    </tr>\n",
       "  </tbody>\n",
       "</table>\n",
       "</div>"
      ],
      "text/plain": [
       "          OSLOCTM3  WACCM6-2deg  INCA  GFDL-emi  OSLOCTM3-emi  UKCA  \\\n",
       "Scenario                                                              \n",
       "10H2          1.86         1.75  1.06      31.0          3.06  1.14   \n",
       "10CH4         41.0         42.7  22.1      76.5           nan  24.3   \n",
       "\n",
       "          GFDL_nudge  \n",
       "Scenario              \n",
       "10H2            6.40  \n",
       "10CH4           33.4  "
      ]
     },
     "execution_count": 32,
     "metadata": {},
     "output_type": "execute_result"
    }
   ],
   "source": [
    "file = 'ozone_rf.txt'\n",
    "df_ozone_rf = pd.read_csv(path+file, sep=';',index_col=0,header=0)\n",
    "df_ozone_rf"
   ]
  },
  {
   "cell_type": "code",
   "execution_count": 33,
   "metadata": {},
   "outputs": [
    {
     "data": {
      "text/html": [
       "<div>\n",
       "<style scoped>\n",
       "    .dataframe tbody tr th:only-of-type {\n",
       "        vertical-align: middle;\n",
       "    }\n",
       "\n",
       "    .dataframe tbody tr th {\n",
       "        vertical-align: top;\n",
       "    }\n",
       "\n",
       "    .dataframe thead th {\n",
       "        text-align: right;\n",
       "    }\n",
       "</style>\n",
       "<table border=\"1\" class=\"dataframe\">\n",
       "  <thead>\n",
       "    <tr style=\"text-align: right;\">\n",
       "      <th></th>\n",
       "      <th>OSLOCTM3</th>\n",
       "      <th>WACCM6-2deg</th>\n",
       "      <th>INCA</th>\n",
       "      <th>GFDL-emi</th>\n",
       "      <th>OSLOCTM3-emi</th>\n",
       "      <th>UKCA</th>\n",
       "      <th>GFDL_nudge</th>\n",
       "    </tr>\n",
       "    <tr>\n",
       "      <th>Scenario</th>\n",
       "      <th></th>\n",
       "      <th></th>\n",
       "      <th></th>\n",
       "      <th></th>\n",
       "      <th></th>\n",
       "      <th></th>\n",
       "      <th></th>\n",
       "    </tr>\n",
       "  </thead>\n",
       "  <tbody>\n",
       "    <tr>\n",
       "      <th>10H2</th>\n",
       "      <td>1.86</td>\n",
       "      <td>1.75</td>\n",
       "      <td>1.06</td>\n",
       "      <td>31.0</td>\n",
       "      <td>3.06</td>\n",
       "      <td>1.14</td>\n",
       "      <td>6.40</td>\n",
       "    </tr>\n",
       "    <tr>\n",
       "      <th>10CH4</th>\n",
       "      <td>41.0</td>\n",
       "      <td>42.7</td>\n",
       "      <td>22.1</td>\n",
       "      <td>76.5</td>\n",
       "      <td>41.0</td>\n",
       "      <td>24.3</td>\n",
       "      <td>33.4</td>\n",
       "    </tr>\n",
       "  </tbody>\n",
       "</table>\n",
       "</div>"
      ],
      "text/plain": [
       "          OSLOCTM3  WACCM6-2deg  INCA  GFDL-emi  OSLOCTM3-emi  UKCA  \\\n",
       "Scenario                                                              \n",
       "10H2          1.86         1.75  1.06      31.0          3.06  1.14   \n",
       "10CH4         41.0         42.7  22.1      76.5          41.0  24.3   \n",
       "\n",
       "          GFDL_nudge  \n",
       "Scenario              \n",
       "10H2            6.40  \n",
       "10CH4           33.4  "
      ]
     },
     "execution_count": 33,
     "metadata": {},
     "output_type": "execute_result"
    }
   ],
   "source": [
    "#In OsloCTM-emi use the same RF in the methane pertubation as in OsloCTM3\n",
    "df_ozone_rf['OSLOCTM3-emi'].loc['10CH4'] = df_ozone_rf['OSLOCTM3'].loc['10CH4'] \n",
    "df_ozone_rf"
   ]
  },
  {
   "cell_type": "markdown",
   "metadata": {},
   "source": [
    "## 4. Stratospheric H2O RF [mW m-2]"
   ]
  },
  {
   "cell_type": "markdown",
   "metadata": {},
   "source": [
    "Stratospheric H2O RF calculated offline."
   ]
  },
  {
   "cell_type": "code",
   "execution_count": 34,
   "metadata": {},
   "outputs": [
    {
     "data": {
      "text/html": [
       "<div>\n",
       "<style scoped>\n",
       "    .dataframe tbody tr th:only-of-type {\n",
       "        vertical-align: middle;\n",
       "    }\n",
       "\n",
       "    .dataframe tbody tr th {\n",
       "        vertical-align: top;\n",
       "    }\n",
       "\n",
       "    .dataframe thead th {\n",
       "        text-align: right;\n",
       "    }\n",
       "</style>\n",
       "<table border=\"1\" class=\"dataframe\">\n",
       "  <thead>\n",
       "    <tr style=\"text-align: right;\">\n",
       "      <th></th>\n",
       "      <th>OSLOCTM3</th>\n",
       "      <th>WACCM6-2deg</th>\n",
       "      <th>INCA</th>\n",
       "      <th>OSLOCTM3-emi</th>\n",
       "      <th>GFDL_nudge</th>\n",
       "      <th>GFDL-emi</th>\n",
       "    </tr>\n",
       "    <tr>\n",
       "      <th>Scenario</th>\n",
       "      <th></th>\n",
       "      <th></th>\n",
       "      <th></th>\n",
       "      <th></th>\n",
       "      <th></th>\n",
       "      <th></th>\n",
       "    </tr>\n",
       "  </thead>\n",
       "  <tbody>\n",
       "    <tr>\n",
       "      <th>10H2</th>\n",
       "      <td>1.48</td>\n",
       "      <td>0.51</td>\n",
       "      <td>0.82</td>\n",
       "      <td>2.43</td>\n",
       "      <td>4.92</td>\n",
       "      <td>27.2</td>\n",
       "    </tr>\n",
       "    <tr>\n",
       "      <th>10CH4</th>\n",
       "      <td>10.1</td>\n",
       "      <td>3.76</td>\n",
       "      <td>6.62</td>\n",
       "      <td>nan</td>\n",
       "      <td>20.0</td>\n",
       "      <td>49.3</td>\n",
       "    </tr>\n",
       "  </tbody>\n",
       "</table>\n",
       "</div>"
      ],
      "text/plain": [
       "          OSLOCTM3  WACCM6-2deg  INCA  OSLOCTM3-emi  GFDL_nudge  GFDL-emi\n",
       "Scenario                                                                 \n",
       "10H2          1.48         0.51  0.82          2.43        4.92      27.2\n",
       "10CH4         10.1         3.76  6.62           nan        20.0      49.3"
      ]
     },
     "execution_count": 34,
     "metadata": {},
     "output_type": "execute_result"
    }
   ],
   "source": [
    "file = 'H2O_rf.txt'\n",
    "df_h2o_rf = pd.read_csv(path+file, sep=';',index_col=0,header=0)\n",
    "df_h2o_rf"
   ]
  },
  {
   "cell_type": "code",
   "execution_count": 35,
   "metadata": {},
   "outputs": [
    {
     "data": {
      "text/html": [
       "<div>\n",
       "<style scoped>\n",
       "    .dataframe tbody tr th:only-of-type {\n",
       "        vertical-align: middle;\n",
       "    }\n",
       "\n",
       "    .dataframe tbody tr th {\n",
       "        vertical-align: top;\n",
       "    }\n",
       "\n",
       "    .dataframe thead th {\n",
       "        text-align: right;\n",
       "    }\n",
       "</style>\n",
       "<table border=\"1\" class=\"dataframe\">\n",
       "  <thead>\n",
       "    <tr style=\"text-align: right;\">\n",
       "      <th></th>\n",
       "      <th>OSLOCTM3</th>\n",
       "      <th>WACCM6-2deg</th>\n",
       "      <th>INCA</th>\n",
       "      <th>OSLOCTM3-emi</th>\n",
       "      <th>GFDL_nudge</th>\n",
       "      <th>GFDL-emi</th>\n",
       "    </tr>\n",
       "    <tr>\n",
       "      <th>Scenario</th>\n",
       "      <th></th>\n",
       "      <th></th>\n",
       "      <th></th>\n",
       "      <th></th>\n",
       "      <th></th>\n",
       "      <th></th>\n",
       "    </tr>\n",
       "  </thead>\n",
       "  <tbody>\n",
       "    <tr>\n",
       "      <th>10H2</th>\n",
       "      <td>1.48</td>\n",
       "      <td>0.51</td>\n",
       "      <td>0.82</td>\n",
       "      <td>2.43</td>\n",
       "      <td>4.92</td>\n",
       "      <td>27.2</td>\n",
       "    </tr>\n",
       "    <tr>\n",
       "      <th>10CH4</th>\n",
       "      <td>10.1</td>\n",
       "      <td>3.76</td>\n",
       "      <td>6.62</td>\n",
       "      <td>10.1</td>\n",
       "      <td>20.0</td>\n",
       "      <td>49.3</td>\n",
       "    </tr>\n",
       "  </tbody>\n",
       "</table>\n",
       "</div>"
      ],
      "text/plain": [
       "          OSLOCTM3  WACCM6-2deg  INCA  OSLOCTM3-emi  GFDL_nudge  GFDL-emi\n",
       "Scenario                                                                 \n",
       "10H2          1.48         0.51  0.82          2.43        4.92      27.2\n",
       "10CH4         10.1         3.76  6.62          10.1        20.0      49.3"
      ]
     },
     "execution_count": 35,
     "metadata": {},
     "output_type": "execute_result"
    }
   ],
   "source": [
    "#In OsloCTM-emi use the same RF in the methane pertubation as in OsloCTM3\n",
    "df_h2o_rf['OSLOCTM3-emi'].loc['10CH4'] = df_h2o_rf['OSLOCTM3'].loc['10CH4'] \n",
    "df_h2o_rf"
   ]
  },
  {
   "cell_type": "code",
   "execution_count": null,
   "metadata": {
    "scrolled": true
   },
   "outputs": [],
   "source": []
  },
  {
   "cell_type": "markdown",
   "metadata": {},
   "source": [
    "## 5. Aerosol RF [mW m-2]"
   ]
  },
  {
   "cell_type": "code",
   "execution_count": 36,
   "metadata": {},
   "outputs": [
    {
     "data": {
      "text/html": [
       "<div>\n",
       "<style scoped>\n",
       "    .dataframe tbody tr th:only-of-type {\n",
       "        vertical-align: middle;\n",
       "    }\n",
       "\n",
       "    .dataframe tbody tr th {\n",
       "        vertical-align: top;\n",
       "    }\n",
       "\n",
       "    .dataframe thead th {\n",
       "        text-align: right;\n",
       "    }\n",
       "</style>\n",
       "<table border=\"1\" class=\"dataframe\">\n",
       "  <thead>\n",
       "    <tr style=\"text-align: right;\">\n",
       "      <th></th>\n",
       "      <th>OSLOCTM3</th>\n",
       "      <th>GFDL-emi</th>\n",
       "      <th>GFDL_nudge</th>\n",
       "      <th>OSLOCTM3-emi</th>\n",
       "      <th>INCA</th>\n",
       "    </tr>\n",
       "    <tr>\n",
       "      <th>Scenario</th>\n",
       "      <th></th>\n",
       "      <th></th>\n",
       "      <th></th>\n",
       "      <th></th>\n",
       "      <th></th>\n",
       "    </tr>\n",
       "  </thead>\n",
       "  <tbody>\n",
       "    <tr>\n",
       "      <th>10H2</th>\n",
       "      <td>-0.28</td>\n",
       "      <td>-20.0</td>\n",
       "      <td>-0.12</td>\n",
       "      <td>-0.39</td>\n",
       "      <td>0.22</td>\n",
       "    </tr>\n",
       "    <tr>\n",
       "      <th>10CH4</th>\n",
       "      <td>-1.11</td>\n",
       "      <td>-14.4</td>\n",
       "      <td>-0.37</td>\n",
       "      <td>nan</td>\n",
       "      <td>2.62</td>\n",
       "    </tr>\n",
       "  </tbody>\n",
       "</table>\n",
       "</div>"
      ],
      "text/plain": [
       "          OSLOCTM3  GFDL-emi  GFDL_nudge  OSLOCTM3-emi  INCA\n",
       "Scenario                                                    \n",
       "10H2         -0.28     -20.0       -0.12         -0.39  0.22\n",
       "10CH4        -1.11     -14.4       -0.37           nan  2.62"
      ]
     },
     "execution_count": 36,
     "metadata": {},
     "output_type": "execute_result"
    }
   ],
   "source": [
    "file = 'aerosol_rf.txt'\n",
    "df_aerosol_rf = pd.read_csv(path+file, sep=';',index_col=0,header=0)\n",
    "df_aerosol_rf"
   ]
  },
  {
   "cell_type": "code",
   "execution_count": 37,
   "metadata": {},
   "outputs": [
    {
     "data": {
      "text/html": [
       "<div>\n",
       "<style scoped>\n",
       "    .dataframe tbody tr th:only-of-type {\n",
       "        vertical-align: middle;\n",
       "    }\n",
       "\n",
       "    .dataframe tbody tr th {\n",
       "        vertical-align: top;\n",
       "    }\n",
       "\n",
       "    .dataframe thead th {\n",
       "        text-align: right;\n",
       "    }\n",
       "</style>\n",
       "<table border=\"1\" class=\"dataframe\">\n",
       "  <thead>\n",
       "    <tr style=\"text-align: right;\">\n",
       "      <th></th>\n",
       "      <th>OSLOCTM3</th>\n",
       "      <th>GFDL-emi</th>\n",
       "      <th>GFDL_nudge</th>\n",
       "      <th>OSLOCTM3-emi</th>\n",
       "      <th>INCA</th>\n",
       "    </tr>\n",
       "    <tr>\n",
       "      <th>Scenario</th>\n",
       "      <th></th>\n",
       "      <th></th>\n",
       "      <th></th>\n",
       "      <th></th>\n",
       "      <th></th>\n",
       "    </tr>\n",
       "  </thead>\n",
       "  <tbody>\n",
       "    <tr>\n",
       "      <th>10H2</th>\n",
       "      <td>-0.28</td>\n",
       "      <td>-20.0</td>\n",
       "      <td>-0.12</td>\n",
       "      <td>-0.39</td>\n",
       "      <td>0.22</td>\n",
       "    </tr>\n",
       "    <tr>\n",
       "      <th>10CH4</th>\n",
       "      <td>-1.11</td>\n",
       "      <td>-14.4</td>\n",
       "      <td>-0.37</td>\n",
       "      <td>-1.11</td>\n",
       "      <td>2.62</td>\n",
       "    </tr>\n",
       "  </tbody>\n",
       "</table>\n",
       "</div>"
      ],
      "text/plain": [
       "          OSLOCTM3  GFDL-emi  GFDL_nudge  OSLOCTM3-emi  INCA\n",
       "Scenario                                                    \n",
       "10H2         -0.28     -20.0       -0.12         -0.39  0.22\n",
       "10CH4        -1.11     -14.4       -0.37         -1.11  2.62"
      ]
     },
     "execution_count": 37,
     "metadata": {},
     "output_type": "execute_result"
    }
   ],
   "source": [
    "#In OsloCTM-emi use the same RF in the methane pertubation as in OsloCTM3\n",
    "df_aerosol_rf['OSLOCTM3-emi'].loc['10CH4'] = df_aerosol_rf['OSLOCTM3'].loc['10CH4'] \n",
    "df_aerosol_rf"
   ]
  },
  {
   "cell_type": "markdown",
   "metadata": {},
   "source": [
    "\n",
    "# Part II: GWP calculations:"
   ]
  },
  {
   "cell_type": "markdown",
   "metadata": {},
   "source": [
    "The pulse integrated to infinity of the effects of a short lived climate forcer is equal to the change respones of its effects at steady state multiplied by the steady state lifetime of the short lived forcer(:cite:p:`Prather2002a` and :cite:p:`Prather2007a`). \n",
    "\n",
    "Prather 2002: prove that: (a) the steadystate pattern of impacts caused by specified emissions, multiplied by (b) the steady-state lifetime of the source gas for that emission pattern, is exactly equal to (c) the integral of all impacts - independent of the number and atmospheric residence times of secondary impacts. Therefore, the AGWP for hydrogen is identical whether calculating by integrating a pulse or by using the steady state changes per flux, given that the perturbation reaches steady state before 100 years. The longest-lived chemical mode here is keyed to methane, which has an e-folding lifetime of about 12 years. Our perturbed experiments are run to steate-state.\n"
   ]
  },
  {
   "cell_type": "markdown",
   "metadata": {},
   "source": [
    "### Change in H2 surface conc. caused by 1 Tg H2/yr [ppb yr Tg-1]"
   ]
  },
  {
   "cell_type": "markdown",
   "metadata": {},
   "source": [
    "This is not used for the GWP calculation. Only for the per flux table and for the feedback factor calulations."
   ]
  },
  {
   "cell_type": "code",
   "execution_count": 38,
   "metadata": {},
   "outputs": [
    {
     "data": {
      "text/plain": [
       "OSLOCTM3       6.23\n",
       "WACCM6-2deg    5.36\n",
       "INCA           7.36\n",
       "GFDL-emi       6.96\n",
       "OSLOCTM3-emi   6.48\n",
       "UKCA           7.80\n",
       "GFDL_nudge     6.98\n",
       "Name: surf_h2_per_h2_flux, dtype: float64"
      ]
     },
     "execution_count": 38,
     "metadata": {},
     "output_type": "execute_result"
    }
   ],
   "source": [
    "df_surf_h2_per_h2_flux = df_h2_surfconc.loc['deltaH2']/df_h2_flux.loc['deltaH2']\n",
    "df_surf_h2_per_h2_flux.name = 'surf_h2_per_h2_flux'\n",
    "df_surf_h2_per_h2_flux"
   ]
  },
  {
   "cell_type": "markdown",
   "metadata": {},
   "source": [
    "### Change in CH4 flux caused by 1 TgH2 /yr (includes H2 feedback) [Tg CH4/Tg H2]:"
   ]
  },
  {
   "cell_type": "markdown",
   "metadata": {},
   "source": [
    "The ch4_flux is multiplied by -1 (see above)."
   ]
  },
  {
   "cell_type": "code",
   "execution_count": 39,
   "metadata": {},
   "outputs": [
    {
     "data": {
      "text/plain": [
       "OSLOCTM3       0.31\n",
       "WACCM6-2deg    0.33\n",
       "INCA           0.29\n",
       "GFDL-emi       0.21\n",
       "OSLOCTM3-emi   0.32\n",
       "UKCA           0.38\n",
       "GFDL_nudge     0.26\n",
       "Name: ch4_flux_per_h2_flux, dtype: float64"
      ]
     },
     "execution_count": 39,
     "metadata": {},
     "output_type": "execute_result"
    }
   ],
   "source": [
    "df_ch4_flux_per_h2_flux = -1.0*df_ch4_flux.loc['deltaH2']/df_h2_flux.loc['deltaH2']\n",
    "df_ch4_flux_per_h2_flux.name = 'ch4_flux_per_h2_flux'\n",
    "df_ch4_flux_per_h2_flux"
   ]
  },
  {
   "cell_type": "markdown",
   "metadata": {},
   "source": [
    "### Change in CH4 surface conc. caused by 1 Tg/yr CH4 [ppb yr/Tg CH4]"
   ]
  },
  {
   "cell_type": "code",
   "execution_count": 40,
   "metadata": {},
   "outputs": [
    {
     "data": {
      "text/plain": [
       "OSLOCTM3       3.61\n",
       "WACCM6-2deg    3.60\n",
       "INCA           3.83\n",
       "GFDL-emi       64.4\n",
       "OSLOCTM3-emi    nan\n",
       "UKCA           3.49\n",
       "GFDL_nudge     4.39\n",
       "Name: surf_ch4_per_ch4_flux, dtype: float64"
      ]
     },
     "execution_count": 40,
     "metadata": {},
     "output_type": "execute_result"
    }
   ],
   "source": [
    "df_surf_ch4_per_ch4_flux =  df_ch4_surfconc.loc['deltaCH4']/df_ch4_flux.loc['deltaCH4']\n",
    "df_surf_ch4_per_ch4_flux.name = 'surf_ch4_per_ch4_flux'\n",
    "df_surf_ch4_per_ch4_flux"
   ]
  },
  {
   "cell_type": "markdown",
   "metadata": {},
   "source": [
    "OsloCTM3-emi set equal to OsloCTM3 concentration driven."
   ]
  },
  {
   "cell_type": "code",
   "execution_count": 41,
   "metadata": {},
   "outputs": [
    {
     "data": {
      "text/plain": [
       "OSLOCTM3       3.61\n",
       "WACCM6-2deg    3.60\n",
       "INCA           3.83\n",
       "GFDL-emi       64.4\n",
       "OSLOCTM3-emi   3.61\n",
       "UKCA           3.49\n",
       "GFDL_nudge     4.39\n",
       "Name: surf_ch4_per_ch4_flux, dtype: float64"
      ]
     },
     "execution_count": 41,
     "metadata": {},
     "output_type": "execute_result"
    }
   ],
   "source": [
    "df_surf_ch4_per_ch4_flux['OSLOCTM3-emi'] = df_surf_ch4_per_ch4_flux['OSLOCTM3']\n",
    "df_surf_ch4_per_ch4_flux"
   ]
  },
  {
   "cell_type": "markdown",
   "metadata": {},
   "source": [
    "### Change in CH4 surface concentration per emission H2 [ppb yr /Tg H2]"
   ]
  },
  {
   "cell_type": "code",
   "execution_count": 42,
   "metadata": {},
   "outputs": [],
   "source": [
    "df_surf_ch4_per_h2_flux = df_surf_ch4_per_ch4_flux*df_ch4_flux_per_h2_flux\n",
    "df_surf_ch4_per_h2_flux.name = 'surf_ch4_per_h2_flux'"
   ]
  },
  {
   "cell_type": "code",
   "execution_count": 43,
   "metadata": {},
   "outputs": [
    {
     "name": "stdout",
     "output_type": "stream",
     "text": [
      "Scenario\n",
      "CTRL       1,832\n",
      "10CH4      2,032\n",
      "deltaCH4     200\n",
      "Name: GFDL-emi, dtype: float64\n",
      "197.0\n"
     ]
    },
    {
     "data": {
      "text/plain": [
       "OSLOCTM3       1.13\n",
       "WACCM6-2deg    1.19\n",
       "INCA           1.13\n",
       "GFDL-emi       1.00\n",
       "OSLOCTM3-emi   1.15\n",
       "UKCA           1.33\n",
       "GFDL_nudge     1.14\n",
       "Name: surf_ch4_per_h2_flux, dtype: float64"
      ]
     },
     "execution_count": 43,
     "metadata": {},
     "output_type": "execute_result"
    }
   ],
   "source": [
    "#Add GFDL:\n",
    "#Increase in surface concentration CH4:\n",
    "#1808 to 2005 ppbv (REF Paolot)\n",
    "print(df_ch4_surfconc['GFDL-emi'])\n",
    "print(2005.-1808.)\n",
    "#Might be an issue with with dry or ambient. The difference is similar though: 200 vs 197.\n",
    "df_surf_ch4_per_h2_flux['GFDL-emi']= (2005.-1808.)/df_h2_flux['GFDL-emi'].loc['deltaH2']\n",
    "df_surf_ch4_per_h2_flux"
   ]
  },
  {
   "cell_type": "markdown",
   "metadata": {},
   "source": [
    "### Change in H2 flux caused by 1 TgCH4/yr [Tg H2/Tg CH4]"
   ]
  },
  {
   "cell_type": "markdown",
   "metadata": {},
   "source": [
    "We multiply by -1 (see above)"
   ]
  },
  {
   "cell_type": "code",
   "execution_count": 44,
   "metadata": {},
   "outputs": [
    {
     "data": {
      "text/plain": [
       "OSLOCTM3        0.01\n",
       "WACCM6-2deg     0.02\n",
       "INCA            0.01\n",
       "GFDL-emi       -64.3\n",
       "OSLOCTM3-emi     nan\n",
       "UKCA            0.01\n",
       "GFDL_nudge      0.01\n",
       "Name: h2_flux_per_ch4_flux, dtype: float64"
      ]
     },
     "execution_count": 44,
     "metadata": {},
     "output_type": "execute_result"
    }
   ],
   "source": [
    "df_h2_flux_per_ch4_flux = -1.0*df_h2_flux.loc['deltaCH4']/df_ch4_flux.loc['deltaCH4']\n",
    "df_h2_flux_per_ch4_flux.name = 'h2_flux_per_ch4_flux'\n",
    "df_h2_flux_per_ch4_flux"
   ]
  },
  {
   "cell_type": "code",
   "execution_count": 45,
   "metadata": {},
   "outputs": [
    {
     "data": {
      "text/plain": [
       "OSLOCTM3        0.01\n",
       "WACCM6-2deg     0.02\n",
       "INCA            0.01\n",
       "GFDL-emi       -64.3\n",
       "OSLOCTM3-emi    0.01\n",
       "UKCA            0.01\n",
       "GFDL_nudge      0.01\n",
       "Name: h2_flux_per_ch4_flux, dtype: float64"
      ]
     },
     "execution_count": 45,
     "metadata": {},
     "output_type": "execute_result"
    }
   ],
   "source": [
    "df_h2_flux_per_ch4_flux['OSLOCTM3-emi'] = df_h2_flux_per_ch4_flux['OSLOCTM3']\n",
    "df_h2_flux_per_ch4_flux"
   ]
  },
  {
   "cell_type": "markdown",
   "metadata": {},
   "source": [
    "### HYDROGEN AGWP100 CH4 [mW m-2 yr Tg-1]"
   ]
  },
  {
   "cell_type": "markdown",
   "metadata": {},
   "source": [
    "agwp_ch4 = RF per flux H2"
   ]
  },
  {
   "cell_type": "code",
   "execution_count": 46,
   "metadata": {},
   "outputs": [
    {
     "data": {
      "text/plain": [
       "OSLOCTM3       0.43\n",
       "WACCM6-2deg    0.46\n",
       "INCA           0.43\n",
       "GFDL-emi       0.39\n",
       "OSLOCTM3-emi   0.44\n",
       "UKCA           0.51\n",
       "GFDL_nudge     0.44\n",
       "Name: ch4_rf_per_h2_flux, dtype: float64"
      ]
     },
     "execution_count": 46,
     "metadata": {},
     "output_type": "execute_result"
    }
   ],
   "source": [
    "df_h2_agwp_ch4 = df_surf_ch4_per_h2_flux*spec_rf_ch4\n",
    "df_h2_agwp_ch4.name = 'h2_agwp_ch4'\n",
    "\n",
    "\n",
    "#agwp_ch4 = RF per flux H2 (For the per flux table)\n",
    "df_ch4_rf_per_h2_flux = df_surf_ch4_per_h2_flux*spec_rf_ch4\n",
    "df_ch4_rf_per_h2_flux.name = 'ch4_rf_per_h2_flux'\n",
    "\n",
    "df_ch4_rf_per_h2_flux"
   ]
  },
  {
   "cell_type": "markdown",
   "metadata": {},
   "source": [
    "### Initialize H2 GWP table"
   ]
  },
  {
   "cell_type": "code",
   "execution_count": 47,
   "metadata": {},
   "outputs": [],
   "source": [
    "antmod = len(df_h2_agwp_ch4.index)\n",
    "df_h2_gwp = pd.DataFrame(np.empty([5,antmod])*np.nan,columns=df_h2_agwp_ch4.index,\n",
    "                         index=['O3','CH4','strat H2O','O3 CH4ind','strat H2O CH4ind'])"
   ]
  },
  {
   "cell_type": "markdown",
   "metadata": {},
   "source": [
    "### Add methane GWP"
   ]
  },
  {
   "cell_type": "code",
   "execution_count": 48,
   "metadata": {},
   "outputs": [],
   "source": [
    "df_h2_gwp.loc['CH4'] = df_h2_agwp_ch4/agwp100_CO2"
   ]
  },
  {
   "cell_type": "markdown",
   "metadata": {},
   "source": [
    "### HYDROGEN AGWP100 strat H2O [mW m-2 yr Tg-1]"
   ]
  },
  {
   "cell_type": "code",
   "execution_count": 49,
   "metadata": {},
   "outputs": [],
   "source": [
    "df_h2_agwp_h2o = df_h2o_rf.loc['10H2']/df_h2_flux.loc['deltaH2']\n",
    "\n",
    "#GFDL emis, that include methane induced changes. \n",
    "df_h2_agwp_h2o['GFDL-emi'] = df_h2o_rf['GFDL-emi'].loc['10CH4']/df_h2_flux['GFDL-emi'].loc['deltaH2']\n",
    "df_h2_agwp_h2o.name = 'h2_agwp_h2o'\n"
   ]
  },
  {
   "cell_type": "code",
   "execution_count": 50,
   "metadata": {},
   "outputs": [],
   "source": [
    "#Add to the flux table\n",
    "df_h2o_rf_per_h2_flux = df_h2o_rf.loc['10H2']/df_h2_flux.loc['deltaH2']\n",
    "df_h2o_rf_per_h2_flux.name= 'h2o_rf_per_h2_flux'\n",
    "\n",
    "#For GFDL-emi, this per h2 flux include methane induced changes.\n",
    "df_h2o_rf_per_h2_flux['GFDL-emi'] = df_h2o_rf['GFDL-emi'].loc['10CH4']/df_h2_flux['GFDL-emi'].loc['deltaH2']\n",
    "\n",
    "#Strat H2O RF per methane flux \n",
    "df_h2o_rf_per_ch4_flux = df_h2o_rf.loc['10CH4']/df_ch4_flux.loc['deltaCH4']\n",
    "df_h2o_rf_per_ch4_flux.name = 'h2o_rf_per_ch4_flux'\n"
   ]
  },
  {
   "cell_type": "code",
   "execution_count": 51,
   "metadata": {},
   "outputs": [],
   "source": [
    "df_h2o_rf_per_ch4_flux['OSLOCTM3-emi'] = df_h2o_rf_per_ch4_flux['OSLOCTM3']\n",
    "#df_h2o_rf_per_ch4_flux"
   ]
  },
  {
   "cell_type": "markdown",
   "metadata": {},
   "source": [
    "### Add stratospheric H2O GWP"
   ]
  },
  {
   "cell_type": "code",
   "execution_count": 52,
   "metadata": {},
   "outputs": [],
   "source": [
    "df_h2_gwp.loc['strat H2O'] = df_h2_agwp_h2o/agwp100_CO2"
   ]
  },
  {
   "cell_type": "markdown",
   "metadata": {},
   "source": [
    "### HYDROGEN AGWP100 O3 [mW m-2 yr Tg-1]"
   ]
  },
  {
   "cell_type": "code",
   "execution_count": 53,
   "metadata": {},
   "outputs": [],
   "source": [
    "df_h2_agwp_o3 = df_ozone_rf.loc['10H2']/df_h2_flux.loc['deltaH2']\n",
    "df_h2_agwp_o3.name = 'h2_agwp_o3'\n",
    "\n",
    "#For GFDL-emi include the methane induced part.\n",
    "df_h2_agwp_o3['GFDL-emi'] = df_ozone_rf['GFDL-emi'].loc['10CH4']/df_h2_flux['GFDL-emi'].loc['deltaH2']\n"
   ]
  },
  {
   "cell_type": "code",
   "execution_count": 54,
   "metadata": {},
   "outputs": [],
   "source": [
    "#Similar, but use only the H2 Ozone RF for GFDL. To be used in the table:\n",
    "df_ozone_rf_per_h2_flux = df_ozone_rf.loc['10H2']/df_h2_flux.loc['deltaH2']\n",
    "df_ozone_rf_per_h2_flux.name= 'ozone_rf_per_h2_flux'\n",
    "\n",
    "#For GFDL-emi, this include the methane change\n",
    "df_ozone_rf_per_h2_flux['GFDL-emi'] = df_ozone_rf['GFDL-emi'].loc['10CH4']/df_h2_flux['GFDL-emi'].loc['deltaH2']"
   ]
  },
  {
   "cell_type": "code",
   "execution_count": 55,
   "metadata": {},
   "outputs": [],
   "source": [
    "#Ozone RF per methane flux (move to the methane part?)\n",
    "df_ozone_rf_per_ch4_flux = df_ozone_rf.loc['10CH4']/df_ch4_flux.loc['deltaCH4']\n",
    "df_ozone_rf_per_ch4_flux.name = 'ozone_rf_per_ch4_flux'"
   ]
  },
  {
   "cell_type": "code",
   "execution_count": 56,
   "metadata": {},
   "outputs": [
    {
     "data": {
      "text/plain": [
       "OSLOCTM3       0.82\n",
       "WACCM6-2deg    0.85\n",
       "INCA           0.47\n",
       "GFDL-emi       24.7\n",
       "OSLOCTM3-emi   0.82\n",
       "UKCA           0.47\n",
       "GFDL_nudge     0.81\n",
       "Name: ozone_rf_per_ch4_flux, dtype: float64"
      ]
     },
     "execution_count": 56,
     "metadata": {},
     "output_type": "execute_result"
    }
   ],
   "source": [
    "df_ozone_rf_per_ch4_flux['OSLOCTM3-emi'] = df_ozone_rf_per_ch4_flux['OSLOCTM3']\n",
    "df_ozone_rf_per_ch4_flux"
   ]
  },
  {
   "cell_type": "markdown",
   "metadata": {},
   "source": [
    "### Add Ozone GWP"
   ]
  },
  {
   "cell_type": "code",
   "execution_count": 57,
   "metadata": {},
   "outputs": [],
   "source": [
    "df_h2_gwp.loc['O3'] = df_h2_agwp_o3/agwp100_CO2"
   ]
  },
  {
   "cell_type": "markdown",
   "metadata": {},
   "source": [
    "### For the per flux table"
   ]
  },
  {
   "cell_type": "code",
   "execution_count": 58,
   "metadata": {},
   "outputs": [],
   "source": [
    "df_trop_du_ozone_per_ch4_flux = df_ozone_du_trop.loc['10CH4']/df_ch4_flux.loc['deltaCH4']\n",
    "df_trop_du_ozone_per_ch4_flux.name = 'trop_du_ozone_per_ch4_flux'\n",
    "\n",
    "df_strat_du_ozone_per_ch4_flux = df_ozone_du_strat.loc['10CH4']/df_ch4_flux.loc['deltaCH4']\n",
    "df_strat_du_ozone_per_ch4_flux.name = 'strat_du_ozone_per_ch4_flux'\n",
    "\n",
    "df_trop_du_ozone_per_h2_flux = df_ozone_du_trop.loc['10H2']/df_h2_flux.loc['deltaH2']\n",
    "df_trop_du_ozone_per_h2_flux.name = 'trop_du_ozone_per_h2_flux'\n",
    "\n",
    "\n",
    "#GFDL emis, that include methane induced changes. \n",
    "df_trop_du_ozone_per_h2_flux['GFDL-emi'] = df_ozone_du_trop['GFDL-emi'].loc['10CH4']/df_h2_flux['GFDL-emi'].loc['deltaH2']\n",
    "\n",
    "df_strat_du_ozone_per_h2_flux = df_ozone_du_strat.loc['10H2']/df_h2_flux.loc['deltaH2']\n",
    "df_strat_du_ozone_per_h2_flux.name = 'strat_du_ozone_per_h2_flux'\n",
    "\n",
    "#GFDL emis, that include methane induced changes. \n",
    "df_strat_du_ozone_per_h2_flux['GFDL-emi'] = df_ozone_du_strat['GFDL-emi'].loc['10CH4']/df_h2_flux['GFDL-emi'].loc['deltaH2']"
   ]
  },
  {
   "cell_type": "code",
   "execution_count": 59,
   "metadata": {},
   "outputs": [],
   "source": [
    "df_trop_du_ozone_per_ch4_flux['OSLOCTM3-emi']=df_trop_du_ozone_per_ch4_flux['OSLOCTM3']\n",
    "df_strat_du_ozone_per_ch4_flux['OSLOCTM3-emi']=df_strat_du_ozone_per_ch4_flux['OSLOCTM3']"
   ]
  },
  {
   "cell_type": "markdown",
   "metadata": {},
   "source": [
    "### HYDROGEN AGWP100 aerosol [mW m-2 yr Tg-1]"
   ]
  },
  {
   "cell_type": "code",
   "execution_count": 60,
   "metadata": {},
   "outputs": [
    {
     "data": {
      "text/plain": [
       "GFDL-emi       -0.10\n",
       "GFDL_nudge     -0.00\n",
       "INCA            0.03\n",
       "OSLOCTM3       -0.03\n",
       "OSLOCTM3-emi   -0.03\n",
       "UKCA             nan\n",
       "WACCM6-2deg      nan\n",
       "Name: h2_agwp_aerosol, dtype: float64"
      ]
     },
     "execution_count": 60,
     "metadata": {},
     "output_type": "execute_result"
    }
   ],
   "source": [
    "df_h2_agwp_aerosol = df_aerosol_rf.loc['10H2']/df_h2_flux.loc['deltaH2']\n",
    "df_h2_agwp_aerosol.name = 'h2_agwp_aerosol'\n",
    "df_h2_agwp_aerosol\n",
    "#NBNB GFDL-emi include methane induced."
   ]
  },
  {
   "cell_type": "code",
   "execution_count": 61,
   "metadata": {},
   "outputs": [],
   "source": [
    "df_h2_gwp.loc['aerosol'] = df_h2_agwp_aerosol/agwp100_CO2 "
   ]
  },
  {
   "cell_type": "code",
   "execution_count": 62,
   "metadata": {},
   "outputs": [],
   "source": [
    "#Add to the flux table\n",
    "df_aerosol_rf_per_h2_flux = df_aerosol_rf.loc['10H2']/df_h2_flux.loc['deltaH2']\n",
    "df_aerosol_rf_per_h2_flux.name= 'aerosol_rf_per_h2_flux'\n",
    "\n",
    "df_aerosol_rf_per_h2_flux['GFDL-emi']=df_aerosol_rf['GFDL-emi'].loc['10CH4']/df_h2_flux['GFDL-emi'].loc['deltaH2']\n",
    "\n",
    "\n",
    "df_aerosol_rf_per_ch4_flux = df_aerosol_rf.loc['10CH4']/df_ch4_flux.loc['deltaCH4']\n",
    "df_aerosol_rf_per_ch4_flux.name = 'aerosol_rf_per_ch4_flux'\n"
   ]
  },
  {
   "cell_type": "code",
   "execution_count": 63,
   "metadata": {},
   "outputs": [],
   "source": [
    "df_aerosol_rf_per_ch4_flux['OSLOCTM3-emi']=df_aerosol_rf_per_ch4_flux['OSLOCTM3']"
   ]
  },
  {
   "cell_type": "markdown",
   "metadata": {},
   "source": [
    "## Methane induced GWP:"
   ]
  },
  {
   "cell_type": "markdown",
   "metadata": {},
   "source": [
    "### HYDROGEN AGWP100 methane induced O3 [mW m-2 yr Tg-1]"
   ]
  },
  {
   "cell_type": "markdown",
   "metadata": {},
   "source": [
    "It does not matter here if we use surface concentration, burden or tropospheric concentration."
   ]
  },
  {
   "cell_type": "code",
   "execution_count": 64,
   "metadata": {},
   "outputs": [],
   "source": [
    "df_ch4_surfconc['OSLOCTM3-emi'].loc['deltaCH4']=df_ch4_surfconc['OSLOCTM3'].loc['deltaCH4']"
   ]
  },
  {
   "cell_type": "code",
   "execution_count": 65,
   "metadata": {},
   "outputs": [],
   "source": [
    "#Wm-2/ppbCH4*ppbCH4/TgH2yr-1 -> Wm-2/TgH2yr-1\n",
    "df_h2_agwp_ch4ind_o3 = df_ozone_rf.loc['10CH4']/df_ch4_surfconc.loc['deltaCH4']*df_surf_ch4_per_h2_flux\n",
    "df_h2_agwp_ch4ind_o3.name = 'h2_agwp_ch4ind_o3'\n",
    "df_h2_agwp_ch4ind_o3['GFDL-emi']=np.nan"
   ]
  },
  {
   "cell_type": "markdown",
   "metadata": {},
   "source": [
    "### Add methane induced O3 GWP"
   ]
  },
  {
   "cell_type": "code",
   "execution_count": 66,
   "metadata": {},
   "outputs": [
    {
     "data": {
      "text/html": [
       "<div>\n",
       "<style scoped>\n",
       "    .dataframe tbody tr th:only-of-type {\n",
       "        vertical-align: middle;\n",
       "    }\n",
       "\n",
       "    .dataframe tbody tr th {\n",
       "        vertical-align: top;\n",
       "    }\n",
       "\n",
       "    .dataframe thead th {\n",
       "        text-align: right;\n",
       "    }\n",
       "</style>\n",
       "<table border=\"1\" class=\"dataframe\">\n",
       "  <thead>\n",
       "    <tr style=\"text-align: right;\">\n",
       "      <th></th>\n",
       "      <th>OSLOCTM3</th>\n",
       "      <th>WACCM6-2deg</th>\n",
       "      <th>INCA</th>\n",
       "      <th>GFDL-emi</th>\n",
       "      <th>OSLOCTM3-emi</th>\n",
       "      <th>UKCA</th>\n",
       "      <th>GFDL_nudge</th>\n",
       "    </tr>\n",
       "  </thead>\n",
       "  <tbody>\n",
       "    <tr>\n",
       "      <th>O3</th>\n",
       "      <td>2.44</td>\n",
       "      <td>1.97</td>\n",
       "      <td>1.64</td>\n",
       "      <td>4.34</td>\n",
       "      <td>2.49</td>\n",
       "      <td>1.85</td>\n",
       "      <td>2.34</td>\n",
       "    </tr>\n",
       "    <tr>\n",
       "      <th>CH4</th>\n",
       "      <td>4.85</td>\n",
       "      <td>5.11</td>\n",
       "      <td>4.85</td>\n",
       "      <td>4.30</td>\n",
       "      <td>4.96</td>\n",
       "      <td>5.73</td>\n",
       "      <td>4.92</td>\n",
       "    </tr>\n",
       "    <tr>\n",
       "      <th>strat H2O</th>\n",
       "      <td>1.94</td>\n",
       "      <td>0.58</td>\n",
       "      <td>1.27</td>\n",
       "      <td>2.80</td>\n",
       "      <td>1.97</td>\n",
       "      <td>nan</td>\n",
       "      <td>1.80</td>\n",
       "    </tr>\n",
       "    <tr>\n",
       "      <th>O3 CH4ind</th>\n",
       "      <td>2.85</td>\n",
       "      <td>3.13</td>\n",
       "      <td>1.53</td>\n",
       "      <td>nan</td>\n",
       "      <td>2.91</td>\n",
       "      <td>2.00</td>\n",
       "      <td>2.35</td>\n",
       "    </tr>\n",
       "    <tr>\n",
       "      <th>strat H2O CH4ind</th>\n",
       "      <td>nan</td>\n",
       "      <td>nan</td>\n",
       "      <td>nan</td>\n",
       "      <td>nan</td>\n",
       "      <td>nan</td>\n",
       "      <td>nan</td>\n",
       "      <td>nan</td>\n",
       "    </tr>\n",
       "    <tr>\n",
       "      <th>aerosol</th>\n",
       "      <td>-0.37</td>\n",
       "      <td>nan</td>\n",
       "      <td>0.34</td>\n",
       "      <td>-1.14</td>\n",
       "      <td>-0.32</td>\n",
       "      <td>nan</td>\n",
       "      <td>-0.05</td>\n",
       "    </tr>\n",
       "  </tbody>\n",
       "</table>\n",
       "</div>"
      ],
      "text/plain": [
       "                  OSLOCTM3  WACCM6-2deg  INCA  GFDL-emi  OSLOCTM3-emi  UKCA  \\\n",
       "O3                    2.44         1.97  1.64      4.34          2.49  1.85   \n",
       "CH4                   4.85         5.11  4.85      4.30          4.96  5.73   \n",
       "strat H2O             1.94         0.58  1.27      2.80          1.97   nan   \n",
       "O3 CH4ind             2.85         3.13  1.53       nan          2.91  2.00   \n",
       "strat H2O CH4ind       nan          nan   nan       nan           nan   nan   \n",
       "aerosol              -0.37          nan  0.34     -1.14         -0.32   nan   \n",
       "\n",
       "                  GFDL_nudge  \n",
       "O3                      2.34  \n",
       "CH4                     4.92  \n",
       "strat H2O               1.80  \n",
       "O3 CH4ind               2.35  \n",
       "strat H2O CH4ind         nan  \n",
       "aerosol                -0.05  "
      ]
     },
     "execution_count": 66,
     "metadata": {},
     "output_type": "execute_result"
    }
   ],
   "source": [
    "df_h2_gwp.loc['O3 CH4ind'] = df_h2_agwp_ch4ind_o3/agwp100_CO2\n",
    "df_h2_gwp"
   ]
  },
  {
   "cell_type": "markdown",
   "metadata": {},
   "source": [
    "### HYDROGEN AGWP100 methane induced strat H2O [mW m-2 yr Tg-1]"
   ]
  },
  {
   "cell_type": "code",
   "execution_count": 67,
   "metadata": {},
   "outputs": [],
   "source": [
    "df_h2_agwp_ch4ind_h2o = df_h2o_rf.loc['10CH4']/df_ch4_surfconc.loc['deltaCH4']*df_surf_ch4_per_h2_flux\n",
    "df_h2_agwp_ch4ind_h2o.name = 'h2_agwp_ch4ind_h2o'\n",
    "df_h2_agwp_ch4ind_h2o['GFDL-emi']=np.nan"
   ]
  },
  {
   "cell_type": "markdown",
   "metadata": {},
   "source": [
    "### Add methane induced strat H2O GWP"
   ]
  },
  {
   "cell_type": "code",
   "execution_count": 68,
   "metadata": {},
   "outputs": [
    {
     "data": {
      "text/html": [
       "<div>\n",
       "<style scoped>\n",
       "    .dataframe tbody tr th:only-of-type {\n",
       "        vertical-align: middle;\n",
       "    }\n",
       "\n",
       "    .dataframe tbody tr th {\n",
       "        vertical-align: top;\n",
       "    }\n",
       "\n",
       "    .dataframe thead th {\n",
       "        text-align: right;\n",
       "    }\n",
       "</style>\n",
       "<table border=\"1\" class=\"dataframe\">\n",
       "  <thead>\n",
       "    <tr style=\"text-align: right;\">\n",
       "      <th></th>\n",
       "      <th>OSLOCTM3</th>\n",
       "      <th>WACCM6-2deg</th>\n",
       "      <th>INCA</th>\n",
       "      <th>GFDL-emi</th>\n",
       "      <th>OSLOCTM3-emi</th>\n",
       "      <th>UKCA</th>\n",
       "      <th>GFDL_nudge</th>\n",
       "    </tr>\n",
       "  </thead>\n",
       "  <tbody>\n",
       "    <tr>\n",
       "      <th>O3</th>\n",
       "      <td>2.44</td>\n",
       "      <td>1.97</td>\n",
       "      <td>1.64</td>\n",
       "      <td>4.34</td>\n",
       "      <td>2.49</td>\n",
       "      <td>1.85</td>\n",
       "      <td>2.34</td>\n",
       "    </tr>\n",
       "    <tr>\n",
       "      <th>CH4</th>\n",
       "      <td>4.85</td>\n",
       "      <td>5.11</td>\n",
       "      <td>4.85</td>\n",
       "      <td>4.30</td>\n",
       "      <td>4.96</td>\n",
       "      <td>5.73</td>\n",
       "      <td>4.92</td>\n",
       "    </tr>\n",
       "    <tr>\n",
       "      <th>strat H2O</th>\n",
       "      <td>1.94</td>\n",
       "      <td>0.58</td>\n",
       "      <td>1.27</td>\n",
       "      <td>2.80</td>\n",
       "      <td>1.97</td>\n",
       "      <td>nan</td>\n",
       "      <td>1.80</td>\n",
       "    </tr>\n",
       "    <tr>\n",
       "      <th>O3 CH4ind</th>\n",
       "      <td>2.85</td>\n",
       "      <td>3.13</td>\n",
       "      <td>1.53</td>\n",
       "      <td>nan</td>\n",
       "      <td>2.91</td>\n",
       "      <td>2.00</td>\n",
       "      <td>2.35</td>\n",
       "    </tr>\n",
       "    <tr>\n",
       "      <th>strat H2O CH4ind</th>\n",
       "      <td>0.70</td>\n",
       "      <td>0.28</td>\n",
       "      <td>0.46</td>\n",
       "      <td>nan</td>\n",
       "      <td>0.72</td>\n",
       "      <td>nan</td>\n",
       "      <td>1.41</td>\n",
       "    </tr>\n",
       "    <tr>\n",
       "      <th>aerosol</th>\n",
       "      <td>-0.37</td>\n",
       "      <td>nan</td>\n",
       "      <td>0.34</td>\n",
       "      <td>-1.14</td>\n",
       "      <td>-0.32</td>\n",
       "      <td>nan</td>\n",
       "      <td>-0.05</td>\n",
       "    </tr>\n",
       "  </tbody>\n",
       "</table>\n",
       "</div>"
      ],
      "text/plain": [
       "                  OSLOCTM3  WACCM6-2deg  INCA  GFDL-emi  OSLOCTM3-emi  UKCA  \\\n",
       "O3                    2.44         1.97  1.64      4.34          2.49  1.85   \n",
       "CH4                   4.85         5.11  4.85      4.30          4.96  5.73   \n",
       "strat H2O             1.94         0.58  1.27      2.80          1.97   nan   \n",
       "O3 CH4ind             2.85         3.13  1.53       nan          2.91  2.00   \n",
       "strat H2O CH4ind      0.70         0.28  0.46       nan          0.72   nan   \n",
       "aerosol              -0.37          nan  0.34     -1.14         -0.32   nan   \n",
       "\n",
       "                  GFDL_nudge  \n",
       "O3                      2.34  \n",
       "CH4                     4.92  \n",
       "strat H2O               1.80  \n",
       "O3 CH4ind               2.35  \n",
       "strat H2O CH4ind        1.41  \n",
       "aerosol                -0.05  "
      ]
     },
     "execution_count": 68,
     "metadata": {},
     "output_type": "execute_result"
    }
   ],
   "source": [
    "df_h2_gwp.loc['strat H2O CH4ind'] = df_h2_agwp_ch4ind_h2o/agwp100_CO2\n",
    "df_h2_gwp"
   ]
  },
  {
   "cell_type": "markdown",
   "metadata": {},
   "source": [
    "### HYDROGEN AGWP100 methane induced aerosols [mW m-2 yr Tg-1]"
   ]
  },
  {
   "cell_type": "code",
   "execution_count": 69,
   "metadata": {},
   "outputs": [],
   "source": [
    "df_h2_agwp_ch4ind_aerosol = df_aerosol_rf.loc['10CH4']/df_ch4_surfconc.loc['deltaCH4']*df_surf_ch4_per_h2_flux\n",
    "df_h2_agwp_ch4ind_aerosol.name = 'h2_agwp_ch4ind_aerosols'\n",
    "df_h2_agwp_ch4ind_aerosol['GFDL-emi']=np.nan"
   ]
  },
  {
   "cell_type": "markdown",
   "metadata": {},
   "source": [
    "### Hydrogen GWP including aerosols"
   ]
  },
  {
   "cell_type": "code",
   "execution_count": 70,
   "metadata": {},
   "outputs": [
    {
     "data": {
      "text/html": [
       "<div>\n",
       "<style scoped>\n",
       "    .dataframe tbody tr th:only-of-type {\n",
       "        vertical-align: middle;\n",
       "    }\n",
       "\n",
       "    .dataframe tbody tr th {\n",
       "        vertical-align: top;\n",
       "    }\n",
       "\n",
       "    .dataframe thead th {\n",
       "        text-align: right;\n",
       "    }\n",
       "</style>\n",
       "<table border=\"1\" class=\"dataframe\">\n",
       "  <thead>\n",
       "    <tr style=\"text-align: right;\">\n",
       "      <th></th>\n",
       "      <th>OSLOCTM3</th>\n",
       "      <th>WACCM6-2deg</th>\n",
       "      <th>INCA</th>\n",
       "      <th>GFDL-emi</th>\n",
       "      <th>OSLOCTM3-emi</th>\n",
       "      <th>UKCA</th>\n",
       "      <th>GFDL_nudge</th>\n",
       "    </tr>\n",
       "  </thead>\n",
       "  <tbody>\n",
       "    <tr>\n",
       "      <th>O3</th>\n",
       "      <td>2.44</td>\n",
       "      <td>1.97</td>\n",
       "      <td>1.64</td>\n",
       "      <td>4.34</td>\n",
       "      <td>2.49</td>\n",
       "      <td>1.85</td>\n",
       "      <td>2.34</td>\n",
       "    </tr>\n",
       "    <tr>\n",
       "      <th>CH4</th>\n",
       "      <td>4.85</td>\n",
       "      <td>5.11</td>\n",
       "      <td>4.85</td>\n",
       "      <td>4.30</td>\n",
       "      <td>4.96</td>\n",
       "      <td>5.73</td>\n",
       "      <td>4.92</td>\n",
       "    </tr>\n",
       "    <tr>\n",
       "      <th>strat H2O</th>\n",
       "      <td>1.94</td>\n",
       "      <td>0.58</td>\n",
       "      <td>1.27</td>\n",
       "      <td>2.80</td>\n",
       "      <td>1.97</td>\n",
       "      <td>nan</td>\n",
       "      <td>1.80</td>\n",
       "    </tr>\n",
       "    <tr>\n",
       "      <th>O3 CH4ind</th>\n",
       "      <td>2.85</td>\n",
       "      <td>3.13</td>\n",
       "      <td>1.53</td>\n",
       "      <td>nan</td>\n",
       "      <td>2.91</td>\n",
       "      <td>2.00</td>\n",
       "      <td>2.35</td>\n",
       "    </tr>\n",
       "    <tr>\n",
       "      <th>strat H2O CH4ind</th>\n",
       "      <td>0.70</td>\n",
       "      <td>0.28</td>\n",
       "      <td>0.46</td>\n",
       "      <td>nan</td>\n",
       "      <td>0.72</td>\n",
       "      <td>nan</td>\n",
       "      <td>1.41</td>\n",
       "    </tr>\n",
       "    <tr>\n",
       "      <th>aerosol</th>\n",
       "      <td>-0.37</td>\n",
       "      <td>nan</td>\n",
       "      <td>0.34</td>\n",
       "      <td>-1.14</td>\n",
       "      <td>-0.32</td>\n",
       "      <td>nan</td>\n",
       "      <td>-0.05</td>\n",
       "    </tr>\n",
       "    <tr>\n",
       "      <th>aerosol CH4ind</th>\n",
       "      <td>-0.08</td>\n",
       "      <td>nan</td>\n",
       "      <td>0.18</td>\n",
       "      <td>nan</td>\n",
       "      <td>-0.08</td>\n",
       "      <td>nan</td>\n",
       "      <td>-0.03</td>\n",
       "    </tr>\n",
       "  </tbody>\n",
       "</table>\n",
       "</div>"
      ],
      "text/plain": [
       "                  OSLOCTM3  WACCM6-2deg  INCA  GFDL-emi  OSLOCTM3-emi  UKCA  \\\n",
       "O3                    2.44         1.97  1.64      4.34          2.49  1.85   \n",
       "CH4                   4.85         5.11  4.85      4.30          4.96  5.73   \n",
       "strat H2O             1.94         0.58  1.27      2.80          1.97   nan   \n",
       "O3 CH4ind             2.85         3.13  1.53       nan          2.91  2.00   \n",
       "strat H2O CH4ind      0.70         0.28  0.46       nan          0.72   nan   \n",
       "aerosol              -0.37          nan  0.34     -1.14         -0.32   nan   \n",
       "aerosol CH4ind       -0.08          nan  0.18       nan         -0.08   nan   \n",
       "\n",
       "                  GFDL_nudge  \n",
       "O3                      2.34  \n",
       "CH4                     4.92  \n",
       "strat H2O               1.80  \n",
       "O3 CH4ind               2.35  \n",
       "strat H2O CH4ind        1.41  \n",
       "aerosol                -0.05  \n",
       "aerosol CH4ind         -0.03  "
      ]
     },
     "execution_count": 70,
     "metadata": {},
     "output_type": "execute_result"
    }
   ],
   "source": [
    "df_h2_gwp.loc['aerosol CH4ind'] = df_h2_agwp_ch4ind_aerosol/agwp100_CO2\n",
    "df_h2_gwp"
   ]
  },
  {
   "cell_type": "code",
   "execution_count": 71,
   "metadata": {},
   "outputs": [
    {
     "data": {
      "text/html": [
       "<div>\n",
       "<style scoped>\n",
       "    .dataframe tbody tr th:only-of-type {\n",
       "        vertical-align: middle;\n",
       "    }\n",
       "\n",
       "    .dataframe tbody tr th {\n",
       "        vertical-align: top;\n",
       "    }\n",
       "\n",
       "    .dataframe thead th {\n",
       "        text-align: right;\n",
       "    }\n",
       "</style>\n",
       "<table border=\"1\" class=\"dataframe\">\n",
       "  <thead>\n",
       "    <tr style=\"text-align: right;\">\n",
       "      <th></th>\n",
       "      <th>OSLOCTM3</th>\n",
       "      <th>WACCM6-2deg</th>\n",
       "      <th>INCA</th>\n",
       "      <th>GFDL-emi</th>\n",
       "      <th>OSLOCTM3-emi</th>\n",
       "      <th>UKCA</th>\n",
       "      <th>GFDL_nudge</th>\n",
       "    </tr>\n",
       "  </thead>\n",
       "  <tbody>\n",
       "    <tr>\n",
       "      <th>O3</th>\n",
       "      <td>2.44</td>\n",
       "      <td>1.97</td>\n",
       "      <td>1.64</td>\n",
       "      <td>4.34</td>\n",
       "      <td>2.49</td>\n",
       "      <td>1.85</td>\n",
       "      <td>2.34</td>\n",
       "    </tr>\n",
       "    <tr>\n",
       "      <th>CH4</th>\n",
       "      <td>4.85</td>\n",
       "      <td>5.11</td>\n",
       "      <td>4.85</td>\n",
       "      <td>4.30</td>\n",
       "      <td>4.96</td>\n",
       "      <td>5.73</td>\n",
       "      <td>4.92</td>\n",
       "    </tr>\n",
       "    <tr>\n",
       "      <th>strat H2O</th>\n",
       "      <td>1.94</td>\n",
       "      <td>0.58</td>\n",
       "      <td>1.27</td>\n",
       "      <td>2.80</td>\n",
       "      <td>1.97</td>\n",
       "      <td>nan</td>\n",
       "      <td>1.80</td>\n",
       "    </tr>\n",
       "    <tr>\n",
       "      <th>O3 CH4ind</th>\n",
       "      <td>2.85</td>\n",
       "      <td>3.13</td>\n",
       "      <td>1.53</td>\n",
       "      <td>nan</td>\n",
       "      <td>2.91</td>\n",
       "      <td>2.00</td>\n",
       "      <td>2.35</td>\n",
       "    </tr>\n",
       "    <tr>\n",
       "      <th>strat H2O CH4ind</th>\n",
       "      <td>0.70</td>\n",
       "      <td>0.28</td>\n",
       "      <td>0.46</td>\n",
       "      <td>nan</td>\n",
       "      <td>0.72</td>\n",
       "      <td>nan</td>\n",
       "      <td>1.41</td>\n",
       "    </tr>\n",
       "  </tbody>\n",
       "</table>\n",
       "</div>"
      ],
      "text/plain": [
       "                  OSLOCTM3  WACCM6-2deg  INCA  GFDL-emi  OSLOCTM3-emi  UKCA  \\\n",
       "O3                    2.44         1.97  1.64      4.34          2.49  1.85   \n",
       "CH4                   4.85         5.11  4.85      4.30          4.96  5.73   \n",
       "strat H2O             1.94         0.58  1.27      2.80          1.97   nan   \n",
       "O3 CH4ind             2.85         3.13  1.53       nan          2.91  2.00   \n",
       "strat H2O CH4ind      0.70         0.28  0.46       nan          0.72   nan   \n",
       "\n",
       "                  GFDL_nudge  \n",
       "O3                      2.34  \n",
       "CH4                     4.92  \n",
       "strat H2O               1.80  \n",
       "O3 CH4ind               2.35  \n",
       "strat H2O CH4ind        1.41  "
      ]
     },
     "execution_count": 71,
     "metadata": {},
     "output_type": "execute_result"
    }
   ],
   "source": [
    "#Not include the aerosol GWP in the main table. Drop them here\n",
    "df_h2_gwp = df_h2_gwp.drop(['aerosol','aerosol CH4ind'])\n",
    "df_h2_gwp"
   ]
  },
  {
   "cell_type": "markdown",
   "metadata": {},
   "source": [
    "# Methane GWP"
   ]
  },
  {
   "cell_type": "markdown",
   "metadata": {},
   "source": [
    "Initialize CH4 GWP"
   ]
  },
  {
   "cell_type": "code",
   "execution_count": 72,
   "metadata": {},
   "outputs": [],
   "source": [
    "antmod = len(df_h2_agwp_ch4.index)\n",
    "df_ch4_gwp = pd.DataFrame(np.empty([4,antmod])*np.nan,columns=df_h2_agwp_ch4.index,\n",
    "                         index=['O3','CH4','strat H2O','H2'])\n",
    "#df_ch4_gwp"
   ]
  },
  {
   "cell_type": "markdown",
   "metadata": {},
   "source": [
    "### Methane AGWP100 O3 [mW m-2 yr Tg-1]"
   ]
  },
  {
   "cell_type": "code",
   "execution_count": 73,
   "metadata": {},
   "outputs": [
    {
     "data": {
      "text/plain": [
       "OSLOCTM3       0.82\n",
       "WACCM6-2deg    0.85\n",
       "INCA           0.47\n",
       "GFDL-emi        nan\n",
       "OSLOCTM3-emi   0.82\n",
       "UKCA           0.47\n",
       "GFDL_nudge     0.81\n",
       "Name: ch4_agwp_o3, dtype: float64"
      ]
     },
     "execution_count": 73,
     "metadata": {},
     "output_type": "execute_result"
    }
   ],
   "source": [
    "df_ch4_agwp_o3 = df_ozone_rf.loc['10CH4']/df_ch4_surfconc.loc['deltaCH4']*df_surf_ch4_per_ch4_flux\n",
    "df_ch4_agwp_o3.name = 'ch4_agwp_o3'\n",
    "df_ch4_agwp_o3['GFDL-emi']=np.nan\n",
    "df_ch4_agwp_o3"
   ]
  },
  {
   "cell_type": "code",
   "execution_count": 74,
   "metadata": {},
   "outputs": [],
   "source": [
    "test = df_ozone_rf.loc['10CH4']/df_ch4_surfconc.loc['deltaCH4']*df_surf_ch4_per_ch4_flux\n",
    "#test"
   ]
  },
  {
   "cell_type": "code",
   "execution_count": 75,
   "metadata": {},
   "outputs": [],
   "source": [
    "test2 = df_ozone_rf.loc['10CH4']/df_ch4_flux.loc['deltaCH4']\n",
    "#test2 is equal test"
   ]
  },
  {
   "cell_type": "markdown",
   "metadata": {},
   "source": [
    "### Add ozone GWP"
   ]
  },
  {
   "cell_type": "code",
   "execution_count": 76,
   "metadata": {},
   "outputs": [],
   "source": [
    "df_ch4_gwp.loc['O3'] =df_ch4_agwp_o3/agwp100_CO2 "
   ]
  },
  {
   "cell_type": "markdown",
   "metadata": {},
   "source": [
    "### Methane AGWP100 Methane [mW m-2 yr Tg-1]"
   ]
  },
  {
   "cell_type": "code",
   "execution_count": 77,
   "metadata": {
    "scrolled": true
   },
   "outputs": [],
   "source": [
    "df_ch4_agwp =df_surf_ch4_per_ch4_flux*spec_rf_ch4\n",
    "df_ch4_agwp.name = 'ch4_agwp'\n",
    "df_ch4_agwp['GFDL-emi']=np.nan"
   ]
  },
  {
   "cell_type": "markdown",
   "metadata": {},
   "source": [
    "### Add methane GWP"
   ]
  },
  {
   "cell_type": "code",
   "execution_count": 78,
   "metadata": {},
   "outputs": [],
   "source": [
    "#Add Methane GWP:\n",
    "df_ch4_gwp.loc['CH4'] =df_ch4_agwp/agwp100_CO2 "
   ]
  },
  {
   "cell_type": "markdown",
   "metadata": {},
   "source": [
    "### Methane AGWP100 strat H2O [mW m-2 yr Tg-1]"
   ]
  },
  {
   "cell_type": "code",
   "execution_count": 79,
   "metadata": {},
   "outputs": [],
   "source": [
    "df_ch4_agwp_h2o = df_h2o_rf.loc['10CH4']/df_ch4_surfconc.loc['deltaCH4']*df_surf_ch4_per_ch4_flux\n",
    "df_ch4_agwp_h2o.name = 'ch4_agwp_h2o'\n",
    "df_ch4_agwp_h2o['GFDL-emi']=np.nan"
   ]
  },
  {
   "cell_type": "markdown",
   "metadata": {},
   "source": [
    "### Add Strat H2O GWP:"
   ]
  },
  {
   "cell_type": "code",
   "execution_count": 80,
   "metadata": {},
   "outputs": [],
   "source": [
    "df_ch4_gwp.loc['strat H2O'] = df_ch4_agwp_h2o/agwp100_CO2"
   ]
  },
  {
   "cell_type": "markdown",
   "metadata": {},
   "source": [
    "### Methane AGWP100 aerosols [mW m-2 yr Tg-1]"
   ]
  },
  {
   "cell_type": "code",
   "execution_count": 81,
   "metadata": {},
   "outputs": [],
   "source": [
    "df_ch4_agwp_aerosol = df_aerosol_rf.loc['10CH4']/df_ch4_flux.loc['deltaCH4']\n",
    "df_ch4_agwp_aerosol.name = 'ch4_agwp_aerosol'\n",
    "df_ch4_agwp_aerosol['GFDL-emi']=np.nan"
   ]
  },
  {
   "cell_type": "markdown",
   "metadata": {},
   "source": [
    "### Add Aerosol GWP"
   ]
  },
  {
   "cell_type": "code",
   "execution_count": 82,
   "metadata": {},
   "outputs": [
    {
     "data": {
      "text/html": [
       "<div>\n",
       "<style scoped>\n",
       "    .dataframe tbody tr th:only-of-type {\n",
       "        vertical-align: middle;\n",
       "    }\n",
       "\n",
       "    .dataframe tbody tr th {\n",
       "        vertical-align: top;\n",
       "    }\n",
       "\n",
       "    .dataframe thead th {\n",
       "        text-align: right;\n",
       "    }\n",
       "</style>\n",
       "<table border=\"1\" class=\"dataframe\">\n",
       "  <thead>\n",
       "    <tr style=\"text-align: right;\">\n",
       "      <th></th>\n",
       "      <th>OSLOCTM3</th>\n",
       "      <th>WACCM6-2deg</th>\n",
       "      <th>INCA</th>\n",
       "      <th>GFDL-emi</th>\n",
       "      <th>OSLOCTM3-emi</th>\n",
       "      <th>UKCA</th>\n",
       "      <th>GFDL_nudge</th>\n",
       "    </tr>\n",
       "  </thead>\n",
       "  <tbody>\n",
       "    <tr>\n",
       "      <th>O3</th>\n",
       "      <td>9.12</td>\n",
       "      <td>9.48</td>\n",
       "      <td>5.21</td>\n",
       "      <td>nan</td>\n",
       "      <td>9.12</td>\n",
       "      <td>5.23</td>\n",
       "      <td>9.02</td>\n",
       "    </tr>\n",
       "    <tr>\n",
       "      <th>CH4</th>\n",
       "      <td>15.5</td>\n",
       "      <td>15.5</td>\n",
       "      <td>16.5</td>\n",
       "      <td>nan</td>\n",
       "      <td>15.5</td>\n",
       "      <td>15.0</td>\n",
       "      <td>18.9</td>\n",
       "    </tr>\n",
       "    <tr>\n",
       "      <th>strat H2O</th>\n",
       "      <td>2.25</td>\n",
       "      <td>0.84</td>\n",
       "      <td>1.57</td>\n",
       "      <td>nan</td>\n",
       "      <td>2.25</td>\n",
       "      <td>nan</td>\n",
       "      <td>5.40</td>\n",
       "    </tr>\n",
       "    <tr>\n",
       "      <th>H2</th>\n",
       "      <td>nan</td>\n",
       "      <td>nan</td>\n",
       "      <td>nan</td>\n",
       "      <td>nan</td>\n",
       "      <td>nan</td>\n",
       "      <td>nan</td>\n",
       "      <td>nan</td>\n",
       "    </tr>\n",
       "    <tr>\n",
       "      <th>aerosol</th>\n",
       "      <td>-0.25</td>\n",
       "      <td>nan</td>\n",
       "      <td>0.62</td>\n",
       "      <td>nan</td>\n",
       "      <td>-0.25</td>\n",
       "      <td>nan</td>\n",
       "      <td>-0.10</td>\n",
       "    </tr>\n",
       "  </tbody>\n",
       "</table>\n",
       "</div>"
      ],
      "text/plain": [
       "           OSLOCTM3  WACCM6-2deg  INCA  GFDL-emi  OSLOCTM3-emi  UKCA  \\\n",
       "O3             9.12         9.48  5.21       nan          9.12  5.23   \n",
       "CH4            15.5         15.5  16.5       nan          15.5  15.0   \n",
       "strat H2O      2.25         0.84  1.57       nan          2.25   nan   \n",
       "H2              nan          nan   nan       nan           nan   nan   \n",
       "aerosol       -0.25          nan  0.62       nan         -0.25   nan   \n",
       "\n",
       "           GFDL_nudge  \n",
       "O3               9.02  \n",
       "CH4              18.9  \n",
       "strat H2O        5.40  \n",
       "H2                nan  \n",
       "aerosol         -0.10  "
      ]
     },
     "execution_count": 82,
     "metadata": {},
     "output_type": "execute_result"
    }
   ],
   "source": [
    "df_ch4_gwp.loc['aerosol'] = df_ch4_agwp_aerosol/agwp100_CO2\n",
    "df_ch4_gwp"
   ]
  },
  {
   "cell_type": "code",
   "execution_count": 83,
   "metadata": {},
   "outputs": [
    {
     "data": {
      "text/html": [
       "<div>\n",
       "<style scoped>\n",
       "    .dataframe tbody tr th:only-of-type {\n",
       "        vertical-align: middle;\n",
       "    }\n",
       "\n",
       "    .dataframe tbody tr th {\n",
       "        vertical-align: top;\n",
       "    }\n",
       "\n",
       "    .dataframe thead th {\n",
       "        text-align: right;\n",
       "    }\n",
       "</style>\n",
       "<table border=\"1\" class=\"dataframe\">\n",
       "  <thead>\n",
       "    <tr style=\"text-align: right;\">\n",
       "      <th></th>\n",
       "      <th>OSLOCTM3</th>\n",
       "      <th>WACCM6-2deg</th>\n",
       "      <th>INCA</th>\n",
       "      <th>GFDL-emi</th>\n",
       "      <th>OSLOCTM3-emi</th>\n",
       "      <th>UKCA</th>\n",
       "      <th>GFDL_nudge</th>\n",
       "    </tr>\n",
       "  </thead>\n",
       "  <tbody>\n",
       "    <tr>\n",
       "      <th>O3</th>\n",
       "      <td>9.12</td>\n",
       "      <td>9.48</td>\n",
       "      <td>5.21</td>\n",
       "      <td>nan</td>\n",
       "      <td>9.12</td>\n",
       "      <td>5.23</td>\n",
       "      <td>9.02</td>\n",
       "    </tr>\n",
       "    <tr>\n",
       "      <th>CH4</th>\n",
       "      <td>15.5</td>\n",
       "      <td>15.5</td>\n",
       "      <td>16.5</td>\n",
       "      <td>nan</td>\n",
       "      <td>15.5</td>\n",
       "      <td>15.0</td>\n",
       "      <td>18.9</td>\n",
       "    </tr>\n",
       "    <tr>\n",
       "      <th>strat H2O</th>\n",
       "      <td>2.25</td>\n",
       "      <td>0.84</td>\n",
       "      <td>1.57</td>\n",
       "      <td>nan</td>\n",
       "      <td>2.25</td>\n",
       "      <td>nan</td>\n",
       "      <td>5.40</td>\n",
       "    </tr>\n",
       "    <tr>\n",
       "      <th>H2</th>\n",
       "      <td>nan</td>\n",
       "      <td>nan</td>\n",
       "      <td>nan</td>\n",
       "      <td>nan</td>\n",
       "      <td>nan</td>\n",
       "      <td>nan</td>\n",
       "      <td>nan</td>\n",
       "    </tr>\n",
       "  </tbody>\n",
       "</table>\n",
       "</div>"
      ],
      "text/plain": [
       "           OSLOCTM3  WACCM6-2deg  INCA  GFDL-emi  OSLOCTM3-emi  UKCA  \\\n",
       "O3             9.12         9.48  5.21       nan          9.12  5.23   \n",
       "CH4            15.5         15.5  16.5       nan          15.5  15.0   \n",
       "strat H2O      2.25         0.84  1.57       nan          2.25   nan   \n",
       "H2              nan          nan   nan       nan           nan   nan   \n",
       "\n",
       "           GFDL_nudge  \n",
       "O3               9.02  \n",
       "CH4              18.9  \n",
       "strat H2O        5.40  \n",
       "H2                nan  "
      ]
     },
     "execution_count": 83,
     "metadata": {},
     "output_type": "execute_result"
    }
   ],
   "source": [
    "#And drop the aerosol GWP in the main table:\n",
    "df_ch4_gwp = df_ch4_gwp.drop(['aerosol'])\n",
    "df_ch4_gwp"
   ]
  },
  {
   "cell_type": "markdown",
   "metadata": {},
   "source": [
    "### Add GWP via H2"
   ]
  },
  {
   "cell_type": "code",
   "execution_count": 84,
   "metadata": {
    "scrolled": true
   },
   "outputs": [],
   "source": [
    "df_ch4_gwp.loc['H2'] = df_h2_flux_per_ch4_flux*df_h2_gwp.sum()\n",
    "df_ch4_gwp['GFDL-emi'].loc['H2']=np.nan"
   ]
  },
  {
   "cell_type": "markdown",
   "metadata": {},
   "source": [
    "# Part III: Main results and tables"
   ]
  },
  {
   "cell_type": "markdown",
   "metadata": {},
   "source": [
    "## H2 GWP 100"
   ]
  },
  {
   "cell_type": "code",
   "execution_count": 85,
   "metadata": {},
   "outputs": [],
   "source": [
    "model_dict = { 'OSLOCTM3':'OsloCTM',\n",
    "               'WACCM6-2deg':'WACCM',\n",
    "               'INCA':'INCA',\n",
    "               'GFDL-emi':'GFDL-emi',\n",
    "               'GFDL_nudge':'GFDL',\n",
    "               'UKCA':'UKCA',\n",
    "               'OSLOCTM3-emi':'OsloCTM-emi'}\n",
    "\n",
    "sorted_array = ['GFDL','OsloCTM','INCA','UKCA','WACCM','GFDL-emi','OsloCTM-emi']\n",
    "sorted_array_2 = ['GFDL','OsloCTM','INCA','UKCA','WACCM','GFDL-emi','OsloCTM-emi','Model mean']"
   ]
  },
  {
   "cell_type": "code",
   "execution_count": 86,
   "metadata": {},
   "outputs": [
    {
     "name": "stderr",
     "output_type": "stream",
     "text": [
      "/home/ragnhibs/anaconda3/lib/python3.7/site-packages/ipykernel_launcher.py:3: SettingWithCopyWarning: \n",
      "A value is trying to be set on a copy of a slice from a DataFrame\n",
      "\n",
      "See the caveats in the documentation: http://pandas.pydata.org/pandas-docs/stable/indexing.html#indexing-view-versus-copy\n",
      "  This is separate from the ipykernel package so we can avoid doing imports until\n"
     ]
    },
    {
     "data": {
      "text/html": [
       "<div>\n",
       "<style scoped>\n",
       "    .dataframe tbody tr th:only-of-type {\n",
       "        vertical-align: middle;\n",
       "    }\n",
       "\n",
       "    .dataframe tbody tr th {\n",
       "        vertical-align: top;\n",
       "    }\n",
       "\n",
       "    .dataframe thead th {\n",
       "        text-align: right;\n",
       "    }\n",
       "</style>\n",
       "<table border=\"1\" class=\"dataframe\">\n",
       "  <thead>\n",
       "    <tr style=\"text-align: right;\">\n",
       "      <th></th>\n",
       "      <th>O3</th>\n",
       "      <th>CH4</th>\n",
       "      <th>strat H2O</th>\n",
       "      <th>O3 CH4ind</th>\n",
       "      <th>strat H2O CH4ind</th>\n",
       "      <th>total</th>\n",
       "    </tr>\n",
       "  </thead>\n",
       "  <tbody>\n",
       "    <tr>\n",
       "      <th>GFDL</th>\n",
       "      <td>2.34</td>\n",
       "      <td>4.92</td>\n",
       "      <td>1.80</td>\n",
       "      <td>2.35</td>\n",
       "      <td>1.41</td>\n",
       "      <td>12.8</td>\n",
       "    </tr>\n",
       "    <tr>\n",
       "      <th>OsloCTM</th>\n",
       "      <td>2.44</td>\n",
       "      <td>4.85</td>\n",
       "      <td>1.94</td>\n",
       "      <td>2.85</td>\n",
       "      <td>0.70</td>\n",
       "      <td>12.8</td>\n",
       "    </tr>\n",
       "    <tr>\n",
       "      <th>INCA</th>\n",
       "      <td>1.64</td>\n",
       "      <td>4.85</td>\n",
       "      <td>1.27</td>\n",
       "      <td>1.53</td>\n",
       "      <td>0.46</td>\n",
       "      <td>9.76</td>\n",
       "    </tr>\n",
       "    <tr>\n",
       "      <th>UKCA</th>\n",
       "      <td>1.85</td>\n",
       "      <td>5.73</td>\n",
       "      <td>nan</td>\n",
       "      <td>2.00</td>\n",
       "      <td>nan</td>\n",
       "      <td>9.59</td>\n",
       "    </tr>\n",
       "    <tr>\n",
       "      <th>WACCM</th>\n",
       "      <td>1.97</td>\n",
       "      <td>5.11</td>\n",
       "      <td>0.58</td>\n",
       "      <td>3.13</td>\n",
       "      <td>0.28</td>\n",
       "      <td>11.1</td>\n",
       "    </tr>\n",
       "    <tr>\n",
       "      <th>GFDL-emi</th>\n",
       "      <td>4.34</td>\n",
       "      <td>4.30</td>\n",
       "      <td>2.80</td>\n",
       "      <td>nan</td>\n",
       "      <td>nan</td>\n",
       "      <td>11.4</td>\n",
       "    </tr>\n",
       "    <tr>\n",
       "      <th>OsloCTM-emi</th>\n",
       "      <td>2.49</td>\n",
       "      <td>4.96</td>\n",
       "      <td>1.97</td>\n",
       "      <td>2.91</td>\n",
       "      <td>0.72</td>\n",
       "      <td>13.0</td>\n",
       "    </tr>\n",
       "  </tbody>\n",
       "</table>\n",
       "</div>"
      ],
      "text/plain": [
       "              O3  CH4  strat H2O  O3 CH4ind  strat H2O CH4ind  total\n",
       "GFDL        2.34 4.92       1.80       2.35              1.41   12.8\n",
       "OsloCTM     2.44 4.85       1.94       2.85              0.70   12.8\n",
       "INCA        1.64 4.85       1.27       1.53              0.46   9.76\n",
       "UKCA        1.85 5.73        nan       2.00               nan   9.59\n",
       "WACCM       1.97 5.11       0.58       3.13              0.28   11.1\n",
       "GFDL-emi    4.34 4.30       2.80        nan               nan   11.4\n",
       "OsloCTM-emi 2.49 4.96       1.97       2.91              0.72   13.0"
      ]
     },
     "execution_count": 86,
     "metadata": {},
     "output_type": "execute_result"
    }
   ],
   "source": [
    "df_h2_gwp = df_h2_gwp[sorted(df_h2_gwp.columns)]\n",
    "\n",
    "df_h2_gwp.loc['total']=df_h2_gwp.sum()\n",
    "\n",
    "df_h2_gwp_table = df_h2_gwp.copy()\n",
    "\n",
    "df_h2_gwp_table.rename(model_dict,axis=1,inplace=True)\n",
    "df_h2_gwp_table = df_h2_gwp_table[sorted_array]\n",
    "df_h2_gwp_table.T\n"
   ]
  },
  {
   "cell_type": "markdown",
   "metadata": {},
   "source": [
    "## CH4 GWP 100"
   ]
  },
  {
   "cell_type": "code",
   "execution_count": 87,
   "metadata": {},
   "outputs": [
    {
     "name": "stderr",
     "output_type": "stream",
     "text": [
      "/home/ragnhibs/anaconda3/lib/python3.7/site-packages/ipykernel_launcher.py:3: SettingWithCopyWarning: \n",
      "A value is trying to be set on a copy of a slice from a DataFrame\n",
      "\n",
      "See the caveats in the documentation: http://pandas.pydata.org/pandas-docs/stable/indexing.html#indexing-view-versus-copy\n",
      "  This is separate from the ipykernel package so we can avoid doing imports until\n"
     ]
    },
    {
     "data": {
      "text/html": [
       "<div>\n",
       "<style scoped>\n",
       "    .dataframe tbody tr th:only-of-type {\n",
       "        vertical-align: middle;\n",
       "    }\n",
       "\n",
       "    .dataframe tbody tr th {\n",
       "        vertical-align: top;\n",
       "    }\n",
       "\n",
       "    .dataframe thead th {\n",
       "        text-align: right;\n",
       "    }\n",
       "</style>\n",
       "<table border=\"1\" class=\"dataframe\">\n",
       "  <thead>\n",
       "    <tr style=\"text-align: right;\">\n",
       "      <th></th>\n",
       "      <th>O3</th>\n",
       "      <th>CH4</th>\n",
       "      <th>strat H2O</th>\n",
       "      <th>H2</th>\n",
       "      <th>total</th>\n",
       "    </tr>\n",
       "  </thead>\n",
       "  <tbody>\n",
       "    <tr>\n",
       "      <th>GFDL-emi</th>\n",
       "      <td>nan</td>\n",
       "      <td>nan</td>\n",
       "      <td>nan</td>\n",
       "      <td>nan</td>\n",
       "      <td>0.00</td>\n",
       "    </tr>\n",
       "    <tr>\n",
       "      <th>GFDL_nudge</th>\n",
       "      <td>9.02</td>\n",
       "      <td>18.9</td>\n",
       "      <td>5.40</td>\n",
       "      <td>0.16</td>\n",
       "      <td>33.5</td>\n",
       "    </tr>\n",
       "    <tr>\n",
       "      <th>INCA</th>\n",
       "      <td>5.21</td>\n",
       "      <td>16.5</td>\n",
       "      <td>1.57</td>\n",
       "      <td>0.10</td>\n",
       "      <td>23.4</td>\n",
       "    </tr>\n",
       "    <tr>\n",
       "      <th>OSLOCTM3</th>\n",
       "      <td>9.12</td>\n",
       "      <td>15.5</td>\n",
       "      <td>2.25</td>\n",
       "      <td>0.19</td>\n",
       "      <td>27.1</td>\n",
       "    </tr>\n",
       "    <tr>\n",
       "      <th>OSLOCTM3-emi</th>\n",
       "      <td>9.12</td>\n",
       "      <td>15.5</td>\n",
       "      <td>2.25</td>\n",
       "      <td>0.19</td>\n",
       "      <td>27.1</td>\n",
       "    </tr>\n",
       "    <tr>\n",
       "      <th>UKCA</th>\n",
       "      <td>5.23</td>\n",
       "      <td>15.0</td>\n",
       "      <td>nan</td>\n",
       "      <td>0.14</td>\n",
       "      <td>20.4</td>\n",
       "    </tr>\n",
       "    <tr>\n",
       "      <th>WACCM6-2deg</th>\n",
       "      <td>9.48</td>\n",
       "      <td>15.5</td>\n",
       "      <td>0.84</td>\n",
       "      <td>0.19</td>\n",
       "      <td>26.0</td>\n",
       "    </tr>\n",
       "  </tbody>\n",
       "</table>\n",
       "</div>"
      ],
      "text/plain": [
       "               O3  CH4  strat H2O   H2  total\n",
       "GFDL-emi      nan  nan        nan  nan   0.00\n",
       "GFDL_nudge   9.02 18.9       5.40 0.16   33.5\n",
       "INCA         5.21 16.5       1.57 0.10   23.4\n",
       "OSLOCTM3     9.12 15.5       2.25 0.19   27.1\n",
       "OSLOCTM3-emi 9.12 15.5       2.25 0.19   27.1\n",
       "UKCA         5.23 15.0        nan 0.14   20.4\n",
       "WACCM6-2deg  9.48 15.5       0.84 0.19   26.0"
      ]
     },
     "execution_count": 87,
     "metadata": {},
     "output_type": "execute_result"
    }
   ],
   "source": [
    "df_ch4_gwp = df_ch4_gwp[sorted(df_ch4_gwp.columns)]\n",
    "df_ch4_gwp.drop('GFDL-emi',axis=1).to_csv(outputpath + 'table_ch4_gwp.csv')\n",
    "df_ch4_gwp.loc['total']=df_ch4_gwp.sum()\n",
    "df_ch4_gwp.T"
   ]
  },
  {
   "cell_type": "markdown",
   "metadata": {},
   "source": [
    "## Table per flux H2"
   ]
  },
  {
   "cell_type": "code",
   "execution_count": 88,
   "metadata": {},
   "outputs": [
    {
     "data": {
      "text/html": [
       "<div>\n",
       "<style scoped>\n",
       "    .dataframe tbody tr th:only-of-type {\n",
       "        vertical-align: middle;\n",
       "    }\n",
       "\n",
       "    .dataframe tbody tr th {\n",
       "        vertical-align: top;\n",
       "    }\n",
       "\n",
       "    .dataframe thead th {\n",
       "        text-align: right;\n",
       "    }\n",
       "</style>\n",
       "<table border=\"1\" class=\"dataframe\">\n",
       "  <thead>\n",
       "    <tr style=\"text-align: right;\">\n",
       "      <th></th>\n",
       "      <th>Flux H2 [Tg/yr]</th>\n",
       "      <th>Surf. conc. H2 per flux [ppb yr/Tg]</th>\n",
       "      <th>Surf. conc. CH4 per flux [ppb yr/Tg]</th>\n",
       "      <th>Flux CH4/Flux H2 [Tg CH4/Tg H2]</th>\n",
       "      <th>CH4 RF per flux [mW m-2 yr/ Tg]</th>\n",
       "      <th>Trop. ozone per flux [10$^{-3}$ DU yr/Tg]</th>\n",
       "      <th>Strat. ozone per flux [10$^{-3}$ DU yr/Tg]</th>\n",
       "      <th>ozone RF per flux [mW m-2 yr/ Tg]</th>\n",
       "      <th>Strat. H2O RF per flux [mW m-2 yr/ Tg]</th>\n",
       "      <th>Aerosol RF per flux [mW m-2 yr/ Tg]</th>\n",
       "    </tr>\n",
       "  </thead>\n",
       "  <tbody>\n",
       "    <tr>\n",
       "      <th>GFDL</th>\n",
       "      <td>30.5</td>\n",
       "      <td>6.98</td>\n",
       "      <td>1.14</td>\n",
       "      <td>0.26</td>\n",
       "      <td>0.44</td>\n",
       "      <td>4.09</td>\n",
       "      <td>-2.42</td>\n",
       "      <td>0.21</td>\n",
       "      <td>0.16</td>\n",
       "      <td>-0.00</td>\n",
       "    </tr>\n",
       "    <tr>\n",
       "      <th>OsloCTM</th>\n",
       "      <td>8.54</td>\n",
       "      <td>6.23</td>\n",
       "      <td>1.13</td>\n",
       "      <td>0.31</td>\n",
       "      <td>0.43</td>\n",
       "      <td>4.48</td>\n",
       "      <td>0.77</td>\n",
       "      <td>0.22</td>\n",
       "      <td>0.17</td>\n",
       "      <td>-0.03</td>\n",
       "    </tr>\n",
       "    <tr>\n",
       "      <th>INCA</th>\n",
       "      <td>7.23</td>\n",
       "      <td>7.36</td>\n",
       "      <td>1.13</td>\n",
       "      <td>0.29</td>\n",
       "      <td>0.43</td>\n",
       "      <td>3.93</td>\n",
       "      <td>-5.56</td>\n",
       "      <td>0.15</td>\n",
       "      <td>0.11</td>\n",
       "      <td>0.03</td>\n",
       "    </tr>\n",
       "    <tr>\n",
       "      <th>UKCA</th>\n",
       "      <td>6.87</td>\n",
       "      <td>7.80</td>\n",
       "      <td>1.33</td>\n",
       "      <td>0.38</td>\n",
       "      <td>0.51</td>\n",
       "      <td>4.63</td>\n",
       "      <td>nan</td>\n",
       "      <td>0.17</td>\n",
       "      <td>nan</td>\n",
       "      <td>nan</td>\n",
       "    </tr>\n",
       "    <tr>\n",
       "      <th>WACCM</th>\n",
       "      <td>9.93</td>\n",
       "      <td>5.36</td>\n",
       "      <td>1.19</td>\n",
       "      <td>0.33</td>\n",
       "      <td>0.46</td>\n",
       "      <td>3.31</td>\n",
       "      <td>-1.10</td>\n",
       "      <td>0.18</td>\n",
       "      <td>0.05</td>\n",
       "      <td>nan</td>\n",
       "    </tr>\n",
       "    <tr>\n",
       "      <th>OsloCTM-emi</th>\n",
       "      <td>13.8</td>\n",
       "      <td>6.48</td>\n",
       "      <td>1.15</td>\n",
       "      <td>0.32</td>\n",
       "      <td>0.44</td>\n",
       "      <td>4.61</td>\n",
       "      <td>0.75</td>\n",
       "      <td>0.22</td>\n",
       "      <td>0.18</td>\n",
       "      <td>-0.03</td>\n",
       "    </tr>\n",
       "    <tr>\n",
       "      <th>Model mean</th>\n",
       "      <td>nan</td>\n",
       "      <td>6.74</td>\n",
       "      <td>1.18</td>\n",
       "      <td>0.32</td>\n",
       "      <td>0.46</td>\n",
       "      <td>4.09</td>\n",
       "      <td>-2.08</td>\n",
       "      <td>0.18</td>\n",
       "      <td>0.13</td>\n",
       "      <td>-0.00</td>\n",
       "    </tr>\n",
       "  </tbody>\n",
       "</table>\n",
       "</div>"
      ],
      "text/plain": [
       "             Flux H2 [Tg/yr]  Surf. conc. H2 per flux [ppb yr/Tg]  \\\n",
       "GFDL                    30.5                                 6.98   \n",
       "OsloCTM                 8.54                                 6.23   \n",
       "INCA                    7.23                                 7.36   \n",
       "UKCA                    6.87                                 7.80   \n",
       "WACCM                   9.93                                 5.36   \n",
       "OsloCTM-emi             13.8                                 6.48   \n",
       "Model mean               nan                                 6.74   \n",
       "\n",
       "             Surf. conc. CH4 per flux [ppb yr/Tg]  \\\n",
       "GFDL                                         1.14   \n",
       "OsloCTM                                      1.13   \n",
       "INCA                                         1.13   \n",
       "UKCA                                         1.33   \n",
       "WACCM                                        1.19   \n",
       "OsloCTM-emi                                  1.15   \n",
       "Model mean                                   1.18   \n",
       "\n",
       "             Flux CH4/Flux H2 [Tg CH4/Tg H2]  CH4 RF per flux [mW m-2 yr/ Tg]  \\\n",
       "GFDL                                    0.26                             0.44   \n",
       "OsloCTM                                 0.31                             0.43   \n",
       "INCA                                    0.29                             0.43   \n",
       "UKCA                                    0.38                             0.51   \n",
       "WACCM                                   0.33                             0.46   \n",
       "OsloCTM-emi                             0.32                             0.44   \n",
       "Model mean                              0.32                             0.46   \n",
       "\n",
       "             Trop. ozone per flux [10$^{-3}$ DU yr/Tg]  \\\n",
       "GFDL                                              4.09   \n",
       "OsloCTM                                           4.48   \n",
       "INCA                                              3.93   \n",
       "UKCA                                              4.63   \n",
       "WACCM                                             3.31   \n",
       "OsloCTM-emi                                       4.61   \n",
       "Model mean                                        4.09   \n",
       "\n",
       "             Strat. ozone per flux [10$^{-3}$ DU yr/Tg]  \\\n",
       "GFDL                                              -2.42   \n",
       "OsloCTM                                            0.77   \n",
       "INCA                                              -5.56   \n",
       "UKCA                                                nan   \n",
       "WACCM                                             -1.10   \n",
       "OsloCTM-emi                                        0.75   \n",
       "Model mean                                        -2.08   \n",
       "\n",
       "             ozone RF per flux [mW m-2 yr/ Tg]  \\\n",
       "GFDL                                      0.21   \n",
       "OsloCTM                                   0.22   \n",
       "INCA                                      0.15   \n",
       "UKCA                                      0.17   \n",
       "WACCM                                     0.18   \n",
       "OsloCTM-emi                               0.22   \n",
       "Model mean                                0.18   \n",
       "\n",
       "             Strat. H2O RF per flux [mW m-2 yr/ Tg]  \\\n",
       "GFDL                                           0.16   \n",
       "OsloCTM                                        0.17   \n",
       "INCA                                           0.11   \n",
       "UKCA                                            nan   \n",
       "WACCM                                          0.05   \n",
       "OsloCTM-emi                                    0.18   \n",
       "Model mean                                     0.13   \n",
       "\n",
       "             Aerosol RF per flux [mW m-2 yr/ Tg]  \n",
       "GFDL                                       -0.00  \n",
       "OsloCTM                                    -0.03  \n",
       "INCA                                        0.03  \n",
       "UKCA                                         nan  \n",
       "WACCM                                        nan  \n",
       "OsloCTM-emi                                -0.03  \n",
       "Model mean                                 -0.00  "
      ]
     },
     "execution_count": 88,
     "metadata": {},
     "output_type": "execute_result"
    }
   ],
   "source": [
    "df_per_flux_h2 = pd.concat([df_h2_flux.loc['deltaH2'],\n",
    "                            df_surf_h2_per_h2_flux,\n",
    "                            df_surf_ch4_per_h2_flux,\n",
    "                            df_ch4_flux_per_h2_flux,\n",
    "                            df_ch4_rf_per_h2_flux,\n",
    "                            df_trop_du_ozone_per_h2_flux*1000.,\n",
    "                            df_strat_du_ozone_per_h2_flux*1000.,\n",
    "                            df_ozone_rf_per_h2_flux,\n",
    "                            df_h2o_rf_per_h2_flux,\n",
    "                            df_aerosol_rf_per_h2_flux],axis=1, sort=False)\n",
    "\n",
    "#NB in this the methane induced changes for GFDL-emi is included.\n",
    "\n",
    "#Save to file:\n",
    "df_per_flux_h2 = df_per_flux_h2.sort_index()\n",
    "df_per_flux_h2.to_csv(outputpath + 'table_per_flux_h2.csv')\n",
    "\n",
    "#Rename the columns:\n",
    "columns_names={'deltaH2':'Flux H2 [Tg/yr]',\n",
    "               'surf_h2_per_h2_flux': 'Surf. conc. H2 per flux [ppb yr/Tg]',\n",
    "               'surf_ch4_per_h2_flux':'Surf. conc. CH4 per flux [ppb yr/Tg]',\n",
    "               'ch4_flux_per_h2_flux':'Flux CH4/Flux H2 [Tg CH4/Tg H2]',\n",
    "               'ch4_rf_per_h2_flux':'CH4 RF per flux [mW m-2 yr/ Tg]',\n",
    "               'trop_du_ozone_per_h2_flux':'Trop. ozone per flux [10$^{-3}$ DU yr/Tg]',\n",
    "               'strat_du_ozone_per_h2_flux':'Strat. ozone per flux [10$^{-3}$ DU yr/Tg]',\n",
    "               'ozone_rf_per_h2_flux':'ozone RF per flux [mW m-2 yr/ Tg]',\n",
    "               'h2o_rf_per_h2_flux':'Strat. H2O RF per flux [mW m-2 yr/ Tg]',\n",
    "               'aerosol_rf_per_h2_flux':'Aerosol RF per flux [mW m-2 yr/ Tg]'}\n",
    "#Rename column names:\n",
    "df_per_flux_h2.rename(columns=dict(columns_names),inplace=True) #[df_per_flux_h2.columns])\n",
    "df_per_flux_h2.rename(model_dict,axis=0,inplace=True)\n",
    "df_per_flux_h2.loc['Model mean'] = df_per_flux_h2.drop(['GFDL-emi','OsloCTM-emi']).mean()\n",
    "df_per_flux_h2['Flux H2 [Tg/yr]'].loc['Model mean']=np.nan\n",
    "df_per_flux_h2=df_per_flux_h2.reindex(sorted_array_2)\n",
    "df_per_flux_h2.drop('GFDL-emi')"
   ]
  },
  {
   "cell_type": "code",
   "execution_count": null,
   "metadata": {},
   "outputs": [],
   "source": []
  },
  {
   "cell_type": "markdown",
   "metadata": {},
   "source": [
    "## Table per flux CH4"
   ]
  },
  {
   "cell_type": "code",
   "execution_count": 89,
   "metadata": {
    "scrolled": true
   },
   "outputs": [
    {
     "data": {
      "text/html": [
       "<div>\n",
       "<style scoped>\n",
       "    .dataframe tbody tr th:only-of-type {\n",
       "        vertical-align: middle;\n",
       "    }\n",
       "\n",
       "    .dataframe tbody tr th {\n",
       "        vertical-align: top;\n",
       "    }\n",
       "\n",
       "    .dataframe thead th {\n",
       "        text-align: right;\n",
       "    }\n",
       "</style>\n",
       "<table border=\"1\" class=\"dataframe\">\n",
       "  <thead>\n",
       "    <tr style=\"text-align: right;\">\n",
       "      <th></th>\n",
       "      <th>Flux CH4 [Tg/yr]</th>\n",
       "      <th>Surf. conc. CH4 per flux [ppb yr/Tg]</th>\n",
       "      <th>Flux H2/Flux CH4 [Tg H2/Tg CH4]</th>\n",
       "      <th>Trop. ozone per flux [10$^{-3}$ DU yr/Tg]</th>\n",
       "      <th>Strat. ozone per flux [10$^{-3}$ DU yr/Tg]</th>\n",
       "      <th>ozone RF per flux [mW m-2 yr/ Tg]</th>\n",
       "      <th>Strat H2O RF per flux [mW m-2 yr/ Tg]</th>\n",
       "      <th>Aerosol RF per flux [mW m-2 yr/ Tg]</th>\n",
       "    </tr>\n",
       "  </thead>\n",
       "  <tbody>\n",
       "    <tr>\n",
       "      <th>GFDL</th>\n",
       "      <td>41.4</td>\n",
       "      <td>4.39</td>\n",
       "      <td>0.01</td>\n",
       "      <td>16.0</td>\n",
       "      <td>18.8</td>\n",
       "      <td>0.81</td>\n",
       "      <td>0.48</td>\n",
       "      <td>-0.01</td>\n",
       "    </tr>\n",
       "    <tr>\n",
       "      <th>OsloCTM</th>\n",
       "      <td>50.3</td>\n",
       "      <td>3.61</td>\n",
       "      <td>0.01</td>\n",
       "      <td>16.5</td>\n",
       "      <td>16.4</td>\n",
       "      <td>0.82</td>\n",
       "      <td>0.20</td>\n",
       "      <td>-0.02</td>\n",
       "    </tr>\n",
       "    <tr>\n",
       "      <th>INCA</th>\n",
       "      <td>47.3</td>\n",
       "      <td>3.83</td>\n",
       "      <td>0.01</td>\n",
       "      <td>11.3</td>\n",
       "      <td>5.29</td>\n",
       "      <td>0.47</td>\n",
       "      <td>0.14</td>\n",
       "      <td>0.06</td>\n",
       "    </tr>\n",
       "    <tr>\n",
       "      <th>UKCA</th>\n",
       "      <td>51.8</td>\n",
       "      <td>3.49</td>\n",
       "      <td>0.01</td>\n",
       "      <td>13.6</td>\n",
       "      <td>nan</td>\n",
       "      <td>0.47</td>\n",
       "      <td>nan</td>\n",
       "      <td>nan</td>\n",
       "    </tr>\n",
       "    <tr>\n",
       "      <th>WACCM</th>\n",
       "      <td>50.3</td>\n",
       "      <td>3.60</td>\n",
       "      <td>0.02</td>\n",
       "      <td>17.4</td>\n",
       "      <td>15.9</td>\n",
       "      <td>0.85</td>\n",
       "      <td>0.07</td>\n",
       "      <td>nan</td>\n",
       "    </tr>\n",
       "    <tr>\n",
       "      <th>OsloCTM-emi</th>\n",
       "      <td>50.3</td>\n",
       "      <td>3.61</td>\n",
       "      <td>0.01</td>\n",
       "      <td>16.5</td>\n",
       "      <td>16.4</td>\n",
       "      <td>0.82</td>\n",
       "      <td>0.20</td>\n",
       "      <td>-0.02</td>\n",
       "    </tr>\n",
       "    <tr>\n",
       "      <th>Model mean</th>\n",
       "      <td>48.2</td>\n",
       "      <td>3.78</td>\n",
       "      <td>0.01</td>\n",
       "      <td>15.0</td>\n",
       "      <td>14.1</td>\n",
       "      <td>0.68</td>\n",
       "      <td>0.22</td>\n",
       "      <td>0.01</td>\n",
       "    </tr>\n",
       "  </tbody>\n",
       "</table>\n",
       "</div>"
      ],
      "text/plain": [
       "             Flux CH4 [Tg/yr]  Surf. conc. CH4 per flux [ppb yr/Tg]  \\\n",
       "GFDL                     41.4                                  4.39   \n",
       "OsloCTM                  50.3                                  3.61   \n",
       "INCA                     47.3                                  3.83   \n",
       "UKCA                     51.8                                  3.49   \n",
       "WACCM                    50.3                                  3.60   \n",
       "OsloCTM-emi              50.3                                  3.61   \n",
       "Model mean               48.2                                  3.78   \n",
       "\n",
       "             Flux H2/Flux CH4 [Tg H2/Tg CH4]  \\\n",
       "GFDL                                    0.01   \n",
       "OsloCTM                                 0.01   \n",
       "INCA                                    0.01   \n",
       "UKCA                                    0.01   \n",
       "WACCM                                   0.02   \n",
       "OsloCTM-emi                             0.01   \n",
       "Model mean                              0.01   \n",
       "\n",
       "             Trop. ozone per flux [10$^{-3}$ DU yr/Tg]  \\\n",
       "GFDL                                              16.0   \n",
       "OsloCTM                                           16.5   \n",
       "INCA                                              11.3   \n",
       "UKCA                                              13.6   \n",
       "WACCM                                             17.4   \n",
       "OsloCTM-emi                                       16.5   \n",
       "Model mean                                        15.0   \n",
       "\n",
       "             Strat. ozone per flux [10$^{-3}$ DU yr/Tg]  \\\n",
       "GFDL                                               18.8   \n",
       "OsloCTM                                            16.4   \n",
       "INCA                                               5.29   \n",
       "UKCA                                                nan   \n",
       "WACCM                                              15.9   \n",
       "OsloCTM-emi                                        16.4   \n",
       "Model mean                                         14.1   \n",
       "\n",
       "             ozone RF per flux [mW m-2 yr/ Tg]  \\\n",
       "GFDL                                      0.81   \n",
       "OsloCTM                                   0.82   \n",
       "INCA                                      0.47   \n",
       "UKCA                                      0.47   \n",
       "WACCM                                     0.85   \n",
       "OsloCTM-emi                               0.82   \n",
       "Model mean                                0.68   \n",
       "\n",
       "             Strat H2O RF per flux [mW m-2 yr/ Tg]  \\\n",
       "GFDL                                          0.48   \n",
       "OsloCTM                                       0.20   \n",
       "INCA                                          0.14   \n",
       "UKCA                                           nan   \n",
       "WACCM                                         0.07   \n",
       "OsloCTM-emi                                   0.20   \n",
       "Model mean                                    0.22   \n",
       "\n",
       "             Aerosol RF per flux [mW m-2 yr/ Tg]  \n",
       "GFDL                                       -0.01  \n",
       "OsloCTM                                    -0.02  \n",
       "INCA                                        0.06  \n",
       "UKCA                                         nan  \n",
       "WACCM                                        nan  \n",
       "OsloCTM-emi                                -0.02  \n",
       "Model mean                                  0.01  "
      ]
     },
     "execution_count": 89,
     "metadata": {},
     "output_type": "execute_result"
    }
   ],
   "source": [
    "df_per_flux_ch4 = pd.concat([df_ch4_flux.loc['deltaCH4'],\n",
    "                            df_surf_ch4_per_ch4_flux,\n",
    "                            df_h2_flux_per_ch4_flux,\n",
    "                            df_trop_du_ozone_per_ch4_flux*1000.,\n",
    "                            df_strat_du_ozone_per_ch4_flux*1000.,\n",
    "                            df_ozone_rf_per_ch4_flux,\n",
    "                            df_h2o_rf_per_ch4_flux,\n",
    "                            df_aerosol_rf_per_ch4_flux],axis=1,sort=False)\n",
    "\n",
    "\n",
    "\n",
    "               \n",
    "#Save to file:\n",
    "df_per_flux_ch4 = df_per_flux_ch4.sort_index()\n",
    "df_per_flux_ch4.to_csv(outputpath + 'table_per_flux_ch4.csv')\n",
    "\n",
    "#Rename the columns:\n",
    "columns_names={'deltaCH4':'Flux CH4 [Tg/yr]',\n",
    "               'surf_ch4_per_ch4_flux':'Surf. conc. CH4 per flux [ppb yr/Tg]',\n",
    "               'h2_flux_per_ch4_flux':'Flux H2/Flux CH4 [Tg H2/Tg CH4]',\n",
    "               'trop_du_ozone_per_ch4_flux':'Trop. ozone per flux [10$^{-3}$ DU yr/Tg]',\n",
    "               'strat_du_ozone_per_ch4_flux':'Strat. ozone per flux [10$^{-3}$ DU yr/Tg]',\n",
    "               'ozone_rf_per_ch4_flux':'ozone RF per flux [mW m-2 yr/ Tg]',\n",
    "               'h2o_rf_per_ch4_flux':'Strat H2O RF per flux [mW m-2 yr/ Tg]',\n",
    "               'aerosol_rf_per_ch4_flux':'Aerosol RF per flux [mW m-2 yr/ Tg]'}\n",
    "               \n",
    "#Rename column names:\n",
    "\n",
    "df_per_flux_ch4.rename(columns=dict(columns_names),inplace=True) \n",
    "\n",
    "df_per_flux_ch4.rename(model_dict, inplace=True)\n",
    "\n",
    "df_per_flux_ch4.loc['Model mean'] = df_per_flux_ch4.drop(['GFDL-emi','OsloCTM-emi']).mean()\n",
    "\n",
    "df_per_flux_ch4 = df_per_flux_ch4.reindex(sorted_array_2)\n",
    "\n",
    "df_per_flux_ch4.drop('GFDL-emi')          "
   ]
  },
  {
   "cell_type": "markdown",
   "metadata": {},
   "source": [
    "## Table per flux H2 (including changes in methane)"
   ]
  },
  {
   "cell_type": "code",
   "execution_count": 90,
   "metadata": {},
   "outputs": [
    {
     "data": {
      "text/html": [
       "<div>\n",
       "<style scoped>\n",
       "    .dataframe tbody tr th:only-of-type {\n",
       "        vertical-align: middle;\n",
       "    }\n",
       "\n",
       "    .dataframe tbody tr th {\n",
       "        vertical-align: top;\n",
       "    }\n",
       "\n",
       "    .dataframe thead th {\n",
       "        text-align: right;\n",
       "    }\n",
       "</style>\n",
       "<table border=\"1\" class=\"dataframe\">\n",
       "  <thead>\n",
       "    <tr style=\"text-align: right;\">\n",
       "      <th></th>\n",
       "      <th>deltaH2</th>\n",
       "      <th>surf_h2_per_h2_flux</th>\n",
       "      <th>surf_ch4_per_h2_flux</th>\n",
       "      <th>ch4_flux_per_h2_flux</th>\n",
       "      <th>ch4_rf_per_h2_flux</th>\n",
       "      <th>trop_du_ozone_per_h2_flux</th>\n",
       "      <th>strat_du_ozone_per_h2_flux</th>\n",
       "      <th>ozone_rf_per_h2_flux</th>\n",
       "      <th>h2o_rf_per_h2_flux</th>\n",
       "      <th>aerosol_rf_per_h2_flux</th>\n",
       "    </tr>\n",
       "  </thead>\n",
       "  <tbody>\n",
       "    <tr>\n",
       "      <th>GFDL-emi</th>\n",
       "      <td>197</td>\n",
       "      <td>6.96</td>\n",
       "      <td>1.00</td>\n",
       "      <td>0.21</td>\n",
       "      <td>0.39</td>\n",
       "      <td>7.97</td>\n",
       "      <td>5.23</td>\n",
       "      <td>0.39</td>\n",
       "      <td>0.25</td>\n",
       "      <td>-0.07</td>\n",
       "    </tr>\n",
       "    <tr>\n",
       "      <th>GFDL</th>\n",
       "      <td>30.5</td>\n",
       "      <td>6.98</td>\n",
       "      <td>1.14</td>\n",
       "      <td>0.26</td>\n",
       "      <td>0.44</td>\n",
       "      <td>4.09</td>\n",
       "      <td>-2.42</td>\n",
       "      <td>0.21</td>\n",
       "      <td>0.16</td>\n",
       "      <td>-0.00</td>\n",
       "    </tr>\n",
       "    <tr>\n",
       "      <th>INCA</th>\n",
       "      <td>7.23</td>\n",
       "      <td>7.36</td>\n",
       "      <td>1.13</td>\n",
       "      <td>0.29</td>\n",
       "      <td>0.43</td>\n",
       "      <td>3.93</td>\n",
       "      <td>-5.56</td>\n",
       "      <td>0.15</td>\n",
       "      <td>0.11</td>\n",
       "      <td>0.03</td>\n",
       "    </tr>\n",
       "    <tr>\n",
       "      <th>OsloCTM</th>\n",
       "      <td>8.54</td>\n",
       "      <td>6.23</td>\n",
       "      <td>1.13</td>\n",
       "      <td>0.31</td>\n",
       "      <td>0.43</td>\n",
       "      <td>4.48</td>\n",
       "      <td>0.77</td>\n",
       "      <td>0.22</td>\n",
       "      <td>0.17</td>\n",
       "      <td>-0.03</td>\n",
       "    </tr>\n",
       "    <tr>\n",
       "      <th>OsloCTM-emi</th>\n",
       "      <td>13.8</td>\n",
       "      <td>6.48</td>\n",
       "      <td>1.15</td>\n",
       "      <td>0.32</td>\n",
       "      <td>0.44</td>\n",
       "      <td>4.61</td>\n",
       "      <td>0.75</td>\n",
       "      <td>0.22</td>\n",
       "      <td>0.18</td>\n",
       "      <td>-0.03</td>\n",
       "    </tr>\n",
       "    <tr>\n",
       "      <th>UKCA</th>\n",
       "      <td>6.87</td>\n",
       "      <td>7.80</td>\n",
       "      <td>1.33</td>\n",
       "      <td>0.38</td>\n",
       "      <td>0.51</td>\n",
       "      <td>4.63</td>\n",
       "      <td>nan</td>\n",
       "      <td>0.17</td>\n",
       "      <td>nan</td>\n",
       "      <td>nan</td>\n",
       "    </tr>\n",
       "    <tr>\n",
       "      <th>WACCM</th>\n",
       "      <td>9.93</td>\n",
       "      <td>5.36</td>\n",
       "      <td>1.19</td>\n",
       "      <td>0.33</td>\n",
       "      <td>0.46</td>\n",
       "      <td>3.31</td>\n",
       "      <td>-1.10</td>\n",
       "      <td>0.18</td>\n",
       "      <td>0.05</td>\n",
       "      <td>nan</td>\n",
       "    </tr>\n",
       "  </tbody>\n",
       "</table>\n",
       "</div>"
      ],
      "text/plain": [
       "             deltaH2  surf_h2_per_h2_flux  surf_ch4_per_h2_flux  \\\n",
       "GFDL-emi         197                 6.96                  1.00   \n",
       "GFDL            30.5                 6.98                  1.14   \n",
       "INCA            7.23                 7.36                  1.13   \n",
       "OsloCTM         8.54                 6.23                  1.13   \n",
       "OsloCTM-emi     13.8                 6.48                  1.15   \n",
       "UKCA            6.87                 7.80                  1.33   \n",
       "WACCM           9.93                 5.36                  1.19   \n",
       "\n",
       "             ch4_flux_per_h2_flux  ch4_rf_per_h2_flux  \\\n",
       "GFDL-emi                     0.21                0.39   \n",
       "GFDL                         0.26                0.44   \n",
       "INCA                         0.29                0.43   \n",
       "OsloCTM                      0.31                0.43   \n",
       "OsloCTM-emi                  0.32                0.44   \n",
       "UKCA                         0.38                0.51   \n",
       "WACCM                        0.33                0.46   \n",
       "\n",
       "             trop_du_ozone_per_h2_flux  strat_du_ozone_per_h2_flux  \\\n",
       "GFDL-emi                          7.97                        5.23   \n",
       "GFDL                              4.09                       -2.42   \n",
       "INCA                              3.93                       -5.56   \n",
       "OsloCTM                           4.48                        0.77   \n",
       "OsloCTM-emi                       4.61                        0.75   \n",
       "UKCA                              4.63                         nan   \n",
       "WACCM                             3.31                       -1.10   \n",
       "\n",
       "             ozone_rf_per_h2_flux  h2o_rf_per_h2_flux  aerosol_rf_per_h2_flux  \n",
       "GFDL-emi                     0.39                0.25                   -0.07  \n",
       "GFDL                         0.21                0.16                   -0.00  \n",
       "INCA                         0.15                0.11                    0.03  \n",
       "OsloCTM                      0.22                0.17                   -0.03  \n",
       "OsloCTM-emi                  0.22                0.18                   -0.03  \n",
       "UKCA                         0.17                 nan                     nan  \n",
       "WACCM                        0.18                0.05                     nan  "
      ]
     },
     "execution_count": 90,
     "metadata": {},
     "output_type": "execute_result"
    }
   ],
   "source": [
    "#Reread - to get the other heading.\n",
    "#GFDL model alreade include methane induced changes.\n",
    "\n",
    "df_per_flux_h2_combined = pd.read_csv(outputpath + 'table_per_flux_h2.csv',index_col=0)\n",
    "df_per_flux_h2_combined.rename(columns=dict(columns_names),inplace=True) \n",
    "\n",
    "df_per_flux_h2_combined.rename(model_dict, inplace=True)\n",
    "\n",
    "df_per_flux_h2_combined"
   ]
  },
  {
   "cell_type": "code",
   "execution_count": 91,
   "metadata": {},
   "outputs": [
    {
     "data": {
      "text/html": [
       "<div>\n",
       "<style scoped>\n",
       "    .dataframe tbody tr th:only-of-type {\n",
       "        vertical-align: middle;\n",
       "    }\n",
       "\n",
       "    .dataframe tbody tr th {\n",
       "        vertical-align: top;\n",
       "    }\n",
       "\n",
       "    .dataframe thead th {\n",
       "        text-align: right;\n",
       "    }\n",
       "</style>\n",
       "<table border=\"1\" class=\"dataframe\">\n",
       "  <thead>\n",
       "    <tr style=\"text-align: right;\">\n",
       "      <th></th>\n",
       "      <th>deltaCH4</th>\n",
       "      <th>surf_ch4_per_ch4_flux</th>\n",
       "      <th>h2_flux_per_ch4_flux</th>\n",
       "      <th>trop_du_ozone_per_ch4_flux</th>\n",
       "      <th>strat_du_ozone_per_ch4_flux</th>\n",
       "      <th>ozone_rf_per_ch4_flux</th>\n",
       "      <th>h2o_rf_per_ch4_flux</th>\n",
       "      <th>aerosol_rf_per_ch4_flux</th>\n",
       "    </tr>\n",
       "  </thead>\n",
       "  <tbody>\n",
       "    <tr>\n",
       "      <th>GFDL-emi</th>\n",
       "      <td>0.00</td>\n",
       "      <td>0.00</td>\n",
       "      <td>0.00</td>\n",
       "      <td>0.00</td>\n",
       "      <td>0.00</td>\n",
       "      <td>0.00</td>\n",
       "      <td>0.00</td>\n",
       "      <td>0.00</td>\n",
       "    </tr>\n",
       "    <tr>\n",
       "      <th>GFDL</th>\n",
       "      <td>41.4</td>\n",
       "      <td>4.39</td>\n",
       "      <td>0.01</td>\n",
       "      <td>16.0</td>\n",
       "      <td>18.8</td>\n",
       "      <td>0.81</td>\n",
       "      <td>0.48</td>\n",
       "      <td>-0.01</td>\n",
       "    </tr>\n",
       "    <tr>\n",
       "      <th>INCA</th>\n",
       "      <td>47.3</td>\n",
       "      <td>3.83</td>\n",
       "      <td>0.01</td>\n",
       "      <td>11.3</td>\n",
       "      <td>5.29</td>\n",
       "      <td>0.47</td>\n",
       "      <td>0.14</td>\n",
       "      <td>0.06</td>\n",
       "    </tr>\n",
       "    <tr>\n",
       "      <th>OsloCTM</th>\n",
       "      <td>50.3</td>\n",
       "      <td>3.61</td>\n",
       "      <td>0.01</td>\n",
       "      <td>16.5</td>\n",
       "      <td>16.4</td>\n",
       "      <td>0.82</td>\n",
       "      <td>0.20</td>\n",
       "      <td>-0.02</td>\n",
       "    </tr>\n",
       "    <tr>\n",
       "      <th>OsloCTM-emi</th>\n",
       "      <td>50.3</td>\n",
       "      <td>3.61</td>\n",
       "      <td>0.01</td>\n",
       "      <td>16.5</td>\n",
       "      <td>16.4</td>\n",
       "      <td>0.82</td>\n",
       "      <td>0.20</td>\n",
       "      <td>-0.02</td>\n",
       "    </tr>\n",
       "    <tr>\n",
       "      <th>UKCA</th>\n",
       "      <td>51.8</td>\n",
       "      <td>3.49</td>\n",
       "      <td>0.01</td>\n",
       "      <td>13.6</td>\n",
       "      <td>nan</td>\n",
       "      <td>0.47</td>\n",
       "      <td>nan</td>\n",
       "      <td>nan</td>\n",
       "    </tr>\n",
       "    <tr>\n",
       "      <th>WACCM</th>\n",
       "      <td>50.3</td>\n",
       "      <td>3.60</td>\n",
       "      <td>0.02</td>\n",
       "      <td>17.4</td>\n",
       "      <td>15.9</td>\n",
       "      <td>0.85</td>\n",
       "      <td>0.07</td>\n",
       "      <td>nan</td>\n",
       "    </tr>\n",
       "  </tbody>\n",
       "</table>\n",
       "</div>"
      ],
      "text/plain": [
       "             deltaCH4  surf_ch4_per_ch4_flux  h2_flux_per_ch4_flux  \\\n",
       "GFDL-emi         0.00                   0.00                  0.00   \n",
       "GFDL             41.4                   4.39                  0.01   \n",
       "INCA             47.3                   3.83                  0.01   \n",
       "OsloCTM          50.3                   3.61                  0.01   \n",
       "OsloCTM-emi      50.3                   3.61                  0.01   \n",
       "UKCA             51.8                   3.49                  0.01   \n",
       "WACCM            50.3                   3.60                  0.02   \n",
       "\n",
       "             trop_du_ozone_per_ch4_flux  strat_du_ozone_per_ch4_flux  \\\n",
       "GFDL-emi                           0.00                         0.00   \n",
       "GFDL                               16.0                         18.8   \n",
       "INCA                               11.3                         5.29   \n",
       "OsloCTM                            16.5                         16.4   \n",
       "OsloCTM-emi                        16.5                         16.4   \n",
       "UKCA                               13.6                          nan   \n",
       "WACCM                              17.4                         15.9   \n",
       "\n",
       "             ozone_rf_per_ch4_flux  h2o_rf_per_ch4_flux  \\\n",
       "GFDL-emi                      0.00                 0.00   \n",
       "GFDL                          0.81                 0.48   \n",
       "INCA                          0.47                 0.14   \n",
       "OsloCTM                       0.82                 0.20   \n",
       "OsloCTM-emi                   0.82                 0.20   \n",
       "UKCA                          0.47                  nan   \n",
       "WACCM                         0.85                 0.07   \n",
       "\n",
       "             aerosol_rf_per_ch4_flux  \n",
       "GFDL-emi                        0.00  \n",
       "GFDL                           -0.01  \n",
       "INCA                            0.06  \n",
       "OsloCTM                        -0.02  \n",
       "OsloCTM-emi                    -0.02  \n",
       "UKCA                             nan  \n",
       "WACCM                            nan  "
      ]
     },
     "execution_count": 91,
     "metadata": {},
     "output_type": "execute_result"
    }
   ],
   "source": [
    "df_per_flux_ch4_add  = pd.read_csv(outputpath + 'table_per_flux_ch4.csv',index_col=0)\n",
    "df_per_flux_ch4_add.rename(model_dict, inplace=True)\n",
    "\n",
    "df_per_flux_ch4_add.loc['GFDL-emi'] = 0.0\n",
    "df_per_flux_ch4_add"
   ]
  },
  {
   "cell_type": "code",
   "execution_count": 92,
   "metadata": {},
   "outputs": [
    {
     "data": {
      "text/plain": [
       "GFDL-emi      0.00\n",
       "GFDL          0.26\n",
       "INCA          0.29\n",
       "OsloCTM       0.31\n",
       "OsloCTM-emi   0.32\n",
       "UKCA          0.38\n",
       "WACCM         0.33\n",
       "Name: ch4_flux_per_h2_flux, dtype: float64"
      ]
     },
     "execution_count": 92,
     "metadata": {},
     "output_type": "execute_result"
    }
   ],
   "source": [
    "frac = df_per_flux_h2_combined['ch4_flux_per_h2_flux'] #Tg CH4/Tg H2 /Tg CH4 = 1/Tg H2\n",
    "frac['GFDL-emi'] = 0.0\n",
    "frac"
   ]
  },
  {
   "cell_type": "code",
   "execution_count": 93,
   "metadata": {},
   "outputs": [],
   "source": [
    "df_per_flux_ch4_add\n",
    "#Keep the following:\n",
    "#deltaH2\n",
    "#surf_h2_per_h2_flux keep as h2_flux_per_ch4_flux small\n",
    "#surf_ch4_per_h2_flux\n",
    "#ch4_flux_per_h2_flux\n",
    "#ch4_rf_per_h2_flux\n",
    "\n",
    "#add:\n",
    "#trop_du_ozone_per_h2_flux\n",
    "#strat_du_ozone_per_h2_flux\n",
    "#ozone_rf_per_h2_flux\n",
    "#h2o_rf_per_h2_flux\n",
    "#aerosol_rf_per_h2_flux\n",
    "\n",
    "df_per_flux_h2_combined['trop_du_ozone_per_h2_flux'] = df_per_flux_h2_combined['trop_du_ozone_per_h2_flux'] + df_per_flux_ch4_add['trop_du_ozone_per_ch4_flux']*frac\n",
    "df_per_flux_h2_combined['strat_du_ozone_per_h2_flux'] = df_per_flux_h2_combined['strat_du_ozone_per_h2_flux'] + df_per_flux_ch4_add['strat_du_ozone_per_ch4_flux']*frac\n",
    "df_per_flux_h2_combined['ozone_rf_per_h2_flux'] = df_per_flux_h2_combined['ozone_rf_per_h2_flux'] + df_per_flux_ch4_add['ozone_rf_per_ch4_flux']*frac\n",
    "df_per_flux_h2_combined['h2o_rf_per_h2_flux'] = df_per_flux_h2_combined['h2o_rf_per_h2_flux'] + df_per_flux_ch4_add['h2o_rf_per_ch4_flux']*frac\n",
    "df_per_flux_h2_combined['aerosol_rf_per_h2_flux'] = df_per_flux_h2_combined['aerosol_rf_per_h2_flux'] + df_per_flux_ch4_add['aerosol_rf_per_ch4_flux']*frac\n",
    "\n",
    "\n",
    "#df_per_flux_h2_combined\n",
    "\n",
    "#Save to file:\n",
    "df_per_flux_h2_combined = df_per_flux_h2_combined.sort_index()\n",
    "df_per_flux_h2_combined.to_csv(outputpath + 'table_per_flux_h2_combined.csv')\n"
   ]
  },
  {
   "cell_type": "code",
   "execution_count": 94,
   "metadata": {},
   "outputs": [
    {
     "data": {
      "text/html": [
       "<div>\n",
       "<style scoped>\n",
       "    .dataframe tbody tr th:only-of-type {\n",
       "        vertical-align: middle;\n",
       "    }\n",
       "\n",
       "    .dataframe tbody tr th {\n",
       "        vertical-align: top;\n",
       "    }\n",
       "\n",
       "    .dataframe thead th {\n",
       "        text-align: right;\n",
       "    }\n",
       "</style>\n",
       "<table border=\"1\" class=\"dataframe\">\n",
       "  <thead>\n",
       "    <tr style=\"text-align: right;\">\n",
       "      <th></th>\n",
       "      <th>Flux H2 [Tg/yr]</th>\n",
       "      <th>Surf. conc. H2 per flux [ppb yr/Tg]</th>\n",
       "      <th>Surf. conc. CH4 per flux [ppb yr/Tg]</th>\n",
       "      <th>Flux CH4/Flux H2 [Tg CH4/Tg H2]</th>\n",
       "      <th>CH4 RF per flux [mW m-2 yr/ Tg]</th>\n",
       "      <th>Trop. ozone per flux [10$^{-3}$ DU yr/Tg]</th>\n",
       "      <th>Strat. ozone per flux [10$^{-3}$ DU yr/Tg]</th>\n",
       "      <th>ozone RF per flux [mW m-2 yr/ Tg]</th>\n",
       "      <th>Strat. H2O RF per flux [mW m-2 yr/ Tg]</th>\n",
       "      <th>Aerosol RF per flux [mW m-2 yr/ Tg]</th>\n",
       "    </tr>\n",
       "  </thead>\n",
       "  <tbody>\n",
       "    <tr>\n",
       "      <th>GFDL</th>\n",
       "      <td>30.5</td>\n",
       "      <td>6.98</td>\n",
       "      <td>1.14</td>\n",
       "      <td>0.26</td>\n",
       "      <td>0.44</td>\n",
       "      <td>8.27</td>\n",
       "      <td>2.47</td>\n",
       "      <td>0.42</td>\n",
       "      <td>0.29</td>\n",
       "      <td>-0.01</td>\n",
       "    </tr>\n",
       "    <tr>\n",
       "      <th>OsloCTM</th>\n",
       "      <td>8.54</td>\n",
       "      <td>6.23</td>\n",
       "      <td>1.13</td>\n",
       "      <td>0.31</td>\n",
       "      <td>0.43</td>\n",
       "      <td>9.64</td>\n",
       "      <td>5.91</td>\n",
       "      <td>0.47</td>\n",
       "      <td>0.24</td>\n",
       "      <td>-0.04</td>\n",
       "    </tr>\n",
       "    <tr>\n",
       "      <th>INCA</th>\n",
       "      <td>7.23</td>\n",
       "      <td>7.36</td>\n",
       "      <td>1.13</td>\n",
       "      <td>0.29</td>\n",
       "      <td>0.43</td>\n",
       "      <td>7.24</td>\n",
       "      <td>-4.01</td>\n",
       "      <td>0.28</td>\n",
       "      <td>0.16</td>\n",
       "      <td>0.05</td>\n",
       "    </tr>\n",
       "    <tr>\n",
       "      <th>UKCA</th>\n",
       "      <td>6.87</td>\n",
       "      <td>7.80</td>\n",
       "      <td>1.33</td>\n",
       "      <td>0.38</td>\n",
       "      <td>0.51</td>\n",
       "      <td>9.81</td>\n",
       "      <td>nan</td>\n",
       "      <td>0.34</td>\n",
       "      <td>nan</td>\n",
       "      <td>nan</td>\n",
       "    </tr>\n",
       "    <tr>\n",
       "      <th>WACCM</th>\n",
       "      <td>9.93</td>\n",
       "      <td>5.36</td>\n",
       "      <td>1.19</td>\n",
       "      <td>0.33</td>\n",
       "      <td>0.46</td>\n",
       "      <td>9.06</td>\n",
       "      <td>4.14</td>\n",
       "      <td>0.46</td>\n",
       "      <td>0.08</td>\n",
       "      <td>nan</td>\n",
       "    </tr>\n",
       "    <tr>\n",
       "      <th>GFDL-emi</th>\n",
       "      <td>197</td>\n",
       "      <td>6.96</td>\n",
       "      <td>1.00</td>\n",
       "      <td>0.00</td>\n",
       "      <td>0.39</td>\n",
       "      <td>7.97</td>\n",
       "      <td>5.23</td>\n",
       "      <td>0.39</td>\n",
       "      <td>0.25</td>\n",
       "      <td>-0.07</td>\n",
       "    </tr>\n",
       "    <tr>\n",
       "      <th>OsloCTM-emi</th>\n",
       "      <td>13.8</td>\n",
       "      <td>6.48</td>\n",
       "      <td>1.15</td>\n",
       "      <td>0.32</td>\n",
       "      <td>0.44</td>\n",
       "      <td>9.89</td>\n",
       "      <td>6.01</td>\n",
       "      <td>0.48</td>\n",
       "      <td>0.24</td>\n",
       "      <td>-0.04</td>\n",
       "    </tr>\n",
       "    <tr>\n",
       "      <th>Model mean</th>\n",
       "      <td>nan</td>\n",
       "      <td>6.74</td>\n",
       "      <td>1.18</td>\n",
       "      <td>0.32</td>\n",
       "      <td>0.46</td>\n",
       "      <td>8.80</td>\n",
       "      <td>2.13</td>\n",
       "      <td>0.40</td>\n",
       "      <td>0.19</td>\n",
       "      <td>0.00</td>\n",
       "    </tr>\n",
       "  </tbody>\n",
       "</table>\n",
       "</div>"
      ],
      "text/plain": [
       "             Flux H2 [Tg/yr]  Surf. conc. H2 per flux [ppb yr/Tg]  \\\n",
       "GFDL                    30.5                                 6.98   \n",
       "OsloCTM                 8.54                                 6.23   \n",
       "INCA                    7.23                                 7.36   \n",
       "UKCA                    6.87                                 7.80   \n",
       "WACCM                   9.93                                 5.36   \n",
       "GFDL-emi                 197                                 6.96   \n",
       "OsloCTM-emi             13.8                                 6.48   \n",
       "Model mean               nan                                 6.74   \n",
       "\n",
       "             Surf. conc. CH4 per flux [ppb yr/Tg]  \\\n",
       "GFDL                                         1.14   \n",
       "OsloCTM                                      1.13   \n",
       "INCA                                         1.13   \n",
       "UKCA                                         1.33   \n",
       "WACCM                                        1.19   \n",
       "GFDL-emi                                     1.00   \n",
       "OsloCTM-emi                                  1.15   \n",
       "Model mean                                   1.18   \n",
       "\n",
       "             Flux CH4/Flux H2 [Tg CH4/Tg H2]  CH4 RF per flux [mW m-2 yr/ Tg]  \\\n",
       "GFDL                                    0.26                             0.44   \n",
       "OsloCTM                                 0.31                             0.43   \n",
       "INCA                                    0.29                             0.43   \n",
       "UKCA                                    0.38                             0.51   \n",
       "WACCM                                   0.33                             0.46   \n",
       "GFDL-emi                                0.00                             0.39   \n",
       "OsloCTM-emi                             0.32                             0.44   \n",
       "Model mean                              0.32                             0.46   \n",
       "\n",
       "             Trop. ozone per flux [10$^{-3}$ DU yr/Tg]  \\\n",
       "GFDL                                              8.27   \n",
       "OsloCTM                                           9.64   \n",
       "INCA                                              7.24   \n",
       "UKCA                                              9.81   \n",
       "WACCM                                             9.06   \n",
       "GFDL-emi                                          7.97   \n",
       "OsloCTM-emi                                       9.89   \n",
       "Model mean                                        8.80   \n",
       "\n",
       "             Strat. ozone per flux [10$^{-3}$ DU yr/Tg]  \\\n",
       "GFDL                                               2.47   \n",
       "OsloCTM                                            5.91   \n",
       "INCA                                              -4.01   \n",
       "UKCA                                                nan   \n",
       "WACCM                                              4.14   \n",
       "GFDL-emi                                           5.23   \n",
       "OsloCTM-emi                                        6.01   \n",
       "Model mean                                         2.13   \n",
       "\n",
       "             ozone RF per flux [mW m-2 yr/ Tg]  \\\n",
       "GFDL                                      0.42   \n",
       "OsloCTM                                   0.47   \n",
       "INCA                                      0.28   \n",
       "UKCA                                      0.34   \n",
       "WACCM                                     0.46   \n",
       "GFDL-emi                                  0.39   \n",
       "OsloCTM-emi                               0.48   \n",
       "Model mean                                0.40   \n",
       "\n",
       "             Strat. H2O RF per flux [mW m-2 yr/ Tg]  \\\n",
       "GFDL                                           0.29   \n",
       "OsloCTM                                        0.24   \n",
       "INCA                                           0.16   \n",
       "UKCA                                            nan   \n",
       "WACCM                                          0.08   \n",
       "GFDL-emi                                       0.25   \n",
       "OsloCTM-emi                                    0.24   \n",
       "Model mean                                     0.19   \n",
       "\n",
       "             Aerosol RF per flux [mW m-2 yr/ Tg]  \n",
       "GFDL                                       -0.01  \n",
       "OsloCTM                                    -0.04  \n",
       "INCA                                        0.05  \n",
       "UKCA                                         nan  \n",
       "WACCM                                        nan  \n",
       "GFDL-emi                                   -0.07  \n",
       "OsloCTM-emi                                -0.04  \n",
       "Model mean                                  0.00  "
      ]
     },
     "execution_count": 94,
     "metadata": {},
     "output_type": "execute_result"
    }
   ],
   "source": [
    "#Rename the columns:\n",
    "columns_names={'deltaH2':'Flux H2 [Tg/yr]',\n",
    "               'surf_h2_per_h2_flux': 'Surf. conc. H2 per flux [ppb yr/Tg]',\n",
    "               'surf_ch4_per_h2_flux':'Surf. conc. CH4 per flux [ppb yr/Tg]',\n",
    "               'ch4_flux_per_h2_flux':'Flux CH4/Flux H2 [Tg CH4/Tg H2]',\n",
    "               'ch4_rf_per_h2_flux':'CH4 RF per flux [mW m-2 yr/ Tg]',\n",
    "               'trop_du_ozone_per_h2_flux':'Trop. ozone per flux [10$^{-3}$ DU yr/Tg]',\n",
    "               'strat_du_ozone_per_h2_flux':'Strat. ozone per flux [10$^{-3}$ DU yr/Tg]',\n",
    "               'ozone_rf_per_h2_flux':'ozone RF per flux [mW m-2 yr/ Tg]',\n",
    "               'h2o_rf_per_h2_flux':'Strat. H2O RF per flux [mW m-2 yr/ Tg]',\n",
    "               'aerosol_rf_per_h2_flux':'Aerosol RF per flux [mW m-2 yr/ Tg]'}\n",
    "#Rename column names:\n",
    "df_per_flux_h2_combined.rename(columns=dict(columns_names),inplace=True) #[df_per_flux_h2.columns])\n",
    "df_per_flux_h2_combined.rename(model_dict,axis=0,inplace=True)\n",
    "df_per_flux_h2_combined.loc['Model mean'] = df_per_flux_h2_combined.drop(['GFDL-emi','OsloCTM-emi']).mean()\n",
    "df_per_flux_h2_combined['Flux H2 [Tg/yr]'].loc['Model mean']=np.nan\n",
    "df_per_flux_h2_combined=df_per_flux_h2_combined.reindex(sorted_array_2)\n",
    "df_per_flux_h2_combined"
   ]
  },
  {
   "cell_type": "markdown",
   "metadata": {},
   "source": [
    "## H2 budget table"
   ]
  },
  {
   "cell_type": "code",
   "execution_count": 95,
   "metadata": {},
   "outputs": [
    {
     "data": {
      "text/html": [
       "<div>\n",
       "<style scoped>\n",
       "    .dataframe tbody tr th:only-of-type {\n",
       "        vertical-align: middle;\n",
       "    }\n",
       "\n",
       "    .dataframe tbody tr th {\n",
       "        vertical-align: top;\n",
       "    }\n",
       "\n",
       "    .dataframe thead th {\n",
       "        text-align: right;\n",
       "    }\n",
       "</style>\n",
       "<table border=\"1\" class=\"dataframe\">\n",
       "  <thead>\n",
       "    <tr style=\"text-align: right;\">\n",
       "      <th></th>\n",
       "      <th>H2 burden [Tg]</th>\n",
       "      <th>H2 atm loss [Tg/yr]</th>\n",
       "      <th>H2 atm prod [Tg/yr]</th>\n",
       "      <th>H2 soil sink [Tg/yr]</th>\n",
       "      <th>H2 estimated emissions [Tg/yr]</th>\n",
       "      <th>H2 atm lifetime [yrs]</th>\n",
       "      <th>H2 soil sink lifetime [yrs]</th>\n",
       "      <th>H2 total lifetime [yrs]</th>\n",
       "    </tr>\n",
       "  </thead>\n",
       "  <tbody>\n",
       "    <tr>\n",
       "      <th>GFDL-emi</th>\n",
       "      <td>192</td>\n",
       "      <td>22.3</td>\n",
       "      <td>45.1</td>\n",
       "      <td>54.6</td>\n",
       "      <td>31.9</td>\n",
       "      <td>8.62</td>\n",
       "      <td>3.52</td>\n",
       "      <td>2.50</td>\n",
       "    </tr>\n",
       "    <tr>\n",
       "      <th>GFDL_nudge</th>\n",
       "      <td>188</td>\n",
       "      <td>21.7</td>\n",
       "      <td>45.0</td>\n",
       "      <td>56.6</td>\n",
       "      <td>33.3</td>\n",
       "      <td>8.66</td>\n",
       "      <td>3.32</td>\n",
       "      <td>2.40</td>\n",
       "    </tr>\n",
       "    <tr>\n",
       "      <th>INCA</th>\n",
       "      <td>195</td>\n",
       "      <td>22.5</td>\n",
       "      <td>47.1</td>\n",
       "      <td>52.0</td>\n",
       "      <td>27.3</td>\n",
       "      <td>8.66</td>\n",
       "      <td>3.74</td>\n",
       "      <td>2.61</td>\n",
       "    </tr>\n",
       "    <tr>\n",
       "      <th>OSLOCTM3</th>\n",
       "      <td>196</td>\n",
       "      <td>28.4</td>\n",
       "      <td>56.3</td>\n",
       "      <td>59.5</td>\n",
       "      <td>31.6</td>\n",
       "      <td>6.91</td>\n",
       "      <td>3.30</td>\n",
       "      <td>2.23</td>\n",
       "    </tr>\n",
       "    <tr>\n",
       "      <th>OSLOCTM3-emi</th>\n",
       "      <td>209</td>\n",
       "      <td>30.1</td>\n",
       "      <td>56.2</td>\n",
       "      <td>58.4</td>\n",
       "      <td>32.2</td>\n",
       "      <td>6.95</td>\n",
       "      <td>3.58</td>\n",
       "      <td>2.36</td>\n",
       "    </tr>\n",
       "    <tr>\n",
       "      <th>UKCA</th>\n",
       "      <td>191</td>\n",
       "      <td>26.8</td>\n",
       "      <td>48.4</td>\n",
       "      <td>44.3</td>\n",
       "      <td>22.7</td>\n",
       "      <td>7.15</td>\n",
       "      <td>4.32</td>\n",
       "      <td>2.69</td>\n",
       "    </tr>\n",
       "    <tr>\n",
       "      <th>WACCM6-2deg</th>\n",
       "      <td>195</td>\n",
       "      <td>29.0</td>\n",
       "      <td>33.9</td>\n",
       "      <td>73.0</td>\n",
       "      <td>68.1</td>\n",
       "      <td>6.70</td>\n",
       "      <td>2.67</td>\n",
       "      <td>1.91</td>\n",
       "    </tr>\n",
       "  </tbody>\n",
       "</table>\n",
       "</div>"
      ],
      "text/plain": [
       "              H2 burden [Tg]  H2 atm loss [Tg/yr]  H2 atm prod [Tg/yr]  \\\n",
       "GFDL-emi                 192                 22.3                 45.1   \n",
       "GFDL_nudge               188                 21.7                 45.0   \n",
       "INCA                     195                 22.5                 47.1   \n",
       "OSLOCTM3                 196                 28.4                 56.3   \n",
       "OSLOCTM3-emi             209                 30.1                 56.2   \n",
       "UKCA                     191                 26.8                 48.4   \n",
       "WACCM6-2deg              195                 29.0                 33.9   \n",
       "\n",
       "              H2 soil sink [Tg/yr]  H2 estimated emissions [Tg/yr]  \\\n",
       "GFDL-emi                      54.6                            31.9   \n",
       "GFDL_nudge                    56.6                            33.3   \n",
       "INCA                          52.0                            27.3   \n",
       "OSLOCTM3                      59.5                            31.6   \n",
       "OSLOCTM3-emi                  58.4                            32.2   \n",
       "UKCA                          44.3                            22.7   \n",
       "WACCM6-2deg                   73.0                            68.1   \n",
       "\n",
       "              H2 atm lifetime [yrs]  H2 soil sink lifetime [yrs]  \\\n",
       "GFDL-emi                       8.62                         3.52   \n",
       "GFDL_nudge                     8.66                         3.32   \n",
       "INCA                           8.66                         3.74   \n",
       "OSLOCTM3                       6.91                         3.30   \n",
       "OSLOCTM3-emi                   6.95                         3.58   \n",
       "UKCA                           7.15                         4.32   \n",
       "WACCM6-2deg                    6.70                         2.67   \n",
       "\n",
       "              H2 total lifetime [yrs]  \n",
       "GFDL-emi                         2.50  \n",
       "GFDL_nudge                       2.40  \n",
       "INCA                             2.61  \n",
       "OSLOCTM3                         2.23  \n",
       "OSLOCTM3-emi                     2.36  \n",
       "UKCA                             2.69  \n",
       "WACCM6-2deg                      1.91  "
      ]
     },
     "execution_count": 95,
     "metadata": {},
     "output_type": "execute_result"
    }
   ],
   "source": [
    "df_budget_h2 = pd.concat([df_h2_burden.loc['CTRL'],\n",
    "                          df_h2_atmloss.loc['CTRL'],\n",
    "                          df_h2_atmprod.loc['CTRL'],\n",
    "                          df_h2_drydep.loc['CTRL'],\n",
    "                          df_h2_estemis.loc['CTRL'], \n",
    "                          df_h2_atm_lifetime.loc['CTRL'],\n",
    "                          df_h2_soil_sink_lifetime.loc['CTRL'],\n",
    "                          df_h2_lifetime.loc['CTRL']\n",
    "                         ],axis=1)\n",
    "\n",
    "df_budget_h2.columns = ['H2 burden [Tg]',\n",
    "                        'H2 atm loss [Tg/yr]',\n",
    "                        'H2 atm prod [Tg/yr]',\n",
    "                        'H2 soil sink [Tg/yr]',\n",
    "                        'H2 estimated emissions [Tg/yr]',\n",
    "                        'H2 atm lifetime [yrs]',\n",
    "                        'H2 soil sink lifetime [yrs]',\n",
    "                        'H2 total lifetime [yrs]',]\n",
    "df_budget_h2 = df_budget_h2.sort_index()\n",
    "df_budget_h2.to_csv(outputpath + 'table_budget_h2.csv')\n",
    "df_budget_h2\n",
    "\n"
   ]
  },
  {
   "cell_type": "markdown",
   "metadata": {},
   "source": [
    "## CH4 budget table"
   ]
  },
  {
   "cell_type": "code",
   "execution_count": 96,
   "metadata": {},
   "outputs": [
    {
     "data": {
      "text/html": [
       "<div>\n",
       "<style scoped>\n",
       "    .dataframe tbody tr th:only-of-type {\n",
       "        vertical-align: middle;\n",
       "    }\n",
       "\n",
       "    .dataframe tbody tr th {\n",
       "        vertical-align: top;\n",
       "    }\n",
       "\n",
       "    .dataframe thead th {\n",
       "        text-align: right;\n",
       "    }\n",
       "</style>\n",
       "<table border=\"1\" class=\"dataframe\">\n",
       "  <thead>\n",
       "    <tr style=\"text-align: right;\">\n",
       "      <th></th>\n",
       "      <th>CH4 burden [Tg]</th>\n",
       "      <th>CH4 surface conc. [ppbv]</th>\n",
       "      <th>CH4 chem loss OH [Tg/yr]</th>\n",
       "      <th>CH4 chem loss other strat [Tg/yr]</th>\n",
       "      <th>CH4 loss soil [Tg/yr]</th>\n",
       "      <th>CH4 total loss [Tg/yr]</th>\n",
       "      <th>CH4 lifetime due to OH (whole atmosphere) [yrs]</th>\n",
       "      <th>Total CH4 lifetime [yrs]</th>\n",
       "    </tr>\n",
       "  </thead>\n",
       "  <tbody>\n",
       "    <tr>\n",
       "      <th>GFDL-emi</th>\n",
       "      <td>4,955</td>\n",
       "      <td>1,832</td>\n",
       "      <td>540</td>\n",
       "      <td>20.6</td>\n",
       "      <td>31.0</td>\n",
       "      <td>592</td>\n",
       "      <td>9.17</td>\n",
       "      <td>8.37</td>\n",
       "    </tr>\n",
       "    <tr>\n",
       "      <th>GFDL_nudge</th>\n",
       "      <td>4,876</td>\n",
       "      <td>1,816</td>\n",
       "      <td>528</td>\n",
       "      <td>20.3</td>\n",
       "      <td>30.5</td>\n",
       "      <td>578</td>\n",
       "      <td>9.24</td>\n",
       "      <td>8.43</td>\n",
       "    </tr>\n",
       "    <tr>\n",
       "      <th>INCA</th>\n",
       "      <td>5,003</td>\n",
       "      <td>1,813</td>\n",
       "      <td>593</td>\n",
       "      <td>20.8</td>\n",
       "      <td>31.3</td>\n",
       "      <td>645</td>\n",
       "      <td>8.44</td>\n",
       "      <td>7.76</td>\n",
       "    </tr>\n",
       "    <tr>\n",
       "      <th>OSLOCTM3</th>\n",
       "      <td>4,995</td>\n",
       "      <td>1,813</td>\n",
       "      <td>683</td>\n",
       "      <td>20.8</td>\n",
       "      <td>31.2</td>\n",
       "      <td>735</td>\n",
       "      <td>7.31</td>\n",
       "      <td>6.80</td>\n",
       "    </tr>\n",
       "    <tr>\n",
       "      <th>OSLOCTM3-emi</th>\n",
       "      <td>4,995</td>\n",
       "      <td>1,813</td>\n",
       "      <td>681</td>\n",
       "      <td>20.8</td>\n",
       "      <td>31.2</td>\n",
       "      <td>733</td>\n",
       "      <td>7.33</td>\n",
       "      <td>6.81</td>\n",
       "    </tr>\n",
       "    <tr>\n",
       "      <th>UKCA</th>\n",
       "      <td>4,939</td>\n",
       "      <td>1,806</td>\n",
       "      <td>624</td>\n",
       "      <td>20.6</td>\n",
       "      <td>30.9</td>\n",
       "      <td>675</td>\n",
       "      <td>7.92</td>\n",
       "      <td>6.61</td>\n",
       "    </tr>\n",
       "    <tr>\n",
       "      <th>WACCM6-2deg</th>\n",
       "      <td>5,003</td>\n",
       "      <td>1,808</td>\n",
       "      <td>727</td>\n",
       "      <td>20.8</td>\n",
       "      <td>31.3</td>\n",
       "      <td>779</td>\n",
       "      <td>6.88</td>\n",
       "      <td>6.42</td>\n",
       "    </tr>\n",
       "  </tbody>\n",
       "</table>\n",
       "</div>"
      ],
      "text/plain": [
       "              CH4 burden [Tg]  CH4 surface conc. [ppbv]  \\\n",
       "GFDL-emi                4,955                     1,832   \n",
       "GFDL_nudge              4,876                     1,816   \n",
       "INCA                    5,003                     1,813   \n",
       "OSLOCTM3                4,995                     1,813   \n",
       "OSLOCTM3-emi            4,995                     1,813   \n",
       "UKCA                    4,939                     1,806   \n",
       "WACCM6-2deg             5,003                     1,808   \n",
       "\n",
       "              CH4 chem loss OH [Tg/yr]  CH4 chem loss other strat [Tg/yr]  \\\n",
       "GFDL-emi                           540                               20.6   \n",
       "GFDL_nudge                         528                               20.3   \n",
       "INCA                               593                               20.8   \n",
       "OSLOCTM3                           683                               20.8   \n",
       "OSLOCTM3-emi                       681                               20.8   \n",
       "UKCA                               624                               20.6   \n",
       "WACCM6-2deg                        727                               20.8   \n",
       "\n",
       "              CH4 loss soil [Tg/yr]  CH4 total loss [Tg/yr]  \\\n",
       "GFDL-emi                       31.0                     592   \n",
       "GFDL_nudge                     30.5                     578   \n",
       "INCA                           31.3                     645   \n",
       "OSLOCTM3                       31.2                     735   \n",
       "OSLOCTM3-emi                   31.2                     733   \n",
       "UKCA                           30.9                     675   \n",
       "WACCM6-2deg                    31.3                     779   \n",
       "\n",
       "              CH4 lifetime due to OH (whole atmosphere) [yrs]  \\\n",
       "GFDL-emi                                                 9.17   \n",
       "GFDL_nudge                                               9.24   \n",
       "INCA                                                     8.44   \n",
       "OSLOCTM3                                                 7.31   \n",
       "OSLOCTM3-emi                                             7.33   \n",
       "UKCA                                                     7.92   \n",
       "WACCM6-2deg                                              6.88   \n",
       "\n",
       "              Total CH4 lifetime [yrs]  \n",
       "GFDL-emi                          8.37  \n",
       "GFDL_nudge                        8.43  \n",
       "INCA                              7.76  \n",
       "OSLOCTM3                          6.80  \n",
       "OSLOCTM3-emi                      6.81  \n",
       "UKCA                              6.61  \n",
       "WACCM6-2deg                       6.42  "
      ]
     },
     "execution_count": 96,
     "metadata": {},
     "output_type": "execute_result"
    }
   ],
   "source": [
    "df_budget_ch4 = pd.concat([df_ch4_burden.loc['CTRL'],\n",
    "                           df_ch4_surfconc.loc['CTRL'],\n",
    "                           df_ch4_loss.loc['CTRL'],\n",
    "                           df_ch4_loss_other_strat.loc['CTRL'],\n",
    "                           df_ch4_loss_soil.loc['CTRL'],\n",
    "                           df_ch4_loss.loc['CTRL']+df_ch4_loss_other_strat.loc['CTRL']+df_ch4_loss_soil.loc['CTRL'],\n",
    "                           df_ch4_lifetime.loc['CTRL'],\n",
    "                           df_ch4_tot_lifetime.loc['CTRL']\n",
    "                           ],\n",
    "                          axis=1)\n",
    "df_budget_ch4 = df_budget_ch4.sort_index()\n",
    "\n",
    "\n",
    "df_budget_ch4.columns = ['CH4 burden [Tg]','CH4 surface conc. [ppbv]',\n",
    "                         'CH4 chem loss OH [Tg/yr]', 'CH4 chem loss other strat [Tg/yr]','CH4 loss soil [Tg/yr]',\n",
    "                         'CH4 total loss [Tg/yr]',\n",
    "                         'CH4 lifetime due to OH (whole atmosphere) [yrs]','Total CH4 lifetime [yrs]'] \n",
    "\n",
    "df_budget_ch4.to_csv(outputpath + 'table_budget_ch4.csv')\n",
    "\n",
    "df_budget_ch4"
   ]
  },
  {
   "cell_type": "code",
   "execution_count": 97,
   "metadata": {},
   "outputs": [
    {
     "data": {
      "text/html": [
       "<div>\n",
       "<style scoped>\n",
       "    .dataframe tbody tr th:only-of-type {\n",
       "        vertical-align: middle;\n",
       "    }\n",
       "\n",
       "    .dataframe tbody tr th {\n",
       "        vertical-align: top;\n",
       "    }\n",
       "\n",
       "    .dataframe thead th {\n",
       "        text-align: right;\n",
       "    }\n",
       "</style>\n",
       "<table border=\"1\" class=\"dataframe\">\n",
       "  <thead>\n",
       "    <tr style=\"text-align: right;\">\n",
       "      <th></th>\n",
       "      <th>h2_agwp_ch4</th>\n",
       "      <th>h2_agwp_o3</th>\n",
       "      <th>h2_agwp_h2o</th>\n",
       "      <th>h2_agwp_ch4ind_o3</th>\n",
       "      <th>h2_agwp_ch4ind_h2o</th>\n",
       "    </tr>\n",
       "  </thead>\n",
       "  <tbody>\n",
       "    <tr>\n",
       "      <th>OSLOCTM3</th>\n",
       "      <td>0.43</td>\n",
       "      <td>0.22</td>\n",
       "      <td>0.17</td>\n",
       "      <td>0.25</td>\n",
       "      <td>0.06</td>\n",
       "    </tr>\n",
       "    <tr>\n",
       "      <th>WACCM6-2deg</th>\n",
       "      <td>0.46</td>\n",
       "      <td>0.18</td>\n",
       "      <td>0.05</td>\n",
       "      <td>0.28</td>\n",
       "      <td>0.02</td>\n",
       "    </tr>\n",
       "    <tr>\n",
       "      <th>INCA</th>\n",
       "      <td>0.43</td>\n",
       "      <td>0.15</td>\n",
       "      <td>0.11</td>\n",
       "      <td>0.14</td>\n",
       "      <td>0.04</td>\n",
       "    </tr>\n",
       "    <tr>\n",
       "      <th>GFDL-emi</th>\n",
       "      <td>0.39</td>\n",
       "      <td>0.39</td>\n",
       "      <td>0.25</td>\n",
       "      <td>nan</td>\n",
       "      <td>nan</td>\n",
       "    </tr>\n",
       "    <tr>\n",
       "      <th>OSLOCTM3-emi</th>\n",
       "      <td>0.44</td>\n",
       "      <td>0.22</td>\n",
       "      <td>0.18</td>\n",
       "      <td>0.26</td>\n",
       "      <td>0.06</td>\n",
       "    </tr>\n",
       "    <tr>\n",
       "      <th>UKCA</th>\n",
       "      <td>0.51</td>\n",
       "      <td>0.17</td>\n",
       "      <td>nan</td>\n",
       "      <td>0.18</td>\n",
       "      <td>nan</td>\n",
       "    </tr>\n",
       "    <tr>\n",
       "      <th>GFDL_nudge</th>\n",
       "      <td>0.44</td>\n",
       "      <td>0.21</td>\n",
       "      <td>0.16</td>\n",
       "      <td>0.21</td>\n",
       "      <td>0.13</td>\n",
       "    </tr>\n",
       "  </tbody>\n",
       "</table>\n",
       "</div>"
      ],
      "text/plain": [
       "              h2_agwp_ch4  h2_agwp_o3  h2_agwp_h2o  h2_agwp_ch4ind_o3  \\\n",
       "OSLOCTM3             0.43        0.22         0.17               0.25   \n",
       "WACCM6-2deg          0.46        0.18         0.05               0.28   \n",
       "INCA                 0.43        0.15         0.11               0.14   \n",
       "GFDL-emi             0.39        0.39         0.25                nan   \n",
       "OSLOCTM3-emi         0.44        0.22         0.18               0.26   \n",
       "UKCA                 0.51        0.17          nan               0.18   \n",
       "GFDL_nudge           0.44        0.21         0.16               0.21   \n",
       "\n",
       "              h2_agwp_ch4ind_h2o  \n",
       "OSLOCTM3                    0.06  \n",
       "WACCM6-2deg                 0.02  \n",
       "INCA                        0.04  \n",
       "GFDL-emi                     nan  \n",
       "OSLOCTM3-emi                0.06  \n",
       "UKCA                         nan  \n",
       "GFDL_nudge                  0.13  "
      ]
     },
     "execution_count": 97,
     "metadata": {},
     "output_type": "execute_result"
    }
   ],
   "source": [
    "#Write AGWP values to file\n",
    "df_h2_agwp  = pd.concat([df_h2_agwp_ch4,\n",
    "                         df_h2_agwp_o3,\n",
    "                         df_h2_agwp_h2o,\n",
    "                         df_h2_agwp_ch4ind_o3,\n",
    "                         df_h2_agwp_ch4ind_h2o],axis=1,sort=False)\n",
    "\n",
    "df_h2_agwp.to_csv(outputpath + 'table_h2_agwp.csv') \n",
    "df_h2_agwp"
   ]
  },
  {
   "cell_type": "markdown",
   "metadata": {},
   "source": [
    "# Appendix:"
   ]
  },
  {
   "cell_type": "markdown",
   "metadata": {},
   "source": [
    "## Methane feedback factor:"
   ]
  },
  {
   "cell_type": "markdown",
   "metadata": {},
   "source": [
    "### Atmospheric mass conversion CH4  [Tg/ppb] (from perturbations)"
   ]
  },
  {
   "cell_type": "code",
   "execution_count": 98,
   "metadata": {},
   "outputs": [
    {
     "data": {
      "text/plain": [
       "OSLOCTM3       2.76\n",
       "WACCM6-2deg    2.78\n",
       "INCA           2.76\n",
       "GFDL-emi       2.71\n",
       "OSLOCTM3-emi    nan\n",
       "UKCA           2.74\n",
       "GFDL_nudge     2.69\n",
       "Name: ch4_burden_per_conc, dtype: float64"
      ]
     },
     "execution_count": 98,
     "metadata": {},
     "output_type": "execute_result"
    }
   ],
   "source": [
    "df_ch4_burden_per_conc  = df_ch4_burden.loc['deltaCH4']/df_ch4_surfconc.loc['deltaCH4']\n",
    "df_ch4_burden_per_conc.name = 'ch4_burden_per_conc'\n",
    "df_ch4_burden_per_conc"
   ]
  },
  {
   "cell_type": "markdown",
   "metadata": {},
   "source": [
    "### Increase per unit flux w/o feedback = integrated decay [ppb yr/Tg]"
   ]
  },
  {
   "cell_type": "markdown",
   "metadata": {},
   "source": []
  },
  {
   "cell_type": "code",
   "execution_count": 99,
   "metadata": {},
   "outputs": [
    {
     "data": {
      "text/plain": [
       "GFDL-emi        nan\n",
       "GFDL_nudge     3.14\n",
       "INCA           2.81\n",
       "OSLOCTM3       2.46\n",
       "OSLOCTM3-emi    nan\n",
       "UKCA           2.41\n",
       "WACCM6-2deg    2.31\n",
       "Name: increase_w_o_feedback, dtype: float64"
      ]
     },
     "execution_count": 99,
     "metadata": {},
     "output_type": "execute_result"
    }
   ],
   "source": [
    "df_w_o_feedback =df_ch4_tot_lifetime.loc['CTRL']/df_ch4_burden_per_conc #Lifetime [yr] / [Tg/ppb] \n",
    "df_w_o_feedback['GFDL-emi']=np.nan\n",
    "df_w_o_feedback = df_w_o_feedback.sort_index()\n",
    "df_w_o_feedback.name = 'increase_w_o_feedback'\n",
    "df_w_o_feedback.to_csv(outputpath + 'increase_w_o_feedback.csv')\n",
    "df_w_o_feedback"
   ]
  },
  {
   "cell_type": "markdown",
   "metadata": {},
   "source": [
    "### Feedback factor: increase CH4 with feedback/ increase CH4 without feedback"
   ]
  },
  {
   "cell_type": "code",
   "execution_count": 100,
   "metadata": {},
   "outputs": [
    {
     "data": {
      "text/plain": [
       "GFDL-emi        nan\n",
       "GFDL_nudge     1.40\n",
       "INCA           1.36\n",
       "OSLOCTM3       1.47\n",
       "OSLOCTM3-emi    nan\n",
       "UKCA           1.45\n",
       "WACCM6-2deg    1.55\n",
       "Name: feedback_factor_ch4, dtype: float64"
      ]
     },
     "execution_count": 100,
     "metadata": {},
     "output_type": "execute_result"
    }
   ],
   "source": [
    "df_feedback_factor_ch4 = df_surf_ch4_per_ch4_flux/df_w_o_feedback\n",
    "df_feedback_factor_ch4.name = 'feedback_factor_ch4'\n",
    "df_feedback_factor_ch4 = df_feedback_factor_ch4.sort_index()\n",
    "df_feedback_factor_ch4['GFDL-emi']=np.nan\n",
    "df_feedback_factor_ch4.to_csv(outputpath + 'feedback_factor_ch4.csv')\n",
    "df_feedback_factor_ch4"
   ]
  },
  {
   "cell_type": "markdown",
   "metadata": {},
   "source": [
    "Split the CH4 GWP into direct and indirect based on the feedback factor."
   ]
  },
  {
   "cell_type": "code",
   "execution_count": 101,
   "metadata": {},
   "outputs": [
    {
     "data": {
      "text/plain": [
       "GFDL-emi        nan\n",
       "GFDL_nudge     0.29\n",
       "INCA           0.27\n",
       "OSLOCTM3       0.32\n",
       "OSLOCTM3-emi    nan\n",
       "UKCA           0.31\n",
       "WACCM6-2deg    0.36\n",
       "Name: feedback_frac, dtype: float64"
      ]
     },
     "execution_count": 101,
     "metadata": {},
     "output_type": "execute_result"
    }
   ],
   "source": [
    "feedback_factor = df_feedback_factor_ch4\n",
    "feedback_frac = 1.0 - (1.0/feedback_factor)\n",
    "feedback_frac.name = 'feedback_frac'\n",
    "feedback_frac"
   ]
  },
  {
   "cell_type": "code",
   "execution_count": 102,
   "metadata": {},
   "outputs": [
    {
     "name": "stderr",
     "output_type": "stream",
     "text": [
      "/home/ragnhibs/anaconda3/lib/python3.7/site-packages/ipykernel_launcher.py:3: SettingWithCopyWarning: \n",
      "A value is trying to be set on a copy of a slice from a DataFrame\n",
      "\n",
      "See the caveats in the documentation: http://pandas.pydata.org/pandas-docs/stable/indexing.html#indexing-view-versus-copy\n",
      "  This is separate from the ipykernel package so we can avoid doing imports until\n",
      "/home/ragnhibs/anaconda3/lib/python3.7/site-packages/ipykernel_launcher.py:4: SettingWithCopyWarning: \n",
      "A value is trying to be set on a copy of a slice from a DataFrame\n",
      "\n",
      "See the caveats in the documentation: http://pandas.pydata.org/pandas-docs/stable/indexing.html#indexing-view-versus-copy\n",
      "  after removing the cwd from sys.path.\n",
      "/home/ragnhibs/anaconda3/lib/python3.7/site-packages/ipykernel_launcher.py:6: SettingWithCopyWarning: \n",
      "A value is trying to be set on a copy of a slice from a DataFrame\n",
      "\n",
      "See the caveats in the documentation: http://pandas.pydata.org/pandas-docs/stable/indexing.html#indexing-view-versus-copy\n",
      "  \n",
      "/home/ragnhibs/anaconda3/lib/python3.7/site-packages/ipykernel_launcher.py:7: SettingWithCopyWarning: \n",
      "A value is trying to be set on a copy of a slice from a DataFrame\n",
      "\n",
      "See the caveats in the documentation: http://pandas.pydata.org/pandas-docs/stable/indexing.html#indexing-view-versus-copy\n",
      "  import sys\n"
     ]
    },
    {
     "data": {
      "text/html": [
       "<div>\n",
       "<style scoped>\n",
       "    .dataframe tbody tr th:only-of-type {\n",
       "        vertical-align: middle;\n",
       "    }\n",
       "\n",
       "    .dataframe tbody tr th {\n",
       "        vertical-align: top;\n",
       "    }\n",
       "\n",
       "    .dataframe thead th {\n",
       "        text-align: right;\n",
       "    }\n",
       "</style>\n",
       "<table border=\"1\" class=\"dataframe\">\n",
       "  <thead>\n",
       "    <tr style=\"text-align: right;\">\n",
       "      <th></th>\n",
       "      <th>GFDL-emi</th>\n",
       "      <th>GFDL_nudge</th>\n",
       "      <th>INCA</th>\n",
       "      <th>OSLOCTM3</th>\n",
       "      <th>OSLOCTM3-emi</th>\n",
       "      <th>UKCA</th>\n",
       "      <th>WACCM6-2deg</th>\n",
       "    </tr>\n",
       "  </thead>\n",
       "  <tbody>\n",
       "    <tr>\n",
       "      <th>O3</th>\n",
       "      <td>4.34</td>\n",
       "      <td>2.34</td>\n",
       "      <td>1.64</td>\n",
       "      <td>2.44</td>\n",
       "      <td>2.49</td>\n",
       "      <td>1.85</td>\n",
       "      <td>1.97</td>\n",
       "    </tr>\n",
       "    <tr>\n",
       "      <th>strat H2O</th>\n",
       "      <td>2.80</td>\n",
       "      <td>1.80</td>\n",
       "      <td>1.27</td>\n",
       "      <td>1.94</td>\n",
       "      <td>1.97</td>\n",
       "      <td>nan</td>\n",
       "      <td>0.58</td>\n",
       "    </tr>\n",
       "    <tr>\n",
       "      <th>O3 CH4ind</th>\n",
       "      <td>nan</td>\n",
       "      <td>2.35</td>\n",
       "      <td>1.53</td>\n",
       "      <td>2.85</td>\n",
       "      <td>2.91</td>\n",
       "      <td>2.00</td>\n",
       "      <td>3.13</td>\n",
       "    </tr>\n",
       "    <tr>\n",
       "      <th>strat H2O CH4ind</th>\n",
       "      <td>nan</td>\n",
       "      <td>1.41</td>\n",
       "      <td>0.46</td>\n",
       "      <td>0.70</td>\n",
       "      <td>0.72</td>\n",
       "      <td>nan</td>\n",
       "      <td>0.28</td>\n",
       "    </tr>\n",
       "    <tr>\n",
       "      <th>CH4dir</th>\n",
       "      <td>4.30</td>\n",
       "      <td>3.52</td>\n",
       "      <td>3.56</td>\n",
       "      <td>3.31</td>\n",
       "      <td>4.96</td>\n",
       "      <td>3.97</td>\n",
       "      <td>3.29</td>\n",
       "    </tr>\n",
       "    <tr>\n",
       "      <th>CH4indir</th>\n",
       "      <td>nan</td>\n",
       "      <td>1.40</td>\n",
       "      <td>1.29</td>\n",
       "      <td>1.54</td>\n",
       "      <td>nan</td>\n",
       "      <td>1.77</td>\n",
       "      <td>1.82</td>\n",
       "    </tr>\n",
       "  </tbody>\n",
       "</table>\n",
       "</div>"
      ],
      "text/plain": [
       "                  GFDL-emi  GFDL_nudge  INCA  OSLOCTM3  OSLOCTM3-emi  UKCA  \\\n",
       "O3                    4.34        2.34  1.64      2.44          2.49  1.85   \n",
       "strat H2O             2.80        1.80  1.27      1.94          1.97   nan   \n",
       "O3 CH4ind              nan        2.35  1.53      2.85          2.91  2.00   \n",
       "strat H2O CH4ind       nan        1.41  0.46      0.70          0.72   nan   \n",
       "CH4dir                4.30        3.52  3.56      3.31          4.96  3.97   \n",
       "CH4indir               nan        1.40  1.29      1.54           nan  1.77   \n",
       "\n",
       "                  WACCM6-2deg  \n",
       "O3                       1.97  \n",
       "strat H2O                0.58  \n",
       "O3 CH4ind                3.13  \n",
       "strat H2O CH4ind         0.28  \n",
       "CH4dir                   3.29  \n",
       "CH4indir                 1.82  "
      ]
     },
     "execution_count": 102,
     "metadata": {},
     "output_type": "execute_result"
    }
   ],
   "source": [
    "#Save to file:\n",
    "\n",
    "df_h2_gwp.loc['CH4dir'] = df_h2_gwp.loc['CH4']*(1.0-feedback_frac)\n",
    "df_h2_gwp.loc['CH4indir'] = df_h2_gwp.loc['CH4']*feedback_frac\n",
    "\n",
    "df_h2_gwp['GFDL-emi'].loc['CH4dir'] = df_h2_gwp['GFDL-emi'].loc['CH4']\n",
    "df_h2_gwp['OSLOCTM3-emi'].loc['CH4dir'] = df_h2_gwp['OSLOCTM3-emi'].loc['CH4']\n",
    "df_h2_gwp = df_h2_gwp.drop(['total','CH4'])\n",
    "df_h2_gwp.to_csv(outputpath + 'table_h2_gwp.csv')\n",
    "\n",
    "df_h2_gwp"
   ]
  },
  {
   "cell_type": "code",
   "execution_count": 103,
   "metadata": {},
   "outputs": [
    {
     "data": {
      "text/plain": [
       "GFDL-emi        nan\n",
       "GFDL_nudge     1.40\n",
       "INCA           1.36\n",
       "OSLOCTM3       1.47\n",
       "OSLOCTM3-emi    nan\n",
       "UKCA           1.45\n",
       "WACCM6-2deg    1.55\n",
       "Name: feedback_factor_ch4, dtype: float64"
      ]
     },
     "execution_count": 103,
     "metadata": {},
     "output_type": "execute_result"
    }
   ],
   "source": [
    "df_feedback_factor_ch4"
   ]
  },
  {
   "cell_type": "code",
   "execution_count": 104,
   "metadata": {},
   "outputs": [
    {
     "name": "stdout",
     "output_type": "stream",
     "text": [
      "OSLOCTM3       1.44\n",
      "WACCM6-2deg    1.53\n",
      "INCA           1.35\n",
      "GFDL-emi       19.8\n",
      "OSLOCTM3-emi    nan\n",
      "UKCA           1.43\n",
      "GFDL_nudge     1.38\n",
      "dtype: float64\n"
     ]
    }
   ],
   "source": [
    "#Alternative feedback calc:\n",
    "#ss the sensitivity of the lifetime to the burden.\n",
    "\n",
    "#ss = 1 – dln[<k All><H2>]/dln[<H2>] \n",
    "#= 1 – dln[<k All>]/dln[<H2>] – dln[<H2>]/dln[<H2>] \n",
    "#= – dln[<k All>]/dln[<H2>] \n",
    "#=  +dln[1/<k All>] / dln[<H2>] \n",
    "\n",
    "#<k All> = <k OH> + <kstrat OH> + <k soil> Are the inverse liftime-\n",
    "k_all_inv = df_ch4_tot_lifetime\n",
    "\n",
    "a = np.log(k_all_inv.loc['10CH4'])-np.log(k_all_inv.loc['CTRL'])\n",
    "\n",
    "b = np.log(df_ch4_burden.loc['10CH4'])-np.log(df_ch4_burden.loc['CTRL'])\n",
    "#print(b)\n",
    "ss = a/b\n",
    "ff = 1/(1-ss)\n",
    "print(ff)"
   ]
  },
  {
   "cell_type": "code",
   "execution_count": 105,
   "metadata": {},
   "outputs": [
    {
     "name": "stdout",
     "output_type": "stream",
     "text": [
      "OSLOCTM3       1.44\n",
      "WACCM6-2deg    1.53\n",
      "INCA           1.35\n",
      "OSLOCTM3-emi    nan\n",
      "UKCA           1.43\n",
      "GFDL_nudge     1.38\n",
      "dtype: float64\n"
     ]
    }
   ],
   "source": [
    "ss = (np.log(df_ch4_tot_lifetime.loc['10CH4']/df_ch4_tot_lifetime.loc['CTRL']))/np.log(df_ch4_burden.loc['10CH4']/df_ch4_burden.loc['CTRL'])\n",
    "ff=1/(1-ss)\n",
    "print(ff.drop('GFDL-emi'))"
   ]
  },
  {
   "cell_type": "markdown",
   "metadata": {},
   "source": [
    "## Hydrogen feedback factor:"
   ]
  },
  {
   "cell_type": "markdown",
   "metadata": {},
   "source": [
    "### Atmospheric mass conversion H2  [Tg/ppb] (from perturbations)"
   ]
  },
  {
   "cell_type": "code",
   "execution_count": 106,
   "metadata": {},
   "outputs": [
    {
     "data": {
      "text/plain": [
       "OSLOCTM3       0.35\n",
       "WACCM6-2deg    0.35\n",
       "INCA           0.35\n",
       "GFDL-emi       0.34\n",
       "OSLOCTM3-emi   0.35\n",
       "UKCA           0.34\n",
       "GFDL_nudge     0.34\n",
       "Name: h2_burden_per_conc, dtype: float64"
      ]
     },
     "execution_count": 106,
     "metadata": {},
     "output_type": "execute_result"
    }
   ],
   "source": [
    "df_h2_burden_per_conc  = df_h2_burden.loc['deltaH2']/df_h2_surfconc.loc['deltaH2']\n",
    "df_h2_burden_per_conc.name = 'h2_burden_per_conc'\n",
    "df_h2_burden_per_conc"
   ]
  },
  {
   "cell_type": "markdown",
   "metadata": {},
   "source": [
    "### Increase per unit flux w/o feedback = integrated decay [ppb yr/Tg]"
   ]
  },
  {
   "cell_type": "code",
   "execution_count": 107,
   "metadata": {},
   "outputs": [
    {
     "data": {
      "text/plain": [
       "OSLOCTM3       6.36\n",
       "WACCM6-2deg    5.44\n",
       "INCA           7.44\n",
       "GFDL-emi       7.34\n",
       "OSLOCTM3-emi   6.78\n",
       "UKCA           7.82\n",
       "GFDL_nudge     7.01\n",
       "dtype: float64"
      ]
     },
     "execution_count": 107,
     "metadata": {},
     "output_type": "execute_result"
    }
   ],
   "source": [
    "df_w_o_feedback_h2 =df_h2_lifetime.loc['CTRL']/df_h2_burden_per_conc #Lifetime [yr] / [Tg/ppb] \n",
    "df_w_o_feedback_h2"
   ]
  },
  {
   "cell_type": "markdown",
   "metadata": {},
   "source": [
    "### Feedback factor: increase H2 with feedback/ increase H2 without feedback"
   ]
  },
  {
   "cell_type": "markdown",
   "metadata": {},
   "source": [
    "If you take the control lifetime from the budget terms and divide it into the lifetime of the perturbation (the added burden from the 10% increase divided by the change in chemical flux from that perturbation.) You should get the feed back factor."
   ]
  },
  {
   "cell_type": "code",
   "execution_count": 108,
   "metadata": {},
   "outputs": [
    {
     "data": {
      "text/plain": [
       "OSLOCTM3       0.98\n",
       "WACCM6-2deg    0.99\n",
       "INCA           0.99\n",
       "GFDL-emi       0.95\n",
       "OSLOCTM3-emi   0.96\n",
       "UKCA           1.00\n",
       "GFDL_nudge     1.00\n",
       "Name: feedback_factor_h2, dtype: float64"
      ]
     },
     "execution_count": 108,
     "metadata": {},
     "output_type": "execute_result"
    }
   ],
   "source": [
    "df_feedback_factor_h2 = df_surf_h2_per_h2_flux/df_w_o_feedback_h2\n",
    "df_feedback_factor_h2.name = 'feedback_factor_h2'\n",
    "df_feedback_factor_h2\n",
    "#Fabien wrote in the paper about feedback factor less than 1."
   ]
  },
  {
   "cell_type": "markdown",
   "metadata": {},
   "source": [
    "### Change in lifetime per flux"
   ]
  },
  {
   "cell_type": "code",
   "execution_count": 109,
   "metadata": {},
   "outputs": [
    {
     "data": {
      "text/html": [
       "<div>\n",
       "<style scoped>\n",
       "    .dataframe tbody tr th:only-of-type {\n",
       "        vertical-align: middle;\n",
       "    }\n",
       "\n",
       "    .dataframe tbody tr th {\n",
       "        vertical-align: top;\n",
       "    }\n",
       "\n",
       "    .dataframe thead th {\n",
       "        text-align: right;\n",
       "    }\n",
       "</style>\n",
       "<table border=\"1\" class=\"dataframe\">\n",
       "  <thead>\n",
       "    <tr style=\"text-align: right;\">\n",
       "      <th></th>\n",
       "      <th>OSLOCTM3</th>\n",
       "      <th>WACCM6-2deg</th>\n",
       "      <th>INCA</th>\n",
       "      <th>GFDL-emi</th>\n",
       "      <th>OSLOCTM3-emi</th>\n",
       "      <th>UKCA</th>\n",
       "      <th>GFDL_nudge</th>\n",
       "    </tr>\n",
       "    <tr>\n",
       "      <th>Scenario</th>\n",
       "      <th></th>\n",
       "      <th></th>\n",
       "      <th></th>\n",
       "      <th></th>\n",
       "      <th></th>\n",
       "      <th></th>\n",
       "      <th></th>\n",
       "    </tr>\n",
       "  </thead>\n",
       "  <tbody>\n",
       "    <tr>\n",
       "      <th>CTRL</th>\n",
       "      <td>7.31</td>\n",
       "      <td>6.88</td>\n",
       "      <td>8.44</td>\n",
       "      <td>9.17</td>\n",
       "      <td>7.33</td>\n",
       "      <td>7.92</td>\n",
       "      <td>9.24</td>\n",
       "    </tr>\n",
       "    <tr>\n",
       "      <th>10H2</th>\n",
       "      <td>7.34</td>\n",
       "      <td>6.91</td>\n",
       "      <td>8.47</td>\n",
       "      <td>9.93</td>\n",
       "      <td>7.38</td>\n",
       "      <td>7.95</td>\n",
       "      <td>9.38</td>\n",
       "    </tr>\n",
       "    <tr>\n",
       "      <th>10CH4</th>\n",
       "      <td>7.55</td>\n",
       "      <td>7.13</td>\n",
       "      <td>8.67</td>\n",
       "      <td>10.2</td>\n",
       "      <td>nan</td>\n",
       "      <td>8.19</td>\n",
       "      <td>9.51</td>\n",
       "    </tr>\n",
       "    <tr>\n",
       "      <th>deltaH2</th>\n",
       "      <td>0.03</td>\n",
       "      <td>0.03</td>\n",
       "      <td>0.03</td>\n",
       "      <td>0.77</td>\n",
       "      <td>0.05</td>\n",
       "      <td>0.03</td>\n",
       "      <td>0.14</td>\n",
       "    </tr>\n",
       "    <tr>\n",
       "      <th>deltaCH4</th>\n",
       "      <td>0.23</td>\n",
       "      <td>0.25</td>\n",
       "      <td>0.23</td>\n",
       "      <td>1.05</td>\n",
       "      <td>nan</td>\n",
       "      <td>0.27</td>\n",
       "      <td>0.27</td>\n",
       "    </tr>\n",
       "  </tbody>\n",
       "</table>\n",
       "</div>"
      ],
      "text/plain": [
       "          OSLOCTM3  WACCM6-2deg  INCA  GFDL-emi  OSLOCTM3-emi  UKCA  \\\n",
       "Scenario                                                              \n",
       "CTRL          7.31         6.88  8.44      9.17          7.33  7.92   \n",
       "10H2          7.34         6.91  8.47      9.93          7.38  7.95   \n",
       "10CH4         7.55         7.13  8.67      10.2           nan  8.19   \n",
       "deltaH2       0.03         0.03  0.03      0.77          0.05  0.03   \n",
       "deltaCH4      0.23         0.25  0.23      1.05           nan  0.27   \n",
       "\n",
       "          GFDL_nudge  \n",
       "Scenario              \n",
       "CTRL            9.24  \n",
       "10H2            9.38  \n",
       "10CH4           9.51  \n",
       "deltaH2         0.14  \n",
       "deltaCH4        0.27  "
      ]
     },
     "execution_count": 109,
     "metadata": {},
     "output_type": "execute_result"
    }
   ],
   "source": [
    "df_ch4_lifetime.loc['deltaH2'] = df_ch4_lifetime.loc['10H2']-df_ch4_lifetime.loc['CTRL']\n",
    "df_ch4_lifetime.loc['deltaCH4'] = df_ch4_lifetime.loc['10CH4']-df_ch4_lifetime.loc['CTRL']\n",
    "df_ch4_lifetime"
   ]
  },
  {
   "cell_type": "code",
   "execution_count": 110,
   "metadata": {},
   "outputs": [
    {
     "data": {
      "text/plain": [
       "OSLOCTM3       1.23\n",
       "WACCM6-2deg    1.15\n",
       "INCA           1.54\n",
       "GFDL-emi       1.42\n",
       "OSLOCTM3-emi   1.27\n",
       "UKCA           1.86\n",
       "GFDL_nudge     1.69\n",
       "Name: deltaH2, dtype: float64"
      ]
     },
     "execution_count": 110,
     "metadata": {},
     "output_type": "execute_result"
    }
   ],
   "source": [
    "#Direct (changes in methane lifetime per h2 flux [days per Tg H2])\n",
    "df_ch4_lifetime_per_h2_flux =  df_ch4_lifetime.loc['deltaH2']/df_h2_flux.loc['deltaH2']\n",
    "df_ch4_lifetime_per_h2_flux*365.0 #Days"
   ]
  },
  {
   "cell_type": "code",
   "execution_count": 111,
   "metadata": {},
   "outputs": [
    {
     "data": {
      "text/plain": [
       "OSLOCTM3       0.53\n",
       "WACCM6-2deg    0.60\n",
       "INCA           0.52\n",
       "GFDL-emi       26.2\n",
       "OSLOCTM3-emi    nan\n",
       "UKCA           0.72\n",
       "GFDL_nudge     0.62\n",
       "dtype: float64"
      ]
     },
     "execution_count": 111,
     "metadata": {},
     "output_type": "execute_result"
    }
   ],
   "source": [
    "#Indirect (changes in methane lifetime per h2 flux [days per Tg H2] due to changes in methane):\n",
    "df_ch4_lifetime_per_ch4_flux =  df_ch4_lifetime.loc['deltaCH4']/df_ch4_flux.loc['deltaCH4']\n",
    "df_ch4_lifetime_per_ch4_flux*365.0*df_ch4_flux_per_h2_flux\n"
   ]
  },
  {
   "cell_type": "markdown",
   "metadata": {},
   "source": [
    "NB be aware that the 10CH4 in GFDL-emi is not the methane experiment as done in the other experiments!"
   ]
  },
  {
   "cell_type": "markdown",
   "metadata": {},
   "source": [
    "### Check that delta flux equal delta burden divided by lifetime including the feedback effect"
   ]
  },
  {
   "cell_type": "code",
   "execution_count": 112,
   "metadata": {},
   "outputs": [
    {
     "data": {
      "text/plain": [
       "OSLOCTM3       0.98\n",
       "WACCM6-2deg    0.99\n",
       "INCA           0.99\n",
       "GFDL-emi       0.95\n",
       "OSLOCTM3-emi   0.96\n",
       "UKCA           1.00\n",
       "GFDL_nudge     1.00\n",
       "Name: feedback_factor_h2, dtype: float64"
      ]
     },
     "execution_count": 112,
     "metadata": {},
     "output_type": "execute_result"
    }
   ],
   "source": [
    "df_feedback_factor_h2"
   ]
  },
  {
   "cell_type": "code",
   "execution_count": 113,
   "metadata": {},
   "outputs": [
    {
     "name": "stdout",
     "output_type": "stream",
     "text": [
      "OSLOCTM3       0.98\n",
      "WACCM6-2deg    0.99\n",
      "INCA           0.99\n",
      "OSLOCTM3-emi   0.96\n",
      "UKCA           1.00\n",
      "GFDL_nudge     1.00\n",
      "dtype: float64\n"
     ]
    }
   ],
   "source": [
    "ss = (np.log(df_h2_lifetime.loc['10H2']/df_h2_lifetime.loc['CTRL']))/np.log(df_h2_burden.loc['10H2']/df_h2_burden.loc['CTRL'])\n",
    "ff=1/(1-ss)\n",
    "print(ff.drop('GFDL-emi'))"
   ]
  },
  {
   "cell_type": "code",
   "execution_count": 114,
   "metadata": {
    "scrolled": true
   },
   "outputs": [
    {
     "name": "stdout",
     "output_type": "stream",
     "text": [
      "OSLOCTM3       8.54\n",
      "WACCM6-2deg    9.93\n",
      "INCA           7.23\n",
      "GFDL-emi        197\n",
      "OSLOCTM3-emi   13.8\n",
      "UKCA           6.87\n",
      "GFDL_nudge     30.5\n",
      "dtype: float64\n",
      "OSLOCTM3       8.54\n",
      "WACCM6-2deg    9.93\n",
      "INCA           7.23\n",
      "GFDL-emi        197\n",
      "OSLOCTM3-emi   13.8\n",
      "UKCA           6.87\n",
      "GFDL_nudge     30.5\n",
      "Name: deltaH2, dtype: float64\n"
     ]
    }
   ],
   "source": [
    "#Delta burden divided by tau*ff\n",
    "test = df_h2_burden.loc['deltaH2']/(df_h2_lifetime.loc['CTRL']*df_feedback_factor_h2)\n",
    "print(test)\n",
    "print(df_h2_flux.loc['deltaH2'])\n"
   ]
  },
  {
   "cell_type": "code",
   "execution_count": 115,
   "metadata": {},
   "outputs": [
    {
     "name": "stdout",
     "output_type": "stream",
     "text": [
      "GFDL-emi        nan\n",
      "GFDL_nudge     41.4\n",
      "INCA           47.3\n",
      "OSLOCTM3       50.3\n",
      "OSLOCTM3-emi    nan\n",
      "UKCA           51.8\n",
      "WACCM6-2deg    50.3\n",
      "dtype: float64\n",
      "GFDL-emi       3.10\n",
      "GFDL_nudge     41.4\n",
      "INCA           47.3\n",
      "OSLOCTM3       50.3\n",
      "OSLOCTM3-emi   50.3\n",
      "UKCA           51.8\n",
      "WACCM6-2deg    50.3\n",
      "Name: deltaCH4, dtype: float64\n"
     ]
    }
   ],
   "source": [
    "test = df_ch4_burden.loc['deltaCH4']/(df_ch4_tot_lifetime.loc['CTRL']*df_feedback_factor_ch4)\n",
    "print(test.sort_index())\n",
    "print(df_ch4_flux.loc['deltaCH4'].sort_index())"
   ]
  },
  {
   "cell_type": "markdown",
   "metadata": {},
   "source": [
    "# Model mean uncertainty"
   ]
  },
  {
   "cell_type": "code",
   "execution_count": 116,
   "metadata": {},
   "outputs": [
    {
     "name": "stdout",
     "output_type": "stream",
     "text": [
      "[7.31679707 8.05182063 5.83351353 9.59182266 8.09565555]\n"
     ]
    }
   ],
   "source": [
    "tau = np.mean(df_h2_lifetime.drop(labels=['GFDL-emi', 'OSLOCTM3-emi'], axis=1).loc[['CTRL']].values*df_feedback_factor_h2.drop(labels=['GFDL-emi', 'OSLOCTM3-emi']).values)\n",
    "sigma_agwp100CO2 = 0.26/2*agwp100_CO2\n",
    "#tau = np.mean(df_h2_lifetime.drop(labels=['GFDL-emi', 'OSLOCTM3-emi'], axis=1).loc[['CTRL']].values)\n",
    "#print(df_h2_atmloss)\n",
    "#print(df_ozone_rf)\n",
    "#print(df_h2o_rf)\n",
    "#print(df_h2_agwp_o3)\n",
    "gfdl_scaled_burden = df_h2_burden.loc['deltaH2']['GFDL_nudge']/4\n",
    "burden_for_uncertainties = np.append(df_h2_burden.drop(labels=['GFDL-emi', 'OSLOCTM3-emi', 'GFDL_nudge'], axis=1).loc[['deltaH2']].values,gfdl_scaled_burden)\n",
    "sigma_burden = np.std(burden_for_uncertainties)\n",
    "#sigma_burden = np.std(df_h2_burden.drop(labels=['GFDL-emi', 'OSLOCTM3-emi'], axis=1).loc[['deltaH2']].values/df_h2_burden.drop(labels=['GFDL-emi', 'OSLOCTM3-emi'], axis=1).mean(axis = 1).loc[['CTRL']].values)\n",
    "sigma_drydep = 15#np.std(df_h2_drydep.loc[['CTRL']].values)\n",
    "sigma_atmloss = np.std(df_h2_atmloss.drop(labels=['GFDL-emi', 'OSLOCTM3-emi'], axis=1).loc[['CTRL']].values)\n",
    "sigma_rf_methane = 0.20\n",
    "sigma_ff_ch4 = 0.07\n",
    "\n",
    "print(df_per_flux_ch4.drop(labels=['GFDL-emi', 'OsloCTM-emi', 'Model mean'], axis=0).mean(axis = 1).values/df_feedback_factor_ch4.drop(labels=['GFDL-emi', 'OSLOCTM3-emi']).values)\n",
    "sigma_delta_flux_CH4_dir = np.std(df_per_flux_ch4.drop(labels=['GFDL-emi', 'OsloCTM-emi', 'Model mean'], axis=0).mean(axis = 1).values/df_feedback_factor_ch4.drop(labels=['GFDL-emi', 'OSLOCTM3-emi']).values)\n",
    "#sigma_delta_flux_CH4_dir = np.std(df_per_flux_ch4.drop(labels=['GFDL-emi', 'OsloCTM-emi'], axis=0).mean(axis = 1).values)\n",
    "sigma_rf_o3 = np.std((df_h2_agwp_o3.drop(labels=['GFDL-emi', 'OSLOCTM3-emi'])+df_h2_agwp_ch4ind_o3.drop(labels=['GFDL-emi', 'OSLOCTM3-emi']))/tau)\n",
    "sigma_rf_h2o = np.std((df_h2_agwp_h2o.drop(labels=['GFDL-emi', 'OSLOCTM3-emi'])+ df_h2_agwp_ch4ind_o3.drop(labels=['GFDL-emi', 'OSLOCTM3-emi']))/tau)\n",
    "\n"
   ]
  },
  {
   "cell_type": "code",
   "execution_count": 117,
   "metadata": {},
   "outputs": [
    {
     "name": "stdout",
     "output_type": "stream",
     "text": [
      "15\n",
      "0.1732134287663628\n",
      "3.028206428021064\n",
      "0.011635\n",
      "[18.67713195 18.6634     18.6821     18.4208     18.254375  ]\n"
     ]
    }
   ],
   "source": [
    "print(sigma_drydep)\n",
    "print(sigma_burden)\n",
    "print(sigma_atmloss)\n",
    "print(sigma_agwp100CO2)\n",
    "print(burden_for_uncertainties)\n",
    "sigma_h2_ff = np.std(df_feedback_factor_h2.drop(labels=['GFDL-emi', 'OSLOCTM3-emi']))"
   ]
  },
  {
   "cell_type": "code",
   "execution_count": 118,
   "metadata": {},
   "outputs": [
    {
     "name": "stdout",
     "output_type": "stream",
     "text": [
      "11.621194154700564\n",
      "18.539561389333333\n",
      "82.74235077080513\n",
      "2.3453563763446232\n",
      "3.782100645641515\n",
      "1.4458555503863806\n",
      "OSLOCTM3       0.22\n",
      "WACCM6-2deg    0.18\n",
      "INCA           0.15\n",
      "GFDL-emi       0.39\n",
      "OSLOCTM3-emi   0.22\n",
      "UKCA           0.17\n",
      "GFDL_nudge     0.21\n",
      "Name: h2_agwp_o3, dtype: float64\n"
     ]
    }
   ],
   "source": [
    "gwp = df_h2_gwp.drop(labels=['GFDL-emi', 'OSLOCTM3-emi'], axis=1).mean(axis = 1).sum()\n",
    "print(gwp)\n",
    "\n",
    "delta_burden = np.mean(burden_for_uncertainties)\n",
    "loss = np.mean(df_h2_loss.drop(labels=['GFDL-emi', 'OSLOCTM3-emi'], axis=1).loc[['CTRL']].values)\n",
    "print(delta_burden)\n",
    "print(loss)\n",
    "print(tau)\n",
    "delta_flux_CH4 = df_per_flux_ch4.drop(labels=['GFDL-emi', 'OsloCTM-emi'], axis=0)['Surf. conc. CH4 per flux [ppb yr/Tg]'].mean()\n",
    "print(delta_flux_CH4)\n",
    "rf_o3_m = df_h2_agwp_o3.drop(labels=['GFDL-emi', 'OSLOCTM3-emi']).mean()/tau\n",
    "rf_o3_indir_m = df_h2_agwp_ch4ind_o3.drop(labels=['GFDL-emi', 'OSLOCTM3-emi']).mean()/tau\n",
    "rf_h2o_m = df_h2_agwp_h2o.drop(labels=['GFDL-emi', 'OSLOCTM3-emi']).mean()/tau\n",
    "rf_h2o_indir_m = df_h2_agwp_ch4ind_h2o.drop(labels=['GFDL-emi', 'OSLOCTM3-emi']).mean()/tau\n",
    "ff_ch4 = df_feedback_factor_ch4.drop(labels=['GFDL-emi', 'OSLOCTM3-emi']).mean()\n",
    "ff_h2 = df_feedback_factor_h2.drop(labels=['GFDL-emi', 'OSLOCTM3-emi']).mean()\n",
    "delta_flux_CH4_dir = delta_flux_CH4*1.0/ff_ch4\n",
    "print(ff_ch4)\n",
    "print(df_h2_agwp_o3)"
   ]
  },
  {
   "cell_type": "code",
   "execution_count": 119,
   "metadata": {},
   "outputs": [
    {
     "name": "stdout",
     "output_type": "stream",
     "text": [
      "2.6350359108968786\n",
      "0.22674398825279535\n",
      "0.07705600000000001\n",
      "0.006313861044479247\n"
     ]
    }
   ],
   "source": [
    "scaled_sigma_methane = spec_rf_ch4**2*delta_flux_CH4**2*((sigma_rf_methane)**2 + (sigma_ff_ch4/ff_ch4)**2 + (sigma_delta_flux_CH4_dir/delta_flux_CH4_dir)**2)\n",
    "sigma = gwp*np.sqrt((sigma_agwp100CO2/agwp100_CO2)**2 + + (sigma_h2_ff/ff_h2)**2+ (sigma_burden/delta_burden)**2 +1/(loss)**2*(sigma_drydep**2 + sigma_atmloss**2) + (tau*agwp100_CO2/gwp)**2*( scaled_sigma_methane + sigma_rf_h2o**2 + sigma_rf_o3**2))\n",
    "print(sigma)\n",
    "print(sigma/gwp)\n",
    "print(sigma_rf_methane*spec_rf_ch4)\n",
    "print(sigma_h2_ff)"
   ]
  },
  {
   "cell_type": "code",
   "execution_count": 120,
   "metadata": {},
   "outputs": [
    {
     "name": "stdout",
     "output_type": "stream",
     "text": [
      "Uncertainty AGWP_CO2: 0.13\n",
      "Uncertainty burden: 0.009342908665898672\n",
      "Uncertainty drydep: 0.18128563982367069\n",
      "Uncertainty atmospheric loss: 0.03659802265479673\n",
      "Uncertainty RE methane: 0.01366294118091446\n",
      "Uncertainty delta feedback factor methane: 0.0012742768749420352\n",
      "Uncertainty delta flux methane: 0.01229007186909054\n",
      "Uncertainty stratospheric water vapour: 0.0004960323853942994\n",
      "Uncertainty stratospheric ozone: 0.0005488121539335447\n",
      "Uncertainty feedback factor of hydrogen: 0.006381269506848704\n"
     ]
    }
   ],
   "source": [
    "print(f\"Uncertainty AGWP_CO2: {sigma_agwp100CO2/agwp100_CO2}\")\n",
    "print(f\"Uncertainty burden: {sigma_burden/delta_burden}\")\n",
    "print(f\"Uncertainty drydep: {sigma_drydep/loss}\")\n",
    "print(f\"Uncertainty atmospheric loss: {sigma_atmloss/loss}\")\n",
    "print(f\"Uncertainty RE methane: {sigma_rf_methane*delta_flux_CH4*tau*agwp100_CO2/gwp}\")\n",
    "print(f\"Uncertainty delta feedback factor methane: {sigma_ff_ch4*delta_flux_CH4_dir*spec_rf_ch4*tau*agwp100_CO2/gwp}\")\n",
    "print(f\"Uncertainty delta flux methane: {sigma_delta_flux_CH4_dir*ff_ch4*spec_rf_ch4*tau*agwp100_CO2/gwp}\")\n",
    "print(f\"Uncertainty stratospheric water vapour: {sigma_rf_h2o*tau*agwp100_CO2/gwp}\")\n",
    "print(f\"Uncertainty stratospheric ozone: {sigma_rf_o3*tau*agwp100_CO2/gwp}\")\n",
    "print(f\"Uncertainty feedback factor of hydrogen: {sigma_h2_ff/ff_h2}\")"
   ]
  },
  {
   "cell_type": "code",
   "execution_count": 121,
   "metadata": {},
   "outputs": [
    {
     "name": "stdout",
     "output_type": "stream",
     "text": [
      "   delta_burden  sigma_burden  loss  sigma_atmloss  sigma_h2_ff  ff_h2  tau  \\\n",
      "0          18.5          0.17  82.7           3.03         0.01   0.99 2.35   \n",
      "\n",
      "   ff_ch4  delta_flux_CH4  sigma_delta_flux_CH4_dir  \n",
      "0    1.45            3.78                      1.22  \n"
     ]
    }
   ],
   "source": [
    "df_needed_for_uncertainties = pd.DataFrame(data={\"delta_burden\":delta_burden, \"sigma_burden\":sigma_burden, \"loss\":loss, \"sigma_atmloss\":sigma_atmloss, \"sigma_h2_ff\":sigma_h2_ff, \"ff_h2\":ff_h2, \"tau\":tau, \"ff_ch4\":ff_ch4, \"delta_flux_CH4\":delta_flux_CH4, \"sigma_delta_flux_CH4_dir\":sigma_delta_flux_CH4_dir}, index = [0])\n",
    "print(df_needed_for_uncertainties)\n",
    "df_needed_for_uncertainties.to_csv(outputpath + 'uncertainty_input.txt')"
   ]
  },
  {
   "cell_type": "code",
   "execution_count": null,
   "metadata": {},
   "outputs": [],
   "source": []
  }
 ],
 "metadata": {
  "kernelspec": {
   "display_name": "Python 3",
   "language": "python",
   "name": "python3"
  },
  "language_info": {
   "codemirror_mode": {
    "name": "ipython",
    "version": 3
   },
   "file_extension": ".py",
   "mimetype": "text/x-python",
   "name": "python",
   "nbconvert_exporter": "python",
   "pygments_lexer": "ipython3",
   "version": "3.7.0"
  }
 },
 "nbformat": 4,
 "nbformat_minor": 2
}
