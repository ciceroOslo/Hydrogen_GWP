{
 "cells": [
  {
   "cell_type": "markdown",
   "metadata": {},
   "source": [
    "# Calculate GWP and create tables"
   ]
  },
  {
   "cell_type": "markdown",
   "metadata": {},
   "source": [
    "The script calculates the GWP of hydrogen and methane.\n",
    "\n",
    "**Simulations**:\n",
    "- **CTRL**: fixed surface concentration of hydrogen and methane\n",
    "- **10H2**: as CTRL, but with surface H2 increased by 10%. Run to steady state.\n",
    "- **10CH4**: as CTRL, but with surface CH4 increased by 10%. Run to steady state."
   ]
  },
  {
   "cell_type": "code",
   "execution_count": 1,
   "metadata": {},
   "outputs": [
    {
     "data": {
      "text/html": [
       "<style>\n",
       "table {float:left}\n",
       "</style>"
      ],
      "text/plain": [
       "<IPython.core.display.HTML object>"
      ]
     },
     "metadata": {},
     "output_type": "display_data"
    }
   ],
   "source": [
    "%%html\n",
    "<style>\n",
    "table {float:left}\n",
    "</style>"
   ]
  },
  {
   "cell_type": "markdown",
   "metadata": {},
   "source": [
    "\n",
    "| Models   | Simulations length | Average period |\n",
    "|  :---    | :----              | :---           |\n",
    "| OsloCTM3 | 20 years           |   year 20      |\n",
    "| WACCM6   | 18 years           | last 5 years   |\n",
    "| INCA     | 10 years           | last 3 years   |\n",
    "| GFDL*    | 50 years           | last 40 years  | \n",
    "\n",
    "\n",
    "\n"
   ]
  },
  {
   "cell_type": "markdown",
   "metadata": {},
   "source": [
    "*GFDL simulations from Paulot et al. (2021) with H2 emissions (200 Tg/yr).*\n",
    "Monthly mean data.\n",
    "\n",
    "#### OUTLINE:\n",
    "**PART I: Read model results**\n",
    "\n",
    "1. Hydrogen budget\n",
    "    1. H2 burden\n",
    "    2. H2 loss\n",
    "    3. H2 production\n",
    "    4. Estimated H2 emissions\n",
    "    5. H2 surface concentrations\n",
    "    6. H2 lifetime\n",
    "    7. H2 flux\n",
    "2. Methane budget\n",
    "    1. CH4 burden\n",
    "    2. CH4 atmospheric loss\n",
    "    3. CH4 surface concentrations\n",
    "    4. CH4 lifetime\n",
    "    5. CH4 flux\n",
    "3. Ozone\n",
    "    1. Change in troposheric ozone\n",
    "    2. Change in stratosheric ozone\n",
    "    3.  \n",
    "    4. \n",
    "    5. Ozone radiative forcing\n",
    "4. Stratospheric water wapor\n",
    "\n",
    "**PART II: GWP calculations**\n",
    "\n",
    "\n",
    "**PART III: Main results and tabels**\n",
    "\n",
    "**Appendix with additional results**"
   ]
  },
  {
   "cell_type": "code",
   "execution_count": 2,
   "metadata": {},
   "outputs": [],
   "source": [
    "import numpy as np\n",
    "import pandas as pd\n",
    "pd.set_option('display.float_format', lambda x: '{:,.4f}'.format(x) if abs(x)<0 else ('{:,.2f}'.format(x) if abs(x)<10 else ('{:,.1f}'.format(x) if abs(x)<100 else '{:,.0f}'.format(x))))"
   ]
  },
  {
   "cell_type": "markdown",
   "metadata": {},
   "source": [
    "Input and output path:"
   ]
  },
  {
   "cell_type": "code",
   "execution_count": 3,
   "metadata": {},
   "outputs": [],
   "source": [
    "path = r\"./input/\"\n",
    "outputpath= r\"./output/\""
   ]
  },
  {
   "cell_type": "markdown",
   "metadata": {},
   "source": [
    "Constants:"
   ]
  },
  {
   "cell_type": "code",
   "execution_count": 4,
   "metadata": {},
   "outputs": [],
   "source": [
    "#AGWP100_CO2 [mW yr m-2 Tg-1] Source: REF.\n",
    "agwp100_CO2 = 0.09170\n",
    "\n",
    "#CH4 tau_strat[yr] Source: REF\n",
    "tau_strat = 120.0\n",
    "\n",
    "#CH4 tau_soil [yr] Source: REF\n",
    "tau_soil = 160.0\n",
    "\n",
    "#Specific RF for CH4 [mW m-2 ppb-1] Etminan et al., 2016\n",
    "spec_rf_ch4 = 0.44300"
   ]
  },
  {
   "cell_type": "markdown",
   "metadata": {},
   "source": [
    "**Dry deposition adjustments** As there is large uncertanty in dry deposition, we set the dry deposition values in the control run to a high and a low value based on literature (80 and 50 Tg/yr). This will result in a range of GWP values. Adjust the perturbations with the same relative factors as in the control. "
   ]
  },
  {
   "cell_type": "code",
   "execution_count": 5,
   "metadata": {},
   "outputs": [],
   "source": [
    "adjust_drydep = False\n",
    "if(adjust_drydep):\n",
    "    drydep = 80.0\n",
    "    outputpath = outputpath + 'drydep_'+ f'{drydep:.0f}_'"
   ]
  },
  {
   "cell_type": "markdown",
   "metadata": {},
   "source": []
  },
  {
   "cell_type": "markdown",
   "metadata": {},
   "source": [
    "# Part I: Read model results"
   ]
  },
  {
   "cell_type": "markdown",
   "metadata": {},
   "source": [
    "In this part, model results are read from the input files."
   ]
  },
  {
   "cell_type": "markdown",
   "metadata": {},
   "source": [
    "## 1. Hydrogen budget"
   ]
  },
  {
   "cell_type": "markdown",
   "metadata": {},
   "source": [
    "### 1.1 H2 burden [Tg]:"
   ]
  },
  {
   "cell_type": "code",
   "execution_count": 6,
   "metadata": {},
   "outputs": [
    {
     "data": {
      "text/html": [
       "<div>\n",
       "<style scoped>\n",
       "    .dataframe tbody tr th:only-of-type {\n",
       "        vertical-align: middle;\n",
       "    }\n",
       "\n",
       "    .dataframe tbody tr th {\n",
       "        vertical-align: top;\n",
       "    }\n",
       "\n",
       "    .dataframe thead th {\n",
       "        text-align: right;\n",
       "    }\n",
       "</style>\n",
       "<table border=\"1\" class=\"dataframe\">\n",
       "  <thead>\n",
       "    <tr style=\"text-align: right;\">\n",
       "      <th></th>\n",
       "      <th>OSLOCTM3</th>\n",
       "      <th>WACCM6-2deg</th>\n",
       "      <th>INCA</th>\n",
       "      <th>GFDL-emi</th>\n",
       "      <th>OSLOCTM3-emi</th>\n",
       "    </tr>\n",
       "    <tr>\n",
       "      <th>Scenario</th>\n",
       "      <th></th>\n",
       "      <th></th>\n",
       "      <th></th>\n",
       "      <th></th>\n",
       "      <th></th>\n",
       "    </tr>\n",
       "  </thead>\n",
       "  <tbody>\n",
       "    <tr>\n",
       "      <th>CTRL</th>\n",
       "      <td>196</td>\n",
       "      <td>195</td>\n",
       "      <td>194</td>\n",
       "      <td>192</td>\n",
       "      <td>209</td>\n",
       "    </tr>\n",
       "    <tr>\n",
       "      <th>10H2</th>\n",
       "      <td>215</td>\n",
       "      <td>213</td>\n",
       "      <td>213</td>\n",
       "      <td>656</td>\n",
       "      <td>240</td>\n",
       "    </tr>\n",
       "    <tr>\n",
       "      <th>10CH4</th>\n",
       "      <td>197</td>\n",
       "      <td>195</td>\n",
       "      <td>195</td>\n",
       "      <td>nan</td>\n",
       "      <td>nan</td>\n",
       "    </tr>\n",
       "    <tr>\n",
       "      <th>deltaH2</th>\n",
       "      <td>18.7</td>\n",
       "      <td>18.7</td>\n",
       "      <td>18.6</td>\n",
       "      <td>464</td>\n",
       "      <td>30.8</td>\n",
       "    </tr>\n",
       "  </tbody>\n",
       "</table>\n",
       "</div>"
      ],
      "text/plain": [
       "          OSLOCTM3  WACCM6-2deg  INCA  GFDL-emi  OSLOCTM3-emi\n",
       "Scenario                                                     \n",
       "CTRL           196          195   194       192           209\n",
       "10H2           215          213   213       656           240\n",
       "10CH4          197          195   195       nan           nan\n",
       "deltaH2       18.7         18.7  18.6       464          30.8"
      ]
     },
     "execution_count": 6,
     "metadata": {},
     "output_type": "execute_result"
    }
   ],
   "source": [
    "file = 'H2_burden.txt'\n",
    "df_h2_burden = pd.read_csv(path + file, sep=';',index_col=0,header=0)\n",
    "delta = df_h2_burden.loc['10H2']-df_h2_burden.loc['CTRL']\n",
    "delta.name = 'deltaH2'\n",
    "df_h2_burden = df_h2_burden.append(delta)\n",
    "df_h2_burden"
   ]
  },
  {
   "cell_type": "markdown",
   "metadata": {},
   "source": [
    "### 1.2. H2 loss\n",
    "Hydrogen loss happens through two main processes. The largest loss is through dry deposition at the ground. Remaining hydrogen is lost through reactions with OH as it ascends through the atmosphere. "
   ]
  },
  {
   "cell_type": "markdown",
   "metadata": {},
   "source": [
    "#### H2 dry deposition [Tg/yr]"
   ]
  },
  {
   "cell_type": "markdown",
   "metadata": {},
   "source": [
    "The models diagnose drydeposition based on their own schemes, but this is not used directly in the concentration driven runs, as the surface concentrations are fixed."
   ]
  },
  {
   "cell_type": "code",
   "execution_count": 7,
   "metadata": {},
   "outputs": [
    {
     "data": {
      "text/html": [
       "<div>\n",
       "<style scoped>\n",
       "    .dataframe tbody tr th:only-of-type {\n",
       "        vertical-align: middle;\n",
       "    }\n",
       "\n",
       "    .dataframe tbody tr th {\n",
       "        vertical-align: top;\n",
       "    }\n",
       "\n",
       "    .dataframe thead th {\n",
       "        text-align: right;\n",
       "    }\n",
       "</style>\n",
       "<table border=\"1\" class=\"dataframe\">\n",
       "  <thead>\n",
       "    <tr style=\"text-align: right;\">\n",
       "      <th></th>\n",
       "      <th>OSLOCTM3</th>\n",
       "      <th>WACCM6-2deg</th>\n",
       "      <th>INCA</th>\n",
       "      <th>GFDL-emi</th>\n",
       "      <th>OSLOCTM3-emi</th>\n",
       "    </tr>\n",
       "    <tr>\n",
       "      <th>Scenario</th>\n",
       "      <th></th>\n",
       "      <th></th>\n",
       "      <th></th>\n",
       "      <th></th>\n",
       "      <th></th>\n",
       "    </tr>\n",
       "  </thead>\n",
       "  <tbody>\n",
       "    <tr>\n",
       "      <th>CTRL</th>\n",
       "      <td>59.5</td>\n",
       "      <td>73.0</td>\n",
       "      <td>52.1</td>\n",
       "      <td>54.7</td>\n",
       "      <td>58.4</td>\n",
       "    </tr>\n",
       "    <tr>\n",
       "      <th>10H2</th>\n",
       "      <td>65.5</td>\n",
       "      <td>80.3</td>\n",
       "      <td>57.2</td>\n",
       "      <td>204</td>\n",
       "      <td>67.8</td>\n",
       "    </tr>\n",
       "    <tr>\n",
       "      <th>10CH4</th>\n",
       "      <td>59.5</td>\n",
       "      <td>73.0</td>\n",
       "      <td>52.1</td>\n",
       "      <td>nan</td>\n",
       "      <td>0.00</td>\n",
       "    </tr>\n",
       "  </tbody>\n",
       "</table>\n",
       "</div>"
      ],
      "text/plain": [
       "          OSLOCTM3  WACCM6-2deg  INCA  GFDL-emi  OSLOCTM3-emi\n",
       "Scenario                                                     \n",
       "CTRL          59.5         73.0  52.1      54.7          58.4\n",
       "10H2          65.5         80.3  57.2       204          67.8\n",
       "10CH4         59.5         73.0  52.1       nan          0.00"
      ]
     },
     "execution_count": 7,
     "metadata": {},
     "output_type": "execute_result"
    }
   ],
   "source": [
    "file = 'H2_drydep.txt'\n",
    "df_h2_drydep = pd.read_csv(path + file, sep=';',index_col=0,header=0)\n",
    "df_h2_drydep"
   ]
  },
  {
   "cell_type": "markdown",
   "metadata": {},
   "source": [
    "As drydeposition is uncertain, we can replace the models diagnosed drydeposition by a given value. In the concentration driven run, the drydeposition scheme do not impact the atmospheric composition. For emission driven runs, we also do adjust the drydeposition. Remark that we do not use the emission numbers from the emission driven runs directly, the fluxes is estimated based on burden and lifetimes."
   ]
  },
  {
   "cell_type": "code",
   "execution_count": 8,
   "metadata": {},
   "outputs": [],
   "source": [
    "if(adjust_drydep):\n",
    "    print('NB drydep adjusted')\n",
    "    \n",
    "    #Adjust by the relative adjustment in the control simulations\n",
    "    adjust = drydep/df_h2_drydep.loc['CTRL']\n",
    "    df_h2_drydep = df_h2_drydep*adjust\n",
    "    \n",
    "    print(df_h2_drydep)"
   ]
  },
  {
   "cell_type": "markdown",
   "metadata": {},
   "source": [
    "#### H2 atmospheric loss [Tg/yr]"
   ]
  },
  {
   "cell_type": "code",
   "execution_count": 9,
   "metadata": {},
   "outputs": [
    {
     "data": {
      "text/html": [
       "<div>\n",
       "<style scoped>\n",
       "    .dataframe tbody tr th:only-of-type {\n",
       "        vertical-align: middle;\n",
       "    }\n",
       "\n",
       "    .dataframe tbody tr th {\n",
       "        vertical-align: top;\n",
       "    }\n",
       "\n",
       "    .dataframe thead th {\n",
       "        text-align: right;\n",
       "    }\n",
       "</style>\n",
       "<table border=\"1\" class=\"dataframe\">\n",
       "  <thead>\n",
       "    <tr style=\"text-align: right;\">\n",
       "      <th></th>\n",
       "      <th>OSLOCTM3</th>\n",
       "      <th>WACCM6-2deg</th>\n",
       "      <th>INCA</th>\n",
       "      <th>GFDL-emi</th>\n",
       "      <th>OSLOCTM3-emi</th>\n",
       "    </tr>\n",
       "    <tr>\n",
       "      <th>Scenario</th>\n",
       "      <th></th>\n",
       "      <th></th>\n",
       "      <th></th>\n",
       "      <th></th>\n",
       "      <th></th>\n",
       "    </tr>\n",
       "  </thead>\n",
       "  <tbody>\n",
       "    <tr>\n",
       "      <th>CTRL</th>\n",
       "      <td>28.4</td>\n",
       "      <td>29.0</td>\n",
       "      <td>22.1</td>\n",
       "      <td>22.1</td>\n",
       "      <td>30.1</td>\n",
       "    </tr>\n",
       "    <tr>\n",
       "      <th>10H2</th>\n",
       "      <td>31.0</td>\n",
       "      <td>31.7</td>\n",
       "      <td>24.2</td>\n",
       "      <td>69.4</td>\n",
       "      <td>34.3</td>\n",
       "    </tr>\n",
       "    <tr>\n",
       "      <th>10CH4</th>\n",
       "      <td>27.6</td>\n",
       "      <td>28.2</td>\n",
       "      <td>21.6</td>\n",
       "      <td>nan</td>\n",
       "      <td>0.00</td>\n",
       "    </tr>\n",
       "  </tbody>\n",
       "</table>\n",
       "</div>"
      ],
      "text/plain": [
       "          OSLOCTM3  WACCM6-2deg  INCA  GFDL-emi  OSLOCTM3-emi\n",
       "Scenario                                                     \n",
       "CTRL          28.4         29.0  22.1      22.1          30.1\n",
       "10H2          31.0         31.7  24.2      69.4          34.3\n",
       "10CH4         27.6         28.2  21.6       nan          0.00"
      ]
     },
     "execution_count": 9,
     "metadata": {},
     "output_type": "execute_result"
    }
   ],
   "source": [
    "file = 'H2_atm_loss.txt'\n",
    "df_h2_atmloss = pd.read_csv(path + file, sep=';',index_col=0,header=0)\n",
    "df_h2_atmloss\n"
   ]
  },
  {
   "cell_type": "markdown",
   "metadata": {},
   "source": [
    "#### H2 total loss [Tg/yr]:"
   ]
  },
  {
   "cell_type": "code",
   "execution_count": 10,
   "metadata": {},
   "outputs": [
    {
     "data": {
      "text/html": [
       "<div>\n",
       "<style scoped>\n",
       "    .dataframe tbody tr th:only-of-type {\n",
       "        vertical-align: middle;\n",
       "    }\n",
       "\n",
       "    .dataframe tbody tr th {\n",
       "        vertical-align: top;\n",
       "    }\n",
       "\n",
       "    .dataframe thead th {\n",
       "        text-align: right;\n",
       "    }\n",
       "</style>\n",
       "<table border=\"1\" class=\"dataframe\">\n",
       "  <thead>\n",
       "    <tr style=\"text-align: right;\">\n",
       "      <th></th>\n",
       "      <th>OSLOCTM3</th>\n",
       "      <th>WACCM6-2deg</th>\n",
       "      <th>INCA</th>\n",
       "      <th>GFDL-emi</th>\n",
       "      <th>OSLOCTM3-emi</th>\n",
       "    </tr>\n",
       "    <tr>\n",
       "      <th>Scenario</th>\n",
       "      <th></th>\n",
       "      <th></th>\n",
       "      <th></th>\n",
       "      <th></th>\n",
       "      <th></th>\n",
       "    </tr>\n",
       "  </thead>\n",
       "  <tbody>\n",
       "    <tr>\n",
       "      <th>CTRL</th>\n",
       "      <td>87.9</td>\n",
       "      <td>102</td>\n",
       "      <td>74.2</td>\n",
       "      <td>76.8</td>\n",
       "      <td>88.4</td>\n",
       "    </tr>\n",
       "    <tr>\n",
       "      <th>10H2</th>\n",
       "      <td>96.4</td>\n",
       "      <td>112</td>\n",
       "      <td>81.4</td>\n",
       "      <td>273</td>\n",
       "      <td>102</td>\n",
       "    </tr>\n",
       "    <tr>\n",
       "      <th>10CH4</th>\n",
       "      <td>87.2</td>\n",
       "      <td>101</td>\n",
       "      <td>73.7</td>\n",
       "      <td>nan</td>\n",
       "      <td>0.00</td>\n",
       "    </tr>\n",
       "  </tbody>\n",
       "</table>\n",
       "</div>"
      ],
      "text/plain": [
       "          OSLOCTM3  WACCM6-2deg  INCA  GFDL-emi  OSLOCTM3-emi\n",
       "Scenario                                                     \n",
       "CTRL          87.9          102  74.2      76.8          88.4\n",
       "10H2          96.4          112  81.4       273           102\n",
       "10CH4         87.2          101  73.7       nan          0.00"
      ]
     },
     "execution_count": 10,
     "metadata": {},
     "output_type": "execute_result"
    }
   ],
   "source": [
    "df_h2_loss = df_h2_atmloss + df_h2_drydep\n",
    "df_h2_loss\n"
   ]
  },
  {
   "cell_type": "markdown",
   "metadata": {},
   "source": [
    "### 1.3. H2 production"
   ]
  },
  {
   "cell_type": "markdown",
   "metadata": {},
   "source": [
    "#### H2 atm. prod [Tg/yr]"
   ]
  },
  {
   "cell_type": "code",
   "execution_count": 11,
   "metadata": {},
   "outputs": [
    {
     "data": {
      "text/html": [
       "<div>\n",
       "<style scoped>\n",
       "    .dataframe tbody tr th:only-of-type {\n",
       "        vertical-align: middle;\n",
       "    }\n",
       "\n",
       "    .dataframe tbody tr th {\n",
       "        vertical-align: top;\n",
       "    }\n",
       "\n",
       "    .dataframe thead th {\n",
       "        text-align: right;\n",
       "    }\n",
       "</style>\n",
       "<table border=\"1\" class=\"dataframe\">\n",
       "  <thead>\n",
       "    <tr style=\"text-align: right;\">\n",
       "      <th></th>\n",
       "      <th>OSLOCTM3</th>\n",
       "      <th>WACCM6-2deg</th>\n",
       "      <th>INCA</th>\n",
       "      <th>GFDL-emi</th>\n",
       "      <th>OSLOCTM3-emi</th>\n",
       "    </tr>\n",
       "    <tr>\n",
       "      <th>Scenario</th>\n",
       "      <th></th>\n",
       "      <th></th>\n",
       "      <th></th>\n",
       "      <th></th>\n",
       "      <th></th>\n",
       "    </tr>\n",
       "  </thead>\n",
       "  <tbody>\n",
       "    <tr>\n",
       "      <th>CTRL</th>\n",
       "      <td>56.3</td>\n",
       "      <td>33.9</td>\n",
       "      <td>46.7</td>\n",
       "      <td>44.7</td>\n",
       "      <td>56.2</td>\n",
       "    </tr>\n",
       "    <tr>\n",
       "      <th>10H2</th>\n",
       "      <td>56.2</td>\n",
       "      <td>33.8</td>\n",
       "      <td>46.6</td>\n",
       "      <td>43.1</td>\n",
       "      <td>56.1</td>\n",
       "    </tr>\n",
       "    <tr>\n",
       "      <th>10CH4</th>\n",
       "      <td>59.2</td>\n",
       "      <td>36.4</td>\n",
       "      <td>48.9</td>\n",
       "      <td>nan</td>\n",
       "      <td>0.00</td>\n",
       "    </tr>\n",
       "  </tbody>\n",
       "</table>\n",
       "</div>"
      ],
      "text/plain": [
       "          OSLOCTM3  WACCM6-2deg  INCA  GFDL-emi  OSLOCTM3-emi\n",
       "Scenario                                                     \n",
       "CTRL          56.3         33.9  46.7      44.7          56.2\n",
       "10H2          56.2         33.8  46.6      43.1          56.1\n",
       "10CH4         59.2         36.4  48.9       nan          0.00"
      ]
     },
     "execution_count": 11,
     "metadata": {},
     "output_type": "execute_result"
    }
   ],
   "source": [
    "file = 'H2_atm_prod.txt'\n",
    "df_h2_atmprod = pd.read_csv(path + file, sep=';',index_col=0,header=0)\n",
    "df_h2_atmprod"
   ]
  },
  {
   "cell_type": "markdown",
   "metadata": {},
   "source": [
    "### 1.4. Estimated H2 emissions (Total loss = Total prod + emission)"
   ]
  },
  {
   "cell_type": "markdown",
   "metadata": {},
   "source": [
    "In surface concentration driven runs, there are two unknowns; emissions and dry deposition. \n",
    "Emission driven runs, are driven by emission estimates and use the dry deposition scheme to calculate the concentration at the surface. We adjust the dry deposition to take into account uncertainties in emissions and dry deposition on the GWP values."
   ]
  },
  {
   "cell_type": "code",
   "execution_count": 12,
   "metadata": {},
   "outputs": [
    {
     "data": {
      "text/plain": [
       "OSLOCTM3       31.6\n",
       "WACCM6-2deg    68.1\n",
       "INCA           27.5\n",
       "GFDL-emi       32.1\n",
       "OSLOCTM3-emi   32.2\n",
       "Name: CTRL, dtype: float64"
      ]
     },
     "execution_count": 12,
     "metadata": {},
     "output_type": "execute_result"
    }
   ],
   "source": [
    "df_h2_estemis = df_h2_atmloss.loc['CTRL'] + df_h2_drydep.loc['CTRL'] - df_h2_atmprod.loc['CTRL']\n",
    "df_h2_estemis"
   ]
  },
  {
   "cell_type": "markdown",
   "metadata": {},
   "source": [
    "### 1.5. H2 surface concentration [ppb]"
   ]
  },
  {
   "cell_type": "code",
   "execution_count": 13,
   "metadata": {},
   "outputs": [
    {
     "data": {
      "text/html": [
       "<div>\n",
       "<style scoped>\n",
       "    .dataframe tbody tr th:only-of-type {\n",
       "        vertical-align: middle;\n",
       "    }\n",
       "\n",
       "    .dataframe tbody tr th {\n",
       "        vertical-align: top;\n",
       "    }\n",
       "\n",
       "    .dataframe thead th {\n",
       "        text-align: right;\n",
       "    }\n",
       "</style>\n",
       "<table border=\"1\" class=\"dataframe\">\n",
       "  <thead>\n",
       "    <tr style=\"text-align: right;\">\n",
       "      <th></th>\n",
       "      <th>OSLOCTM3</th>\n",
       "      <th>WACCM6-2deg</th>\n",
       "      <th>INCA</th>\n",
       "      <th>GFDL-emi</th>\n",
       "      <th>OSLOCTM3-emi</th>\n",
       "    </tr>\n",
       "    <tr>\n",
       "      <th>Scenario</th>\n",
       "      <th></th>\n",
       "      <th></th>\n",
       "      <th></th>\n",
       "      <th></th>\n",
       "      <th></th>\n",
       "    </tr>\n",
       "  </thead>\n",
       "  <tbody>\n",
       "    <tr>\n",
       "      <th>CTRL</th>\n",
       "      <td>532</td>\n",
       "      <td>532</td>\n",
       "      <td>532</td>\n",
       "      <td>534</td>\n",
       "      <td>567</td>\n",
       "    </tr>\n",
       "    <tr>\n",
       "      <th>10H2</th>\n",
       "      <td>585</td>\n",
       "      <td>585</td>\n",
       "      <td>585</td>\n",
       "      <td>1,880</td>\n",
       "      <td>656</td>\n",
       "    </tr>\n",
       "    <tr>\n",
       "      <th>deltaH2</th>\n",
       "      <td>53.2</td>\n",
       "      <td>53.2</td>\n",
       "      <td>53.2</td>\n",
       "      <td>1,346</td>\n",
       "      <td>88.7</td>\n",
       "    </tr>\n",
       "  </tbody>\n",
       "</table>\n",
       "</div>"
      ],
      "text/plain": [
       "          OSLOCTM3  WACCM6-2deg  INCA  GFDL-emi  OSLOCTM3-emi\n",
       "Scenario                                                     \n",
       "CTRL           532          532   532       534           567\n",
       "10H2           585          585   585     1,880           656\n",
       "deltaH2       53.2         53.2  53.2     1,346          88.7"
      ]
     },
     "execution_count": 13,
     "metadata": {},
     "output_type": "execute_result"
    }
   ],
   "source": [
    "file = 'H2_surfconc.txt'\n",
    "df_h2_surfconc = pd.read_csv(path + file, sep=';',index_col=0,header=0)\n",
    "delta = df_h2_surfconc.loc['10H2']-df_h2_surfconc.loc['CTRL']\n",
    "delta.name = 'deltaH2'\n",
    "df_h2_surfconc = df_h2_surfconc.append(delta)\n",
    "df_h2_surfconc"
   ]
  },
  {
   "cell_type": "markdown",
   "metadata": {},
   "source": [
    "### 1.6. H2 lifetime [yr]\n",
    "We calculate the lifetime as burden divided by loss."
   ]
  },
  {
   "cell_type": "code",
   "execution_count": 14,
   "metadata": {},
   "outputs": [
    {
     "data": {
      "text/html": [
       "<div>\n",
       "<style scoped>\n",
       "    .dataframe tbody tr th:only-of-type {\n",
       "        vertical-align: middle;\n",
       "    }\n",
       "\n",
       "    .dataframe tbody tr th {\n",
       "        vertical-align: top;\n",
       "    }\n",
       "\n",
       "    .dataframe thead th {\n",
       "        text-align: right;\n",
       "    }\n",
       "</style>\n",
       "<table border=\"1\" class=\"dataframe\">\n",
       "  <thead>\n",
       "    <tr style=\"text-align: right;\">\n",
       "      <th></th>\n",
       "      <th>OSLOCTM3</th>\n",
       "      <th>WACCM6-2deg</th>\n",
       "      <th>INCA</th>\n",
       "      <th>GFDL-emi</th>\n",
       "      <th>OSLOCTM3-emi</th>\n",
       "    </tr>\n",
       "    <tr>\n",
       "      <th>Scenario</th>\n",
       "      <th></th>\n",
       "      <th></th>\n",
       "      <th></th>\n",
       "      <th></th>\n",
       "      <th></th>\n",
       "    </tr>\n",
       "  </thead>\n",
       "  <tbody>\n",
       "    <tr>\n",
       "      <th>CTRL</th>\n",
       "      <td>2.23</td>\n",
       "      <td>1.91</td>\n",
       "      <td>2.62</td>\n",
       "      <td>2.50</td>\n",
       "      <td>2.36</td>\n",
       "    </tr>\n",
       "    <tr>\n",
       "      <th>10H2</th>\n",
       "      <td>2.23</td>\n",
       "      <td>1.91</td>\n",
       "      <td>2.62</td>\n",
       "      <td>2.40</td>\n",
       "      <td>2.35</td>\n",
       "    </tr>\n",
       "    <tr>\n",
       "      <th>10CH4</th>\n",
       "      <td>2.26</td>\n",
       "      <td>1.93</td>\n",
       "      <td>2.64</td>\n",
       "      <td>nan</td>\n",
       "      <td>nan</td>\n",
       "    </tr>\n",
       "  </tbody>\n",
       "</table>\n",
       "</div>"
      ],
      "text/plain": [
       "          OSLOCTM3  WACCM6-2deg  INCA  GFDL-emi  OSLOCTM3-emi\n",
       "Scenario                                                     \n",
       "CTRL          2.23         1.91  2.62      2.50          2.36\n",
       "10H2          2.23         1.91  2.62      2.40          2.35\n",
       "10CH4         2.26         1.93  2.64       nan           nan"
      ]
     },
     "execution_count": 14,
     "metadata": {},
     "output_type": "execute_result"
    }
   ],
   "source": [
    "df_h2_lifetime = df_h2_burden.drop('deltaH2')/df_h2_loss\n",
    "df_h2_lifetime"
   ]
  },
  {
   "cell_type": "markdown",
   "metadata": {},
   "source": [
    "#### H2 atmospheric lifetime [yr]\n",
    "The atmospheric lifetime is the burden divided only by the atmospheric loss. This is the lifetime of the fraction of hydrogen which is not dry deposited."
   ]
  },
  {
   "cell_type": "code",
   "execution_count": 15,
   "metadata": {},
   "outputs": [
    {
     "data": {
      "text/html": [
       "<div>\n",
       "<style scoped>\n",
       "    .dataframe tbody tr th:only-of-type {\n",
       "        vertical-align: middle;\n",
       "    }\n",
       "\n",
       "    .dataframe tbody tr th {\n",
       "        vertical-align: top;\n",
       "    }\n",
       "\n",
       "    .dataframe thead th {\n",
       "        text-align: right;\n",
       "    }\n",
       "</style>\n",
       "<table border=\"1\" class=\"dataframe\">\n",
       "  <thead>\n",
       "    <tr style=\"text-align: right;\">\n",
       "      <th></th>\n",
       "      <th>OSLOCTM3</th>\n",
       "      <th>WACCM6-2deg</th>\n",
       "      <th>INCA</th>\n",
       "      <th>GFDL-emi</th>\n",
       "      <th>OSLOCTM3-emi</th>\n",
       "    </tr>\n",
       "    <tr>\n",
       "      <th>Scenario</th>\n",
       "      <th></th>\n",
       "      <th></th>\n",
       "      <th></th>\n",
       "      <th></th>\n",
       "      <th></th>\n",
       "    </tr>\n",
       "  </thead>\n",
       "  <tbody>\n",
       "    <tr>\n",
       "      <th>CTRL</th>\n",
       "      <td>6.91</td>\n",
       "      <td>6.70</td>\n",
       "      <td>8.79</td>\n",
       "      <td>8.66</td>\n",
       "      <td>6.95</td>\n",
       "    </tr>\n",
       "    <tr>\n",
       "      <th>10H2</th>\n",
       "      <td>6.94</td>\n",
       "      <td>6.73</td>\n",
       "      <td>8.82</td>\n",
       "      <td>9.44</td>\n",
       "      <td>6.98</td>\n",
       "    </tr>\n",
       "    <tr>\n",
       "      <th>10CH4</th>\n",
       "      <td>7.12</td>\n",
       "      <td>6.93</td>\n",
       "      <td>9.01</td>\n",
       "      <td>nan</td>\n",
       "      <td>nan</td>\n",
       "    </tr>\n",
       "  </tbody>\n",
       "</table>\n",
       "</div>"
      ],
      "text/plain": [
       "          OSLOCTM3  WACCM6-2deg  INCA  GFDL-emi  OSLOCTM3-emi\n",
       "Scenario                                                     \n",
       "CTRL          6.91         6.70  8.79      8.66          6.95\n",
       "10H2          6.94         6.73  8.82      9.44          6.98\n",
       "10CH4         7.12         6.93  9.01       nan           nan"
      ]
     },
     "execution_count": 15,
     "metadata": {},
     "output_type": "execute_result"
    }
   ],
   "source": [
    "df_h2_atm_lifetime = df_h2_burden.drop('deltaH2')/df_h2_atmloss\n",
    "df_h2_atm_lifetime"
   ]
  },
  {
   "cell_type": "markdown",
   "metadata": {},
   "source": [
    "### 1.7. H2 flux (burden dived by lifetime) [Tg/yr]"
   ]
  },
  {
   "cell_type": "markdown",
   "metadata": {},
   "source": [
    "The hydrogen flux is calculated as the burden divided by the hydrogen lifetime. The hydrogen lifetime is calculated by the burden divided by the total lifetime (drydep + atm.loss). (This is equal to the total loss, as it will be in steady state)\n",
    "\n",
    "The difference in calculated flux in the perturbed and control run is calculated. These numbers include feedbacks (add why). \n",
    "\n",
    "For the GWP calculations, the radiative forcing in the steady state simulations are divided by these flux numbers."
   ]
  },
  {
   "cell_type": "code",
   "execution_count": 16,
   "metadata": {},
   "outputs": [
    {
     "data": {
      "text/html": [
       "<div>\n",
       "<style scoped>\n",
       "    .dataframe tbody tr th:only-of-type {\n",
       "        vertical-align: middle;\n",
       "    }\n",
       "\n",
       "    .dataframe tbody tr th {\n",
       "        vertical-align: top;\n",
       "    }\n",
       "\n",
       "    .dataframe thead th {\n",
       "        text-align: right;\n",
       "    }\n",
       "</style>\n",
       "<table border=\"1\" class=\"dataframe\">\n",
       "  <thead>\n",
       "    <tr style=\"text-align: right;\">\n",
       "      <th></th>\n",
       "      <th>OSLOCTM3</th>\n",
       "      <th>WACCM6-2deg</th>\n",
       "      <th>INCA</th>\n",
       "      <th>GFDL-emi</th>\n",
       "      <th>OSLOCTM3-emi</th>\n",
       "    </tr>\n",
       "    <tr>\n",
       "      <th>Scenario</th>\n",
       "      <th></th>\n",
       "      <th></th>\n",
       "      <th></th>\n",
       "      <th></th>\n",
       "      <th></th>\n",
       "    </tr>\n",
       "  </thead>\n",
       "  <tbody>\n",
       "    <tr>\n",
       "      <th>CTRL</th>\n",
       "      <td>87.9</td>\n",
       "      <td>102</td>\n",
       "      <td>74.2</td>\n",
       "      <td>76.8</td>\n",
       "      <td>88.4</td>\n",
       "    </tr>\n",
       "    <tr>\n",
       "      <th>10H2</th>\n",
       "      <td>96.4</td>\n",
       "      <td>112</td>\n",
       "      <td>81.4</td>\n",
       "      <td>273</td>\n",
       "      <td>102</td>\n",
       "    </tr>\n",
       "    <tr>\n",
       "      <th>10CH4</th>\n",
       "      <td>87.2</td>\n",
       "      <td>101</td>\n",
       "      <td>73.7</td>\n",
       "      <td>nan</td>\n",
       "      <td>nan</td>\n",
       "    </tr>\n",
       "    <tr>\n",
       "      <th>deltaH2</th>\n",
       "      <td>8.54</td>\n",
       "      <td>9.93</td>\n",
       "      <td>7.19</td>\n",
       "      <td>196</td>\n",
       "      <td>13.7</td>\n",
       "    </tr>\n",
       "    <tr>\n",
       "      <th>deltaCH4</th>\n",
       "      <td>-0.75</td>\n",
       "      <td>-0.86</td>\n",
       "      <td>-0.49</td>\n",
       "      <td>nan</td>\n",
       "      <td>nan</td>\n",
       "    </tr>\n",
       "  </tbody>\n",
       "</table>\n",
       "</div>"
      ],
      "text/plain": [
       "          OSLOCTM3  WACCM6-2deg  INCA  GFDL-emi  OSLOCTM3-emi\n",
       "Scenario                                                     \n",
       "CTRL          87.9          102  74.2      76.8          88.4\n",
       "10H2          96.4          112  81.4       273           102\n",
       "10CH4         87.2          101  73.7       nan           nan\n",
       "deltaH2       8.54         9.93  7.19       196          13.7\n",
       "deltaCH4     -0.75        -0.86 -0.49       nan           nan"
      ]
     },
     "execution_count": 16,
     "metadata": {},
     "output_type": "execute_result"
    }
   ],
   "source": [
    "df_h2_flux = df_h2_burden.drop('deltaH2')/df_h2_lifetime\n",
    "#Add delta flux 10H2:\n",
    "delta = df_h2_flux.loc['10H2']-df_h2_flux.loc['CTRL']\n",
    "delta.name = 'deltaH2'\n",
    "df_h2_flux = df_h2_flux.append(delta)\n",
    "#Add delta flux 10CH4:\n",
    "delta = df_h2_flux.loc['10CH4']-df_h2_flux.loc['CTRL']\n",
    "delta.name = 'deltaCH4'\n",
    "df_h2_flux = df_h2_flux.append(delta)\n",
    "df_h2_flux\n"
   ]
  },
  {
   "cell_type": "markdown",
   "metadata": {},
   "source": [
    "Description of the negative deltaCH4. In the methane run, the hydrogen surface concentration is kept fixed. Enhancing methane would influence H2. The hydrogen concentration would have increased, but since we run with fixed concentration, there is a negative flux to compensate. So the increased flux in H2 due to methane is -1*deltaCH4."
   ]
  },
  {
   "cell_type": "markdown",
   "metadata": {},
   "source": [
    "## 2. Methane results"
   ]
  },
  {
   "cell_type": "markdown",
   "metadata": {},
   "source": [
    "### 2.1 CH4 burden [Tg]"
   ]
  },
  {
   "cell_type": "code",
   "execution_count": 17,
   "metadata": {},
   "outputs": [
    {
     "data": {
      "text/html": [
       "<div>\n",
       "<style scoped>\n",
       "    .dataframe tbody tr th:only-of-type {\n",
       "        vertical-align: middle;\n",
       "    }\n",
       "\n",
       "    .dataframe tbody tr th {\n",
       "        vertical-align: top;\n",
       "    }\n",
       "\n",
       "    .dataframe thead th {\n",
       "        text-align: right;\n",
       "    }\n",
       "</style>\n",
       "<table border=\"1\" class=\"dataframe\">\n",
       "  <thead>\n",
       "    <tr style=\"text-align: right;\">\n",
       "      <th></th>\n",
       "      <th>OSLOCTM3</th>\n",
       "      <th>WACCM6-2deg</th>\n",
       "      <th>INCA</th>\n",
       "      <th>GFDL-emi</th>\n",
       "      <th>OSLOCTM3-emi</th>\n",
       "    </tr>\n",
       "    <tr>\n",
       "      <th>Scenario</th>\n",
       "      <th></th>\n",
       "      <th></th>\n",
       "      <th></th>\n",
       "      <th></th>\n",
       "      <th></th>\n",
       "    </tr>\n",
       "  </thead>\n",
       "  <tbody>\n",
       "    <tr>\n",
       "      <th>CTRL</th>\n",
       "      <td>4,995</td>\n",
       "      <td>5,003</td>\n",
       "      <td>4,994</td>\n",
       "      <td>4,935</td>\n",
       "      <td>4,995</td>\n",
       "    </tr>\n",
       "    <tr>\n",
       "      <th>10H2</th>\n",
       "      <td>4,995</td>\n",
       "      <td>5,003</td>\n",
       "      <td>4,995</td>\n",
       "      <td>4,935</td>\n",
       "      <td>4,995</td>\n",
       "    </tr>\n",
       "    <tr>\n",
       "      <th>10CH4</th>\n",
       "      <td>5,496</td>\n",
       "      <td>5,505</td>\n",
       "      <td>5,494</td>\n",
       "      <td>nan</td>\n",
       "      <td>nan</td>\n",
       "    </tr>\n",
       "    <tr>\n",
       "      <th>deltaCH4</th>\n",
       "      <td>501</td>\n",
       "      <td>502</td>\n",
       "      <td>500</td>\n",
       "      <td>nan</td>\n",
       "      <td>nan</td>\n",
       "    </tr>\n",
       "  </tbody>\n",
       "</table>\n",
       "</div>"
      ],
      "text/plain": [
       "          OSLOCTM3  WACCM6-2deg  INCA  GFDL-emi  OSLOCTM3-emi\n",
       "Scenario                                                     \n",
       "CTRL         4,995        5,003 4,994     4,935         4,995\n",
       "10H2         4,995        5,003 4,995     4,935         4,995\n",
       "10CH4        5,496        5,505 5,494       nan           nan\n",
       "deltaCH4       501          502   500       nan           nan"
      ]
     },
     "execution_count": 17,
     "metadata": {},
     "output_type": "execute_result"
    }
   ],
   "source": [
    "file = 'CH4_burden.txt'\n",
    "df_ch4_burden = pd.read_csv(path + file, sep=';',index_col=0,header=0)\n",
    "delta = df_ch4_burden.loc['10CH4']-df_ch4_burden.loc['CTRL']\n",
    "delta.name = 'deltaCH4'\n",
    "df_ch4_burden = df_ch4_burden.append(delta)\n",
    "df_ch4_burden"
   ]
  },
  {
   "cell_type": "markdown",
   "metadata": {},
   "source": [
    "### 2.2 CH4 atmospheric loss [Tg/yr]"
   ]
  },
  {
   "cell_type": "code",
   "execution_count": 18,
   "metadata": {},
   "outputs": [
    {
     "data": {
      "text/html": [
       "<div>\n",
       "<style scoped>\n",
       "    .dataframe tbody tr th:only-of-type {\n",
       "        vertical-align: middle;\n",
       "    }\n",
       "\n",
       "    .dataframe tbody tr th {\n",
       "        vertical-align: top;\n",
       "    }\n",
       "\n",
       "    .dataframe thead th {\n",
       "        text-align: right;\n",
       "    }\n",
       "</style>\n",
       "<table border=\"1\" class=\"dataframe\">\n",
       "  <thead>\n",
       "    <tr style=\"text-align: right;\">\n",
       "      <th></th>\n",
       "      <th>OSLOCTM3</th>\n",
       "      <th>WACCM6-2deg</th>\n",
       "      <th>INCA</th>\n",
       "      <th>GFDL-emi</th>\n",
       "      <th>OSLOCTM3-emi</th>\n",
       "    </tr>\n",
       "    <tr>\n",
       "      <th>Scenario</th>\n",
       "      <th></th>\n",
       "      <th></th>\n",
       "      <th></th>\n",
       "      <th></th>\n",
       "      <th></th>\n",
       "    </tr>\n",
       "  </thead>\n",
       "  <tbody>\n",
       "    <tr>\n",
       "      <th>CTRL</th>\n",
       "      <td>683</td>\n",
       "      <td>727</td>\n",
       "      <td>550</td>\n",
       "      <td>582</td>\n",
       "      <td>681</td>\n",
       "    </tr>\n",
       "    <tr>\n",
       "      <th>10H2</th>\n",
       "      <td>680</td>\n",
       "      <td>724</td>\n",
       "      <td>547</td>\n",
       "      <td>537</td>\n",
       "      <td>677</td>\n",
       "    </tr>\n",
       "    <tr>\n",
       "      <th>10CH4</th>\n",
       "      <td>728</td>\n",
       "      <td>772</td>\n",
       "      <td>588</td>\n",
       "      <td>nan</td>\n",
       "      <td>nan</td>\n",
       "    </tr>\n",
       "  </tbody>\n",
       "</table>\n",
       "</div>"
      ],
      "text/plain": [
       "          OSLOCTM3  WACCM6-2deg  INCA  GFDL-emi  OSLOCTM3-emi\n",
       "Scenario                                                     \n",
       "CTRL           683          727   550       582           681\n",
       "10H2           680          724   547       537           677\n",
       "10CH4          728          772   588       nan           nan"
      ]
     },
     "execution_count": 18,
     "metadata": {},
     "output_type": "execute_result"
    }
   ],
   "source": [
    "file = 'CH4_loss.txt'\n",
    "df_ch4_loss = pd.read_csv(path + file, sep=';',index_col=0,header=0)\n",
    "df_ch4_loss"
   ]
  },
  {
   "cell_type": "markdown",
   "metadata": {},
   "source": [
    "### 2.3 CH4 surface concentration [ppb]"
   ]
  },
  {
   "cell_type": "code",
   "execution_count": 19,
   "metadata": {},
   "outputs": [
    {
     "data": {
      "text/html": [
       "<div>\n",
       "<style scoped>\n",
       "    .dataframe tbody tr th:only-of-type {\n",
       "        vertical-align: middle;\n",
       "    }\n",
       "\n",
       "    .dataframe tbody tr th {\n",
       "        vertical-align: top;\n",
       "    }\n",
       "\n",
       "    .dataframe thead th {\n",
       "        text-align: right;\n",
       "    }\n",
       "</style>\n",
       "<table border=\"1\" class=\"dataframe\">\n",
       "  <thead>\n",
       "    <tr style=\"text-align: right;\">\n",
       "      <th></th>\n",
       "      <th>OSLOCTM3</th>\n",
       "      <th>WACCM6-2deg</th>\n",
       "      <th>INCA</th>\n",
       "      <th>GFDL-emi</th>\n",
       "      <th>OSLOCTM3-emi</th>\n",
       "    </tr>\n",
       "    <tr>\n",
       "      <th>Scenario</th>\n",
       "      <th></th>\n",
       "      <th></th>\n",
       "      <th></th>\n",
       "      <th></th>\n",
       "      <th></th>\n",
       "    </tr>\n",
       "  </thead>\n",
       "  <tbody>\n",
       "    <tr>\n",
       "      <th>CTRL</th>\n",
       "      <td>1,813</td>\n",
       "      <td>1,808</td>\n",
       "      <td>1,813</td>\n",
       "      <td>1,804</td>\n",
       "      <td>1,813</td>\n",
       "    </tr>\n",
       "    <tr>\n",
       "      <th>10CH4</th>\n",
       "      <td>1,994</td>\n",
       "      <td>1,989</td>\n",
       "      <td>1,994</td>\n",
       "      <td>nan</td>\n",
       "      <td>nan</td>\n",
       "    </tr>\n",
       "    <tr>\n",
       "      <th>deltaCH4</th>\n",
       "      <td>181</td>\n",
       "      <td>181</td>\n",
       "      <td>181</td>\n",
       "      <td>nan</td>\n",
       "      <td>nan</td>\n",
       "    </tr>\n",
       "  </tbody>\n",
       "</table>\n",
       "</div>"
      ],
      "text/plain": [
       "          OSLOCTM3  WACCM6-2deg  INCA  GFDL-emi  OSLOCTM3-emi\n",
       "Scenario                                                     \n",
       "CTRL         1,813        1,808 1,813     1,804         1,813\n",
       "10CH4        1,994        1,989 1,994       nan           nan\n",
       "deltaCH4       181          181   181       nan           nan"
      ]
     },
     "execution_count": 19,
     "metadata": {},
     "output_type": "execute_result"
    }
   ],
   "source": [
    "file = 'CH4_surfconc.txt'\n",
    "df_ch4_surfconc = pd.read_csv(path + file, sep=';',index_col=0,header=0)\n",
    "delta = df_ch4_surfconc.loc['10CH4']-df_ch4_surfconc.loc['CTRL']\n",
    "delta.name = 'deltaCH4'\n",
    "df_ch4_surfconc = df_ch4_surfconc.append(delta)\n",
    "df_ch4_surfconc"
   ]
  },
  {
   "cell_type": "markdown",
   "metadata": {},
   "source": [
    "### 2.4 CH4 lifetime [yr]"
   ]
  },
  {
   "cell_type": "code",
   "execution_count": 20,
   "metadata": {
    "scrolled": true
   },
   "outputs": [
    {
     "data": {
      "text/html": [
       "<div>\n",
       "<style scoped>\n",
       "    .dataframe tbody tr th:only-of-type {\n",
       "        vertical-align: middle;\n",
       "    }\n",
       "\n",
       "    .dataframe tbody tr th {\n",
       "        vertical-align: top;\n",
       "    }\n",
       "\n",
       "    .dataframe thead th {\n",
       "        text-align: right;\n",
       "    }\n",
       "</style>\n",
       "<table border=\"1\" class=\"dataframe\">\n",
       "  <thead>\n",
       "    <tr style=\"text-align: right;\">\n",
       "      <th></th>\n",
       "      <th>OSLOCTM3</th>\n",
       "      <th>WACCM6-2deg</th>\n",
       "      <th>INCA</th>\n",
       "      <th>GFDL-emi</th>\n",
       "      <th>OSLOCTM3-emi</th>\n",
       "    </tr>\n",
       "    <tr>\n",
       "      <th>Scenario</th>\n",
       "      <th></th>\n",
       "      <th></th>\n",
       "      <th></th>\n",
       "      <th></th>\n",
       "      <th></th>\n",
       "    </tr>\n",
       "  </thead>\n",
       "  <tbody>\n",
       "    <tr>\n",
       "      <th>CTRL</th>\n",
       "      <td>7.31</td>\n",
       "      <td>6.88</td>\n",
       "      <td>9.09</td>\n",
       "      <td>8.48</td>\n",
       "      <td>7.33</td>\n",
       "    </tr>\n",
       "    <tr>\n",
       "      <th>10H2</th>\n",
       "      <td>7.34</td>\n",
       "      <td>6.91</td>\n",
       "      <td>9.12</td>\n",
       "      <td>9.19</td>\n",
       "      <td>7.38</td>\n",
       "    </tr>\n",
       "    <tr>\n",
       "      <th>10CH4</th>\n",
       "      <td>7.55</td>\n",
       "      <td>7.13</td>\n",
       "      <td>9.35</td>\n",
       "      <td>nan</td>\n",
       "      <td>nan</td>\n",
       "    </tr>\n",
       "  </tbody>\n",
       "</table>\n",
       "</div>"
      ],
      "text/plain": [
       "          OSLOCTM3  WACCM6-2deg  INCA  GFDL-emi  OSLOCTM3-emi\n",
       "Scenario                                                     \n",
       "CTRL          7.31         6.88  9.09      8.48          7.33\n",
       "10H2          7.34         6.91  9.12      9.19          7.38\n",
       "10CH4         7.55         7.13  9.35       nan           nan"
      ]
     },
     "execution_count": 20,
     "metadata": {},
     "output_type": "execute_result"
    }
   ],
   "source": [
    "df_ch4_lifetime = df_ch4_burden.drop('deltaCH4')/df_ch4_loss\n",
    "df_ch4_lifetime"
   ]
  },
  {
   "cell_type": "markdown",
   "metadata": {},
   "source": [
    "#### Total CH4 lifetime [yr]"
   ]
  },
  {
   "cell_type": "code",
   "execution_count": 21,
   "metadata": {},
   "outputs": [
    {
     "data": {
      "text/html": [
       "<div>\n",
       "<style scoped>\n",
       "    .dataframe tbody tr th:only-of-type {\n",
       "        vertical-align: middle;\n",
       "    }\n",
       "\n",
       "    .dataframe tbody tr th {\n",
       "        vertical-align: top;\n",
       "    }\n",
       "\n",
       "    .dataframe thead th {\n",
       "        text-align: right;\n",
       "    }\n",
       "</style>\n",
       "<table border=\"1\" class=\"dataframe\">\n",
       "  <thead>\n",
       "    <tr style=\"text-align: right;\">\n",
       "      <th></th>\n",
       "      <th>OSLOCTM3</th>\n",
       "      <th>WACCM6-2deg</th>\n",
       "      <th>INCA</th>\n",
       "      <th>GFDL-emi</th>\n",
       "      <th>OSLOCTM3-emi</th>\n",
       "    </tr>\n",
       "    <tr>\n",
       "      <th>Scenario</th>\n",
       "      <th></th>\n",
       "      <th></th>\n",
       "      <th></th>\n",
       "      <th></th>\n",
       "      <th></th>\n",
       "    </tr>\n",
       "  </thead>\n",
       "  <tbody>\n",
       "    <tr>\n",
       "      <th>CTRL</th>\n",
       "      <td>6.61</td>\n",
       "      <td>6.25</td>\n",
       "      <td>8.02</td>\n",
       "      <td>7.54</td>\n",
       "      <td>6.62</td>\n",
       "    </tr>\n",
       "    <tr>\n",
       "      <th>10H2</th>\n",
       "      <td>6.63</td>\n",
       "      <td>6.28</td>\n",
       "      <td>8.05</td>\n",
       "      <td>8.10</td>\n",
       "      <td>6.66</td>\n",
       "    </tr>\n",
       "    <tr>\n",
       "      <th>10CH4</th>\n",
       "      <td>6.80</td>\n",
       "      <td>6.46</td>\n",
       "      <td>8.23</td>\n",
       "      <td>nan</td>\n",
       "      <td>nan</td>\n",
       "    </tr>\n",
       "  </tbody>\n",
       "</table>\n",
       "</div>"
      ],
      "text/plain": [
       "          OSLOCTM3  WACCM6-2deg  INCA  GFDL-emi  OSLOCTM3-emi\n",
       "Scenario                                                     \n",
       "CTRL          6.61         6.25  8.02      7.54          6.62\n",
       "10H2          6.63         6.28  8.05      8.10          6.66\n",
       "10CH4         6.80         6.46  8.23       nan           nan"
      ]
     },
     "execution_count": 21,
     "metadata": {},
     "output_type": "execute_result"
    }
   ],
   "source": [
    "df_ch4_tot_lifetime = 1.0/(1.0/df_ch4_lifetime + 1.0/tau_strat + 1.0/tau_soil)\n",
    "df_ch4_tot_lifetime"
   ]
  },
  {
   "cell_type": "markdown",
   "metadata": {},
   "source": [
    "### 2.5 CH4 flux (burden dived by total lifetime) [Tg/yr]"
   ]
  },
  {
   "cell_type": "code",
   "execution_count": 22,
   "metadata": {},
   "outputs": [
    {
     "data": {
      "text/html": [
       "<div>\n",
       "<style scoped>\n",
       "    .dataframe tbody tr th:only-of-type {\n",
       "        vertical-align: middle;\n",
       "    }\n",
       "\n",
       "    .dataframe tbody tr th {\n",
       "        vertical-align: top;\n",
       "    }\n",
       "\n",
       "    .dataframe thead th {\n",
       "        text-align: right;\n",
       "    }\n",
       "</style>\n",
       "<table border=\"1\" class=\"dataframe\">\n",
       "  <thead>\n",
       "    <tr style=\"text-align: right;\">\n",
       "      <th></th>\n",
       "      <th>OSLOCTM3</th>\n",
       "      <th>WACCM6-2deg</th>\n",
       "      <th>INCA</th>\n",
       "      <th>GFDL-emi</th>\n",
       "      <th>OSLOCTM3-emi</th>\n",
       "    </tr>\n",
       "    <tr>\n",
       "      <th>Scenario</th>\n",
       "      <th></th>\n",
       "      <th></th>\n",
       "      <th></th>\n",
       "      <th></th>\n",
       "      <th></th>\n",
       "    </tr>\n",
       "  </thead>\n",
       "  <tbody>\n",
       "    <tr>\n",
       "      <th>CTRL</th>\n",
       "      <td>756</td>\n",
       "      <td>800</td>\n",
       "      <td>622</td>\n",
       "      <td>654</td>\n",
       "      <td>754</td>\n",
       "    </tr>\n",
       "    <tr>\n",
       "      <th>10H2</th>\n",
       "      <td>753</td>\n",
       "      <td>797</td>\n",
       "      <td>620</td>\n",
       "      <td>609</td>\n",
       "      <td>750</td>\n",
       "    </tr>\n",
       "    <tr>\n",
       "      <th>10CH4</th>\n",
       "      <td>808</td>\n",
       "      <td>852</td>\n",
       "      <td>668</td>\n",
       "      <td>nan</td>\n",
       "      <td>nan</td>\n",
       "    </tr>\n",
       "    <tr>\n",
       "      <th>deltaH2</th>\n",
       "      <td>-2.67</td>\n",
       "      <td>-3.28</td>\n",
       "      <td>-2.10</td>\n",
       "      <td>-45.2</td>\n",
       "      <td>-4.38</td>\n",
       "    </tr>\n",
       "    <tr>\n",
       "      <th>deltaCH4</th>\n",
       "      <td>52.4</td>\n",
       "      <td>52.4</td>\n",
       "      <td>45.3</td>\n",
       "      <td>nan</td>\n",
       "      <td>nan</td>\n",
       "    </tr>\n",
       "  </tbody>\n",
       "</table>\n",
       "</div>"
      ],
      "text/plain": [
       "          OSLOCTM3  WACCM6-2deg  INCA  GFDL-emi  OSLOCTM3-emi\n",
       "Scenario                                                     \n",
       "CTRL           756          800   622       654           754\n",
       "10H2           753          797   620       609           750\n",
       "10CH4          808          852   668       nan           nan\n",
       "deltaH2      -2.67        -3.28 -2.10     -45.2         -4.38\n",
       "deltaCH4      52.4         52.4  45.3       nan           nan"
      ]
     },
     "execution_count": 22,
     "metadata": {},
     "output_type": "execute_result"
    }
   ],
   "source": [
    "df_ch4_flux = df_ch4_burden.drop('deltaCH4')/df_ch4_tot_lifetime\n",
    "#Add delta CH4 flux 10H2\n",
    "delta = df_ch4_flux.loc['10H2']-df_ch4_flux.loc['CTRL']\n",
    "delta.name = 'deltaH2'\n",
    "df_ch4_flux = df_ch4_flux.append(delta)\n",
    "#Add delta CH4 flux 10CH4\n",
    "delta = df_ch4_flux.loc['10CH4']-df_ch4_flux.loc['CTRL']\n",
    "delta.name = 'deltaCH4'\n",
    "df_ch4_flux = df_ch4_flux.append(delta)\n",
    "df_ch4_flux\n"
   ]
  },
  {
   "cell_type": "markdown",
   "metadata": {},
   "source": [
    "## 3. Ozone burden and RF"
   ]
  },
  {
   "cell_type": "markdown",
   "metadata": {},
   "source": [
    "### 3.1 Change in tropospheric ozone (DU)"
   ]
  },
  {
   "cell_type": "markdown",
   "metadata": {},
   "source": [
    "The tropopause definition is the model layer in the control simulation where 150 ppbv ozone are reached. For GFDL-emi 10H2 is H2 perturbation and 10CH4 is H2+CH4 pert minus the H2 pert."
   ]
  },
  {
   "cell_type": "code",
   "execution_count": 23,
   "metadata": {},
   "outputs": [
    {
     "data": {
      "text/html": [
       "<div>\n",
       "<style scoped>\n",
       "    .dataframe tbody tr th:only-of-type {\n",
       "        vertical-align: middle;\n",
       "    }\n",
       "\n",
       "    .dataframe tbody tr th {\n",
       "        vertical-align: top;\n",
       "    }\n",
       "\n",
       "    .dataframe thead th {\n",
       "        text-align: right;\n",
       "    }\n",
       "</style>\n",
       "<table border=\"1\" class=\"dataframe\">\n",
       "  <thead>\n",
       "    <tr style=\"text-align: right;\">\n",
       "      <th></th>\n",
       "      <th>OSLOCTM3</th>\n",
       "      <th>WACCM6-2deg</th>\n",
       "      <th>INCA</th>\n",
       "      <th>GFDL-emi</th>\n",
       "      <th>OSLOCTM3-emi</th>\n",
       "    </tr>\n",
       "    <tr>\n",
       "      <th>Scenario</th>\n",
       "      <th></th>\n",
       "      <th></th>\n",
       "      <th></th>\n",
       "      <th></th>\n",
       "      <th></th>\n",
       "    </tr>\n",
       "  </thead>\n",
       "  <tbody>\n",
       "    <tr>\n",
       "      <th>10H2</th>\n",
       "      <td>0.04</td>\n",
       "      <td>0.03</td>\n",
       "      <td>0.03</td>\n",
       "      <td>0.73</td>\n",
       "      <td>0.06</td>\n",
       "    </tr>\n",
       "    <tr>\n",
       "      <th>10CH4</th>\n",
       "      <td>0.83</td>\n",
       "      <td>0.88</td>\n",
       "      <td>0.54</td>\n",
       "      <td>0.76</td>\n",
       "      <td>nan</td>\n",
       "    </tr>\n",
       "  </tbody>\n",
       "</table>\n",
       "</div>"
      ],
      "text/plain": [
       "          OSLOCTM3  WACCM6-2deg  INCA  GFDL-emi  OSLOCTM3-emi\n",
       "Scenario                                                     \n",
       "10H2          0.04         0.03  0.03      0.73          0.06\n",
       "10CH4         0.83         0.88  0.54      0.76           nan"
      ]
     },
     "execution_count": 23,
     "metadata": {},
     "output_type": "execute_result"
    }
   ],
   "source": [
    "file = 'ozone_du_trop.txt'\n",
    "df_ozone_du_trop = pd.read_csv(path+file, sep=';',index_col=0,header=0)\n",
    "df_ozone_du_trop"
   ]
  },
  {
   "cell_type": "markdown",
   "metadata": {},
   "source": [
    "### 3.2 Change in stratospheric ozone (DU)"
   ]
  },
  {
   "cell_type": "code",
   "execution_count": 24,
   "metadata": {},
   "outputs": [
    {
     "data": {
      "text/html": [
       "<div>\n",
       "<style scoped>\n",
       "    .dataframe tbody tr th:only-of-type {\n",
       "        vertical-align: middle;\n",
       "    }\n",
       "\n",
       "    .dataframe tbody tr th {\n",
       "        vertical-align: top;\n",
       "    }\n",
       "\n",
       "    .dataframe thead th {\n",
       "        text-align: right;\n",
       "    }\n",
       "</style>\n",
       "<table border=\"1\" class=\"dataframe\">\n",
       "  <thead>\n",
       "    <tr style=\"text-align: right;\">\n",
       "      <th></th>\n",
       "      <th>OSLOCTM3</th>\n",
       "      <th>WACCM6-2deg</th>\n",
       "      <th>INCA</th>\n",
       "      <th>GFDL-emi</th>\n",
       "      <th>OSLOCTM3-emi</th>\n",
       "    </tr>\n",
       "    <tr>\n",
       "      <th>Scenario</th>\n",
       "      <th></th>\n",
       "      <th></th>\n",
       "      <th></th>\n",
       "      <th></th>\n",
       "      <th></th>\n",
       "    </tr>\n",
       "  </thead>\n",
       "  <tbody>\n",
       "    <tr>\n",
       "      <th>10H2</th>\n",
       "      <td>-0.03</td>\n",
       "      <td>0.00</td>\n",
       "      <td>-0.03</td>\n",
       "      <td>-0.23</td>\n",
       "      <td>0.02</td>\n",
       "    </tr>\n",
       "    <tr>\n",
       "      <th>10CH4</th>\n",
       "      <td>0.83</td>\n",
       "      <td>0.83</td>\n",
       "      <td>0.35</td>\n",
       "      <td>1.07</td>\n",
       "      <td>nan</td>\n",
       "    </tr>\n",
       "  </tbody>\n",
       "</table>\n",
       "</div>"
      ],
      "text/plain": [
       "          OSLOCTM3  WACCM6-2deg  INCA  GFDL-emi  OSLOCTM3-emi\n",
       "Scenario                                                     \n",
       "10H2         -0.03         0.00 -0.03     -0.23          0.02\n",
       "10CH4         0.83         0.83  0.35      1.07           nan"
      ]
     },
     "execution_count": 24,
     "metadata": {},
     "output_type": "execute_result"
    }
   ],
   "source": [
    "file = 'ozone_du_strat.txt'\n",
    "df_ozone_du_strat = pd.read_csv(path+file, sep=';',index_col=0,header=0)\n",
    "df_ozone_du_strat"
   ]
  },
  {
   "cell_type": "markdown",
   "metadata": {},
   "source": [
    "### 3.3 Change in stratospheric ozone 60S-60N only (DU)"
   ]
  },
  {
   "cell_type": "code",
   "execution_count": 25,
   "metadata": {},
   "outputs": [
    {
     "data": {
      "text/html": [
       "<div>\n",
       "<style scoped>\n",
       "    .dataframe tbody tr th:only-of-type {\n",
       "        vertical-align: middle;\n",
       "    }\n",
       "\n",
       "    .dataframe tbody tr th {\n",
       "        vertical-align: top;\n",
       "    }\n",
       "\n",
       "    .dataframe thead th {\n",
       "        text-align: right;\n",
       "    }\n",
       "</style>\n",
       "<table border=\"1\" class=\"dataframe\">\n",
       "  <thead>\n",
       "    <tr style=\"text-align: right;\">\n",
       "      <th></th>\n",
       "      <th>OSLOCTM3</th>\n",
       "      <th>WACCM6-2deg</th>\n",
       "      <th>INCA</th>\n",
       "      <th>GFDL-emi</th>\n",
       "      <th>OSLOCTM3-emi</th>\n",
       "    </tr>\n",
       "    <tr>\n",
       "      <th>Scenario</th>\n",
       "      <th></th>\n",
       "      <th></th>\n",
       "      <th></th>\n",
       "      <th></th>\n",
       "      <th></th>\n",
       "    </tr>\n",
       "  </thead>\n",
       "  <tbody>\n",
       "    <tr>\n",
       "      <th>10H2</th>\n",
       "      <td>0.00</td>\n",
       "      <td>0.00</td>\n",
       "      <td>-0.02</td>\n",
       "      <td>-0.22</td>\n",
       "      <td>nan</td>\n",
       "    </tr>\n",
       "    <tr>\n",
       "      <th>10CH4</th>\n",
       "      <td>0.62</td>\n",
       "      <td>0.66</td>\n",
       "      <td>0.28</td>\n",
       "      <td>0.68</td>\n",
       "      <td>nan</td>\n",
       "    </tr>\n",
       "  </tbody>\n",
       "</table>\n",
       "</div>"
      ],
      "text/plain": [
       "          OSLOCTM3  WACCM6-2deg  INCA  GFDL-emi  OSLOCTM3-emi\n",
       "Scenario                                                     \n",
       "10H2          0.00         0.00 -0.02     -0.22           nan\n",
       "10CH4         0.62         0.66  0.28      0.68           nan"
      ]
     },
     "execution_count": 25,
     "metadata": {},
     "output_type": "execute_result"
    }
   ],
   "source": [
    "file = 'ozone_du_strat_6060.txt'\n",
    "df_ozone_du_strat_6060 = pd.read_csv(path+file, sep=';',index_col=0,header=0)\n",
    "df_ozone_du_strat_6060"
   ]
  },
  {
   "cell_type": "markdown",
   "metadata": {},
   "source": [
    "### 3.4 Change in stratospheric ozone 90S-60S and 60N-90N only (DU)"
   ]
  },
  {
   "cell_type": "code",
   "execution_count": 26,
   "metadata": {},
   "outputs": [
    {
     "data": {
      "text/html": [
       "<div>\n",
       "<style scoped>\n",
       "    .dataframe tbody tr th:only-of-type {\n",
       "        vertical-align: middle;\n",
       "    }\n",
       "\n",
       "    .dataframe tbody tr th {\n",
       "        vertical-align: top;\n",
       "    }\n",
       "\n",
       "    .dataframe thead th {\n",
       "        text-align: right;\n",
       "    }\n",
       "</style>\n",
       "<table border=\"1\" class=\"dataframe\">\n",
       "  <thead>\n",
       "    <tr style=\"text-align: right;\">\n",
       "      <th></th>\n",
       "      <th>OSLOCTM3</th>\n",
       "      <th>WACCM6-2deg</th>\n",
       "      <th>INCA</th>\n",
       "      <th>GFDL-emi</th>\n",
       "      <th>OSLOCTM3-emi</th>\n",
       "    </tr>\n",
       "    <tr>\n",
       "      <th>Scenario</th>\n",
       "      <th></th>\n",
       "      <th></th>\n",
       "      <th></th>\n",
       "      <th></th>\n",
       "      <th></th>\n",
       "    </tr>\n",
       "  </thead>\n",
       "  <tbody>\n",
       "    <tr>\n",
       "      <th>10H2</th>\n",
       "      <td>0.00</td>\n",
       "      <td>0.00</td>\n",
       "      <td>-0.01</td>\n",
       "      <td>-0.01</td>\n",
       "      <td>nan</td>\n",
       "    </tr>\n",
       "    <tr>\n",
       "      <th>10CH4</th>\n",
       "      <td>0.23</td>\n",
       "      <td>0.17</td>\n",
       "      <td>0.08</td>\n",
       "      <td>0.40</td>\n",
       "      <td>nan</td>\n",
       "    </tr>\n",
       "  </tbody>\n",
       "</table>\n",
       "</div>"
      ],
      "text/plain": [
       "          OSLOCTM3  WACCM6-2deg  INCA  GFDL-emi  OSLOCTM3-emi\n",
       "Scenario                                                     \n",
       "10H2          0.00         0.00 -0.01     -0.01           nan\n",
       "10CH4         0.23         0.17  0.08      0.40           nan"
      ]
     },
     "execution_count": 26,
     "metadata": {},
     "output_type": "execute_result"
    }
   ],
   "source": [
    "file = 'ozone_du_strat_gt60.txt'\n",
    "df_ozone_du_strat_gt60 = pd.read_csv(path+file, sep=';',index_col=0,header=0)\n",
    "df_ozone_du_strat_gt60"
   ]
  },
  {
   "cell_type": "markdown",
   "metadata": {},
   "source": [
    "### 3.5 Ozone RF"
   ]
  },
  {
   "cell_type": "markdown",
   "metadata": {},
   "source": [
    "Ozone RF is calculated using a radiative kernel (Skeie et al 2020) and the modelled changes in ozone concentration. For GFDL-emi 10H2 RF is forcing calculated in the H2 perturbation and 10CH4 the forcing calculated by the H2+CH4 pert minus the H2 pert."
   ]
  },
  {
   "cell_type": "code",
   "execution_count": 27,
   "metadata": {},
   "outputs": [
    {
     "data": {
      "text/html": [
       "<div>\n",
       "<style scoped>\n",
       "    .dataframe tbody tr th:only-of-type {\n",
       "        vertical-align: middle;\n",
       "    }\n",
       "\n",
       "    .dataframe tbody tr th {\n",
       "        vertical-align: top;\n",
       "    }\n",
       "\n",
       "    .dataframe thead th {\n",
       "        text-align: right;\n",
       "    }\n",
       "</style>\n",
       "<table border=\"1\" class=\"dataframe\">\n",
       "  <thead>\n",
       "    <tr style=\"text-align: right;\">\n",
       "      <th></th>\n",
       "      <th>OSLOCTM3</th>\n",
       "      <th>WACCM6-2deg</th>\n",
       "      <th>INCA</th>\n",
       "      <th>GFDL-emi</th>\n",
       "      <th>OSLOCTM3-emi</th>\n",
       "    </tr>\n",
       "    <tr>\n",
       "      <th>Scenario</th>\n",
       "      <th></th>\n",
       "      <th></th>\n",
       "      <th></th>\n",
       "      <th></th>\n",
       "      <th></th>\n",
       "    </tr>\n",
       "  </thead>\n",
       "  <tbody>\n",
       "    <tr>\n",
       "      <th>10H2</th>\n",
       "      <td>1.86</td>\n",
       "      <td>1.73</td>\n",
       "      <td>1.12</td>\n",
       "      <td>34.0</td>\n",
       "      <td>3.08</td>\n",
       "    </tr>\n",
       "    <tr>\n",
       "      <th>10CH4</th>\n",
       "      <td>41.0</td>\n",
       "      <td>42.9</td>\n",
       "      <td>22.6</td>\n",
       "      <td>37.6</td>\n",
       "      <td>nan</td>\n",
       "    </tr>\n",
       "  </tbody>\n",
       "</table>\n",
       "</div>"
      ],
      "text/plain": [
       "          OSLOCTM3  WACCM6-2deg  INCA  GFDL-emi  OSLOCTM3-emi\n",
       "Scenario                                                     \n",
       "10H2          1.86         1.73  1.12      34.0          3.08\n",
       "10CH4         41.0         42.9  22.6      37.6           nan"
      ]
     },
     "execution_count": 27,
     "metadata": {},
     "output_type": "execute_result"
    }
   ],
   "source": [
    "file = 'ozone_rf.txt'\n",
    "df_ozone_rf = pd.read_csv(path+file, sep=';',index_col=0,header=0)\n",
    "df_ozone_rf"
   ]
  },
  {
   "cell_type": "code",
   "execution_count": 28,
   "metadata": {},
   "outputs": [
    {
     "data": {
      "text/html": [
       "<div>\n",
       "<style scoped>\n",
       "    .dataframe tbody tr th:only-of-type {\n",
       "        vertical-align: middle;\n",
       "    }\n",
       "\n",
       "    .dataframe tbody tr th {\n",
       "        vertical-align: top;\n",
       "    }\n",
       "\n",
       "    .dataframe thead th {\n",
       "        text-align: right;\n",
       "    }\n",
       "</style>\n",
       "<table border=\"1\" class=\"dataframe\">\n",
       "  <thead>\n",
       "    <tr style=\"text-align: right;\">\n",
       "      <th></th>\n",
       "      <th>OSLOCTM3</th>\n",
       "      <th>WACCM6-2deg</th>\n",
       "      <th>INCA</th>\n",
       "      <th>GFDL-emi</th>\n",
       "      <th>OSLOCTM3-emi</th>\n",
       "    </tr>\n",
       "    <tr>\n",
       "      <th>Scenario</th>\n",
       "      <th></th>\n",
       "      <th></th>\n",
       "      <th></th>\n",
       "      <th></th>\n",
       "      <th></th>\n",
       "    </tr>\n",
       "  </thead>\n",
       "  <tbody>\n",
       "    <tr>\n",
       "      <th>10H2</th>\n",
       "      <td>1.86</td>\n",
       "      <td>1.73</td>\n",
       "      <td>1.12</td>\n",
       "      <td>34.0</td>\n",
       "      <td>3.08</td>\n",
       "    </tr>\n",
       "    <tr>\n",
       "      <th>10CH4</th>\n",
       "      <td>41.0</td>\n",
       "      <td>42.9</td>\n",
       "      <td>22.6</td>\n",
       "      <td>37.6</td>\n",
       "      <td>41.0</td>\n",
       "    </tr>\n",
       "  </tbody>\n",
       "</table>\n",
       "</div>"
      ],
      "text/plain": [
       "          OSLOCTM3  WACCM6-2deg  INCA  GFDL-emi  OSLOCTM3-emi\n",
       "Scenario                                                     \n",
       "10H2          1.86         1.73  1.12      34.0          3.08\n",
       "10CH4         41.0         42.9  22.6      37.6          41.0"
      ]
     },
     "execution_count": 28,
     "metadata": {},
     "output_type": "execute_result"
    }
   ],
   "source": [
    "df_ozone_rf['OSLOCTM3-emi'].loc['10CH4'] = df_ozone_rf['OSLOCTM3'].loc['10CH4'] \n",
    "df_ozone_rf"
   ]
  },
  {
   "cell_type": "markdown",
   "metadata": {},
   "source": [
    "## 4. Stratospheric H2O RF [mW m-2]"
   ]
  },
  {
   "cell_type": "markdown",
   "metadata": {},
   "source": [
    "Stratospheric H2O RF calculated offline. Preliminary results for OsloCTM3-emis."
   ]
  },
  {
   "cell_type": "code",
   "execution_count": 29,
   "metadata": {},
   "outputs": [
    {
     "data": {
      "text/html": [
       "<div>\n",
       "<style scoped>\n",
       "    .dataframe tbody tr th:only-of-type {\n",
       "        vertical-align: middle;\n",
       "    }\n",
       "\n",
       "    .dataframe tbody tr th {\n",
       "        vertical-align: top;\n",
       "    }\n",
       "\n",
       "    .dataframe thead th {\n",
       "        text-align: right;\n",
       "    }\n",
       "</style>\n",
       "<table border=\"1\" class=\"dataframe\">\n",
       "  <thead>\n",
       "    <tr style=\"text-align: right;\">\n",
       "      <th></th>\n",
       "      <th>OSLOCTM3</th>\n",
       "      <th>WACCM6-2deg</th>\n",
       "      <th>INCA</th>\n",
       "      <th>OSLOCTM3-emi</th>\n",
       "    </tr>\n",
       "    <tr>\n",
       "      <th>Scenario</th>\n",
       "      <th></th>\n",
       "      <th></th>\n",
       "      <th></th>\n",
       "      <th></th>\n",
       "    </tr>\n",
       "  </thead>\n",
       "  <tbody>\n",
       "    <tr>\n",
       "      <th>10H2</th>\n",
       "      <td>1.48</td>\n",
       "      <td>0.51</td>\n",
       "      <td>0.53</td>\n",
       "      <td>1.33</td>\n",
       "    </tr>\n",
       "    <tr>\n",
       "      <th>10CH4</th>\n",
       "      <td>10.1</td>\n",
       "      <td>3.76</td>\n",
       "      <td>4.58</td>\n",
       "      <td>nan</td>\n",
       "    </tr>\n",
       "  </tbody>\n",
       "</table>\n",
       "</div>"
      ],
      "text/plain": [
       "          OSLOCTM3  WACCM6-2deg  INCA  OSLOCTM3-emi\n",
       "Scenario                                           \n",
       "10H2          1.48         0.51  0.53          1.33\n",
       "10CH4         10.1         3.76  4.58           nan"
      ]
     },
     "execution_count": 29,
     "metadata": {},
     "output_type": "execute_result"
    }
   ],
   "source": [
    "file = 'H2O_rf.txt'\n",
    "df_h2o_rf = pd.read_csv(path+file, sep=';',index_col=0,header=0)\n",
    "df_h2o_rf"
   ]
  },
  {
   "cell_type": "code",
   "execution_count": 30,
   "metadata": {},
   "outputs": [
    {
     "data": {
      "text/html": [
       "<div>\n",
       "<style scoped>\n",
       "    .dataframe tbody tr th:only-of-type {\n",
       "        vertical-align: middle;\n",
       "    }\n",
       "\n",
       "    .dataframe tbody tr th {\n",
       "        vertical-align: top;\n",
       "    }\n",
       "\n",
       "    .dataframe thead th {\n",
       "        text-align: right;\n",
       "    }\n",
       "</style>\n",
       "<table border=\"1\" class=\"dataframe\">\n",
       "  <thead>\n",
       "    <tr style=\"text-align: right;\">\n",
       "      <th></th>\n",
       "      <th>OSLOCTM3</th>\n",
       "      <th>WACCM6-2deg</th>\n",
       "      <th>INCA</th>\n",
       "      <th>OSLOCTM3-emi</th>\n",
       "    </tr>\n",
       "    <tr>\n",
       "      <th>Scenario</th>\n",
       "      <th></th>\n",
       "      <th></th>\n",
       "      <th></th>\n",
       "      <th></th>\n",
       "    </tr>\n",
       "  </thead>\n",
       "  <tbody>\n",
       "    <tr>\n",
       "      <th>10H2</th>\n",
       "      <td>1.48</td>\n",
       "      <td>0.51</td>\n",
       "      <td>0.53</td>\n",
       "      <td>1.33</td>\n",
       "    </tr>\n",
       "    <tr>\n",
       "      <th>10CH4</th>\n",
       "      <td>10.1</td>\n",
       "      <td>3.76</td>\n",
       "      <td>4.58</td>\n",
       "      <td>10.1</td>\n",
       "    </tr>\n",
       "  </tbody>\n",
       "</table>\n",
       "</div>"
      ],
      "text/plain": [
       "          OSLOCTM3  WACCM6-2deg  INCA  OSLOCTM3-emi\n",
       "Scenario                                           \n",
       "10H2          1.48         0.51  0.53          1.33\n",
       "10CH4         10.1         3.76  4.58          10.1"
      ]
     },
     "execution_count": 30,
     "metadata": {},
     "output_type": "execute_result"
    }
   ],
   "source": [
    "df_h2o_rf['OSLOCTM3-emi'].loc['10CH4'] = df_h2o_rf['OSLOCTM3'].loc['10CH4'] \n",
    "df_h2o_rf"
   ]
  },
  {
   "cell_type": "code",
   "execution_count": 31,
   "metadata": {
    "scrolled": true
   },
   "outputs": [
    {
     "data": {
      "text/html": [
       "<div>\n",
       "<style scoped>\n",
       "    .dataframe tbody tr th:only-of-type {\n",
       "        vertical-align: middle;\n",
       "    }\n",
       "\n",
       "    .dataframe tbody tr th {\n",
       "        vertical-align: top;\n",
       "    }\n",
       "\n",
       "    .dataframe thead th {\n",
       "        text-align: right;\n",
       "    }\n",
       "</style>\n",
       "<table border=\"1\" class=\"dataframe\">\n",
       "  <thead>\n",
       "    <tr style=\"text-align: right;\">\n",
       "      <th></th>\n",
       "      <th>GFDL</th>\n",
       "    </tr>\n",
       "  </thead>\n",
       "  <tbody>\n",
       "    <tr>\n",
       "      <th>H2 [mW m-2]</th>\n",
       "      <td>32.6</td>\n",
       "    </tr>\n",
       "    <tr>\n",
       "      <th>H2+CH4 [mW m-2]</th>\n",
       "      <td>51.7</td>\n",
       "    </tr>\n",
       "  </tbody>\n",
       "</table>\n",
       "</div>"
      ],
      "text/plain": [
       "                 GFDL\n",
       "H2 [mW m-2]      32.6\n",
       "H2+CH4 [mW m-2]  51.7"
      ]
     },
     "execution_count": 31,
     "metadata": {},
     "output_type": "execute_result"
    }
   ],
   "source": [
    "file = 'H2O_rf_gfdl.txt'\n",
    "h2o_rf_gfdl = pd.read_csv(path + file, sep=',',index_col=0,header=0)\n",
    "h2o_rf_gfdl"
   ]
  },
  {
   "cell_type": "markdown",
   "metadata": {},
   "source": [
    "\n",
    "# Part II: GWP calculations:"
   ]
  },
  {
   "cell_type": "markdown",
   "metadata": {},
   "source": [
    "The pulse integrated to infinity of the effects of a short lived climate forcer is equal to the change respones of its effects at steady state multiplied by the steady state lifetime of the short lived forcer(:cite:p:`Prather2002a` and :cite:p:`Prather2007a`). \n",
    "\n",
    "Prather 2002: prove that: (a) the steadystate pattern of impacts caused by specified emissions, multiplied by (b) the steady-state lifetime of the source gas for that emission pattern, is exactly equal to (c) the integral of all impacts - independent of the number and atmospheric residence times of secondary impacts. Therefore, the AGWP for hydrogen is identical whether calculating by integrating a pulse or by using the steady state changes per flux, given that the perturbation reaches steady state before 100 years. The longest-lived chemical mode here is keyed to methane, which has an e-folding lifetime of about 12 years. Our perturbed experiments are run to steate-state.\n"
   ]
  },
  {
   "cell_type": "markdown",
   "metadata": {},
   "source": [
    "### Change in H2 surface conc. caused by 1 Tg H2/yr [ppb yr Tg-1]"
   ]
  },
  {
   "cell_type": "markdown",
   "metadata": {},
   "source": [
    "This is not used for the GWP calculation. Only for the per flux table and for the feedback factor calulations."
   ]
  },
  {
   "cell_type": "code",
   "execution_count": 32,
   "metadata": {},
   "outputs": [
    {
     "data": {
      "text/plain": [
       "OSLOCTM3       6.23\n",
       "WACCM6-2deg    5.36\n",
       "INCA           7.39\n",
       "GFDL-emi       6.86\n",
       "OSLOCTM3-emi   6.48\n",
       "Name: surf_h2_per_h2_flux, dtype: float64"
      ]
     },
     "execution_count": 32,
     "metadata": {},
     "output_type": "execute_result"
    }
   ],
   "source": [
    "df_surf_h2_per_h2_flux = df_h2_surfconc.loc['deltaH2']/df_h2_flux.loc['deltaH2']\n",
    "df_surf_h2_per_h2_flux.name = 'surf_h2_per_h2_flux'\n",
    "df_surf_h2_per_h2_flux"
   ]
  },
  {
   "cell_type": "markdown",
   "metadata": {},
   "source": [
    "### Change in CH4 flux caused by 1 TgH2 /yr (includes H2 feedback) [Tg CH4/Tg H2]:"
   ]
  },
  {
   "cell_type": "markdown",
   "metadata": {},
   "source": [
    "The ch4_flux is multiplied by -1 (see above, or move description here)... Why this includes feedback..."
   ]
  },
  {
   "cell_type": "code",
   "execution_count": 33,
   "metadata": {},
   "outputs": [
    {
     "data": {
      "text/plain": [
       "OSLOCTM3       0.31\n",
       "WACCM6-2deg    0.33\n",
       "INCA           0.29\n",
       "GFDL-emi       0.23\n",
       "OSLOCTM3-emi   0.32\n",
       "Name: ch4_flux_per_h2_flux, dtype: float64"
      ]
     },
     "execution_count": 33,
     "metadata": {},
     "output_type": "execute_result"
    }
   ],
   "source": [
    "df_ch4_flux_per_h2_flux = -1.0*df_ch4_flux.loc['deltaH2']/df_h2_flux.loc['deltaH2']\n",
    "df_ch4_flux_per_h2_flux.name = 'ch4_flux_per_h2_flux'\n",
    "df_ch4_flux_per_h2_flux"
   ]
  },
  {
   "cell_type": "markdown",
   "metadata": {},
   "source": [
    "### Change in CH4 surface conc. caused by 1 Tg/yr CH4 [ppb yr/Tg CH4]"
   ]
  },
  {
   "cell_type": "code",
   "execution_count": 34,
   "metadata": {},
   "outputs": [
    {
     "data": {
      "text/plain": [
       "OSLOCTM3       3.46\n",
       "WACCM6-2deg    3.45\n",
       "INCA           4.00\n",
       "GFDL-emi        nan\n",
       "OSLOCTM3-emi    nan\n",
       "Name: surf_ch4_per_ch4_flux, dtype: float64"
      ]
     },
     "execution_count": 34,
     "metadata": {},
     "output_type": "execute_result"
    }
   ],
   "source": [
    "df_surf_ch4_per_ch4_flux =  df_ch4_surfconc.loc['deltaCH4']/df_ch4_flux.loc['deltaCH4']\n",
    "df_surf_ch4_per_ch4_flux.name = 'surf_ch4_per_ch4_flux'\n",
    "df_surf_ch4_per_ch4_flux"
   ]
  },
  {
   "cell_type": "markdown",
   "metadata": {},
   "source": [
    "Set equal to OsloCTM3 concentrationdriven"
   ]
  },
  {
   "cell_type": "code",
   "execution_count": 35,
   "metadata": {},
   "outputs": [
    {
     "data": {
      "text/plain": [
       "OSLOCTM3       3.46\n",
       "WACCM6-2deg    3.45\n",
       "INCA           4.00\n",
       "GFDL-emi        nan\n",
       "OSLOCTM3-emi   3.46\n",
       "Name: surf_ch4_per_ch4_flux, dtype: float64"
      ]
     },
     "execution_count": 35,
     "metadata": {},
     "output_type": "execute_result"
    }
   ],
   "source": [
    "df_surf_ch4_per_ch4_flux['OSLOCTM3-emi'] = df_surf_ch4_per_ch4_flux['OSLOCTM3']\n",
    "df_surf_ch4_per_ch4_flux"
   ]
  },
  {
   "cell_type": "markdown",
   "metadata": {},
   "source": [
    "### Change in CH4 surface concentration per emission H2 [ppb yr /Tg H2]"
   ]
  },
  {
   "cell_type": "code",
   "execution_count": 36,
   "metadata": {},
   "outputs": [
    {
     "data": {
      "text/plain": [
       "OSLOCTM3       1.08\n",
       "WACCM6-2deg    1.14\n",
       "INCA           1.17\n",
       "GFDL-emi       1.00\n",
       "OSLOCTM3-emi   1.11\n",
       "Name: surf_ch4_per_h2_flux, dtype: float64"
      ]
     },
     "execution_count": 36,
     "metadata": {},
     "output_type": "execute_result"
    }
   ],
   "source": [
    "df_surf_ch4_per_h2_flux = df_surf_ch4_per_ch4_flux*df_ch4_flux_per_h2_flux\n",
    "df_surf_ch4_per_h2_flux.name = 'surf_ch4_per_h2_flux'\n",
    "\n",
    "#Add GFDL:\n",
    "#Increase in surface concentration CH4:\n",
    "#1808 to 2005 ppbv (REF Paolot)\n",
    "df_surf_ch4_per_h2_flux['GFDL-emi']= (2005.-1808.)/df_h2_flux['GFDL-emi'].loc['deltaH2']\n",
    "df_surf_ch4_per_h2_flux"
   ]
  },
  {
   "cell_type": "markdown",
   "metadata": {},
   "source": [
    "### Change in H2 flux caused by 1 TgCH4/yr [Tg H2/Tg CH4]"
   ]
  },
  {
   "cell_type": "markdown",
   "metadata": {},
   "source": [
    "Why we multiply by -1"
   ]
  },
  {
   "cell_type": "code",
   "execution_count": 37,
   "metadata": {},
   "outputs": [
    {
     "data": {
      "text/plain": [
       "OSLOCTM3       0.01\n",
       "WACCM6-2deg    0.02\n",
       "INCA           0.01\n",
       "GFDL-emi        nan\n",
       "OSLOCTM3-emi    nan\n",
       "Name: h2_flux_per_ch4_flux, dtype: float64"
      ]
     },
     "execution_count": 37,
     "metadata": {},
     "output_type": "execute_result"
    }
   ],
   "source": [
    "df_h2_flux_per_ch4_flux = -1.0*df_h2_flux.loc['deltaCH4']/df_ch4_flux.loc['deltaCH4']\n",
    "df_h2_flux_per_ch4_flux.name = 'h2_flux_per_ch4_flux'\n",
    "df_h2_flux_per_ch4_flux"
   ]
  },
  {
   "cell_type": "code",
   "execution_count": 38,
   "metadata": {},
   "outputs": [
    {
     "data": {
      "text/plain": [
       "OSLOCTM3       0.01\n",
       "WACCM6-2deg    0.02\n",
       "INCA           0.01\n",
       "GFDL-emi        nan\n",
       "OSLOCTM3-emi   0.01\n",
       "Name: h2_flux_per_ch4_flux, dtype: float64"
      ]
     },
     "execution_count": 38,
     "metadata": {},
     "output_type": "execute_result"
    }
   ],
   "source": [
    "df_h2_flux_per_ch4_flux['OSLOCTM3-emi'] = df_h2_flux_per_ch4_flux['OSLOCTM3']\n",
    "df_h2_flux_per_ch4_flux"
   ]
  },
  {
   "cell_type": "markdown",
   "metadata": {},
   "source": [
    "### HYDROGEN AGWP100 CH4 [mW m-2 yr Tg-1]"
   ]
  },
  {
   "cell_type": "markdown",
   "metadata": {},
   "source": [
    "Explain why this is AGWP"
   ]
  },
  {
   "cell_type": "code",
   "execution_count": 39,
   "metadata": {},
   "outputs": [],
   "source": [
    "df_h2_agwp_ch4 = df_surf_ch4_per_h2_flux*spec_rf_ch4\n",
    "df_h2_agwp_ch4.name = 'h2_agwp_ch4'\n",
    "\n",
    "\n",
    "#agwp_ch4 = RF per flux H2 (For the per flux table)\n",
    "df_ch4_rf_per_h2_flux = df_surf_ch4_per_h2_flux*spec_rf_ch4\n",
    "df_ch4_rf_per_h2_flux.name = 'ch4_rf_per_h2_flux'\n",
    "\n",
    "\n",
    "\n"
   ]
  },
  {
   "cell_type": "markdown",
   "metadata": {},
   "source": [
    "### Initialize H2 GWP table"
   ]
  },
  {
   "cell_type": "code",
   "execution_count": 40,
   "metadata": {},
   "outputs": [],
   "source": [
    "antmod = len(df_h2_agwp_ch4.index)\n",
    "df_h2_gwp = pd.DataFrame(np.empty([5,antmod])*np.nan,columns=df_h2_agwp_ch4.index,\n",
    "                         index=['O3','CH4','strat H2O','O3 CH4ind','strat H2O CH4ind'])"
   ]
  },
  {
   "cell_type": "markdown",
   "metadata": {},
   "source": [
    "### Add methane GWP"
   ]
  },
  {
   "cell_type": "code",
   "execution_count": 41,
   "metadata": {},
   "outputs": [],
   "source": [
    "df_h2_gwp.loc['CH4'] = df_h2_agwp_ch4/agwp100_CO2"
   ]
  },
  {
   "cell_type": "markdown",
   "metadata": {},
   "source": [
    "### HYDROGEN AGWP100 strat H2O [mW m-2 yr Tg-1]"
   ]
  },
  {
   "cell_type": "markdown",
   "metadata": {},
   "source": []
  },
  {
   "cell_type": "code",
   "execution_count": 42,
   "metadata": {},
   "outputs": [],
   "source": [
    "df_h2_agwp_h2o = df_h2o_rf.loc['10H2']/df_h2_flux.loc['deltaH2']\n",
    "df_h2_agwp_h2o['GFDL-emi'] = h2o_rf_gfdl['GFDL'].loc['H2+CH4 [mW m-2]']/df_h2_flux['GFDL-emi'].loc['deltaH2']\n",
    "df_h2_agwp_h2o.name = 'h2_agwp_h2o'\n",
    "\n",
    "#NBNB GFDL methane induced is included."
   ]
  },
  {
   "cell_type": "code",
   "execution_count": 43,
   "metadata": {},
   "outputs": [],
   "source": [
    "#Add to the flux table\n",
    "df_h2o_rf_per_h2_flux = df_h2o_rf.loc['10H2']/df_h2_flux.loc['deltaH2']\n",
    "df_h2o_rf_per_h2_flux.name= 'h2o_rf_per_h2_flux'\n",
    "df_h2o_rf_per_h2_flux['GFDL-emi'] = h2o_rf_gfdl['GFDL'].loc['H2 [mW m-2]']/df_h2_flux['GFDL-emi'].loc['deltaH2']\n",
    "\n",
    "#Strat H2O RF per methane flux (Move this to the methane part?)\n",
    "df_h2o_rf_per_ch4_flux = df_h2o_rf.loc['10CH4']/df_ch4_flux.loc['deltaCH4']\n",
    "df_h2o_rf_per_ch4_flux.name = 'h2o_rf_per_ch4_flux'\n"
   ]
  },
  {
   "cell_type": "code",
   "execution_count": 44,
   "metadata": {},
   "outputs": [
    {
     "data": {
      "text/plain": [
       "GFDL-emi        nan\n",
       "INCA           0.10\n",
       "OSLOCTM3       0.19\n",
       "OSLOCTM3-emi   0.19\n",
       "WACCM6-2deg    0.07\n",
       "Name: h2o_rf_per_ch4_flux, dtype: float64"
      ]
     },
     "execution_count": 44,
     "metadata": {},
     "output_type": "execute_result"
    }
   ],
   "source": [
    "df_h2o_rf_per_ch4_flux['OSLOCTM3-emi'] = df_h2o_rf_per_ch4_flux['OSLOCTM3']\n",
    "df_h2o_rf_per_ch4_flux"
   ]
  },
  {
   "cell_type": "markdown",
   "metadata": {},
   "source": [
    "### Add stratospheric H2O GWP"
   ]
  },
  {
   "cell_type": "code",
   "execution_count": 45,
   "metadata": {},
   "outputs": [],
   "source": [
    "df_h2_gwp.loc['strat H2O'] = df_h2_agwp_h2o/agwp100_CO2"
   ]
  },
  {
   "cell_type": "markdown",
   "metadata": {},
   "source": [
    "### HYDROGEN AGWP100 O3 [mW m-2 yr Tg-1]"
   ]
  },
  {
   "cell_type": "code",
   "execution_count": 46,
   "metadata": {},
   "outputs": [],
   "source": [
    "df_h2_agwp_o3 = df_ozone_rf.loc['10H2']/df_h2_flux.loc['deltaH2']\n",
    "df_h2_agwp_o3.name = 'h2_agwp_o3'\n",
    "\n",
    "#For GFDL-emi include the methane induced part.\n",
    "df_h2_agwp_o3['GFDL-emi'] = (df_ozone_rf['GFDL-emi'].loc['10H2']+df_ozone_rf['GFDL-emi'].loc['10CH4'])/df_h2_flux['GFDL-emi'].loc['deltaH2']\n"
   ]
  },
  {
   "cell_type": "code",
   "execution_count": 47,
   "metadata": {},
   "outputs": [],
   "source": [
    "#Similar, but use only the H2 Ozone RF for GFDL. To be used in the table:\n",
    "df_ozone_rf_per_h2_flux = df_ozone_rf.loc['10H2']/df_h2_flux.loc['deltaH2']\n",
    "df_ozone_rf_per_h2_flux.name= 'ozone_rf_per_h2_flux'"
   ]
  },
  {
   "cell_type": "code",
   "execution_count": 48,
   "metadata": {},
   "outputs": [],
   "source": [
    "#Ozone RF per methane flux (move to the methane part?)\n",
    "df_ozone_rf_per_ch4_flux = df_ozone_rf.loc['10CH4']/df_ch4_flux.loc['deltaCH4']\n",
    "df_ozone_rf_per_ch4_flux.name = 'ozone_rf_per_ch4_flux'"
   ]
  },
  {
   "cell_type": "code",
   "execution_count": 49,
   "metadata": {},
   "outputs": [
    {
     "data": {
      "text/plain": [
       "OSLOCTM3       0.78\n",
       "WACCM6-2deg    0.82\n",
       "INCA           0.50\n",
       "GFDL-emi        nan\n",
       "OSLOCTM3-emi   0.78\n",
       "Name: ozone_rf_per_ch4_flux, dtype: float64"
      ]
     },
     "execution_count": 49,
     "metadata": {},
     "output_type": "execute_result"
    }
   ],
   "source": [
    "df_ozone_rf_per_ch4_flux['OSLOCTM3-emi'] = df_ozone_rf_per_ch4_flux['OSLOCTM3']\n",
    "df_ozone_rf_per_ch4_flux"
   ]
  },
  {
   "cell_type": "markdown",
   "metadata": {},
   "source": [
    "### Add Ozone GWP"
   ]
  },
  {
   "cell_type": "code",
   "execution_count": 50,
   "metadata": {},
   "outputs": [],
   "source": [
    "df_h2_gwp.loc['O3'] = df_h2_agwp_o3/agwp100_CO2"
   ]
  },
  {
   "cell_type": "markdown",
   "metadata": {},
   "source": [
    "### For the per flux table"
   ]
  },
  {
   "cell_type": "code",
   "execution_count": 51,
   "metadata": {},
   "outputs": [],
   "source": [
    "df_trop_du_ozone_per_ch4_flux = df_ozone_du_trop.loc['10CH4']/df_ch4_flux.loc['deltaCH4']\n",
    "df_trop_du_ozone_per_ch4_flux.name = 'trop_du_ozone_per_ch4_flux'\n",
    "\n",
    "df_strat_du_ozone_per_ch4_flux = df_ozone_du_strat.loc['10CH4']/df_ch4_flux.loc['deltaCH4']\n",
    "df_strat_du_ozone_per_ch4_flux.name = 'strat_du_ozone_per_ch4_flux'\n",
    "\n",
    "df_trop_du_ozone_per_h2_flux = df_ozone_du_trop.loc['10H2']/df_h2_flux.loc['deltaH2']\n",
    "df_trop_du_ozone_per_h2_flux.name = 'trop_du_ozone_per_h2_flux'\n",
    "\n",
    "df_strat_du_ozone_per_h2_flux = df_ozone_du_strat.loc['10H2']/df_h2_flux.loc['deltaH2']\n",
    "df_strat_du_ozone_per_h2_flux.name = 'strat_du_ozone_per_h2_flux'\n"
   ]
  },
  {
   "cell_type": "code",
   "execution_count": 52,
   "metadata": {},
   "outputs": [],
   "source": [
    "df_trop_du_ozone_per_ch4_flux['OSLOCTM3-emi']=df_trop_du_ozone_per_ch4_flux['OSLOCTM3']\n",
    "df_strat_du_ozone_per_ch4_flux['OSLOCTM3-emi']=df_strat_du_ozone_per_ch4_flux['OSLOCTM3']"
   ]
  },
  {
   "cell_type": "code",
   "execution_count": 53,
   "metadata": {},
   "outputs": [],
   "source": [
    "df_strat_du_6060_ozone_per_ch4_flux = df_ozone_du_strat_6060.loc['10CH4']/df_ch4_flux.loc['deltaCH4']\n",
    "df_strat_du_6060_ozone_per_ch4_flux.name = 'strat_du_6060_ozone_per_ch4_flux'\n",
    "\n",
    "df_strat_du_6060_ozone_per_h2_flux = df_ozone_du_strat_6060.loc['10H2']/df_h2_flux.loc['deltaH2']\n",
    "df_strat_du_6060_ozone_per_h2_flux.name = 'strat_du_6060_ozone_per_h2_flux'\n",
    "\n",
    "df_strat_du_gt60_ozone_per_ch4_flux = df_ozone_du_strat_gt60.loc['10CH4']/df_ch4_flux.loc['deltaCH4']\n",
    "df_strat_du_gt60_ozone_per_ch4_flux.name = 'strat_du_gt60_ozone_per_ch4_flux'\n",
    "\n",
    "df_strat_du_gt60_ozone_per_h2_flux = df_ozone_du_strat_gt60.loc['10H2']/df_h2_flux.loc['deltaH2']\n",
    "df_strat_du_gt60_ozone_per_h2_flux.name = 'strat_du_gt60_ozone_per_h2_flux'"
   ]
  },
  {
   "cell_type": "markdown",
   "metadata": {},
   "source": [
    "## Methane induced GWP:"
   ]
  },
  {
   "cell_type": "markdown",
   "metadata": {},
   "source": [
    "### HYDROGEN AGWP100 methane induced O3 [mW m-2 yr Tg-1]"
   ]
  },
  {
   "cell_type": "markdown",
   "metadata": {},
   "source": [
    "It does not matter here if we use surface concentration, burden, tropospheric concentration?"
   ]
  },
  {
   "cell_type": "code",
   "execution_count": 54,
   "metadata": {},
   "outputs": [],
   "source": [
    "df_ch4_surfconc['OSLOCTM3-emi'].loc['deltaCH4']=df_ch4_surfconc['OSLOCTM3'].loc['deltaCH4']"
   ]
  },
  {
   "cell_type": "code",
   "execution_count": 55,
   "metadata": {},
   "outputs": [],
   "source": [
    "#Wm-2/ppbCH4*ppbCH4/TgH2yr-1 -> Wm-2/TgH2yr-1\n",
    "df_h2_agwp_ch4ind_o3 = df_ozone_rf.loc['10CH4']/df_ch4_surfconc.loc['deltaCH4']*df_surf_ch4_per_h2_flux\n",
    "df_h2_agwp_ch4ind_o3.name = 'h2_agwp_ch4ind_o3'\n"
   ]
  },
  {
   "cell_type": "markdown",
   "metadata": {},
   "source": [
    "### Add methane induced O3 GWP"
   ]
  },
  {
   "cell_type": "code",
   "execution_count": 56,
   "metadata": {},
   "outputs": [
    {
     "data": {
      "text/html": [
       "<div>\n",
       "<style scoped>\n",
       "    .dataframe tbody tr th:only-of-type {\n",
       "        vertical-align: middle;\n",
       "    }\n",
       "\n",
       "    .dataframe tbody tr th {\n",
       "        vertical-align: top;\n",
       "    }\n",
       "\n",
       "    .dataframe thead th {\n",
       "        text-align: right;\n",
       "    }\n",
       "</style>\n",
       "<table border=\"1\" class=\"dataframe\">\n",
       "  <thead>\n",
       "    <tr style=\"text-align: right;\">\n",
       "      <th></th>\n",
       "      <th>OSLOCTM3</th>\n",
       "      <th>WACCM6-2deg</th>\n",
       "      <th>INCA</th>\n",
       "      <th>GFDL-emi</th>\n",
       "      <th>OSLOCTM3-emi</th>\n",
       "    </tr>\n",
       "  </thead>\n",
       "  <tbody>\n",
       "    <tr>\n",
       "      <th>O3</th>\n",
       "      <td>2.38</td>\n",
       "      <td>1.90</td>\n",
       "      <td>1.69</td>\n",
       "      <td>3.98</td>\n",
       "      <td>2.45</td>\n",
       "    </tr>\n",
       "    <tr>\n",
       "      <th>CH4</th>\n",
       "      <td>5.22</td>\n",
       "      <td>5.50</td>\n",
       "      <td>5.65</td>\n",
       "      <td>4.85</td>\n",
       "      <td>5.35</td>\n",
       "    </tr>\n",
       "    <tr>\n",
       "      <th>strat H2O</th>\n",
       "      <td>1.89</td>\n",
       "      <td>0.56</td>\n",
       "      <td>0.81</td>\n",
       "      <td>2.87</td>\n",
       "      <td>1.06</td>\n",
       "    </tr>\n",
       "    <tr>\n",
       "      <th>O3 CH4ind</th>\n",
       "      <td>2.67</td>\n",
       "      <td>2.94</td>\n",
       "      <td>1.59</td>\n",
       "      <td>nan</td>\n",
       "      <td>2.73</td>\n",
       "    </tr>\n",
       "    <tr>\n",
       "      <th>strat H2O CH4ind</th>\n",
       "      <td>nan</td>\n",
       "      <td>nan</td>\n",
       "      <td>nan</td>\n",
       "      <td>nan</td>\n",
       "      <td>nan</td>\n",
       "    </tr>\n",
       "  </tbody>\n",
       "</table>\n",
       "</div>"
      ],
      "text/plain": [
       "                  OSLOCTM3  WACCM6-2deg  INCA  GFDL-emi  OSLOCTM3-emi\n",
       "O3                    2.38         1.90  1.69      3.98          2.45\n",
       "CH4                   5.22         5.50  5.65      4.85          5.35\n",
       "strat H2O             1.89         0.56  0.81      2.87          1.06\n",
       "O3 CH4ind             2.67         2.94  1.59       nan          2.73\n",
       "strat H2O CH4ind       nan          nan   nan       nan           nan"
      ]
     },
     "execution_count": 56,
     "metadata": {},
     "output_type": "execute_result"
    }
   ],
   "source": [
    "df_h2_gwp.loc['O3 CH4ind'] = df_h2_agwp_ch4ind_o3/agwp100_CO2\n",
    "df_h2_gwp"
   ]
  },
  {
   "cell_type": "markdown",
   "metadata": {},
   "source": [
    "### HYDROGEN AGWP100 methane induced strat H2O [mW m-2 yr Tg-1]"
   ]
  },
  {
   "cell_type": "code",
   "execution_count": 57,
   "metadata": {},
   "outputs": [],
   "source": [
    "df_h2_agwp_ch4ind_h2o = df_h2o_rf.loc['10CH4']/df_ch4_surfconc.loc['deltaCH4']*df_surf_ch4_per_h2_flux\n",
    "df_h2_agwp_ch4ind_h2o.name = 'h2_agwp_ch4ind_h2o'"
   ]
  },
  {
   "cell_type": "markdown",
   "metadata": {},
   "source": [
    "### Add methane induced strat H2O GWP"
   ]
  },
  {
   "cell_type": "code",
   "execution_count": 58,
   "metadata": {},
   "outputs": [
    {
     "data": {
      "text/html": [
       "<div>\n",
       "<style scoped>\n",
       "    .dataframe tbody tr th:only-of-type {\n",
       "        vertical-align: middle;\n",
       "    }\n",
       "\n",
       "    .dataframe tbody tr th {\n",
       "        vertical-align: top;\n",
       "    }\n",
       "\n",
       "    .dataframe thead th {\n",
       "        text-align: right;\n",
       "    }\n",
       "</style>\n",
       "<table border=\"1\" class=\"dataframe\">\n",
       "  <thead>\n",
       "    <tr style=\"text-align: right;\">\n",
       "      <th></th>\n",
       "      <th>OSLOCTM3</th>\n",
       "      <th>WACCM6-2deg</th>\n",
       "      <th>INCA</th>\n",
       "      <th>GFDL-emi</th>\n",
       "      <th>OSLOCTM3-emi</th>\n",
       "    </tr>\n",
       "  </thead>\n",
       "  <tbody>\n",
       "    <tr>\n",
       "      <th>O3</th>\n",
       "      <td>2.38</td>\n",
       "      <td>1.90</td>\n",
       "      <td>1.69</td>\n",
       "      <td>3.98</td>\n",
       "      <td>2.45</td>\n",
       "    </tr>\n",
       "    <tr>\n",
       "      <th>CH4</th>\n",
       "      <td>5.22</td>\n",
       "      <td>5.50</td>\n",
       "      <td>5.65</td>\n",
       "      <td>4.85</td>\n",
       "      <td>5.35</td>\n",
       "    </tr>\n",
       "    <tr>\n",
       "      <th>strat H2O</th>\n",
       "      <td>1.89</td>\n",
       "      <td>0.56</td>\n",
       "      <td>0.81</td>\n",
       "      <td>2.87</td>\n",
       "      <td>1.06</td>\n",
       "    </tr>\n",
       "    <tr>\n",
       "      <th>O3 CH4ind</th>\n",
       "      <td>2.67</td>\n",
       "      <td>2.94</td>\n",
       "      <td>1.59</td>\n",
       "      <td>nan</td>\n",
       "      <td>2.73</td>\n",
       "    </tr>\n",
       "    <tr>\n",
       "      <th>strat H2O CH4ind</th>\n",
       "      <td>0.66</td>\n",
       "      <td>0.26</td>\n",
       "      <td>0.32</td>\n",
       "      <td>nan</td>\n",
       "      <td>0.67</td>\n",
       "    </tr>\n",
       "  </tbody>\n",
       "</table>\n",
       "</div>"
      ],
      "text/plain": [
       "                  OSLOCTM3  WACCM6-2deg  INCA  GFDL-emi  OSLOCTM3-emi\n",
       "O3                    2.38         1.90  1.69      3.98          2.45\n",
       "CH4                   5.22         5.50  5.65      4.85          5.35\n",
       "strat H2O             1.89         0.56  0.81      2.87          1.06\n",
       "O3 CH4ind             2.67         2.94  1.59       nan          2.73\n",
       "strat H2O CH4ind      0.66         0.26  0.32       nan          0.67"
      ]
     },
     "execution_count": 58,
     "metadata": {},
     "output_type": "execute_result"
    }
   ],
   "source": [
    "df_h2_gwp.loc['strat H2O CH4ind'] = df_h2_agwp_ch4ind_h2o/agwp100_CO2\n",
    "df_h2_gwp"
   ]
  },
  {
   "cell_type": "markdown",
   "metadata": {},
   "source": [
    "# Methane GWP"
   ]
  },
  {
   "cell_type": "markdown",
   "metadata": {},
   "source": [
    "Initialize CH4 GWP"
   ]
  },
  {
   "cell_type": "code",
   "execution_count": 59,
   "metadata": {},
   "outputs": [],
   "source": [
    "antmod = len(df_h2_agwp_ch4.index)\n",
    "df_ch4_gwp = pd.DataFrame(np.empty([4,antmod])*np.nan,columns=df_h2_agwp_ch4.index,\n",
    "                         index=['O3','CH4','strat H2O','H2'])\n",
    "#df_ch4_gwp"
   ]
  },
  {
   "cell_type": "markdown",
   "metadata": {},
   "source": [
    "### Methane AGWP100 O3 [mW m-2 yr Tg-1]"
   ]
  },
  {
   "cell_type": "markdown",
   "metadata": {},
   "source": [
    "Integrated O3 from CH4 RF [W m-2 yr Tg-1]"
   ]
  },
  {
   "cell_type": "code",
   "execution_count": 60,
   "metadata": {},
   "outputs": [],
   "source": [
    "df_ch4_agwp_o3 = df_ozone_rf.loc['10CH4']/df_ch4_surfconc.loc['deltaCH4']*df_surf_ch4_per_ch4_flux\n",
    "df_ch4_agwp_o3.name = 'ch4_agwp_o3'\n",
    "\n"
   ]
  },
  {
   "cell_type": "markdown",
   "metadata": {},
   "source": [
    "### Add ozone GWP"
   ]
  },
  {
   "cell_type": "code",
   "execution_count": 61,
   "metadata": {},
   "outputs": [],
   "source": [
    "df_ch4_gwp.loc['O3'] =df_ch4_agwp_o3/agwp100_CO2 "
   ]
  },
  {
   "cell_type": "markdown",
   "metadata": {},
   "source": [
    "### Methane AGWP100 Methane [mW m-2 yr Tg-1]"
   ]
  },
  {
   "cell_type": "code",
   "execution_count": 62,
   "metadata": {
    "scrolled": true
   },
   "outputs": [],
   "source": [
    "df_ch4_agwp =df_surf_ch4_per_ch4_flux*spec_rf_ch4\n",
    "df_ch4_agwp.name = 'ch4_agwp'"
   ]
  },
  {
   "cell_type": "markdown",
   "metadata": {},
   "source": [
    "### Add methane GWP"
   ]
  },
  {
   "cell_type": "code",
   "execution_count": 63,
   "metadata": {},
   "outputs": [],
   "source": [
    "#Add Methane GWP:\n",
    "df_ch4_gwp.loc['CH4'] =df_ch4_agwp/agwp100_CO2 "
   ]
  },
  {
   "cell_type": "markdown",
   "metadata": {},
   "source": [
    "### Methane AGWP100 strat H2O [mW m-2 yr Tg-1]"
   ]
  },
  {
   "cell_type": "code",
   "execution_count": 64,
   "metadata": {},
   "outputs": [
    {
     "name": "stdout",
     "output_type": "stream",
     "text": [
      "OSLOCTM3       10.1\n",
      "WACCM6-2deg    3.76\n",
      "INCA           4.58\n",
      "OSLOCTM3-emi   10.1\n",
      "Name: 10CH4, dtype: float64\n"
     ]
    }
   ],
   "source": [
    "print(df_h2o_rf.loc['10CH4'])\n",
    "df_ch4_agwp_h2o = df_h2o_rf.loc['10CH4']/df_ch4_surfconc.loc['deltaCH4']*df_surf_ch4_per_ch4_flux\n",
    "df_ch4_agwp_h2o.name = 'ch4_agwp_h2o'"
   ]
  },
  {
   "cell_type": "markdown",
   "metadata": {},
   "source": [
    "### Add Strat H2O GWP:"
   ]
  },
  {
   "cell_type": "code",
   "execution_count": 65,
   "metadata": {},
   "outputs": [],
   "source": [
    "df_ch4_gwp.loc['strat H2O'] = df_ch4_agwp_h2o/agwp100_CO2"
   ]
  },
  {
   "cell_type": "markdown",
   "metadata": {},
   "source": [
    "### Add GWP via H2"
   ]
  },
  {
   "cell_type": "code",
   "execution_count": 66,
   "metadata": {
    "scrolled": true
   },
   "outputs": [],
   "source": [
    "df_ch4_gwp.loc['H2'] = df_h2_flux_per_ch4_flux*df_h2_gwp.sum()"
   ]
  },
  {
   "cell_type": "markdown",
   "metadata": {},
   "source": [
    "# Part III: Main results and tables"
   ]
  },
  {
   "cell_type": "markdown",
   "metadata": {},
   "source": [
    "## H2 GWP 100"
   ]
  },
  {
   "cell_type": "code",
   "execution_count": 67,
   "metadata": {},
   "outputs": [
    {
     "data": {
      "text/html": [
       "<div>\n",
       "<style scoped>\n",
       "    .dataframe tbody tr th:only-of-type {\n",
       "        vertical-align: middle;\n",
       "    }\n",
       "\n",
       "    .dataframe tbody tr th {\n",
       "        vertical-align: top;\n",
       "    }\n",
       "\n",
       "    .dataframe thead th {\n",
       "        text-align: right;\n",
       "    }\n",
       "</style>\n",
       "<table border=\"1\" class=\"dataframe\">\n",
       "  <thead>\n",
       "    <tr style=\"text-align: right;\">\n",
       "      <th></th>\n",
       "      <th>OSLOCTM3</th>\n",
       "      <th>WACCM6-2deg</th>\n",
       "      <th>INCA</th>\n",
       "      <th>GFDL-emi</th>\n",
       "      <th>OSLOCTM3-emi</th>\n",
       "    </tr>\n",
       "  </thead>\n",
       "  <tbody>\n",
       "    <tr>\n",
       "      <th>O3</th>\n",
       "      <td>2.38</td>\n",
       "      <td>1.90</td>\n",
       "      <td>1.69</td>\n",
       "      <td>3.98</td>\n",
       "      <td>2.45</td>\n",
       "    </tr>\n",
       "    <tr>\n",
       "      <th>CH4</th>\n",
       "      <td>5.22</td>\n",
       "      <td>5.50</td>\n",
       "      <td>5.65</td>\n",
       "      <td>4.85</td>\n",
       "      <td>5.35</td>\n",
       "    </tr>\n",
       "    <tr>\n",
       "      <th>strat H2O</th>\n",
       "      <td>1.89</td>\n",
       "      <td>0.56</td>\n",
       "      <td>0.81</td>\n",
       "      <td>2.87</td>\n",
       "      <td>1.06</td>\n",
       "    </tr>\n",
       "    <tr>\n",
       "      <th>O3 CH4ind</th>\n",
       "      <td>2.67</td>\n",
       "      <td>2.94</td>\n",
       "      <td>1.59</td>\n",
       "      <td>nan</td>\n",
       "      <td>2.73</td>\n",
       "    </tr>\n",
       "    <tr>\n",
       "      <th>strat H2O CH4ind</th>\n",
       "      <td>0.66</td>\n",
       "      <td>0.26</td>\n",
       "      <td>0.32</td>\n",
       "      <td>nan</td>\n",
       "      <td>0.67</td>\n",
       "    </tr>\n",
       "    <tr>\n",
       "      <th>total</th>\n",
       "      <td>12.8</td>\n",
       "      <td>11.2</td>\n",
       "      <td>10.1</td>\n",
       "      <td>11.7</td>\n",
       "      <td>12.3</td>\n",
       "    </tr>\n",
       "  </tbody>\n",
       "</table>\n",
       "</div>"
      ],
      "text/plain": [
       "                  OSLOCTM3  WACCM6-2deg  INCA  GFDL-emi  OSLOCTM3-emi\n",
       "O3                    2.38         1.90  1.69      3.98          2.45\n",
       "CH4                   5.22         5.50  5.65      4.85          5.35\n",
       "strat H2O             1.89         0.56  0.81      2.87          1.06\n",
       "O3 CH4ind             2.67         2.94  1.59       nan          2.73\n",
       "strat H2O CH4ind      0.66         0.26  0.32       nan          0.67\n",
       "total                 12.8         11.2  10.1      11.7          12.3"
      ]
     },
     "execution_count": 67,
     "metadata": {},
     "output_type": "execute_result"
    }
   ],
   "source": [
    "#Save to file below. Where CH4 are split based on feedback factor:\n",
    "#print(outputpath + 'table_h2_gwp.csv')\n",
    "#df_h2_gwp.to_csv(outputpath + 'table_h2_gwp.csv')\n",
    "df_h2_gwp.loc['total']=df_h2_gwp.sum()\n",
    "df_h2_gwp"
   ]
  },
  {
   "cell_type": "markdown",
   "metadata": {},
   "source": [
    "## CH4 GWP 100"
   ]
  },
  {
   "cell_type": "code",
   "execution_count": 68,
   "metadata": {},
   "outputs": [
    {
     "data": {
      "text/html": [
       "<div>\n",
       "<style scoped>\n",
       "    .dataframe tbody tr th:only-of-type {\n",
       "        vertical-align: middle;\n",
       "    }\n",
       "\n",
       "    .dataframe tbody tr th {\n",
       "        vertical-align: top;\n",
       "    }\n",
       "\n",
       "    .dataframe thead th {\n",
       "        text-align: right;\n",
       "    }\n",
       "</style>\n",
       "<table border=\"1\" class=\"dataframe\">\n",
       "  <thead>\n",
       "    <tr style=\"text-align: right;\">\n",
       "      <th></th>\n",
       "      <th>OSLOCTM3</th>\n",
       "      <th>WACCM6-2deg</th>\n",
       "      <th>INCA</th>\n",
       "      <th>GFDL-emi</th>\n",
       "      <th>OSLOCTM3-emi</th>\n",
       "    </tr>\n",
       "  </thead>\n",
       "  <tbody>\n",
       "    <tr>\n",
       "      <th>O3</th>\n",
       "      <td>8.55</td>\n",
       "      <td>8.92</td>\n",
       "      <td>5.43</td>\n",
       "      <td>nan</td>\n",
       "      <td>8.55</td>\n",
       "    </tr>\n",
       "    <tr>\n",
       "      <th>CH4</th>\n",
       "      <td>16.7</td>\n",
       "      <td>16.7</td>\n",
       "      <td>19.3</td>\n",
       "      <td>nan</td>\n",
       "      <td>16.7</td>\n",
       "    </tr>\n",
       "    <tr>\n",
       "      <th>strat H2O</th>\n",
       "      <td>2.10</td>\n",
       "      <td>0.78</td>\n",
       "      <td>1.10</td>\n",
       "      <td>nan</td>\n",
       "      <td>2.10</td>\n",
       "    </tr>\n",
       "    <tr>\n",
       "      <th>H2</th>\n",
       "      <td>0.18</td>\n",
       "      <td>0.18</td>\n",
       "      <td>0.11</td>\n",
       "      <td>nan</td>\n",
       "      <td>0.18</td>\n",
       "    </tr>\n",
       "    <tr>\n",
       "      <th>total</th>\n",
       "      <td>27.6</td>\n",
       "      <td>26.6</td>\n",
       "      <td>26.0</td>\n",
       "      <td>0.00</td>\n",
       "      <td>27.6</td>\n",
       "    </tr>\n",
       "  </tbody>\n",
       "</table>\n",
       "</div>"
      ],
      "text/plain": [
       "           OSLOCTM3  WACCM6-2deg  INCA  GFDL-emi  OSLOCTM3-emi\n",
       "O3             8.55         8.92  5.43       nan          8.55\n",
       "CH4            16.7         16.7  19.3       nan          16.7\n",
       "strat H2O      2.10         0.78  1.10       nan          2.10\n",
       "H2             0.18         0.18  0.11       nan          0.18\n",
       "total          27.6         26.6  26.0      0.00          27.6"
      ]
     },
     "execution_count": 68,
     "metadata": {},
     "output_type": "execute_result"
    }
   ],
   "source": [
    "df_ch4_gwp.to_csv(outputpath + 'table_ch4_gwp.csv')\n",
    "df_ch4_gwp.loc['total']=df_ch4_gwp.sum()\n",
    "df_ch4_gwp"
   ]
  },
  {
   "cell_type": "markdown",
   "metadata": {},
   "source": [
    "## Table per flux H2"
   ]
  },
  {
   "cell_type": "code",
   "execution_count": 69,
   "metadata": {},
   "outputs": [
    {
     "data": {
      "text/html": [
       "<div>\n",
       "<style scoped>\n",
       "    .dataframe tbody tr th:only-of-type {\n",
       "        vertical-align: middle;\n",
       "    }\n",
       "\n",
       "    .dataframe tbody tr th {\n",
       "        vertical-align: top;\n",
       "    }\n",
       "\n",
       "    .dataframe thead th {\n",
       "        text-align: right;\n",
       "    }\n",
       "</style>\n",
       "<table border=\"1\" class=\"dataframe\">\n",
       "  <thead>\n",
       "    <tr style=\"text-align: right;\">\n",
       "      <th></th>\n",
       "      <th>Flux H2 [Tg/yr]</th>\n",
       "      <th>Surf. conc. H2 per flux [ppb yr/Tg]</th>\n",
       "      <th>Surf. conc. CH4 per flux [ppb yr/Tg]</th>\n",
       "      <th>Flux CH4/Flux H2 [Tg CH4/Tg H2]</th>\n",
       "      <th>CH4 RF per flux [mW m-2 yr/ Tg]</th>\n",
       "      <th>Trop. ozone per flux [DU yr/Tg]</th>\n",
       "      <th>Strat. ozone per flux [DU yr/Tg]</th>\n",
       "      <th>Strat. ozone 60S-60N per flux [DU yr/Tg]</th>\n",
       "      <th>Strat. ozone &gt;60S/N per flux [DU yr/Tg]</th>\n",
       "      <th>ozone RF per flux [mW m-2 yr/ Tg]</th>\n",
       "      <th>Strat. H2O RF per flux [mW m-2 yr/ Tg]</th>\n",
       "    </tr>\n",
       "  </thead>\n",
       "  <tbody>\n",
       "    <tr>\n",
       "      <th>OSLOCTM3</th>\n",
       "      <td>8.54</td>\n",
       "      <td>6.23</td>\n",
       "      <td>1.08</td>\n",
       "      <td>0.31</td>\n",
       "      <td>0.48</td>\n",
       "      <td>0.00</td>\n",
       "      <td>-0.00</td>\n",
       "      <td>0.00</td>\n",
       "      <td>0.00</td>\n",
       "      <td>0.22</td>\n",
       "      <td>0.17</td>\n",
       "    </tr>\n",
       "    <tr>\n",
       "      <th>WACCM6-2deg</th>\n",
       "      <td>9.93</td>\n",
       "      <td>5.36</td>\n",
       "      <td>1.14</td>\n",
       "      <td>0.33</td>\n",
       "      <td>0.50</td>\n",
       "      <td>0.00</td>\n",
       "      <td>0.00</td>\n",
       "      <td>0.00</td>\n",
       "      <td>0.00</td>\n",
       "      <td>0.17</td>\n",
       "      <td>0.05</td>\n",
       "    </tr>\n",
       "    <tr>\n",
       "      <th>INCA</th>\n",
       "      <td>7.19</td>\n",
       "      <td>7.39</td>\n",
       "      <td>1.17</td>\n",
       "      <td>0.29</td>\n",
       "      <td>0.52</td>\n",
       "      <td>0.00</td>\n",
       "      <td>-0.00</td>\n",
       "      <td>-0.00</td>\n",
       "      <td>-0.00</td>\n",
       "      <td>0.16</td>\n",
       "      <td>0.07</td>\n",
       "    </tr>\n",
       "    <tr>\n",
       "      <th>GFDL-emi</th>\n",
       "      <td>196</td>\n",
       "      <td>6.86</td>\n",
       "      <td>1.00</td>\n",
       "      <td>0.23</td>\n",
       "      <td>0.44</td>\n",
       "      <td>0.00</td>\n",
       "      <td>-0.00</td>\n",
       "      <td>-0.00</td>\n",
       "      <td>-0.00</td>\n",
       "      <td>0.17</td>\n",
       "      <td>0.17</td>\n",
       "    </tr>\n",
       "    <tr>\n",
       "      <th>OSLOCTM3-emi</th>\n",
       "      <td>13.7</td>\n",
       "      <td>6.48</td>\n",
       "      <td>1.11</td>\n",
       "      <td>0.32</td>\n",
       "      <td>0.49</td>\n",
       "      <td>0.00</td>\n",
       "      <td>0.00</td>\n",
       "      <td>nan</td>\n",
       "      <td>nan</td>\n",
       "      <td>0.22</td>\n",
       "      <td>0.10</td>\n",
       "    </tr>\n",
       "  </tbody>\n",
       "</table>\n",
       "</div>"
      ],
      "text/plain": [
       "              Flux H2 [Tg/yr]  Surf. conc. H2 per flux [ppb yr/Tg]  \\\n",
       "OSLOCTM3                 8.54                                 6.23   \n",
       "WACCM6-2deg              9.93                                 5.36   \n",
       "INCA                     7.19                                 7.39   \n",
       "GFDL-emi                  196                                 6.86   \n",
       "OSLOCTM3-emi             13.7                                 6.48   \n",
       "\n",
       "              Surf. conc. CH4 per flux [ppb yr/Tg]  \\\n",
       "OSLOCTM3                                      1.08   \n",
       "WACCM6-2deg                                   1.14   \n",
       "INCA                                          1.17   \n",
       "GFDL-emi                                      1.00   \n",
       "OSLOCTM3-emi                                  1.11   \n",
       "\n",
       "              Flux CH4/Flux H2 [Tg CH4/Tg H2]  \\\n",
       "OSLOCTM3                                 0.31   \n",
       "WACCM6-2deg                              0.33   \n",
       "INCA                                     0.29   \n",
       "GFDL-emi                                 0.23   \n",
       "OSLOCTM3-emi                             0.32   \n",
       "\n",
       "              CH4 RF per flux [mW m-2 yr/ Tg]  \\\n",
       "OSLOCTM3                                 0.48   \n",
       "WACCM6-2deg                              0.50   \n",
       "INCA                                     0.52   \n",
       "GFDL-emi                                 0.44   \n",
       "OSLOCTM3-emi                             0.49   \n",
       "\n",
       "              Trop. ozone per flux [DU yr/Tg]  \\\n",
       "OSLOCTM3                                 0.00   \n",
       "WACCM6-2deg                              0.00   \n",
       "INCA                                     0.00   \n",
       "GFDL-emi                                 0.00   \n",
       "OSLOCTM3-emi                             0.00   \n",
       "\n",
       "              Strat. ozone per flux [DU yr/Tg]  \\\n",
       "OSLOCTM3                                 -0.00   \n",
       "WACCM6-2deg                               0.00   \n",
       "INCA                                     -0.00   \n",
       "GFDL-emi                                 -0.00   \n",
       "OSLOCTM3-emi                              0.00   \n",
       "\n",
       "              Strat. ozone 60S-60N per flux [DU yr/Tg]  \\\n",
       "OSLOCTM3                                          0.00   \n",
       "WACCM6-2deg                                       0.00   \n",
       "INCA                                             -0.00   \n",
       "GFDL-emi                                         -0.00   \n",
       "OSLOCTM3-emi                                       nan   \n",
       "\n",
       "              Strat. ozone >60S/N per flux [DU yr/Tg]  \\\n",
       "OSLOCTM3                                         0.00   \n",
       "WACCM6-2deg                                      0.00   \n",
       "INCA                                            -0.00   \n",
       "GFDL-emi                                        -0.00   \n",
       "OSLOCTM3-emi                                      nan   \n",
       "\n",
       "              ozone RF per flux [mW m-2 yr/ Tg]  \\\n",
       "OSLOCTM3                                   0.22   \n",
       "WACCM6-2deg                                0.17   \n",
       "INCA                                       0.16   \n",
       "GFDL-emi                                   0.17   \n",
       "OSLOCTM3-emi                               0.22   \n",
       "\n",
       "              Strat. H2O RF per flux [mW m-2 yr/ Tg]  \n",
       "OSLOCTM3                                        0.17  \n",
       "WACCM6-2deg                                     0.05  \n",
       "INCA                                            0.07  \n",
       "GFDL-emi                                        0.17  \n",
       "OSLOCTM3-emi                                    0.10  "
      ]
     },
     "execution_count": 69,
     "metadata": {},
     "output_type": "execute_result"
    }
   ],
   "source": [
    "df_per_flux_h2 = pd.concat([df_h2_flux.loc['deltaH2'],df_surf_h2_per_h2_flux,\n",
    "                            df_surf_ch4_per_h2_flux,df_ch4_flux_per_h2_flux,df_ch4_rf_per_h2_flux,\n",
    "                            df_trop_du_ozone_per_h2_flux,df_strat_du_ozone_per_h2_flux,\n",
    "                            df_strat_du_6060_ozone_per_h2_flux,df_strat_du_gt60_ozone_per_h2_flux,\n",
    "                            df_ozone_rf_per_h2_flux,df_h2o_rf_per_h2_flux],axis=1, sort=False)\n",
    "\n",
    "#Save to file:\n",
    "df_per_flux_h2.to_csv(outputpath + 'table_per_flux_h2.csv')\n",
    "\n",
    "#Rename the columns:\n",
    "columns_names={'deltaH2':'Flux H2 [Tg/yr]',\n",
    "               'surf_h2_per_h2_flux': 'Surf. conc. H2 per flux [ppb yr/Tg]',\n",
    "               'surf_ch4_per_h2_flux':'Surf. conc. CH4 per flux [ppb yr/Tg]',\n",
    "               'ch4_flux_per_h2_flux':'Flux CH4/Flux H2 [Tg CH4/Tg H2]',\n",
    "               'ch4_rf_per_h2_flux':'CH4 RF per flux [mW m-2 yr/ Tg]',\n",
    "               'trop_du_ozone_per_h2_flux':'Trop. ozone per flux [DU yr/Tg]',\n",
    "               'strat_du_ozone_per_h2_flux':'Strat. ozone per flux [DU yr/Tg]',\n",
    "               'strat_du_6060_ozone_per_h2_flux':'Strat. ozone 60S-60N per flux [DU yr/Tg]',\n",
    "               'strat_du_gt60_ozone_per_h2_flux':'Strat. ozone >60S/N per flux [DU yr/Tg]',\n",
    "               'ozone_rf_per_h2_flux':'ozone RF per flux [mW m-2 yr/ Tg]',\n",
    "               'h2o_rf_per_h2_flux':'Strat. H2O RF per flux [mW m-2 yr/ Tg]'}\n",
    "#Rename column names:\n",
    "df_per_flux_h2.rename(columns=dict(columns_names),inplace=True) #[df_per_flux_h2.columns])\n",
    "df_per_flux_h2"
   ]
  },
  {
   "cell_type": "markdown",
   "metadata": {},
   "source": [
    "## Table per flux CH4"
   ]
  },
  {
   "cell_type": "code",
   "execution_count": 70,
   "metadata": {
    "scrolled": true
   },
   "outputs": [
    {
     "data": {
      "text/html": [
       "<div>\n",
       "<style scoped>\n",
       "    .dataframe tbody tr th:only-of-type {\n",
       "        vertical-align: middle;\n",
       "    }\n",
       "\n",
       "    .dataframe tbody tr th {\n",
       "        vertical-align: top;\n",
       "    }\n",
       "\n",
       "    .dataframe thead th {\n",
       "        text-align: right;\n",
       "    }\n",
       "</style>\n",
       "<table border=\"1\" class=\"dataframe\">\n",
       "  <thead>\n",
       "    <tr style=\"text-align: right;\">\n",
       "      <th></th>\n",
       "      <th>Flux CH4 [Tg/yr]</th>\n",
       "      <th>Surf. conc. CH4 per flux [ppb yr/Tg]</th>\n",
       "      <th>Flux H2/Flux CH4 [Tg H2/Tg CH4]</th>\n",
       "      <th>Trop. ozone per flux [DU yr/Tg]</th>\n",
       "      <th>Strat. ozone per flux [DU yr/Tg]</th>\n",
       "      <th>Strat. ozone 60S-60N per flux [DU yr/Tg]</th>\n",
       "      <th>Strat. ozone &gt;60S/N per flux [DU yr/Tg]</th>\n",
       "      <th>ozone RF per flux [mW m-2 yr/ Tg]</th>\n",
       "      <th>Strat H2O RF per flux [mW m-2 yr/ Tg]</th>\n",
       "    </tr>\n",
       "  </thead>\n",
       "  <tbody>\n",
       "    <tr>\n",
       "      <th>OSLOCTM3</th>\n",
       "      <td>52.4</td>\n",
       "      <td>3.46</td>\n",
       "      <td>0.01</td>\n",
       "      <td>0.02</td>\n",
       "      <td>0.02</td>\n",
       "      <td>0.01</td>\n",
       "      <td>0.00</td>\n",
       "      <td>0.78</td>\n",
       "      <td>0.19</td>\n",
       "    </tr>\n",
       "    <tr>\n",
       "      <th>WACCM6-2deg</th>\n",
       "      <td>52.4</td>\n",
       "      <td>3.45</td>\n",
       "      <td>0.02</td>\n",
       "      <td>0.02</td>\n",
       "      <td>0.02</td>\n",
       "      <td>0.01</td>\n",
       "      <td>0.00</td>\n",
       "      <td>0.82</td>\n",
       "      <td>0.07</td>\n",
       "    </tr>\n",
       "    <tr>\n",
       "      <th>INCA</th>\n",
       "      <td>45.3</td>\n",
       "      <td>4.00</td>\n",
       "      <td>0.01</td>\n",
       "      <td>0.01</td>\n",
       "      <td>0.01</td>\n",
       "      <td>0.01</td>\n",
       "      <td>0.00</td>\n",
       "      <td>0.50</td>\n",
       "      <td>0.10</td>\n",
       "    </tr>\n",
       "    <tr>\n",
       "      <th>GFDL-emi</th>\n",
       "      <td>nan</td>\n",
       "      <td>nan</td>\n",
       "      <td>nan</td>\n",
       "      <td>nan</td>\n",
       "      <td>nan</td>\n",
       "      <td>nan</td>\n",
       "      <td>nan</td>\n",
       "      <td>nan</td>\n",
       "      <td>nan</td>\n",
       "    </tr>\n",
       "    <tr>\n",
       "      <th>OSLOCTM3-emi</th>\n",
       "      <td>nan</td>\n",
       "      <td>3.46</td>\n",
       "      <td>0.01</td>\n",
       "      <td>0.02</td>\n",
       "      <td>0.02</td>\n",
       "      <td>nan</td>\n",
       "      <td>nan</td>\n",
       "      <td>0.78</td>\n",
       "      <td>0.19</td>\n",
       "    </tr>\n",
       "  </tbody>\n",
       "</table>\n",
       "</div>"
      ],
      "text/plain": [
       "              Flux CH4 [Tg/yr]  Surf. conc. CH4 per flux [ppb yr/Tg]  \\\n",
       "OSLOCTM3                  52.4                                  3.46   \n",
       "WACCM6-2deg               52.4                                  3.45   \n",
       "INCA                      45.3                                  4.00   \n",
       "GFDL-emi                   nan                                   nan   \n",
       "OSLOCTM3-emi               nan                                  3.46   \n",
       "\n",
       "              Flux H2/Flux CH4 [Tg H2/Tg CH4]  \\\n",
       "OSLOCTM3                                 0.01   \n",
       "WACCM6-2deg                              0.02   \n",
       "INCA                                     0.01   \n",
       "GFDL-emi                                  nan   \n",
       "OSLOCTM3-emi                             0.01   \n",
       "\n",
       "              Trop. ozone per flux [DU yr/Tg]  \\\n",
       "OSLOCTM3                                 0.02   \n",
       "WACCM6-2deg                              0.02   \n",
       "INCA                                     0.01   \n",
       "GFDL-emi                                  nan   \n",
       "OSLOCTM3-emi                             0.02   \n",
       "\n",
       "              Strat. ozone per flux [DU yr/Tg]  \\\n",
       "OSLOCTM3                                  0.02   \n",
       "WACCM6-2deg                               0.02   \n",
       "INCA                                      0.01   \n",
       "GFDL-emi                                   nan   \n",
       "OSLOCTM3-emi                              0.02   \n",
       "\n",
       "              Strat. ozone 60S-60N per flux [DU yr/Tg]  \\\n",
       "OSLOCTM3                                          0.01   \n",
       "WACCM6-2deg                                       0.01   \n",
       "INCA                                              0.01   \n",
       "GFDL-emi                                           nan   \n",
       "OSLOCTM3-emi                                       nan   \n",
       "\n",
       "              Strat. ozone >60S/N per flux [DU yr/Tg]  \\\n",
       "OSLOCTM3                                         0.00   \n",
       "WACCM6-2deg                                      0.00   \n",
       "INCA                                             0.00   \n",
       "GFDL-emi                                          nan   \n",
       "OSLOCTM3-emi                                      nan   \n",
       "\n",
       "              ozone RF per flux [mW m-2 yr/ Tg]  \\\n",
       "OSLOCTM3                                   0.78   \n",
       "WACCM6-2deg                                0.82   \n",
       "INCA                                       0.50   \n",
       "GFDL-emi                                    nan   \n",
       "OSLOCTM3-emi                               0.78   \n",
       "\n",
       "              Strat H2O RF per flux [mW m-2 yr/ Tg]  \n",
       "OSLOCTM3                                       0.19  \n",
       "WACCM6-2deg                                    0.07  \n",
       "INCA                                           0.10  \n",
       "GFDL-emi                                        nan  \n",
       "OSLOCTM3-emi                                   0.19  "
      ]
     },
     "execution_count": 70,
     "metadata": {},
     "output_type": "execute_result"
    }
   ],
   "source": [
    "df_per_flux_ch4 = pd.concat([df_ch4_flux.loc['deltaCH4'],df_surf_ch4_per_ch4_flux,\n",
    "                            df_h2_flux_per_ch4_flux,df_trop_du_ozone_per_ch4_flux,df_strat_du_ozone_per_ch4_flux,\n",
    "                            df_strat_du_6060_ozone_per_ch4_flux,df_strat_du_gt60_ozone_per_ch4_flux,\n",
    "                            df_ozone_rf_per_ch4_flux,df_h2o_rf_per_ch4_flux],axis=1,sort=False)\n",
    "\n",
    "\n",
    "\n",
    "               \n",
    "#Save to file:\n",
    "df_per_flux_ch4.to_csv(outputpath + 'table_per_flux_ch4.csv')\n",
    "\n",
    "#Rename the columns:\n",
    "columns_names={'deltaCH4':'Flux CH4 [Tg/yr]',\n",
    "               'surf_ch4_per_ch4_flux':'Surf. conc. CH4 per flux [ppb yr/Tg]',\n",
    "               'h2_flux_per_ch4_flux':'Flux H2/Flux CH4 [Tg H2/Tg CH4]',\n",
    "               'trop_du_ozone_per_ch4_flux':'Trop. ozone per flux [DU yr/Tg]',\n",
    "               'strat_du_ozone_per_ch4_flux':'Strat. ozone per flux [DU yr/Tg]',\n",
    "               'strat_du_6060_ozone_per_ch4_flux':'Strat. ozone 60S-60N per flux [DU yr/Tg]',\n",
    "               'strat_du_gt60_ozone_per_ch4_flux':'Strat. ozone >60S/N per flux [DU yr/Tg]',\n",
    "               'ozone_rf_per_ch4_flux':'ozone RF per flux [mW m-2 yr/ Tg]',\n",
    "               'h2o_rf_per_ch4_flux':'Strat H2O RF per flux [mW m-2 yr/ Tg]'}\n",
    "               \n",
    "#Rename column names:\n",
    "df_per_flux_ch4.rename(columns=dict(columns_names),inplace=True) #[df_per_flux_h2.columns])\n",
    "df_per_flux_ch4          "
   ]
  },
  {
   "cell_type": "markdown",
   "metadata": {},
   "source": [
    "## H2 budget table"
   ]
  },
  {
   "cell_type": "code",
   "execution_count": 71,
   "metadata": {},
   "outputs": [
    {
     "data": {
      "text/html": [
       "<div>\n",
       "<style scoped>\n",
       "    .dataframe tbody tr th:only-of-type {\n",
       "        vertical-align: middle;\n",
       "    }\n",
       "\n",
       "    .dataframe tbody tr th {\n",
       "        vertical-align: top;\n",
       "    }\n",
       "\n",
       "    .dataframe thead th {\n",
       "        text-align: right;\n",
       "    }\n",
       "</style>\n",
       "<table border=\"1\" class=\"dataframe\">\n",
       "  <thead>\n",
       "    <tr style=\"text-align: right;\">\n",
       "      <th></th>\n",
       "      <th>H2 burden [Tg]</th>\n",
       "      <th>H2 lifetime [yrs]</th>\n",
       "      <th>H2 atm.loss[Tg/yr]</th>\n",
       "      <th>H2 drydep [Tg/yr]</th>\n",
       "      <th>H2 atm. prod [Tg/yr]</th>\n",
       "      <th>H2 atmospheric lifetime [yrs]</th>\n",
       "      <th>H2 estimated emissions [Tg/yr]</th>\n",
       "    </tr>\n",
       "  </thead>\n",
       "  <tbody>\n",
       "    <tr>\n",
       "      <th>OSLOCTM3</th>\n",
       "      <td>196</td>\n",
       "      <td>2.23</td>\n",
       "      <td>28.4</td>\n",
       "      <td>59.5</td>\n",
       "      <td>56.3</td>\n",
       "      <td>6.91</td>\n",
       "      <td>31.6</td>\n",
       "    </tr>\n",
       "    <tr>\n",
       "      <th>WACCM6-2deg</th>\n",
       "      <td>195</td>\n",
       "      <td>1.91</td>\n",
       "      <td>29.0</td>\n",
       "      <td>73.0</td>\n",
       "      <td>33.9</td>\n",
       "      <td>6.70</td>\n",
       "      <td>68.1</td>\n",
       "    </tr>\n",
       "    <tr>\n",
       "      <th>INCA</th>\n",
       "      <td>194</td>\n",
       "      <td>2.62</td>\n",
       "      <td>22.1</td>\n",
       "      <td>52.1</td>\n",
       "      <td>46.7</td>\n",
       "      <td>8.79</td>\n",
       "      <td>27.5</td>\n",
       "    </tr>\n",
       "    <tr>\n",
       "      <th>GFDL-emi</th>\n",
       "      <td>192</td>\n",
       "      <td>2.50</td>\n",
       "      <td>22.1</td>\n",
       "      <td>54.7</td>\n",
       "      <td>44.7</td>\n",
       "      <td>8.66</td>\n",
       "      <td>32.1</td>\n",
       "    </tr>\n",
       "    <tr>\n",
       "      <th>OSLOCTM3-emi</th>\n",
       "      <td>209</td>\n",
       "      <td>2.36</td>\n",
       "      <td>30.1</td>\n",
       "      <td>58.4</td>\n",
       "      <td>56.2</td>\n",
       "      <td>6.95</td>\n",
       "      <td>32.2</td>\n",
       "    </tr>\n",
       "  </tbody>\n",
       "</table>\n",
       "</div>"
      ],
      "text/plain": [
       "              H2 burden [Tg]  H2 lifetime [yrs]  H2 atm.loss[Tg/yr]  \\\n",
       "OSLOCTM3                 196               2.23                28.4   \n",
       "WACCM6-2deg              195               1.91                29.0   \n",
       "INCA                     194               2.62                22.1   \n",
       "GFDL-emi                 192               2.50                22.1   \n",
       "OSLOCTM3-emi             209               2.36                30.1   \n",
       "\n",
       "              H2 drydep [Tg/yr]  H2 atm. prod [Tg/yr]  \\\n",
       "OSLOCTM3                   59.5                  56.3   \n",
       "WACCM6-2deg                73.0                  33.9   \n",
       "INCA                       52.1                  46.7   \n",
       "GFDL-emi                   54.7                  44.7   \n",
       "OSLOCTM3-emi               58.4                  56.2   \n",
       "\n",
       "              H2 atmospheric lifetime [yrs]  H2 estimated emissions [Tg/yr]  \n",
       "OSLOCTM3                               6.91                            31.6  \n",
       "WACCM6-2deg                            6.70                            68.1  \n",
       "INCA                                   8.79                            27.5  \n",
       "GFDL-emi                               8.66                            32.1  \n",
       "OSLOCTM3-emi                           6.95                            32.2  "
      ]
     },
     "execution_count": 71,
     "metadata": {},
     "output_type": "execute_result"
    }
   ],
   "source": [
    "df_budget_h2 = pd.concat([df_h2_burden.loc['CTRL'],df_h2_lifetime.loc['CTRL'],\n",
    "                          df_h2_atmloss.loc['CTRL'],df_h2_drydep.loc['CTRL'],\n",
    "                          df_h2_atmprod.loc['CTRL'],df_h2_atm_lifetime.loc['CTRL'],\n",
    "                          df_h2_estemis],axis=1)\n",
    "\n",
    "df_budget_h2.columns = ['H2 burden [Tg]',\n",
    "                        'H2 lifetime [yrs]',\n",
    "                        'H2 atm.loss[Tg/yr]',\n",
    "                        'H2 drydep [Tg/yr]',\n",
    "                        'H2 atm. prod [Tg/yr]',\n",
    "                        'H2 atmospheric lifetime [yrs]',\n",
    "                        'H2 estimated emissions [Tg/yr]']\n",
    "\n",
    "df_budget_h2.to_csv(outputpath + 'table_budget_h2.csv')\n",
    "df_budget_h2"
   ]
  },
  {
   "cell_type": "markdown",
   "metadata": {},
   "source": [
    "## CH4 budget table"
   ]
  },
  {
   "cell_type": "code",
   "execution_count": 72,
   "metadata": {},
   "outputs": [
    {
     "data": {
      "text/html": [
       "<div>\n",
       "<style scoped>\n",
       "    .dataframe tbody tr th:only-of-type {\n",
       "        vertical-align: middle;\n",
       "    }\n",
       "\n",
       "    .dataframe tbody tr th {\n",
       "        vertical-align: top;\n",
       "    }\n",
       "\n",
       "    .dataframe thead th {\n",
       "        text-align: right;\n",
       "    }\n",
       "</style>\n",
       "<table border=\"1\" class=\"dataframe\">\n",
       "  <thead>\n",
       "    <tr style=\"text-align: right;\">\n",
       "      <th></th>\n",
       "      <th>CH4 burden [Tg]</th>\n",
       "      <th>CH4 lifetime [yrs]</th>\n",
       "      <th>CH4 atm.loss[Tg/yr]</th>\n",
       "    </tr>\n",
       "  </thead>\n",
       "  <tbody>\n",
       "    <tr>\n",
       "      <th>OSLOCTM3</th>\n",
       "      <td>4,995</td>\n",
       "      <td>7.31</td>\n",
       "      <td>683</td>\n",
       "    </tr>\n",
       "    <tr>\n",
       "      <th>WACCM6-2deg</th>\n",
       "      <td>5,003</td>\n",
       "      <td>6.88</td>\n",
       "      <td>727</td>\n",
       "    </tr>\n",
       "    <tr>\n",
       "      <th>INCA</th>\n",
       "      <td>4,994</td>\n",
       "      <td>9.09</td>\n",
       "      <td>550</td>\n",
       "    </tr>\n",
       "    <tr>\n",
       "      <th>GFDL-emi</th>\n",
       "      <td>4,935</td>\n",
       "      <td>8.48</td>\n",
       "      <td>582</td>\n",
       "    </tr>\n",
       "    <tr>\n",
       "      <th>OSLOCTM3-emi</th>\n",
       "      <td>4,995</td>\n",
       "      <td>7.33</td>\n",
       "      <td>681</td>\n",
       "    </tr>\n",
       "  </tbody>\n",
       "</table>\n",
       "</div>"
      ],
      "text/plain": [
       "              CH4 burden [Tg]  CH4 lifetime [yrs]  CH4 atm.loss[Tg/yr]\n",
       "OSLOCTM3                4,995                7.31                  683\n",
       "WACCM6-2deg             5,003                6.88                  727\n",
       "INCA                    4,994                9.09                  550\n",
       "GFDL-emi                4,935                8.48                  582\n",
       "OSLOCTM3-emi            4,995                7.33                  681"
      ]
     },
     "execution_count": 72,
     "metadata": {},
     "output_type": "execute_result"
    }
   ],
   "source": [
    "df_budget_ch4 = pd.concat([df_ch4_burden.loc['CTRL'],df_ch4_lifetime.loc['CTRL'],\n",
    "                           df_ch4_loss.loc['CTRL']],axis=1)\n",
    "df_budget_ch4.columns = ['CH4 burden [Tg]','CH4 lifetime [yrs]','CH4 atm.loss[Tg/yr]'] \n",
    "df_budget_ch4"
   ]
  },
  {
   "cell_type": "markdown",
   "metadata": {},
   "source": [
    "# Appendix:"
   ]
  },
  {
   "cell_type": "markdown",
   "metadata": {},
   "source": [
    "## Methane feedback factor:"
   ]
  },
  {
   "cell_type": "markdown",
   "metadata": {},
   "source": [
    "### Atmospheric mass conversion CH4  [Tg/ppb] (from perturbations)"
   ]
  },
  {
   "cell_type": "code",
   "execution_count": 73,
   "metadata": {},
   "outputs": [
    {
     "data": {
      "text/plain": [
       "OSLOCTM3       2.76\n",
       "WACCM6-2deg    2.78\n",
       "INCA           2.76\n",
       "GFDL-emi        nan\n",
       "OSLOCTM3-emi    nan\n",
       "Name: ch4_burden_per_conc, dtype: float64"
      ]
     },
     "execution_count": 73,
     "metadata": {},
     "output_type": "execute_result"
    }
   ],
   "source": [
    "df_ch4_burden_per_conc  = df_ch4_burden.loc['deltaCH4']/df_ch4_surfconc.loc['deltaCH4']\n",
    "df_ch4_burden_per_conc.name = 'ch4_burden_per_conc'\n",
    "df_ch4_burden_per_conc"
   ]
  },
  {
   "cell_type": "markdown",
   "metadata": {},
   "source": [
    "### Increase per unit flux w/o feedback = integrated decay [ppb yr/Tg]"
   ]
  },
  {
   "cell_type": "markdown",
   "metadata": {},
   "source": [
    "Add explanation... "
   ]
  },
  {
   "cell_type": "code",
   "execution_count": 74,
   "metadata": {},
   "outputs": [
    {
     "data": {
      "text/plain": [
       "OSLOCTM3       2.65\n",
       "WACCM6-2deg    2.48\n",
       "INCA           3.30\n",
       "GFDL-emi        nan\n",
       "OSLOCTM3-emi    nan\n",
       "dtype: float64"
      ]
     },
     "execution_count": 74,
     "metadata": {},
     "output_type": "execute_result"
    }
   ],
   "source": [
    "df_w_o_feedback =df_ch4_lifetime.loc['CTRL']/df_ch4_burden_per_conc #Lifetime [yr] / [Tg/ppb] \n",
    "df_w_o_feedback"
   ]
  },
  {
   "cell_type": "markdown",
   "metadata": {},
   "source": [
    "### Feedback factor: increase CH4 with feedback/ increase CH4 without feedback"
   ]
  },
  {
   "cell_type": "code",
   "execution_count": 75,
   "metadata": {},
   "outputs": [
    {
     "data": {
      "text/plain": [
       "OSLOCTM3       1.31\n",
       "WACCM6-2deg    1.39\n",
       "INCA           1.21\n",
       "GFDL-emi        nan\n",
       "OSLOCTM3-emi    nan\n",
       "Name: feedback_factor_ch4, dtype: float64"
      ]
     },
     "execution_count": 75,
     "metadata": {},
     "output_type": "execute_result"
    }
   ],
   "source": [
    "df_feedback_factor_ch4 = df_surf_ch4_per_ch4_flux/df_w_o_feedback\n",
    "df_feedback_factor_ch4.name = 'feedback_factor_ch4'\n",
    "df_feedback_factor_ch4.to_csv(outputpath + 'feedback_factor_ch4.csv')\n",
    "df_feedback_factor_ch4"
   ]
  },
  {
   "cell_type": "markdown",
   "metadata": {},
   "source": [
    "Split the CH4 GWP into direkt and indirect based on the feedback factor. For the GWP figure"
   ]
  },
  {
   "cell_type": "code",
   "execution_count": 76,
   "metadata": {},
   "outputs": [
    {
     "data": {
      "text/plain": [
       "OSLOCTM3       0.24\n",
       "WACCM6-2deg    0.28\n",
       "INCA           0.18\n",
       "GFDL-emi        nan\n",
       "OSLOCTM3-emi    nan\n",
       "Name: feedback_frac, dtype: float64"
      ]
     },
     "execution_count": 76,
     "metadata": {},
     "output_type": "execute_result"
    }
   ],
   "source": [
    "feedback_factor = df_feedback_factor_ch4\n",
    "feedback_frac = 1.0 - (1.0/feedback_factor)\n",
    "feedback_frac.name = 'feedback_frac'\n",
    "feedback_frac"
   ]
  },
  {
   "cell_type": "code",
   "execution_count": 77,
   "metadata": {},
   "outputs": [
    {
     "data": {
      "text/html": [
       "<div>\n",
       "<style scoped>\n",
       "    .dataframe tbody tr th:only-of-type {\n",
       "        vertical-align: middle;\n",
       "    }\n",
       "\n",
       "    .dataframe tbody tr th {\n",
       "        vertical-align: top;\n",
       "    }\n",
       "\n",
       "    .dataframe thead th {\n",
       "        text-align: right;\n",
       "    }\n",
       "</style>\n",
       "<table border=\"1\" class=\"dataframe\">\n",
       "  <thead>\n",
       "    <tr style=\"text-align: right;\">\n",
       "      <th></th>\n",
       "      <th>OSLOCTM3</th>\n",
       "      <th>WACCM6-2deg</th>\n",
       "      <th>INCA</th>\n",
       "      <th>GFDL-emi</th>\n",
       "      <th>OSLOCTM3-emi</th>\n",
       "    </tr>\n",
       "  </thead>\n",
       "  <tbody>\n",
       "    <tr>\n",
       "      <th>O3</th>\n",
       "      <td>2.38</td>\n",
       "      <td>1.90</td>\n",
       "      <td>1.69</td>\n",
       "      <td>3.98</td>\n",
       "      <td>2.45</td>\n",
       "    </tr>\n",
       "    <tr>\n",
       "      <th>strat H2O</th>\n",
       "      <td>1.89</td>\n",
       "      <td>0.56</td>\n",
       "      <td>0.81</td>\n",
       "      <td>2.87</td>\n",
       "      <td>1.06</td>\n",
       "    </tr>\n",
       "    <tr>\n",
       "      <th>O3 CH4ind</th>\n",
       "      <td>2.67</td>\n",
       "      <td>2.94</td>\n",
       "      <td>1.59</td>\n",
       "      <td>nan</td>\n",
       "      <td>2.73</td>\n",
       "    </tr>\n",
       "    <tr>\n",
       "      <th>strat H2O CH4ind</th>\n",
       "      <td>0.66</td>\n",
       "      <td>0.26</td>\n",
       "      <td>0.32</td>\n",
       "      <td>nan</td>\n",
       "      <td>0.67</td>\n",
       "    </tr>\n",
       "    <tr>\n",
       "      <th>CH4dir</th>\n",
       "      <td>3.99</td>\n",
       "      <td>3.95</td>\n",
       "      <td>4.66</td>\n",
       "      <td>4.85</td>\n",
       "      <td>5.35</td>\n",
       "    </tr>\n",
       "    <tr>\n",
       "      <th>CH4indir</th>\n",
       "      <td>1.23</td>\n",
       "      <td>1.55</td>\n",
       "      <td>0.99</td>\n",
       "      <td>nan</td>\n",
       "      <td>nan</td>\n",
       "    </tr>\n",
       "  </tbody>\n",
       "</table>\n",
       "</div>"
      ],
      "text/plain": [
       "                  OSLOCTM3  WACCM6-2deg  INCA  GFDL-emi  OSLOCTM3-emi\n",
       "O3                    2.38         1.90  1.69      3.98          2.45\n",
       "strat H2O             1.89         0.56  0.81      2.87          1.06\n",
       "O3 CH4ind             2.67         2.94  1.59       nan          2.73\n",
       "strat H2O CH4ind      0.66         0.26  0.32       nan          0.67\n",
       "CH4dir                3.99         3.95  4.66      4.85          5.35\n",
       "CH4indir              1.23         1.55  0.99       nan           nan"
      ]
     },
     "execution_count": 77,
     "metadata": {},
     "output_type": "execute_result"
    }
   ],
   "source": [
    "#Save to file:\n",
    "\n",
    "df_h2_gwp.loc['CH4dir'] = df_h2_gwp.loc['CH4']*(1.0-feedback_frac)\n",
    "df_h2_gwp.loc['CH4indir'] = df_h2_gwp.loc['CH4']*feedback_frac\n",
    "\n",
    "df_h2_gwp['GFDL-emi'].loc['CH4dir'] = df_h2_gwp['GFDL-emi'].loc['CH4']\n",
    "df_h2_gwp['OSLOCTM3-emi'].loc['CH4dir'] = df_h2_gwp['OSLOCTM3-emi'].loc['CH4']\n",
    "df_h2_gwp = df_h2_gwp.drop(['total','CH4'])\n",
    "df_h2_gwp.to_csv(outputpath + 'table_h2_gwp.csv')\n",
    "\n",
    "df_h2_gwp"
   ]
  },
  {
   "cell_type": "markdown",
   "metadata": {},
   "source": [
    "## Hydrogen feedback factor:"
   ]
  },
  {
   "cell_type": "markdown",
   "metadata": {},
   "source": [
    "### Atmospheric mass conversion H2  [Tg/ppb] (from perturbations)"
   ]
  },
  {
   "cell_type": "code",
   "execution_count": 78,
   "metadata": {},
   "outputs": [
    {
     "data": {
      "text/plain": [
       "OSLOCTM3       0.35\n",
       "WACCM6-2deg    0.35\n",
       "INCA           0.35\n",
       "GFDL-emi       0.34\n",
       "OSLOCTM3-emi   0.35\n",
       "Name: h2_burden_per_conc, dtype: float64"
      ]
     },
     "execution_count": 78,
     "metadata": {},
     "output_type": "execute_result"
    }
   ],
   "source": [
    "df_h2_burden_per_conc  = df_h2_burden.loc['deltaH2']/df_h2_surfconc.loc['deltaH2']\n",
    "df_h2_burden_per_conc.name = 'h2_burden_per_conc'\n",
    "df_h2_burden_per_conc"
   ]
  },
  {
   "cell_type": "markdown",
   "metadata": {},
   "source": [
    "### Increase per unit flux w/o feedback = integrated decay [ppb yr/Tg]"
   ]
  },
  {
   "cell_type": "code",
   "execution_count": 79,
   "metadata": {},
   "outputs": [
    {
     "data": {
      "text/plain": [
       "OSLOCTM3       6.36\n",
       "WACCM6-2deg    5.44\n",
       "INCA           7.50\n",
       "GFDL-emi       7.25\n",
       "OSLOCTM3-emi   6.79\n",
       "dtype: float64"
      ]
     },
     "execution_count": 79,
     "metadata": {},
     "output_type": "execute_result"
    }
   ],
   "source": [
    "df_w_o_feedback_h2 =df_h2_lifetime.loc['CTRL']/df_h2_burden_per_conc #Lifetime [yr] / [Tg/ppb] \n",
    "df_w_o_feedback_h2"
   ]
  },
  {
   "cell_type": "markdown",
   "metadata": {},
   "source": [
    "### Feedback factor: increase H2 with feedback/ increase H2 without feedback"
   ]
  },
  {
   "cell_type": "code",
   "execution_count": 80,
   "metadata": {},
   "outputs": [
    {
     "data": {
      "text/plain": [
       "OSLOCTM3       0.98\n",
       "WACCM6-2deg    0.99\n",
       "INCA           0.99\n",
       "GFDL-emi       0.95\n",
       "OSLOCTM3-emi   0.95\n",
       "Name: feedback_factor_h2, dtype: float64"
      ]
     },
     "execution_count": 80,
     "metadata": {},
     "output_type": "execute_result"
    }
   ],
   "source": [
    "df_feedback_factor_h2 = df_surf_h2_per_h2_flux/df_w_o_feedback_h2\n",
    "df_feedback_factor_h2.name = 'feedback_factor_h2'\n",
    "df_feedback_factor_h2\n",
    "#Fabien wrote in the paper about feedback factor less than 1."
   ]
  },
  {
   "cell_type": "code",
   "execution_count": null,
   "metadata": {},
   "outputs": [],
   "source": []
  }
 ],
 "metadata": {
  "kernelspec": {
   "display_name": "Python 3",
   "language": "python",
   "name": "python3"
  },
  "language_info": {
   "codemirror_mode": {
    "name": "ipython",
    "version": 3
   },
   "file_extension": ".py",
   "mimetype": "text/x-python",
   "name": "python",
   "nbconvert_exporter": "python",
   "pygments_lexer": "ipython3",
   "version": "3.7.0"
  }
 },
 "nbformat": 4,
 "nbformat_minor": 2
}
