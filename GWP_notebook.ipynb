{
 "cells": [
  {
   "cell_type": "markdown",
   "metadata": {},
   "source": [
    "# Calculate GWP and make tabels for the paper..."
   ]
  },
  {
   "cell_type": "markdown",
   "metadata": {},
   "source": [
    "Description of the experiments. bla bla"
   ]
  },
  {
   "cell_type": "markdown",
   "metadata": {},
   "source": [
    "To do:\n",
    "- Add references  https://jupyterbook.org/en/stable/content/citations.html\n",
    "- Write a detailed explanation of the method inkluding references"
   ]
  },
  {
   "cell_type": "code",
   "execution_count": 1,
   "metadata": {},
   "outputs": [],
   "source": [
    "import numpy as np\n",
    "import pandas as pd"
   ]
  },
  {
   "cell_type": "markdown",
   "metadata": {},
   "source": [
    "Input and output path:"
   ]
  },
  {
   "cell_type": "code",
   "execution_count": 2,
   "metadata": {},
   "outputs": [],
   "source": [
    "path = r\"/mnt/c/Users/ragnhibs/OneDrive - CICERO senter for klimaforskning/Documents/Hydrogen/Hydrogen_prosjektet/GWP_calc/GWP_notebook/input/\"\n",
    "outputpath= r\"/mnt/c/Users/ragnhibs/OneDrive - CICERO senter for klimaforskning/Documents/Hydrogen/Hydrogen_prosjektet/GWP_calc/GWP_notebook/output/\""
   ]
  },
  {
   "cell_type": "markdown",
   "metadata": {},
   "source": [
    "Constants:"
   ]
  },
  {
   "cell_type": "code",
   "execution_count": 3,
   "metadata": {},
   "outputs": [],
   "source": [
    "#AGWP100_CO2 [mW yr m-2 Tg-1] Source: AR5\t\n",
    "agwp100_CO2 = 0.09170\n",
    "\n",
    "#CH4 tau_strat[yr] Source: ?\n",
    "tau_strat = 120.0\n",
    "\n",
    "#CH4 tau_soil [yr] Source: ?\n",
    "tau_soil = 160.0\n",
    "\n",
    "#Specific RF for CH4 [mW m-2 ppb-1] Etminan et al., 2016\n",
    "spec_rf_ch4 = 0.44300"
   ]
  },
  {
   "cell_type": "markdown",
   "metadata": {},
   "source": [
    "Add possibility to adjust the dry-deposition\n",
    "QUESTION: Adjust the perturbations with the same relative factors as in the control?"
   ]
  },
  {
   "cell_type": "code",
   "execution_count": 4,
   "metadata": {},
   "outputs": [],
   "source": [
    "adjust_drydep = True\n",
    "if(adjust_drydep):\n",
    "    drydep = 80.0\n",
    "    outputpath = outputpath + 'drydep_'+ f'{drydep:.0f}_'\n",
    "    #print(outputpath)\n"
   ]
  },
  {
   "cell_type": "markdown",
   "metadata": {},
   "source": [
    "## Read input data"
   ]
  },
  {
   "cell_type": "markdown",
   "metadata": {},
   "source": [
    "To run this notebook, preprosessed output from the 3 set of simulations and put into a folder."
   ]
  },
  {
   "cell_type": "markdown",
   "metadata": {},
   "source": [
    "## Hydrogen results"
   ]
  },
  {
   "cell_type": "markdown",
   "metadata": {},
   "source": [
    "### H2 burden [Tg]:"
   ]
  },
  {
   "cell_type": "code",
   "execution_count": 5,
   "metadata": {},
   "outputs": [
    {
     "data": {
      "text/html": [
       "<div>\n",
       "<style scoped>\n",
       "    .dataframe tbody tr th:only-of-type {\n",
       "        vertical-align: middle;\n",
       "    }\n",
       "\n",
       "    .dataframe tbody tr th {\n",
       "        vertical-align: top;\n",
       "    }\n",
       "\n",
       "    .dataframe thead th {\n",
       "        text-align: right;\n",
       "    }\n",
       "</style>\n",
       "<table border=\"1\" class=\"dataframe\">\n",
       "  <thead>\n",
       "    <tr style=\"text-align: right;\">\n",
       "      <th></th>\n",
       "      <th>OSLOCTM3</th>\n",
       "      <th>WACCM6-2deg</th>\n",
       "      <th>INCA</th>\n",
       "      <th>GFDL-emi</th>\n",
       "    </tr>\n",
       "    <tr>\n",
       "      <th>Scenario</th>\n",
       "      <th></th>\n",
       "      <th></th>\n",
       "      <th></th>\n",
       "      <th></th>\n",
       "    </tr>\n",
       "  </thead>\n",
       "  <tbody>\n",
       "    <tr>\n",
       "      <th>CTRL</th>\n",
       "      <td>196.210864</td>\n",
       "      <td>194.3987</td>\n",
       "      <td>194.4</td>\n",
       "      <td>191.7</td>\n",
       "    </tr>\n",
       "    <tr>\n",
       "      <th>10H2</th>\n",
       "      <td>214.861270</td>\n",
       "      <td>212.9990</td>\n",
       "      <td>213.0</td>\n",
       "      <td>655.6</td>\n",
       "    </tr>\n",
       "    <tr>\n",
       "      <th>10CH4</th>\n",
       "      <td>196.785571</td>\n",
       "      <td>194.9480</td>\n",
       "      <td>194.9</td>\n",
       "      <td>NaN</td>\n",
       "    </tr>\n",
       "    <tr>\n",
       "      <th>deltaH2</th>\n",
       "      <td>18.650406</td>\n",
       "      <td>18.6003</td>\n",
       "      <td>18.6</td>\n",
       "      <td>463.9</td>\n",
       "    </tr>\n",
       "  </tbody>\n",
       "</table>\n",
       "</div>"
      ],
      "text/plain": [
       "            OSLOCTM3  WACCM6-2deg   INCA  GFDL-emi\n",
       "Scenario                                          \n",
       "CTRL      196.210864     194.3987  194.4     191.7\n",
       "10H2      214.861270     212.9990  213.0     655.6\n",
       "10CH4     196.785571     194.9480  194.9       NaN\n",
       "deltaH2    18.650406      18.6003   18.6     463.9"
      ]
     },
     "execution_count": 5,
     "metadata": {},
     "output_type": "execute_result"
    }
   ],
   "source": [
    "file = 'H2_burden.txt'\n",
    "df_h2_burden = pd.read_csv(path + file, sep=';',index_col=0,header=0)\n",
    "delta = df_h2_burden.loc['10H2']-df_h2_burden.loc['CTRL']\n",
    "delta.name = 'deltaH2'\n",
    "df_h2_burden = df_h2_burden.append(delta)\n",
    "df_h2_burden"
   ]
  },
  {
   "cell_type": "markdown",
   "metadata": {},
   "source": [
    "### H2 loss"
   ]
  },
  {
   "cell_type": "markdown",
   "metadata": {},
   "source": [
    "### H2 drydep [Tg/yr]"
   ]
  },
  {
   "cell_type": "code",
   "execution_count": 6,
   "metadata": {},
   "outputs": [
    {
     "data": {
      "text/html": [
       "<div>\n",
       "<style scoped>\n",
       "    .dataframe tbody tr th:only-of-type {\n",
       "        vertical-align: middle;\n",
       "    }\n",
       "\n",
       "    .dataframe tbody tr th {\n",
       "        vertical-align: top;\n",
       "    }\n",
       "\n",
       "    .dataframe thead th {\n",
       "        text-align: right;\n",
       "    }\n",
       "</style>\n",
       "<table border=\"1\" class=\"dataframe\">\n",
       "  <thead>\n",
       "    <tr style=\"text-align: right;\">\n",
       "      <th></th>\n",
       "      <th>OSLOCTM3</th>\n",
       "      <th>WACCM6-2deg</th>\n",
       "      <th>INCA</th>\n",
       "      <th>GFDL-emi</th>\n",
       "    </tr>\n",
       "    <tr>\n",
       "      <th>Scenario</th>\n",
       "      <th></th>\n",
       "      <th></th>\n",
       "      <th></th>\n",
       "      <th></th>\n",
       "    </tr>\n",
       "  </thead>\n",
       "  <tbody>\n",
       "    <tr>\n",
       "      <th>CTRL</th>\n",
       "      <td>59.518555</td>\n",
       "      <td>72.45730</td>\n",
       "      <td>52.06</td>\n",
       "      <td>54.66</td>\n",
       "    </tr>\n",
       "    <tr>\n",
       "      <th>10H2</th>\n",
       "      <td>65.470284</td>\n",
       "      <td>79.69643</td>\n",
       "      <td>57.23</td>\n",
       "      <td>203.65</td>\n",
       "    </tr>\n",
       "    <tr>\n",
       "      <th>10CH4</th>\n",
       "      <td>59.518572</td>\n",
       "      <td>72.47052</td>\n",
       "      <td>52.07</td>\n",
       "      <td>NaN</td>\n",
       "    </tr>\n",
       "  </tbody>\n",
       "</table>\n",
       "</div>"
      ],
      "text/plain": [
       "           OSLOCTM3  WACCM6-2deg   INCA  GFDL-emi\n",
       "Scenario                                         \n",
       "CTRL      59.518555     72.45730  52.06     54.66\n",
       "10H2      65.470284     79.69643  57.23    203.65\n",
       "10CH4     59.518572     72.47052  52.07       NaN"
      ]
     },
     "execution_count": 6,
     "metadata": {},
     "output_type": "execute_result"
    }
   ],
   "source": [
    "file = 'H2_drydep.txt'\n",
    "df_h2_drydep = pd.read_csv(path + file, sep=';',index_col=0,header=0)\n",
    "df_h2_drydep"
   ]
  },
  {
   "cell_type": "code",
   "execution_count": 7,
   "metadata": {},
   "outputs": [
    {
     "name": "stdout",
     "output_type": "stream",
     "text": [
      "NB drydep adjusted\n",
      "           OSLOCTM3  WACCM6-2deg       INCA    GFDL-emi\n",
      "Scenario                                               \n",
      "CTRL      80.000000    80.000000  80.000000   80.000000\n",
      "10H2      87.999831    87.992713  87.944679  298.060739\n",
      "10CH4     80.000023    80.014596  80.015367         NaN\n"
     ]
    }
   ],
   "source": [
    "if(adjust_drydep):\n",
    "    print('NB drydep adjusted')\n",
    "    \n",
    "    #Adjust by the relative adjustment in the control simulations\n",
    "    adjust = drydep/df_h2_drydep.loc['CTRL']\n",
    "    df_h2_drydep = df_h2_drydep*adjust\n",
    "    \n",
    "    print(df_h2_drydep)"
   ]
  },
  {
   "cell_type": "markdown",
   "metadata": {},
   "source": [
    "### H2 atm. loss [Tg/yr]"
   ]
  },
  {
   "cell_type": "code",
   "execution_count": 8,
   "metadata": {},
   "outputs": [
    {
     "data": {
      "text/html": [
       "<div>\n",
       "<style scoped>\n",
       "    .dataframe tbody tr th:only-of-type {\n",
       "        vertical-align: middle;\n",
       "    }\n",
       "\n",
       "    .dataframe tbody tr th {\n",
       "        vertical-align: top;\n",
       "    }\n",
       "\n",
       "    .dataframe thead th {\n",
       "        text-align: right;\n",
       "    }\n",
       "</style>\n",
       "<table border=\"1\" class=\"dataframe\">\n",
       "  <thead>\n",
       "    <tr style=\"text-align: right;\">\n",
       "      <th></th>\n",
       "      <th>OSLOCTM3</th>\n",
       "      <th>WACCM6-2deg</th>\n",
       "      <th>INCA</th>\n",
       "      <th>GFDL-emi</th>\n",
       "    </tr>\n",
       "    <tr>\n",
       "      <th>Scenario</th>\n",
       "      <th></th>\n",
       "      <th></th>\n",
       "      <th></th>\n",
       "      <th></th>\n",
       "    </tr>\n",
       "  </thead>\n",
       "  <tbody>\n",
       "    <tr>\n",
       "      <th>CTRL</th>\n",
       "      <td>28.389650</td>\n",
       "      <td>29.51206</td>\n",
       "      <td>22.1256</td>\n",
       "      <td>22.1241</td>\n",
       "    </tr>\n",
       "    <tr>\n",
       "      <th>10H2</th>\n",
       "      <td>30.973757</td>\n",
       "      <td>32.19348</td>\n",
       "      <td>24.1501</td>\n",
       "      <td>69.4454</td>\n",
       "    </tr>\n",
       "    <tr>\n",
       "      <th>10CH4</th>\n",
       "      <td>27.635640</td>\n",
       "      <td>28.60070</td>\n",
       "      <td>21.6251</td>\n",
       "      <td>NaN</td>\n",
       "    </tr>\n",
       "  </tbody>\n",
       "</table>\n",
       "</div>"
      ],
      "text/plain": [
       "           OSLOCTM3  WACCM6-2deg     INCA  GFDL-emi\n",
       "Scenario                                           \n",
       "CTRL      28.389650     29.51206  22.1256   22.1241\n",
       "10H2      30.973757     32.19348  24.1501   69.4454\n",
       "10CH4     27.635640     28.60070  21.6251       NaN"
      ]
     },
     "execution_count": 8,
     "metadata": {},
     "output_type": "execute_result"
    }
   ],
   "source": [
    "file = 'H2_atm_loss.txt'\n",
    "df_h2_atmloss = pd.read_csv(path + file, sep=';',index_col=0,header=0)\n",
    "df_h2_atmloss\n"
   ]
  },
  {
   "cell_type": "markdown",
   "metadata": {},
   "source": [
    "### H2 total loss [Tg/yr]:"
   ]
  },
  {
   "cell_type": "code",
   "execution_count": 9,
   "metadata": {},
   "outputs": [
    {
     "data": {
      "text/html": [
       "<div>\n",
       "<style scoped>\n",
       "    .dataframe tbody tr th:only-of-type {\n",
       "        vertical-align: middle;\n",
       "    }\n",
       "\n",
       "    .dataframe tbody tr th {\n",
       "        vertical-align: top;\n",
       "    }\n",
       "\n",
       "    .dataframe thead th {\n",
       "        text-align: right;\n",
       "    }\n",
       "</style>\n",
       "<table border=\"1\" class=\"dataframe\">\n",
       "  <thead>\n",
       "    <tr style=\"text-align: right;\">\n",
       "      <th></th>\n",
       "      <th>OSLOCTM3</th>\n",
       "      <th>WACCM6-2deg</th>\n",
       "      <th>INCA</th>\n",
       "      <th>GFDL-emi</th>\n",
       "    </tr>\n",
       "    <tr>\n",
       "      <th>Scenario</th>\n",
       "      <th></th>\n",
       "      <th></th>\n",
       "      <th></th>\n",
       "      <th></th>\n",
       "    </tr>\n",
       "  </thead>\n",
       "  <tbody>\n",
       "    <tr>\n",
       "      <th>CTRL</th>\n",
       "      <td>108.389650</td>\n",
       "      <td>109.512060</td>\n",
       "      <td>102.125600</td>\n",
       "      <td>102.124100</td>\n",
       "    </tr>\n",
       "    <tr>\n",
       "      <th>10H2</th>\n",
       "      <td>118.973588</td>\n",
       "      <td>120.186193</td>\n",
       "      <td>112.094779</td>\n",
       "      <td>367.506139</td>\n",
       "    </tr>\n",
       "    <tr>\n",
       "      <th>10CH4</th>\n",
       "      <td>107.635663</td>\n",
       "      <td>108.615296</td>\n",
       "      <td>101.640467</td>\n",
       "      <td>NaN</td>\n",
       "    </tr>\n",
       "  </tbody>\n",
       "</table>\n",
       "</div>"
      ],
      "text/plain": [
       "            OSLOCTM3  WACCM6-2deg        INCA    GFDL-emi\n",
       "Scenario                                                 \n",
       "CTRL      108.389650   109.512060  102.125600  102.124100\n",
       "10H2      118.973588   120.186193  112.094779  367.506139\n",
       "10CH4     107.635663   108.615296  101.640467         NaN"
      ]
     },
     "execution_count": 9,
     "metadata": {},
     "output_type": "execute_result"
    }
   ],
   "source": [
    "df_h2_loss = df_h2_atmloss + df_h2_drydep\n",
    "df_h2_loss\n"
   ]
  },
  {
   "cell_type": "markdown",
   "metadata": {},
   "source": [
    "### H2 prod"
   ]
  },
  {
   "cell_type": "markdown",
   "metadata": {},
   "source": [
    "### H2 atm. prod [Tg/yr]"
   ]
  },
  {
   "cell_type": "code",
   "execution_count": 10,
   "metadata": {},
   "outputs": [
    {
     "data": {
      "text/html": [
       "<div>\n",
       "<style scoped>\n",
       "    .dataframe tbody tr th:only-of-type {\n",
       "        vertical-align: middle;\n",
       "    }\n",
       "\n",
       "    .dataframe tbody tr th {\n",
       "        vertical-align: top;\n",
       "    }\n",
       "\n",
       "    .dataframe thead th {\n",
       "        text-align: right;\n",
       "    }\n",
       "</style>\n",
       "<table border=\"1\" class=\"dataframe\">\n",
       "  <thead>\n",
       "    <tr style=\"text-align: right;\">\n",
       "      <th></th>\n",
       "      <th>OSLOCTM3</th>\n",
       "      <th>WACCM6-2deg</th>\n",
       "      <th>INCA</th>\n",
       "      <th>GFDL-emi</th>\n",
       "    </tr>\n",
       "    <tr>\n",
       "      <th>Scenario</th>\n",
       "      <th></th>\n",
       "      <th></th>\n",
       "      <th></th>\n",
       "      <th></th>\n",
       "    </tr>\n",
       "  </thead>\n",
       "  <tbody>\n",
       "    <tr>\n",
       "      <th>CTRL</th>\n",
       "      <td>56.323356</td>\n",
       "      <td>34.62987</td>\n",
       "      <td>46.6780</td>\n",
       "      <td>44.6840</td>\n",
       "    </tr>\n",
       "    <tr>\n",
       "      <th>10H2</th>\n",
       "      <td>56.234898</td>\n",
       "      <td>34.52268</td>\n",
       "      <td>46.6137</td>\n",
       "      <td>43.1153</td>\n",
       "    </tr>\n",
       "    <tr>\n",
       "      <th>10CH4</th>\n",
       "      <td>59.160453</td>\n",
       "      <td>37.10409</td>\n",
       "      <td>48.9050</td>\n",
       "      <td>NaN</td>\n",
       "    </tr>\n",
       "  </tbody>\n",
       "</table>\n",
       "</div>"
      ],
      "text/plain": [
       "           OSLOCTM3  WACCM6-2deg     INCA  GFDL-emi\n",
       "Scenario                                           \n",
       "CTRL      56.323356     34.62987  46.6780   44.6840\n",
       "10H2      56.234898     34.52268  46.6137   43.1153\n",
       "10CH4     59.160453     37.10409  48.9050       NaN"
      ]
     },
     "execution_count": 10,
     "metadata": {},
     "output_type": "execute_result"
    }
   ],
   "source": [
    "file = 'H2_atm_prod.txt'\n",
    "df_h2_atmprod = pd.read_csv(path + file, sep=';',index_col=0,header=0)\n",
    "df_h2_atmprod"
   ]
  },
  {
   "cell_type": "markdown",
   "metadata": {},
   "source": [
    "### Estimated emissions (Total loss = Total prod + emission)"
   ]
  },
  {
   "cell_type": "code",
   "execution_count": 11,
   "metadata": {},
   "outputs": [
    {
     "data": {
      "text/plain": [
       "OSLOCTM3       52.066294\n",
       "WACCM6-2deg    74.882190\n",
       "INCA           55.447600\n",
       "GFDL-emi       57.440100\n",
       "Name: CTRL, dtype: float64"
      ]
     },
     "execution_count": 11,
     "metadata": {},
     "output_type": "execute_result"
    }
   ],
   "source": [
    "df_h2_estemis = df_h2_atmloss.loc['CTRL'] + df_h2_drydep.loc['CTRL'] - df_h2_atmprod.loc['CTRL']\n",
    "df_h2_estemis\n"
   ]
  },
  {
   "cell_type": "markdown",
   "metadata": {},
   "source": [
    "### H2 surface concentration [ppb]"
   ]
  },
  {
   "cell_type": "code",
   "execution_count": 12,
   "metadata": {},
   "outputs": [
    {
     "data": {
      "text/html": [
       "<div>\n",
       "<style scoped>\n",
       "    .dataframe tbody tr th:only-of-type {\n",
       "        vertical-align: middle;\n",
       "    }\n",
       "\n",
       "    .dataframe tbody tr th {\n",
       "        vertical-align: top;\n",
       "    }\n",
       "\n",
       "    .dataframe thead th {\n",
       "        text-align: right;\n",
       "    }\n",
       "</style>\n",
       "<table border=\"1\" class=\"dataframe\">\n",
       "  <thead>\n",
       "    <tr style=\"text-align: right;\">\n",
       "      <th></th>\n",
       "      <th>OSLOCTM3</th>\n",
       "      <th>WACCM6-2deg</th>\n",
       "      <th>INCA</th>\n",
       "      <th>GFDL-emi</th>\n",
       "    </tr>\n",
       "    <tr>\n",
       "      <th>Scenario</th>\n",
       "      <th></th>\n",
       "      <th></th>\n",
       "      <th></th>\n",
       "      <th></th>\n",
       "    </tr>\n",
       "  </thead>\n",
       "  <tbody>\n",
       "    <tr>\n",
       "      <th>CTRL</th>\n",
       "      <td>531.7</td>\n",
       "      <td>531.775</td>\n",
       "      <td>531.8</td>\n",
       "      <td>533.6</td>\n",
       "    </tr>\n",
       "    <tr>\n",
       "      <th>10H2</th>\n",
       "      <td>584.9</td>\n",
       "      <td>584.952</td>\n",
       "      <td>585.0</td>\n",
       "      <td>1880.1</td>\n",
       "    </tr>\n",
       "    <tr>\n",
       "      <th>deltaH2</th>\n",
       "      <td>53.2</td>\n",
       "      <td>53.177</td>\n",
       "      <td>53.2</td>\n",
       "      <td>1346.5</td>\n",
       "    </tr>\n",
       "  </tbody>\n",
       "</table>\n",
       "</div>"
      ],
      "text/plain": [
       "          OSLOCTM3  WACCM6-2deg   INCA  GFDL-emi\n",
       "Scenario                                        \n",
       "CTRL         531.7      531.775  531.8     533.6\n",
       "10H2         584.9      584.952  585.0    1880.1\n",
       "deltaH2       53.2       53.177   53.2    1346.5"
      ]
     },
     "execution_count": 12,
     "metadata": {},
     "output_type": "execute_result"
    }
   ],
   "source": [
    "file = 'H2_surfconc.txt'\n",
    "df_h2_surfconc = pd.read_csv(path + file, sep=';',index_col=0,header=0)\n",
    "delta = df_h2_surfconc.loc['10H2']-df_h2_surfconc.loc['CTRL']\n",
    "delta.name = 'deltaH2'\n",
    "df_h2_surfconc = df_h2_surfconc.append(delta)\n",
    "df_h2_surfconc"
   ]
  },
  {
   "cell_type": "markdown",
   "metadata": {},
   "source": [
    "### H2 lifetime [yr]"
   ]
  },
  {
   "cell_type": "code",
   "execution_count": 13,
   "metadata": {},
   "outputs": [
    {
     "data": {
      "text/html": [
       "<div>\n",
       "<style scoped>\n",
       "    .dataframe tbody tr th:only-of-type {\n",
       "        vertical-align: middle;\n",
       "    }\n",
       "\n",
       "    .dataframe tbody tr th {\n",
       "        vertical-align: top;\n",
       "    }\n",
       "\n",
       "    .dataframe thead th {\n",
       "        text-align: right;\n",
       "    }\n",
       "</style>\n",
       "<table border=\"1\" class=\"dataframe\">\n",
       "  <thead>\n",
       "    <tr style=\"text-align: right;\">\n",
       "      <th></th>\n",
       "      <th>OSLOCTM3</th>\n",
       "      <th>WACCM6-2deg</th>\n",
       "      <th>INCA</th>\n",
       "      <th>GFDL-emi</th>\n",
       "    </tr>\n",
       "    <tr>\n",
       "      <th>Scenario</th>\n",
       "      <th></th>\n",
       "      <th></th>\n",
       "      <th></th>\n",
       "      <th></th>\n",
       "    </tr>\n",
       "  </thead>\n",
       "  <tbody>\n",
       "    <tr>\n",
       "      <th>CTRL</th>\n",
       "      <td>1.810236</td>\n",
       "      <td>1.775135</td>\n",
       "      <td>1.903538</td>\n",
       "      <td>1.877128</td>\n",
       "    </tr>\n",
       "    <tr>\n",
       "      <th>10H2</th>\n",
       "      <td>1.805958</td>\n",
       "      <td>1.772242</td>\n",
       "      <td>1.900178</td>\n",
       "      <td>1.783916</td>\n",
       "    </tr>\n",
       "    <tr>\n",
       "      <th>10CH4</th>\n",
       "      <td>1.828256</td>\n",
       "      <td>1.794848</td>\n",
       "      <td>1.917543</td>\n",
       "      <td>NaN</td>\n",
       "    </tr>\n",
       "  </tbody>\n",
       "</table>\n",
       "</div>"
      ],
      "text/plain": [
       "          OSLOCTM3  WACCM6-2deg      INCA  GFDL-emi\n",
       "Scenario                                           \n",
       "CTRL      1.810236     1.775135  1.903538  1.877128\n",
       "10H2      1.805958     1.772242  1.900178  1.783916\n",
       "10CH4     1.828256     1.794848  1.917543       NaN"
      ]
     },
     "execution_count": 13,
     "metadata": {},
     "output_type": "execute_result"
    }
   ],
   "source": [
    "df_h2_lifetime = df_h2_burden.drop('deltaH2')/df_h2_loss\n",
    "df_h2_lifetime"
   ]
  },
  {
   "cell_type": "markdown",
   "metadata": {},
   "source": [
    "### H2 atmospheric lifetime [yr]"
   ]
  },
  {
   "cell_type": "code",
   "execution_count": 14,
   "metadata": {},
   "outputs": [
    {
     "data": {
      "text/html": [
       "<div>\n",
       "<style scoped>\n",
       "    .dataframe tbody tr th:only-of-type {\n",
       "        vertical-align: middle;\n",
       "    }\n",
       "\n",
       "    .dataframe tbody tr th {\n",
       "        vertical-align: top;\n",
       "    }\n",
       "\n",
       "    .dataframe thead th {\n",
       "        text-align: right;\n",
       "    }\n",
       "</style>\n",
       "<table border=\"1\" class=\"dataframe\">\n",
       "  <thead>\n",
       "    <tr style=\"text-align: right;\">\n",
       "      <th></th>\n",
       "      <th>OSLOCTM3</th>\n",
       "      <th>WACCM6-2deg</th>\n",
       "      <th>INCA</th>\n",
       "      <th>GFDL-emi</th>\n",
       "    </tr>\n",
       "    <tr>\n",
       "      <th>Scenario</th>\n",
       "      <th></th>\n",
       "      <th></th>\n",
       "      <th></th>\n",
       "      <th></th>\n",
       "    </tr>\n",
       "  </thead>\n",
       "  <tbody>\n",
       "    <tr>\n",
       "      <th>CTRL</th>\n",
       "      <td>6.911352</td>\n",
       "      <td>6.587094</td>\n",
       "      <td>8.786202</td>\n",
       "      <td>8.664759</td>\n",
       "    </tr>\n",
       "    <tr>\n",
       "      <th>10H2</th>\n",
       "      <td>6.936881</td>\n",
       "      <td>6.616215</td>\n",
       "      <td>8.819839</td>\n",
       "      <td>9.440510</td>\n",
       "    </tr>\n",
       "    <tr>\n",
       "      <th>10CH4</th>\n",
       "      <td>7.120717</td>\n",
       "      <td>6.816197</td>\n",
       "      <td>9.012675</td>\n",
       "      <td>NaN</td>\n",
       "    </tr>\n",
       "  </tbody>\n",
       "</table>\n",
       "</div>"
      ],
      "text/plain": [
       "          OSLOCTM3  WACCM6-2deg      INCA  GFDL-emi\n",
       "Scenario                                           \n",
       "CTRL      6.911352     6.587094  8.786202  8.664759\n",
       "10H2      6.936881     6.616215  8.819839  9.440510\n",
       "10CH4     7.120717     6.816197  9.012675       NaN"
      ]
     },
     "execution_count": 14,
     "metadata": {},
     "output_type": "execute_result"
    }
   ],
   "source": [
    "df_h2_atm_lifetime = df_h2_burden.drop('deltaH2')/df_h2_atmloss\n",
    "df_h2_atm_lifetime"
   ]
  },
  {
   "cell_type": "markdown",
   "metadata": {},
   "source": [
    "### H2 flux (burden dived by lifetime) [Tg/yr]"
   ]
  },
  {
   "cell_type": "markdown",
   "metadata": {},
   "source": [
    "Add a description of the delta flux here."
   ]
  },
  {
   "cell_type": "code",
   "execution_count": 15,
   "metadata": {},
   "outputs": [
    {
     "data": {
      "text/html": [
       "<div>\n",
       "<style scoped>\n",
       "    .dataframe tbody tr th:only-of-type {\n",
       "        vertical-align: middle;\n",
       "    }\n",
       "\n",
       "    .dataframe tbody tr th {\n",
       "        vertical-align: top;\n",
       "    }\n",
       "\n",
       "    .dataframe thead th {\n",
       "        text-align: right;\n",
       "    }\n",
       "</style>\n",
       "<table border=\"1\" class=\"dataframe\">\n",
       "  <thead>\n",
       "    <tr style=\"text-align: right;\">\n",
       "      <th></th>\n",
       "      <th>OSLOCTM3</th>\n",
       "      <th>WACCM6-2deg</th>\n",
       "      <th>INCA</th>\n",
       "      <th>GFDL-emi</th>\n",
       "    </tr>\n",
       "    <tr>\n",
       "      <th>Scenario</th>\n",
       "      <th></th>\n",
       "      <th></th>\n",
       "      <th></th>\n",
       "      <th></th>\n",
       "    </tr>\n",
       "  </thead>\n",
       "  <tbody>\n",
       "    <tr>\n",
       "      <th>CTRL</th>\n",
       "      <td>108.389650</td>\n",
       "      <td>109.512060</td>\n",
       "      <td>102.125600</td>\n",
       "      <td>102.124100</td>\n",
       "    </tr>\n",
       "    <tr>\n",
       "      <th>10H2</th>\n",
       "      <td>118.973588</td>\n",
       "      <td>120.186193</td>\n",
       "      <td>112.094779</td>\n",
       "      <td>367.506139</td>\n",
       "    </tr>\n",
       "    <tr>\n",
       "      <th>10CH4</th>\n",
       "      <td>107.635663</td>\n",
       "      <td>108.615296</td>\n",
       "      <td>101.640467</td>\n",
       "      <td>NaN</td>\n",
       "    </tr>\n",
       "    <tr>\n",
       "      <th>deltaH2</th>\n",
       "      <td>10.583938</td>\n",
       "      <td>10.674133</td>\n",
       "      <td>9.969179</td>\n",
       "      <td>265.382039</td>\n",
       "    </tr>\n",
       "    <tr>\n",
       "      <th>deltaCH4</th>\n",
       "      <td>-0.753987</td>\n",
       "      <td>-0.896764</td>\n",
       "      <td>-0.485133</td>\n",
       "      <td>NaN</td>\n",
       "    </tr>\n",
       "  </tbody>\n",
       "</table>\n",
       "</div>"
      ],
      "text/plain": [
       "            OSLOCTM3  WACCM6-2deg        INCA    GFDL-emi\n",
       "Scenario                                                 \n",
       "CTRL      108.389650   109.512060  102.125600  102.124100\n",
       "10H2      118.973588   120.186193  112.094779  367.506139\n",
       "10CH4     107.635663   108.615296  101.640467         NaN\n",
       "deltaH2    10.583938    10.674133    9.969179  265.382039\n",
       "deltaCH4   -0.753987    -0.896764   -0.485133         NaN"
      ]
     },
     "execution_count": 15,
     "metadata": {},
     "output_type": "execute_result"
    }
   ],
   "source": [
    "df_h2_flux = df_h2_burden.drop('deltaH2')/df_h2_lifetime\n",
    "#Add delta flux 10H2:\n",
    "delta = df_h2_flux.loc['10H2']-df_h2_flux.loc['CTRL']\n",
    "delta.name = 'deltaH2'\n",
    "df_h2_flux = df_h2_flux.append(delta)\n",
    "#Add delta flux 10CH4:\n",
    "delta = df_h2_flux.loc['10CH4']-df_h2_flux.loc['CTRL']\n",
    "delta.name = 'deltaCH4'\n",
    "df_h2_flux = df_h2_flux.append(delta)\n",
    "df_h2_flux\n"
   ]
  },
  {
   "cell_type": "markdown",
   "metadata": {},
   "source": [
    "## Methane results"
   ]
  },
  {
   "cell_type": "markdown",
   "metadata": {},
   "source": [
    "### CH4 burden [Tg]"
   ]
  },
  {
   "cell_type": "code",
   "execution_count": 16,
   "metadata": {},
   "outputs": [
    {
     "data": {
      "text/html": [
       "<div>\n",
       "<style scoped>\n",
       "    .dataframe tbody tr th:only-of-type {\n",
       "        vertical-align: middle;\n",
       "    }\n",
       "\n",
       "    .dataframe tbody tr th {\n",
       "        vertical-align: top;\n",
       "    }\n",
       "\n",
       "    .dataframe thead th {\n",
       "        text-align: right;\n",
       "    }\n",
       "</style>\n",
       "<table border=\"1\" class=\"dataframe\">\n",
       "  <thead>\n",
       "    <tr style=\"text-align: right;\">\n",
       "      <th></th>\n",
       "      <th>OSLOCTM3</th>\n",
       "      <th>WACCM6-2deg</th>\n",
       "      <th>INCA</th>\n",
       "      <th>GFDL-emi</th>\n",
       "    </tr>\n",
       "    <tr>\n",
       "      <th>Scenario</th>\n",
       "      <th></th>\n",
       "      <th></th>\n",
       "      <th></th>\n",
       "      <th></th>\n",
       "    </tr>\n",
       "  </thead>\n",
       "  <tbody>\n",
       "    <tr>\n",
       "      <th>CTRL</th>\n",
       "      <td>4994.964696</td>\n",
       "      <td>5006.379</td>\n",
       "      <td>4994.5</td>\n",
       "      <td>4935.0</td>\n",
       "    </tr>\n",
       "    <tr>\n",
       "      <th>10H2</th>\n",
       "      <td>4995.030494</td>\n",
       "      <td>5006.521</td>\n",
       "      <td>4994.6</td>\n",
       "      <td>4935.0</td>\n",
       "    </tr>\n",
       "    <tr>\n",
       "      <th>10CH4</th>\n",
       "      <td>5495.073931</td>\n",
       "      <td>5508.193</td>\n",
       "      <td>5494.0</td>\n",
       "      <td>NaN</td>\n",
       "    </tr>\n",
       "    <tr>\n",
       "      <th>deltaCH4</th>\n",
       "      <td>500.109236</td>\n",
       "      <td>501.814</td>\n",
       "      <td>499.5</td>\n",
       "      <td>NaN</td>\n",
       "    </tr>\n",
       "  </tbody>\n",
       "</table>\n",
       "</div>"
      ],
      "text/plain": [
       "             OSLOCTM3  WACCM6-2deg    INCA  GFDL-emi\n",
       "Scenario                                            \n",
       "CTRL      4994.964696     5006.379  4994.5    4935.0\n",
       "10H2      4995.030494     5006.521  4994.6    4935.0\n",
       "10CH4     5495.073931     5508.193  5494.0       NaN\n",
       "deltaCH4   500.109236      501.814   499.5       NaN"
      ]
     },
     "execution_count": 16,
     "metadata": {},
     "output_type": "execute_result"
    }
   ],
   "source": [
    "file = 'CH4_burden.txt'\n",
    "df_ch4_burden = pd.read_csv(path + file, sep=';',index_col=0,header=0)\n",
    "delta = df_ch4_burden.loc['10CH4']-df_ch4_burden.loc['CTRL']\n",
    "delta.name = 'deltaCH4'\n",
    "df_ch4_burden = df_ch4_burden.append(delta)\n",
    "df_ch4_burden"
   ]
  },
  {
   "cell_type": "markdown",
   "metadata": {},
   "source": [
    "### CH4 atmospheric loss [Tg/yr]"
   ]
  },
  {
   "cell_type": "code",
   "execution_count": 17,
   "metadata": {},
   "outputs": [
    {
     "data": {
      "text/html": [
       "<div>\n",
       "<style scoped>\n",
       "    .dataframe tbody tr th:only-of-type {\n",
       "        vertical-align: middle;\n",
       "    }\n",
       "\n",
       "    .dataframe tbody tr th {\n",
       "        vertical-align: top;\n",
       "    }\n",
       "\n",
       "    .dataframe thead th {\n",
       "        text-align: right;\n",
       "    }\n",
       "</style>\n",
       "<table border=\"1\" class=\"dataframe\">\n",
       "  <thead>\n",
       "    <tr style=\"text-align: right;\">\n",
       "      <th></th>\n",
       "      <th>OSLOCTM3</th>\n",
       "      <th>WACCM6-2deg</th>\n",
       "      <th>INCA</th>\n",
       "      <th>GFDL-emi</th>\n",
       "    </tr>\n",
       "    <tr>\n",
       "      <th>Scenario</th>\n",
       "      <th></th>\n",
       "      <th></th>\n",
       "      <th></th>\n",
       "      <th></th>\n",
       "    </tr>\n",
       "  </thead>\n",
       "  <tbody>\n",
       "    <tr>\n",
       "      <th>CTRL</th>\n",
       "      <td>682.972311</td>\n",
       "      <td>742.3324</td>\n",
       "      <td>549.5713</td>\n",
       "      <td>582.2586</td>\n",
       "    </tr>\n",
       "    <tr>\n",
       "      <th>10H2</th>\n",
       "      <td>680.300007</td>\n",
       "      <td>738.9528</td>\n",
       "      <td>547.4653</td>\n",
       "      <td>537.0809</td>\n",
       "    </tr>\n",
       "    <tr>\n",
       "      <th>10CH4</th>\n",
       "      <td>727.967996</td>\n",
       "      <td>788.0606</td>\n",
       "      <td>587.6182</td>\n",
       "      <td>NaN</td>\n",
       "    </tr>\n",
       "  </tbody>\n",
       "</table>\n",
       "</div>"
      ],
      "text/plain": [
       "            OSLOCTM3  WACCM6-2deg      INCA  GFDL-emi\n",
       "Scenario                                             \n",
       "CTRL      682.972311     742.3324  549.5713  582.2586\n",
       "10H2      680.300007     738.9528  547.4653  537.0809\n",
       "10CH4     727.967996     788.0606  587.6182       NaN"
      ]
     },
     "execution_count": 17,
     "metadata": {},
     "output_type": "execute_result"
    }
   ],
   "source": [
    "file = 'CH4_loss.txt'\n",
    "df_ch4_loss = pd.read_csv(path + file, sep=';',index_col=0,header=0)\n",
    "df_ch4_loss\n"
   ]
  },
  {
   "cell_type": "markdown",
   "metadata": {},
   "source": [
    "### CH4 surface concentration [ppb]"
   ]
  },
  {
   "cell_type": "code",
   "execution_count": 18,
   "metadata": {},
   "outputs": [
    {
     "data": {
      "text/html": [
       "<div>\n",
       "<style scoped>\n",
       "    .dataframe tbody tr th:only-of-type {\n",
       "        vertical-align: middle;\n",
       "    }\n",
       "\n",
       "    .dataframe tbody tr th {\n",
       "        vertical-align: top;\n",
       "    }\n",
       "\n",
       "    .dataframe thead th {\n",
       "        text-align: right;\n",
       "    }\n",
       "</style>\n",
       "<table border=\"1\" class=\"dataframe\">\n",
       "  <thead>\n",
       "    <tr style=\"text-align: right;\">\n",
       "      <th></th>\n",
       "      <th>OSLOCTM3</th>\n",
       "      <th>WACCM6-2deg</th>\n",
       "      <th>INCA</th>\n",
       "      <th>GFDL-emi</th>\n",
       "    </tr>\n",
       "    <tr>\n",
       "      <th>Scenario</th>\n",
       "      <th></th>\n",
       "      <th></th>\n",
       "      <th></th>\n",
       "      <th></th>\n",
       "    </tr>\n",
       "  </thead>\n",
       "  <tbody>\n",
       "    <tr>\n",
       "      <th>CTRL</th>\n",
       "      <td>1813.1</td>\n",
       "      <td>1807.800</td>\n",
       "      <td>1813.2</td>\n",
       "      <td>1803.6</td>\n",
       "    </tr>\n",
       "    <tr>\n",
       "      <th>10CH4</th>\n",
       "      <td>1994.4</td>\n",
       "      <td>1988.634</td>\n",
       "      <td>1994.5</td>\n",
       "      <td>NaN</td>\n",
       "    </tr>\n",
       "    <tr>\n",
       "      <th>deltaCH4</th>\n",
       "      <td>181.3</td>\n",
       "      <td>180.834</td>\n",
       "      <td>181.3</td>\n",
       "      <td>NaN</td>\n",
       "    </tr>\n",
       "  </tbody>\n",
       "</table>\n",
       "</div>"
      ],
      "text/plain": [
       "          OSLOCTM3  WACCM6-2deg    INCA  GFDL-emi\n",
       "Scenario                                         \n",
       "CTRL        1813.1     1807.800  1813.2    1803.6\n",
       "10CH4       1994.4     1988.634  1994.5       NaN\n",
       "deltaCH4     181.3      180.834   181.3       NaN"
      ]
     },
     "execution_count": 18,
     "metadata": {},
     "output_type": "execute_result"
    }
   ],
   "source": [
    "file = 'CH4_surfconc.txt'\n",
    "df_ch4_surfconc = pd.read_csv(path + file, sep=';',index_col=0,header=0)\n",
    "delta = df_ch4_surfconc.loc['10CH4']-df_ch4_surfconc.loc['CTRL']\n",
    "delta.name = 'deltaCH4'\n",
    "df_ch4_surfconc = df_ch4_surfconc.append(delta)\n",
    "df_ch4_surfconc"
   ]
  },
  {
   "cell_type": "markdown",
   "metadata": {},
   "source": [
    "### CH4 lifetime [yr]"
   ]
  },
  {
   "cell_type": "code",
   "execution_count": 19,
   "metadata": {
    "scrolled": true
   },
   "outputs": [
    {
     "data": {
      "text/html": [
       "<div>\n",
       "<style scoped>\n",
       "    .dataframe tbody tr th:only-of-type {\n",
       "        vertical-align: middle;\n",
       "    }\n",
       "\n",
       "    .dataframe tbody tr th {\n",
       "        vertical-align: top;\n",
       "    }\n",
       "\n",
       "    .dataframe thead th {\n",
       "        text-align: right;\n",
       "    }\n",
       "</style>\n",
       "<table border=\"1\" class=\"dataframe\">\n",
       "  <thead>\n",
       "    <tr style=\"text-align: right;\">\n",
       "      <th></th>\n",
       "      <th>OSLOCTM3</th>\n",
       "      <th>WACCM6-2deg</th>\n",
       "      <th>INCA</th>\n",
       "      <th>GFDL-emi</th>\n",
       "    </tr>\n",
       "    <tr>\n",
       "      <th>Scenario</th>\n",
       "      <th></th>\n",
       "      <th></th>\n",
       "      <th></th>\n",
       "      <th></th>\n",
       "    </tr>\n",
       "  </thead>\n",
       "  <tbody>\n",
       "    <tr>\n",
       "      <th>CTRL</th>\n",
       "      <td>7.313568</td>\n",
       "      <td>6.744120</td>\n",
       "      <td>9.087993</td>\n",
       "      <td>8.475615</td>\n",
       "    </tr>\n",
       "    <tr>\n",
       "      <th>10H2</th>\n",
       "      <td>7.342394</td>\n",
       "      <td>6.775157</td>\n",
       "      <td>9.123135</td>\n",
       "      <td>9.188560</td>\n",
       "    </tr>\n",
       "    <tr>\n",
       "      <th>10CH4</th>\n",
       "      <td>7.548510</td>\n",
       "      <td>6.989555</td>\n",
       "      <td>9.349608</td>\n",
       "      <td>NaN</td>\n",
       "    </tr>\n",
       "  </tbody>\n",
       "</table>\n",
       "</div>"
      ],
      "text/plain": [
       "          OSLOCTM3  WACCM6-2deg      INCA  GFDL-emi\n",
       "Scenario                                           \n",
       "CTRL      7.313568     6.744120  9.087993  8.475615\n",
       "10H2      7.342394     6.775157  9.123135  9.188560\n",
       "10CH4     7.548510     6.989555  9.349608       NaN"
      ]
     },
     "execution_count": 19,
     "metadata": {},
     "output_type": "execute_result"
    }
   ],
   "source": [
    "df_ch4_lifetime = df_ch4_burden.drop('deltaCH4')/df_ch4_loss\n",
    "df_ch4_lifetime\n",
    "\n"
   ]
  },
  {
   "cell_type": "markdown",
   "metadata": {},
   "source": [
    "### Total CH4 lifetime [yr]"
   ]
  },
  {
   "cell_type": "code",
   "execution_count": 20,
   "metadata": {},
   "outputs": [
    {
     "data": {
      "text/html": [
       "<div>\n",
       "<style scoped>\n",
       "    .dataframe tbody tr th:only-of-type {\n",
       "        vertical-align: middle;\n",
       "    }\n",
       "\n",
       "    .dataframe tbody tr th {\n",
       "        vertical-align: top;\n",
       "    }\n",
       "\n",
       "    .dataframe thead th {\n",
       "        text-align: right;\n",
       "    }\n",
       "</style>\n",
       "<table border=\"1\" class=\"dataframe\">\n",
       "  <thead>\n",
       "    <tr style=\"text-align: right;\">\n",
       "      <th></th>\n",
       "      <th>OSLOCTM3</th>\n",
       "      <th>WACCM6-2deg</th>\n",
       "      <th>INCA</th>\n",
       "      <th>GFDL-emi</th>\n",
       "    </tr>\n",
       "    <tr>\n",
       "      <th>Scenario</th>\n",
       "      <th></th>\n",
       "      <th></th>\n",
       "      <th></th>\n",
       "      <th></th>\n",
       "    </tr>\n",
       "  </thead>\n",
       "  <tbody>\n",
       "    <tr>\n",
       "      <th>CTRL</th>\n",
       "      <td>6.608709</td>\n",
       "      <td>6.140219</td>\n",
       "      <td>8.024482</td>\n",
       "      <td>7.543249</td>\n",
       "    </tr>\n",
       "    <tr>\n",
       "      <th>10H2</th>\n",
       "      <td>6.632237</td>\n",
       "      <td>6.165935</td>\n",
       "      <td>8.051869</td>\n",
       "      <td>8.102788</td>\n",
       "    </tr>\n",
       "    <tr>\n",
       "      <th>10CH4</th>\n",
       "      <td>6.799955</td>\n",
       "      <td>6.343006</td>\n",
       "      <td>8.227765</td>\n",
       "      <td>NaN</td>\n",
       "    </tr>\n",
       "  </tbody>\n",
       "</table>\n",
       "</div>"
      ],
      "text/plain": [
       "          OSLOCTM3  WACCM6-2deg      INCA  GFDL-emi\n",
       "Scenario                                           \n",
       "CTRL      6.608709     6.140219  8.024482  7.543249\n",
       "10H2      6.632237     6.165935  8.051869  8.102788\n",
       "10CH4     6.799955     6.343006  8.227765       NaN"
      ]
     },
     "execution_count": 20,
     "metadata": {},
     "output_type": "execute_result"
    }
   ],
   "source": [
    "df_ch4_tot_lifetime = 1.0/(1.0/df_ch4_lifetime + 1.0/tau_strat + 1.0/tau_soil)\n",
    "df_ch4_tot_lifetime"
   ]
  },
  {
   "cell_type": "markdown",
   "metadata": {},
   "source": [
    "### CH4 flux (burden dived by total lifetime) [Tg/yr]"
   ]
  },
  {
   "cell_type": "code",
   "execution_count": 21,
   "metadata": {},
   "outputs": [
    {
     "data": {
      "text/html": [
       "<div>\n",
       "<style scoped>\n",
       "    .dataframe tbody tr th:only-of-type {\n",
       "        vertical-align: middle;\n",
       "    }\n",
       "\n",
       "    .dataframe tbody tr th {\n",
       "        vertical-align: top;\n",
       "    }\n",
       "\n",
       "    .dataframe thead th {\n",
       "        text-align: right;\n",
       "    }\n",
       "</style>\n",
       "<table border=\"1\" class=\"dataframe\">\n",
       "  <thead>\n",
       "    <tr style=\"text-align: right;\">\n",
       "      <th></th>\n",
       "      <th>OSLOCTM3</th>\n",
       "      <th>WACCM6-2deg</th>\n",
       "      <th>INCA</th>\n",
       "      <th>GFDL-emi</th>\n",
       "    </tr>\n",
       "    <tr>\n",
       "      <th>Scenario</th>\n",
       "      <th></th>\n",
       "      <th></th>\n",
       "      <th></th>\n",
       "      <th></th>\n",
       "    </tr>\n",
       "  </thead>\n",
       "  <tbody>\n",
       "    <tr>\n",
       "      <th>CTRL</th>\n",
       "      <td>755.815546</td>\n",
       "      <td>815.342094</td>\n",
       "      <td>622.407758</td>\n",
       "      <td>654.22735</td>\n",
       "    </tr>\n",
       "    <tr>\n",
       "      <th>10H2</th>\n",
       "      <td>753.144202</td>\n",
       "      <td>811.964565</td>\n",
       "      <td>620.303217</td>\n",
       "      <td>609.04965</td>\n",
       "    </tr>\n",
       "    <tr>\n",
       "      <th>10CH4</th>\n",
       "      <td>808.104491</td>\n",
       "      <td>868.388415</td>\n",
       "      <td>667.739033</td>\n",
       "      <td>NaN</td>\n",
       "    </tr>\n",
       "    <tr>\n",
       "      <th>deltaH2</th>\n",
       "      <td>-2.671344</td>\n",
       "      <td>-3.377529</td>\n",
       "      <td>-2.104542</td>\n",
       "      <td>-45.17770</td>\n",
       "    </tr>\n",
       "    <tr>\n",
       "      <th>deltaCH4</th>\n",
       "      <td>52.288944</td>\n",
       "      <td>53.046321</td>\n",
       "      <td>45.331275</td>\n",
       "      <td>NaN</td>\n",
       "    </tr>\n",
       "  </tbody>\n",
       "</table>\n",
       "</div>"
      ],
      "text/plain": [
       "            OSLOCTM3  WACCM6-2deg        INCA   GFDL-emi\n",
       "Scenario                                                \n",
       "CTRL      755.815546   815.342094  622.407758  654.22735\n",
       "10H2      753.144202   811.964565  620.303217  609.04965\n",
       "10CH4     808.104491   868.388415  667.739033        NaN\n",
       "deltaH2    -2.671344    -3.377529   -2.104542  -45.17770\n",
       "deltaCH4   52.288944    53.046321   45.331275        NaN"
      ]
     },
     "execution_count": 21,
     "metadata": {},
     "output_type": "execute_result"
    }
   ],
   "source": [
    "df_ch4_flux = df_ch4_burden.drop('deltaCH4')/df_ch4_tot_lifetime\n",
    "#Add delta CH4 flux 10H2\n",
    "delta = df_ch4_flux.loc['10H2']-df_ch4_flux.loc['CTRL']\n",
    "delta.name = 'deltaH2'\n",
    "df_ch4_flux = df_ch4_flux.append(delta)\n",
    "#Add delta CH4 flux 10CH4\n",
    "delta = df_ch4_flux.loc['10CH4']-df_ch4_flux.loc['CTRL']\n",
    "delta.name = 'deltaCH4'\n",
    "df_ch4_flux = df_ch4_flux.append(delta)\n",
    "df_ch4_flux\n"
   ]
  },
  {
   "cell_type": "markdown",
   "metadata": {},
   "source": [
    "## Ozone results"
   ]
  },
  {
   "cell_type": "markdown",
   "metadata": {},
   "source": [
    "### Ozone delta DU troposphere"
   ]
  },
  {
   "cell_type": "code",
   "execution_count": 22,
   "metadata": {},
   "outputs": [
    {
     "data": {
      "text/html": [
       "<div>\n",
       "<style scoped>\n",
       "    .dataframe tbody tr th:only-of-type {\n",
       "        vertical-align: middle;\n",
       "    }\n",
       "\n",
       "    .dataframe tbody tr th {\n",
       "        vertical-align: top;\n",
       "    }\n",
       "\n",
       "    .dataframe thead th {\n",
       "        text-align: right;\n",
       "    }\n",
       "</style>\n",
       "<table border=\"1\" class=\"dataframe\">\n",
       "  <thead>\n",
       "    <tr style=\"text-align: right;\">\n",
       "      <th></th>\n",
       "      <th>OSLOCTM3</th>\n",
       "      <th>WACCM6-2deg</th>\n",
       "      <th>INCA</th>\n",
       "      <th>GFDL-emi</th>\n",
       "    </tr>\n",
       "    <tr>\n",
       "      <th>Scenario</th>\n",
       "      <th></th>\n",
       "      <th></th>\n",
       "      <th></th>\n",
       "      <th></th>\n",
       "    </tr>\n",
       "  </thead>\n",
       "  <tbody>\n",
       "    <tr>\n",
       "      <th>10H2</th>\n",
       "      <td>0.038463</td>\n",
       "      <td>0.027579</td>\n",
       "      <td>0.029285</td>\n",
       "      <td>0.729164</td>\n",
       "    </tr>\n",
       "    <tr>\n",
       "      <th>10CH4</th>\n",
       "      <td>0.830869</td>\n",
       "      <td>0.859612</td>\n",
       "      <td>0.539447</td>\n",
       "      <td>0.762391</td>\n",
       "    </tr>\n",
       "  </tbody>\n",
       "</table>\n",
       "</div>"
      ],
      "text/plain": [
       "          OSLOCTM3  WACCM6-2deg      INCA  GFDL-emi\n",
       "Scenario                                           \n",
       "10H2      0.038463     0.027579  0.029285  0.729164\n",
       "10CH4     0.830869     0.859612  0.539447  0.762391"
      ]
     },
     "execution_count": 22,
     "metadata": {},
     "output_type": "execute_result"
    }
   ],
   "source": [
    "file = 'ozone_du_trop.txt'\n",
    "df_ozone_du_trop = pd.read_csv(path+file, sep=';',index_col=0,header=0)\n",
    "df_ozone_du_trop\n"
   ]
  },
  {
   "cell_type": "markdown",
   "metadata": {},
   "source": [
    "### Ozone delta DU strat"
   ]
  },
  {
   "cell_type": "code",
   "execution_count": 23,
   "metadata": {},
   "outputs": [
    {
     "data": {
      "text/html": [
       "<div>\n",
       "<style scoped>\n",
       "    .dataframe tbody tr th:only-of-type {\n",
       "        vertical-align: middle;\n",
       "    }\n",
       "\n",
       "    .dataframe tbody tr th {\n",
       "        vertical-align: top;\n",
       "    }\n",
       "\n",
       "    .dataframe thead th {\n",
       "        text-align: right;\n",
       "    }\n",
       "</style>\n",
       "<table border=\"1\" class=\"dataframe\">\n",
       "  <thead>\n",
       "    <tr style=\"text-align: right;\">\n",
       "      <th></th>\n",
       "      <th>OSLOCTM3</th>\n",
       "      <th>WACCM6-2deg</th>\n",
       "      <th>INCA</th>\n",
       "      <th>GFDL-emi</th>\n",
       "    </tr>\n",
       "    <tr>\n",
       "      <th>Scenario</th>\n",
       "      <th></th>\n",
       "      <th></th>\n",
       "      <th></th>\n",
       "      <th></th>\n",
       "    </tr>\n",
       "  </thead>\n",
       "  <tbody>\n",
       "    <tr>\n",
       "      <th>10H2</th>\n",
       "      <td>0.009863</td>\n",
       "      <td>-0.012748</td>\n",
       "      <td>-0.027429</td>\n",
       "      <td>-0.226384</td>\n",
       "    </tr>\n",
       "    <tr>\n",
       "      <th>10CH4</th>\n",
       "      <td>0.829367</td>\n",
       "      <td>0.773137</td>\n",
       "      <td>0.352413</td>\n",
       "      <td>1.072883</td>\n",
       "    </tr>\n",
       "  </tbody>\n",
       "</table>\n",
       "</div>"
      ],
      "text/plain": [
       "          OSLOCTM3  WACCM6-2deg      INCA  GFDL-emi\n",
       "Scenario                                           \n",
       "10H2      0.009863    -0.012748 -0.027429 -0.226384\n",
       "10CH4     0.829367     0.773137  0.352413  1.072883"
      ]
     },
     "execution_count": 23,
     "metadata": {},
     "output_type": "execute_result"
    }
   ],
   "source": [
    "file = 'ozone_du_strat.txt'\n",
    "df_ozone_du_strat = pd.read_csv(path+file, sep=';',index_col=0,header=0)\n",
    "df_ozone_du_strat\n"
   ]
  },
  {
   "cell_type": "markdown",
   "metadata": {},
   "source": [
    "### Ozone RF"
   ]
  },
  {
   "cell_type": "markdown",
   "metadata": {},
   "source": [
    "Ozone RF is calculated using a radiative kernel (Skeie et al 2020) and the modelled changes in ozone concentration.For GFDL-emi 10H2 RF is forcing calculated in the H2 perturbation and 10CH4 the forcing calculated by the H2+CH4 pert minus the H2 pert."
   ]
  },
  {
   "cell_type": "code",
   "execution_count": 24,
   "metadata": {},
   "outputs": [
    {
     "data": {
      "text/html": [
       "<div>\n",
       "<style scoped>\n",
       "    .dataframe tbody tr th:only-of-type {\n",
       "        vertical-align: middle;\n",
       "    }\n",
       "\n",
       "    .dataframe tbody tr th {\n",
       "        vertical-align: top;\n",
       "    }\n",
       "\n",
       "    .dataframe thead th {\n",
       "        text-align: right;\n",
       "    }\n",
       "</style>\n",
       "<table border=\"1\" class=\"dataframe\">\n",
       "  <thead>\n",
       "    <tr style=\"text-align: right;\">\n",
       "      <th></th>\n",
       "      <th>OSLOCTM3</th>\n",
       "      <th>WACCM6-2deg</th>\n",
       "      <th>INCA</th>\n",
       "      <th>GFDL-emi</th>\n",
       "    </tr>\n",
       "    <tr>\n",
       "      <th>Scenario</th>\n",
       "      <th></th>\n",
       "      <th></th>\n",
       "      <th></th>\n",
       "      <th></th>\n",
       "    </tr>\n",
       "  </thead>\n",
       "  <tbody>\n",
       "    <tr>\n",
       "      <th>10H2</th>\n",
       "      <td>1.8707</td>\n",
       "      <td>1.4121</td>\n",
       "      <td>1.1167</td>\n",
       "      <td>34.0088</td>\n",
       "    </tr>\n",
       "    <tr>\n",
       "      <th>10CH4</th>\n",
       "      <td>40.9708</td>\n",
       "      <td>41.6999</td>\n",
       "      <td>22.5765</td>\n",
       "      <td>37.5865</td>\n",
       "    </tr>\n",
       "  </tbody>\n",
       "</table>\n",
       "</div>"
      ],
      "text/plain": [
       "          OSLOCTM3  WACCM6-2deg     INCA  GFDL-emi\n",
       "Scenario                                          \n",
       "10H2        1.8707       1.4121   1.1167   34.0088\n",
       "10CH4      40.9708      41.6999  22.5765   37.5865"
      ]
     },
     "execution_count": 24,
     "metadata": {},
     "output_type": "execute_result"
    }
   ],
   "source": [
    "file = 'ozone_rf.txt'\n",
    "df_ozone_rf = pd.read_csv(path+file, sep=';',index_col=0,header=0)\n",
    "df_ozone_rf"
   ]
  },
  {
   "cell_type": "markdown",
   "metadata": {},
   "source": [
    "### Stratospheric H2O RF [mW m-2]"
   ]
  },
  {
   "cell_type": "markdown",
   "metadata": {},
   "source": [
    "Stratospheric H2O RF calculated offline. Full calculations will be performed. So far only LW. Multiply by 0.85"
   ]
  },
  {
   "cell_type": "code",
   "execution_count": 25,
   "metadata": {},
   "outputs": [
    {
     "data": {
      "text/html": [
       "<div>\n",
       "<style scoped>\n",
       "    .dataframe tbody tr th:only-of-type {\n",
       "        vertical-align: middle;\n",
       "    }\n",
       "\n",
       "    .dataframe tbody tr th {\n",
       "        vertical-align: top;\n",
       "    }\n",
       "\n",
       "    .dataframe thead th {\n",
       "        text-align: right;\n",
       "    }\n",
       "</style>\n",
       "<table border=\"1\" class=\"dataframe\">\n",
       "  <thead>\n",
       "    <tr style=\"text-align: right;\">\n",
       "      <th></th>\n",
       "      <th>OSLOCTM3</th>\n",
       "      <th>WACCM6-2deg</th>\n",
       "      <th>INCA</th>\n",
       "    </tr>\n",
       "    <tr>\n",
       "      <th>Scenario</th>\n",
       "      <th></th>\n",
       "      <th></th>\n",
       "      <th></th>\n",
       "    </tr>\n",
       "  </thead>\n",
       "  <tbody>\n",
       "    <tr>\n",
       "      <th>10H2</th>\n",
       "      <td>1.3515</td>\n",
       "      <td>0.5185</td>\n",
       "      <td>0.3995</td>\n",
       "    </tr>\n",
       "    <tr>\n",
       "      <th>10CH4</th>\n",
       "      <td>9.1800</td>\n",
       "      <td>2.8050</td>\n",
       "      <td>3.4000</td>\n",
       "    </tr>\n",
       "  </tbody>\n",
       "</table>\n",
       "</div>"
      ],
      "text/plain": [
       "          OSLOCTM3  WACCM6-2deg    INCA\n",
       "Scenario                               \n",
       "10H2        1.3515       0.5185  0.3995\n",
       "10CH4       9.1800       2.8050  3.4000"
      ]
     },
     "execution_count": 25,
     "metadata": {},
     "output_type": "execute_result"
    }
   ],
   "source": [
    "file = 'H2O_rf.txt'\n",
    "df_h2o_rf = pd.read_csv(path+file, sep=';',index_col=0,header=0)\n",
    "\n",
    "#'NBNBNB multiply these numbers by 0.85\n",
    "df_h2o_rf = df_h2o_rf.multiply(0.85)\n",
    "df_h2o_rf"
   ]
  },
  {
   "cell_type": "code",
   "execution_count": 26,
   "metadata": {
    "scrolled": true
   },
   "outputs": [
    {
     "data": {
      "text/html": [
       "<div>\n",
       "<style scoped>\n",
       "    .dataframe tbody tr th:only-of-type {\n",
       "        vertical-align: middle;\n",
       "    }\n",
       "\n",
       "    .dataframe tbody tr th {\n",
       "        vertical-align: top;\n",
       "    }\n",
       "\n",
       "    .dataframe thead th {\n",
       "        text-align: right;\n",
       "    }\n",
       "</style>\n",
       "<table border=\"1\" class=\"dataframe\">\n",
       "  <thead>\n",
       "    <tr style=\"text-align: right;\">\n",
       "      <th></th>\n",
       "      <th>GFDL</th>\n",
       "    </tr>\n",
       "  </thead>\n",
       "  <tbody>\n",
       "    <tr>\n",
       "      <th>H2 [mW m-2]</th>\n",
       "      <td>28.2625</td>\n",
       "    </tr>\n",
       "    <tr>\n",
       "      <th>H2+CH4 [mW m-2]</th>\n",
       "      <td>53.1250</td>\n",
       "    </tr>\n",
       "  </tbody>\n",
       "</table>\n",
       "</div>"
      ],
      "text/plain": [
       "                    GFDL\n",
       "H2 [mW m-2]      28.2625\n",
       "H2+CH4 [mW m-2]  53.1250"
      ]
     },
     "execution_count": 26,
     "metadata": {},
     "output_type": "execute_result"
    }
   ],
   "source": [
    "#NBNBBN not multiply these numbers by 0.85'\n",
    "file = 'H2O_rf_gfdl.txt'\n",
    "h2o_rf_gfdl = pd.read_csv(path + file, sep=',',index_col=0,header=0)\n",
    "h2o_rf_gfdl"
   ]
  },
  {
   "cell_type": "markdown",
   "metadata": {},
   "source": [
    "\n",
    "# Start calculations:"
   ]
  },
  {
   "cell_type": "markdown",
   "metadata": {},
   "source": [
    "### Change in H2 surface conc. caused by 1 Tg H2/yr [ppb yr Tg-1]"
   ]
  },
  {
   "cell_type": "markdown",
   "metadata": {},
   "source": [
    "This is not used for the GWP calculation. Only for the per flux table and for the feedback factor calulations."
   ]
  },
  {
   "cell_type": "code",
   "execution_count": 27,
   "metadata": {},
   "outputs": [
    {
     "data": {
      "text/plain": [
       "OSLOCTM3       5.026484\n",
       "WACCM6-2deg    4.981857\n",
       "INCA           5.336447\n",
       "GFDL-emi       5.073817\n",
       "Name: surf_h2_per_h2_flux, dtype: float64"
      ]
     },
     "execution_count": 27,
     "metadata": {},
     "output_type": "execute_result"
    }
   ],
   "source": [
    "df_surf_h2_per_h2_flux = df_h2_surfconc.loc['deltaH2']/df_h2_flux.loc['deltaH2']\n",
    "df_surf_h2_per_h2_flux.name = 'surf_h2_per_h2_flux'\n",
    "df_surf_h2_per_h2_flux"
   ]
  },
  {
   "cell_type": "markdown",
   "metadata": {},
   "source": [
    "### Change in CH4 flux caused by 1 TgH2 /yr (includes H2 feedback) [Tg CH4/Tg H2]:"
   ]
  },
  {
   "cell_type": "markdown",
   "metadata": {},
   "source": [
    "The ch4_flux is multiplied by -1 due to.... Why this includes feedback..."
   ]
  },
  {
   "cell_type": "code",
   "execution_count": 28,
   "metadata": {},
   "outputs": [
    {
     "data": {
      "text/plain": [
       "OSLOCTM3       0.252396\n",
       "WACCM6-2deg    0.316422\n",
       "INCA           0.211105\n",
       "GFDL-emi       0.170236\n",
       "Name: ch4_flux_per_h2_flux, dtype: float64"
      ]
     },
     "execution_count": 28,
     "metadata": {},
     "output_type": "execute_result"
    }
   ],
   "source": [
    "df_ch4_flux_per_h2_flux = -1.0*df_ch4_flux.loc['deltaH2']/df_h2_flux.loc['deltaH2']\n",
    "df_ch4_flux_per_h2_flux.name = 'ch4_flux_per_h2_flux'\n",
    "df_ch4_flux_per_h2_flux\n"
   ]
  },
  {
   "cell_type": "markdown",
   "metadata": {},
   "source": [
    "### Change in CH4 surface conc. caused by 1 Tg/yr CH4 [ppb yr/Tg CH4]"
   ]
  },
  {
   "cell_type": "code",
   "execution_count": 29,
   "metadata": {},
   "outputs": [
    {
     "data": {
      "text/plain": [
       "OSLOCTM3       3.467272\n",
       "WACCM6-2deg    3.408983\n",
       "INCA           3.999446\n",
       "GFDL-emi            NaN\n",
       "Name: surf_ch4_per_ch4_flux, dtype: float64"
      ]
     },
     "execution_count": 29,
     "metadata": {},
     "output_type": "execute_result"
    }
   ],
   "source": [
    "df_surf_ch4_per_ch4_flux =  df_ch4_surfconc.loc['deltaCH4']/df_ch4_flux.loc['deltaCH4']\n",
    "df_surf_ch4_per_ch4_flux.name = 'surf_ch4_per_ch4_flux'\n",
    "df_surf_ch4_per_ch4_flux"
   ]
  },
  {
   "cell_type": "markdown",
   "metadata": {},
   "source": [
    "### Change in CH4 surf conc per emiss H2 [ppb yr /Tg H2]"
   ]
  },
  {
   "cell_type": "code",
   "execution_count": 30,
   "metadata": {},
   "outputs": [
    {
     "data": {
      "text/plain": [
       "OSLOCTM3       0.875126\n",
       "WACCM6-2deg    1.078677\n",
       "INCA           0.844302\n",
       "GFDL-emi       0.742326\n",
       "Name: surf_ch4_per_h2_flux, dtype: float64"
      ]
     },
     "execution_count": 30,
     "metadata": {},
     "output_type": "execute_result"
    }
   ],
   "source": [
    "df_surf_ch4_per_h2_flux = df_surf_ch4_per_ch4_flux*df_ch4_flux_per_h2_flux\n",
    "df_surf_ch4_per_h2_flux.name = 'surf_ch4_per_h2_flux'\n",
    "\n",
    "#Add GFDL:\n",
    "#Increase in surface concentration CH4:\n",
    "#1808 to 2005 ppbv\n",
    "df_surf_ch4_per_h2_flux['GFDL-emi']= (2005.-1808.)/df_h2_flux['GFDL-emi'].loc['deltaH2']\n",
    "df_surf_ch4_per_h2_flux\n"
   ]
  },
  {
   "cell_type": "markdown",
   "metadata": {},
   "source": [
    "### Change in H2 flux caused by 1 TgCH4/yr [Tg H2/Tg CH4]"
   ]
  },
  {
   "cell_type": "markdown",
   "metadata": {},
   "source": [
    "Why we multiply by -1"
   ]
  },
  {
   "cell_type": "code",
   "execution_count": 31,
   "metadata": {},
   "outputs": [
    {
     "data": {
      "text/plain": [
       "OSLOCTM3       0.014420\n",
       "WACCM6-2deg    0.016905\n",
       "INCA           0.010702\n",
       "GFDL-emi            NaN\n",
       "Name: h2_flux_per_ch4_flux, dtype: float64"
      ]
     },
     "execution_count": 31,
     "metadata": {},
     "output_type": "execute_result"
    }
   ],
   "source": [
    "df_h2_flux_per_ch4_flux = -1.0*df_h2_flux.loc['deltaCH4']/df_ch4_flux.loc['deltaCH4']\n",
    "df_h2_flux_per_ch4_flux.name = 'h2_flux_per_ch4_flux'\n",
    "df_h2_flux_per_ch4_flux\n"
   ]
  },
  {
   "cell_type": "markdown",
   "metadata": {},
   "source": [
    "### HYDROGEN AGWP100 CH4 [mW m-2 yr Tg-1]"
   ]
  },
  {
   "cell_type": "markdown",
   "metadata": {},
   "source": [
    "Explain why this is AGWP"
   ]
  },
  {
   "cell_type": "code",
   "execution_count": 32,
   "metadata": {},
   "outputs": [],
   "source": [
    "df_h2_agwp_ch4 = df_surf_ch4_per_h2_flux*spec_rf_ch4\n",
    "df_h2_agwp_ch4.name = 'h2_agwp_ch4'\n",
    "\n",
    "\n",
    "#agwp_ch4 = RF per flux H2 (For the per flux table)\n",
    "df_ch4_rf_per_h2_flux = df_surf_ch4_per_h2_flux*spec_rf_ch4\n",
    "df_ch4_rf_per_h2_flux.name = 'ch4_rf_per_h2_flux'\n",
    "\n"
   ]
  },
  {
   "cell_type": "markdown",
   "metadata": {},
   "source": [
    "### Initialize H2 GWP table"
   ]
  },
  {
   "cell_type": "code",
   "execution_count": 33,
   "metadata": {},
   "outputs": [
    {
     "data": {
      "text/html": [
       "<div>\n",
       "<style scoped>\n",
       "    .dataframe tbody tr th:only-of-type {\n",
       "        vertical-align: middle;\n",
       "    }\n",
       "\n",
       "    .dataframe tbody tr th {\n",
       "        vertical-align: top;\n",
       "    }\n",
       "\n",
       "    .dataframe thead th {\n",
       "        text-align: right;\n",
       "    }\n",
       "</style>\n",
       "<table border=\"1\" class=\"dataframe\">\n",
       "  <thead>\n",
       "    <tr style=\"text-align: right;\">\n",
       "      <th></th>\n",
       "      <th>OSLOCTM3</th>\n",
       "      <th>WACCM6-2deg</th>\n",
       "      <th>INCA</th>\n",
       "      <th>GFDL-emi</th>\n",
       "    </tr>\n",
       "  </thead>\n",
       "  <tbody>\n",
       "    <tr>\n",
       "      <th>O3</th>\n",
       "      <td>NaN</td>\n",
       "      <td>NaN</td>\n",
       "      <td>NaN</td>\n",
       "      <td>NaN</td>\n",
       "    </tr>\n",
       "    <tr>\n",
       "      <th>CH4</th>\n",
       "      <td>NaN</td>\n",
       "      <td>NaN</td>\n",
       "      <td>NaN</td>\n",
       "      <td>NaN</td>\n",
       "    </tr>\n",
       "    <tr>\n",
       "      <th>strat H2O</th>\n",
       "      <td>NaN</td>\n",
       "      <td>NaN</td>\n",
       "      <td>NaN</td>\n",
       "      <td>NaN</td>\n",
       "    </tr>\n",
       "    <tr>\n",
       "      <th>O3 CH4ind</th>\n",
       "      <td>NaN</td>\n",
       "      <td>NaN</td>\n",
       "      <td>NaN</td>\n",
       "      <td>NaN</td>\n",
       "    </tr>\n",
       "    <tr>\n",
       "      <th>strat H2O CH4ind</th>\n",
       "      <td>NaN</td>\n",
       "      <td>NaN</td>\n",
       "      <td>NaN</td>\n",
       "      <td>NaN</td>\n",
       "    </tr>\n",
       "  </tbody>\n",
       "</table>\n",
       "</div>"
      ],
      "text/plain": [
       "                  OSLOCTM3  WACCM6-2deg  INCA  GFDL-emi\n",
       "O3                     NaN          NaN   NaN       NaN\n",
       "CH4                    NaN          NaN   NaN       NaN\n",
       "strat H2O              NaN          NaN   NaN       NaN\n",
       "O3 CH4ind              NaN          NaN   NaN       NaN\n",
       "strat H2O CH4ind       NaN          NaN   NaN       NaN"
      ]
     },
     "execution_count": 33,
     "metadata": {},
     "output_type": "execute_result"
    }
   ],
   "source": [
    "antmod = len(df_h2_agwp_ch4.index)\n",
    "df_h2_gwp = pd.DataFrame(np.empty([5,antmod])*np.nan,columns=df_h2_agwp_ch4.index,\n",
    "                         index=['O3','CH4','strat H2O','O3 CH4ind','strat H2O CH4ind'])\n",
    "df_h2_gwp"
   ]
  },
  {
   "cell_type": "markdown",
   "metadata": {},
   "source": [
    "### Add methane GWP"
   ]
  },
  {
   "cell_type": "code",
   "execution_count": 34,
   "metadata": {},
   "outputs": [],
   "source": [
    "df_h2_gwp.loc['CH4'] = df_h2_agwp_ch4/agwp100_CO2"
   ]
  },
  {
   "cell_type": "markdown",
   "metadata": {},
   "source": [
    "### HYDROGEN AGWP100 strat H2O [mW m-2 yr Tg-1]"
   ]
  },
  {
   "cell_type": "markdown",
   "metadata": {},
   "source": [
    "Explain that RF/flux equal AGWP.."
   ]
  },
  {
   "cell_type": "code",
   "execution_count": 35,
   "metadata": {},
   "outputs": [],
   "source": [
    "df_h2_agwp_h2o = df_h2o_rf.loc['10H2']/df_h2_flux.loc['deltaH2']\n",
    "df_h2_agwp_h2o['GFDL-emi'] = h2o_rf_gfdl['GFDL'].loc['H2+CH4 [mW m-2]']/df_h2_flux['GFDL-emi'].loc['deltaH2']\n",
    "df_h2_agwp_h2o.name = 'h2_agwp_h2o'\n",
    "\n",
    "#NBNB GFDL methane induced is included."
   ]
  },
  {
   "cell_type": "code",
   "execution_count": 36,
   "metadata": {},
   "outputs": [],
   "source": [
    "#Add to the flux table\n",
    "df_h2o_rf_per_h2_flux = df_h2o_rf.loc['10H2']/df_h2_flux.loc['deltaH2']\n",
    "df_h2o_rf_per_h2_flux.name= 'h2o_rf_per_h2_flux'\n",
    "df_h2o_rf_per_h2_flux['GFDL-emi'] = h2o_rf_gfdl['GFDL'].loc['H2 [mW m-2]']/df_h2_flux['GFDL-emi'].loc['deltaH2']\n",
    "\n",
    "#Strat H2O RF per methane flux (Move this to the methane part?)\n",
    "df_h2o_rf_per_ch4_flux = df_h2o_rf.loc['10CH4']/df_ch4_flux.loc['deltaCH4']\n",
    "df_h2o_rf_per_ch4_flux.name = 'h2o_rf_per_ch4_flux'\n"
   ]
  },
  {
   "cell_type": "markdown",
   "metadata": {},
   "source": [
    "### Add stratospheric H2O GWP"
   ]
  },
  {
   "cell_type": "code",
   "execution_count": 37,
   "metadata": {},
   "outputs": [],
   "source": [
    "df_h2_gwp.loc['strat H2O'] = df_h2_agwp_h2o/agwp100_CO2\n"
   ]
  },
  {
   "cell_type": "markdown",
   "metadata": {},
   "source": [
    "### HYDROGEN AGWP100 O3 [mW m-2 yr Tg-1]"
   ]
  },
  {
   "cell_type": "code",
   "execution_count": 38,
   "metadata": {},
   "outputs": [],
   "source": [
    "df_h2_agwp_o3 = df_ozone_rf.loc['10H2']/df_h2_flux.loc['deltaH2']\n",
    "df_h2_agwp_o3.name = 'h2_agwp_o3'\n",
    "\n",
    "#For GFDL-emi include the methane induced part.\n",
    "df_h2_agwp_o3['GFDL-emi'] = (df_ozone_rf['GFDL-emi'].loc['10H2']+df_ozone_rf['GFDL-emi'].loc['10CH4'])/df_h2_flux['GFDL-emi'].loc['deltaH2']\n"
   ]
  },
  {
   "cell_type": "code",
   "execution_count": 39,
   "metadata": {},
   "outputs": [],
   "source": [
    "#Similar, but use only the H2 Ozone RF for GFDL. To be used in the table:\n",
    "df_ozone_rf_per_h2_flux = df_ozone_rf.loc['10H2']/df_h2_flux.loc['deltaH2']\n",
    "df_ozone_rf_per_h2_flux.name= 'ozone_rf_per_h2_flux'"
   ]
  },
  {
   "cell_type": "code",
   "execution_count": 40,
   "metadata": {},
   "outputs": [],
   "source": [
    "#Ozone RF per methane flux (move to the methane part?)\n",
    "df_ozone_rf_per_ch4_flux = df_ozone_rf.loc['10CH4']/df_ch4_flux.loc['deltaCH4']\n",
    "df_ozone_rf_per_ch4_flux.name = 'ozone_rf_per_ch4_flux'\n"
   ]
  },
  {
   "cell_type": "markdown",
   "metadata": {},
   "source": [
    "### Add Ozone GWP"
   ]
  },
  {
   "cell_type": "code",
   "execution_count": 41,
   "metadata": {},
   "outputs": [],
   "source": [
    "df_h2_gwp.loc['O3'] = df_h2_agwp_o3/agwp100_CO2\n"
   ]
  },
  {
   "cell_type": "markdown",
   "metadata": {},
   "source": [
    "### For the per flux table"
   ]
  },
  {
   "cell_type": "code",
   "execution_count": 42,
   "metadata": {},
   "outputs": [],
   "source": [
    "df_trop_du_ozone_per_ch4_flux = df_ozone_du_trop.loc['10CH4']/df_ch4_flux.loc['deltaCH4']\n",
    "df_trop_du_ozone_per_ch4_flux.name = 'trop_du_ozone_per_ch4_flux'\n",
    "\n",
    "df_strat_du_ozone_per_ch4_flux = df_ozone_du_strat.loc['10CH4']/df_ch4_flux.loc['deltaCH4']\n",
    "df_strat_du_ozone_per_ch4_flux.name = 'strat_du_ozone_per_ch4_flux'\n",
    "\n",
    "df_trop_du_ozone_per_h2_flux = df_ozone_du_trop.loc['10H2']/df_h2_flux.loc['deltaH2']\n",
    "df_trop_du_ozone_per_h2_flux.name = 'trop_du_ozone_per_h2_flux'\n",
    "\n",
    "df_strat_du_ozone_per_h2_flux = df_ozone_du_strat.loc['10H2']/df_h2_flux.loc['deltaH2']\n",
    "df_strat_du_ozone_per_h2_flux.name = 'strat_du_ozone_per_h2_flux'\n"
   ]
  },
  {
   "cell_type": "markdown",
   "metadata": {},
   "source": [
    "## Methane induced GWP:"
   ]
  },
  {
   "cell_type": "markdown",
   "metadata": {},
   "source": [
    "### HYDROGEN AGWP100 methane induced O3 [mW m-2 yr Tg-1]"
   ]
  },
  {
   "cell_type": "markdown",
   "metadata": {},
   "source": [
    "It does not matter here if we use surface concentration, burden, tropospheric concentration?"
   ]
  },
  {
   "cell_type": "code",
   "execution_count": 43,
   "metadata": {},
   "outputs": [],
   "source": [
    "#Wm-2/ppbCH4*ppbCH4/TgH2yr-1 -> Wm-2/TgH2yr-1\n",
    "df_h2_agwp_ch4ind_o3 = df_ozone_rf.loc['10CH4']/df_ch4_surfconc.loc['deltaCH4']*df_surf_ch4_per_h2_flux\n",
    "df_h2_agwp_ch4ind_o3.name = 'h2_agwp_ch4ind_o3'"
   ]
  },
  {
   "cell_type": "markdown",
   "metadata": {},
   "source": [
    "### Add methane induced O3 GWP"
   ]
  },
  {
   "cell_type": "code",
   "execution_count": 44,
   "metadata": {},
   "outputs": [],
   "source": [
    "df_h2_gwp.loc['O3 CH4ind'] = df_h2_agwp_ch4ind_o3/agwp100_CO2"
   ]
  },
  {
   "cell_type": "markdown",
   "metadata": {},
   "source": [
    "### HYDROGEN AGWP100 methane induced strat H2O [mW m-2 yr Tg-1]"
   ]
  },
  {
   "cell_type": "code",
   "execution_count": 45,
   "metadata": {},
   "outputs": [],
   "source": [
    "df_h2_agwp_ch4ind_h2o = df_h2o_rf.loc['10CH4']/df_ch4_surfconc.loc['deltaCH4']*df_surf_ch4_per_h2_flux\n",
    "df_h2_agwp_ch4ind_h2o.name = 'h2_agwp_ch4ind_h2o'\n",
    "\n",
    "\n"
   ]
  },
  {
   "cell_type": "markdown",
   "metadata": {},
   "source": [
    "### Add methane induced strat H2O GWP"
   ]
  },
  {
   "cell_type": "code",
   "execution_count": 46,
   "metadata": {},
   "outputs": [],
   "source": [
    "df_h2_gwp.loc['strat H2O CH4ind'] = df_h2_agwp_ch4ind_h2o/agwp100_CO2\n"
   ]
  },
  {
   "cell_type": "markdown",
   "metadata": {},
   "source": [
    "# Methane GWP"
   ]
  },
  {
   "cell_type": "markdown",
   "metadata": {},
   "source": [
    "Initialize CH4 GWP"
   ]
  },
  {
   "cell_type": "code",
   "execution_count": 47,
   "metadata": {},
   "outputs": [
    {
     "data": {
      "text/html": [
       "<div>\n",
       "<style scoped>\n",
       "    .dataframe tbody tr th:only-of-type {\n",
       "        vertical-align: middle;\n",
       "    }\n",
       "\n",
       "    .dataframe tbody tr th {\n",
       "        vertical-align: top;\n",
       "    }\n",
       "\n",
       "    .dataframe thead th {\n",
       "        text-align: right;\n",
       "    }\n",
       "</style>\n",
       "<table border=\"1\" class=\"dataframe\">\n",
       "  <thead>\n",
       "    <tr style=\"text-align: right;\">\n",
       "      <th></th>\n",
       "      <th>OSLOCTM3</th>\n",
       "      <th>WACCM6-2deg</th>\n",
       "      <th>INCA</th>\n",
       "      <th>GFDL-emi</th>\n",
       "    </tr>\n",
       "  </thead>\n",
       "  <tbody>\n",
       "    <tr>\n",
       "      <th>O3</th>\n",
       "      <td>NaN</td>\n",
       "      <td>NaN</td>\n",
       "      <td>NaN</td>\n",
       "      <td>NaN</td>\n",
       "    </tr>\n",
       "    <tr>\n",
       "      <th>CH4</th>\n",
       "      <td>NaN</td>\n",
       "      <td>NaN</td>\n",
       "      <td>NaN</td>\n",
       "      <td>NaN</td>\n",
       "    </tr>\n",
       "    <tr>\n",
       "      <th>strat H2O</th>\n",
       "      <td>NaN</td>\n",
       "      <td>NaN</td>\n",
       "      <td>NaN</td>\n",
       "      <td>NaN</td>\n",
       "    </tr>\n",
       "    <tr>\n",
       "      <th>H2</th>\n",
       "      <td>NaN</td>\n",
       "      <td>NaN</td>\n",
       "      <td>NaN</td>\n",
       "      <td>NaN</td>\n",
       "    </tr>\n",
       "  </tbody>\n",
       "</table>\n",
       "</div>"
      ],
      "text/plain": [
       "           OSLOCTM3  WACCM6-2deg  INCA  GFDL-emi\n",
       "O3              NaN          NaN   NaN       NaN\n",
       "CH4             NaN          NaN   NaN       NaN\n",
       "strat H2O       NaN          NaN   NaN       NaN\n",
       "H2              NaN          NaN   NaN       NaN"
      ]
     },
     "execution_count": 47,
     "metadata": {},
     "output_type": "execute_result"
    }
   ],
   "source": [
    "antmod = len(df_h2_agwp_ch4.index)\n",
    "df_ch4_gwp = pd.DataFrame(np.empty([4,antmod])*np.nan,columns=df_h2_agwp_ch4.index,\n",
    "                         index=['O3','CH4','strat H2O','H2'])\n",
    "df_ch4_gwp"
   ]
  },
  {
   "cell_type": "markdown",
   "metadata": {},
   "source": [
    "### Methane AGWP100 O3 [mW m-2 yr Tg-1]"
   ]
  },
  {
   "cell_type": "markdown",
   "metadata": {},
   "source": [
    "Integrated O3 from CH4 RF [W m-2 yr Tg-1]"
   ]
  },
  {
   "cell_type": "code",
   "execution_count": 48,
   "metadata": {},
   "outputs": [],
   "source": [
    "df_ch4_agwp_o3 = df_ozone_rf.loc['10CH4']/df_ch4_surfconc.loc['deltaCH4']*df_surf_ch4_per_ch4_flux\n",
    "df_ch4_agwp_o3.name = 'ch4_agwp_o3'"
   ]
  },
  {
   "cell_type": "markdown",
   "metadata": {},
   "source": [
    "### Add ozone GWP"
   ]
  },
  {
   "cell_type": "code",
   "execution_count": 49,
   "metadata": {},
   "outputs": [],
   "source": [
    "df_ch4_gwp.loc['O3'] =df_ch4_agwp_o3/agwp100_CO2 \n",
    "#df_ch4_gwp"
   ]
  },
  {
   "cell_type": "markdown",
   "metadata": {},
   "source": [
    "### Methane AGWP100 Methane [mW m-2 yr Tg-1]"
   ]
  },
  {
   "cell_type": "code",
   "execution_count": 50,
   "metadata": {
    "scrolled": true
   },
   "outputs": [],
   "source": [
    "df_ch4_agwp =df_surf_ch4_per_ch4_flux*spec_rf_ch4\n",
    "df_ch4_agwp.name = 'ch4_agwp'"
   ]
  },
  {
   "cell_type": "markdown",
   "metadata": {},
   "source": [
    "### Add methane GWP"
   ]
  },
  {
   "cell_type": "code",
   "execution_count": 51,
   "metadata": {},
   "outputs": [],
   "source": [
    "#Add Methane GWP:\n",
    "df_ch4_gwp.loc['CH4'] =df_ch4_agwp/agwp100_CO2 \n",
    "#df_ch4_gwp"
   ]
  },
  {
   "cell_type": "markdown",
   "metadata": {},
   "source": [
    "### Methane AGWP100 strat H2O [mW m-2 yr Tg-1]"
   ]
  },
  {
   "cell_type": "code",
   "execution_count": 52,
   "metadata": {},
   "outputs": [
    {
     "name": "stdout",
     "output_type": "stream",
     "text": [
      "OSLOCTM3       9.180\n",
      "WACCM6-2deg    2.805\n",
      "INCA           3.400\n",
      "Name: 10CH4, dtype: float64\n"
     ]
    }
   ],
   "source": [
    "print(df_h2o_rf.loc['10CH4'])\n",
    "df_ch4_agwp_h2o = df_h2o_rf.loc['10CH4']/df_ch4_surfconc.loc['deltaCH4']*df_surf_ch4_per_ch4_flux\n",
    "df_ch4_agwp_h2o.name = 'ch4_agwp_h2o'\n",
    "\n"
   ]
  },
  {
   "cell_type": "markdown",
   "metadata": {},
   "source": [
    "### Add Strat H2O GWP:"
   ]
  },
  {
   "cell_type": "code",
   "execution_count": 53,
   "metadata": {},
   "outputs": [],
   "source": [
    "df_ch4_gwp.loc['strat H2O'] = df_ch4_agwp_h2o/agwp100_CO2\n",
    "#df_ch4_gwp"
   ]
  },
  {
   "cell_type": "markdown",
   "metadata": {},
   "source": [
    "### Add GWP via H2"
   ]
  },
  {
   "cell_type": "code",
   "execution_count": 54,
   "metadata": {
    "scrolled": true
   },
   "outputs": [],
   "source": [
    "df_ch4_gwp.loc['H2'] = df_h2_flux_per_ch4_flux*df_h2_gwp.sum()"
   ]
  },
  {
   "cell_type": "markdown",
   "metadata": {},
   "source": [
    "# Main results and tabels"
   ]
  },
  {
   "cell_type": "markdown",
   "metadata": {},
   "source": [
    "## H2 GWP 100"
   ]
  },
  {
   "cell_type": "code",
   "execution_count": 55,
   "metadata": {},
   "outputs": [
    {
     "data": {
      "text/html": [
       "<div>\n",
       "<style scoped>\n",
       "    .dataframe tbody tr th:only-of-type {\n",
       "        vertical-align: middle;\n",
       "    }\n",
       "\n",
       "    .dataframe tbody tr th {\n",
       "        vertical-align: top;\n",
       "    }\n",
       "\n",
       "    .dataframe thead th {\n",
       "        text-align: right;\n",
       "    }\n",
       "</style>\n",
       "<table border=\"1\" class=\"dataframe\">\n",
       "  <thead>\n",
       "    <tr style=\"text-align: right;\">\n",
       "      <th></th>\n",
       "      <th>OSLOCTM3</th>\n",
       "      <th>WACCM6-2deg</th>\n",
       "      <th>INCA</th>\n",
       "      <th>GFDL-emi</th>\n",
       "    </tr>\n",
       "  </thead>\n",
       "  <tbody>\n",
       "    <tr>\n",
       "      <th>O3</th>\n",
       "      <td>1.927469</td>\n",
       "      <td>1.442658</td>\n",
       "      <td>1.221540</td>\n",
       "      <td>2.942007</td>\n",
       "    </tr>\n",
       "    <tr>\n",
       "      <th>CH4</th>\n",
       "      <td>4.227707</td>\n",
       "      <td>5.211056</td>\n",
       "      <td>4.078800</td>\n",
       "      <td>3.586155</td>\n",
       "    </tr>\n",
       "    <tr>\n",
       "      <th>strat H2O</th>\n",
       "      <td>1.392514</td>\n",
       "      <td>0.529721</td>\n",
       "      <td>0.437007</td>\n",
       "      <td>2.183022</td>\n",
       "    </tr>\n",
       "    <tr>\n",
       "      <th>O3 CH4ind</th>\n",
       "      <td>2.156641</td>\n",
       "      <td>2.712545</td>\n",
       "      <td>1.146535</td>\n",
       "      <td>NaN</td>\n",
       "    </tr>\n",
       "    <tr>\n",
       "      <th>strat H2O CH4ind</th>\n",
       "      <td>0.483221</td>\n",
       "      <td>0.182463</td>\n",
       "      <td>0.172667</td>\n",
       "      <td>NaN</td>\n",
       "    </tr>\n",
       "    <tr>\n",
       "      <th>total</th>\n",
       "      <td>10.187552</td>\n",
       "      <td>10.078442</td>\n",
       "      <td>7.056549</td>\n",
       "      <td>8.711184</td>\n",
       "    </tr>\n",
       "  </tbody>\n",
       "</table>\n",
       "</div>"
      ],
      "text/plain": [
       "                   OSLOCTM3  WACCM6-2deg      INCA  GFDL-emi\n",
       "O3                 1.927469     1.442658  1.221540  2.942007\n",
       "CH4                4.227707     5.211056  4.078800  3.586155\n",
       "strat H2O          1.392514     0.529721  0.437007  2.183022\n",
       "O3 CH4ind          2.156641     2.712545  1.146535       NaN\n",
       "strat H2O CH4ind   0.483221     0.182463  0.172667       NaN\n",
       "total             10.187552    10.078442  7.056549  8.711184"
      ]
     },
     "execution_count": 55,
     "metadata": {},
     "output_type": "execute_result"
    }
   ],
   "source": [
    "#Save to file:\n",
    "#print(outputpath + 'table_h2_gwp.csv')\n",
    "df_h2_gwp.to_csv(outputpath + 'table_h2_gwp.csv')\n",
    "df_h2_gwp.loc['total']=df_h2_gwp.sum()\n",
    "df_h2_gwp"
   ]
  },
  {
   "cell_type": "markdown",
   "metadata": {},
   "source": [
    "## CH4 GWP 100"
   ]
  },
  {
   "cell_type": "code",
   "execution_count": 56,
   "metadata": {},
   "outputs": [
    {
     "data": {
      "text/html": [
       "<div>\n",
       "<style scoped>\n",
       "    .dataframe tbody tr th:only-of-type {\n",
       "        vertical-align: middle;\n",
       "    }\n",
       "\n",
       "    .dataframe tbody tr th {\n",
       "        vertical-align: top;\n",
       "    }\n",
       "\n",
       "    .dataframe thead th {\n",
       "        text-align: right;\n",
       "    }\n",
       "</style>\n",
       "<table border=\"1\" class=\"dataframe\">\n",
       "  <thead>\n",
       "    <tr style=\"text-align: right;\">\n",
       "      <th></th>\n",
       "      <th>OSLOCTM3</th>\n",
       "      <th>WACCM6-2deg</th>\n",
       "      <th>INCA</th>\n",
       "      <th>GFDL-emi</th>\n",
       "    </tr>\n",
       "  </thead>\n",
       "  <tbody>\n",
       "    <tr>\n",
       "      <th>O3</th>\n",
       "      <td>8.544669</td>\n",
       "      <td>8.572558</td>\n",
       "      <td>5.431119</td>\n",
       "      <td>NaN</td>\n",
       "    </tr>\n",
       "    <tr>\n",
       "      <th>CH4</th>\n",
       "      <td>16.750290</td>\n",
       "      <td>16.468696</td>\n",
       "      <td>19.321207</td>\n",
       "      <td>NaN</td>\n",
       "    </tr>\n",
       "    <tr>\n",
       "      <th>strat H2O</th>\n",
       "      <td>1.914536</td>\n",
       "      <td>0.576645</td>\n",
       "      <td>0.817922</td>\n",
       "      <td>NaN</td>\n",
       "    </tr>\n",
       "    <tr>\n",
       "      <th>H2</th>\n",
       "      <td>0.146901</td>\n",
       "      <td>0.170379</td>\n",
       "      <td>0.075519</td>\n",
       "      <td>NaN</td>\n",
       "    </tr>\n",
       "    <tr>\n",
       "      <th>total</th>\n",
       "      <td>27.356395</td>\n",
       "      <td>25.788277</td>\n",
       "      <td>25.645767</td>\n",
       "      <td>0.0</td>\n",
       "    </tr>\n",
       "  </tbody>\n",
       "</table>\n",
       "</div>"
      ],
      "text/plain": [
       "            OSLOCTM3  WACCM6-2deg       INCA  GFDL-emi\n",
       "O3          8.544669     8.572558   5.431119       NaN\n",
       "CH4        16.750290    16.468696  19.321207       NaN\n",
       "strat H2O   1.914536     0.576645   0.817922       NaN\n",
       "H2          0.146901     0.170379   0.075519       NaN\n",
       "total      27.356395    25.788277  25.645767       0.0"
      ]
     },
     "execution_count": 56,
     "metadata": {},
     "output_type": "execute_result"
    }
   ],
   "source": [
    "df_ch4_gwp.to_csv(outputpath + 'table_ch4_gwp.csv')\n",
    "df_ch4_gwp.loc['total']=df_ch4_gwp.sum()\n",
    "df_ch4_gwp\n"
   ]
  },
  {
   "cell_type": "markdown",
   "metadata": {},
   "source": [
    "## Table per flux H2"
   ]
  },
  {
   "cell_type": "code",
   "execution_count": 57,
   "metadata": {},
   "outputs": [
    {
     "name": "stderr",
     "output_type": "stream",
     "text": [
      "/home/ragnhibs/anaconda3/lib/python3.7/site-packages/ipykernel_launcher.py:4: FutureWarning: Sorting because non-concatenation axis is not aligned. A future version\n",
      "of pandas will change to not sort by default.\n",
      "\n",
      "To accept the future behavior, pass 'sort=False'.\n",
      "\n",
      "To retain the current behavior and silence the warning, pass 'sort=True'.\n",
      "\n",
      "  after removing the cwd from sys.path.\n"
     ]
    },
    {
     "data": {
      "text/html": [
       "<div>\n",
       "<style scoped>\n",
       "    .dataframe tbody tr th:only-of-type {\n",
       "        vertical-align: middle;\n",
       "    }\n",
       "\n",
       "    .dataframe tbody tr th {\n",
       "        vertical-align: top;\n",
       "    }\n",
       "\n",
       "    .dataframe thead th {\n",
       "        text-align: right;\n",
       "    }\n",
       "</style>\n",
       "<table border=\"1\" class=\"dataframe\">\n",
       "  <thead>\n",
       "    <tr style=\"text-align: right;\">\n",
       "      <th></th>\n",
       "      <th>Flux H2 [Tg/yr]</th>\n",
       "      <th>Surf. conc. H2 per flux [ppb yr/Tg]</th>\n",
       "      <th>Surf. conc. CH4 per flux [ppb yr/Tg]</th>\n",
       "      <th>Flux CH4/Flux H2 [Tg CH4/Tg H2]</th>\n",
       "      <th>CH4 RF per flux [mW m-2 yr/ Tg]</th>\n",
       "      <th>Trop. ozone per flux [DU yr/Tg]</th>\n",
       "      <th>Strat. ozone per flux [DU yr/Tg]</th>\n",
       "      <th>ozone RF per flux [mW m-2 yr/ Tg]</th>\n",
       "      <th>Strat. H2O RF per flux [mW m-2 yr/ Tg]</th>\n",
       "    </tr>\n",
       "  </thead>\n",
       "  <tbody>\n",
       "    <tr>\n",
       "      <th>GFDL-emi</th>\n",
       "      <td>265.382039</td>\n",
       "      <td>5.073817</td>\n",
       "      <td>0.742326</td>\n",
       "      <td>0.170236</td>\n",
       "      <td>0.328850</td>\n",
       "      <td>0.002748</td>\n",
       "      <td>-0.000853</td>\n",
       "      <td>0.128150</td>\n",
       "      <td>0.106497</td>\n",
       "    </tr>\n",
       "    <tr>\n",
       "      <th>INCA</th>\n",
       "      <td>9.969179</td>\n",
       "      <td>5.336447</td>\n",
       "      <td>0.844302</td>\n",
       "      <td>0.211105</td>\n",
       "      <td>0.374026</td>\n",
       "      <td>0.002938</td>\n",
       "      <td>-0.002751</td>\n",
       "      <td>0.112015</td>\n",
       "      <td>0.040074</td>\n",
       "    </tr>\n",
       "    <tr>\n",
       "      <th>OSLOCTM3</th>\n",
       "      <td>10.583938</td>\n",
       "      <td>5.026484</td>\n",
       "      <td>0.875126</td>\n",
       "      <td>0.252396</td>\n",
       "      <td>0.387681</td>\n",
       "      <td>0.003634</td>\n",
       "      <td>0.000932</td>\n",
       "      <td>0.176749</td>\n",
       "      <td>0.127693</td>\n",
       "    </tr>\n",
       "    <tr>\n",
       "      <th>WACCM6-2deg</th>\n",
       "      <td>10.674133</td>\n",
       "      <td>4.981857</td>\n",
       "      <td>1.078677</td>\n",
       "      <td>0.316422</td>\n",
       "      <td>0.477854</td>\n",
       "      <td>0.002584</td>\n",
       "      <td>-0.001194</td>\n",
       "      <td>0.132292</td>\n",
       "      <td>0.048575</td>\n",
       "    </tr>\n",
       "  </tbody>\n",
       "</table>\n",
       "</div>"
      ],
      "text/plain": [
       "             Flux H2 [Tg/yr]  Surf. conc. H2 per flux [ppb yr/Tg]  \\\n",
       "GFDL-emi          265.382039                             5.073817   \n",
       "INCA                9.969179                             5.336447   \n",
       "OSLOCTM3           10.583938                             5.026484   \n",
       "WACCM6-2deg        10.674133                             4.981857   \n",
       "\n",
       "             Surf. conc. CH4 per flux [ppb yr/Tg]  \\\n",
       "GFDL-emi                                 0.742326   \n",
       "INCA                                     0.844302   \n",
       "OSLOCTM3                                 0.875126   \n",
       "WACCM6-2deg                              1.078677   \n",
       "\n",
       "             Flux CH4/Flux H2 [Tg CH4/Tg H2]  CH4 RF per flux [mW m-2 yr/ Tg]  \\\n",
       "GFDL-emi                            0.170236                         0.328850   \n",
       "INCA                                0.211105                         0.374026   \n",
       "OSLOCTM3                            0.252396                         0.387681   \n",
       "WACCM6-2deg                         0.316422                         0.477854   \n",
       "\n",
       "             Trop. ozone per flux [DU yr/Tg]  \\\n",
       "GFDL-emi                            0.002748   \n",
       "INCA                                0.002938   \n",
       "OSLOCTM3                            0.003634   \n",
       "WACCM6-2deg                         0.002584   \n",
       "\n",
       "             Strat. ozone per flux [DU yr/Tg]  \\\n",
       "GFDL-emi                            -0.000853   \n",
       "INCA                                -0.002751   \n",
       "OSLOCTM3                             0.000932   \n",
       "WACCM6-2deg                         -0.001194   \n",
       "\n",
       "             ozone RF per flux [mW m-2 yr/ Tg]  \\\n",
       "GFDL-emi                              0.128150   \n",
       "INCA                                  0.112015   \n",
       "OSLOCTM3                              0.176749   \n",
       "WACCM6-2deg                           0.132292   \n",
       "\n",
       "             Strat. H2O RF per flux [mW m-2 yr/ Tg]  \n",
       "GFDL-emi                                   0.106497  \n",
       "INCA                                       0.040074  \n",
       "OSLOCTM3                                   0.127693  \n",
       "WACCM6-2deg                                0.048575  "
      ]
     },
     "execution_count": 57,
     "metadata": {},
     "output_type": "execute_result"
    }
   ],
   "source": [
    "df_per_flux_h2 = pd.concat([df_h2_flux.loc['deltaH2'],df_surf_h2_per_h2_flux,\n",
    "                            df_surf_ch4_per_h2_flux,df_ch4_flux_per_h2_flux,df_ch4_rf_per_h2_flux,\n",
    "                            df_trop_du_ozone_per_h2_flux,df_strat_du_ozone_per_h2_flux,\n",
    "                            df_ozone_rf_per_h2_flux,df_h2o_rf_per_h2_flux],axis=1)\n",
    "\n",
    "#Save to file:\n",
    "df_per_flux_h2.to_csv(outputpath + 'table_per_flux_h2.csv')\n",
    "\n",
    "#Rename the columns:\n",
    "columns_names={'deltaH2':'Flux H2 [Tg/yr]',\n",
    "               'surf_h2_per_h2_flux': 'Surf. conc. H2 per flux [ppb yr/Tg]',\n",
    "               'surf_ch4_per_h2_flux':'Surf. conc. CH4 per flux [ppb yr/Tg]',\n",
    "               'ch4_flux_per_h2_flux':'Flux CH4/Flux H2 [Tg CH4/Tg H2]',\n",
    "               'ch4_rf_per_h2_flux':'CH4 RF per flux [mW m-2 yr/ Tg]',\n",
    "               'trop_du_ozone_per_h2_flux':'Trop. ozone per flux [DU yr/Tg]',\n",
    "               'strat_du_ozone_per_h2_flux':'Strat. ozone per flux [DU yr/Tg]',\n",
    "               'ozone_rf_per_h2_flux':'ozone RF per flux [mW m-2 yr/ Tg]',\n",
    "               'h2o_rf_per_h2_flux':'Strat. H2O RF per flux [mW m-2 yr/ Tg]'}\n",
    "#Possibility to rename column names:\n",
    "df_per_flux_h2.rename(columns=dict(columns_names),inplace=True) #[df_per_flux_h2.columns])\n",
    "df_per_flux_h2"
   ]
  },
  {
   "cell_type": "markdown",
   "metadata": {},
   "source": [
    "## Table per flux CH4"
   ]
  },
  {
   "cell_type": "markdown",
   "metadata": {},
   "source": [
    "To do: fix the table headings in the table (as for H2 above)"
   ]
  },
  {
   "cell_type": "code",
   "execution_count": 58,
   "metadata": {
    "scrolled": true
   },
   "outputs": [
    {
     "name": "stderr",
     "output_type": "stream",
     "text": [
      "/home/ragnhibs/anaconda3/lib/python3.7/site-packages/ipykernel_launcher.py:3: FutureWarning: Sorting because non-concatenation axis is not aligned. A future version\n",
      "of pandas will change to not sort by default.\n",
      "\n",
      "To accept the future behavior, pass 'sort=False'.\n",
      "\n",
      "To retain the current behavior and silence the warning, pass 'sort=True'.\n",
      "\n",
      "  This is separate from the ipykernel package so we can avoid doing imports until\n"
     ]
    },
    {
     "data": {
      "text/html": [
       "<div>\n",
       "<style scoped>\n",
       "    .dataframe tbody tr th:only-of-type {\n",
       "        vertical-align: middle;\n",
       "    }\n",
       "\n",
       "    .dataframe tbody tr th {\n",
       "        vertical-align: top;\n",
       "    }\n",
       "\n",
       "    .dataframe thead th {\n",
       "        text-align: right;\n",
       "    }\n",
       "</style>\n",
       "<table border=\"1\" class=\"dataframe\">\n",
       "  <thead>\n",
       "    <tr style=\"text-align: right;\">\n",
       "      <th></th>\n",
       "      <th>deltaCH4</th>\n",
       "      <th>surf_ch4_per_ch4_flux</th>\n",
       "      <th>h2_flux_per_ch4_flux</th>\n",
       "      <th>trop_du_ozone_per_ch4_flux</th>\n",
       "      <th>strat_du_ozone_per_ch4_flux</th>\n",
       "      <th>ozone_rf_per_ch4_flux</th>\n",
       "      <th>h2o_rf_per_ch4_flux</th>\n",
       "    </tr>\n",
       "  </thead>\n",
       "  <tbody>\n",
       "    <tr>\n",
       "      <th>GFDL-emi</th>\n",
       "      <td>NaN</td>\n",
       "      <td>NaN</td>\n",
       "      <td>NaN</td>\n",
       "      <td>NaN</td>\n",
       "      <td>NaN</td>\n",
       "      <td>NaN</td>\n",
       "      <td>NaN</td>\n",
       "    </tr>\n",
       "    <tr>\n",
       "      <th>INCA</th>\n",
       "      <td>45.331275</td>\n",
       "      <td>3.999446</td>\n",
       "      <td>0.010702</td>\n",
       "      <td>0.011900</td>\n",
       "      <td>0.007774</td>\n",
       "      <td>0.498034</td>\n",
       "      <td>0.075003</td>\n",
       "    </tr>\n",
       "    <tr>\n",
       "      <th>OSLOCTM3</th>\n",
       "      <td>52.288944</td>\n",
       "      <td>3.467272</td>\n",
       "      <td>0.014420</td>\n",
       "      <td>0.015890</td>\n",
       "      <td>0.015861</td>\n",
       "      <td>0.783546</td>\n",
       "      <td>0.175563</td>\n",
       "    </tr>\n",
       "    <tr>\n",
       "      <th>WACCM6-2deg</th>\n",
       "      <td>53.046321</td>\n",
       "      <td>3.408983</td>\n",
       "      <td>0.016905</td>\n",
       "      <td>0.016205</td>\n",
       "      <td>0.014575</td>\n",
       "      <td>0.786104</td>\n",
       "      <td>0.052878</td>\n",
       "    </tr>\n",
       "  </tbody>\n",
       "</table>\n",
       "</div>"
      ],
      "text/plain": [
       "              deltaCH4  surf_ch4_per_ch4_flux  h2_flux_per_ch4_flux  \\\n",
       "GFDL-emi           NaN                    NaN                   NaN   \n",
       "INCA         45.331275               3.999446              0.010702   \n",
       "OSLOCTM3     52.288944               3.467272              0.014420   \n",
       "WACCM6-2deg  53.046321               3.408983              0.016905   \n",
       "\n",
       "             trop_du_ozone_per_ch4_flux  strat_du_ozone_per_ch4_flux  \\\n",
       "GFDL-emi                            NaN                          NaN   \n",
       "INCA                           0.011900                     0.007774   \n",
       "OSLOCTM3                       0.015890                     0.015861   \n",
       "WACCM6-2deg                    0.016205                     0.014575   \n",
       "\n",
       "             ozone_rf_per_ch4_flux  h2o_rf_per_ch4_flux  \n",
       "GFDL-emi                       NaN                  NaN  \n",
       "INCA                      0.498034             0.075003  \n",
       "OSLOCTM3                  0.783546             0.175563  \n",
       "WACCM6-2deg               0.786104             0.052878  "
      ]
     },
     "execution_count": 58,
     "metadata": {},
     "output_type": "execute_result"
    }
   ],
   "source": [
    "df_per_flux_ch4 = pd.concat([df_ch4_flux.loc['deltaCH4'],df_surf_ch4_per_ch4_flux,\n",
    "                             df_h2_flux_per_ch4_flux,df_trop_du_ozone_per_ch4_flux,df_strat_du_ozone_per_ch4_flux,\n",
    "                             df_ozone_rf_per_ch4_flux,df_h2o_rf_per_ch4_flux],axis=1)\n",
    "\n",
    "#Save to file:\n",
    "df_per_flux_ch4.to_csv(outputpath + 'table_per_flux_ch4.csv')\n",
    "df_per_flux_ch4"
   ]
  },
  {
   "cell_type": "markdown",
   "metadata": {},
   "source": [
    "## H2 budget tabel"
   ]
  },
  {
   "cell_type": "code",
   "execution_count": 59,
   "metadata": {},
   "outputs": [
    {
     "data": {
      "text/html": [
       "<div>\n",
       "<style scoped>\n",
       "    .dataframe tbody tr th:only-of-type {\n",
       "        vertical-align: middle;\n",
       "    }\n",
       "\n",
       "    .dataframe tbody tr th {\n",
       "        vertical-align: top;\n",
       "    }\n",
       "\n",
       "    .dataframe thead th {\n",
       "        text-align: right;\n",
       "    }\n",
       "</style>\n",
       "<table border=\"1\" class=\"dataframe\">\n",
       "  <thead>\n",
       "    <tr style=\"text-align: right;\">\n",
       "      <th></th>\n",
       "      <th>H2 burden [Tg]</th>\n",
       "      <th>H2 lifetime [yrs]</th>\n",
       "      <th>H2 atm.loss[Tg/yr]</th>\n",
       "      <th>H2 drydep [Tg/yr]</th>\n",
       "      <th>H2 atm. prod [Tg/yr]</th>\n",
       "      <th>H2 atmospheric lifetime [yrs]</th>\n",
       "      <th>H2 estimated emissions [Tg/yr]</th>\n",
       "    </tr>\n",
       "  </thead>\n",
       "  <tbody>\n",
       "    <tr>\n",
       "      <th>OSLOCTM3</th>\n",
       "      <td>196.210864</td>\n",
       "      <td>1.810236</td>\n",
       "      <td>28.38965</td>\n",
       "      <td>80.0</td>\n",
       "      <td>56.323356</td>\n",
       "      <td>6.911352</td>\n",
       "      <td>52.066294</td>\n",
       "    </tr>\n",
       "    <tr>\n",
       "      <th>WACCM6-2deg</th>\n",
       "      <td>194.398700</td>\n",
       "      <td>1.775135</td>\n",
       "      <td>29.51206</td>\n",
       "      <td>80.0</td>\n",
       "      <td>34.629870</td>\n",
       "      <td>6.587094</td>\n",
       "      <td>74.882190</td>\n",
       "    </tr>\n",
       "    <tr>\n",
       "      <th>INCA</th>\n",
       "      <td>194.400000</td>\n",
       "      <td>1.903538</td>\n",
       "      <td>22.12560</td>\n",
       "      <td>80.0</td>\n",
       "      <td>46.678000</td>\n",
       "      <td>8.786202</td>\n",
       "      <td>55.447600</td>\n",
       "    </tr>\n",
       "    <tr>\n",
       "      <th>GFDL-emi</th>\n",
       "      <td>191.700000</td>\n",
       "      <td>1.877128</td>\n",
       "      <td>22.12410</td>\n",
       "      <td>80.0</td>\n",
       "      <td>44.684000</td>\n",
       "      <td>8.664759</td>\n",
       "      <td>57.440100</td>\n",
       "    </tr>\n",
       "  </tbody>\n",
       "</table>\n",
       "</div>"
      ],
      "text/plain": [
       "             H2 burden [Tg]  H2 lifetime [yrs]  H2 atm.loss[Tg/yr]  \\\n",
       "OSLOCTM3         196.210864           1.810236            28.38965   \n",
       "WACCM6-2deg      194.398700           1.775135            29.51206   \n",
       "INCA             194.400000           1.903538            22.12560   \n",
       "GFDL-emi         191.700000           1.877128            22.12410   \n",
       "\n",
       "             H2 drydep [Tg/yr]  H2 atm. prod [Tg/yr]  \\\n",
       "OSLOCTM3                  80.0             56.323356   \n",
       "WACCM6-2deg               80.0             34.629870   \n",
       "INCA                      80.0             46.678000   \n",
       "GFDL-emi                  80.0             44.684000   \n",
       "\n",
       "             H2 atmospheric lifetime [yrs]  H2 estimated emissions [Tg/yr]  \n",
       "OSLOCTM3                          6.911352                       52.066294  \n",
       "WACCM6-2deg                       6.587094                       74.882190  \n",
       "INCA                              8.786202                       55.447600  \n",
       "GFDL-emi                          8.664759                       57.440100  "
      ]
     },
     "execution_count": 59,
     "metadata": {},
     "output_type": "execute_result"
    }
   ],
   "source": [
    "df_budget_h2 = pd.concat([df_h2_burden.loc['CTRL'],df_h2_lifetime.loc['CTRL'],\n",
    "                          df_h2_atmloss.loc['CTRL'],df_h2_drydep.loc['CTRL'],\n",
    "                          df_h2_atmprod.loc['CTRL'],df_h2_atm_lifetime.loc['CTRL'],\n",
    "                          df_h2_estemis],axis=1)\n",
    "\n",
    "df_budget_h2.columns = ['H2 burden [Tg]',\n",
    "                        'H2 lifetime [yrs]',\n",
    "                        'H2 atm.loss[Tg/yr]',\n",
    "                        'H2 drydep [Tg/yr]',\n",
    "                        'H2 atm. prod [Tg/yr]',\n",
    "                        'H2 atmospheric lifetime [yrs]',\n",
    "                        'H2 estimated emissions [Tg/yr]']\n",
    "\n",
    "df_budget_h2.to_csv(outputpath + 'table_budget_h2.csv')\n",
    "df_budget_h2"
   ]
  },
  {
   "cell_type": "markdown",
   "metadata": {},
   "source": [
    "## CH4 budget tabel"
   ]
  },
  {
   "cell_type": "code",
   "execution_count": 60,
   "metadata": {},
   "outputs": [
    {
     "data": {
      "text/html": [
       "<div>\n",
       "<style scoped>\n",
       "    .dataframe tbody tr th:only-of-type {\n",
       "        vertical-align: middle;\n",
       "    }\n",
       "\n",
       "    .dataframe tbody tr th {\n",
       "        vertical-align: top;\n",
       "    }\n",
       "\n",
       "    .dataframe thead th {\n",
       "        text-align: right;\n",
       "    }\n",
       "</style>\n",
       "<table border=\"1\" class=\"dataframe\">\n",
       "  <thead>\n",
       "    <tr style=\"text-align: right;\">\n",
       "      <th></th>\n",
       "      <th>CH4 burden [Tg]</th>\n",
       "      <th>CH4 lifetime [yrs]</th>\n",
       "      <th>CH4 atm.loss[Tg/yr]</th>\n",
       "    </tr>\n",
       "  </thead>\n",
       "  <tbody>\n",
       "    <tr>\n",
       "      <th>OSLOCTM3</th>\n",
       "      <td>4994.964696</td>\n",
       "      <td>7.313568</td>\n",
       "      <td>682.972311</td>\n",
       "    </tr>\n",
       "    <tr>\n",
       "      <th>WACCM6-2deg</th>\n",
       "      <td>5006.379000</td>\n",
       "      <td>6.744120</td>\n",
       "      <td>742.332400</td>\n",
       "    </tr>\n",
       "    <tr>\n",
       "      <th>INCA</th>\n",
       "      <td>4994.500000</td>\n",
       "      <td>9.087993</td>\n",
       "      <td>549.571300</td>\n",
       "    </tr>\n",
       "    <tr>\n",
       "      <th>GFDL-emi</th>\n",
       "      <td>4935.000000</td>\n",
       "      <td>8.475615</td>\n",
       "      <td>582.258600</td>\n",
       "    </tr>\n",
       "  </tbody>\n",
       "</table>\n",
       "</div>"
      ],
      "text/plain": [
       "             CH4 burden [Tg]  CH4 lifetime [yrs]  CH4 atm.loss[Tg/yr]\n",
       "OSLOCTM3         4994.964696            7.313568           682.972311\n",
       "WACCM6-2deg      5006.379000            6.744120           742.332400\n",
       "INCA             4994.500000            9.087993           549.571300\n",
       "GFDL-emi         4935.000000            8.475615           582.258600"
      ]
     },
     "execution_count": 60,
     "metadata": {},
     "output_type": "execute_result"
    }
   ],
   "source": [
    "df_budget_ch4 = pd.concat([df_ch4_burden.loc['CTRL'],df_ch4_lifetime.loc['CTRL'],\n",
    "                           df_ch4_loss.loc['CTRL']],axis=1)\n",
    "df_budget_ch4.columns = ['CH4 burden [Tg]','CH4 lifetime [yrs]','CH4 atm.loss[Tg/yr]'] \n",
    "df_budget_ch4"
   ]
  },
  {
   "cell_type": "markdown",
   "metadata": {},
   "source": [
    "# Other results/checks:"
   ]
  },
  {
   "cell_type": "markdown",
   "metadata": {},
   "source": [
    "## Methane feedback factor:"
   ]
  },
  {
   "cell_type": "markdown",
   "metadata": {},
   "source": [
    "### Atmospheric mass conversion CH4  [Tg/ppb] (from perturbations)"
   ]
  },
  {
   "cell_type": "code",
   "execution_count": 61,
   "metadata": {},
   "outputs": [
    {
     "data": {
      "text/plain": [
       "OSLOCTM3       2.758462\n",
       "WACCM6-2deg    2.774998\n",
       "INCA           2.755102\n",
       "GFDL-emi            NaN\n",
       "Name: ch4_burden_per_conc, dtype: float64"
      ]
     },
     "execution_count": 61,
     "metadata": {},
     "output_type": "execute_result"
    }
   ],
   "source": [
    "df_ch4_burden_per_conc  = df_ch4_burden.loc['deltaCH4']/df_ch4_surfconc.loc['deltaCH4']\n",
    "df_ch4_burden_per_conc.name = 'ch4_burden_per_conc'\n",
    "df_ch4_burden_per_conc\n"
   ]
  },
  {
   "cell_type": "markdown",
   "metadata": {},
   "source": [
    "### Increase per unit flux w/o feedback = integrated decay [ppb yr/Tg]"
   ]
  },
  {
   "cell_type": "markdown",
   "metadata": {},
   "source": [
    "Add explanation... "
   ]
  },
  {
   "cell_type": "code",
   "execution_count": 62,
   "metadata": {},
   "outputs": [
    {
     "data": {
      "text/plain": [
       "OSLOCTM3       2.651321\n",
       "WACCM6-2deg    2.430315\n",
       "INCA           3.298605\n",
       "GFDL-emi            NaN\n",
       "dtype: float64"
      ]
     },
     "execution_count": 62,
     "metadata": {},
     "output_type": "execute_result"
    }
   ],
   "source": [
    "df_w_o_feedback =df_ch4_lifetime.loc['CTRL']/df_ch4_burden_per_conc #Lifetime [yr] / [Tg/ppb] \n",
    "df_w_o_feedback\n"
   ]
  },
  {
   "cell_type": "markdown",
   "metadata": {},
   "source": [
    "### Feedback factor: increase CH4 with feedback/ increase CH4 without feedback"
   ]
  },
  {
   "cell_type": "code",
   "execution_count": 63,
   "metadata": {},
   "outputs": [
    {
     "data": {
      "text/plain": [
       "OSLOCTM3       1.307753\n",
       "WACCM6-2deg    1.402692\n",
       "INCA           1.212466\n",
       "GFDL-emi            NaN\n",
       "Name: feedback_factor_ch4, dtype: float64"
      ]
     },
     "execution_count": 63,
     "metadata": {},
     "output_type": "execute_result"
    }
   ],
   "source": [
    "df_feedback_factor_ch4 = df_surf_ch4_per_ch4_flux/df_w_o_feedback\n",
    "df_feedback_factor_ch4.name = 'feedback_factor_ch4'\n",
    "df_feedback_factor_ch4\n"
   ]
  },
  {
   "cell_type": "markdown",
   "metadata": {},
   "source": [
    "## Hydrogen feedback factor:"
   ]
  },
  {
   "cell_type": "markdown",
   "metadata": {},
   "source": [
    "### Atmospheric mass conversion H2  [Tg/ppb] (from perturbations)"
   ]
  },
  {
   "cell_type": "code",
   "execution_count": 64,
   "metadata": {},
   "outputs": [
    {
     "data": {
      "text/plain": [
       "OSLOCTM3       0.350572\n",
       "WACCM6-2deg    0.349781\n",
       "INCA           0.349624\n",
       "GFDL-emi       0.344523\n",
       "Name: h2_burden_per_conc, dtype: float64"
      ]
     },
     "execution_count": 64,
     "metadata": {},
     "output_type": "execute_result"
    }
   ],
   "source": [
    "df_h2_burden_per_conc  = df_h2_burden.loc['deltaH2']/df_h2_surfconc.loc['deltaH2']\n",
    "df_h2_burden_per_conc.name = 'h2_burden_per_conc'\n",
    "df_h2_burden_per_conc"
   ]
  },
  {
   "cell_type": "markdown",
   "metadata": {},
   "source": [
    "### Increase per unit flux w/o feedback = integrated decay [ppb yr/Tg]"
   ]
  },
  {
   "cell_type": "code",
   "execution_count": 65,
   "metadata": {},
   "outputs": [
    {
     "data": {
      "text/plain": [
       "OSLOCTM3       5.163671\n",
       "WACCM6-2deg    5.074991\n",
       "INCA           5.444529\n",
       "GFDL-emi       5.448486\n",
       "dtype: float64"
      ]
     },
     "execution_count": 65,
     "metadata": {},
     "output_type": "execute_result"
    }
   ],
   "source": [
    "df_w_o_feedback_h2 =df_h2_lifetime.loc['CTRL']/df_h2_burden_per_conc #Lifetime [yr] / [Tg/ppb] \n",
    "df_w_o_feedback_h2\n"
   ]
  },
  {
   "cell_type": "markdown",
   "metadata": {},
   "source": [
    "### Feedback factor: increase H2 with feedback/ increase H2 without feedback"
   ]
  },
  {
   "cell_type": "code",
   "execution_count": 66,
   "metadata": {},
   "outputs": [
    {
     "data": {
      "text/plain": [
       "OSLOCTM3       0.973432\n",
       "WACCM6-2deg    0.981648\n",
       "INCA           0.980149\n",
       "GFDL-emi       0.931234\n",
       "Name: feedback_factor_h2, dtype: float64"
      ]
     },
     "execution_count": 66,
     "metadata": {},
     "output_type": "execute_result"
    }
   ],
   "source": [
    "df_feedback_factor_h2 = df_surf_h2_per_h2_flux/df_w_o_feedback_h2\n",
    "df_feedback_factor_h2.name = 'feedback_factor_h2'\n",
    "df_feedback_factor_h2\n",
    "#Fabien wrote in the paper about feedback factor less than 1."
   ]
  },
  {
   "cell_type": "code",
   "execution_count": null,
   "metadata": {},
   "outputs": [],
   "source": []
  }
 ],
 "metadata": {
  "kernelspec": {
   "display_name": "Python 3",
   "language": "python",
   "name": "python3"
  },
  "language_info": {
   "codemirror_mode": {
    "name": "ipython",
    "version": 3
   },
   "file_extension": ".py",
   "mimetype": "text/x-python",
   "name": "python",
   "nbconvert_exporter": "python",
   "pygments_lexer": "ipython3",
   "version": "3.7.0"
  }
 },
 "nbformat": 4,
 "nbformat_minor": 2
}
